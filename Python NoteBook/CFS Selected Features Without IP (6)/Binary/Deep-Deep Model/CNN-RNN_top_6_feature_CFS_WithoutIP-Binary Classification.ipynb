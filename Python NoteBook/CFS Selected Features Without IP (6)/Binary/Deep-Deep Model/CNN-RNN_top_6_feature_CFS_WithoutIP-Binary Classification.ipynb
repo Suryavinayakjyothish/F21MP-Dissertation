{
 "cells": [
  {
   "cell_type": "code",
   "execution_count": 1,
   "metadata": {},
   "outputs": [],
   "source": [
    "import pandas as pd\n",
    "import numpy as np\n",
    "from datetime import datetime\n",
    "import time\n",
    "import matplotlib.pyplot as plt\n",
    "import gc\n",
    "pd.set_option('display.max_columns', None)"
   ]
  },
  {
   "cell_type": "code",
   "execution_count": 2,
   "metadata": {},
   "outputs": [],
   "source": [
    "## for machine learning\n",
    "from sklearn import model_selection, preprocessing, feature_selection, ensemble, linear_model, metrics, decomposition\n",
    "## for plotting\n",
    "import matplotlib.pyplot as plt\n",
    "## for machine learning\n",
    "from sklearn import model_selection, preprocessing, feature_selection, ensemble, linear_model, metrics, decomposition\n",
    "from sklearn.preprocessing import LabelEncoder,Normalizer,StandardScaler, OneHotEncoder, MinMaxScaler\n",
    "from sklearn.feature_selection import mutual_info_classif\n",
    "from sklearn.metrics import confusion_matrix\n",
    "from sklearn.metrics import classification_report\n",
    "## for explainer\n",
    "#from lime import lime_tabular"
   ]
  },
  {
   "cell_type": "code",
   "execution_count": 3,
   "metadata": {},
   "outputs": [],
   "source": [
    "#a = pd.read_csv('drive/My Drive/Colab Notebooks/traffic/OpenStack/CIDDS-001-internal-week1.csv', low_memory=False, encoding='cp1252')\n",
    "#b = pd.read_csv('drive/My Drive/Colab Notebooks/traffic/OpenStack/CIDDS-001-internal-week2.csv', low_memory=False, encoding='cp1252')\n",
    "a = pd.read_csv('./CIDDS-001/traffic/OpenStack/CIDDS-001-internal-week1.csv', low_memory=False, encoding='cp1252')\n",
    "b = pd.read_csv('./CIDDS-001/traffic/OpenStack/CIDDS-001-internal-week2.csv', low_memory=False, encoding='cp1252')\n",
    "c =  pd.read_csv('./CIDDS-001/traffic/ExternalServer/CIDDS-001-external-week2.csv', low_memory=False, encoding='cp1252')\n",
    "d =  pd.read_csv('./CIDDS-001/traffic/ExternalServer/CIDDS-001-external-week3.csv', low_memory=False, encoding='cp1252')\n",
    "e =  pd.read_csv('./CIDDS-001/traffic/ExternalServer/CIDDS-001-external-week4.csv', low_memory=False, encoding='cp1252')\n",
    "#f =  pd.read_csv('./CIDDS-001/traffic/ExternalServer/CIDDS-001-external-week1.csv', low_memory=False, encoding='cp1252')\n",
    "#c = pd.read_csv('drive/My Drive/Colab Notebooks/traffic/OpenStack/CIDDS-001-internal-week3.csv', low_memory=False , encoding='cp1252')\n",
    "#d = pd.read_csv('drive/My Drive/Colab Notebooks/traffic/OpenStack/CIDDS-001-internal-week4.csv', low_memory=False, encoding='cp1252')\n",
    "#e =  pd.read_csv('drive/My Drive/Colab Notebooks/traffic/ExternalServer/CIDDS-001-external-week1.csv', low_memory=False, encoding='cp1252')\n",
    "#f =  pd.read_csv('drive/My Drive/Colab Notebooks/traffic/ExternalServer/CIDDS-001-external-week2.csv', low_memory=False, encoding='cp1252')\n",
    "#g =  pd.read_csv('drive/My Drive/Colab Notebooks/traffic/ExternalServer/CIDDS-001-external-week3.csv', low_memory=False, encoding='cp1252')\n",
    "#h =  pd.read_csv('drive/My Drive/Colab Notebooks/traffic/ExternalServer/CIDDS-001-external-week4.csv', low_memory=False, encoding='cp1252')"
   ]
  },
  {
   "cell_type": "code",
   "execution_count": 4,
   "metadata": {},
   "outputs": [
    {
     "name": "stdout",
     "output_type": "stream",
     "text": [
      "(10310733, 16)\n"
     ]
    },
    {
     "data": {
      "text/plain": [
       "(1795404, 16)"
      ]
     },
     "execution_count": 4,
     "metadata": {},
     "output_type": "execute_result"
    }
   ],
   "source": [
    "print(b.shape)\n",
    "#a.drop(a[a['attackType'] == '---'].index, axis = 0, inplace= True) \n",
    "b.drop(b[b['attackType'] == '---'].index, axis = 0, inplace= True)  \n",
    "c.drop(c[c['attackType'] == '---'].index, axis = 0, inplace= True)  \n",
    "d.drop(d[d['attackType'] == '---'].index, axis = 0, inplace= True)  \n",
    "#e.drop(e[e['attackType'] == '---'].index, axis = 0, inplace= True)  \n",
    "b.shape"
   ]
  },
  {
   "cell_type": "code",
   "execution_count": 5,
   "metadata": {},
   "outputs": [],
   "source": [
    "data_external = pd.concat([c,d,e], axis = 0)\n",
    "data_external.reset_index(drop= True, inplace= True)"
   ]
  },
  {
   "cell_type": "code",
   "execution_count": 6,
   "metadata": {},
   "outputs": [],
   "source": [
    "#to Increment attackID values\n",
    "data_external['attackID'] = data_external['attackID'].apply(lambda x: str(int(x) + 70) if x != '---' else x)"
   ]
  },
  {
   "cell_type": "code",
   "execution_count": 7,
   "metadata": {},
   "outputs": [],
   "source": [
    "def convert_bytes(df):\n",
    "    if 'M' in df:\n",
    "        df = df.split('M')\n",
    "        df = df[0].strip()\n",
    "        df = float(df) * 1000000\n",
    "    elif 'B' in df:\n",
    "        df = df.split('B')\n",
    "        df = df[0].strip()\n",
    "        df =  float(df) * 1000000000\n",
    "    else: \n",
    "        df =float(df)\n",
    "    return df"
   ]
  },
  {
   "cell_type": "code",
   "execution_count": 8,
   "metadata": {},
   "outputs": [
    {
     "data": {
      "text/plain": [
       "0"
      ]
     },
     "execution_count": 8,
     "metadata": {},
     "output_type": "execute_result"
    }
   ],
   "source": [
    "data = pd.concat([a,b,data_external], axis = 0)\n",
    "data.reset_index(drop= True, inplace= True)\n",
    "data['Bytes'] = data['Bytes'].apply(lambda x: convert_bytes(x))\n",
    "data['attackType'] = data['attackType'].apply(lambda x:  'attack' if (x!= '---') else x )\n",
    "\n",
    "columns = ['Src Pt', 'Dst Pt','Tos','Flows','Packets', 'Bytes']\n",
    "for i in columns:\n",
    "    data[i] = pd.to_numeric(data[i]);\n",
    "del columns\n",
    "del a,b,c,d,e, data_external\n",
    "gc.collect()"
   ]
  },
  {
   "cell_type": "code",
   "execution_count": 9,
   "metadata": {},
   "outputs": [],
   "source": [
    "#Converts Hexadecimal value to Binary\n",
    "def hex_to_binary(hexdata):\n",
    "    scale = 16 ## equals to hexadecimal\n",
    "    num_of_bits = 9\n",
    "    return bin(int(hexdata, scale))[2:].zfill(num_of_bits);\n",
    "#Converts TCP flags to Binary\n",
    "def to_Binary(x):\n",
    "    l = 0\n",
    "    x = '...' + x\n",
    "    x = list(x)\n",
    "    for i in x:\n",
    "        if (i=='.'):\n",
    "            x[l]= '0'\n",
    "        else:\n",
    "            x[l] = '1'\n",
    "        l = l +1\n",
    "    return ''.join(x)\n",
    "#Converts the 'Flags' column to 9 indiviual columns (manual oneshot encoding)\n",
    "def flag_convert(df):  \n",
    "   # df['Flags'] = df['Flags'].apply(lambda x: (list(x)))\n",
    "   # temp = df['Flags'].apply(lambda x: toBinary(x))\n",
    "    hex_values = list(df[(df['Flags'].str.contains(\"0x\", na=False))]['Flags'].unique())\n",
    "    flag_values = list(df[~(df['Flags'].str.contains(\"0x\", na=False))]['Flags'].unique())\n",
    "    binary_values = {}\n",
    "    for i in hex_values:\n",
    "         binary_values[i] = (hex_to_binary(i))\n",
    "    for i in flag_values:\n",
    "         binary_values[i] = (to_Binary(i))\n",
    "    temp = df['Flags'].replace(binary_values)\n",
    "#temp = temp.apply(lambda x: pd.Series(x)) \n",
    "    temp = pd.DataFrame(temp.apply(list).tolist())\n",
    "#temp = pd.DataFrame(temp)\n",
    "#a = a.iloc[: , 1:]\n",
    "   # print(temp.head())\n",
    "    temp.columns = ['N','C','E','U' ,'A','P','R','S','F']\n",
    "    for i in temp.columns:\n",
    "        temp[i] = pd.to_numeric(temp[i]);\n",
    "    temp = temp.reset_index(drop=True)\n",
    "    df = df.reset_index(drop=True)\n",
    "    df = pd.concat([df, temp], axis = 1)\n",
    "    return df;"
   ]
  },
  {
   "cell_type": "code",
   "execution_count": 10,
   "metadata": {},
   "outputs": [],
   "source": [
    "#make a IP_pairs \n",
    "def make_pair(df):\n",
    "    ip_pair = df['Src IP Addr'] +'/' +df['Dst IP Addr']\n",
    "    source_ip = df['Src IP Addr'].unique().tolist()\n",
    "    destination_ip = df['Dst IP Addr'].unique().tolist()\n",
    "   # df = df.drop(columns = ['Src IP Addr', 'Dst IP Addr'])\n",
    "    df.insert(1, ' IP Pair', ip_pair)\n",
    "    return df\n",
    "\n",
    "def check_inverse(df):\n",
    "    list_pairs = df[' IP Pair'].unique()\n",
    "    tuple_pair = []\n",
    "    for i in list_pairs:\n",
    "        tuple_pair.append(tuple((i.split('/'))))\n",
    "    dic_store = {}\n",
    "    for i in tuple_pair:\n",
    "        if (i  not in dic_store.keys()) and (i[::-1] not in dic_store.keys()):\n",
    "            dic_store[i] = i[0] + '/' +i[1]\n",
    "    print(len(dic_store.keys()))\n",
    "    dic_final = {}\n",
    "    for i in dic_store.keys():\n",
    "        dic_final[i[0] + '/' +i[1]] = dic_store[i]\n",
    "        dic_final[i[1] + '/' +i[0]] = dic_store[i]\n",
    "    df[' IP Pair'] = df[' IP Pair'].map(dic_final)               \n",
    "    return df"
   ]
  },
  {
   "cell_type": "code",
   "execution_count": 11,
   "metadata": {},
   "outputs": [],
   "source": [
    "def normalize_IP(df):\n",
    "    columns = ['sourceIP_feature 1', 'sourceIP_feature 2', 'sourceIP_feature 3', 'sourceIP_feature 4', 'destIP_feature 1',\n",
    "              'destIP_feature 2', 'destIP_feature 3', 'destIP_feature 4']\n",
    "    normalized = df[columns]\n",
    "    print(columns)\n",
    "    transformed = MinMaxScaler().fit(normalized).transform(normalized)\n",
    "    transformed = pd.DataFrame(transformed)\n",
    "    j = 0\n",
    "    col = {}\n",
    "    for i in columns:\n",
    "        col[j] = i\n",
    "        j=j+1\n",
    "    transformed = transformed.rename(columns = col)\n",
    "    transformed = transformed.reset_index()\n",
    "    for i in columns:\n",
    "        df[i] = transformed[i].to_numpy()\n",
    "    return df;"
   ]
  },
  {
   "cell_type": "code",
   "execution_count": 12,
   "metadata": {},
   "outputs": [],
   "source": [
    "def normalize(df):\n",
    "    numerics = ['int16', 'int32', 'int64', 'float16', 'float32', 'float64']\n",
    "    columns = data.select_dtypes(include=numerics).columns\n",
    "    normalized = df[columns]\n",
    "    print(columns)\n",
    "    transformed = MinMaxScaler().fit(normalized).transform(normalized)\n",
    "    transformed = pd.DataFrame(transformed)\n",
    "    j = 0\n",
    "    col = {}\n",
    "    for i in columns:\n",
    "        col[j] = i\n",
    "        j=j+1\n",
    "    transformed = transformed.rename(columns = col)\n",
    "    transformed = transformed.reset_index()\n",
    "    for i in columns:\n",
    "        df[i] = transformed[i].to_numpy()\n",
    "    return df;"
   ]
  },
  {
   "cell_type": "code",
   "execution_count": 13,
   "metadata": {},
   "outputs": [],
   "source": [
    "def one_shot(df):\n",
    "    label_encoder = LabelEncoder()\n",
    "    #df.astype({'attackType': 'str'})\n",
    "    df['attackType'] = label_encoder.fit_transform(df['attackType'])\n",
    "    print(list(label_encoder.classes_))\n",
    "    print(list(label_encoder.transform(label_encoder.classes_)))\n",
    "    \n",
    "#    onehot_encoder = OneHotEncoder()\n",
    "#    onehot_encoder.fit(df.attackType.to_numpy().reshape(-1, 1))\n",
    "#    proto = onehot_encoder.transform(df.attackType.to_numpy().reshape(-1, 1))\n",
    "#    proto = pd.DataFrame.sparse.from_spmatrix(proto)\n",
    "#    proto.astype('int32')\n",
    "#    proto.columns = label_encoder.classes_\n",
    "#    df = pd.concat([df, proto], axis = 1) \n",
    "    \n",
    "   \n",
    "    \n",
    "    df['Proto'] = label_encoder.fit_transform(df['Proto'])\n",
    "    print(list(label_encoder.classes_))\n",
    "    print(list(label_encoder.transform(label_encoder.classes_)))\n",
    "    \n",
    "    onehot_encoder1 = OneHotEncoder()\n",
    "    onehot_encoder1.fit(df.Proto.to_numpy().reshape(-1, 1))\n",
    "    proto = onehot_encoder1.transform(df.Proto.to_numpy().reshape(-1, 1))\n",
    "    proto = pd.DataFrame.sparse.from_spmatrix(proto)\n",
    "    proto.astype('int32')\n",
    "    proto.columns = label_encoder.classes_\n",
    "   # print(proto.head(1))\n",
    "    df = pd.concat([df, proto], axis = 1)\n",
    "    return df;"
   ]
  },
  {
   "cell_type": "code",
   "execution_count": 14,
   "metadata": {},
   "outputs": [],
   "source": [
    "def drop_columns(df):\n",
    "    return df.drop(columns = ['Date first seen', ' IP Pair', 'Flows', 'class', 'attackID','Flags',\n",
    "                              'attackDescription', 'Src IP Addr', 'Dst IP Addr','Proto'], axis =1)"
   ]
  },
  {
   "cell_type": "code",
   "execution_count": 15,
   "metadata": {},
   "outputs": [],
   "source": [
    "#Aplit IP address into features, 7 features\n",
    "def split_to_net(IP_address):\n",
    "    IP_list = IP_address.split(\".\")\n",
    "    needed_len = 7\n",
    "    needed_len = needed_len - len(IP_list)\n",
    "    for i in range(0,needed_len,1):\n",
    "        IP_list.append('0')\n",
    "    return IP_list\n",
    "#replace unknown IP address, and convert to columns\n",
    "def IP_split(df): \n",
    "    replace = {\"ATTACKER1\":\"0.0.0.0\",\n",
    "           \"ATTACKER2\":\"0.0.0.0\",\n",
    "           \"ATTACKER3\":\"0.0.0.0\",\n",
    "           \"EXT_SERVER\": \"0.0.0.0.1\",\n",
    "          \"OPENSTACK_NET\": \"0.0.0.0.0.1\",\n",
    "          \"DNS\": \"0.0.0.0.0.0.1\"}\n",
    "    df = df.replace({\"Src IP Addr\": replace, \"Dst IP Addr\": replace}, value=None)\n",
    "    temp_source = df[\"Src IP Addr\"].apply(lambda x: \"0.0.0.0.0.0.0\" if ('_') in x else x)\n",
    "    temp_des = df['Dst IP Addr'].apply(lambda x: \"0.0.0.0.0.0.0\" if ('_') in x else x)\n",
    "   # sourceIP = list(df[\"Src IP Addr\"].unique())\n",
    "   # destIP = list(df[\"Dst IP Addr\"].unique())\n",
    "   # sourceIP_values = {}\n",
    "   # desIP_values = {}\n",
    "   # for i in sourceIP:\n",
    "   #      sourceIP_values[i] = (split_to_net(i))\n",
    "   # for i in destIP:\n",
    "   #      desIP_values[i] = (split_to_net(i))\n",
    "    #print(sourceIP_values)\n",
    "   # print(desIP_values)\n",
    "#for Source IP\n",
    "    temp_source = temp_source.apply(lambda x: split_to_net(x) )\n",
    "    temp_source = pd.DataFrame(temp_source.apply(list).tolist())\n",
    "    temp_source.columns = ['sourceIP_feature 1','sourceIP_feature 2','sourceIP_feature 3','sourceIP_feature 4' ,\n",
    "                    'sourceEXT_SERVER','sourceOPENSTACK_NET','sourceDNS']\n",
    "    for i in temp_source.columns:\n",
    "        temp_source[i] = pd.to_numeric(temp_source[i]);\n",
    "    temp_source = temp_source.reset_index(drop=True)\n",
    "    df = df.reset_index(drop=True)\n",
    "    df = pd.concat([df, temp_source], axis = 1)\n",
    "    #for Destination IP\n",
    "    temp_des = temp_des.apply(lambda x: split_to_net(x) )\n",
    "    temp_des = pd.DataFrame(temp_des.apply(list).tolist())\n",
    "    temp_des.columns = ['destIP_feature 1','destIP_feature 2','destIP_feature 3','destIP_feature 4' ,\n",
    "                    'destEXT_SERVER','destOPENSTACK_NET','destDNS']\n",
    "    for i in temp_des.columns:\n",
    "        temp_des[i] = pd.to_numeric(temp_des[i]);\n",
    "    temp_des = temp_des.reset_index(drop=True)\n",
    "    df = df.reset_index(drop=True)\n",
    "    df = pd.concat([df, temp_des], axis = 1)\n",
    "    return df;"
   ]
  },
  {
   "cell_type": "code",
   "execution_count": 16,
   "metadata": {},
   "outputs": [
    {
     "name": "stdout",
     "output_type": "stream",
     "text": [
      "59362\n"
     ]
    }
   ],
   "source": [
    "data = make_pair(data)\n",
    "data = check_inverse(data)"
   ]
  },
  {
   "cell_type": "code",
   "execution_count": 17,
   "metadata": {},
   "outputs": [],
   "source": [
    "#data = IP_split(data)"
   ]
  },
  {
   "cell_type": "code",
   "execution_count": 18,
   "metadata": {
    "scrolled": true
   },
   "outputs": [
    {
     "name": "stdout",
     "output_type": "stream",
     "text": [
      "Index(['Duration', 'Src Pt', 'Dst Pt', 'Packets', 'Bytes', 'Flows', 'Tos'], dtype='object')\n",
      "['---', 'attack']\n",
      "[0, 1]\n",
      "['GRE  ', 'ICMP ', 'IGMP ', 'TCP  ', 'UDP  ']\n",
      "[0, 1, 2, 3, 4]\n"
     ]
    },
    {
     "name": "stderr",
     "output_type": "stream",
     "text": [
      "C:\\Users\\hp\\Anaconda3\\lib\\site-packages\\sklearn\\preprocessing\\_encoders.py:415: FutureWarning: The handling of integer data will change in version 0.22. Currently, the categories are determined based on the range [0, max(values)], while in the future they will be determined based on the unique values.\n",
      "If you want the future behaviour and silence this warning, you can specify \"categories='auto'\".\n",
      "In case you used a LabelEncoder before this OneHotEncoder to convert the categories to integers, then you can now use the OneHotEncoder directly.\n",
      "  warnings.warn(msg, FutureWarning)\n"
     ]
    }
   ],
   "source": [
    "data = normalize(data)\n",
    "data =  one_shot(data) \n",
    "#data = normalize_IP(data)"
   ]
  },
  {
   "cell_type": "code",
   "execution_count": 19,
   "metadata": {},
   "outputs": [],
   "source": [
    "from datetime import datetime\n",
    "def unix_time(df):\n",
    "  #  df[' Timestamp'] = df[' Timestamp'].apply(lambda x: x + ':00' if len(x) != 19 else x)\n",
    "   # df[' Timestamp'] = df[' Timestamp'].apply(lambda x: x[0 : 5 : ] + x[7 : :] if len(x) != 19 else x[0 : 7 : ] + x[9 : :])\n",
    "    df['Date first seen'] = df['Date first seen'].apply(lambda x: datetime.strptime(x,'%Y-%m-%d %H:%M:%S.%f'))\n",
    "    df['Date first seen'] = df['Date first seen'].apply(lambda x: x.timestamp()*1000)\n",
    "    return df;"
   ]
  },
  {
   "cell_type": "code",
   "execution_count": 20,
   "metadata": {},
   "outputs": [],
   "source": [
    "def normal_profile(grouped):\n",
    "    grouped['---'] = unix_time(grouped['---'])\n",
    "    start_time = int(grouped['---'].head(1)['Date first seen'].values[0])\n",
    "    end_time = int(grouped['---'].tail(1)['Date first seen'].values[0])\n",
    "#date_bins = pd.IntervalIndex.from_tuples(\n",
    "#        [(i, i+3600000) for i in range(start_time, end_time, 3600000)],\n",
    "#        closed=\"left\")\n",
    "#date_labels = [f\"{i}\" for i in range(1, len(date_bins)+1, 1)]\n",
    "    normal_data = dict(tuple( grouped['---'].groupby( pd.cut(\n",
    "            grouped['---']['Date first seen'],\n",
    "               np.arange(start_time, end_time, 3*3600000)))))\n",
    "    del grouped['---']\n",
    "    num = []\n",
    "    for i in grouped_data.keys():\n",
    "          num.append(len(grouped_data[i]))\n",
    "    print(min(num))\n",
    "    num = max(num)\n",
    "    print(num)\n",
    "    print(len(grouped.keys()))\n",
    "    grouped = {**grouped, **normal_data}\n",
    "    print(len(grouped.keys()))\n",
    "    return grouped, num;"
   ]
  },
  {
   "cell_type": "code",
   "execution_count": 21,
   "metadata": {},
   "outputs": [
    {
     "data": {
      "text/plain": [
       "0"
      ]
     },
     "execution_count": 21,
     "metadata": {},
     "output_type": "execute_result"
    }
   ],
   "source": [
    "grouped_data= dict(tuple(data.groupby(['attackID'])))\n",
    "del data\n",
    "gc.collect()"
   ]
  },
  {
   "cell_type": "code",
   "execution_count": 22,
   "metadata": {
    "scrolled": true
   },
   "outputs": [
    {
     "name": "stdout",
     "output_type": "stream",
     "text": [
      "---: 7195669 : 0\n",
      "bruteForce : 92\n",
      "1: 7657 : 1\n",
      "10: 311 : 1\n",
      "11: 17401 : 1\n",
      "12: 11526 : 1\n",
      "13: 513 : 1\n",
      "14: 13807 : 1\n",
      "15: 64 : 1\n",
      "16: 261003 : 1\n",
      "17: 13338 : 1\n",
      "18: 295302 : 1\n",
      "19: 11672 : 1\n",
      "2: 1927 : 1\n",
      "20: 11748 : 1\n",
      "21: 5113 : 1\n",
      "22: 295 : 1\n",
      "23: 72788 : 1\n",
      "24: 466 : 1\n",
      "25: 201 : 1\n",
      "26: 74471 : 1\n",
      "27: 680 : 1\n",
      "28: 36306 : 1\n",
      "29: 19732 : 1\n",
      "3: 37118 : 1\n",
      "30: 46 : 1\n",
      "31: 144845 : 1\n",
      "32: 335 : 1\n",
      "33: 307 : 1\n",
      "34: 12909 : 1\n",
      "35: 263 : 1\n",
      "36: 494 : 1\n",
      "37: 26114 : 1\n",
      "38: 267 : 1\n",
      "39: 364 : 1\n",
      "4: 72063 : 1\n",
      "40: 11609 : 1\n",
      "41: 379 : 1\n",
      "42: 184040 : 1\n",
      "43: 2143 : 1\n",
      "44: 261169 : 1\n",
      "45: 224960 : 1\n",
      "46: 111720 : 1\n",
      "47: 13420 : 1\n",
      "48: 13600 : 1\n",
      "49: 17629 : 1\n",
      "5: 4948 : 1\n",
      "50: 4589 : 1\n",
      "51: 11968 : 1\n",
      "52: 607 : 1\n",
      "53: 516299 : 1\n",
      "54: 183 : 1\n",
      "55: 757 : 1\n",
      "56: 427 : 1\n",
      "57: 522 : 1\n",
      "58: 510 : 1\n",
      "59: 110484 : 1\n",
      "6: 37134 : 1\n",
      "60: 333627 : 1\n",
      "61: 705 : 1\n",
      "62: 574 : 1\n",
      "63: 148641 : 1\n",
      "64: 480 : 1\n",
      "65: 373 : 1\n",
      "66: 359 : 1\n",
      "67: 13426 : 1\n",
      "68: 5632 : 1\n",
      "69: 360 : 1\n",
      "7: 9586 : 1\n",
      "70: 240 : 1\n",
      "71: 2008 : 1\n",
      "72: 2002 : 1\n",
      "73: 200 : 1\n",
      "74: 200 : 1\n",
      "75: 200 : 1\n",
      "76: 168 : 1\n",
      "77: 6410 : 1\n",
      "78: 200 : 1\n",
      "79: 200 : 1\n",
      "8: 4424 : 1\n",
      "80: 1991 : 1\n",
      "81: 200 : 1\n",
      "82: 1370 : 1\n",
      "83: 200 : 1\n",
      "84: 200 : 1\n",
      "85: 1984 : 1\n",
      "86: 2002 : 1\n",
      "87: 200 : 1\n",
      "88: 200 : 1\n",
      "89: 952 : 1\n",
      "9: 37057 : 1\n",
      "90: 200 : 1\n",
      "91: 40 : 1\n",
      "92: 40 : 1\n",
      "dos : 0\n",
      "pingScan: 0\n",
      "portScan : 0\n"
     ]
    }
   ],
   "source": [
    "no_1 = []\n",
    "no_2 = []\n",
    "no_3 = []\n",
    "no_4 = []\n",
    "for i in grouped_data.keys():\n",
    "   \n",
    "    if grouped_data[i]['attackType'].unique()[0] == 0:\n",
    "        print(f\"{i}: {len(grouped_data[i])} : {grouped_data[i]['attackType'].unique()[0]}\")\n",
    "    if grouped_data[i]['attackType'].unique()[0] == 1:\n",
    "              no_1.append(i)\n",
    "    if grouped_data[i]['attackType'].unique()[0] == 2:\n",
    "              no_2.append(i)\n",
    "    if grouped_data[i]['attackType'].unique()[0] == 3:\n",
    "              no_3.append(i)\n",
    "    if grouped_data[i]['attackType'].unique()[0] == 4:\n",
    "              no_4.append(i)\n",
    "print(f\"bruteForce : {len(no_1)}\")\n",
    "for i in no_1:\n",
    "     print(f\"{i}: {len(grouped_data[i])} : {grouped_data[i]['attackType'].unique()[0]}\")\n",
    "print(f\"dos : {len(no_2)}\")\n",
    "for i in no_2:\n",
    "     print(f\"{i}: {len(grouped_data[i])} : {grouped_data[i]['attackType'].unique()[0]}\")\n",
    "print(f\"pingScan: {len(no_3)}\")\n",
    "for i in no_3:\n",
    "     print(f\"{i}: {len(grouped_data[i])} : {grouped_data[i]['attackType'].unique()[0]}\")\n",
    "print(f\"portScan : {len(no_4)}\")\n",
    "for i in no_4:\n",
    "     print(f\"{i}: {len(grouped_data[i])} : {grouped_data[i]['attackType'].unique()[0]}\")"
   ]
  },
  {
   "cell_type": "code",
   "execution_count": 23,
   "metadata": {},
   "outputs": [
    {
     "data": {
      "text/plain": [
       "20"
      ]
     },
     "execution_count": 23,
     "metadata": {},
     "output_type": "execute_result"
    }
   ],
   "source": [
    "del no_1\n",
    "del no_2\n",
    "del no_3\n",
    "del no_4\n",
    "gc.collect()"
   ]
  },
  {
   "cell_type": "code",
   "execution_count": 24,
   "metadata": {},
   "outputs": [],
   "source": [
    "def del_largeInstances(dic, length):\n",
    "    remove_ID = []\n",
    "    for i in dic.keys():\n",
    "        if (i != '---'):\n",
    "            if(len(dic[i]) >= length):\n",
    "                remove_ID.append(i)\n",
    "    print(len(remove_ID))\n",
    "    removed_attacks = {}\n",
    "    for i in remove_ID:\n",
    "        removed_attacks[i] = dic[i]\n",
    "        del dic[i]\n",
    "    return dic;"
   ]
  },
  {
   "cell_type": "code",
   "execution_count": 25,
   "metadata": {},
   "outputs": [
    {
     "name": "stdout",
     "output_type": "stream",
     "text": [
      "19\n"
     ]
    }
   ],
   "source": [
    "grouped_data = del_largeInstances(grouped_data, 20000)"
   ]
  },
  {
   "cell_type": "code",
   "execution_count": 26,
   "metadata": {},
   "outputs": [
    {
     "name": "stdout",
     "output_type": "stream",
     "text": [
      "40\n",
      "19732\n",
      "73\n",
      "350\n"
     ]
    }
   ],
   "source": [
    "#grouped_data, num = normal_profile(grouped_data)\n",
    "grouped_data1= {}\n",
    "for i in grouped_data.keys():\n",
    "    grouped_data[i] = flag_convert(grouped_data[i])\n",
    "   # grouped_data[i] =  drop_columns(grouped_data[i])\n",
    "grouped_data, num = normal_profile(grouped_data)\n",
    "for i in grouped_data.keys():\n",
    "   # grouped_data[i] = flag_convert(grouped_data[i])\n",
    "    grouped_data[i] =  drop_columns(grouped_data[i])"
   ]
  },
  {
   "cell_type": "code",
   "execution_count": 27,
   "metadata": {},
   "outputs": [
    {
     "name": "stdout",
     "output_type": "stream",
     "text": [
      "1 : False\n",
      "10 : False\n",
      "11 : False\n",
      "12 : False\n",
      "13 : False\n",
      "14 : False\n",
      "15 : False\n",
      "17 : False\n",
      "19 : False\n",
      "2 : False\n",
      "20 : False\n",
      "21 : False\n",
      "22 : False\n",
      "24 : False\n",
      "25 : False\n",
      "27 : False\n",
      "29 : False\n",
      "30 : False\n",
      "32 : False\n",
      "33 : False\n",
      "34 : False\n",
      "35 : False\n",
      "36 : False\n",
      "38 : False\n",
      "39 : False\n",
      "40 : False\n",
      "41 : False\n",
      "43 : False\n",
      "47 : False\n",
      "48 : False\n",
      "49 : False\n",
      "5 : False\n",
      "50 : False\n",
      "51 : False\n",
      "52 : False\n",
      "54 : False\n",
      "55 : False\n",
      "56 : False\n",
      "57 : False\n",
      "58 : False\n",
      "61 : False\n",
      "62 : False\n",
      "64 : False\n",
      "65 : False\n",
      "66 : False\n",
      "67 : False\n",
      "68 : False\n",
      "69 : False\n",
      "7 : False\n",
      "70 : False\n",
      "71 : False\n",
      "72 : False\n",
      "73 : False\n",
      "74 : False\n",
      "75 : False\n",
      "76 : False\n",
      "77 : False\n",
      "78 : False\n",
      "79 : False\n",
      "8 : False\n",
      "80 : False\n",
      "81 : False\n",
      "82 : False\n",
      "83 : False\n",
      "84 : False\n",
      "85 : False\n",
      "86 : False\n",
      "87 : False\n",
      "88 : False\n",
      "89 : False\n",
      "90 : False\n",
      "91 : False\n",
      "92 : False\n",
      "(1489536076632, 1489546876632] : False\n",
      "(1489546876632, 1489557676632] : False\n",
      "(1489557676632, 1489568476632] : False\n",
      "(1489568476632, 1489579276632] : False\n",
      "(1489579276632, 1489590076632] : False\n",
      "(1489590076632, 1489600876632] : False\n",
      "(1489600876632, 1489611676632] : False\n",
      "(1489611676632, 1489622476632] : False\n",
      "(1489622476632, 1489633276632] : False\n",
      "(1489633276632, 1489644076632] : False\n",
      "(1489644076632, 1489654876632] : False\n",
      "(1489654876632, 1489665676632] : False\n",
      "(1489665676632, 1489676476632] : False\n",
      "(1489676476632, 1489687276632] : False\n",
      "(1489687276632, 1489698076632] : False\n",
      "(1489698076632, 1489708876632] : False\n",
      "(1489708876632, 1489719676632] : False\n",
      "(1489719676632, 1489730476632] : False\n",
      "(1489730476632, 1489741276632] : False\n",
      "(1489741276632, 1489752076632] : False\n",
      "(1489752076632, 1489762876632] : False\n",
      "(1489762876632, 1489773676632] : False\n",
      "(1489773676632, 1489784476632] : False\n",
      "(1489784476632, 1489795276632] : False\n",
      "(1489795276632, 1489806076632] : False\n",
      "(1489806076632, 1489816876632] : False\n",
      "(1489816876632, 1489827676632] : False\n",
      "(1489827676632, 1489838476632] : False\n",
      "(1489838476632, 1489849276632] : False\n",
      "(1489849276632, 1489860076632] : False\n",
      "(1489860076632, 1489870876632] : False\n",
      "(1489870876632, 1489881676632] : False\n",
      "(1489881676632, 1489892476632] : False\n",
      "(1489892476632, 1489903276632] : False\n",
      "(1489903276632, 1489914076632] : False\n",
      "(1489914076632, 1489924876632] : False\n",
      "(1489924876632, 1489935676632] : False\n",
      "(1489935676632, 1489946476632] : False\n",
      "(1489946476632, 1489957276632] : False\n",
      "(1489957276632, 1489968076632] : False\n",
      "(1489968076632, 1489978876632] : False\n",
      "(1489978876632, 1489989676632] : False\n",
      "(1489989676632, 1490000476632] : False\n",
      "(1490000476632, 1490011276632] : False\n",
      "(1490011276632, 1490022076632] : False\n",
      "(1490022076632, 1490032876632] : False\n",
      "(1490032876632, 1490043676632] : False\n",
      "(1490043676632, 1490054476632] : False\n",
      "(1490054476632, 1490065276632] : False\n",
      "(1490065276632, 1490076076632] : False\n",
      "(1490076076632, 1490086876632] : False\n",
      "(1490086876632, 1490097676632] : False\n",
      "(1490097676632, 1490108476632] : False\n",
      "(1490108476632, 1490119276632] : False\n",
      "(1490119276632, 1490130076632] : False\n",
      "(1490130076632, 1490140876632] : False\n",
      "(1490140876632, 1490151676632] : False\n",
      "(1490151676632, 1490162476632] : False\n",
      "(1490162476632, 1490173276632] : False\n",
      "(1490173276632, 1490184076632] : False\n",
      "(1490184076632, 1490194876632] : False\n",
      "(1490194876632, 1490205676632] : False\n",
      "(1490205676632, 1490216476632] : False\n",
      "(1490216476632, 1490227276632] : False\n",
      "(1490227276632, 1490238076632] : False\n",
      "(1490238076632, 1490248876632] : False\n",
      "(1490248876632, 1490259676632] : False\n",
      "(1490259676632, 1490270476632] : False\n",
      "(1490270476632, 1490281276632] : False\n",
      "(1490281276632, 1490292076632] : False\n",
      "(1490292076632, 1490302876632] : False\n",
      "(1490302876632, 1490313676632] : False\n",
      "(1490313676632, 1490324476632] : False\n",
      "(1490324476632, 1490335276632] : False\n",
      "(1490335276632, 1490346076632] : False\n",
      "(1490346076632, 1490356876632] : False\n",
      "(1490356876632, 1490367676632] : False\n",
      "(1490367676632, 1490378476632] : False\n",
      "(1490378476632, 1490389276632] : False\n",
      "(1490389276632, 1490400076632] : False\n",
      "(1490400076632, 1490410876632] : False\n",
      "(1490410876632, 1490421676632] : False\n",
      "(1490421676632, 1490432476632] : False\n",
      "(1490432476632, 1490443276632] : False\n",
      "(1490443276632, 1490454076632] : False\n",
      "(1490454076632, 1490464876632] : False\n",
      "(1490464876632, 1490475676632] : False\n",
      "(1490475676632, 1490486476632] : False\n",
      "(1490486476632, 1490497276632] : False\n",
      "(1490497276632, 1490508076632] : False\n",
      "(1490508076632, 1490518876632] : False\n",
      "(1490518876632, 1490529676632] : False\n",
      "(1490529676632, 1490540476632] : False\n",
      "(1490540476632, 1490551276632] : False\n",
      "(1490551276632, 1490562076632] : False\n",
      "(1490562076632, 1490572876632] : False\n",
      "(1490572876632, 1490583676632] : False\n",
      "(1490583676632, 1490594476632] : False\n",
      "(1490594476632, 1490605276632] : False\n",
      "(1490605276632, 1490616076632] : False\n",
      "(1490616076632, 1490626876632] : False\n",
      "(1490626876632, 1490637676632] : False\n",
      "(1490637676632, 1490648476632] : False\n",
      "(1490648476632, 1490659276632] : False\n",
      "(1490659276632, 1490670076632] : False\n",
      "(1490670076632, 1490680876632] : False\n",
      "(1490680876632, 1490691676632] : False\n",
      "(1490691676632, 1490702476632] : False\n",
      "(1490702476632, 1490713276632] : False\n",
      "(1490713276632, 1490724076632] : False\n",
      "(1490724076632, 1490734876632] : False\n",
      "(1490734876632, 1490745676632] : False\n",
      "(1490745676632, 1490756476632] : False\n",
      "(1490756476632, 1490767276632] : False\n",
      "(1490767276632, 1490778076632] : False\n",
      "(1490778076632, 1490788876632] : False\n",
      "(1490788876632, 1490799676632] : False\n",
      "(1490799676632, 1490810476632] : False\n",
      "(1490810476632, 1490821276632] : False\n",
      "(1490821276632, 1490832076632] : False\n",
      "(1490832076632, 1490842876632] : False\n",
      "(1490842876632, 1490853676632] : False\n",
      "(1490853676632, 1490864476632] : False\n",
      "(1490864476632, 1490875276632] : False\n",
      "(1490875276632, 1490886076632] : False\n",
      "(1490886076632, 1490896876632] : False\n",
      "(1490896876632, 1490907676632] : False\n",
      "(1490907676632, 1490918476632] : False\n",
      "(1490918476632, 1490929276632] : False\n",
      "(1490929276632, 1490940076632] : False\n",
      "(1490940076632, 1490950876632] : False\n",
      "(1490950876632, 1490961676632] : False\n",
      "(1490961676632, 1490972476632] : False\n",
      "(1490972476632, 1490983276632] : False\n",
      "(1490983276632, 1490994076632] : False\n",
      "(1490994076632, 1491004876632] : False\n",
      "(1491004876632, 1491015676632] : False\n",
      "(1491015676632, 1491026476632] : False\n",
      "(1491026476632, 1491037276632] : False\n",
      "(1491037276632, 1491048076632] : False\n",
      "(1491048076632, 1491058876632] : False\n",
      "(1491058876632, 1491069676632] : False\n",
      "(1491069676632, 1491080476632] : False\n",
      "(1491080476632, 1491091276632] : False\n",
      "(1491091276632, 1491102076632] : False\n",
      "(1491102076632, 1491112876632] : False\n",
      "(1491112876632, 1491123676632] : False\n",
      "(1491123676632, 1491134476632] : False\n",
      "(1491134476632, 1491145276632] : False\n",
      "(1491145276632, 1491156076632] : False\n",
      "(1491156076632, 1491166876632] : False\n",
      "(1491166876632, 1491177676632] : False\n",
      "(1491177676632, 1491188476632] : False\n",
      "(1491188476632, 1491199276632] : False\n",
      "(1491199276632, 1491210076632] : False\n",
      "(1491210076632, 1491220876632] : False\n",
      "(1491220876632, 1491231676632] : False\n",
      "(1491231676632, 1491242476632] : False\n",
      "(1491242476632, 1491253276632] : False\n",
      "(1491253276632, 1491264076632] : False\n",
      "(1491264076632, 1491274876632] : False\n",
      "(1491274876632, 1491285676632] : False\n",
      "(1491285676632, 1491296476632] : False\n",
      "(1491296476632, 1491307276632] : False\n",
      "(1491307276632, 1491318076632] : False\n",
      "(1491318076632, 1491328876632] : False\n",
      "(1491328876632, 1491339676632] : False\n",
      "(1491339676632, 1491350476632] : False\n",
      "(1491350476632, 1491361276632] : False\n",
      "(1491361276632, 1491372076632] : False\n",
      "(1491372076632, 1491382876632] : False\n",
      "(1491382876632, 1491393676632] : False\n",
      "(1491393676632, 1491404476632] : False\n",
      "(1491404476632, 1491415276632] : False\n",
      "(1491415276632, 1491426076632] : False\n",
      "(1491426076632, 1491436876632] : False\n",
      "(1491436876632, 1491447676632] : False\n",
      "(1491447676632, 1491458476632] : False\n",
      "(1491458476632, 1491469276632] : False\n",
      "(1491469276632, 1491480076632] : False\n",
      "(1491480076632, 1491490876632] : False\n",
      "(1491490876632, 1491501676632] : False\n",
      "(1491501676632, 1491512476632] : False\n",
      "(1491512476632, 1491523276632] : False\n",
      "(1491523276632, 1491534076632] : False\n",
      "(1491534076632, 1491544876632] : False\n",
      "(1491544876632, 1491555676632] : False\n",
      "(1491555676632, 1491566476632] : False\n",
      "(1491566476632, 1491577276632] : False\n",
      "(1491577276632, 1491588076632] : False\n",
      "(1491588076632, 1491598876632] : False\n",
      "(1491598876632, 1491609676632] : False\n",
      "(1491609676632, 1491620476632] : False\n",
      "(1491620476632, 1491631276632] : False\n",
      "(1491631276632, 1491642076632] : False\n",
      "(1491642076632, 1491652876632] : False\n",
      "(1491652876632, 1491663676632] : False\n",
      "(1491663676632, 1491674476632] : False\n",
      "(1491674476632, 1491685276632] : False\n",
      "(1491685276632, 1491696076632] : False\n",
      "(1491696076632, 1491706876632] : False\n",
      "(1491706876632, 1491717676632] : False\n",
      "(1491717676632, 1491728476632] : False\n",
      "(1491728476632, 1491739276632] : False\n",
      "(1491739276632, 1491750076632] : False\n",
      "(1491750076632, 1491760876632] : False\n",
      "(1491760876632, 1491771676632] : False\n",
      "(1491771676632, 1491782476632] : False\n",
      "(1491782476632, 1491793276632] : False\n",
      "(1491793276632, 1491804076632] : False\n"
     ]
    },
    {
     "name": "stdout",
     "output_type": "stream",
     "text": [
      "(1491804076632, 1491814876632] : False\n",
      "(1491814876632, 1491825676632] : False\n",
      "(1491825676632, 1491836476632] : False\n",
      "(1491836476632, 1491847276632] : False\n",
      "(1491847276632, 1491858076632] : False\n",
      "(1491858076632, 1491868876632] : False\n",
      "(1491868876632, 1491879676632] : False\n",
      "(1491879676632, 1491890476632] : False\n",
      "(1491890476632, 1491901276632] : False\n",
      "(1491901276632, 1491912076632] : False\n",
      "(1491912076632, 1491922876632] : False\n",
      "(1491922876632, 1491933676632] : False\n",
      "(1491933676632, 1491944476632] : False\n",
      "(1491944476632, 1491955276632] : False\n",
      "(1491955276632, 1491966076632] : False\n",
      "(1491966076632, 1491976876632] : False\n",
      "(1491976876632, 1491987676632] : False\n",
      "(1491987676632, 1491998476632] : False\n",
      "(1491998476632, 1492009276632] : False\n",
      "(1492009276632, 1492020076632] : False\n",
      "(1492020076632, 1492030876632] : False\n",
      "(1492030876632, 1492041676632] : False\n",
      "(1492041676632, 1492052476632] : False\n",
      "(1492052476632, 1492063276632] : False\n",
      "(1492063276632, 1492074076632] : False\n",
      "(1492074076632, 1492084876632] : False\n",
      "(1492084876632, 1492095676632] : False\n",
      "(1492095676632, 1492106476632] : False\n",
      "(1492106476632, 1492117276632] : False\n",
      "(1492117276632, 1492128076632] : False\n",
      "(1492128076632, 1492138876632] : False\n",
      "(1492138876632, 1492149676632] : False\n",
      "(1492149676632, 1492160476632] : False\n",
      "(1492160476632, 1492171276632] : False\n",
      "(1492171276632, 1492182076632] : False\n",
      "(1492182076632, 1492192876632] : False\n",
      "(1492192876632, 1492203676632] : False\n",
      "(1492203676632, 1492214476632] : False\n",
      "(1492214476632, 1492225276632] : False\n",
      "(1492225276632, 1492236076632] : False\n",
      "(1492236076632, 1492246876632] : False\n",
      "(1492246876632, 1492257676632] : False\n",
      "(1492257676632, 1492268476632] : False\n",
      "(1492268476632, 1492279276632] : False\n",
      "(1492279276632, 1492290076632] : False\n",
      "(1492290076632, 1492300876632] : False\n",
      "(1492300876632, 1492311676632] : False\n",
      "(1492311676632, 1492322476632] : False\n",
      "(1492322476632, 1492333276632] : False\n",
      "(1492333276632, 1492344076632] : False\n",
      "(1492344076632, 1492354876632] : False\n",
      "(1492354876632, 1492365676632] : False\n",
      "(1492365676632, 1492376476632] : False\n",
      "(1492376476632, 1492387276632] : False\n",
      "(1492387276632, 1492398076632] : False\n",
      "(1492398076632, 1492408876632] : False\n",
      "(1492408876632, 1492419676632] : False\n",
      "(1492419676632, 1492430476632] : False\n",
      "(1492430476632, 1492441276632] : False\n",
      "(1492441276632, 1492452076632] : False\n",
      "(1492452076632, 1492462876632] : False\n",
      "(1492462876632, 1492473676632] : False\n",
      "(1492473676632, 1492484476632] : False\n",
      "(1492484476632, 1492495276632] : False\n",
      "(1492495276632, 1492506076632] : False\n",
      "(1492506076632, 1492516876632] : False\n",
      "(1492516876632, 1492527676632] : False\n"
     ]
    }
   ],
   "source": [
    "for i in grouped_data.keys():\n",
    "    #if (grouped_data[i].hasnull())\n",
    "    print(f'{i} : {grouped_data[i].isnull().values.any()}')"
   ]
  },
  {
   "cell_type": "code",
   "execution_count": 28,
   "metadata": {},
   "outputs": [],
   "source": [
    "#grouped_data['34']"
   ]
  },
  {
   "cell_type": "code",
   "execution_count": 29,
   "metadata": {},
   "outputs": [
    {
     "name": "stdout",
     "output_type": "stream",
     "text": [
      "167\n"
     ]
    }
   ],
   "source": [
    "counter = 0\n",
    "for i in grouped_data.keys():\n",
    "    if ( len(grouped_data[i]) == 0):\n",
    "        counter = counter +1;\n",
    "print(counter)"
   ]
  },
  {
   "cell_type": "code",
   "execution_count": 30,
   "metadata": {},
   "outputs": [],
   "source": [
    "#Remove columns that were not listed in cfs list\n",
    "selected_features = ['S', 'R', 'Packets', 'Tos', 'Duration', 'P', 'attackType']\n",
    "for i in grouped_data.keys():\n",
    "    if ( len(grouped_data[i]) != 0):\n",
    "        grouped_data[i] = grouped_data[i][selected_features]"
   ]
  },
  {
   "cell_type": "code",
   "execution_count": 31,
   "metadata": {},
   "outputs": [],
   "source": [
    "def roundup(x):\n",
    "    return x if x % 100 == 0 else x + 100 - x % 100\n",
    "#Convert to 3D arrays, input dict\n",
    "def make_array(dic):\n",
    "    x = []\n",
    "    y = []\n",
    "    zero_arrays = []\n",
    "    for i in dic.keys():\n",
    "        if ( len(dic[i]) == 0):\n",
    "            zero_arrays.append(i);\n",
    "    for i in zero_arrays:\n",
    "        del dic[i]\n",
    "    for i in dic.keys():\n",
    "        x.append(np.array(dic[i].drop(['attackType'],axis = 1)).astype(np.float32))\n",
    "       # print(f'{i}')\n",
    "        y.append(dic[i]['attackType'].values[0])\n",
    "    print(len(y))\n",
    "    o = []\n",
    "    features = len(x[1][1])\n",
    "    #for i in x:\n",
    "     #   o.append(len(i))\n",
    "   # print(min(o))\n",
    "    o = num\n",
    "    o = roundup(o)\n",
    "    print(o)\n",
    "    index = 0\n",
    "    for i in x:\n",
    "        l = len(i)\n",
    "        i = list(i)\n",
    "        if(o > l):\n",
    "            l = o-l\n",
    "            for j in range(0, l, 1):\n",
    "                i.append([0] * features)\n",
    "        elif (o<l):\n",
    "            l = l-o\n",
    "            i = i[:-l]\n",
    "        #i = [k = np.array([k]) for l in i for k in l] # Makes array elements an array \n",
    "        x[index] = np.array(i).astype(np.float32)\n",
    "        index = index + 1\n",
    "    #x = [[i] for i in x]\n",
    "    return x,y"
   ]
  },
  {
   "cell_type": "code",
   "execution_count": 32,
   "metadata": {},
   "outputs": [
    {
     "name": "stdout",
     "output_type": "stream",
     "text": [
      "183\n",
      "19800\n"
     ]
    }
   ],
   "source": [
    "X,Y = make_array(grouped_data)\n",
    "del grouped_data\n",
    "gc.collect()\n",
    "Y = np.array(Y)\n",
    "X = np.array(X)"
   ]
  },
  {
   "cell_type": "code",
   "execution_count": 33,
   "metadata": {},
   "outputs": [
    {
     "data": {
      "text/plain": [
       "{0: 110, 1: 73}"
      ]
     },
     "execution_count": 33,
     "metadata": {},
     "output_type": "execute_result"
    }
   ],
   "source": [
    "unique, counts = np.unique(Y, return_counts=True)\n",
    "dict(zip(unique, counts))"
   ]
  },
  {
   "cell_type": "code",
   "execution_count": null,
   "metadata": {
    "scrolled": true
   },
   "outputs": [],
   "source": []
  },
  {
   "cell_type": "code",
   "execution_count": 34,
   "metadata": {},
   "outputs": [],
   "source": [
    "def make_4D(arr):\n",
    "    x = []\n",
    "    for i in range(0, len(arr),1):\n",
    "        temp = []\n",
    "        for j in range(0,len(arr[i]),1):\n",
    "             temp.append([np.array([k]) for k in arr[i][j]])\n",
    "        x.append(np.array(temp).astype(np.float32))\n",
    "    return np.array(x).astype(np.float32)"
   ]
  },
  {
   "cell_type": "code",
   "execution_count": 35,
   "metadata": {},
   "outputs": [],
   "source": [
    "#X = make_4D(X)"
   ]
  },
  {
   "cell_type": "code",
   "execution_count": 36,
   "metadata": {},
   "outputs": [],
   "source": [
    "from sklearn.model_selection import train_test_split\n",
    "from sklearn.tree import DecisionTreeClassifier\n",
    "X_train, X_test, Y_train, Y_test = train_test_split(X,Y , test_size=0.2, random_state=0,  stratify=Y)"
   ]
  },
  {
   "cell_type": "code",
   "execution_count": 37,
   "metadata": {},
   "outputs": [
    {
     "data": {
      "text/plain": [
       "100"
      ]
     },
     "execution_count": 37,
     "metadata": {},
     "output_type": "execute_result"
    }
   ],
   "source": [
    "del X,Y\n",
    "gc.collect()"
   ]
  },
  {
   "cell_type": "code",
   "execution_count": 38,
   "metadata": {},
   "outputs": [
    {
     "data": {
      "text/plain": [
       "{0: 88, 1: 58}"
      ]
     },
     "execution_count": 38,
     "metadata": {},
     "output_type": "execute_result"
    }
   ],
   "source": [
    "unique, counts = np.unique(Y_train, return_counts=True)\n",
    "dict(zip(unique, counts))"
   ]
  },
  {
   "cell_type": "code",
   "execution_count": 39,
   "metadata": {},
   "outputs": [
    {
     "data": {
      "text/plain": [
       "{0: 22, 1: 15}"
      ]
     },
     "execution_count": 39,
     "metadata": {},
     "output_type": "execute_result"
    }
   ],
   "source": [
    "unique, counts = np.unique(Y_test, return_counts=True)\n",
    "dict(zip(unique, counts))"
   ]
  },
  {
   "cell_type": "code",
   "execution_count": 40,
   "metadata": {},
   "outputs": [
    {
     "name": "stdout",
     "output_type": "stream",
     "text": [
      "False\n",
      "False\n",
      "False\n",
      "False\n",
      "False\n",
      "False\n",
      "False\n",
      "False\n",
      "False\n",
      "False\n",
      "False\n",
      "False\n",
      "False\n",
      "False\n",
      "False\n",
      "False\n",
      "False\n",
      "False\n",
      "False\n",
      "False\n",
      "False\n",
      "False\n",
      "False\n",
      "False\n",
      "False\n",
      "False\n",
      "False\n",
      "False\n",
      "False\n",
      "False\n",
      "False\n",
      "False\n",
      "False\n",
      "False\n",
      "False\n",
      "False\n",
      "False\n",
      "False\n",
      "False\n",
      "False\n",
      "False\n",
      "False\n",
      "False\n",
      "False\n",
      "False\n",
      "False\n",
      "False\n",
      "False\n",
      "False\n",
      "False\n",
      "False\n",
      "False\n",
      "False\n",
      "False\n",
      "False\n",
      "False\n",
      "False\n",
      "False\n",
      "False\n",
      "False\n",
      "False\n",
      "False\n",
      "False\n",
      "False\n",
      "False\n",
      "False\n",
      "False\n",
      "False\n",
      "False\n",
      "False\n",
      "False\n",
      "False\n",
      "False\n",
      "False\n",
      "False\n",
      "False\n",
      "False\n",
      "False\n",
      "False\n",
      "False\n",
      "False\n",
      "False\n",
      "False\n",
      "False\n",
      "False\n",
      "False\n",
      "False\n",
      "False\n",
      "False\n",
      "False\n",
      "False\n",
      "False\n",
      "False\n",
      "False\n",
      "False\n",
      "False\n",
      "False\n",
      "False\n",
      "False\n",
      "False\n",
      "False\n",
      "False\n",
      "False\n",
      "False\n",
      "False\n",
      "False\n",
      "False\n",
      "False\n",
      "False\n",
      "False\n",
      "False\n",
      "False\n",
      "False\n",
      "False\n",
      "False\n",
      "False\n",
      "False\n",
      "False\n",
      "False\n",
      "False\n",
      "False\n",
      "False\n",
      "False\n",
      "False\n",
      "False\n",
      "False\n",
      "False\n",
      "False\n",
      "False\n",
      "False\n",
      "False\n",
      "False\n",
      "False\n",
      "False\n",
      "False\n",
      "False\n",
      "False\n",
      "False\n",
      "False\n",
      "False\n",
      "False\n",
      "False\n",
      "False\n",
      "False\n",
      "False\n",
      "False\n"
     ]
    }
   ],
   "source": [
    "for i in X_train:\n",
    "    print(f'{np.isnan(i).any()}')"
   ]
  },
  {
   "cell_type": "code",
   "execution_count": 41,
   "metadata": {},
   "outputs": [],
   "source": [
    "import tensorflow as tf\n",
    "from tensorflow import keras\n",
    "from tensorflow.keras.layers import Embedding, Dense, SimpleRNN, Dropout, Masking, Flatten, Input, Bidirectional, BatchNormalization\n",
    "from tensorflow.keras.losses import BinaryCrossentropy\n",
    "from tensorflow.keras.models import Sequential\n",
    "from tensorflow.keras.optimizers import Adam\n",
    "from tensorflow.keras.preprocessing.sequence import pad_sequences\n",
    "from keras.layers import Dense, Conv2D, MaxPooling1D, Dropout, Flatten, Conv1D, MaxPooling2D"
   ]
  },
  {
   "cell_type": "code",
   "execution_count": 42,
   "metadata": {},
   "outputs": [
    {
     "name": "stdout",
     "output_type": "stream",
     "text": [
      "samples: 146 \n",
      " X:19800 \n",
      " Y:6 \n",
      " \n"
     ]
    }
   ],
   "source": [
    "nsamples,nx, ny = X_train.shape\n",
    "print(f\"samples: {nsamples} \\n X:{nx} \\n Y:{ny} \\n \" )"
   ]
  },
  {
   "cell_type": "code",
   "execution_count": 43,
   "metadata": {},
   "outputs": [
    {
     "data": {
      "text/plain": [
       "(19800, 6)"
      ]
     },
     "execution_count": 43,
     "metadata": {},
     "output_type": "execute_result"
    }
   ],
   "source": [
    "X_train.shape[1:]"
   ]
  },
  {
   "cell_type": "code",
   "execution_count": 44,
   "metadata": {},
   "outputs": [],
   "source": [
    "from keras.callbacks import EarlyStopping\n",
    "from keras.callbacks import ModelCheckpoint, LambdaCallback\n",
    "wie_by_epoch = []\n",
    "model_check = ModelCheckpoint(\"/models/Testpoints/best_model.hdf5\", monitor='loss', verbose=0, save_best_only=True, mode='min', save_freq=1)\n",
    "print_weights = LambdaCallback(on_epoch_end=lambda batch, logs:wie_by_epoch.append(model.get_weights()))\n",
    "callback = tf.keras.callbacks.EarlyStopping(monitor='loss', patience=10, verbose= 2)"
   ]
  },
  {
   "cell_type": "code",
   "execution_count": 45,
   "metadata": {
    "scrolled": true
   },
   "outputs": [],
   "source": [
    "model = Sequential()\n",
    "model.add(Conv1D(256, 2, activation='relu', input_shape=X_train.shape[1:]))\n",
    "model.add(MaxPooling1D(pool_size= 2))\n",
    "model.add(Conv1D(128, 2, activation='relu'))\n",
    "model.add(MaxPooling1D(pool_size= 2))\n",
    "#model.add(Conv1D(256, 2, activation='relu'))\n",
    "#model.add(MaxPooling1D(pool_size= 2))\n",
    "#model.add(BatchNormalization())\n",
    "model.add(SimpleRNN(5, activation='relu', return_sequences = True, stateful = False, dropout = 0.2))\n",
    "model.add(Flatten())\n",
    "model.add(Dense(5, activation='softmax' ))\n",
    "model.compile(optimizer= 'rmsprop', loss='sparse_categorical_crossentropy',  metrics=[keras.metrics.SparseCategoricalAccuracy()])"
   ]
  },
  {
   "cell_type": "code",
   "execution_count": 46,
   "metadata": {
    "scrolled": true
   },
   "outputs": [
    {
     "data": {
      "text/plain": [
       "(None, 5)"
      ]
     },
     "execution_count": 46,
     "metadata": {},
     "output_type": "execute_result"
    }
   ],
   "source": [
    "model.build(input_shape = (nx,ny))\n",
    "model.output_shape"
   ]
  },
  {
   "cell_type": "code",
   "execution_count": 47,
   "metadata": {},
   "outputs": [
    {
     "data": {
      "text/plain": [
       "326"
      ]
     },
     "execution_count": 47,
     "metadata": {},
     "output_type": "execute_result"
    }
   ],
   "source": [
    "#del model, wie_by_epoch\n",
    "\n",
    "gc.collect()"
   ]
  },
  {
   "cell_type": "code",
   "execution_count": 48,
   "metadata": {},
   "outputs": [
    {
     "name": "stdout",
     "output_type": "stream",
     "text": [
      "Model: \"sequential\"\n",
      "_________________________________________________________________\n",
      "Layer (type)                 Output Shape              Param #   \n",
      "=================================================================\n",
      "conv1d (Conv1D)              (None, 19799, 256)        3328      \n",
      "_________________________________________________________________\n",
      "max_pooling1d (MaxPooling1D) (None, 9899, 256)         0         \n",
      "_________________________________________________________________\n",
      "conv1d_1 (Conv1D)            (None, 9898, 128)         65664     \n",
      "_________________________________________________________________\n",
      "max_pooling1d_1 (MaxPooling1 (None, 4949, 128)         0         \n",
      "_________________________________________________________________\n",
      "simple_rnn (SimpleRNN)       (None, 4949, 5)           670       \n",
      "_________________________________________________________________\n",
      "flatten (Flatten)            (None, 24745)             0         \n",
      "_________________________________________________________________\n",
      "dense (Dense)                (None, 5)                 123730    \n",
      "=================================================================\n",
      "Total params: 193,392\n",
      "Trainable params: 193,392\n",
      "Non-trainable params: 0\n",
      "_________________________________________________________________\n"
     ]
    }
   ],
   "source": [
    "#model.build(input_shape = (nx,ny))\n",
    "model.summary()\n"
   ]
  },
  {
   "cell_type": "code",
   "execution_count": 49,
   "metadata": {
    "scrolled": true
   },
   "outputs": [
    {
     "data": {
      "text/plain": [
       "[array([[[-0.08749455, -0.05068241,  0.03048293, ..., -0.04436833,\n",
       "           0.04895896, -0.07757729],\n",
       "         [ 0.02814219,  0.01967046,  0.04153068, ..., -0.04657523,\n",
       "           0.0012674 ,  0.0977852 ],\n",
       "         [ 0.04644629,  0.06366562,  0.08239672, ..., -0.0724272 ,\n",
       "           0.01536245, -0.06936493],\n",
       "         [-0.01878363,  0.08809396, -0.08755928, ..., -0.0767948 ,\n",
       "          -0.06301057,  0.01062109],\n",
       "         [ 0.07292596, -0.03273819,  0.1016864 , ...,  0.10385811,\n",
       "           0.0719853 , -0.10189371],\n",
       "         [ 0.08399171, -0.02807504, -0.08422073, ...,  0.03912897,\n",
       "           0.02444742,  0.04436461]],\n",
       " \n",
       "        [[ 0.04211097, -0.00331397,  0.05614465, ..., -0.013404  ,\n",
       "           0.02707649, -0.00458041],\n",
       "         [-0.06356835,  0.05589985,  0.08787159, ...,  0.00883681,\n",
       "          -0.10654794,  0.1006474 ],\n",
       "         [-0.04851942, -0.0484423 ,  0.01178767, ...,  0.00831906,\n",
       "          -0.09982667, -0.03139091],\n",
       "         [ 0.01724625,  0.09921121,  0.06643007, ...,  0.02741509,\n",
       "           0.05127838,  0.02390146],\n",
       "         [ 0.02675021, -0.06035084, -0.09096277, ..., -0.10471848,\n",
       "          -0.01769301,  0.03901524],\n",
       "         [-0.09569705, -0.018645  ,  0.02065105, ...,  0.07407198,\n",
       "          -0.07383175, -0.0686923 ]]], dtype=float32),\n",
       " array([0., 0., 0., 0., 0., 0., 0., 0., 0., 0., 0., 0., 0., 0., 0., 0., 0.,\n",
       "        0., 0., 0., 0., 0., 0., 0., 0., 0., 0., 0., 0., 0., 0., 0., 0., 0.,\n",
       "        0., 0., 0., 0., 0., 0., 0., 0., 0., 0., 0., 0., 0., 0., 0., 0., 0.,\n",
       "        0., 0., 0., 0., 0., 0., 0., 0., 0., 0., 0., 0., 0., 0., 0., 0., 0.,\n",
       "        0., 0., 0., 0., 0., 0., 0., 0., 0., 0., 0., 0., 0., 0., 0., 0., 0.,\n",
       "        0., 0., 0., 0., 0., 0., 0., 0., 0., 0., 0., 0., 0., 0., 0., 0., 0.,\n",
       "        0., 0., 0., 0., 0., 0., 0., 0., 0., 0., 0., 0., 0., 0., 0., 0., 0.,\n",
       "        0., 0., 0., 0., 0., 0., 0., 0., 0., 0., 0., 0., 0., 0., 0., 0., 0.,\n",
       "        0., 0., 0., 0., 0., 0., 0., 0., 0., 0., 0., 0., 0., 0., 0., 0., 0.,\n",
       "        0., 0., 0., 0., 0., 0., 0., 0., 0., 0., 0., 0., 0., 0., 0., 0., 0.,\n",
       "        0., 0., 0., 0., 0., 0., 0., 0., 0., 0., 0., 0., 0., 0., 0., 0., 0.,\n",
       "        0., 0., 0., 0., 0., 0., 0., 0., 0., 0., 0., 0., 0., 0., 0., 0., 0.,\n",
       "        0., 0., 0., 0., 0., 0., 0., 0., 0., 0., 0., 0., 0., 0., 0., 0., 0.,\n",
       "        0., 0., 0., 0., 0., 0., 0., 0., 0., 0., 0., 0., 0., 0., 0., 0., 0.,\n",
       "        0., 0., 0., 0., 0., 0., 0., 0., 0., 0., 0., 0., 0., 0., 0., 0., 0.,\n",
       "        0.], dtype=float32),\n",
       " array([[[-0.05729514, -0.07538389, -0.01227494, ...,  0.03763079,\n",
       "          -0.02078289, -0.02843083],\n",
       "         [-0.00635383, -0.05195056,  0.0188164 , ...,  0.01160277,\n",
       "          -0.02573777,  0.0862445 ],\n",
       "         [-0.06850456, -0.04623726, -0.04083284, ...,  0.06982449,\n",
       "          -0.00557438,  0.07497495],\n",
       "         ...,\n",
       "         [ 0.07510438, -0.06381745, -0.0378686 , ...,  0.04407296,\n",
       "          -0.037812  , -0.06531276],\n",
       "         [-0.05229539,  0.04577991, -0.07626969, ...,  0.07379096,\n",
       "          -0.06683213, -0.01943619],\n",
       "         [-0.0473488 , -0.0029605 , -0.05531041, ...,  0.02646409,\n",
       "           0.0077205 , -0.04579398]],\n",
       " \n",
       "        [[ 0.03416225, -0.07024234,  0.07734791, ..., -0.00928411,\n",
       "           0.01407383,  0.04539884],\n",
       "         [ 0.06258387,  0.0291244 , -0.08308857, ...,  0.06343132,\n",
       "          -0.05426879, -0.05195769],\n",
       "         [-0.03099778, -0.07041242,  0.06173886, ..., -0.02472623,\n",
       "          -0.08569845, -0.0263116 ],\n",
       "         ...,\n",
       "         [-0.01683235,  0.07337547, -0.00857903, ...,  0.03475566,\n",
       "           0.07191565,  0.04145639],\n",
       "         [-0.01278543,  0.070333  , -0.03743388, ...,  0.04732008,\n",
       "          -0.03496673, -0.07347264],\n",
       "         [-0.07050873, -0.06990495,  0.00120863, ...,  0.08299638,\n",
       "          -0.05891312, -0.07246283]]], dtype=float32),\n",
       " array([0., 0., 0., 0., 0., 0., 0., 0., 0., 0., 0., 0., 0., 0., 0., 0., 0.,\n",
       "        0., 0., 0., 0., 0., 0., 0., 0., 0., 0., 0., 0., 0., 0., 0., 0., 0.,\n",
       "        0., 0., 0., 0., 0., 0., 0., 0., 0., 0., 0., 0., 0., 0., 0., 0., 0.,\n",
       "        0., 0., 0., 0., 0., 0., 0., 0., 0., 0., 0., 0., 0., 0., 0., 0., 0.,\n",
       "        0., 0., 0., 0., 0., 0., 0., 0., 0., 0., 0., 0., 0., 0., 0., 0., 0.,\n",
       "        0., 0., 0., 0., 0., 0., 0., 0., 0., 0., 0., 0., 0., 0., 0., 0., 0.,\n",
       "        0., 0., 0., 0., 0., 0., 0., 0., 0., 0., 0., 0., 0., 0., 0., 0., 0.,\n",
       "        0., 0., 0., 0., 0., 0., 0., 0., 0.], dtype=float32),\n",
       " array([[-0.09689195,  0.13236111,  0.08420795, -0.18429229, -0.15203261],\n",
       "        [-0.17363662, -0.17497577, -0.04507387, -0.1931263 ,  0.04320738],\n",
       "        [ 0.17715424,  0.01248017,  0.1412707 , -0.1213581 ,  0.06509522],\n",
       "        [ 0.06924331, -0.20805976, -0.18560603, -0.20261975,  0.11452845],\n",
       "        [-0.0063343 , -0.12888116, -0.05344114,  0.04226321, -0.06295054],\n",
       "        [ 0.19231161,  0.15517086, -0.06505349,  0.1849665 , -0.08646244],\n",
       "        [ 0.10196891, -0.06332213, -0.16416878, -0.19525515,  0.06574985],\n",
       "        [ 0.18847081,  0.15135393,  0.00471829, -0.06288309, -0.03362648],\n",
       "        [ 0.15921453, -0.1215007 , -0.06950958,  0.11201444, -0.06270094],\n",
       "        [-0.10885302, -0.01406595,  0.00643355, -0.1860945 ,  0.17324647],\n",
       "        [ 0.1519211 , -0.20446703, -0.14665474,  0.15500805,  0.07275313],\n",
       "        [-0.09981593,  0.06036401,  0.06147537, -0.1115787 ,  0.10822454],\n",
       "        [ 0.00039631, -0.19861098, -0.18395847, -0.10964725,  0.11533964],\n",
       "        [-0.09031387,  0.05370736,  0.01267047,  0.18484989, -0.08072381],\n",
       "        [-0.00117657,  0.21238935,  0.12490562,  0.19506642, -0.10490926],\n",
       "        [-0.0448872 , -0.13164593, -0.15395555,  0.07897538, -0.06130303],\n",
       "        [ 0.16464251, -0.12128367, -0.14928   , -0.1640519 ,  0.21220723],\n",
       "        [ 0.18713433, -0.03986801,  0.06048378,  0.0034329 ,  0.18932894],\n",
       "        [-0.07352449, -0.12847716, -0.06216319,  0.16917136, -0.09859846],\n",
       "        [ 0.15785486, -0.16444401,  0.09639701, -0.14694262,  0.05743933],\n",
       "        [ 0.1597197 , -0.15581407,  0.06677073,  0.01220322,  0.12600428],\n",
       "        [-0.02376428, -0.2096185 , -0.13429692,  0.13434729, -0.03498161],\n",
       "        [-0.05355756,  0.03237489,  0.18438223,  0.16559869,  0.10504648],\n",
       "        [-0.10989407,  0.10950738, -0.17465122,  0.15376666,  0.15942141],\n",
       "        [-0.1762722 ,  0.13889661, -0.11776796, -0.06681226,  0.06112716],\n",
       "        [-0.0417715 , -0.07754086,  0.17718452, -0.17287809,  0.17355165],\n",
       "        [-0.06757692,  0.04079911,  0.00334945,  0.2006248 ,  0.17034057],\n",
       "        [ 0.05604142, -0.1703659 ,  0.10785952,  0.17711085,  0.08749777],\n",
       "        [ 0.0589796 ,  0.14000633,  0.14720428, -0.10874784,  0.06432182],\n",
       "        [ 0.11973238,  0.20262015,  0.15816602,  0.12710994,  0.00164279],\n",
       "        [-0.16419941,  0.11381271, -0.05818966,  0.17865828,  0.11009738],\n",
       "        [-0.21134186, -0.1262522 ,  0.03908598, -0.11011298, -0.0424249 ],\n",
       "        [ 0.00084087,  0.08720571,  0.1402778 ,  0.09705046, -0.18911423],\n",
       "        [-0.1939773 ,  0.04852116,  0.09937125, -0.1597754 , -0.16924793],\n",
       "        [-0.02050446,  0.1806984 , -0.01840459, -0.05713767, -0.18647794],\n",
       "        [ 0.06776038, -0.13354562,  0.03344783,  0.11829343, -0.01715475],\n",
       "        [-0.15079948, -0.01616162,  0.11899182, -0.03482725,  0.07834062],\n",
       "        [ 0.16326258,  0.19585583, -0.04786441, -0.21179098,  0.21047816],\n",
       "        [-0.06749341, -0.02041236, -0.03948377,  0.14474055, -0.07824202],\n",
       "        [ 0.2072123 ,  0.13259235,  0.12473217,  0.09814274, -0.00192709],\n",
       "        [-0.1465292 ,  0.02504972, -0.1185074 ,  0.14785129,  0.09128237],\n",
       "        [-0.03884135, -0.15904963,  0.16437179,  0.1221531 , -0.07757489],\n",
       "        [-0.17132694, -0.1312359 , -0.09598161, -0.00968385, -0.12821555],\n",
       "        [-0.08401422,  0.15735403, -0.0749871 , -0.10588448, -0.09697384],\n",
       "        [-0.14006273, -0.0483077 , -0.01828432, -0.10637482, -0.18593746],\n",
       "        [-0.09119748, -0.15809005, -0.15985191, -0.10977223, -0.12357738],\n",
       "        [-0.09384609,  0.04679459,  0.07646433, -0.10382335,  0.01800378],\n",
       "        [ 0.04300934,  0.02051641, -0.07259175, -0.04251662, -0.04736151],\n",
       "        [ 0.14534539, -0.09584032, -0.04330224, -0.02153741,  0.1543746 ],\n",
       "        [ 0.07271677,  0.19713083,  0.08982429, -0.13412692, -0.19313258],\n",
       "        [-0.20570704,  0.06483802,  0.00057602, -0.08497146,  0.2105188 ],\n",
       "        [ 0.04020792,  0.20740366,  0.00263934,  0.10303736,  0.1808644 ],\n",
       "        [ 0.01650298,  0.07364151,  0.08306709,  0.06674522, -0.00510255],\n",
       "        [-0.0636363 , -0.20751604,  0.00869203, -0.1205103 ,  0.1410349 ],\n",
       "        [-0.16025496,  0.01888774,  0.0176454 , -0.12675704,  0.01281935],\n",
       "        [ 0.09333816, -0.08609368, -0.16224499,  0.1576215 ,  0.02905145],\n",
       "        [ 0.11400893,  0.02288194, -0.14802605, -0.11671319, -0.18648078],\n",
       "        [-0.03569597, -0.00576116, -0.06852281, -0.20307682,  0.14374691],\n",
       "        [-0.00290084,  0.08217868, -0.15144631, -0.11230866, -0.08751103],\n",
       "        [ 0.11718464,  0.06237158, -0.0248581 ,  0.19332111,  0.06567013],\n",
       "        [-0.15729365, -0.16758062, -0.14070976,  0.17423385,  0.04244679],\n",
       "        [-0.20766395,  0.17114413, -0.18024299, -0.13940872,  0.13386172],\n",
       "        [ 0.21086589, -0.09007445, -0.0997142 , -0.04285105, -0.14780512],\n",
       "        [ 0.11113822,  0.17155176, -0.15769032,  0.10805225,  0.00473632],\n",
       "        [ 0.1927656 , -0.20062071, -0.09618893, -0.00044507, -0.0776398 ],\n",
       "        [-0.16641247, -0.05869687, -0.16399701, -0.18284065,  0.20047143],\n",
       "        [-0.09192715, -0.09600744, -0.1706752 ,  0.07197285, -0.01292306],\n",
       "        [-0.06350666,  0.18520963, -0.07711659,  0.01207881,  0.19026756],\n",
       "        [ 0.07885849, -0.03667387, -0.13303928, -0.04725769,  0.17030331],\n",
       "        [-0.04764965, -0.01666117,  0.11439437,  0.10216004, -0.06278986],\n",
       "        [-0.00909451,  0.19600105,  0.18509853,  0.02023304, -0.13218808],\n",
       "        [ 0.06126875,  0.18507645,  0.2066342 ,  0.14661348, -0.01675977],\n",
       "        [-0.03609927,  0.07953635, -0.0936456 , -0.02155118, -0.10521568],\n",
       "        [ 0.0100361 , -0.04626977,  0.15176052,  0.158611  , -0.04471985],\n",
       "        [ 0.15702263,  0.13026589, -0.08712009, -0.0055072 , -0.09047192],\n",
       "        [ 0.08471233,  0.18494928, -0.14535695, -0.00941814,  0.04552355],\n",
       "        [ 0.18490624, -0.15045027, -0.14462182,  0.12779176,  0.15271229],\n",
       "        [ 0.15065229, -0.20012778,  0.19007131, -0.14258844, -0.17686422],\n",
       "        [-0.14657408,  0.08800146, -0.0161123 , -0.11101518, -0.11964927],\n",
       "        [ 0.06981528,  0.05399626,  0.18989772,  0.05380756,  0.16017175],\n",
       "        [ 0.12637791,  0.12385839, -0.1338749 ,  0.14542013,  0.09120125],\n",
       "        [ 0.13512239,  0.01901536, -0.1438733 , -0.14844652,  0.12453532],\n",
       "        [ 0.02620065, -0.10760835, -0.20319593,  0.06409237, -0.0689096 ],\n",
       "        [ 0.1360183 , -0.02115513, -0.02804764, -0.20729895,  0.18280724],\n",
       "        [ 0.1411891 ,  0.18332866,  0.11606398,  0.00558564, -0.19755945],\n",
       "        [ 0.03124957, -0.0802632 ,  0.04064903,  0.17023247, -0.20943968],\n",
       "        [-0.20306006, -0.01518513, -0.06992593, -0.15974344, -0.14400259],\n",
       "        [-0.17617725, -0.20016211, -0.2090051 , -0.19724138,  0.07402176],\n",
       "        [ 0.06972125, -0.12033705, -0.12333442, -0.19769916, -0.13300759],\n",
       "        [ 0.05914357, -0.04275882, -0.06120566, -0.20764638,  0.16152662],\n",
       "        [ 0.11318463, -0.02990626,  0.12132621, -0.01779069,  0.01946756],\n",
       "        [ 0.03955609, -0.03675991, -0.17018977,  0.00473298,  0.15366301],\n",
       "        [ 0.15478888, -0.09454907, -0.12997386,  0.09549442, -0.20940393],\n",
       "        [ 0.06497329, -0.01178494,  0.14088699,  0.0441111 , -0.14447075],\n",
       "        [ 0.12490317,  0.10659844,  0.04239953,  0.01277429,  0.11294171],\n",
       "        [ 0.18930757, -0.16567253,  0.18151227,  0.17211002,  0.16655183],\n",
       "        [-0.11496805, -0.00141786, -0.15737812, -0.1272841 ,  0.05375805],\n",
       "        [-0.12473632, -0.1382479 , -0.13655457, -0.11101685,  0.17712289],\n",
       "        [-0.11471971, -0.09458259, -0.09022348, -0.1987722 , -0.13204706],\n",
       "        [-0.12426456,  0.07071015, -0.20334882,  0.20331183,  0.17561156],\n",
       "        [ 0.13245699,  0.12739033, -0.18114027,  0.02252731,  0.03972557],\n",
       "        [-0.16735867, -0.03588395, -0.07429132,  0.15417278,  0.21007004],\n",
       "        [-0.09994426,  0.00659794,  0.192961  ,  0.01516609,  0.14373222],\n",
       "        [ 0.19674182, -0.11584689, -0.16635276,  0.1044181 ,  0.16938841],\n",
       "        [-0.02430071, -0.13595232, -0.02787921,  0.03535162, -0.0349064 ],\n",
       "        [ 0.18053716, -0.03311574, -0.1327321 , -0.06791985, -0.16918007],\n",
       "        [ 0.05021307,  0.10640642,  0.11977348, -0.20055811,  0.04165828],\n",
       "        [ 0.200762  ,  0.07501855,  0.19085577,  0.04028639,  0.10666624],\n",
       "        [ 0.13499656,  0.09629425,  0.06317255,  0.02312273, -0.09214571],\n",
       "        [ 0.11884996,  0.13669541,  0.14320451, -0.03163251,  0.06143981],\n",
       "        [ 0.00629738,  0.155018  ,  0.11810699,  0.20718   , -0.15313528],\n",
       "        [-0.17586353, -0.02875243, -0.05049868, -0.11413386, -0.14648707],\n",
       "        [-0.11826777, -0.01411344,  0.08097255,  0.12187958, -0.20089062],\n",
       "        [-0.08047162, -0.09836506, -0.13837866,  0.06052175, -0.18860683],\n",
       "        [ 0.03591383,  0.12544128, -0.1653138 ,  0.18124282,  0.10598975],\n",
       "        [-0.10862904, -0.04668228, -0.08242515, -0.00131704, -0.14651239],\n",
       "        [ 0.21211228, -0.1386737 , -0.0667679 , -0.01402877,  0.13071093],\n",
       "        [ 0.02715814,  0.19594115,  0.1696685 ,  0.11527163, -0.02242   ],\n",
       "        [-0.01067634, -0.16077451,  0.17416376,  0.04045707,  0.08048353],\n",
       "        [ 0.13943368, -0.15227562, -0.20176734, -0.00311433, -0.08792627],\n",
       "        [-0.08521341,  0.19076777,  0.10921237,  0.15751025, -0.01146916],\n",
       "        [-0.20670433,  0.07502899, -0.13704604,  0.1599096 ,  0.09881145],\n",
       "        [ 0.15968591,  0.10732567,  0.05012962,  0.02312957, -0.0309587 ],\n",
       "        [-0.15137364, -0.11274097,  0.11669153, -0.07986172,  0.06631735],\n",
       "        [-0.14084998, -0.03038961, -0.10397051,  0.11189872, -0.06070943],\n",
       "        [-0.1554484 ,  0.19255716, -0.02542536,  0.20403382,  0.15963063],\n",
       "        [ 0.15850687, -0.2084823 , -0.05491368, -0.1386466 ,  0.10864151],\n",
       "        [-0.05559297,  0.18193108, -0.1918712 ,  0.1400742 , -0.15428197]],\n",
       "       dtype=float32),\n",
       " array([[ 0.9085164 ,  0.0097556 , -0.2737612 , -0.14962837, -0.27779293],\n",
       "        [-0.14024468, -0.4998116 , -0.72850573,  0.44698772,  0.00095074],\n",
       "        [-0.05757431, -0.6610663 ,  0.4317024 , -0.0523655 , -0.6087425 ],\n",
       "        [-0.3884185 ,  0.26669097, -0.44746774, -0.5518369 , -0.5227387 ],\n",
       "        [ 0.0273062 , -0.49189457, -0.08797514, -0.6859646 ,  0.5282112 ]],\n",
       "       dtype=float32),\n",
       " array([0., 0., 0., 0., 0.], dtype=float32),\n",
       " array([[-0.00623866,  0.01342516, -0.00881892,  0.00530864,  0.0073651 ],\n",
       "        [ 0.00299426, -0.01204081, -0.0092541 , -0.00673036, -0.00425752],\n",
       "        [ 0.01515282, -0.00656717, -0.00678963,  0.00390374,  0.00022883],\n",
       "        ...,\n",
       "        [ 0.00445742, -0.01172103, -0.00854189, -0.01132243, -0.0137602 ],\n",
       "        [ 0.00731785,  0.01423045,  0.00388439,  0.00479938, -0.00118915],\n",
       "        [-0.00770407,  0.00799253, -0.00398861,  0.01153533, -0.01172729]],\n",
       "       dtype=float32),\n",
       " array([0., 0., 0., 0., 0.], dtype=float32)]"
      ]
     },
     "execution_count": 49,
     "metadata": {},
     "output_type": "execute_result"
    }
   ],
   "source": [
    "wights = model.get_weights()\n",
    "wights"
   ]
  },
  {
   "cell_type": "code",
   "execution_count": 50,
   "metadata": {
    "scrolled": true
   },
   "outputs": [
    {
     "data": {
      "image/png": "[encoded data removed]",
      "text/plain": [
       "<IPython.core.display.Image object>"
      ]
     },
     "execution_count": 50,
     "metadata": {},
     "output_type": "execute_result"
    }
   ],
   "source": [
    "from tensorflow.keras.utils import plot_model\n",
    "plot_model(model, show_shapes=True)"
   ]
  },
  {
   "cell_type": "code",
   "execution_count": 51,
   "metadata": {
    "scrolled": true
   },
   "outputs": [
    {
     "name": "stdout",
     "output_type": "stream",
     "text": [
      "Epoch 1/200\n",
      "5/5 - 31s - loss: 1.4599 - sparse_categorical_accuracy: 0.4247\n",
      "Epoch 2/200\n",
      "5/5 - 30s - loss: 0.6482 - sparse_categorical_accuracy: 0.6027\n",
      "Epoch 3/200\n",
      "5/5 - 31s - loss: 0.3023 - sparse_categorical_accuracy: 0.8288\n",
      "Epoch 4/200\n",
      "5/5 - 31s - loss: 0.1285 - sparse_categorical_accuracy: 0.9795\n",
      "Epoch 5/200\n",
      "5/5 - 31s - loss: 0.0530 - sparse_categorical_accuracy: 0.9932\n",
      "Epoch 6/200\n",
      "5/5 - 31s - loss: 0.0382 - sparse_categorical_accuracy: 0.9932\n",
      "Epoch 7/200\n",
      "5/5 - 31s - loss: 0.0364 - sparse_categorical_accuracy: 0.9932\n",
      "Epoch 8/200\n",
      "5/5 - 34s - loss: 0.0363 - sparse_categorical_accuracy: 0.9932\n",
      "Epoch 9/200\n",
      "5/5 - 32s - loss: 0.0356 - sparse_categorical_accuracy: 0.9932\n",
      "Epoch 10/200\n",
      "5/5 - 33s - loss: 0.0367 - sparse_categorical_accuracy: 0.9932\n",
      "Epoch 11/200\n",
      "5/5 - 35s - loss: 0.0357 - sparse_categorical_accuracy: 0.9932\n",
      "Epoch 12/200\n",
      "5/5 - 35s - loss: 0.0388 - sparse_categorical_accuracy: 0.9932\n",
      "Epoch 13/200\n",
      "5/5 - 34s - loss: 0.0384 - sparse_categorical_accuracy: 0.9932\n",
      "Epoch 14/200\n",
      "5/5 - 34s - loss: 0.0376 - sparse_categorical_accuracy: 0.9932\n",
      "Epoch 15/200\n",
      "5/5 - 35s - loss: 0.0341 - sparse_categorical_accuracy: 0.9932\n",
      "Epoch 16/200\n",
      "5/5 - 34s - loss: 0.0294 - sparse_categorical_accuracy: 0.9932\n",
      "Epoch 17/200\n",
      "5/5 - 35s - loss: 0.0783 - sparse_categorical_accuracy: 0.9863\n",
      "Epoch 18/200\n",
      "5/5 - 34s - loss: 0.0245 - sparse_categorical_accuracy: 0.9932\n",
      "Epoch 19/200\n",
      "5/5 - 36s - loss: 0.0262 - sparse_categorical_accuracy: 0.9932\n",
      "Epoch 20/200\n",
      "5/5 - 35s - loss: 0.0250 - sparse_categorical_accuracy: 0.9932\n",
      "Epoch 21/200\n",
      "5/5 - 35s - loss: 0.0215 - sparse_categorical_accuracy: 0.9932\n",
      "Epoch 22/200\n",
      "5/5 - 34s - loss: 0.1953 - sparse_categorical_accuracy: 0.9521\n",
      "Epoch 23/200\n",
      "5/5 - 34s - loss: 0.0203 - sparse_categorical_accuracy: 0.9932\n",
      "Epoch 24/200\n",
      "5/5 - 35s - loss: 0.0221 - sparse_categorical_accuracy: 0.9932\n",
      "Epoch 25/200\n",
      "5/5 - 35s - loss: 0.0191 - sparse_categorical_accuracy: 0.9932\n",
      "Epoch 26/200\n",
      "5/5 - 38s - loss: 0.0193 - sparse_categorical_accuracy: 0.9932\n",
      "Epoch 27/200\n",
      "5/5 - 33s - loss: 0.0173 - sparse_categorical_accuracy: 0.9932\n",
      "Epoch 28/200\n",
      "5/5 - 33s - loss: 0.0186 - sparse_categorical_accuracy: 0.9932\n",
      "Epoch 29/200\n",
      "5/5 - 32s - loss: 0.0172 - sparse_categorical_accuracy: 0.9932\n",
      "Epoch 30/200\n",
      "5/5 - 33s - loss: 0.0248 - sparse_categorical_accuracy: 0.9932\n",
      "Epoch 31/200\n",
      "5/5 - 33s - loss: 0.0592 - sparse_categorical_accuracy: 0.9863\n",
      "Epoch 32/200\n",
      "5/5 - 33s - loss: 0.0206 - sparse_categorical_accuracy: 0.9932\n",
      "Epoch 33/200\n",
      "5/5 - 32s - loss: 0.0157 - sparse_categorical_accuracy: 0.9932\n",
      "Epoch 34/200\n",
      "5/5 - 32s - loss: 0.0153 - sparse_categorical_accuracy: 0.9932\n",
      "Epoch 35/200\n",
      "5/5 - 33s - loss: 0.0143 - sparse_categorical_accuracy: 0.9932\n",
      "Epoch 36/200\n",
      "5/5 - 33s - loss: 0.0132 - sparse_categorical_accuracy: 0.9932\n",
      "Epoch 37/200\n",
      "5/5 - 31s - loss: 0.0194 - sparse_categorical_accuracy: 0.9932\n",
      "Epoch 38/200\n",
      "5/5 - 30s - loss: 0.0140 - sparse_categorical_accuracy: 0.9932\n",
      "Epoch 39/200\n",
      "5/5 - 30s - loss: 0.0131 - sparse_categorical_accuracy: 0.9932\n",
      "Epoch 40/200\n",
      "5/5 - 29s - loss: 0.0107 - sparse_categorical_accuracy: 1.0000\n",
      "Epoch 41/200\n",
      "5/5 - 29s - loss: 0.0107 - sparse_categorical_accuracy: 1.0000\n",
      "Epoch 42/200\n",
      "5/5 - 29s - loss: 0.0148 - sparse_categorical_accuracy: 0.9932\n",
      "Epoch 43/200\n",
      "5/5 - 29s - loss: 0.0098 - sparse_categorical_accuracy: 1.0000\n",
      "Epoch 44/200\n",
      "5/5 - 29s - loss: 0.1180 - sparse_categorical_accuracy: 0.9726\n",
      "Epoch 45/200\n",
      "5/5 - 29s - loss: 0.0105 - sparse_categorical_accuracy: 0.9932\n",
      "Epoch 46/200\n",
      "5/5 - 29s - loss: 0.0079 - sparse_categorical_accuracy: 1.0000\n",
      "Epoch 47/200\n",
      "5/5 - 29s - loss: 0.0099 - sparse_categorical_accuracy: 0.9932\n",
      "Epoch 48/200\n",
      "5/5 - 29s - loss: 0.0099 - sparse_categorical_accuracy: 0.9932\n",
      "Epoch 49/200\n",
      "5/5 - 30s - loss: 0.0094 - sparse_categorical_accuracy: 0.9932\n",
      "Epoch 50/200\n",
      "5/5 - 28s - loss: 0.0099 - sparse_categorical_accuracy: 0.9932\n",
      "Epoch 51/200\n",
      "5/5 - 31s - loss: 0.0071 - sparse_categorical_accuracy: 1.0000\n",
      "Epoch 52/200\n",
      "5/5 - 30s - loss: 0.0143 - sparse_categorical_accuracy: 0.9863\n",
      "Epoch 53/200\n",
      "5/5 - 31s - loss: 0.0100 - sparse_categorical_accuracy: 0.9932\n",
      "Epoch 54/200\n",
      "5/5 - 31s - loss: 0.0064 - sparse_categorical_accuracy: 1.0000\n",
      "Epoch 55/200\n",
      "5/5 - 32s - loss: 0.0062 - sparse_categorical_accuracy: 1.0000\n",
      "Epoch 56/200\n",
      "5/5 - 31s - loss: 0.0059 - sparse_categorical_accuracy: 1.0000\n",
      "Epoch 57/200\n",
      "5/5 - 32s - loss: 0.0058 - sparse_categorical_accuracy: 1.0000\n",
      "Epoch 58/200\n",
      "5/5 - 31s - loss: 0.0066 - sparse_categorical_accuracy: 1.0000\n",
      "Epoch 59/200\n",
      "5/5 - 33s - loss: 0.0075 - sparse_categorical_accuracy: 1.0000\n",
      "Epoch 60/200\n",
      "5/5 - 36s - loss: 0.0052 - sparse_categorical_accuracy: 1.0000\n",
      "Epoch 61/200\n",
      "5/5 - 36s - loss: 0.0054 - sparse_categorical_accuracy: 1.0000\n",
      "Epoch 62/200\n",
      "5/5 - 39s - loss: 0.0051 - sparse_categorical_accuracy: 1.0000\n",
      "Epoch 63/200\n",
      "5/5 - 35s - loss: 0.0055 - sparse_categorical_accuracy: 1.0000\n",
      "Epoch 64/200\n",
      "5/5 - 35s - loss: 0.0039 - sparse_categorical_accuracy: 1.0000\n",
      "Epoch 65/200\n",
      "5/5 - 35s - loss: 0.0233 - sparse_categorical_accuracy: 0.9932\n",
      "Epoch 66/200\n",
      "5/5 - 36s - loss: 0.0056 - sparse_categorical_accuracy: 1.0000\n",
      "Epoch 67/200\n",
      "5/5 - 38s - loss: 0.0015 - sparse_categorical_accuracy: 1.0000\n",
      "Epoch 68/200\n",
      "5/5 - 35s - loss: 0.0027 - sparse_categorical_accuracy: 1.0000\n",
      "Epoch 69/200\n",
      "5/5 - 33s - loss: 0.0017 - sparse_categorical_accuracy: 1.0000\n",
      "Epoch 70/200\n",
      "5/5 - 33s - loss: 0.0062 - sparse_categorical_accuracy: 1.0000\n",
      "Epoch 71/200\n",
      "5/5 - 32s - loss: 0.0023 - sparse_categorical_accuracy: 1.0000\n",
      "Epoch 72/200\n",
      "5/5 - 33s - loss: 0.0017 - sparse_categorical_accuracy: 1.0000\n",
      "Epoch 73/200\n",
      "5/5 - 32s - loss: 0.0015 - sparse_categorical_accuracy: 1.0000\n",
      "Epoch 74/200\n",
      "5/5 - 35s - loss: 0.0011 - sparse_categorical_accuracy: 1.0000\n",
      "Epoch 75/200\n",
      "5/5 - 35s - loss: 7.9658e-04 - sparse_categorical_accuracy: 1.0000\n",
      "Epoch 76/200\n",
      "5/5 - 35s - loss: 0.0016 - sparse_categorical_accuracy: 1.0000\n",
      "Epoch 77/200\n",
      "5/5 - 39s - loss: 9.7836e-04 - sparse_categorical_accuracy: 1.0000\n",
      "Epoch 78/200\n",
      "5/5 - 35s - loss: 0.0013 - sparse_categorical_accuracy: 1.0000\n",
      "Epoch 79/200\n",
      "5/5 - 35s - loss: 0.0017 - sparse_categorical_accuracy: 1.0000\n",
      "Epoch 80/200\n",
      "5/5 - 33s - loss: 6.4687e-04 - sparse_categorical_accuracy: 1.0000\n",
      "Epoch 81/200\n",
      "5/5 - 33s - loss: 2.8965e-04 - sparse_categorical_accuracy: 1.0000\n",
      "Epoch 82/200\n",
      "5/5 - 32s - loss: 2.5675e-04 - sparse_categorical_accuracy: 1.0000\n",
      "Epoch 83/200\n",
      "5/5 - 33s - loss: 1.0171e-04 - sparse_categorical_accuracy: 1.0000\n",
      "Epoch 84/200\n",
      "5/5 - 33s - loss: 1.8105e-04 - sparse_categorical_accuracy: 1.0000\n",
      "Epoch 85/200\n",
      "5/5 - 33s - loss: 3.8474e-04 - sparse_categorical_accuracy: 1.0000\n",
      "Epoch 86/200\n",
      "5/5 - 41s - loss: 1.1891e-04 - sparse_categorical_accuracy: 1.0000\n",
      "Epoch 87/200\n",
      "5/5 - 45s - loss: 2.6572e-04 - sparse_categorical_accuracy: 1.0000\n",
      "Epoch 88/200\n",
      "5/5 - 45s - loss: 1.2126e-04 - sparse_categorical_accuracy: 1.0000\n",
      "Epoch 89/200\n",
      "5/5 - 45s - loss: 9.7401e-05 - sparse_categorical_accuracy: 1.0000\n",
      "Epoch 90/200\n",
      "5/5 - 45s - loss: 2.0764e-05 - sparse_categorical_accuracy: 1.0000\n",
      "Epoch 91/200\n",
      "5/5 - 45s - loss: 7.4902e-05 - sparse_categorical_accuracy: 1.0000\n",
      "Epoch 92/200\n",
      "5/5 - 44s - loss: 9.4776e-05 - sparse_categorical_accuracy: 1.0000\n",
      "Epoch 93/200\n",
      "5/5 - 46s - loss: 3.1028e-05 - sparse_categorical_accuracy: 1.0000\n",
      "Epoch 94/200\n",
      "5/5 - 45s - loss: 3.7577e-05 - sparse_categorical_accuracy: 1.0000\n",
      "Epoch 95/200\n",
      "5/5 - 48s - loss: 2.9540e-05 - sparse_categorical_accuracy: 1.0000\n",
      "Epoch 96/200\n",
      "5/5 - 46s - loss: 5.6564e-06 - sparse_categorical_accuracy: 1.0000\n",
      "Epoch 97/200\n",
      "5/5 - 46s - loss: 3.8911e-06 - sparse_categorical_accuracy: 1.0000\n",
      "Epoch 98/200\n",
      "5/5 - 48s - loss: 2.6967e-05 - sparse_categorical_accuracy: 1.0000\n",
      "Epoch 99/200\n",
      "5/5 - 48s - loss: 1.7701e-06 - sparse_categorical_accuracy: 1.0000\n",
      "Epoch 100/200\n",
      "5/5 - 50s - loss: 1.7619e-06 - sparse_categorical_accuracy: 1.0000\n",
      "Epoch 101/200\n",
      "5/5 - 46s - loss: 1.7383e-06 - sparse_categorical_accuracy: 1.0000\n",
      "Epoch 102/200\n",
      "5/5 - 46s - loss: 8.0907 - sparse_categorical_accuracy: 0.8973\n",
      "Epoch 103/200\n",
      "5/5 - 46s - loss: 0.0060 - sparse_categorical_accuracy: 1.0000\n",
      "Epoch 104/200\n",
      "5/5 - 49s - loss: 0.0016 - sparse_categorical_accuracy: 1.0000\n",
      "Epoch 105/200\n",
      "5/5 - 48s - loss: 0.0013 - sparse_categorical_accuracy: 1.0000\n",
      "Epoch 106/200\n",
      "5/5 - 47s - loss: 9.9883e-04 - sparse_categorical_accuracy: 1.0000\n",
      "Epoch 107/200\n",
      "5/5 - 45s - loss: 7.4056e-04 - sparse_categorical_accuracy: 1.0000\n"
     ]
    },
    {
     "name": "stdout",
     "output_type": "stream",
     "text": [
      "Epoch 108/200\n",
      "5/5 - 46s - loss: 5.7137e-04 - sparse_categorical_accuracy: 1.0000\n",
      "Epoch 109/200\n",
      "5/5 - 45s - loss: 4.0893e-04 - sparse_categorical_accuracy: 1.0000\n",
      "Epoch 110/200\n",
      "5/5 - 46s - loss: 2.8065e-04 - sparse_categorical_accuracy: 1.0000\n",
      "Epoch 111/200\n",
      "5/5 - 45s - loss: 1.8188e-04 - sparse_categorical_accuracy: 1.0000\n",
      "Epoch 00111: early stopping\n"
     ]
    }
   ],
   "source": [
    "mod = model.fit(X_train,\n",
    "               Y_train, epochs=200, batch_size= 32, verbose=2 , \n",
    "                callbacks=[callback, print_weights, model_check])"
   ]
  },
  {
   "cell_type": "code",
   "execution_count": 52,
   "metadata": {},
   "outputs": [
    {
     "data": {
      "text/plain": [
       "111"
      ]
     },
     "execution_count": 52,
     "metadata": {},
     "output_type": "execute_result"
    }
   ],
   "source": [
    "len(wie_by_epoch)"
   ]
  },
  {
   "cell_type": "code",
   "execution_count": 53,
   "metadata": {},
   "outputs": [],
   "source": [
    "#120 +21\n",
    "#model.set_weights(wie_by_epoch[88])\n",
    "#mod.history.get('sparse_categorical_accuracy')"
   ]
  },
  {
   "cell_type": "code",
   "execution_count": 54,
   "metadata": {},
   "outputs": [
    {
     "name": "stdout",
     "output_type": "stream",
     "text": [
      "2/2 - 3s - loss: 2.0498e-04 - sparse_categorical_accuracy: 1.0000\n"
     ]
    },
    {
     "data": {
      "text/plain": [
       "[0.00020497944205999374, 1.0]"
      ]
     },
     "execution_count": 54,
     "metadata": {},
     "output_type": "execute_result"
    }
   ],
   "source": [
    "scores = model.evaluate(X_test,Y_test, verbose=2)\n",
    "scores"
   ]
  },
  {
   "cell_type": "code",
   "execution_count": 55,
   "metadata": {},
   "outputs": [
    {
     "data": {
      "text/plain": [
       "{'loss': 0.00020497944205999374, 'sparse_categorical_accuracy': 1.0}"
      ]
     },
     "execution_count": 55,
     "metadata": {},
     "output_type": "execute_result"
    }
   ],
   "source": [
    "dict(zip(model.metrics_names, scores))"
   ]
  },
  {
   "cell_type": "code",
   "execution_count": 56,
   "metadata": {},
   "outputs": [
    {
     "data": {
      "image/png": "[encoded data removed]",
      "text/plain": [
       "<Figure size 432x288 with 2 Axes>"
      ]
     },
     "metadata": {
      "needs_background": "light"
     },
     "output_type": "display_data"
    }
   ],
   "source": [
    "from matplotlib import pyplot\n",
    "# plot loss during training\n",
    "pyplot.subplot(211)\n",
    "pyplot.title('Loss')\n",
    "pyplot.plot(mod.history['loss'], label='train')\n",
    "#pyplot.plot(mod.history['val_loss'], label='test')\n",
    "pyplot.legend()\n",
    "# plot accuracy during training\n",
    "pyplot.subplot(212)\n",
    "pyplot.title('Accuracy')\n",
    "pyplot.plot(mod.history['sparse_categorical_accuracy'], label='train')\n",
    "#pyplot.plot(mod.history['val_accuracy'], label='test')\n",
    "pyplot.legend()\n",
    "pyplot.show()"
   ]
  },
  {
   "cell_type": "code",
   "execution_count": 57,
   "metadata": {},
   "outputs": [],
   "source": [
    "# predict probabilities for test set\n",
    "yhat_probs = model.predict(X_test.astype('float32'), verbose=0)\n",
    "# predict crisp classes for test set\n",
    "#yhat_classes = model.predict_classes(X_test, verbose=0)\n",
    "yhat_classes = np.argmax(yhat_probs,axis=1)"
   ]
  },
  {
   "cell_type": "code",
   "execution_count": 58,
   "metadata": {},
   "outputs": [],
   "source": [
    "from sklearn.datasets import make_circles\n",
    "from sklearn.metrics import accuracy_score\n",
    "from sklearn.metrics import precision_score\n",
    "from sklearn.metrics import recall_score\n",
    "from sklearn.metrics import f1_score\n",
    "from sklearn.metrics import cohen_kappa_score\n",
    "from sklearn.metrics import roc_auc_score\n",
    "from sklearn.metrics import confusion_matrix\n",
    "from sklearn.metrics import roc_curve\n"
   ]
  },
  {
   "cell_type": "code",
   "execution_count": 59,
   "metadata": {},
   "outputs": [
    {
     "name": "stdout",
     "output_type": "stream",
     "text": [
      "Accuracy: 1.000000\n",
      "Precision: 1.000000\n",
      "Recall: 1.000000\n",
      "F1 score: 1.000000\n"
     ]
    }
   ],
   "source": [
    "# accuracy: (tp + tn) / (p + n)\n",
    "accuracy = accuracy_score(Y_test, yhat_classes)\n",
    "print('Accuracy: %f' % accuracy)\n",
    "# precision tp / (tp + fp)\n",
    "precision = precision_score(Y_test, yhat_classes, average='macro')\n",
    "print('Precision: %f' % precision)\n",
    "# recall: tp / (tp + fn)\n",
    "recall = recall_score(Y_test, yhat_classes,average='macro')\n",
    "print('Recall: %f' % recall)\n",
    "# f1: 2 tp / (2 tp + fp + fn)\n",
    "f1 = f1_score(Y_test, yhat_classes, average='macro')\n",
    "print('F1 score: %f' % f1)"
   ]
  },
  {
   "cell_type": "code",
   "execution_count": 60,
   "metadata": {},
   "outputs": [
    {
     "name": "stdout",
     "output_type": "stream",
     "text": [
      "Cohens kappa: 1.000000\n",
      "[[22  0]\n",
      " [ 0 15]]\n"
     ]
    }
   ],
   "source": [
    "# kappa\n",
    "kappa = cohen_kappa_score(Y_test, yhat_classes)\n",
    "print('Cohens kappa: %f' % kappa)\n",
    "# ROC AUC\n",
    "#fprate, tprate, thresholds = roc_curve(Y_test, yhat_probs, average = 'macro')\n",
    "#print('ROC AUC: %f' % thresholds)\n",
    "# confusion matrix\n",
    "matrix = confusion_matrix(Y_test, yhat_classes)\n",
    "print(matrix)"
   ]
  },
  {
   "cell_type": "code",
   "execution_count": 61,
   "metadata": {},
   "outputs": [
    {
     "name": "stderr",
     "output_type": "stream",
     "text": [
      "C:\\Users\\hp\\Anaconda3\\lib\\site-packages\\sklearn\\metrics\\ranking.py:659: UndefinedMetricWarning: No positive samples in y_true, true positive value should be meaningless\n",
      "  UndefinedMetricWarning)\n"
     ]
    }
   ],
   "source": [
    "fpr = {}\n",
    "tpr = {}\n",
    "thresh ={}\n",
    "\n",
    "n_class = 5\n",
    "\n",
    "for i in range(n_class):    \n",
    "    fpr[i], tpr[i], thresh[i] = roc_curve(Y_test, yhat_classes, pos_label=i)"
   ]
  },
  {
   "cell_type": "code",
   "execution_count": 62,
   "metadata": {},
   "outputs": [
    {
     "data": {
      "image/png": "[encoded data removed]",
      "text/plain": [
       "<Figure size 432x288 with 1 Axes>"
      ]
     },
     "metadata": {
      "needs_background": "light"
     },
     "output_type": "display_data"
    }
   ],
   "source": [
    "# plotting    \n",
    "plt.plot(fpr[0], tpr[0], linestyle='--',color='orange', label='Class 0 vs Rest')\n",
    "plt.plot(fpr[1], tpr[1], linestyle='--',color='green', label='Class 1 vs Rest')\n",
    "plt.plot(fpr[2], tpr[2], linestyle='--',color='blue', label='Class 2 vs Rest')\n",
    "plt.plot(fpr[3], tpr[3], linestyle='--',color='red', label='Class 3 vs Rest')\n",
    "plt.plot(fpr[4], tpr[4], linestyle='--',color='black', label='Class 4 vs Rest')\n",
    "plt.title('Multiclass ROC curve')\n",
    "plt.xlabel('False Positive Rate')\n",
    "plt.ylabel('True Positive rate')\n",
    "plt.legend(loc='best')\n",
    "plt.savefig('Multiclass ROC',dpi=300); "
   ]
  },
  {
   "cell_type": "code",
   "execution_count": 63,
   "metadata": {},
   "outputs": [
    {
     "name": "stdout",
     "output_type": "stream",
     "text": [
      "Confusion matrix : \n",
      " [[22  0]\n",
      " [ 0 15]]\n"
     ]
    }
   ],
   "source": [
    "from sklearn.metrics import confusion_matrix\n",
    "from sklearn.metrics import classification_report\n",
    "matrix = confusion_matrix(Y_test, yhat_classes, labels= [0, 1])\n",
    "print('Confusion matrix : \\n',matrix)"
   ]
  },
  {
   "cell_type": "code",
   "execution_count": 64,
   "metadata": {},
   "outputs": [
    {
     "name": "stdout",
     "output_type": "stream",
     "text": [
      "Classification report : \n",
      "               precision    recall  f1-score   support\n",
      "\n",
      "           0       1.00      1.00      1.00        22\n",
      "           1       1.00      1.00      1.00        15\n",
      "\n",
      "    accuracy                           1.00        37\n",
      "   macro avg       1.00      1.00      1.00        37\n",
      "weighted avg       1.00      1.00      1.00        37\n",
      "\n"
     ]
    }
   ],
   "source": [
    "matrix = classification_report(Y_test,yhat_classes, labels= [0, 1])\n",
    "print('Classification report : \\n',matrix)"
   ]
  },
  {
   "cell_type": "code",
   "execution_count": 65,
   "metadata": {},
   "outputs": [
    {
     "name": "stdout",
     "output_type": "stream",
     "text": [
      "INFO:tensorflow:Assets written to: ./models/CFS feature selection/Without IP_ Top 6/Binary/CNN-RNN\\assets\n"
     ]
    }
   ],
   "source": [
    "model.save('./models/CFS feature selection/Without IP_Top 6/Binary/CNN-RNN')"
   ]
  },
  {
   "cell_type": "code",
   "execution_count": null,
   "metadata": {},
   "outputs": [],
   "source": []
  }
 ],
 "metadata": {
  "kernelspec": {
   "display_name": "Python 3",
   "language": "python",
   "name": "python3"
  },
  "language_info": {
   "codemirror_mode": {
    "name": "ipython",
    "version": 3
   },
   "file_extension": ".py",
   "mimetype": "text/x-python",
   "name": "python",
   "nbconvert_exporter": "python",
   "pygments_lexer": "ipython3",
   "version": "3.7.4"
  }
 },
 "nbformat": 4,
 "nbformat_minor": 2
}

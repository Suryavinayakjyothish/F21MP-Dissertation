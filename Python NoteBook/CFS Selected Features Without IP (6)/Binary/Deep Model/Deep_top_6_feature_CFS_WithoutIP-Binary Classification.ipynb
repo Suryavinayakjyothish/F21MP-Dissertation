{
 "cells": [
  {
   "cell_type": "code",
   "execution_count": 1,
   "metadata": {},
   "outputs": [],
   "source": [
    "import pandas as pd\n",
    "import numpy as np\n",
    "from datetime import datetime\n",
    "import time\n",
    "import matplotlib.pyplot as plt\n",
    "import gc\n",
    "pd.set_option('display.max_columns', None)"
   ]
  },
  {
   "cell_type": "code",
   "execution_count": 2,
   "metadata": {},
   "outputs": [],
   "source": [
    "## for machine learning\n",
    "from sklearn import model_selection, preprocessing, feature_selection, ensemble, linear_model, metrics, decomposition\n",
    "## for plotting\n",
    "import matplotlib.pyplot as plt\n",
    "## for machine learning\n",
    "from sklearn import model_selection, preprocessing, feature_selection, ensemble, linear_model, metrics, decomposition\n",
    "from sklearn.preprocessing import LabelEncoder,Normalizer,StandardScaler, OneHotEncoder, MinMaxScaler\n",
    "from sklearn.feature_selection import mutual_info_classif\n",
    "from sklearn.metrics import confusion_matrix\n",
    "from sklearn.metrics import classification_report\n",
    "## for explainer\n",
    "#from lime import lime_tabular"
   ]
  },
  {
   "cell_type": "code",
   "execution_count": 3,
   "metadata": {},
   "outputs": [],
   "source": [
    "#CFS implementation\n",
    "#Source: https://github.com/ZixiaoShen/Correlation-based-Feature-Selection\n",
    "\n",
    "import scipy.spatial as ss\n",
    "from scipy.special import digamma\n",
    "from math import log\n",
    "import numpy.random as nr\n",
    "import numpy as np\n",
    "import random\n",
    "\n",
    "\n",
    "# continuous estimators\n",
    "\n",
    "def entropy(x, k=3, base=2):\n",
    "    \"\"\"\n",
    "    The classic K-L k-nearest neighbor continuous entropy estimator x should be a list of vectors,\n",
    "    e.g. x = [[1.3],[3.7],[5.1],[2.4]] if x is a one-dimensional scalar and we have four samples\n",
    "    \"\"\"\n",
    "\n",
    "    assert k <= len(x)-1, \"Set k smaller than num. samples - 1\"\n",
    "    d = len(x[0])\n",
    "    N = len(x)\n",
    "    intens = 1e-10  # small noise to break degeneracy, see doc.\n",
    "    x = [list(p + intens * nr.rand(len(x[0]))) for p in x]\n",
    "    tree = ss.cKDTree(x)\n",
    "    nn = [tree.query(point, k+1, p=float('inf'))[0][k] for point in x]\n",
    "    const = digamma(N)-digamma(k) + d*log(2)\n",
    "    return (const + d*np.mean(map(log, nn)))/log(base)\n",
    "\n",
    "\n",
    "def mi(x, y, k=3, base=2):\n",
    "    \"\"\"\n",
    "    Mutual information of x and y; x, y should be a list of vectors, e.g. x = [[1.3],[3.7],[5.1],[2.4]]\n",
    "    if x is a one-dimensional scalar and we have four samples\n",
    "    \"\"\"\n",
    "\n",
    "    assert len(x) == len(y), \"Lists should have same length\"\n",
    "    assert k <= len(x) - 1, \"Set k smaller than num. samples - 1\"\n",
    "    intens = 1e-10  # small noise to break degeneracy, see doc.\n",
    "    x = [list(p + intens * nr.rand(len(x[0]))) for p in x]\n",
    "    y = [list(p + intens * nr.rand(len(y[0]))) for p in y]\n",
    "    points = zip2(x, y)\n",
    "    # Find nearest neighbors in joint space, p=inf means max-norm\n",
    "    tree = ss.cKDTree(points)\n",
    "    dvec = [tree.query(point, k+1, p=float('inf'))[0][k] for point in points]\n",
    "    a, b, c, d = avgdigamma(x, dvec), avgdigamma(y, dvec), digamma(k), digamma(len(x))\n",
    "    return (-a-b+c+d)/log(base)\n",
    "\n",
    "\n",
    "def cmi(x, y, z, k=3, base=2):\n",
    "    \"\"\"\n",
    "    Mutual information of x and y, conditioned on z; x, y, z should be a list of vectors, e.g. x = [[1.3],[3.7],[5.1],[2.4]]\n",
    "    if x is a one-dimensional scalar and we have four samples\n",
    "    \"\"\"\n",
    "\n",
    "    assert len(x) == len(y), \"Lists should have same length\"\n",
    "    assert k <= len(x) - 1, \"Set k smaller than num. samples - 1\"\n",
    "    intens = 1e-10  # small noise to break degeneracy, see doc.\n",
    "    x = [list(p + intens * nr.rand(len(x[0]))) for p in x]\n",
    "    y = [list(p + intens * nr.rand(len(y[0]))) for p in y]\n",
    "    z = [list(p + intens * nr.rand(len(z[0]))) for p in z]\n",
    "    points = zip2(x, y, z)\n",
    "    # Find nearest neighbors in joint space, p=inf means max-norm\n",
    "    tree = ss.cKDTree(points)\n",
    "    dvec = [tree.query(point, k+1, p=float('inf'))[0][k] for point in points]\n",
    "    a, b, c, d = avgdigamma(zip2(x, z), dvec), avgdigamma(zip2(y, z), dvec), avgdigamma(z, dvec), digamma(k)\n",
    "    return (-a-b+c+d)/log(base)\n",
    "\n",
    "\n",
    "def kldiv(x, xp, k=3, base=2):\n",
    "    \"\"\"\n",
    "    KL Divergence between p and q for x~p(x), xp~q(x); x, xp should be a list of vectors, e.g. x = [[1.3],[3.7],[5.1],[2.4]]\n",
    "    if x is a one-dimensional scalar and we have four samples\n",
    "    \"\"\"\n",
    "\n",
    "    assert k <= len(x) - 1, \"Set k smaller than num. samples - 1\"\n",
    "    assert k <= len(xp) - 1, \"Set k smaller than num. samples - 1\"\n",
    "    assert len(x[0]) == len(xp[0]), \"Two distributions must have same dim.\"\n",
    "    d = len(x[0])\n",
    "    n = len(x)\n",
    "    m = len(xp)\n",
    "    const = log(m) - log(n-1)\n",
    "    tree = ss.cKDTree(x)\n",
    "    treep = ss.cKDTree(xp)\n",
    "    nn = [tree.query(point, k+1, p=float('inf'))[0][k] for point in x]\n",
    "    nnp = [treep.query(point, k, p=float('inf'))[0][k-1] for point in x]\n",
    "    return (const + d*np.mean(map(log, nnp))-d*np.mean(map(log, nn)))/log(base)\n",
    "\n",
    "\n",
    "# Discrete estimators\n",
    "def entropyd(sx, base=2):\n",
    "    \"\"\"\n",
    "    Discrete entropy estimator given a list of samples which can be any hashable object\n",
    "    \"\"\"\n",
    "\n",
    "    return entropyfromprobs(hist(sx), base=base)\n",
    "\n",
    "\n",
    "def midd(x, y):\n",
    "    \"\"\"\n",
    "    Discrete mutual information estimator given a list of samples which can be any hashable object\n",
    "    \"\"\"\n",
    "\n",
    "    return -entropyd(list(zip(x, y)))+entropyd(x)+entropyd(y)\n",
    "\n",
    "\n",
    "def cmidd(x, y, z):\n",
    "    \"\"\"\n",
    "    Discrete mutual information estimator given a list of samples which can be any hashable object\n",
    "    \"\"\"\n",
    "\n",
    "    return entropyd(list(zip(y, z)))+entropyd(list(zip(x, z)))-entropyd(list(zip(x, y, z)))-entropyd(z)\n",
    "\n",
    "\n",
    "def hist(sx):\n",
    "    # Histogram from list of samples\n",
    "    d = dict()\n",
    "    for s in sx:\n",
    "        d[s] = d.get(s, 0) + 1\n",
    "    return map(lambda z: float(z)/len(sx), d.values())\n",
    "\n",
    "\n",
    "def entropyfromprobs(probs, base=2):\n",
    "    # Turn a normalized list of probabilities of discrete outcomes into entropy (base 2)\n",
    "    return -sum(map(elog, probs))/log(base)\n",
    "\n",
    "\n",
    "def elog(x):\n",
    "    # for entropy, 0 log 0 = 0. but we get an error for putting log 0\n",
    "    if x <= 0. or x >= 1.:\n",
    "        return 0\n",
    "    else:\n",
    "        return x*log(x)\n",
    "\n",
    "\n",
    "# Mixed estimators\n",
    "def micd(x, y, k=3, base=2, warning=True):\n",
    "    \"\"\" If x is continuous and y is discrete, compute mutual information\n",
    "    \"\"\"\n",
    "\n",
    "    overallentropy = entropy(x, k, base)\n",
    "    n = len(y)\n",
    "    word_dict = dict()\n",
    "    for sample in y:\n",
    "        word_dict[sample] = word_dict.get(sample, 0) + 1./n\n",
    "    yvals = list(set(word_dict.keys()))\n",
    "\n",
    "    mi = overallentropy\n",
    "    for yval in yvals:\n",
    "        xgiveny = [x[i] for i in range(n) if y[i] == yval]\n",
    "        if k <= len(xgiveny) - 1:\n",
    "            mi -= word_dict[yval]*entropy(xgiveny, k, base)\n",
    "        else:\n",
    "            if warning:\n",
    "                print(\"Warning, after conditioning, on y={0} insufficient data. Assuming maximal entropy in this case.\".format(yval))\n",
    "            mi -= word_dict[yval]*overallentropy\n",
    "    return mi  # units already applied\n",
    "\n",
    "\n",
    "# Utility functions\n",
    "def vectorize(scalarlist):\n",
    "    \"\"\"\n",
    "    Turn a list of scalars into a list of one-d vectors\n",
    "    \"\"\"\n",
    "\n",
    "    return [(x,) for x in scalarlist]\n",
    "\n",
    "\n",
    "def shuffle_test(measure, x, y, z=False, ns=200, ci=0.95, **kwargs):\n",
    "    \"\"\"\n",
    "    Shuffle test\n",
    "    Repeatedly shuffle the x-values and then estimate measure(x,y,[z]).\n",
    "    Returns the mean and conf. interval ('ci=0.95' default) over 'ns' runs, 'measure' could me mi,cmi,\n",
    "    e.g. Keyword arguments can be passed. Mutual information and CMI should have a mean near zero.\n",
    "    \"\"\"\n",
    "\n",
    "    xp = x[:]   # A copy that we can shuffle\n",
    "    outputs = []\n",
    "    for i in range(ns):\n",
    "        random.shuffle(xp)\n",
    "        if z:\n",
    "            outputs.append(measure(xp, y, z, **kwargs))\n",
    "        else:\n",
    "            outputs.append(measure(xp, y, **kwargs))\n",
    "    outputs.sort()\n",
    "    return np.mean(outputs), (outputs[int((1.-ci)/2*ns)], outputs[int((1.+ci)/2*ns)])\n",
    "\n",
    "\n",
    "# Internal functions\n",
    "def avgdigamma(points, dvec):\n",
    "    # This part finds number of neighbors in some radius in the marginal space\n",
    "    # returns expectation value of <psi(nx)>\n",
    "    N = len(points)\n",
    "    tree = ss.cKDTree(points)\n",
    "    avg = 0.\n",
    "    for i in range(N):\n",
    "        dist = dvec[i]\n",
    "        # subtlety, we don't include the boundary point,\n",
    "        # but we are implicitly adding 1 to kraskov def bc center point is included\n",
    "        num_points = len(tree.query_ball_point(points[i], dist-1e-15, p=float('inf')))\n",
    "        avg += digamma(num_points)/N\n",
    "    return avg\n",
    "\n",
    "\n",
    "def zip2(*args):\n",
    "    # zip2(x,y) takes the lists of vectors and makes it a list of vectors in a joint space\n",
    "    # E.g. zip2([[1],[2],[3]],[[4],[5],[6]]) = [[1,4],[2,5],[3,6]]\n",
    "    return [sum(sublist, []) for sublist in zip(*args)]"
   ]
  },
  {
   "cell_type": "code",
   "execution_count": 4,
   "metadata": {},
   "outputs": [],
   "source": [
    "def information_gain(f1, f2):\n",
    "    \"\"\"\n",
    "    This function calculates the information gain, where ig(f1,f2) = H(f1) - H(f1|f2)\n",
    "    Input\n",
    "    -----\n",
    "    f1: {numpy array}, shape (n_samples,)\n",
    "    f2: {numpy array}, shape (n_samples,)\n",
    "    Output\n",
    "    ------\n",
    "    ig: {float}\n",
    "    \"\"\"\n",
    "\n",
    "    ig = entropyd(f1) - conditional_entropy(f1, f2)\n",
    "    return ig\n",
    "\n",
    "\n",
    "def conditional_entropy(f1, f2):\n",
    "    \"\"\"\n",
    "    This function calculates the conditional entropy, where ce = H(f1) - I(f1;f2)\n",
    "    Input\n",
    "    -----\n",
    "    f1: {numpy array}, shape (n_samples,)\n",
    "    f2: {numpy array}, shape (n_samples,)\n",
    "    Output\n",
    "    ------\n",
    "    ce: {float}\n",
    "        ce is conditional entropy of f1 and f2\n",
    "    \"\"\"\n",
    "\n",
    "    ce = entropyd(f1) - midd(f1, f2)\n",
    "    return ce\n",
    "\n",
    "\n",
    "def su_calculation(f1, f2):\n",
    "    \"\"\"\n",
    "    This function calculates the symmetrical uncertainty, where su(f1,f2) = 2*IG(f1,f2)/(H(f1)+H(f2))\n",
    "    Input\n",
    "    -----\n",
    "    f1: {numpy array}, shape (n_samples,)\n",
    "    f2: {numpy array}, shape (n_samples,)\n",
    "    Output\n",
    "    ------\n",
    "    su: {float}\n",
    "        su is the symmetrical uncertainty of f1 and f2\n",
    "    \"\"\"\n",
    "\n",
    "    # calculate information gain of f1 and f2, t1 = ig(f1,f2)\n",
    "    t1 = information_gain(f1, f2)\n",
    "    # calculate entropy of f1, t2 = H(f1)\n",
    "    t2 = entropyd(f1)\n",
    "    # calculate entropy of f2, t3 = H(f2)\n",
    "    t3 = entropyd(f2)\n",
    "    # su(f1,f2) = 2*t1/(t2+t3)\n",
    "    su = 2.0*t1/(t2+t3)\n",
    "\n",
    "    return su"
   ]
  },
  {
   "cell_type": "code",
   "execution_count": 5,
   "metadata": {},
   "outputs": [],
   "source": [
    "def merit_calculation(X, y):\n",
    "    \"\"\"\n",
    "    This function calculates the merit of X given class labels y, where\n",
    "    merits = (k * rcf)/sqrt(k+k*(k-1)*rff)\n",
    "    rcf = (1/k)*sum(su(fi,y)) for all fi in X\n",
    "    rff = (1/(k*(k-1)))*sum(su(fi,fj)) for all fi and fj in X\n",
    "    Input\n",
    "    ----------\n",
    "    X: {numpy array}, shape (n_samples, n_features)\n",
    "        input data\n",
    "    y: {numpy array}, shape (n_samples,)\n",
    "        input class labels\n",
    "    Output\n",
    "    ----------\n",
    "    merits: {float}\n",
    "        merit of a feature subset X\n",
    "    \"\"\"\n",
    "\n",
    "    n_samples, n_features = X.shape\n",
    "    rff = 0\n",
    "    rcf = 0\n",
    "    for i in range(n_features):\n",
    "        fi = X[:, i]\n",
    "        rcf += su_calculation(fi, y)\n",
    "        for j in range(n_features):\n",
    "            if j > i:\n",
    "                fj = X[:, j]\n",
    "                rff += su_calculation(fi, fj)\n",
    "    rff *= 2\n",
    "    merits = rcf / np.sqrt(n_features + rff)\n",
    "    return merits\n",
    "\n",
    "\n",
    "def cfs(X, y):\n",
    "    \"\"\"\n",
    "    This function uses a correlation based heuristic to evaluate the worth of features which is called CFS\n",
    "    Input\n",
    "    -----\n",
    "    X: {numpy array}, shape (n_samples, n_features)\n",
    "        input data\n",
    "    y: {numpy array}, shape (n_samples,)\n",
    "        input class labels\n",
    "    Output\n",
    "    ------\n",
    "    F: {numpy array}\n",
    "        index of selected features\n",
    "    Reference\n",
    "    ---------\n",
    "    Zhao, Zheng et al. \"Advancing Feature Selection Research - ASU Feature Selection Repository\" 2010.\n",
    "    \"\"\"\n",
    "\n",
    "    n_samples, n_features = X.shape\n",
    "    F = []\n",
    "    # M stores the merit values\n",
    "    M = []\n",
    "    while True:\n",
    "        merit = -100000000000\n",
    "        idx = -1\n",
    "        for i in range(n_features):\n",
    "            if i not in F:\n",
    "                F.append(i)\n",
    "                # calculate the merit of current selected features\n",
    "                t = merit_calculation(X[:, F], y)\n",
    "                if t > merit:\n",
    "                    merit = t\n",
    "                    idx = i\n",
    "                F.pop()\n",
    "        F.append(idx)\n",
    "        M.append(merit)\n",
    "        if len(M) > 5:\n",
    "            if M[len(M)-1] <= M[len(M)-2]:\n",
    "                if M[len(M)-2] <= M[len(M)-3]:\n",
    "                    if M[len(M)-3] <= M[len(M)-4]:\n",
    "                        if M[len(M)-4] <= M[len(M)-5]:\n",
    "                            break\n",
    "    return np.array(F)"
   ]
  },
  {
   "cell_type": "code",
   "execution_count": 6,
   "metadata": {},
   "outputs": [],
   "source": [
    "#a = pd.read_csv('drive/My Drive/Colab Notebooks/traffic/OpenStack/CIDDS-001-internal-week1.csv', low_memory=False, encoding='cp1252')\n",
    "#b = pd.read_csv('drive/My Drive/Colab Notebooks/traffic/OpenStack/CIDDS-001-internal-week2.csv', low_memory=False, encoding='cp1252')\n",
    "a = pd.read_csv('./CIDDS-001/traffic/OpenStack/CIDDS-001-internal-week1.csv', low_memory=False, encoding='cp1252')\n",
    "b = pd.read_csv('./CIDDS-001/traffic/OpenStack/CIDDS-001-internal-week2.csv', low_memory=False, encoding='cp1252')\n",
    "c =  pd.read_csv('./CIDDS-001/traffic/ExternalServer/CIDDS-001-external-week2.csv', low_memory=False, encoding='cp1252')\n",
    "d =  pd.read_csv('./CIDDS-001/traffic/ExternalServer/CIDDS-001-external-week3.csv', low_memory=False, encoding='cp1252')\n",
    "e =  pd.read_csv('./CIDDS-001/traffic/ExternalServer/CIDDS-001-external-week4.csv', low_memory=False, encoding='cp1252')\n",
    "#f =  pd.read_csv('./CIDDS-001/traffic/ExternalServer/CIDDS-001-external-week1.csv', low_memory=False, encoding='cp1252')\n",
    "#c = pd.read_csv('drive/My Drive/Colab Notebooks/traffic/OpenStack/CIDDS-001-internal-week3.csv', low_memory=False , encoding='cp1252')\n",
    "#d = pd.read_csv('drive/My Drive/Colab Notebooks/traffic/OpenStack/CIDDS-001-internal-week4.csv', low_memory=False, encoding='cp1252')\n",
    "#e =  pd.read_csv('drive/My Drive/Colab Notebooks/traffic/ExternalServer/CIDDS-001-external-week1.csv', low_memory=False, encoding='cp1252')\n",
    "#f =  pd.read_csv('drive/My Drive/Colab Notebooks/traffic/ExternalServer/CIDDS-001-external-week2.csv', low_memory=False, encoding='cp1252')\n",
    "#g =  pd.read_csv('drive/My Drive/Colab Notebooks/traffic/ExternalServer/CIDDS-001-external-week3.csv', low_memory=False, encoding='cp1252')\n",
    "#h =  pd.read_csv('drive/My Drive/Colab Notebooks/traffic/ExternalServer/CIDDS-001-external-week4.csv', low_memory=False, encoding='cp1252')"
   ]
  },
  {
   "cell_type": "code",
   "execution_count": 7,
   "metadata": {},
   "outputs": [
    {
     "name": "stdout",
     "output_type": "stream",
     "text": [
      "(10310733, 16)\n"
     ]
    },
    {
     "data": {
      "text/plain": [
       "(1795404, 16)"
      ]
     },
     "execution_count": 7,
     "metadata": {},
     "output_type": "execute_result"
    }
   ],
   "source": [
    "print(b.shape)\n",
    "#a.drop(a[a['attackType'] == '---'].index, axis = 0, inplace= True) \n",
    "b.drop(b[b['attackType'] == '---'].index, axis = 0, inplace= True)  \n",
    "c.drop(c[c['attackType'] == '---'].index, axis = 0, inplace= True)  \n",
    "d.drop(d[d['attackType'] == '---'].index, axis = 0, inplace= True)  \n",
    "#e.drop(e[e['attackType'] == '---'].index, axis = 0, inplace= True)  \n",
    "b.shape"
   ]
  },
  {
   "cell_type": "code",
   "execution_count": 8,
   "metadata": {},
   "outputs": [],
   "source": [
    "data_external = pd.concat([c,d,e], axis = 0)\n",
    "data_external.reset_index(drop= True, inplace= True)"
   ]
  },
  {
   "cell_type": "code",
   "execution_count": 9,
   "metadata": {},
   "outputs": [],
   "source": [
    "#to Increment attackID values\n",
    "data_external['attackID'] = data_external['attackID'].apply(lambda x: str(int(x) + 70) if x != '---' else x)"
   ]
  },
  {
   "cell_type": "code",
   "execution_count": 10,
   "metadata": {},
   "outputs": [],
   "source": [
    "def convert_bytes(df):\n",
    "    if 'M' in df:\n",
    "        df = df.split('M')\n",
    "        df = df[0].strip()\n",
    "        df = float(df) * 1000000\n",
    "    elif 'B' in df:\n",
    "        df = df.split('B')\n",
    "        df = df[0].strip()\n",
    "        df =  float(df) * 1000000000\n",
    "    else: \n",
    "        df =float(df)\n",
    "    return df"
   ]
  },
  {
   "cell_type": "code",
   "execution_count": 11,
   "metadata": {},
   "outputs": [
    {
     "data": {
      "text/plain": [
       "60"
      ]
     },
     "execution_count": 11,
     "metadata": {},
     "output_type": "execute_result"
    }
   ],
   "source": [
    "data = pd.concat([a,b,data_external], axis = 0)\n",
    "data.reset_index(drop= True, inplace= True)\n",
    "data['Bytes'] = data['Bytes'].apply(lambda x: convert_bytes(x))\n",
    "data['attackType'] = data['attackType'].apply(lambda x:  'attack' if (x!= '---') else x )\n",
    "\n",
    "columns = ['Src Pt', 'Dst Pt','Tos','Flows','Packets', 'Bytes']\n",
    "for i in columns:\n",
    "    data[i] = pd.to_numeric(data[i]);\n",
    "del columns\n",
    "del a,b,c,d,e, data_external\n",
    "gc.collect()"
   ]
  },
  {
   "cell_type": "code",
   "execution_count": 12,
   "metadata": {},
   "outputs": [],
   "source": [
    "#Converts Hexadecimal value to Binary\n",
    "def hex_to_binary(hexdata):\n",
    "    scale = 16 ## equals to hexadecimal\n",
    "    num_of_bits = 9\n",
    "    return bin(int(hexdata, scale))[2:].zfill(num_of_bits);\n",
    "#Converts TCP flags to Binary\n",
    "def to_Binary(x):\n",
    "    l = 0\n",
    "    x = '...' + x\n",
    "    x = list(x)\n",
    "    for i in x:\n",
    "        if (i=='.'):\n",
    "            x[l]= '0'\n",
    "        else:\n",
    "            x[l] = '1'\n",
    "        l = l +1\n",
    "    return ''.join(x)\n",
    "#Converts the 'Flags' column to 9 indiviual columns (manual oneshot encoding)\n",
    "def flag_convert(df):  \n",
    "   # df['Flags'] = df['Flags'].apply(lambda x: (list(x)))\n",
    "   # temp = df['Flags'].apply(lambda x: toBinary(x))\n",
    "    hex_values = list(df[(df['Flags'].str.contains(\"0x\", na=False))]['Flags'].unique())\n",
    "    flag_values = list(df[~(df['Flags'].str.contains(\"0x\", na=False))]['Flags'].unique())\n",
    "    binary_values = {}\n",
    "    for i in hex_values:\n",
    "         binary_values[i] = (hex_to_binary(i))\n",
    "    for i in flag_values:\n",
    "         binary_values[i] = (to_Binary(i))\n",
    "    temp = df['Flags'].replace(binary_values)\n",
    "#temp = temp.apply(lambda x: pd.Series(x)) \n",
    "    temp = pd.DataFrame(temp.apply(list).tolist())\n",
    "#temp = pd.DataFrame(temp)\n",
    "#a = a.iloc[: , 1:]\n",
    "   # print(temp.head())\n",
    "    temp.columns = ['N','C','E','U' ,'A','P','R','S','F']\n",
    "    for i in temp.columns:\n",
    "        temp[i] = pd.to_numeric(temp[i]);\n",
    "    temp = temp.reset_index(drop=True)\n",
    "    df = df.reset_index(drop=True)\n",
    "    df = pd.concat([df, temp], axis = 1)\n",
    "    return df;"
   ]
  },
  {
   "cell_type": "code",
   "execution_count": 13,
   "metadata": {},
   "outputs": [],
   "source": [
    "#make a IP_pairs \n",
    "def make_pair(df):\n",
    "    ip_pair = df['Src IP Addr'] +'/' +df['Dst IP Addr']\n",
    "    source_ip = df['Src IP Addr'].unique().tolist()\n",
    "    destination_ip = df['Dst IP Addr'].unique().tolist()\n",
    "   # df = df.drop(columns = ['Src IP Addr', 'Dst IP Addr'])\n",
    "    df.insert(1, ' IP Pair', ip_pair)\n",
    "    return df\n",
    "\n",
    "def check_inverse(df):\n",
    "    list_pairs = df[' IP Pair'].unique()\n",
    "    tuple_pair = []\n",
    "    for i in list_pairs:\n",
    "        tuple_pair.append(tuple((i.split('/'))))\n",
    "    dic_store = {}\n",
    "    for i in tuple_pair:\n",
    "        if (i  not in dic_store.keys()) and (i[::-1] not in dic_store.keys()):\n",
    "            dic_store[i] = i[0] + '/' +i[1]\n",
    "    print(len(dic_store.keys()))\n",
    "    dic_final = {}\n",
    "    for i in dic_store.keys():\n",
    "        dic_final[i[0] + '/' +i[1]] = dic_store[i]\n",
    "        dic_final[i[1] + '/' +i[0]] = dic_store[i]\n",
    "    df[' IP Pair'] = df[' IP Pair'].map(dic_final)               \n",
    "    return df"
   ]
  },
  {
   "cell_type": "code",
   "execution_count": 14,
   "metadata": {},
   "outputs": [],
   "source": [
    "def normalize_IP(df):\n",
    "    columns = ['sourceIP_feature 1', 'sourceIP_feature 2', 'sourceIP_feature 3', 'sourceIP_feature 4', 'destIP_feature 1',\n",
    "              'destIP_feature 2', 'destIP_feature 3', 'destIP_feature 4']\n",
    "    normalized = df[columns]\n",
    "    print(columns)\n",
    "    transformed = MinMaxScaler().fit(normalized).transform(normalized)\n",
    "    transformed = pd.DataFrame(transformed)\n",
    "    j = 0\n",
    "    col = {}\n",
    "    for i in columns:\n",
    "        col[j] = i\n",
    "        j=j+1\n",
    "    transformed = transformed.rename(columns = col)\n",
    "    transformed = transformed.reset_index()\n",
    "    for i in columns:\n",
    "        df[i] = transformed[i].to_numpy()\n",
    "    return df;"
   ]
  },
  {
   "cell_type": "code",
   "execution_count": 15,
   "metadata": {},
   "outputs": [],
   "source": [
    "def normalize(df):\n",
    "    numerics = ['int16', 'int32', 'int64', 'float16', 'float32', 'float64']\n",
    "    columns = data.select_dtypes(include=numerics).columns\n",
    "    normalized = df[columns]\n",
    "    print(columns)\n",
    "    transformed = MinMaxScaler().fit(normalized).transform(normalized)\n",
    "    transformed = pd.DataFrame(transformed)\n",
    "    j = 0\n",
    "    col = {}\n",
    "    for i in columns:\n",
    "        col[j] = i\n",
    "        j=j+1\n",
    "    transformed = transformed.rename(columns = col)\n",
    "    transformed = transformed.reset_index()\n",
    "    for i in columns:\n",
    "        df[i] = transformed[i].to_numpy()\n",
    "    return df;"
   ]
  },
  {
   "cell_type": "code",
   "execution_count": 16,
   "metadata": {},
   "outputs": [],
   "source": [
    "def one_shot(df):\n",
    "    label_encoder = LabelEncoder()\n",
    "    #df.astype({'attackType': 'str'})\n",
    "    df['attackType'] = label_encoder.fit_transform(df['attackType'])\n",
    "    print(list(label_encoder.classes_))\n",
    "    print(list(label_encoder.transform(label_encoder.classes_)))\n",
    "\n",
    "    \n",
    "    df['Proto'] = label_encoder.fit_transform(df['Proto'])\n",
    "    print(list(label_encoder.classes_))\n",
    "    print(list(label_encoder.transform(label_encoder.classes_)))\n",
    "    \n",
    "    onehot_encoder1 = OneHotEncoder()\n",
    "    onehot_encoder1.fit(df.Proto.to_numpy().reshape(-1, 1))\n",
    "    proto = onehot_encoder1.transform(df.Proto.to_numpy().reshape(-1, 1))\n",
    "    proto = pd.DataFrame.sparse.from_spmatrix(proto)\n",
    "    proto.astype('int32')\n",
    "    proto.columns = label_encoder.classes_\n",
    "   # print(proto.head(1))\n",
    "    df = pd.concat([df, proto], axis = 1)\n",
    "    return df;"
   ]
  },
  {
   "cell_type": "code",
   "execution_count": 17,
   "metadata": {},
   "outputs": [],
   "source": [
    "def drop_columns(df):\n",
    "    return df.drop(columns = ['Date first seen', ' IP Pair', 'Flows', 'class', 'attackID','Flags',\n",
    "                              'attackDescription', 'Src IP Addr', 'Dst IP Addr','Proto'], axis =1)"
   ]
  },
  {
   "cell_type": "code",
   "execution_count": 18,
   "metadata": {},
   "outputs": [],
   "source": [
    "#Aplit IP address into features, 7 features\n",
    "def split_to_net(IP_address):\n",
    "    IP_list = IP_address.split(\".\")\n",
    "    needed_len = 7\n",
    "    needed_len = needed_len - len(IP_list)\n",
    "    for i in range(0,needed_len,1):\n",
    "        IP_list.append('0')\n",
    "    return IP_list\n",
    "#replace unknown IP address, and convert to columns\n",
    "def IP_split(df): \n",
    "    replace = {\"ATTACKER1\":\"0.0.0.0\",\n",
    "           \"ATTACKER2\":\"0.0.0.0\",\n",
    "           \"ATTACKER3\":\"0.0.0.0\",\n",
    "           \"EXT_SERVER\": \"0.0.0.0.1\",\n",
    "          \"OPENSTACK_NET\": \"0.0.0.0.0.1\",\n",
    "          \"DNS\": \"0.0.0.0.0.0.1\"}\n",
    "    df = df.replace({\"Src IP Addr\": replace, \"Dst IP Addr\": replace}, value=None)\n",
    "    temp_source = df[\"Src IP Addr\"].apply(lambda x: \"0.0.0.0.0.0.0\" if ('_') in x else x)\n",
    "    temp_des = df['Dst IP Addr'].apply(lambda x: \"0.0.0.0.0.0.0\" if ('_') in x else x)\n",
    "   # sourceIP = list(df[\"Src IP Addr\"].unique())\n",
    "   # destIP = list(df[\"Dst IP Addr\"].unique())\n",
    "   # sourceIP_values = {}\n",
    "   # desIP_values = {}\n",
    "   # for i in sourceIP:\n",
    "   #      sourceIP_values[i] = (split_to_net(i))\n",
    "   # for i in destIP:\n",
    "   #      desIP_values[i] = (split_to_net(i))\n",
    "    #print(sourceIP_values)\n",
    "   # print(desIP_values)\n",
    "#for Source IP\n",
    "    temp_source = temp_source.apply(lambda x: split_to_net(x) )\n",
    "    temp_source = pd.DataFrame(temp_source.apply(list).tolist())\n",
    "    temp_source.columns = ['sourceIP_feature 1','sourceIP_feature 2','sourceIP_feature 3','sourceIP_feature 4' ,\n",
    "                    'sourceEXT_SERVER','sourceOPENSTACK_NET','sourceDNS']\n",
    "    for i in temp_source.columns:\n",
    "        temp_source[i] = pd.to_numeric(temp_source[i]);\n",
    "    temp_source = temp_source.reset_index(drop=True)\n",
    "    df = df.reset_index(drop=True)\n",
    "    df = pd.concat([df, temp_source], axis = 1)\n",
    "    #for Destination IP\n",
    "    temp_des = temp_des.apply(lambda x: split_to_net(x) )\n",
    "    temp_des = pd.DataFrame(temp_des.apply(list).tolist())\n",
    "    temp_des.columns = ['destIP_feature 1','destIP_feature 2','destIP_feature 3','destIP_feature 4' ,\n",
    "                    'destEXT_SERVER','destOPENSTACK_NET','destDNS']\n",
    "    for i in temp_des.columns:\n",
    "        temp_des[i] = pd.to_numeric(temp_des[i]);\n",
    "    temp_des = temp_des.reset_index(drop=True)\n",
    "    df = df.reset_index(drop=True)\n",
    "    df = pd.concat([df, temp_des], axis = 1)\n",
    "    return df;"
   ]
  },
  {
   "cell_type": "code",
   "execution_count": 19,
   "metadata": {},
   "outputs": [
    {
     "name": "stdout",
     "output_type": "stream",
     "text": [
      "59362\n"
     ]
    }
   ],
   "source": [
    "data = make_pair(data)\n",
    "data = check_inverse(data)"
   ]
  },
  {
   "cell_type": "code",
   "execution_count": 20,
   "metadata": {},
   "outputs": [],
   "source": [
    "#data = IP_split(data)"
   ]
  },
  {
   "cell_type": "code",
   "execution_count": 21,
   "metadata": {
    "scrolled": true
   },
   "outputs": [
    {
     "name": "stdout",
     "output_type": "stream",
     "text": [
      "Index(['Duration', 'Src Pt', 'Dst Pt', 'Packets', 'Bytes', 'Flows', 'Tos'], dtype='object')\n",
      "['---', 'attack']\n",
      "[0, 1]\n",
      "['GRE  ', 'ICMP ', 'IGMP ', 'TCP  ', 'UDP  ']\n",
      "[0, 1, 2, 3, 4]\n"
     ]
    },
    {
     "name": "stderr",
     "output_type": "stream",
     "text": [
      "C:\\Users\\hp\\Anaconda3\\lib\\site-packages\\sklearn\\preprocessing\\_encoders.py:415: FutureWarning: The handling of integer data will change in version 0.22. Currently, the categories are determined based on the range [0, max(values)], while in the future they will be determined based on the unique values.\n",
      "If you want the future behaviour and silence this warning, you can specify \"categories='auto'\".\n",
      "In case you used a LabelEncoder before this OneHotEncoder to convert the categories to integers, then you can now use the OneHotEncoder directly.\n",
      "  warnings.warn(msg, FutureWarning)\n"
     ]
    }
   ],
   "source": [
    "data = normalize(data)\n",
    "data =  one_shot(data) \n",
    "#data = normalize_IP(data)"
   ]
  },
  {
   "cell_type": "code",
   "execution_count": 22,
   "metadata": {},
   "outputs": [],
   "source": [
    "data_cfs = flag_convert(data)\n",
    "data_cfs = drop_columns(data_cfs)"
   ]
  },
  {
   "cell_type": "code",
   "execution_count": 23,
   "metadata": {},
   "outputs": [],
   "source": [
    "cfs_Y = data_cfs['attackType'].to_numpy()\n",
    "cfs_X = data_cfs.drop(['attackType'], axis = 1).to_numpy()"
   ]
  },
  {
   "cell_type": "code",
   "execution_count": 24,
   "metadata": {},
   "outputs": [],
   "source": [
    "cfs_index = cfs(cfs_X, cfs_Y)"
   ]
  },
  {
   "cell_type": "code",
   "execution_count": 25,
   "metadata": {},
   "outputs": [
    {
     "data": {
      "text/plain": [
       "array([19, 18,  3,  5,  0, 17])"
      ]
     },
     "execution_count": 25,
     "metadata": {},
     "output_type": "execute_result"
    }
   ],
   "source": [
    "#After running CFS feature selection algorithm.\n",
    "cfs_index"
   ]
  },
  {
   "cell_type": "code",
   "execution_count": 27,
   "metadata": {},
   "outputs": [],
   "source": [
    "#selected_features = data_cfs.drop(['attackType'], axis = 1)\n",
    "selected_features = data_cfs.iloc[:, cfs_index].columns\n",
    "#selected_features = pd.concat([selected_features,data['attackType'] ], axis = 0)"
   ]
  },
  {
   "cell_type": "code",
   "execution_count": 28,
   "metadata": {},
   "outputs": [
    {
     "data": {
      "text/plain": [
       "Index(['S', 'R', 'Packets', 'Tos', 'Duration', 'P'], dtype='object')"
      ]
     },
     "execution_count": 28,
     "metadata": {},
     "output_type": "execute_result"
    }
   ],
   "source": [
    "selected_features"
   ]
  },
  {
   "cell_type": "code",
   "execution_count": 22,
   "metadata": {},
   "outputs": [
    {
     "data": {
      "text/plain": [
       "20"
      ]
     },
     "execution_count": 22,
     "metadata": {},
     "output_type": "execute_result"
    }
   ],
   "source": [
    "gc.collect()"
   ]
  },
  {
   "cell_type": "code",
   "execution_count": 22,
   "metadata": {},
   "outputs": [],
   "source": [
    "from datetime import datetime\n",
    "def unix_time(df):\n",
    "  #  df[' Timestamp'] = df[' Timestamp'].apply(lambda x: x + ':00' if len(x) != 19 else x)\n",
    "   # df[' Timestamp'] = df[' Timestamp'].apply(lambda x: x[0 : 5 : ] + x[7 : :] if len(x) != 19 else x[0 : 7 : ] + x[9 : :])\n",
    "    df['Date first seen'] = df['Date first seen'].apply(lambda x: datetime.strptime(x,'%Y-%m-%d %H:%M:%S.%f'))\n",
    "    df['Date first seen'] = df['Date first seen'].apply(lambda x: x.timestamp()*1000)\n",
    "    return df;"
   ]
  },
  {
   "cell_type": "code",
   "execution_count": 23,
   "metadata": {},
   "outputs": [],
   "source": [
    "def normal_profile(grouped):\n",
    "    grouped['---'] = unix_time(grouped['---'])\n",
    "    start_time = int(grouped['---'].head(1)['Date first seen'].values[0])\n",
    "    end_time = int(grouped['---'].tail(1)['Date first seen'].values[0])\n",
    "#date_bins = pd.IntervalIndex.from_tuples(\n",
    "#        [(i, i+3600000) for i in range(start_time, end_time, 3600000)],\n",
    "#        closed=\"left\")\n",
    "#date_labels = [f\"{i}\" for i in range(1, len(date_bins)+1, 1)]\n",
    "    normal_data = dict(tuple( grouped['---'].groupby( pd.cut(\n",
    "            grouped['---']['Date first seen'],\n",
    "               np.arange(start_time, end_time, 3*3600000)))))\n",
    "    del grouped['---']\n",
    "    num = []\n",
    "    for i in grouped_data.keys():\n",
    "          num.append(len(grouped_data[i]))\n",
    "    print(min(num))\n",
    "    num = max(num)\n",
    "    print(num)\n",
    "    print(len(grouped.keys()))\n",
    "    grouped = {**grouped, **normal_data}\n",
    "    print(len(grouped.keys()))\n",
    "    return grouped, num;"
   ]
  },
  {
   "cell_type": "code",
   "execution_count": 24,
   "metadata": {},
   "outputs": [
    {
     "data": {
      "text/plain": [
       "0"
      ]
     },
     "execution_count": 24,
     "metadata": {},
     "output_type": "execute_result"
    }
   ],
   "source": [
    "grouped_data= dict(tuple(data.groupby(['attackID'])))\n",
    "del data\n",
    "gc.collect()"
   ]
  },
  {
   "cell_type": "code",
   "execution_count": 25,
   "metadata": {
    "scrolled": true
   },
   "outputs": [
    {
     "name": "stdout",
     "output_type": "stream",
     "text": [
      "---: 7195669 : 0\n",
      "Attack ID: 1; Lenght of Attack: 7657; Attack Type: 1\n",
      "Attack ID: 10; Lenght of Attack: 311; Attack Type: 1\n",
      "Attack ID: 11; Lenght of Attack: 17401; Attack Type: 1\n",
      "Attack ID: 12; Lenght of Attack: 11526; Attack Type: 1\n",
      "Attack ID: 13; Lenght of Attack: 513; Attack Type: 1\n",
      "Attack ID: 14; Lenght of Attack: 13807; Attack Type: 1\n",
      "Attack ID: 15; Lenght of Attack: 64; Attack Type: 1\n",
      "Attack ID: 16; Lenght of Attack: 261003; Attack Type: 1\n",
      "Attack ID: 17; Lenght of Attack: 13338; Attack Type: 1\n",
      "Attack ID: 18; Lenght of Attack: 295302; Attack Type: 1\n",
      "Attack ID: 19; Lenght of Attack: 11672; Attack Type: 1\n",
      "Attack ID: 2; Lenght of Attack: 1927; Attack Type: 1\n",
      "Attack ID: 20; Lenght of Attack: 11748; Attack Type: 1\n",
      "Attack ID: 21; Lenght of Attack: 5113; Attack Type: 1\n",
      "Attack ID: 22; Lenght of Attack: 295; Attack Type: 1\n",
      "Attack ID: 23; Lenght of Attack: 72788; Attack Type: 1\n",
      "Attack ID: 24; Lenght of Attack: 466; Attack Type: 1\n",
      "Attack ID: 25; Lenght of Attack: 201; Attack Type: 1\n",
      "Attack ID: 26; Lenght of Attack: 74471; Attack Type: 1\n",
      "Attack ID: 27; Lenght of Attack: 680; Attack Type: 1\n",
      "Attack ID: 28; Lenght of Attack: 36306; Attack Type: 1\n",
      "Attack ID: 29; Lenght of Attack: 19732; Attack Type: 1\n",
      "Attack ID: 3; Lenght of Attack: 37118; Attack Type: 1\n",
      "Attack ID: 30; Lenght of Attack: 46; Attack Type: 1\n",
      "Attack ID: 31; Lenght of Attack: 144845; Attack Type: 1\n",
      "Attack ID: 32; Lenght of Attack: 335; Attack Type: 1\n",
      "Attack ID: 33; Lenght of Attack: 307; Attack Type: 1\n",
      "Attack ID: 34; Lenght of Attack: 12909; Attack Type: 1\n",
      "Attack ID: 35; Lenght of Attack: 263; Attack Type: 1\n",
      "Attack ID: 36; Lenght of Attack: 494; Attack Type: 1\n",
      "Attack ID: 37; Lenght of Attack: 26114; Attack Type: 1\n",
      "Attack ID: 38; Lenght of Attack: 267; Attack Type: 1\n",
      "Attack ID: 39; Lenght of Attack: 364; Attack Type: 1\n",
      "Attack ID: 4; Lenght of Attack: 72063; Attack Type: 1\n",
      "Attack ID: 40; Lenght of Attack: 11609; Attack Type: 1\n",
      "Attack ID: 41; Lenght of Attack: 379; Attack Type: 1\n",
      "Attack ID: 42; Lenght of Attack: 184040; Attack Type: 1\n",
      "Attack ID: 43; Lenght of Attack: 2143; Attack Type: 1\n",
      "Attack ID: 44; Lenght of Attack: 261169; Attack Type: 1\n",
      "Attack ID: 45; Lenght of Attack: 224960; Attack Type: 1\n",
      "Attack ID: 46; Lenght of Attack: 111720; Attack Type: 1\n",
      "Attack ID: 47; Lenght of Attack: 13420; Attack Type: 1\n",
      "Attack ID: 48; Lenght of Attack: 13600; Attack Type: 1\n",
      "Attack ID: 49; Lenght of Attack: 17629; Attack Type: 1\n",
      "Attack ID: 5; Lenght of Attack: 4948; Attack Type: 1\n",
      "Attack ID: 50; Lenght of Attack: 4589; Attack Type: 1\n",
      "Attack ID: 51; Lenght of Attack: 11968; Attack Type: 1\n",
      "Attack ID: 52; Lenght of Attack: 607; Attack Type: 1\n",
      "Attack ID: 53; Lenght of Attack: 516299; Attack Type: 1\n",
      "Attack ID: 54; Lenght of Attack: 183; Attack Type: 1\n",
      "Attack ID: 55; Lenght of Attack: 757; Attack Type: 1\n",
      "Attack ID: 56; Lenght of Attack: 427; Attack Type: 1\n",
      "Attack ID: 57; Lenght of Attack: 522; Attack Type: 1\n",
      "Attack ID: 58; Lenght of Attack: 510; Attack Type: 1\n",
      "Attack ID: 59; Lenght of Attack: 110484; Attack Type: 1\n",
      "Attack ID: 6; Lenght of Attack: 37134; Attack Type: 1\n",
      "Attack ID: 60; Lenght of Attack: 333627; Attack Type: 1\n",
      "Attack ID: 61; Lenght of Attack: 705; Attack Type: 1\n",
      "Attack ID: 62; Lenght of Attack: 574; Attack Type: 1\n",
      "Attack ID: 63; Lenght of Attack: 148641; Attack Type: 1\n",
      "Attack ID: 64; Lenght of Attack: 480; Attack Type: 1\n",
      "Attack ID: 65; Lenght of Attack: 373; Attack Type: 1\n",
      "Attack ID: 66; Lenght of Attack: 359; Attack Type: 1\n",
      "Attack ID: 67; Lenght of Attack: 13426; Attack Type: 1\n",
      "Attack ID: 68; Lenght of Attack: 5632; Attack Type: 1\n",
      "Attack ID: 69; Lenght of Attack: 360; Attack Type: 1\n",
      "Attack ID: 7; Lenght of Attack: 9586; Attack Type: 1\n",
      "Attack ID: 70; Lenght of Attack: 240; Attack Type: 1\n",
      "Attack ID: 71; Lenght of Attack: 2008; Attack Type: 1\n",
      "Attack ID: 72; Lenght of Attack: 2002; Attack Type: 1\n",
      "Attack ID: 73; Lenght of Attack: 200; Attack Type: 1\n",
      "Attack ID: 74; Lenght of Attack: 200; Attack Type: 1\n",
      "Attack ID: 75; Lenght of Attack: 200; Attack Type: 1\n",
      "Attack ID: 76; Lenght of Attack: 168; Attack Type: 1\n",
      "Attack ID: 77; Lenght of Attack: 6410; Attack Type: 1\n",
      "Attack ID: 78; Lenght of Attack: 200; Attack Type: 1\n",
      "Attack ID: 79; Lenght of Attack: 200; Attack Type: 1\n",
      "Attack ID: 8; Lenght of Attack: 4424; Attack Type: 1\n",
      "Attack ID: 80; Lenght of Attack: 1991; Attack Type: 1\n",
      "Attack ID: 81; Lenght of Attack: 200; Attack Type: 1\n",
      "Attack ID: 82; Lenght of Attack: 1370; Attack Type: 1\n",
      "Attack ID: 83; Lenght of Attack: 200; Attack Type: 1\n",
      "Attack ID: 84; Lenght of Attack: 200; Attack Type: 1\n",
      "Attack ID: 85; Lenght of Attack: 1984; Attack Type: 1\n",
      "Attack ID: 86; Lenght of Attack: 2002; Attack Type: 1\n",
      "Attack ID: 87; Lenght of Attack: 200; Attack Type: 1\n",
      "Attack ID: 88; Lenght of Attack: 200; Attack Type: 1\n",
      "Attack ID: 89; Lenght of Attack: 952; Attack Type: 1\n",
      "Attack ID: 9; Lenght of Attack: 37057; Attack Type: 1\n",
      "Attack ID: 90; Lenght of Attack: 200; Attack Type: 1\n",
      "Attack ID: 91; Lenght of Attack: 40; Attack Type: 1\n",
      "Attack ID: 92; Lenght of Attack: 40; Attack Type: 1\n",
      "dos : 0\n",
      "pingScan: 0\n",
      "portScan : 0\n"
     ]
    }
   ],
   "source": [
    "no_1 = []\n",
    "no_2 = []\n",
    "no_3 = []\n",
    "no_4 = []\n",
    "for i in grouped_data.keys():\n",
    "   \n",
    "    if grouped_data[i]['attackType'].unique()[0] == 0:\n",
    "        print(f\"{i}: {len(grouped_data[i])} : {grouped_data[i]['attackType'].unique()[0]}\")\n",
    "    if grouped_data[i]['attackType'].unique()[0] == 1:\n",
    "              no_1.append(i)\n",
    "    if grouped_data[i]['attackType'].unique()[0] == 2:\n",
    "              no_2.append(i)\n",
    "    if grouped_data[i]['attackType'].unique()[0] == 3:\n",
    "              no_3.append(i)\n",
    "    if grouped_data[i]['attackType'].unique()[0] == 4:\n",
    "              no_4.append(i)\n",
    "for i in no_1:\n",
    "     print(f\"Attack ID: {i}; Lenght of Attack: {len(grouped_data[i])}; Attack Type: {grouped_data[i]['attackType'].unique()[0]}\")\n",
    "print(f\"dos : {len(no_2)}\")\n",
    "for i in no_2:\n",
    "     print(f\"Attack ID: {i}; Lenght of Attack: {len(grouped_data[i])}; Attack Type: {grouped_data[i]['attackType'].unique()[0]}\")\n",
    "print(f\"pingScan: {len(no_3)}\")\n",
    "for i in no_3:\n",
    "     print(f\"Attack ID: {i}; Lenght of Attack: {len(grouped_data[i])}; Attack Type: {grouped_data[i]['attackType'].unique()[0]}\")\n",
    "print(f\"portScan : {len(no_4)}\")\n",
    "for i in no_4:\n",
    "     print(f\"Attack ID: {i}; Lenght of Attack: {len(grouped_data[i])}; Attack Type: {grouped_data[i]['attackType'].unique()[0]}\")\n"
   ]
  },
  {
   "cell_type": "code",
   "execution_count": 26,
   "metadata": {},
   "outputs": [
    {
     "data": {
      "text/plain": [
       "20"
      ]
     },
     "execution_count": 26,
     "metadata": {},
     "output_type": "execute_result"
    }
   ],
   "source": [
    "del no_1\n",
    "del no_2\n",
    "del no_3\n",
    "del no_4\n",
    "gc.collect()"
   ]
  },
  {
   "cell_type": "code",
   "execution_count": 27,
   "metadata": {},
   "outputs": [],
   "source": [
    "def del_largeInstances(dic, length):\n",
    "    remove_ID = []\n",
    "    for i in dic.keys():\n",
    "        if (i != '---'):\n",
    "            if(len(dic[i]) >= length):\n",
    "                remove_ID.append(i)\n",
    "    print(len(remove_ID))\n",
    "    removed_attacks = {}\n",
    "    for i in remove_ID:\n",
    "        removed_attacks[i] = dic[i]\n",
    "        del dic[i]\n",
    "    return dic;"
   ]
  },
  {
   "cell_type": "code",
   "execution_count": 28,
   "metadata": {},
   "outputs": [
    {
     "name": "stdout",
     "output_type": "stream",
     "text": [
      "19\n"
     ]
    }
   ],
   "source": [
    "grouped_data = del_largeInstances(grouped_data, 20000)"
   ]
  },
  {
   "cell_type": "code",
   "execution_count": 29,
   "metadata": {},
   "outputs": [
    {
     "name": "stdout",
     "output_type": "stream",
     "text": [
      "40\n",
      "19732\n",
      "73\n",
      "350\n"
     ]
    }
   ],
   "source": [
    "#grouped_data, num = normal_profile(grouped_data)\n",
    "grouped_data1= {}\n",
    "for i in grouped_data.keys():\n",
    "    grouped_data[i] = flag_convert(grouped_data[i])\n",
    "   # grouped_data[i] =  drop_columns(grouped_data[i])\n",
    "grouped_data, num = normal_profile(grouped_data)\n",
    "for i in grouped_data.keys():\n",
    "   # grouped_data[i] = flag_convert(grouped_data[i])\n",
    "    grouped_data[i] =  drop_columns(grouped_data[i])"
   ]
  },
  {
   "cell_type": "code",
   "execution_count": 30,
   "metadata": {},
   "outputs": [
    {
     "name": "stdout",
     "output_type": "stream",
     "text": [
      "1 : False\n",
      "10 : False\n",
      "11 : False\n",
      "12 : False\n",
      "13 : False\n",
      "14 : False\n",
      "15 : False\n",
      "17 : False\n",
      "19 : False\n",
      "2 : False\n",
      "20 : False\n",
      "21 : False\n",
      "22 : False\n",
      "24 : False\n",
      "25 : False\n",
      "27 : False\n",
      "29 : False\n",
      "30 : False\n",
      "32 : False\n",
      "33 : False\n",
      "34 : False\n",
      "35 : False\n",
      "36 : False\n",
      "38 : False\n",
      "39 : False\n",
      "40 : False\n",
      "41 : False\n",
      "43 : False\n",
      "47 : False\n",
      "48 : False\n",
      "49 : False\n",
      "5 : False\n",
      "50 : False\n",
      "51 : False\n",
      "52 : False\n",
      "54 : False\n",
      "55 : False\n",
      "56 : False\n",
      "57 : False\n",
      "58 : False\n",
      "61 : False\n",
      "62 : False\n",
      "64 : False\n",
      "65 : False\n",
      "66 : False\n",
      "67 : False\n",
      "68 : False\n",
      "69 : False\n",
      "7 : False\n",
      "70 : False\n",
      "71 : False\n",
      "72 : False\n",
      "73 : False\n",
      "74 : False\n",
      "75 : False\n",
      "76 : False\n",
      "77 : False\n",
      "78 : False\n",
      "79 : False\n",
      "8 : False\n",
      "80 : False\n",
      "81 : False\n",
      "82 : False\n",
      "83 : False\n",
      "84 : False\n",
      "85 : False\n",
      "86 : False\n",
      "87 : False\n",
      "88 : False\n",
      "89 : False\n",
      "90 : False\n",
      "91 : False\n",
      "92 : False\n",
      "(1489536076632, 1489546876632] : False\n",
      "(1489546876632, 1489557676632] : False\n",
      "(1489557676632, 1489568476632] : False\n",
      "(1489568476632, 1489579276632] : False\n",
      "(1489579276632, 1489590076632] : False\n",
      "(1489590076632, 1489600876632] : False\n",
      "(1489600876632, 1489611676632] : False\n",
      "(1489611676632, 1489622476632] : False\n",
      "(1489622476632, 1489633276632] : False\n",
      "(1489633276632, 1489644076632] : False\n",
      "(1489644076632, 1489654876632] : False\n",
      "(1489654876632, 1489665676632] : False\n",
      "(1489665676632, 1489676476632] : False\n",
      "(1489676476632, 1489687276632] : False\n",
      "(1489687276632, 1489698076632] : False\n",
      "(1489698076632, 1489708876632] : False\n",
      "(1489708876632, 1489719676632] : False\n",
      "(1489719676632, 1489730476632] : False\n",
      "(1489730476632, 1489741276632] : False\n",
      "(1489741276632, 1489752076632] : False\n",
      "(1489752076632, 1489762876632] : False\n",
      "(1489762876632, 1489773676632] : False\n",
      "(1489773676632, 1489784476632] : False\n",
      "(1489784476632, 1489795276632] : False\n",
      "(1489795276632, 1489806076632] : False\n",
      "(1489806076632, 1489816876632] : False\n",
      "(1489816876632, 1489827676632] : False\n",
      "(1489827676632, 1489838476632] : False\n",
      "(1489838476632, 1489849276632] : False\n",
      "(1489849276632, 1489860076632] : False\n",
      "(1489860076632, 1489870876632] : False\n",
      "(1489870876632, 1489881676632] : False\n",
      "(1489881676632, 1489892476632] : False\n",
      "(1489892476632, 1489903276632] : False\n",
      "(1489903276632, 1489914076632] : False\n",
      "(1489914076632, 1489924876632] : False\n",
      "(1489924876632, 1489935676632] : False\n",
      "(1489935676632, 1489946476632] : False\n",
      "(1489946476632, 1489957276632] : False\n",
      "(1489957276632, 1489968076632] : False\n",
      "(1489968076632, 1489978876632] : False\n",
      "(1489978876632, 1489989676632] : False\n",
      "(1489989676632, 1490000476632] : False\n",
      "(1490000476632, 1490011276632] : False\n",
      "(1490011276632, 1490022076632] : False\n",
      "(1490022076632, 1490032876632] : False\n",
      "(1490032876632, 1490043676632] : False\n",
      "(1490043676632, 1490054476632] : False\n",
      "(1490054476632, 1490065276632] : False\n",
      "(1490065276632, 1490076076632] : False\n",
      "(1490076076632, 1490086876632] : False\n",
      "(1490086876632, 1490097676632] : False\n",
      "(1490097676632, 1490108476632] : False\n",
      "(1490108476632, 1490119276632] : False\n",
      "(1490119276632, 1490130076632] : False\n",
      "(1490130076632, 1490140876632] : False\n",
      "(1490140876632, 1490151676632] : False\n",
      "(1490151676632, 1490162476632] : False\n",
      "(1490162476632, 1490173276632] : False\n",
      "(1490173276632, 1490184076632] : False\n",
      "(1490184076632, 1490194876632] : False\n",
      "(1490194876632, 1490205676632] : False\n",
      "(1490205676632, 1490216476632] : False\n",
      "(1490216476632, 1490227276632] : False\n",
      "(1490227276632, 1490238076632] : False\n",
      "(1490238076632, 1490248876632] : False\n",
      "(1490248876632, 1490259676632] : False\n",
      "(1490259676632, 1490270476632] : False\n",
      "(1490270476632, 1490281276632] : False\n",
      "(1490281276632, 1490292076632] : False\n",
      "(1490292076632, 1490302876632] : False\n",
      "(1490302876632, 1490313676632] : False\n",
      "(1490313676632, 1490324476632] : False\n",
      "(1490324476632, 1490335276632] : False\n",
      "(1490335276632, 1490346076632] : False\n",
      "(1490346076632, 1490356876632] : False\n",
      "(1490356876632, 1490367676632] : False\n",
      "(1490367676632, 1490378476632] : False\n",
      "(1490378476632, 1490389276632] : False\n",
      "(1490389276632, 1490400076632] : False\n",
      "(1490400076632, 1490410876632] : False\n",
      "(1490410876632, 1490421676632] : False\n",
      "(1490421676632, 1490432476632] : False\n",
      "(1490432476632, 1490443276632] : False\n",
      "(1490443276632, 1490454076632] : False\n",
      "(1490454076632, 1490464876632] : False\n",
      "(1490464876632, 1490475676632] : False\n",
      "(1490475676632, 1490486476632] : False\n",
      "(1490486476632, 1490497276632] : False\n",
      "(1490497276632, 1490508076632] : False\n",
      "(1490508076632, 1490518876632] : False\n",
      "(1490518876632, 1490529676632] : False\n",
      "(1490529676632, 1490540476632] : False\n",
      "(1490540476632, 1490551276632] : False\n",
      "(1490551276632, 1490562076632] : False\n",
      "(1490562076632, 1490572876632] : False\n",
      "(1490572876632, 1490583676632] : False\n",
      "(1490583676632, 1490594476632] : False\n",
      "(1490594476632, 1490605276632] : False\n",
      "(1490605276632, 1490616076632] : False\n",
      "(1490616076632, 1490626876632] : False\n",
      "(1490626876632, 1490637676632] : False\n",
      "(1490637676632, 1490648476632] : False\n",
      "(1490648476632, 1490659276632] : False\n",
      "(1490659276632, 1490670076632] : False\n",
      "(1490670076632, 1490680876632] : False\n",
      "(1490680876632, 1490691676632] : False\n",
      "(1490691676632, 1490702476632] : False\n",
      "(1490702476632, 1490713276632] : False\n",
      "(1490713276632, 1490724076632] : False\n",
      "(1490724076632, 1490734876632] : False\n",
      "(1490734876632, 1490745676632] : False\n",
      "(1490745676632, 1490756476632] : False\n",
      "(1490756476632, 1490767276632] : False\n",
      "(1490767276632, 1490778076632] : False\n",
      "(1490778076632, 1490788876632] : False\n",
      "(1490788876632, 1490799676632] : False\n",
      "(1490799676632, 1490810476632] : False\n",
      "(1490810476632, 1490821276632] : False\n",
      "(1490821276632, 1490832076632] : False\n",
      "(1490832076632, 1490842876632] : False\n",
      "(1490842876632, 1490853676632] : False\n",
      "(1490853676632, 1490864476632] : False\n",
      "(1490864476632, 1490875276632] : False\n",
      "(1490875276632, 1490886076632] : False\n",
      "(1490886076632, 1490896876632] : False\n",
      "(1490896876632, 1490907676632] : False\n",
      "(1490907676632, 1490918476632] : False\n",
      "(1490918476632, 1490929276632] : False\n",
      "(1490929276632, 1490940076632] : False\n",
      "(1490940076632, 1490950876632] : False\n",
      "(1490950876632, 1490961676632] : False\n",
      "(1490961676632, 1490972476632] : False\n",
      "(1490972476632, 1490983276632] : False\n",
      "(1490983276632, 1490994076632] : False\n",
      "(1490994076632, 1491004876632] : False\n",
      "(1491004876632, 1491015676632] : False\n",
      "(1491015676632, 1491026476632] : False\n",
      "(1491026476632, 1491037276632] : False\n",
      "(1491037276632, 1491048076632] : False\n",
      "(1491048076632, 1491058876632] : False\n",
      "(1491058876632, 1491069676632] : False\n",
      "(1491069676632, 1491080476632] : False\n",
      "(1491080476632, 1491091276632] : False\n",
      "(1491091276632, 1491102076632] : False\n",
      "(1491102076632, 1491112876632] : False\n",
      "(1491112876632, 1491123676632] : False\n",
      "(1491123676632, 1491134476632] : False\n",
      "(1491134476632, 1491145276632] : False\n",
      "(1491145276632, 1491156076632] : False\n",
      "(1491156076632, 1491166876632] : False\n",
      "(1491166876632, 1491177676632] : False\n",
      "(1491177676632, 1491188476632] : False\n",
      "(1491188476632, 1491199276632] : False\n",
      "(1491199276632, 1491210076632] : False\n",
      "(1491210076632, 1491220876632] : False\n",
      "(1491220876632, 1491231676632] : False\n",
      "(1491231676632, 1491242476632] : False\n",
      "(1491242476632, 1491253276632] : False\n",
      "(1491253276632, 1491264076632] : False\n",
      "(1491264076632, 1491274876632] : False\n",
      "(1491274876632, 1491285676632] : False\n",
      "(1491285676632, 1491296476632] : False\n",
      "(1491296476632, 1491307276632] : False\n",
      "(1491307276632, 1491318076632] : False\n",
      "(1491318076632, 1491328876632] : False\n",
      "(1491328876632, 1491339676632] : False\n",
      "(1491339676632, 1491350476632] : False\n",
      "(1491350476632, 1491361276632] : False\n",
      "(1491361276632, 1491372076632] : False\n",
      "(1491372076632, 1491382876632] : False\n",
      "(1491382876632, 1491393676632] : False\n",
      "(1491393676632, 1491404476632] : False\n",
      "(1491404476632, 1491415276632] : False\n",
      "(1491415276632, 1491426076632] : False\n",
      "(1491426076632, 1491436876632] : False\n",
      "(1491436876632, 1491447676632] : False\n",
      "(1491447676632, 1491458476632] : False\n",
      "(1491458476632, 1491469276632] : False\n",
      "(1491469276632, 1491480076632] : False\n",
      "(1491480076632, 1491490876632] : False\n",
      "(1491490876632, 1491501676632] : False\n",
      "(1491501676632, 1491512476632] : False\n",
      "(1491512476632, 1491523276632] : False\n",
      "(1491523276632, 1491534076632] : False\n",
      "(1491534076632, 1491544876632] : False\n",
      "(1491544876632, 1491555676632] : False\n",
      "(1491555676632, 1491566476632] : False\n",
      "(1491566476632, 1491577276632] : False\n",
      "(1491577276632, 1491588076632] : False\n",
      "(1491588076632, 1491598876632] : False\n",
      "(1491598876632, 1491609676632] : False\n",
      "(1491609676632, 1491620476632] : False\n",
      "(1491620476632, 1491631276632] : False\n",
      "(1491631276632, 1491642076632] : False\n",
      "(1491642076632, 1491652876632] : False\n",
      "(1491652876632, 1491663676632] : False\n",
      "(1491663676632, 1491674476632] : False\n",
      "(1491674476632, 1491685276632] : False\n",
      "(1491685276632, 1491696076632] : False\n",
      "(1491696076632, 1491706876632] : False\n",
      "(1491706876632, 1491717676632] : False\n",
      "(1491717676632, 1491728476632] : False\n",
      "(1491728476632, 1491739276632] : False\n",
      "(1491739276632, 1491750076632] : False\n",
      "(1491750076632, 1491760876632] : False\n",
      "(1491760876632, 1491771676632] : False\n",
      "(1491771676632, 1491782476632] : False\n",
      "(1491782476632, 1491793276632] : False\n",
      "(1491793276632, 1491804076632] : False\n",
      "(1491804076632, 1491814876632] : False\n",
      "(1491814876632, 1491825676632] : False\n",
      "(1491825676632, 1491836476632] : False\n",
      "(1491836476632, 1491847276632] : False\n",
      "(1491847276632, 1491858076632] : False\n",
      "(1491858076632, 1491868876632] : False\n",
      "(1491868876632, 1491879676632] : False\n",
      "(1491879676632, 1491890476632] : False\n",
      "(1491890476632, 1491901276632] : False\n",
      "(1491901276632, 1491912076632] : False\n",
      "(1491912076632, 1491922876632] : False\n",
      "(1491922876632, 1491933676632] : False\n",
      "(1491933676632, 1491944476632] : False\n",
      "(1491944476632, 1491955276632] : False\n",
      "(1491955276632, 1491966076632] : False\n",
      "(1491966076632, 1491976876632] : False\n",
      "(1491976876632, 1491987676632] : False\n",
      "(1491987676632, 1491998476632] : False\n",
      "(1491998476632, 1492009276632] : False\n",
      "(1492009276632, 1492020076632] : False\n",
      "(1492020076632, 1492030876632] : False\n",
      "(1492030876632, 1492041676632] : False\n",
      "(1492041676632, 1492052476632] : False\n",
      "(1492052476632, 1492063276632] : False\n"
     ]
    },
    {
     "name": "stdout",
     "output_type": "stream",
     "text": [
      "(1492063276632, 1492074076632] : False\n",
      "(1492074076632, 1492084876632] : False\n",
      "(1492084876632, 1492095676632] : False\n",
      "(1492095676632, 1492106476632] : False\n",
      "(1492106476632, 1492117276632] : False\n",
      "(1492117276632, 1492128076632] : False\n",
      "(1492128076632, 1492138876632] : False\n",
      "(1492138876632, 1492149676632] : False\n",
      "(1492149676632, 1492160476632] : False\n",
      "(1492160476632, 1492171276632] : False\n",
      "(1492171276632, 1492182076632] : False\n",
      "(1492182076632, 1492192876632] : False\n",
      "(1492192876632, 1492203676632] : False\n",
      "(1492203676632, 1492214476632] : False\n",
      "(1492214476632, 1492225276632] : False\n",
      "(1492225276632, 1492236076632] : False\n",
      "(1492236076632, 1492246876632] : False\n",
      "(1492246876632, 1492257676632] : False\n",
      "(1492257676632, 1492268476632] : False\n",
      "(1492268476632, 1492279276632] : False\n",
      "(1492279276632, 1492290076632] : False\n",
      "(1492290076632, 1492300876632] : False\n",
      "(1492300876632, 1492311676632] : False\n",
      "(1492311676632, 1492322476632] : False\n",
      "(1492322476632, 1492333276632] : False\n",
      "(1492333276632, 1492344076632] : False\n",
      "(1492344076632, 1492354876632] : False\n",
      "(1492354876632, 1492365676632] : False\n",
      "(1492365676632, 1492376476632] : False\n",
      "(1492376476632, 1492387276632] : False\n",
      "(1492387276632, 1492398076632] : False\n",
      "(1492398076632, 1492408876632] : False\n",
      "(1492408876632, 1492419676632] : False\n",
      "(1492419676632, 1492430476632] : False\n",
      "(1492430476632, 1492441276632] : False\n",
      "(1492441276632, 1492452076632] : False\n",
      "(1492452076632, 1492462876632] : False\n",
      "(1492462876632, 1492473676632] : False\n",
      "(1492473676632, 1492484476632] : False\n",
      "(1492484476632, 1492495276632] : False\n",
      "(1492495276632, 1492506076632] : False\n",
      "(1492506076632, 1492516876632] : False\n",
      "(1492516876632, 1492527676632] : False\n"
     ]
    }
   ],
   "source": [
    "for i in grouped_data.keys():\n",
    "    #if (grouped_data[i].hasnull())\n",
    "    print(f'{i} : {grouped_data[i].isnull().values.any()}')"
   ]
  },
  {
   "cell_type": "code",
   "execution_count": 31,
   "metadata": {},
   "outputs": [
    {
     "name": "stdout",
     "output_type": "stream",
     "text": [
      "Number of Instances which are empty: 167\n"
     ]
    }
   ],
   "source": [
    "counter = 0\n",
    "for i in grouped_data.keys():\n",
    "    if ( len(grouped_data[i]) == 0):\n",
    "        counter = counter +1;\n",
    "print(f\"Number of Instances which are empty: {counter}\")"
   ]
  },
  {
   "cell_type": "code",
   "execution_count": 32,
   "metadata": {},
   "outputs": [],
   "source": [
    "def roundup(x):\n",
    "    return x if x % 100 == 0 else x + 100 - x % 100\n",
    "#Convert to 3D arrays, input dict\n",
    "def make_array(dic):\n",
    "    x = []\n",
    "    y = []\n",
    "    zero_arrays = []\n",
    "    for i in dic.keys():\n",
    "        if ( len(dic[i]) == 0):\n",
    "            zero_arrays.append(i);\n",
    "    for i in zero_arrays:\n",
    "        del dic[i]\n",
    "    for i in dic.keys():\n",
    "        x.append(np.array(dic[i].drop(['attackType'],axis = 1)).astype(np.float32))\n",
    "       # print(f'{i}')\n",
    "        y.append(dic[i]['attackType'].values[0])\n",
    "    print(len(y))\n",
    "    o = []\n",
    "    features = len(x[1][1])\n",
    "    #for i in x:\n",
    "     #   o.append(len(i))\n",
    "   # print(min(o))\n",
    "    o = num\n",
    "    o = roundup(o)\n",
    "    print(o)\n",
    "    index = 0\n",
    "    for i in x:\n",
    "        l = len(i)\n",
    "        i = list(i)\n",
    "        if(o > l):\n",
    "            l = o-l\n",
    "            for j in range(0, l, 1):\n",
    "                i.append([0] * features)\n",
    "        elif (o<l):\n",
    "            l = l-o\n",
    "            i = i[:-l]\n",
    "        #i = [k = np.array([k]) for l in i for k in l] # Makes array elements an array \n",
    "        x[index] = np.array(i).astype(np.float32)\n",
    "        index = index + 1\n",
    "    #x = [[i] for i in x]\n",
    "    return x,y"
   ]
  },
  {
   "cell_type": "code",
   "execution_count": 33,
   "metadata": {},
   "outputs": [],
   "source": [
    "#Remove columns that were not listed in cfs list\n",
    "selected_features = ['S', 'R', 'Packets', 'Tos', 'Duration', 'P', 'attackType']\n",
    "for i in grouped_data.keys():\n",
    "    if ( len(grouped_data[i]) != 0):\n",
    "        grouped_data[i] = grouped_data[i][selected_features]"
   ]
  },
  {
   "cell_type": "code",
   "execution_count": 34,
   "metadata": {},
   "outputs": [
    {
     "name": "stdout",
     "output_type": "stream",
     "text": [
      "1 : False\n",
      "10 : False\n",
      "11 : False\n",
      "12 : False\n",
      "13 : False\n",
      "14 : False\n",
      "15 : False\n",
      "17 : False\n",
      "19 : False\n",
      "2 : False\n",
      "20 : False\n",
      "21 : False\n",
      "22 : False\n",
      "24 : False\n",
      "25 : False\n",
      "27 : False\n",
      "29 : False\n",
      "30 : False\n",
      "32 : False\n",
      "33 : False\n",
      "34 : False\n",
      "35 : False\n",
      "36 : False\n",
      "38 : False\n",
      "39 : False\n",
      "40 : False\n",
      "41 : False\n",
      "43 : False\n",
      "47 : False\n",
      "48 : False\n",
      "49 : False\n",
      "5 : False\n",
      "50 : False\n",
      "51 : False\n",
      "52 : False\n",
      "54 : False\n",
      "55 : False\n",
      "56 : False\n",
      "57 : False\n",
      "58 : False\n",
      "61 : False\n",
      "62 : False\n",
      "64 : False\n",
      "65 : False\n",
      "66 : False\n",
      "67 : False\n",
      "68 : False\n",
      "69 : False\n",
      "7 : False\n",
      "70 : False\n",
      "71 : False\n",
      "72 : False\n",
      "73 : False\n",
      "74 : False\n",
      "75 : False\n",
      "76 : False\n",
      "77 : False\n",
      "78 : False\n",
      "79 : False\n",
      "8 : False\n",
      "80 : False\n",
      "81 : False\n",
      "82 : False\n",
      "83 : False\n",
      "84 : False\n",
      "85 : False\n",
      "86 : False\n",
      "87 : False\n",
      "88 : False\n",
      "89 : False\n",
      "90 : False\n",
      "91 : False\n",
      "92 : False\n",
      "(1489536076632, 1489546876632] : False\n",
      "(1489546876632, 1489557676632] : False\n",
      "(1489557676632, 1489568476632] : False\n",
      "(1489568476632, 1489579276632] : False\n",
      "(1489579276632, 1489590076632] : False\n",
      "(1489590076632, 1489600876632] : False\n",
      "(1489600876632, 1489611676632] : False\n",
      "(1489611676632, 1489622476632] : False\n",
      "(1489622476632, 1489633276632] : False\n",
      "(1489633276632, 1489644076632] : False\n",
      "(1489644076632, 1489654876632] : False\n",
      "(1489654876632, 1489665676632] : False\n",
      "(1489665676632, 1489676476632] : False\n",
      "(1489676476632, 1489687276632] : False\n",
      "(1489687276632, 1489698076632] : False\n",
      "(1489698076632, 1489708876632] : False\n",
      "(1489708876632, 1489719676632] : False\n",
      "(1489719676632, 1489730476632] : False\n",
      "(1489730476632, 1489741276632] : False\n",
      "(1489741276632, 1489752076632] : False\n",
      "(1489752076632, 1489762876632] : False\n",
      "(1489762876632, 1489773676632] : False\n",
      "(1489773676632, 1489784476632] : False\n",
      "(1489784476632, 1489795276632] : False\n",
      "(1489795276632, 1489806076632] : False\n",
      "(1489806076632, 1489816876632] : False\n",
      "(1489816876632, 1489827676632] : False\n",
      "(1489827676632, 1489838476632] : False\n",
      "(1489838476632, 1489849276632] : False\n",
      "(1489849276632, 1489860076632] : False\n",
      "(1489860076632, 1489870876632] : False\n",
      "(1489870876632, 1489881676632] : False\n",
      "(1489881676632, 1489892476632] : False\n",
      "(1489892476632, 1489903276632] : False\n",
      "(1489903276632, 1489914076632] : False\n",
      "(1489914076632, 1489924876632] : False\n",
      "(1489924876632, 1489935676632] : False\n",
      "(1489935676632, 1489946476632] : False\n",
      "(1489946476632, 1489957276632] : False\n",
      "(1489957276632, 1489968076632] : False\n",
      "(1489968076632, 1489978876632] : False\n",
      "(1489978876632, 1489989676632] : False\n",
      "(1489989676632, 1490000476632] : False\n",
      "(1490000476632, 1490011276632] : False\n",
      "(1490011276632, 1490022076632] : False\n",
      "(1490022076632, 1490032876632] : False\n",
      "(1490032876632, 1490043676632] : False\n",
      "(1490043676632, 1490054476632] : False\n",
      "(1490054476632, 1490065276632] : False\n",
      "(1490065276632, 1490076076632] : False\n",
      "(1490076076632, 1490086876632] : False\n",
      "(1490086876632, 1490097676632] : False\n",
      "(1490097676632, 1490108476632] : False\n",
      "(1490108476632, 1490119276632] : False\n",
      "(1490119276632, 1490130076632] : False\n",
      "(1490130076632, 1490140876632] : False\n",
      "(1490140876632, 1490151676632] : False\n",
      "(1490151676632, 1490162476632] : False\n",
      "(1490162476632, 1490173276632] : False\n",
      "(1490173276632, 1490184076632] : False\n",
      "(1490184076632, 1490194876632] : False\n",
      "(1490194876632, 1490205676632] : False\n",
      "(1490205676632, 1490216476632] : False\n",
      "(1490216476632, 1490227276632] : False\n",
      "(1490227276632, 1490238076632] : False\n",
      "(1490238076632, 1490248876632] : False\n",
      "(1490248876632, 1490259676632] : False\n",
      "(1490259676632, 1490270476632] : False\n",
      "(1490270476632, 1490281276632] : False\n",
      "(1490281276632, 1490292076632] : False\n",
      "(1490292076632, 1490302876632] : False\n",
      "(1490302876632, 1490313676632] : False\n",
      "(1490313676632, 1490324476632] : False\n",
      "(1490324476632, 1490335276632] : False\n",
      "(1490335276632, 1490346076632] : False\n",
      "(1490346076632, 1490356876632] : False\n",
      "(1490356876632, 1490367676632] : False\n",
      "(1490367676632, 1490378476632] : False\n",
      "(1490378476632, 1490389276632] : False\n",
      "(1490389276632, 1490400076632] : False\n",
      "(1490400076632, 1490410876632] : False\n",
      "(1490410876632, 1490421676632] : False\n",
      "(1490421676632, 1490432476632] : False\n",
      "(1490432476632, 1490443276632] : False\n",
      "(1490443276632, 1490454076632] : False\n",
      "(1490454076632, 1490464876632] : False\n",
      "(1490464876632, 1490475676632] : False\n",
      "(1490475676632, 1490486476632] : False\n",
      "(1490486476632, 1490497276632] : False\n",
      "(1490497276632, 1490508076632] : False\n",
      "(1490508076632, 1490518876632] : False\n",
      "(1490518876632, 1490529676632] : False\n",
      "(1490529676632, 1490540476632] : False\n",
      "(1490540476632, 1490551276632] : False\n",
      "(1490551276632, 1490562076632] : False\n",
      "(1490562076632, 1490572876632] : False\n",
      "(1490572876632, 1490583676632] : False\n",
      "(1490583676632, 1490594476632] : False\n",
      "(1490594476632, 1490605276632] : False\n",
      "(1490605276632, 1490616076632] : False\n",
      "(1490616076632, 1490626876632] : False\n",
      "(1490626876632, 1490637676632] : False\n",
      "(1490637676632, 1490648476632] : False\n",
      "(1490648476632, 1490659276632] : False\n",
      "(1490659276632, 1490670076632] : False\n",
      "(1490670076632, 1490680876632] : False\n",
      "(1490680876632, 1490691676632] : False\n",
      "(1490691676632, 1490702476632] : False\n",
      "(1490702476632, 1490713276632] : False\n",
      "(1490713276632, 1490724076632] : False\n",
      "(1490724076632, 1490734876632] : False\n",
      "(1490734876632, 1490745676632] : False\n",
      "(1490745676632, 1490756476632] : False\n",
      "(1490756476632, 1490767276632] : False\n",
      "(1490767276632, 1490778076632] : False\n",
      "(1490778076632, 1490788876632] : False\n",
      "(1490788876632, 1490799676632] : False\n",
      "(1490799676632, 1490810476632] : False\n",
      "(1490810476632, 1490821276632] : False\n",
      "(1490821276632, 1490832076632] : False\n",
      "(1490832076632, 1490842876632] : False\n",
      "(1490842876632, 1490853676632] : False\n",
      "(1490853676632, 1490864476632] : False\n",
      "(1490864476632, 1490875276632] : False\n",
      "(1490875276632, 1490886076632] : False\n",
      "(1490886076632, 1490896876632] : False\n",
      "(1490896876632, 1490907676632] : False\n",
      "(1490907676632, 1490918476632] : False\n",
      "(1490918476632, 1490929276632] : False\n",
      "(1490929276632, 1490940076632] : False\n",
      "(1490940076632, 1490950876632] : False\n",
      "(1490950876632, 1490961676632] : False\n",
      "(1490961676632, 1490972476632] : False\n",
      "(1490972476632, 1490983276632] : False\n",
      "(1490983276632, 1490994076632] : False\n",
      "(1490994076632, 1491004876632] : False\n",
      "(1491004876632, 1491015676632] : False\n",
      "(1491015676632, 1491026476632] : False\n",
      "(1491026476632, 1491037276632] : False\n",
      "(1491037276632, 1491048076632] : False\n",
      "(1491048076632, 1491058876632] : False\n",
      "(1491058876632, 1491069676632] : False\n",
      "(1491069676632, 1491080476632] : False\n",
      "(1491080476632, 1491091276632] : False\n",
      "(1491091276632, 1491102076632] : False\n",
      "(1491102076632, 1491112876632] : False\n",
      "(1491112876632, 1491123676632] : False\n",
      "(1491123676632, 1491134476632] : False\n",
      "(1491134476632, 1491145276632] : False\n",
      "(1491145276632, 1491156076632] : False\n",
      "(1491156076632, 1491166876632] : False\n",
      "(1491166876632, 1491177676632] : False\n",
      "(1491177676632, 1491188476632] : False\n",
      "(1491188476632, 1491199276632] : False\n",
      "(1491199276632, 1491210076632] : False\n",
      "(1491210076632, 1491220876632] : False\n",
      "(1491220876632, 1491231676632] : False\n",
      "(1491231676632, 1491242476632] : False\n",
      "(1491242476632, 1491253276632] : False\n",
      "(1491253276632, 1491264076632] : False\n",
      "(1491264076632, 1491274876632] : False\n",
      "(1491274876632, 1491285676632] : False\n",
      "(1491285676632, 1491296476632] : False\n",
      "(1491296476632, 1491307276632] : False\n",
      "(1491307276632, 1491318076632] : False\n",
      "(1491318076632, 1491328876632] : False\n",
      "(1491328876632, 1491339676632] : False\n",
      "(1491339676632, 1491350476632] : False\n",
      "(1491350476632, 1491361276632] : False\n",
      "(1491361276632, 1491372076632] : False\n",
      "(1491372076632, 1491382876632] : False\n",
      "(1491382876632, 1491393676632] : False\n",
      "(1491393676632, 1491404476632] : False\n",
      "(1491404476632, 1491415276632] : False\n",
      "(1491415276632, 1491426076632] : False\n",
      "(1491426076632, 1491436876632] : False\n",
      "(1491436876632, 1491447676632] : False\n",
      "(1491447676632, 1491458476632] : False\n",
      "(1491458476632, 1491469276632] : False\n",
      "(1491469276632, 1491480076632] : False\n",
      "(1491480076632, 1491490876632] : False\n",
      "(1491490876632, 1491501676632] : False\n",
      "(1491501676632, 1491512476632] : False\n",
      "(1491512476632, 1491523276632] : False\n",
      "(1491523276632, 1491534076632] : False\n",
      "(1491534076632, 1491544876632] : False\n",
      "(1491544876632, 1491555676632] : False\n",
      "(1491555676632, 1491566476632] : False\n",
      "(1491566476632, 1491577276632] : False\n",
      "(1491577276632, 1491588076632] : False\n",
      "(1491588076632, 1491598876632] : False\n",
      "(1491598876632, 1491609676632] : False\n",
      "(1491609676632, 1491620476632] : False\n",
      "(1491620476632, 1491631276632] : False\n",
      "(1491631276632, 1491642076632] : False\n",
      "(1491642076632, 1491652876632] : False\n",
      "(1491652876632, 1491663676632] : False\n",
      "(1491663676632, 1491674476632] : False\n",
      "(1491674476632, 1491685276632] : False\n",
      "(1491685276632, 1491696076632] : False\n",
      "(1491696076632, 1491706876632] : False\n",
      "(1491706876632, 1491717676632] : False\n",
      "(1491717676632, 1491728476632] : False\n",
      "(1491728476632, 1491739276632] : False\n"
     ]
    },
    {
     "name": "stdout",
     "output_type": "stream",
     "text": [
      "(1491739276632, 1491750076632] : False\n",
      "(1491750076632, 1491760876632] : False\n",
      "(1491760876632, 1491771676632] : False\n",
      "(1491771676632, 1491782476632] : False\n",
      "(1491782476632, 1491793276632] : False\n",
      "(1491793276632, 1491804076632] : False\n",
      "(1491804076632, 1491814876632] : False\n",
      "(1491814876632, 1491825676632] : False\n",
      "(1491825676632, 1491836476632] : False\n",
      "(1491836476632, 1491847276632] : False\n",
      "(1491847276632, 1491858076632] : False\n",
      "(1491858076632, 1491868876632] : False\n",
      "(1491868876632, 1491879676632] : False\n",
      "(1491879676632, 1491890476632] : False\n",
      "(1491890476632, 1491901276632] : False\n",
      "(1491901276632, 1491912076632] : False\n",
      "(1491912076632, 1491922876632] : False\n",
      "(1491922876632, 1491933676632] : False\n",
      "(1491933676632, 1491944476632] : False\n",
      "(1491944476632, 1491955276632] : False\n",
      "(1491955276632, 1491966076632] : False\n",
      "(1491966076632, 1491976876632] : False\n",
      "(1491976876632, 1491987676632] : False\n",
      "(1491987676632, 1491998476632] : False\n",
      "(1491998476632, 1492009276632] : False\n",
      "(1492009276632, 1492020076632] : False\n",
      "(1492020076632, 1492030876632] : False\n",
      "(1492030876632, 1492041676632] : False\n",
      "(1492041676632, 1492052476632] : False\n",
      "(1492052476632, 1492063276632] : False\n",
      "(1492063276632, 1492074076632] : False\n",
      "(1492074076632, 1492084876632] : False\n",
      "(1492084876632, 1492095676632] : False\n",
      "(1492095676632, 1492106476632] : False\n",
      "(1492106476632, 1492117276632] : False\n",
      "(1492117276632, 1492128076632] : False\n",
      "(1492128076632, 1492138876632] : False\n",
      "(1492138876632, 1492149676632] : False\n",
      "(1492149676632, 1492160476632] : False\n",
      "(1492160476632, 1492171276632] : False\n",
      "(1492171276632, 1492182076632] : False\n",
      "(1492182076632, 1492192876632] : False\n",
      "(1492192876632, 1492203676632] : False\n",
      "(1492203676632, 1492214476632] : False\n",
      "(1492214476632, 1492225276632] : False\n",
      "(1492225276632, 1492236076632] : False\n",
      "(1492236076632, 1492246876632] : False\n",
      "(1492246876632, 1492257676632] : False\n",
      "(1492257676632, 1492268476632] : False\n",
      "(1492268476632, 1492279276632] : False\n",
      "(1492279276632, 1492290076632] : False\n",
      "(1492290076632, 1492300876632] : False\n",
      "(1492300876632, 1492311676632] : False\n",
      "(1492311676632, 1492322476632] : False\n",
      "(1492322476632, 1492333276632] : False\n",
      "(1492333276632, 1492344076632] : False\n",
      "(1492344076632, 1492354876632] : False\n",
      "(1492354876632, 1492365676632] : False\n",
      "(1492365676632, 1492376476632] : False\n",
      "(1492376476632, 1492387276632] : False\n",
      "(1492387276632, 1492398076632] : False\n",
      "(1492398076632, 1492408876632] : False\n",
      "(1492408876632, 1492419676632] : False\n",
      "(1492419676632, 1492430476632] : False\n",
      "(1492430476632, 1492441276632] : False\n",
      "(1492441276632, 1492452076632] : False\n",
      "(1492452076632, 1492462876632] : False\n",
      "(1492462876632, 1492473676632] : False\n",
      "(1492473676632, 1492484476632] : False\n",
      "(1492484476632, 1492495276632] : False\n",
      "(1492495276632, 1492506076632] : False\n",
      "(1492506076632, 1492516876632] : False\n",
      "(1492516876632, 1492527676632] : False\n"
     ]
    }
   ],
   "source": [
    "for i in grouped_data.keys():\n",
    "    #if (grouped_data[i].hasnull())\n",
    "    print(f'{i} : {grouped_data[i].isnull().values.any()}')"
   ]
  },
  {
   "cell_type": "code",
   "execution_count": 35,
   "metadata": {},
   "outputs": [
    {
     "name": "stdout",
     "output_type": "stream",
     "text": [
      "183\n",
      "19800\n"
     ]
    }
   ],
   "source": [
    "X,Y = make_array(grouped_data)\n",
    "del grouped_data\n",
    "gc.collect()\n",
    "Y = np.array(Y)\n",
    "X = np.array(X)"
   ]
  },
  {
   "cell_type": "code",
   "execution_count": 36,
   "metadata": {},
   "outputs": [
    {
     "data": {
      "text/plain": [
       "{0: 110, 1: 73}"
      ]
     },
     "execution_count": 36,
     "metadata": {},
     "output_type": "execute_result"
    }
   ],
   "source": [
    "unique, counts = np.unique(Y, return_counts=True)\n",
    "dict(zip(unique, counts))"
   ]
  },
  {
   "cell_type": "code",
   "execution_count": 37,
   "metadata": {},
   "outputs": [],
   "source": [
    "def make_4D(arr):\n",
    "    x = []\n",
    "    for i in range(0, len(arr),1):\n",
    "        temp = []\n",
    "        for j in range(0,len(arr[i]),1):\n",
    "             temp.append([np.array([k]) for k in arr[i][j]])\n",
    "        x.append(np.array(temp).astype(np.float32))\n",
    "    return np.array(x).astype(np.float32)"
   ]
  },
  {
   "cell_type": "code",
   "execution_count": 38,
   "metadata": {},
   "outputs": [],
   "source": [
    "X = make_4D(X)"
   ]
  },
  {
   "cell_type": "code",
   "execution_count": 39,
   "metadata": {},
   "outputs": [],
   "source": [
    "from sklearn.model_selection import train_test_split\n",
    "from sklearn.tree import DecisionTreeClassifier\n",
    "X_train, X_test, Y_train, Y_test = train_test_split(X,Y , test_size=0.2, random_state=0,  stratify=Y)"
   ]
  },
  {
   "cell_type": "code",
   "execution_count": 40,
   "metadata": {},
   "outputs": [
    {
     "data": {
      "text/plain": [
       "40"
      ]
     },
     "execution_count": 40,
     "metadata": {},
     "output_type": "execute_result"
    }
   ],
   "source": [
    "del X,Y\n",
    "gc.collect()"
   ]
  },
  {
   "cell_type": "code",
   "execution_count": 41,
   "metadata": {},
   "outputs": [
    {
     "data": {
      "text/plain": [
       "{0: 88, 1: 58}"
      ]
     },
     "execution_count": 41,
     "metadata": {},
     "output_type": "execute_result"
    }
   ],
   "source": [
    "unique, counts = np.unique(Y_train, return_counts=True)\n",
    "dict(zip(unique, counts))"
   ]
  },
  {
   "cell_type": "code",
   "execution_count": 42,
   "metadata": {},
   "outputs": [
    {
     "data": {
      "text/plain": [
       "{0: 22, 1: 15}"
      ]
     },
     "execution_count": 42,
     "metadata": {},
     "output_type": "execute_result"
    }
   ],
   "source": [
    "unique, counts = np.unique(Y_test, return_counts=True)\n",
    "dict(zip(unique, counts))"
   ]
  },
  {
   "cell_type": "code",
   "execution_count": 43,
   "metadata": {},
   "outputs": [
    {
     "name": "stdout",
     "output_type": "stream",
     "text": [
      "False\n",
      "False\n",
      "False\n",
      "False\n",
      "False\n",
      "False\n",
      "False\n",
      "False\n",
      "False\n",
      "False\n",
      "False\n",
      "False\n",
      "False\n",
      "False\n",
      "False\n",
      "False\n",
      "False\n",
      "False\n",
      "False\n",
      "False\n",
      "False\n",
      "False\n",
      "False\n",
      "False\n",
      "False\n",
      "False\n",
      "False\n",
      "False\n",
      "False\n",
      "False\n",
      "False\n",
      "False\n",
      "False\n",
      "False\n",
      "False\n",
      "False\n",
      "False\n",
      "False\n",
      "False\n",
      "False\n",
      "False\n",
      "False\n",
      "False\n",
      "False\n",
      "False\n",
      "False\n",
      "False\n",
      "False\n",
      "False\n",
      "False\n",
      "False\n",
      "False\n",
      "False\n",
      "False\n",
      "False\n",
      "False\n",
      "False\n",
      "False\n",
      "False\n",
      "False\n",
      "False\n",
      "False\n",
      "False\n",
      "False\n",
      "False\n",
      "False\n",
      "False\n",
      "False\n",
      "False\n",
      "False\n",
      "False\n",
      "False\n",
      "False\n",
      "False\n",
      "False\n",
      "False\n",
      "False\n",
      "False\n",
      "False\n",
      "False\n",
      "False\n",
      "False\n",
      "False\n",
      "False\n",
      "False\n",
      "False\n",
      "False\n",
      "False\n",
      "False\n",
      "False\n",
      "False\n",
      "False\n",
      "False\n",
      "False\n",
      "False\n",
      "False\n",
      "False\n",
      "False\n",
      "False\n",
      "False\n",
      "False\n",
      "False\n",
      "False\n",
      "False\n",
      "False\n",
      "False\n",
      "False\n",
      "False\n",
      "False\n",
      "False\n",
      "False\n",
      "False\n",
      "False\n",
      "False\n",
      "False\n",
      "False\n",
      "False\n",
      "False\n",
      "False\n",
      "False\n",
      "False\n",
      "False\n",
      "False\n",
      "False\n",
      "False\n",
      "False\n",
      "False\n",
      "False\n",
      "False\n",
      "False\n",
      "False\n",
      "False\n",
      "False\n",
      "False\n",
      "False\n",
      "False\n",
      "False\n",
      "False\n",
      "False\n",
      "False\n",
      "False\n",
      "False\n",
      "False\n",
      "False\n",
      "False\n",
      "False\n"
     ]
    }
   ],
   "source": [
    "for i in X_train:\n",
    "    print(f'{np.isnan(i).any()}')"
   ]
  },
  {
   "cell_type": "code",
   "execution_count": 45,
   "metadata": {},
   "outputs": [
    {
     "name": "stdout",
     "output_type": "stream",
     "text": [
      "samples: 146 \n",
      " X:19800 \n",
      " Y:6 \n",
      " \n"
     ]
    }
   ],
   "source": [
    "nsamples,nx, ny, nz= X_train.shape\n",
    "print(f\"samples: {nsamples} \\n X:{nx} \\n Y:{ny} \\n \" )"
   ]
  },
  {
   "cell_type": "code",
   "execution_count": 46,
   "metadata": {},
   "outputs": [],
   "source": [
    "import tensorflow as tf\n",
    "from tensorflow import keras\n",
    "from tensorflow.keras.layers import Embedding, Dense, LSTM, Dropout, Masking, Flatten, Input, Bidirectional, SimpleRNN\n",
    "from tensorflow.keras.losses import BinaryCrossentropy\n",
    "from tensorflow.keras.models import Sequential\n",
    "from tensorflow.keras.optimizers import Adam\n",
    "from tensorflow.keras.preprocessing.sequence import pad_sequences\n",
    "from keras.layers import Dense, Conv2D, MaxPooling2D, Dropout, Flatten"
   ]
  },
  {
   "cell_type": "code",
   "execution_count": null,
   "metadata": {},
   "outputs": [],
   "source": [
    "##CNN MODEL"
   ]
  },
  {
   "cell_type": "code",
   "execution_count": 47,
   "metadata": {},
   "outputs": [],
   "source": [
    "from keras.callbacks import EarlyStopping\n",
    "from keras.callbacks import ModelCheckpoint, LambdaCallback\n",
    "wie_by_epoch = []\n",
    "#model_check = ModelCheckpoint(\"/models/Testpoints/best_model.hdf5\", monitor='loss', verbose=0, save_best_only=True, mode='min', save_freq=1)\n",
    "print_weights = LambdaCallback(on_epoch_end=lambda batch, logs:wie_by_epoch.append(model.get_weights()))\n",
    "callback = tf.keras.callbacks.EarlyStopping(monitor='loss', patience=4, verbose= 2)"
   ]
  },
  {
   "cell_type": "code",
   "execution_count": 48,
   "metadata": {},
   "outputs": [],
   "source": [
    "model = Sequential()\n",
    "model.add(Conv2D(64, (2, 2), padding='same', activation='relu', input_shape=X_train.shape[1:]))\n",
    "model.add(MaxPooling2D(pool_size=(2, 2)))\n",
    "model.add(Dropout(0.25))\n",
    "model.add(MaxPooling2D(pool_size=(2, 2)))\n",
    "model.add(Dense(256, activation='relu'))\n",
    "model.add(Flatten())\n",
    "model.add(Dense(128, activation='relu'))\n",
    "model.add(Dense(64, activation='relu'))\n",
    "model.add(Dense(5, activation = 'softmax') )\n",
    "#mod1 = model.compile(optimizer=tf.keras.optimizers.RMSprop(\n",
    "#   learning_rate=0.1, rho=0.1, momentum=0.0, epsilon=1e-2 , centered=False,\n",
    "#   name='RMSprop'), loss='sparse_categorical_crossentropy', metrics=[keras.metrics.SparseCategoricalAccuracy()])\n",
    "model.compile(optimizer= 'rmsprop', loss='sparse_categorical_crossentropy',  metrics=[keras.metrics.SparseCategoricalAccuracy()])\n",
    "#mod = model.fit(X.astype('float32'),Y.astype('float32'), epochs=20, batch_size= 20, verbose=0)des\": (2, 10, None),"
   ]
  },
  {
   "cell_type": "code",
   "execution_count": 49,
   "metadata": {},
   "outputs": [
    {
     "data": {
      "text/plain": [
       "(None, 5)"
      ]
     },
     "execution_count": 49,
     "metadata": {},
     "output_type": "execute_result"
    }
   ],
   "source": [
    "model.build(input_shape = (nx,ny,nz))\n",
    "model.output_shape"
   ]
  },
  {
   "cell_type": "code",
   "execution_count": 50,
   "metadata": {},
   "outputs": [
    {
     "data": {
      "text/plain": [
       "868"
      ]
     },
     "execution_count": 50,
     "metadata": {},
     "output_type": "execute_result"
    }
   ],
   "source": [
    "#del model, wie_by_epoch\n",
    "\n",
    "gc.collect()"
   ]
  },
  {
   "cell_type": "code",
   "execution_count": 51,
   "metadata": {},
   "outputs": [
    {
     "name": "stdout",
     "output_type": "stream",
     "text": [
      "Model: \"sequential\"\n",
      "_________________________________________________________________\n",
      "Layer (type)                 Output Shape              Param #   \n",
      "=================================================================\n",
      "conv2d (Conv2D)              (None, 19800, 6, 64)      320       \n",
      "_________________________________________________________________\n",
      "max_pooling2d (MaxPooling2D) (None, 9900, 3, 64)       0         \n",
      "_________________________________________________________________\n",
      "dropout (Dropout)            (None, 9900, 3, 64)       0         \n",
      "_________________________________________________________________\n",
      "max_pooling2d_1 (MaxPooling2 (None, 4950, 1, 64)       0         \n",
      "_________________________________________________________________\n",
      "dense (Dense)                (None, 4950, 1, 256)      16640     \n",
      "_________________________________________________________________\n",
      "flatten (Flatten)            (None, 1267200)           0         \n",
      "_________________________________________________________________\n",
      "dense_1 (Dense)              (None, 128)               162201728 \n",
      "_________________________________________________________________\n",
      "dense_2 (Dense)              (None, 64)                8256      \n",
      "_________________________________________________________________\n",
      "dense_3 (Dense)              (None, 5)                 325       \n",
      "=================================================================\n",
      "Total params: 162,227,269\n",
      "Trainable params: 162,227,269\n",
      "Non-trainable params: 0\n",
      "_________________________________________________________________\n"
     ]
    }
   ],
   "source": [
    "#model.build(input_shape = (nx,ny))\n",
    "model.summary()\n"
   ]
  },
  {
   "cell_type": "code",
   "execution_count": 52,
   "metadata": {
    "scrolled": true
   },
   "outputs": [
    {
     "data": {
      "text/plain": [
       "[array([[[[-0.11617994, -0.05313852, -0.13884617,  0.06572466,\n",
       "            0.1145255 , -0.01132937, -0.04718078, -0.03798827,\n",
       "            0.10939559,  0.11431807,  0.07707402, -0.02545467,\n",
       "            0.01572877,  0.0767592 , -0.02182433, -0.0753184 ,\n",
       "           -0.09104624,  0.12948221, -0.04991429, -0.01985456,\n",
       "           -0.07693389, -0.02449398,  0.01138456, -0.14310595,\n",
       "           -0.10826699,  0.13700178,  0.11687955, -0.04045665,\n",
       "           -0.09566773, -0.00814128,  0.04611437,  0.1307756 ,\n",
       "            0.07574914, -0.04279325, -0.10807453, -0.13998151,\n",
       "           -0.1084391 , -0.13528539, -0.07750864,  0.09452501,\n",
       "           -0.11618954, -0.14329223, -0.11272754, -0.0297576 ,\n",
       "           -0.12370863, -0.02846193, -0.09265456,  0.07658504,\n",
       "            0.12291914,  0.09861571,  0.0808132 ,  0.01569548,\n",
       "           -0.12358776,  0.04676467, -0.03610937, -0.02724542,\n",
       "            0.14715183,  0.04206413,  0.11916453,  0.05230358,\n",
       "           -0.08051545,  0.13561425,  0.03032978, -0.03456755]],\n",
       " \n",
       "         [[ 0.06947008, -0.13389301,  0.02268168,  0.13629705,\n",
       "            0.08026327,  0.00413698, -0.07264556, -0.04705018,\n",
       "            0.13720375,  0.05453695,  0.00556833,  0.05439983,\n",
       "            0.10156482,  0.10005957,  0.06919399,  0.02462329,\n",
       "            0.0542073 , -0.02092557,  0.05243863, -0.03517584,\n",
       "            0.03098682, -0.0884755 ,  0.04601376, -0.03430243,\n",
       "            0.06012951,  0.01312333,  0.11443096, -0.11261675,\n",
       "            0.02977085,  0.0437995 ,  0.14533651, -0.07138386,\n",
       "            0.13510585,  0.04024003,  0.05943473, -0.03091057,\n",
       "            0.12323135, -0.03720113, -0.0110043 ,  0.04585743,\n",
       "            0.10766125, -0.10980029, -0.01561929,  0.02188112,\n",
       "           -0.07215831, -0.10237879,  0.07020365,  0.10311624,\n",
       "           -0.0114052 , -0.04494943, -0.1252946 , -0.02229293,\n",
       "            0.09899938, -0.03604649,  0.00958465, -0.11433423,\n",
       "           -0.10062821, -0.0610221 ,  0.06132898, -0.00999337,\n",
       "            0.12925282, -0.13049775,  0.10133198, -0.03431453]]],\n",
       " \n",
       " \n",
       "        [[[-0.12301291, -0.05189054,  0.07414725,  0.07391983,\n",
       "            0.04603888, -0.02611186, -0.12452075,  0.10740259,\n",
       "            0.07291463,  0.07110161,  0.01807235,  0.09276223,\n",
       "            0.05271502, -0.0843709 , -0.0673622 ,  0.11913005,\n",
       "            0.14247653,  0.1251896 ,  0.03943573, -0.0593942 ,\n",
       "            0.05741486,  0.0432191 , -0.0827226 ,  0.04478   ,\n",
       "            0.06034073, -0.08786753,  0.07943343, -0.11149738,\n",
       "            0.06675945,  0.12826866,  0.0064075 , -0.05226132,\n",
       "           -0.09500306,  0.09780912, -0.01150499, -0.02604988,\n",
       "           -0.08270855, -0.03762978, -0.08691654,  0.08025125,\n",
       "           -0.00389439, -0.12830815,  0.09113726, -0.1281604 ,\n",
       "           -0.13519888, -0.02126113,  0.14565578,  0.12677121,\n",
       "            0.03421412,  0.0487728 , -0.09883207, -0.05631644,\n",
       "            0.09008507,  0.06170957, -0.08005074, -0.00692995,\n",
       "            0.09396671,  0.13663945, -0.06995693,  0.05448306,\n",
       "            0.13950408,  0.14649066, -0.03824209, -0.12437729]],\n",
       " \n",
       "         [[-0.12860456, -0.0169443 , -0.04705945,  0.07727927,\n",
       "            0.0561416 ,  0.1356022 ,  0.04641874, -0.06979156,\n",
       "            0.09281376,  0.04165447, -0.13899383, -0.04714641,\n",
       "           -0.10288175,  0.06065579,  0.09227629,  0.118655  ,\n",
       "           -0.13645718,  0.13959536, -0.1262852 ,  0.03976622,\n",
       "            0.00299735, -0.02524468, -0.11030047, -0.14049864,\n",
       "           -0.0226094 ,  0.06619753, -0.11124994,  0.13215697,\n",
       "            0.10636172,  0.07304618, -0.12976253, -0.05053268,\n",
       "            0.10734332,  0.10365242, -0.01178333, -0.03887138,\n",
       "            0.00539607, -0.11498372, -0.02166392,  0.0823677 ,\n",
       "            0.14742228, -0.01081246,  0.13629147,  0.02044785,\n",
       "           -0.0181243 , -0.03961386, -0.07659778, -0.15129924,\n",
       "            0.09412494,  0.13463804, -0.03085878, -0.10562493,\n",
       "           -0.10466851,  0.1265442 , -0.04091264,  0.04560064,\n",
       "           -0.07244618,  0.07916331, -0.12641482, -0.11713419,\n",
       "           -0.01576206, -0.00074534, -0.01862755,  0.1456871 ]]]],\n",
       "       dtype=float32),\n",
       " array([0., 0., 0., 0., 0., 0., 0., 0., 0., 0., 0., 0., 0., 0., 0., 0., 0.,\n",
       "        0., 0., 0., 0., 0., 0., 0., 0., 0., 0., 0., 0., 0., 0., 0., 0., 0.,\n",
       "        0., 0., 0., 0., 0., 0., 0., 0., 0., 0., 0., 0., 0., 0., 0., 0., 0.,\n",
       "        0., 0., 0., 0., 0., 0., 0., 0., 0., 0., 0., 0., 0.], dtype=float32),\n",
       " array([[-0.10404238,  0.12288958, -0.12996793, ...,  0.07227191,\n",
       "         -0.09520894, -0.07761175],\n",
       "        [ 0.04412667, -0.03204235,  0.09665947, ..., -0.11658698,\n",
       "          0.00235841, -0.02454619],\n",
       "        [ 0.02412936,  0.12499592, -0.09970345, ...,  0.08710231,\n",
       "         -0.0860092 ,  0.05830553],\n",
       "        ...,\n",
       "        [ 0.04975387,  0.1134856 , -0.13295354, ..., -0.13231093,\n",
       "          0.02534026, -0.05838542],\n",
       "        [-0.11352108,  0.04851459, -0.02156802, ...,  0.0933674 ,\n",
       "          0.07947588,  0.0597133 ],\n",
       "        [-0.0902857 ,  0.12158248, -0.00596365, ..., -0.1112045 ,\n",
       "         -0.10552996,  0.07354416]], dtype=float32),\n",
       " array([0., 0., 0., 0., 0., 0., 0., 0., 0., 0., 0., 0., 0., 0., 0., 0., 0.,\n",
       "        0., 0., 0., 0., 0., 0., 0., 0., 0., 0., 0., 0., 0., 0., 0., 0., 0.,\n",
       "        0., 0., 0., 0., 0., 0., 0., 0., 0., 0., 0., 0., 0., 0., 0., 0., 0.,\n",
       "        0., 0., 0., 0., 0., 0., 0., 0., 0., 0., 0., 0., 0., 0., 0., 0., 0.,\n",
       "        0., 0., 0., 0., 0., 0., 0., 0., 0., 0., 0., 0., 0., 0., 0., 0., 0.,\n",
       "        0., 0., 0., 0., 0., 0., 0., 0., 0., 0., 0., 0., 0., 0., 0., 0., 0.,\n",
       "        0., 0., 0., 0., 0., 0., 0., 0., 0., 0., 0., 0., 0., 0., 0., 0., 0.,\n",
       "        0., 0., 0., 0., 0., 0., 0., 0., 0., 0., 0., 0., 0., 0., 0., 0., 0.,\n",
       "        0., 0., 0., 0., 0., 0., 0., 0., 0., 0., 0., 0., 0., 0., 0., 0., 0.,\n",
       "        0., 0., 0., 0., 0., 0., 0., 0., 0., 0., 0., 0., 0., 0., 0., 0., 0.,\n",
       "        0., 0., 0., 0., 0., 0., 0., 0., 0., 0., 0., 0., 0., 0., 0., 0., 0.,\n",
       "        0., 0., 0., 0., 0., 0., 0., 0., 0., 0., 0., 0., 0., 0., 0., 0., 0.,\n",
       "        0., 0., 0., 0., 0., 0., 0., 0., 0., 0., 0., 0., 0., 0., 0., 0., 0.,\n",
       "        0., 0., 0., 0., 0., 0., 0., 0., 0., 0., 0., 0., 0., 0., 0., 0., 0.,\n",
       "        0., 0., 0., 0., 0., 0., 0., 0., 0., 0., 0., 0., 0., 0., 0., 0., 0.,\n",
       "        0.], dtype=float32),\n",
       " array([[ 0.00107078, -0.00168063,  0.00143602, ...,  0.00080797,\n",
       "          0.00037631,  0.0020156 ],\n",
       "        [-0.00019256,  0.00100785,  0.00184297, ..., -0.00162476,\n",
       "         -0.00025229,  0.00161718],\n",
       "        [-0.00172831, -0.00205175, -0.00204266, ...,  0.00093394,\n",
       "          0.00114393, -0.00106845],\n",
       "        ...,\n",
       "        [-0.00030105, -0.00024681,  0.00209708, ...,  0.00185933,\n",
       "         -0.00070521,  0.0018352 ],\n",
       "        [ 0.0009274 , -0.00171127,  0.00216871, ..., -0.00021661,\n",
       "         -0.00178009,  0.0016177 ],\n",
       "        [-0.00066432,  0.00209003, -0.00193096, ...,  0.00191925,\n",
       "          0.00121645,  0.0005078 ]], dtype=float32),\n",
       " array([0., 0., 0., 0., 0., 0., 0., 0., 0., 0., 0., 0., 0., 0., 0., 0., 0.,\n",
       "        0., 0., 0., 0., 0., 0., 0., 0., 0., 0., 0., 0., 0., 0., 0., 0., 0.,\n",
       "        0., 0., 0., 0., 0., 0., 0., 0., 0., 0., 0., 0., 0., 0., 0., 0., 0.,\n",
       "        0., 0., 0., 0., 0., 0., 0., 0., 0., 0., 0., 0., 0., 0., 0., 0., 0.,\n",
       "        0., 0., 0., 0., 0., 0., 0., 0., 0., 0., 0., 0., 0., 0., 0., 0., 0.,\n",
       "        0., 0., 0., 0., 0., 0., 0., 0., 0., 0., 0., 0., 0., 0., 0., 0., 0.,\n",
       "        0., 0., 0., 0., 0., 0., 0., 0., 0., 0., 0., 0., 0., 0., 0., 0., 0.,\n",
       "        0., 0., 0., 0., 0., 0., 0., 0., 0.], dtype=float32),\n",
       " array([[ 0.05718935, -0.14938347, -0.04628116, ...,  0.03977892,\n",
       "         -0.15878147, -0.15146086],\n",
       "        [ 0.15358569, -0.05174954,  0.07254902, ...,  0.04236647,\n",
       "          0.06632261,  0.11241888],\n",
       "        [-0.15826002, -0.05364177,  0.07162966, ..., -0.00723986,\n",
       "         -0.07938056, -0.12080303],\n",
       "        ...,\n",
       "        [ 0.00718145, -0.13915747, -0.13249153, ..., -0.02632248,\n",
       "          0.15612222,  0.1457604 ],\n",
       "        [ 0.00573973, -0.07203579,  0.04971689, ..., -0.17075096,\n",
       "         -0.15624823,  0.15074287],\n",
       "        [-0.12309025,  0.0955158 , -0.17510836, ..., -0.09061981,\n",
       "         -0.15527822,  0.12110092]], dtype=float32),\n",
       " array([0., 0., 0., 0., 0., 0., 0., 0., 0., 0., 0., 0., 0., 0., 0., 0., 0.,\n",
       "        0., 0., 0., 0., 0., 0., 0., 0., 0., 0., 0., 0., 0., 0., 0., 0., 0.,\n",
       "        0., 0., 0., 0., 0., 0., 0., 0., 0., 0., 0., 0., 0., 0., 0., 0., 0.,\n",
       "        0., 0., 0., 0., 0., 0., 0., 0., 0., 0., 0., 0., 0.], dtype=float32),\n",
       " array([[-0.06777944, -0.23394509, -0.21544826,  0.29072428, -0.03592297],\n",
       "        [ 0.21896279,  0.00880483, -0.12713538,  0.16533682,  0.18950337],\n",
       "        [ 0.05342335,  0.0957489 ,  0.04938152,  0.20442542, -0.1911976 ],\n",
       "        [-0.03644541,  0.24243897, -0.2885703 , -0.2567129 , -0.04942316],\n",
       "        [-0.17114416, -0.20254989, -0.27372742,  0.05437592,  0.09992409],\n",
       "        [-0.15859027,  0.11532688,  0.06141591, -0.01913634, -0.05737326],\n",
       "        [-0.27565485,  0.22865933, -0.15280628,  0.02862725, -0.27216718],\n",
       "        [-0.13151819,  0.22470194, -0.09191704, -0.24368258,  0.01946127],\n",
       "        [-0.10565661,  0.14378148, -0.12583375, -0.16208567,  0.00766882],\n",
       "        [ 0.03098553,  0.0563361 ,  0.22108424, -0.25957564, -0.2470697 ],\n",
       "        [-0.08982389, -0.125147  ,  0.1248726 , -0.08891624,  0.01681224],\n",
       "        [ 0.13287339,  0.15907967, -0.2905931 ,  0.0057807 , -0.10183282],\n",
       "        [ 0.15884098,  0.07570627, -0.11636792,  0.09862429, -0.01440349],\n",
       "        [-0.03307861,  0.07752305,  0.05035743,  0.26043278, -0.28571478],\n",
       "        [ 0.14890951,  0.06893492,  0.12988576, -0.09704149,  0.22601646],\n",
       "        [-0.22110718,  0.13546422,  0.1090526 , -0.01698104,  0.1571149 ],\n",
       "        [ 0.16414753, -0.06181827,  0.20356026, -0.11468241,  0.224118  ],\n",
       "        [ 0.17477152,  0.20779216,  0.009527  , -0.15117681, -0.10354216],\n",
       "        [ 0.1858463 ,  0.23469424,  0.07225153,  0.24805886,  0.24791342],\n",
       "        [-0.04966508,  0.02021328, -0.01967803,  0.22741848,  0.21546924],\n",
       "        [-0.11167043,  0.26135612, -0.03108373,  0.06071419, -0.21868156],\n",
       "        [-0.18872595,  0.02776515,  0.19844988, -0.22603828, -0.06848629],\n",
       "        [ 0.17100522, -0.00136998,  0.07112122,  0.12125289, -0.17607617],\n",
       "        [ 0.25931728,  0.07496011,  0.1997667 , -0.07358317, -0.06080882],\n",
       "        [-0.28752324,  0.12549832, -0.26307714,  0.06959936, -0.16567492],\n",
       "        [-0.13308325, -0.03529978, -0.13956545,  0.2874127 , -0.21718447],\n",
       "        [-0.27826384,  0.2864061 , -0.27188343, -0.11204587, -0.09831733],\n",
       "        [ 0.08200046, -0.2825072 ,  0.14163032, -0.20808056,  0.16252205],\n",
       "        [ 0.06063002,  0.25611567, -0.28324878, -0.11562859, -0.22707227],\n",
       "        [ 0.18046165, -0.21438721,  0.07195553,  0.08955765, -0.06866339],\n",
       "        [ 0.11727402, -0.12856765,  0.24141014,  0.09839043, -0.22045228],\n",
       "        [ 0.15267658, -0.09476463, -0.11724146,  0.16252872, -0.15749815],\n",
       "        [ 0.29337162, -0.28245786, -0.18988192, -0.08768533,  0.26408213],\n",
       "        [ 0.1802898 , -0.25280687, -0.12274599, -0.0004096 ,  0.20759249],\n",
       "        [ 0.1551517 , -0.24615784, -0.26924247,  0.2770967 ,  0.01462755],\n",
       "        [-0.04040349,  0.1701572 ,  0.21356046,  0.04660714,  0.15831685],\n",
       "        [ 0.27023512,  0.21028936, -0.12378258, -0.07857932, -0.05793422],\n",
       "        [-0.19356214,  0.21049297,  0.1651957 ,  0.05825609, -0.10173523],\n",
       "        [-0.18168327,  0.08294889,  0.14072564, -0.09346348,  0.29126906],\n",
       "        [ 0.26723814,  0.26392853, -0.20218943,  0.08148751, -0.15305679],\n",
       "        [ 0.00418806, -0.22067493,  0.1338945 ,  0.09732503, -0.01089042],\n",
       "        [ 0.02725461,  0.07288545,  0.1669656 ,  0.14862767,  0.24823093],\n",
       "        [-0.28008172, -0.04181087,  0.19420362,  0.07311472,  0.10539621],\n",
       "        [ 0.22845238,  0.01665461, -0.20212096,  0.22137874, -0.15826511],\n",
       "        [-0.18407965,  0.10297564, -0.16675755,  0.28991652,  0.0939019 ],\n",
       "        [-0.17199878,  0.2875874 , -0.15662768, -0.0831821 ,  0.19006929],\n",
       "        [ 0.27765435,  0.2915221 , -0.22630776, -0.14021866,  0.15056556],\n",
       "        [ 0.02077368,  0.1444872 ,  0.02746966, -0.20296027,  0.18319428],\n",
       "        [ 0.15823326, -0.05531731, -0.08983739, -0.09371693, -0.23208135],\n",
       "        [-0.03784513,  0.14354786,  0.24156171, -0.24686526,  0.04896349],\n",
       "        [-0.10548219,  0.01449388, -0.27885777,  0.0818041 , -0.29164097],\n",
       "        [-0.02336431,  0.19342834, -0.2723923 , -0.0230698 ,  0.22636795],\n",
       "        [-0.16658671,  0.03871009, -0.1959685 , -0.18201244,  0.03066015],\n",
       "        [ 0.00281632,  0.0931859 , -0.13913772, -0.01869932, -0.09362307],\n",
       "        [-0.01510513,  0.1515606 , -0.24865553, -0.09327963,  0.03662863],\n",
       "        [-0.0778866 , -0.13331224, -0.24334955,  0.23464864,  0.02667367],\n",
       "        [-0.07462068, -0.2746592 ,  0.09627557, -0.15670784, -0.10202552],\n",
       "        [-0.03650713,  0.18498018,  0.02243832, -0.06210069,  0.13556582],\n",
       "        [ 0.20378834, -0.28529477,  0.04923528,  0.09376404,  0.0072076 ],\n",
       "        [ 0.20566815, -0.01967451, -0.16454658, -0.28230655,  0.06867322],\n",
       "        [-0.04515411,  0.23170948,  0.2071436 , -0.17951989, -0.26483878],\n",
       "        [-0.06381187, -0.01010659,  0.04391637, -0.00840554, -0.20031902],\n",
       "        [ 0.09041017,  0.25223452, -0.03061587, -0.05333313, -0.06860609],\n",
       "        [-0.21709701,  0.13047427,  0.05809313, -0.20819461,  0.15617111]],\n",
       "       dtype=float32),\n",
       " array([0., 0., 0., 0., 0.], dtype=float32)]"
      ]
     },
     "execution_count": 52,
     "metadata": {},
     "output_type": "execute_result"
    }
   ],
   "source": [
    "wights = model.get_weights()\n",
    "wights"
   ]
  },
  {
   "cell_type": "code",
   "execution_count": 53,
   "metadata": {
    "scrolled": true
   },
   "outputs": [
    {
     "data": {
      "image/png": "[encoded data removed]",
      "text/plain": [
       "<IPython.core.display.Image object>"
      ]
     },
     "execution_count": 53,
     "metadata": {},
     "output_type": "execute_result"
    }
   ],
   "source": [
    "from tensorflow.keras.utils import plot_model\n",
    "plot_model(model, show_shapes=True)"
   ]
  },
  {
   "cell_type": "code",
   "execution_count": 73,
   "metadata": {
    "scrolled": true
   },
   "outputs": [
    {
     "name": "stdout",
     "output_type": "stream",
     "text": [
      "Epoch 1/200\n",
      "5/5 - 28s - loss: 0.0093 - sparse_categorical_accuracy: 0.9932\n",
      "Epoch 2/200\n",
      "5/5 - 28s - loss: 0.0111 - sparse_categorical_accuracy: 0.9932\n",
      "Epoch 3/200\n",
      "5/5 - 28s - loss: 0.0105 - sparse_categorical_accuracy: 1.0000\n",
      "Epoch 4/200\n",
      "5/5 - 28s - loss: 0.0123 - sparse_categorical_accuracy: 0.9932\n",
      "Epoch 5/200\n",
      "5/5 - 29s - loss: 0.0091 - sparse_categorical_accuracy: 1.0000\n",
      "Epoch 6/200\n",
      "5/5 - 27s - loss: 0.0076 - sparse_categorical_accuracy: 0.9932\n",
      "Epoch 7/200\n",
      "5/5 - 27s - loss: 0.0048 - sparse_categorical_accuracy: 1.0000\n",
      "Epoch 8/200\n",
      "5/5 - 27s - loss: 0.0076 - sparse_categorical_accuracy: 1.0000\n",
      "Epoch 9/200\n",
      "5/5 - 27s - loss: 0.0024 - sparse_categorical_accuracy: 1.0000\n",
      "Epoch 10/200\n",
      "5/5 - 27s - loss: 0.0102 - sparse_categorical_accuracy: 0.9932\n",
      "Epoch 11/200\n",
      "5/5 - 30s - loss: 4.9303 - sparse_categorical_accuracy: 0.8493\n",
      "Epoch 12/200\n",
      "5/5 - 28s - loss: 0.0041 - sparse_categorical_accuracy: 1.0000\n",
      "Epoch 13/200\n",
      "5/5 - 28s - loss: 0.0025 - sparse_categorical_accuracy: 1.0000\n",
      "Epoch 00013: early stopping\n"
     ]
    }
   ],
   "source": [
    "mod = model.fit(X_train,\n",
    "               Y_train, epochs=200, batch_size= 32, verbose=2 , \n",
    "                callbacks=[callback, print_weights])"
   ]
  },
  {
   "cell_type": "code",
   "execution_count": 74,
   "metadata": {},
   "outputs": [
    {
     "data": {
      "text/plain": [
       "48"
      ]
     },
     "execution_count": 74,
     "metadata": {},
     "output_type": "execute_result"
    }
   ],
   "source": [
    "len(wie_by_epoch)"
   ]
  },
  {
   "cell_type": "code",
   "execution_count": 75,
   "metadata": {},
   "outputs": [],
   "source": [
    "#model.set_weights(wie_by_epoch[76])"
   ]
  },
  {
   "cell_type": "code",
   "execution_count": 76,
   "metadata": {},
   "outputs": [
    {
     "name": "stdout",
     "output_type": "stream",
     "text": [
      "2/2 - 1s - loss: 0.3378 - sparse_categorical_accuracy: 0.9459\n"
     ]
    },
    {
     "data": {
      "text/plain": [
       "[0.3377852737903595, 0.9459459185600281]"
      ]
     },
     "execution_count": 76,
     "metadata": {},
     "output_type": "execute_result"
    }
   ],
   "source": [
    "scores = model.evaluate(X_test,Y_test, verbose=2)\n",
    "scores"
   ]
  },
  {
   "cell_type": "code",
   "execution_count": 77,
   "metadata": {},
   "outputs": [
    {
     "data": {
      "text/plain": [
       "{'loss': 0.3377852737903595, 'sparse_categorical_accuracy': 0.9459459185600281}"
      ]
     },
     "execution_count": 77,
     "metadata": {},
     "output_type": "execute_result"
    }
   ],
   "source": [
    "dict(zip(model.metrics_names, scores))"
   ]
  },
  {
   "cell_type": "code",
   "execution_count": 78,
   "metadata": {},
   "outputs": [
    {
     "data": {
      "image/png": "[encoded data removed]",
      "text/plain": [
       "<Figure size 432x288 with 2 Axes>"
      ]
     },
     "metadata": {
      "needs_background": "light"
     },
     "output_type": "display_data"
    }
   ],
   "source": [
    "from matplotlib import pyplot\n",
    "# plot loss during training\n",
    "pyplot.subplot(211)\n",
    "pyplot.title('Loss')\n",
    "pyplot.plot(mod.history['loss'], label='train')\n",
    "#pyplot.plot(mod.history['val_loss'], label='test')\n",
    "pyplot.legend()\n",
    "# plot accuracy during training\n",
    "pyplot.subplot(212)\n",
    "pyplot.title('Accuracy')\n",
    "pyplot.plot(mod.history['sparse_categorical_accuracy'], label='train')\n",
    "#pyplot.plot(mod.history['val_accuracy'], label='test')\n",
    "pyplot.legend()\n",
    "pyplot.show()"
   ]
  },
  {
   "cell_type": "code",
   "execution_count": 79,
   "metadata": {},
   "outputs": [],
   "source": [
    "# predict probabilities for test set\n",
    "yhat_probs = model.predict(X_test.astype('float32'), verbose=0)\n",
    "# predict crisp classes for test set\n",
    "#yhat_classes = model.predict_classes(X_test, verbose=0)\n",
    "yhat_classes = np.argmax(yhat_probs,axis=1)"
   ]
  },
  {
   "cell_type": "code",
   "execution_count": 80,
   "metadata": {},
   "outputs": [],
   "source": [
    "from sklearn.metrics import accuracy_score\n",
    "from sklearn.metrics import precision_score\n",
    "from sklearn.metrics import recall_score\n",
    "from sklearn.metrics import f1_score\n",
    "from sklearn.metrics import cohen_kappa_score\n",
    "from sklearn.metrics import roc_auc_score\n",
    "from sklearn.metrics import confusion_matrix\n",
    "from sklearn.metrics import roc_curve\n",
    "from sklearn.metrics import classification_report"
   ]
  },
  {
   "cell_type": "code",
   "execution_count": 81,
   "metadata": {},
   "outputs": [
    {
     "name": "stdout",
     "output_type": "stream",
     "text": [
      "Accuracy: 0.945946\n",
      "Precision: 0.958333\n",
      "Recall: 0.933333\n",
      "F1 score: 0.942547\n"
     ]
    }
   ],
   "source": [
    "# accuracy: (tp + tn) / (p + n)\n",
    "accuracy = accuracy_score(Y_test, yhat_classes)\n",
    "print('Accuracy: %f' % accuracy)\n",
    "# precision tp / (tp + fp)\n",
    "precision = precision_score(Y_test, yhat_classes, average='macro')\n",
    "print('Precision: %f' % precision)\n",
    "# recall: tp / (tp + fn)\n",
    "recall = recall_score(Y_test, yhat_classes,average='macro')\n",
    "print('Recall: %f' % recall)\n",
    "# f1: 2 tp / (2 tp + fp + fn)\n",
    "f1 = f1_score(Y_test, yhat_classes, average='macro')\n",
    "print('F1 score: %f' % f1)"
   ]
  },
  {
   "cell_type": "code",
   "execution_count": 82,
   "metadata": {},
   "outputs": [
    {
     "name": "stdout",
     "output_type": "stream",
     "text": [
      "Cohens kappa: 0.885449\n",
      "[[22  0]\n",
      " [ 2 13]]\n"
     ]
    }
   ],
   "source": [
    "# kappa\n",
    "kappa = cohen_kappa_score(Y_test, yhat_classes)\n",
    "print('Cohens kappa: %f' % kappa)\n",
    "# ROC AUC\n",
    "#fprate, tprate, thresholds = roc_curve(Y_test, yhat_probs, average = 'macro')\n",
    "#print('ROC AUC: %f' % thresholds)\n",
    "# confusion matrix\n",
    "matrix = confusion_matrix(Y_test, yhat_classes)\n",
    "print(matrix)"
   ]
  },
  {
   "cell_type": "code",
   "execution_count": 83,
   "metadata": {},
   "outputs": [
    {
     "name": "stderr",
     "output_type": "stream",
     "text": [
      "C:\\Users\\hp\\Anaconda3\\lib\\site-packages\\sklearn\\metrics\\ranking.py:659: UndefinedMetricWarning: No positive samples in y_true, true positive value should be meaningless\n",
      "  UndefinedMetricWarning)\n"
     ]
    }
   ],
   "source": [
    "fpr = {}\n",
    "tpr = {}\n",
    "thresh ={}\n",
    "\n",
    "n_class = 5\n",
    "\n",
    "for i in range(n_class):    \n",
    "    fpr[i], tpr[i], thresh[i] = roc_curve(Y_test, yhat_classes, pos_label=i)"
   ]
  },
  {
   "cell_type": "code",
   "execution_count": 84,
   "metadata": {},
   "outputs": [
    {
     "data": {
      "image/png": "[encoded data removed]",
      "text/plain": [
       "<Figure size 432x288 with 1 Axes>"
      ]
     },
     "metadata": {
      "needs_background": "light"
     },
     "output_type": "display_data"
    }
   ],
   "source": [
    "# plotting    \n",
    "plt.plot(fpr[0], tpr[0], linestyle='--',color='orange', label='Class 0 vs Rest')\n",
    "plt.plot(fpr[1], tpr[1], linestyle='--',color='green', label='Class 1 vs Rest')\n",
    "plt.plot(fpr[2], tpr[2], linestyle='--',color='blue', label='Class 2 vs Rest')\n",
    "plt.plot(fpr[3], tpr[3], linestyle='--',color='red', label='Class 3 vs Rest')\n",
    "plt.plot(fpr[4], tpr[4], linestyle='--',color='black', label='Class 4 vs Rest')\n",
    "plt.title('Multiclass ROC curve')\n",
    "plt.xlabel('False Positive Rate')\n",
    "plt.ylabel('True Positive rate')\n",
    "plt.legend(loc='best')\n",
    "plt.savefig('Multiclass ROC',dpi=300); "
   ]
  },
  {
   "cell_type": "code",
   "execution_count": 86,
   "metadata": {},
   "outputs": [
    {
     "name": "stdout",
     "output_type": "stream",
     "text": [
      "Confusion matrix : \n",
      " [[22  0]\n",
      " [ 2 13]]\n"
     ]
    }
   ],
   "source": [
    "matrix = confusion_matrix(Y_test, yhat_classes, labels= [0, 1])\n",
    "print('Confusion matrix : \\n',matrix)"
   ]
  },
  {
   "cell_type": "code",
   "execution_count": 87,
   "metadata": {},
   "outputs": [
    {
     "name": "stdout",
     "output_type": "stream",
     "text": [
      "Classification report : \n",
      "               precision    recall  f1-score   support\n",
      "\n",
      "           0       0.92      1.00      0.96        22\n",
      "           1       1.00      0.87      0.93        15\n",
      "\n",
      "    accuracy                           0.95        37\n",
      "   macro avg       0.96      0.93      0.94        37\n",
      "weighted avg       0.95      0.95      0.95        37\n",
      "\n"
     ]
    }
   ],
   "source": [
    "matrix = classification_report(Y_test,yhat_classes, labels= [0, 1])\n",
    "print('Classification report : \\n',matrix)"
   ]
  },
  {
   "cell_type": "code",
   "execution_count": 88,
   "metadata": {},
   "outputs": [
    {
     "name": "stdout",
     "output_type": "stream",
     "text": [
      "INFO:tensorflow:Assets written to: ./models/CFS feature selection/Without IP_Top 6/Binary/CNN\\assets\n"
     ]
    }
   ],
   "source": [
    "model.save('./models/CFS feature selection/Without IP_Top 6/Binary/CNN')"
   ]
  },
  {
   "cell_type": "code",
   "execution_count": null,
   "metadata": {},
   "outputs": [],
   "source": [
    "#FOr DNN model"
   ]
  },
  {
   "cell_type": "code",
   "execution_count": 47,
   "metadata": {},
   "outputs": [],
   "source": [
    "from keras.callbacks import EarlyStopping\n",
    "from keras.callbacks import ModelCheckpoint, LambdaCallback\n",
    "wie_by_epoch = []\n",
    "#model_check = ModelCheckpoint(\"/models/Testpoints/best_model.hdf5\", monitor='loss', verbose=0, save_best_only=True, mode='min', save_freq=1)\n",
    "print_weights = LambdaCallback(on_epoch_end=lambda batch, logs:wie_by_epoch.append(model.get_weights()))\n",
    "callback = tf.keras.callbacks.EarlyStopping(monitor='loss', patience=4, verbose= 2)"
   ]
  },
  {
   "cell_type": "code",
   "execution_count": 48,
   "metadata": {},
   "outputs": [],
   "source": [
    "model = Sequential()\n",
    "model.add(Flatten(input_shape = X_train.shape[1:], name = 'input'))\n",
    "model.add(Dense(256, activation='relu'))\n",
    "model.add(Dense(128, activation='relu'))\n",
    "model.add(Dense(64, activation='relu'))\n",
    "model.add(Dense(32, activation='relu'))\n",
    "model.add(Dense(12, activation='relu'))\n",
    "model.add(Dense(5, activation = 'softmax') )\n",
    "#mod1 = model.compile(optimizer=tf.keras.optimizers.RMSprop(\n",
    "#   learning_rate=0.1, rho=0.1, momentum=0.0, epsilon=1e-2 , centered=False,\n",
    "#   name='RMSprop'), loss='sparse_categorical_crossentropy', metrics=[keras.metrics.SparseCategoricalAccuracy()])\n",
    "model.compile(optimizer= 'rmsprop', loss='sparse_categorical_crossentropy',  metrics=[keras.metrics.SparseCategoricalAccuracy()])\n",
    "#mod = model.fit(X.astype('float32'),Y.astype('float32'), epochs=20, batch_size= 20, verbose=0)"
   ]
  },
  {
   "cell_type": "code",
   "execution_count": 49,
   "metadata": {
    "scrolled": true
   },
   "outputs": [
    {
     "data": {
      "text/plain": [
       "(None, 5)"
      ]
     },
     "execution_count": 49,
     "metadata": {},
     "output_type": "execute_result"
    }
   ],
   "source": [
    "model.build(input_shape = (nx,ny))\n",
    "model.output_shape"
   ]
  },
  {
   "cell_type": "code",
   "execution_count": 50,
   "metadata": {},
   "outputs": [
    {
     "data": {
      "text/plain": [
       "202"
      ]
     },
     "execution_count": 50,
     "metadata": {},
     "output_type": "execute_result"
    }
   ],
   "source": [
    "#del model, wie_by_epoch\n",
    "\n",
    "gc.collect()"
   ]
  },
  {
   "cell_type": "code",
   "execution_count": 51,
   "metadata": {
    "scrolled": true
   },
   "outputs": [
    {
     "data": {
      "image/png": "[encoded data removed]",
      "text/plain": [
       "<IPython.core.display.Image object>"
      ]
     },
     "execution_count": 51,
     "metadata": {},
     "output_type": "execute_result"
    }
   ],
   "source": [
    "wights = model.get_weights()\n",
    "from tensorflow.keras.utils import plot_model\n",
    "plot_model(model, show_shapes=True)"
   ]
  },
  {
   "cell_type": "code",
   "execution_count": 52,
   "metadata": {
    "scrolled": true
   },
   "outputs": [
    {
     "name": "stdout",
     "output_type": "stream",
     "text": [
      "Epoch 1/40\n",
      "5/5 - 2s - loss: 1.7122 - sparse_categorical_accuracy: 0.4932\n",
      "Epoch 2/40\n",
      "5/5 - 1s - loss: 0.1262 - sparse_categorical_accuracy: 0.9932\n",
      "Epoch 3/40\n",
      "5/5 - 1s - loss: 0.0652 - sparse_categorical_accuracy: 0.9932\n",
      "Epoch 4/40\n",
      "5/5 - 1s - loss: 0.0452 - sparse_categorical_accuracy: 0.9932\n",
      "Epoch 5/40\n",
      "5/5 - 1s - loss: 0.0369 - sparse_categorical_accuracy: 0.9932\n",
      "Epoch 6/40\n",
      "5/5 - 1s - loss: 0.0322 - sparse_categorical_accuracy: 0.9932\n",
      "Epoch 7/40\n",
      "5/5 - 1s - loss: 0.0286 - sparse_categorical_accuracy: 0.9932\n",
      "Epoch 8/40\n",
      "5/5 - 1s - loss: 0.0263 - sparse_categorical_accuracy: 0.9932\n",
      "Epoch 9/40\n",
      "5/5 - 1s - loss: 0.0242 - sparse_categorical_accuracy: 0.9932\n",
      "Epoch 10/40\n",
      "5/5 - 1s - loss: 0.0221 - sparse_categorical_accuracy: 0.9932\n",
      "Epoch 11/40\n",
      "5/5 - 1s - loss: 0.0205 - sparse_categorical_accuracy: 0.9932\n",
      "Epoch 12/40\n",
      "5/5 - 1s - loss: 0.0181 - sparse_categorical_accuracy: 1.0000\n",
      "Epoch 13/40\n",
      "5/5 - 1s - loss: 0.0157 - sparse_categorical_accuracy: 0.9932\n",
      "Epoch 14/40\n",
      "5/5 - 1s - loss: 0.0137 - sparse_categorical_accuracy: 1.0000\n",
      "Epoch 15/40\n",
      "5/5 - 2s - loss: 0.0112 - sparse_categorical_accuracy: 1.0000\n",
      "Epoch 16/40\n",
      "5/5 - 2s - loss: 0.0097 - sparse_categorical_accuracy: 1.0000\n",
      "Epoch 17/40\n",
      "5/5 - 1s - loss: 0.0081 - sparse_categorical_accuracy: 1.0000\n",
      "Epoch 18/40\n",
      "5/5 - 1s - loss: 0.0078 - sparse_categorical_accuracy: 0.9932\n",
      "Epoch 19/40\n",
      "5/5 - 1s - loss: 0.0065 - sparse_categorical_accuracy: 1.0000\n",
      "Epoch 20/40\n",
      "5/5 - 1s - loss: 0.0054 - sparse_categorical_accuracy: 1.0000\n",
      "Epoch 21/40\n",
      "5/5 - 1s - loss: 0.0045 - sparse_categorical_accuracy: 1.0000\n",
      "Epoch 22/40\n",
      "5/5 - 1s - loss: 0.0037 - sparse_categorical_accuracy: 1.0000\n",
      "Epoch 23/40\n",
      "5/5 - 1s - loss: 0.0029 - sparse_categorical_accuracy: 1.0000\n",
      "Epoch 24/40\n",
      "5/5 - 1s - loss: 0.0022 - sparse_categorical_accuracy: 1.0000\n",
      "Epoch 25/40\n",
      "5/5 - 1s - loss: 0.0016 - sparse_categorical_accuracy: 1.0000\n",
      "Epoch 26/40\n",
      "5/5 - 2s - loss: 0.0011 - sparse_categorical_accuracy: 1.0000\n",
      "Epoch 27/40\n",
      "5/5 - 2s - loss: 7.7413e-04 - sparse_categorical_accuracy: 1.0000\n",
      "Epoch 28/40\n",
      "5/5 - 1s - loss: 5.4861e-04 - sparse_categorical_accuracy: 1.0000\n",
      "Epoch 29/40\n",
      "5/5 - 1s - loss: 4.2925e-04 - sparse_categorical_accuracy: 1.0000\n",
      "Epoch 30/40\n",
      "5/5 - 1s - loss: 3.1583e-04 - sparse_categorical_accuracy: 1.0000\n",
      "Epoch 31/40\n",
      "5/5 - 1s - loss: 1.9237e-04 - sparse_categorical_accuracy: 1.0000\n",
      "Epoch 32/40\n",
      "5/5 - 1s - loss: 1.1403e-04 - sparse_categorical_accuracy: 1.0000\n",
      "Epoch 33/40\n",
      "5/5 - 1s - loss: 1.1178e-04 - sparse_categorical_accuracy: 1.0000\n",
      "Epoch 34/40\n",
      "5/5 - 1s - loss: 8.2310e-05 - sparse_categorical_accuracy: 1.0000\n",
      "Epoch 35/40\n",
      "5/5 - 1s - loss: 5.0227e-05 - sparse_categorical_accuracy: 1.0000\n",
      "Epoch 36/40\n",
      "5/5 - 1s - loss: 3.2232e-05 - sparse_categorical_accuracy: 1.0000\n",
      "Epoch 37/40\n",
      "5/5 - 1s - loss: 1.5405e-05 - sparse_categorical_accuracy: 1.0000\n",
      "Epoch 38/40\n",
      "5/5 - 1s - loss: 1.0136e-05 - sparse_categorical_accuracy: 1.0000\n",
      "Epoch 39/40\n",
      "5/5 - 1s - loss: 7.9732e-06 - sparse_categorical_accuracy: 1.0000\n",
      "Epoch 40/40\n",
      "5/5 - 1s - loss: 6.3417e-06 - sparse_categorical_accuracy: 1.0000\n"
     ]
    }
   ],
   "source": [
    "mod = model.fit(X_train,\n",
    "               Y_train, epochs=40, batch_size= 32, verbose=2 , \n",
    "                callbacks=[callback, print_weights])"
   ]
  },
  {
   "cell_type": "code",
   "execution_count": 56,
   "metadata": {},
   "outputs": [
    {
     "data": {
      "text/plain": [
       "17"
      ]
     },
     "execution_count": 56,
     "metadata": {},
     "output_type": "execute_result"
    }
   ],
   "source": [
    "#Total Epochs\n",
    "len(wie_by_epoch)"
   ]
  },
  {
   "cell_type": "code",
   "execution_count": 54,
   "metadata": {},
   "outputs": [],
   "source": [
    "#\n",
    "#model.set_weights(wie_by_epoch[37])"
   ]
  },
  {
   "cell_type": "code",
   "execution_count": 55,
   "metadata": {},
   "outputs": [
    {
     "name": "stdout",
     "output_type": "stream",
     "text": [
      "2/2 - 0s - loss: 4.6715e-06 - sparse_categorical_accuracy: 1.0000\n"
     ]
    },
    {
     "data": {
      "text/plain": [
       "[4.6715131247765385e-06, 1.0]"
      ]
     },
     "execution_count": 55,
     "metadata": {},
     "output_type": "execute_result"
    }
   ],
   "source": [
    "scores = model.evaluate(X_test,Y_test, verbose=2)\n",
    "scores"
   ]
  },
  {
   "cell_type": "code",
   "execution_count": 56,
   "metadata": {},
   "outputs": [
    {
     "data": {
      "text/plain": [
       "{'loss': 4.6715131247765385e-06, 'sparse_categorical_accuracy': 1.0}"
      ]
     },
     "execution_count": 56,
     "metadata": {},
     "output_type": "execute_result"
    }
   ],
   "source": [
    "dict(zip(model.metrics_names, scores))"
   ]
  },
  {
   "cell_type": "code",
   "execution_count": 57,
   "metadata": {},
   "outputs": [
    {
     "data": {
      "image/png": "[encoded data removed]",
      "text/plain": [
       "<Figure size 432x288 with 2 Axes>"
      ]
     },
     "metadata": {
      "needs_background": "light"
     },
     "output_type": "display_data"
    }
   ],
   "source": [
    "from matplotlib import pyplot\n",
    "# plot loss during training\n",
    "pyplot.subplot(211)\n",
    "pyplot.title('Loss')\n",
    "pyplot.plot(mod.history['loss'], label='train')\n",
    "#pyplot.plot(mod.history['val_loss'], label='test')\n",
    "pyplot.legend()\n",
    "# plot accuracy during training\n",
    "pyplot.subplot(212)\n",
    "pyplot.title('Accuracy')\n",
    "pyplot.plot(mod.history['sparse_categorical_accuracy'], label='train')\n",
    "#pyplot.plot(mod.history['val_accuracy'], label='test')\n",
    "pyplot.legend()\n",
    "pyplot.show()"
   ]
  },
  {
   "cell_type": "code",
   "execution_count": 58,
   "metadata": {},
   "outputs": [],
   "source": [
    "# predict probabilities for test set\n",
    "yhat_probs = model.predict(X_test.astype('float32'), verbose=0)\n",
    "# predict crisp classes for test set\n",
    "#yhat_classes = model.predict_classes(X_test, verbose=0)\n",
    "yhat_classes = np.argmax(yhat_probs,axis=1)"
   ]
  },
  {
   "cell_type": "code",
   "execution_count": 59,
   "metadata": {},
   "outputs": [],
   "source": [
    "from sklearn.datasets import make_circles\n",
    "from sklearn.metrics import accuracy_score\n",
    "from sklearn.metrics import precision_score\n",
    "from sklearn.metrics import recall_score\n",
    "from sklearn.metrics import f1_score\n",
    "from sklearn.metrics import cohen_kappa_score\n",
    "from sklearn.metrics import roc_auc_score\n",
    "from sklearn.metrics import confusion_matrix\n",
    "from sklearn.metrics import roc_curve\n"
   ]
  },
  {
   "cell_type": "code",
   "execution_count": 60,
   "metadata": {},
   "outputs": [
    {
     "name": "stdout",
     "output_type": "stream",
     "text": [
      "Accuracy: 1.000000\n",
      "Precision: 1.000000\n",
      "Recall: 1.000000\n",
      "F1 score: 1.000000\n"
     ]
    }
   ],
   "source": [
    "# accuracy: (tp + tn) / (p + n)\n",
    "accuracy = accuracy_score(Y_test, yhat_classes)\n",
    "print('Accuracy: %f' % accuracy)\n",
    "# precision tp / (tp + fp)\n",
    "precision = precision_score(Y_test, yhat_classes, average='macro')\n",
    "print('Precision: %f' % precision)\n",
    "# recall: tp / (tp + fn)\n",
    "recall = recall_score(Y_test, yhat_classes,average='macro')\n",
    "print('Recall: %f' % recall)\n",
    "# f1: 2 tp / (2 tp + fp + fn)\n",
    "f1 = f1_score(Y_test, yhat_classes, average='macro')\n",
    "print('F1 score: %f' % f1)"
   ]
  },
  {
   "cell_type": "code",
   "execution_count": 61,
   "metadata": {},
   "outputs": [
    {
     "name": "stdout",
     "output_type": "stream",
     "text": [
      "Cohens kappa: 1.000000\n",
      "[[22  0]\n",
      " [ 0 15]]\n"
     ]
    }
   ],
   "source": [
    "# kappa\n",
    "kappa = cohen_kappa_score(Y_test, yhat_classes)\n",
    "print('Cohens kappa: %f' % kappa)\n",
    "# ROC AUC\n",
    "#fprate, tprate, thresholds = roc_curve(Y_test, yhat_probs, average = 'macro')\n",
    "#print('ROC AUC: %f' % thresholds)\n",
    "# confusion matrix\n",
    "matrix = confusion_matrix(Y_test, yhat_classes)\n",
    "print(matrix)"
   ]
  },
  {
   "cell_type": "code",
   "execution_count": 62,
   "metadata": {},
   "outputs": [
    {
     "name": "stderr",
     "output_type": "stream",
     "text": [
      "C:\\Users\\hp\\Anaconda3\\lib\\site-packages\\sklearn\\metrics\\ranking.py:659: UndefinedMetricWarning: No positive samples in y_true, true positive value should be meaningless\n",
      "  UndefinedMetricWarning)\n"
     ]
    }
   ],
   "source": [
    "fpr = {}\n",
    "tpr = {}\n",
    "thresh ={}\n",
    "\n",
    "n_class = 5\n",
    "\n",
    "for i in range(n_class):    \n",
    "    fpr[i], tpr[i], thresh[i] = roc_curve(Y_test, yhat_classes, pos_label=i)"
   ]
  },
  {
   "cell_type": "code",
   "execution_count": 63,
   "metadata": {},
   "outputs": [
    {
     "data": {
      "image/png": "[encoded data removed]",
      "text/plain": [
       "<Figure size 432x288 with 1 Axes>"
      ]
     },
     "metadata": {
      "needs_background": "light"
     },
     "output_type": "display_data"
    }
   ],
   "source": [
    "# plotting    \n",
    "plt.plot(fpr[0], tpr[0], linestyle='--',color='orange', label='Class 0 vs Rest')\n",
    "plt.plot(fpr[1], tpr[1], linestyle='--',color='green', label='Class 1 vs Rest')\n",
    "plt.plot(fpr[2], tpr[2], linestyle='--',color='blue', label='Class 2 vs Rest')\n",
    "plt.plot(fpr[3], tpr[3], linestyle='--',color='red', label='Class 3 vs Rest')\n",
    "plt.plot(fpr[4], tpr[4], linestyle='--',color='black', label='Class 4 vs Rest')\n",
    "plt.title('Multiclass ROC curve')\n",
    "plt.xlabel('False Positive Rate')\n",
    "plt.ylabel('True Positive rate')\n",
    "plt.legend(loc='best')\n",
    "plt.savefig('Multiclass ROC',dpi=300); "
   ]
  },
  {
   "cell_type": "code",
   "execution_count": 64,
   "metadata": {},
   "outputs": [
    {
     "name": "stdout",
     "output_type": "stream",
     "text": [
      "Confusion matrix : \n",
      " [[22  0]\n",
      " [ 0 15]]\n"
     ]
    }
   ],
   "source": [
    "matrix = confusion_matrix(Y_test,yhat_classes, labels= [0, 1])\n",
    "print('Confusion matrix : \\n',matrix)"
   ]
  },
  {
   "cell_type": "code",
   "execution_count": 65,
   "metadata": {},
   "outputs": [
    {
     "name": "stdout",
     "output_type": "stream",
     "text": [
      "Classification report : \n",
      "               precision    recall  f1-score   support\n",
      "\n",
      "           0       1.00      1.00      1.00        22\n",
      "           1       1.00      1.00      1.00        15\n",
      "\n",
      "    accuracy                           1.00        37\n",
      "   macro avg       1.00      1.00      1.00        37\n",
      "weighted avg       1.00      1.00      1.00        37\n",
      "\n"
     ]
    }
   ],
   "source": [
    "matrix = classification_report(Y_test,yhat_classes, labels= [0, 1])\n",
    "print('Classification report : \\n',matrix)"
   ]
  },
  {
   "cell_type": "code",
   "execution_count": 66,
   "metadata": {},
   "outputs": [
    {
     "name": "stdout",
     "output_type": "stream",
     "text": [
      "INFO:tensorflow:Assets written to: ./models/CFS feature selection/Without IP_Top 6/Binary/DNN\\assets\n"
     ]
    }
   ],
   "source": [
    "model.save('./models/CFS feature selection/Without IP_Top 6/Binary/DNN')"
   ]
  },
  {
   "cell_type": "code",
   "execution_count": 67,
   "metadata": {},
   "outputs": [],
   "source": [
    "from keras import backend as K\n",
    "K.clear_session()"
   ]
  },
  {
   "cell_type": "code",
   "execution_count": 68,
   "metadata": {},
   "outputs": [],
   "source": [
    "#LSTM"
   ]
  },
  {
   "cell_type": "code",
   "execution_count": 69,
   "metadata": {},
   "outputs": [],
   "source": [
    "from keras.callbacks import EarlyStopping\n",
    "from keras.callbacks import ModelCheckpoint, LambdaCallback\n",
    "wie_by_epoch = []\n",
    "model_check = ModelCheckpoint(\"./models/Testpoints/best_model.hdf5\", monitor='loss', verbose=0, save_best_only=True, mode='min', save_freq=1)\n",
    "print_weights = LambdaCallback(on_epoch_end=lambda batch, logs:wie_by_epoch.append(model.get_weights()))\n",
    "callback = tf.keras.callbacks.EarlyStopping(monitor='loss', patience=4, verbose= 2)"
   ]
  },
  {
   "cell_type": "code",
   "execution_count": 70,
   "metadata": {},
   "outputs": [],
   "source": [
    "model = Sequential()\n",
    "model.add(LSTM(14, activation='relu', return_sequences = True, dropout = 0.1, input_shape = (nx,ny) ))\n",
    "model.add(Flatten())\n",
    "model.add(Dense(5, activation='softmax'))\n",
    "model.compile(optimizer= 'rmsprop', loss='sparse_categorical_crossentropy',  metrics=[keras.metrics.SparseCategoricalAccuracy()])"
   ]
  },
  {
   "cell_type": "code",
   "execution_count": 71,
   "metadata": {},
   "outputs": [
    {
     "data": {
      "text/plain": [
       "(None, 5)"
      ]
     },
     "execution_count": 71,
     "metadata": {},
     "output_type": "execute_result"
    }
   ],
   "source": [
    "model.build(input_shape = (nx,ny))\n",
    "model.output_shape"
   ]
  },
  {
   "cell_type": "code",
   "execution_count": 72,
   "metadata": {
    "scrolled": true
   },
   "outputs": [
    {
     "data": {
      "text/plain": [
       "15848"
      ]
     },
     "execution_count": 72,
     "metadata": {},
     "output_type": "execute_result"
    }
   ],
   "source": [
    "#del model, wie_by_epoch\n",
    "\n",
    "gc.collect()"
   ]
  },
  {
   "cell_type": "code",
   "execution_count": 73,
   "metadata": {},
   "outputs": [
    {
     "name": "stdout",
     "output_type": "stream",
     "text": [
      "Model: \"sequential\"\n",
      "_________________________________________________________________\n",
      "Layer (type)                 Output Shape              Param #   \n",
      "=================================================================\n",
      "lstm (LSTM)                  (None, 19800, 14)         1176      \n",
      "_________________________________________________________________\n",
      "flatten (Flatten)            (None, 277200)            0         \n",
      "_________________________________________________________________\n",
      "dense (Dense)                (None, 5)                 1386005   \n",
      "=================================================================\n",
      "Total params: 1,387,181\n",
      "Trainable params: 1,387,181\n",
      "Non-trainable params: 0\n",
      "_________________________________________________________________\n"
     ]
    }
   ],
   "source": [
    "#model.build(input_shape = (nx,ny))\n",
    "model.summary()\n"
   ]
  },
  {
   "cell_type": "code",
   "execution_count": 74,
   "metadata": {},
   "outputs": [
    {
     "data": {
      "image/png": "[encoded data removed]",
      "text/plain": [
       "<IPython.core.display.Image object>"
      ]
     },
     "execution_count": 74,
     "metadata": {},
     "output_type": "execute_result"
    }
   ],
   "source": [
    "from tensorflow.keras.utils import plot_model\n",
    "wights = model.get_weights()\n",
    "plot_model(model, show_shapes=True)"
   ]
  },
  {
   "cell_type": "code",
   "execution_count": 75,
   "metadata": {
    "scrolled": true
   },
   "outputs": [
    {
     "name": "stdout",
     "output_type": "stream",
     "text": [
      "Epoch 1/200\n",
      "3/3 - 31s - loss: 1.1978 - sparse_categorical_accuracy: 0.5411\n",
      "Epoch 2/200\n",
      "3/3 - 29s - loss: 0.2578 - sparse_categorical_accuracy: 0.9589\n",
      "Epoch 3/200\n",
      "3/3 - 29s - loss: 0.1016 - sparse_categorical_accuracy: 0.9932\n",
      "Epoch 4/200\n",
      "3/3 - 30s - loss: 0.0601 - sparse_categorical_accuracy: 0.9932\n",
      "Epoch 5/200\n",
      "3/3 - 46s - loss: 0.0461 - sparse_categorical_accuracy: 0.9932\n",
      "Epoch 6/200\n",
      "3/3 - 57s - loss: 0.0392 - sparse_categorical_accuracy: 0.9932\n",
      "Epoch 7/200\n",
      "3/3 - 45s - loss: 0.0362 - sparse_categorical_accuracy: 0.9932\n",
      "Epoch 8/200\n",
      "3/3 - 23s - loss: 0.0329 - sparse_categorical_accuracy: 0.9932\n",
      "Epoch 9/200\n",
      "3/3 - 22s - loss: 0.0309 - sparse_categorical_accuracy: 0.9932\n",
      "Epoch 10/200\n",
      "3/3 - 23s - loss: 0.0300 - sparse_categorical_accuracy: 0.9932\n",
      "Epoch 11/200\n",
      "3/3 - 23s - loss: 0.0295 - sparse_categorical_accuracy: 0.9932\n",
      "Epoch 12/200\n",
      "3/3 - 25s - loss: 0.0295 - sparse_categorical_accuracy: 0.9932\n",
      "Epoch 13/200\n",
      "3/3 - 23s - loss: 0.0289 - sparse_categorical_accuracy: 0.9932\n",
      "Epoch 14/200\n",
      "3/3 - 24s - loss: 0.0308 - sparse_categorical_accuracy: 0.9932\n",
      "Epoch 15/200\n",
      "3/3 - 25s - loss: 0.0269 - sparse_categorical_accuracy: 0.9932\n",
      "Epoch 16/200\n",
      "3/3 - 43s - loss: 0.0282 - sparse_categorical_accuracy: 0.9932\n",
      "Epoch 17/200\n",
      "3/3 - 58s - loss: 0.0237 - sparse_categorical_accuracy: 0.9932\n",
      "Epoch 18/200\n",
      "3/3 - 44s - loss: 0.0227 - sparse_categorical_accuracy: 0.9932\n",
      "Epoch 19/200\n",
      "3/3 - 25s - loss: 0.0231 - sparse_categorical_accuracy: 0.9932\n",
      "Epoch 20/200\n",
      "3/3 - 30s - loss: 0.0228 - sparse_categorical_accuracy: 0.9932\n",
      "Epoch 21/200\n",
      "3/3 - 34s - loss: 0.0222 - sparse_categorical_accuracy: 0.9932\n",
      "Epoch 22/200\n",
      "3/3 - 35s - loss: 0.0221 - sparse_categorical_accuracy: 0.9932\n",
      "Epoch 23/200\n",
      "3/3 - 34s - loss: 0.0217 - sparse_categorical_accuracy: 0.9932\n",
      "Epoch 24/200\n",
      "3/3 - 34s - loss: 0.0217 - sparse_categorical_accuracy: 0.9932\n",
      "Epoch 25/200\n",
      "3/3 - 34s - loss: 0.0209 - sparse_categorical_accuracy: 0.9932\n",
      "Epoch 26/200\n",
      "3/3 - 36s - loss: 0.0213 - sparse_categorical_accuracy: 0.9932\n",
      "Epoch 27/200\n",
      "3/3 - 34s - loss: 0.0196 - sparse_categorical_accuracy: 0.9932\n",
      "Epoch 28/200\n",
      "3/3 - 35s - loss: 0.0189 - sparse_categorical_accuracy: 0.9932\n",
      "Epoch 29/200\n",
      "3/3 - 36s - loss: 0.0181 - sparse_categorical_accuracy: 0.9932\n",
      "Epoch 30/200\n",
      "3/3 - 35s - loss: 0.0193 - sparse_categorical_accuracy: 0.9932\n",
      "Epoch 31/200\n",
      "3/3 - 35s - loss: 0.0169 - sparse_categorical_accuracy: 0.9932\n",
      "Epoch 32/200\n",
      "3/3 - 35s - loss: 0.0167 - sparse_categorical_accuracy: 0.9932\n",
      "Epoch 33/200\n",
      "3/3 - 34s - loss: 0.0149 - sparse_categorical_accuracy: 0.9932\n",
      "Epoch 34/200\n",
      "3/3 - 35s - loss: 0.0134 - sparse_categorical_accuracy: 0.9932\n",
      "Epoch 35/200\n",
      "3/3 - 35s - loss: 0.0142 - sparse_categorical_accuracy: 0.9932\n",
      "Epoch 36/200\n",
      "3/3 - 35s - loss: 0.0130 - sparse_categorical_accuracy: 0.9932\n",
      "Epoch 37/200\n",
      "3/3 - 34s - loss: 0.0131 - sparse_categorical_accuracy: 0.9932\n",
      "Epoch 38/200\n",
      "3/3 - 35s - loss: 0.0123 - sparse_categorical_accuracy: 1.0000\n",
      "Epoch 39/200\n",
      "3/3 - 35s - loss: nan - sparse_categorical_accuracy: 1.0000\n",
      "Epoch 40/200\n",
      "3/3 - 35s - loss: nan - sparse_categorical_accuracy: 0.6027\n",
      "Epoch 41/200\n",
      "3/3 - 36s - loss: nan - sparse_categorical_accuracy: 0.6027\n",
      "Epoch 42/200\n",
      "3/3 - 35s - loss: nan - sparse_categorical_accuracy: 0.6027\n",
      "Epoch 00042: early stopping\n"
     ]
    }
   ],
   "source": [
    "mod = model.fit(X_train,\n",
    "               Y_train, epochs=200, batch_size= 64, verbose=2 , \n",
    "                callbacks=[callback, print_weights, model_check])"
   ]
  },
  {
   "cell_type": "code",
   "execution_count": 76,
   "metadata": {},
   "outputs": [
    {
     "data": {
      "text/plain": [
       "42"
      ]
     },
     "execution_count": 76,
     "metadata": {},
     "output_type": "execute_result"
    }
   ],
   "source": [
    "# Number of Epochs\n",
    "len(wie_by_epoch)"
   ]
  },
  {
   "cell_type": "code",
   "execution_count": 77,
   "metadata": {},
   "outputs": [],
   "source": [
    "# 7\n",
    "model.set_weights(wie_by_epoch[36])"
   ]
  },
  {
   "cell_type": "code",
   "execution_count": 78,
   "metadata": {},
   "outputs": [
    {
     "name": "stdout",
     "output_type": "stream",
     "text": [
      "2/2 - 4s - loss: 0.0243 - sparse_categorical_accuracy: 1.0000\n"
     ]
    },
    {
     "data": {
      "text/plain": [
       "[0.024318061769008636, 1.0]"
      ]
     },
     "execution_count": 78,
     "metadata": {},
     "output_type": "execute_result"
    }
   ],
   "source": [
    "scores = model.evaluate(X_test,Y_test, verbose=2)\n",
    "scores"
   ]
  },
  {
   "cell_type": "code",
   "execution_count": 79,
   "metadata": {},
   "outputs": [
    {
     "data": {
      "image/png": "[encoded data removed]",
      "text/plain": [
       "<Figure size 432x288 with 2 Axes>"
      ]
     },
     "metadata": {
      "needs_background": "light"
     },
     "output_type": "display_data"
    }
   ],
   "source": [
    "from matplotlib import pyplot\n",
    "# plot loss during training\n",
    "pyplot.subplot(211)\n",
    "pyplot.title('Loss')\n",
    "pyplot.plot(mod.history['loss'], label='train')\n",
    "#pyplot.plot(mod.history['val_loss'], label='test')\n",
    "pyplot.legend()\n",
    "# plot accuracy during training\n",
    "pyplot.subplot(212)\n",
    "pyplot.title('Accuracy')\n",
    "pyplot.plot(mod.history['sparse_categorical_accuracy'], label='train')\n",
    "#pyplot.plot(mod.history['val_accuracy'], label='test')\n",
    "pyplot.legend()\n",
    "pyplot.show()"
   ]
  },
  {
   "cell_type": "code",
   "execution_count": 80,
   "metadata": {},
   "outputs": [],
   "source": [
    "# predict probabilities for test set\n",
    "yhat_probs = model.predict(X_test.astype('float32'), verbose=0)\n",
    "# predict crisp classes for test set\n",
    "#yhat_classes = model.predict_classes(X_test, verbose=0)\n",
    "yhat_classes = np.argmax(yhat_probs,axis=1)"
   ]
  },
  {
   "cell_type": "code",
   "execution_count": 81,
   "metadata": {},
   "outputs": [
    {
     "name": "stdout",
     "output_type": "stream",
     "text": [
      "Accuracy: 1.000000\n",
      "Precision: 1.000000\n",
      "Recall: 1.000000\n",
      "F1 score: 1.000000\n"
     ]
    }
   ],
   "source": [
    "# accuracy: (tp + tn) / (p + n)\n",
    "accuracy = accuracy_score(Y_test, yhat_classes)\n",
    "print('Accuracy: %f' % accuracy)\n",
    "# precision tp / (tp + fp)\n",
    "precision = precision_score(Y_test, yhat_classes, average='macro')\n",
    "print('Precision: %f' % precision)\n",
    "# recall: tp / (tp + fn)\n",
    "recall = recall_score(Y_test, yhat_classes,average='macro')\n",
    "print('Recall: %f' % recall)\n",
    "# f1: 2 tp / (2 tp + fp + fn)\n",
    "f1 = f1_score(Y_test, yhat_classes, average='macro')\n",
    "print('F1 score: %f' % f1)"
   ]
  },
  {
   "cell_type": "code",
   "execution_count": 82,
   "metadata": {},
   "outputs": [
    {
     "name": "stdout",
     "output_type": "stream",
     "text": [
      "Cohens kappa: 1.000000\n",
      "[[22  0]\n",
      " [ 0 15]]\n"
     ]
    }
   ],
   "source": [
    "# kappa\n",
    "kappa = cohen_kappa_score(Y_test, yhat_classes)\n",
    "print('Cohens kappa: %f' % kappa)\n",
    "# ROC AUC\n",
    "#fprate, tprate, thresholds = roc_curve(Y_test, yhat_probs, average = 'macro')\n",
    "#print('ROC AUC: %f' % thresholds)\n",
    "# confusion matrix\n",
    "matrix = confusion_matrix(Y_test, yhat_classes)\n",
    "print(matrix)"
   ]
  },
  {
   "cell_type": "code",
   "execution_count": 83,
   "metadata": {},
   "outputs": [
    {
     "name": "stderr",
     "output_type": "stream",
     "text": [
      "C:\\Users\\hp\\Anaconda3\\lib\\site-packages\\sklearn\\metrics\\ranking.py:659: UndefinedMetricWarning: No positive samples in y_true, true positive value should be meaningless\n",
      "  UndefinedMetricWarning)\n"
     ]
    }
   ],
   "source": [
    "fpr = {}\n",
    "tpr = {}\n",
    "thresh ={}\n",
    "\n",
    "n_class = 5\n",
    "\n",
    "for i in range(n_class):    \n",
    "    fpr[i], tpr[i], thresh[i] = roc_curve(Y_test, yhat_classes, pos_label=i)"
   ]
  },
  {
   "cell_type": "code",
   "execution_count": 84,
   "metadata": {},
   "outputs": [
    {
     "data": {
      "image/png": "[encoded data removed]",
      "text/plain": [
       "<Figure size 432x288 with 1 Axes>"
      ]
     },
     "metadata": {
      "needs_background": "light"
     },
     "output_type": "display_data"
    }
   ],
   "source": [
    "# plotting    \n",
    "plt.plot(fpr[0], tpr[0], linestyle='--',color='orange', label='Class 0 vs Rest')\n",
    "plt.plot(fpr[1], tpr[1], linestyle='--',color='green', label='Class 1 vs Rest')\n",
    "plt.plot(fpr[2], tpr[2], linestyle='--',color='blue', label='Class 2 vs Rest')\n",
    "plt.plot(fpr[3], tpr[3], linestyle='--',color='red', label='Class 3 vs Rest')\n",
    "plt.plot(fpr[4], tpr[4], linestyle='--',color='black', label='Class 4 vs Rest')\n",
    "plt.title('Multiclass ROC curve')\n",
    "plt.xlabel('False Positive Rate')\n",
    "plt.ylabel('True Positive rate')\n",
    "plt.legend(loc='best')\n",
    "plt.savefig('Multiclass ROC',dpi=300); "
   ]
  },
  {
   "cell_type": "code",
   "execution_count": 85,
   "metadata": {},
   "outputs": [
    {
     "name": "stdout",
     "output_type": "stream",
     "text": [
      "Confusion matrix : \n",
      " [[22  0]\n",
      " [ 0 15]]\n"
     ]
    }
   ],
   "source": [
    "matrix = confusion_matrix(Y_test,yhat_classes, labels= [0, 1])\n",
    "print('Confusion matrix : \\n',matrix)"
   ]
  },
  {
   "cell_type": "code",
   "execution_count": 86,
   "metadata": {},
   "outputs": [
    {
     "name": "stdout",
     "output_type": "stream",
     "text": [
      "Classification report : \n",
      "               precision    recall  f1-score   support\n",
      "\n",
      "           0       1.00      1.00      1.00        22\n",
      "           1       1.00      1.00      1.00        15\n",
      "\n",
      "    accuracy                           1.00        37\n",
      "   macro avg       1.00      1.00      1.00        37\n",
      "weighted avg       1.00      1.00      1.00        37\n",
      "\n"
     ]
    }
   ],
   "source": [
    "matrix = classification_report(Y_test,yhat_classes, labels= [0, 1])\n",
    "print('Classification report : \\n',matrix)"
   ]
  },
  {
   "cell_type": "code",
   "execution_count": 87,
   "metadata": {},
   "outputs": [
    {
     "name": "stdout",
     "output_type": "stream",
     "text": [
      "INFO:tensorflow:Assets written to: ./models/CFS feature selection/Without IP_Top 6/Binary/LSTM\\assets\n"
     ]
    }
   ],
   "source": [
    "import pickle\n",
    "#filename = './models/CFS feature selection/With IP_ Top 7/Multi-class/KNN/KNN.sav'\n",
    "model.save('./models/CFS feature selection/Without IP_Top 6/Binary/LSTM')"
   ]
  },
  {
   "cell_type": "code",
   "execution_count": 88,
   "metadata": {},
   "outputs": [],
   "source": [
    "from keras import backend as K\n",
    "K.clear_session()"
   ]
  },
  {
   "cell_type": "code",
   "execution_count": 89,
   "metadata": {},
   "outputs": [],
   "source": [
    "from keras.callbacks import EarlyStopping\n",
    "from keras.callbacks import ModelCheckpoint, LambdaCallback\n",
    "wie_by_epoch = []\n",
    "model_check = ModelCheckpoint(\"./models/Testpoints/best_model.hdf5\", monitor='loss', verbose=0, save_best_only=True, mode='min', save_freq=1)\n",
    "print_weights = LambdaCallback(on_epoch_end=lambda batch, logs:wie_by_epoch.append(model.get_weights()))\n",
    "callback = tf.keras.callbacks.EarlyStopping(monitor='loss', patience=4, verbose= 2)"
   ]
  },
  {
   "cell_type": "code",
   "execution_count": 90,
   "metadata": {},
   "outputs": [],
   "source": [
    "model = Sequential()\n",
    "model.add(SimpleRNN(16, input_shape=(nx, ny), return_sequences = True, activation='relu'))\n",
    "model.add(Flatten())\n",
    "model.add(Dense(units=5, activation='softmax'))\n",
    "model.compile(optimizer= 'rmsprop', loss='sparse_categorical_crossentropy',  metrics=[keras.metrics.SparseCategoricalAccuracy()])"
   ]
  },
  {
   "cell_type": "code",
   "execution_count": 91,
   "metadata": {
    "scrolled": true
   },
   "outputs": [
    {
     "data": {
      "text/plain": [
       "(None, 5)"
      ]
     },
     "execution_count": 91,
     "metadata": {},
     "output_type": "execute_result"
    }
   ],
   "source": [
    "model.build(input_shape = (nx,ny))\n",
    "model.output_shape"
   ]
  },
  {
   "cell_type": "code",
   "execution_count": 92,
   "metadata": {},
   "outputs": [
    {
     "data": {
      "text/plain": [
       "72719"
      ]
     },
     "execution_count": 92,
     "metadata": {},
     "output_type": "execute_result"
    }
   ],
   "source": [
    "#del model, wie_by_epoch\n",
    "\n",
    "gc.collect()"
   ]
  },
  {
   "cell_type": "code",
   "execution_count": 93,
   "metadata": {},
   "outputs": [
    {
     "name": "stdout",
     "output_type": "stream",
     "text": [
      "Model: \"sequential\"\n",
      "_________________________________________________________________\n",
      "Layer (type)                 Output Shape              Param #   \n",
      "=================================================================\n",
      "simple_rnn (SimpleRNN)       (None, 19800, 16)         368       \n",
      "_________________________________________________________________\n",
      "flatten (Flatten)            (None, 316800)            0         \n",
      "_________________________________________________________________\n",
      "dense (Dense)                (None, 5)                 1584005   \n",
      "=================================================================\n",
      "Total params: 1,584,373\n",
      "Trainable params: 1,584,373\n",
      "Non-trainable params: 0\n",
      "_________________________________________________________________\n"
     ]
    }
   ],
   "source": [
    "#model.build(input_shape = (nx,ny))\n",
    "model.summary()\n"
   ]
  },
  {
   "cell_type": "code",
   "execution_count": 94,
   "metadata": {},
   "outputs": [
    {
     "data": {
      "image/png": "[encoded data removed]",
      "text/plain": [
       "<IPython.core.display.Image object>"
      ]
     },
     "execution_count": 94,
     "metadata": {},
     "output_type": "execute_result"
    }
   ],
   "source": [
    "from tensorflow.keras.utils import plot_model\n",
    "wights = model.get_weights()\n",
    "plot_model(model, show_shapes=True)"
   ]
  },
  {
   "cell_type": "code",
   "execution_count": 95,
   "metadata": {
    "scrolled": true
   },
   "outputs": [
    {
     "name": "stdout",
     "output_type": "stream",
     "text": [
      "Epoch 1/120\n",
      "5/5 - 30s - loss: 8.2247 - sparse_categorical_accuracy: 0.6370\n",
      "Epoch 2/120\n",
      "5/5 - 25s - loss: 0.0636 - sparse_categorical_accuracy: 0.9932\n",
      "Epoch 3/120\n",
      "5/5 - 25s - loss: 0.0367 - sparse_categorical_accuracy: 0.9932\n",
      "Epoch 4/120\n",
      "5/5 - 26s - loss: 0.0265 - sparse_categorical_accuracy: 0.9932\n",
      "Epoch 5/120\n",
      "5/5 - 22s - loss: 0.0240 - sparse_categorical_accuracy: 0.9932\n",
      "Epoch 6/120\n",
      "5/5 - 20s - loss: 0.0238 - sparse_categorical_accuracy: 0.9932\n",
      "Epoch 7/120\n",
      "5/5 - 20s - loss: 0.0224 - sparse_categorical_accuracy: 0.9932\n",
      "Epoch 8/120\n",
      "5/5 - 20s - loss: 0.0239 - sparse_categorical_accuracy: 0.9932\n",
      "Epoch 9/120\n",
      "5/5 - 20s - loss: 0.0223 - sparse_categorical_accuracy: 0.9932\n",
      "Epoch 10/120\n",
      "5/5 - 19s - loss: 0.0202 - sparse_categorical_accuracy: 0.9932\n",
      "Epoch 11/120\n",
      "5/5 - 19s - loss: 0.0209 - sparse_categorical_accuracy: 0.9932\n",
      "Epoch 12/120\n",
      "5/5 - 19s - loss: 0.0183 - sparse_categorical_accuracy: 0.9932\n",
      "Epoch 13/120\n",
      "5/5 - 17s - loss: 0.0158 - sparse_categorical_accuracy: 0.9932\n",
      "Epoch 14/120\n",
      "5/5 - 17s - loss: 0.0173 - sparse_categorical_accuracy: 0.9932\n",
      "Epoch 15/120\n",
      "5/5 - 17s - loss: 0.0134 - sparse_categorical_accuracy: 0.9932\n",
      "Epoch 16/120\n",
      "5/5 - 17s - loss: 0.0134 - sparse_categorical_accuracy: 0.9932\n",
      "Epoch 17/120\n",
      "5/5 - 17s - loss: 0.0129 - sparse_categorical_accuracy: 1.0000\n",
      "Epoch 18/120\n",
      "5/5 - 17s - loss: 0.0117 - sparse_categorical_accuracy: 0.9932\n",
      "Epoch 19/120\n",
      "5/5 - 17s - loss: 0.0119 - sparse_categorical_accuracy: 0.9932\n",
      "Epoch 20/120\n",
      "5/5 - 17s - loss: 0.0084 - sparse_categorical_accuracy: 1.0000\n",
      "Epoch 21/120\n",
      "5/5 - 17s - loss: 0.0119 - sparse_categorical_accuracy: 0.9932\n",
      "Epoch 22/120\n",
      "5/5 - 18s - loss: 0.0097 - sparse_categorical_accuracy: 0.9932\n",
      "Epoch 23/120\n",
      "5/5 - 19s - loss: 0.0074 - sparse_categorical_accuracy: 1.0000\n",
      "Epoch 24/120\n",
      "5/5 - 22s - loss: 0.0066 - sparse_categorical_accuracy: 1.0000\n",
      "Epoch 25/120\n",
      "5/5 - 22s - loss: 0.0050 - sparse_categorical_accuracy: 1.0000\n",
      "Epoch 26/120\n",
      "5/5 - 25s - loss: 0.0069 - sparse_categorical_accuracy: 0.9932\n",
      "Epoch 27/120\n",
      "5/5 - 26s - loss: 0.0059 - sparse_categorical_accuracy: 1.0000\n",
      "Epoch 28/120\n",
      "5/5 - 32s - loss: 0.0050 - sparse_categorical_accuracy: 1.0000\n",
      "Epoch 29/120\n",
      "5/5 - 27s - loss: 0.0036 - sparse_categorical_accuracy: 1.0000\n",
      "Epoch 30/120\n",
      "5/5 - 26s - loss: 0.0025 - sparse_categorical_accuracy: 1.0000\n",
      "Epoch 31/120\n",
      "5/5 - 26s - loss: 0.0022 - sparse_categorical_accuracy: 1.0000\n",
      "Epoch 32/120\n",
      "5/5 - 27s - loss: 0.0018 - sparse_categorical_accuracy: 1.0000\n",
      "Epoch 33/120\n",
      "5/5 - 27s - loss: 0.0018 - sparse_categorical_accuracy: 1.0000\n",
      "Epoch 34/120\n",
      "5/5 - 25s - loss: 7.8771e-04 - sparse_categorical_accuracy: 1.0000\n",
      "Epoch 35/120\n",
      "5/5 - 25s - loss: 6.0111e-04 - sparse_categorical_accuracy: 1.0000\n",
      "Epoch 36/120\n",
      "5/5 - 26s - loss: 4.8351 - sparse_categorical_accuracy: 0.9110\n",
      "Epoch 37/120\n",
      "5/5 - 27s - loss: 0.0034 - sparse_categorical_accuracy: 1.0000\n",
      "Epoch 38/120\n",
      "5/5 - 25s - loss: 0.0022 - sparse_categorical_accuracy: 1.0000\n",
      "Epoch 39/120\n",
      "5/5 - 24s - loss: 0.0015 - sparse_categorical_accuracy: 1.0000\n",
      "Epoch 00039: early stopping\n"
     ]
    }
   ],
   "source": [
    "mod = model.fit(X_train,\n",
    "               Y_train, epochs=120, batch_size= 32, verbose=2 , \n",
    "                callbacks=[callback, print_weights, model_check])"
   ]
  },
  {
   "cell_type": "code",
   "execution_count": 96,
   "metadata": {},
   "outputs": [
    {
     "data": {
      "text/plain": [
       "39"
      ]
     },
     "execution_count": 96,
     "metadata": {},
     "output_type": "execute_result"
    }
   ],
   "source": [
    "#Number of Epochs\n",
    "len(wie_by_epoch)"
   ]
  },
  {
   "cell_type": "code",
   "execution_count": 97,
   "metadata": {},
   "outputs": [],
   "source": [
    "#120 +21\n",
    "#model.set_weights(wie_by_epoch[95])\n",
    "#mod.history.get('sparse_categorical_accuracy')"
   ]
  },
  {
   "cell_type": "code",
   "execution_count": 98,
   "metadata": {},
   "outputs": [
    {
     "name": "stdout",
     "output_type": "stream",
     "text": [
      "2/2 - 2s - loss: 2.3190e-04 - sparse_categorical_accuracy: 1.0000\n"
     ]
    },
    {
     "data": {
      "text/plain": [
       "[0.00023189897183328867, 1.0]"
      ]
     },
     "execution_count": 98,
     "metadata": {},
     "output_type": "execute_result"
    }
   ],
   "source": [
    "scores = model.evaluate(X_test,Y_test, verbose=2)\n",
    "scores"
   ]
  },
  {
   "cell_type": "code",
   "execution_count": 99,
   "metadata": {},
   "outputs": [
    {
     "data": {
      "text/plain": [
       "{'loss': 0.00023189897183328867, 'sparse_categorical_accuracy': 1.0}"
      ]
     },
     "execution_count": 99,
     "metadata": {},
     "output_type": "execute_result"
    }
   ],
   "source": [
    "dict(zip(model.metrics_names, scores))"
   ]
  },
  {
   "cell_type": "code",
   "execution_count": 100,
   "metadata": {},
   "outputs": [
    {
     "data": {
      "image/png": "[encoded data removed]",
      "text/plain": [
       "<Figure size 432x288 with 2 Axes>"
      ]
     },
     "metadata": {
      "needs_background": "light"
     },
     "output_type": "display_data"
    }
   ],
   "source": [
    "from matplotlib import pyplot\n",
    "# plot loss during training\n",
    "pyplot.subplot(211)\n",
    "pyplot.title('Loss')\n",
    "pyplot.plot(mod.history['loss'], label='train')\n",
    "#pyplot.plot(mod.history['val_loss'], label='test')\n",
    "pyplot.legend()\n",
    "# plot accuracy during training\n",
    "pyplot.subplot(212)\n",
    "pyplot.title('Accuracy')\n",
    "pyplot.plot(mod.history['sparse_categorical_accuracy'], label='train')\n",
    "#pyplot.plot(mod.history['val_accuracy'], label='test')\n",
    "pyplot.legend()\n",
    "pyplot.show()"
   ]
  },
  {
   "cell_type": "code",
   "execution_count": 101,
   "metadata": {},
   "outputs": [],
   "source": [
    "# predict probabilities for test set\n",
    "yhat_probs = model.predict(X_test.astype('float32'), verbose=0)\n",
    "# predict crisp classes for test set\n",
    "#yhat_classes = model.predict_classes(X_test, verbose=0)\n",
    "yhat_classes = np.argmax(yhat_probs,axis=1)"
   ]
  },
  {
   "cell_type": "code",
   "execution_count": 102,
   "metadata": {},
   "outputs": [
    {
     "name": "stdout",
     "output_type": "stream",
     "text": [
      "Accuracy: 1.000000\n",
      "Precision: 1.000000\n",
      "Recall: 1.000000\n",
      "F1 score: 1.000000\n"
     ]
    }
   ],
   "source": [
    "# accuracy: (tp + tn) / (p + n)\n",
    "accuracy = accuracy_score(Y_test, yhat_classes)\n",
    "print('Accuracy: %f' % accuracy)\n",
    "# precision tp / (tp + fp)\n",
    "precision = precision_score(Y_test, yhat_classes, average='macro')\n",
    "print('Precision: %f' % precision)\n",
    "# recall: tp / (tp + fn)\n",
    "recall = recall_score(Y_test, yhat_classes,average='macro')\n",
    "print('Recall: %f' % recall)\n",
    "# f1: 2 tp / (2 tp + fp + fn)\n",
    "f1 = f1_score(Y_test, yhat_classes, average='macro')\n",
    "print('F1 score: %f' % f1)"
   ]
  },
  {
   "cell_type": "code",
   "execution_count": 103,
   "metadata": {},
   "outputs": [
    {
     "name": "stdout",
     "output_type": "stream",
     "text": [
      "Cohens kappa: 1.000000\n",
      "[[22  0]\n",
      " [ 0 15]]\n"
     ]
    }
   ],
   "source": [
    "# kappa\n",
    "kappa = cohen_kappa_score(Y_test, yhat_classes)\n",
    "print('Cohens kappa: %f' % kappa)\n",
    "# ROC AUC\n",
    "#fprate, tprate, thresholds = roc_curve(Y_test, yhat_probs, average = 'macro')\n",
    "#print('ROC AUC: %f' % thresholds)\n",
    "# confusion matrix\n",
    "matrix = confusion_matrix(Y_test, yhat_classes)\n",
    "print(matrix)"
   ]
  },
  {
   "cell_type": "code",
   "execution_count": 104,
   "metadata": {},
   "outputs": [
    {
     "name": "stderr",
     "output_type": "stream",
     "text": [
      "C:\\Users\\hp\\Anaconda3\\lib\\site-packages\\sklearn\\metrics\\ranking.py:659: UndefinedMetricWarning: No positive samples in y_true, true positive value should be meaningless\n",
      "  UndefinedMetricWarning)\n"
     ]
    }
   ],
   "source": [
    "fpr = {}\n",
    "tpr = {}\n",
    "thresh ={}\n",
    "\n",
    "n_class = 5\n",
    "\n",
    "for i in range(n_class):    \n",
    "    fpr[i], tpr[i], thresh[i] = roc_curve(Y_test, yhat_classes, pos_label=i)"
   ]
  },
  {
   "cell_type": "code",
   "execution_count": 105,
   "metadata": {},
   "outputs": [
    {
     "data": {
      "image/png": "[encoded data removed]",
      "text/plain": [
       "<Figure size 432x288 with 1 Axes>"
      ]
     },
     "metadata": {
      "needs_background": "light"
     },
     "output_type": "display_data"
    }
   ],
   "source": [
    "# plotting    \n",
    "plt.plot(fpr[0], tpr[0], linestyle='--',color='orange', label='Class 0 vs Rest')\n",
    "plt.plot(fpr[1], tpr[1], linestyle='--',color='green', label='Class 1 vs Rest')\n",
    "plt.plot(fpr[2], tpr[2], linestyle='--',color='blue', label='Class 2 vs Rest')\n",
    "plt.plot(fpr[3], tpr[3], linestyle='--',color='red', label='Class 3 vs Rest')\n",
    "plt.plot(fpr[4], tpr[4], linestyle='--',color='black', label='Class 4 vs Rest')\n",
    "plt.title('Multiclass ROC curve')\n",
    "plt.xlabel('False Positive Rate')\n",
    "plt.ylabel('True Positive rate')\n",
    "plt.legend(loc='best')\n",
    "plt.savefig('Multiclass ROC',dpi=300); "
   ]
  },
  {
   "cell_type": "code",
   "execution_count": 106,
   "metadata": {},
   "outputs": [
    {
     "name": "stdout",
     "output_type": "stream",
     "text": [
      "Confusion matrix : \n",
      " [[22  0]\n",
      " [ 0 15]]\n"
     ]
    }
   ],
   "source": [
    "matrix = confusion_matrix(Y_test,yhat_classes, labels= [0, 1])\n",
    "print('Confusion matrix : \\n',matrix)"
   ]
  },
  {
   "cell_type": "code",
   "execution_count": 107,
   "metadata": {},
   "outputs": [
    {
     "name": "stdout",
     "output_type": "stream",
     "text": [
      "Classification report : \n",
      "               precision    recall  f1-score   support\n",
      "\n",
      "           0       1.00      1.00      1.00        22\n",
      "           1       1.00      1.00      1.00        15\n",
      "\n",
      "    accuracy                           1.00        37\n",
      "   macro avg       1.00      1.00      1.00        37\n",
      "weighted avg       1.00      1.00      1.00        37\n",
      "\n"
     ]
    }
   ],
   "source": [
    "matrix = classification_report(Y_test,yhat_classes, labels= [0, 1])\n",
    "print('Classification report : \\n',matrix)"
   ]
  },
  {
   "cell_type": "code",
   "execution_count": 108,
   "metadata": {},
   "outputs": [
    {
     "name": "stdout",
     "output_type": "stream",
     "text": [
      "INFO:tensorflow:Assets written to: ./models/CFS feature selection/Without IP_Top 6/Binary/Simple RNN\\assets\n"
     ]
    }
   ],
   "source": [
    "import pickle\n",
    "model.save('./models/CFS feature selection/Without IP_Top 6/Binary/Simple RNN')"
   ]
  },
  {
   "cell_type": "code",
   "execution_count": 109,
   "metadata": {},
   "outputs": [],
   "source": [
    "#MLP"
   ]
  },
  {
   "cell_type": "code",
   "execution_count": 110,
   "metadata": {},
   "outputs": [
    {
     "name": "stdout",
     "output_type": "stream",
     "text": [
      "samples: 37 \n",
      " X:19800 \n",
      " Y:6\n"
     ]
    }
   ],
   "source": [
    "#X = make_4D(X)\n",
    "nsamples,nx, ny = X_test.shape\n",
    "print(f\"samples: {nsamples} \\n X:{nx} \\n Y:{ny}\" )\n",
    "X_test = X_test.reshape((nsamples,nx*ny))"
   ]
  },
  {
   "cell_type": "code",
   "execution_count": 111,
   "metadata": {},
   "outputs": [
    {
     "name": "stdout",
     "output_type": "stream",
     "text": [
      "samples: 146 \n",
      " X:19800 \n",
      " Y:6\n"
     ]
    }
   ],
   "source": [
    "nsamples,nx, ny = X_train.shape\n",
    "print(f\"samples: {nsamples} \\n X:{nx} \\n Y:{ny}\" )\n",
    "X_train = X_train.reshape((nsamples,nx*ny))"
   ]
  },
  {
   "cell_type": "code",
   "execution_count": 112,
   "metadata": {},
   "outputs": [],
   "source": [
    "from sklearn.neural_network import MLPClassifier"
   ]
  },
  {
   "cell_type": "code",
   "execution_count": 113,
   "metadata": {},
   "outputs": [],
   "source": [
    "clf = MLPClassifier(hidden_layer_sizes=(256,128,64,32),activation=\"relu\",random_state=1).fit(X_train, Y_train)\n",
    "y_pred=clf.predict(X_test)\n"
   ]
  },
  {
   "cell_type": "code",
   "execution_count": 114,
   "metadata": {},
   "outputs": [
    {
     "data": {
      "text/plain": [
       "1.0"
      ]
     },
     "execution_count": 114,
     "metadata": {},
     "output_type": "execute_result"
    }
   ],
   "source": [
    "clf.score(X_test, Y_test)"
   ]
  },
  {
   "cell_type": "code",
   "execution_count": 115,
   "metadata": {},
   "outputs": [],
   "source": [
    "yhat_classes = y_pred"
   ]
  },
  {
   "cell_type": "code",
   "execution_count": 116,
   "metadata": {},
   "outputs": [],
   "source": [
    "from sklearn.datasets import make_circles\n",
    "from sklearn.metrics import accuracy_score\n",
    "from sklearn.metrics import precision_score\n",
    "from sklearn.metrics import recall_score\n",
    "from sklearn.metrics import f1_score\n",
    "from sklearn.metrics import cohen_kappa_score\n",
    "from sklearn.metrics import roc_auc_score\n",
    "from sklearn.metrics import confusion_matrix\n",
    "from sklearn.metrics import roc_curve\n"
   ]
  },
  {
   "cell_type": "code",
   "execution_count": 117,
   "metadata": {},
   "outputs": [
    {
     "name": "stdout",
     "output_type": "stream",
     "text": [
      "Accuracy: 1.000000\n",
      "Precision: 1.000000\n",
      "Recall: 1.000000\n",
      "F1 score: 1.000000\n"
     ]
    }
   ],
   "source": [
    "# accuracy: (tp + tn) / (p + n)\n",
    "accuracy = accuracy_score(Y_test, yhat_classes)\n",
    "print('Accuracy: %f' % accuracy)\n",
    "# precision tp / (tp + fp)\n",
    "precision = precision_score(Y_test, yhat_classes, average='macro')\n",
    "print('Precision: %f' % precision)\n",
    "# recall: tp / (tp + fn)\n",
    "recall = recall_score(Y_test, yhat_classes,average='macro')\n",
    "print('Recall: %f' % recall)\n",
    "# f1: 2 tp / (2 tp + fp + fn)\n",
    "f1 = f1_score(Y_test, yhat_classes, average='macro')\n",
    "print('F1 score: %f' % f1)"
   ]
  },
  {
   "cell_type": "code",
   "execution_count": 118,
   "metadata": {},
   "outputs": [
    {
     "name": "stdout",
     "output_type": "stream",
     "text": [
      "Cohens kappa: 1.000000\n",
      "[[22  0]\n",
      " [ 0 15]]\n"
     ]
    }
   ],
   "source": [
    "# kappa\n",
    "kappa = cohen_kappa_score(Y_test, yhat_classes)\n",
    "print('Cohens kappa: %f' % kappa)\n",
    "# ROC AUC\n",
    "#fprate, tprate, thresholds = roc_curve(Y_test, yhat_probs, average = 'macro')\n",
    "#print('ROC AUC: %f' % thresholds)\n",
    "# confusion matrix\n",
    "matrix = confusion_matrix(Y_test, yhat_classes)\n",
    "print(matrix)"
   ]
  },
  {
   "cell_type": "code",
   "execution_count": 119,
   "metadata": {},
   "outputs": [
    {
     "name": "stderr",
     "output_type": "stream",
     "text": [
      "C:\\Users\\hp\\Anaconda3\\lib\\site-packages\\sklearn\\metrics\\ranking.py:659: UndefinedMetricWarning: No positive samples in y_true, true positive value should be meaningless\n",
      "  UndefinedMetricWarning)\n"
     ]
    }
   ],
   "source": [
    "fpr = {}\n",
    "tpr = {}\n",
    "thresh ={}\n",
    "\n",
    "n_class = 5\n",
    "\n",
    "for i in range(n_class):    \n",
    "    fpr[i], tpr[i], thresh[i] = roc_curve(Y_test, yhat_classes, pos_label=i)"
   ]
  },
  {
   "cell_type": "code",
   "execution_count": 120,
   "metadata": {},
   "outputs": [
    {
     "data": {
      "image/png": "[encoded data removed]",
      "text/plain": [
       "<Figure size 432x288 with 1 Axes>"
      ]
     },
     "metadata": {
      "needs_background": "light"
     },
     "output_type": "display_data"
    }
   ],
   "source": [
    "# plotting    \n",
    "plt.plot(fpr[0], tpr[0], linestyle='--',color='orange', label='Class 0 vs Rest')\n",
    "plt.plot(fpr[1], tpr[1], linestyle='--',color='green', label='Class 1 vs Rest')\n",
    "plt.plot(fpr[2], tpr[2], linestyle='--',color='blue', label='Class 2 vs Rest')\n",
    "plt.plot(fpr[3], tpr[3], linestyle='--',color='red', label='Class 3 vs Rest')\n",
    "plt.plot(fpr[4], tpr[4], linestyle='--',color='black', label='Class 4 vs Rest')\n",
    "plt.title('Multiclass ROC curve')\n",
    "plt.xlabel('False Positive Rate')\n",
    "plt.ylabel('True Positive rate')\n",
    "plt.legend(loc='best')\n",
    "plt.savefig('Multiclass ROC',dpi=300); "
   ]
  },
  {
   "cell_type": "code",
   "execution_count": 121,
   "metadata": {},
   "outputs": [
    {
     "name": "stdout",
     "output_type": "stream",
     "text": [
      "Confusion matrix : \n",
      " [[22  0]\n",
      " [ 0 15]]\n"
     ]
    }
   ],
   "source": [
    "from sklearn.metrics import confusion_matrix\n",
    "from sklearn.metrics import classification_report\n",
    "matrix = confusion_matrix(Y_test, yhat_classes, labels= [0, 1])\n",
    "print('Confusion matrix : \\n',matrix)"
   ]
  },
  {
   "cell_type": "code",
   "execution_count": 122,
   "metadata": {},
   "outputs": [
    {
     "name": "stdout",
     "output_type": "stream",
     "text": [
      "Classification report : \n",
      "               precision    recall  f1-score   support\n",
      "\n",
      "           0       1.00      1.00      1.00        22\n",
      "           1       1.00      1.00      1.00        15\n",
      "\n",
      "    accuracy                           1.00        37\n",
      "   macro avg       1.00      1.00      1.00        37\n",
      "weighted avg       1.00      1.00      1.00        37\n",
      "\n"
     ]
    }
   ],
   "source": [
    "matrix = classification_report(Y_test,yhat_classes, labels= [0, 1])\n",
    "print('Classification report : \\n',matrix)"
   ]
  },
  {
   "cell_type": "code",
   "execution_count": 124,
   "metadata": {},
   "outputs": [],
   "source": [
    "import pickle\n",
    "# save the model to disk\n",
    "filename = './models/CFS feature selection/Without IP_Top 6/Binary/MLP/MLP.sav'\n",
    "pickle.dump(clf, open(filename, 'wb'))"
   ]
  },
  {
   "cell_type": "code",
   "execution_count": 125,
   "metadata": {},
   "outputs": [
    {
     "name": "stdout",
     "output_type": "stream",
     "text": [
      "WARNING:tensorflow:From C:\\Users\\hp\\AppData\\Roaming\\Python\\Python37\\site-packages\\tensorflow\\python\\compat\\v2_compat.py:101: disable_resource_variables (from tensorflow.python.ops.variable_scope) is deprecated and will be removed in a future version.\n",
      "Instructions for updating:\n",
      "non-resource variables are not supported in the long term\n"
     ]
    }
   ],
   "source": [
    "#DBN model\n",
    "from dbn.tensorflow import SupervisedDBNClassification"
   ]
  },
  {
   "cell_type": "code",
   "execution_count": 128,
   "metadata": {},
   "outputs": [],
   "source": [
    "classifier = SupervisedDBNClassification(hidden_layers_structure=[32,32],\n",
    "                                         learning_rate_rbm=0.01,\n",
    "                                         learning_rate=0.2,\n",
    "                                         n_epochs_rbm=32,\n",
    "                                         n_iter_backprop=512,\n",
    "                                         batch_size=32,\n",
    "                                         activation_function='relu',\n",
    "                                         dropout_p=0.01)"
   ]
  },
  {
   "cell_type": "code",
   "execution_count": 127,
   "metadata": {},
   "outputs": [
    {
     "data": {
      "text/plain": [
       "57819"
      ]
     },
     "execution_count": 127,
     "metadata": {},
     "output_type": "execute_result"
    }
   ],
   "source": [
    "del classifier\n",
    "gc.collect()"
   ]
  },
  {
   "cell_type": "code",
   "execution_count": 129,
   "metadata": {},
   "outputs": [
    {
     "name": "stdout",
     "output_type": "stream",
     "text": [
      "[START] Pre-training step:\n",
      "WARNING:tensorflow:From C:\\Users\\hp\\Desktop\\Project dISSERATAION\\dbn\\tensorflow\\models.py:151: to_float (from tensorflow.python.ops.math_ops) is deprecated and will be removed in a future version.\n",
      "Instructions for updating:\n",
      "Use `tf.cast` instead.\n",
      ">> Epoch 1 finished \tRBM Reconstruction error 192152.593750\n",
      ">> Epoch 2 finished \tRBM Reconstruction error 2438045.250000\n",
      ">> Epoch 3 finished \tRBM Reconstruction error 4581662.000000\n",
      ">> Epoch 4 finished \tRBM Reconstruction error 5789245.500000\n",
      ">> Epoch 5 finished \tRBM Reconstruction error 6191236.500000\n",
      ">> Epoch 6 finished \tRBM Reconstruction error 6610264.000000\n",
      ">> Epoch 7 finished \tRBM Reconstruction error 6521947.000000\n",
      ">> Epoch 8 finished \tRBM Reconstruction error 6252559.000000\n",
      ">> Epoch 9 finished \tRBM Reconstruction error 6787604.000000\n",
      ">> Epoch 10 finished \tRBM Reconstruction error 6468719.000000\n",
      ">> Epoch 11 finished \tRBM Reconstruction error 6048956.000000\n",
      ">> Epoch 12 finished \tRBM Reconstruction error 6911775.500000\n",
      ">> Epoch 13 finished \tRBM Reconstruction error 7344086.000000\n",
      ">> Epoch 14 finished \tRBM Reconstruction error 7488378.000000\n",
      ">> Epoch 15 finished \tRBM Reconstruction error 7816011.500000\n",
      ">> Epoch 16 finished \tRBM Reconstruction error 8712033.000000\n",
      ">> Epoch 17 finished \tRBM Reconstruction error 9328724.000000\n",
      ">> Epoch 18 finished \tRBM Reconstruction error 10089506.000000\n",
      ">> Epoch 19 finished \tRBM Reconstruction error 11032960.000000\n",
      ">> Epoch 20 finished \tRBM Reconstruction error 11743813.000000\n",
      ">> Epoch 21 finished \tRBM Reconstruction error 12411702.000000\n",
      ">> Epoch 22 finished \tRBM Reconstruction error 13008582.000000\n",
      ">> Epoch 23 finished \tRBM Reconstruction error 14451514.000000\n",
      ">> Epoch 24 finished \tRBM Reconstruction error 15099276.000000\n",
      ">> Epoch 25 finished \tRBM Reconstruction error 16163666.000000\n",
      ">> Epoch 26 finished \tRBM Reconstruction error 17479872.000000\n",
      ">> Epoch 27 finished \tRBM Reconstruction error 18290450.000000\n",
      ">> Epoch 28 finished \tRBM Reconstruction error 18138682.000000\n",
      ">> Epoch 29 finished \tRBM Reconstruction error 19863060.000000\n",
      ">> Epoch 30 finished \tRBM Reconstruction error 21650212.000000\n",
      ">> Epoch 31 finished \tRBM Reconstruction error 21760214.000000\n",
      ">> Epoch 32 finished \tRBM Reconstruction error 23615406.000000\n",
      ">> Epoch 1 finished \tRBM Reconstruction error 859358560256.000000\n",
      ">> Epoch 2 finished \tRBM Reconstruction error 2557047472128.000000\n",
      ">> Epoch 3 finished \tRBM Reconstruction error 3826393546752.000000\n",
      ">> Epoch 4 finished \tRBM Reconstruction error 3912063778816.000000\n",
      ">> Epoch 5 finished \tRBM Reconstruction error 3978285547520.000000\n",
      ">> Epoch 6 finished \tRBM Reconstruction error 4274116100096.000000\n",
      ">> Epoch 7 finished \tRBM Reconstruction error 4832839598080.000000\n",
      ">> Epoch 8 finished \tRBM Reconstruction error 4776931098624.000000\n",
      ">> Epoch 9 finished \tRBM Reconstruction error 4708741152768.000000\n",
      ">> Epoch 10 finished \tRBM Reconstruction error 4921926090752.000000\n",
      ">> Epoch 11 finished \tRBM Reconstruction error 4264593195008.000000\n",
      ">> Epoch 12 finished \tRBM Reconstruction error 4587110531072.000000\n",
      ">> Epoch 13 finished \tRBM Reconstruction error 4829660315648.000000\n",
      ">> Epoch 14 finished \tRBM Reconstruction error 5181217964032.000000\n",
      ">> Epoch 15 finished \tRBM Reconstruction error 4684553650176.000000\n",
      ">> Epoch 16 finished \tRBM Reconstruction error 4945087561728.000000\n",
      ">> Epoch 17 finished \tRBM Reconstruction error 4702091083776.000000\n",
      ">> Epoch 18 finished \tRBM Reconstruction error 4521103720448.000000\n",
      ">> Epoch 19 finished \tRBM Reconstruction error 4811144560640.000000\n",
      ">> Epoch 20 finished \tRBM Reconstruction error 4706871017472.000000\n",
      ">> Epoch 21 finished \tRBM Reconstruction error 5089859731456.000000\n",
      ">> Epoch 22 finished \tRBM Reconstruction error 4894667833344.000000\n",
      ">> Epoch 23 finished \tRBM Reconstruction error 5253497880576.000000\n",
      ">> Epoch 24 finished \tRBM Reconstruction error 5045462499328.000000\n",
      ">> Epoch 25 finished \tRBM Reconstruction error 5059107618816.000000\n",
      ">> Epoch 26 finished \tRBM Reconstruction error 5374322147328.000000\n",
      ">> Epoch 27 finished \tRBM Reconstruction error 5497298616320.000000\n",
      ">> Epoch 28 finished \tRBM Reconstruction error 6198611935232.000000\n",
      ">> Epoch 29 finished \tRBM Reconstruction error 6040999952384.000000\n",
      ">> Epoch 30 finished \tRBM Reconstruction error 6159450767360.000000\n",
      ">> Epoch 31 finished \tRBM Reconstruction error 5929491759104.000000\n",
      ">> Epoch 32 finished \tRBM Reconstruction error 6024305049600.000000\n",
      "[END] Pre-training step\n",
      "WARNING:tensorflow:From C:\\Users\\hp\\AppData\\Roaming\\Python\\Python37\\site-packages\\tensorflow\\python\\util\\dispatch.py:206: calling dropout (from tensorflow.python.ops.nn_ops) with keep_prob is deprecated and will be removed in a future version.\n",
      "Instructions for updating:\n",
      "Please use `rate` instead of `keep_prob`. Rate should be set to `rate = 1 - keep_prob`.\n",
      "[START] Fine tuning step:\n",
      ">> Epoch 0 finished \tANN training loss 0.675785\n",
      ">> Epoch 1 finished \tANN training loss 0.674106\n",
      ">> Epoch 2 finished \tANN training loss 0.673714\n",
      ">> Epoch 3 finished \tANN training loss 0.672346\n",
      ">> Epoch 4 finished \tANN training loss 0.672073\n",
      ">> Epoch 5 finished \tANN training loss 0.672063\n",
      ">> Epoch 6 finished \tANN training loss 0.671942\n",
      ">> Epoch 7 finished \tANN training loss 0.671885\n",
      ">> Epoch 8 finished \tANN training loss 0.671886\n",
      ">> Epoch 9 finished \tANN training loss 0.671910\n",
      ">> Epoch 10 finished \tANN training loss 0.672200\n",
      ">> Epoch 11 finished \tANN training loss 0.671910\n",
      ">> Epoch 12 finished \tANN training loss 0.671903\n",
      ">> Epoch 13 finished \tANN training loss 0.672028\n",
      ">> Epoch 14 finished \tANN training loss 0.672091\n",
      ">> Epoch 15 finished \tANN training loss 0.672249\n",
      ">> Epoch 16 finished \tANN training loss 0.671925\n",
      ">> Epoch 17 finished \tANN training loss 0.671889\n",
      ">> Epoch 18 finished \tANN training loss 0.672062\n",
      ">> Epoch 19 finished \tANN training loss 0.672141\n",
      ">> Epoch 20 finished \tANN training loss 0.672320\n",
      ">> Epoch 21 finished \tANN training loss 0.672010\n",
      ">> Epoch 22 finished \tANN training loss 0.671947\n",
      ">> Epoch 23 finished \tANN training loss 0.671898\n",
      ">> Epoch 24 finished \tANN training loss 0.672180\n",
      ">> Epoch 25 finished \tANN training loss 0.672389\n",
      ">> Epoch 26 finished \tANN training loss 0.671992\n",
      ">> Epoch 27 finished \tANN training loss 0.672311\n",
      ">> Epoch 28 finished \tANN training loss 0.672089\n",
      ">> Epoch 29 finished \tANN training loss 0.671990\n",
      ">> Epoch 30 finished \tANN training loss 0.671977\n",
      ">> Epoch 31 finished \tANN training loss 0.671885\n",
      ">> Epoch 32 finished \tANN training loss 0.671884\n",
      ">> Epoch 33 finished \tANN training loss 0.672064\n",
      ">> Epoch 34 finished \tANN training loss 0.672087\n",
      ">> Epoch 35 finished \tANN training loss 0.671912\n",
      ">> Epoch 36 finished \tANN training loss 0.671899\n",
      ">> Epoch 37 finished \tANN training loss 0.671904\n",
      ">> Epoch 38 finished \tANN training loss 0.672158\n",
      ">> Epoch 39 finished \tANN training loss 0.671980\n",
      ">> Epoch 40 finished \tANN training loss 0.672019\n",
      ">> Epoch 41 finished \tANN training loss 0.671995\n",
      ">> Epoch 42 finished \tANN training loss 0.671901\n",
      ">> Epoch 43 finished \tANN training loss 0.671955\n",
      ">> Epoch 44 finished \tANN training loss 0.671885\n",
      ">> Epoch 45 finished \tANN training loss 0.671968\n",
      ">> Epoch 46 finished \tANN training loss 0.671885\n",
      ">> Epoch 47 finished \tANN training loss 0.671932\n",
      ">> Epoch 48 finished \tANN training loss 0.671880\n",
      ">> Epoch 49 finished \tANN training loss 0.672041\n",
      ">> Epoch 50 finished \tANN training loss 0.672531\n",
      ">> Epoch 51 finished \tANN training loss 0.671979\n",
      ">> Epoch 52 finished \tANN training loss 0.671883\n",
      ">> Epoch 53 finished \tANN training loss 0.671896\n",
      ">> Epoch 54 finished \tANN training loss 0.671910\n",
      ">> Epoch 55 finished \tANN training loss 0.671923\n",
      ">> Epoch 56 finished \tANN training loss 0.671930\n",
      ">> Epoch 57 finished \tANN training loss 0.671892\n",
      ">> Epoch 58 finished \tANN training loss 0.671915\n",
      ">> Epoch 59 finished \tANN training loss 0.672194\n",
      ">> Epoch 60 finished \tANN training loss 0.672453\n",
      ">> Epoch 61 finished \tANN training loss 0.671904\n",
      ">> Epoch 62 finished \tANN training loss 0.671907\n",
      ">> Epoch 63 finished \tANN training loss 0.672201\n",
      ">> Epoch 64 finished \tANN training loss 0.671816\n",
      ">> Epoch 65 finished \tANN training loss 0.671719\n",
      ">> Epoch 66 finished \tANN training loss 0.671681\n",
      ">> Epoch 67 finished \tANN training loss 0.671508\n",
      ">> Epoch 68 finished \tANN training loss 0.671406\n"
     ]
    },
    {
     "name": "stdout",
     "output_type": "stream",
     "text": [
      ">> Epoch 69 finished \tANN training loss 0.671296\n",
      ">> Epoch 70 finished \tANN training loss 0.671082\n",
      ">> Epoch 71 finished \tANN training loss 0.670365\n",
      ">> Epoch 72 finished \tANN training loss 0.669102\n",
      ">> Epoch 73 finished \tANN training loss 0.666458\n",
      ">> Epoch 74 finished \tANN training loss 0.650023\n",
      ">> Epoch 75 finished \tANN training loss 0.545121\n",
      ">> Epoch 76 finished \tANN training loss 0.385999\n",
      ">> Epoch 77 finished \tANN training loss 0.289847\n",
      ">> Epoch 78 finished \tANN training loss 0.226569\n",
      ">> Epoch 79 finished \tANN training loss 0.189432\n",
      ">> Epoch 80 finished \tANN training loss 0.158344\n",
      ">> Epoch 81 finished \tANN training loss 0.136655\n",
      ">> Epoch 82 finished \tANN training loss 0.123223\n",
      ">> Epoch 83 finished \tANN training loss 0.110556\n",
      ">> Epoch 84 finished \tANN training loss 0.100345\n",
      ">> Epoch 85 finished \tANN training loss 0.092861\n",
      ">> Epoch 86 finished \tANN training loss 0.085458\n",
      ">> Epoch 87 finished \tANN training loss 0.080788\n",
      ">> Epoch 88 finished \tANN training loss 0.075442\n",
      ">> Epoch 89 finished \tANN training loss 0.070706\n",
      ">> Epoch 90 finished \tANN training loss 0.067777\n",
      ">> Epoch 91 finished \tANN training loss 0.064491\n",
      ">> Epoch 92 finished \tANN training loss 0.060945\n",
      ">> Epoch 93 finished \tANN training loss 0.058442\n",
      ">> Epoch 94 finished \tANN training loss 0.056120\n",
      ">> Epoch 95 finished \tANN training loss 0.053908\n",
      ">> Epoch 96 finished \tANN training loss 0.052262\n",
      ">> Epoch 97 finished \tANN training loss 0.049888\n",
      ">> Epoch 98 finished \tANN training loss 0.047394\n",
      ">> Epoch 99 finished \tANN training loss 0.044982\n",
      ">> Epoch 100 finished \tANN training loss 0.043546\n",
      ">> Epoch 101 finished \tANN training loss 0.041530\n",
      ">> Epoch 102 finished \tANN training loss 0.039457\n",
      ">> Epoch 103 finished \tANN training loss 0.037456\n",
      ">> Epoch 104 finished \tANN training loss 0.035324\n",
      ">> Epoch 105 finished \tANN training loss 0.033539\n",
      ">> Epoch 106 finished \tANN training loss 0.031680\n",
      ">> Epoch 107 finished \tANN training loss 0.030144\n",
      ">> Epoch 108 finished \tANN training loss 0.028686\n",
      ">> Epoch 109 finished \tANN training loss 0.026843\n",
      ">> Epoch 110 finished \tANN training loss 0.026075\n",
      ">> Epoch 111 finished \tANN training loss 0.024174\n",
      ">> Epoch 112 finished \tANN training loss 0.022743\n",
      ">> Epoch 113 finished \tANN training loss 0.021369\n",
      ">> Epoch 114 finished \tANN training loss 0.020742\n",
      ">> Epoch 115 finished \tANN training loss 0.019836\n",
      ">> Epoch 116 finished \tANN training loss 0.018672\n",
      ">> Epoch 117 finished \tANN training loss 0.017566\n",
      ">> Epoch 118 finished \tANN training loss 0.016942\n",
      ">> Epoch 119 finished \tANN training loss 0.015925\n",
      ">> Epoch 120 finished \tANN training loss 0.014980\n",
      ">> Epoch 121 finished \tANN training loss 0.014498\n",
      ">> Epoch 122 finished \tANN training loss 0.013768\n",
      ">> Epoch 123 finished \tANN training loss 0.013068\n",
      ">> Epoch 124 finished \tANN training loss 0.012443\n",
      ">> Epoch 125 finished \tANN training loss 0.011792\n",
      ">> Epoch 126 finished \tANN training loss 0.011244\n",
      ">> Epoch 127 finished \tANN training loss 0.011099\n",
      ">> Epoch 128 finished \tANN training loss 0.010410\n",
      ">> Epoch 129 finished \tANN training loss 0.011709\n",
      ">> Epoch 130 finished \tANN training loss 0.011375\n",
      ">> Epoch 131 finished \tANN training loss 0.010507\n",
      ">> Epoch 132 finished \tANN training loss 0.009863\n",
      ">> Epoch 133 finished \tANN training loss 0.009666\n",
      ">> Epoch 134 finished \tANN training loss 0.009245\n",
      ">> Epoch 135 finished \tANN training loss 0.009415\n",
      ">> Epoch 136 finished \tANN training loss 0.009019\n",
      ">> Epoch 137 finished \tANN training loss 0.008652\n",
      ">> Epoch 138 finished \tANN training loss 0.008578\n",
      ">> Epoch 139 finished \tANN training loss 0.008228\n",
      ">> Epoch 140 finished \tANN training loss 0.008170\n",
      ">> Epoch 141 finished \tANN training loss 0.007840\n",
      ">> Epoch 142 finished \tANN training loss 0.007903\n",
      ">> Epoch 143 finished \tANN training loss 0.007507\n",
      ">> Epoch 144 finished \tANN training loss 0.007217\n",
      ">> Epoch 145 finished \tANN training loss 0.007982\n",
      ">> Epoch 146 finished \tANN training loss 0.007924\n",
      ">> Epoch 147 finished \tANN training loss 0.007462\n",
      ">> Epoch 148 finished \tANN training loss 0.007042\n",
      ">> Epoch 149 finished \tANN training loss 0.007900\n",
      ">> Epoch 150 finished \tANN training loss 0.008279\n",
      ">> Epoch 151 finished \tANN training loss 0.007681\n",
      ">> Epoch 152 finished \tANN training loss 0.008610\n",
      ">> Epoch 153 finished \tANN training loss 0.008507\n",
      ">> Epoch 154 finished \tANN training loss 0.008385\n",
      ">> Epoch 155 finished \tANN training loss 0.008277\n",
      ">> Epoch 156 finished \tANN training loss 0.008654\n",
      ">> Epoch 157 finished \tANN training loss 0.008023\n",
      ">> Epoch 158 finished \tANN training loss 0.008481\n",
      ">> Epoch 159 finished \tANN training loss 0.007795\n",
      ">> Epoch 160 finished \tANN training loss 0.007706\n",
      ">> Epoch 161 finished \tANN training loss 0.007657\n",
      ">> Epoch 162 finished \tANN training loss 0.007146\n",
      ">> Epoch 163 finished \tANN training loss 0.007130\n",
      ">> Epoch 164 finished \tANN training loss 0.007093\n",
      ">> Epoch 165 finished \tANN training loss 0.006729\n",
      ">> Epoch 166 finished \tANN training loss 0.006419\n",
      ">> Epoch 167 finished \tANN training loss 0.006186\n",
      ">> Epoch 168 finished \tANN training loss 0.006219\n",
      ">> Epoch 169 finished \tANN training loss 0.005987\n",
      ">> Epoch 170 finished \tANN training loss 0.005784\n",
      ">> Epoch 171 finished \tANN training loss 0.005818\n",
      ">> Epoch 172 finished \tANN training loss 0.006047\n",
      ">> Epoch 173 finished \tANN training loss 0.006080\n",
      ">> Epoch 174 finished \tANN training loss 0.006105\n",
      ">> Epoch 175 finished \tANN training loss 0.005880\n",
      ">> Epoch 176 finished \tANN training loss 0.005674\n",
      ">> Epoch 177 finished \tANN training loss 0.005788\n",
      ">> Epoch 178 finished \tANN training loss 0.005945\n",
      ">> Epoch 179 finished \tANN training loss 0.005729\n",
      ">> Epoch 180 finished \tANN training loss 0.005525\n",
      ">> Epoch 181 finished \tANN training loss 0.005575\n",
      ">> Epoch 182 finished \tANN training loss 0.005858\n",
      ">> Epoch 183 finished \tANN training loss 0.005887\n",
      ">> Epoch 184 finished \tANN training loss 0.005922\n",
      ">> Epoch 185 finished \tANN training loss 0.005949\n",
      ">> Epoch 186 finished \tANN training loss 0.005719\n",
      ">> Epoch 187 finished \tANN training loss 0.005519\n",
      ">> Epoch 188 finished \tANN training loss 0.005330\n",
      ">> Epoch 189 finished \tANN training loss 0.005963\n",
      ">> Epoch 190 finished \tANN training loss 0.005643\n",
      ">> Epoch 191 finished \tANN training loss 0.005689\n",
      ">> Epoch 192 finished \tANN training loss 0.005723\n",
      ">> Epoch 193 finished \tANN training loss 0.006006\n",
      ">> Epoch 194 finished \tANN training loss 0.006257\n",
      ">> Epoch 195 finished \tANN training loss 0.006009\n",
      ">> Epoch 196 finished \tANN training loss 0.005779\n",
      ">> Epoch 197 finished \tANN training loss 0.005808\n",
      ">> Epoch 198 finished \tANN training loss 0.005846\n",
      ">> Epoch 199 finished \tANN training loss 0.005625\n",
      ">> Epoch 200 finished \tANN training loss 0.005414\n",
      ">> Epoch 201 finished \tANN training loss 0.005222\n",
      ">> Epoch 202 finished \tANN training loss 0.005272\n",
      ">> Epoch 203 finished \tANN training loss 0.005090\n",
      ">> Epoch 204 finished \tANN training loss 0.005140\n",
      ">> Epoch 205 finished \tANN training loss 0.004965\n",
      ">> Epoch 206 finished \tANN training loss 0.005205\n",
      ">> Epoch 207 finished \tANN training loss 0.005028\n",
      ">> Epoch 208 finished \tANN training loss 0.004868\n",
      ">> Epoch 209 finished \tANN training loss 0.005156\n",
      ">> Epoch 210 finished \tANN training loss 0.005443\n",
      ">> Epoch 211 finished \tANN training loss 0.005252\n",
      ">> Epoch 212 finished \tANN training loss 0.005072\n",
      ">> Epoch 213 finished \tANN training loss 0.004898\n",
      ">> Epoch 214 finished \tANN training loss 0.004964\n",
      ">> Epoch 215 finished \tANN training loss 0.005205\n",
      ">> Epoch 216 finished \tANN training loss 0.005019\n",
      ">> Epoch 217 finished \tANN training loss 0.005551\n",
      ">> Epoch 218 finished \tANN training loss 0.005346\n",
      ">> Epoch 219 finished \tANN training loss 0.005387\n",
      ">> Epoch 220 finished \tANN training loss 0.005191\n",
      ">> Epoch 221 finished \tANN training loss 0.005253\n",
      ">> Epoch 222 finished \tANN training loss 0.005065\n",
      ">> Epoch 223 finished \tANN training loss 0.004893\n",
      ">> Epoch 224 finished \tANN training loss 0.004727\n",
      ">> Epoch 225 finished \tANN training loss 0.004781\n",
      ">> Epoch 226 finished \tANN training loss 0.005024\n",
      ">> Epoch 227 finished \tANN training loss 0.005082\n",
      ">> Epoch 228 finished \tANN training loss 0.004914\n",
      ">> Epoch 229 finished \tANN training loss 0.004744\n",
      ">> Epoch 230 finished \tANN training loss 0.004813\n",
      ">> Epoch 231 finished \tANN training loss 0.004654\n",
      ">> Epoch 232 finished \tANN training loss 0.004498\n",
      ">> Epoch 233 finished \tANN training loss 0.004353\n"
     ]
    },
    {
     "name": "stdout",
     "output_type": "stream",
     "text": [
      ">> Epoch 234 finished \tANN training loss 0.004220\n",
      ">> Epoch 235 finished \tANN training loss 0.004507\n",
      ">> Epoch 236 finished \tANN training loss 0.004360\n",
      ">> Epoch 237 finished \tANN training loss 0.004303\n",
      ">> Epoch 238 finished \tANN training loss 0.004374\n",
      ">> Epoch 239 finished \tANN training loss 0.004663\n",
      ">> Epoch 240 finished \tANN training loss 0.004509\n",
      ">> Epoch 241 finished \tANN training loss 0.004363\n",
      ">> Epoch 242 finished \tANN training loss 0.004226\n",
      ">> Epoch 243 finished \tANN training loss 0.004517\n",
      ">> Epoch 244 finished \tANN training loss 0.004766\n",
      ">> Epoch 245 finished \tANN training loss 0.004604\n",
      ">> Epoch 246 finished \tANN training loss 0.004455\n",
      ">> Epoch 247 finished \tANN training loss 0.005163\n",
      ">> Epoch 248 finished \tANN training loss 0.005464\n",
      ">> Epoch 249 finished \tANN training loss 0.005250\n",
      ">> Epoch 250 finished \tANN training loss 0.006198\n",
      ">> Epoch 251 finished \tANN training loss 0.005937\n",
      ">> Epoch 252 finished \tANN training loss 0.005698\n",
      ">> Epoch 253 finished \tANN training loss 0.006217\n",
      ">> Epoch 254 finished \tANN training loss 0.006456\n",
      ">> Epoch 255 finished \tANN training loss 0.006176\n",
      ">> Epoch 256 finished \tANN training loss 0.005918\n",
      ">> Epoch 257 finished \tANN training loss 0.005936\n",
      ">> Epoch 258 finished \tANN training loss 0.006084\n",
      ">> Epoch 259 finished \tANN training loss 0.005829\n",
      ">> Epoch 260 finished \tANN training loss 0.005593\n",
      ">> Epoch 261 finished \tANN training loss 0.005373\n",
      ">> Epoch 262 finished \tANN training loss 0.005166\n",
      ">> Epoch 263 finished \tANN training loss 0.005416\n",
      ">> Epoch 264 finished \tANN training loss 0.005922\n",
      ">> Epoch 265 finished \tANN training loss 0.005896\n",
      ">> Epoch 266 finished \tANN training loss 0.005650\n",
      ">> Epoch 267 finished \tANN training loss 0.005691\n",
      ">> Epoch 268 finished \tANN training loss 0.005720\n",
      ">> Epoch 269 finished \tANN training loss 0.005741\n",
      ">> Epoch 270 finished \tANN training loss 0.005514\n",
      ">> Epoch 271 finished \tANN training loss 0.005297\n",
      ">> Epoch 272 finished \tANN training loss 0.005338\n",
      ">> Epoch 273 finished \tANN training loss 0.005132\n",
      ">> Epoch 274 finished \tANN training loss 0.004943\n",
      ">> Epoch 275 finished \tANN training loss 0.005232\n",
      ">> Epoch 276 finished \tANN training loss 0.005285\n",
      ">> Epoch 277 finished \tANN training loss 0.005583\n",
      ">> Epoch 278 finished \tANN training loss 0.005363\n",
      ">> Epoch 279 finished \tANN training loss 0.005159\n",
      ">> Epoch 280 finished \tANN training loss 0.004963\n",
      ">> Epoch 281 finished \tANN training loss 0.004785\n",
      ">> Epoch 282 finished \tANN training loss 0.005073\n",
      ">> Epoch 283 finished \tANN training loss 0.005887\n",
      ">> Epoch 284 finished \tANN training loss 0.005854\n",
      ">> Epoch 285 finished \tANN training loss 0.005609\n",
      ">> Epoch 286 finished \tANN training loss 0.006115\n",
      ">> Epoch 287 finished \tANN training loss 0.005863\n",
      ">> Epoch 288 finished \tANN training loss 0.005618\n",
      ">> Epoch 289 finished \tANN training loss 0.005392\n",
      ">> Epoch 290 finished \tANN training loss 0.005178\n",
      ">> Epoch 291 finished \tANN training loss 0.004983\n",
      ">> Epoch 292 finished \tANN training loss 0.005040\n",
      ">> Epoch 293 finished \tANN training loss 0.005090\n",
      ">> Epoch 294 finished \tANN training loss 0.004897\n",
      ">> Epoch 295 finished \tANN training loss 0.004718\n",
      ">> Epoch 296 finished \tANN training loss 0.004555\n",
      ">> Epoch 297 finished \tANN training loss 0.004403\n",
      ">> Epoch 298 finished \tANN training loss 0.004471\n",
      ">> Epoch 299 finished \tANN training loss 0.004325\n",
      ">> Epoch 300 finished \tANN training loss 0.004187\n",
      ">> Epoch 301 finished \tANN training loss 0.004053\n",
      ">> Epoch 302 finished \tANN training loss 0.004132\n",
      ">> Epoch 303 finished \tANN training loss 0.004313\n",
      ">> Epoch 304 finished \tANN training loss 0.004444\n",
      ">> Epoch 305 finished \tANN training loss 0.004865\n",
      ">> Epoch 306 finished \tANN training loss 0.004582\n",
      ">> Epoch 307 finished \tANN training loss 0.005432\n",
      ">> Epoch 308 finished \tANN training loss 0.005500\n",
      ">> Epoch 309 finished \tANN training loss 0.005140\n",
      ">> Epoch 310 finished \tANN training loss 0.004825\n",
      ">> Epoch 311 finished \tANN training loss 0.005316\n",
      ">> Epoch 312 finished \tANN training loss 0.004978\n",
      ">> Epoch 313 finished \tANN training loss 0.005842\n",
      ">> Epoch 314 finished \tANN training loss 0.005430\n",
      ">> Epoch 315 finished \tANN training loss 0.005476\n",
      ">> Epoch 316 finished \tANN training loss 0.005515\n",
      ">> Epoch 317 finished \tANN training loss 0.005144\n",
      ">> Epoch 318 finished \tANN training loss 0.005212\n",
      ">> Epoch 319 finished \tANN training loss 0.004889\n",
      ">> Epoch 320 finished \tANN training loss 0.005346\n",
      ">> Epoch 321 finished \tANN training loss 0.005387\n",
      ">> Epoch 322 finished \tANN training loss 0.005030\n",
      ">> Epoch 323 finished \tANN training loss 0.005113\n",
      ">> Epoch 324 finished \tANN training loss 0.004798\n",
      ">> Epoch 325 finished \tANN training loss 0.005459\n",
      ">> Epoch 326 finished \tANN training loss 0.005031\n",
      ">> Epoch 327 finished \tANN training loss 0.004691\n",
      ">> Epoch 328 finished \tANN training loss 0.004800\n",
      ">> Epoch 329 finished \tANN training loss 0.004891\n",
      ">> Epoch 330 finished \tANN training loss 0.004567\n",
      ">> Epoch 331 finished \tANN training loss 0.005058\n",
      ">> Epoch 332 finished \tANN training loss 0.005132\n",
      ">> Epoch 333 finished \tANN training loss 0.004861\n",
      ">> Epoch 334 finished \tANN training loss 0.004951\n",
      ">> Epoch 335 finished \tANN training loss 0.005032\n",
      ">> Epoch 336 finished \tANN training loss 0.005104\n",
      ">> Epoch 337 finished \tANN training loss 0.004788\n",
      ">> Epoch 338 finished \tANN training loss 0.004507\n",
      ">> Epoch 339 finished \tANN training loss 0.004621\n",
      ">> Epoch 340 finished \tANN training loss 0.004721\n",
      ">> Epoch 341 finished \tANN training loss 0.005217\n",
      ">> Epoch 342 finished \tANN training loss 0.004874\n",
      ">> Epoch 343 finished \tANN training loss 0.004569\n",
      ">> Epoch 344 finished \tANN training loss 0.004677\n",
      ">> Epoch 345 finished \tANN training loss 0.004413\n",
      ">> Epoch 346 finished \tANN training loss 0.004843\n",
      ">> Epoch 347 finished \tANN training loss 0.004543\n",
      ">> Epoch 348 finished \tANN training loss 0.004646\n",
      ">> Epoch 349 finished \tANN training loss 0.004743\n",
      ">> Epoch 350 finished \tANN training loss 0.004459\n",
      ">> Epoch 351 finished \tANN training loss 0.004571\n",
      ">> Epoch 352 finished \tANN training loss 0.004313\n",
      ">> Epoch 353 finished \tANN training loss 0.004800\n",
      ">> Epoch 354 finished \tANN training loss 0.005367\n",
      ">> Epoch 355 finished \tANN training loss 0.005413\n",
      ">> Epoch 356 finished \tANN training loss 0.005044\n",
      ">> Epoch 357 finished \tANN training loss 0.005139\n",
      ">> Epoch 358 finished \tANN training loss 0.004827\n",
      ">> Epoch 359 finished \tANN training loss 0.005250\n",
      ">> Epoch 360 finished \tANN training loss 0.006204\n",
      ">> Epoch 361 finished \tANN training loss 0.006649\n",
      ">> Epoch 362 finished \tANN training loss 0.006619\n",
      ">> Epoch 363 finished \tANN training loss 0.006119\n",
      ">> Epoch 364 finished \tANN training loss 0.005663\n",
      ">> Epoch 365 finished \tANN training loss 0.005269\n",
      ">> Epoch 366 finished \tANN training loss 0.004930\n",
      ">> Epoch 367 finished \tANN training loss 0.004627\n",
      ">> Epoch 368 finished \tANN training loss 0.004714\n",
      ">> Epoch 369 finished \tANN training loss 0.004812\n",
      ">> Epoch 370 finished \tANN training loss 0.004535\n",
      ">> Epoch 371 finished \tANN training loss 0.004288\n",
      ">> Epoch 372 finished \tANN training loss 0.004108\n",
      ">> Epoch 373 finished \tANN training loss 0.004185\n",
      ">> Epoch 374 finished \tANN training loss 0.004044\n",
      ">> Epoch 375 finished \tANN training loss 0.004115\n",
      ">> Epoch 376 finished \tANN training loss 0.003979\n",
      ">> Epoch 377 finished \tANN training loss 0.003857\n",
      ">> Epoch 378 finished \tANN training loss 0.003736\n",
      ">> Epoch 379 finished \tANN training loss 0.003819\n",
      ">> Epoch 380 finished \tANN training loss 0.003897\n",
      ">> Epoch 381 finished \tANN training loss 0.003775\n",
      ">> Epoch 382 finished \tANN training loss 0.003658\n",
      ">> Epoch 383 finished \tANN training loss 0.003549\n",
      ">> Epoch 384 finished \tANN training loss 0.003635\n",
      ">> Epoch 385 finished \tANN training loss 0.003716\n",
      ">> Epoch 386 finished \tANN training loss 0.003603\n",
      ">> Epoch 387 finished \tANN training loss 0.003688\n",
      ">> Epoch 388 finished \tANN training loss 0.003580\n",
      ">> Epoch 389 finished \tANN training loss 0.004060\n",
      ">> Epoch 390 finished \tANN training loss 0.003927\n",
      ">> Epoch 391 finished \tANN training loss 0.003993\n",
      ">> Epoch 392 finished \tANN training loss 0.004092\n",
      ">> Epoch 393 finished \tANN training loss 0.004185\n",
      ">> Epoch 394 finished \tANN training loss 0.004013\n",
      ">> Epoch 395 finished \tANN training loss 0.003856\n",
      ">> Epoch 396 finished \tANN training loss 0.003956\n",
      ">> Epoch 397 finished \tANN training loss 0.003800\n"
     ]
    },
    {
     "name": "stdout",
     "output_type": "stream",
     "text": [
      ">> Epoch 398 finished \tANN training loss 0.003672\n",
      ">> Epoch 399 finished \tANN training loss 0.003808\n",
      ">> Epoch 400 finished \tANN training loss 0.003636\n",
      ">> Epoch 401 finished \tANN training loss 0.003529\n",
      ">> Epoch 402 finished \tANN training loss 0.003429\n",
      ">> Epoch 403 finished \tANN training loss 0.003773\n",
      ">> Epoch 404 finished \tANN training loss 0.003621\n",
      ">> Epoch 405 finished \tANN training loss 0.003482\n",
      ">> Epoch 406 finished \tANN training loss 0.003371\n",
      ">> Epoch 407 finished \tANN training loss 0.003457\n",
      ">> Epoch 408 finished \tANN training loss 0.003358\n",
      ">> Epoch 409 finished \tANN training loss 0.003263\n",
      ">> Epoch 410 finished \tANN training loss 0.003172\n",
      ">> Epoch 411 finished \tANN training loss 0.003087\n",
      ">> Epoch 412 finished \tANN training loss 0.003177\n",
      ">> Epoch 413 finished \tANN training loss 0.003094\n",
      ">> Epoch 414 finished \tANN training loss 0.003184\n",
      ">> Epoch 415 finished \tANN training loss 0.003270\n",
      ">> Epoch 416 finished \tANN training loss 0.003177\n",
      ">> Epoch 417 finished \tANN training loss 0.003264\n",
      ">> Epoch 418 finished \tANN training loss 0.003175\n",
      ">> Epoch 419 finished \tANN training loss 0.003266\n",
      ">> Epoch 420 finished \tANN training loss 0.003174\n",
      ">> Epoch 421 finished \tANN training loss 0.003225\n",
      ">> Epoch 422 finished \tANN training loss 0.003138\n",
      ">> Epoch 423 finished \tANN training loss 0.003052\n",
      ">> Epoch 424 finished \tANN training loss 0.003321\n",
      ">> Epoch 425 finished \tANN training loss 0.003369\n",
      ">> Epoch 426 finished \tANN training loss 0.003251\n",
      ">> Epoch 427 finished \tANN training loss 0.003147\n",
      ">> Epoch 428 finished \tANN training loss 0.003061\n",
      ">> Epoch 429 finished \tANN training loss 0.003149\n",
      ">> Epoch 430 finished \tANN training loss 0.003235\n",
      ">> Epoch 431 finished \tANN training loss 0.003865\n",
      ">> Epoch 432 finished \tANN training loss 0.004333\n",
      ">> Epoch 433 finished \tANN training loss 0.004591\n",
      ">> Epoch 434 finished \tANN training loss 0.004420\n",
      ">> Epoch 435 finished \tANN training loss 0.004267\n",
      ">> Epoch 436 finished \tANN training loss 0.004117\n",
      ">> Epoch 437 finished \tANN training loss 0.004597\n",
      ">> Epoch 438 finished \tANN training loss 0.004460\n",
      ">> Epoch 439 finished \tANN training loss 0.004300\n",
      ">> Epoch 440 finished \tANN training loss 0.004369\n",
      ">> Epoch 441 finished \tANN training loss 0.004220\n",
      ">> Epoch 442 finished \tANN training loss 0.004076\n",
      ">> Epoch 443 finished \tANN training loss 0.004145\n",
      ">> Epoch 444 finished \tANN training loss 0.004220\n",
      ">> Epoch 445 finished \tANN training loss 0.004296\n",
      ">> Epoch 446 finished \tANN training loss 0.004593\n",
      ">> Epoch 447 finished \tANN training loss 0.004654\n",
      ">> Epoch 448 finished \tANN training loss 0.004714\n",
      ">> Epoch 449 finished \tANN training loss 0.004540\n",
      ">> Epoch 450 finished \tANN training loss 0.004374\n",
      ">> Epoch 451 finished \tANN training loss 0.004214\n",
      ">> Epoch 452 finished \tANN training loss 0.004070\n",
      ">> Epoch 453 finished \tANN training loss 0.004370\n",
      ">> Epoch 454 finished \tANN training loss 0.004220\n",
      ">> Epoch 455 finished \tANN training loss 0.004292\n",
      ">> Epoch 456 finished \tANN training loss 0.004143\n",
      ">> Epoch 457 finished \tANN training loss 0.004004\n",
      ">> Epoch 458 finished \tANN training loss 0.003874\n",
      ">> Epoch 459 finished \tANN training loss 0.003752\n",
      ">> Epoch 460 finished \tANN training loss 0.003634\n",
      ">> Epoch 461 finished \tANN training loss 0.003886\n",
      ">> Epoch 462 finished \tANN training loss 0.003759\n",
      ">> Epoch 463 finished \tANN training loss 0.003644\n",
      ">> Epoch 464 finished \tANN training loss 0.003534\n",
      ">> Epoch 465 finished \tANN training loss 0.003815\n",
      ">> Epoch 466 finished \tANN training loss 0.003896\n",
      ">> Epoch 467 finished \tANN training loss 0.003975\n",
      ">> Epoch 468 finished \tANN training loss 0.004056\n",
      ">> Epoch 469 finished \tANN training loss 0.003925\n",
      ">> Epoch 470 finished \tANN training loss 0.003801\n",
      ">> Epoch 471 finished \tANN training loss 0.004258\n",
      ">> Epoch 472 finished \tANN training loss 0.004119\n",
      ">> Epoch 473 finished \tANN training loss 0.004188\n",
      ">> Epoch 474 finished \tANN training loss 0.004043\n",
      ">> Epoch 475 finished \tANN training loss 0.004114\n",
      ">> Epoch 476 finished \tANN training loss 0.003972\n",
      ">> Epoch 477 finished \tANN training loss 0.003838\n",
      ">> Epoch 478 finished \tANN training loss 0.003717\n",
      ">> Epoch 479 finished \tANN training loss 0.003601\n",
      ">> Epoch 480 finished \tANN training loss 0.003687\n",
      ">> Epoch 481 finished \tANN training loss 0.003975\n",
      ">> Epoch 482 finished \tANN training loss 0.003848\n",
      ">> Epoch 483 finished \tANN training loss 0.003930\n",
      ">> Epoch 484 finished \tANN training loss 0.004001\n",
      ">> Epoch 485 finished \tANN training loss 0.003870\n",
      ">> Epoch 486 finished \tANN training loss 0.003952\n",
      ">> Epoch 487 finished \tANN training loss 0.003824\n",
      ">> Epoch 488 finished \tANN training loss 0.003904\n",
      ">> Epoch 489 finished \tANN training loss 0.003778\n",
      ">> Epoch 490 finished \tANN training loss 0.003656\n",
      ">> Epoch 491 finished \tANN training loss 0.003544\n",
      ">> Epoch 492 finished \tANN training loss 0.003436\n",
      ">> Epoch 493 finished \tANN training loss 0.003520\n",
      ">> Epoch 494 finished \tANN training loss 0.003413\n",
      ">> Epoch 495 finished \tANN training loss 0.003505\n",
      ">> Epoch 496 finished \tANN training loss 0.003953\n",
      ">> Epoch 497 finished \tANN training loss 0.004028\n",
      ">> Epoch 498 finished \tANN training loss 0.004103\n",
      ">> Epoch 499 finished \tANN training loss 0.003965\n",
      ">> Epoch 500 finished \tANN training loss 0.003833\n",
      ">> Epoch 501 finished \tANN training loss 0.003709\n",
      ">> Epoch 502 finished \tANN training loss 0.003592\n",
      ">> Epoch 503 finished \tANN training loss 0.003485\n",
      ">> Epoch 504 finished \tANN training loss 0.003771\n",
      ">> Epoch 505 finished \tANN training loss 0.003656\n",
      ">> Epoch 506 finished \tANN training loss 0.003917\n",
      ">> Epoch 507 finished \tANN training loss 0.003992\n",
      ">> Epoch 508 finished \tANN training loss 0.003861\n",
      ">> Epoch 509 finished \tANN training loss 0.003735\n",
      ">> Epoch 510 finished \tANN training loss 0.003619\n",
      ">> Epoch 511 finished \tANN training loss 0.003512\n",
      "[END] Fine tuning step\n"
     ]
    },
    {
     "data": {
      "text/plain": [
       "SupervisedDBNClassification(batch_size=32, dropout_p=0.01,\n",
       "                            idx_to_label_map={0: 0, 1: 1},\n",
       "                            l2_regularization=1.0,\n",
       "                            label_to_idx_map={0: 0, 1: 1}, learning_rate=0.2,\n",
       "                            n_iter_backprop=512, verbose=True)"
      ]
     },
     "execution_count": 129,
     "metadata": {},
     "output_type": "execute_result"
    }
   ],
   "source": [
    "classifier.fit(X_train, Y_train)"
   ]
  },
  {
   "cell_type": "code",
   "execution_count": 139,
   "metadata": {},
   "outputs": [],
   "source": [
    "# predict probabilities for test set\n",
    "yhat_probs = classifier.predict(X_test)\n",
    "# predict crisp classes for test set\n",
    "#yhat_classes = model.predict_classes(X_test, verbose=0)\n",
    "yhat_classes = yhat_probs# np.argmax(yhat_probs,axis=1)"
   ]
  },
  {
   "cell_type": "code",
   "execution_count": 140,
   "metadata": {},
   "outputs": [],
   "source": [
    "from sklearn.datasets import make_circles\n",
    "from sklearn.metrics import accuracy_score\n",
    "from sklearn.metrics import precision_score\n",
    "from sklearn.metrics import recall_score\n",
    "from sklearn.metrics import f1_score\n",
    "from sklearn.metrics import cohen_kappa_score\n",
    "from sklearn.metrics import roc_auc_score\n",
    "from sklearn.metrics import confusion_matrix\n",
    "from sklearn.metrics import roc_curve\n",
    "from sklearn.metrics import classification_report"
   ]
  },
  {
   "cell_type": "code",
   "execution_count": 141,
   "metadata": {},
   "outputs": [
    {
     "name": "stdout",
     "output_type": "stream",
     "text": [
      "Accuracy: 1.000000\n",
      "Precision: 1.000000\n",
      "Recall: 1.000000\n",
      "F1 score: 1.000000\n"
     ]
    }
   ],
   "source": [
    "# accuracy: (tp + tn) / (p + n)\n",
    "accuracy = accuracy_score(Y_test, yhat_classes)\n",
    "print('Accuracy: %f' % accuracy)\n",
    "# precision tp / (tp + fp)\n",
    "precision = precision_score(Y_test, yhat_classes, average='macro')\n",
    "print('Precision: %f' % precision)\n",
    "# recall: tp / (tp + fn)\n",
    "recall = recall_score(Y_test, yhat_classes,average='macro')\n",
    "print('Recall: %f' % recall)\n",
    "# f1: 2 tp / (2 tp + fp + fn)\n",
    "f1 = f1_score(Y_test, yhat_classes, average='macro')\n",
    "print('F1 score: %f' % f1)"
   ]
  },
  {
   "cell_type": "code",
   "execution_count": 142,
   "metadata": {},
   "outputs": [
    {
     "name": "stdout",
     "output_type": "stream",
     "text": [
      "Cohens kappa: 1.000000\n",
      "[[22  0]\n",
      " [ 0 15]]\n"
     ]
    }
   ],
   "source": [
    "# kappa\n",
    "kappa = cohen_kappa_score(Y_test, yhat_classes)\n",
    "print('Cohens kappa: %f' % kappa)\n",
    "# ROC AUC\n",
    "#fprate, tprate, thresholds = roc_curve(Y_test, yhat_probs, average = 'macro')\n",
    "#print('ROC AUC: %f' % thresholds)\n",
    "# confusion matrix\n",
    "matrix = confusion_matrix(Y_test, yhat_classes)\n",
    "print(matrix)"
   ]
  },
  {
   "cell_type": "code",
   "execution_count": 143,
   "metadata": {},
   "outputs": [
    {
     "name": "stderr",
     "output_type": "stream",
     "text": [
      "C:\\Users\\hp\\Anaconda3\\lib\\site-packages\\sklearn\\metrics\\ranking.py:659: UndefinedMetricWarning: No positive samples in y_true, true positive value should be meaningless\n",
      "  UndefinedMetricWarning)\n"
     ]
    }
   ],
   "source": [
    "fpr = {}\n",
    "tpr = {}\n",
    "thresh ={}\n",
    "\n",
    "n_class = 5\n",
    "\n",
    "for i in range(n_class):    \n",
    "    fpr[i], tpr[i], thresh[i] = roc_curve(Y_test, yhat_classes, pos_label=i)"
   ]
  },
  {
   "cell_type": "code",
   "execution_count": 144,
   "metadata": {},
   "outputs": [
    {
     "data": {
      "image/png": "[encoded data removed]",
      "text/plain": [
       "<Figure size 432x288 with 1 Axes>"
      ]
     },
     "metadata": {
      "needs_background": "light"
     },
     "output_type": "display_data"
    }
   ],
   "source": [
    "# plotting    \n",
    "plt.plot(fpr[0], tpr[0], linestyle='--',color='orange', label='Class 0 vs Rest')\n",
    "plt.plot(fpr[1], tpr[1], linestyle='--',color='green', label='Class 1 vs Rest')\n",
    "plt.plot(fpr[2], tpr[2], linestyle='--',color='blue', label='Class 2 vs Rest')\n",
    "plt.plot(fpr[3], tpr[3], linestyle='--',color='red', label='Class 3 vs Rest')\n",
    "plt.plot(fpr[4], tpr[4], linestyle='--',color='black', label='Class 4 vs Rest')\n",
    "plt.title('Multiclass ROC curve')\n",
    "plt.xlabel('False Positive Rate')\n",
    "plt.ylabel('True Positive rate')\n",
    "plt.legend(loc='best')\n",
    "plt.savefig('Multiclass ROC',dpi=300); "
   ]
  },
  {
   "cell_type": "code",
   "execution_count": 145,
   "metadata": {},
   "outputs": [
    {
     "name": "stdout",
     "output_type": "stream",
     "text": [
      "Confusion matrix : \n",
      " [[22  0]\n",
      " [ 0 15]]\n"
     ]
    }
   ],
   "source": [
    "matrix = confusion_matrix(Y_test,yhat_classes, labels= [0, 1])\n",
    "print('Confusion matrix : \\n',matrix)"
   ]
  },
  {
   "cell_type": "code",
   "execution_count": 146,
   "metadata": {},
   "outputs": [
    {
     "name": "stdout",
     "output_type": "stream",
     "text": [
      "Classification report : \n",
      "               precision    recall  f1-score   support\n",
      "\n",
      "           0       1.00      1.00      1.00        22\n",
      "           1       1.00      1.00      1.00        15\n",
      "\n",
      "    accuracy                           1.00        37\n",
      "   macro avg       1.00      1.00      1.00        37\n",
      "weighted avg       1.00      1.00      1.00        37\n",
      "\n"
     ]
    }
   ],
   "source": [
    "matrix = classification_report(Y_test,yhat_classes, labels= [0, 1])\n",
    "print('Classification report : \\n',matrix)"
   ]
  },
  {
   "cell_type": "code",
   "execution_count": 147,
   "metadata": {},
   "outputs": [],
   "source": [
    "classifier.save('./models/CFS feature selection/Without IP_Top 6/Binary/DBN/DBN.pkl')"
   ]
  },
  {
   "cell_type": "code",
   "execution_count": null,
   "metadata": {},
   "outputs": [],
   "source": []
  }
 ],
 "metadata": {
  "kernelspec": {
   "display_name": "Python 3",
   "language": "python",
   "name": "python3"
  },
  "language_info": {
   "codemirror_mode": {
    "name": "ipython",
    "version": 3
   },
   "file_extension": ".py",
   "mimetype": "text/x-python",
   "name": "python",
   "nbconvert_exporter": "python",
   "pygments_lexer": "ipython3",
   "version": "3.7.4"
  }
 },
 "nbformat": 4,
 "nbformat_minor": 2
}

{
 "cells": [
  {
   "cell_type": "code",
   "execution_count": 1,
   "metadata": {},
   "outputs": [],
   "source": [
    "import pandas as pd\n",
    "import numpy as np\n",
    "from datetime import datetime\n",
    "import time\n",
    "import matplotlib.pyplot as plt\n",
    "import gc\n",
    "pd.set_option('display.max_columns', None)"
   ]
  },
  {
   "cell_type": "code",
   "execution_count": 2,
   "metadata": {},
   "outputs": [],
   "source": [
    "## for machine learning\n",
    "from sklearn import model_selection, preprocessing, feature_selection, ensemble, linear_model, metrics, decomposition\n",
    "## for plotting\n",
    "import matplotlib.pyplot as plt\n",
    "## for machine learning\n",
    "from sklearn import model_selection, preprocessing, feature_selection, ensemble, linear_model, metrics, decomposition\n",
    "from sklearn.preprocessing import LabelEncoder,Normalizer,StandardScaler, OneHotEncoder, MinMaxScaler\n",
    "from sklearn.feature_selection import mutual_info_classif\n",
    "from sklearn.metrics import confusion_matrix\n",
    "from sklearn.metrics import classification_report\n",
    "## for explainer\n",
    "#from lime import lime_tabular"
   ]
  },
  {
   "cell_type": "code",
   "execution_count": 3,
   "metadata": {},
   "outputs": [],
   "source": [
    "#a = pd.read_csv('drive/My Drive/Colab Notebooks/traffic/OpenStack/CIDDS-001-internal-week1.csv', low_memory=False, encoding='cp1252')\n",
    "#b = pd.read_csv('drive/My Drive/Colab Notebooks/traffic/OpenStack/CIDDS-001-internal-week2.csv', low_memory=False, encoding='cp1252')\n",
    "a = pd.read_csv('./CIDDS-001/traffic/OpenStack/CIDDS-001-internal-week1.csv', low_memory=False, encoding='cp1252')\n",
    "b = pd.read_csv('./CIDDS-001/traffic/OpenStack/CIDDS-001-internal-week2.csv', low_memory=False, encoding='cp1252')\n",
    "c =  pd.read_csv('./CIDDS-001/traffic/ExternalServer/CIDDS-001-external-week2.csv', low_memory=False, encoding='cp1252')\n",
    "d =  pd.read_csv('./CIDDS-001/traffic/ExternalServer/CIDDS-001-external-week3.csv', low_memory=False, encoding='cp1252')\n",
    "e =  pd.read_csv('./CIDDS-001/traffic/ExternalServer/CIDDS-001-external-week4.csv', low_memory=False, encoding='cp1252')\n",
    "#f =  pd.read_csv('./CIDDS-001/traffic/ExternalServer/CIDDS-001-external-week1.csv', low_memory=False, encoding='cp1252')\n",
    "#c = pd.read_csv('drive/My Drive/Colab Notebooks/traffic/OpenStack/CIDDS-001-internal-week3.csv', low_memory=False , encoding='cp1252')\n",
    "#d = pd.read_csv('drive/My Drive/Colab Notebooks/traffic/OpenStack/CIDDS-001-internal-week4.csv', low_memory=False, encoding='cp1252')\n",
    "#e =  pd.read_csv('drive/My Drive/Colab Notebooks/traffic/ExternalServer/CIDDS-001-external-week1.csv', low_memory=False, encoding='cp1252')\n",
    "#f =  pd.read_csv('drive/My Drive/Colab Notebooks/traffic/ExternalServer/CIDDS-001-external-week2.csv', low_memory=False, encoding='cp1252')\n",
    "#g =  pd.read_csv('drive/My Drive/Colab Notebooks/traffic/ExternalServer/CIDDS-001-external-week3.csv', low_memory=False, encoding='cp1252')\n",
    "#h =  pd.read_csv('drive/My Drive/Colab Notebooks/traffic/ExternalServer/CIDDS-001-external-week4.csv', low_memory=False, encoding='cp1252')"
   ]
  },
  {
   "cell_type": "code",
   "execution_count": 4,
   "metadata": {},
   "outputs": [
    {
     "name": "stdout",
     "output_type": "stream",
     "text": [
      "(10310733, 16)\n"
     ]
    },
    {
     "data": {
      "text/plain": [
       "(1795404, 16)"
      ]
     },
     "execution_count": 4,
     "metadata": {},
     "output_type": "execute_result"
    }
   ],
   "source": [
    "print(b.shape)\n",
    "#a.drop(a[a['attackType'] == '---'].index, axis = 0, inplace= True) \n",
    "b.drop(b[b['attackType'] == '---'].index, axis = 0, inplace= True)  \n",
    "c.drop(c[c['attackType'] == '---'].index, axis = 0, inplace= True)  \n",
    "d.drop(d[d['attackType'] == '---'].index, axis = 0, inplace= True)  \n",
    "#e.drop(e[e['attackType'] == '---'].index, axis = 0, inplace= True)  \n",
    "b.shape"
   ]
  },
  {
   "cell_type": "code",
   "execution_count": 5,
   "metadata": {},
   "outputs": [],
   "source": [
    "data_external = pd.concat([c,d,e], axis = 0)\n",
    "data_external.reset_index(drop= True, inplace= True)"
   ]
  },
  {
   "cell_type": "code",
   "execution_count": 6,
   "metadata": {},
   "outputs": [],
   "source": [
    "#to Increment attackID values\n",
    "data_external['attackID'] = data_external['attackID'].apply(lambda x: str(int(x) + 70) if x != '---' else x)"
   ]
  },
  {
   "cell_type": "code",
   "execution_count": 7,
   "metadata": {},
   "outputs": [],
   "source": [
    "def convert_bytes(df):\n",
    "    if 'M' in df:\n",
    "        df = df.split('M')\n",
    "        df = df[0].strip()\n",
    "        df = float(df) * 1000000\n",
    "    elif 'B' in df:\n",
    "        df = df.split('B')\n",
    "        df = df[0].strip()\n",
    "        df =  float(df) * 1000000000\n",
    "    else: \n",
    "        df =float(df)\n",
    "    return df"
   ]
  },
  {
   "cell_type": "code",
   "execution_count": 8,
   "metadata": {},
   "outputs": [
    {
     "data": {
      "text/plain": [
       "60"
      ]
     },
     "execution_count": 8,
     "metadata": {},
     "output_type": "execute_result"
    }
   ],
   "source": [
    "data = pd.concat([a,b,data_external], axis = 0)\n",
    "data.reset_index(drop= True, inplace= True)\n",
    "data['Bytes'] = data['Bytes'].apply(lambda x: convert_bytes(x))\n",
    "columns = ['Src Pt', 'Dst Pt','Tos','Flows','Packets', 'Bytes']\n",
    "for i in columns:\n",
    "    data[i] = pd.to_numeric(data[i]);\n",
    "del columns\n",
    "del a,b,c,d,e, data_external\n",
    "gc.collect()"
   ]
  },
  {
   "cell_type": "code",
   "execution_count": 9,
   "metadata": {},
   "outputs": [],
   "source": [
    "#Converts Hexadecimal value to Binary\n",
    "def hex_to_binary(hexdata):\n",
    "    scale = 16 ## equals to hexadecimal\n",
    "    num_of_bits = 9\n",
    "    return bin(int(hexdata, scale))[2:].zfill(num_of_bits);\n",
    "#Converts TCP flags to Binary\n",
    "def to_Binary(x):\n",
    "    l = 0\n",
    "    x = '...' + x\n",
    "    x = list(x)\n",
    "    for i in x:\n",
    "        if (i=='.'):\n",
    "            x[l]= '0'\n",
    "        else:\n",
    "            x[l] = '1'\n",
    "        l = l +1\n",
    "    return ''.join(x)\n",
    "#Converts the 'Flags' column to 9 indiviual columns (manual oneshot encoding)\n",
    "def flag_convert(df):  \n",
    "   # df['Flags'] = df['Flags'].apply(lambda x: (list(x)))\n",
    "   # temp = df['Flags'].apply(lambda x: toBinary(x))\n",
    "    hex_values = list(df[(df['Flags'].str.contains(\"0x\", na=False))]['Flags'].unique())\n",
    "    flag_values = list(df[~(df['Flags'].str.contains(\"0x\", na=False))]['Flags'].unique())\n",
    "    binary_values = {}\n",
    "    for i in hex_values:\n",
    "         binary_values[i] = (hex_to_binary(i))\n",
    "    for i in flag_values:\n",
    "         binary_values[i] = (to_Binary(i))\n",
    "    temp = df['Flags'].replace(binary_values)\n",
    "#temp = temp.apply(lambda x: pd.Series(x)) \n",
    "    temp = pd.DataFrame(temp.apply(list).tolist())\n",
    "#temp = pd.DataFrame(temp)\n",
    "#a = a.iloc[: , 1:]\n",
    "   # print(temp.head())\n",
    "    temp.columns = ['N','C','E','U' ,'A','P','R','S','F']\n",
    "    for i in temp.columns:\n",
    "        temp[i] = pd.to_numeric(temp[i]);\n",
    "    temp = temp.reset_index(drop=True)\n",
    "    df = df.reset_index(drop=True)\n",
    "    df = pd.concat([df, temp], axis = 1)\n",
    "    return df;"
   ]
  },
  {
   "cell_type": "code",
   "execution_count": 10,
   "metadata": {},
   "outputs": [],
   "source": [
    "#make a IP_pairs \n",
    "def make_pair(df):\n",
    "    ip_pair = df['Src IP Addr'] +'/' +df['Dst IP Addr']\n",
    "    source_ip = df['Src IP Addr'].unique().tolist()\n",
    "    destination_ip = df['Dst IP Addr'].unique().tolist()\n",
    "   # df = df.drop(columns = ['Src IP Addr', 'Dst IP Addr'])\n",
    "    df.insert(1, ' IP Pair', ip_pair)\n",
    "    return df\n",
    "\n",
    "def check_inverse(df):\n",
    "    list_pairs = df[' IP Pair'].unique()\n",
    "    tuple_pair = []\n",
    "    for i in list_pairs:\n",
    "        tuple_pair.append(tuple((i.split('/'))))\n",
    "    dic_store = {}\n",
    "    for i in tuple_pair:\n",
    "        if (i  not in dic_store.keys()) and (i[::-1] not in dic_store.keys()):\n",
    "            dic_store[i] = i[0] + '/' +i[1]\n",
    "    print(len(dic_store.keys()))\n",
    "    dic_final = {}\n",
    "    for i in dic_store.keys():\n",
    "        dic_final[i[0] + '/' +i[1]] = dic_store[i]\n",
    "        dic_final[i[1] + '/' +i[0]] = dic_store[i]\n",
    "    df[' IP Pair'] = df[' IP Pair'].map(dic_final)               \n",
    "    return df"
   ]
  },
  {
   "cell_type": "code",
   "execution_count": 11,
   "metadata": {},
   "outputs": [],
   "source": [
    "def normalize_IP(df):\n",
    "    columns = ['sourceIP_feature 1', 'sourceIP_feature 2', 'sourceIP_feature 3', 'sourceIP_feature 4', 'destIP_feature 1',\n",
    "              'destIP_feature 2', 'destIP_feature 3', 'destIP_feature 4']\n",
    "    normalized = df[columns]\n",
    "    print(columns)\n",
    "    transformed = MinMaxScaler().fit(normalized).transform(normalized)\n",
    "    transformed = pd.DataFrame(transformed)\n",
    "    j = 0\n",
    "    col = {}\n",
    "    for i in columns:\n",
    "        col[j] = i\n",
    "        j=j+1\n",
    "    transformed = transformed.rename(columns = col)\n",
    "    transformed = transformed.reset_index()\n",
    "    for i in columns:\n",
    "        df[i] = transformed[i].to_numpy()\n",
    "    return df;"
   ]
  },
  {
   "cell_type": "code",
   "execution_count": 12,
   "metadata": {},
   "outputs": [],
   "source": [
    "def normalize(df):\n",
    "    numerics = ['int16', 'int32', 'int64', 'float16', 'float32', 'float64']\n",
    "    columns = data.select_dtypes(include=numerics).columns\n",
    "    normalized = df[columns]\n",
    "    print(columns)\n",
    "    transformed = MinMaxScaler().fit(normalized).transform(normalized)\n",
    "    transformed = pd.DataFrame(transformed)\n",
    "    j = 0\n",
    "    col = {}\n",
    "    for i in columns:\n",
    "        col[j] = i\n",
    "        j=j+1\n",
    "    transformed = transformed.rename(columns = col)\n",
    "    transformed = transformed.reset_index()\n",
    "    for i in columns:\n",
    "        df[i] = transformed[i].to_numpy()\n",
    "    return df;"
   ]
  },
  {
   "cell_type": "code",
   "execution_count": 13,
   "metadata": {},
   "outputs": [],
   "source": [
    "def one_shot(df):\n",
    "    label_encoder = LabelEncoder()\n",
    "    #df.astype({'attackType': 'str'})\n",
    "    df['attackType'] = label_encoder.fit_transform(df['attackType'])\n",
    "    print(list(label_encoder.classes_))\n",
    "    print(list(label_encoder.transform(label_encoder.classes_)))\n",
    "    \n",
    "#    onehot_encoder = OneHotEncoder()\n",
    "#    onehot_encoder.fit(df.attackType.to_numpy().reshape(-1, 1))\n",
    "#    proto = onehot_encoder.transform(df.attackType.to_numpy().reshape(-1, 1))\n",
    "#    proto = pd.DataFrame.sparse.from_spmatrix(proto)\n",
    "#    proto.astype('int32')\n",
    "#    proto.columns = label_encoder.classes_\n",
    "#    df = pd.concat([df, proto], axis = 1) \n",
    "    \n",
    "   \n",
    "    \n",
    "    df['Proto'] = label_encoder.fit_transform(df['Proto'])\n",
    "    print(list(label_encoder.classes_))\n",
    "    print(list(label_encoder.transform(label_encoder.classes_)))\n",
    "    \n",
    "    onehot_encoder1 = OneHotEncoder()\n",
    "    onehot_encoder1.fit(df.Proto.to_numpy().reshape(-1, 1))\n",
    "    proto = onehot_encoder1.transform(df.Proto.to_numpy().reshape(-1, 1))\n",
    "    proto = pd.DataFrame.sparse.from_spmatrix(proto)\n",
    "    proto.astype('int32')\n",
    "    proto.columns = label_encoder.classes_\n",
    "   # print(proto.head(1))\n",
    "    df = pd.concat([df, proto], axis = 1)\n",
    "    return df;"
   ]
  },
  {
   "cell_type": "code",
   "execution_count": 14,
   "metadata": {},
   "outputs": [],
   "source": [
    "def drop_columns(df):\n",
    "    return df.drop(columns = ['Date first seen', ' IP Pair', 'Flows', 'class', 'attackID','Flags',\n",
    "                              'attackDescription', 'Src IP Addr', 'Dst IP Addr','Proto'], axis =1)"
   ]
  },
  {
   "cell_type": "code",
   "execution_count": 15,
   "metadata": {},
   "outputs": [],
   "source": [
    "#Aplit IP address into features, 7 features\n",
    "def split_to_net(IP_address):\n",
    "    IP_list = IP_address.split(\".\")\n",
    "    needed_len = 7\n",
    "    needed_len = needed_len - len(IP_list)\n",
    "    for i in range(0,needed_len,1):\n",
    "        IP_list.append('0')\n",
    "    return IP_list\n",
    "#replace unknown IP address, and convert to columns\n",
    "def IP_split(df): \n",
    "    replace = {\"ATTACKER1\":\"0.0.0.0\",\n",
    "           \"ATTACKER2\":\"0.0.0.0\",\n",
    "           \"ATTACKER3\":\"0.0.0.0\",\n",
    "           \"EXT_SERVER\": \"0.0.0.0.1\",\n",
    "          \"OPENSTACK_NET\": \"0.0.0.0.0.1\",\n",
    "          \"DNS\": \"0.0.0.0.0.0.1\"}\n",
    "    df = df.replace({\"Src IP Addr\": replace, \"Dst IP Addr\": replace}, value=None)\n",
    "    temp_source = df[\"Src IP Addr\"].apply(lambda x: \"0.0.0.0.0.0.0\" if ('_') in x else x)\n",
    "    temp_des = df['Dst IP Addr'].apply(lambda x: \"0.0.0.0.0.0.0\" if ('_') in x else x)\n",
    "   # sourceIP = list(df[\"Src IP Addr\"].unique())\n",
    "   # destIP = list(df[\"Dst IP Addr\"].unique())\n",
    "   # sourceIP_values = {}\n",
    "   # desIP_values = {}\n",
    "   # for i in sourceIP:\n",
    "   #      sourceIP_values[i] = (split_to_net(i))\n",
    "   # for i in destIP:\n",
    "   #      desIP_values[i] = (split_to_net(i))\n",
    "    #print(sourceIP_values)\n",
    "   # print(desIP_values)\n",
    "#for Source IP\n",
    "    temp_source = temp_source.apply(lambda x: split_to_net(x) )\n",
    "    temp_source = pd.DataFrame(temp_source.apply(list).tolist())\n",
    "    temp_source.columns = ['sourceIP_feature 1','sourceIP_feature 2','sourceIP_feature 3','sourceIP_feature 4' ,\n",
    "                    'sourceEXT_SERVER','sourceOPENSTACK_NET','sourceDNS']\n",
    "    for i in temp_source.columns:\n",
    "        temp_source[i] = pd.to_numeric(temp_source[i]);\n",
    "    temp_source = temp_source.reset_index(drop=True)\n",
    "    df = df.reset_index(drop=True)\n",
    "    df = pd.concat([df, temp_source], axis = 1)\n",
    "    #for Destination IP\n",
    "    temp_des = temp_des.apply(lambda x: split_to_net(x) )\n",
    "    temp_des = pd.DataFrame(temp_des.apply(list).tolist())\n",
    "    temp_des.columns = ['destIP_feature 1','destIP_feature 2','destIP_feature 3','destIP_feature 4' ,\n",
    "                    'destEXT_SERVER','destOPENSTACK_NET','destDNS']\n",
    "    for i in temp_des.columns:\n",
    "        temp_des[i] = pd.to_numeric(temp_des[i]);\n",
    "    temp_des = temp_des.reset_index(drop=True)\n",
    "    df = df.reset_index(drop=True)\n",
    "    df = pd.concat([df, temp_des], axis = 1)\n",
    "    return df;"
   ]
  },
  {
   "cell_type": "code",
   "execution_count": 16,
   "metadata": {},
   "outputs": [
    {
     "name": "stdout",
     "output_type": "stream",
     "text": [
      "59362\n"
     ]
    }
   ],
   "source": [
    "data = make_pair(data)\n",
    "data = check_inverse(data)"
   ]
  },
  {
   "cell_type": "code",
   "execution_count": 17,
   "metadata": {},
   "outputs": [],
   "source": [
    "#data = IP_split(data)"
   ]
  },
  {
   "cell_type": "code",
   "execution_count": 18,
   "metadata": {
    "scrolled": true
   },
   "outputs": [
    {
     "name": "stdout",
     "output_type": "stream",
     "text": [
      "Index(['Duration', 'Src Pt', 'Dst Pt', 'Packets', 'Bytes', 'Flows', 'Tos'], dtype='object')\n",
      "['---', 'bruteForce', 'dos', 'pingScan', 'portScan']\n",
      "[0, 1, 2, 3, 4]\n",
      "['GRE  ', 'ICMP ', 'IGMP ', 'TCP  ', 'UDP  ']\n",
      "[0, 1, 2, 3, 4]\n"
     ]
    },
    {
     "name": "stderr",
     "output_type": "stream",
     "text": [
      "C:\\Users\\hp\\Anaconda3\\lib\\site-packages\\sklearn\\preprocessing\\_encoders.py:415: FutureWarning: The handling of integer data will change in version 0.22. Currently, the categories are determined based on the range [0, max(values)], while in the future they will be determined based on the unique values.\n",
      "If you want the future behaviour and silence this warning, you can specify \"categories='auto'\".\n",
      "In case you used a LabelEncoder before this OneHotEncoder to convert the categories to integers, then you can now use the OneHotEncoder directly.\n",
      "  warnings.warn(msg, FutureWarning)\n"
     ]
    }
   ],
   "source": [
    "data = normalize(data)\n",
    "data =  one_shot(data) \n",
    "#data = normalize_IP(data)"
   ]
  },
  {
   "cell_type": "code",
   "execution_count": 19,
   "metadata": {},
   "outputs": [],
   "source": [
    "from datetime import datetime\n",
    "def unix_time(df):\n",
    "  #  df[' Timestamp'] = df[' Timestamp'].apply(lambda x: x + ':00' if len(x) != 19 else x)\n",
    "   # df[' Timestamp'] = df[' Timestamp'].apply(lambda x: x[0 : 5 : ] + x[7 : :] if len(x) != 19 else x[0 : 7 : ] + x[9 : :])\n",
    "    df['Date first seen'] = df['Date first seen'].apply(lambda x: datetime.strptime(x,'%Y-%m-%d %H:%M:%S.%f'))\n",
    "    df['Date first seen'] = df['Date first seen'].apply(lambda x: x.timestamp()*1000)\n",
    "    return df;"
   ]
  },
  {
   "cell_type": "code",
   "execution_count": 20,
   "metadata": {},
   "outputs": [],
   "source": [
    "def normal_profile(grouped):\n",
    "    grouped['---'] = unix_time(grouped['---'])\n",
    "    start_time = int(grouped['---'].head(1)['Date first seen'].values[0])\n",
    "    end_time = int(grouped['---'].tail(1)['Date first seen'].values[0])\n",
    "#date_bins = pd.IntervalIndex.from_tuples(\n",
    "#        [(i, i+3600000) for i in range(start_time, end_time, 3600000)],\n",
    "#        closed=\"left\")\n",
    "#date_labels = [f\"{i}\" for i in range(1, len(date_bins)+1, 1)]\n",
    "    normal_data = dict(tuple( grouped['---'].groupby( pd.cut(\n",
    "            grouped['---']['Date first seen'],\n",
    "               np.arange(start_time, end_time, 3*3600000)))))\n",
    "    del grouped['---']\n",
    "    num = []\n",
    "    for i in grouped_data.keys():\n",
    "          num.append(len(grouped_data[i]))\n",
    "    print(min(num))\n",
    "    num = max(num)\n",
    "    print(num)\n",
    "    print(len(grouped.keys()))\n",
    "    grouped = {**grouped, **normal_data}\n",
    "    print(len(grouped.keys()))\n",
    "    return grouped, num;"
   ]
  },
  {
   "cell_type": "code",
   "execution_count": 21,
   "metadata": {},
   "outputs": [
    {
     "data": {
      "text/plain": [
       "0"
      ]
     },
     "execution_count": 21,
     "metadata": {},
     "output_type": "execute_result"
    }
   ],
   "source": [
    "grouped_data= dict(tuple(data.groupby(['attackID'])))\n",
    "del data\n",
    "gc.collect()"
   ]
  },
  {
   "cell_type": "code",
   "execution_count": 22,
   "metadata": {
    "scrolled": true
   },
   "outputs": [
    {
     "name": "stdout",
     "output_type": "stream",
     "text": [
      "---: 7195669 : 0\n",
      "bruteForce : 26\n",
      "25: 201 : 1\n",
      "27: 680 : 1\n",
      "30: 46 : 1\n",
      "32: 335 : 1\n",
      "39: 364 : 1\n",
      "54: 183 : 1\n",
      "55: 757 : 1\n",
      "56: 427 : 1\n",
      "61: 705 : 1\n",
      "62: 574 : 1\n",
      "64: 480 : 1\n",
      "70: 240 : 1\n",
      "73: 200 : 1\n",
      "74: 200 : 1\n",
      "75: 200 : 1\n",
      "76: 168 : 1\n",
      "78: 200 : 1\n",
      "79: 200 : 1\n",
      "81: 200 : 1\n",
      "83: 200 : 1\n",
      "84: 200 : 1\n",
      "87: 200 : 1\n",
      "88: 200 : 1\n",
      "90: 200 : 1\n",
      "91: 40 : 1\n",
      "92: 40 : 1\n",
      "dos : 18\n",
      "16: 261003 : 2\n",
      "18: 295302 : 2\n",
      "23: 72788 : 2\n",
      "26: 74471 : 2\n",
      "28: 36306 : 2\n",
      "3: 37118 : 2\n",
      "31: 144845 : 2\n",
      "4: 72063 : 2\n",
      "42: 184040 : 2\n",
      "44: 261169 : 2\n",
      "45: 224960 : 2\n",
      "46: 111720 : 2\n",
      "53: 516299 : 2\n",
      "59: 110484 : 2\n",
      "6: 37134 : 2\n",
      "60: 333627 : 2\n",
      "63: 148641 : 2\n",
      "9: 37057 : 2\n",
      "pingScan: 16\n",
      "10: 311 : 3\n",
      "13: 513 : 3\n",
      "15: 64 : 3\n",
      "22: 295 : 3\n",
      "24: 466 : 3\n",
      "33: 307 : 3\n",
      "35: 263 : 3\n",
      "36: 494 : 3\n",
      "38: 267 : 3\n",
      "41: 379 : 3\n",
      "52: 607 : 3\n",
      "57: 522 : 3\n",
      "58: 510 : 3\n",
      "65: 373 : 3\n",
      "66: 359 : 3\n",
      "69: 360 : 3\n",
      "portScan : 32\n",
      "1: 7657 : 4\n",
      "11: 17401 : 4\n",
      "12: 11526 : 4\n",
      "14: 13807 : 4\n",
      "17: 13338 : 4\n",
      "19: 11672 : 4\n",
      "2: 1927 : 4\n",
      "20: 11748 : 4\n",
      "21: 5113 : 4\n",
      "29: 19732 : 4\n",
      "34: 12909 : 4\n",
      "37: 26114 : 4\n",
      "40: 11609 : 4\n",
      "43: 2143 : 4\n",
      "47: 13420 : 4\n",
      "48: 13600 : 4\n",
      "49: 17629 : 4\n",
      "5: 4948 : 4\n",
      "50: 4589 : 4\n",
      "51: 11968 : 4\n",
      "67: 13426 : 4\n",
      "68: 5632 : 4\n",
      "7: 9586 : 4\n",
      "71: 2008 : 4\n",
      "72: 2002 : 4\n",
      "77: 6410 : 4\n",
      "8: 4424 : 4\n",
      "80: 1991 : 4\n",
      "82: 1370 : 4\n",
      "85: 1984 : 4\n",
      "86: 2002 : 4\n",
      "89: 952 : 4\n"
     ]
    }
   ],
   "source": [
    "no_1 = []\n",
    "no_2 = []\n",
    "no_3 = []\n",
    "no_4 = []\n",
    "for i in grouped_data.keys():\n",
    "   \n",
    "    if grouped_data[i]['attackType'].unique()[0] == 0:\n",
    "        print(f\"{i}: {len(grouped_data[i])} : {grouped_data[i]['attackType'].unique()[0]}\")\n",
    "    if grouped_data[i]['attackType'].unique()[0] == 1:\n",
    "              no_1.append(i)\n",
    "    if grouped_data[i]['attackType'].unique()[0] == 2:\n",
    "              no_2.append(i)\n",
    "    if grouped_data[i]['attackType'].unique()[0] == 3:\n",
    "              no_3.append(i)\n",
    "    if grouped_data[i]['attackType'].unique()[0] == 4:\n",
    "              no_4.append(i)\n",
    "print(f\"bruteForce : {len(no_1)}\")\n",
    "for i in no_1:\n",
    "     print(f\"{i}: {len(grouped_data[i])} : {grouped_data[i]['attackType'].unique()[0]}\")\n",
    "print(f\"dos : {len(no_2)}\")\n",
    "for i in no_2:\n",
    "     print(f\"{i}: {len(grouped_data[i])} : {grouped_data[i]['attackType'].unique()[0]}\")\n",
    "print(f\"pingScan: {len(no_3)}\")\n",
    "for i in no_3:\n",
    "     print(f\"{i}: {len(grouped_data[i])} : {grouped_data[i]['attackType'].unique()[0]}\")\n",
    "print(f\"portScan : {len(no_4)}\")\n",
    "for i in no_4:\n",
    "     print(f\"{i}: {len(grouped_data[i])} : {grouped_data[i]['attackType'].unique()[0]}\")"
   ]
  },
  {
   "cell_type": "code",
   "execution_count": 23,
   "metadata": {},
   "outputs": [
    {
     "data": {
      "text/plain": [
       "20"
      ]
     },
     "execution_count": 23,
     "metadata": {},
     "output_type": "execute_result"
    }
   ],
   "source": [
    "del no_1\n",
    "del no_2\n",
    "del no_3\n",
    "del no_4\n",
    "gc.collect()"
   ]
  },
  {
   "cell_type": "code",
   "execution_count": 24,
   "metadata": {},
   "outputs": [],
   "source": [
    "def del_largeInstances(dic, length):\n",
    "    remove_ID = []\n",
    "    for i in dic.keys():\n",
    "        if (i != '---'):\n",
    "            if(len(dic[i]) >= length):\n",
    "                remove_ID.append(i)\n",
    "    print(len(remove_ID))\n",
    "    removed_attacks = {}\n",
    "    for i in remove_ID:\n",
    "        removed_attacks[i] = dic[i]\n",
    "        del dic[i]\n",
    "    return dic;"
   ]
  },
  {
   "cell_type": "code",
   "execution_count": 25,
   "metadata": {},
   "outputs": [
    {
     "name": "stdout",
     "output_type": "stream",
     "text": [
      "19\n"
     ]
    }
   ],
   "source": [
    "grouped_data = del_largeInstances(grouped_data, 20000)"
   ]
  },
  {
   "cell_type": "code",
   "execution_count": 26,
   "metadata": {},
   "outputs": [
    {
     "name": "stdout",
     "output_type": "stream",
     "text": [
      "40\n",
      "19732\n",
      "73\n",
      "350\n"
     ]
    }
   ],
   "source": [
    "#grouped_data, num = normal_profile(grouped_data)\n",
    "grouped_data1= {}\n",
    "for i in grouped_data.keys():\n",
    "    grouped_data[i] = flag_convert(grouped_data[i])\n",
    "   # grouped_data[i] =  drop_columns(grouped_data[i])\n",
    "grouped_data, num = normal_profile(grouped_data)\n",
    "for i in grouped_data.keys():\n",
    "   # grouped_data[i] = flag_convert(grouped_data[i])\n",
    "    grouped_data[i] =  drop_columns(grouped_data[i])"
   ]
  },
  {
   "cell_type": "code",
   "execution_count": 27,
   "metadata": {},
   "outputs": [
    {
     "name": "stdout",
     "output_type": "stream",
     "text": [
      "1 : False\n",
      "10 : False\n",
      "11 : False\n",
      "12 : False\n",
      "13 : False\n",
      "14 : False\n",
      "15 : False\n",
      "17 : False\n",
      "19 : False\n",
      "2 : False\n",
      "20 : False\n",
      "21 : False\n",
      "22 : False\n",
      "24 : False\n",
      "25 : False\n",
      "27 : False\n",
      "29 : False\n",
      "30 : False\n",
      "32 : False\n",
      "33 : False\n",
      "34 : False\n",
      "35 : False\n",
      "36 : False\n",
      "38 : False\n",
      "39 : False\n",
      "40 : False\n",
      "41 : False\n",
      "43 : False\n",
      "47 : False\n",
      "48 : False\n",
      "49 : False\n",
      "5 : False\n",
      "50 : False\n",
      "51 : False\n",
      "52 : False\n",
      "54 : False\n",
      "55 : False\n",
      "56 : False\n",
      "57 : False\n",
      "58 : False\n",
      "61 : False\n",
      "62 : False\n",
      "64 : False\n",
      "65 : False\n",
      "66 : False\n",
      "67 : False\n",
      "68 : False\n",
      "69 : False\n",
      "7 : False\n",
      "70 : False\n",
      "71 : False\n",
      "72 : False\n",
      "73 : False\n",
      "74 : False\n",
      "75 : False\n",
      "76 : False\n",
      "77 : False\n",
      "78 : False\n",
      "79 : False\n",
      "8 : False\n",
      "80 : False\n",
      "81 : False\n",
      "82 : False\n",
      "83 : False\n",
      "84 : False\n",
      "85 : False\n",
      "86 : False\n",
      "87 : False\n",
      "88 : False\n",
      "89 : False\n",
      "90 : False\n",
      "91 : False\n",
      "92 : False\n",
      "(1489536076632, 1489546876632] : False\n",
      "(1489546876632, 1489557676632] : False\n",
      "(1489557676632, 1489568476632] : False\n",
      "(1489568476632, 1489579276632] : False\n",
      "(1489579276632, 1489590076632] : False\n",
      "(1489590076632, 1489600876632] : False\n",
      "(1489600876632, 1489611676632] : False\n",
      "(1489611676632, 1489622476632] : False\n",
      "(1489622476632, 1489633276632] : False\n",
      "(1489633276632, 1489644076632] : False\n",
      "(1489644076632, 1489654876632] : False\n",
      "(1489654876632, 1489665676632] : False\n",
      "(1489665676632, 1489676476632] : False\n",
      "(1489676476632, 1489687276632] : False\n",
      "(1489687276632, 1489698076632] : False\n",
      "(1489698076632, 1489708876632] : False\n",
      "(1489708876632, 1489719676632] : False\n",
      "(1489719676632, 1489730476632] : False\n",
      "(1489730476632, 1489741276632] : False\n",
      "(1489741276632, 1489752076632] : False\n",
      "(1489752076632, 1489762876632] : False\n",
      "(1489762876632, 1489773676632] : False\n",
      "(1489773676632, 1489784476632] : False\n",
      "(1489784476632, 1489795276632] : False\n",
      "(1489795276632, 1489806076632] : False\n",
      "(1489806076632, 1489816876632] : False\n",
      "(1489816876632, 1489827676632] : False\n",
      "(1489827676632, 1489838476632] : False\n",
      "(1489838476632, 1489849276632] : False\n",
      "(1489849276632, 1489860076632] : False\n",
      "(1489860076632, 1489870876632] : False\n",
      "(1489870876632, 1489881676632] : False\n",
      "(1489881676632, 1489892476632] : False\n",
      "(1489892476632, 1489903276632] : False\n",
      "(1489903276632, 1489914076632] : False\n",
      "(1489914076632, 1489924876632] : False\n",
      "(1489924876632, 1489935676632] : False\n",
      "(1489935676632, 1489946476632] : False\n",
      "(1489946476632, 1489957276632] : False\n",
      "(1489957276632, 1489968076632] : False\n",
      "(1489968076632, 1489978876632] : False\n",
      "(1489978876632, 1489989676632] : False\n",
      "(1489989676632, 1490000476632] : False\n",
      "(1490000476632, 1490011276632] : False\n",
      "(1490011276632, 1490022076632] : False\n",
      "(1490022076632, 1490032876632] : False\n",
      "(1490032876632, 1490043676632] : False\n",
      "(1490043676632, 1490054476632] : False\n",
      "(1490054476632, 1490065276632] : False\n",
      "(1490065276632, 1490076076632] : False\n",
      "(1490076076632, 1490086876632] : False\n",
      "(1490086876632, 1490097676632] : False\n",
      "(1490097676632, 1490108476632] : False\n",
      "(1490108476632, 1490119276632] : False\n",
      "(1490119276632, 1490130076632] : False\n",
      "(1490130076632, 1490140876632] : False\n",
      "(1490140876632, 1490151676632] : False\n",
      "(1490151676632, 1490162476632] : False\n",
      "(1490162476632, 1490173276632] : False\n",
      "(1490173276632, 1490184076632] : False\n",
      "(1490184076632, 1490194876632] : False\n",
      "(1490194876632, 1490205676632] : False\n",
      "(1490205676632, 1490216476632] : False\n",
      "(1490216476632, 1490227276632] : False\n",
      "(1490227276632, 1490238076632] : False\n",
      "(1490238076632, 1490248876632] : False\n",
      "(1490248876632, 1490259676632] : False\n",
      "(1490259676632, 1490270476632] : False\n",
      "(1490270476632, 1490281276632] : False\n",
      "(1490281276632, 1490292076632] : False\n",
      "(1490292076632, 1490302876632] : False\n",
      "(1490302876632, 1490313676632] : False\n",
      "(1490313676632, 1490324476632] : False\n",
      "(1490324476632, 1490335276632] : False\n",
      "(1490335276632, 1490346076632] : False\n",
      "(1490346076632, 1490356876632] : False\n",
      "(1490356876632, 1490367676632] : False\n",
      "(1490367676632, 1490378476632] : False\n",
      "(1490378476632, 1490389276632] : False\n",
      "(1490389276632, 1490400076632] : False\n",
      "(1490400076632, 1490410876632] : False\n",
      "(1490410876632, 1490421676632] : False\n",
      "(1490421676632, 1490432476632] : False\n",
      "(1490432476632, 1490443276632] : False\n",
      "(1490443276632, 1490454076632] : False\n",
      "(1490454076632, 1490464876632] : False\n",
      "(1490464876632, 1490475676632] : False\n",
      "(1490475676632, 1490486476632] : False\n",
      "(1490486476632, 1490497276632] : False\n",
      "(1490497276632, 1490508076632] : False\n",
      "(1490508076632, 1490518876632] : False\n",
      "(1490518876632, 1490529676632] : False\n",
      "(1490529676632, 1490540476632] : False\n",
      "(1490540476632, 1490551276632] : False\n",
      "(1490551276632, 1490562076632] : False\n",
      "(1490562076632, 1490572876632] : False\n",
      "(1490572876632, 1490583676632] : False\n",
      "(1490583676632, 1490594476632] : False\n",
      "(1490594476632, 1490605276632] : False\n",
      "(1490605276632, 1490616076632] : False\n",
      "(1490616076632, 1490626876632] : False\n",
      "(1490626876632, 1490637676632] : False\n",
      "(1490637676632, 1490648476632] : False\n",
      "(1490648476632, 1490659276632] : False\n",
      "(1490659276632, 1490670076632] : False\n",
      "(1490670076632, 1490680876632] : False\n",
      "(1490680876632, 1490691676632] : False\n",
      "(1490691676632, 1490702476632] : False\n",
      "(1490702476632, 1490713276632] : False\n",
      "(1490713276632, 1490724076632] : False\n",
      "(1490724076632, 1490734876632] : False\n",
      "(1490734876632, 1490745676632] : False\n",
      "(1490745676632, 1490756476632] : False\n",
      "(1490756476632, 1490767276632] : False\n",
      "(1490767276632, 1490778076632] : False\n",
      "(1490778076632, 1490788876632] : False\n",
      "(1490788876632, 1490799676632] : False\n",
      "(1490799676632, 1490810476632] : False\n",
      "(1490810476632, 1490821276632] : False\n",
      "(1490821276632, 1490832076632] : False\n",
      "(1490832076632, 1490842876632] : False\n",
      "(1490842876632, 1490853676632] : False\n",
      "(1490853676632, 1490864476632] : False\n",
      "(1490864476632, 1490875276632] : False\n",
      "(1490875276632, 1490886076632] : False\n",
      "(1490886076632, 1490896876632] : False\n",
      "(1490896876632, 1490907676632] : False\n",
      "(1490907676632, 1490918476632] : False\n",
      "(1490918476632, 1490929276632] : False\n",
      "(1490929276632, 1490940076632] : False\n",
      "(1490940076632, 1490950876632] : False\n",
      "(1490950876632, 1490961676632] : False\n",
      "(1490961676632, 1490972476632] : False\n",
      "(1490972476632, 1490983276632] : False\n",
      "(1490983276632, 1490994076632] : False\n",
      "(1490994076632, 1491004876632] : False\n",
      "(1491004876632, 1491015676632] : False\n",
      "(1491015676632, 1491026476632] : False\n",
      "(1491026476632, 1491037276632] : False\n",
      "(1491037276632, 1491048076632] : False\n",
      "(1491048076632, 1491058876632] : False\n",
      "(1491058876632, 1491069676632] : False\n",
      "(1491069676632, 1491080476632] : False\n",
      "(1491080476632, 1491091276632] : False\n",
      "(1491091276632, 1491102076632] : False\n",
      "(1491102076632, 1491112876632] : False\n",
      "(1491112876632, 1491123676632] : False\n",
      "(1491123676632, 1491134476632] : False\n",
      "(1491134476632, 1491145276632] : False\n",
      "(1491145276632, 1491156076632] : False\n",
      "(1491156076632, 1491166876632] : False\n",
      "(1491166876632, 1491177676632] : False\n",
      "(1491177676632, 1491188476632] : False\n",
      "(1491188476632, 1491199276632] : False\n",
      "(1491199276632, 1491210076632] : False\n",
      "(1491210076632, 1491220876632] : False\n",
      "(1491220876632, 1491231676632] : False\n",
      "(1491231676632, 1491242476632] : False\n",
      "(1491242476632, 1491253276632] : False\n",
      "(1491253276632, 1491264076632] : False\n",
      "(1491264076632, 1491274876632] : False\n",
      "(1491274876632, 1491285676632] : False\n",
      "(1491285676632, 1491296476632] : False\n",
      "(1491296476632, 1491307276632] : False\n",
      "(1491307276632, 1491318076632] : False\n",
      "(1491318076632, 1491328876632] : False\n",
      "(1491328876632, 1491339676632] : False\n",
      "(1491339676632, 1491350476632] : False\n",
      "(1491350476632, 1491361276632] : False\n",
      "(1491361276632, 1491372076632] : False\n",
      "(1491372076632, 1491382876632] : False\n",
      "(1491382876632, 1491393676632] : False\n",
      "(1491393676632, 1491404476632] : False\n",
      "(1491404476632, 1491415276632] : False\n",
      "(1491415276632, 1491426076632] : False\n",
      "(1491426076632, 1491436876632] : False\n",
      "(1491436876632, 1491447676632] : False\n",
      "(1491447676632, 1491458476632] : False\n",
      "(1491458476632, 1491469276632] : False\n",
      "(1491469276632, 1491480076632] : False\n",
      "(1491480076632, 1491490876632] : False\n",
      "(1491490876632, 1491501676632] : False\n",
      "(1491501676632, 1491512476632] : False\n",
      "(1491512476632, 1491523276632] : False\n",
      "(1491523276632, 1491534076632] : False\n",
      "(1491534076632, 1491544876632] : False\n",
      "(1491544876632, 1491555676632] : False\n",
      "(1491555676632, 1491566476632] : False\n",
      "(1491566476632, 1491577276632] : False\n",
      "(1491577276632, 1491588076632] : False\n",
      "(1491588076632, 1491598876632] : False\n",
      "(1491598876632, 1491609676632] : False\n",
      "(1491609676632, 1491620476632] : False\n",
      "(1491620476632, 1491631276632] : False\n",
      "(1491631276632, 1491642076632] : False\n",
      "(1491642076632, 1491652876632] : False\n",
      "(1491652876632, 1491663676632] : False\n",
      "(1491663676632, 1491674476632] : False\n",
      "(1491674476632, 1491685276632] : False\n",
      "(1491685276632, 1491696076632] : False\n",
      "(1491696076632, 1491706876632] : False\n",
      "(1491706876632, 1491717676632] : False\n",
      "(1491717676632, 1491728476632] : False\n",
      "(1491728476632, 1491739276632] : False\n",
      "(1491739276632, 1491750076632] : False\n",
      "(1491750076632, 1491760876632] : False\n",
      "(1491760876632, 1491771676632] : False\n",
      "(1491771676632, 1491782476632] : False\n",
      "(1491782476632, 1491793276632] : False\n",
      "(1491793276632, 1491804076632] : False\n",
      "(1491804076632, 1491814876632] : False\n",
      "(1491814876632, 1491825676632] : False\n",
      "(1491825676632, 1491836476632] : False\n",
      "(1491836476632, 1491847276632] : False\n",
      "(1491847276632, 1491858076632] : False\n",
      "(1491858076632, 1491868876632] : False\n",
      "(1491868876632, 1491879676632] : False\n",
      "(1491879676632, 1491890476632] : False\n",
      "(1491890476632, 1491901276632] : False\n",
      "(1491901276632, 1491912076632] : False\n",
      "(1491912076632, 1491922876632] : False\n",
      "(1491922876632, 1491933676632] : False\n",
      "(1491933676632, 1491944476632] : False\n",
      "(1491944476632, 1491955276632] : False\n",
      "(1491955276632, 1491966076632] : False\n"
     ]
    },
    {
     "name": "stdout",
     "output_type": "stream",
     "text": [
      "(1491966076632, 1491976876632] : False\n",
      "(1491976876632, 1491987676632] : False\n",
      "(1491987676632, 1491998476632] : False\n",
      "(1491998476632, 1492009276632] : False\n",
      "(1492009276632, 1492020076632] : False\n",
      "(1492020076632, 1492030876632] : False\n",
      "(1492030876632, 1492041676632] : False\n",
      "(1492041676632, 1492052476632] : False\n",
      "(1492052476632, 1492063276632] : False\n",
      "(1492063276632, 1492074076632] : False\n",
      "(1492074076632, 1492084876632] : False\n",
      "(1492084876632, 1492095676632] : False\n",
      "(1492095676632, 1492106476632] : False\n",
      "(1492106476632, 1492117276632] : False\n",
      "(1492117276632, 1492128076632] : False\n",
      "(1492128076632, 1492138876632] : False\n",
      "(1492138876632, 1492149676632] : False\n",
      "(1492149676632, 1492160476632] : False\n",
      "(1492160476632, 1492171276632] : False\n",
      "(1492171276632, 1492182076632] : False\n",
      "(1492182076632, 1492192876632] : False\n",
      "(1492192876632, 1492203676632] : False\n",
      "(1492203676632, 1492214476632] : False\n",
      "(1492214476632, 1492225276632] : False\n",
      "(1492225276632, 1492236076632] : False\n",
      "(1492236076632, 1492246876632] : False\n",
      "(1492246876632, 1492257676632] : False\n",
      "(1492257676632, 1492268476632] : False\n",
      "(1492268476632, 1492279276632] : False\n",
      "(1492279276632, 1492290076632] : False\n",
      "(1492290076632, 1492300876632] : False\n",
      "(1492300876632, 1492311676632] : False\n",
      "(1492311676632, 1492322476632] : False\n",
      "(1492322476632, 1492333276632] : False\n",
      "(1492333276632, 1492344076632] : False\n",
      "(1492344076632, 1492354876632] : False\n",
      "(1492354876632, 1492365676632] : False\n",
      "(1492365676632, 1492376476632] : False\n",
      "(1492376476632, 1492387276632] : False\n",
      "(1492387276632, 1492398076632] : False\n",
      "(1492398076632, 1492408876632] : False\n",
      "(1492408876632, 1492419676632] : False\n",
      "(1492419676632, 1492430476632] : False\n",
      "(1492430476632, 1492441276632] : False\n",
      "(1492441276632, 1492452076632] : False\n",
      "(1492452076632, 1492462876632] : False\n",
      "(1492462876632, 1492473676632] : False\n",
      "(1492473676632, 1492484476632] : False\n",
      "(1492484476632, 1492495276632] : False\n",
      "(1492495276632, 1492506076632] : False\n",
      "(1492506076632, 1492516876632] : False\n",
      "(1492516876632, 1492527676632] : False\n"
     ]
    }
   ],
   "source": [
    "for i in grouped_data.keys():\n",
    "    #if (grouped_data[i].hasnull())\n",
    "    print(f'{i} : {grouped_data[i].isnull().values.any()}')"
   ]
  },
  {
   "cell_type": "code",
   "execution_count": 28,
   "metadata": {},
   "outputs": [],
   "source": [
    "#grouped_data['34']"
   ]
  },
  {
   "cell_type": "code",
   "execution_count": 29,
   "metadata": {},
   "outputs": [
    {
     "name": "stdout",
     "output_type": "stream",
     "text": [
      "167\n"
     ]
    }
   ],
   "source": [
    "counter = 0\n",
    "for i in grouped_data.keys():\n",
    "    if ( len(grouped_data[i]) == 0):\n",
    "        counter = counter +1;\n",
    "print(counter)"
   ]
  },
  {
   "cell_type": "code",
   "execution_count": 30,
   "metadata": {},
   "outputs": [],
   "source": [
    "#Remove columns that were not listed in cfs list\n",
    "selected_features = ['S', 'R', 'Packets', 'Tos', 'Duration', 'P', 'attackType']\n",
    "for i in grouped_data.keys():\n",
    "    if ( len(grouped_data[i]) != 0):\n",
    "        grouped_data[i] = grouped_data[i][selected_features]"
   ]
  },
  {
   "cell_type": "code",
   "execution_count": 31,
   "metadata": {},
   "outputs": [],
   "source": [
    "def roundup(x):\n",
    "    return x if x % 100 == 0 else x + 100 - x % 100\n",
    "#Convert to 3D arrays, input dict\n",
    "def make_array(dic):\n",
    "    x = []\n",
    "    y = []\n",
    "    zero_arrays = []\n",
    "    for i in dic.keys():\n",
    "        if ( len(dic[i]) == 0):\n",
    "            zero_arrays.append(i);\n",
    "    for i in zero_arrays:\n",
    "        del dic[i]\n",
    "    for i in dic.keys():\n",
    "        x.append(np.array(dic[i].drop(['attackType'],axis = 1)).astype(np.float32))\n",
    "       # print(f'{i}')\n",
    "        y.append(dic[i]['attackType'].values[0])\n",
    "    print(len(y))\n",
    "    o = []\n",
    "    features = len(x[1][1])\n",
    "    #for i in x:\n",
    "     #   o.append(len(i))\n",
    "   # print(min(o))\n",
    "    o = num\n",
    "    o = roundup(o)\n",
    "    print(o)\n",
    "    index = 0\n",
    "    for i in x:\n",
    "        l = len(i)\n",
    "        i = list(i)\n",
    "        if(o > l):\n",
    "            l = o-l\n",
    "            for j in range(0, l, 1):\n",
    "                i.append([0] * features)\n",
    "        elif (o<l):\n",
    "            l = l-o\n",
    "            i = i[:-l]\n",
    "        #i = [k = np.array([k]) for l in i for k in l] # Makes array elements an array \n",
    "        x[index] = np.array(i).astype(np.float32)\n",
    "        index = index + 1\n",
    "    #x = [[i] for i in x]\n",
    "    return x,y"
   ]
  },
  {
   "cell_type": "code",
   "execution_count": 32,
   "metadata": {},
   "outputs": [
    {
     "name": "stdout",
     "output_type": "stream",
     "text": [
      "183\n",
      "19800\n"
     ]
    }
   ],
   "source": [
    "X,Y = make_array(grouped_data)\n",
    "del grouped_data\n",
    "gc.collect()\n",
    "Y = np.array(Y)\n",
    "X = np.array(X)"
   ]
  },
  {
   "cell_type": "code",
   "execution_count": 33,
   "metadata": {},
   "outputs": [
    {
     "data": {
      "text/plain": [
       "{0: 110, 1: 26, 3: 16, 4: 31}"
      ]
     },
     "execution_count": 33,
     "metadata": {},
     "output_type": "execute_result"
    }
   ],
   "source": [
    "unique, counts = np.unique(Y, return_counts=True)\n",
    "dict(zip(unique, counts))"
   ]
  },
  {
   "cell_type": "code",
   "execution_count": null,
   "metadata": {
    "scrolled": true
   },
   "outputs": [],
   "source": []
  },
  {
   "cell_type": "code",
   "execution_count": 34,
   "metadata": {},
   "outputs": [],
   "source": [
    "def make_4D(arr):\n",
    "    x = []\n",
    "    for i in range(0, len(arr),1):\n",
    "        temp = []\n",
    "        for j in range(0,len(arr[i]),1):\n",
    "             temp.append([np.array([k]) for k in arr[i][j]])\n",
    "        x.append(np.array(temp).astype(np.float32))\n",
    "    return np.array(x).astype(np.float32)"
   ]
  },
  {
   "cell_type": "code",
   "execution_count": 35,
   "metadata": {},
   "outputs": [],
   "source": [
    "#X = make_4D(X)"
   ]
  },
  {
   "cell_type": "code",
   "execution_count": 36,
   "metadata": {},
   "outputs": [],
   "source": [
    "from sklearn.model_selection import train_test_split\n",
    "from sklearn.tree import DecisionTreeClassifier\n",
    "X_train, X_test, Y_train, Y_test = train_test_split(X,Y , test_size=0.2, random_state=0,  stratify=Y)"
   ]
  },
  {
   "cell_type": "code",
   "execution_count": 37,
   "metadata": {},
   "outputs": [
    {
     "data": {
      "text/plain": [
       "100"
      ]
     },
     "execution_count": 37,
     "metadata": {},
     "output_type": "execute_result"
    }
   ],
   "source": [
    "del X,Y\n",
    "gc.collect()"
   ]
  },
  {
   "cell_type": "code",
   "execution_count": 38,
   "metadata": {},
   "outputs": [
    {
     "data": {
      "text/plain": [
       "{0: 88, 1: 21, 3: 13, 4: 24}"
      ]
     },
     "execution_count": 38,
     "metadata": {},
     "output_type": "execute_result"
    }
   ],
   "source": [
    "unique, counts = np.unique(Y_train, return_counts=True)\n",
    "dict(zip(unique, counts))"
   ]
  },
  {
   "cell_type": "code",
   "execution_count": 39,
   "metadata": {},
   "outputs": [
    {
     "data": {
      "text/plain": [
       "{0: 22, 1: 5, 3: 3, 4: 7}"
      ]
     },
     "execution_count": 39,
     "metadata": {},
     "output_type": "execute_result"
    }
   ],
   "source": [
    "unique, counts = np.unique(Y_test, return_counts=True)\n",
    "dict(zip(unique, counts))"
   ]
  },
  {
   "cell_type": "code",
   "execution_count": 40,
   "metadata": {},
   "outputs": [
    {
     "name": "stdout",
     "output_type": "stream",
     "text": [
      "False\n",
      "False\n",
      "False\n",
      "False\n",
      "False\n",
      "False\n",
      "False\n",
      "False\n",
      "False\n",
      "False\n",
      "False\n",
      "False\n",
      "False\n",
      "False\n",
      "False\n",
      "False\n",
      "False\n",
      "False\n",
      "False\n",
      "False\n",
      "False\n",
      "False\n",
      "False\n",
      "False\n",
      "False\n",
      "False\n",
      "False\n",
      "False\n",
      "False\n",
      "False\n",
      "False\n",
      "False\n",
      "False\n",
      "False\n",
      "False\n",
      "False\n",
      "False\n",
      "False\n",
      "False\n",
      "False\n",
      "False\n",
      "False\n",
      "False\n",
      "False\n",
      "False\n",
      "False\n",
      "False\n",
      "False\n",
      "False\n",
      "False\n",
      "False\n",
      "False\n",
      "False\n",
      "False\n",
      "False\n",
      "False\n",
      "False\n",
      "False\n",
      "False\n",
      "False\n",
      "False\n",
      "False\n",
      "False\n",
      "False\n",
      "False\n",
      "False\n",
      "False\n",
      "False\n",
      "False\n",
      "False\n",
      "False\n",
      "False\n",
      "False\n",
      "False\n",
      "False\n",
      "False\n",
      "False\n",
      "False\n",
      "False\n",
      "False\n",
      "False\n",
      "False\n",
      "False\n",
      "False\n",
      "False\n",
      "False\n",
      "False\n",
      "False\n",
      "False\n",
      "False\n",
      "False\n",
      "False\n",
      "False\n",
      "False\n",
      "False\n",
      "False\n",
      "False\n",
      "False\n",
      "False\n",
      "False\n",
      "False\n",
      "False\n",
      "False\n",
      "False\n",
      "False\n",
      "False\n",
      "False\n",
      "False\n",
      "False\n",
      "False\n",
      "False\n",
      "False\n",
      "False\n",
      "False\n",
      "False\n",
      "False\n",
      "False\n",
      "False\n",
      "False\n",
      "False\n",
      "False\n",
      "False\n",
      "False\n",
      "False\n",
      "False\n",
      "False\n",
      "False\n",
      "False\n",
      "False\n",
      "False\n",
      "False\n",
      "False\n",
      "False\n",
      "False\n",
      "False\n",
      "False\n",
      "False\n",
      "False\n",
      "False\n",
      "False\n",
      "False\n",
      "False\n",
      "False\n",
      "False\n",
      "False\n",
      "False\n"
     ]
    }
   ],
   "source": [
    "for i in X_train:\n",
    "    print(f'{np.isnan(i).any()}')"
   ]
  },
  {
   "cell_type": "code",
   "execution_count": 41,
   "metadata": {},
   "outputs": [],
   "source": [
    "import tensorflow as tf\n",
    "from tensorflow import keras\n",
    "from tensorflow.keras.layers import Embedding, Dense, SimpleRNN, Dropout, Masking, Flatten, Input, Bidirectional, BatchNormalization\n",
    "from tensorflow.keras.losses import BinaryCrossentropy\n",
    "from tensorflow.keras.models import Sequential\n",
    "from tensorflow.keras.optimizers import Adam\n",
    "from tensorflow.keras.preprocessing.sequence import pad_sequences\n",
    "from keras.layers import Dense, Conv2D, MaxPooling1D, Dropout, Flatten, Conv1D, MaxPooling2D"
   ]
  },
  {
   "cell_type": "code",
   "execution_count": 42,
   "metadata": {},
   "outputs": [
    {
     "name": "stdout",
     "output_type": "stream",
     "text": [
      "samples: 146 \n",
      " X:19800 \n",
      " Y:6 \n",
      " \n"
     ]
    }
   ],
   "source": [
    "nsamples,nx, ny = X_train.shape\n",
    "print(f\"samples: {nsamples} \\n X:{nx} \\n Y:{ny} \\n \" )"
   ]
  },
  {
   "cell_type": "code",
   "execution_count": 43,
   "metadata": {},
   "outputs": [
    {
     "data": {
      "text/plain": [
       "(19800, 6)"
      ]
     },
     "execution_count": 43,
     "metadata": {},
     "output_type": "execute_result"
    }
   ],
   "source": [
    "X_train.shape[1:]"
   ]
  },
  {
   "cell_type": "code",
   "execution_count": 44,
   "metadata": {},
   "outputs": [],
   "source": [
    "from keras.callbacks import EarlyStopping\n",
    "from keras.callbacks import ModelCheckpoint, LambdaCallback\n",
    "wie_by_epoch = []\n",
    "model_check = ModelCheckpoint(\"/models/Testpoints/best_model.hdf5\", monitor='loss', verbose=0, save_best_only=True, mode='min', save_freq=1)\n",
    "print_weights = LambdaCallback(on_epoch_end=lambda batch, logs:wie_by_epoch.append(model.get_weights()))\n",
    "callback = tf.keras.callbacks.EarlyStopping(monitor='loss', patience=10, verbose= 2)"
   ]
  },
  {
   "cell_type": "code",
   "execution_count": 45,
   "metadata": {
    "scrolled": true
   },
   "outputs": [],
   "source": [
    "model = Sequential()\n",
    "model.add(Conv1D(256, 2, activation='relu', input_shape=X_train.shape[1:]))\n",
    "model.add(MaxPooling1D(pool_size= 2))\n",
    "model.add(Conv1D(128, 2, activation='relu'))\n",
    "model.add(MaxPooling1D(pool_size= 2))\n",
    "#model.add(Conv1D(256, 2, activation='relu'))\n",
    "#model.add(MaxPooling1D(pool_size= 2))\n",
    "#model.add(BatchNormalization())\n",
    "model.add(SimpleRNN(5, activation='relu', return_sequences = True, stateful = False, dropout = 0.2))\n",
    "model.add(Flatten())\n",
    "model.add(Dense(5, activation='softmax' ))\n",
    "model.compile(optimizer= 'rmsprop', loss='sparse_categorical_crossentropy',  metrics=[keras.metrics.SparseCategoricalAccuracy()])"
   ]
  },
  {
   "cell_type": "code",
   "execution_count": 46,
   "metadata": {
    "scrolled": true
   },
   "outputs": [
    {
     "data": {
      "text/plain": [
       "(None, 5)"
      ]
     },
     "execution_count": 46,
     "metadata": {},
     "output_type": "execute_result"
    }
   ],
   "source": [
    "model.build(input_shape = (nx,ny))\n",
    "model.output_shape"
   ]
  },
  {
   "cell_type": "code",
   "execution_count": 47,
   "metadata": {},
   "outputs": [
    {
     "data": {
      "text/plain": [
       "3483"
      ]
     },
     "execution_count": 47,
     "metadata": {},
     "output_type": "execute_result"
    }
   ],
   "source": [
    "del model, wie_by_epoch\n",
    "\n",
    "gc.collect()"
   ]
  },
  {
   "cell_type": "code",
   "execution_count": 47,
   "metadata": {},
   "outputs": [
    {
     "name": "stdout",
     "output_type": "stream",
     "text": [
      "Model: \"sequential\"\n",
      "_________________________________________________________________\n",
      "Layer (type)                 Output Shape              Param #   \n",
      "=================================================================\n",
      "conv1d (Conv1D)              (None, 19799, 256)        3328      \n",
      "_________________________________________________________________\n",
      "max_pooling1d (MaxPooling1D) (None, 9899, 256)         0         \n",
      "_________________________________________________________________\n",
      "conv1d_1 (Conv1D)            (None, 9898, 128)         65664     \n",
      "_________________________________________________________________\n",
      "max_pooling1d_1 (MaxPooling1 (None, 4949, 128)         0         \n",
      "_________________________________________________________________\n",
      "simple_rnn (SimpleRNN)       (None, 4949, 5)           670       \n",
      "_________________________________________________________________\n",
      "flatten (Flatten)            (None, 24745)             0         \n",
      "_________________________________________________________________\n",
      "dense (Dense)                (None, 5)                 123730    \n",
      "=================================================================\n",
      "Total params: 193,392\n",
      "Trainable params: 193,392\n",
      "Non-trainable params: 0\n",
      "_________________________________________________________________\n"
     ]
    }
   ],
   "source": [
    "#model.build(input_shape = (nx,ny))\n",
    "model.summary()\n"
   ]
  },
  {
   "cell_type": "code",
   "execution_count": 48,
   "metadata": {
    "scrolled": true
   },
   "outputs": [
    {
     "data": {
      "text/plain": [
       "[array([[[ 0.02819254,  0.05408799,  0.01264033, ...,  0.02973028,\n",
       "           0.08572634,  0.01686783],\n",
       "         [-0.09558448, -0.03814251,  0.03803099, ..., -0.02577671,\n",
       "          -0.05566402, -0.05297265],\n",
       "         [ 0.01700884, -0.07370241,  0.01537   , ..., -0.10415144,\n",
       "           0.02200551,  0.0180316 ],\n",
       "         [-0.02235089, -0.07568754,  0.00333058, ..., -0.09553504,\n",
       "          -0.07302704,  0.04138698],\n",
       "         [-0.00927477,  0.00362053,  0.09808245, ..., -0.02958238,\n",
       "          -0.03692526, -0.10085081],\n",
       "         [ 0.05800041,  0.06489754, -0.0519235 , ..., -0.00520344,\n",
       "          -0.02332771,  0.04234845]],\n",
       " \n",
       "        [[ 0.08971884, -0.06791927,  0.02103651, ...,  0.08995713,\n",
       "          -0.01607876, -0.08575019],\n",
       "         [ 0.02658495, -0.04292066, -0.060729  , ..., -0.02623247,\n",
       "           0.08897679, -0.07600285],\n",
       "         [ 0.10037047,  0.09236016, -0.06562551, ..., -0.01842556,\n",
       "           0.0411311 , -0.00949227],\n",
       "         [ 0.01175575, -0.00231195, -0.07095315, ..., -0.06272826,\n",
       "           0.02666426,  0.08196475],\n",
       "         [ 0.00648799,  0.09354002, -0.09827068, ...,  0.0450039 ,\n",
       "           0.04007346,  0.0218761 ],\n",
       "         [-0.04285385,  0.01338466,  0.02373863, ...,  0.09141413,\n",
       "          -0.03629302, -0.0572979 ]]], dtype=float32),\n",
       " array([0., 0., 0., 0., 0., 0., 0., 0., 0., 0., 0., 0., 0., 0., 0., 0., 0.,\n",
       "        0., 0., 0., 0., 0., 0., 0., 0., 0., 0., 0., 0., 0., 0., 0., 0., 0.,\n",
       "        0., 0., 0., 0., 0., 0., 0., 0., 0., 0., 0., 0., 0., 0., 0., 0., 0.,\n",
       "        0., 0., 0., 0., 0., 0., 0., 0., 0., 0., 0., 0., 0., 0., 0., 0., 0.,\n",
       "        0., 0., 0., 0., 0., 0., 0., 0., 0., 0., 0., 0., 0., 0., 0., 0., 0.,\n",
       "        0., 0., 0., 0., 0., 0., 0., 0., 0., 0., 0., 0., 0., 0., 0., 0., 0.,\n",
       "        0., 0., 0., 0., 0., 0., 0., 0., 0., 0., 0., 0., 0., 0., 0., 0., 0.,\n",
       "        0., 0., 0., 0., 0., 0., 0., 0., 0., 0., 0., 0., 0., 0., 0., 0., 0.,\n",
       "        0., 0., 0., 0., 0., 0., 0., 0., 0., 0., 0., 0., 0., 0., 0., 0., 0.,\n",
       "        0., 0., 0., 0., 0., 0., 0., 0., 0., 0., 0., 0., 0., 0., 0., 0., 0.,\n",
       "        0., 0., 0., 0., 0., 0., 0., 0., 0., 0., 0., 0., 0., 0., 0., 0., 0.,\n",
       "        0., 0., 0., 0., 0., 0., 0., 0., 0., 0., 0., 0., 0., 0., 0., 0., 0.,\n",
       "        0., 0., 0., 0., 0., 0., 0., 0., 0., 0., 0., 0., 0., 0., 0., 0., 0.,\n",
       "        0., 0., 0., 0., 0., 0., 0., 0., 0., 0., 0., 0., 0., 0., 0., 0., 0.,\n",
       "        0., 0., 0., 0., 0., 0., 0., 0., 0., 0., 0., 0., 0., 0., 0., 0., 0.,\n",
       "        0.], dtype=float32),\n",
       " array([[[ 0.05675589,  0.01275566,  0.07074738, ...,  0.07709906,\n",
       "          -0.06827337, -0.02838784],\n",
       "         [ 0.00033515, -0.00419822, -0.0491298 , ..., -0.01406208,\n",
       "          -0.08369312, -0.0098682 ],\n",
       "         [-0.01847064, -0.00214696,  0.00155739, ...,  0.0149356 ,\n",
       "          -0.03994596,  0.01850916],\n",
       "         ...,\n",
       "         [ 0.08125136, -0.05887143,  0.00703187, ..., -0.08080398,\n",
       "           0.00785651,  0.01501555],\n",
       "         [ 0.02053582,  0.08442955, -0.03223604, ...,  0.08626708,\n",
       "          -0.01723126,  0.04021411],\n",
       "         [ 0.00944783,  0.02204034, -0.05718645, ...,  0.05604387,\n",
       "           0.07653151,  0.08685926]],\n",
       " \n",
       "        [[-0.0448112 ,  0.03672124, -0.06756388, ..., -0.02854857,\n",
       "           0.04782017, -0.01762187],\n",
       "         [ 0.00696947,  0.05799351, -0.02995096, ...,  0.01255786,\n",
       "          -0.08276301,  0.01687292],\n",
       "         [-0.0403575 , -0.01746237,  0.0546096 , ...,  0.0854105 ,\n",
       "          -0.00282017,  0.04417645],\n",
       "         ...,\n",
       "         [ 0.01172207, -0.04702566, -0.06051181, ..., -0.08671825,\n",
       "           0.01801253, -0.03035736],\n",
       "         [-0.08748046, -0.03760755,  0.04027639, ...,  0.06336138,\n",
       "           0.02835115,  0.05714185],\n",
       "         [-0.08406571,  0.05879123, -0.01387987, ..., -0.03206473,\n",
       "           0.02663955, -0.03780355]]], dtype=float32),\n",
       " array([0., 0., 0., 0., 0., 0., 0., 0., 0., 0., 0., 0., 0., 0., 0., 0., 0.,\n",
       "        0., 0., 0., 0., 0., 0., 0., 0., 0., 0., 0., 0., 0., 0., 0., 0., 0.,\n",
       "        0., 0., 0., 0., 0., 0., 0., 0., 0., 0., 0., 0., 0., 0., 0., 0., 0.,\n",
       "        0., 0., 0., 0., 0., 0., 0., 0., 0., 0., 0., 0., 0., 0., 0., 0., 0.,\n",
       "        0., 0., 0., 0., 0., 0., 0., 0., 0., 0., 0., 0., 0., 0., 0., 0., 0.,\n",
       "        0., 0., 0., 0., 0., 0., 0., 0., 0., 0., 0., 0., 0., 0., 0., 0., 0.,\n",
       "        0., 0., 0., 0., 0., 0., 0., 0., 0., 0., 0., 0., 0., 0., 0., 0., 0.,\n",
       "        0., 0., 0., 0., 0., 0., 0., 0., 0.], dtype=float32),\n",
       " array([[-1.01838022e-01, -2.09980771e-01, -4.55640107e-02,\n",
       "          4.43922579e-02, -1.21581472e-01],\n",
       "        [-1.96250767e-01,  1.30216271e-01, -1.64754838e-01,\n",
       "         -1.41260967e-01,  1.87534928e-01],\n",
       "        [ 1.02886617e-01, -7.48582780e-02, -5.32975793e-02,\n",
       "          1.33595496e-01,  1.18236184e-01],\n",
       "        [ 3.10253948e-02,  4.84128892e-02, -3.08054090e-02,\n",
       "         -1.90101355e-01, -1.76308095e-01],\n",
       "        [-1.47631675e-01, -2.93608606e-02, -1.44788176e-02,\n",
       "         -9.61063355e-02,  7.34493434e-02],\n",
       "        [ 4.21496332e-02,  1.98938906e-01, -6.04027063e-02,\n",
       "         -2.10062206e-01,  1.80108339e-01],\n",
       "        [-2.06871957e-01,  5.62482476e-02,  1.53016239e-01,\n",
       "         -6.70689493e-02,  1.85514331e-01],\n",
       "        [-2.12252617e-01, -1.06921375e-01, -1.90812781e-01,\n",
       "          7.78024495e-02,  1.08841181e-01],\n",
       "        [-1.66922569e-01,  1.43215805e-01, -1.46126360e-01,\n",
       "         -1.73302084e-01,  9.55305099e-02],\n",
       "        [ 7.61473179e-02, -1.60273239e-01, -1.26613781e-01,\n",
       "         -5.79861850e-02,  2.30492055e-02],\n",
       "        [-2.31107771e-02, -1.21819071e-01, -1.12633973e-01,\n",
       "          1.94405168e-01,  1.04175448e-01],\n",
       "        [ 1.34454340e-01,  2.12300420e-01,  7.10475445e-02,\n",
       "         -6.48448169e-02, -1.62952125e-01],\n",
       "        [-3.28776836e-02,  1.79875195e-02,  1.39244556e-01,\n",
       "         -1.68561608e-01, -5.39709777e-02],\n",
       "        [ 1.52139753e-01, -5.65177947e-02,  4.11342680e-02,\n",
       "          1.15328461e-01, -8.93048346e-02],\n",
       "        [ 1.78965151e-01, -7.93338567e-02, -8.65686834e-02,\n",
       "         -1.58314437e-01,  1.52486145e-01],\n",
       "        [ 2.50908881e-02,  8.25839043e-02, -5.56204170e-02,\n",
       "          1.96302027e-01, -1.51588470e-02],\n",
       "        [-6.40464872e-02, -1.56187028e-01, -1.08102441e-01,\n",
       "          1.37215585e-01,  6.64327145e-02],\n",
       "        [-7.73518234e-02, -2.06578761e-01,  2.06841618e-01,\n",
       "         -5.19292504e-02, -1.81337968e-01],\n",
       "        [-3.38272750e-03,  4.93741333e-02, -1.83375210e-01,\n",
       "         -9.28183571e-02, -3.09258848e-02],\n",
       "        [ 1.61561608e-01,  1.09206676e-01, -1.82529479e-01,\n",
       "          8.06206167e-02, -1.33480817e-01],\n",
       "        [-8.87608603e-02,  1.74494684e-01,  9.74793732e-02,\n",
       "          8.30331147e-02, -5.50118834e-02],\n",
       "        [-7.51909763e-02,  2.06872314e-01, -1.60577729e-01,\n",
       "         -1.72622293e-01,  1.51454210e-01],\n",
       "        [-8.54595155e-02,  3.67405713e-02, -4.61615622e-03,\n",
       "          1.47097260e-02, -3.11877429e-02],\n",
       "        [ 1.60183012e-02,  1.06212169e-01,  2.12043524e-03,\n",
       "          4.49533463e-02,  6.42021000e-02],\n",
       "        [ 8.58573020e-02,  2.43838578e-02,  1.28497154e-01,\n",
       "          1.29859269e-01, -7.81727433e-02],\n",
       "        [-2.56002694e-02,  2.14494020e-02,  1.80286735e-01,\n",
       "          6.65420592e-02, -1.67351529e-01],\n",
       "        [-1.39978409e-01,  1.18399590e-01,  1.03046745e-01,\n",
       "          9.59365368e-02, -1.92660272e-01],\n",
       "        [ 6.18698299e-02, -1.93332911e-01, -9.75847542e-02,\n",
       "          1.76585495e-01, -1.62244782e-01],\n",
       "        [ 2.50630826e-02, -2.04302251e-01,  4.18063998e-02,\n",
       "          4.87334430e-02, -1.99238494e-01],\n",
       "        [ 5.75817227e-02, -1.22349709e-02,  1.56295508e-01,\n",
       "          1.39723748e-01, -4.34850007e-02],\n",
       "        [-3.83352041e-02,  2.09636211e-01, -2.19753385e-02,\n",
       "          2.09686905e-01, -1.21759929e-01],\n",
       "        [ 6.43558502e-02, -1.44167721e-01,  2.03365684e-01,\n",
       "          7.97587633e-02,  1.29103005e-01],\n",
       "        [-1.43057257e-01, -1.47039041e-01, -4.81779128e-02,\n",
       "          1.58019364e-01,  9.72609520e-02],\n",
       "        [-2.98047662e-02, -9.32196751e-02,  1.09468251e-01,\n",
       "         -1.54397875e-01,  1.60485476e-01],\n",
       "        [ 5.70961535e-02, -5.59586883e-02, -4.90178317e-02,\n",
       "          1.41435266e-01, -1.52079448e-01],\n",
       "        [ 1.44950122e-01, -1.33811429e-01,  2.05561519e-01,\n",
       "          5.62071204e-02, -3.62664759e-02],\n",
       "        [ 1.11992717e-01, -1.69309348e-01, -1.55255198e-04,\n",
       "          6.49399757e-02,  1.60953164e-01],\n",
       "        [-9.41817760e-02, -2.01171815e-01, -3.58901769e-02,\n",
       "          1.34974718e-02, -1.78296253e-01],\n",
       "        [-1.88035205e-01,  1.38540089e-01,  7.83491135e-02,\n",
       "         -1.68780625e-01, -8.78870487e-03],\n",
       "        [ 1.57917798e-01, -1.57723635e-01, -1.23852193e-02,\n",
       "         -4.05526161e-02, -1.73332214e-01],\n",
       "        [ 4.22732830e-02, -2.06599161e-01, -1.47535965e-01,\n",
       "          1.37727737e-01, -1.80028677e-02],\n",
       "        [-2.57633626e-03,  1.00438446e-02,  5.58533072e-02,\n",
       "          2.73454189e-03,  3.34993303e-02],\n",
       "        [-1.79554656e-01,  1.24258637e-01,  1.68103576e-01,\n",
       "          1.45907491e-01,  1.41590834e-04],\n",
       "        [-2.04340935e-01, -1.91936523e-01, -2.13153511e-02,\n",
       "         -1.67871043e-01,  2.60728598e-03],\n",
       "        [ 6.63465858e-02,  8.61002505e-02,  8.84845853e-02,\n",
       "         -1.92537621e-01, -9.32828262e-02],\n",
       "        [ 1.51294589e-01, -7.67308325e-02, -1.65989280e-01,\n",
       "          1.82747185e-01, -1.72227964e-01],\n",
       "        [-7.36859739e-02, -1.50126785e-01,  2.86003649e-02,\n",
       "          1.88910007e-01,  1.00605667e-01],\n",
       "        [-1.88212097e-01, -6.43026829e-03, -3.77452374e-03,\n",
       "         -1.83748662e-01,  1.40653849e-01],\n",
       "        [ 9.14223194e-02,  1.48313195e-01, -1.06823534e-01,\n",
       "          2.09566802e-01,  1.52472973e-01],\n",
       "        [ 1.31375074e-01, -2.06357718e-01,  1.97972000e-01,\n",
       "         -1.02384679e-01,  9.31551754e-02],\n",
       "        [ 5.69428205e-02, -7.52480477e-02, -2.06092104e-01,\n",
       "         -6.15235120e-02,  1.51000172e-01],\n",
       "        [ 3.42749208e-02, -1.40339285e-01, -7.06979334e-02,\n",
       "         -1.78481951e-01, -1.65130883e-01],\n",
       "        [ 2.06284702e-01, -5.86386323e-02, -1.89391330e-01,\n",
       "         -2.09554896e-01,  1.30140424e-01],\n",
       "        [-1.29714996e-01, -1.03438839e-01, -7.60090053e-02,\n",
       "         -6.72942996e-02, -1.41573250e-01],\n",
       "        [-1.33535802e-01,  4.18426991e-02, -5.77167869e-02,\n",
       "          1.56988591e-01,  1.65369451e-01],\n",
       "        [-7.80546963e-02, -1.28248870e-01, -1.67796999e-01,\n",
       "          9.42807794e-02, -2.27435976e-02],\n",
       "        [ 6.06059134e-02, -9.78761315e-02, -2.04240218e-01,\n",
       "         -1.11464046e-01,  5.48350811e-02],\n",
       "        [ 1.45518184e-01,  1.29892290e-01,  1.51456952e-01,\n",
       "          2.86598057e-02,  1.20356768e-01],\n",
       "        [-1.58534974e-01,  1.24291241e-01, -1.99607253e-01,\n",
       "         -9.03071910e-02, -1.13617897e-01],\n",
       "        [ 1.59534037e-01,  1.97399825e-01, -1.30427539e-01,\n",
       "         -1.05895109e-01, -1.43119991e-01],\n",
       "        [-1.19910620e-01,  9.51577127e-02,  1.90025955e-01,\n",
       "         -1.64043143e-01,  5.83336949e-02],\n",
       "        [ 1.84657663e-01,  1.48063451e-02, -6.74577057e-02,\n",
       "         -2.05822602e-01,  5.08791804e-02],\n",
       "        [ 1.09320164e-01, -8.14094245e-02,  2.06218660e-01,\n",
       "         -1.44342124e-01, -5.06715626e-02],\n",
       "        [ 1.19667143e-01,  7.53963888e-02, -1.81642875e-01,\n",
       "         -1.29530877e-02, -2.08247602e-02],\n",
       "        [-2.11051106e-03,  3.76044214e-02,  4.52541411e-02,\n",
       "          4.07069027e-02,  1.43053561e-01],\n",
       "        [ 7.18546808e-02,  1.70755684e-01,  3.98975909e-02,\n",
       "         -6.75744861e-02,  7.36729503e-02],\n",
       "        [ 9.98723507e-03, -1.60230443e-01, -6.78150803e-02,\n",
       "         -1.29450917e-01, -2.01739028e-01],\n",
       "        [-4.02486175e-02, -1.98538363e-01,  1.23677105e-01,\n",
       "         -1.78366095e-01, -1.91687480e-01],\n",
       "        [-1.76072121e-01, -1.37403905e-01,  9.93148685e-02,\n",
       "         -8.91886652e-02,  9.31408405e-02],\n",
       "        [ 9.91104245e-02, -1.81503892e-02, -1.02544948e-01,\n",
       "         -1.99755535e-01, -1.16202846e-01],\n",
       "        [ 1.29683852e-01,  6.76055849e-02, -1.34900331e-01,\n",
       "         -1.82029054e-01, -1.53863430e-03],\n",
       "        [-4.40226346e-02,  2.57711262e-02,  1.04753643e-01,\n",
       "          2.39090621e-02,  8.68274570e-02],\n",
       "        [-1.46412671e-01,  3.13342959e-02,  2.29376405e-02,\n",
       "          1.99839741e-01, -1.76238209e-01],\n",
       "        [-1.08492568e-01, -9.84927714e-02, -1.37334883e-01,\n",
       "          1.06789291e-01,  7.72899389e-02],\n",
       "        [-9.39366817e-02, -2.26285458e-02,  1.09668523e-02,\n",
       "         -1.14802912e-01,  4.64203656e-02],\n",
       "        [-4.13503349e-02,  9.66427028e-02,  1.01947665e-01,\n",
       "         -1.96478590e-01, -4.46791798e-02],\n",
       "        [ 2.09196776e-01, -1.91464365e-01, -7.81124830e-03,\n",
       "         -9.03373733e-02,  1.22078955e-01],\n",
       "        [ 6.70488477e-02,  1.97897851e-02, -4.76993173e-02,\n",
       "          1.21209621e-01,  6.47020042e-02],\n",
       "        [-2.30454057e-02, -1.64288491e-01,  6.81066513e-02,\n",
       "          9.96145904e-02, -1.89099401e-01],\n",
       "        [-1.44199982e-01, -2.06652939e-01,  1.48848176e-01,\n",
       "          3.37722749e-02,  1.59262866e-01],\n",
       "        [ 3.28578353e-02,  1.94561899e-01,  1.75969660e-01,\n",
       "          1.67523146e-01, -1.24470003e-01],\n",
       "        [-1.92216516e-01, -2.15851068e-02, -7.02909380e-02,\n",
       "          1.99048549e-01,  4.36812639e-02],\n",
       "        [ 1.94325954e-01,  5.94793856e-02,  9.45481956e-02,\n",
       "          1.32601500e-01,  1.78595424e-01],\n",
       "        [ 2.08023250e-01,  1.30632699e-01, -4.83394563e-02,\n",
       "         -8.12284350e-02, -2.03665867e-01],\n",
       "        [ 5.88437319e-02, -2.26183534e-02, -8.11707079e-02,\n",
       "         -1.24490358e-01,  6.86954856e-02],\n",
       "        [ 1.85469508e-01, -9.14475471e-02,  1.79608643e-01,\n",
       "         -1.36016995e-01,  2.09270358e-01],\n",
       "        [ 1.84685349e-01,  3.58517468e-03, -1.39444619e-02,\n",
       "          1.69163406e-01, -1.20110750e-01],\n",
       "        [-1.71506464e-01,  1.55656278e-01,  1.55812293e-01,\n",
       "          2.90330797e-02, -1.93814605e-01],\n",
       "        [-1.15456365e-01,  7.66656995e-02,  1.34596080e-01,\n",
       "         -1.38626039e-01,  1.32034600e-01],\n",
       "        [-7.27937520e-02,  1.02934778e-01, -5.66252023e-02,\n",
       "         -4.62536514e-03,  1.62516654e-01],\n",
       "        [-7.37716109e-02,  1.67252064e-01,  3.58675867e-02,\n",
       "         -2.95077264e-02, -1.43152803e-01],\n",
       "        [-1.59766376e-01, -8.09546262e-02,  2.05114454e-01,\n",
       "         -1.68851018e-01,  1.59946501e-01],\n",
       "        [-1.88878208e-01, -1.83270782e-01, -6.34753108e-02,\n",
       "          1.82796806e-01,  1.54168546e-01],\n",
       "        [ 1.23532832e-01,  1.26394957e-01, -3.98994088e-02,\n",
       "          1.17331505e-01,  2.05963790e-01],\n",
       "        [ 4.33546007e-02,  2.06448495e-01, -1.25041276e-01,\n",
       "          1.86313808e-01,  1.06326401e-01],\n",
       "        [-1.21400893e-01,  6.04122281e-02, -1.66481584e-02,\n",
       "         -2.71324664e-02,  1.68942332e-01],\n",
       "        [-1.76565140e-01, -1.90931380e-01,  8.21498036e-02,\n",
       "         -1.76128894e-02, -1.81917101e-02],\n",
       "        [ 1.07134908e-01,  2.98424065e-03, -5.84647804e-02,\n",
       "          1.99111760e-01,  7.34393597e-02],\n",
       "        [-1.25198394e-01,  1.24441594e-01,  1.30148768e-01,\n",
       "         -2.46871412e-02,  2.00472623e-01],\n",
       "        [-2.26715803e-02,  1.43324018e-01,  1.17698371e-01,\n",
       "         -1.11548662e-01,  1.61296517e-01],\n",
       "        [-2.83522755e-02,  1.18846267e-01,  3.52882743e-02,\n",
       "          6.67462647e-02, -4.47979271e-02],\n",
       "        [ 1.25884116e-01,  3.71112972e-02,  1.74255162e-01,\n",
       "          2.05785751e-01, -1.46920979e-03],\n",
       "        [ 1.18888110e-01, -2.55557597e-02,  1.06894970e-02,\n",
       "         -1.66141242e-01,  1.31226838e-01],\n",
       "        [ 1.05154753e-01,  2.94547975e-02, -1.25200540e-01,\n",
       "          3.59158069e-02, -1.34148180e-01],\n",
       "        [-1.87882930e-01,  1.23851836e-01, -1.89688638e-01,\n",
       "          7.99603164e-02, -1.18436046e-01],\n",
       "        [ 1.47118807e-01,  1.05473578e-01, -1.06615916e-01,\n",
       "         -1.41416639e-01, -2.75956243e-02],\n",
       "        [-2.07931995e-01, -1.24432683e-01, -1.60118937e-01,\n",
       "          1.86981082e-01,  1.22835100e-01],\n",
       "        [-4.08142805e-05,  6.16326034e-02, -1.92284673e-01,\n",
       "         -6.98507875e-02, -9.14843380e-03],\n",
       "        [-1.38039127e-01,  1.92490160e-01, -2.05228344e-01,\n",
       "         -7.11995661e-02, -2.68135965e-03],\n",
       "        [-1.98884383e-01, -2.08555728e-01, -7.86867291e-02,\n",
       "          1.11145109e-01,  1.26373380e-01],\n",
       "        [ 1.15719855e-01,  1.82726145e-01,  1.42985106e-01,\n",
       "         -9.88873020e-02,  5.38557768e-02],\n",
       "        [-1.33953780e-01, -1.25274613e-01,  1.51042193e-01,\n",
       "          2.78957039e-02,  1.72066987e-01],\n",
       "        [ 1.50534749e-01, -5.16613126e-02, -1.16836950e-01,\n",
       "          7.12470114e-02,  1.63146585e-01],\n",
       "        [ 5.61059415e-02, -1.61911011e-01,  7.95986950e-02,\n",
       "         -1.84596777e-01, -7.18505979e-02],\n",
       "        [ 6.36132061e-02, -1.21295057e-01,  1.84410632e-01,\n",
       "         -1.27065897e-01,  6.06336296e-02],\n",
       "        [ 1.12381876e-01,  8.09837878e-03, -1.72639310e-01,\n",
       "         -7.81333894e-02,  2.01211870e-01],\n",
       "        [ 5.04910350e-02, -1.91121385e-01, -2.09298611e-01,\n",
       "         -9.88665447e-02, -1.83143064e-01],\n",
       "        [ 1.14736259e-01,  1.45898491e-01,  1.98207825e-01,\n",
       "         -1.20529540e-01,  3.24624330e-02],\n",
       "        [-1.59344614e-01, -4.29343432e-02,  2.70467848e-02,\n",
       "          1.47493422e-01, -1.46533355e-01],\n",
       "        [-1.09082110e-01, -4.80411947e-03, -1.83777034e-01,\n",
       "          1.36847109e-01, -3.34525108e-03],\n",
       "        [ 1.55978203e-01, -4.43667322e-02,  1.58853352e-01,\n",
       "          3.46590281e-02,  7.91677833e-03],\n",
       "        [-2.04028338e-01,  4.42883968e-02,  1.58305228e-01,\n",
       "         -7.65873194e-02, -4.66585755e-02],\n",
       "        [ 5.97161949e-02,  3.24123502e-02, -6.31478876e-02,\n",
       "         -1.00600995e-01, -2.05737352e-02],\n",
       "        [ 6.70734048e-02, -1.10555828e-01, -1.29204199e-01,\n",
       "          4.05189991e-02,  3.78820300e-02],\n",
       "        [ 1.08580828e-01,  1.70646697e-01,  1.49401426e-01,\n",
       "         -1.78831115e-01,  5.71689606e-02],\n",
       "        [-1.76737070e-01, -2.12744325e-02,  1.83281362e-01,\n",
       "          1.49520338e-02, -7.08553195e-02],\n",
       "        [-6.94915503e-02, -1.77917212e-01,  8.72783363e-02,\n",
       "          1.07446849e-01,  8.23512077e-02],\n",
       "        [-1.26360580e-01, -1.82468295e-01, -4.04832810e-02,\n",
       "          7.98766017e-02,  2.00668871e-01]], dtype=float32),\n",
       " array([[-0.4690554 ,  0.02319052, -0.24824777, -0.8213987 ,  0.20766962],\n",
       "        [ 0.8004691 ,  0.10077891, -0.5132663 , -0.2715325 ,  0.10918168],\n",
       "        [-0.08515009,  0.5410457 , -0.14870109, -0.097847  , -0.8175164 ],\n",
       "        [ 0.31397662,  0.3621569 ,  0.78426576, -0.37838235,  0.10961332],\n",
       "        [ 0.18276851, -0.75194275,  0.19428322, -0.31436804, -0.51439726]],\n",
       "       dtype=float32),\n",
       " array([0., 0., 0., 0., 0.], dtype=float32),\n",
       " array([[-0.01453166, -0.00314514, -0.01206011,  0.00786151, -0.00231855],\n",
       "        [ 0.0045036 , -0.01521811,  0.01021476,  0.01258819,  0.01211184],\n",
       "        [-0.00563412, -0.00865075, -0.01205691, -0.01215119, -0.01483907],\n",
       "        ...,\n",
       "        [-0.0066618 ,  0.01207409, -0.00967036, -0.01079118,  0.0013488 ],\n",
       "        [-0.01252127, -0.00084595,  0.00343155, -0.01299428,  0.00261155],\n",
       "        [-0.00488873, -0.00223837,  0.00811211, -0.01041571,  0.00459214]],\n",
       "       dtype=float32),\n",
       " array([0., 0., 0., 0., 0.], dtype=float32)]"
      ]
     },
     "execution_count": 48,
     "metadata": {},
     "output_type": "execute_result"
    }
   ],
   "source": [
    "wights = model.get_weights()\n",
    "wights"
   ]
  },
  {
   "cell_type": "code",
   "execution_count": 49,
   "metadata": {
    "scrolled": true
   },
   "outputs": [
    {
     "data": {
      "image/png": "[encoded data removed]",
      "text/plain": [
       "<IPython.core.display.Image object>"
      ]
     },
     "execution_count": 49,
     "metadata": {},
     "output_type": "execute_result"
    }
   ],
   "source": [
    "from tensorflow.keras.utils import plot_model\n",
    "plot_model(model, show_shapes=True)"
   ]
  },
  {
   "cell_type": "code",
   "execution_count": 50,
   "metadata": {
    "scrolled": true
   },
   "outputs": [
    {
     "name": "stdout",
     "output_type": "stream",
     "text": [
      "Epoch 1/200\n",
      "5/5 - 48s - loss: 1.3669 - sparse_categorical_accuracy: 0.4589\n",
      "Epoch 2/200\n",
      "5/5 - 44s - loss: 0.4832 - sparse_categorical_accuracy: 0.7877\n",
      "Epoch 3/200\n",
      "5/5 - 45s - loss: 0.2908 - sparse_categorical_accuracy: 0.9452\n",
      "Epoch 4/200\n",
      "5/5 - 44s - loss: 0.1917 - sparse_categorical_accuracy: 0.9521\n",
      "Epoch 5/200\n",
      "5/5 - 44s - loss: 0.1469 - sparse_categorical_accuracy: 0.9726\n",
      "Epoch 6/200\n",
      "5/5 - 44s - loss: 0.1246 - sparse_categorical_accuracy: 0.9589\n",
      "Epoch 7/200\n",
      "5/5 - 45s - loss: 0.1075 - sparse_categorical_accuracy: 0.9795\n",
      "Epoch 8/200\n",
      "5/5 - 45s - loss: 0.0985 - sparse_categorical_accuracy: 0.9726\n",
      "Epoch 9/200\n",
      "5/5 - 46s - loss: 0.0810 - sparse_categorical_accuracy: 0.9795\n",
      "Epoch 10/200\n",
      "5/5 - 48s - loss: 0.0754 - sparse_categorical_accuracy: 0.9795\n",
      "Epoch 11/200\n",
      "5/5 - 45s - loss: 0.0700 - sparse_categorical_accuracy: 0.9726\n",
      "Epoch 12/200\n",
      "5/5 - 46s - loss: 0.0608 - sparse_categorical_accuracy: 0.9795\n",
      "Epoch 13/200\n",
      "5/5 - 47s - loss: 0.0559 - sparse_categorical_accuracy: 0.9795\n",
      "Epoch 14/200\n",
      "5/5 - 48s - loss: 0.0486 - sparse_categorical_accuracy: 0.9795\n",
      "Epoch 15/200\n",
      "5/5 - 49s - loss: 0.0461 - sparse_categorical_accuracy: 0.9795\n",
      "Epoch 16/200\n",
      "5/5 - 45s - loss: 0.0436 - sparse_categorical_accuracy: 0.9795\n",
      "Epoch 17/200\n",
      "5/5 - 46s - loss: 2.2606 - sparse_categorical_accuracy: 0.8356\n",
      "Epoch 18/200\n",
      "5/5 - 46s - loss: 0.0439 - sparse_categorical_accuracy: 0.9795\n",
      "Epoch 19/200\n",
      "5/5 - 49s - loss: 0.0412 - sparse_categorical_accuracy: 0.9795\n",
      "Epoch 20/200\n",
      "5/5 - 48s - loss: 0.0390 - sparse_categorical_accuracy: 0.9863\n",
      "Epoch 21/200\n",
      "5/5 - 46s - loss: 0.0381 - sparse_categorical_accuracy: 0.9863\n",
      "Epoch 22/200\n",
      "5/5 - 45s - loss: 0.0384 - sparse_categorical_accuracy: 0.9863\n",
      "Epoch 23/200\n",
      "5/5 - 45s - loss: 0.0357 - sparse_categorical_accuracy: 0.9863\n",
      "Epoch 24/200\n",
      "5/5 - 45s - loss: 0.0343 - sparse_categorical_accuracy: 0.9863\n",
      "Epoch 25/200\n",
      "5/5 - 46s - loss: 0.0334 - sparse_categorical_accuracy: 0.9863\n",
      "Epoch 26/200\n",
      "5/5 - 44s - loss: 0.0328 - sparse_categorical_accuracy: 0.9863\n",
      "Epoch 27/200\n",
      "5/5 - 30s - loss: 0.0332 - sparse_categorical_accuracy: 0.9795\n",
      "Epoch 28/200\n",
      "5/5 - 31s - loss: 0.0308 - sparse_categorical_accuracy: 0.9863\n",
      "Epoch 29/200\n",
      "5/5 - 30s - loss: 0.0280 - sparse_categorical_accuracy: 0.9932\n",
      "Epoch 30/200\n",
      "5/5 - 32s - loss: 0.0295 - sparse_categorical_accuracy: 0.9932\n",
      "Epoch 31/200\n",
      "5/5 - 29s - loss: 0.0248 - sparse_categorical_accuracy: 1.0000\n",
      "Epoch 32/200\n",
      "5/5 - 30s - loss: 0.0245 - sparse_categorical_accuracy: 0.9932\n",
      "Epoch 33/200\n",
      "5/5 - 30s - loss: 0.0228 - sparse_categorical_accuracy: 0.9932\n",
      "Epoch 34/200\n",
      "5/5 - 30s - loss: 0.0202 - sparse_categorical_accuracy: 1.0000\n",
      "Epoch 35/200\n",
      "5/5 - 29s - loss: 0.0231 - sparse_categorical_accuracy: 1.0000\n",
      "Epoch 36/200\n",
      "5/5 - 32s - loss: 0.0177 - sparse_categorical_accuracy: 0.9932\n",
      "Epoch 37/200\n",
      "5/5 - 31s - loss: 0.0208 - sparse_categorical_accuracy: 1.0000\n",
      "Epoch 38/200\n",
      "5/5 - 31s - loss: 0.0149 - sparse_categorical_accuracy: 1.0000\n",
      "Epoch 39/200\n",
      "5/5 - 30s - loss: 0.0122 - sparse_categorical_accuracy: 1.0000\n",
      "Epoch 40/200\n",
      "5/5 - 30s - loss: 0.0115 - sparse_categorical_accuracy: 1.0000\n",
      "Epoch 41/200\n",
      "5/5 - 30s - loss: 0.0080 - sparse_categorical_accuracy: 1.0000\n",
      "Epoch 42/200\n",
      "5/5 - 32s - loss: 5.5155 - sparse_categorical_accuracy: 0.8425\n",
      "Epoch 43/200\n",
      "5/5 - 32s - loss: 0.0147 - sparse_categorical_accuracy: 1.0000\n",
      "Epoch 44/200\n",
      "5/5 - 32s - loss: 0.0129 - sparse_categorical_accuracy: 1.0000\n",
      "Epoch 45/200\n",
      "5/5 - 32s - loss: 0.0115 - sparse_categorical_accuracy: 1.0000\n",
      "Epoch 46/200\n",
      "5/5 - 32s - loss: 0.0103 - sparse_categorical_accuracy: 1.0000\n",
      "Epoch 47/200\n",
      "5/5 - 32s - loss: 0.0098 - sparse_categorical_accuracy: 1.0000\n",
      "Epoch 48/200\n",
      "5/5 - 32s - loss: 0.0084 - sparse_categorical_accuracy: 1.0000\n",
      "Epoch 49/200\n",
      "5/5 - 31s - loss: 0.0088 - sparse_categorical_accuracy: 1.0000\n",
      "Epoch 50/200\n",
      "5/5 - 31s - loss: 0.0088 - sparse_categorical_accuracy: 1.0000\n",
      "Epoch 51/200\n",
      "5/5 - 33s - loss: 0.0077 - sparse_categorical_accuracy: 1.0000\n",
      "Epoch 52/200\n",
      "5/5 - 33s - loss: 0.0080 - sparse_categorical_accuracy: 1.0000\n",
      "Epoch 53/200\n",
      "5/5 - 35s - loss: 0.0068 - sparse_categorical_accuracy: 1.0000\n",
      "Epoch 54/200\n",
      "5/5 - 35s - loss: 0.0091 - sparse_categorical_accuracy: 1.0000\n",
      "Epoch 55/200\n",
      "5/5 - 34s - loss: 0.0052 - sparse_categorical_accuracy: 1.0000\n",
      "Epoch 56/200\n",
      "5/5 - 35s - loss: 0.0057 - sparse_categorical_accuracy: 1.0000\n",
      "Epoch 57/200\n",
      "5/5 - 34s - loss: 0.0039 - sparse_categorical_accuracy: 1.0000\n",
      "Epoch 58/200\n",
      "5/5 - 36s - loss: 0.0043 - sparse_categorical_accuracy: 1.0000\n",
      "Epoch 59/200\n",
      "5/5 - 34s - loss: 0.0044 - sparse_categorical_accuracy: 1.0000\n",
      "Epoch 60/200\n",
      "5/5 - 33s - loss: 0.0060 - sparse_categorical_accuracy: 1.0000\n",
      "Epoch 61/200\n",
      "5/5 - 35s - loss: 0.0039 - sparse_categorical_accuracy: 1.0000\n",
      "Epoch 62/200\n",
      "5/5 - 35s - loss: 0.0028 - sparse_categorical_accuracy: 1.0000\n",
      "Epoch 63/200\n",
      "5/5 - 35s - loss: 0.0033 - sparse_categorical_accuracy: 1.0000\n",
      "Epoch 64/200\n",
      "5/5 - 35s - loss: 0.0029 - sparse_categorical_accuracy: 1.0000\n",
      "Epoch 65/200\n",
      "5/5 - 34s - loss: 0.0017 - sparse_categorical_accuracy: 1.0000\n",
      "Epoch 66/200\n",
      "5/5 - 33s - loss: 0.0013 - sparse_categorical_accuracy: 1.0000\n",
      "Epoch 67/200\n",
      "5/5 - 34s - loss: 0.0012 - sparse_categorical_accuracy: 1.0000\n",
      "Epoch 68/200\n",
      "5/5 - 35s - loss: 7.7390e-04 - sparse_categorical_accuracy: 1.0000\n",
      "Epoch 69/200\n",
      "5/5 - 33s - loss: 0.0013 - sparse_categorical_accuracy: 1.0000\n",
      "Epoch 70/200\n",
      "5/5 - 33s - loss: 0.0052 - sparse_categorical_accuracy: 1.0000\n",
      "Epoch 71/200\n",
      "5/5 - 35s - loss: 4.6914e-04 - sparse_categorical_accuracy: 1.0000\n",
      "Epoch 72/200\n",
      "5/5 - 34s - loss: 3.6791e-04 - sparse_categorical_accuracy: 1.0000\n",
      "Epoch 73/200\n",
      "5/5 - 35s - loss: 2.7083e-04 - sparse_categorical_accuracy: 1.0000\n",
      "Epoch 74/200\n",
      "5/5 - 34s - loss: 3.5533e-04 - sparse_categorical_accuracy: 1.0000\n",
      "Epoch 75/200\n",
      "5/5 - 33s - loss: 4.0864e-04 - sparse_categorical_accuracy: 1.0000\n",
      "Epoch 76/200\n",
      "5/5 - 34s - loss: 1.7887e-04 - sparse_categorical_accuracy: 1.0000\n",
      "Epoch 77/200\n",
      "5/5 - 35s - loss: 1.6965e-04 - sparse_categorical_accuracy: 1.0000\n",
      "Epoch 78/200\n",
      "5/5 - 36s - loss: 1.1255e-04 - sparse_categorical_accuracy: 1.0000\n",
      "Epoch 79/200\n",
      "5/5 - 47s - loss: 6.0767e-05 - sparse_categorical_accuracy: 1.0000\n",
      "Epoch 80/200\n",
      "5/5 - 45s - loss: 3.2877e-05 - sparse_categorical_accuracy: 1.0000\n",
      "Epoch 81/200\n",
      "5/5 - 44s - loss: 1.8368 - sparse_categorical_accuracy: 0.9521\n",
      "Epoch 82/200\n",
      "5/5 - 38s - loss: 0.6818 - sparse_categorical_accuracy: 0.9795\n",
      "Epoch 83/200\n",
      "5/5 - 42s - loss: 0.0026 - sparse_categorical_accuracy: 1.0000\n",
      "Epoch 84/200\n",
      "5/5 - 42s - loss: 0.0014 - sparse_categorical_accuracy: 1.0000\n",
      "Epoch 85/200\n",
      "5/5 - 39s - loss: 8.0275e-04 - sparse_categorical_accuracy: 1.0000\n",
      "Epoch 86/200\n",
      "5/5 - 40s - loss: 6.1169e-04 - sparse_categorical_accuracy: 1.0000\n",
      "Epoch 87/200\n",
      "5/5 - 44s - loss: 3.8210e-04 - sparse_categorical_accuracy: 1.0000\n",
      "Epoch 88/200\n",
      "5/5 - 41s - loss: 2.9244e-04 - sparse_categorical_accuracy: 1.0000\n",
      "Epoch 89/200\n",
      "5/5 - 40s - loss: 2.1701e-04 - sparse_categorical_accuracy: 1.0000\n",
      "Epoch 90/200\n",
      "5/5 - 40s - loss: 1.8420e-04 - sparse_categorical_accuracy: 1.0000\n",
      "Epoch 00090: early stopping\n"
     ]
    }
   ],
   "source": [
    "mod = model.fit(X_train,\n",
    "               Y_train, epochs=200, batch_size= 32, verbose=2 , \n",
    "                callbacks=[callback, print_weights, model_check])"
   ]
  },
  {
   "cell_type": "code",
   "execution_count": 51,
   "metadata": {},
   "outputs": [
    {
     "data": {
      "text/plain": [
       "90"
      ]
     },
     "execution_count": 51,
     "metadata": {},
     "output_type": "execute_result"
    }
   ],
   "source": [
    "len(wie_by_epoch)"
   ]
  },
  {
   "cell_type": "code",
   "execution_count": 52,
   "metadata": {},
   "outputs": [],
   "source": [
    "#120 +21\n",
    "#model.set_weights(wie_by_epoch[88])\n",
    "#mod.history.get('sparse_categorical_accuracy')"
   ]
  },
  {
   "cell_type": "code",
   "execution_count": 53,
   "metadata": {},
   "outputs": [
    {
     "name": "stdout",
     "output_type": "stream",
     "text": [
      "2/2 - 3s - loss: 0.3406 - sparse_categorical_accuracy: 0.9730\n"
     ]
    },
    {
     "data": {
      "text/plain": [
       "[0.3405572474002838, 0.9729729890823364]"
      ]
     },
     "execution_count": 53,
     "metadata": {},
     "output_type": "execute_result"
    }
   ],
   "source": [
    "scores = model.evaluate(X_test,Y_test, verbose=2)\n",
    "scores"
   ]
  },
  {
   "cell_type": "code",
   "execution_count": 54,
   "metadata": {},
   "outputs": [
    {
     "data": {
      "text/plain": [
       "{'loss': 0.3405572474002838, 'sparse_categorical_accuracy': 0.9729729890823364}"
      ]
     },
     "execution_count": 54,
     "metadata": {},
     "output_type": "execute_result"
    }
   ],
   "source": [
    "dict(zip(model.metrics_names, scores))"
   ]
  },
  {
   "cell_type": "code",
   "execution_count": 55,
   "metadata": {},
   "outputs": [
    {
     "data": {
      "image/png": "[encoded data removed]",
      "text/plain": [
       "<Figure size 432x288 with 2 Axes>"
      ]
     },
     "metadata": {
      "needs_background": "light"
     },
     "output_type": "display_data"
    }
   ],
   "source": [
    "from matplotlib import pyplot\n",
    "# plot loss during training\n",
    "pyplot.subplot(211)\n",
    "pyplot.title('Loss')\n",
    "pyplot.plot(mod.history['loss'], label='train')\n",
    "#pyplot.plot(mod.history['val_loss'], label='test')\n",
    "pyplot.legend()\n",
    "# plot accuracy during training\n",
    "pyplot.subplot(212)\n",
    "pyplot.title('Accuracy')\n",
    "pyplot.plot(mod.history['sparse_categorical_accuracy'], label='train')\n",
    "#pyplot.plot(mod.history['val_accuracy'], label='test')\n",
    "pyplot.legend()\n",
    "pyplot.show()"
   ]
  },
  {
   "cell_type": "code",
   "execution_count": 56,
   "metadata": {},
   "outputs": [],
   "source": [
    "# predict probabilities for test set\n",
    "yhat_probs = model.predict(X_test.astype('float32'), verbose=0)\n",
    "# predict crisp classes for test set\n",
    "#yhat_classes = model.predict_classes(X_test, verbose=0)\n",
    "yhat_classes = np.argmax(yhat_probs,axis=1)"
   ]
  },
  {
   "cell_type": "code",
   "execution_count": 57,
   "metadata": {},
   "outputs": [],
   "source": [
    "from sklearn.datasets import make_circles\n",
    "from sklearn.metrics import accuracy_score\n",
    "from sklearn.metrics import precision_score\n",
    "from sklearn.metrics import recall_score\n",
    "from sklearn.metrics import f1_score\n",
    "from sklearn.metrics import cohen_kappa_score\n",
    "from sklearn.metrics import roc_auc_score\n",
    "from sklearn.metrics import confusion_matrix\n",
    "from sklearn.metrics import roc_curve\n"
   ]
  },
  {
   "cell_type": "code",
   "execution_count": 58,
   "metadata": {},
   "outputs": [
    {
     "name": "stdout",
     "output_type": "stream",
     "text": [
      "Accuracy: 0.972973\n",
      "Precision: 0.958333\n",
      "Recall: 0.916667\n",
      "F1 score: 0.927273\n"
     ]
    }
   ],
   "source": [
    "# accuracy: (tp + tn) / (p + n)\n",
    "accuracy = accuracy_score(Y_test, yhat_classes)\n",
    "print('Accuracy: %f' % accuracy)\n",
    "# precision tp / (tp + fp)\n",
    "precision = precision_score(Y_test, yhat_classes, average='macro')\n",
    "print('Precision: %f' % precision)\n",
    "# recall: tp / (tp + fn)\n",
    "recall = recall_score(Y_test, yhat_classes,average='macro')\n",
    "print('Recall: %f' % recall)\n",
    "# f1: 2 tp / (2 tp + fp + fn)\n",
    "f1 = f1_score(Y_test, yhat_classes, average='macro')\n",
    "print('F1 score: %f' % f1)"
   ]
  },
  {
   "cell_type": "code",
   "execution_count": 59,
   "metadata": {},
   "outputs": [
    {
     "name": "stdout",
     "output_type": "stream",
     "text": [
      "Cohens kappa: 0.953750\n",
      "[[22  0  0  0]\n",
      " [ 0  5  0  0]\n",
      " [ 0  1  2  0]\n",
      " [ 0  0  0  7]]\n"
     ]
    }
   ],
   "source": [
    "# kappa\n",
    "kappa = cohen_kappa_score(Y_test, yhat_classes)\n",
    "print('Cohens kappa: %f' % kappa)\n",
    "# ROC AUC\n",
    "#fprate, tprate, thresholds = roc_curve(Y_test, yhat_probs, average = 'macro')\n",
    "#print('ROC AUC: %f' % thresholds)\n",
    "# confusion matrix\n",
    "matrix = confusion_matrix(Y_test, yhat_classes)\n",
    "print(matrix)"
   ]
  },
  {
   "cell_type": "code",
   "execution_count": 60,
   "metadata": {},
   "outputs": [
    {
     "name": "stderr",
     "output_type": "stream",
     "text": [
      "C:\\Users\\hp\\Anaconda3\\lib\\site-packages\\sklearn\\metrics\\ranking.py:659: UndefinedMetricWarning: No positive samples in y_true, true positive value should be meaningless\n",
      "  UndefinedMetricWarning)\n"
     ]
    }
   ],
   "source": [
    "fpr = {}\n",
    "tpr = {}\n",
    "thresh ={}\n",
    "\n",
    "n_class = 5\n",
    "\n",
    "for i in range(n_class):    \n",
    "    fpr[i], tpr[i], thresh[i] = roc_curve(Y_test, yhat_classes, pos_label=i)"
   ]
  },
  {
   "cell_type": "code",
   "execution_count": 61,
   "metadata": {},
   "outputs": [
    {
     "data": {
      "image/png": "[encoded data removed]",
      "text/plain": [
       "<Figure size 432x288 with 1 Axes>"
      ]
     },
     "metadata": {
      "needs_background": "light"
     },
     "output_type": "display_data"
    }
   ],
   "source": [
    "# plotting    \n",
    "plt.plot(fpr[0], tpr[0], linestyle='--',color='orange', label='Class 0 vs Rest')\n",
    "plt.plot(fpr[1], tpr[1], linestyle='--',color='green', label='Class 1 vs Rest')\n",
    "plt.plot(fpr[2], tpr[2], linestyle='--',color='blue', label='Class 2 vs Rest')\n",
    "plt.plot(fpr[3], tpr[3], linestyle='--',color='red', label='Class 3 vs Rest')\n",
    "plt.plot(fpr[4], tpr[4], linestyle='--',color='black', label='Class 4 vs Rest')\n",
    "plt.title('Multiclass ROC curve')\n",
    "plt.xlabel('False Positive Rate')\n",
    "plt.ylabel('True Positive rate')\n",
    "plt.legend(loc='best')\n",
    "plt.savefig('Multiclass ROC',dpi=300); "
   ]
  },
  {
   "cell_type": "code",
   "execution_count": 62,
   "metadata": {},
   "outputs": [
    {
     "name": "stdout",
     "output_type": "stream",
     "text": [
      "Confusion matrix : \n",
      " [[22  0  0  0]\n",
      " [ 0  5  0  0]\n",
      " [ 0  1  2  0]\n",
      " [ 0  0  0  7]]\n"
     ]
    }
   ],
   "source": [
    "from sklearn.metrics import confusion_matrix\n",
    "from sklearn.metrics import classification_report\n",
    "matrix = confusion_matrix(Y_test, yhat_classes, labels= [0, 1, 3, 4])\n",
    "print('Confusion matrix : \\n',matrix)"
   ]
  },
  {
   "cell_type": "code",
   "execution_count": 63,
   "metadata": {},
   "outputs": [
    {
     "name": "stdout",
     "output_type": "stream",
     "text": [
      "Classification report : \n",
      "               precision    recall  f1-score   support\n",
      "\n",
      "           0       1.00      1.00      1.00        22\n",
      "           1       0.83      1.00      0.91         5\n",
      "           3       1.00      0.67      0.80         3\n",
      "           4       1.00      1.00      1.00         7\n",
      "\n",
      "    accuracy                           0.97        37\n",
      "   macro avg       0.96      0.92      0.93        37\n",
      "weighted avg       0.98      0.97      0.97        37\n",
      "\n"
     ]
    }
   ],
   "source": [
    "matrix = classification_report(Y_test,yhat_classes, labels= [0, 1, 3, 4])\n",
    "print('Classification report : \\n',matrix)"
   ]
  },
  {
   "cell_type": "code",
   "execution_count": 64,
   "metadata": {},
   "outputs": [
    {
     "name": "stdout",
     "output_type": "stream",
     "text": [
      "INFO:tensorflow:Assets written to: ./models/CFS feature selection/Without IP_ Top 6/Multi-class/CNN-RNN\\assets\n"
     ]
    }
   ],
   "source": [
    "model.save('./models/CFS feature selection/Without IP_Top 6/Multi-class/CNN-RNN')"
   ]
  },
  {
   "cell_type": "code",
   "execution_count": null,
   "metadata": {},
   "outputs": [],
   "source": []
  }
 ],
 "metadata": {
  "kernelspec": {
   "display_name": "Python 3",
   "language": "python",
   "name": "python3"
  },
  "language_info": {
   "codemirror_mode": {
    "name": "ipython",
    "version": 3
   },
   "file_extension": ".py",
   "mimetype": "text/x-python",
   "name": "python",
   "nbconvert_exporter": "python",
   "pygments_lexer": "ipython3",
   "version": "3.7.4"
  }
 },
 "nbformat": 4,
 "nbformat_minor": 2
}

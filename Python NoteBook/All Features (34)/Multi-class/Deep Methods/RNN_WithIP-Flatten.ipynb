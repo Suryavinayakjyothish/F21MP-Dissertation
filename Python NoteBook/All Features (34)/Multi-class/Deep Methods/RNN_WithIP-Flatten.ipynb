{
 "cells": [
  {
   "cell_type": "code",
   "execution_count": 1,
   "metadata": {},
   "outputs": [],
   "source": [
    "import pandas as pd\n",
    "import numpy as np\n",
    "from datetime import datetime\n",
    "import time\n",
    "import matplotlib.pyplot as plt\n",
    "import gc\n",
    "pd.set_option('display.max_columns', None)"
   ]
  },
  {
   "cell_type": "code",
   "execution_count": 2,
   "metadata": {},
   "outputs": [],
   "source": [
    "## for machine learning\n",
    "from sklearn import model_selection, preprocessing, feature_selection, ensemble, linear_model, metrics, decomposition\n",
    "## for plotting\n",
    "import matplotlib.pyplot as plt\n",
    "## for machine learning\n",
    "from sklearn import model_selection, preprocessing, feature_selection, ensemble, linear_model, metrics, decomposition\n",
    "from sklearn.preprocessing import LabelEncoder,Normalizer,StandardScaler, OneHotEncoder, MinMaxScaler\n",
    "from sklearn.feature_selection import mutual_info_classif\n",
    "from sklearn.metrics import confusion_matrix\n",
    "from sklearn.metrics import classification_report\n",
    "## for explainer\n",
    "#from lime import lime_tabular"
   ]
  },
  {
   "cell_type": "code",
   "execution_count": 4,
   "metadata": {},
   "outputs": [],
   "source": [
    "#a = pd.read_csv('drive/My Drive/Colab Notebooks/traffic/OpenStack/CIDDS-001-internal-week1.csv', low_memory=False, encoding='cp1252')\n",
    "#b = pd.read_csv('drive/My Drive/Colab Notebooks/traffic/OpenStack/CIDDS-001-internal-week2.csv', low_memory=False, encoding='cp1252')\n",
    "a = pd.read_csv('./CIDDS-001/traffic/OpenStack/CIDDS-001-internal-week1.csv', low_memory=False, encoding='cp1252')\n",
    "b = pd.read_csv('./CIDDS-001/traffic/OpenStack/CIDDS-001-internal-week2.csv', low_memory=False, encoding='cp1252')\n",
    "c =  pd.read_csv('./CIDDS-001/traffic/ExternalServer/CIDDS-001-external-week2.csv', low_memory=False, encoding='cp1252')\n",
    "d =  pd.read_csv('./CIDDS-001/traffic/ExternalServer/CIDDS-001-external-week3.csv', low_memory=False, encoding='cp1252')\n",
    "e =  pd.read_csv('./CIDDS-001/traffic/ExternalServer/CIDDS-001-external-week4.csv', low_memory=False, encoding='cp1252')\n",
    "#f =  pd.read_csv('./CIDDS-001/traffic/ExternalServer/CIDDS-001-external-week1.csv', low_memory=False, encoding='cp1252')\n",
    "#c = pd.read_csv('drive/My Drive/Colab Notebooks/traffic/OpenStack/CIDDS-001-internal-week3.csv', low_memory=False , encoding='cp1252')\n",
    "#d = pd.read_csv('drive/My Drive/Colab Notebooks/traffic/OpenStack/CIDDS-001-internal-week4.csv', low_memory=False, encoding='cp1252')\n",
    "#e =  pd.read_csv('drive/My Drive/Colab Notebooks/traffic/ExternalServer/CIDDS-001-external-week1.csv', low_memory=False, encoding='cp1252')\n",
    "#f =  pd.read_csv('drive/My Drive/Colab Notebooks/traffic/ExternalServer/CIDDS-001-external-week2.csv', low_memory=False, encoding='cp1252')\n",
    "#g =  pd.read_csv('drive/My Drive/Colab Notebooks/traffic/ExternalServer/CIDDS-001-external-week3.csv', low_memory=False, encoding='cp1252')\n",
    "#h =  pd.read_csv('drive/My Drive/Colab Notebooks/traffic/ExternalServer/CIDDS-001-external-week4.csv', low_memory=False, encoding='cp1252')"
   ]
  },
  {
   "cell_type": "code",
   "execution_count": 5,
   "metadata": {},
   "outputs": [
    {
     "name": "stdout",
     "output_type": "stream",
     "text": [
      "(10310733, 16)\n"
     ]
    },
    {
     "data": {
      "text/plain": [
       "(1795404, 16)"
      ]
     },
     "execution_count": 5,
     "metadata": {},
     "output_type": "execute_result"
    }
   ],
   "source": [
    "print(b.shape)\n",
    "#a.drop(a[a['attackType'] == '---'].index, axis = 0, inplace= True) \n",
    "b.drop(b[b['attackType'] == '---'].index, axis = 0, inplace= True)  \n",
    "c.drop(c[c['attackType'] == '---'].index, axis = 0, inplace= True)  \n",
    "d.drop(d[d['attackType'] == '---'].index, axis = 0, inplace= True)  \n",
    "#e.drop(e[e['attackType'] == '---'].index, axis = 0, inplace= True)  \n",
    "b.shape"
   ]
  },
  {
   "cell_type": "code",
   "execution_count": 6,
   "metadata": {},
   "outputs": [],
   "source": [
    "data_external = pd.concat([c,d,e], axis = 0)\n",
    "data_external.reset_index(drop= True, inplace= True)"
   ]
  },
  {
   "cell_type": "code",
   "execution_count": 7,
   "metadata": {},
   "outputs": [],
   "source": [
    "#to Increment attackID values\n",
    "data_external['attackID'] = data_external['attackID'].apply(lambda x: str(int(x) + 70) if x != '---' else x)"
   ]
  },
  {
   "cell_type": "code",
   "execution_count": 8,
   "metadata": {},
   "outputs": [],
   "source": [
    "def convert_bytes(df):\n",
    "    if 'M' in df:\n",
    "        df = df.split('M')\n",
    "        df = df[0].strip()\n",
    "        df = float(df) * 1000000\n",
    "    elif 'B' in df:\n",
    "        df = df.split('B')\n",
    "        df = df[0].strip()\n",
    "        df =  float(df) * 1000000000\n",
    "    else: \n",
    "        df =float(df)\n",
    "    return df"
   ]
  },
  {
   "cell_type": "code",
   "execution_count": 9,
   "metadata": {},
   "outputs": [
    {
     "data": {
      "text/plain": [
       "60"
      ]
     },
     "execution_count": 9,
     "metadata": {},
     "output_type": "execute_result"
    }
   ],
   "source": [
    "data = pd.concat([a,b,data_external], axis = 0)\n",
    "data.reset_index(drop= True, inplace= True)\n",
    "data['Bytes'] = data['Bytes'].apply(lambda x: convert_bytes(x))\n",
    "columns = ['Src Pt', 'Dst Pt','Tos','Flows','Packets', 'Bytes']\n",
    "for i in columns:\n",
    "    data[i] = pd.to_numeric(data[i]);\n",
    "del columns\n",
    "del a,b,c,d,e, data_external\n",
    "gc.collect()"
   ]
  },
  {
   "cell_type": "code",
   "execution_count": 10,
   "metadata": {},
   "outputs": [],
   "source": [
    "#data.dtypes"
   ]
  },
  {
   "cell_type": "code",
   "execution_count": 11,
   "metadata": {},
   "outputs": [],
   "source": [
    "#Converts Hexadecimal value to Binary\n",
    "def hex_to_binary(hexdata):\n",
    "    scale = 16 ## equals to hexadecimal\n",
    "    num_of_bits = 9\n",
    "    return bin(int(hexdata, scale))[2:].zfill(num_of_bits);\n",
    "#Converts TCP flags to Binary\n",
    "def to_Binary(x):\n",
    "    l = 0\n",
    "    x = '...' + x\n",
    "    x = list(x)\n",
    "    for i in x:\n",
    "        if (i=='.'):\n",
    "            x[l]= '0'\n",
    "        else:\n",
    "            x[l] = '1'\n",
    "        l = l +1\n",
    "    return ''.join(x)\n",
    "#Converts the 'Flags' column to 9 indiviual columns (manual oneshot encoding)\n",
    "def flag_convert(df):  \n",
    "   # df['Flags'] = df['Flags'].apply(lambda x: (list(x)))\n",
    "   # temp = df['Flags'].apply(lambda x: toBinary(x))\n",
    "    hex_values = list(df[(df['Flags'].str.contains(\"0x\", na=False))]['Flags'].unique())\n",
    "    flag_values = list(df[~(df['Flags'].str.contains(\"0x\", na=False))]['Flags'].unique())\n",
    "    binary_values = {}\n",
    "    for i in hex_values:\n",
    "         binary_values[i] = (hex_to_binary(i))\n",
    "    for i in flag_values:\n",
    "         binary_values[i] = (to_Binary(i))\n",
    "    temp = df['Flags'].replace(binary_values)\n",
    "#temp = temp.apply(lambda x: pd.Series(x)) \n",
    "    temp = pd.DataFrame(temp.apply(list).tolist())\n",
    "#temp = pd.DataFrame(temp)\n",
    "#a = a.iloc[: , 1:]\n",
    "   # print(temp.head())\n",
    "    temp.columns = ['N','C','E','U' ,'A','P','R','S','F']\n",
    "    for i in temp.columns:\n",
    "        temp[i] = pd.to_numeric(temp[i]);\n",
    "    temp = temp.reset_index(drop=True)\n",
    "    df = df.reset_index(drop=True)\n",
    "    df = pd.concat([df, temp], axis = 1)\n",
    "    return df;"
   ]
  },
  {
   "cell_type": "code",
   "execution_count": 12,
   "metadata": {},
   "outputs": [],
   "source": [
    "#make a IP_pairs \n",
    "def make_pair(df):\n",
    "    ip_pair = df['Src IP Addr'] +'/' +df['Dst IP Addr']\n",
    "    source_ip = df['Src IP Addr'].unique().tolist()\n",
    "    destination_ip = df['Dst IP Addr'].unique().tolist()\n",
    "   # df = df.drop(columns = ['Src IP Addr', 'Dst IP Addr'])\n",
    "    df.insert(1, ' IP Pair', ip_pair)\n",
    "    return df\n",
    "\n",
    "def check_inverse(df):\n",
    "    list_pairs = df[' IP Pair'].unique()\n",
    "    tuple_pair = []\n",
    "    for i in list_pairs:\n",
    "        tuple_pair.append(tuple((i.split('/'))))\n",
    "    dic_store = {}\n",
    "    for i in tuple_pair:\n",
    "        if (i  not in dic_store.keys()) and (i[::-1] not in dic_store.keys()):\n",
    "            dic_store[i] = i[0] + '/' +i[1]\n",
    "    print(len(dic_store.keys()))\n",
    "    dic_final = {}\n",
    "    for i in dic_store.keys():\n",
    "        dic_final[i[0] + '/' +i[1]] = dic_store[i]\n",
    "        dic_final[i[1] + '/' +i[0]] = dic_store[i]\n",
    "    df[' IP Pair'] = df[' IP Pair'].map(dic_final)               \n",
    "    return df"
   ]
  },
  {
   "cell_type": "code",
   "execution_count": 13,
   "metadata": {},
   "outputs": [],
   "source": [
    "def normalize_IP(df):\n",
    "    columns = ['sourceIP_feature 1', 'sourceIP_feature 2', 'sourceIP_feature 3', 'sourceIP_feature 4', 'destIP_feature 1',\n",
    "              'destIP_feature 2', 'destIP_feature 3', 'destIP_feature 4']\n",
    "    normalized = df[columns]\n",
    "    print(columns)\n",
    "    transformed = MinMaxScaler().fit(normalized).transform(normalized)\n",
    "    transformed = pd.DataFrame(transformed)\n",
    "    j = 0\n",
    "    col = {}\n",
    "    for i in columns:\n",
    "        col[j] = i\n",
    "        j=j+1\n",
    "    transformed = transformed.rename(columns = col)\n",
    "    transformed = transformed.reset_index()\n",
    "    for i in columns:\n",
    "        df[i] = transformed[i].to_numpy()\n",
    "    return df;"
   ]
  },
  {
   "cell_type": "code",
   "execution_count": 14,
   "metadata": {},
   "outputs": [],
   "source": [
    "def normalize(df):\n",
    "    numerics = ['int16', 'int32', 'int64', 'float16', 'float32', 'float64']\n",
    "    columns = (df).select_dtypes(include=numerics).columns\n",
    "    print(columns)\n",
    "    normalized = df[columns]\n",
    "   # print(columns)\n",
    "    transformed = MinMaxScaler().fit(normalized).transform(normalized)\n",
    "    transformed = pd.DataFrame(transformed)\n",
    "    j = 0\n",
    "    col = {}\n",
    "    for i in columns:\n",
    "        col[j] = i\n",
    "        j=j+1\n",
    "    transformed = transformed.rename(columns = col)\n",
    "    transformed = transformed.reset_index()\n",
    "    for i in columns:\n",
    "        df[i] = transformed[i].to_numpy()\n",
    "    return df;"
   ]
  },
  {
   "cell_type": "code",
   "execution_count": 15,
   "metadata": {},
   "outputs": [],
   "source": [
    "def one_shot(df):\n",
    "    label_encoder = LabelEncoder()\n",
    "    #df.astype({'attackType': 'str'})\n",
    "    df['attackType'] = label_encoder.fit_transform(df['attackType'])\n",
    "    print(list(label_encoder.classes_))\n",
    "    print(list(label_encoder.transform(label_encoder.classes_)))\n",
    "    \n",
    "#    onehot_encoder = OneHotEncoder()\n",
    "#    onehot_encoder.fit(df.attackType.to_numpy().reshape(-1, 1))\n",
    "#    proto = onehot_encoder.transform(df.attackType.to_numpy().reshape(-1, 1))\n",
    "#    proto = pd.DataFrame.sparse.from_spmatrix(proto)\n",
    "#    proto.astype('int32')\n",
    "#    proto.columns = label_encoder.classes_\n",
    "#    df = pd.concat([df, proto], axis = 1) \n",
    "    \n",
    "    df['sourceIP_feature 1'] = label_encoder.fit_transform(df['sourceIP_feature 1'])\n",
    "    print(list(label_encoder.classes_))\n",
    "    print(list(label_encoder.transform(label_encoder.classes_)))\n",
    "    \n",
    "    df['sourceIP_feature 2'] = label_encoder.fit_transform(df['sourceIP_feature 2'])\n",
    "    print(list(label_encoder.classes_))\n",
    "    print(list(label_encoder.transform(label_encoder.classes_)))\n",
    "    \n",
    "    df['sourceIP_feature 3'] = label_encoder.fit_transform(df['sourceIP_feature 3'])\n",
    "    print(list(label_encoder.classes_))\n",
    "    print(list(label_encoder.transform(label_encoder.classes_)))\n",
    "    \n",
    "    df['sourceIP_feature 4'] = label_encoder.fit_transform(df['sourceIP_feature 4'])\n",
    "    print(list(label_encoder.classes_))\n",
    "    print(list(label_encoder.transform(label_encoder.classes_)))\n",
    "    \n",
    "    df['destIP_feature 1'] = label_encoder.fit_transform(df['destIP_feature 1'])\n",
    "    print(list(label_encoder.classes_))\n",
    "    print(list(label_encoder.transform(label_encoder.classes_)))\n",
    "    \n",
    "    df['destIP_feature 2'] = label_encoder.fit_transform(df['destIP_feature 2'])\n",
    "    print(list(label_encoder.classes_))\n",
    "    print(list(label_encoder.transform(label_encoder.classes_)))\n",
    "    \n",
    "    df['destIP_feature 3'] = label_encoder.fit_transform(df['destIP_feature 3'])\n",
    "    print(list(label_encoder.classes_))\n",
    "    print(list(label_encoder.transform(label_encoder.classes_)))\n",
    "    \n",
    "    df['destIP_feature 4'] = label_encoder.fit_transform(df['destIP_feature 4'])\n",
    "    print(list(label_encoder.classes_))\n",
    "    print(list(label_encoder.transform(label_encoder.classes_)))\n",
    "    \n",
    "    df['Proto'] = label_encoder.fit_transform(df['Proto'])\n",
    "    print(list(label_encoder.classes_))\n",
    "    print(list(label_encoder.transform(label_encoder.classes_)))\n",
    "    \n",
    "    onehot_encoder1 = OneHotEncoder()\n",
    "    onehot_encoder1.fit(df.Proto.to_numpy().reshape(-1, 1))\n",
    "    proto = onehot_encoder1.transform(df.Proto.to_numpy().reshape(-1, 1))\n",
    "    proto = pd.DataFrame.sparse.from_spmatrix(proto)\n",
    "    proto.astype('int32')\n",
    "    proto.columns = label_encoder.classes_\n",
    "   # print(proto.head(1))\n",
    "    df = pd.concat([df, proto], axis = 1)\n",
    "    return df;"
   ]
  },
  {
   "cell_type": "code",
   "execution_count": 16,
   "metadata": {},
   "outputs": [],
   "source": [
    "def drop_columns(df):\n",
    "    return df.drop(columns = ['Date first seen', ' IP Pair', 'Flows', 'class', 'attackID','Flags',\n",
    "                              'attackDescription', 'Src IP Addr', 'Dst IP Addr','Proto'], axis =1)"
   ]
  },
  {
   "cell_type": "code",
   "execution_count": 17,
   "metadata": {},
   "outputs": [],
   "source": [
    "#Aplit IP address into features, 7 features\n",
    "def split_to_net(IP_address):\n",
    "    IP_list = IP_address.split(\".\")\n",
    "    needed_len = 7\n",
    "    needed_len = needed_len - len(IP_list)\n",
    "    for i in range(0,needed_len,1):\n",
    "        IP_list.append('0')\n",
    "    return IP_list\n",
    "#replace unknown IP address, and convert to columns\n",
    "def IP_split(df): \n",
    "    replace = {\"ATTACKER1\":\"0.0.0.0\",\n",
    "           \"ATTACKER2\":\"0.0.0.0\",\n",
    "           \"ATTACKER3\":\"0.0.0.0\",\n",
    "           \"EXT_SERVER\": \"0.0.0.0.1\",\n",
    "          \"OPENSTACK_NET\": \"0.0.0.0.0.1\",\n",
    "          \"DNS\": \"0.0.0.0.0.0.1\"}\n",
    "    df = df.replace({\"Src IP Addr\": replace, \"Dst IP Addr\": replace}, value=None)\n",
    "    temp_source = df[\"Src IP Addr\"].apply(lambda x: \"0.0.0.0.0.0.0\" if ('_') in x else x)\n",
    "    temp_des = df['Dst IP Addr'].apply(lambda x: \"0.0.0.0.0.0.0\" if ('_') in x else x)\n",
    "   # sourceIP = list(df[\"Src IP Addr\"].unique())\n",
    "   # destIP = list(df[\"Dst IP Addr\"].unique())\n",
    "   # sourceIP_values = {}\n",
    "   # desIP_values = {}\n",
    "   # for i in sourceIP:\n",
    "   #      sourceIP_values[i] = (split_to_net(i))\n",
    "   # for i in destIP:\n",
    "   #      desIP_values[i] = (split_to_net(i))\n",
    "    #print(sourceIP_values)\n",
    "   # print(desIP_values)\n",
    "#for Source IP\n",
    "    temp_source = temp_source.apply(lambda x: split_to_net(x) )\n",
    "    temp_source = pd.DataFrame(temp_source.apply(list).tolist())\n",
    "    temp_source.columns = ['sourceIP_feature 1','sourceIP_feature 2','sourceIP_feature 3','sourceIP_feature 4' ,\n",
    "                    'sourceEXT_SERVER','sourceOPENSTACK_NET','sourceDNS']\n",
    "    for i in temp_source.columns:\n",
    "        temp_source[i] = pd.to_numeric(temp_source[i]);\n",
    "    temp_source = temp_source.reset_index(drop=True)\n",
    "    df = df.reset_index(drop=True)\n",
    "    df = pd.concat([df, temp_source], axis = 1)\n",
    "    #for Destination IP\n",
    "    temp_des = temp_des.apply(lambda x: split_to_net(x) )\n",
    "    temp_des = pd.DataFrame(temp_des.apply(list).tolist())\n",
    "    temp_des.columns = ['destIP_feature 1','destIP_feature 2','destIP_feature 3','destIP_feature 4' ,\n",
    "                    'destEXT_SERVER','destOPENSTACK_NET','destDNS']\n",
    "    for i in temp_des.columns:\n",
    "        temp_des[i] = pd.to_numeric(temp_des[i]);\n",
    "    temp_des = temp_des.reset_index(drop=True)\n",
    "    df = df.reset_index(drop=True)\n",
    "    df = pd.concat([df, temp_des], axis = 1)\n",
    "    return df;"
   ]
  },
  {
   "cell_type": "code",
   "execution_count": 18,
   "metadata": {},
   "outputs": [
    {
     "name": "stdout",
     "output_type": "stream",
     "text": [
      "59362\n"
     ]
    }
   ],
   "source": [
    "data = make_pair(data)\n",
    "data = check_inverse(data)\n"
   ]
  },
  {
   "cell_type": "code",
   "execution_count": 19,
   "metadata": {},
   "outputs": [],
   "source": [
    "data = IP_split(data)"
   ]
  },
  {
   "cell_type": "code",
   "execution_count": 20,
   "metadata": {
    "scrolled": true
   },
   "outputs": [
    {
     "name": "stdout",
     "output_type": "stream",
     "text": [
      "Index(['Duration', 'Src Pt', 'Dst Pt', 'Packets', 'Bytes', 'Flows', 'Tos',\n",
      "       'sourceIP_feature 1', 'sourceIP_feature 2', 'sourceIP_feature 3',\n",
      "       'sourceIP_feature 4', 'sourceEXT_SERVER', 'sourceOPENSTACK_NET',\n",
      "       'sourceDNS', 'destIP_feature 1', 'destIP_feature 2', 'destIP_feature 3',\n",
      "       'destIP_feature 4', 'destEXT_SERVER', 'destOPENSTACK_NET', 'destDNS'],\n",
      "      dtype='object')\n",
      "['---', 'bruteForce', 'dos', 'pingScan', 'portScan']\n",
      "[0, 1, 2, 3, 4]\n",
      "[0.0, 1.0]\n",
      "[0, 1]\n",
      "[0.0, 1.0]\n",
      "[0, 1]\n",
      "[0.0, 0.003952569169960474, 0.01976284584980237, 0.3162055335968379, 0.3952569169960474, 0.7905138339920948, 0.8300395256916996, 0.8695652173913043, 0.9999999999999999]\n",
      "[0, 1, 2, 3, 4, 5, 6, 7, 8]\n",
      "[0.0, 0.004, 0.008, 0.012, 0.016, 0.02, 0.024, 0.028, 0.032, 0.036000000000000004, 0.04, 0.044, 0.048, 0.052000000000000005, 0.056, 0.06, 0.064, 0.4, 0.432, 0.456, 0.612, 0.884, 0.96, 1.0]\n",
      "[0, 1, 2, 3, 4, 5, 6, 7, 8, 9, 10, 11, 12, 13, 14, 15, 16, 17, 18, 19, 20, 21, 22, 23]\n",
      "[0.0, 0.7529411764705882, 1.0]\n",
      "[0, 1, 2]\n",
      "[0.0, 0.6588235294117647, 1.0]\n",
      "[0, 1, 2]\n",
      "[0.0, 0.00392156862745098, 0.39215686274509803, 0.7843137254901961, 0.8235294117647058, 0.8627450980392157, 0.9921568627450981, 1.0]\n",
      "[0, 1, 2, 3, 4, 5, 6, 7]\n",
      "[0.0, 0.00392156862745098, 0.00784313725490196, 0.011764705882352941, 0.01568627450980392, 0.0196078431372549, 0.023529411764705882, 0.027450980392156862, 0.03137254901960784, 0.03529411764705882, 0.0392156862745098, 0.043137254901960784, 0.047058823529411764, 0.050980392156862744, 0.054901960784313725, 0.058823529411764705, 0.06274509803921569, 0.06666666666666667, 0.07058823529411765, 0.07450980392156863, 0.0784313725490196, 0.08235294117647059, 0.08627450980392157, 0.09019607843137255, 0.09411764705882353, 0.09803921568627451, 0.10196078431372549, 0.10588235294117647, 0.10980392156862745, 0.11372549019607843, 0.11764705882352941, 0.12156862745098039, 0.12549019607843137, 0.12941176470588234, 0.13333333333333333, 0.13725490196078433, 0.1411764705882353, 0.14509803921568626, 0.14901960784313725, 0.15294117647058825, 0.1568627450980392, 0.16078431372549018, 0.16470588235294117, 0.16862745098039217, 0.17254901960784313, 0.1764705882352941, 0.1803921568627451, 0.1843137254901961, 0.18823529411764706, 0.19215686274509802, 0.19607843137254902, 0.2, 0.20392156862745098, 0.20784313725490194, 0.21176470588235294, 0.21568627450980393, 0.2196078431372549, 0.22352941176470587, 0.22745098039215686, 0.23137254901960785, 0.23529411764705882, 0.2392156862745098, 0.24313725490196078, 0.24705882352941178, 0.25098039215686274, 0.2549019607843137, 0.2588235294117647, 0.2627450980392157, 0.26666666666666666, 0.27058823529411763, 0.27450980392156865, 0.2784313725490196, 0.2823529411764706, 0.28627450980392155, 0.2901960784313725, 0.29411764705882354, 0.2980392156862745, 0.30196078431372547, 0.3058823529411765, 0.30980392156862746, 0.3137254901960784, 0.3176470588235294, 0.32156862745098036, 0.3254901960784314, 0.32941176470588235, 0.3333333333333333, 0.33725490196078434, 0.3411764705882353, 0.34509803921568627, 0.34901960784313724, 0.3529411764705882, 0.3568627450980392, 0.3607843137254902, 0.36470588235294116, 0.3686274509803922, 0.37254901960784315, 0.3764705882352941, 0.3803921568627451, 0.38431372549019605, 0.38823529411764707, 0.39215686274509803, 0.396078431372549, 0.4, 0.403921568627451, 0.40784313725490196, 0.4117647058823529, 0.4156862745098039, 0.4196078431372549, 0.4235294117647059, 0.42745098039215684, 0.43137254901960786, 0.43529411764705883, 0.4392156862745098, 0.44313725490196076, 0.44705882352941173, 0.45098039215686275, 0.4549019607843137, 0.4588235294117647, 0.4627450980392157, 0.4666666666666667, 0.47058823529411764, 0.4745098039215686, 0.4784313725490196, 0.4823529411764706, 0.48627450980392156, 0.49019607843137253, 0.49411764705882355, 0.4980392156862745, 0.5019607843137255, 0.5058823529411764, 0.5098039215686274, 0.5137254901960784, 0.5176470588235293, 0.5215686274509804, 0.5254901960784314, 0.5294117647058824, 0.5333333333333333, 0.5372549019607843, 0.5411764705882353, 0.5450980392156862, 0.5490196078431373, 0.5529411764705883, 0.5568627450980392, 0.5607843137254902, 0.5647058823529412, 0.5686274509803921, 0.5725490196078431, 0.5764705882352941, 0.580392156862745, 0.5843137254901961, 0.5882352941176471, 0.592156862745098, 0.596078431372549, 0.6, 0.6039215686274509, 0.6078431372549019, 0.611764705882353, 0.615686274509804, 0.6196078431372549, 0.6235294117647059, 0.6274509803921569, 0.6313725490196078, 0.6352941176470588, 0.6392156862745098, 0.6431372549019607, 0.6470588235294118, 0.6509803921568628, 0.6549019607843137, 0.6588235294117647, 0.6627450980392157, 0.6666666666666666, 0.6705882352941176, 0.6745098039215687, 0.6784313725490196, 0.6823529411764706, 0.6862745098039216, 0.6901960784313725, 0.6941176470588235, 0.6980392156862745, 0.7019607843137254, 0.7058823529411764, 0.7098039215686275, 0.7137254901960784, 0.7176470588235294, 0.7215686274509804, 0.7254901960784313, 0.7294117647058823, 0.7333333333333333, 0.7372549019607844, 0.7411764705882353, 0.7450980392156863, 0.7490196078431373, 0.7529411764705882, 0.7568627450980392, 0.7607843137254902, 0.7647058823529411, 0.7686274509803921, 0.7725490196078432, 0.7764705882352941, 0.7803921568627451, 0.7843137254901961, 0.788235294117647, 0.792156862745098, 0.796078431372549, 0.8, 0.803921568627451, 0.807843137254902, 0.8117647058823529, 0.8156862745098039, 0.8196078431372549, 0.8235294117647058, 0.8274509803921568, 0.8313725490196078, 0.8352941176470589, 0.8392156862745098, 0.8431372549019608, 0.8470588235294118, 0.8509803921568627, 0.8549019607843137, 0.8588235294117647, 0.8627450980392157, 0.8666666666666667, 0.8705882352941177, 0.8745098039215686, 0.8784313725490196, 0.8823529411764706, 0.8862745098039215, 0.8901960784313725, 0.8941176470588235, 0.8980392156862745, 0.9019607843137255, 0.9058823529411765, 0.9098039215686274, 0.9137254901960784, 0.9176470588235294, 0.9215686274509803, 0.9254901960784314, 0.9294117647058824, 0.9333333333333333, 0.9372549019607843, 0.9411764705882353, 0.9450980392156862, 0.9490196078431372, 0.9529411764705882, 0.9568627450980391, 0.9607843137254902, 0.9647058823529412, 0.9686274509803922, 0.9725490196078431, 0.9764705882352941, 0.9803921568627451, 0.984313725490196, 0.9882352941176471, 0.9921568627450981, 0.996078431372549, 1.0]\n",
      "[0, 1, 2, 3, 4, 5, 6, 7, 8, 9, 10, 11, 12, 13, 14, 15, 16, 17, 18, 19, 20, 21, 22, 23, 24, 25, 26, 27, 28, 29, 30, 31, 32, 33, 34, 35, 36, 37, 38, 39, 40, 41, 42, 43, 44, 45, 46, 47, 48, 49, 50, 51, 52, 53, 54, 55, 56, 57, 58, 59, 60, 61, 62, 63, 64, 65, 66, 67, 68, 69, 70, 71, 72, 73, 74, 75, 76, 77, 78, 79, 80, 81, 82, 83, 84, 85, 86, 87, 88, 89, 90, 91, 92, 93, 94, 95, 96, 97, 98, 99, 100, 101, 102, 103, 104, 105, 106, 107, 108, 109, 110, 111, 112, 113, 114, 115, 116, 117, 118, 119, 120, 121, 122, 123, 124, 125, 126, 127, 128, 129, 130, 131, 132, 133, 134, 135, 136, 137, 138, 139, 140, 141, 142, 143, 144, 145, 146, 147, 148, 149, 150, 151, 152, 153, 154, 155, 156, 157, 158, 159, 160, 161, 162, 163, 164, 165, 166, 167, 168, 169, 170, 171, 172, 173, 174, 175, 176, 177, 178, 179, 180, 181, 182, 183, 184, 185, 186, 187, 188, 189, 190, 191, 192, 193, 194, 195, 196, 197, 198, 199, 200, 201, 202, 203, 204, 205, 206, 207, 208, 209, 210, 211, 212, 213, 214, 215, 216, 217, 218, 219, 220, 221, 222, 223, 224, 225, 226, 227, 228, 229, 230, 231, 232, 233, 234, 235, 236, 237, 238, 239, 240, 241, 242, 243, 244, 245, 246, 247, 248, 249, 250, 251, 252, 253, 254, 255]\n",
      "['GRE  ', 'ICMP ', 'IGMP ', 'TCP  ', 'UDP  ']\n",
      "[0, 1, 2, 3, 4]\n"
     ]
    },
    {
     "name": "stderr",
     "output_type": "stream",
     "text": [
      "C:\\Users\\hp\\Anaconda3\\lib\\site-packages\\sklearn\\preprocessing\\_encoders.py:415: FutureWarning: The handling of integer data will change in version 0.22. Currently, the categories are determined based on the range [0, max(values)], while in the future they will be determined based on the unique values.\n",
      "If you want the future behaviour and silence this warning, you can specify \"categories='auto'\".\n",
      "In case you used a LabelEncoder before this OneHotEncoder to convert the categories to integers, then you can now use the OneHotEncoder directly.\n",
      "  warnings.warn(msg, FutureWarning)\n"
     ]
    },
    {
     "name": "stdout",
     "output_type": "stream",
     "text": [
      "['sourceIP_feature 1', 'sourceIP_feature 2', 'sourceIP_feature 3', 'sourceIP_feature 4', 'destIP_feature 1', 'destIP_feature 2', 'destIP_feature 3', 'destIP_feature 4']\n"
     ]
    }
   ],
   "source": [
    "data = normalize(data)\n",
    "data =  one_shot(data) \n",
    "data = normalize_IP(data)"
   ]
  },
  {
   "cell_type": "code",
   "execution_count": 21,
   "metadata": {},
   "outputs": [],
   "source": [
    "#data['Flows'].unique()"
   ]
  },
  {
   "cell_type": "code",
   "execution_count": 22,
   "metadata": {},
   "outputs": [
    {
     "data": {
      "text/html": [
       "<div>\n",
       "<style scoped>\n",
       "    .dataframe tbody tr th:only-of-type {\n",
       "        vertical-align: middle;\n",
       "    }\n",
       "\n",
       "    .dataframe tbody tr th {\n",
       "        vertical-align: top;\n",
       "    }\n",
       "\n",
       "    .dataframe thead th {\n",
       "        text-align: right;\n",
       "    }\n",
       "</style>\n",
       "<table border=\"1\" class=\"dataframe\">\n",
       "  <thead>\n",
       "    <tr style=\"text-align: right;\">\n",
       "      <th></th>\n",
       "      <th>Date first seen</th>\n",
       "      <th>IP Pair</th>\n",
       "      <th>Duration</th>\n",
       "      <th>Proto</th>\n",
       "      <th>Src IP Addr</th>\n",
       "      <th>Src Pt</th>\n",
       "      <th>Dst IP Addr</th>\n",
       "      <th>Dst Pt</th>\n",
       "      <th>Packets</th>\n",
       "      <th>Bytes</th>\n",
       "      <th>Flows</th>\n",
       "      <th>Flags</th>\n",
       "      <th>Tos</th>\n",
       "      <th>class</th>\n",
       "      <th>attackType</th>\n",
       "      <th>attackID</th>\n",
       "      <th>attackDescription</th>\n",
       "      <th>sourceIP_feature 1</th>\n",
       "      <th>sourceIP_feature 2</th>\n",
       "      <th>sourceIP_feature 3</th>\n",
       "      <th>sourceIP_feature 4</th>\n",
       "      <th>sourceEXT_SERVER</th>\n",
       "      <th>sourceOPENSTACK_NET</th>\n",
       "      <th>sourceDNS</th>\n",
       "      <th>destIP_feature 1</th>\n",
       "      <th>destIP_feature 2</th>\n",
       "      <th>destIP_feature 3</th>\n",
       "      <th>destIP_feature 4</th>\n",
       "      <th>destEXT_SERVER</th>\n",
       "      <th>destOPENSTACK_NET</th>\n",
       "      <th>destDNS</th>\n",
       "      <th>GRE</th>\n",
       "      <th>ICMP</th>\n",
       "      <th>IGMP</th>\n",
       "      <th>TCP</th>\n",
       "      <th>UDP</th>\n",
       "    </tr>\n",
       "  </thead>\n",
       "  <tbody>\n",
       "    <tr>\n",
       "      <td>0</td>\n",
       "      <td>2017-03-15 00:01:16.632</td>\n",
       "      <td>192.168.100.5/192.168.220.16</td>\n",
       "      <td>0.000000e+00</td>\n",
       "      <td>3</td>\n",
       "      <td>192.168.100.5</td>\n",
       "      <td>0.006790</td>\n",
       "      <td>192.168.220.16</td>\n",
       "      <td>0.897902</td>\n",
       "      <td>0.000000</td>\n",
       "      <td>1.549787e-07</td>\n",
       "      <td>0.0</td>\n",
       "      <td>.AP...</td>\n",
       "      <td>0.0</td>\n",
       "      <td>normal</td>\n",
       "      <td>0</td>\n",
       "      <td>---</td>\n",
       "      <td>---</td>\n",
       "      <td>1.0</td>\n",
       "      <td>1.0</td>\n",
       "      <td>0.500</td>\n",
       "      <td>0.217391</td>\n",
       "      <td>0.0</td>\n",
       "      <td>0.0</td>\n",
       "      <td>0.0</td>\n",
       "      <td>0.5</td>\n",
       "      <td>0.5</td>\n",
       "      <td>0.714286</td>\n",
       "      <td>0.062745</td>\n",
       "      <td>0.0</td>\n",
       "      <td>0.0</td>\n",
       "      <td>0.0</td>\n",
       "      <td>0.0</td>\n",
       "      <td>0.0</td>\n",
       "      <td>0.0</td>\n",
       "      <td>1.0</td>\n",
       "      <td>0.0</td>\n",
       "    </tr>\n",
       "    <tr>\n",
       "      <td>1</td>\n",
       "      <td>2017-03-15 00:01:16.552</td>\n",
       "      <td>192.168.100.5/192.168.220.15</td>\n",
       "      <td>0.000000e+00</td>\n",
       "      <td>3</td>\n",
       "      <td>192.168.100.5</td>\n",
       "      <td>0.006790</td>\n",
       "      <td>192.168.220.15</td>\n",
       "      <td>0.745983</td>\n",
       "      <td>0.000000</td>\n",
       "      <td>1.549787e-07</td>\n",
       "      <td>0.0</td>\n",
       "      <td>.AP...</td>\n",
       "      <td>0.0</td>\n",
       "      <td>normal</td>\n",
       "      <td>0</td>\n",
       "      <td>---</td>\n",
       "      <td>---</td>\n",
       "      <td>1.0</td>\n",
       "      <td>1.0</td>\n",
       "      <td>0.500</td>\n",
       "      <td>0.217391</td>\n",
       "      <td>0.0</td>\n",
       "      <td>0.0</td>\n",
       "      <td>0.0</td>\n",
       "      <td>0.5</td>\n",
       "      <td>0.5</td>\n",
       "      <td>0.714286</td>\n",
       "      <td>0.058824</td>\n",
       "      <td>0.0</td>\n",
       "      <td>0.0</td>\n",
       "      <td>0.0</td>\n",
       "      <td>0.0</td>\n",
       "      <td>0.0</td>\n",
       "      <td>0.0</td>\n",
       "      <td>1.0</td>\n",
       "      <td>0.0</td>\n",
       "    </tr>\n",
       "    <tr>\n",
       "      <td>2</td>\n",
       "      <td>2017-03-15 00:01:16.551</td>\n",
       "      <td>192.168.100.5/192.168.220.15</td>\n",
       "      <td>6.613570e-09</td>\n",
       "      <td>3</td>\n",
       "      <td>192.168.220.15</td>\n",
       "      <td>0.745983</td>\n",
       "      <td>192.168.100.5</td>\n",
       "      <td>0.006790</td>\n",
       "      <td>0.000005</td>\n",
       "      <td>2.828361e-07</td>\n",
       "      <td>0.0</td>\n",
       "      <td>.AP...</td>\n",
       "      <td>0.0</td>\n",
       "      <td>normal</td>\n",
       "      <td>0</td>\n",
       "      <td>---</td>\n",
       "      <td>---</td>\n",
       "      <td>1.0</td>\n",
       "      <td>1.0</td>\n",
       "      <td>0.875</td>\n",
       "      <td>0.652174</td>\n",
       "      <td>0.0</td>\n",
       "      <td>0.0</td>\n",
       "      <td>0.0</td>\n",
       "      <td>0.5</td>\n",
       "      <td>0.5</td>\n",
       "      <td>0.285714</td>\n",
       "      <td>0.019608</td>\n",
       "      <td>0.0</td>\n",
       "      <td>0.0</td>\n",
       "      <td>0.0</td>\n",
       "      <td>0.0</td>\n",
       "      <td>0.0</td>\n",
       "      <td>0.0</td>\n",
       "      <td>1.0</td>\n",
       "      <td>0.0</td>\n",
       "    </tr>\n",
       "    <tr>\n",
       "      <td>3</td>\n",
       "      <td>2017-03-15 00:01:16.631</td>\n",
       "      <td>192.168.100.5/192.168.220.16</td>\n",
       "      <td>6.613570e-09</td>\n",
       "      <td>3</td>\n",
       "      <td>192.168.220.16</td>\n",
       "      <td>0.897902</td>\n",
       "      <td>192.168.100.5</td>\n",
       "      <td>0.006790</td>\n",
       "      <td>0.000005</td>\n",
       "      <td>2.828361e-07</td>\n",
       "      <td>0.0</td>\n",
       "      <td>.AP...</td>\n",
       "      <td>0.0</td>\n",
       "      <td>normal</td>\n",
       "      <td>0</td>\n",
       "      <td>---</td>\n",
       "      <td>---</td>\n",
       "      <td>1.0</td>\n",
       "      <td>1.0</td>\n",
       "      <td>0.875</td>\n",
       "      <td>0.695652</td>\n",
       "      <td>0.0</td>\n",
       "      <td>0.0</td>\n",
       "      <td>0.0</td>\n",
       "      <td>0.5</td>\n",
       "      <td>0.5</td>\n",
       "      <td>0.285714</td>\n",
       "      <td>0.019608</td>\n",
       "      <td>0.0</td>\n",
       "      <td>0.0</td>\n",
       "      <td>0.0</td>\n",
       "      <td>0.0</td>\n",
       "      <td>0.0</td>\n",
       "      <td>0.0</td>\n",
       "      <td>1.0</td>\n",
       "      <td>0.0</td>\n",
       "    </tr>\n",
       "    <tr>\n",
       "      <td>4</td>\n",
       "      <td>2017-03-15 00:01:16.552</td>\n",
       "      <td>192.168.100.5/192.168.220.15</td>\n",
       "      <td>0.000000e+00</td>\n",
       "      <td>3</td>\n",
       "      <td>192.168.100.5</td>\n",
       "      <td>0.006790</td>\n",
       "      <td>192.168.220.15</td>\n",
       "      <td>0.745983</td>\n",
       "      <td>0.000000</td>\n",
       "      <td>1.549787e-07</td>\n",
       "      <td>0.0</td>\n",
       "      <td>.AP...</td>\n",
       "      <td>0.0</td>\n",
       "      <td>normal</td>\n",
       "      <td>0</td>\n",
       "      <td>---</td>\n",
       "      <td>---</td>\n",
       "      <td>1.0</td>\n",
       "      <td>1.0</td>\n",
       "      <td>0.500</td>\n",
       "      <td>0.217391</td>\n",
       "      <td>0.0</td>\n",
       "      <td>0.0</td>\n",
       "      <td>0.0</td>\n",
       "      <td>0.5</td>\n",
       "      <td>0.5</td>\n",
       "      <td>0.714286</td>\n",
       "      <td>0.058824</td>\n",
       "      <td>0.0</td>\n",
       "      <td>0.0</td>\n",
       "      <td>0.0</td>\n",
       "      <td>0.0</td>\n",
       "      <td>0.0</td>\n",
       "      <td>0.0</td>\n",
       "      <td>1.0</td>\n",
       "      <td>0.0</td>\n",
       "    </tr>\n",
       "  </tbody>\n",
       "</table>\n",
       "</div>"
      ],
      "text/plain": [
       "           Date first seen                       IP Pair      Duration  Proto  \\\n",
       "0  2017-03-15 00:01:16.632  192.168.100.5/192.168.220.16  0.000000e+00      3   \n",
       "1  2017-03-15 00:01:16.552  192.168.100.5/192.168.220.15  0.000000e+00      3   \n",
       "2  2017-03-15 00:01:16.551  192.168.100.5/192.168.220.15  6.613570e-09      3   \n",
       "3  2017-03-15 00:01:16.631  192.168.100.5/192.168.220.16  6.613570e-09      3   \n",
       "4  2017-03-15 00:01:16.552  192.168.100.5/192.168.220.15  0.000000e+00      3   \n",
       "\n",
       "      Src IP Addr    Src Pt     Dst IP Addr    Dst Pt   Packets         Bytes  \\\n",
       "0   192.168.100.5  0.006790  192.168.220.16  0.897902  0.000000  1.549787e-07   \n",
       "1   192.168.100.5  0.006790  192.168.220.15  0.745983  0.000000  1.549787e-07   \n",
       "2  192.168.220.15  0.745983   192.168.100.5  0.006790  0.000005  2.828361e-07   \n",
       "3  192.168.220.16  0.897902   192.168.100.5  0.006790  0.000005  2.828361e-07   \n",
       "4   192.168.100.5  0.006790  192.168.220.15  0.745983  0.000000  1.549787e-07   \n",
       "\n",
       "   Flows   Flags  Tos   class  attackType attackID attackDescription  \\\n",
       "0    0.0  .AP...  0.0  normal           0      ---               ---   \n",
       "1    0.0  .AP...  0.0  normal           0      ---               ---   \n",
       "2    0.0  .AP...  0.0  normal           0      ---               ---   \n",
       "3    0.0  .AP...  0.0  normal           0      ---               ---   \n",
       "4    0.0  .AP...  0.0  normal           0      ---               ---   \n",
       "\n",
       "   sourceIP_feature 1  sourceIP_feature 2  sourceIP_feature 3  \\\n",
       "0                 1.0                 1.0               0.500   \n",
       "1                 1.0                 1.0               0.500   \n",
       "2                 1.0                 1.0               0.875   \n",
       "3                 1.0                 1.0               0.875   \n",
       "4                 1.0                 1.0               0.500   \n",
       "\n",
       "   sourceIP_feature 4  sourceEXT_SERVER  sourceOPENSTACK_NET  sourceDNS  \\\n",
       "0            0.217391               0.0                  0.0        0.0   \n",
       "1            0.217391               0.0                  0.0        0.0   \n",
       "2            0.652174               0.0                  0.0        0.0   \n",
       "3            0.695652               0.0                  0.0        0.0   \n",
       "4            0.217391               0.0                  0.0        0.0   \n",
       "\n",
       "   destIP_feature 1  destIP_feature 2  destIP_feature 3  destIP_feature 4  \\\n",
       "0               0.5               0.5          0.714286          0.062745   \n",
       "1               0.5               0.5          0.714286          0.058824   \n",
       "2               0.5               0.5          0.285714          0.019608   \n",
       "3               0.5               0.5          0.285714          0.019608   \n",
       "4               0.5               0.5          0.714286          0.058824   \n",
       "\n",
       "   destEXT_SERVER  destOPENSTACK_NET  destDNS  GRE    ICMP   IGMP   TCP    \\\n",
       "0             0.0                0.0      0.0    0.0    0.0    0.0    1.0   \n",
       "1             0.0                0.0      0.0    0.0    0.0    0.0    1.0   \n",
       "2             0.0                0.0      0.0    0.0    0.0    0.0    1.0   \n",
       "3             0.0                0.0      0.0    0.0    0.0    0.0    1.0   \n",
       "4             0.0                0.0      0.0    0.0    0.0    0.0    1.0   \n",
       "\n",
       "   UDP    \n",
       "0    0.0  \n",
       "1    0.0  \n",
       "2    0.0  \n",
       "3    0.0  \n",
       "4    0.0  "
      ]
     },
     "execution_count": 22,
     "metadata": {},
     "output_type": "execute_result"
    }
   ],
   "source": [
    "#91850\n",
    "data.head()"
   ]
  },
  {
   "cell_type": "code",
   "execution_count": 23,
   "metadata": {},
   "outputs": [],
   "source": [
    "from datetime import datetime\n",
    "def unix_time(df):\n",
    "  #  df[' Timestamp'] = df[' Timestamp'].apply(lambda x: x + ':00' if len(x) != 19 else x)\n",
    "   # df[' Timestamp'] = df[' Timestamp'].apply(lambda x: x[0 : 5 : ] + x[7 : :] if len(x) != 19 else x[0 : 7 : ] + x[9 : :])\n",
    "    df['Date first seen'] = df['Date first seen'].apply(lambda x: datetime.strptime(x,'%Y-%m-%d %H:%M:%S.%f'))\n",
    "    df['Date first seen'] = df['Date first seen'].apply(lambda x: x.timestamp()*1000)\n",
    "    return df;"
   ]
  },
  {
   "cell_type": "code",
   "execution_count": 24,
   "metadata": {},
   "outputs": [],
   "source": [
    "def normal_profile(grouped):\n",
    "    grouped['---'] = unix_time(grouped['---'])\n",
    "    start_time = int(grouped['---'].head(1)['Date first seen'].values[0])\n",
    "    end_time = int(grouped['---'].tail(1)['Date first seen'].values[0])\n",
    "#date_bins = pd.IntervalIndex.from_tuples(\n",
    "#        [(i, i+3600000) for i in range(start_time, end_time, 3600000)],\n",
    "#        closed=\"left\")\n",
    "#date_labels = [f\"{i}\" for i in range(1, len(date_bins)+1, 1)]\n",
    "    normal_data = dict(tuple( grouped['---'].groupby( pd.cut(\n",
    "            grouped['---']['Date first seen'],\n",
    "               np.arange(start_time, end_time, 3*3600000)))))\n",
    "    del grouped['---']\n",
    "    num = []\n",
    "    for i in grouped_data.keys():\n",
    "          num.append(len(grouped_data[i]))\n",
    "    print(min(num))\n",
    "    num = max(num)\n",
    "    print(num)\n",
    "    print(len(grouped.keys()))\n",
    "    grouped = {**grouped, **normal_data}\n",
    "    print(len(grouped.keys()))\n",
    "    return grouped, num;"
   ]
  },
  {
   "cell_type": "code",
   "execution_count": 25,
   "metadata": {},
   "outputs": [
    {
     "data": {
      "text/plain": [
       "0"
      ]
     },
     "execution_count": 25,
     "metadata": {},
     "output_type": "execute_result"
    }
   ],
   "source": [
    "grouped_data= dict(tuple(data.groupby(['attackID'])))\n",
    "del data\n",
    "gc.collect()"
   ]
  },
  {
   "cell_type": "code",
   "execution_count": 26,
   "metadata": {
    "scrolled": true
   },
   "outputs": [
    {
     "name": "stdout",
     "output_type": "stream",
     "text": [
      "---: 7195669 : 0\n",
      "bruteForce : 26\n",
      "25: 201 : 1\n",
      "27: 680 : 1\n",
      "30: 46 : 1\n",
      "32: 335 : 1\n",
      "39: 364 : 1\n",
      "54: 183 : 1\n",
      "55: 757 : 1\n",
      "56: 427 : 1\n",
      "61: 705 : 1\n",
      "62: 574 : 1\n",
      "64: 480 : 1\n",
      "70: 240 : 1\n",
      "73: 200 : 1\n",
      "74: 200 : 1\n",
      "75: 200 : 1\n",
      "76: 168 : 1\n",
      "78: 200 : 1\n",
      "79: 200 : 1\n",
      "81: 200 : 1\n",
      "83: 200 : 1\n",
      "84: 200 : 1\n",
      "87: 200 : 1\n",
      "88: 200 : 1\n",
      "90: 200 : 1\n",
      "91: 40 : 1\n",
      "92: 40 : 1\n",
      "dos : 18\n",
      "16: 261003 : 2\n",
      "18: 295302 : 2\n",
      "23: 72788 : 2\n",
      "26: 74471 : 2\n",
      "28: 36306 : 2\n",
      "3: 37118 : 2\n",
      "31: 144845 : 2\n",
      "4: 72063 : 2\n",
      "42: 184040 : 2\n",
      "44: 261169 : 2\n",
      "45: 224960 : 2\n",
      "46: 111720 : 2\n",
      "53: 516299 : 2\n",
      "59: 110484 : 2\n",
      "6: 37134 : 2\n",
      "60: 333627 : 2\n",
      "63: 148641 : 2\n",
      "9: 37057 : 2\n",
      "pingScan: 16\n",
      "10: 311 : 3\n",
      "13: 513 : 3\n",
      "15: 64 : 3\n",
      "22: 295 : 3\n",
      "24: 466 : 3\n",
      "33: 307 : 3\n",
      "35: 263 : 3\n",
      "36: 494 : 3\n",
      "38: 267 : 3\n",
      "41: 379 : 3\n",
      "52: 607 : 3\n",
      "57: 522 : 3\n",
      "58: 510 : 3\n",
      "65: 373 : 3\n",
      "66: 359 : 3\n",
      "69: 360 : 3\n",
      "portScan : 32\n",
      "1: 7657 : 4\n",
      "11: 17401 : 4\n",
      "12: 11526 : 4\n",
      "14: 13807 : 4\n",
      "17: 13338 : 4\n",
      "19: 11672 : 4\n",
      "2: 1927 : 4\n",
      "20: 11748 : 4\n",
      "21: 5113 : 4\n",
      "29: 19732 : 4\n",
      "34: 12909 : 4\n",
      "37: 26114 : 4\n",
      "40: 11609 : 4\n",
      "43: 2143 : 4\n",
      "47: 13420 : 4\n",
      "48: 13600 : 4\n",
      "49: 17629 : 4\n",
      "5: 4948 : 4\n",
      "50: 4589 : 4\n",
      "51: 11968 : 4\n",
      "67: 13426 : 4\n",
      "68: 5632 : 4\n",
      "7: 9586 : 4\n",
      "71: 2008 : 4\n",
      "72: 2002 : 4\n",
      "77: 6410 : 4\n",
      "8: 4424 : 4\n",
      "80: 1991 : 4\n",
      "82: 1370 : 4\n",
      "85: 1984 : 4\n",
      "86: 2002 : 4\n",
      "89: 952 : 4\n"
     ]
    }
   ],
   "source": [
    "no_1 = []\n",
    "no_2 = []\n",
    "no_3 = []\n",
    "no_4 = []\n",
    "for i in grouped_data.keys():\n",
    "   \n",
    "    if grouped_data[i]['attackType'].unique()[0] == 0:\n",
    "        print(f\"{i}: {len(grouped_data[i])} : {grouped_data[i]['attackType'].unique()[0]}\")\n",
    "    if grouped_data[i]['attackType'].unique()[0] == 1:\n",
    "              no_1.append(i)\n",
    "    if grouped_data[i]['attackType'].unique()[0] == 2:\n",
    "              no_2.append(i)\n",
    "    if grouped_data[i]['attackType'].unique()[0] == 3:\n",
    "              no_3.append(i)\n",
    "    if grouped_data[i]['attackType'].unique()[0] == 4:\n",
    "              no_4.append(i)\n",
    "print(f\"bruteForce : {len(no_1)}\")\n",
    "for i in no_1:\n",
    "     print(f\"{i}: {len(grouped_data[i])} : {grouped_data[i]['attackType'].unique()[0]}\")\n",
    "print(f\"dos : {len(no_2)}\")\n",
    "for i in no_2:\n",
    "     print(f\"{i}: {len(grouped_data[i])} : {grouped_data[i]['attackType'].unique()[0]}\")\n",
    "print(f\"pingScan: {len(no_3)}\")\n",
    "for i in no_3:\n",
    "     print(f\"{i}: {len(grouped_data[i])} : {grouped_data[i]['attackType'].unique()[0]}\")\n",
    "print(f\"portScan : {len(no_4)}\")\n",
    "for i in no_4:\n",
    "     print(f\"{i}: {len(grouped_data[i])} : {grouped_data[i]['attackType'].unique()[0]}\")"
   ]
  },
  {
   "cell_type": "code",
   "execution_count": 27,
   "metadata": {},
   "outputs": [
    {
     "data": {
      "text/plain": [
       "20"
      ]
     },
     "execution_count": 27,
     "metadata": {},
     "output_type": "execute_result"
    }
   ],
   "source": [
    "del no_1\n",
    "del no_2\n",
    "del no_3\n",
    "del no_4\n",
    "gc.collect()"
   ]
  },
  {
   "cell_type": "code",
   "execution_count": 28,
   "metadata": {},
   "outputs": [],
   "source": [
    "def del_largeInstances(dic, length):\n",
    "    remove_ID = []\n",
    "    for i in dic.keys():\n",
    "        if (i != '---'):\n",
    "            if(len(dic[i]) >= length):\n",
    "                remove_ID.append(i)\n",
    "    print(len(remove_ID))\n",
    "    removed_attacks = {}\n",
    "    for i in remove_ID:\n",
    "        removed_attacks[i] = dic[i]\n",
    "        del dic[i]\n",
    "    return dic;"
   ]
  },
  {
   "cell_type": "code",
   "execution_count": 29,
   "metadata": {},
   "outputs": [
    {
     "name": "stdout",
     "output_type": "stream",
     "text": [
      "19\n"
     ]
    }
   ],
   "source": [
    "grouped_data = del_largeInstances(grouped_data, 20000)"
   ]
  },
  {
   "cell_type": "code",
   "execution_count": 30,
   "metadata": {},
   "outputs": [
    {
     "name": "stdout",
     "output_type": "stream",
     "text": [
      "40\n",
      "19732\n",
      "73\n",
      "350\n"
     ]
    }
   ],
   "source": [
    "#grouped_data, num = normal_profile(grouped_data)\n",
    "grouped_data1= {}\n",
    "for i in grouped_data.keys():\n",
    "    grouped_data[i] = flag_convert(grouped_data[i])\n",
    "   # grouped_data[i] =  drop_columns(grouped_data[i])\n",
    "grouped_data, num = normal_profile(grouped_data)\n",
    "for i in grouped_data.keys():\n",
    "   # grouped_data[i] = flag_convert(grouped_data[i])\n",
    "    grouped_data[i] =  drop_columns(grouped_data[i])"
   ]
  },
  {
   "cell_type": "code",
   "execution_count": 31,
   "metadata": {
    "scrolled": true
   },
   "outputs": [
    {
     "name": "stdout",
     "output_type": "stream",
     "text": [
      "1 : False\n",
      "10 : False\n",
      "11 : False\n",
      "12 : False\n",
      "13 : False\n",
      "14 : False\n",
      "15 : False\n",
      "17 : False\n",
      "19 : False\n",
      "2 : False\n",
      "20 : False\n",
      "21 : False\n",
      "22 : False\n",
      "24 : False\n",
      "25 : False\n",
      "27 : False\n",
      "29 : False\n",
      "30 : False\n",
      "32 : False\n",
      "33 : False\n",
      "34 : False\n",
      "35 : False\n",
      "36 : False\n",
      "38 : False\n",
      "39 : False\n",
      "40 : False\n",
      "41 : False\n",
      "43 : False\n",
      "47 : False\n",
      "48 : False\n",
      "49 : False\n",
      "5 : False\n",
      "50 : False\n",
      "51 : False\n",
      "52 : False\n",
      "54 : False\n",
      "55 : False\n",
      "56 : False\n",
      "57 : False\n",
      "58 : False\n",
      "61 : False\n",
      "62 : False\n",
      "64 : False\n",
      "65 : False\n",
      "66 : False\n",
      "67 : False\n",
      "68 : False\n",
      "69 : False\n",
      "7 : False\n",
      "70 : False\n",
      "71 : False\n",
      "72 : False\n",
      "73 : False\n",
      "74 : False\n",
      "75 : False\n",
      "76 : False\n",
      "77 : False\n",
      "78 : False\n",
      "79 : False\n",
      "8 : False\n",
      "80 : False\n",
      "81 : False\n",
      "82 : False\n",
      "83 : False\n",
      "84 : False\n",
      "85 : False\n",
      "86 : False\n",
      "87 : False\n",
      "88 : False\n",
      "89 : False\n",
      "90 : False\n",
      "91 : False\n",
      "92 : False\n",
      "(1489536076632, 1489546876632] : False\n",
      "(1489546876632, 1489557676632] : False\n",
      "(1489557676632, 1489568476632] : False\n",
      "(1489568476632, 1489579276632] : False\n",
      "(1489579276632, 1489590076632] : False\n",
      "(1489590076632, 1489600876632] : False\n",
      "(1489600876632, 1489611676632] : False\n",
      "(1489611676632, 1489622476632] : False\n",
      "(1489622476632, 1489633276632] : False\n",
      "(1489633276632, 1489644076632] : False\n",
      "(1489644076632, 1489654876632] : False\n",
      "(1489654876632, 1489665676632] : False\n",
      "(1489665676632, 1489676476632] : False\n",
      "(1489676476632, 1489687276632] : False\n",
      "(1489687276632, 1489698076632] : False\n",
      "(1489698076632, 1489708876632] : False\n",
      "(1489708876632, 1489719676632] : False\n",
      "(1489719676632, 1489730476632] : False\n",
      "(1489730476632, 1489741276632] : False\n",
      "(1489741276632, 1489752076632] : False\n",
      "(1489752076632, 1489762876632] : False\n",
      "(1489762876632, 1489773676632] : False\n",
      "(1489773676632, 1489784476632] : False\n",
      "(1489784476632, 1489795276632] : False\n",
      "(1489795276632, 1489806076632] : False\n",
      "(1489806076632, 1489816876632] : False\n",
      "(1489816876632, 1489827676632] : False\n",
      "(1489827676632, 1489838476632] : False\n",
      "(1489838476632, 1489849276632] : False\n",
      "(1489849276632, 1489860076632] : False\n",
      "(1489860076632, 1489870876632] : False\n",
      "(1489870876632, 1489881676632] : False\n",
      "(1489881676632, 1489892476632] : False\n",
      "(1489892476632, 1489903276632] : False\n",
      "(1489903276632, 1489914076632] : False\n",
      "(1489914076632, 1489924876632] : False\n",
      "(1489924876632, 1489935676632] : False\n",
      "(1489935676632, 1489946476632] : False\n",
      "(1489946476632, 1489957276632] : False\n",
      "(1489957276632, 1489968076632] : False\n",
      "(1489968076632, 1489978876632] : False\n",
      "(1489978876632, 1489989676632] : False\n",
      "(1489989676632, 1490000476632] : False\n",
      "(1490000476632, 1490011276632] : False\n",
      "(1490011276632, 1490022076632] : False\n",
      "(1490022076632, 1490032876632] : False\n",
      "(1490032876632, 1490043676632] : False\n",
      "(1490043676632, 1490054476632] : False\n",
      "(1490054476632, 1490065276632] : False\n",
      "(1490065276632, 1490076076632] : False\n",
      "(1490076076632, 1490086876632] : False\n",
      "(1490086876632, 1490097676632] : False\n",
      "(1490097676632, 1490108476632] : False\n",
      "(1490108476632, 1490119276632] : False\n",
      "(1490119276632, 1490130076632] : False\n",
      "(1490130076632, 1490140876632] : False\n",
      "(1490140876632, 1490151676632] : False\n",
      "(1490151676632, 1490162476632] : False\n",
      "(1490162476632, 1490173276632] : False\n",
      "(1490173276632, 1490184076632] : False\n",
      "(1490184076632, 1490194876632] : False\n",
      "(1490194876632, 1490205676632] : False\n",
      "(1490205676632, 1490216476632] : False\n",
      "(1490216476632, 1490227276632] : False\n",
      "(1490227276632, 1490238076632] : False\n",
      "(1490238076632, 1490248876632] : False\n",
      "(1490248876632, 1490259676632] : False\n",
      "(1490259676632, 1490270476632] : False\n",
      "(1490270476632, 1490281276632] : False\n",
      "(1490281276632, 1490292076632] : False\n",
      "(1490292076632, 1490302876632] : False\n",
      "(1490302876632, 1490313676632] : False\n",
      "(1490313676632, 1490324476632] : False\n",
      "(1490324476632, 1490335276632] : False\n",
      "(1490335276632, 1490346076632] : False\n",
      "(1490346076632, 1490356876632] : False\n",
      "(1490356876632, 1490367676632] : False\n",
      "(1490367676632, 1490378476632] : False\n",
      "(1490378476632, 1490389276632] : False\n",
      "(1490389276632, 1490400076632] : False\n",
      "(1490400076632, 1490410876632] : False\n",
      "(1490410876632, 1490421676632] : False\n",
      "(1490421676632, 1490432476632] : False\n",
      "(1490432476632, 1490443276632] : False\n",
      "(1490443276632, 1490454076632] : False\n",
      "(1490454076632, 1490464876632] : False\n",
      "(1490464876632, 1490475676632] : False\n",
      "(1490475676632, 1490486476632] : False\n",
      "(1490486476632, 1490497276632] : False\n",
      "(1490497276632, 1490508076632] : False\n",
      "(1490508076632, 1490518876632] : False\n",
      "(1490518876632, 1490529676632] : False\n",
      "(1490529676632, 1490540476632] : False\n",
      "(1490540476632, 1490551276632] : False\n",
      "(1490551276632, 1490562076632] : False\n",
      "(1490562076632, 1490572876632] : False\n",
      "(1490572876632, 1490583676632] : False\n",
      "(1490583676632, 1490594476632] : False\n",
      "(1490594476632, 1490605276632] : False\n",
      "(1490605276632, 1490616076632] : False\n",
      "(1490616076632, 1490626876632] : False\n",
      "(1490626876632, 1490637676632] : False\n",
      "(1490637676632, 1490648476632] : False\n",
      "(1490648476632, 1490659276632] : False\n",
      "(1490659276632, 1490670076632] : False\n",
      "(1490670076632, 1490680876632] : False\n",
      "(1490680876632, 1490691676632] : False\n",
      "(1490691676632, 1490702476632] : False\n",
      "(1490702476632, 1490713276632] : False\n",
      "(1490713276632, 1490724076632] : False\n",
      "(1490724076632, 1490734876632] : False\n",
      "(1490734876632, 1490745676632] : False\n",
      "(1490745676632, 1490756476632] : False\n",
      "(1490756476632, 1490767276632] : False\n",
      "(1490767276632, 1490778076632] : False\n",
      "(1490778076632, 1490788876632] : False\n",
      "(1490788876632, 1490799676632] : False\n",
      "(1490799676632, 1490810476632] : False\n",
      "(1490810476632, 1490821276632] : False\n",
      "(1490821276632, 1490832076632] : False\n",
      "(1490832076632, 1490842876632] : False\n",
      "(1490842876632, 1490853676632] : False\n",
      "(1490853676632, 1490864476632] : False\n",
      "(1490864476632, 1490875276632] : False\n",
      "(1490875276632, 1490886076632] : False\n",
      "(1490886076632, 1490896876632] : False\n",
      "(1490896876632, 1490907676632] : False\n",
      "(1490907676632, 1490918476632] : False\n",
      "(1490918476632, 1490929276632] : False\n",
      "(1490929276632, 1490940076632] : False\n",
      "(1490940076632, 1490950876632] : False\n",
      "(1490950876632, 1490961676632] : False\n",
      "(1490961676632, 1490972476632] : False\n",
      "(1490972476632, 1490983276632] : False\n",
      "(1490983276632, 1490994076632] : False\n",
      "(1490994076632, 1491004876632] : False\n",
      "(1491004876632, 1491015676632] : False\n",
      "(1491015676632, 1491026476632] : False\n",
      "(1491026476632, 1491037276632] : False\n",
      "(1491037276632, 1491048076632] : False\n",
      "(1491048076632, 1491058876632] : False\n",
      "(1491058876632, 1491069676632] : False\n",
      "(1491069676632, 1491080476632] : False\n",
      "(1491080476632, 1491091276632] : False\n",
      "(1491091276632, 1491102076632] : False\n",
      "(1491102076632, 1491112876632] : False\n",
      "(1491112876632, 1491123676632] : False\n",
      "(1491123676632, 1491134476632] : False\n",
      "(1491134476632, 1491145276632] : False\n",
      "(1491145276632, 1491156076632] : False\n",
      "(1491156076632, 1491166876632] : False\n",
      "(1491166876632, 1491177676632] : False\n",
      "(1491177676632, 1491188476632] : False\n",
      "(1491188476632, 1491199276632] : False\n",
      "(1491199276632, 1491210076632] : False\n",
      "(1491210076632, 1491220876632] : False\n",
      "(1491220876632, 1491231676632] : False\n",
      "(1491231676632, 1491242476632] : False\n",
      "(1491242476632, 1491253276632] : False\n",
      "(1491253276632, 1491264076632] : False\n",
      "(1491264076632, 1491274876632] : False\n",
      "(1491274876632, 1491285676632] : False\n",
      "(1491285676632, 1491296476632] : False\n",
      "(1491296476632, 1491307276632] : False\n",
      "(1491307276632, 1491318076632] : False\n",
      "(1491318076632, 1491328876632] : False\n",
      "(1491328876632, 1491339676632] : False\n",
      "(1491339676632, 1491350476632] : False\n",
      "(1491350476632, 1491361276632] : False\n",
      "(1491361276632, 1491372076632] : False\n",
      "(1491372076632, 1491382876632] : False\n",
      "(1491382876632, 1491393676632] : False\n",
      "(1491393676632, 1491404476632] : False\n",
      "(1491404476632, 1491415276632] : False\n",
      "(1491415276632, 1491426076632] : False\n",
      "(1491426076632, 1491436876632] : False\n",
      "(1491436876632, 1491447676632] : False\n",
      "(1491447676632, 1491458476632] : False\n",
      "(1491458476632, 1491469276632] : False\n",
      "(1491469276632, 1491480076632] : False\n",
      "(1491480076632, 1491490876632] : False\n",
      "(1491490876632, 1491501676632] : False\n",
      "(1491501676632, 1491512476632] : False\n",
      "(1491512476632, 1491523276632] : False\n",
      "(1491523276632, 1491534076632] : False\n",
      "(1491534076632, 1491544876632] : False\n",
      "(1491544876632, 1491555676632] : False\n",
      "(1491555676632, 1491566476632] : False\n",
      "(1491566476632, 1491577276632] : False\n",
      "(1491577276632, 1491588076632] : False\n",
      "(1491588076632, 1491598876632] : False\n",
      "(1491598876632, 1491609676632] : False\n",
      "(1491609676632, 1491620476632] : False\n",
      "(1491620476632, 1491631276632] : False\n",
      "(1491631276632, 1491642076632] : False\n",
      "(1491642076632, 1491652876632] : False\n",
      "(1491652876632, 1491663676632] : False\n",
      "(1491663676632, 1491674476632] : False\n",
      "(1491674476632, 1491685276632] : False\n",
      "(1491685276632, 1491696076632] : False\n",
      "(1491696076632, 1491706876632] : False\n",
      "(1491706876632, 1491717676632] : False\n",
      "(1491717676632, 1491728476632] : False\n",
      "(1491728476632, 1491739276632] : False\n",
      "(1491739276632, 1491750076632] : False\n",
      "(1491750076632, 1491760876632] : False\n",
      "(1491760876632, 1491771676632] : False\n",
      "(1491771676632, 1491782476632] : False\n",
      "(1491782476632, 1491793276632] : False\n",
      "(1491793276632, 1491804076632] : False\n",
      "(1491804076632, 1491814876632] : False\n",
      "(1491814876632, 1491825676632] : False\n",
      "(1491825676632, 1491836476632] : False\n",
      "(1491836476632, 1491847276632] : False\n",
      "(1491847276632, 1491858076632] : False\n",
      "(1491858076632, 1491868876632] : False\n",
      "(1491868876632, 1491879676632] : False\n",
      "(1491879676632, 1491890476632] : False\n",
      "(1491890476632, 1491901276632] : False\n",
      "(1491901276632, 1491912076632] : False\n",
      "(1491912076632, 1491922876632] : False\n",
      "(1491922876632, 1491933676632] : False\n",
      "(1491933676632, 1491944476632] : False\n",
      "(1491944476632, 1491955276632] : False\n",
      "(1491955276632, 1491966076632] : False\n",
      "(1491966076632, 1491976876632] : False\n",
      "(1491976876632, 1491987676632] : False\n",
      "(1491987676632, 1491998476632] : False\n",
      "(1491998476632, 1492009276632] : False\n",
      "(1492009276632, 1492020076632] : False\n",
      "(1492020076632, 1492030876632] : False\n",
      "(1492030876632, 1492041676632] : False\n",
      "(1492041676632, 1492052476632] : False\n",
      "(1492052476632, 1492063276632] : False\n",
      "(1492063276632, 1492074076632] : False\n",
      "(1492074076632, 1492084876632] : False\n",
      "(1492084876632, 1492095676632] : False\n",
      "(1492095676632, 1492106476632] : False\n",
      "(1492106476632, 1492117276632] : False\n",
      "(1492117276632, 1492128076632] : False\n",
      "(1492128076632, 1492138876632] : False\n",
      "(1492138876632, 1492149676632] : False\n",
      "(1492149676632, 1492160476632] : False\n",
      "(1492160476632, 1492171276632] : False\n",
      "(1492171276632, 1492182076632] : False\n"
     ]
    },
    {
     "name": "stdout",
     "output_type": "stream",
     "text": [
      "(1492182076632, 1492192876632] : False\n",
      "(1492192876632, 1492203676632] : False\n",
      "(1492203676632, 1492214476632] : False\n",
      "(1492214476632, 1492225276632] : False\n",
      "(1492225276632, 1492236076632] : False\n",
      "(1492236076632, 1492246876632] : False\n",
      "(1492246876632, 1492257676632] : False\n",
      "(1492257676632, 1492268476632] : False\n",
      "(1492268476632, 1492279276632] : False\n",
      "(1492279276632, 1492290076632] : False\n",
      "(1492290076632, 1492300876632] : False\n",
      "(1492300876632, 1492311676632] : False\n",
      "(1492311676632, 1492322476632] : False\n",
      "(1492322476632, 1492333276632] : False\n",
      "(1492333276632, 1492344076632] : False\n",
      "(1492344076632, 1492354876632] : False\n",
      "(1492354876632, 1492365676632] : False\n",
      "(1492365676632, 1492376476632] : False\n",
      "(1492376476632, 1492387276632] : False\n",
      "(1492387276632, 1492398076632] : False\n",
      "(1492398076632, 1492408876632] : False\n",
      "(1492408876632, 1492419676632] : False\n",
      "(1492419676632, 1492430476632] : False\n",
      "(1492430476632, 1492441276632] : False\n",
      "(1492441276632, 1492452076632] : False\n",
      "(1492452076632, 1492462876632] : False\n",
      "(1492462876632, 1492473676632] : False\n",
      "(1492473676632, 1492484476632] : False\n",
      "(1492484476632, 1492495276632] : False\n",
      "(1492495276632, 1492506076632] : False\n",
      "(1492506076632, 1492516876632] : False\n",
      "(1492516876632, 1492527676632] : False\n"
     ]
    }
   ],
   "source": [
    "for i in grouped_data.keys():\n",
    "    #if (grouped_data[i].hasnull())\n",
    "    print(f'{i} : {grouped_data[i].isnull().values.any()}')"
   ]
  },
  {
   "cell_type": "code",
   "execution_count": 32,
   "metadata": {},
   "outputs": [],
   "source": [
    "#grouped_data[(1491346876632, 1491350476632)].head()"
   ]
  },
  {
   "cell_type": "code",
   "execution_count": 33,
   "metadata": {},
   "outputs": [
    {
     "name": "stdout",
     "output_type": "stream",
     "text": [
      "167\n"
     ]
    }
   ],
   "source": [
    "counter = 0\n",
    "for i in grouped_data.keys():\n",
    "    if ( len(grouped_data[i]) == 0):\n",
    "        counter = counter +1;\n",
    "print(counter)"
   ]
  },
  {
   "cell_type": "code",
   "execution_count": 34,
   "metadata": {},
   "outputs": [],
   "source": [
    "def roundup(x):\n",
    "    return x if x % 100 == 0 else x + 100 - x % 100\n",
    "#Convert to 3D arrays, input dict\n",
    "def make_array(dic):\n",
    "    x = []\n",
    "    y = []\n",
    "    zero_arrays = []\n",
    "    for i in dic.keys():\n",
    "        if ( len(dic[i]) == 0):\n",
    "            zero_arrays.append(i);\n",
    "    for i in zero_arrays:\n",
    "        del dic[i]\n",
    "    for i in dic.keys():\n",
    "        x.append(np.array(dic[i].drop(['attackType'],axis = 1)).astype(np.float32))\n",
    "       # print(f'{i}')\n",
    "        y.append(dic[i]['attackType'].values[0])\n",
    "    print(len(y))\n",
    "    o = []\n",
    "    features = len(x[1][1])\n",
    "    #for i in x:\n",
    "     #   o.append(len(i))\n",
    "   # print(min(o))\n",
    "    o = num\n",
    "    o = roundup(o)\n",
    "    print(o)\n",
    "    index = 0\n",
    "    for i in x:\n",
    "        l = len(i)\n",
    "        i = list(i)\n",
    "        if(o > l):\n",
    "            l = o-l\n",
    "            for j in range(0, l, 1):\n",
    "                i.append([0] * features)\n",
    "        elif (o<l):\n",
    "            l = l-o\n",
    "            i = i[:-l]\n",
    "        x[index] = np.array(i).astype(np.float32)\n",
    "        index = index + 1\n",
    "    return x,y"
   ]
  },
  {
   "cell_type": "code",
   "execution_count": 35,
   "metadata": {},
   "outputs": [
    {
     "name": "stdout",
     "output_type": "stream",
     "text": [
      "183\n",
      "19800\n"
     ]
    }
   ],
   "source": [
    "X,Y = make_array(grouped_data)\n",
    "del grouped_data\n",
    "gc.collect()\n",
    "Y = np.array(Y)\n",
    "X = np.array(X)\n"
   ]
  },
  {
   "cell_type": "code",
   "execution_count": 36,
   "metadata": {},
   "outputs": [
    {
     "data": {
      "text/plain": [
       "{0: 110, 1: 26, 3: 16, 4: 31}"
      ]
     },
     "execution_count": 36,
     "metadata": {},
     "output_type": "execute_result"
    }
   ],
   "source": [
    "unique, counts = np.unique(Y, return_counts=True)\n",
    "dict(zip(unique, counts))"
   ]
  },
  {
   "cell_type": "code",
   "execution_count": 37,
   "metadata": {},
   "outputs": [],
   "source": [
    "from sklearn.model_selection import train_test_split\n",
    "from sklearn.tree import DecisionTreeClassifier\n",
    "X_train, X_test, Y_train, Y_test = train_test_split(X,Y , test_size=0.2, random_state=0,  stratify=Y)"
   ]
  },
  {
   "cell_type": "code",
   "execution_count": 38,
   "metadata": {},
   "outputs": [],
   "source": [
    "#for i in X_train:\n",
    " #   print(f\"{X_train.indexOf(i)} \")"
   ]
  },
  {
   "cell_type": "code",
   "execution_count": 39,
   "metadata": {},
   "outputs": [
    {
     "data": {
      "text/plain": [
       "80"
      ]
     },
     "execution_count": 39,
     "metadata": {},
     "output_type": "execute_result"
    }
   ],
   "source": [
    "del X,Y\n",
    "gc.collect()"
   ]
  },
  {
   "cell_type": "code",
   "execution_count": 40,
   "metadata": {},
   "outputs": [
    {
     "data": {
      "text/plain": [
       "{0: 88, 1: 21, 3: 13, 4: 24}"
      ]
     },
     "execution_count": 40,
     "metadata": {},
     "output_type": "execute_result"
    }
   ],
   "source": [
    "unique, counts = np.unique(Y_train, return_counts=True)\n",
    "dict(zip(unique, counts))"
   ]
  },
  {
   "cell_type": "code",
   "execution_count": 41,
   "metadata": {},
   "outputs": [
    {
     "data": {
      "text/plain": [
       "{0: 22, 1: 5, 3: 3, 4: 7}"
      ]
     },
     "execution_count": 41,
     "metadata": {},
     "output_type": "execute_result"
    }
   ],
   "source": [
    "unique, counts = np.unique(Y_test, return_counts=True)\n",
    "dict(zip(unique, counts))"
   ]
  },
  {
   "cell_type": "code",
   "execution_count": 42,
   "metadata": {},
   "outputs": [
    {
     "name": "stdout",
     "output_type": "stream",
     "text": [
      "False\n",
      "False\n",
      "False\n",
      "False\n",
      "False\n",
      "False\n",
      "False\n",
      "False\n",
      "False\n",
      "False\n",
      "False\n",
      "False\n",
      "False\n",
      "False\n",
      "False\n",
      "False\n",
      "False\n",
      "False\n",
      "False\n",
      "False\n",
      "False\n",
      "False\n",
      "False\n",
      "False\n",
      "False\n",
      "False\n",
      "False\n",
      "False\n",
      "False\n",
      "False\n",
      "False\n",
      "False\n",
      "False\n",
      "False\n",
      "False\n",
      "False\n",
      "False\n",
      "False\n",
      "False\n",
      "False\n",
      "False\n",
      "False\n",
      "False\n",
      "False\n",
      "False\n",
      "False\n",
      "False\n",
      "False\n",
      "False\n",
      "False\n",
      "False\n",
      "False\n",
      "False\n",
      "False\n",
      "False\n",
      "False\n",
      "False\n",
      "False\n",
      "False\n",
      "False\n",
      "False\n",
      "False\n",
      "False\n",
      "False\n",
      "False\n",
      "False\n",
      "False\n",
      "False\n",
      "False\n",
      "False\n",
      "False\n",
      "False\n",
      "False\n",
      "False\n",
      "False\n",
      "False\n",
      "False\n",
      "False\n",
      "False\n",
      "False\n",
      "False\n",
      "False\n",
      "False\n",
      "False\n",
      "False\n",
      "False\n",
      "False\n",
      "False\n",
      "False\n",
      "False\n",
      "False\n",
      "False\n",
      "False\n",
      "False\n",
      "False\n",
      "False\n",
      "False\n",
      "False\n",
      "False\n",
      "False\n",
      "False\n",
      "False\n",
      "False\n",
      "False\n",
      "False\n",
      "False\n",
      "False\n",
      "False\n",
      "False\n",
      "False\n",
      "False\n",
      "False\n",
      "False\n",
      "False\n",
      "False\n",
      "False\n",
      "False\n",
      "False\n",
      "False\n",
      "False\n",
      "False\n",
      "False\n",
      "False\n",
      "False\n",
      "False\n",
      "False\n",
      "False\n",
      "False\n",
      "False\n",
      "False\n",
      "False\n",
      "False\n",
      "False\n",
      "False\n",
      "False\n",
      "False\n",
      "False\n",
      "False\n",
      "False\n",
      "False\n",
      "False\n",
      "False\n",
      "False\n",
      "False\n",
      "False\n",
      "False\n"
     ]
    }
   ],
   "source": [
    "for i in X_train:\n",
    "    print(f'{np.isnan(i).any()}')"
   ]
  },
  {
   "cell_type": "code",
   "execution_count": 43,
   "metadata": {},
   "outputs": [],
   "source": [
    "import tensorflow as tf\n",
    "from tensorflow import keras\n",
    "from tensorflow.keras.layers import Embedding, Dense, LSTM, Dropout, Masking, Flatten, Input, Bidirectional, SimpleRNN\n",
    "from tensorflow.keras.losses import BinaryCrossentropy\n",
    "from tensorflow.keras.models import Sequential\n",
    "from tensorflow.keras.optimizers import Adam\n",
    "from tensorflow.keras.preprocessing.sequence import pad_sequences"
   ]
  },
  {
   "cell_type": "code",
   "execution_count": 44,
   "metadata": {},
   "outputs": [
    {
     "data": {
      "text/plain": [
       "19732"
      ]
     },
     "execution_count": 44,
     "metadata": {},
     "output_type": "execute_result"
    }
   ],
   "source": [
    "num"
   ]
  },
  {
   "cell_type": "code",
   "execution_count": 45,
   "metadata": {},
   "outputs": [
    {
     "name": "stdout",
     "output_type": "stream",
     "text": [
      "samples: 146 \n",
      " X:19800 \n",
      " Y:34\n"
     ]
    }
   ],
   "source": [
    "nsamples,nx, ny = X_train.shape\n",
    "print(f\"samples: {nsamples} \\n X:{nx} \\n Y:{ny}\")"
   ]
  },
  {
   "cell_type": "code",
   "execution_count": 88,
   "metadata": {},
   "outputs": [],
   "source": [
    "from keras.callbacks import EarlyStopping\n",
    "from keras.callbacks import ModelCheckpoint, LambdaCallback\n",
    "wie_by_epoch = []\n",
    "model_check = ModelCheckpoint(\"./models/Testpoints/best_model.hdf5\", monitor='loss', verbose=0, save_best_only=True, mode='min', save_freq=1)\n",
    "print_weights = LambdaCallback(on_epoch_end=lambda batch, logs:wie_by_epoch.append(model.get_weights()))\n",
    "callback = tf.keras.callbacks.EarlyStopping(monitor='loss', patience=4, verbose= 2)"
   ]
  },
  {
   "cell_type": "code",
   "execution_count": 89,
   "metadata": {},
   "outputs": [],
   "source": [
    "model = Sequential()\n",
    "model.add(SimpleRNN(16, input_shape=(nx, ny), return_sequences = True, activation='relu'))\n",
    "model.add(Flatten())\n",
    "model.add(Dense(units=5, activation='softmax'))\n",
    "model.compile(optimizer= 'rmsprop', loss='sparse_categorical_crossentropy',  metrics=[keras.metrics.SparseCategoricalAccuracy()])"
   ]
  },
  {
   "cell_type": "code",
   "execution_count": 90,
   "metadata": {},
   "outputs": [
    {
     "data": {
      "text/plain": [
       "(None, 5)"
      ]
     },
     "execution_count": 90,
     "metadata": {},
     "output_type": "execute_result"
    }
   ],
   "source": [
    "model.build(input_shape = (nx,ny))\n",
    "model.output_shape"
   ]
  },
  {
   "cell_type": "code",
   "execution_count": 87,
   "metadata": {},
   "outputs": [
    {
     "data": {
      "text/plain": [
       "50453"
      ]
     },
     "execution_count": 87,
     "metadata": {},
     "output_type": "execute_result"
    }
   ],
   "source": [
    "#del model, wie_by_epoch\n",
    "\n",
    "gc.collect()"
   ]
  },
  {
   "cell_type": "code",
   "execution_count": 91,
   "metadata": {},
   "outputs": [
    {
     "name": "stdout",
     "output_type": "stream",
     "text": [
      "Model: \"sequential_6\"\n",
      "_________________________________________________________________\n",
      "Layer (type)                 Output Shape              Param #   \n",
      "=================================================================\n",
      "simple_rnn_6 (SimpleRNN)     (None, 19800, 64)         6336      \n",
      "_________________________________________________________________\n",
      "flatten_1 (Flatten)          (None, 1267200)           0         \n",
      "_________________________________________________________________\n",
      "dense_6 (Dense)              (None, 5)                 6336005   \n",
      "=================================================================\n",
      "Total params: 6,342,341\n",
      "Trainable params: 6,342,341\n",
      "Non-trainable params: 0\n",
      "_________________________________________________________________\n"
     ]
    }
   ],
   "source": [
    "#model.build(input_shape = (nx,ny))\n",
    "model.summary()\n"
   ]
  },
  {
   "cell_type": "code",
   "execution_count": 92,
   "metadata": {},
   "outputs": [
    {
     "data": {
      "image/png": "[encoded data removed]",
      "text/plain": [
       "<IPython.core.display.Image object>"
      ]
     },
     "execution_count": 92,
     "metadata": {},
     "output_type": "execute_result"
    }
   ],
   "source": [
    "from tensorflow.keras.utils import plot_model\n",
    "plot_model(model, show_shapes=True)"
   ]
  },
  {
   "cell_type": "code",
   "execution_count": 93,
   "metadata": {
    "scrolled": true
   },
   "outputs": [
    {
     "data": {
      "text/plain": [
       "[array([[ 0.2226912 ,  0.17836256,  0.22069459, ..., -0.14577422,\n",
       "          0.12870805, -0.02856497],\n",
       "        [-0.09685661,  0.13012205, -0.17730743, ..., -0.13219371,\n",
       "          0.11965893,  0.05970834],\n",
       "        [-0.01103699, -0.23069388, -0.12373561, ...,  0.13428183,\n",
       "          0.00081529,  0.22184558],\n",
       "        ...,\n",
       "        [ 0.17981742,  0.02894546,  0.13734   , ..., -0.05152781,\n",
       "          0.11238347, -0.23767933],\n",
       "        [-0.2470447 ,  0.1631623 ,  0.13611092, ..., -0.16960573,\n",
       "          0.05710272,  0.1598431 ],\n",
       "        [-0.20800193, -0.07783352,  0.10121562, ...,  0.08853655,\n",
       "         -0.01249383,  0.07253496]], dtype=float32),\n",
       " array([[-0.00258934, -0.07871086,  0.08642045, ..., -0.02303461,\n",
       "          0.01192139,  0.02821899],\n",
       "        [-0.11606847,  0.12352765, -0.22718087, ..., -0.01186082,\n",
       "         -0.06716762, -0.2670524 ],\n",
       "        [-0.00574405, -0.15578398,  0.19371557, ..., -0.11858312,\n",
       "         -0.16290349, -0.17227498],\n",
       "        ...,\n",
       "        [ 0.21097368, -0.03853206, -0.04897326, ..., -0.25595325,\n",
       "          0.23994988,  0.08422234],\n",
       "        [ 0.13538508,  0.02343698,  0.00826967, ...,  0.03373834,\n",
       "          0.12924759, -0.10385363],\n",
       "        [ 0.08898712,  0.01518303, -0.06661642, ...,  0.02900239,\n",
       "          0.12041023,  0.13751145]], dtype=float32),\n",
       " array([0., 0., 0., 0., 0., 0., 0., 0., 0., 0., 0., 0., 0., 0., 0., 0., 0.,\n",
       "        0., 0., 0., 0., 0., 0., 0., 0., 0., 0., 0., 0., 0., 0., 0., 0., 0.,\n",
       "        0., 0., 0., 0., 0., 0., 0., 0., 0., 0., 0., 0., 0., 0., 0., 0., 0.,\n",
       "        0., 0., 0., 0., 0., 0., 0., 0., 0., 0., 0., 0., 0.], dtype=float32),\n",
       " array([[ 1.9611011e-03,  1.5819857e-03, -1.5195700e-03, -1.2807472e-03,\n",
       "         -1.1023278e-03],\n",
       "        [ 2.0892362e-03, -5.1032985e-05, -1.1571412e-03,  2.0102088e-03,\n",
       "          2.0687880e-03],\n",
       "        [-1.5342098e-03, -3.2555789e-04,  8.9065242e-04,  1.7731159e-03,\n",
       "          1.9788269e-03],\n",
       "        ...,\n",
       "        [-1.3662714e-03, -1.8867204e-03, -1.3398889e-03,  1.6046409e-03,\n",
       "         -2.1400242e-03],\n",
       "        [-5.6574924e-04, -1.1485070e-03, -7.4377120e-04,  1.2478575e-03,\n",
       "         -2.3855711e-04],\n",
       "        [ 1.7592160e-03,  2.0257260e-03, -1.0447628e-03, -8.6567563e-04,\n",
       "          9.0677221e-04]], dtype=float32),\n",
       " array([0., 0., 0., 0., 0.], dtype=float32)]"
      ]
     },
     "execution_count": 93,
     "metadata": {},
     "output_type": "execute_result"
    }
   ],
   "source": [
    "wights = model.get_weights()\n",
    "wights"
   ]
  },
  {
   "cell_type": "code",
   "execution_count": 94,
   "metadata": {
    "scrolled": true
   },
   "outputs": [
    {
     "name": "stdout",
     "output_type": "stream",
     "text": [
      "Epoch 1/120\n",
      "5/5 - 18s - loss: 46.7432 - sparse_categorical_accuracy: 0.5548\n",
      "Epoch 2/120\n",
      "5/5 - 21s - loss: 5.2441 - sparse_categorical_accuracy: 0.9247\n",
      "Epoch 3/120\n",
      "5/5 - 20s - loss: 0.6725 - sparse_categorical_accuracy: 0.9863\n",
      "Epoch 4/120\n",
      "5/5 - 21s - loss: 0.4563 - sparse_categorical_accuracy: 0.9726\n",
      "Epoch 5/120\n",
      "5/5 - 21s - loss: 0.0123 - sparse_categorical_accuracy: 0.9932\n",
      "Epoch 6/120\n",
      "5/5 - 21s - loss: 0.0082 - sparse_categorical_accuracy: 0.9932\n",
      "Epoch 7/120\n",
      "5/5 - 22s - loss: 0.0083 - sparse_categorical_accuracy: 1.0000\n",
      "Epoch 8/120\n",
      "5/5 - 22s - loss: 0.0072 - sparse_categorical_accuracy: 0.9932\n",
      "Epoch 9/120\n",
      "5/5 - 22s - loss: 0.0077 - sparse_categorical_accuracy: 1.0000\n",
      "Epoch 10/120\n",
      "5/5 - 23s - loss: 0.0055 - sparse_categorical_accuracy: 1.0000\n",
      "Epoch 11/120\n",
      "5/5 - 23s - loss: 0.0037 - sparse_categorical_accuracy: 1.0000\n",
      "Epoch 12/120\n",
      "5/5 - 24s - loss: 0.0036 - sparse_categorical_accuracy: 1.0000\n",
      "Epoch 13/120\n",
      "5/5 - 25s - loss: 0.0036 - sparse_categorical_accuracy: 1.0000\n",
      "Epoch 14/120\n",
      "5/5 - 26s - loss: 0.0030 - sparse_categorical_accuracy: 1.0000\n",
      "Epoch 15/120\n",
      "5/5 - 26s - loss: 0.0015 - sparse_categorical_accuracy: 1.0000\n",
      "Epoch 16/120\n",
      "5/5 - 27s - loss: 0.0031 - sparse_categorical_accuracy: 1.0000\n",
      "Epoch 17/120\n",
      "5/5 - 28s - loss: 6.7982e-04 - sparse_categorical_accuracy: 1.0000\n",
      "Epoch 18/120\n",
      "5/5 - 28s - loss: 3.7951e-04 - sparse_categorical_accuracy: 1.0000\n",
      "Epoch 19/120\n",
      "5/5 - 27s - loss: 3.2731e-04 - sparse_categorical_accuracy: 1.0000\n",
      "Epoch 20/120\n",
      "5/5 - 27s - loss: 3.2639e-04 - sparse_categorical_accuracy: 1.0000\n",
      "Epoch 21/120\n",
      "5/5 - 27s - loss: 2.6962e-04 - sparse_categorical_accuracy: 1.0000\n",
      "Epoch 22/120\n",
      "5/5 - 27s - loss: 2.4396e-04 - sparse_categorical_accuracy: 1.0000\n",
      "Epoch 23/120\n",
      "5/5 - 27s - loss: 3.1309e-04 - sparse_categorical_accuracy: 1.0000\n",
      "Epoch 24/120\n",
      "5/5 - 28s - loss: 1.4554e-04 - sparse_categorical_accuracy: 1.0000\n",
      "Epoch 25/120\n",
      "5/5 - 27s - loss: 1.0966e-04 - sparse_categorical_accuracy: 1.0000\n",
      "Epoch 26/120\n",
      "5/5 - 27s - loss: 9.3385e-05 - sparse_categorical_accuracy: 1.0000\n",
      "Epoch 27/120\n",
      "5/5 - 29s - loss: 6.2580e-05 - sparse_categorical_accuracy: 1.0000\n",
      "Epoch 28/120\n",
      "5/5 - 28s - loss: 5.7202e-05 - sparse_categorical_accuracy: 1.0000\n",
      "Epoch 29/120\n",
      "5/5 - 28s - loss: 8.4240e-05 - sparse_categorical_accuracy: 1.0000\n",
      "Epoch 30/120\n",
      "5/5 - 28s - loss: 1.2201e-04 - sparse_categorical_accuracy: 1.0000\n",
      "Epoch 31/120\n",
      "5/5 - 28s - loss: 1.2803e-05 - sparse_categorical_accuracy: 1.0000\n",
      "Epoch 32/120\n",
      "5/5 - 28s - loss: 1.3524e-05 - sparse_categorical_accuracy: 1.0000\n",
      "Epoch 33/120\n",
      "5/5 - 27s - loss: 1.2488e-05 - sparse_categorical_accuracy: 1.0000\n",
      "Epoch 34/120\n",
      "5/5 - 28s - loss: 9.8566e-06 - sparse_categorical_accuracy: 1.0000\n",
      "Epoch 35/120\n",
      "5/5 - 28s - loss: 9.1701e-06 - sparse_categorical_accuracy: 1.0000\n",
      "Epoch 36/120\n",
      "5/5 - 28s - loss: 5.5556e-06 - sparse_categorical_accuracy: 1.0000\n",
      "Epoch 37/120\n",
      "5/5 - 28s - loss: 6.3396e-06 - sparse_categorical_accuracy: 1.0000\n",
      "Epoch 38/120\n",
      "5/5 - 28s - loss: 4.8271e-06 - sparse_categorical_accuracy: 1.0000\n",
      "Epoch 39/120\n",
      "5/5 - 28s - loss: 3.0950e-06 - sparse_categorical_accuracy: 1.0000\n",
      "Epoch 40/120\n",
      "5/5 - 28s - loss: 7.5830e-06 - sparse_categorical_accuracy: 1.0000\n",
      "Epoch 41/120\n",
      "5/5 - 27s - loss: 1.0565e-06 - sparse_categorical_accuracy: 1.0000\n",
      "Epoch 42/120\n",
      "5/5 - 27s - loss: 9.0221e-07 - sparse_categorical_accuracy: 1.0000\n",
      "Epoch 43/120\n",
      "5/5 - 27s - loss: 8.8343e-07 - sparse_categorical_accuracy: 1.0000\n",
      "Epoch 44/120\n",
      "5/5 - 27s - loss: 7.5688e-07 - sparse_categorical_accuracy: 1.0000\n",
      "Epoch 45/120\n",
      "5/5 - 27s - loss: 6.0093e-07 - sparse_categorical_accuracy: 1.0000\n",
      "Epoch 46/120\n",
      "5/5 - 26s - loss: 4.2294e-07 - sparse_categorical_accuracy: 1.0000\n",
      "Epoch 47/120\n",
      "5/5 - 26s - loss: 3.8048e-07 - sparse_categorical_accuracy: 1.0000\n",
      "Epoch 48/120\n",
      "5/5 - 27s - loss: 4.2049e-07 - sparse_categorical_accuracy: 1.0000\n",
      "Epoch 49/120\n",
      "5/5 - 27s - loss: 2.0167e-07 - sparse_categorical_accuracy: 1.0000\n",
      "Epoch 50/120\n",
      "5/5 - 27s - loss: 1.6738e-07 - sparse_categorical_accuracy: 1.0000\n",
      "Epoch 51/120\n",
      "5/5 - 27s - loss: 1.1594e-07 - sparse_categorical_accuracy: 1.0000\n",
      "Epoch 52/120\n",
      "5/5 - 28s - loss: 1.0125e-07 - sparse_categorical_accuracy: 1.0000\n",
      "Epoch 53/120\n",
      "5/5 - 26s - loss: 9.2264e-08 - sparse_categorical_accuracy: 1.0000\n",
      "Epoch 54/120\n",
      "5/5 - 29s - loss: 6.6137e-08 - sparse_categorical_accuracy: 1.0000\n",
      "Epoch 55/120\n",
      "5/5 - 28s - loss: 6.6137e-08 - sparse_categorical_accuracy: 1.0000\n",
      "Epoch 56/120\n",
      "5/5 - 28s - loss: 5.0623e-08 - sparse_categorical_accuracy: 1.0000\n",
      "Epoch 57/120\n",
      "5/5 - 28s - loss: 4.0825e-08 - sparse_categorical_accuracy: 1.0000\n",
      "Epoch 58/120\n",
      "5/5 - 27s - loss: 2.8578e-08 - sparse_categorical_accuracy: 1.0000\n",
      "Epoch 59/120\n",
      "5/5 - 28s - loss: 2.7761e-08 - sparse_categorical_accuracy: 1.0000\n",
      "Epoch 60/120\n",
      "5/5 - 28s - loss: 2.2046e-08 - sparse_categorical_accuracy: 1.0000\n",
      "Epoch 61/120\n",
      "5/5 - 28s - loss: 2.1229e-08 - sparse_categorical_accuracy: 1.0000\n",
      "Epoch 62/120\n",
      "5/5 - 28s - loss: 1.3881e-08 - sparse_categorical_accuracy: 1.0000\n",
      "Epoch 63/120\n",
      "5/5 - 28s - loss: 1.2248e-08 - sparse_categorical_accuracy: 1.0000\n",
      "Epoch 64/120\n",
      "5/5 - 28s - loss: 1.5514e-08 - sparse_categorical_accuracy: 1.0000\n",
      "Epoch 65/120\n",
      "5/5 - 28s - loss: 1.1431e-08 - sparse_categorical_accuracy: 1.0000\n",
      "Epoch 66/120\n",
      "5/5 - 28s - loss: 1.1431e-08 - sparse_categorical_accuracy: 1.0000\n",
      "Epoch 67/120\n",
      "5/5 - 28s - loss: 7.3485e-09 - sparse_categorical_accuracy: 1.0000\n",
      "Epoch 68/120\n",
      "5/5 - 28s - loss: 1.1431e-08 - sparse_categorical_accuracy: 1.0000\n",
      "Epoch 69/120\n",
      "5/5 - 27s - loss: 1.0615e-08 - sparse_categorical_accuracy: 1.0000\n",
      "Epoch 70/120\n",
      "5/5 - 28s - loss: 3.2660e-09 - sparse_categorical_accuracy: 1.0000\n",
      "Epoch 71/120\n",
      "5/5 - 27s - loss: 3.2660e-09 - sparse_categorical_accuracy: 1.0000\n",
      "Epoch 72/120\n",
      "5/5 - 27s - loss: 2.4495e-09 - sparse_categorical_accuracy: 1.0000\n",
      "Epoch 73/120\n",
      "5/5 - 27s - loss: 4.0825e-09 - sparse_categorical_accuracy: 1.0000\n",
      "Epoch 74/120\n",
      "5/5 - 28s - loss: 2.4495e-09 - sparse_categorical_accuracy: 1.0000\n",
      "Epoch 75/120\n",
      "5/5 - 27s - loss: 3.2660e-09 - sparse_categorical_accuracy: 1.0000\n",
      "Epoch 76/120\n",
      "5/5 - 27s - loss: 1.6330e-09 - sparse_categorical_accuracy: 1.0000\n",
      "Epoch 77/120\n",
      "5/5 - 27s - loss: 2.4495e-09 - sparse_categorical_accuracy: 1.0000\n",
      "Epoch 78/120\n",
      "5/5 - 27s - loss: 3.2660e-09 - sparse_categorical_accuracy: 1.0000\n",
      "Epoch 79/120\n",
      "5/5 - 27s - loss: 1.6330e-09 - sparse_categorical_accuracy: 1.0000\n",
      "Epoch 80/120\n",
      "5/5 - 29s - loss: 8.1650e-10 - sparse_categorical_accuracy: 1.0000\n",
      "Epoch 81/120\n",
      "5/5 - 27s - loss: 1.6330e-09 - sparse_categorical_accuracy: 1.0000\n",
      "Epoch 82/120\n",
      "5/5 - 26s - loss: 8.1650e-10 - sparse_categorical_accuracy: 1.0000\n",
      "Epoch 83/120\n",
      "5/5 - 27s - loss: 1.6330e-09 - sparse_categorical_accuracy: 1.0000\n",
      "Epoch 84/120\n",
      "5/5 - 27s - loss: 1.6330e-09 - sparse_categorical_accuracy: 1.0000\n",
      "Epoch 00084: early stopping\n"
     ]
    }
   ],
   "source": [
    "mod = model.fit(X_train,\n",
    "               Y_train, epochs=120, batch_size= 32, verbose=2 , \n",
    "                callbacks=[callback, print_weights, model_check])"
   ]
  },
  {
   "cell_type": "code",
   "execution_count": 107,
   "metadata": {},
   "outputs": [
    {
     "data": {
      "text/plain": [
       "84"
      ]
     },
     "execution_count": 107,
     "metadata": {},
     "output_type": "execute_result"
    }
   ],
   "source": [
    "#Number of Epochs\n",
    "len(wie_by_epoch)"
   ]
  },
  {
   "cell_type": "code",
   "execution_count": 128,
   "metadata": {},
   "outputs": [],
   "source": [
    "#120 +21\n",
    "model.set_weights(wie_by_epoch[80])\n",
    "#mod.history.get('sparse_categorical_accuracy')"
   ]
  },
  {
   "cell_type": "code",
   "execution_count": 129,
   "metadata": {},
   "outputs": [
    {
     "name": "stdout",
     "output_type": "stream",
     "text": [
      "2/2 - 1s - loss: 0.2443 - sparse_categorical_accuracy: 0.9730\n"
     ]
    },
    {
     "data": {
      "text/plain": [
       "[0.24425078928470612, 0.9729729890823364]"
      ]
     },
     "execution_count": 129,
     "metadata": {},
     "output_type": "execute_result"
    }
   ],
   "source": [
    "scores = model.evaluate(X_test,Y_test, verbose=2)\n",
    "scores"
   ]
  },
  {
   "cell_type": "code",
   "execution_count": 130,
   "metadata": {},
   "outputs": [
    {
     "data": {
      "text/plain": [
       "84"
      ]
     },
     "execution_count": 130,
     "metadata": {},
     "output_type": "execute_result"
    }
   ],
   "source": [
    "len(wie_by_epoch)"
   ]
  },
  {
   "cell_type": "code",
   "execution_count": 131,
   "metadata": {},
   "outputs": [
    {
     "data": {
      "text/plain": [
       "{'loss': 0.24425078928470612,\n",
       " 'sparse_categorical_accuracy': 0.9729729890823364}"
      ]
     },
     "execution_count": 131,
     "metadata": {},
     "output_type": "execute_result"
    }
   ],
   "source": [
    "dict(zip(model.metrics_names, scores))"
   ]
  },
  {
   "cell_type": "code",
   "execution_count": 132,
   "metadata": {},
   "outputs": [
    {
     "data": {
      "image/png": "[encoded data removed]",
      "text/plain": [
       "<Figure size 432x288 with 2 Axes>"
      ]
     },
     "metadata": {
      "needs_background": "light"
     },
     "output_type": "display_data"
    }
   ],
   "source": [
    "from matplotlib import pyplot\n",
    "# plot loss during training\n",
    "pyplot.subplot(211)\n",
    "pyplot.title('Loss')\n",
    "pyplot.plot(mod.history['loss'], label='train')\n",
    "#pyplot.plot(mod.history['val_loss'], label='test')\n",
    "pyplot.legend()\n",
    "# plot accuracy during training\n",
    "pyplot.subplot(212)\n",
    "pyplot.title('Accuracy')\n",
    "pyplot.plot(mod.history['sparse_categorical_accuracy'], label='train')\n",
    "#pyplot.plot(mod.history['val_accuracy'], label='test')\n",
    "pyplot.legend()\n",
    "pyplot.show()"
   ]
  },
  {
   "cell_type": "code",
   "execution_count": 133,
   "metadata": {},
   "outputs": [],
   "source": [
    "# predict probabilities for test set\n",
    "yhat_probs = model.predict(X_test.astype('float32'), verbose=0)\n",
    "# predict crisp classes for test set\n",
    "#yhat_classes = model.predict_classes(X_test, verbose=0)\n",
    "yhat_classes = np.argmax(yhat_probs,axis=1)"
   ]
  },
  {
   "cell_type": "code",
   "execution_count": 134,
   "metadata": {},
   "outputs": [],
   "source": [
    "from sklearn.datasets import make_circles\n",
    "from sklearn.metrics import accuracy_score\n",
    "from sklearn.metrics import precision_score\n",
    "from sklearn.metrics import recall_score\n",
    "from sklearn.metrics import f1_score\n",
    "from sklearn.metrics import cohen_kappa_score\n",
    "from sklearn.metrics import roc_auc_score\n",
    "from sklearn.metrics import confusion_matrix\n",
    "from sklearn.metrics import roc_curve\n"
   ]
  },
  {
   "cell_type": "code",
   "execution_count": 135,
   "metadata": {},
   "outputs": [
    {
     "name": "stdout",
     "output_type": "stream",
     "text": [
      "Accuracy: 0.972973\n",
      "Precision: 0.989130\n",
      "Recall: 0.916667\n",
      "F1 score: 0.944444\n"
     ]
    }
   ],
   "source": [
    "# accuracy: (tp + tn) / (p + n)\n",
    "accuracy = accuracy_score(Y_test, yhat_classes)\n",
    "print('Accuracy: %f' % accuracy)\n",
    "# precision tp / (tp + fp)\n",
    "precision = precision_score(Y_test, yhat_classes, average='macro')\n",
    "print('Precision: %f' % precision)\n",
    "# recall: tp / (tp + fn)\n",
    "recall = recall_score(Y_test, yhat_classes,average='macro')\n",
    "print('Recall: %f' % recall)\n",
    "# f1: 2 tp / (2 tp + fp + fn)\n",
    "f1 = f1_score(Y_test, yhat_classes, average='macro')\n",
    "print('F1 score: %f' % f1)"
   ]
  },
  {
   "cell_type": "code",
   "execution_count": 136,
   "metadata": {},
   "outputs": [
    {
     "name": "stdout",
     "output_type": "stream",
     "text": [
      "Cohens kappa: 0.952746\n",
      "[[22  0  0  0]\n",
      " [ 0  5  0  0]\n",
      " [ 1  0  2  0]\n",
      " [ 0  0  0  7]]\n"
     ]
    }
   ],
   "source": [
    "# kappa\n",
    "kappa = cohen_kappa_score(Y_test, yhat_classes)\n",
    "print('Cohens kappa: %f' % kappa)\n",
    "# ROC AUC\n",
    "#fprate, tprate, thresholds = roc_curve(Y_test, yhat_probs, average = 'macro')\n",
    "#print('ROC AUC: %f' % thresholds)\n",
    "# confusion matrix\n",
    "matrix = confusion_matrix(Y_test, yhat_classes)\n",
    "print(matrix)"
   ]
  },
  {
   "cell_type": "code",
   "execution_count": 137,
   "metadata": {},
   "outputs": [],
   "source": [
    "fpr = {}\n",
    "tpr = {}\n",
    "thresh ={}\n",
    "\n",
    "n_class = 5\n",
    "\n",
    "for i in range(n_class):    \n",
    "    fpr[i], tpr[i], thresh[i] = roc_curve(Y_test, yhat_classes, pos_label=i)"
   ]
  },
  {
   "cell_type": "code",
   "execution_count": 138,
   "metadata": {},
   "outputs": [
    {
     "data": {
      "image/png": "[encoded data removed]",
      "text/plain": [
       "<Figure size 432x288 with 1 Axes>"
      ]
     },
     "metadata": {
      "needs_background": "light"
     },
     "output_type": "display_data"
    }
   ],
   "source": [
    "# plotting    \n",
    "plt.plot(fpr[0], tpr[0], linestyle='--',color='orange', label='Class 0 vs Rest')\n",
    "plt.plot(fpr[1], tpr[1], linestyle='--',color='green', label='Class 1 vs Rest')\n",
    "plt.plot(fpr[2], tpr[2], linestyle='--',color='blue', label='Class 2 vs Rest')\n",
    "plt.plot(fpr[3], tpr[3], linestyle='--',color='red', label='Class 3 vs Rest')\n",
    "plt.plot(fpr[4], tpr[4], linestyle='--',color='black', label='Class 4 vs Rest')\n",
    "plt.title('Multiclass ROC curve')\n",
    "plt.xlabel('False Positive Rate')\n",
    "plt.ylabel('True Positive rate')\n",
    "plt.legend(loc='best')\n",
    "plt.savefig('Multiclass ROC',dpi=300); "
   ]
  },
  {
   "cell_type": "code",
   "execution_count": 139,
   "metadata": {},
   "outputs": [
    {
     "name": "stdout",
     "output_type": "stream",
     "text": [
      "Confusion matrix : \n",
      " [[22  0  0  0]\n",
      " [ 0  5  0  0]\n",
      " [ 1  0  2  0]\n",
      " [ 0  0  0  7]]\n"
     ]
    }
   ],
   "source": [
    "from sklearn.metrics import confusion_matrix\n",
    "from sklearn.metrics import classification_report\n",
    "matrix = confusion_matrix(Y_test, yhat_classes, labels= [0, 1, 3, 4])\n",
    "print('Confusion matrix : \\n',matrix)"
   ]
  },
  {
   "cell_type": "code",
   "execution_count": 140,
   "metadata": {},
   "outputs": [
    {
     "name": "stdout",
     "output_type": "stream",
     "text": [
      "Classification report : \n",
      "               precision    recall  f1-score   support\n",
      "\n",
      "           0       0.96      1.00      0.98        22\n",
      "           1       1.00      1.00      1.00         5\n",
      "           3       1.00      0.67      0.80         3\n",
      "           4       1.00      1.00      1.00         7\n",
      "\n",
      "    accuracy                           0.97        37\n",
      "   macro avg       0.99      0.92      0.94        37\n",
      "weighted avg       0.97      0.97      0.97        37\n",
      "\n"
     ]
    }
   ],
   "source": [
    "matrix = classification_report(Y_test,yhat_classes, labels= [0, 1, 3, 4])\n",
    "print('Classification report : \\n',matrix)"
   ]
  },
  {
   "cell_type": "code",
   "execution_count": 141,
   "metadata": {},
   "outputs": [
    {
     "name": "stdout",
     "output_type": "stream",
     "text": [
      "INFO:tensorflow:Assets written to: ./models/IP address/SImple RNN\\assets\n"
     ]
    }
   ],
   "source": [
    "model.save('./models/IP address/SImple RNN')"
   ]
  },
  {
   "cell_type": "code",
   "execution_count": 222,
   "metadata": {},
   "outputs": [
    {
     "data": {
      "text/plain": [
       "<keras.engine.sequential.Sequential at 0x1d1d471f548>"
      ]
     },
     "execution_count": 222,
     "metadata": {},
     "output_type": "execute_result"
    }
   ],
   "source": [
    "#keras.models.load_model('./models/IP address/LSTM')"
   ]
  }
 ],
 "metadata": {
  "kernelspec": {
   "display_name": "Python 3",
   "language": "python",
   "name": "python3"
  },
  "language_info": {
   "codemirror_mode": {
    "name": "ipython",
    "version": 3
   },
   "file_extension": ".py",
   "mimetype": "text/x-python",
   "name": "python",
   "nbconvert_exporter": "python",
   "pygments_lexer": "ipython3",
   "version": "3.7.4"
  }
 },
 "nbformat": 4,
 "nbformat_minor": 2
}

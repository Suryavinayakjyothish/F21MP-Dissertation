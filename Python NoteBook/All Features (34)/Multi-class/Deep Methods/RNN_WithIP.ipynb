{
 "cells": [
  {
   "cell_type": "code",
   "execution_count": 1,
   "metadata": {},
   "outputs": [],
   "source": [
    "import pandas as pd\n",
    "import numpy as np\n",
    "from datetime import datetime\n",
    "import time\n",
    "import matplotlib.pyplot as plt\n",
    "import gc\n",
    "pd.set_option('display.max_columns', None)"
   ]
  },
  {
   "cell_type": "code",
   "execution_count": 2,
   "metadata": {},
   "outputs": [],
   "source": [
    "## for machine learning\n",
    "from sklearn import model_selection, preprocessing, feature_selection, ensemble, linear_model, metrics, decomposition\n",
    "## for plotting\n",
    "import matplotlib.pyplot as plt\n",
    "## for machine learning\n",
    "from sklearn import model_selection, preprocessing, feature_selection, ensemble, linear_model, metrics, decomposition\n",
    "from sklearn.preprocessing import LabelEncoder,Normalizer,StandardScaler, OneHotEncoder, MinMaxScaler\n",
    "from sklearn.feature_selection import mutual_info_classif\n",
    "from sklearn.metrics import confusion_matrix\n",
    "from sklearn.metrics import classification_report\n",
    "## for explainer\n",
    "#from lime import lime_tabular"
   ]
  },
  {
   "cell_type": "code",
   "execution_count": 4,
   "metadata": {},
   "outputs": [],
   "source": [
    "#a = pd.read_csv('drive/My Drive/Colab Notebooks/traffic/OpenStack/CIDDS-001-internal-week1.csv', low_memory=False, encoding='cp1252')\n",
    "#b = pd.read_csv('drive/My Drive/Colab Notebooks/traffic/OpenStack/CIDDS-001-internal-week2.csv', low_memory=False, encoding='cp1252')\n",
    "a = pd.read_csv('./CIDDS-001/traffic/OpenStack/CIDDS-001-internal-week1.csv', low_memory=False, encoding='cp1252')\n",
    "b = pd.read_csv('./CIDDS-001/traffic/OpenStack/CIDDS-001-internal-week2.csv', low_memory=False, encoding='cp1252')\n",
    "c =  pd.read_csv('./CIDDS-001/traffic/ExternalServer/CIDDS-001-external-week2.csv', low_memory=False, encoding='cp1252')\n",
    "d =  pd.read_csv('./CIDDS-001/traffic/ExternalServer/CIDDS-001-external-week3.csv', low_memory=False, encoding='cp1252')\n",
    "e =  pd.read_csv('./CIDDS-001/traffic/ExternalServer/CIDDS-001-external-week4.csv', low_memory=False, encoding='cp1252')\n",
    "#f =  pd.read_csv('./CIDDS-001/traffic/ExternalServer/CIDDS-001-external-week1.csv', low_memory=False, encoding='cp1252')\n",
    "#c = pd.read_csv('drive/My Drive/Colab Notebooks/traffic/OpenStack/CIDDS-001-internal-week3.csv', low_memory=False , encoding='cp1252')\n",
    "#d = pd.read_csv('drive/My Drive/Colab Notebooks/traffic/OpenStack/CIDDS-001-internal-week4.csv', low_memory=False, encoding='cp1252')\n",
    "#e =  pd.read_csv('drive/My Drive/Colab Notebooks/traffic/ExternalServer/CIDDS-001-external-week1.csv', low_memory=False, encoding='cp1252')\n",
    "#f =  pd.read_csv('drive/My Drive/Colab Notebooks/traffic/ExternalServer/CIDDS-001-external-week2.csv', low_memory=False, encoding='cp1252')\n",
    "#g =  pd.read_csv('drive/My Drive/Colab Notebooks/traffic/ExternalServer/CIDDS-001-external-week3.csv', low_memory=False, encoding='cp1252')\n",
    "#h =  pd.read_csv('drive/My Drive/Colab Notebooks/traffic/ExternalServer/CIDDS-001-external-week4.csv', low_memory=False, encoding='cp1252')"
   ]
  },
  {
   "cell_type": "code",
   "execution_count": 5,
   "metadata": {},
   "outputs": [
    {
     "name": "stdout",
     "output_type": "stream",
     "text": [
      "(10310733, 16)\n"
     ]
    },
    {
     "data": {
      "text/plain": [
       "(1795404, 16)"
      ]
     },
     "execution_count": 5,
     "metadata": {},
     "output_type": "execute_result"
    }
   ],
   "source": [
    "print(b.shape)\n",
    "#a.drop(a[a['attackType'] == '---'].index, axis = 0, inplace= True) \n",
    "b.drop(b[b['attackType'] == '---'].index, axis = 0, inplace= True)  \n",
    "c.drop(c[c['attackType'] == '---'].index, axis = 0, inplace= True)  \n",
    "d.drop(d[d['attackType'] == '---'].index, axis = 0, inplace= True)  \n",
    "#e.drop(e[e['attackType'] == '---'].index, axis = 0, inplace= True)  \n",
    "b.shape"
   ]
  },
  {
   "cell_type": "code",
   "execution_count": 6,
   "metadata": {},
   "outputs": [],
   "source": [
    "data_external = pd.concat([c,d,e], axis = 0)\n",
    "data_external.reset_index(drop= True, inplace= True)"
   ]
  },
  {
   "cell_type": "code",
   "execution_count": 7,
   "metadata": {},
   "outputs": [],
   "source": [
    "#to Increment attackID values\n",
    "data_external['attackID'] = data_external['attackID'].apply(lambda x: str(int(x) + 70) if x != '---' else x)"
   ]
  },
  {
   "cell_type": "code",
   "execution_count": 8,
   "metadata": {},
   "outputs": [],
   "source": [
    "def convert_bytes(df):\n",
    "    if 'M' in df:\n",
    "        df = df.split('M')\n",
    "        df = df[0].strip()\n",
    "        df = float(df) * 1000000\n",
    "    elif 'B' in df:\n",
    "        df = df.split('B')\n",
    "        df = df[0].strip()\n",
    "        df =  float(df) * 1000000000\n",
    "    else: \n",
    "        df =float(df)\n",
    "    return df"
   ]
  },
  {
   "cell_type": "code",
   "execution_count": 9,
   "metadata": {},
   "outputs": [
    {
     "data": {
      "text/plain": [
       "0"
      ]
     },
     "execution_count": 9,
     "metadata": {},
     "output_type": "execute_result"
    }
   ],
   "source": [
    "data = pd.concat([a,b,data_external], axis = 0)\n",
    "data.reset_index(drop= True, inplace= True)\n",
    "data['Bytes'] = data['Bytes'].apply(lambda x: convert_bytes(x))\n",
    "columns = ['Src Pt', 'Dst Pt','Tos','Flows','Packets', 'Bytes']\n",
    "for i in columns:\n",
    "    data[i] = pd.to_numeric(data[i]);\n",
    "del columns\n",
    "del a,b,c,d,e, data_external\n",
    "gc.collect()"
   ]
  },
  {
   "cell_type": "code",
   "execution_count": 10,
   "metadata": {},
   "outputs": [],
   "source": [
    "#data.dtypes"
   ]
  },
  {
   "cell_type": "code",
   "execution_count": 11,
   "metadata": {},
   "outputs": [],
   "source": [
    "#Converts Hexadecimal value to Binary\n",
    "def hex_to_binary(hexdata):\n",
    "    scale = 16 ## equals to hexadecimal\n",
    "    num_of_bits = 9\n",
    "    return bin(int(hexdata, scale))[2:].zfill(num_of_bits);\n",
    "#Converts TCP flags to Binary\n",
    "def to_Binary(x):\n",
    "    l = 0\n",
    "    x = '...' + x\n",
    "    x = list(x)\n",
    "    for i in x:\n",
    "        if (i=='.'):\n",
    "            x[l]= '0'\n",
    "        else:\n",
    "            x[l] = '1'\n",
    "        l = l +1\n",
    "    return ''.join(x)\n",
    "#Converts the 'Flags' column to 9 indiviual columns (manual oneshot encoding)\n",
    "def flag_convert(df):  \n",
    "   # df['Flags'] = df['Flags'].apply(lambda x: (list(x)))\n",
    "   # temp = df['Flags'].apply(lambda x: toBinary(x))\n",
    "    hex_values = list(df[(df['Flags'].str.contains(\"0x\", na=False))]['Flags'].unique())\n",
    "    flag_values = list(df[~(df['Flags'].str.contains(\"0x\", na=False))]['Flags'].unique())\n",
    "    binary_values = {}\n",
    "    for i in hex_values:\n",
    "         binary_values[i] = (hex_to_binary(i))\n",
    "    for i in flag_values:\n",
    "         binary_values[i] = (to_Binary(i))\n",
    "    temp = df['Flags'].replace(binary_values)\n",
    "#temp = temp.apply(lambda x: pd.Series(x)) \n",
    "    temp = pd.DataFrame(temp.apply(list).tolist())\n",
    "#temp = pd.DataFrame(temp)\n",
    "#a = a.iloc[: , 1:]\n",
    "   # print(temp.head())\n",
    "    temp.columns = ['N','C','E','U' ,'A','P','R','S','F']\n",
    "    for i in temp.columns:\n",
    "        temp[i] = pd.to_numeric(temp[i]);\n",
    "    temp = temp.reset_index(drop=True)\n",
    "    df = df.reset_index(drop=True)\n",
    "    df = pd.concat([df, temp], axis = 1)\n",
    "    return df;"
   ]
  },
  {
   "cell_type": "code",
   "execution_count": 12,
   "metadata": {},
   "outputs": [],
   "source": [
    "#make a IP_pairs \n",
    "def make_pair(df):\n",
    "    ip_pair = df['Src IP Addr'] +'/' +df['Dst IP Addr']\n",
    "    source_ip = df['Src IP Addr'].unique().tolist()\n",
    "    destination_ip = df['Dst IP Addr'].unique().tolist()\n",
    "   # df = df.drop(columns = ['Src IP Addr', 'Dst IP Addr'])\n",
    "    df.insert(1, ' IP Pair', ip_pair)\n",
    "    return df\n",
    "\n",
    "def check_inverse(df):\n",
    "    list_pairs = df[' IP Pair'].unique()\n",
    "    tuple_pair = []\n",
    "    for i in list_pairs:\n",
    "        tuple_pair.append(tuple((i.split('/'))))\n",
    "    dic_store = {}\n",
    "    for i in tuple_pair:\n",
    "        if (i  not in dic_store.keys()) and (i[::-1] not in dic_store.keys()):\n",
    "            dic_store[i] = i[0] + '/' +i[1]\n",
    "    print(len(dic_store.keys()))\n",
    "    dic_final = {}\n",
    "    for i in dic_store.keys():\n",
    "        dic_final[i[0] + '/' +i[1]] = dic_store[i]\n",
    "        dic_final[i[1] + '/' +i[0]] = dic_store[i]\n",
    "    df[' IP Pair'] = df[' IP Pair'].map(dic_final)               \n",
    "    return df"
   ]
  },
  {
   "cell_type": "code",
   "execution_count": 13,
   "metadata": {},
   "outputs": [],
   "source": [
    "def normalize_IP(df):\n",
    "    columns = ['sourceIP_feature 1', 'sourceIP_feature 2', 'sourceIP_feature 3', 'sourceIP_feature 4', 'destIP_feature 1',\n",
    "              'destIP_feature 2', 'destIP_feature 3', 'destIP_feature 4']\n",
    "    normalized = df[columns]\n",
    "    print(columns)\n",
    "    transformed = MinMaxScaler().fit(normalized).transform(normalized)\n",
    "    transformed = pd.DataFrame(transformed)\n",
    "    j = 0\n",
    "    col = {}\n",
    "    for i in columns:\n",
    "        col[j] = i\n",
    "        j=j+1\n",
    "    transformed = transformed.rename(columns = col)\n",
    "    transformed = transformed.reset_index()\n",
    "    for i in columns:\n",
    "        df[i] = transformed[i].to_numpy()\n",
    "    return df;"
   ]
  },
  {
   "cell_type": "code",
   "execution_count": 14,
   "metadata": {},
   "outputs": [],
   "source": [
    "def normalize(df):\n",
    "    numerics = ['int16', 'int32', 'int64', 'float16', 'float32', 'float64']\n",
    "    columns = (df).select_dtypes(include=numerics).columns\n",
    "    print(columns)\n",
    "    normalized = df[columns]\n",
    "   # print(columns)\n",
    "    transformed = MinMaxScaler().fit(normalized).transform(normalized)\n",
    "    transformed = pd.DataFrame(transformed)\n",
    "    j = 0\n",
    "    col = {}\n",
    "    for i in columns:\n",
    "        col[j] = i\n",
    "        j=j+1\n",
    "    transformed = transformed.rename(columns = col)\n",
    "    transformed = transformed.reset_index()\n",
    "    for i in columns:\n",
    "        df[i] = transformed[i].to_numpy()\n",
    "    return df;"
   ]
  },
  {
   "cell_type": "code",
   "execution_count": 15,
   "metadata": {},
   "outputs": [],
   "source": [
    "def one_shot(df):\n",
    "    label_encoder = LabelEncoder()\n",
    "    #df.astype({'attackType': 'str'})\n",
    "    df['attackType'] = label_encoder.fit_transform(df['attackType'])\n",
    "    print(list(label_encoder.classes_))\n",
    "    print(list(label_encoder.transform(label_encoder.classes_)))\n",
    "    \n",
    "#    onehot_encoder = OneHotEncoder()\n",
    "#    onehot_encoder.fit(df.attackType.to_numpy().reshape(-1, 1))\n",
    "#    proto = onehot_encoder.transform(df.attackType.to_numpy().reshape(-1, 1))\n",
    "#    proto = pd.DataFrame.sparse.from_spmatrix(proto)\n",
    "#    proto.astype('int32')\n",
    "#    proto.columns = label_encoder.classes_\n",
    "#    df = pd.concat([df, proto], axis = 1) \n",
    "    \n",
    "    df['sourceIP_feature 1'] = label_encoder.fit_transform(df['sourceIP_feature 1'])\n",
    "    print(list(label_encoder.classes_))\n",
    "    print(list(label_encoder.transform(label_encoder.classes_)))\n",
    "    \n",
    "    df['sourceIP_feature 2'] = label_encoder.fit_transform(df['sourceIP_feature 2'])\n",
    "    print(list(label_encoder.classes_))\n",
    "    print(list(label_encoder.transform(label_encoder.classes_)))\n",
    "    \n",
    "    df['sourceIP_feature 3'] = label_encoder.fit_transform(df['sourceIP_feature 3'])\n",
    "    print(list(label_encoder.classes_))\n",
    "    print(list(label_encoder.transform(label_encoder.classes_)))\n",
    "    \n",
    "    df['sourceIP_feature 4'] = label_encoder.fit_transform(df['sourceIP_feature 4'])\n",
    "    print(list(label_encoder.classes_))\n",
    "    print(list(label_encoder.transform(label_encoder.classes_)))\n",
    "    \n",
    "    df['destIP_feature 1'] = label_encoder.fit_transform(df['destIP_feature 1'])\n",
    "    print(list(label_encoder.classes_))\n",
    "    print(list(label_encoder.transform(label_encoder.classes_)))\n",
    "    \n",
    "    df['destIP_feature 2'] = label_encoder.fit_transform(df['destIP_feature 2'])\n",
    "    print(list(label_encoder.classes_))\n",
    "    print(list(label_encoder.transform(label_encoder.classes_)))\n",
    "    \n",
    "    df['destIP_feature 3'] = label_encoder.fit_transform(df['destIP_feature 3'])\n",
    "    print(list(label_encoder.classes_))\n",
    "    print(list(label_encoder.transform(label_encoder.classes_)))\n",
    "    \n",
    "    df['destIP_feature 4'] = label_encoder.fit_transform(df['destIP_feature 4'])\n",
    "    print(list(label_encoder.classes_))\n",
    "    print(list(label_encoder.transform(label_encoder.classes_)))\n",
    "    \n",
    "    df['Proto'] = label_encoder.fit_transform(df['Proto'])\n",
    "    print(list(label_encoder.classes_))\n",
    "    print(list(label_encoder.transform(label_encoder.classes_)))\n",
    "    \n",
    "    onehot_encoder1 = OneHotEncoder()\n",
    "    onehot_encoder1.fit(df.Proto.to_numpy().reshape(-1, 1))\n",
    "    proto = onehot_encoder1.transform(df.Proto.to_numpy().reshape(-1, 1))\n",
    "    proto = pd.DataFrame.sparse.from_spmatrix(proto)\n",
    "    proto.astype('int32')\n",
    "    proto.columns = label_encoder.classes_\n",
    "   # print(proto.head(1))\n",
    "    df = pd.concat([df, proto], axis = 1)\n",
    "    return df;"
   ]
  },
  {
   "cell_type": "code",
   "execution_count": 16,
   "metadata": {},
   "outputs": [],
   "source": [
    "def drop_columns(df):\n",
    "    return df.drop(columns = ['Date first seen', ' IP Pair', 'Flows', 'class', 'attackID','Flags',\n",
    "                              'attackDescription', 'Src IP Addr', 'Dst IP Addr','Proto'], axis =1)"
   ]
  },
  {
   "cell_type": "code",
   "execution_count": 17,
   "metadata": {},
   "outputs": [],
   "source": [
    "#Aplit IP address into features, 7 features\n",
    "def split_to_net(IP_address):\n",
    "    IP_list = IP_address.split(\".\")\n",
    "    needed_len = 7\n",
    "    needed_len = needed_len - len(IP_list)\n",
    "    for i in range(0,needed_len,1):\n",
    "        IP_list.append('0')\n",
    "    return IP_list\n",
    "#replace unknown IP address, and convert to columns\n",
    "def IP_split(df): \n",
    "    replace = {\"ATTACKER1\":\"0.0.0.0\",\n",
    "           \"ATTACKER2\":\"0.0.0.0\",\n",
    "           \"ATTACKER3\":\"0.0.0.0\",\n",
    "           \"EXT_SERVER\": \"0.0.0.0.1\",\n",
    "          \"OPENSTACK_NET\": \"0.0.0.0.0.1\",\n",
    "          \"DNS\": \"0.0.0.0.0.0.1\"}\n",
    "    df = df.replace({\"Src IP Addr\": replace, \"Dst IP Addr\": replace}, value=None)\n",
    "    temp_source = df[\"Src IP Addr\"].apply(lambda x: \"0.0.0.0.0.0.0\" if ('_') in x else x)\n",
    "    temp_des = df['Dst IP Addr'].apply(lambda x: \"0.0.0.0.0.0.0\" if ('_') in x else x)\n",
    "   # sourceIP = list(df[\"Src IP Addr\"].unique())\n",
    "   # destIP = list(df[\"Dst IP Addr\"].unique())\n",
    "   # sourceIP_values = {}\n",
    "   # desIP_values = {}\n",
    "   # for i in sourceIP:\n",
    "   #      sourceIP_values[i] = (split_to_net(i))\n",
    "   # for i in destIP:\n",
    "   #      desIP_values[i] = (split_to_net(i))\n",
    "    #print(sourceIP_values)\n",
    "   # print(desIP_values)\n",
    "#for Source IP\n",
    "    temp_source = temp_source.apply(lambda x: split_to_net(x) )\n",
    "    temp_source = pd.DataFrame(temp_source.apply(list).tolist())\n",
    "    temp_source.columns = ['sourceIP_feature 1','sourceIP_feature 2','sourceIP_feature 3','sourceIP_feature 4' ,\n",
    "                    'sourceEXT_SERVER','sourceOPENSTACK_NET','sourceDNS']\n",
    "    for i in temp_source.columns:\n",
    "        temp_source[i] = pd.to_numeric(temp_source[i]);\n",
    "    temp_source = temp_source.reset_index(drop=True)\n",
    "    df = df.reset_index(drop=True)\n",
    "    df = pd.concat([df, temp_source], axis = 1)\n",
    "    #for Destination IP\n",
    "    temp_des = temp_des.apply(lambda x: split_to_net(x) )\n",
    "    temp_des = pd.DataFrame(temp_des.apply(list).tolist())\n",
    "    temp_des.columns = ['destIP_feature 1','destIP_feature 2','destIP_feature 3','destIP_feature 4' ,\n",
    "                    'destEXT_SERVER','destOPENSTACK_NET','destDNS']\n",
    "    for i in temp_des.columns:\n",
    "        temp_des[i] = pd.to_numeric(temp_des[i]);\n",
    "    temp_des = temp_des.reset_index(drop=True)\n",
    "    df = df.reset_index(drop=True)\n",
    "    df = pd.concat([df, temp_des], axis = 1)\n",
    "    return df;"
   ]
  },
  {
   "cell_type": "code",
   "execution_count": 18,
   "metadata": {},
   "outputs": [
    {
     "name": "stdout",
     "output_type": "stream",
     "text": [
      "59362\n"
     ]
    }
   ],
   "source": [
    "data = make_pair(data)\n",
    "data = check_inverse(data)\n"
   ]
  },
  {
   "cell_type": "code",
   "execution_count": 19,
   "metadata": {},
   "outputs": [],
   "source": [
    "data = IP_split(data)"
   ]
  },
  {
   "cell_type": "code",
   "execution_count": 20,
   "metadata": {
    "scrolled": true
   },
   "outputs": [
    {
     "name": "stdout",
     "output_type": "stream",
     "text": [
      "Index(['Duration', 'Src Pt', 'Dst Pt', 'Packets', 'Bytes', 'Flows', 'Tos',\n",
      "       'sourceIP_feature 1', 'sourceIP_feature 2', 'sourceIP_feature 3',\n",
      "       'sourceIP_feature 4', 'sourceEXT_SERVER', 'sourceOPENSTACK_NET',\n",
      "       'sourceDNS', 'destIP_feature 1', 'destIP_feature 2', 'destIP_feature 3',\n",
      "       'destIP_feature 4', 'destEXT_SERVER', 'destOPENSTACK_NET', 'destDNS'],\n",
      "      dtype='object')\n",
      "['---', 'bruteForce', 'dos', 'pingScan', 'portScan']\n",
      "[0, 1, 2, 3, 4]\n",
      "[0.0, 1.0]\n",
      "[0, 1]\n",
      "[0.0, 1.0]\n",
      "[0, 1]\n",
      "[0.0, 0.003952569169960474, 0.01976284584980237, 0.3162055335968379, 0.3952569169960474, 0.7905138339920948, 0.8300395256916996, 0.8695652173913043, 0.9999999999999999]\n",
      "[0, 1, 2, 3, 4, 5, 6, 7, 8]\n",
      "[0.0, 0.004, 0.008, 0.012, 0.016, 0.02, 0.024, 0.028, 0.032, 0.036000000000000004, 0.04, 0.044, 0.048, 0.052000000000000005, 0.056, 0.06, 0.064, 0.4, 0.432, 0.456, 0.612, 0.884, 0.96, 1.0]\n",
      "[0, 1, 2, 3, 4, 5, 6, 7, 8, 9, 10, 11, 12, 13, 14, 15, 16, 17, 18, 19, 20, 21, 22, 23]\n",
      "[0.0, 0.7529411764705882, 1.0]\n",
      "[0, 1, 2]\n",
      "[0.0, 0.6588235294117647, 1.0]\n",
      "[0, 1, 2]\n",
      "[0.0, 0.00392156862745098, 0.39215686274509803, 0.7843137254901961, 0.8235294117647058, 0.8627450980392157, 0.9921568627450981, 1.0]\n",
      "[0, 1, 2, 3, 4, 5, 6, 7]\n",
      "[0.0, 0.00392156862745098, 0.00784313725490196, 0.011764705882352941, 0.01568627450980392, 0.0196078431372549, 0.023529411764705882, 0.027450980392156862, 0.03137254901960784, 0.03529411764705882, 0.0392156862745098, 0.043137254901960784, 0.047058823529411764, 0.050980392156862744, 0.054901960784313725, 0.058823529411764705, 0.06274509803921569, 0.06666666666666667, 0.07058823529411765, 0.07450980392156863, 0.0784313725490196, 0.08235294117647059, 0.08627450980392157, 0.09019607843137255, 0.09411764705882353, 0.09803921568627451, 0.10196078431372549, 0.10588235294117647, 0.10980392156862745, 0.11372549019607843, 0.11764705882352941, 0.12156862745098039, 0.12549019607843137, 0.12941176470588234, 0.13333333333333333, 0.13725490196078433, 0.1411764705882353, 0.14509803921568626, 0.14901960784313725, 0.15294117647058825, 0.1568627450980392, 0.16078431372549018, 0.16470588235294117, 0.16862745098039217, 0.17254901960784313, 0.1764705882352941, 0.1803921568627451, 0.1843137254901961, 0.18823529411764706, 0.19215686274509802, 0.19607843137254902, 0.2, 0.20392156862745098, 0.20784313725490194, 0.21176470588235294, 0.21568627450980393, 0.2196078431372549, 0.22352941176470587, 0.22745098039215686, 0.23137254901960785, 0.23529411764705882, 0.2392156862745098, 0.24313725490196078, 0.24705882352941178, 0.25098039215686274, 0.2549019607843137, 0.2588235294117647, 0.2627450980392157, 0.26666666666666666, 0.27058823529411763, 0.27450980392156865, 0.2784313725490196, 0.2823529411764706, 0.28627450980392155, 0.2901960784313725, 0.29411764705882354, 0.2980392156862745, 0.30196078431372547, 0.3058823529411765, 0.30980392156862746, 0.3137254901960784, 0.3176470588235294, 0.32156862745098036, 0.3254901960784314, 0.32941176470588235, 0.3333333333333333, 0.33725490196078434, 0.3411764705882353, 0.34509803921568627, 0.34901960784313724, 0.3529411764705882, 0.3568627450980392, 0.3607843137254902, 0.36470588235294116, 0.3686274509803922, 0.37254901960784315, 0.3764705882352941, 0.3803921568627451, 0.38431372549019605, 0.38823529411764707, 0.39215686274509803, 0.396078431372549, 0.4, 0.403921568627451, 0.40784313725490196, 0.4117647058823529, 0.4156862745098039, 0.4196078431372549, 0.4235294117647059, 0.42745098039215684, 0.43137254901960786, 0.43529411764705883, 0.4392156862745098, 0.44313725490196076, 0.44705882352941173, 0.45098039215686275, 0.4549019607843137, 0.4588235294117647, 0.4627450980392157, 0.4666666666666667, 0.47058823529411764, 0.4745098039215686, 0.4784313725490196, 0.4823529411764706, 0.48627450980392156, 0.49019607843137253, 0.49411764705882355, 0.4980392156862745, 0.5019607843137255, 0.5058823529411764, 0.5098039215686274, 0.5137254901960784, 0.5176470588235293, 0.5215686274509804, 0.5254901960784314, 0.5294117647058824, 0.5333333333333333, 0.5372549019607843, 0.5411764705882353, 0.5450980392156862, 0.5490196078431373, 0.5529411764705883, 0.5568627450980392, 0.5607843137254902, 0.5647058823529412, 0.5686274509803921, 0.5725490196078431, 0.5764705882352941, 0.580392156862745, 0.5843137254901961, 0.5882352941176471, 0.592156862745098, 0.596078431372549, 0.6, 0.6039215686274509, 0.6078431372549019, 0.611764705882353, 0.615686274509804, 0.6196078431372549, 0.6235294117647059, 0.6274509803921569, 0.6313725490196078, 0.6352941176470588, 0.6392156862745098, 0.6431372549019607, 0.6470588235294118, 0.6509803921568628, 0.6549019607843137, 0.6588235294117647, 0.6627450980392157, 0.6666666666666666, 0.6705882352941176, 0.6745098039215687, 0.6784313725490196, 0.6823529411764706, 0.6862745098039216, 0.6901960784313725, 0.6941176470588235, 0.6980392156862745, 0.7019607843137254, 0.7058823529411764, 0.7098039215686275, 0.7137254901960784, 0.7176470588235294, 0.7215686274509804, 0.7254901960784313, 0.7294117647058823, 0.7333333333333333, 0.7372549019607844, 0.7411764705882353, 0.7450980392156863, 0.7490196078431373, 0.7529411764705882, 0.7568627450980392, 0.7607843137254902, 0.7647058823529411, 0.7686274509803921, 0.7725490196078432, 0.7764705882352941, 0.7803921568627451, 0.7843137254901961, 0.788235294117647, 0.792156862745098, 0.796078431372549, 0.8, 0.803921568627451, 0.807843137254902, 0.8117647058823529, 0.8156862745098039, 0.8196078431372549, 0.8235294117647058, 0.8274509803921568, 0.8313725490196078, 0.8352941176470589, 0.8392156862745098, 0.8431372549019608, 0.8470588235294118, 0.8509803921568627, 0.8549019607843137, 0.8588235294117647, 0.8627450980392157, 0.8666666666666667, 0.8705882352941177, 0.8745098039215686, 0.8784313725490196, 0.8823529411764706, 0.8862745098039215, 0.8901960784313725, 0.8941176470588235, 0.8980392156862745, 0.9019607843137255, 0.9058823529411765, 0.9098039215686274, 0.9137254901960784, 0.9176470588235294, 0.9215686274509803, 0.9254901960784314, 0.9294117647058824, 0.9333333333333333, 0.9372549019607843, 0.9411764705882353, 0.9450980392156862, 0.9490196078431372, 0.9529411764705882, 0.9568627450980391, 0.9607843137254902, 0.9647058823529412, 0.9686274509803922, 0.9725490196078431, 0.9764705882352941, 0.9803921568627451, 0.984313725490196, 0.9882352941176471, 0.9921568627450981, 0.996078431372549, 1.0]\n",
      "[0, 1, 2, 3, 4, 5, 6, 7, 8, 9, 10, 11, 12, 13, 14, 15, 16, 17, 18, 19, 20, 21, 22, 23, 24, 25, 26, 27, 28, 29, 30, 31, 32, 33, 34, 35, 36, 37, 38, 39, 40, 41, 42, 43, 44, 45, 46, 47, 48, 49, 50, 51, 52, 53, 54, 55, 56, 57, 58, 59, 60, 61, 62, 63, 64, 65, 66, 67, 68, 69, 70, 71, 72, 73, 74, 75, 76, 77, 78, 79, 80, 81, 82, 83, 84, 85, 86, 87, 88, 89, 90, 91, 92, 93, 94, 95, 96, 97, 98, 99, 100, 101, 102, 103, 104, 105, 106, 107, 108, 109, 110, 111, 112, 113, 114, 115, 116, 117, 118, 119, 120, 121, 122, 123, 124, 125, 126, 127, 128, 129, 130, 131, 132, 133, 134, 135, 136, 137, 138, 139, 140, 141, 142, 143, 144, 145, 146, 147, 148, 149, 150, 151, 152, 153, 154, 155, 156, 157, 158, 159, 160, 161, 162, 163, 164, 165, 166, 167, 168, 169, 170, 171, 172, 173, 174, 175, 176, 177, 178, 179, 180, 181, 182, 183, 184, 185, 186, 187, 188, 189, 190, 191, 192, 193, 194, 195, 196, 197, 198, 199, 200, 201, 202, 203, 204, 205, 206, 207, 208, 209, 210, 211, 212, 213, 214, 215, 216, 217, 218, 219, 220, 221, 222, 223, 224, 225, 226, 227, 228, 229, 230, 231, 232, 233, 234, 235, 236, 237, 238, 239, 240, 241, 242, 243, 244, 245, 246, 247, 248, 249, 250, 251, 252, 253, 254, 255]\n",
      "['GRE  ', 'ICMP ', 'IGMP ', 'TCP  ', 'UDP  ']\n",
      "[0, 1, 2, 3, 4]\n"
     ]
    },
    {
     "name": "stderr",
     "output_type": "stream",
     "text": [
      "C:\\Users\\hp\\Anaconda3\\lib\\site-packages\\sklearn\\preprocessing\\_encoders.py:415: FutureWarning: The handling of integer data will change in version 0.22. Currently, the categories are determined based on the range [0, max(values)], while in the future they will be determined based on the unique values.\n",
      "If you want the future behaviour and silence this warning, you can specify \"categories='auto'\".\n",
      "In case you used a LabelEncoder before this OneHotEncoder to convert the categories to integers, then you can now use the OneHotEncoder directly.\n",
      "  warnings.warn(msg, FutureWarning)\n"
     ]
    },
    {
     "name": "stdout",
     "output_type": "stream",
     "text": [
      "['sourceIP_feature 1', 'sourceIP_feature 2', 'sourceIP_feature 3', 'sourceIP_feature 4', 'destIP_feature 1', 'destIP_feature 2', 'destIP_feature 3', 'destIP_feature 4']\n"
     ]
    }
   ],
   "source": [
    "data = normalize(data)\n",
    "data =  one_shot(data) \n",
    "data = normalize_IP(data)"
   ]
  },
  {
   "cell_type": "code",
   "execution_count": 21,
   "metadata": {},
   "outputs": [],
   "source": [
    "#data['Flows'].unique()"
   ]
  },
  {
   "cell_type": "code",
   "execution_count": 22,
   "metadata": {},
   "outputs": [
    {
     "data": {
      "text/html": [
       "<div>\n",
       "<style scoped>\n",
       "    .dataframe tbody tr th:only-of-type {\n",
       "        vertical-align: middle;\n",
       "    }\n",
       "\n",
       "    .dataframe tbody tr th {\n",
       "        vertical-align: top;\n",
       "    }\n",
       "\n",
       "    .dataframe thead th {\n",
       "        text-align: right;\n",
       "    }\n",
       "</style>\n",
       "<table border=\"1\" class=\"dataframe\">\n",
       "  <thead>\n",
       "    <tr style=\"text-align: right;\">\n",
       "      <th></th>\n",
       "      <th>Date first seen</th>\n",
       "      <th>IP Pair</th>\n",
       "      <th>Duration</th>\n",
       "      <th>Proto</th>\n",
       "      <th>Src IP Addr</th>\n",
       "      <th>Src Pt</th>\n",
       "      <th>Dst IP Addr</th>\n",
       "      <th>Dst Pt</th>\n",
       "      <th>Packets</th>\n",
       "      <th>Bytes</th>\n",
       "      <th>Flows</th>\n",
       "      <th>Flags</th>\n",
       "      <th>Tos</th>\n",
       "      <th>class</th>\n",
       "      <th>attackType</th>\n",
       "      <th>attackID</th>\n",
       "      <th>attackDescription</th>\n",
       "      <th>sourceIP_feature 1</th>\n",
       "      <th>sourceIP_feature 2</th>\n",
       "      <th>sourceIP_feature 3</th>\n",
       "      <th>sourceIP_feature 4</th>\n",
       "      <th>sourceEXT_SERVER</th>\n",
       "      <th>sourceOPENSTACK_NET</th>\n",
       "      <th>sourceDNS</th>\n",
       "      <th>destIP_feature 1</th>\n",
       "      <th>destIP_feature 2</th>\n",
       "      <th>destIP_feature 3</th>\n",
       "      <th>destIP_feature 4</th>\n",
       "      <th>destEXT_SERVER</th>\n",
       "      <th>destOPENSTACK_NET</th>\n",
       "      <th>destDNS</th>\n",
       "      <th>GRE</th>\n",
       "      <th>ICMP</th>\n",
       "      <th>IGMP</th>\n",
       "      <th>TCP</th>\n",
       "      <th>UDP</th>\n",
       "    </tr>\n",
       "  </thead>\n",
       "  <tbody>\n",
       "    <tr>\n",
       "      <td>0</td>\n",
       "      <td>2017-03-15 00:01:16.632</td>\n",
       "      <td>192.168.100.5/192.168.220.16</td>\n",
       "      <td>0.000000e+00</td>\n",
       "      <td>3</td>\n",
       "      <td>192.168.100.5</td>\n",
       "      <td>0.006790</td>\n",
       "      <td>192.168.220.16</td>\n",
       "      <td>0.897902</td>\n",
       "      <td>0.000000</td>\n",
       "      <td>1.549787e-07</td>\n",
       "      <td>0.0</td>\n",
       "      <td>.AP...</td>\n",
       "      <td>0.0</td>\n",
       "      <td>normal</td>\n",
       "      <td>0</td>\n",
       "      <td>---</td>\n",
       "      <td>---</td>\n",
       "      <td>1.0</td>\n",
       "      <td>1.0</td>\n",
       "      <td>0.500</td>\n",
       "      <td>0.217391</td>\n",
       "      <td>0.0</td>\n",
       "      <td>0.0</td>\n",
       "      <td>0.0</td>\n",
       "      <td>0.5</td>\n",
       "      <td>0.5</td>\n",
       "      <td>0.714286</td>\n",
       "      <td>0.062745</td>\n",
       "      <td>0.0</td>\n",
       "      <td>0.0</td>\n",
       "      <td>0.0</td>\n",
       "      <td>0.0</td>\n",
       "      <td>0.0</td>\n",
       "      <td>0.0</td>\n",
       "      <td>1.0</td>\n",
       "      <td>0.0</td>\n",
       "    </tr>\n",
       "    <tr>\n",
       "      <td>1</td>\n",
       "      <td>2017-03-15 00:01:16.552</td>\n",
       "      <td>192.168.100.5/192.168.220.15</td>\n",
       "      <td>0.000000e+00</td>\n",
       "      <td>3</td>\n",
       "      <td>192.168.100.5</td>\n",
       "      <td>0.006790</td>\n",
       "      <td>192.168.220.15</td>\n",
       "      <td>0.745983</td>\n",
       "      <td>0.000000</td>\n",
       "      <td>1.549787e-07</td>\n",
       "      <td>0.0</td>\n",
       "      <td>.AP...</td>\n",
       "      <td>0.0</td>\n",
       "      <td>normal</td>\n",
       "      <td>0</td>\n",
       "      <td>---</td>\n",
       "      <td>---</td>\n",
       "      <td>1.0</td>\n",
       "      <td>1.0</td>\n",
       "      <td>0.500</td>\n",
       "      <td>0.217391</td>\n",
       "      <td>0.0</td>\n",
       "      <td>0.0</td>\n",
       "      <td>0.0</td>\n",
       "      <td>0.5</td>\n",
       "      <td>0.5</td>\n",
       "      <td>0.714286</td>\n",
       "      <td>0.058824</td>\n",
       "      <td>0.0</td>\n",
       "      <td>0.0</td>\n",
       "      <td>0.0</td>\n",
       "      <td>0.0</td>\n",
       "      <td>0.0</td>\n",
       "      <td>0.0</td>\n",
       "      <td>1.0</td>\n",
       "      <td>0.0</td>\n",
       "    </tr>\n",
       "    <tr>\n",
       "      <td>2</td>\n",
       "      <td>2017-03-15 00:01:16.551</td>\n",
       "      <td>192.168.100.5/192.168.220.15</td>\n",
       "      <td>6.613570e-09</td>\n",
       "      <td>3</td>\n",
       "      <td>192.168.220.15</td>\n",
       "      <td>0.745983</td>\n",
       "      <td>192.168.100.5</td>\n",
       "      <td>0.006790</td>\n",
       "      <td>0.000005</td>\n",
       "      <td>2.828361e-07</td>\n",
       "      <td>0.0</td>\n",
       "      <td>.AP...</td>\n",
       "      <td>0.0</td>\n",
       "      <td>normal</td>\n",
       "      <td>0</td>\n",
       "      <td>---</td>\n",
       "      <td>---</td>\n",
       "      <td>1.0</td>\n",
       "      <td>1.0</td>\n",
       "      <td>0.875</td>\n",
       "      <td>0.652174</td>\n",
       "      <td>0.0</td>\n",
       "      <td>0.0</td>\n",
       "      <td>0.0</td>\n",
       "      <td>0.5</td>\n",
       "      <td>0.5</td>\n",
       "      <td>0.285714</td>\n",
       "      <td>0.019608</td>\n",
       "      <td>0.0</td>\n",
       "      <td>0.0</td>\n",
       "      <td>0.0</td>\n",
       "      <td>0.0</td>\n",
       "      <td>0.0</td>\n",
       "      <td>0.0</td>\n",
       "      <td>1.0</td>\n",
       "      <td>0.0</td>\n",
       "    </tr>\n",
       "    <tr>\n",
       "      <td>3</td>\n",
       "      <td>2017-03-15 00:01:16.631</td>\n",
       "      <td>192.168.100.5/192.168.220.16</td>\n",
       "      <td>6.613570e-09</td>\n",
       "      <td>3</td>\n",
       "      <td>192.168.220.16</td>\n",
       "      <td>0.897902</td>\n",
       "      <td>192.168.100.5</td>\n",
       "      <td>0.006790</td>\n",
       "      <td>0.000005</td>\n",
       "      <td>2.828361e-07</td>\n",
       "      <td>0.0</td>\n",
       "      <td>.AP...</td>\n",
       "      <td>0.0</td>\n",
       "      <td>normal</td>\n",
       "      <td>0</td>\n",
       "      <td>---</td>\n",
       "      <td>---</td>\n",
       "      <td>1.0</td>\n",
       "      <td>1.0</td>\n",
       "      <td>0.875</td>\n",
       "      <td>0.695652</td>\n",
       "      <td>0.0</td>\n",
       "      <td>0.0</td>\n",
       "      <td>0.0</td>\n",
       "      <td>0.5</td>\n",
       "      <td>0.5</td>\n",
       "      <td>0.285714</td>\n",
       "      <td>0.019608</td>\n",
       "      <td>0.0</td>\n",
       "      <td>0.0</td>\n",
       "      <td>0.0</td>\n",
       "      <td>0.0</td>\n",
       "      <td>0.0</td>\n",
       "      <td>0.0</td>\n",
       "      <td>1.0</td>\n",
       "      <td>0.0</td>\n",
       "    </tr>\n",
       "    <tr>\n",
       "      <td>4</td>\n",
       "      <td>2017-03-15 00:01:16.552</td>\n",
       "      <td>192.168.100.5/192.168.220.15</td>\n",
       "      <td>0.000000e+00</td>\n",
       "      <td>3</td>\n",
       "      <td>192.168.100.5</td>\n",
       "      <td>0.006790</td>\n",
       "      <td>192.168.220.15</td>\n",
       "      <td>0.745983</td>\n",
       "      <td>0.000000</td>\n",
       "      <td>1.549787e-07</td>\n",
       "      <td>0.0</td>\n",
       "      <td>.AP...</td>\n",
       "      <td>0.0</td>\n",
       "      <td>normal</td>\n",
       "      <td>0</td>\n",
       "      <td>---</td>\n",
       "      <td>---</td>\n",
       "      <td>1.0</td>\n",
       "      <td>1.0</td>\n",
       "      <td>0.500</td>\n",
       "      <td>0.217391</td>\n",
       "      <td>0.0</td>\n",
       "      <td>0.0</td>\n",
       "      <td>0.0</td>\n",
       "      <td>0.5</td>\n",
       "      <td>0.5</td>\n",
       "      <td>0.714286</td>\n",
       "      <td>0.058824</td>\n",
       "      <td>0.0</td>\n",
       "      <td>0.0</td>\n",
       "      <td>0.0</td>\n",
       "      <td>0.0</td>\n",
       "      <td>0.0</td>\n",
       "      <td>0.0</td>\n",
       "      <td>1.0</td>\n",
       "      <td>0.0</td>\n",
       "    </tr>\n",
       "  </tbody>\n",
       "</table>\n",
       "</div>"
      ],
      "text/plain": [
       "           Date first seen                       IP Pair      Duration  Proto  \\\n",
       "0  2017-03-15 00:01:16.632  192.168.100.5/192.168.220.16  0.000000e+00      3   \n",
       "1  2017-03-15 00:01:16.552  192.168.100.5/192.168.220.15  0.000000e+00      3   \n",
       "2  2017-03-15 00:01:16.551  192.168.100.5/192.168.220.15  6.613570e-09      3   \n",
       "3  2017-03-15 00:01:16.631  192.168.100.5/192.168.220.16  6.613570e-09      3   \n",
       "4  2017-03-15 00:01:16.552  192.168.100.5/192.168.220.15  0.000000e+00      3   \n",
       "\n",
       "      Src IP Addr    Src Pt     Dst IP Addr    Dst Pt   Packets         Bytes  \\\n",
       "0   192.168.100.5  0.006790  192.168.220.16  0.897902  0.000000  1.549787e-07   \n",
       "1   192.168.100.5  0.006790  192.168.220.15  0.745983  0.000000  1.549787e-07   \n",
       "2  192.168.220.15  0.745983   192.168.100.5  0.006790  0.000005  2.828361e-07   \n",
       "3  192.168.220.16  0.897902   192.168.100.5  0.006790  0.000005  2.828361e-07   \n",
       "4   192.168.100.5  0.006790  192.168.220.15  0.745983  0.000000  1.549787e-07   \n",
       "\n",
       "   Flows   Flags  Tos   class  attackType attackID attackDescription  \\\n",
       "0    0.0  .AP...  0.0  normal           0      ---               ---   \n",
       "1    0.0  .AP...  0.0  normal           0      ---               ---   \n",
       "2    0.0  .AP...  0.0  normal           0      ---               ---   \n",
       "3    0.0  .AP...  0.0  normal           0      ---               ---   \n",
       "4    0.0  .AP...  0.0  normal           0      ---               ---   \n",
       "\n",
       "   sourceIP_feature 1  sourceIP_feature 2  sourceIP_feature 3  \\\n",
       "0                 1.0                 1.0               0.500   \n",
       "1                 1.0                 1.0               0.500   \n",
       "2                 1.0                 1.0               0.875   \n",
       "3                 1.0                 1.0               0.875   \n",
       "4                 1.0                 1.0               0.500   \n",
       "\n",
       "   sourceIP_feature 4  sourceEXT_SERVER  sourceOPENSTACK_NET  sourceDNS  \\\n",
       "0            0.217391               0.0                  0.0        0.0   \n",
       "1            0.217391               0.0                  0.0        0.0   \n",
       "2            0.652174               0.0                  0.0        0.0   \n",
       "3            0.695652               0.0                  0.0        0.0   \n",
       "4            0.217391               0.0                  0.0        0.0   \n",
       "\n",
       "   destIP_feature 1  destIP_feature 2  destIP_feature 3  destIP_feature 4  \\\n",
       "0               0.5               0.5          0.714286          0.062745   \n",
       "1               0.5               0.5          0.714286          0.058824   \n",
       "2               0.5               0.5          0.285714          0.019608   \n",
       "3               0.5               0.5          0.285714          0.019608   \n",
       "4               0.5               0.5          0.714286          0.058824   \n",
       "\n",
       "   destEXT_SERVER  destOPENSTACK_NET  destDNS  GRE    ICMP   IGMP   TCP    \\\n",
       "0             0.0                0.0      0.0    0.0    0.0    0.0    1.0   \n",
       "1             0.0                0.0      0.0    0.0    0.0    0.0    1.0   \n",
       "2             0.0                0.0      0.0    0.0    0.0    0.0    1.0   \n",
       "3             0.0                0.0      0.0    0.0    0.0    0.0    1.0   \n",
       "4             0.0                0.0      0.0    0.0    0.0    0.0    1.0   \n",
       "\n",
       "   UDP    \n",
       "0    0.0  \n",
       "1    0.0  \n",
       "2    0.0  \n",
       "3    0.0  \n",
       "4    0.0  "
      ]
     },
     "execution_count": 22,
     "metadata": {},
     "output_type": "execute_result"
    }
   ],
   "source": [
    "#91850\n",
    "data.head()"
   ]
  },
  {
   "cell_type": "code",
   "execution_count": 23,
   "metadata": {},
   "outputs": [],
   "source": [
    "from datetime import datetime\n",
    "def unix_time(df):\n",
    "  #  df[' Timestamp'] = df[' Timestamp'].apply(lambda x: x + ':00' if len(x) != 19 else x)\n",
    "   # df[' Timestamp'] = df[' Timestamp'].apply(lambda x: x[0 : 5 : ] + x[7 : :] if len(x) != 19 else x[0 : 7 : ] + x[9 : :])\n",
    "    df['Date first seen'] = df['Date first seen'].apply(lambda x: datetime.strptime(x,'%Y-%m-%d %H:%M:%S.%f'))\n",
    "    df['Date first seen'] = df['Date first seen'].apply(lambda x: x.timestamp()*1000)\n",
    "    return df;"
   ]
  },
  {
   "cell_type": "code",
   "execution_count": 24,
   "metadata": {},
   "outputs": [],
   "source": [
    "def normal_profile(grouped):\n",
    "    grouped['---'] = unix_time(grouped['---'])\n",
    "    start_time = int(grouped['---'].head(1)['Date first seen'].values[0])\n",
    "    end_time = int(grouped['---'].tail(1)['Date first seen'].values[0])\n",
    "#date_bins = pd.IntervalIndex.from_tuples(\n",
    "#        [(i, i+3600000) for i in range(start_time, end_time, 3600000)],\n",
    "#        closed=\"left\")\n",
    "#date_labels = [f\"{i}\" for i in range(1, len(date_bins)+1, 1)]\n",
    "    normal_data = dict(tuple( grouped['---'].groupby( pd.cut(\n",
    "            grouped['---']['Date first seen'],\n",
    "               np.arange(start_time, end_time, 3*3600000)))))\n",
    "    del grouped['---']\n",
    "    num = []\n",
    "    for i in grouped_data.keys():\n",
    "          num.append(len(grouped_data[i]))\n",
    "    print(min(num))\n",
    "    num = max(num)\n",
    "    print(num)\n",
    "    print(len(grouped.keys()))\n",
    "    grouped = {**grouped, **normal_data}\n",
    "    print(len(grouped.keys()))\n",
    "    return grouped, num;"
   ]
  },
  {
   "cell_type": "code",
   "execution_count": 25,
   "metadata": {},
   "outputs": [
    {
     "data": {
      "text/plain": [
       "0"
      ]
     },
     "execution_count": 25,
     "metadata": {},
     "output_type": "execute_result"
    }
   ],
   "source": [
    "grouped_data= dict(tuple(data.groupby(['attackID'])))\n",
    "del data\n",
    "gc.collect()"
   ]
  },
  {
   "cell_type": "code",
   "execution_count": 26,
   "metadata": {
    "scrolled": true
   },
   "outputs": [
    {
     "name": "stdout",
     "output_type": "stream",
     "text": [
      "---: 7195669 : 0\n",
      "bruteForce : 26\n",
      "25: 201 : 1\n",
      "27: 680 : 1\n",
      "30: 46 : 1\n",
      "32: 335 : 1\n",
      "39: 364 : 1\n",
      "54: 183 : 1\n",
      "55: 757 : 1\n",
      "56: 427 : 1\n",
      "61: 705 : 1\n",
      "62: 574 : 1\n",
      "64: 480 : 1\n",
      "70: 240 : 1\n",
      "73: 200 : 1\n",
      "74: 200 : 1\n",
      "75: 200 : 1\n",
      "76: 168 : 1\n",
      "78: 200 : 1\n",
      "79: 200 : 1\n",
      "81: 200 : 1\n",
      "83: 200 : 1\n",
      "84: 200 : 1\n",
      "87: 200 : 1\n",
      "88: 200 : 1\n",
      "90: 200 : 1\n",
      "91: 40 : 1\n",
      "92: 40 : 1\n",
      "dos : 18\n",
      "16: 261003 : 2\n",
      "18: 295302 : 2\n",
      "23: 72788 : 2\n",
      "26: 74471 : 2\n",
      "28: 36306 : 2\n",
      "3: 37118 : 2\n",
      "31: 144845 : 2\n",
      "4: 72063 : 2\n",
      "42: 184040 : 2\n",
      "44: 261169 : 2\n",
      "45: 224960 : 2\n",
      "46: 111720 : 2\n",
      "53: 516299 : 2\n",
      "59: 110484 : 2\n",
      "6: 37134 : 2\n",
      "60: 333627 : 2\n",
      "63: 148641 : 2\n",
      "9: 37057 : 2\n",
      "pingScan: 16\n",
      "10: 311 : 3\n",
      "13: 513 : 3\n",
      "15: 64 : 3\n",
      "22: 295 : 3\n",
      "24: 466 : 3\n",
      "33: 307 : 3\n",
      "35: 263 : 3\n",
      "36: 494 : 3\n",
      "38: 267 : 3\n",
      "41: 379 : 3\n",
      "52: 607 : 3\n",
      "57: 522 : 3\n",
      "58: 510 : 3\n",
      "65: 373 : 3\n",
      "66: 359 : 3\n",
      "69: 360 : 3\n",
      "portScan : 32\n",
      "1: 7657 : 4\n",
      "11: 17401 : 4\n",
      "12: 11526 : 4\n",
      "14: 13807 : 4\n",
      "17: 13338 : 4\n",
      "19: 11672 : 4\n",
      "2: 1927 : 4\n",
      "20: 11748 : 4\n",
      "21: 5113 : 4\n",
      "29: 19732 : 4\n",
      "34: 12909 : 4\n",
      "37: 26114 : 4\n",
      "40: 11609 : 4\n",
      "43: 2143 : 4\n",
      "47: 13420 : 4\n",
      "48: 13600 : 4\n",
      "49: 17629 : 4\n",
      "5: 4948 : 4\n",
      "50: 4589 : 4\n",
      "51: 11968 : 4\n",
      "67: 13426 : 4\n",
      "68: 5632 : 4\n",
      "7: 9586 : 4\n",
      "71: 2008 : 4\n",
      "72: 2002 : 4\n",
      "77: 6410 : 4\n",
      "8: 4424 : 4\n",
      "80: 1991 : 4\n",
      "82: 1370 : 4\n",
      "85: 1984 : 4\n",
      "86: 2002 : 4\n",
      "89: 952 : 4\n"
     ]
    }
   ],
   "source": [
    "no_1 = []\n",
    "no_2 = []\n",
    "no_3 = []\n",
    "no_4 = []\n",
    "for i in grouped_data.keys():\n",
    "   \n",
    "    if grouped_data[i]['attackType'].unique()[0] == 0:\n",
    "        print(f\"{i}: {len(grouped_data[i])} : {grouped_data[i]['attackType'].unique()[0]}\")\n",
    "    if grouped_data[i]['attackType'].unique()[0] == 1:\n",
    "              no_1.append(i)\n",
    "    if grouped_data[i]['attackType'].unique()[0] == 2:\n",
    "              no_2.append(i)\n",
    "    if grouped_data[i]['attackType'].unique()[0] == 3:\n",
    "              no_3.append(i)\n",
    "    if grouped_data[i]['attackType'].unique()[0] == 4:\n",
    "              no_4.append(i)\n",
    "print(f\"bruteForce : {len(no_1)}\")\n",
    "for i in no_1:\n",
    "     print(f\"{i}: {len(grouped_data[i])} : {grouped_data[i]['attackType'].unique()[0]}\")\n",
    "print(f\"dos : {len(no_2)}\")\n",
    "for i in no_2:\n",
    "     print(f\"{i}: {len(grouped_data[i])} : {grouped_data[i]['attackType'].unique()[0]}\")\n",
    "print(f\"pingScan: {len(no_3)}\")\n",
    "for i in no_3:\n",
    "     print(f\"{i}: {len(grouped_data[i])} : {grouped_data[i]['attackType'].unique()[0]}\")\n",
    "print(f\"portScan : {len(no_4)}\")\n",
    "for i in no_4:\n",
    "     print(f\"{i}: {len(grouped_data[i])} : {grouped_data[i]['attackType'].unique()[0]}\")"
   ]
  },
  {
   "cell_type": "code",
   "execution_count": 27,
   "metadata": {},
   "outputs": [
    {
     "data": {
      "text/plain": [
       "20"
      ]
     },
     "execution_count": 27,
     "metadata": {},
     "output_type": "execute_result"
    }
   ],
   "source": [
    "del no_1\n",
    "del no_2\n",
    "del no_3\n",
    "del no_4\n",
    "gc.collect()"
   ]
  },
  {
   "cell_type": "code",
   "execution_count": 28,
   "metadata": {},
   "outputs": [],
   "source": [
    "def del_largeInstances(dic, length):\n",
    "    remove_ID = []\n",
    "    for i in dic.keys():\n",
    "        if (i != '---'):\n",
    "            if(len(dic[i]) >= length):\n",
    "                remove_ID.append(i)\n",
    "    print(len(remove_ID))\n",
    "    removed_attacks = {}\n",
    "    for i in remove_ID:\n",
    "        removed_attacks[i] = dic[i]\n",
    "        del dic[i]\n",
    "    return dic;"
   ]
  },
  {
   "cell_type": "code",
   "execution_count": 29,
   "metadata": {},
   "outputs": [
    {
     "name": "stdout",
     "output_type": "stream",
     "text": [
      "19\n"
     ]
    }
   ],
   "source": [
    "grouped_data = del_largeInstances(grouped_data, 20000)"
   ]
  },
  {
   "cell_type": "code",
   "execution_count": 30,
   "metadata": {},
   "outputs": [
    {
     "name": "stdout",
     "output_type": "stream",
     "text": [
      "40\n",
      "19732\n",
      "73\n",
      "350\n"
     ]
    }
   ],
   "source": [
    "#grouped_data, num = normal_profile(grouped_data)\n",
    "grouped_data1= {}\n",
    "for i in grouped_data.keys():\n",
    "    grouped_data[i] = flag_convert(grouped_data[i])\n",
    "   # grouped_data[i] =  drop_columns(grouped_data[i])\n",
    "grouped_data, num = normal_profile(grouped_data)\n",
    "for i in grouped_data.keys():\n",
    "   # grouped_data[i] = flag_convert(grouped_data[i])\n",
    "    grouped_data[i] =  drop_columns(grouped_data[i])"
   ]
  },
  {
   "cell_type": "code",
   "execution_count": 31,
   "metadata": {
    "scrolled": true
   },
   "outputs": [
    {
     "name": "stdout",
     "output_type": "stream",
     "text": [
      "1 : False\n",
      "10 : False\n",
      "11 : False\n",
      "12 : False\n",
      "13 : False\n",
      "14 : False\n",
      "15 : False\n",
      "17 : False\n",
      "19 : False\n",
      "2 : False\n",
      "20 : False\n",
      "21 : False\n",
      "22 : False\n",
      "24 : False\n",
      "25 : False\n",
      "27 : False\n",
      "29 : False\n",
      "30 : False\n",
      "32 : False\n",
      "33 : False\n",
      "34 : False\n",
      "35 : False\n",
      "36 : False\n",
      "38 : False\n",
      "39 : False\n",
      "40 : False\n",
      "41 : False\n",
      "43 : False\n",
      "47 : False\n",
      "48 : False\n",
      "49 : False\n",
      "5 : False\n",
      "50 : False\n",
      "51 : False\n",
      "52 : False\n",
      "54 : False\n",
      "55 : False\n",
      "56 : False\n",
      "57 : False\n",
      "58 : False\n",
      "61 : False\n",
      "62 : False\n",
      "64 : False\n",
      "65 : False\n",
      "66 : False\n",
      "67 : False\n",
      "68 : False\n",
      "69 : False\n",
      "7 : False\n",
      "70 : False\n",
      "71 : False\n",
      "72 : False\n",
      "73 : False\n",
      "74 : False\n",
      "75 : False\n",
      "76 : False\n",
      "77 : False\n",
      "78 : False\n",
      "79 : False\n",
      "8 : False\n",
      "80 : False\n",
      "81 : False\n",
      "82 : False\n",
      "83 : False\n",
      "84 : False\n",
      "85 : False\n",
      "86 : False\n",
      "87 : False\n",
      "88 : False\n",
      "89 : False\n",
      "90 : False\n",
      "91 : False\n",
      "92 : False\n",
      "(1489536076632, 1489546876632] : False\n",
      "(1489546876632, 1489557676632] : False\n",
      "(1489557676632, 1489568476632] : False\n",
      "(1489568476632, 1489579276632] : False\n",
      "(1489579276632, 1489590076632] : False\n",
      "(1489590076632, 1489600876632] : False\n",
      "(1489600876632, 1489611676632] : False\n",
      "(1489611676632, 1489622476632] : False\n",
      "(1489622476632, 1489633276632] : False\n",
      "(1489633276632, 1489644076632] : False\n",
      "(1489644076632, 1489654876632] : False\n",
      "(1489654876632, 1489665676632] : False\n",
      "(1489665676632, 1489676476632] : False\n",
      "(1489676476632, 1489687276632] : False\n",
      "(1489687276632, 1489698076632] : False\n",
      "(1489698076632, 1489708876632] : False\n",
      "(1489708876632, 1489719676632] : False\n",
      "(1489719676632, 1489730476632] : False\n",
      "(1489730476632, 1489741276632] : False\n",
      "(1489741276632, 1489752076632] : False\n",
      "(1489752076632, 1489762876632] : False\n",
      "(1489762876632, 1489773676632] : False\n",
      "(1489773676632, 1489784476632] : False\n",
      "(1489784476632, 1489795276632] : False\n",
      "(1489795276632, 1489806076632] : False\n",
      "(1489806076632, 1489816876632] : False\n",
      "(1489816876632, 1489827676632] : False\n",
      "(1489827676632, 1489838476632] : False\n",
      "(1489838476632, 1489849276632] : False\n",
      "(1489849276632, 1489860076632] : False\n",
      "(1489860076632, 1489870876632] : False\n",
      "(1489870876632, 1489881676632] : False\n",
      "(1489881676632, 1489892476632] : False\n",
      "(1489892476632, 1489903276632] : False\n",
      "(1489903276632, 1489914076632] : False\n",
      "(1489914076632, 1489924876632] : False\n",
      "(1489924876632, 1489935676632] : False\n",
      "(1489935676632, 1489946476632] : False\n",
      "(1489946476632, 1489957276632] : False\n",
      "(1489957276632, 1489968076632] : False\n",
      "(1489968076632, 1489978876632] : False\n",
      "(1489978876632, 1489989676632] : False\n",
      "(1489989676632, 1490000476632] : False\n",
      "(1490000476632, 1490011276632] : False\n",
      "(1490011276632, 1490022076632] : False\n",
      "(1490022076632, 1490032876632] : False\n",
      "(1490032876632, 1490043676632] : False\n",
      "(1490043676632, 1490054476632] : False\n",
      "(1490054476632, 1490065276632] : False\n",
      "(1490065276632, 1490076076632] : False\n",
      "(1490076076632, 1490086876632] : False\n",
      "(1490086876632, 1490097676632] : False\n",
      "(1490097676632, 1490108476632] : False\n",
      "(1490108476632, 1490119276632] : False\n",
      "(1490119276632, 1490130076632] : False\n",
      "(1490130076632, 1490140876632] : False\n",
      "(1490140876632, 1490151676632] : False\n",
      "(1490151676632, 1490162476632] : False\n",
      "(1490162476632, 1490173276632] : False\n",
      "(1490173276632, 1490184076632] : False\n",
      "(1490184076632, 1490194876632] : False\n",
      "(1490194876632, 1490205676632] : False\n",
      "(1490205676632, 1490216476632] : False\n",
      "(1490216476632, 1490227276632] : False\n",
      "(1490227276632, 1490238076632] : False\n",
      "(1490238076632, 1490248876632] : False\n",
      "(1490248876632, 1490259676632] : False\n",
      "(1490259676632, 1490270476632] : False\n",
      "(1490270476632, 1490281276632] : False\n",
      "(1490281276632, 1490292076632] : False\n",
      "(1490292076632, 1490302876632] : False\n",
      "(1490302876632, 1490313676632] : False\n",
      "(1490313676632, 1490324476632] : False\n",
      "(1490324476632, 1490335276632] : False\n",
      "(1490335276632, 1490346076632] : False\n",
      "(1490346076632, 1490356876632] : False\n",
      "(1490356876632, 1490367676632] : False\n",
      "(1490367676632, 1490378476632] : False\n",
      "(1490378476632, 1490389276632] : False\n",
      "(1490389276632, 1490400076632] : False\n",
      "(1490400076632, 1490410876632] : False\n",
      "(1490410876632, 1490421676632] : False\n",
      "(1490421676632, 1490432476632] : False\n",
      "(1490432476632, 1490443276632] : False\n",
      "(1490443276632, 1490454076632] : False\n",
      "(1490454076632, 1490464876632] : False\n",
      "(1490464876632, 1490475676632] : False\n",
      "(1490475676632, 1490486476632] : False\n",
      "(1490486476632, 1490497276632] : False\n",
      "(1490497276632, 1490508076632] : False\n",
      "(1490508076632, 1490518876632] : False\n",
      "(1490518876632, 1490529676632] : False\n",
      "(1490529676632, 1490540476632] : False\n",
      "(1490540476632, 1490551276632] : False\n",
      "(1490551276632, 1490562076632] : False\n",
      "(1490562076632, 1490572876632] : False\n",
      "(1490572876632, 1490583676632] : False\n",
      "(1490583676632, 1490594476632] : False\n",
      "(1490594476632, 1490605276632] : False\n",
      "(1490605276632, 1490616076632] : False\n",
      "(1490616076632, 1490626876632] : False\n",
      "(1490626876632, 1490637676632] : False\n",
      "(1490637676632, 1490648476632] : False\n",
      "(1490648476632, 1490659276632] : False\n",
      "(1490659276632, 1490670076632] : False\n",
      "(1490670076632, 1490680876632] : False\n",
      "(1490680876632, 1490691676632] : False\n",
      "(1490691676632, 1490702476632] : False\n",
      "(1490702476632, 1490713276632] : False\n",
      "(1490713276632, 1490724076632] : False\n",
      "(1490724076632, 1490734876632] : False\n",
      "(1490734876632, 1490745676632] : False\n",
      "(1490745676632, 1490756476632] : False\n",
      "(1490756476632, 1490767276632] : False\n",
      "(1490767276632, 1490778076632] : False\n",
      "(1490778076632, 1490788876632] : False\n",
      "(1490788876632, 1490799676632] : False\n",
      "(1490799676632, 1490810476632] : False\n",
      "(1490810476632, 1490821276632] : False\n",
      "(1490821276632, 1490832076632] : False\n",
      "(1490832076632, 1490842876632] : False\n",
      "(1490842876632, 1490853676632] : False\n",
      "(1490853676632, 1490864476632] : False\n",
      "(1490864476632, 1490875276632] : False\n",
      "(1490875276632, 1490886076632] : False\n",
      "(1490886076632, 1490896876632] : False\n",
      "(1490896876632, 1490907676632] : False\n",
      "(1490907676632, 1490918476632] : False\n",
      "(1490918476632, 1490929276632] : False\n",
      "(1490929276632, 1490940076632] : False\n",
      "(1490940076632, 1490950876632] : False\n",
      "(1490950876632, 1490961676632] : False\n",
      "(1490961676632, 1490972476632] : False\n",
      "(1490972476632, 1490983276632] : False\n",
      "(1490983276632, 1490994076632] : False\n",
      "(1490994076632, 1491004876632] : False\n",
      "(1491004876632, 1491015676632] : False\n",
      "(1491015676632, 1491026476632] : False\n",
      "(1491026476632, 1491037276632] : False\n",
      "(1491037276632, 1491048076632] : False\n",
      "(1491048076632, 1491058876632] : False\n",
      "(1491058876632, 1491069676632] : False\n",
      "(1491069676632, 1491080476632] : False\n",
      "(1491080476632, 1491091276632] : False\n",
      "(1491091276632, 1491102076632] : False\n",
      "(1491102076632, 1491112876632] : False\n",
      "(1491112876632, 1491123676632] : False\n",
      "(1491123676632, 1491134476632] : False\n",
      "(1491134476632, 1491145276632] : False\n",
      "(1491145276632, 1491156076632] : False\n",
      "(1491156076632, 1491166876632] : False\n",
      "(1491166876632, 1491177676632] : False\n",
      "(1491177676632, 1491188476632] : False\n",
      "(1491188476632, 1491199276632] : False\n",
      "(1491199276632, 1491210076632] : False\n",
      "(1491210076632, 1491220876632] : False\n",
      "(1491220876632, 1491231676632] : False\n",
      "(1491231676632, 1491242476632] : False\n",
      "(1491242476632, 1491253276632] : False\n",
      "(1491253276632, 1491264076632] : False\n",
      "(1491264076632, 1491274876632] : False\n",
      "(1491274876632, 1491285676632] : False\n",
      "(1491285676632, 1491296476632] : False\n",
      "(1491296476632, 1491307276632] : False\n",
      "(1491307276632, 1491318076632] : False\n",
      "(1491318076632, 1491328876632] : False\n",
      "(1491328876632, 1491339676632] : False\n",
      "(1491339676632, 1491350476632] : False\n",
      "(1491350476632, 1491361276632] : False\n",
      "(1491361276632, 1491372076632] : False\n",
      "(1491372076632, 1491382876632] : False\n",
      "(1491382876632, 1491393676632] : False\n",
      "(1491393676632, 1491404476632] : False\n",
      "(1491404476632, 1491415276632] : False\n",
      "(1491415276632, 1491426076632] : False\n",
      "(1491426076632, 1491436876632] : False\n",
      "(1491436876632, 1491447676632] : False\n",
      "(1491447676632, 1491458476632] : False\n",
      "(1491458476632, 1491469276632] : False\n",
      "(1491469276632, 1491480076632] : False\n",
      "(1491480076632, 1491490876632] : False\n",
      "(1491490876632, 1491501676632] : False\n",
      "(1491501676632, 1491512476632] : False\n",
      "(1491512476632, 1491523276632] : False\n",
      "(1491523276632, 1491534076632] : False\n",
      "(1491534076632, 1491544876632] : False\n",
      "(1491544876632, 1491555676632] : False\n",
      "(1491555676632, 1491566476632] : False\n",
      "(1491566476632, 1491577276632] : False\n",
      "(1491577276632, 1491588076632] : False\n",
      "(1491588076632, 1491598876632] : False\n",
      "(1491598876632, 1491609676632] : False\n",
      "(1491609676632, 1491620476632] : False\n",
      "(1491620476632, 1491631276632] : False\n",
      "(1491631276632, 1491642076632] : False\n",
      "(1491642076632, 1491652876632] : False\n",
      "(1491652876632, 1491663676632] : False\n",
      "(1491663676632, 1491674476632] : False\n",
      "(1491674476632, 1491685276632] : False\n",
      "(1491685276632, 1491696076632] : False\n",
      "(1491696076632, 1491706876632] : False\n",
      "(1491706876632, 1491717676632] : False\n",
      "(1491717676632, 1491728476632] : False\n",
      "(1491728476632, 1491739276632] : False\n",
      "(1491739276632, 1491750076632] : False\n",
      "(1491750076632, 1491760876632] : False\n",
      "(1491760876632, 1491771676632] : False\n",
      "(1491771676632, 1491782476632] : False\n",
      "(1491782476632, 1491793276632] : False\n",
      "(1491793276632, 1491804076632] : False\n",
      "(1491804076632, 1491814876632] : False\n",
      "(1491814876632, 1491825676632] : False\n",
      "(1491825676632, 1491836476632] : False\n",
      "(1491836476632, 1491847276632] : False\n",
      "(1491847276632, 1491858076632] : False\n",
      "(1491858076632, 1491868876632] : False\n",
      "(1491868876632, 1491879676632] : False\n",
      "(1491879676632, 1491890476632] : False\n",
      "(1491890476632, 1491901276632] : False\n",
      "(1491901276632, 1491912076632] : False\n"
     ]
    },
    {
     "name": "stdout",
     "output_type": "stream",
     "text": [
      "(1491912076632, 1491922876632] : False\n",
      "(1491922876632, 1491933676632] : False\n",
      "(1491933676632, 1491944476632] : False\n",
      "(1491944476632, 1491955276632] : False\n",
      "(1491955276632, 1491966076632] : False\n",
      "(1491966076632, 1491976876632] : False\n",
      "(1491976876632, 1491987676632] : False\n",
      "(1491987676632, 1491998476632] : False\n",
      "(1491998476632, 1492009276632] : False\n",
      "(1492009276632, 1492020076632] : False\n",
      "(1492020076632, 1492030876632] : False\n",
      "(1492030876632, 1492041676632] : False\n",
      "(1492041676632, 1492052476632] : False\n",
      "(1492052476632, 1492063276632] : False\n",
      "(1492063276632, 1492074076632] : False\n",
      "(1492074076632, 1492084876632] : False\n",
      "(1492084876632, 1492095676632] : False\n",
      "(1492095676632, 1492106476632] : False\n",
      "(1492106476632, 1492117276632] : False\n",
      "(1492117276632, 1492128076632] : False\n",
      "(1492128076632, 1492138876632] : False\n",
      "(1492138876632, 1492149676632] : False\n",
      "(1492149676632, 1492160476632] : False\n",
      "(1492160476632, 1492171276632] : False\n",
      "(1492171276632, 1492182076632] : False\n",
      "(1492182076632, 1492192876632] : False\n",
      "(1492192876632, 1492203676632] : False\n",
      "(1492203676632, 1492214476632] : False\n",
      "(1492214476632, 1492225276632] : False\n",
      "(1492225276632, 1492236076632] : False\n",
      "(1492236076632, 1492246876632] : False\n",
      "(1492246876632, 1492257676632] : False\n",
      "(1492257676632, 1492268476632] : False\n",
      "(1492268476632, 1492279276632] : False\n",
      "(1492279276632, 1492290076632] : False\n",
      "(1492290076632, 1492300876632] : False\n",
      "(1492300876632, 1492311676632] : False\n",
      "(1492311676632, 1492322476632] : False\n",
      "(1492322476632, 1492333276632] : False\n",
      "(1492333276632, 1492344076632] : False\n",
      "(1492344076632, 1492354876632] : False\n",
      "(1492354876632, 1492365676632] : False\n",
      "(1492365676632, 1492376476632] : False\n",
      "(1492376476632, 1492387276632] : False\n",
      "(1492387276632, 1492398076632] : False\n",
      "(1492398076632, 1492408876632] : False\n",
      "(1492408876632, 1492419676632] : False\n",
      "(1492419676632, 1492430476632] : False\n",
      "(1492430476632, 1492441276632] : False\n",
      "(1492441276632, 1492452076632] : False\n",
      "(1492452076632, 1492462876632] : False\n",
      "(1492462876632, 1492473676632] : False\n",
      "(1492473676632, 1492484476632] : False\n",
      "(1492484476632, 1492495276632] : False\n",
      "(1492495276632, 1492506076632] : False\n",
      "(1492506076632, 1492516876632] : False\n",
      "(1492516876632, 1492527676632] : False\n"
     ]
    }
   ],
   "source": [
    "for i in grouped_data.keys():\n",
    "    #if (grouped_data[i].hasnull())\n",
    "    print(f'{i} : {grouped_data[i].isnull().values.any()}')"
   ]
  },
  {
   "cell_type": "code",
   "execution_count": 32,
   "metadata": {},
   "outputs": [],
   "source": [
    "#grouped_data[(1491346876632, 1491350476632)].head()"
   ]
  },
  {
   "cell_type": "code",
   "execution_count": 33,
   "metadata": {},
   "outputs": [
    {
     "name": "stdout",
     "output_type": "stream",
     "text": [
      "167\n"
     ]
    }
   ],
   "source": [
    "counter = 0\n",
    "for i in grouped_data.keys():\n",
    "    if ( len(grouped_data[i]) == 0):\n",
    "        counter = counter +1;\n",
    "print(counter)"
   ]
  },
  {
   "cell_type": "code",
   "execution_count": 34,
   "metadata": {},
   "outputs": [],
   "source": [
    "def roundup(x):\n",
    "    return x if x % 100 == 0 else x + 100 - x % 100\n",
    "#Convert to 3D arrays, input dict\n",
    "def make_array(dic):\n",
    "    x = []\n",
    "    y = []\n",
    "    zero_arrays = []\n",
    "    for i in dic.keys():\n",
    "        if ( len(dic[i]) == 0):\n",
    "            zero_arrays.append(i);\n",
    "    for i in zero_arrays:\n",
    "        del dic[i]\n",
    "    for i in dic.keys():\n",
    "        x.append(np.array(dic[i].drop(['attackType'],axis = 1)).astype(np.float32))\n",
    "       # print(f'{i}')\n",
    "        y.append(dic[i]['attackType'].values[0])\n",
    "    print(len(y))\n",
    "    o = []\n",
    "    features = len(x[1][1])\n",
    "    #for i in x:\n",
    "     #   o.append(len(i))\n",
    "   # print(min(o))\n",
    "    o = num\n",
    "    o = roundup(o)\n",
    "    print(o)\n",
    "    index = 0\n",
    "    for i in x:\n",
    "        l = len(i)\n",
    "        i = list(i)\n",
    "        if(o > l):\n",
    "            l = o-l\n",
    "            for j in range(0, l, 1):\n",
    "                i.append([0] * features)\n",
    "        elif (o<l):\n",
    "            l = l-o\n",
    "            i = i[:-l]\n",
    "        x[index] = np.array(i).astype(np.float32)\n",
    "        index = index + 1\n",
    "    return x,y"
   ]
  },
  {
   "cell_type": "code",
   "execution_count": 35,
   "metadata": {},
   "outputs": [
    {
     "name": "stdout",
     "output_type": "stream",
     "text": [
      "183\n",
      "19800\n"
     ]
    }
   ],
   "source": [
    "X,Y = make_array(grouped_data)\n",
    "del grouped_data\n",
    "gc.collect()\n",
    "Y = np.array(Y)\n",
    "X = np.array(X)\n"
   ]
  },
  {
   "cell_type": "code",
   "execution_count": 36,
   "metadata": {},
   "outputs": [
    {
     "data": {
      "text/plain": [
       "{0: 110, 1: 26, 3: 16, 4: 31}"
      ]
     },
     "execution_count": 36,
     "metadata": {},
     "output_type": "execute_result"
    }
   ],
   "source": [
    "unique, counts = np.unique(Y, return_counts=True)\n",
    "dict(zip(unique, counts))"
   ]
  },
  {
   "cell_type": "code",
   "execution_count": 37,
   "metadata": {},
   "outputs": [],
   "source": [
    "from sklearn.model_selection import train_test_split\n",
    "from sklearn.tree import DecisionTreeClassifier\n",
    "X_train, X_test, Y_train, Y_test = train_test_split(X,Y , test_size=0.2, random_state=0,  stratify=Y)"
   ]
  },
  {
   "cell_type": "code",
   "execution_count": 38,
   "metadata": {},
   "outputs": [],
   "source": [
    "#for i in X_train:\n",
    " #   print(f\"{X_train.indexOf(i)} \")"
   ]
  },
  {
   "cell_type": "code",
   "execution_count": 39,
   "metadata": {},
   "outputs": [
    {
     "data": {
      "text/plain": [
       "80"
      ]
     },
     "execution_count": 39,
     "metadata": {},
     "output_type": "execute_result"
    }
   ],
   "source": [
    "del X,Y\n",
    "gc.collect()"
   ]
  },
  {
   "cell_type": "code",
   "execution_count": 40,
   "metadata": {},
   "outputs": [
    {
     "data": {
      "text/plain": [
       "{0: 88, 1: 21, 3: 13, 4: 24}"
      ]
     },
     "execution_count": 40,
     "metadata": {},
     "output_type": "execute_result"
    }
   ],
   "source": [
    "unique, counts = np.unique(Y_train, return_counts=True)\n",
    "dict(zip(unique, counts))"
   ]
  },
  {
   "cell_type": "code",
   "execution_count": 41,
   "metadata": {},
   "outputs": [
    {
     "data": {
      "text/plain": [
       "{0: 22, 1: 5, 3: 3, 4: 7}"
      ]
     },
     "execution_count": 41,
     "metadata": {},
     "output_type": "execute_result"
    }
   ],
   "source": [
    "unique, counts = np.unique(Y_test, return_counts=True)\n",
    "dict(zip(unique, counts))"
   ]
  },
  {
   "cell_type": "code",
   "execution_count": 42,
   "metadata": {},
   "outputs": [
    {
     "name": "stdout",
     "output_type": "stream",
     "text": [
      "False\n",
      "False\n",
      "False\n",
      "False\n",
      "False\n",
      "False\n",
      "False\n",
      "False\n",
      "False\n",
      "False\n",
      "False\n",
      "False\n",
      "False\n",
      "False\n",
      "False\n",
      "False\n",
      "False\n",
      "False\n",
      "False\n",
      "False\n",
      "False\n",
      "False\n",
      "False\n",
      "False\n",
      "False\n",
      "False\n",
      "False\n",
      "False\n",
      "False\n",
      "False\n",
      "False\n",
      "False\n",
      "False\n",
      "False\n",
      "False\n",
      "False\n",
      "False\n",
      "False\n",
      "False\n",
      "False\n",
      "False\n",
      "False\n",
      "False\n",
      "False\n",
      "False\n",
      "False\n",
      "False\n",
      "False\n",
      "False\n",
      "False\n",
      "False\n",
      "False\n",
      "False\n",
      "False\n",
      "False\n",
      "False\n",
      "False\n",
      "False\n",
      "False\n",
      "False\n",
      "False\n",
      "False\n",
      "False\n",
      "False\n",
      "False\n",
      "False\n",
      "False\n",
      "False\n",
      "False\n",
      "False\n",
      "False\n",
      "False\n",
      "False\n",
      "False\n",
      "False\n",
      "False\n",
      "False\n",
      "False\n",
      "False\n",
      "False\n",
      "False\n",
      "False\n",
      "False\n",
      "False\n",
      "False\n",
      "False\n",
      "False\n",
      "False\n",
      "False\n",
      "False\n",
      "False\n",
      "False\n",
      "False\n",
      "False\n",
      "False\n",
      "False\n",
      "False\n",
      "False\n",
      "False\n",
      "False\n",
      "False\n",
      "False\n",
      "False\n",
      "False\n",
      "False\n",
      "False\n",
      "False\n",
      "False\n",
      "False\n",
      "False\n",
      "False\n",
      "False\n",
      "False\n",
      "False\n",
      "False\n",
      "False\n",
      "False\n",
      "False\n",
      "False\n",
      "False\n",
      "False\n",
      "False\n",
      "False\n",
      "False\n",
      "False\n",
      "False\n",
      "False\n",
      "False\n",
      "False\n",
      "False\n",
      "False\n",
      "False\n",
      "False\n",
      "False\n",
      "False\n",
      "False\n",
      "False\n",
      "False\n",
      "False\n",
      "False\n",
      "False\n",
      "False\n",
      "False\n",
      "False\n",
      "False\n",
      "False\n"
     ]
    }
   ],
   "source": [
    "for i in X_train:\n",
    "    print(f'{np.isnan(i).any()}')"
   ]
  },
  {
   "cell_type": "code",
   "execution_count": 43,
   "metadata": {},
   "outputs": [],
   "source": [
    "import tensorflow as tf\n",
    "from tensorflow import keras\n",
    "from tensorflow.keras.layers import Embedding, Dense, LSTM, Dropout, Masking, Flatten, Input, Bidirectional, SimpleRNN\n",
    "from tensorflow.keras.losses import BinaryCrossentropy\n",
    "from tensorflow.keras.models import Sequential\n",
    "from tensorflow.keras.optimizers import Adam\n",
    "from tensorflow.keras.preprocessing.sequence import pad_sequences"
   ]
  },
  {
   "cell_type": "code",
   "execution_count": 44,
   "metadata": {},
   "outputs": [
    {
     "data": {
      "text/plain": [
       "19732"
      ]
     },
     "execution_count": 44,
     "metadata": {},
     "output_type": "execute_result"
    }
   ],
   "source": [
    "num"
   ]
  },
  {
   "cell_type": "code",
   "execution_count": 45,
   "metadata": {},
   "outputs": [
    {
     "name": "stdout",
     "output_type": "stream",
     "text": [
      "samples: 146 \n",
      " X:19800 \n",
      " Y:34\n"
     ]
    }
   ],
   "source": [
    "nsamples,nx, ny = X_train.shape\n",
    "print(f\"samples: {nsamples} \\n X:{nx} \\n Y:{ny}\")"
   ]
  },
  {
   "cell_type": "code",
   "execution_count": 57,
   "metadata": {},
   "outputs": [],
   "source": [
    "from keras.callbacks import EarlyStopping\n",
    "from keras.callbacks import ModelCheckpoint, LambdaCallback\n",
    "wie_by_epoch = []\n",
    "model_check = ModelCheckpoint(\"./models/Testpoints/best_model.hdf5\", monitor='loss', verbose=0, save_best_only=True, mode='min', save_freq=1)\n",
    "print_weights = LambdaCallback(on_epoch_end=lambda batch, logs:wie_by_epoch.append(model.get_weights()))\n",
    "callback = tf.keras.callbacks.EarlyStopping(monitor='loss', patience=4, verbose= 2)"
   ]
  },
  {
   "cell_type": "code",
   "execution_count": 58,
   "metadata": {},
   "outputs": [],
   "source": [
    "model = Sequential()\n",
    "model.add(SimpleRNN(24, input_shape=(nx, ny), return_sequences = False, activation='relu'))\n",
    "#model.add(Flatten())\n",
    "model.add(Dense(units=5, activation='softmax'))\n",
    "model.compile(optimizer= 'rmsprop', loss='sparse_categorical_crossentropy',  metrics=[keras.metrics.SparseCategoricalAccuracy()])"
   ]
  },
  {
   "cell_type": "code",
   "execution_count": 59,
   "metadata": {},
   "outputs": [
    {
     "data": {
      "text/plain": [
       "(None, 5)"
      ]
     },
     "execution_count": 59,
     "metadata": {},
     "output_type": "execute_result"
    }
   ],
   "source": [
    "model.build(input_shape = (nx,ny))\n",
    "model.output_shape"
   ]
  },
  {
   "cell_type": "code",
   "execution_count": 56,
   "metadata": {},
   "outputs": [
    {
     "data": {
      "text/plain": [
       "947"
      ]
     },
     "execution_count": 56,
     "metadata": {},
     "output_type": "execute_result"
    }
   ],
   "source": [
    "del model, wie_by_epoch\n",
    "\n",
    "gc.collect()"
   ]
  },
  {
   "cell_type": "code",
   "execution_count": 60,
   "metadata": {},
   "outputs": [
    {
     "name": "stdout",
     "output_type": "stream",
     "text": [
      "Model: \"sequential_2\"\n",
      "_________________________________________________________________\n",
      "Layer (type)                 Output Shape              Param #   \n",
      "=================================================================\n",
      "simple_rnn_2 (SimpleRNN)     (None, 24)                1416      \n",
      "_________________________________________________________________\n",
      "dense_2 (Dense)              (None, 5)                 125       \n",
      "=================================================================\n",
      "Total params: 1,541\n",
      "Trainable params: 1,541\n",
      "Non-trainable params: 0\n",
      "_________________________________________________________________\n"
     ]
    }
   ],
   "source": [
    "#model.build(input_shape = (nx,ny))\n",
    "model.summary()\n"
   ]
  },
  {
   "cell_type": "code",
   "execution_count": 61,
   "metadata": {},
   "outputs": [
    {
     "data": {
      "image/png": "[encoded data removed]",
      "text/plain": [
       "<IPython.core.display.Image object>"
      ]
     },
     "execution_count": 61,
     "metadata": {},
     "output_type": "execute_result"
    }
   ],
   "source": [
    "from tensorflow.keras.utils import plot_model\n",
    "plot_model(model, show_shapes=True)"
   ]
  },
  {
   "cell_type": "code",
   "execution_count": 62,
   "metadata": {
    "scrolled": true
   },
   "outputs": [
    {
     "data": {
      "text/plain": [
       "[array([[-0.20768604,  0.10630789, -0.13458684,  0.04411691,  0.2611413 ,\n",
       "          0.07732347,  0.20355028, -0.01525855, -0.23120624,  0.11766824,\n",
       "          0.00505182, -0.26394632,  0.10076138,  0.10488525,  0.27340508,\n",
       "          0.24728829, -0.1785579 ,  0.27331084,  0.23449314, -0.21174298,\n",
       "          0.29970604,  0.28225225, -0.19212942,  0.23154885],\n",
       "        [-0.15686807, -0.2856423 ,  0.01746842, -0.16151792,  0.28569037,\n",
       "         -0.00375083, -0.17085658,  0.23425049, -0.2658293 , -0.21758765,\n",
       "          0.278127  ,  0.13695943, -0.30978608, -0.04222083,  0.07106709,\n",
       "         -0.17370982,  0.08273485,  0.28335404,  0.1689842 , -0.22999588,\n",
       "          0.15059444,  0.10988066, -0.18651903,  0.11958724],\n",
       "        [ 0.1550107 ,  0.05173489, -0.02302995, -0.2747136 , -0.02227139,\n",
       "         -0.3002706 ,  0.05046394, -0.06721973, -0.08857355, -0.25354695,\n",
       "         -0.23031211, -0.15262026, -0.21929884,  0.15891337,  0.04311189,\n",
       "         -0.01734826,  0.00970605, -0.26168448,  0.01518148, -0.12805617,\n",
       "         -0.24980122, -0.01831669,  0.0700534 ,  0.09083241],\n",
       "        [ 0.25405812, -0.25835317,  0.2339217 , -0.05239436, -0.09115401,\n",
       "          0.05298167, -0.18716623, -0.03395796, -0.20688033, -0.05000016,\n",
       "         -0.31065574,  0.01369005,  0.1234597 , -0.13865758, -0.1791206 ,\n",
       "          0.17044833, -0.02588013,  0.12708896,  0.31142104,  0.2649315 ,\n",
       "          0.06308511, -0.13936928, -0.08884577,  0.19006908],\n",
       "        [ 0.18084037, -0.25090194, -0.25205654, -0.05315283,  0.15412602,\n",
       "          0.04879546,  0.2981426 , -0.30695423,  0.31805533, -0.0724332 ,\n",
       "          0.03018093,  0.11610973, -0.17888151, -0.09006028, -0.22068849,\n",
       "          0.29598838,  0.06846154,  0.04051241, -0.31674686,  0.15407786,\n",
       "         -0.17824864,  0.15302846,  0.26008797, -0.16907124],\n",
       "        [ 0.19589496,  0.19804627, -0.27006137,  0.03206688, -0.30255768,\n",
       "          0.17025256,  0.29528248, -0.2904229 , -0.2463786 ,  0.07558644,\n",
       "          0.18734354,  0.22797126,  0.19285989, -0.01808313, -0.15625988,\n",
       "          0.2455107 , -0.04145923, -0.27339855, -0.00174853, -0.12421019,\n",
       "          0.268138  ,  0.02580237,  0.22765881,  0.12061673],\n",
       "        [-0.17022946, -0.20919102,  0.1041767 , -0.07147214, -0.19203648,\n",
       "         -0.00334302, -0.1187208 , -0.29385886, -0.0321911 ,  0.05378011,\n",
       "         -0.2187859 , -0.10331762, -0.21336652, -0.00246945, -0.31953824,\n",
       "         -0.07652979, -0.30055508,  0.07380682, -0.20663196,  0.2253182 ,\n",
       "          0.12583265, -0.01055035, -0.06027988,  0.20390576],\n",
       "        [-0.27937052, -0.24273214, -0.15705502,  0.24566036,  0.28724366,\n",
       "         -0.08499235, -0.14014293,  0.14163849, -0.17983285, -0.19634587,\n",
       "         -0.258483  ,  0.01358685,  0.25657552, -0.22968706, -0.2349559 ,\n",
       "         -0.09457755,  0.00441644, -0.04369241, -0.05552718, -0.18938607,\n",
       "         -0.00648642,  0.16904786, -0.29232326,  0.30923104],\n",
       "        [ 0.05308643, -0.30723813,  0.25735885,  0.22532672, -0.15703745,\n",
       "          0.06750989,  0.2938156 ,  0.21542645, -0.03117996, -0.06087992,\n",
       "         -0.04182836, -0.31957382, -0.05467233, -0.19353496, -0.15128306,\n",
       "          0.05065557,  0.17405972,  0.02304178,  0.00266644,  0.01391438,\n",
       "          0.17386955, -0.14674102,  0.08856156, -0.19610523],\n",
       "        [-0.02862856,  0.03873596, -0.10694398, -0.21034703,  0.08997148,\n",
       "         -0.28444535, -0.21786591,  0.2667054 ,  0.20949632, -0.17555629,\n",
       "         -0.07975088,  0.24018931, -0.27576846,  0.26453745,  0.04519662,\n",
       "         -0.15334837, -0.08339825,  0.08132273, -0.16314375,  0.23271638,\n",
       "         -0.27782312,  0.06775168, -0.28575495, -0.07783717],\n",
       "        [ 0.1016421 ,  0.24072969, -0.1396106 , -0.23404077,  0.24297637,\n",
       "         -0.03099644, -0.06944761,  0.2131998 ,  0.2966684 ,  0.0430077 ,\n",
       "          0.30556077,  0.18686771,  0.02813387,  0.28553772,  0.11204559,\n",
       "         -0.28454894,  0.2779079 ,  0.19669944, -0.13744016, -0.00719023,\n",
       "         -0.31622803,  0.14076823,  0.02007541, -0.25927362],\n",
       "        [ 0.21764684, -0.25157875, -0.27621683,  0.04824531, -0.26558474,\n",
       "         -0.02724525, -0.1771724 ,  0.22621483,  0.09859568,  0.14484087,\n",
       "          0.18824297,  0.2896924 ,  0.25911206, -0.26959008, -0.27485308,\n",
       "         -0.15311119, -0.12272781,  0.08531749,  0.18640643,  0.166365  ,\n",
       "         -0.07316744, -0.07248504,  0.12402084,  0.04333588],\n",
       "        [-0.03126216,  0.20632654, -0.28834647,  0.01886675,  0.1079967 ,\n",
       "         -0.21554756,  0.27635986,  0.15377021,  0.15040472, -0.03306255,\n",
       "          0.04112229,  0.31055522, -0.04572007, -0.15097494,  0.31462544,\n",
       "         -0.05969471, -0.08148123, -0.2628756 ,  0.00210482, -0.30793533,\n",
       "         -0.23299749,  0.29183948,  0.2551856 , -0.23747657],\n",
       "        [-0.15114196,  0.01525319, -0.30165043, -0.07369228,  0.23486084,\n",
       "         -0.09255901,  0.18510443, -0.19320345,  0.28560877,  0.14936236,\n",
       "         -0.21430697, -0.05461764, -0.0961024 ,  0.03302896,  0.14447027,\n",
       "         -0.23441115, -0.04237276,  0.2607249 ,  0.10385764,  0.01325113,\n",
       "          0.16750145, -0.29349208,  0.01815963, -0.2021817 ],\n",
       "        [-0.11643195, -0.17815822, -0.14523947, -0.18841833, -0.28723264,\n",
       "          0.18259805, -0.11257784,  0.2095949 , -0.04956052, -0.08161122,\n",
       "          0.03920686, -0.2949654 , -0.24390188,  0.22145194,  0.28139526,\n",
       "         -0.21248466,  0.15288389,  0.31446928,  0.24854362,  0.2701316 ,\n",
       "          0.12165242,  0.19639933,  0.15923613,  0.20469779],\n",
       "        [-0.03719494, -0.01931319, -0.1875936 ,  0.13689661,  0.13121516,\n",
       "         -0.07055861,  0.14421275,  0.06076059,  0.12425506, -0.05070272,\n",
       "          0.09800398, -0.12150112, -0.07928656, -0.01049927, -0.06078553,\n",
       "         -0.20975158, -0.23115179, -0.08645807,  0.0301612 , -0.15507567,\n",
       "          0.01862067,  0.0323059 ,  0.2501968 , -0.18664862],\n",
       "        [ 0.30861527, -0.31712937, -0.19224   , -0.0618808 , -0.07099456,\n",
       "          0.23368466,  0.138033  , -0.21902162, -0.14777096, -0.31703964,\n",
       "          0.05450147, -0.30198476,  0.15101159, -0.1581124 ,  0.12417859,\n",
       "         -0.22904491, -0.27728587,  0.20099097,  0.03020146, -0.24163014,\n",
       "         -0.12761976,  0.10072273,  0.104655  ,  0.25400317],\n",
       "        [-0.08556187, -0.13491796, -0.17984879, -0.27120104, -0.2138961 ,\n",
       "          0.1380682 ,  0.0172126 ,  0.2620846 ,  0.19937396,  0.10785913,\n",
       "         -0.2687227 , -0.21170272,  0.24720228, -0.25881812,  0.07096907,\n",
       "          0.06415069, -0.0471006 , -0.02594891,  0.01331684, -0.31160846,\n",
       "          0.2523477 , -0.20426697, -0.15530908, -0.04021564],\n",
       "        [ 0.23771614,  0.17198604, -0.27903256, -0.06432033,  0.05161303,\n",
       "         -0.28899077, -0.2555651 , -0.05533493, -0.08422804, -0.06459716,\n",
       "          0.06975037,  0.27336675,  0.25571084, -0.15612094,  0.20515156,\n",
       "         -0.0062806 ,  0.27928984,  0.17346528, -0.08527462, -0.24402979,\n",
       "         -0.23875067, -0.06901658, -0.32013282, -0.14989133],\n",
       "        [-0.12698314, -0.10580477,  0.30163336,  0.04336011, -0.1859031 ,\n",
       "          0.21462107, -0.14193887,  0.2612157 , -0.14705166,  0.29362702,\n",
       "         -0.2049177 , -0.25737876, -0.14019977,  0.2690503 ,  0.20422822,\n",
       "          0.23860049,  0.02079287,  0.07269838, -0.06149685,  0.05673778,\n",
       "          0.13833022,  0.03615808,  0.10683909, -0.17516421],\n",
       "        [ 0.19860452,  0.20419693,  0.09361166,  0.14744574,  0.22692448,\n",
       "         -0.0913974 , -0.23313689, -0.02392837,  0.1346899 , -0.18979509,\n",
       "         -0.22903311, -0.05485788, -0.29007092,  0.17001835,  0.08448824,\n",
       "          0.25759864,  0.16896656,  0.30506605, -0.15874052, -0.28733048,\n",
       "          0.30327237, -0.03751218,  0.2541598 ,  0.14071691],\n",
       "        [ 0.00040182, -0.26061773, -0.27146155,  0.04046503, -0.30097085,\n",
       "         -0.30880338, -0.04619771, -0.16962558, -0.06961364, -0.21512288,\n",
       "          0.01502267,  0.22919923, -0.21424708, -0.17336628,  0.04920685,\n",
       "         -0.07468417, -0.3078881 , -0.04368073,  0.04152486,  0.18780077,\n",
       "          0.08874908, -0.02084288, -0.07512541,  0.2727378 ],\n",
       "        [-0.28964287,  0.25494522,  0.00834793, -0.14791995,  0.02092263,\n",
       "         -0.10860924,  0.1407614 ,  0.17585665,  0.06043538,  0.10782915,\n",
       "          0.28529507,  0.311925  ,  0.27207536,  0.01296034,  0.26567328,\n",
       "          0.03439629, -0.26312473,  0.12506697, -0.08847247,  0.11202165,\n",
       "          0.00796181, -0.04400986,  0.1963911 ,  0.18772018],\n",
       "        [-0.29192558,  0.17925334, -0.06195694,  0.28688586,  0.0214923 ,\n",
       "          0.2774275 ,  0.29842955, -0.00674585,  0.20844638,  0.17751163,\n",
       "         -0.13493514, -0.2510346 , -0.18359439,  0.23732144,  0.30214214,\n",
       "         -0.23014203, -0.3207858 ,  0.0120295 , -0.22621974, -0.27374193,\n",
       "          0.15946373,  0.05150822, -0.14366233, -0.16020839],\n",
       "        [-0.02101135,  0.03719845, -0.0553703 ,  0.00578356,  0.0483405 ,\n",
       "          0.06183088,  0.18567139,  0.12181222, -0.16687511,  0.08170491,\n",
       "         -0.24976447,  0.22377032,  0.10642007,  0.20127809,  0.19931817,\n",
       "         -0.32118732, -0.15402196, -0.01170245, -0.24606267, -0.1650962 ,\n",
       "          0.2605493 ,  0.3170607 , -0.17462665,  0.26505518],\n",
       "        [-0.2119195 , -0.12214664, -0.11090316,  0.03651866, -0.06643072,\n",
       "          0.23627013, -0.28313535, -0.2171092 , -0.23545067, -0.02473831,\n",
       "         -0.21241012,  0.02626625, -0.16206582,  0.14493075,  0.13001138,\n",
       "         -0.22500493, -0.12140058, -0.29142693,  0.09231317, -0.06878707,\n",
       "         -0.133846  ,  0.01610461,  0.04496926, -0.22755021],\n",
       "        [-0.2835714 , -0.12890927, -0.1599548 ,  0.14394659, -0.26104325,\n",
       "          0.28558517, -0.29760024, -0.11392771,  0.30941665, -0.12329566,\n",
       "          0.11660105, -0.08725581, -0.1383145 , -0.06123757, -0.20032275,\n",
       "         -0.03857753,  0.13069338,  0.20709425, -0.04752403,  0.23447257,\n",
       "          0.11887947,  0.13556042, -0.24344653, -0.28478473],\n",
       "        [-0.12767275,  0.18244374,  0.04792932,  0.0286501 ,  0.00987637,\n",
       "          0.19235474,  0.30061907, -0.17196451, -0.08685859, -0.1391765 ,\n",
       "         -0.28640178,  0.11159039, -0.06514329,  0.11068308,  0.09539017,\n",
       "         -0.30505347,  0.28030145,  0.02288464,  0.23968369,  0.11115366,\n",
       "          0.16031599,  0.10774264,  0.11068377, -0.13268861],\n",
       "        [ 0.12103504,  0.02980879,  0.12493578, -0.08603808,  0.24160612,\n",
       "          0.09938446, -0.0062474 , -0.12390997,  0.30166513,  0.07172012,\n",
       "          0.2748235 ,  0.10147598, -0.27955323,  0.17505601,  0.26599747,\n",
       "         -0.20824997, -0.14786051, -0.2918449 , -0.07761095,  0.17444068,\n",
       "         -0.23592043, -0.05794555,  0.05493051,  0.17351258],\n",
       "        [-0.2844471 ,  0.30155236,  0.21984857,  0.3012342 ,  0.26520413,\n",
       "          0.1495901 , -0.26370186,  0.17361152, -0.04139781,  0.22066128,\n",
       "          0.00582886, -0.11556551,  0.00290141,  0.24909282, -0.13614121,\n",
       "          0.09738854,  0.26182103,  0.0040991 ,  0.15460214,  0.23608297,\n",
       "         -0.17490248,  0.26601768,  0.2784438 ,  0.30272913],\n",
       "        [ 0.101401  ,  0.09461913, -0.02826232,  0.19546193,  0.16509789,\n",
       "         -0.13923876, -0.10516225, -0.31124306, -0.26696104, -0.10499614,\n",
       "         -0.2408508 ,  0.3067822 ,  0.09221563,  0.25234705, -0.01103574,\n",
       "         -0.2755134 ,  0.16011325, -0.12791522, -0.22058174,  0.12980992,\n",
       "          0.22339517,  0.18183964, -0.2957622 ,  0.20738542],\n",
       "        [ 0.2482385 ,  0.07677048, -0.28799725, -0.15564704,  0.06730402,\n",
       "         -0.01501203,  0.26703238,  0.14928845,  0.31273848, -0.2422136 ,\n",
       "          0.28048563, -0.2105882 ,  0.2552607 , -0.13600226,  0.27259183,\n",
       "         -0.2561818 , -0.22801122,  0.31603932,  0.30568987,  0.03180331,\n",
       "          0.27640855,  0.16629353, -0.11549541, -0.04495713],\n",
       "        [-0.21838622, -0.03109974,  0.29046237, -0.21679166, -0.26747996,\n",
       "         -0.02883029, -0.30121386, -0.10232703,  0.04439414,  0.05104274,\n",
       "         -0.00991687,  0.22056156,  0.21727854, -0.13082275, -0.16719095,\n",
       "          0.26398528,  0.21661216,  0.08851793, -0.00358954,  0.16449401,\n",
       "         -0.04122326,  0.08998045, -0.2496931 , -0.05673426],\n",
       "        [-0.09297019,  0.07273325, -0.27032432, -0.2509562 ,  0.08497202,\n",
       "         -0.11360632,  0.27150488,  0.07630289,  0.29041976, -0.13508521,\n",
       "         -0.07837901,  0.03032178,  0.27860242,  0.21141684, -0.20422003,\n",
       "          0.13419843,  0.02548039,  0.00579789, -0.24395326,  0.07876503,\n",
       "          0.10936955,  0.04922312,  0.03590766,  0.3051046 ]],\n",
       "       dtype=float32),\n",
       " array([[-3.31762314e-01,  4.67166118e-02, -6.96466118e-02,\n",
       "         -3.69466059e-02,  9.18621048e-02,  2.33188882e-01,\n",
       "          1.58137724e-01,  2.53424756e-02, -3.58795077e-01,\n",
       "          3.61448452e-02, -4.66459580e-02, -1.21263862e-01,\n",
       "         -5.70039935e-02, -2.72956431e-01, -1.40754402e-01,\n",
       "         -3.85405213e-01, -9.76499915e-03, -4.27656233e-01,\n",
       "         -1.27321973e-01, -2.21069194e-02, -1.07034653e-01,\n",
       "          8.62597823e-02,  2.65981495e-01, -3.32741946e-01],\n",
       "        [-3.76796573e-01,  1.46561861e-01,  2.00523213e-02,\n",
       "          7.13414624e-02, -2.83911705e-01, -1.64104044e-01,\n",
       "         -7.45345205e-02, -2.43485957e-01,  1.54153660e-01,\n",
       "          1.63255975e-01,  5.69417924e-02, -1.82777241e-01,\n",
       "          1.22192651e-01, -1.08967468e-01,  2.39415899e-01,\n",
       "          1.35614201e-01,  5.79944849e-02,  3.42403650e-02,\n",
       "          8.22034478e-03,  5.31877220e-01, -2.61278778e-01,\n",
       "          3.32428664e-01,  5.08376211e-03, -5.28720208e-02],\n",
       "        [ 1.99974597e-01,  3.01633216e-02, -5.50858915e-01,\n",
       "          9.72928479e-02,  3.69252674e-02, -2.91176755e-02,\n",
       "         -1.17585406e-01, -2.36370087e-01,  3.32850456e-01,\n",
       "          3.36779654e-02, -2.13911310e-01,  2.57711738e-01,\n",
       "         -3.79335016e-01,  5.99984415e-02,  4.51984555e-02,\n",
       "         -2.83913195e-01, -6.82214946e-02, -1.55323625e-01,\n",
       "          2.02193916e-01,  1.49877131e-01, -1.15876034e-01,\n",
       "         -3.32497321e-02,  1.32113621e-02, -1.14919223e-01],\n",
       "        [ 2.32526526e-01,  2.66405195e-01,  8.33593160e-02,\n",
       "          4.20758963e-01, -2.85012335e-01, -1.90025941e-02,\n",
       "          1.54247031e-01, -5.83233386e-02,  5.98034151e-02,\n",
       "          5.90174235e-02, -3.29521090e-01,  1.60023406e-01,\n",
       "          9.24618766e-02, -2.99921215e-01, -1.23752065e-01,\n",
       "          3.01639140e-01, -1.14042483e-01,  6.00213893e-02,\n",
       "         -2.30186746e-01, -9.99580100e-02,  6.44473061e-02,\n",
       "         -1.16588973e-01,  1.20403528e-01, -3.52565885e-01],\n",
       "        [-2.39977852e-01,  4.15155925e-02,  5.46749383e-02,\n",
       "          1.44967571e-01,  2.82052606e-01,  1.87792212e-01,\n",
       "         -5.37914485e-02, -3.73512208e-01, -2.12073326e-01,\n",
       "         -1.32801712e-01, -1.30179331e-01,  5.78410029e-02,\n",
       "          6.03743345e-02, -1.74109504e-01,  4.64712411e-01,\n",
       "         -7.15010911e-02, -2.73799121e-01,  3.67031455e-01,\n",
       "          1.93114355e-01, -1.39278457e-01, -2.56792605e-02,\n",
       "         -2.31896743e-01,  4.36959788e-03,  2.64695697e-02],\n",
       "        [ 9.52552035e-02,  1.53254777e-01,  2.45195583e-01,\n",
       "          9.94031578e-02, -5.12416214e-02,  1.62584424e-01,\n",
       "          1.01596802e-01, -1.77436888e-01, -1.58125684e-01,\n",
       "         -3.74722838e-01,  1.52928112e-02, -9.36506912e-02,\n",
       "         -4.01506454e-01,  2.61209458e-01,  5.95776066e-02,\n",
       "         -3.70706804e-02,  3.42827886e-01,  1.08401209e-01,\n",
       "          7.09331408e-02,  2.28378728e-01,  3.71508718e-01,\n",
       "          1.54962033e-01, -2.91981474e-02, -2.61592954e-01],\n",
       "        [-2.62977153e-01, -6.05980009e-02,  1.56246379e-01,\n",
       "         -3.57289881e-01, -2.42520213e-01, -1.56005040e-01,\n",
       "          1.25332519e-01, -4.01633173e-01, -9.14206356e-02,\n",
       "          2.54209638e-01,  1.75084956e-02,  3.82453829e-01,\n",
       "         -5.84716797e-02,  4.06930357e-01, -1.44496962e-01,\n",
       "          5.64468279e-02, -8.15218762e-02,  1.57586411e-02,\n",
       "         -2.02729516e-02, -1.65245876e-01, -1.50823221e-03,\n",
       "         -1.48939222e-01,  9.72747952e-02, -1.89834923e-01],\n",
       "        [-1.38720751e-01,  2.26898268e-01,  5.41857667e-02,\n",
       "         -1.49233103e-01, -2.28358209e-01,  1.44955870e-02,\n",
       "          1.81098327e-01,  5.54725885e-01, -3.21041793e-03,\n",
       "         -1.74854279e-01, -4.87363413e-02,  1.81652278e-01,\n",
       "         -3.81238401e-01,  5.82500920e-02,  2.14047030e-01,\n",
       "          1.25478134e-02, -2.25256220e-01,  1.87550545e-01,\n",
       "          1.65923126e-03,  8.97565112e-02, -2.54785746e-01,\n",
       "         -8.28493536e-02,  2.65318066e-01,  1.19906835e-01],\n",
       "        [ 1.21804990e-01,  3.50899786e-01,  3.56501304e-02,\n",
       "          3.39654565e-01,  1.74759269e-01, -7.69193023e-02,\n",
       "         -1.79307237e-01, -2.10165307e-02, -3.82531047e-01,\n",
       "          2.24455431e-01,  2.96283334e-01,  2.31422223e-02,\n",
       "         -1.60920143e-01,  1.65210649e-01, -1.35678396e-01,\n",
       "          1.92980289e-01,  1.67196840e-01, -9.27645266e-02,\n",
       "          2.16256171e-01, -5.35956100e-02, -4.16320473e-01,\n",
       "         -1.30878687e-01,  3.63218822e-02,  6.71305582e-02],\n",
       "        [-2.04431757e-01,  1.06153928e-01, -1.57944977e-01,\n",
       "          3.05288881e-01, -2.52862096e-01, -1.35946944e-01,\n",
       "         -5.95117360e-03,  5.44098839e-02, -1.54439628e-01,\n",
       "         -3.34378898e-01, -1.44164294e-01,  8.01329166e-02,\n",
       "          2.78103799e-01,  3.54534328e-01,  1.00321852e-01,\n",
       "         -2.55442858e-01,  8.61535892e-02, -1.90027997e-01,\n",
       "         -2.76634067e-01, -3.69999222e-02, -7.89841264e-02,\n",
       "         -1.92195952e-01, -3.42602700e-01,  1.42036319e-01],\n",
       "        [-3.88748311e-02,  3.14114690e-01, -4.19344366e-01,\n",
       "         -5.72516257e-03,  1.01257153e-01, -2.04442322e-01,\n",
       "          1.99864835e-01, -8.19024537e-03,  3.16015631e-02,\n",
       "         -1.51499614e-01,  5.55534184e-01,  5.50657883e-02,\n",
       "          1.37866437e-01, -4.97286674e-03, -5.45952879e-02,\n",
       "         -6.30953535e-02, -1.59639075e-01,  2.86552846e-01,\n",
       "         -1.14247456e-01, -1.66297123e-01,  1.57558993e-01,\n",
       "          2.34158158e-01,  1.94545165e-02, -2.04799816e-01],\n",
       "        [ 2.93562472e-01, -3.09502125e-01, -4.68208082e-02,\n",
       "         -1.80301756e-01,  1.11195013e-01, -3.11820775e-01,\n",
       "          1.08080782e-01,  2.97956020e-02, -2.35539317e-01,\n",
       "         -1.67259246e-01,  1.69454187e-01, -3.56122106e-03,\n",
       "          5.78582734e-02, -8.27781782e-02,  2.56636441e-01,\n",
       "          1.43805891e-01, -5.84787540e-02, -1.18257836e-01,\n",
       "         -1.03951752e-01,  3.62598151e-01, -1.44926116e-01,\n",
       "         -3.60861450e-01, -6.13623708e-02, -3.70891929e-01],\n",
       "        [-4.67486791e-02,  9.45702270e-02,  9.35885683e-02,\n",
       "          8.37678090e-02,  4.15682234e-02,  1.25296891e-01,\n",
       "         -1.10390045e-01, -1.06518038e-01,  1.37748897e-01,\n",
       "         -1.65878519e-01,  2.85050064e-01,  3.43952626e-01,\n",
       "          2.08072811e-01, -9.86428559e-02, -1.27131909e-01,\n",
       "         -4.24758792e-02,  3.42311896e-02, -1.80593878e-01,\n",
       "         -3.70596722e-02,  3.70451480e-01,  2.64668763e-01,\n",
       "         -2.96204448e-01,  4.42479968e-01,  2.98543304e-01],\n",
       "        [ 1.68121099e-01, -3.37062448e-01,  5.51249571e-02,\n",
       "          2.66590595e-01, -1.91349819e-01, -9.87881124e-02,\n",
       "          2.27320313e-01, -8.15522224e-02, -1.64508298e-02,\n",
       "          1.96823880e-01,  1.19372785e-01, -1.33417398e-01,\n",
       "         -3.54056284e-02, -1.83802545e-02, -5.83941974e-02,\n",
       "         -4.77082402e-01,  2.17560321e-01,  4.34523851e-01,\n",
       "         -1.33223772e-01,  1.32066794e-02, -1.72115117e-01,\n",
       "         -1.02931708e-01,  2.60800600e-01,  1.15518481e-01],\n",
       "        [-1.28799811e-01, -2.43505627e-01, -3.21783572e-02,\n",
       "          8.49991366e-02, -2.85044372e-01,  5.64989224e-02,\n",
       "         -4.96463209e-01,  2.74587959e-01, -1.34473547e-01,\n",
       "          6.36501536e-02,  1.84410393e-01,  4.05076414e-01,\n",
       "          2.27557542e-03, -2.31978878e-01,  1.20175585e-01,\n",
       "         -6.95184618e-02,  2.37494051e-01,  1.18434489e-01,\n",
       "          1.50645688e-01, -1.10349305e-01,  1.22889668e-01,\n",
       "          7.95338675e-02, -1.07708961e-01, -2.79080272e-01],\n",
       "        [-9.02768523e-02,  2.11304948e-01,  2.29816183e-01,\n",
       "         -1.39687762e-01,  2.86673784e-01,  7.30251744e-02,\n",
       "         -6.15004078e-02,  6.61510304e-02,  1.37630090e-01,\n",
       "          4.75009009e-02, -4.84335646e-02,  1.90239012e-01,\n",
       "         -3.26324478e-02, -1.43267944e-01, -3.82956237e-01,\n",
       "         -2.38765612e-01,  2.15794127e-02,  3.00811976e-01,\n",
       "         -1.93936974e-01,  2.90692210e-01, -1.78287849e-01,\n",
       "         -1.48824096e-01, -4.58343983e-01, -1.30873173e-01],\n",
       "        [-9.50329527e-02, -1.64848611e-01,  7.16355070e-02,\n",
       "          1.98446065e-01, -2.01477990e-01,  4.05458152e-01,\n",
       "          1.73820741e-02,  5.98032251e-02,  3.21585983e-01,\n",
       "         -1.06758051e-01,  2.98178852e-01, -2.70456105e-01,\n",
       "          7.57373199e-02,  2.17104867e-01, -1.62436485e-01,\n",
       "          2.71984991e-02, -3.05085391e-01, -4.43881936e-02,\n",
       "          2.73163706e-01, -1.30172558e-02, -1.50398657e-01,\n",
       "         -2.46726513e-01, -8.88900906e-02, -3.03833067e-01],\n",
       "        [ 4.07691270e-01,  1.40957266e-01,  2.32965007e-01,\n",
       "         -1.95632398e-01, -3.04877669e-01, -5.15571572e-02,\n",
       "         -3.70686203e-01, -1.93190739e-01, -1.96506113e-01,\n",
       "         -2.19321966e-01,  4.55969796e-02, -6.58491552e-02,\n",
       "          6.41362071e-02, -6.52132779e-02, -9.78663638e-02,\n",
       "         -2.90666938e-01, -4.23293889e-01, -3.20311636e-02,\n",
       "          4.82446700e-03, -1.65560450e-02, -1.29764766e-01,\n",
       "          2.29057148e-01,  2.11767852e-02,  7.22201690e-02],\n",
       "        [ 1.98610261e-01, -1.93470418e-01,  1.41421735e-01,\n",
       "          1.39283270e-01,  2.05076158e-01,  3.82904232e-01,\n",
       "          1.66011199e-01, -2.35438887e-02,  5.39038964e-02,\n",
       "          1.47878230e-02,  1.02042891e-01,  4.15090382e-01,\n",
       "          1.18462041e-01,  2.02941343e-01,  2.27328807e-01,\n",
       "          5.76484278e-02, -5.18377759e-02, -9.21540856e-02,\n",
       "         -2.80267775e-01,  1.43654402e-02, -2.84707248e-01,\n",
       "          4.46554899e-01, -1.34453941e-02, -1.71458237e-02],\n",
       "        [-2.10341856e-01, -2.16239765e-01,  2.76976556e-01,\n",
       "          3.98626119e-01,  2.83002228e-01, -4.51408178e-01,\n",
       "         -1.77958488e-01,  1.24080382e-01,  7.61372596e-02,\n",
       "          3.99691723e-02, -5.02446806e-03, -5.40079549e-03,\n",
       "         -2.37624869e-01,  1.36753097e-01, -5.57180271e-02,\n",
       "         -7.29314312e-02, -3.94376725e-01, -9.21978205e-02,\n",
       "         -1.12694353e-01,  3.34173255e-02,  2.04348564e-01,\n",
       "          1.45044744e-01,  7.39990324e-02, -7.27418661e-02],\n",
       "        [-1.75561771e-01, -3.50700289e-01, -1.51613712e-01,\n",
       "          1.00606777e-01, -1.10245593e-01, -1.92939602e-02,\n",
       "          1.55015513e-01, -2.03338414e-01, -1.69373959e-01,\n",
       "         -3.95716816e-01,  3.87647301e-02,  1.29015833e-01,\n",
       "         -2.58413285e-01, -2.79170305e-01, -4.01125938e-01,\n",
       "          2.93548942e-01, -5.79319596e-02,  4.04935218e-02,\n",
       "          3.79492939e-02,  1.21101271e-02, -1.70228973e-01,\n",
       "          1.30170748e-01, -1.44703686e-01,  2.57911921e-01],\n",
       "        [ 5.65482676e-02, -5.25379777e-02, -8.81472901e-02,\n",
       "          7.53580108e-02,  4.28299233e-02, -4.04827632e-02,\n",
       "          2.26875022e-01,  1.99111238e-01, -2.91035593e-01,\n",
       "          7.25974217e-02, -2.72597730e-01,  1.53088421e-01,\n",
       "          3.82241428e-01,  1.74634531e-01, -2.19712958e-01,\n",
       "         -6.79806769e-02, -1.39707133e-01,  1.42115891e-01,\n",
       "          5.27040482e-01,  3.15752596e-01,  1.08392335e-01,\n",
       "          1.92744806e-01,  3.57385240e-02, -3.76936868e-02],\n",
       "        [ 7.46171623e-02,  9.56426039e-02,  2.04469219e-01,\n",
       "          8.56453478e-02, -1.77318156e-01, -5.60664088e-02,\n",
       "          4.26752001e-01, -2.03638356e-02,  4.46755439e-05,\n",
       "          2.57099241e-01,  2.51247495e-01,  1.36706904e-01,\n",
       "         -1.42339930e-01, -2.69513637e-01,  2.02969432e-01,\n",
       "         -1.83095783e-01, -1.24766715e-01, -2.87156731e-01,\n",
       "          2.27535978e-01, -8.52014404e-03,  2.03104138e-01,\n",
       "         -3.21841277e-02, -4.17012900e-01,  1.93478554e-01],\n",
       "        [-2.84148138e-02,  5.09784780e-02,  3.08708429e-01,\n",
       "         -3.45484205e-02,  1.23387247e-01, -3.33514810e-01,\n",
       "          1.32691726e-01, -1.97636839e-02,  3.28232080e-01,\n",
       "         -3.73115957e-01, -4.74923886e-02,  1.16256163e-01,\n",
       "          1.76227927e-01, -1.26172498e-01,  1.42686088e-02,\n",
       "         -1.22700855e-01,  3.00711721e-01, -1.23634696e-01,\n",
       "          3.51652384e-01, -2.79460758e-01, -2.87915885e-01,\n",
       "          7.52918795e-02,  1.24016635e-01, -1.38823316e-01]], dtype=float32),\n",
       " array([0., 0., 0., 0., 0., 0., 0., 0., 0., 0., 0., 0., 0., 0., 0., 0., 0.,\n",
       "        0., 0., 0., 0., 0., 0., 0.], dtype=float32),\n",
       " array([[-0.43863446,  0.28391135,  0.26826704, -0.35638177,  0.16210389],\n",
       "        [ 0.2918083 , -0.3989569 ,  0.0786919 , -0.2601077 ,  0.36530566],\n",
       "        [ 0.26253182, -0.287198  , -0.16434559,  0.199171  ,  0.1921699 ],\n",
       "        [-0.03073665,  0.15978467,  0.19440424, -0.31813693,  0.11965925],\n",
       "        [ 0.06784475, -0.18292731,  0.32264757,  0.4334196 ,  0.31090927],\n",
       "        [ 0.28783005,  0.01817036,  0.13647217,  0.449511  ,  0.21484458],\n",
       "        [-0.1229009 ,  0.43315715,  0.19166952, -0.22673656,  0.08259928],\n",
       "        [-0.11889738,  0.14107478, -0.07862836,  0.32535994, -0.1997821 ],\n",
       "        [ 0.39437783, -0.15276489,  0.16611296, -0.180691  , -0.3845169 ],\n",
       "        [-0.44449034, -0.40751237,  0.29996008, -0.20442331,  0.07076174],\n",
       "        [-0.22507364, -0.3554436 , -0.44045624,  0.3206529 , -0.30723608],\n",
       "        [-0.21667193,  0.32287169, -0.03671879, -0.42046937,  0.40331775],\n",
       "        [ 0.30314273,  0.22460568,  0.0206103 , -0.2732292 ,  0.05529225],\n",
       "        [-0.12720516,  0.10909128, -0.32739958,  0.3619759 ,  0.04805779],\n",
       "        [-0.06969443,  0.09466416,  0.08274317, -0.14267227, -0.27354568],\n",
       "        [ 0.23949075,  0.12820762,  0.24087143,  0.31922585, -0.05931792],\n",
       "        [-0.34242988,  0.18232077, -0.28957158, -0.35331923,  0.41784614],\n",
       "        [-0.02431747,  0.18598276, -0.2663461 ,  0.444305  , -0.2044298 ],\n",
       "        [-0.42888758, -0.42231527,  0.18805325,  0.14418608,  0.43104285],\n",
       "        [-0.14125618, -0.40479362, -0.31001174,  0.26188523, -0.41509694],\n",
       "        [ 0.04686517,  0.27047545,  0.18128544, -0.02240217,  0.11974502],\n",
       "        [ 0.3364432 ,  0.31795877,  0.16779965, -0.41208646,  0.06178862],\n",
       "        [-0.02479103,  0.38481468, -0.27294824,  0.0108014 ,  0.3916334 ],\n",
       "        [-0.03624594, -0.44577903,  0.40878654,  0.12271631, -0.16908297]],\n",
       "       dtype=float32),\n",
       " array([0., 0., 0., 0., 0.], dtype=float32)]"
      ]
     },
     "execution_count": 62,
     "metadata": {},
     "output_type": "execute_result"
    }
   ],
   "source": [
    "wights = model.get_weights()\n",
    "wights"
   ]
  },
  {
   "cell_type": "code",
   "execution_count": 63,
   "metadata": {
    "scrolled": true
   },
   "outputs": [
    {
     "name": "stdout",
     "output_type": "stream",
     "text": [
      "Epoch 1/120\n",
      "5/5 - 21s - loss: 1.6098 - sparse_categorical_accuracy: 0.4452\n",
      "Epoch 2/120\n",
      "5/5 - 25s - loss: 1.5418 - sparse_categorical_accuracy: 0.5068\n",
      "Epoch 3/120\n",
      "5/5 - 25s - loss: 1.4571 - sparse_categorical_accuracy: 0.5685\n",
      "Epoch 4/120\n",
      "5/5 - 25s - loss: 1.3089 - sparse_categorical_accuracy: 0.6027\n",
      "Epoch 5/120\n",
      "5/5 - 25s - loss: 1.1601 - sparse_categorical_accuracy: 0.6027\n",
      "Epoch 6/120\n",
      "5/5 - 25s - loss: 1.1561 - sparse_categorical_accuracy: 0.6027\n",
      "Epoch 7/120\n",
      "5/5 - 25s - loss: 1.1362 - sparse_categorical_accuracy: 0.6027\n",
      "Epoch 8/120\n",
      "5/5 - 24s - loss: 1.1207 - sparse_categorical_accuracy: 0.6027\n",
      "Epoch 9/120\n",
      "5/5 - 26s - loss: 1.1170 - sparse_categorical_accuracy: 0.6027\n",
      "Epoch 10/120\n",
      "5/5 - 25s - loss: 1.1006 - sparse_categorical_accuracy: 0.6027\n",
      "Epoch 11/120\n",
      "5/5 - 26s - loss: 1.0985 - sparse_categorical_accuracy: 0.6027\n",
      "Epoch 12/120\n",
      "5/5 - 25s - loss: 1.0813 - sparse_categorical_accuracy: 0.6027\n",
      "Epoch 13/120\n",
      "5/5 - 28s - loss: 1.0713 - sparse_categorical_accuracy: 0.6027\n",
      "Epoch 14/120\n",
      "5/5 - 29s - loss: 1.0658 - sparse_categorical_accuracy: 0.6027\n",
      "Epoch 15/120\n",
      "5/5 - 26s - loss: 1.0603 - sparse_categorical_accuracy: 0.6027\n",
      "Epoch 16/120\n",
      "5/5 - 25s - loss: 1.0672 - sparse_categorical_accuracy: 0.6027\n",
      "Epoch 17/120\n",
      "5/5 - 23s - loss: 1.0611 - sparse_categorical_accuracy: 0.6027\n",
      "Epoch 18/120\n",
      "5/5 - 23s - loss: 1.0615 - sparse_categorical_accuracy: 0.6027\n",
      "Epoch 19/120\n",
      "5/5 - 24s - loss: 1.0384 - sparse_categorical_accuracy: 0.6027\n",
      "Epoch 20/120\n",
      "5/5 - 23s - loss: 1.0391 - sparse_categorical_accuracy: 0.6027\n",
      "Epoch 21/120\n",
      "5/5 - 24s - loss: 1.0387 - sparse_categorical_accuracy: 0.6027\n",
      "Epoch 22/120\n",
      "5/5 - 24s - loss: 1.0239 - sparse_categorical_accuracy: 0.6027\n",
      "Epoch 23/120\n",
      "5/5 - 24s - loss: 1.0341 - sparse_categorical_accuracy: 0.6027\n",
      "Epoch 24/120\n",
      "5/5 - 24s - loss: 1.0359 - sparse_categorical_accuracy: 0.6027\n",
      "Epoch 25/120\n",
      "5/5 - 24s - loss: 1.0166 - sparse_categorical_accuracy: 0.6027\n",
      "Epoch 26/120\n",
      "5/5 - 24s - loss: 1.0130 - sparse_categorical_accuracy: 0.6027\n",
      "Epoch 27/120\n",
      "5/5 - 24s - loss: 1.0170 - sparse_categorical_accuracy: 0.6027\n",
      "Epoch 28/120\n",
      "5/5 - 23s - loss: 1.0088 - sparse_categorical_accuracy: 0.6027\n",
      "Epoch 29/120\n",
      "5/5 - 25s - loss: 0.9975 - sparse_categorical_accuracy: 0.6027\n",
      "Epoch 30/120\n",
      "5/5 - 23s - loss: 1.0052 - sparse_categorical_accuracy: 0.6027\n",
      "Epoch 31/120\n",
      "5/5 - 24s - loss: 0.9986 - sparse_categorical_accuracy: 0.6027\n",
      "Epoch 32/120\n",
      "5/5 - 24s - loss: 1.0073 - sparse_categorical_accuracy: 0.6027\n",
      "Epoch 33/120\n",
      "5/5 - 24s - loss: 1.0275 - sparse_categorical_accuracy: 0.6027\n",
      "Epoch 00033: early stopping\n"
     ]
    }
   ],
   "source": [
    "mod = model.fit(X_train,\n",
    "               Y_train, epochs=120, batch_size= 32, verbose=2 , \n",
    "                callbacks=[callback, print_weights, model_check])"
   ]
  },
  {
   "cell_type": "code",
   "execution_count": 64,
   "metadata": {},
   "outputs": [
    {
     "data": {
      "text/plain": [
       "33"
      ]
     },
     "execution_count": 64,
     "metadata": {},
     "output_type": "execute_result"
    }
   ],
   "source": [
    "#Number of Epochs\n",
    "len(wie_by_epoch)"
   ]
  },
  {
   "cell_type": "code",
   "execution_count": 68,
   "metadata": {},
   "outputs": [],
   "source": [
    "#120 +21\n",
    "#model.set_weights(wie_by_epoch[80])\n",
    "#mod.history.get('sparse_categorical_accuracy')"
   ]
  },
  {
   "cell_type": "code",
   "execution_count": 66,
   "metadata": {},
   "outputs": [
    {
     "name": "stdout",
     "output_type": "stream",
     "text": [
      "2/2 - 1s - loss: 1.0578 - sparse_categorical_accuracy: 0.5946\n"
     ]
    },
    {
     "data": {
      "text/plain": [
       "[1.057843804359436, 0.5945945978164673]"
      ]
     },
     "execution_count": 66,
     "metadata": {},
     "output_type": "execute_result"
    }
   ],
   "source": [
    "scores = model.evaluate(X_test,Y_test, verbose=2)\n",
    "scores"
   ]
  },
  {
   "cell_type": "code",
   "execution_count": 69,
   "metadata": {},
   "outputs": [
    {
     "data": {
      "text/plain": [
       "33"
      ]
     },
     "execution_count": 69,
     "metadata": {},
     "output_type": "execute_result"
    }
   ],
   "source": [
    "len(wie_by_epoch)"
   ]
  },
  {
   "cell_type": "code",
   "execution_count": 70,
   "metadata": {},
   "outputs": [
    {
     "data": {
      "text/plain": [
       "{'loss': 1.057843804359436, 'sparse_categorical_accuracy': 0.5945945978164673}"
      ]
     },
     "execution_count": 70,
     "metadata": {},
     "output_type": "execute_result"
    }
   ],
   "source": [
    "dict(zip(model.metrics_names, scores))"
   ]
  },
  {
   "cell_type": "code",
   "execution_count": 71,
   "metadata": {},
   "outputs": [
    {
     "data": {
      "image/png": "[encoded data removed]",
      "text/plain": [
       "<Figure size 432x288 with 2 Axes>"
      ]
     },
     "metadata": {
      "needs_background": "light"
     },
     "output_type": "display_data"
    }
   ],
   "source": [
    "from matplotlib import pyplot\n",
    "# plot loss during training\n",
    "pyplot.subplot(211)\n",
    "pyplot.title('Loss')\n",
    "pyplot.plot(mod.history['loss'], label='train')\n",
    "#pyplot.plot(mod.history['val_loss'], label='test')\n",
    "pyplot.legend()\n",
    "# plot accuracy during training\n",
    "pyplot.subplot(212)\n",
    "pyplot.title('Accuracy')\n",
    "pyplot.plot(mod.history['sparse_categorical_accuracy'], label='train')\n",
    "#pyplot.plot(mod.history['val_accuracy'], label='test')\n",
    "pyplot.legend()\n",
    "pyplot.show()"
   ]
  },
  {
   "cell_type": "code",
   "execution_count": 72,
   "metadata": {},
   "outputs": [],
   "source": [
    "# predict probabilities for test set\n",
    "yhat_probs = model.predict(X_test.astype('float32'), verbose=0)\n",
    "# predict crisp classes for test set\n",
    "#yhat_classes = model.predict_classes(X_test, verbose=0)\n",
    "yhat_classes = np.argmax(yhat_probs,axis=1)"
   ]
  },
  {
   "cell_type": "code",
   "execution_count": 73,
   "metadata": {},
   "outputs": [],
   "source": [
    "from sklearn.datasets import make_circles\n",
    "from sklearn.metrics import accuracy_score\n",
    "from sklearn.metrics import precision_score\n",
    "from sklearn.metrics import recall_score\n",
    "from sklearn.metrics import f1_score\n",
    "from sklearn.metrics import cohen_kappa_score\n",
    "from sklearn.metrics import roc_auc_score\n",
    "from sklearn.metrics import confusion_matrix\n",
    "from sklearn.metrics import roc_curve\n"
   ]
  },
  {
   "cell_type": "code",
   "execution_count": 74,
   "metadata": {},
   "outputs": [
    {
     "name": "stdout",
     "output_type": "stream",
     "text": [
      "Accuracy: 0.594595\n",
      "Precision: 0.148649\n",
      "Recall: 0.250000\n",
      "F1 score: 0.186441\n"
     ]
    },
    {
     "name": "stderr",
     "output_type": "stream",
     "text": [
      "C:\\Users\\hp\\Anaconda3\\lib\\site-packages\\sklearn\\metrics\\classification.py:1437: UndefinedMetricWarning: Precision is ill-defined and being set to 0.0 in labels with no predicted samples.\n",
      "  'precision', 'predicted', average, warn_for)\n",
      "C:\\Users\\hp\\Anaconda3\\lib\\site-packages\\sklearn\\metrics\\classification.py:1437: UndefinedMetricWarning: F-score is ill-defined and being set to 0.0 in labels with no predicted samples.\n",
      "  'precision', 'predicted', average, warn_for)\n"
     ]
    }
   ],
   "source": [
    "# accuracy: (tp + tn) / (p + n)\n",
    "accuracy = accuracy_score(Y_test, yhat_classes)\n",
    "print('Accuracy: %f' % accuracy)\n",
    "# precision tp / (tp + fp)\n",
    "precision = precision_score(Y_test, yhat_classes, average='macro')\n",
    "print('Precision: %f' % precision)\n",
    "# recall: tp / (tp + fn)\n",
    "recall = recall_score(Y_test, yhat_classes,average='macro')\n",
    "print('Recall: %f' % recall)\n",
    "# f1: 2 tp / (2 tp + fp + fn)\n",
    "f1 = f1_score(Y_test, yhat_classes, average='macro')\n",
    "print('F1 score: %f' % f1)"
   ]
  },
  {
   "cell_type": "code",
   "execution_count": 75,
   "metadata": {},
   "outputs": [
    {
     "name": "stdout",
     "output_type": "stream",
     "text": [
      "Cohens kappa: 0.000000\n",
      "[[22  0  0  0]\n",
      " [ 5  0  0  0]\n",
      " [ 3  0  0  0]\n",
      " [ 7  0  0  0]]\n"
     ]
    }
   ],
   "source": [
    "# kappa\n",
    "kappa = cohen_kappa_score(Y_test, yhat_classes)\n",
    "print('Cohens kappa: %f' % kappa)\n",
    "# ROC AUC\n",
    "#fprate, tprate, thresholds = roc_curve(Y_test, yhat_probs, average = 'macro')\n",
    "#print('ROC AUC: %f' % thresholds)\n",
    "# confusion matrix\n",
    "matrix = confusion_matrix(Y_test, yhat_classes)\n",
    "print(matrix)"
   ]
  },
  {
   "cell_type": "code",
   "execution_count": 76,
   "metadata": {},
   "outputs": [
    {
     "name": "stderr",
     "output_type": "stream",
     "text": [
      "C:\\Users\\hp\\Anaconda3\\lib\\site-packages\\sklearn\\metrics\\ranking.py:659: UndefinedMetricWarning: No positive samples in y_true, true positive value should be meaningless\n",
      "  UndefinedMetricWarning)\n"
     ]
    }
   ],
   "source": [
    "fpr = {}\n",
    "tpr = {}\n",
    "thresh ={}\n",
    "\n",
    "n_class = 5\n",
    "\n",
    "for i in range(n_class):    \n",
    "    fpr[i], tpr[i], thresh[i] = roc_curve(Y_test, yhat_classes, pos_label=i)"
   ]
  },
  {
   "cell_type": "code",
   "execution_count": 77,
   "metadata": {},
   "outputs": [
    {
     "data": {
      "image/png": "[encoded data removed]",
      "text/plain": [
       "<Figure size 432x288 with 1 Axes>"
      ]
     },
     "metadata": {
      "needs_background": "light"
     },
     "output_type": "display_data"
    }
   ],
   "source": [
    "# plotting    \n",
    "plt.plot(fpr[0], tpr[0], linestyle='--',color='orange', label='Class 0 vs Rest')\n",
    "plt.plot(fpr[1], tpr[1], linestyle='--',color='green', label='Class 1 vs Rest')\n",
    "plt.plot(fpr[2], tpr[2], linestyle='--',color='blue', label='Class 2 vs Rest')\n",
    "plt.plot(fpr[3], tpr[3], linestyle='--',color='red', label='Class 3 vs Rest')\n",
    "plt.plot(fpr[4], tpr[4], linestyle='--',color='black', label='Class 4 vs Rest')\n",
    "plt.title('Multiclass ROC curve')\n",
    "plt.xlabel('False Positive Rate')\n",
    "plt.ylabel('True Positive rate')\n",
    "plt.legend(loc='best')\n",
    "plt.savefig('Multiclass ROC',dpi=300); "
   ]
  },
  {
   "cell_type": "code",
   "execution_count": 78,
   "metadata": {},
   "outputs": [
    {
     "name": "stdout",
     "output_type": "stream",
     "text": [
      "Confusion matrix : \n",
      " [[22  0  0  0]\n",
      " [ 5  0  0  0]\n",
      " [ 3  0  0  0]\n",
      " [ 7  0  0  0]]\n"
     ]
    }
   ],
   "source": [
    "from sklearn.metrics import confusion_matrix\n",
    "from sklearn.metrics import classification_report\n",
    "matrix = confusion_matrix(Y_test, yhat_classes, labels= [0, 1, 3, 4])\n",
    "print('Confusion matrix : \\n',matrix)"
   ]
  },
  {
   "cell_type": "code",
   "execution_count": 79,
   "metadata": {},
   "outputs": [
    {
     "name": "stdout",
     "output_type": "stream",
     "text": [
      "Classification report : \n",
      "               precision    recall  f1-score   support\n",
      "\n",
      "           0       0.59      1.00      0.75        22\n",
      "           1       0.00      0.00      0.00         5\n",
      "           3       0.00      0.00      0.00         3\n",
      "           4       0.00      0.00      0.00         7\n",
      "\n",
      "    accuracy                           0.59        37\n",
      "   macro avg       0.15      0.25      0.19        37\n",
      "weighted avg       0.35      0.59      0.44        37\n",
      "\n"
     ]
    },
    {
     "name": "stderr",
     "output_type": "stream",
     "text": [
      "C:\\Users\\hp\\Anaconda3\\lib\\site-packages\\sklearn\\metrics\\classification.py:1437: UndefinedMetricWarning: Precision and F-score are ill-defined and being set to 0.0 in labels with no predicted samples.\n",
      "  'precision', 'predicted', average, warn_for)\n"
     ]
    }
   ],
   "source": [
    "matrix = classification_report(Y_test,yhat_classes, labels= [0, 1, 3, 4])\n",
    "print('Classification report : \\n',matrix)"
   ]
  },
  {
   "cell_type": "code",
   "execution_count": 80,
   "metadata": {},
   "outputs": [
    {
     "name": "stdout",
     "output_type": "stream",
     "text": [
      "INFO:tensorflow:Assets written to: ./models/IP address/Simple RNN\\assets\n"
     ]
    }
   ],
   "source": [
    "model.save('./models/IP address/Simple RNN')"
   ]
  },
  {
   "cell_type": "code",
   "execution_count": 222,
   "metadata": {},
   "outputs": [
    {
     "data": {
      "text/plain": [
       "<keras.engine.sequential.Sequential at 0x1d1d471f548>"
      ]
     },
     "execution_count": 222,
     "metadata": {},
     "output_type": "execute_result"
    }
   ],
   "source": [
    "#keras.models.load_model('./models/IP address/LSTM')"
   ]
  }
 ],
 "metadata": {
  "kernelspec": {
   "display_name": "Python 3",
   "language": "python",
   "name": "python3"
  },
  "language_info": {
   "codemirror_mode": {
    "name": "ipython",
    "version": 3
   },
   "file_extension": ".py",
   "mimetype": "text/x-python",
   "name": "python",
   "nbconvert_exporter": "python",
   "pygments_lexer": "ipython3",
   "version": "3.7.4"
  }
 },
 "nbformat": 4,
 "nbformat_minor": 2
}

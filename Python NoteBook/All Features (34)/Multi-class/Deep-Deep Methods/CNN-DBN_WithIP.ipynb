{
 "cells": [
  {
   "cell_type": "code",
   "execution_count": 1,
   "metadata": {},
   "outputs": [],
   "source": [
    "import pandas as pd\n",
    "import numpy as np\n",
    "from datetime import datetime\n",
    "import time\n",
    "import matplotlib.pyplot as plt\n",
    "import gc\n",
    "pd.set_option('display.max_columns', None)"
   ]
  },
  {
   "cell_type": "code",
   "execution_count": 2,
   "metadata": {},
   "outputs": [],
   "source": [
    "## for machine learning\n",
    "from sklearn import model_selection, preprocessing, feature_selection, ensemble, linear_model, metrics, decomposition\n",
    "## for plotting\n",
    "import matplotlib.pyplot as plt\n",
    "## for machine learning\n",
    "from sklearn import model_selection, preprocessing, feature_selection, ensemble, linear_model, metrics, decomposition\n",
    "from sklearn.preprocessing import LabelEncoder,Normalizer,StandardScaler, OneHotEncoder, MinMaxScaler\n",
    "from sklearn.feature_selection import mutual_info_classif\n",
    "from sklearn.metrics import confusion_matrix\n",
    "from sklearn.metrics import classification_report\n",
    "## for explainer\n",
    "#from lime import lime_tabular"
   ]
  },
  {
   "cell_type": "code",
   "execution_count": 3,
   "metadata": {},
   "outputs": [],
   "source": [
    "#a = pd.read_csv('drive/My Drive/Colab Notebooks/traffic/OpenStack/CIDDS-001-internal-week1.csv', low_memory=False, encoding='cp1252')\n",
    "#b = pd.read_csv('drive/My Drive/Colab Notebooks/traffic/OpenStack/CIDDS-001-internal-week2.csv', low_memory=False, encoding='cp1252')\n",
    "a = pd.read_csv('./CIDDS-001/traffic/OpenStack/CIDDS-001-internal-week1.csv', low_memory=False, encoding='cp1252')\n",
    "b = pd.read_csv('./CIDDS-001/traffic/OpenStack/CIDDS-001-internal-week2.csv', low_memory=False, encoding='cp1252')\n",
    "c =  pd.read_csv('./CIDDS-001/traffic/ExternalServer/CIDDS-001-external-week2.csv', low_memory=False, encoding='cp1252')\n",
    "d =  pd.read_csv('./CIDDS-001/traffic/ExternalServer/CIDDS-001-external-week3.csv', low_memory=False, encoding='cp1252')\n",
    "e =  pd.read_csv('./CIDDS-001/traffic/ExternalServer/CIDDS-001-external-week4.csv', low_memory=False, encoding='cp1252')\n",
    "#f =  pd.read_csv('./CIDDS-001/traffic/ExternalServer/CIDDS-001-external-week1.csv', low_memory=False, encoding='cp1252')\n",
    "#c = pd.read_csv('drive/My Drive/Colab Notebooks/traffic/OpenStack/CIDDS-001-internal-week3.csv', low_memory=False , encoding='cp1252')\n",
    "#d = pd.read_csv('drive/My Drive/Colab Notebooks/traffic/OpenStack/CIDDS-001-internal-week4.csv', low_memory=False, encoding='cp1252')\n",
    "#e =  pd.read_csv('drive/My Drive/Colab Notebooks/traffic/ExternalServer/CIDDS-001-external-week1.csv', low_memory=False, encoding='cp1252')\n",
    "#f =  pd.read_csv('drive/My Drive/Colab Notebooks/traffic/ExternalServer/CIDDS-001-external-week2.csv', low_memory=False, encoding='cp1252')\n",
    "#g =  pd.read_csv('drive/My Drive/Colab Notebooks/traffic/ExternalServer/CIDDS-001-external-week3.csv', low_memory=False, encoding='cp1252')\n",
    "#h =  pd.read_csv('drive/My Drive/Colab Notebooks/traffic/ExternalServer/CIDDS-001-external-week4.csv', low_memory=False, encoding='cp1252')"
   ]
  },
  {
   "cell_type": "code",
   "execution_count": 4,
   "metadata": {},
   "outputs": [
    {
     "name": "stdout",
     "output_type": "stream",
     "text": [
      "(10310733, 16)\n"
     ]
    },
    {
     "data": {
      "text/plain": [
       "(1795404, 16)"
      ]
     },
     "execution_count": 4,
     "metadata": {},
     "output_type": "execute_result"
    }
   ],
   "source": [
    "print(b.shape)\n",
    "#a.drop(a[a['attackType'] == '---'].index, axis = 0, inplace= True) \n",
    "b.drop(b[b['attackType'] == '---'].index, axis = 0, inplace= True)  \n",
    "c.drop(c[c['attackType'] == '---'].index, axis = 0, inplace= True)  \n",
    "d.drop(d[d['attackType'] == '---'].index, axis = 0, inplace= True)  \n",
    "#e.drop(e[e['attackType'] == '---'].index, axis = 0, inplace= True)  \n",
    "b.shape"
   ]
  },
  {
   "cell_type": "code",
   "execution_count": 5,
   "metadata": {},
   "outputs": [],
   "source": [
    "data_external = pd.concat([c,d,e], axis = 0)\n",
    "data_external.reset_index(drop= True, inplace= True)"
   ]
  },
  {
   "cell_type": "code",
   "execution_count": 6,
   "metadata": {},
   "outputs": [],
   "source": [
    "#to Increment attackID values\n",
    "data_external['attackID'] = data_external['attackID'].apply(lambda x: str(int(x) + 70) if x != '---' else x)"
   ]
  },
  {
   "cell_type": "code",
   "execution_count": 7,
   "metadata": {},
   "outputs": [],
   "source": [
    "def convert_bytes(df):\n",
    "    if 'M' in df:\n",
    "        df = df.split('M')\n",
    "        df = df[0].strip()\n",
    "        df = float(df) * 1000000\n",
    "    elif 'B' in df:\n",
    "        df = df.split('B')\n",
    "        df = df[0].strip()\n",
    "        df =  float(df) * 1000000000\n",
    "    else: \n",
    "        df =float(df)\n",
    "    return df"
   ]
  },
  {
   "cell_type": "code",
   "execution_count": 8,
   "metadata": {},
   "outputs": [
    {
     "data": {
      "text/plain": [
       "60"
      ]
     },
     "execution_count": 8,
     "metadata": {},
     "output_type": "execute_result"
    }
   ],
   "source": [
    "data = pd.concat([a,b,data_external], axis = 0)\n",
    "data.reset_index(drop= True, inplace= True)\n",
    "data['Bytes'] = data['Bytes'].apply(lambda x: convert_bytes(x))\n",
    "columns = ['Src Pt', 'Dst Pt','Tos','Flows','Packets', 'Bytes']\n",
    "for i in columns:\n",
    "    data[i] = pd.to_numeric(data[i]);\n",
    "del columns\n",
    "del a,b,c,d,e, data_external\n",
    "gc.collect()"
   ]
  },
  {
   "cell_type": "code",
   "execution_count": 9,
   "metadata": {},
   "outputs": [],
   "source": [
    "#Converts Hexadecimal value to Binary\n",
    "def hex_to_binary(hexdata):\n",
    "    scale = 16 ## equals to hexadecimal\n",
    "    num_of_bits = 9\n",
    "    return bin(int(hexdata, scale))[2:].zfill(num_of_bits);\n",
    "#Converts TCP flags to Binary\n",
    "def to_Binary(x):\n",
    "    l = 0\n",
    "    x = '...' + x\n",
    "    x = list(x)\n",
    "    for i in x:\n",
    "        if (i=='.'):\n",
    "            x[l]= '0'\n",
    "        else:\n",
    "            x[l] = '1'\n",
    "        l = l +1\n",
    "    return ''.join(x)\n",
    "#Converts the 'Flags' column to 9 indiviual columns (manual oneshot encoding)\n",
    "def flag_convert(df):  \n",
    "   # df['Flags'] = df['Flags'].apply(lambda x: (list(x)))\n",
    "   # temp = df['Flags'].apply(lambda x: toBinary(x))\n",
    "    hex_values = list(df[(df['Flags'].str.contains(\"0x\", na=False))]['Flags'].unique())\n",
    "    flag_values = list(df[~(df['Flags'].str.contains(\"0x\", na=False))]['Flags'].unique())\n",
    "    binary_values = {}\n",
    "    for i in hex_values:\n",
    "         binary_values[i] = (hex_to_binary(i))\n",
    "    for i in flag_values:\n",
    "         binary_values[i] = (to_Binary(i))\n",
    "    temp = df['Flags'].replace(binary_values)\n",
    "#temp = temp.apply(lambda x: pd.Series(x)) \n",
    "    temp = pd.DataFrame(temp.apply(list).tolist())\n",
    "#temp = pd.DataFrame(temp)\n",
    "#a = a.iloc[: , 1:]\n",
    "   # print(temp.head())\n",
    "    temp.columns = ['N','C','E','U' ,'A','P','R','S','F']\n",
    "    for i in temp.columns:\n",
    "        temp[i] = pd.to_numeric(temp[i]);\n",
    "    temp = temp.reset_index(drop=True)\n",
    "    df = df.reset_index(drop=True)\n",
    "    df = pd.concat([df, temp], axis = 1)\n",
    "    return df;"
   ]
  },
  {
   "cell_type": "code",
   "execution_count": 10,
   "metadata": {},
   "outputs": [],
   "source": [
    "#make a IP_pairs \n",
    "def make_pair(df):\n",
    "    ip_pair = df['Src IP Addr'] +'/' +df['Dst IP Addr']\n",
    "    source_ip = df['Src IP Addr'].unique().tolist()\n",
    "    destination_ip = df['Dst IP Addr'].unique().tolist()\n",
    "   # df = df.drop(columns = ['Src IP Addr', 'Dst IP Addr'])\n",
    "    df.insert(1, ' IP Pair', ip_pair)\n",
    "    return df\n",
    "\n",
    "def check_inverse(df):\n",
    "    list_pairs = df[' IP Pair'].unique()\n",
    "    tuple_pair = []\n",
    "    for i in list_pairs:\n",
    "        tuple_pair.append(tuple((i.split('/'))))\n",
    "    dic_store = {}\n",
    "    for i in tuple_pair:\n",
    "        if (i  not in dic_store.keys()) and (i[::-1] not in dic_store.keys()):\n",
    "            dic_store[i] = i[0] + '/' +i[1]\n",
    "    print(len(dic_store.keys()))\n",
    "    dic_final = {}\n",
    "    for i in dic_store.keys():\n",
    "        dic_final[i[0] + '/' +i[1]] = dic_store[i]\n",
    "        dic_final[i[1] + '/' +i[0]] = dic_store[i]\n",
    "    df[' IP Pair'] = df[' IP Pair'].map(dic_final)               \n",
    "    return df"
   ]
  },
  {
   "cell_type": "code",
   "execution_count": 11,
   "metadata": {},
   "outputs": [],
   "source": [
    "def normalize_IP(df):\n",
    "    columns = ['sourceIP_feature 1', 'sourceIP_feature 2', 'sourceIP_feature 3', 'sourceIP_feature 4', 'destIP_feature 1',\n",
    "              'destIP_feature 2', 'destIP_feature 3', 'destIP_feature 4']\n",
    "    normalized = df[columns]\n",
    "    print(columns)\n",
    "    transformed = MinMaxScaler().fit(normalized).transform(normalized)\n",
    "    transformed = pd.DataFrame(transformed)\n",
    "    j = 0\n",
    "    col = {}\n",
    "    for i in columns:\n",
    "        col[j] = i\n",
    "        j=j+1\n",
    "    transformed = transformed.rename(columns = col)\n",
    "    transformed = transformed.reset_index()\n",
    "    for i in columns:\n",
    "        df[i] = transformed[i].to_numpy()\n",
    "    return df;"
   ]
  },
  {
   "cell_type": "code",
   "execution_count": 12,
   "metadata": {},
   "outputs": [],
   "source": [
    "def normalize(df):\n",
    "    numerics = ['int16', 'int32', 'int64', 'float16', 'float32', 'float64']\n",
    "    columns = data.select_dtypes(include=numerics).columns\n",
    "    normalized = df[columns]\n",
    "    print(columns)\n",
    "    transformed = MinMaxScaler().fit(normalized).transform(normalized)\n",
    "    transformed = pd.DataFrame(transformed)\n",
    "    j = 0\n",
    "    col = {}\n",
    "    for i in columns:\n",
    "        col[j] = i\n",
    "        j=j+1\n",
    "    transformed = transformed.rename(columns = col)\n",
    "    transformed = transformed.reset_index()\n",
    "    for i in columns:\n",
    "        df[i] = transformed[i].to_numpy()\n",
    "    return df;"
   ]
  },
  {
   "cell_type": "code",
   "execution_count": 13,
   "metadata": {},
   "outputs": [],
   "source": [
    "def one_shot(df):\n",
    "    label_encoder = LabelEncoder()\n",
    "    #df.astype({'attackType': 'str'})\n",
    "    df['attackType'] = label_encoder.fit_transform(df['attackType'])\n",
    "    print(list(label_encoder.classes_))\n",
    "    print(list(label_encoder.transform(label_encoder.classes_)))\n",
    "    \n",
    "#    onehot_encoder = OneHotEncoder()\n",
    "#    onehot_encoder.fit(df.attackType.to_numpy().reshape(-1, 1))\n",
    "#    proto = onehot_encoder.transform(df.attackType.to_numpy().reshape(-1, 1))\n",
    "#    proto = pd.DataFrame.sparse.from_spmatrix(proto)\n",
    "#    proto.astype('int32')\n",
    "#    proto.columns = label_encoder.classes_\n",
    "#    df = pd.concat([df, proto], axis = 1) \n",
    "    \n",
    "    df['sourceIP_feature 1'] = label_encoder.fit_transform(df['sourceIP_feature 1'])\n",
    "    print(list(label_encoder.classes_))\n",
    "    print(list(label_encoder.transform(label_encoder.classes_)))\n",
    "    \n",
    "    df['sourceIP_feature 2'] = label_encoder.fit_transform(df['sourceIP_feature 2'])\n",
    "    print(list(label_encoder.classes_))\n",
    "    print(list(label_encoder.transform(label_encoder.classes_)))\n",
    "    \n",
    "    df['sourceIP_feature 3'] = label_encoder.fit_transform(df['sourceIP_feature 3'])\n",
    "    print(list(label_encoder.classes_))\n",
    "    print(list(label_encoder.transform(label_encoder.classes_)))\n",
    "    \n",
    "    df['sourceIP_feature 4'] = label_encoder.fit_transform(df['sourceIP_feature 4'])\n",
    "    print(list(label_encoder.classes_))\n",
    "    print(list(label_encoder.transform(label_encoder.classes_)))\n",
    "    \n",
    "    df['destIP_feature 1'] = label_encoder.fit_transform(df['destIP_feature 1'])\n",
    "    print(list(label_encoder.classes_))\n",
    "    print(list(label_encoder.transform(label_encoder.classes_)))\n",
    "    \n",
    "    df['destIP_feature 2'] = label_encoder.fit_transform(df['destIP_feature 2'])\n",
    "    print(list(label_encoder.classes_))\n",
    "    print(list(label_encoder.transform(label_encoder.classes_)))\n",
    "    \n",
    "    df['destIP_feature 3'] = label_encoder.fit_transform(df['destIP_feature 3'])\n",
    "    print(list(label_encoder.classes_))\n",
    "    print(list(label_encoder.transform(label_encoder.classes_)))\n",
    "    \n",
    "    df['destIP_feature 4'] = label_encoder.fit_transform(df['destIP_feature 4'])\n",
    "    print(list(label_encoder.classes_))\n",
    "    print(list(label_encoder.transform(label_encoder.classes_)))\n",
    "    \n",
    "    df['Proto'] = label_encoder.fit_transform(df['Proto'])\n",
    "    print(list(label_encoder.classes_))\n",
    "    print(list(label_encoder.transform(label_encoder.classes_)))\n",
    "    \n",
    "    onehot_encoder1 = OneHotEncoder()\n",
    "    onehot_encoder1.fit(df.Proto.to_numpy().reshape(-1, 1))\n",
    "    proto = onehot_encoder1.transform(df.Proto.to_numpy().reshape(-1, 1))\n",
    "    proto = pd.DataFrame.sparse.from_spmatrix(proto)\n",
    "    proto.astype('int32')\n",
    "    proto.columns = label_encoder.classes_\n",
    "   # print(proto.head(1))\n",
    "    df = pd.concat([df, proto], axis = 1)\n",
    "    return df;"
   ]
  },
  {
   "cell_type": "code",
   "execution_count": 14,
   "metadata": {},
   "outputs": [],
   "source": [
    "def drop_columns(df):\n",
    "    return df.drop(columns = ['Date first seen', ' IP Pair', 'Flows', 'class', 'attackID','Flags',\n",
    "                              'attackDescription', 'Src IP Addr', 'Dst IP Addr','Proto'], axis =1)"
   ]
  },
  {
   "cell_type": "code",
   "execution_count": 15,
   "metadata": {},
   "outputs": [],
   "source": [
    "#Aplit IP address into features, 7 features\n",
    "def split_to_net(IP_address):\n",
    "    IP_list = IP_address.split(\".\")\n",
    "    needed_len = 7\n",
    "    needed_len = needed_len - len(IP_list)\n",
    "    for i in range(0,needed_len,1):\n",
    "        IP_list.append('0')\n",
    "    return IP_list\n",
    "#replace unknown IP address, and convert to columns\n",
    "def IP_split(df): \n",
    "    replace = {\"ATTACKER1\":\"0.0.0.0\",\n",
    "           \"ATTACKER2\":\"0.0.0.0\",\n",
    "           \"ATTACKER3\":\"0.0.0.0\",\n",
    "           \"EXT_SERVER\": \"0.0.0.0.1\",\n",
    "          \"OPENSTACK_NET\": \"0.0.0.0.0.1\",\n",
    "          \"DNS\": \"0.0.0.0.0.0.1\"}\n",
    "    df = df.replace({\"Src IP Addr\": replace, \"Dst IP Addr\": replace}, value=None)\n",
    "    temp_source = df[\"Src IP Addr\"].apply(lambda x: \"0.0.0.0.0.0.0\" if ('_') in x else x)\n",
    "    temp_des = df['Dst IP Addr'].apply(lambda x: \"0.0.0.0.0.0.0\" if ('_') in x else x)\n",
    "   # sourceIP = list(df[\"Src IP Addr\"].unique())\n",
    "   # destIP = list(df[\"Dst IP Addr\"].unique())\n",
    "   # sourceIP_values = {}\n",
    "   # desIP_values = {}\n",
    "   # for i in sourceIP:\n",
    "   #      sourceIP_values[i] = (split_to_net(i))\n",
    "   # for i in destIP:\n",
    "   #      desIP_values[i] = (split_to_net(i))\n",
    "    #print(sourceIP_values)\n",
    "   # print(desIP_values)\n",
    "#for Source IP\n",
    "    temp_source = temp_source.apply(lambda x: split_to_net(x) )\n",
    "    temp_source = pd.DataFrame(temp_source.apply(list).tolist())\n",
    "    temp_source.columns = ['sourceIP_feature 1','sourceIP_feature 2','sourceIP_feature 3','sourceIP_feature 4' ,\n",
    "                    'sourceEXT_SERVER','sourceOPENSTACK_NET','sourceDNS']\n",
    "    for i in temp_source.columns:\n",
    "        temp_source[i] = pd.to_numeric(temp_source[i]);\n",
    "    temp_source = temp_source.reset_index(drop=True)\n",
    "    df = df.reset_index(drop=True)\n",
    "    df = pd.concat([df, temp_source], axis = 1)\n",
    "    #for Destination IP\n",
    "    temp_des = temp_des.apply(lambda x: split_to_net(x) )\n",
    "    temp_des = pd.DataFrame(temp_des.apply(list).tolist())\n",
    "    temp_des.columns = ['destIP_feature 1','destIP_feature 2','destIP_feature 3','destIP_feature 4' ,\n",
    "                    'destEXT_SERVER','destOPENSTACK_NET','destDNS']\n",
    "    for i in temp_des.columns:\n",
    "        temp_des[i] = pd.to_numeric(temp_des[i]);\n",
    "    temp_des = temp_des.reset_index(drop=True)\n",
    "    df = df.reset_index(drop=True)\n",
    "    df = pd.concat([df, temp_des], axis = 1)\n",
    "    return df;"
   ]
  },
  {
   "cell_type": "code",
   "execution_count": 16,
   "metadata": {},
   "outputs": [
    {
     "name": "stdout",
     "output_type": "stream",
     "text": [
      "59362\n"
     ]
    }
   ],
   "source": [
    "data = make_pair(data)\n",
    "data = check_inverse(data)"
   ]
  },
  {
   "cell_type": "code",
   "execution_count": 17,
   "metadata": {},
   "outputs": [],
   "source": [
    "data = IP_split(data)"
   ]
  },
  {
   "cell_type": "code",
   "execution_count": 18,
   "metadata": {
    "scrolled": true
   },
   "outputs": [
    {
     "name": "stdout",
     "output_type": "stream",
     "text": [
      "Index(['Duration', 'Src Pt', 'Dst Pt', 'Packets', 'Bytes', 'Flows', 'Tos',\n",
      "       'sourceIP_feature 1', 'sourceIP_feature 2', 'sourceIP_feature 3',\n",
      "       'sourceIP_feature 4', 'sourceEXT_SERVER', 'sourceOPENSTACK_NET',\n",
      "       'sourceDNS', 'destIP_feature 1', 'destIP_feature 2', 'destIP_feature 3',\n",
      "       'destIP_feature 4', 'destEXT_SERVER', 'destOPENSTACK_NET', 'destDNS'],\n",
      "      dtype='object')\n",
      "['---', 'bruteForce', 'dos', 'pingScan', 'portScan']\n",
      "[0, 1, 2, 3, 4]\n",
      "[0.0, 1.0]\n",
      "[0, 1]\n",
      "[0.0, 1.0]\n",
      "[0, 1]\n",
      "[0.0, 0.003952569169960474, 0.01976284584980237, 0.3162055335968379, 0.3952569169960474, 0.7905138339920948, 0.8300395256916996, 0.8695652173913043, 0.9999999999999999]\n",
      "[0, 1, 2, 3, 4, 5, 6, 7, 8]\n",
      "[0.0, 0.004, 0.008, 0.012, 0.016, 0.02, 0.024, 0.028, 0.032, 0.036000000000000004, 0.04, 0.044, 0.048, 0.052000000000000005, 0.056, 0.06, 0.064, 0.4, 0.432, 0.456, 0.612, 0.884, 0.96, 1.0]\n",
      "[0, 1, 2, 3, 4, 5, 6, 7, 8, 9, 10, 11, 12, 13, 14, 15, 16, 17, 18, 19, 20, 21, 22, 23]\n",
      "[0.0, 0.7529411764705882, 1.0]\n",
      "[0, 1, 2]\n",
      "[0.0, 0.6588235294117647, 1.0]\n",
      "[0, 1, 2]\n",
      "[0.0, 0.00392156862745098, 0.39215686274509803, 0.7843137254901961, 0.8235294117647058, 0.8627450980392157, 0.9921568627450981, 1.0]\n",
      "[0, 1, 2, 3, 4, 5, 6, 7]\n",
      "[0.0, 0.00392156862745098, 0.00784313725490196, 0.011764705882352941, 0.01568627450980392, 0.0196078431372549, 0.023529411764705882, 0.027450980392156862, 0.03137254901960784, 0.03529411764705882, 0.0392156862745098, 0.043137254901960784, 0.047058823529411764, 0.050980392156862744, 0.054901960784313725, 0.058823529411764705, 0.06274509803921569, 0.06666666666666667, 0.07058823529411765, 0.07450980392156863, 0.0784313725490196, 0.08235294117647059, 0.08627450980392157, 0.09019607843137255, 0.09411764705882353, 0.09803921568627451, 0.10196078431372549, 0.10588235294117647, 0.10980392156862745, 0.11372549019607843, 0.11764705882352941, 0.12156862745098039, 0.12549019607843137, 0.12941176470588234, 0.13333333333333333, 0.13725490196078433, 0.1411764705882353, 0.14509803921568626, 0.14901960784313725, 0.15294117647058825, 0.1568627450980392, 0.16078431372549018, 0.16470588235294117, 0.16862745098039217, 0.17254901960784313, 0.1764705882352941, 0.1803921568627451, 0.1843137254901961, 0.18823529411764706, 0.19215686274509802, 0.19607843137254902, 0.2, 0.20392156862745098, 0.20784313725490194, 0.21176470588235294, 0.21568627450980393, 0.2196078431372549, 0.22352941176470587, 0.22745098039215686, 0.23137254901960785, 0.23529411764705882, 0.2392156862745098, 0.24313725490196078, 0.24705882352941178, 0.25098039215686274, 0.2549019607843137, 0.2588235294117647, 0.2627450980392157, 0.26666666666666666, 0.27058823529411763, 0.27450980392156865, 0.2784313725490196, 0.2823529411764706, 0.28627450980392155, 0.2901960784313725, 0.29411764705882354, 0.2980392156862745, 0.30196078431372547, 0.3058823529411765, 0.30980392156862746, 0.3137254901960784, 0.3176470588235294, 0.32156862745098036, 0.3254901960784314, 0.32941176470588235, 0.3333333333333333, 0.33725490196078434, 0.3411764705882353, 0.34509803921568627, 0.34901960784313724, 0.3529411764705882, 0.3568627450980392, 0.3607843137254902, 0.36470588235294116, 0.3686274509803922, 0.37254901960784315, 0.3764705882352941, 0.3803921568627451, 0.38431372549019605, 0.38823529411764707, 0.39215686274509803, 0.396078431372549, 0.4, 0.403921568627451, 0.40784313725490196, 0.4117647058823529, 0.4156862745098039, 0.4196078431372549, 0.4235294117647059, 0.42745098039215684, 0.43137254901960786, 0.43529411764705883, 0.4392156862745098, 0.44313725490196076, 0.44705882352941173, 0.45098039215686275, 0.4549019607843137, 0.4588235294117647, 0.4627450980392157, 0.4666666666666667, 0.47058823529411764, 0.4745098039215686, 0.4784313725490196, 0.4823529411764706, 0.48627450980392156, 0.49019607843137253, 0.49411764705882355, 0.4980392156862745, 0.5019607843137255, 0.5058823529411764, 0.5098039215686274, 0.5137254901960784, 0.5176470588235293, 0.5215686274509804, 0.5254901960784314, 0.5294117647058824, 0.5333333333333333, 0.5372549019607843, 0.5411764705882353, 0.5450980392156862, 0.5490196078431373, 0.5529411764705883, 0.5568627450980392, 0.5607843137254902, 0.5647058823529412, 0.5686274509803921, 0.5725490196078431, 0.5764705882352941, 0.580392156862745, 0.5843137254901961, 0.5882352941176471, 0.592156862745098, 0.596078431372549, 0.6, 0.6039215686274509, 0.6078431372549019, 0.611764705882353, 0.615686274509804, 0.6196078431372549, 0.6235294117647059, 0.6274509803921569, 0.6313725490196078, 0.6352941176470588, 0.6392156862745098, 0.6431372549019607, 0.6470588235294118, 0.6509803921568628, 0.6549019607843137, 0.6588235294117647, 0.6627450980392157, 0.6666666666666666, 0.6705882352941176, 0.6745098039215687, 0.6784313725490196, 0.6823529411764706, 0.6862745098039216, 0.6901960784313725, 0.6941176470588235, 0.6980392156862745, 0.7019607843137254, 0.7058823529411764, 0.7098039215686275, 0.7137254901960784, 0.7176470588235294, 0.7215686274509804, 0.7254901960784313, 0.7294117647058823, 0.7333333333333333, 0.7372549019607844, 0.7411764705882353, 0.7450980392156863, 0.7490196078431373, 0.7529411764705882, 0.7568627450980392, 0.7607843137254902, 0.7647058823529411, 0.7686274509803921, 0.7725490196078432, 0.7764705882352941, 0.7803921568627451, 0.7843137254901961, 0.788235294117647, 0.792156862745098, 0.796078431372549, 0.8, 0.803921568627451, 0.807843137254902, 0.8117647058823529, 0.8156862745098039, 0.8196078431372549, 0.8235294117647058, 0.8274509803921568, 0.8313725490196078, 0.8352941176470589, 0.8392156862745098, 0.8431372549019608, 0.8470588235294118, 0.8509803921568627, 0.8549019607843137, 0.8588235294117647, 0.8627450980392157, 0.8666666666666667, 0.8705882352941177, 0.8745098039215686, 0.8784313725490196, 0.8823529411764706, 0.8862745098039215, 0.8901960784313725, 0.8941176470588235, 0.8980392156862745, 0.9019607843137255, 0.9058823529411765, 0.9098039215686274, 0.9137254901960784, 0.9176470588235294, 0.9215686274509803, 0.9254901960784314, 0.9294117647058824, 0.9333333333333333, 0.9372549019607843, 0.9411764705882353, 0.9450980392156862, 0.9490196078431372, 0.9529411764705882, 0.9568627450980391, 0.9607843137254902, 0.9647058823529412, 0.9686274509803922, 0.9725490196078431, 0.9764705882352941, 0.9803921568627451, 0.984313725490196, 0.9882352941176471, 0.9921568627450981, 0.996078431372549, 1.0]\n",
      "[0, 1, 2, 3, 4, 5, 6, 7, 8, 9, 10, 11, 12, 13, 14, 15, 16, 17, 18, 19, 20, 21, 22, 23, 24, 25, 26, 27, 28, 29, 30, 31, 32, 33, 34, 35, 36, 37, 38, 39, 40, 41, 42, 43, 44, 45, 46, 47, 48, 49, 50, 51, 52, 53, 54, 55, 56, 57, 58, 59, 60, 61, 62, 63, 64, 65, 66, 67, 68, 69, 70, 71, 72, 73, 74, 75, 76, 77, 78, 79, 80, 81, 82, 83, 84, 85, 86, 87, 88, 89, 90, 91, 92, 93, 94, 95, 96, 97, 98, 99, 100, 101, 102, 103, 104, 105, 106, 107, 108, 109, 110, 111, 112, 113, 114, 115, 116, 117, 118, 119, 120, 121, 122, 123, 124, 125, 126, 127, 128, 129, 130, 131, 132, 133, 134, 135, 136, 137, 138, 139, 140, 141, 142, 143, 144, 145, 146, 147, 148, 149, 150, 151, 152, 153, 154, 155, 156, 157, 158, 159, 160, 161, 162, 163, 164, 165, 166, 167, 168, 169, 170, 171, 172, 173, 174, 175, 176, 177, 178, 179, 180, 181, 182, 183, 184, 185, 186, 187, 188, 189, 190, 191, 192, 193, 194, 195, 196, 197, 198, 199, 200, 201, 202, 203, 204, 205, 206, 207, 208, 209, 210, 211, 212, 213, 214, 215, 216, 217, 218, 219, 220, 221, 222, 223, 224, 225, 226, 227, 228, 229, 230, 231, 232, 233, 234, 235, 236, 237, 238, 239, 240, 241, 242, 243, 244, 245, 246, 247, 248, 249, 250, 251, 252, 253, 254, 255]\n",
      "['GRE  ', 'ICMP ', 'IGMP ', 'TCP  ', 'UDP  ']\n",
      "[0, 1, 2, 3, 4]\n"
     ]
    },
    {
     "name": "stderr",
     "output_type": "stream",
     "text": [
      "C:\\Users\\hp\\Anaconda3\\lib\\site-packages\\sklearn\\preprocessing\\_encoders.py:415: FutureWarning: The handling of integer data will change in version 0.22. Currently, the categories are determined based on the range [0, max(values)], while in the future they will be determined based on the unique values.\n",
      "If you want the future behaviour and silence this warning, you can specify \"categories='auto'\".\n",
      "In case you used a LabelEncoder before this OneHotEncoder to convert the categories to integers, then you can now use the OneHotEncoder directly.\n",
      "  warnings.warn(msg, FutureWarning)\n"
     ]
    },
    {
     "name": "stdout",
     "output_type": "stream",
     "text": [
      "['sourceIP_feature 1', 'sourceIP_feature 2', 'sourceIP_feature 3', 'sourceIP_feature 4', 'destIP_feature 1', 'destIP_feature 2', 'destIP_feature 3', 'destIP_feature 4']\n"
     ]
    }
   ],
   "source": [
    "data = normalize(data)\n",
    "data =  one_shot(data) \n",
    "data = normalize_IP(data)"
   ]
  },
  {
   "cell_type": "code",
   "execution_count": 19,
   "metadata": {},
   "outputs": [],
   "source": [
    "from datetime import datetime\n",
    "def unix_time(df):\n",
    "  #  df[' Timestamp'] = df[' Timestamp'].apply(lambda x: x + ':00' if len(x) != 19 else x)\n",
    "   # df[' Timestamp'] = df[' Timestamp'].apply(lambda x: x[0 : 5 : ] + x[7 : :] if len(x) != 19 else x[0 : 7 : ] + x[9 : :])\n",
    "    df['Date first seen'] = df['Date first seen'].apply(lambda x: datetime.strptime(x,'%Y-%m-%d %H:%M:%S.%f'))\n",
    "    df['Date first seen'] = df['Date first seen'].apply(lambda x: x.timestamp()*1000)\n",
    "    return df;"
   ]
  },
  {
   "cell_type": "code",
   "execution_count": 20,
   "metadata": {},
   "outputs": [],
   "source": [
    "def normal_profile(grouped):\n",
    "    grouped['---'] = unix_time(grouped['---'])\n",
    "    start_time = int(grouped['---'].head(1)['Date first seen'].values[0])\n",
    "    end_time = int(grouped['---'].tail(1)['Date first seen'].values[0])\n",
    "#date_bins = pd.IntervalIndex.from_tuples(\n",
    "#        [(i, i+3600000) for i in range(start_time, end_time, 3600000)],\n",
    "#        closed=\"left\")\n",
    "#date_labels = [f\"{i}\" for i in range(1, len(date_bins)+1, 1)]\n",
    "    normal_data = dict(tuple( grouped['---'].groupby( pd.cut(\n",
    "            grouped['---']['Date first seen'],\n",
    "               np.arange(start_time, end_time, 3*3600000)))))\n",
    "    del grouped['---']\n",
    "    num = []\n",
    "    for i in grouped_data.keys():\n",
    "          num.append(len(grouped_data[i]))\n",
    "    print(min(num))\n",
    "    num = max(num)\n",
    "    print(num)\n",
    "    print(len(grouped.keys()))\n",
    "    grouped = {**grouped, **normal_data}\n",
    "    print(len(grouped.keys()))\n",
    "    return grouped, num;"
   ]
  },
  {
   "cell_type": "code",
   "execution_count": 21,
   "metadata": {},
   "outputs": [
    {
     "data": {
      "text/plain": [
       "0"
      ]
     },
     "execution_count": 21,
     "metadata": {},
     "output_type": "execute_result"
    }
   ],
   "source": [
    "grouped_data= dict(tuple(data.groupby(['attackID'])))\n",
    "del data\n",
    "gc.collect()"
   ]
  },
  {
   "cell_type": "code",
   "execution_count": 22,
   "metadata": {
    "scrolled": true
   },
   "outputs": [
    {
     "name": "stdout",
     "output_type": "stream",
     "text": [
      "---: 7195669 : 0\n",
      "bruteForce : 26\n",
      "25: 201 : 1\n",
      "27: 680 : 1\n",
      "30: 46 : 1\n",
      "32: 335 : 1\n",
      "39: 364 : 1\n",
      "54: 183 : 1\n",
      "55: 757 : 1\n",
      "56: 427 : 1\n",
      "61: 705 : 1\n",
      "62: 574 : 1\n",
      "64: 480 : 1\n",
      "70: 240 : 1\n",
      "73: 200 : 1\n",
      "74: 200 : 1\n",
      "75: 200 : 1\n",
      "76: 168 : 1\n",
      "78: 200 : 1\n",
      "79: 200 : 1\n",
      "81: 200 : 1\n",
      "83: 200 : 1\n",
      "84: 200 : 1\n",
      "87: 200 : 1\n",
      "88: 200 : 1\n",
      "90: 200 : 1\n",
      "91: 40 : 1\n",
      "92: 40 : 1\n",
      "dos : 18\n",
      "16: 261003 : 2\n",
      "18: 295302 : 2\n",
      "23: 72788 : 2\n",
      "26: 74471 : 2\n",
      "28: 36306 : 2\n",
      "3: 37118 : 2\n",
      "31: 144845 : 2\n",
      "4: 72063 : 2\n",
      "42: 184040 : 2\n",
      "44: 261169 : 2\n",
      "45: 224960 : 2\n",
      "46: 111720 : 2\n",
      "53: 516299 : 2\n",
      "59: 110484 : 2\n",
      "6: 37134 : 2\n",
      "60: 333627 : 2\n",
      "63: 148641 : 2\n",
      "9: 37057 : 2\n",
      "pingScan: 16\n",
      "10: 311 : 3\n",
      "13: 513 : 3\n",
      "15: 64 : 3\n",
      "22: 295 : 3\n",
      "24: 466 : 3\n",
      "33: 307 : 3\n",
      "35: 263 : 3\n",
      "36: 494 : 3\n",
      "38: 267 : 3\n",
      "41: 379 : 3\n",
      "52: 607 : 3\n",
      "57: 522 : 3\n",
      "58: 510 : 3\n",
      "65: 373 : 3\n",
      "66: 359 : 3\n",
      "69: 360 : 3\n",
      "portScan : 32\n",
      "1: 7657 : 4\n",
      "11: 17401 : 4\n",
      "12: 11526 : 4\n",
      "14: 13807 : 4\n",
      "17: 13338 : 4\n",
      "19: 11672 : 4\n",
      "2: 1927 : 4\n",
      "20: 11748 : 4\n",
      "21: 5113 : 4\n",
      "29: 19732 : 4\n",
      "34: 12909 : 4\n",
      "37: 26114 : 4\n",
      "40: 11609 : 4\n",
      "43: 2143 : 4\n",
      "47: 13420 : 4\n",
      "48: 13600 : 4\n",
      "49: 17629 : 4\n",
      "5: 4948 : 4\n",
      "50: 4589 : 4\n",
      "51: 11968 : 4\n",
      "67: 13426 : 4\n",
      "68: 5632 : 4\n",
      "7: 9586 : 4\n",
      "71: 2008 : 4\n",
      "72: 2002 : 4\n",
      "77: 6410 : 4\n",
      "8: 4424 : 4\n",
      "80: 1991 : 4\n",
      "82: 1370 : 4\n",
      "85: 1984 : 4\n",
      "86: 2002 : 4\n",
      "89: 952 : 4\n"
     ]
    }
   ],
   "source": [
    "no_1 = []\n",
    "no_2 = []\n",
    "no_3 = []\n",
    "no_4 = []\n",
    "for i in grouped_data.keys():\n",
    "   \n",
    "    if grouped_data[i]['attackType'].unique()[0] == 0:\n",
    "        print(f\"{i}: {len(grouped_data[i])} : {grouped_data[i]['attackType'].unique()[0]}\")\n",
    "    if grouped_data[i]['attackType'].unique()[0] == 1:\n",
    "              no_1.append(i)\n",
    "    if grouped_data[i]['attackType'].unique()[0] == 2:\n",
    "              no_2.append(i)\n",
    "    if grouped_data[i]['attackType'].unique()[0] == 3:\n",
    "              no_3.append(i)\n",
    "    if grouped_data[i]['attackType'].unique()[0] == 4:\n",
    "              no_4.append(i)\n",
    "print(f\"bruteForce : {len(no_1)}\")\n",
    "for i in no_1:\n",
    "     print(f\"{i}: {len(grouped_data[i])} : {grouped_data[i]['attackType'].unique()[0]}\")\n",
    "print(f\"dos : {len(no_2)}\")\n",
    "for i in no_2:\n",
    "     print(f\"{i}: {len(grouped_data[i])} : {grouped_data[i]['attackType'].unique()[0]}\")\n",
    "print(f\"pingScan: {len(no_3)}\")\n",
    "for i in no_3:\n",
    "     print(f\"{i}: {len(grouped_data[i])} : {grouped_data[i]['attackType'].unique()[0]}\")\n",
    "print(f\"portScan : {len(no_4)}\")\n",
    "for i in no_4:\n",
    "     print(f\"{i}: {len(grouped_data[i])} : {grouped_data[i]['attackType'].unique()[0]}\")"
   ]
  },
  {
   "cell_type": "code",
   "execution_count": 23,
   "metadata": {},
   "outputs": [
    {
     "data": {
      "text/plain": [
       "20"
      ]
     },
     "execution_count": 23,
     "metadata": {},
     "output_type": "execute_result"
    }
   ],
   "source": [
    "del no_1\n",
    "del no_2\n",
    "del no_3\n",
    "del no_4\n",
    "gc.collect()"
   ]
  },
  {
   "cell_type": "code",
   "execution_count": 24,
   "metadata": {},
   "outputs": [],
   "source": [
    "def del_largeInstances(dic, length):\n",
    "    remove_ID = []\n",
    "    for i in dic.keys():\n",
    "        if (i != '---'):\n",
    "            if(len(dic[i]) >= length):\n",
    "                remove_ID.append(i)\n",
    "    print(len(remove_ID))\n",
    "    removed_attacks = {}\n",
    "    for i in remove_ID:\n",
    "        removed_attacks[i] = dic[i]\n",
    "        del dic[i]\n",
    "    return dic;"
   ]
  },
  {
   "cell_type": "code",
   "execution_count": 25,
   "metadata": {},
   "outputs": [
    {
     "name": "stdout",
     "output_type": "stream",
     "text": [
      "19\n"
     ]
    }
   ],
   "source": [
    "grouped_data = del_largeInstances(grouped_data, 20000)"
   ]
  },
  {
   "cell_type": "code",
   "execution_count": 26,
   "metadata": {},
   "outputs": [
    {
     "name": "stdout",
     "output_type": "stream",
     "text": [
      "40\n",
      "19732\n",
      "73\n",
      "350\n"
     ]
    }
   ],
   "source": [
    "#grouped_data, num = normal_profile(grouped_data)\n",
    "grouped_data1= {}\n",
    "for i in grouped_data.keys():\n",
    "    grouped_data[i] = flag_convert(grouped_data[i])\n",
    "   # grouped_data[i] =  drop_columns(grouped_data[i])\n",
    "grouped_data, num = normal_profile(grouped_data)\n",
    "for i in grouped_data.keys():\n",
    "   # grouped_data[i] = flag_convert(grouped_data[i])\n",
    "    grouped_data[i] =  drop_columns(grouped_data[i])"
   ]
  },
  {
   "cell_type": "code",
   "execution_count": 27,
   "metadata": {},
   "outputs": [
    {
     "name": "stdout",
     "output_type": "stream",
     "text": [
      "1 : False\n",
      "10 : False\n",
      "11 : False\n",
      "12 : False\n",
      "13 : False\n",
      "14 : False\n",
      "15 : False\n",
      "17 : False\n",
      "19 : False\n",
      "2 : False\n",
      "20 : False\n",
      "21 : False\n",
      "22 : False\n",
      "24 : False\n",
      "25 : False\n",
      "27 : False\n",
      "29 : False\n",
      "30 : False\n",
      "32 : False\n",
      "33 : False\n",
      "34 : False\n",
      "35 : False\n",
      "36 : False\n",
      "38 : False\n",
      "39 : False\n",
      "40 : False\n",
      "41 : False\n",
      "43 : False\n",
      "47 : False\n",
      "48 : False\n",
      "49 : False\n",
      "5 : False\n",
      "50 : False\n",
      "51 : False\n",
      "52 : False\n",
      "54 : False\n",
      "55 : False\n",
      "56 : False\n",
      "57 : False\n",
      "58 : False\n",
      "61 : False\n",
      "62 : False\n",
      "64 : False\n",
      "65 : False\n",
      "66 : False\n",
      "67 : False\n",
      "68 : False\n",
      "69 : False\n",
      "7 : False\n",
      "70 : False\n",
      "71 : False\n",
      "72 : False\n",
      "73 : False\n",
      "74 : False\n",
      "75 : False\n",
      "76 : False\n",
      "77 : False\n",
      "78 : False\n",
      "79 : False\n",
      "8 : False\n",
      "80 : False\n",
      "81 : False\n",
      "82 : False\n",
      "83 : False\n",
      "84 : False\n",
      "85 : False\n",
      "86 : False\n",
      "87 : False\n",
      "88 : False\n",
      "89 : False\n",
      "90 : False\n",
      "91 : False\n",
      "92 : False\n",
      "(1489536076632, 1489546876632] : False\n",
      "(1489546876632, 1489557676632] : False\n",
      "(1489557676632, 1489568476632] : False\n",
      "(1489568476632, 1489579276632] : False\n",
      "(1489579276632, 1489590076632] : False\n",
      "(1489590076632, 1489600876632] : False\n",
      "(1489600876632, 1489611676632] : False\n",
      "(1489611676632, 1489622476632] : False\n",
      "(1489622476632, 1489633276632] : False\n",
      "(1489633276632, 1489644076632] : False\n",
      "(1489644076632, 1489654876632] : False\n",
      "(1489654876632, 1489665676632] : False\n",
      "(1489665676632, 1489676476632] : False\n",
      "(1489676476632, 1489687276632] : False\n",
      "(1489687276632, 1489698076632] : False\n",
      "(1489698076632, 1489708876632] : False\n",
      "(1489708876632, 1489719676632] : False\n",
      "(1489719676632, 1489730476632] : False\n",
      "(1489730476632, 1489741276632] : False\n",
      "(1489741276632, 1489752076632] : False\n",
      "(1489752076632, 1489762876632] : False\n",
      "(1489762876632, 1489773676632] : False\n",
      "(1489773676632, 1489784476632] : False\n",
      "(1489784476632, 1489795276632] : False\n",
      "(1489795276632, 1489806076632] : False\n",
      "(1489806076632, 1489816876632] : False\n",
      "(1489816876632, 1489827676632] : False\n",
      "(1489827676632, 1489838476632] : False\n",
      "(1489838476632, 1489849276632] : False\n",
      "(1489849276632, 1489860076632] : False\n",
      "(1489860076632, 1489870876632] : False\n",
      "(1489870876632, 1489881676632] : False\n",
      "(1489881676632, 1489892476632] : False\n",
      "(1489892476632, 1489903276632] : False\n",
      "(1489903276632, 1489914076632] : False\n",
      "(1489914076632, 1489924876632] : False\n",
      "(1489924876632, 1489935676632] : False\n",
      "(1489935676632, 1489946476632] : False\n",
      "(1489946476632, 1489957276632] : False\n",
      "(1489957276632, 1489968076632] : False\n",
      "(1489968076632, 1489978876632] : False\n",
      "(1489978876632, 1489989676632] : False\n",
      "(1489989676632, 1490000476632] : False\n",
      "(1490000476632, 1490011276632] : False\n",
      "(1490011276632, 1490022076632] : False\n",
      "(1490022076632, 1490032876632] : False\n",
      "(1490032876632, 1490043676632] : False\n",
      "(1490043676632, 1490054476632] : False\n",
      "(1490054476632, 1490065276632] : False\n",
      "(1490065276632, 1490076076632] : False\n",
      "(1490076076632, 1490086876632] : False\n",
      "(1490086876632, 1490097676632] : False\n",
      "(1490097676632, 1490108476632] : False\n",
      "(1490108476632, 1490119276632] : False\n",
      "(1490119276632, 1490130076632] : False\n",
      "(1490130076632, 1490140876632] : False\n",
      "(1490140876632, 1490151676632] : False\n",
      "(1490151676632, 1490162476632] : False\n",
      "(1490162476632, 1490173276632] : False\n",
      "(1490173276632, 1490184076632] : False\n",
      "(1490184076632, 1490194876632] : False\n",
      "(1490194876632, 1490205676632] : False\n",
      "(1490205676632, 1490216476632] : False\n",
      "(1490216476632, 1490227276632] : False\n",
      "(1490227276632, 1490238076632] : False\n",
      "(1490238076632, 1490248876632] : False\n",
      "(1490248876632, 1490259676632] : False\n",
      "(1490259676632, 1490270476632] : False\n",
      "(1490270476632, 1490281276632] : False\n",
      "(1490281276632, 1490292076632] : False\n",
      "(1490292076632, 1490302876632] : False\n",
      "(1490302876632, 1490313676632] : False\n",
      "(1490313676632, 1490324476632] : False\n",
      "(1490324476632, 1490335276632] : False\n",
      "(1490335276632, 1490346076632] : False\n",
      "(1490346076632, 1490356876632] : False\n",
      "(1490356876632, 1490367676632] : False\n",
      "(1490367676632, 1490378476632] : False\n",
      "(1490378476632, 1490389276632] : False\n",
      "(1490389276632, 1490400076632] : False\n",
      "(1490400076632, 1490410876632] : False\n",
      "(1490410876632, 1490421676632] : False\n",
      "(1490421676632, 1490432476632] : False\n",
      "(1490432476632, 1490443276632] : False\n",
      "(1490443276632, 1490454076632] : False\n",
      "(1490454076632, 1490464876632] : False\n",
      "(1490464876632, 1490475676632] : False\n",
      "(1490475676632, 1490486476632] : False\n",
      "(1490486476632, 1490497276632] : False\n",
      "(1490497276632, 1490508076632] : False\n",
      "(1490508076632, 1490518876632] : False\n",
      "(1490518876632, 1490529676632] : False\n",
      "(1490529676632, 1490540476632] : False\n",
      "(1490540476632, 1490551276632] : False\n",
      "(1490551276632, 1490562076632] : False\n",
      "(1490562076632, 1490572876632] : False\n",
      "(1490572876632, 1490583676632] : False\n",
      "(1490583676632, 1490594476632] : False\n",
      "(1490594476632, 1490605276632] : False\n",
      "(1490605276632, 1490616076632] : False\n",
      "(1490616076632, 1490626876632] : False\n",
      "(1490626876632, 1490637676632] : False\n",
      "(1490637676632, 1490648476632] : False\n",
      "(1490648476632, 1490659276632] : False\n",
      "(1490659276632, 1490670076632] : False\n",
      "(1490670076632, 1490680876632] : False\n",
      "(1490680876632, 1490691676632] : False\n",
      "(1490691676632, 1490702476632] : False\n",
      "(1490702476632, 1490713276632] : False\n",
      "(1490713276632, 1490724076632] : False\n",
      "(1490724076632, 1490734876632] : False\n",
      "(1490734876632, 1490745676632] : False\n",
      "(1490745676632, 1490756476632] : False\n",
      "(1490756476632, 1490767276632] : False\n",
      "(1490767276632, 1490778076632] : False\n",
      "(1490778076632, 1490788876632] : False\n",
      "(1490788876632, 1490799676632] : False\n",
      "(1490799676632, 1490810476632] : False\n",
      "(1490810476632, 1490821276632] : False\n",
      "(1490821276632, 1490832076632] : False\n",
      "(1490832076632, 1490842876632] : False\n",
      "(1490842876632, 1490853676632] : False\n",
      "(1490853676632, 1490864476632] : False\n",
      "(1490864476632, 1490875276632] : False\n",
      "(1490875276632, 1490886076632] : False\n",
      "(1490886076632, 1490896876632] : False\n",
      "(1490896876632, 1490907676632] : False\n",
      "(1490907676632, 1490918476632] : False\n",
      "(1490918476632, 1490929276632] : False\n",
      "(1490929276632, 1490940076632] : False\n",
      "(1490940076632, 1490950876632] : False\n",
      "(1490950876632, 1490961676632] : False\n",
      "(1490961676632, 1490972476632] : False\n",
      "(1490972476632, 1490983276632] : False\n",
      "(1490983276632, 1490994076632] : False\n",
      "(1490994076632, 1491004876632] : False\n",
      "(1491004876632, 1491015676632] : False\n",
      "(1491015676632, 1491026476632] : False\n",
      "(1491026476632, 1491037276632] : False\n",
      "(1491037276632, 1491048076632] : False\n",
      "(1491048076632, 1491058876632] : False\n",
      "(1491058876632, 1491069676632] : False\n",
      "(1491069676632, 1491080476632] : False\n",
      "(1491080476632, 1491091276632] : False\n",
      "(1491091276632, 1491102076632] : False\n",
      "(1491102076632, 1491112876632] : False\n",
      "(1491112876632, 1491123676632] : False\n",
      "(1491123676632, 1491134476632] : False\n",
      "(1491134476632, 1491145276632] : False\n",
      "(1491145276632, 1491156076632] : False\n",
      "(1491156076632, 1491166876632] : False\n",
      "(1491166876632, 1491177676632] : False\n",
      "(1491177676632, 1491188476632] : False\n",
      "(1491188476632, 1491199276632] : False\n",
      "(1491199276632, 1491210076632] : False\n",
      "(1491210076632, 1491220876632] : False\n",
      "(1491220876632, 1491231676632] : False\n",
      "(1491231676632, 1491242476632] : False\n",
      "(1491242476632, 1491253276632] : False\n",
      "(1491253276632, 1491264076632] : False\n",
      "(1491264076632, 1491274876632] : False\n",
      "(1491274876632, 1491285676632] : False\n",
      "(1491285676632, 1491296476632] : False\n",
      "(1491296476632, 1491307276632] : False\n",
      "(1491307276632, 1491318076632] : False\n",
      "(1491318076632, 1491328876632] : False\n",
      "(1491328876632, 1491339676632] : False\n",
      "(1491339676632, 1491350476632] : False\n",
      "(1491350476632, 1491361276632] : False\n",
      "(1491361276632, 1491372076632] : False\n",
      "(1491372076632, 1491382876632] : False\n",
      "(1491382876632, 1491393676632] : False\n",
      "(1491393676632, 1491404476632] : False\n",
      "(1491404476632, 1491415276632] : False\n",
      "(1491415276632, 1491426076632] : False\n",
      "(1491426076632, 1491436876632] : False\n",
      "(1491436876632, 1491447676632] : False\n",
      "(1491447676632, 1491458476632] : False\n",
      "(1491458476632, 1491469276632] : False\n",
      "(1491469276632, 1491480076632] : False\n",
      "(1491480076632, 1491490876632] : False\n",
      "(1491490876632, 1491501676632] : False\n",
      "(1491501676632, 1491512476632] : False\n",
      "(1491512476632, 1491523276632] : False\n",
      "(1491523276632, 1491534076632] : False\n",
      "(1491534076632, 1491544876632] : False\n",
      "(1491544876632, 1491555676632] : False\n",
      "(1491555676632, 1491566476632] : False\n",
      "(1491566476632, 1491577276632] : False\n",
      "(1491577276632, 1491588076632] : False\n",
      "(1491588076632, 1491598876632] : False\n",
      "(1491598876632, 1491609676632] : False\n",
      "(1491609676632, 1491620476632] : False\n",
      "(1491620476632, 1491631276632] : False\n",
      "(1491631276632, 1491642076632] : False\n",
      "(1491642076632, 1491652876632] : False\n",
      "(1491652876632, 1491663676632] : False\n",
      "(1491663676632, 1491674476632] : False\n",
      "(1491674476632, 1491685276632] : False\n",
      "(1491685276632, 1491696076632] : False\n",
      "(1491696076632, 1491706876632] : False\n",
      "(1491706876632, 1491717676632] : False\n",
      "(1491717676632, 1491728476632] : False\n",
      "(1491728476632, 1491739276632] : False\n",
      "(1491739276632, 1491750076632] : False\n",
      "(1491750076632, 1491760876632] : False\n",
      "(1491760876632, 1491771676632] : False\n",
      "(1491771676632, 1491782476632] : False\n",
      "(1491782476632, 1491793276632] : False\n",
      "(1491793276632, 1491804076632] : False\n",
      "(1491804076632, 1491814876632] : False\n",
      "(1491814876632, 1491825676632] : False\n",
      "(1491825676632, 1491836476632] : False\n",
      "(1491836476632, 1491847276632] : False\n",
      "(1491847276632, 1491858076632] : False\n"
     ]
    },
    {
     "name": "stdout",
     "output_type": "stream",
     "text": [
      "(1491858076632, 1491868876632] : False\n",
      "(1491868876632, 1491879676632] : False\n",
      "(1491879676632, 1491890476632] : False\n",
      "(1491890476632, 1491901276632] : False\n",
      "(1491901276632, 1491912076632] : False\n",
      "(1491912076632, 1491922876632] : False\n",
      "(1491922876632, 1491933676632] : False\n",
      "(1491933676632, 1491944476632] : False\n",
      "(1491944476632, 1491955276632] : False\n",
      "(1491955276632, 1491966076632] : False\n",
      "(1491966076632, 1491976876632] : False\n",
      "(1491976876632, 1491987676632] : False\n",
      "(1491987676632, 1491998476632] : False\n",
      "(1491998476632, 1492009276632] : False\n",
      "(1492009276632, 1492020076632] : False\n",
      "(1492020076632, 1492030876632] : False\n",
      "(1492030876632, 1492041676632] : False\n",
      "(1492041676632, 1492052476632] : False\n",
      "(1492052476632, 1492063276632] : False\n",
      "(1492063276632, 1492074076632] : False\n",
      "(1492074076632, 1492084876632] : False\n",
      "(1492084876632, 1492095676632] : False\n",
      "(1492095676632, 1492106476632] : False\n",
      "(1492106476632, 1492117276632] : False\n",
      "(1492117276632, 1492128076632] : False\n",
      "(1492128076632, 1492138876632] : False\n",
      "(1492138876632, 1492149676632] : False\n",
      "(1492149676632, 1492160476632] : False\n",
      "(1492160476632, 1492171276632] : False\n",
      "(1492171276632, 1492182076632] : False\n",
      "(1492182076632, 1492192876632] : False\n",
      "(1492192876632, 1492203676632] : False\n",
      "(1492203676632, 1492214476632] : False\n",
      "(1492214476632, 1492225276632] : False\n",
      "(1492225276632, 1492236076632] : False\n",
      "(1492236076632, 1492246876632] : False\n",
      "(1492246876632, 1492257676632] : False\n",
      "(1492257676632, 1492268476632] : False\n",
      "(1492268476632, 1492279276632] : False\n",
      "(1492279276632, 1492290076632] : False\n",
      "(1492290076632, 1492300876632] : False\n",
      "(1492300876632, 1492311676632] : False\n",
      "(1492311676632, 1492322476632] : False\n",
      "(1492322476632, 1492333276632] : False\n",
      "(1492333276632, 1492344076632] : False\n",
      "(1492344076632, 1492354876632] : False\n",
      "(1492354876632, 1492365676632] : False\n",
      "(1492365676632, 1492376476632] : False\n",
      "(1492376476632, 1492387276632] : False\n",
      "(1492387276632, 1492398076632] : False\n",
      "(1492398076632, 1492408876632] : False\n",
      "(1492408876632, 1492419676632] : False\n",
      "(1492419676632, 1492430476632] : False\n",
      "(1492430476632, 1492441276632] : False\n",
      "(1492441276632, 1492452076632] : False\n",
      "(1492452076632, 1492462876632] : False\n",
      "(1492462876632, 1492473676632] : False\n",
      "(1492473676632, 1492484476632] : False\n",
      "(1492484476632, 1492495276632] : False\n",
      "(1492495276632, 1492506076632] : False\n",
      "(1492506076632, 1492516876632] : False\n",
      "(1492516876632, 1492527676632] : False\n"
     ]
    }
   ],
   "source": [
    "for i in grouped_data.keys():\n",
    "    #if (grouped_data[i].hasnull())\n",
    "    print(f'{i} : {grouped_data[i].isnull().values.any()}')"
   ]
  },
  {
   "cell_type": "code",
   "execution_count": 28,
   "metadata": {},
   "outputs": [],
   "source": [
    "#grouped_data['34']"
   ]
  },
  {
   "cell_type": "code",
   "execution_count": 29,
   "metadata": {},
   "outputs": [
    {
     "name": "stdout",
     "output_type": "stream",
     "text": [
      "167\n"
     ]
    }
   ],
   "source": [
    "counter = 0\n",
    "for i in grouped_data.keys():\n",
    "    if ( len(grouped_data[i]) == 0):\n",
    "        counter = counter +1;\n",
    "print(counter)"
   ]
  },
  {
   "cell_type": "code",
   "execution_count": 30,
   "metadata": {},
   "outputs": [],
   "source": [
    "def roundup(x):\n",
    "    return x if x % 100 == 0 else x + 100 - x % 100\n",
    "#Convert to 3D arrays, input dict\n",
    "def make_array(dic):\n",
    "    x = []\n",
    "    y = []\n",
    "    zero_arrays = []\n",
    "    for i in dic.keys():\n",
    "        if ( len(dic[i]) == 0):\n",
    "            zero_arrays.append(i);\n",
    "    for i in zero_arrays:\n",
    "        del dic[i]\n",
    "    for i in dic.keys():\n",
    "        x.append(np.array(dic[i].drop(['attackType'],axis = 1)).astype(np.float32))\n",
    "       # print(f'{i}')\n",
    "        y.append(dic[i]['attackType'].values[0])\n",
    "    print(len(y))\n",
    "    o = []\n",
    "    features = len(x[1][1])\n",
    "    #for i in x:\n",
    "     #   o.append(len(i))\n",
    "   # print(min(o))\n",
    "    o = num\n",
    "    o = roundup(o)\n",
    "    print(o)\n",
    "    index = 0\n",
    "    for i in x:\n",
    "        l = len(i)\n",
    "        i = list(i)\n",
    "        if(o > l):\n",
    "            l = o-l\n",
    "            for j in range(0, l, 1):\n",
    "                i.append([0] * features)\n",
    "        elif (o<l):\n",
    "            l = l-o\n",
    "            i = i[:-l]\n",
    "        #i = [k = np.array([k]) for l in i for k in l] # Makes array elements an array \n",
    "        x[index] = np.array(i).astype(np.float32)\n",
    "        index = index + 1\n",
    "    #x = [[i] for i in x]\n",
    "    return x,y"
   ]
  },
  {
   "cell_type": "code",
   "execution_count": 31,
   "metadata": {},
   "outputs": [
    {
     "name": "stdout",
     "output_type": "stream",
     "text": [
      "183\n",
      "19800\n"
     ]
    }
   ],
   "source": [
    "X,Y = make_array(grouped_data)\n",
    "del grouped_data\n",
    "gc.collect()\n",
    "Y = np.array(Y)\n",
    "X = np.array(X)"
   ]
  },
  {
   "cell_type": "code",
   "execution_count": 32,
   "metadata": {},
   "outputs": [
    {
     "data": {
      "text/plain": [
       "{0: 110, 1: 26, 3: 16, 4: 31}"
      ]
     },
     "execution_count": 32,
     "metadata": {},
     "output_type": "execute_result"
    }
   ],
   "source": [
    "unique, counts = np.unique(Y, return_counts=True)\n",
    "dict(zip(unique, counts))"
   ]
  },
  {
   "cell_type": "code",
   "execution_count": null,
   "metadata": {
    "scrolled": true
   },
   "outputs": [],
   "source": []
  },
  {
   "cell_type": "code",
   "execution_count": 33,
   "metadata": {},
   "outputs": [],
   "source": [
    "def make_4D(arr):\n",
    "    x = []\n",
    "    for i in range(0, len(arr),1):\n",
    "        temp = []\n",
    "        for j in range(0,len(arr[i]),1):\n",
    "             temp.append([np.array([k]) for k in arr[i][j]])\n",
    "        x.append(np.array(temp).astype(np.float32))\n",
    "    return np.array(x).astype(np.float32)"
   ]
  },
  {
   "cell_type": "code",
   "execution_count": 34,
   "metadata": {},
   "outputs": [],
   "source": [
    "#X = make_4D(X)"
   ]
  },
  {
   "cell_type": "code",
   "execution_count": 35,
   "metadata": {},
   "outputs": [],
   "source": [
    "from sklearn.model_selection import train_test_split\n",
    "from sklearn.tree import DecisionTreeClassifier\n",
    "X_train, X_test, Y_train, Y_test = train_test_split(X,Y , test_size=0.2, random_state=0,  stratify=Y)"
   ]
  },
  {
   "cell_type": "code",
   "execution_count": 36,
   "metadata": {},
   "outputs": [
    {
     "data": {
      "text/plain": [
       "100"
      ]
     },
     "execution_count": 36,
     "metadata": {},
     "output_type": "execute_result"
    }
   ],
   "source": [
    "del X,Y\n",
    "gc.collect()"
   ]
  },
  {
   "cell_type": "code",
   "execution_count": 37,
   "metadata": {},
   "outputs": [
    {
     "data": {
      "text/plain": [
       "{0: 88, 1: 21, 3: 13, 4: 24}"
      ]
     },
     "execution_count": 37,
     "metadata": {},
     "output_type": "execute_result"
    }
   ],
   "source": [
    "unique, counts = np.unique(Y_train, return_counts=True)\n",
    "dict(zip(unique, counts))"
   ]
  },
  {
   "cell_type": "code",
   "execution_count": 38,
   "metadata": {},
   "outputs": [
    {
     "data": {
      "text/plain": [
       "{0: 22, 1: 5, 3: 3, 4: 7}"
      ]
     },
     "execution_count": 38,
     "metadata": {},
     "output_type": "execute_result"
    }
   ],
   "source": [
    "unique, counts = np.unique(Y_test, return_counts=True)\n",
    "dict(zip(unique, counts))"
   ]
  },
  {
   "cell_type": "code",
   "execution_count": 39,
   "metadata": {},
   "outputs": [
    {
     "name": "stdout",
     "output_type": "stream",
     "text": [
      "False\n",
      "False\n",
      "False\n",
      "False\n",
      "False\n",
      "False\n",
      "False\n",
      "False\n",
      "False\n",
      "False\n",
      "False\n",
      "False\n",
      "False\n",
      "False\n",
      "False\n",
      "False\n",
      "False\n",
      "False\n",
      "False\n",
      "False\n",
      "False\n",
      "False\n",
      "False\n",
      "False\n",
      "False\n",
      "False\n",
      "False\n",
      "False\n",
      "False\n",
      "False\n",
      "False\n",
      "False\n",
      "False\n",
      "False\n",
      "False\n",
      "False\n",
      "False\n",
      "False\n",
      "False\n",
      "False\n",
      "False\n",
      "False\n",
      "False\n",
      "False\n",
      "False\n",
      "False\n",
      "False\n",
      "False\n",
      "False\n",
      "False\n",
      "False\n",
      "False\n",
      "False\n",
      "False\n",
      "False\n",
      "False\n",
      "False\n",
      "False\n",
      "False\n",
      "False\n",
      "False\n",
      "False\n",
      "False\n",
      "False\n",
      "False\n",
      "False\n",
      "False\n",
      "False\n",
      "False\n",
      "False\n",
      "False\n",
      "False\n",
      "False\n",
      "False\n",
      "False\n",
      "False\n",
      "False\n",
      "False\n",
      "False\n",
      "False\n",
      "False\n",
      "False\n",
      "False\n",
      "False\n",
      "False\n",
      "False\n",
      "False\n",
      "False\n",
      "False\n",
      "False\n",
      "False\n",
      "False\n",
      "False\n",
      "False\n",
      "False\n",
      "False\n",
      "False\n",
      "False\n",
      "False\n",
      "False\n",
      "False\n",
      "False\n",
      "False\n",
      "False\n",
      "False\n",
      "False\n",
      "False\n",
      "False\n",
      "False\n",
      "False\n",
      "False\n",
      "False\n",
      "False\n",
      "False\n",
      "False\n",
      "False\n",
      "False\n",
      "False\n",
      "False\n",
      "False\n",
      "False\n",
      "False\n",
      "False\n",
      "False\n",
      "False\n",
      "False\n",
      "False\n",
      "False\n",
      "False\n",
      "False\n",
      "False\n",
      "False\n",
      "False\n",
      "False\n",
      "False\n",
      "False\n",
      "False\n",
      "False\n",
      "False\n",
      "False\n",
      "False\n",
      "False\n",
      "False\n",
      "False\n",
      "False\n",
      "False\n"
     ]
    }
   ],
   "source": [
    "for i in X_train:\n",
    "    print(f'{np.isnan(i).any()}')"
   ]
  },
  {
   "cell_type": "code",
   "execution_count": 40,
   "metadata": {},
   "outputs": [],
   "source": [
    "import tensorflow as tf\n",
    "from tensorflow import keras\n",
    "from tensorflow.keras.layers import Embedding, Dense, LSTM, Dropout, Masking, Flatten, Input, Bidirectional, BatchNormalization\n",
    "from tensorflow.keras.losses import BinaryCrossentropy\n",
    "from tensorflow.keras.models import Sequential\n",
    "from tensorflow.keras.optimizers import Adam\n",
    "from tensorflow.keras.preprocessing.sequence import pad_sequences\n",
    "from keras.layers import Dense, Conv2D, MaxPooling1D, Dropout, Flatten, Conv1D, MaxPooling2D\n",
    "from tensorflow.keras.models import Model"
   ]
  },
  {
   "cell_type": "code",
   "execution_count": 41,
   "metadata": {},
   "outputs": [
    {
     "name": "stdout",
     "output_type": "stream",
     "text": [
      "samples: 146 \n",
      " X:19800 \n",
      " Y:34 \n",
      " \n"
     ]
    }
   ],
   "source": [
    "nsamples,nx, ny = X_train.shape\n",
    "print(f\"samples: {nsamples} \\n X:{nx} \\n Y:{ny} \\n \" )"
   ]
  },
  {
   "cell_type": "code",
   "execution_count": 42,
   "metadata": {},
   "outputs": [
    {
     "data": {
      "text/plain": [
       "(19800, 34)"
      ]
     },
     "execution_count": 42,
     "metadata": {},
     "output_type": "execute_result"
    }
   ],
   "source": [
    "X_train.shape[1:]"
   ]
  },
  {
   "cell_type": "code",
   "execution_count": 43,
   "metadata": {},
   "outputs": [],
   "source": [
    "from keras.callbacks import EarlyStopping\n",
    "from keras.callbacks import ModelCheckpoint, LambdaCallback\n",
    "wie_by_epoch = []\n",
    "model_check = ModelCheckpoint(\"/models/Testpoints/best_model.hdf5\", monitor='loss', verbose=0, save_best_only=True, mode='min', save_freq=1)\n",
    "print_weights = LambdaCallback(on_epoch_end=lambda batch, logs:wie_by_epoch.append(model.get_weights()))\n",
    "callback = tf.keras.callbacks.EarlyStopping(monitor='loss', patience=10, verbose= 2)"
   ]
  },
  {
   "cell_type": "code",
   "execution_count": 44,
   "metadata": {
    "scrolled": true
   },
   "outputs": [],
   "source": [
    "# Build a model for only the feature extraction layers\n",
    "feature_extractor = Sequential()\n",
    "feature_extractor.add(Conv1D(64, 2, activation='relu', input_shape=X_train.shape[1:]))\n",
    "feature_extractor.add(MaxPooling1D(pool_size= 2))\n",
    "feature_extractor.add(Conv1D(128, 2, activation='relu', input_shape=X_train.shape[1:]))\n",
    "feature_extractor.add(MaxPooling1D(pool_size= 2))\n",
    "feature_extractor.add(Conv1D(256, 2, activation='relu', input_shape=X_train.shape[1:]))\n",
    "feature_extractor.add(MaxPooling1D(pool_size= 2))\n",
    "feature_extractor.add(Flatten())\n",
    "# Keep adding new layers for prediciton outside of feature extraction model\n",
    "x = feature_extractor.output\n",
    "#x = Dense(64, activation = 'relu')(x)\n",
    "prediction_layer = Dense(5, activation = 'softmax')(x)"
   ]
  },
  {
   "cell_type": "code",
   "execution_count": 45,
   "metadata": {},
   "outputs": [],
   "source": [
    "model=Model(inputs=feature_extractor.input, outputs=prediction_layer)\n",
    "model.compile(optimizer= 'rmsprop', loss='sparse_categorical_crossentropy',  metrics=[keras.metrics.SparseCategoricalAccuracy()])\n"
   ]
  },
  {
   "cell_type": "code",
   "execution_count": 46,
   "metadata": {
    "scrolled": true
   },
   "outputs": [
    {
     "data": {
      "text/plain": [
       "(None, 5)"
      ]
     },
     "execution_count": 46,
     "metadata": {},
     "output_type": "execute_result"
    }
   ],
   "source": [
    "model.build(input_shape = (nx,ny))\n",
    "model.output_shape"
   ]
  },
  {
   "cell_type": "code",
   "execution_count": 47,
   "metadata": {},
   "outputs": [
    {
     "data": {
      "text/plain": [
       "627"
      ]
     },
     "execution_count": 47,
     "metadata": {},
     "output_type": "execute_result"
    }
   ],
   "source": [
    "#del model, wie_by_epoch\n",
    "\n",
    "gc.collect()"
   ]
  },
  {
   "cell_type": "code",
   "execution_count": 48,
   "metadata": {},
   "outputs": [
    {
     "name": "stdout",
     "output_type": "stream",
     "text": [
      "Model: \"model\"\n",
      "_________________________________________________________________\n",
      "Layer (type)                 Output Shape              Param #   \n",
      "=================================================================\n",
      "conv1d_input (InputLayer)    [(None, 19800, 34)]       0         \n",
      "_________________________________________________________________\n",
      "conv1d (Conv1D)              (None, 19799, 64)         4416      \n",
      "_________________________________________________________________\n",
      "max_pooling1d (MaxPooling1D) (None, 9899, 64)          0         \n",
      "_________________________________________________________________\n",
      "conv1d_1 (Conv1D)            (None, 9898, 128)         16512     \n",
      "_________________________________________________________________\n",
      "max_pooling1d_1 (MaxPooling1 (None, 4949, 128)         0         \n",
      "_________________________________________________________________\n",
      "conv1d_2 (Conv1D)            (None, 4948, 256)         65792     \n",
      "_________________________________________________________________\n",
      "max_pooling1d_2 (MaxPooling1 (None, 2474, 256)         0         \n",
      "_________________________________________________________________\n",
      "flatten (Flatten)            (None, 633344)            0         \n",
      "_________________________________________________________________\n",
      "dense (Dense)                (None, 5)                 3166725   \n",
      "=================================================================\n",
      "Total params: 3,253,445\n",
      "Trainable params: 3,253,445\n",
      "Non-trainable params: 0\n",
      "_________________________________________________________________\n"
     ]
    }
   ],
   "source": [
    "#model.build(input_shape = (nx,ny))\n",
    "model.summary()\n"
   ]
  },
  {
   "cell_type": "code",
   "execution_count": 49,
   "metadata": {
    "scrolled": true
   },
   "outputs": [
    {
     "data": {
      "text/plain": [
       "[array([[[ 0.01182632,  0.08573906,  0.14020874, ...,  0.09517787,\n",
       "          -0.1346246 , -0.10382988],\n",
       "         [-0.09554749, -0.16175759, -0.13311504, ...,  0.14651026,\n",
       "           0.11779658, -0.1012792 ],\n",
       "         [-0.09592363, -0.14149392,  0.01588319, ...,  0.06913643,\n",
       "          -0.07377258,  0.00158653],\n",
       "         ...,\n",
       "         [-0.13630529,  0.03754948, -0.15639573, ..., -0.09631613,\n",
       "          -0.02440323,  0.05265136],\n",
       "         [-0.10219221, -0.02063127,  0.00583637, ...,  0.05820641,\n",
       "          -0.16462252,  0.02191091],\n",
       "         [ 0.08264561, -0.12855944,  0.06629345, ...,  0.15899627,\n",
       "           0.13379128,  0.1360385 ]],\n",
       " \n",
       "        [[ 0.1168309 , -0.04380925, -0.0299944 , ...,  0.13045557,\n",
       "           0.1099651 ,  0.17421193],\n",
       "         [-0.09850527,  0.0295503 , -0.1028601 , ..., -0.04812041,\n",
       "           0.02695741, -0.09681778],\n",
       "         [ 0.04300779,  0.09739496, -0.03652322, ..., -0.06047744,\n",
       "          -0.1157567 ,  0.1639509 ],\n",
       "         ...,\n",
       "         [-0.1329461 , -0.07418968,  0.09420983, ...,  0.0146376 ,\n",
       "          -0.14627732, -0.12879157],\n",
       "         [-0.03779523,  0.13582803,  0.13031323, ..., -0.12041871,\n",
       "          -0.13901798,  0.03892136],\n",
       "         [ 0.14524423, -0.12640338, -0.12957948, ..., -0.15052554,\n",
       "          -0.04978579,  0.05991566]]], dtype=float32),\n",
       " array([0., 0., 0., 0., 0., 0., 0., 0., 0., 0., 0., 0., 0., 0., 0., 0., 0.,\n",
       "        0., 0., 0., 0., 0., 0., 0., 0., 0., 0., 0., 0., 0., 0., 0., 0., 0.,\n",
       "        0., 0., 0., 0., 0., 0., 0., 0., 0., 0., 0., 0., 0., 0., 0., 0., 0.,\n",
       "        0., 0., 0., 0., 0., 0., 0., 0., 0., 0., 0., 0., 0.], dtype=float32),\n",
       " array([[[-0.06618768,  0.01575625,  0.01708388, ..., -0.06075749,\n",
       "           0.01914197,  0.11284459],\n",
       "         [ 0.10573912,  0.07449558,  0.01314846, ...,  0.03890929,\n",
       "           0.01372612, -0.09070492],\n",
       "         [ 0.01189584,  0.05525351, -0.0866569 , ..., -0.04062238,\n",
       "           0.09097159,  0.01464292],\n",
       "         ...,\n",
       "         [ 0.01772517, -0.06736845, -0.03637829, ...,  0.07832378,\n",
       "           0.08051798, -0.00428814],\n",
       "         [-0.008744  ,  0.07039195,  0.08530283, ...,  0.03941721,\n",
       "          -0.02959603, -0.11427206],\n",
       "         [ 0.07639468,  0.06929839,  0.0469048 , ..., -0.00087497,\n",
       "           0.07520366,  0.12240914]],\n",
       " \n",
       "        [[-0.00713474,  0.00611672, -0.10652456, ..., -0.00710961,\n",
       "           0.06727588, -0.03130063],\n",
       "         [-0.06141788, -0.09239772,  0.03089744, ...,  0.08796999,\n",
       "           0.01772788,  0.01596105],\n",
       "         [ 0.12170425,  0.06917268, -0.11880729, ...,  0.05102956,\n",
       "           0.0114601 ,  0.11010161],\n",
       "         ...,\n",
       "         [ 0.02915511, -0.04391488,  0.06266826, ..., -0.11433873,\n",
       "           0.12455362,  0.08243045],\n",
       "         [-0.10132673,  0.02852541, -0.10265115, ...,  0.07771242,\n",
       "          -0.01278904, -0.06448066],\n",
       "         [-0.01742637,  0.06873822, -0.12037075, ...,  0.06824633,\n",
       "           0.06393617, -0.04670274]]], dtype=float32),\n",
       " array([0., 0., 0., 0., 0., 0., 0., 0., 0., 0., 0., 0., 0., 0., 0., 0., 0.,\n",
       "        0., 0., 0., 0., 0., 0., 0., 0., 0., 0., 0., 0., 0., 0., 0., 0., 0.,\n",
       "        0., 0., 0., 0., 0., 0., 0., 0., 0., 0., 0., 0., 0., 0., 0., 0., 0.,\n",
       "        0., 0., 0., 0., 0., 0., 0., 0., 0., 0., 0., 0., 0., 0., 0., 0., 0.,\n",
       "        0., 0., 0., 0., 0., 0., 0., 0., 0., 0., 0., 0., 0., 0., 0., 0., 0.,\n",
       "        0., 0., 0., 0., 0., 0., 0., 0., 0., 0., 0., 0., 0., 0., 0., 0., 0.,\n",
       "        0., 0., 0., 0., 0., 0., 0., 0., 0., 0., 0., 0., 0., 0., 0., 0., 0.,\n",
       "        0., 0., 0., 0., 0., 0., 0., 0., 0.], dtype=float32),\n",
       " array([[[ 0.05748839,  0.00942926,  0.05585045, ..., -0.0500235 ,\n",
       "           0.0195578 ,  0.08465096],\n",
       "         [-0.08063689, -0.08601774,  0.04012202, ...,  0.01228532,\n",
       "          -0.08285693,  0.01889235],\n",
       "         [ 0.04672293,  0.07202304, -0.01334447, ...,  0.02573982,\n",
       "           0.03974945,  0.05013064],\n",
       "         ...,\n",
       "         [-0.04814434, -0.06829007, -0.03122649, ...,  0.03535275,\n",
       "           0.03258154,  0.05503828],\n",
       "         [ 0.05283841, -0.08570007,  0.06285583, ...,  0.051497  ,\n",
       "          -0.07064551, -0.02737168],\n",
       "         [-0.05180648,  0.05900886, -0.0001296 , ...,  0.07943722,\n",
       "           0.01274154, -0.07547913]],\n",
       " \n",
       "        [[-0.01236852,  0.04129181, -0.02949384, ..., -0.07418964,\n",
       "           0.07547798, -0.07995845],\n",
       "         [ 0.05732133,  0.041422  , -0.0659914 , ..., -0.05751763,\n",
       "           0.03184837, -0.00726108],\n",
       "         [-0.01115589,  0.01845246, -0.07346421, ..., -0.05157716,\n",
       "          -0.04144506,  0.02702975],\n",
       "         ...,\n",
       "         [-0.00517053, -0.05340791,  0.00490244, ..., -0.01363501,\n",
       "          -0.01780003,  0.0798017 ],\n",
       "         [ 0.06036546,  0.0513993 ,  0.00847645, ...,  0.04649899,\n",
       "          -0.03593788, -0.01710542],\n",
       "         [-0.00185297, -0.01619217, -0.00433026, ...,  0.08411966,\n",
       "           0.01576614,  0.07438486]]], dtype=float32),\n",
       " array([0., 0., 0., 0., 0., 0., 0., 0., 0., 0., 0., 0., 0., 0., 0., 0., 0.,\n",
       "        0., 0., 0., 0., 0., 0., 0., 0., 0., 0., 0., 0., 0., 0., 0., 0., 0.,\n",
       "        0., 0., 0., 0., 0., 0., 0., 0., 0., 0., 0., 0., 0., 0., 0., 0., 0.,\n",
       "        0., 0., 0., 0., 0., 0., 0., 0., 0., 0., 0., 0., 0., 0., 0., 0., 0.,\n",
       "        0., 0., 0., 0., 0., 0., 0., 0., 0., 0., 0., 0., 0., 0., 0., 0., 0.,\n",
       "        0., 0., 0., 0., 0., 0., 0., 0., 0., 0., 0., 0., 0., 0., 0., 0., 0.,\n",
       "        0., 0., 0., 0., 0., 0., 0., 0., 0., 0., 0., 0., 0., 0., 0., 0., 0.,\n",
       "        0., 0., 0., 0., 0., 0., 0., 0., 0., 0., 0., 0., 0., 0., 0., 0., 0.,\n",
       "        0., 0., 0., 0., 0., 0., 0., 0., 0., 0., 0., 0., 0., 0., 0., 0., 0.,\n",
       "        0., 0., 0., 0., 0., 0., 0., 0., 0., 0., 0., 0., 0., 0., 0., 0., 0.,\n",
       "        0., 0., 0., 0., 0., 0., 0., 0., 0., 0., 0., 0., 0., 0., 0., 0., 0.,\n",
       "        0., 0., 0., 0., 0., 0., 0., 0., 0., 0., 0., 0., 0., 0., 0., 0., 0.,\n",
       "        0., 0., 0., 0., 0., 0., 0., 0., 0., 0., 0., 0., 0., 0., 0., 0., 0.,\n",
       "        0., 0., 0., 0., 0., 0., 0., 0., 0., 0., 0., 0., 0., 0., 0., 0., 0.,\n",
       "        0., 0., 0., 0., 0., 0., 0., 0., 0., 0., 0., 0., 0., 0., 0., 0., 0.,\n",
       "        0.], dtype=float32),\n",
       " array([[ 1.1568267e-03, -1.2317213e-03, -3.1458307e-04,  1.4198984e-03,\n",
       "         -2.1684084e-03],\n",
       "        [-1.9566719e-03,  7.4078236e-04,  2.2302230e-03,  4.9035181e-04,\n",
       "         -2.4008052e-04],\n",
       "        [-9.3424204e-04, -9.8595791e-04, -1.1056040e-03, -5.4981327e-05,\n",
       "          1.7954882e-03],\n",
       "        ...,\n",
       "        [-1.5418023e-03, -2.8141821e-03,  1.0772052e-03,  1.2679442e-03,\n",
       "         -8.4595312e-04],\n",
       "        [ 1.0233501e-03,  2.3177483e-03,  6.0977065e-04, -8.7931752e-05,\n",
       "          2.4301258e-03],\n",
       "        [-2.2078354e-03, -2.7895020e-03, -2.1910653e-03, -2.9202129e-03,\n",
       "         -9.2800963e-04]], dtype=float32),\n",
       " array([0., 0., 0., 0., 0.], dtype=float32)]"
      ]
     },
     "execution_count": 49,
     "metadata": {},
     "output_type": "execute_result"
    }
   ],
   "source": [
    "wights = model.get_weights()\n",
    "wights"
   ]
  },
  {
   "cell_type": "code",
   "execution_count": 50,
   "metadata": {
    "scrolled": true
   },
   "outputs": [
    {
     "data": {
      "image/png": "[encoded data removed]",
      "text/plain": [
       "<IPython.core.display.Image object>"
      ]
     },
     "execution_count": 50,
     "metadata": {},
     "output_type": "execute_result"
    }
   ],
   "source": [
    "from tensorflow.keras.utils import plot_model\n",
    "plot_model(model, show_shapes=True)"
   ]
  },
  {
   "cell_type": "code",
   "execution_count": 51,
   "metadata": {
    "scrolled": true
   },
   "outputs": [
    {
     "name": "stdout",
     "output_type": "stream",
     "text": [
      "Epoch 1/40\n",
      "5/5 - 11s - loss: 7.9636 - sparse_categorical_accuracy: 0.4178\n",
      "Epoch 2/40\n",
      "5/5 - 10s - loss: 0.5597 - sparse_categorical_accuracy: 0.8904\n",
      "Epoch 3/40\n",
      "5/5 - 10s - loss: 0.1355 - sparse_categorical_accuracy: 0.9795\n",
      "Epoch 4/40\n",
      "5/5 - 9s - loss: 0.0721 - sparse_categorical_accuracy: 0.9863\n",
      "Epoch 5/40\n",
      "5/5 - 13s - loss: 0.0560 - sparse_categorical_accuracy: 0.9863\n",
      "Epoch 6/40\n",
      "5/5 - 10s - loss: 0.0381 - sparse_categorical_accuracy: 0.9932\n",
      "Epoch 7/40\n",
      "5/5 - 10s - loss: 0.0282 - sparse_categorical_accuracy: 0.9932\n",
      "Epoch 8/40\n",
      "5/5 - 11s - loss: 0.0284 - sparse_categorical_accuracy: 0.9932\n",
      "Epoch 9/40\n",
      "5/5 - 11s - loss: 0.0205 - sparse_categorical_accuracy: 0.9932\n",
      "Epoch 10/40\n",
      "5/5 - 9s - loss: 0.0133 - sparse_categorical_accuracy: 0.9932\n",
      "Epoch 11/40\n",
      "5/5 - 10s - loss: 0.0100 - sparse_categorical_accuracy: 1.0000\n",
      "Epoch 12/40\n",
      "5/5 - 11s - loss: 0.0071 - sparse_categorical_accuracy: 0.9932\n",
      "Epoch 13/40\n",
      "5/5 - 10s - loss: 4.9997 - sparse_categorical_accuracy: 0.8973\n",
      "Epoch 14/40\n",
      "5/5 - 11s - loss: 0.0111 - sparse_categorical_accuracy: 0.9932\n",
      "Epoch 15/40\n",
      "5/5 - 9s - loss: 0.0069 - sparse_categorical_accuracy: 1.0000\n",
      "Epoch 16/40\n",
      "5/5 - 9s - loss: 0.0063 - sparse_categorical_accuracy: 1.0000\n",
      "Epoch 17/40\n",
      "5/5 - 9s - loss: 0.0050 - sparse_categorical_accuracy: 1.0000\n",
      "Epoch 18/40\n",
      "5/5 - 9s - loss: 0.0051 - sparse_categorical_accuracy: 1.0000\n",
      "Epoch 19/40\n",
      "5/5 - 9s - loss: 0.0067 - sparse_categorical_accuracy: 1.0000\n",
      "Epoch 20/40\n",
      "5/5 - 8s - loss: 0.0044 - sparse_categorical_accuracy: 1.0000\n",
      "Epoch 21/40\n",
      "5/5 - 10s - loss: 0.0029 - sparse_categorical_accuracy: 1.0000\n",
      "Epoch 22/40\n",
      "5/5 - 10s - loss: 0.0024 - sparse_categorical_accuracy: 1.0000\n",
      "Epoch 23/40\n",
      "5/5 - 10s - loss: 0.0019 - sparse_categorical_accuracy: 1.0000\n",
      "Epoch 24/40\n",
      "5/5 - 10s - loss: 0.0014 - sparse_categorical_accuracy: 1.0000\n",
      "Epoch 25/40\n",
      "5/5 - 9s - loss: 0.0011 - sparse_categorical_accuracy: 1.0000\n",
      "Epoch 26/40\n",
      "5/5 - 9s - loss: 7.3521e-04 - sparse_categorical_accuracy: 1.0000\n",
      "Epoch 27/40\n",
      "5/5 - 9s - loss: 5.4500e-04 - sparse_categorical_accuracy: 1.0000\n",
      "Epoch 28/40\n",
      "5/5 - 9s - loss: 3.6871e-04 - sparse_categorical_accuracy: 1.0000\n",
      "Epoch 29/40\n",
      "5/5 - 10s - loss: 2.7994e-04 - sparse_categorical_accuracy: 1.0000\n",
      "Epoch 30/40\n",
      "5/5 - 10s - loss: 1.7623e-04 - sparse_categorical_accuracy: 1.0000\n",
      "Epoch 31/40\n",
      "5/5 - 9s - loss: 1.1199e-04 - sparse_categorical_accuracy: 1.0000\n",
      "Epoch 32/40\n",
      "5/5 - 9s - loss: 8.0300e-05 - sparse_categorical_accuracy: 1.0000\n",
      "Epoch 33/40\n",
      "5/5 - 10s - loss: 5.4142e-05 - sparse_categorical_accuracy: 1.0000\n",
      "Epoch 34/40\n",
      "5/5 - 9s - loss: 3.6605e-05 - sparse_categorical_accuracy: 1.0000\n",
      "Epoch 35/40\n",
      "5/5 - 9s - loss: 2.2293e-05 - sparse_categorical_accuracy: 1.0000\n",
      "Epoch 36/40\n",
      "5/5 - 9s - loss: 1.6188e-05 - sparse_categorical_accuracy: 1.0000\n",
      "Epoch 37/40\n",
      "5/5 - 10s - loss: 1.1593e-05 - sparse_categorical_accuracy: 1.0000\n",
      "Epoch 38/40\n",
      "5/5 - 9s - loss: 12.3212 - sparse_categorical_accuracy: 0.8082\n",
      "Epoch 39/40\n",
      "5/5 - 8s - loss: 5.5747e-04 - sparse_categorical_accuracy: 1.0000\n",
      "Epoch 40/40\n",
      "5/5 - 9s - loss: 4.2432e-04 - sparse_categorical_accuracy: 1.0000\n"
     ]
    }
   ],
   "source": [
    "mod = model.fit(X_train,\n",
    "               Y_train, epochs=40, batch_size= 32, verbose=2 , \n",
    "                callbacks=[callback, print_weights, model_check])"
   ]
  },
  {
   "cell_type": "code",
   "execution_count": 52,
   "metadata": {},
   "outputs": [
    {
     "data": {
      "text/plain": [
       "40"
      ]
     },
     "execution_count": 52,
     "metadata": {},
     "output_type": "execute_result"
    }
   ],
   "source": [
    "len(wie_by_epoch)"
   ]
  },
  {
   "cell_type": "code",
   "execution_count": 53,
   "metadata": {},
   "outputs": [],
   "source": [
    "#120 +21\n",
    "#model.set_weights(wie_by_epoch[5])\n",
    "#mod.history.get('sparse_categorical_accuracy')"
   ]
  },
  {
   "cell_type": "code",
   "execution_count": 54,
   "metadata": {},
   "outputs": [
    {
     "name": "stdout",
     "output_type": "stream",
     "text": [
      "2/2 - 0s - loss: 0.1154 - sparse_categorical_accuracy: 0.9459\n"
     ]
    },
    {
     "data": {
      "text/plain": [
       "[0.11535856872797012, 0.9459459185600281]"
      ]
     },
     "execution_count": 54,
     "metadata": {},
     "output_type": "execute_result"
    }
   ],
   "source": [
    "scores = model.evaluate(X_test,Y_test, verbose=2)\n",
    "scores"
   ]
  },
  {
   "cell_type": "code",
   "execution_count": 55,
   "metadata": {},
   "outputs": [
    {
     "data": {
      "text/plain": [
       "{'loss': 0.11535856872797012,\n",
       " 'sparse_categorical_accuracy': 0.9459459185600281}"
      ]
     },
     "execution_count": 55,
     "metadata": {},
     "output_type": "execute_result"
    }
   ],
   "source": [
    "dict(zip(model.metrics_names, scores))"
   ]
  },
  {
   "cell_type": "code",
   "execution_count": 56,
   "metadata": {},
   "outputs": [
    {
     "data": {
      "image/png": "[encoded data removed]",
      "text/plain": [
       "<Figure size 432x288 with 2 Axes>"
      ]
     },
     "metadata": {
      "needs_background": "light"
     },
     "output_type": "display_data"
    }
   ],
   "source": [
    "from matplotlib import pyplot\n",
    "# plot loss during training\n",
    "pyplot.subplot(211)\n",
    "pyplot.title('Loss')\n",
    "pyplot.plot(mod.history['loss'], label='train')\n",
    "#pyplot.plot(mod.history['val_loss'], label='test')\n",
    "pyplot.legend()\n",
    "# plot accuracy during training\n",
    "pyplot.subplot(212)\n",
    "pyplot.title('Accuracy')\n",
    "pyplot.plot(mod.history['sparse_categorical_accuracy'], label='train')\n",
    "#pyplot.plot(mod.history['val_accuracy'], label='test')\n",
    "pyplot.legend()\n",
    "pyplot.show()"
   ]
  },
  {
   "cell_type": "code",
   "execution_count": 57,
   "metadata": {},
   "outputs": [],
   "source": [
    "# predict probabilities for test set\n",
    "yhat_probs = model.predict(X_test.astype('float32'), verbose=0)\n",
    "# predict crisp classes for test set\n",
    "#yhat_classes = model.predict_classes(X_test, verbose=0)\n",
    "yhat_classes = np.argmax(yhat_probs,axis=1)"
   ]
  },
  {
   "cell_type": "code",
   "execution_count": 58,
   "metadata": {},
   "outputs": [],
   "source": [
    "from sklearn.datasets import make_circles\n",
    "from sklearn.metrics import accuracy_score\n",
    "from sklearn.metrics import precision_score\n",
    "from sklearn.metrics import recall_score\n",
    "from sklearn.metrics import f1_score\n",
    "from sklearn.metrics import cohen_kappa_score\n",
    "from sklearn.metrics import roc_auc_score\n",
    "from sklearn.metrics import confusion_matrix\n",
    "from sklearn.metrics import roc_curve\n"
   ]
  },
  {
   "cell_type": "code",
   "execution_count": 59,
   "metadata": {},
   "outputs": [
    {
     "name": "stdout",
     "output_type": "stream",
     "text": [
      "Accuracy: 0.945946\n",
      "Precision: 0.979167\n",
      "Recall: 0.866667\n",
      "F1 score: 0.911353\n"
     ]
    }
   ],
   "source": [
    "# accuracy: (tp + tn) / (p + n)\n",
    "accuracy = accuracy_score(Y_test, yhat_classes)\n",
    "print('Accuracy: %f' % accuracy)\n",
    "# precision tp / (tp + fp)\n",
    "precision = precision_score(Y_test, yhat_classes, average='macro')\n",
    "print('Precision: %f' % precision)\n",
    "# recall: tp / (tp + fn)\n",
    "recall = recall_score(Y_test, yhat_classes,average='macro')\n",
    "print('Recall: %f' % recall)\n",
    "# f1: 2 tp / (2 tp + fp + fn)\n",
    "f1 = f1_score(Y_test, yhat_classes, average='macro')\n",
    "print('F1 score: %f' % f1)"
   ]
  },
  {
   "cell_type": "code",
   "execution_count": 60,
   "metadata": {},
   "outputs": [
    {
     "name": "stdout",
     "output_type": "stream",
     "text": [
      "Cohens kappa: 0.903394\n",
      "[[22  0  0  0]\n",
      " [ 1  4  0  0]\n",
      " [ 1  0  2  0]\n",
      " [ 0  0  0  7]]\n"
     ]
    }
   ],
   "source": [
    "# kappa\n",
    "kappa = cohen_kappa_score(Y_test, yhat_classes)\n",
    "print('Cohens kappa: %f' % kappa)\n",
    "# ROC AUC\n",
    "#fprate, tprate, thresholds = roc_curve(Y_test, yhat_probs, average = 'macro')\n",
    "#print('ROC AUC: %f' % thresholds)\n",
    "# confusion matrix\n",
    "matrix = confusion_matrix(Y_test, yhat_classes)\n",
    "print(matrix)"
   ]
  },
  {
   "cell_type": "code",
   "execution_count": 61,
   "metadata": {},
   "outputs": [
    {
     "name": "stderr",
     "output_type": "stream",
     "text": [
      "C:\\Users\\hp\\Anaconda3\\lib\\site-packages\\sklearn\\metrics\\ranking.py:659: UndefinedMetricWarning: No positive samples in y_true, true positive value should be meaningless\n",
      "  UndefinedMetricWarning)\n"
     ]
    }
   ],
   "source": [
    "fpr = {}\n",
    "tpr = {}\n",
    "thresh ={}\n",
    "\n",
    "n_class = 5\n",
    "\n",
    "for i in range(n_class):    \n",
    "    fpr[i], tpr[i], thresh[i] = roc_curve(Y_test, yhat_classes, pos_label=i)"
   ]
  },
  {
   "cell_type": "code",
   "execution_count": 62,
   "metadata": {},
   "outputs": [
    {
     "data": {
      "image/png": "[encoded data removed]",
      "text/plain": [
       "<Figure size 432x288 with 1 Axes>"
      ]
     },
     "metadata": {
      "needs_background": "light"
     },
     "output_type": "display_data"
    }
   ],
   "source": [
    "# plotting    \n",
    "plt.plot(fpr[0], tpr[0], linestyle='--',color='orange', label='Class 0 vs Rest')\n",
    "plt.plot(fpr[1], tpr[1], linestyle='--',color='green', label='Class 1 vs Rest')\n",
    "plt.plot(fpr[2], tpr[2], linestyle='--',color='blue', label='Class 2 vs Rest')\n",
    "plt.plot(fpr[3], tpr[3], linestyle='--',color='red', label='Class 3 vs Rest')\n",
    "plt.plot(fpr[4], tpr[4], linestyle='--',color='black', label='Class 4 vs Rest')\n",
    "plt.title('Multiclass ROC curve')\n",
    "plt.xlabel('False Positive Rate')\n",
    "plt.ylabel('True Positive rate')\n",
    "plt.legend(loc='best')\n",
    "plt.savefig('Multiclass ROC',dpi=300); "
   ]
  },
  {
   "cell_type": "code",
   "execution_count": 63,
   "metadata": {},
   "outputs": [
    {
     "name": "stdout",
     "output_type": "stream",
     "text": [
      "Confusion matrix : \n",
      " [[22  0  0  0]\n",
      " [ 1  4  0  0]\n",
      " [ 1  0  2  0]\n",
      " [ 0  0  0  7]]\n"
     ]
    }
   ],
   "source": [
    "from sklearn.metrics import confusion_matrix\n",
    "from sklearn.metrics import classification_report\n",
    "matrix = confusion_matrix(Y_test, yhat_classes, labels= [0, 1, 3, 4])\n",
    "print('Confusion matrix : \\n',matrix)"
   ]
  },
  {
   "cell_type": "code",
   "execution_count": 64,
   "metadata": {},
   "outputs": [
    {
     "name": "stdout",
     "output_type": "stream",
     "text": [
      "Classification report : \n",
      "               precision    recall  f1-score   support\n",
      "\n",
      "           0       0.92      1.00      0.96        22\n",
      "           1       1.00      0.80      0.89         5\n",
      "           3       1.00      0.67      0.80         3\n",
      "           4       1.00      1.00      1.00         7\n",
      "\n",
      "    accuracy                           0.95        37\n",
      "   macro avg       0.98      0.87      0.91        37\n",
      "weighted avg       0.95      0.95      0.94        37\n",
      "\n"
     ]
    }
   ],
   "source": [
    "matrix = classification_report(Y_test,yhat_classes, labels= [0, 1, 3, 4])\n",
    "print('Classification report : \\n',matrix)"
   ]
  },
  {
   "cell_type": "code",
   "execution_count": 65,
   "metadata": {},
   "outputs": [
    {
     "name": "stdout",
     "output_type": "stream",
     "text": [
      "INFO:tensorflow:Assets written to: ./models/IP address/CNN-DBN/CNN\\assets\n"
     ]
    }
   ],
   "source": [
    "model.save('./models/IP address/CNN-DBN/CNN')"
   ]
  },
  {
   "cell_type": "code",
   "execution_count": 66,
   "metadata": {},
   "outputs": [],
   "source": [
    "#Feature extracted from feature extractor part of deep learning model\n",
    "X_ext = feature_extractor.predict(X_train)\n",
    "X_ext_test = feature_extractor.predict(X_test)"
   ]
  },
  {
   "cell_type": "code",
   "execution_count": 67,
   "metadata": {},
   "outputs": [
    {
     "name": "stdout",
     "output_type": "stream",
     "text": [
      "False\n",
      "False\n",
      "False\n",
      "False\n",
      "False\n",
      "False\n",
      "False\n",
      "False\n",
      "False\n",
      "False\n",
      "False\n",
      "False\n",
      "False\n",
      "False\n",
      "False\n",
      "False\n",
      "False\n",
      "False\n",
      "False\n",
      "False\n",
      "False\n",
      "False\n",
      "False\n",
      "False\n",
      "False\n",
      "False\n",
      "False\n",
      "False\n",
      "False\n",
      "False\n",
      "False\n",
      "False\n",
      "False\n",
      "False\n",
      "False\n",
      "False\n",
      "False\n",
      "False\n",
      "False\n",
      "False\n",
      "False\n",
      "False\n",
      "False\n",
      "False\n",
      "False\n",
      "False\n",
      "False\n",
      "False\n",
      "False\n",
      "False\n",
      "False\n",
      "False\n",
      "False\n",
      "False\n",
      "False\n",
      "False\n",
      "False\n",
      "False\n",
      "False\n",
      "False\n",
      "False\n",
      "False\n",
      "False\n",
      "False\n",
      "False\n",
      "False\n",
      "False\n",
      "False\n",
      "False\n",
      "False\n",
      "False\n",
      "False\n",
      "False\n",
      "False\n",
      "False\n",
      "False\n",
      "False\n",
      "False\n",
      "False\n",
      "False\n",
      "False\n",
      "False\n",
      "False\n",
      "False\n",
      "False\n",
      "False\n",
      "False\n",
      "False\n",
      "False\n",
      "False\n",
      "False\n",
      "False\n",
      "False\n",
      "False\n",
      "False\n",
      "False\n",
      "False\n",
      "False\n",
      "False\n",
      "False\n",
      "False\n",
      "False\n",
      "False\n",
      "False\n",
      "False\n",
      "False\n",
      "False\n",
      "False\n",
      "False\n",
      "False\n",
      "False\n",
      "False\n",
      "False\n",
      "False\n",
      "False\n",
      "False\n",
      "False\n",
      "False\n",
      "False\n",
      "False\n",
      "False\n",
      "False\n",
      "False\n",
      "False\n",
      "False\n",
      "False\n",
      "False\n",
      "False\n",
      "False\n",
      "False\n",
      "False\n",
      "False\n",
      "False\n",
      "False\n",
      "False\n",
      "False\n",
      "False\n",
      "False\n",
      "False\n",
      "False\n",
      "False\n",
      "False\n",
      "False\n",
      "False\n",
      "False\n",
      "False\n"
     ]
    }
   ],
   "source": [
    "for i in X_ext:\n",
    "    print(f'{np.isnan(i).any()}')"
   ]
  },
  {
   "cell_type": "code",
   "execution_count": 68,
   "metadata": {},
   "outputs": [
    {
     "name": "stdout",
     "output_type": "stream",
     "text": [
      "WARNING:tensorflow:From C:\\Users\\hp\\AppData\\Roaming\\Python\\Python37\\site-packages\\tensorflow\\python\\compat\\v2_compat.py:101: disable_resource_variables (from tensorflow.python.ops.variable_scope) is deprecated and will be removed in a future version.\n",
      "Instructions for updating:\n",
      "non-resource variables are not supported in the long term\n"
     ]
    }
   ],
   "source": [
    "from dbn.tensorflow import SupervisedDBNClassification"
   ]
  },
  {
   "cell_type": "code",
   "execution_count": 83,
   "metadata": {},
   "outputs": [],
   "source": [
    "classifier = SupervisedDBNClassification(hidden_layers_structure=[128, 64],\n",
    "                                         learning_rate_rbm=0.01,\n",
    "                                         learning_rate=0.02,\n",
    "                                         n_epochs_rbm=32,\n",
    "                                         n_iter_backprop=512,\n",
    "                                         batch_size=32,\n",
    "                                         activation_function='relu',\n",
    "                                         dropout_p=0.01)"
   ]
  },
  {
   "cell_type": "code",
   "execution_count": 82,
   "metadata": {},
   "outputs": [
    {
     "data": {
      "text/plain": [
       "3362"
      ]
     },
     "execution_count": 82,
     "metadata": {},
     "output_type": "execute_result"
    }
   ],
   "source": [
    "del classifier\n",
    "gc.collect()"
   ]
  },
  {
   "cell_type": "code",
   "execution_count": 84,
   "metadata": {
    "scrolled": true
   },
   "outputs": [
    {
     "name": "stdout",
     "output_type": "stream",
     "text": [
      "[START] Pre-training step:\n",
      ">> Epoch 1 finished \tRBM Reconstruction error 88675.890625\n",
      ">> Epoch 2 finished \tRBM Reconstruction error 1237868.000000\n",
      ">> Epoch 3 finished \tRBM Reconstruction error 1323863.875000\n",
      ">> Epoch 4 finished \tRBM Reconstruction error 1471001.000000\n",
      ">> Epoch 5 finished \tRBM Reconstruction error 1364604.000000\n",
      ">> Epoch 6 finished \tRBM Reconstruction error 1187400.500000\n",
      ">> Epoch 7 finished \tRBM Reconstruction error 1484209.375000\n",
      ">> Epoch 8 finished \tRBM Reconstruction error 1625549.750000\n",
      ">> Epoch 9 finished \tRBM Reconstruction error 1854056.750000\n",
      ">> Epoch 10 finished \tRBM Reconstruction error 1770921.250000\n",
      ">> Epoch 11 finished \tRBM Reconstruction error 1852081.750000\n",
      ">> Epoch 12 finished \tRBM Reconstruction error 2150649.750000\n",
      ">> Epoch 13 finished \tRBM Reconstruction error 2246628.000000\n",
      ">> Epoch 14 finished \tRBM Reconstruction error 2314853.500000\n",
      ">> Epoch 15 finished \tRBM Reconstruction error 2474630.250000\n",
      ">> Epoch 16 finished \tRBM Reconstruction error 2490106.250000\n",
      ">> Epoch 17 finished \tRBM Reconstruction error 2441664.500000\n",
      ">> Epoch 18 finished \tRBM Reconstruction error 2493955.750000\n",
      ">> Epoch 19 finished \tRBM Reconstruction error 2526781.250000\n",
      ">> Epoch 20 finished \tRBM Reconstruction error 2665469.000000\n",
      ">> Epoch 21 finished \tRBM Reconstruction error 3304254.250000\n",
      ">> Epoch 22 finished \tRBM Reconstruction error 3142913.500000\n",
      ">> Epoch 23 finished \tRBM Reconstruction error 2950137.500000\n",
      ">> Epoch 24 finished \tRBM Reconstruction error 3195008.000000\n",
      ">> Epoch 25 finished \tRBM Reconstruction error 3200669.000000\n",
      ">> Epoch 26 finished \tRBM Reconstruction error 3579165.750000\n",
      ">> Epoch 27 finished \tRBM Reconstruction error 3924252.000000\n",
      ">> Epoch 28 finished \tRBM Reconstruction error 4052248.000000\n",
      ">> Epoch 29 finished \tRBM Reconstruction error 3988015.000000\n",
      ">> Epoch 30 finished \tRBM Reconstruction error 4494104.500000\n",
      ">> Epoch 31 finished \tRBM Reconstruction error 4546776.500000\n",
      ">> Epoch 32 finished \tRBM Reconstruction error 4976939.000000\n",
      ">> Epoch 1 finished \tRBM Reconstruction error 38210908160.000000\n",
      ">> Epoch 2 finished \tRBM Reconstruction error 63421677568.000000\n",
      ">> Epoch 3 finished \tRBM Reconstruction error 54432559104.000000\n",
      ">> Epoch 4 finished \tRBM Reconstruction error 41295011840.000000\n",
      ">> Epoch 5 finished \tRBM Reconstruction error 57189257216.000000\n",
      ">> Epoch 6 finished \tRBM Reconstruction error 62402453504.000000\n",
      ">> Epoch 7 finished \tRBM Reconstruction error 49773215744.000000\n",
      ">> Epoch 8 finished \tRBM Reconstruction error 52379672576.000000\n",
      ">> Epoch 9 finished \tRBM Reconstruction error 52276006912.000000\n",
      ">> Epoch 10 finished \tRBM Reconstruction error 60044693504.000000\n",
      ">> Epoch 11 finished \tRBM Reconstruction error 69567619072.000000\n",
      ">> Epoch 12 finished \tRBM Reconstruction error 91179655168.000000\n",
      ">> Epoch 13 finished \tRBM Reconstruction error 77343850496.000000\n",
      ">> Epoch 14 finished \tRBM Reconstruction error 89425739776.000000\n",
      ">> Epoch 15 finished \tRBM Reconstruction error 105588072448.000000\n",
      ">> Epoch 16 finished \tRBM Reconstruction error 84776935424.000000\n",
      ">> Epoch 17 finished \tRBM Reconstruction error 114145312768.000000\n",
      ">> Epoch 18 finished \tRBM Reconstruction error 122691723264.000000\n",
      ">> Epoch 19 finished \tRBM Reconstruction error 113154826240.000000\n",
      ">> Epoch 20 finished \tRBM Reconstruction error 149322448896.000000\n",
      ">> Epoch 21 finished \tRBM Reconstruction error 145176330240.000000\n",
      ">> Epoch 22 finished \tRBM Reconstruction error 142446919680.000000\n",
      ">> Epoch 23 finished \tRBM Reconstruction error 143880404992.000000\n",
      ">> Epoch 24 finished \tRBM Reconstruction error 154337050624.000000\n",
      ">> Epoch 25 finished \tRBM Reconstruction error 184692883456.000000\n",
      ">> Epoch 26 finished \tRBM Reconstruction error 167700545536.000000\n",
      ">> Epoch 27 finished \tRBM Reconstruction error 217648988160.000000\n",
      ">> Epoch 28 finished \tRBM Reconstruction error 193733509120.000000\n",
      ">> Epoch 29 finished \tRBM Reconstruction error 210800410624.000000\n",
      ">> Epoch 30 finished \tRBM Reconstruction error 199166017536.000000\n",
      ">> Epoch 31 finished \tRBM Reconstruction error 241854201856.000000\n",
      ">> Epoch 32 finished \tRBM Reconstruction error 277572321280.000000\n",
      "[END] Pre-training step\n",
      "[START] Fine tuning step:\n",
      ">> Epoch 0 finished \tANN training loss 0.715305\n",
      ">> Epoch 1 finished \tANN training loss 0.668699\n",
      ">> Epoch 2 finished \tANN training loss 0.570531\n",
      ">> Epoch 3 finished \tANN training loss 0.566124\n",
      ">> Epoch 4 finished \tANN training loss 0.556414\n",
      ">> Epoch 5 finished \tANN training loss 0.554327\n",
      ">> Epoch 6 finished \tANN training loss 0.552502\n",
      ">> Epoch 7 finished \tANN training loss 0.550593\n",
      ">> Epoch 8 finished \tANN training loss 0.549305\n",
      ">> Epoch 9 finished \tANN training loss 0.547273\n",
      ">> Epoch 10 finished \tANN training loss 0.546120\n",
      ">> Epoch 11 finished \tANN training loss 0.546569\n",
      ">> Epoch 12 finished \tANN training loss 0.544411\n",
      ">> Epoch 13 finished \tANN training loss 0.542894\n",
      ">> Epoch 14 finished \tANN training loss 0.541545\n",
      ">> Epoch 15 finished \tANN training loss 0.540205\n",
      ">> Epoch 16 finished \tANN training loss 0.539002\n",
      ">> Epoch 17 finished \tANN training loss 0.537830\n",
      ">> Epoch 18 finished \tANN training loss 0.536704\n",
      ">> Epoch 19 finished \tANN training loss 0.533248\n",
      ">> Epoch 20 finished \tANN training loss 0.530721\n",
      ">> Epoch 21 finished \tANN training loss 0.532611\n",
      ">> Epoch 22 finished \tANN training loss 0.529142\n",
      ">> Epoch 23 finished \tANN training loss 0.524358\n",
      ">> Epoch 24 finished \tANN training loss 0.522736\n",
      ">> Epoch 25 finished \tANN training loss 0.520890\n",
      ">> Epoch 26 finished \tANN training loss 0.522047\n",
      ">> Epoch 27 finished \tANN training loss 0.517934\n",
      ">> Epoch 28 finished \tANN training loss 0.517665\n",
      ">> Epoch 29 finished \tANN training loss 0.514531\n",
      ">> Epoch 30 finished \tANN training loss 0.513170\n",
      ">> Epoch 31 finished \tANN training loss 0.511574\n",
      ">> Epoch 32 finished \tANN training loss 0.510564\n",
      ">> Epoch 33 finished \tANN training loss 0.508799\n",
      ">> Epoch 34 finished \tANN training loss 0.507298\n",
      ">> Epoch 35 finished \tANN training loss 0.506170\n",
      ">> Epoch 36 finished \tANN training loss 0.504864\n",
      ">> Epoch 37 finished \tANN training loss 0.503182\n",
      ">> Epoch 38 finished \tANN training loss 0.501732\n",
      ">> Epoch 39 finished \tANN training loss 0.500601\n",
      ">> Epoch 40 finished \tANN training loss 0.499795\n",
      ">> Epoch 41 finished \tANN training loss 0.497777\n",
      ">> Epoch 42 finished \tANN training loss 0.496405\n",
      ">> Epoch 43 finished \tANN training loss 0.495327\n",
      ">> Epoch 44 finished \tANN training loss 0.493688\n",
      ">> Epoch 45 finished \tANN training loss 0.492370\n",
      ">> Epoch 46 finished \tANN training loss 0.492237\n",
      ">> Epoch 47 finished \tANN training loss 0.489851\n",
      ">> Epoch 48 finished \tANN training loss 0.490210\n",
      ">> Epoch 49 finished \tANN training loss 0.488675\n",
      ">> Epoch 50 finished \tANN training loss 0.487409\n",
      ">> Epoch 51 finished \tANN training loss 0.485669\n",
      ">> Epoch 52 finished \tANN training loss 0.484412\n",
      ">> Epoch 53 finished \tANN training loss 0.483203\n",
      ">> Epoch 54 finished \tANN training loss 0.482022\n",
      ">> Epoch 55 finished \tANN training loss 0.481086\n",
      ">> Epoch 56 finished \tANN training loss 0.479629\n",
      ">> Epoch 57 finished \tANN training loss 0.479772\n",
      ">> Epoch 58 finished \tANN training loss 0.477369\n",
      ">> Epoch 59 finished \tANN training loss 0.476171\n",
      ">> Epoch 60 finished \tANN training loss 0.474985\n",
      ">> Epoch 61 finished \tANN training loss 0.475331\n",
      ">> Epoch 62 finished \tANN training loss 0.472991\n",
      ">> Epoch 63 finished \tANN training loss 0.471860\n",
      ">> Epoch 64 finished \tANN training loss 0.470764\n",
      ">> Epoch 65 finished \tANN training loss 0.469681\n",
      ">> Epoch 66 finished \tANN training loss 0.468633\n",
      ">> Epoch 67 finished \tANN training loss 0.470356\n",
      ">> Epoch 68 finished \tANN training loss 0.467112\n",
      ">> Epoch 69 finished \tANN training loss 0.465816\n",
      ">> Epoch 70 finished \tANN training loss 0.464692\n",
      ">> Epoch 71 finished \tANN training loss 0.463686\n",
      ">> Epoch 72 finished \tANN training loss 0.464051\n",
      ">> Epoch 73 finished \tANN training loss 0.464384\n",
      ">> Epoch 74 finished \tANN training loss 0.460697\n",
      ">> Epoch 75 finished \tANN training loss 0.459631\n",
      ">> Epoch 76 finished \tANN training loss 0.458646\n",
      ">> Epoch 77 finished \tANN training loss 0.463326\n",
      ">> Epoch 78 finished \tANN training loss 0.456679\n",
      ">> Epoch 79 finished \tANN training loss 0.455673\n",
      ">> Epoch 80 finished \tANN training loss 0.454651\n",
      ">> Epoch 81 finished \tANN training loss 0.453693\n",
      ">> Epoch 82 finished \tANN training loss 0.454270\n"
     ]
    },
    {
     "name": "stdout",
     "output_type": "stream",
     "text": [
      ">> Epoch 83 finished \tANN training loss 0.452615\n",
      ">> Epoch 84 finished \tANN training loss 0.451032\n",
      ">> Epoch 85 finished \tANN training loss 0.450106\n",
      ">> Epoch 86 finished \tANN training loss 0.449208\n",
      ">> Epoch 87 finished \tANN training loss 0.448259\n",
      ">> Epoch 88 finished \tANN training loss 0.447362\n",
      ">> Epoch 89 finished \tANN training loss 0.446546\n",
      ">> Epoch 90 finished \tANN training loss 0.445556\n",
      ">> Epoch 91 finished \tANN training loss 0.444859\n",
      ">> Epoch 92 finished \tANN training loss 0.443764\n",
      ">> Epoch 93 finished \tANN training loss 0.444453\n",
      ">> Epoch 94 finished \tANN training loss 0.442697\n",
      ">> Epoch 95 finished \tANN training loss 0.441410\n",
      ">> Epoch 96 finished \tANN training loss 0.440405\n",
      ">> Epoch 97 finished \tANN training loss 0.439638\n",
      ">> Epoch 98 finished \tANN training loss 0.438818\n",
      ">> Epoch 99 finished \tANN training loss 0.439584\n",
      ">> Epoch 100 finished \tANN training loss 0.437329\n",
      ">> Epoch 101 finished \tANN training loss 0.436339\n",
      ">> Epoch 102 finished \tANN training loss 0.435539\n",
      ">> Epoch 103 finished \tANN training loss 0.434672\n",
      ">> Epoch 104 finished \tANN training loss 0.434013\n",
      ">> Epoch 105 finished \tANN training loss 0.433167\n",
      ">> Epoch 106 finished \tANN training loss 0.433651\n",
      ">> Epoch 107 finished \tANN training loss 0.430339\n",
      ">> Epoch 108 finished \tANN training loss 0.429532\n",
      ">> Epoch 109 finished \tANN training loss 0.428796\n",
      ">> Epoch 110 finished \tANN training loss 0.427917\n",
      ">> Epoch 111 finished \tANN training loss 0.427067\n",
      ">> Epoch 112 finished \tANN training loss 0.426302\n",
      ">> Epoch 113 finished \tANN training loss 0.425451\n",
      ">> Epoch 114 finished \tANN training loss 0.424888\n",
      ">> Epoch 115 finished \tANN training loss 0.424067\n",
      ">> Epoch 116 finished \tANN training loss 0.423205\n",
      ">> Epoch 117 finished \tANN training loss 0.422459\n",
      ">> Epoch 118 finished \tANN training loss 0.421657\n",
      ">> Epoch 119 finished \tANN training loss 0.423213\n",
      ">> Epoch 120 finished \tANN training loss 0.420461\n",
      ">> Epoch 121 finished \tANN training loss 0.419512\n",
      ">> Epoch 122 finished \tANN training loss 0.418616\n",
      ">> Epoch 123 finished \tANN training loss 0.418065\n",
      ">> Epoch 124 finished \tANN training loss 0.417323\n",
      ">> Epoch 125 finished \tANN training loss 0.416402\n",
      ">> Epoch 126 finished \tANN training loss 0.415593\n",
      ">> Epoch 127 finished \tANN training loss 0.414826\n",
      ">> Epoch 128 finished \tANN training loss 0.414384\n",
      ">> Epoch 129 finished \tANN training loss 0.413509\n",
      ">> Epoch 130 finished \tANN training loss 0.412832\n",
      ">> Epoch 131 finished \tANN training loss 0.412094\n",
      ">> Epoch 132 finished \tANN training loss 0.411431\n",
      ">> Epoch 133 finished \tANN training loss 0.410648\n",
      ">> Epoch 134 finished \tANN training loss 0.409884\n",
      ">> Epoch 135 finished \tANN training loss 0.409194\n",
      ">> Epoch 136 finished \tANN training loss 0.408489\n",
      ">> Epoch 137 finished \tANN training loss 0.407726\n",
      ">> Epoch 138 finished \tANN training loss 0.406986\n",
      ">> Epoch 139 finished \tANN training loss 0.406266\n",
      ">> Epoch 140 finished \tANN training loss 0.405607\n",
      ">> Epoch 141 finished \tANN training loss 0.405013\n",
      ">> Epoch 142 finished \tANN training loss 0.404277\n",
      ">> Epoch 143 finished \tANN training loss 0.403547\n",
      ">> Epoch 144 finished \tANN training loss 0.403844\n",
      ">> Epoch 145 finished \tANN training loss 0.402866\n",
      ">> Epoch 146 finished \tANN training loss 0.401849\n",
      ">> Epoch 147 finished \tANN training loss 0.401478\n",
      ">> Epoch 148 finished \tANN training loss 0.400497\n",
      ">> Epoch 149 finished \tANN training loss 0.399803\n",
      ">> Epoch 150 finished \tANN training loss 0.399085\n",
      ">> Epoch 151 finished \tANN training loss 0.398466\n",
      ">> Epoch 152 finished \tANN training loss 0.397864\n",
      ">> Epoch 153 finished \tANN training loss 0.397173\n",
      ">> Epoch 154 finished \tANN training loss 0.397781\n",
      ">> Epoch 155 finished \tANN training loss 0.395990\n",
      ">> Epoch 156 finished \tANN training loss 0.395266\n",
      ">> Epoch 157 finished \tANN training loss 0.394604\n",
      ">> Epoch 158 finished \tANN training loss 0.393997\n",
      ">> Epoch 159 finished \tANN training loss 0.393351\n",
      ">> Epoch 160 finished \tANN training loss 0.392691\n",
      ">> Epoch 161 finished \tANN training loss 0.392047\n",
      ">> Epoch 162 finished \tANN training loss 0.391411\n",
      ">> Epoch 163 finished \tANN training loss 0.390799\n",
      ">> Epoch 164 finished \tANN training loss 0.390393\n",
      ">> Epoch 165 finished \tANN training loss 0.389727\n",
      ">> Epoch 166 finished \tANN training loss 0.389067\n",
      ">> Epoch 167 finished \tANN training loss 0.388477\n",
      ">> Epoch 168 finished \tANN training loss 0.387846\n",
      ">> Epoch 169 finished \tANN training loss 0.387754\n",
      ">> Epoch 170 finished \tANN training loss 0.386953\n",
      ">> Epoch 171 finished \tANN training loss 0.386089\n",
      ">> Epoch 172 finished \tANN training loss 0.385727\n",
      ">> Epoch 173 finished \tANN training loss 0.384869\n",
      ">> Epoch 174 finished \tANN training loss 0.385636\n",
      ">> Epoch 175 finished \tANN training loss 0.383536\n",
      ">> Epoch 176 finished \tANN training loss 0.383015\n",
      ">> Epoch 177 finished \tANN training loss 0.382438\n",
      ">> Epoch 178 finished \tANN training loss 0.381938\n",
      ">> Epoch 179 finished \tANN training loss 0.384245\n",
      ">> Epoch 180 finished \tANN training loss 0.384764\n",
      ">> Epoch 181 finished \tANN training loss 0.383756\n",
      ">> Epoch 182 finished \tANN training loss 0.382806\n",
      ">> Epoch 183 finished \tANN training loss 0.382132\n",
      ">> Epoch 184 finished \tANN training loss 0.381577\n",
      ">> Epoch 185 finished \tANN training loss 0.381041\n",
      ">> Epoch 186 finished \tANN training loss 0.380828\n",
      ">> Epoch 187 finished \tANN training loss 0.380071\n",
      ">> Epoch 188 finished \tANN training loss 0.379435\n",
      ">> Epoch 189 finished \tANN training loss 0.378836\n",
      ">> Epoch 190 finished \tANN training loss 0.378279\n",
      ">> Epoch 191 finished \tANN training loss 0.377733\n",
      ">> Epoch 192 finished \tANN training loss 0.377144\n",
      ">> Epoch 193 finished \tANN training loss 0.376665\n",
      ">> Epoch 194 finished \tANN training loss 0.376125\n",
      ">> Epoch 195 finished \tANN training loss 0.375557\n",
      ">> Epoch 196 finished \tANN training loss 0.373639\n",
      ">> Epoch 197 finished \tANN training loss 0.371169\n",
      ">> Epoch 198 finished \tANN training loss 0.370626\n",
      ">> Epoch 199 finished \tANN training loss 0.370647\n",
      ">> Epoch 200 finished \tANN training loss 0.369531\n",
      ">> Epoch 201 finished \tANN training loss 0.369023\n",
      ">> Epoch 202 finished \tANN training loss 0.368428\n",
      ">> Epoch 203 finished \tANN training loss 0.368050\n",
      ">> Epoch 204 finished \tANN training loss 0.367330\n",
      ">> Epoch 205 finished \tANN training loss 0.366791\n",
      ">> Epoch 206 finished \tANN training loss 0.366214\n",
      ">> Epoch 207 finished \tANN training loss 0.366046\n",
      ">> Epoch 208 finished \tANN training loss 0.365457\n",
      ">> Epoch 209 finished \tANN training loss 0.364919\n",
      ">> Epoch 210 finished \tANN training loss 0.364116\n",
      ">> Epoch 211 finished \tANN training loss 0.363469\n",
      ">> Epoch 212 finished \tANN training loss 0.362853\n",
      ">> Epoch 213 finished \tANN training loss 0.362243\n",
      ">> Epoch 214 finished \tANN training loss 0.361654\n",
      ">> Epoch 215 finished \tANN training loss 0.361368\n",
      ">> Epoch 216 finished \tANN training loss 0.360620\n",
      ">> Epoch 217 finished \tANN training loss 0.359895\n",
      ">> Epoch 218 finished \tANN training loss 0.359259\n",
      ">> Epoch 219 finished \tANN training loss 0.358818\n",
      ">> Epoch 220 finished \tANN training loss 0.358227\n",
      ">> Epoch 221 finished \tANN training loss 0.357713\n",
      ">> Epoch 222 finished \tANN training loss 0.357478\n",
      ">> Epoch 223 finished \tANN training loss 0.356631\n",
      ">> Epoch 224 finished \tANN training loss 0.356029\n",
      ">> Epoch 225 finished \tANN training loss 0.355495\n",
      ">> Epoch 226 finished \tANN training loss 0.354811\n",
      ">> Epoch 227 finished \tANN training loss 0.354224\n",
      ">> Epoch 228 finished \tANN training loss 0.353988\n",
      ">> Epoch 229 finished \tANN training loss 0.353303\n",
      ">> Epoch 230 finished \tANN training loss 0.352668\n",
      ">> Epoch 231 finished \tANN training loss 0.352079\n",
      ">> Epoch 232 finished \tANN training loss 0.352026\n",
      ">> Epoch 233 finished \tANN training loss 0.350984\n",
      ">> Epoch 234 finished \tANN training loss 0.350278\n",
      ">> Epoch 235 finished \tANN training loss 0.349644\n",
      ">> Epoch 236 finished \tANN training loss 0.349114\n",
      ">> Epoch 237 finished \tANN training loss 0.348621\n",
      ">> Epoch 238 finished \tANN training loss 0.348184\n",
      ">> Epoch 239 finished \tANN training loss 0.347409\n",
      ">> Epoch 240 finished \tANN training loss 0.347108\n",
      ">> Epoch 241 finished \tANN training loss 0.346554\n",
      ">> Epoch 242 finished \tANN training loss 0.345667\n",
      ">> Epoch 243 finished \tANN training loss 0.344938\n",
      ">> Epoch 244 finished \tANN training loss 0.344280\n",
      ">> Epoch 245 finished \tANN training loss 0.343605\n",
      ">> Epoch 246 finished \tANN training loss 0.343499\n",
      ">> Epoch 247 finished \tANN training loss 0.342705\n"
     ]
    },
    {
     "name": "stdout",
     "output_type": "stream",
     "text": [
      ">> Epoch 248 finished \tANN training loss 0.342010\n",
      ">> Epoch 249 finished \tANN training loss 0.341383\n",
      ">> Epoch 250 finished \tANN training loss 0.340593\n",
      ">> Epoch 251 finished \tANN training loss 0.339950\n",
      ">> Epoch 252 finished \tANN training loss 0.339406\n",
      ">> Epoch 253 finished \tANN training loss 0.338794\n",
      ">> Epoch 254 finished \tANN training loss 0.338746\n",
      ">> Epoch 255 finished \tANN training loss 0.337347\n",
      ">> Epoch 256 finished \tANN training loss 0.336471\n",
      ">> Epoch 257 finished \tANN training loss 0.335800\n",
      ">> Epoch 258 finished \tANN training loss 0.335044\n",
      ">> Epoch 259 finished \tANN training loss 0.334593\n",
      ">> Epoch 260 finished \tANN training loss 0.334869\n",
      ">> Epoch 261 finished \tANN training loss 0.333949\n",
      ">> Epoch 262 finished \tANN training loss 0.332784\n",
      ">> Epoch 263 finished \tANN training loss 0.332067\n",
      ">> Epoch 264 finished \tANN training loss 0.332091\n",
      ">> Epoch 265 finished \tANN training loss 0.330491\n",
      ">> Epoch 266 finished \tANN training loss 0.329770\n",
      ">> Epoch 267 finished \tANN training loss 0.329663\n",
      ">> Epoch 268 finished \tANN training loss 0.328154\n",
      ">> Epoch 269 finished \tANN training loss 0.327423\n",
      ">> Epoch 270 finished \tANN training loss 0.329376\n",
      ">> Epoch 271 finished \tANN training loss 0.327730\n",
      ">> Epoch 272 finished \tANN training loss 0.326236\n",
      ">> Epoch 273 finished \tANN training loss 0.325369\n",
      ">> Epoch 274 finished \tANN training loss 0.324001\n",
      ">> Epoch 275 finished \tANN training loss 0.323088\n",
      ">> Epoch 276 finished \tANN training loss 0.322145\n",
      ">> Epoch 277 finished \tANN training loss 0.327954\n",
      ">> Epoch 278 finished \tANN training loss 0.322091\n",
      ">> Epoch 279 finished \tANN training loss 0.320891\n",
      ">> Epoch 280 finished \tANN training loss 0.320029\n",
      ">> Epoch 281 finished \tANN training loss 0.319338\n",
      ">> Epoch 282 finished \tANN training loss 0.317679\n",
      ">> Epoch 283 finished \tANN training loss 0.316490\n",
      ">> Epoch 284 finished \tANN training loss 0.326890\n",
      ">> Epoch 285 finished \tANN training loss 0.325286\n",
      ">> Epoch 286 finished \tANN training loss 0.323685\n",
      ">> Epoch 287 finished \tANN training loss 0.321512\n",
      ">> Epoch 288 finished \tANN training loss 0.319731\n",
      ">> Epoch 289 finished \tANN training loss 0.313525\n",
      ">> Epoch 290 finished \tANN training loss 0.312037\n",
      ">> Epoch 291 finished \tANN training loss 0.310614\n",
      ">> Epoch 292 finished \tANN training loss 0.309322\n",
      ">> Epoch 293 finished \tANN training loss 0.307872\n",
      ">> Epoch 294 finished \tANN training loss 0.306503\n",
      ">> Epoch 295 finished \tANN training loss 0.305132\n",
      ">> Epoch 296 finished \tANN training loss 0.304482\n",
      ">> Epoch 297 finished \tANN training loss 0.302721\n",
      ">> Epoch 298 finished \tANN training loss 0.301743\n",
      ">> Epoch 299 finished \tANN training loss 0.301748\n",
      ">> Epoch 300 finished \tANN training loss 0.299837\n",
      ">> Epoch 301 finished \tANN training loss 0.298505\n",
      ">> Epoch 302 finished \tANN training loss 0.296841\n",
      ">> Epoch 303 finished \tANN training loss 0.295695\n",
      ">> Epoch 304 finished \tANN training loss 0.294572\n",
      ">> Epoch 305 finished \tANN training loss 0.293224\n",
      ">> Epoch 306 finished \tANN training loss 0.293003\n",
      ">> Epoch 307 finished \tANN training loss 0.291782\n",
      ">> Epoch 308 finished \tANN training loss 0.290070\n",
      ">> Epoch 309 finished \tANN training loss 0.288989\n",
      ">> Epoch 310 finished \tANN training loss 0.287314\n",
      ">> Epoch 311 finished \tANN training loss 0.286312\n",
      ">> Epoch 312 finished \tANN training loss 0.284896\n",
      ">> Epoch 313 finished \tANN training loss 0.286396\n",
      ">> Epoch 314 finished \tANN training loss 0.282910\n",
      ">> Epoch 315 finished \tANN training loss 0.282539\n",
      ">> Epoch 316 finished \tANN training loss 0.280802\n",
      ">> Epoch 317 finished \tANN training loss 0.279270\n",
      ">> Epoch 318 finished \tANN training loss 0.278094\n",
      ">> Epoch 319 finished \tANN training loss 0.277037\n",
      ">> Epoch 320 finished \tANN training loss 0.276272\n",
      ">> Epoch 321 finished \tANN training loss 0.275330\n",
      ">> Epoch 322 finished \tANN training loss 0.273867\n",
      ">> Epoch 323 finished \tANN training loss 0.272550\n",
      ">> Epoch 324 finished \tANN training loss 0.271486\n",
      ">> Epoch 325 finished \tANN training loss 0.270432\n",
      ">> Epoch 326 finished \tANN training loss 0.269408\n",
      ">> Epoch 327 finished \tANN training loss 0.268915\n",
      ">> Epoch 328 finished \tANN training loss 0.267817\n",
      ">> Epoch 329 finished \tANN training loss 0.267109\n",
      ">> Epoch 330 finished \tANN training loss 0.265931\n",
      ">> Epoch 331 finished \tANN training loss 0.264827\n",
      ">> Epoch 332 finished \tANN training loss 0.264129\n",
      ">> Epoch 333 finished \tANN training loss 0.270397\n",
      ">> Epoch 334 finished \tANN training loss 0.267541\n",
      ">> Epoch 335 finished \tANN training loss 0.265857\n",
      ">> Epoch 336 finished \tANN training loss 0.264365\n",
      ">> Epoch 337 finished \tANN training loss 0.263116\n",
      ">> Epoch 338 finished \tANN training loss 0.262046\n",
      ">> Epoch 339 finished \tANN training loss 0.260758\n",
      ">> Epoch 340 finished \tANN training loss 0.259682\n",
      ">> Epoch 341 finished \tANN training loss 0.258704\n",
      ">> Epoch 342 finished \tANN training loss 0.257924\n",
      ">> Epoch 343 finished \tANN training loss 0.256759\n",
      ">> Epoch 344 finished \tANN training loss 0.255799\n",
      ">> Epoch 345 finished \tANN training loss 0.254068\n",
      ">> Epoch 346 finished \tANN training loss 0.253957\n",
      ">> Epoch 347 finished \tANN training loss 0.252538\n",
      ">> Epoch 348 finished \tANN training loss 0.251589\n",
      ">> Epoch 349 finished \tANN training loss 0.251158\n",
      ">> Epoch 350 finished \tANN training loss 0.250606\n",
      ">> Epoch 351 finished \tANN training loss 0.249588\n",
      ">> Epoch 352 finished \tANN training loss 0.248982\n",
      ">> Epoch 353 finished \tANN training loss 0.248197\n",
      ">> Epoch 354 finished \tANN training loss 0.247455\n",
      ">> Epoch 355 finished \tANN training loss 0.246748\n",
      ">> Epoch 356 finished \tANN training loss 0.246078\n",
      ">> Epoch 357 finished \tANN training loss 0.245482\n",
      ">> Epoch 358 finished \tANN training loss 0.244935\n",
      ">> Epoch 359 finished \tANN training loss 0.244218\n",
      ">> Epoch 360 finished \tANN training loss 0.243667\n",
      ">> Epoch 361 finished \tANN training loss 0.243059\n",
      ">> Epoch 362 finished \tANN training loss 0.242480\n",
      ">> Epoch 363 finished \tANN training loss 0.241956\n",
      ">> Epoch 364 finished \tANN training loss 0.241410\n",
      ">> Epoch 365 finished \tANN training loss 0.240850\n",
      ">> Epoch 366 finished \tANN training loss 0.240304\n",
      ">> Epoch 367 finished \tANN training loss 0.239759\n",
      ">> Epoch 368 finished \tANN training loss 0.239170\n",
      ">> Epoch 369 finished \tANN training loss 0.238586\n",
      ">> Epoch 370 finished \tANN training loss 0.238030\n",
      ">> Epoch 371 finished \tANN training loss 0.237432\n",
      ">> Epoch 372 finished \tANN training loss 0.236877\n",
      ">> Epoch 373 finished \tANN training loss 0.236354\n",
      ">> Epoch 374 finished \tANN training loss 0.235927\n",
      ">> Epoch 375 finished \tANN training loss 0.235617\n",
      ">> Epoch 376 finished \tANN training loss 0.234983\n",
      ">> Epoch 377 finished \tANN training loss 0.234372\n",
      ">> Epoch 378 finished \tANN training loss 0.233789\n",
      ">> Epoch 379 finished \tANN training loss 0.233213\n",
      ">> Epoch 380 finished \tANN training loss 0.232688\n",
      ">> Epoch 381 finished \tANN training loss 0.232374\n",
      ">> Epoch 382 finished \tANN training loss 0.231779\n",
      ">> Epoch 383 finished \tANN training loss 0.231264\n",
      ">> Epoch 384 finished \tANN training loss 0.230695\n",
      ">> Epoch 385 finished \tANN training loss 0.230185\n",
      ">> Epoch 386 finished \tANN training loss 0.230500\n",
      ">> Epoch 387 finished \tANN training loss 0.229388\n",
      ">> Epoch 388 finished \tANN training loss 0.229090\n",
      ">> Epoch 389 finished \tANN training loss 0.228323\n",
      ">> Epoch 390 finished \tANN training loss 0.228020\n",
      ">> Epoch 391 finished \tANN training loss 0.227184\n",
      ">> Epoch 392 finished \tANN training loss 0.226675\n",
      ">> Epoch 393 finished \tANN training loss 0.226186\n",
      ">> Epoch 394 finished \tANN training loss 0.225752\n",
      ">> Epoch 395 finished \tANN training loss 0.225226\n",
      ">> Epoch 396 finished \tANN training loss 0.224709\n",
      ">> Epoch 397 finished \tANN training loss 0.224322\n",
      ">> Epoch 398 finished \tANN training loss 0.223781\n",
      ">> Epoch 399 finished \tANN training loss 0.223673\n",
      ">> Epoch 400 finished \tANN training loss 0.222836\n",
      ">> Epoch 401 finished \tANN training loss 0.222443\n",
      ">> Epoch 402 finished \tANN training loss 0.221912\n",
      ">> Epoch 403 finished \tANN training loss 0.221405\n",
      ">> Epoch 404 finished \tANN training loss 0.220927\n",
      ">> Epoch 405 finished \tANN training loss 0.222842\n",
      ">> Epoch 406 finished \tANN training loss 0.220491\n",
      ">> Epoch 407 finished \tANN training loss 0.220052\n",
      ">> Epoch 408 finished \tANN training loss 0.219260\n",
      ">> Epoch 409 finished \tANN training loss 0.218628\n",
      ">> Epoch 410 finished \tANN training loss 0.218331\n",
      ">> Epoch 411 finished \tANN training loss 0.217802\n"
     ]
    },
    {
     "name": "stdout",
     "output_type": "stream",
     "text": [
      ">> Epoch 412 finished \tANN training loss 0.217275\n",
      ">> Epoch 413 finished \tANN training loss 0.216789\n",
      ">> Epoch 414 finished \tANN training loss 0.217116\n",
      ">> Epoch 415 finished \tANN training loss 0.215924\n",
      ">> Epoch 416 finished \tANN training loss 0.215374\n",
      ">> Epoch 417 finished \tANN training loss 0.214838\n",
      ">> Epoch 418 finished \tANN training loss 0.214288\n",
      ">> Epoch 419 finished \tANN training loss 0.213469\n",
      ">> Epoch 420 finished \tANN training loss 0.212809\n",
      ">> Epoch 421 finished \tANN training loss 0.213142\n",
      ">> Epoch 422 finished \tANN training loss 0.211097\n",
      ">> Epoch 423 finished \tANN training loss 0.210350\n",
      ">> Epoch 424 finished \tANN training loss 0.209735\n",
      ">> Epoch 425 finished \tANN training loss 0.208957\n",
      ">> Epoch 426 finished \tANN training loss 0.208839\n",
      ">> Epoch 427 finished \tANN training loss 0.207286\n",
      ">> Epoch 428 finished \tANN training loss 0.206503\n",
      ">> Epoch 429 finished \tANN training loss 0.205947\n",
      ">> Epoch 430 finished \tANN training loss 0.206937\n",
      ">> Epoch 431 finished \tANN training loss 0.205316\n",
      ">> Epoch 432 finished \tANN training loss 0.203661\n",
      ">> Epoch 433 finished \tANN training loss 0.202769\n",
      ">> Epoch 434 finished \tANN training loss 0.201834\n",
      ">> Epoch 435 finished \tANN training loss 0.202459\n",
      ">> Epoch 436 finished \tANN training loss 0.200546\n",
      ">> Epoch 437 finished \tANN training loss 0.200028\n",
      ">> Epoch 438 finished \tANN training loss 0.199805\n",
      ">> Epoch 439 finished \tANN training loss 0.200276\n",
      ">> Epoch 440 finished \tANN training loss 0.198249\n",
      ">> Epoch 441 finished \tANN training loss 0.196480\n",
      ">> Epoch 442 finished \tANN training loss 0.195223\n",
      ">> Epoch 443 finished \tANN training loss 0.195043\n",
      ">> Epoch 444 finished \tANN training loss 0.193391\n",
      ">> Epoch 445 finished \tANN training loss 0.193588\n",
      ">> Epoch 446 finished \tANN training loss 0.192175\n",
      ">> Epoch 447 finished \tANN training loss 0.190407\n",
      ">> Epoch 448 finished \tANN training loss 0.190267\n",
      ">> Epoch 449 finished \tANN training loss 0.190855\n",
      ">> Epoch 450 finished \tANN training loss 0.188793\n",
      ">> Epoch 451 finished \tANN training loss 0.186538\n",
      ">> Epoch 452 finished \tANN training loss 0.185729\n",
      ">> Epoch 453 finished \tANN training loss 0.184254\n",
      ">> Epoch 454 finished \tANN training loss 0.183944\n",
      ">> Epoch 455 finished \tANN training loss 0.182399\n",
      ">> Epoch 456 finished \tANN training loss 0.181414\n",
      ">> Epoch 457 finished \tANN training loss 0.180252\n",
      ">> Epoch 458 finished \tANN training loss 0.179285\n",
      ">> Epoch 459 finished \tANN training loss 0.179396\n",
      ">> Epoch 460 finished \tANN training loss 0.176761\n",
      ">> Epoch 461 finished \tANN training loss 0.174371\n",
      ">> Epoch 462 finished \tANN training loss 0.169119\n",
      ">> Epoch 463 finished \tANN training loss 0.167898\n",
      ">> Epoch 464 finished \tANN training loss 0.165364\n",
      ">> Epoch 465 finished \tANN training loss 0.173772\n",
      ">> Epoch 466 finished \tANN training loss 0.161319\n",
      ">> Epoch 467 finished \tANN training loss 0.161002\n",
      ">> Epoch 468 finished \tANN training loss 0.161920\n",
      ">> Epoch 469 finished \tANN training loss 0.157513\n",
      ">> Epoch 470 finished \tANN training loss 0.158020\n",
      ">> Epoch 471 finished \tANN training loss 0.154446\n",
      ">> Epoch 472 finished \tANN training loss 0.160119\n",
      ">> Epoch 473 finished \tANN training loss 0.149966\n",
      ">> Epoch 474 finished \tANN training loss 0.147384\n",
      ">> Epoch 475 finished \tANN training loss 0.155840\n",
      ">> Epoch 476 finished \tANN training loss 0.145208\n",
      ">> Epoch 477 finished \tANN training loss 0.143836\n",
      ">> Epoch 478 finished \tANN training loss 0.142831\n",
      ">> Epoch 479 finished \tANN training loss 0.139327\n",
      ">> Epoch 480 finished \tANN training loss 0.137238\n",
      ">> Epoch 481 finished \tANN training loss 0.138186\n",
      ">> Epoch 482 finished \tANN training loss 0.139304\n",
      ">> Epoch 483 finished \tANN training loss 0.137559\n",
      ">> Epoch 484 finished \tANN training loss 0.132969\n",
      ">> Epoch 485 finished \tANN training loss 0.130157\n",
      ">> Epoch 486 finished \tANN training loss 0.137206\n",
      ">> Epoch 487 finished \tANN training loss 0.127227\n",
      ">> Epoch 488 finished \tANN training loss 0.124976\n",
      ">> Epoch 489 finished \tANN training loss 0.132651\n",
      ">> Epoch 490 finished \tANN training loss 0.219885\n",
      ">> Epoch 491 finished \tANN training loss 0.212637\n",
      ">> Epoch 492 finished \tANN training loss 0.209720\n",
      ">> Epoch 493 finished \tANN training loss 0.208347\n",
      ">> Epoch 494 finished \tANN training loss 0.207207\n",
      ">> Epoch 495 finished \tANN training loss 0.220839\n",
      ">> Epoch 496 finished \tANN training loss 0.174963\n",
      ">> Epoch 497 finished \tANN training loss 0.163559\n",
      ">> Epoch 498 finished \tANN training loss 0.150632\n",
      ">> Epoch 499 finished \tANN training loss 0.146957\n",
      ">> Epoch 500 finished \tANN training loss 0.145226\n",
      ">> Epoch 501 finished \tANN training loss 0.146689\n",
      ">> Epoch 502 finished \tANN training loss 0.142040\n",
      ">> Epoch 503 finished \tANN training loss 0.140305\n",
      ">> Epoch 504 finished \tANN training loss 0.140792\n",
      ">> Epoch 505 finished \tANN training loss 0.147664\n",
      ">> Epoch 506 finished \tANN training loss 0.144441\n",
      ">> Epoch 507 finished \tANN training loss 0.136518\n",
      ">> Epoch 508 finished \tANN training loss 0.138284\n",
      ">> Epoch 509 finished \tANN training loss 0.136172\n",
      ">> Epoch 510 finished \tANN training loss 0.133846\n",
      ">> Epoch 511 finished \tANN training loss 0.137061\n",
      "[END] Fine tuning step\n"
     ]
    },
    {
     "data": {
      "text/plain": [
       "SupervisedDBNClassification(batch_size=32, dropout_p=0.01,\n",
       "                            idx_to_label_map={0: 0, 1: 1, 2: 4, 3: 3},\n",
       "                            l2_regularization=1.0,\n",
       "                            label_to_idx_map={0: 0, 1: 1, 3: 3, 4: 2},\n",
       "                            learning_rate=0.02, n_iter_backprop=512,\n",
       "                            verbose=True)"
      ]
     },
     "execution_count": 84,
     "metadata": {},
     "output_type": "execute_result"
    }
   ],
   "source": [
    "classifier.fit(X_ext, Y_train)"
   ]
  },
  {
   "cell_type": "code",
   "execution_count": 85,
   "metadata": {},
   "outputs": [],
   "source": [
    "# predict probabilities for test set\n",
    "yhat_probs = classifier.predict(X_ext_test)\n",
    "# predict crisp classes for test set\n",
    "#yhat_classes = model.predict_classes(X_test, verbose=0)\n",
    "yhat_classes = yhat_probs# np.argmax(yhat_probs,axis=1)"
   ]
  },
  {
   "cell_type": "code",
   "execution_count": 86,
   "metadata": {},
   "outputs": [
    {
     "name": "stdout",
     "output_type": "stream",
     "text": [
      "Accuracy: 0.945946\n",
      "Precision: 0.866667\n",
      "Recall: 0.866667\n",
      "F1 score: 0.866667\n"
     ]
    }
   ],
   "source": [
    "# accuracy: (tp + tn) / (p + n)\n",
    "accuracy = accuracy_score(Y_test, yhat_classes)\n",
    "print('Accuracy: %f' % accuracy)\n",
    "# precision tp / (tp + fp)\n",
    "precision = precision_score(Y_test, yhat_classes, average='macro')\n",
    "print('Precision: %f' % precision)\n",
    "# recall: tp / (tp + fn)\n",
    "recall = recall_score(Y_test, yhat_classes,average='macro')\n",
    "print('Recall: %f' % recall)\n",
    "# f1: 2 tp / (2 tp + fp + fn)\n",
    "f1 = f1_score(Y_test, yhat_classes, average='macro')\n",
    "print('F1 score: %f' % f1)"
   ]
  },
  {
   "cell_type": "code",
   "execution_count": 87,
   "metadata": {},
   "outputs": [
    {
     "name": "stdout",
     "output_type": "stream",
     "text": [
      "Cohens kappa: 0.907731\n",
      "[[22  0  0  0]\n",
      " [ 0  4  1  0]\n",
      " [ 0  1  2  0]\n",
      " [ 0  0  0  7]]\n"
     ]
    }
   ],
   "source": [
    "# kappa\n",
    "kappa = cohen_kappa_score(Y_test, yhat_classes)\n",
    "print('Cohens kappa: %f' % kappa)\n",
    "# ROC AUC\n",
    "#fprate, tprate, thresholds = roc_curve(Y_test, yhat_probs, average = 'macro')\n",
    "#print('ROC AUC: %f' % thresholds)\n",
    "# confusion matrix\n",
    "matrix = confusion_matrix(Y_test, yhat_classes)\n",
    "print(matrix)"
   ]
  },
  {
   "cell_type": "code",
   "execution_count": 88,
   "metadata": {},
   "outputs": [],
   "source": [
    "fpr = {}\n",
    "tpr = {}\n",
    "thresh ={}\n",
    "\n",
    "n_class = 5\n",
    "\n",
    "for i in range(n_class):    \n",
    "    fpr[i], tpr[i], thresh[i] = roc_curve(Y_test, yhat_classes, pos_label=i)"
   ]
  },
  {
   "cell_type": "code",
   "execution_count": 89,
   "metadata": {},
   "outputs": [
    {
     "data": {
      "image/png": "[encoded data removed]",
      "text/plain": [
       "<Figure size 432x288 with 1 Axes>"
      ]
     },
     "metadata": {
      "needs_background": "light"
     },
     "output_type": "display_data"
    }
   ],
   "source": [
    "# plotting    \n",
    "plt.plot(fpr[0], tpr[0], linestyle='--',color='orange', label='Class 0 vs Rest')\n",
    "plt.plot(fpr[1], tpr[1], linestyle='--',color='green', label='Class 1 vs Rest')\n",
    "plt.plot(fpr[2], tpr[2], linestyle='--',color='blue', label='Class 2 vs Rest')\n",
    "plt.plot(fpr[3], tpr[3], linestyle='--',color='red', label='Class 3 vs Rest')\n",
    "plt.plot(fpr[4], tpr[4], linestyle='--',color='black', label='Class 4 vs Rest')\n",
    "plt.title('Multiclass ROC curve')\n",
    "plt.xlabel('False Positive Rate')\n",
    "plt.ylabel('True Positive rate')\n",
    "plt.legend(loc='best')\n",
    "plt.savefig('Multiclass ROC',dpi=300); "
   ]
  },
  {
   "cell_type": "code",
   "execution_count": 90,
   "metadata": {},
   "outputs": [
    {
     "name": "stdout",
     "output_type": "stream",
     "text": [
      "Confusion matrix : \n",
      " [[22  0  0  0]\n",
      " [ 0  4  1  0]\n",
      " [ 0  1  2  0]\n",
      " [ 0  0  0  7]]\n"
     ]
    }
   ],
   "source": [
    "matrix = confusion_matrix(Y_test,yhat_classes, labels= [0, 1, 3, 4])\n",
    "print('Confusion matrix : \\n',matrix)"
   ]
  },
  {
   "cell_type": "code",
   "execution_count": 91,
   "metadata": {},
   "outputs": [
    {
     "name": "stdout",
     "output_type": "stream",
     "text": [
      "Classification report : \n",
      "               precision    recall  f1-score   support\n",
      "\n",
      "           0       1.00      1.00      1.00        22\n",
      "           1       0.80      0.80      0.80         5\n",
      "           3       0.67      0.67      0.67         3\n",
      "           4       1.00      1.00      1.00         7\n",
      "\n",
      "    accuracy                           0.95        37\n",
      "   macro avg       0.87      0.87      0.87        37\n",
      "weighted avg       0.95      0.95      0.95        37\n",
      "\n"
     ]
    }
   ],
   "source": [
    "matrix = classification_report(Y_test,yhat_classes, labels= [0, 1, 3, 4])\n",
    "print('Classification report : \\n',matrix)"
   ]
  },
  {
   "cell_type": "code",
   "execution_count": 92,
   "metadata": {},
   "outputs": [],
   "source": [
    "classifier.save('./models/IP address/CNN-DBN/DBN.pkl')"
   ]
  }
 ],
 "metadata": {
  "kernelspec": {
   "display_name": "Python 3",
   "language": "python",
   "name": "python3"
  },
  "language_info": {
   "codemirror_mode": {
    "name": "ipython",
    "version": 3
   },
   "file_extension": ".py",
   "mimetype": "text/x-python",
   "name": "python",
   "nbconvert_exporter": "python",
   "pygments_lexer": "ipython3",
   "version": "3.7.4"
  }
 },
 "nbformat": 4,
 "nbformat_minor": 2
}

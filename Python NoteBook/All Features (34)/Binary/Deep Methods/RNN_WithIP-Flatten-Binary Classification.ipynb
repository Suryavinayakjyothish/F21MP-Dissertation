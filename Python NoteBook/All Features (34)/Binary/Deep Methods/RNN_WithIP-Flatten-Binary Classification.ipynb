{
 "cells": [
  {
   "cell_type": "code",
   "execution_count": 1,
   "metadata": {},
   "outputs": [],
   "source": [
    "import pandas as pd\n",
    "import numpy as np\n",
    "from datetime import datetime\n",
    "import time\n",
    "import matplotlib.pyplot as plt\n",
    "import gc\n",
    "pd.set_option('display.max_columns', None)"
   ]
  },
  {
   "cell_type": "code",
   "execution_count": 2,
   "metadata": {},
   "outputs": [],
   "source": [
    "## for machine learning\n",
    "from sklearn import model_selection, preprocessing, feature_selection, ensemble, linear_model, metrics, decomposition\n",
    "## for plotting\n",
    "import matplotlib.pyplot as plt\n",
    "## for machine learning\n",
    "from sklearn import model_selection, preprocessing, feature_selection, ensemble, linear_model, metrics, decomposition\n",
    "from sklearn.preprocessing import LabelEncoder,Normalizer,StandardScaler, OneHotEncoder, MinMaxScaler\n",
    "from sklearn.feature_selection import mutual_info_classif\n",
    "from sklearn.metrics import confusion_matrix\n",
    "from sklearn.metrics import classification_report\n",
    "## for explainer\n",
    "#from lime import lime_tabular"
   ]
  },
  {
   "cell_type": "code",
   "execution_count": 3,
   "metadata": {},
   "outputs": [],
   "source": [
    "#a = pd.read_csv('drive/My Drive/Colab Notebooks/traffic/OpenStack/CIDDS-001-internal-week1.csv', low_memory=False, encoding='cp1252')\n",
    "#b = pd.read_csv('drive/My Drive/Colab Notebooks/traffic/OpenStack/CIDDS-001-internal-week2.csv', low_memory=False, encoding='cp1252')\n",
    "a = pd.read_csv('./CIDDS-001/traffic/OpenStack/CIDDS-001-internal-week1.csv', low_memory=False, encoding='cp1252')\n",
    "b = pd.read_csv('./CIDDS-001/traffic/OpenStack/CIDDS-001-internal-week2.csv', low_memory=False, encoding='cp1252')\n",
    "c =  pd.read_csv('./CIDDS-001/traffic/ExternalServer/CIDDS-001-external-week2.csv', low_memory=False, encoding='cp1252')\n",
    "d =  pd.read_csv('./CIDDS-001/traffic/ExternalServer/CIDDS-001-external-week3.csv', low_memory=False, encoding='cp1252')\n",
    "e =  pd.read_csv('./CIDDS-001/traffic/ExternalServer/CIDDS-001-external-week4.csv', low_memory=False, encoding='cp1252')\n",
    "#f =  pd.read_csv('./CIDDS-001/traffic/ExternalServer/CIDDS-001-external-week1.csv', low_memory=False, encoding='cp1252')\n",
    "#c = pd.read_csv('drive/My Drive/Colab Notebooks/traffic/OpenStack/CIDDS-001-internal-week3.csv', low_memory=False , encoding='cp1252')\n",
    "#d = pd.read_csv('drive/My Drive/Colab Notebooks/traffic/OpenStack/CIDDS-001-internal-week4.csv', low_memory=False, encoding='cp1252')\n",
    "#e =  pd.read_csv('drive/My Drive/Colab Notebooks/traffic/ExternalServer/CIDDS-001-external-week1.csv', low_memory=False, encoding='cp1252')\n",
    "#f =  pd.read_csv('drive/My Drive/Colab Notebooks/traffic/ExternalServer/CIDDS-001-external-week2.csv', low_memory=False, encoding='cp1252')\n",
    "#g =  pd.read_csv('drive/My Drive/Colab Notebooks/traffic/ExternalServer/CIDDS-001-external-week3.csv', low_memory=False, encoding='cp1252')\n",
    "#h =  pd.read_csv('drive/My Drive/Colab Notebooks/traffic/ExternalServer/CIDDS-001-external-week4.csv', low_memory=False, encoding='cp1252')"
   ]
  },
  {
   "cell_type": "code",
   "execution_count": 4,
   "metadata": {},
   "outputs": [
    {
     "name": "stdout",
     "output_type": "stream",
     "text": [
      "(10310733, 16)\n"
     ]
    },
    {
     "data": {
      "text/plain": [
       "(1795404, 16)"
      ]
     },
     "execution_count": 4,
     "metadata": {},
     "output_type": "execute_result"
    }
   ],
   "source": [
    "print(b.shape)\n",
    "#a.drop(a[a['attackType'] == '---'].index, axis = 0, inplace= True) \n",
    "b.drop(b[b['attackType'] == '---'].index, axis = 0, inplace= True)  \n",
    "c.drop(c[c['attackType'] == '---'].index, axis = 0, inplace= True)  \n",
    "d.drop(d[d['attackType'] == '---'].index, axis = 0, inplace= True)  \n",
    "#e.drop(e[e['attackType'] == '---'].index, axis = 0, inplace= True)  \n",
    "b.shape"
   ]
  },
  {
   "cell_type": "code",
   "execution_count": 5,
   "metadata": {},
   "outputs": [],
   "source": [
    "data_external = pd.concat([c,d,e], axis = 0)\n",
    "data_external.reset_index(drop= True, inplace= True)"
   ]
  },
  {
   "cell_type": "code",
   "execution_count": 6,
   "metadata": {},
   "outputs": [],
   "source": [
    "#to Increment attackID values\n",
    "data_external['attackID'] = data_external['attackID'].apply(lambda x: str(int(x) + 70) if x != '---' else x)"
   ]
  },
  {
   "cell_type": "code",
   "execution_count": 7,
   "metadata": {},
   "outputs": [],
   "source": [
    "def convert_bytes(df):\n",
    "    if 'M' in df:\n",
    "        df = df.split('M')\n",
    "        df = df[0].strip()\n",
    "        df = float(df) * 1000000\n",
    "    elif 'B' in df:\n",
    "        df = df.split('B')\n",
    "        df = df[0].strip()\n",
    "        df =  float(df) * 1000000000\n",
    "    else: \n",
    "        df =float(df)\n",
    "    return df"
   ]
  },
  {
   "cell_type": "code",
   "execution_count": 8,
   "metadata": {},
   "outputs": [
    {
     "data": {
      "text/plain": [
       "0"
      ]
     },
     "execution_count": 8,
     "metadata": {},
     "output_type": "execute_result"
    }
   ],
   "source": [
    "data = pd.concat([a,b,data_external], axis = 0)\n",
    "data.reset_index(drop= True, inplace= True)\n",
    "data['Bytes'] = data['Bytes'].apply(lambda x: convert_bytes(x))\n",
    "data['attackType'] = data['attackType'].apply(lambda x:  'attack' if (x!= '---') else x )\n",
    "columns = ['Src Pt', 'Dst Pt','Tos','Flows','Packets', 'Bytes']\n",
    "for i in columns:\n",
    "    data[i] = pd.to_numeric(data[i]);\n",
    "del columns\n",
    "del a,b,c,d,e, data_external\n",
    "gc.collect()"
   ]
  },
  {
   "cell_type": "code",
   "execution_count": 9,
   "metadata": {},
   "outputs": [],
   "source": [
    "#data.dtypes"
   ]
  },
  {
   "cell_type": "code",
   "execution_count": 10,
   "metadata": {},
   "outputs": [],
   "source": [
    "#Converts Hexadecimal value to Binary\n",
    "def hex_to_binary(hexdata):\n",
    "    scale = 16 ## equals to hexadecimal\n",
    "    num_of_bits = 9\n",
    "    return bin(int(hexdata, scale))[2:].zfill(num_of_bits);\n",
    "#Converts TCP flags to Binary\n",
    "def to_Binary(x):\n",
    "    l = 0\n",
    "    x = '...' + x\n",
    "    x = list(x)\n",
    "    for i in x:\n",
    "        if (i=='.'):\n",
    "            x[l]= '0'\n",
    "        else:\n",
    "            x[l] = '1'\n",
    "        l = l +1\n",
    "    return ''.join(x)\n",
    "#Converts the 'Flags' column to 9 indiviual columns (manual oneshot encoding)\n",
    "def flag_convert(df):  \n",
    "   # df['Flags'] = df['Flags'].apply(lambda x: (list(x)))\n",
    "   # temp = df['Flags'].apply(lambda x: toBinary(x))\n",
    "    hex_values = list(df[(df['Flags'].str.contains(\"0x\", na=False))]['Flags'].unique())\n",
    "    flag_values = list(df[~(df['Flags'].str.contains(\"0x\", na=False))]['Flags'].unique())\n",
    "    binary_values = {}\n",
    "    for i in hex_values:\n",
    "         binary_values[i] = (hex_to_binary(i))\n",
    "    for i in flag_values:\n",
    "         binary_values[i] = (to_Binary(i))\n",
    "    temp = df['Flags'].replace(binary_values)\n",
    "#temp = temp.apply(lambda x: pd.Series(x)) \n",
    "    temp = pd.DataFrame(temp.apply(list).tolist())\n",
    "#temp = pd.DataFrame(temp)\n",
    "#a = a.iloc[: , 1:]\n",
    "   # print(temp.head())\n",
    "    temp.columns = ['N','C','E','U' ,'A','P','R','S','F']\n",
    "    for i in temp.columns:\n",
    "        temp[i] = pd.to_numeric(temp[i]);\n",
    "    temp = temp.reset_index(drop=True)\n",
    "    df = df.reset_index(drop=True)\n",
    "    df = pd.concat([df, temp], axis = 1)\n",
    "    return df;"
   ]
  },
  {
   "cell_type": "code",
   "execution_count": 11,
   "metadata": {},
   "outputs": [],
   "source": [
    "#make a IP_pairs \n",
    "def make_pair(df):\n",
    "    ip_pair = df['Src IP Addr'] +'/' +df['Dst IP Addr']\n",
    "    source_ip = df['Src IP Addr'].unique().tolist()\n",
    "    destination_ip = df['Dst IP Addr'].unique().tolist()\n",
    "   # df = df.drop(columns = ['Src IP Addr', 'Dst IP Addr'])\n",
    "    df.insert(1, ' IP Pair', ip_pair)\n",
    "    return df\n",
    "\n",
    "def check_inverse(df):\n",
    "    list_pairs = df[' IP Pair'].unique()\n",
    "    tuple_pair = []\n",
    "    for i in list_pairs:\n",
    "        tuple_pair.append(tuple((i.split('/'))))\n",
    "    dic_store = {}\n",
    "    for i in tuple_pair:\n",
    "        if (i  not in dic_store.keys()) and (i[::-1] not in dic_store.keys()):\n",
    "            dic_store[i] = i[0] + '/' +i[1]\n",
    "    print(len(dic_store.keys()))\n",
    "    dic_final = {}\n",
    "    for i in dic_store.keys():\n",
    "        dic_final[i[0] + '/' +i[1]] = dic_store[i]\n",
    "        dic_final[i[1] + '/' +i[0]] = dic_store[i]\n",
    "    df[' IP Pair'] = df[' IP Pair'].map(dic_final)               \n",
    "    return df"
   ]
  },
  {
   "cell_type": "code",
   "execution_count": 12,
   "metadata": {},
   "outputs": [],
   "source": [
    "def normalize_IP(df):\n",
    "    columns = ['sourceIP_feature 1', 'sourceIP_feature 2', 'sourceIP_feature 3', 'sourceIP_feature 4', 'destIP_feature 1',\n",
    "              'destIP_feature 2', 'destIP_feature 3', 'destIP_feature 4']\n",
    "    normalized = df[columns]\n",
    "    print(columns)\n",
    "    transformed = MinMaxScaler().fit(normalized).transform(normalized)\n",
    "    transformed = pd.DataFrame(transformed)\n",
    "    j = 0\n",
    "    col = {}\n",
    "    for i in columns:\n",
    "        col[j] = i\n",
    "        j=j+1\n",
    "    transformed = transformed.rename(columns = col)\n",
    "    transformed = transformed.reset_index()\n",
    "    for i in columns:\n",
    "        df[i] = transformed[i].to_numpy()\n",
    "    return df;"
   ]
  },
  {
   "cell_type": "code",
   "execution_count": 13,
   "metadata": {},
   "outputs": [],
   "source": [
    "def normalize(df):\n",
    "    numerics = ['int16', 'int32', 'int64', 'float16', 'float32', 'float64']\n",
    "    columns = (df).select_dtypes(include=numerics).columns\n",
    "    print(columns)\n",
    "    normalized = df[columns]\n",
    "   # print(columns)\n",
    "    transformed = MinMaxScaler().fit(normalized).transform(normalized)\n",
    "    transformed = pd.DataFrame(transformed)\n",
    "    j = 0\n",
    "    col = {}\n",
    "    for i in columns:\n",
    "        col[j] = i\n",
    "        j=j+1\n",
    "    transformed = transformed.rename(columns = col)\n",
    "    transformed = transformed.reset_index()\n",
    "    for i in columns:\n",
    "        df[i] = transformed[i].to_numpy()\n",
    "    return df;"
   ]
  },
  {
   "cell_type": "code",
   "execution_count": 14,
   "metadata": {},
   "outputs": [],
   "source": [
    "def one_shot(df):\n",
    "    label_encoder = LabelEncoder()\n",
    "    #df.astype({'attackType': 'str'})\n",
    "    df['attackType'] = label_encoder.fit_transform(df['attackType'])\n",
    "    print(list(label_encoder.classes_))\n",
    "    print(list(label_encoder.transform(label_encoder.classes_)))\n",
    "    \n",
    "#    onehot_encoder = OneHotEncoder()\n",
    "#    onehot_encoder.fit(df.attackType.to_numpy().reshape(-1, 1))\n",
    "#    proto = onehot_encoder.transform(df.attackType.to_numpy().reshape(-1, 1))\n",
    "#    proto = pd.DataFrame.sparse.from_spmatrix(proto)\n",
    "#    proto.astype('int32')\n",
    "#    proto.columns = label_encoder.classes_\n",
    "#    df = pd.concat([df, proto], axis = 1) \n",
    "    \n",
    "    df['sourceIP_feature 1'] = label_encoder.fit_transform(df['sourceIP_feature 1'])\n",
    "    print(list(label_encoder.classes_))\n",
    "    print(list(label_encoder.transform(label_encoder.classes_)))\n",
    "    \n",
    "    df['sourceIP_feature 2'] = label_encoder.fit_transform(df['sourceIP_feature 2'])\n",
    "    print(list(label_encoder.classes_))\n",
    "    print(list(label_encoder.transform(label_encoder.classes_)))\n",
    "    \n",
    "    df['sourceIP_feature 3'] = label_encoder.fit_transform(df['sourceIP_feature 3'])\n",
    "    print(list(label_encoder.classes_))\n",
    "    print(list(label_encoder.transform(label_encoder.classes_)))\n",
    "    \n",
    "    df['sourceIP_feature 4'] = label_encoder.fit_transform(df['sourceIP_feature 4'])\n",
    "    print(list(label_encoder.classes_))\n",
    "    print(list(label_encoder.transform(label_encoder.classes_)))\n",
    "    \n",
    "    df['destIP_feature 1'] = label_encoder.fit_transform(df['destIP_feature 1'])\n",
    "    print(list(label_encoder.classes_))\n",
    "    print(list(label_encoder.transform(label_encoder.classes_)))\n",
    "    \n",
    "    df['destIP_feature 2'] = label_encoder.fit_transform(df['destIP_feature 2'])\n",
    "    print(list(label_encoder.classes_))\n",
    "    print(list(label_encoder.transform(label_encoder.classes_)))\n",
    "    \n",
    "    df['destIP_feature 3'] = label_encoder.fit_transform(df['destIP_feature 3'])\n",
    "    print(list(label_encoder.classes_))\n",
    "    print(list(label_encoder.transform(label_encoder.classes_)))\n",
    "    \n",
    "    df['destIP_feature 4'] = label_encoder.fit_transform(df['destIP_feature 4'])\n",
    "    print(list(label_encoder.classes_))\n",
    "    print(list(label_encoder.transform(label_encoder.classes_)))\n",
    "    \n",
    "    df['Proto'] = label_encoder.fit_transform(df['Proto'])\n",
    "    print(list(label_encoder.classes_))\n",
    "    print(list(label_encoder.transform(label_encoder.classes_)))\n",
    "    \n",
    "    onehot_encoder1 = OneHotEncoder()\n",
    "    onehot_encoder1.fit(df.Proto.to_numpy().reshape(-1, 1))\n",
    "    proto = onehot_encoder1.transform(df.Proto.to_numpy().reshape(-1, 1))\n",
    "    proto = pd.DataFrame.sparse.from_spmatrix(proto)\n",
    "    proto.astype('int32')\n",
    "    proto.columns = label_encoder.classes_\n",
    "   # print(proto.head(1))\n",
    "    df = pd.concat([df, proto], axis = 1)\n",
    "    return df;"
   ]
  },
  {
   "cell_type": "code",
   "execution_count": 15,
   "metadata": {},
   "outputs": [],
   "source": [
    "def drop_columns(df):\n",
    "    return df.drop(columns = ['Date first seen', ' IP Pair', 'Flows', 'class', 'attackID','Flags',\n",
    "                              'attackDescription', 'Src IP Addr', 'Dst IP Addr','Proto'], axis =1)"
   ]
  },
  {
   "cell_type": "code",
   "execution_count": 16,
   "metadata": {},
   "outputs": [],
   "source": [
    "#Aplit IP address into features, 7 features\n",
    "def split_to_net(IP_address):\n",
    "    IP_list = IP_address.split(\".\")\n",
    "    needed_len = 7\n",
    "    needed_len = needed_len - len(IP_list)\n",
    "    for i in range(0,needed_len,1):\n",
    "        IP_list.append('0')\n",
    "    return IP_list\n",
    "#replace unknown IP address, and convert to columns\n",
    "def IP_split(df): \n",
    "    replace = {\"ATTACKER1\":\"0.0.0.0\",\n",
    "           \"ATTACKER2\":\"0.0.0.0\",\n",
    "           \"ATTACKER3\":\"0.0.0.0\",\n",
    "           \"EXT_SERVER\": \"0.0.0.0.1\",\n",
    "          \"OPENSTACK_NET\": \"0.0.0.0.0.1\",\n",
    "          \"DNS\": \"0.0.0.0.0.0.1\"}\n",
    "    df = df.replace({\"Src IP Addr\": replace, \"Dst IP Addr\": replace}, value=None)\n",
    "    temp_source = df[\"Src IP Addr\"].apply(lambda x: \"0.0.0.0.0.0.0\" if ('_') in x else x)\n",
    "    temp_des = df['Dst IP Addr'].apply(lambda x: \"0.0.0.0.0.0.0\" if ('_') in x else x)\n",
    "   # sourceIP = list(df[\"Src IP Addr\"].unique())\n",
    "   # destIP = list(df[\"Dst IP Addr\"].unique())\n",
    "   # sourceIP_values = {}\n",
    "   # desIP_values = {}\n",
    "   # for i in sourceIP:\n",
    "   #      sourceIP_values[i] = (split_to_net(i))\n",
    "   # for i in destIP:\n",
    "   #      desIP_values[i] = (split_to_net(i))\n",
    "    #print(sourceIP_values)\n",
    "   # print(desIP_values)\n",
    "#for Source IP\n",
    "    temp_source = temp_source.apply(lambda x: split_to_net(x) )\n",
    "    temp_source = pd.DataFrame(temp_source.apply(list).tolist())\n",
    "    temp_source.columns = ['sourceIP_feature 1','sourceIP_feature 2','sourceIP_feature 3','sourceIP_feature 4' ,\n",
    "                    'sourceEXT_SERVER','sourceOPENSTACK_NET','sourceDNS']\n",
    "    for i in temp_source.columns:\n",
    "        temp_source[i] = pd.to_numeric(temp_source[i]);\n",
    "    temp_source = temp_source.reset_index(drop=True)\n",
    "    df = df.reset_index(drop=True)\n",
    "    df = pd.concat([df, temp_source], axis = 1)\n",
    "    #for Destination IP\n",
    "    temp_des = temp_des.apply(lambda x: split_to_net(x) )\n",
    "    temp_des = pd.DataFrame(temp_des.apply(list).tolist())\n",
    "    temp_des.columns = ['destIP_feature 1','destIP_feature 2','destIP_feature 3','destIP_feature 4' ,\n",
    "                    'destEXT_SERVER','destOPENSTACK_NET','destDNS']\n",
    "    for i in temp_des.columns:\n",
    "        temp_des[i] = pd.to_numeric(temp_des[i]);\n",
    "    temp_des = temp_des.reset_index(drop=True)\n",
    "    df = df.reset_index(drop=True)\n",
    "    df = pd.concat([df, temp_des], axis = 1)\n",
    "    return df;"
   ]
  },
  {
   "cell_type": "code",
   "execution_count": 17,
   "metadata": {},
   "outputs": [
    {
     "name": "stdout",
     "output_type": "stream",
     "text": [
      "59362\n"
     ]
    }
   ],
   "source": [
    "data = make_pair(data)\n",
    "data = check_inverse(data)\n"
   ]
  },
  {
   "cell_type": "code",
   "execution_count": 18,
   "metadata": {},
   "outputs": [],
   "source": [
    "data = IP_split(data)"
   ]
  },
  {
   "cell_type": "code",
   "execution_count": 19,
   "metadata": {
    "scrolled": true
   },
   "outputs": [
    {
     "name": "stdout",
     "output_type": "stream",
     "text": [
      "Index(['Duration', 'Src Pt', 'Dst Pt', 'Packets', 'Bytes', 'Flows', 'Tos',\n",
      "       'sourceIP_feature 1', 'sourceIP_feature 2', 'sourceIP_feature 3',\n",
      "       'sourceIP_feature 4', 'sourceEXT_SERVER', 'sourceOPENSTACK_NET',\n",
      "       'sourceDNS', 'destIP_feature 1', 'destIP_feature 2', 'destIP_feature 3',\n",
      "       'destIP_feature 4', 'destEXT_SERVER', 'destOPENSTACK_NET', 'destDNS'],\n",
      "      dtype='object')\n",
      "['---', 'attack']\n",
      "[0, 1]\n",
      "[0.0, 1.0]\n",
      "[0, 1]\n",
      "[0.0, 1.0]\n",
      "[0, 1]\n",
      "[0.0, 0.003952569169960474, 0.01976284584980237, 0.3162055335968379, 0.3952569169960474, 0.7905138339920948, 0.8300395256916996, 0.8695652173913043, 0.9999999999999999]\n",
      "[0, 1, 2, 3, 4, 5, 6, 7, 8]\n",
      "[0.0, 0.004, 0.008, 0.012, 0.016, 0.02, 0.024, 0.028, 0.032, 0.036000000000000004, 0.04, 0.044, 0.048, 0.052000000000000005, 0.056, 0.06, 0.064, 0.4, 0.432, 0.456, 0.612, 0.884, 0.96, 1.0]\n",
      "[0, 1, 2, 3, 4, 5, 6, 7, 8, 9, 10, 11, 12, 13, 14, 15, 16, 17, 18, 19, 20, 21, 22, 23]\n",
      "[0.0, 0.7529411764705882, 1.0]\n",
      "[0, 1, 2]\n",
      "[0.0, 0.6588235294117647, 1.0]\n",
      "[0, 1, 2]\n",
      "[0.0, 0.00392156862745098, 0.39215686274509803, 0.7843137254901961, 0.8235294117647058, 0.8627450980392157, 0.9921568627450981, 1.0]\n",
      "[0, 1, 2, 3, 4, 5, 6, 7]\n",
      "[0.0, 0.00392156862745098, 0.00784313725490196, 0.011764705882352941, 0.01568627450980392, 0.0196078431372549, 0.023529411764705882, 0.027450980392156862, 0.03137254901960784, 0.03529411764705882, 0.0392156862745098, 0.043137254901960784, 0.047058823529411764, 0.050980392156862744, 0.054901960784313725, 0.058823529411764705, 0.06274509803921569, 0.06666666666666667, 0.07058823529411765, 0.07450980392156863, 0.0784313725490196, 0.08235294117647059, 0.08627450980392157, 0.09019607843137255, 0.09411764705882353, 0.09803921568627451, 0.10196078431372549, 0.10588235294117647, 0.10980392156862745, 0.11372549019607843, 0.11764705882352941, 0.12156862745098039, 0.12549019607843137, 0.12941176470588234, 0.13333333333333333, 0.13725490196078433, 0.1411764705882353, 0.14509803921568626, 0.14901960784313725, 0.15294117647058825, 0.1568627450980392, 0.16078431372549018, 0.16470588235294117, 0.16862745098039217, 0.17254901960784313, 0.1764705882352941, 0.1803921568627451, 0.1843137254901961, 0.18823529411764706, 0.19215686274509802, 0.19607843137254902, 0.2, 0.20392156862745098, 0.20784313725490194, 0.21176470588235294, 0.21568627450980393, 0.2196078431372549, 0.22352941176470587, 0.22745098039215686, 0.23137254901960785, 0.23529411764705882, 0.2392156862745098, 0.24313725490196078, 0.24705882352941178, 0.25098039215686274, 0.2549019607843137, 0.2588235294117647, 0.2627450980392157, 0.26666666666666666, 0.27058823529411763, 0.27450980392156865, 0.2784313725490196, 0.2823529411764706, 0.28627450980392155, 0.2901960784313725, 0.29411764705882354, 0.2980392156862745, 0.30196078431372547, 0.3058823529411765, 0.30980392156862746, 0.3137254901960784, 0.3176470588235294, 0.32156862745098036, 0.3254901960784314, 0.32941176470588235, 0.3333333333333333, 0.33725490196078434, 0.3411764705882353, 0.34509803921568627, 0.34901960784313724, 0.3529411764705882, 0.3568627450980392, 0.3607843137254902, 0.36470588235294116, 0.3686274509803922, 0.37254901960784315, 0.3764705882352941, 0.3803921568627451, 0.38431372549019605, 0.38823529411764707, 0.39215686274509803, 0.396078431372549, 0.4, 0.403921568627451, 0.40784313725490196, 0.4117647058823529, 0.4156862745098039, 0.4196078431372549, 0.4235294117647059, 0.42745098039215684, 0.43137254901960786, 0.43529411764705883, 0.4392156862745098, 0.44313725490196076, 0.44705882352941173, 0.45098039215686275, 0.4549019607843137, 0.4588235294117647, 0.4627450980392157, 0.4666666666666667, 0.47058823529411764, 0.4745098039215686, 0.4784313725490196, 0.4823529411764706, 0.48627450980392156, 0.49019607843137253, 0.49411764705882355, 0.4980392156862745, 0.5019607843137255, 0.5058823529411764, 0.5098039215686274, 0.5137254901960784, 0.5176470588235293, 0.5215686274509804, 0.5254901960784314, 0.5294117647058824, 0.5333333333333333, 0.5372549019607843, 0.5411764705882353, 0.5450980392156862, 0.5490196078431373, 0.5529411764705883, 0.5568627450980392, 0.5607843137254902, 0.5647058823529412, 0.5686274509803921, 0.5725490196078431, 0.5764705882352941, 0.580392156862745, 0.5843137254901961, 0.5882352941176471, 0.592156862745098, 0.596078431372549, 0.6, 0.6039215686274509, 0.6078431372549019, 0.611764705882353, 0.615686274509804, 0.6196078431372549, 0.6235294117647059, 0.6274509803921569, 0.6313725490196078, 0.6352941176470588, 0.6392156862745098, 0.6431372549019607, 0.6470588235294118, 0.6509803921568628, 0.6549019607843137, 0.6588235294117647, 0.6627450980392157, 0.6666666666666666, 0.6705882352941176, 0.6745098039215687, 0.6784313725490196, 0.6823529411764706, 0.6862745098039216, 0.6901960784313725, 0.6941176470588235, 0.6980392156862745, 0.7019607843137254, 0.7058823529411764, 0.7098039215686275, 0.7137254901960784, 0.7176470588235294, 0.7215686274509804, 0.7254901960784313, 0.7294117647058823, 0.7333333333333333, 0.7372549019607844, 0.7411764705882353, 0.7450980392156863, 0.7490196078431373, 0.7529411764705882, 0.7568627450980392, 0.7607843137254902, 0.7647058823529411, 0.7686274509803921, 0.7725490196078432, 0.7764705882352941, 0.7803921568627451, 0.7843137254901961, 0.788235294117647, 0.792156862745098, 0.796078431372549, 0.8, 0.803921568627451, 0.807843137254902, 0.8117647058823529, 0.8156862745098039, 0.8196078431372549, 0.8235294117647058, 0.8274509803921568, 0.8313725490196078, 0.8352941176470589, 0.8392156862745098, 0.8431372549019608, 0.8470588235294118, 0.8509803921568627, 0.8549019607843137, 0.8588235294117647, 0.8627450980392157, 0.8666666666666667, 0.8705882352941177, 0.8745098039215686, 0.8784313725490196, 0.8823529411764706, 0.8862745098039215, 0.8901960784313725, 0.8941176470588235, 0.8980392156862745, 0.9019607843137255, 0.9058823529411765, 0.9098039215686274, 0.9137254901960784, 0.9176470588235294, 0.9215686274509803, 0.9254901960784314, 0.9294117647058824, 0.9333333333333333, 0.9372549019607843, 0.9411764705882353, 0.9450980392156862, 0.9490196078431372, 0.9529411764705882, 0.9568627450980391, 0.9607843137254902, 0.9647058823529412, 0.9686274509803922, 0.9725490196078431, 0.9764705882352941, 0.9803921568627451, 0.984313725490196, 0.9882352941176471, 0.9921568627450981, 0.996078431372549, 1.0]\n",
      "[0, 1, 2, 3, 4, 5, 6, 7, 8, 9, 10, 11, 12, 13, 14, 15, 16, 17, 18, 19, 20, 21, 22, 23, 24, 25, 26, 27, 28, 29, 30, 31, 32, 33, 34, 35, 36, 37, 38, 39, 40, 41, 42, 43, 44, 45, 46, 47, 48, 49, 50, 51, 52, 53, 54, 55, 56, 57, 58, 59, 60, 61, 62, 63, 64, 65, 66, 67, 68, 69, 70, 71, 72, 73, 74, 75, 76, 77, 78, 79, 80, 81, 82, 83, 84, 85, 86, 87, 88, 89, 90, 91, 92, 93, 94, 95, 96, 97, 98, 99, 100, 101, 102, 103, 104, 105, 106, 107, 108, 109, 110, 111, 112, 113, 114, 115, 116, 117, 118, 119, 120, 121, 122, 123, 124, 125, 126, 127, 128, 129, 130, 131, 132, 133, 134, 135, 136, 137, 138, 139, 140, 141, 142, 143, 144, 145, 146, 147, 148, 149, 150, 151, 152, 153, 154, 155, 156, 157, 158, 159, 160, 161, 162, 163, 164, 165, 166, 167, 168, 169, 170, 171, 172, 173, 174, 175, 176, 177, 178, 179, 180, 181, 182, 183, 184, 185, 186, 187, 188, 189, 190, 191, 192, 193, 194, 195, 196, 197, 198, 199, 200, 201, 202, 203, 204, 205, 206, 207, 208, 209, 210, 211, 212, 213, 214, 215, 216, 217, 218, 219, 220, 221, 222, 223, 224, 225, 226, 227, 228, 229, 230, 231, 232, 233, 234, 235, 236, 237, 238, 239, 240, 241, 242, 243, 244, 245, 246, 247, 248, 249, 250, 251, 252, 253, 254, 255]\n",
      "['GRE  ', 'ICMP ', 'IGMP ', 'TCP  ', 'UDP  ']\n",
      "[0, 1, 2, 3, 4]\n"
     ]
    },
    {
     "name": "stderr",
     "output_type": "stream",
     "text": [
      "C:\\Users\\hp\\Anaconda3\\lib\\site-packages\\sklearn\\preprocessing\\_encoders.py:415: FutureWarning: The handling of integer data will change in version 0.22. Currently, the categories are determined based on the range [0, max(values)], while in the future they will be determined based on the unique values.\n",
      "If you want the future behaviour and silence this warning, you can specify \"categories='auto'\".\n",
      "In case you used a LabelEncoder before this OneHotEncoder to convert the categories to integers, then you can now use the OneHotEncoder directly.\n",
      "  warnings.warn(msg, FutureWarning)\n"
     ]
    },
    {
     "name": "stdout",
     "output_type": "stream",
     "text": [
      "['sourceIP_feature 1', 'sourceIP_feature 2', 'sourceIP_feature 3', 'sourceIP_feature 4', 'destIP_feature 1', 'destIP_feature 2', 'destIP_feature 3', 'destIP_feature 4']\n"
     ]
    }
   ],
   "source": [
    "data = normalize(data)\n",
    "data =  one_shot(data) \n",
    "data = normalize_IP(data)"
   ]
  },
  {
   "cell_type": "code",
   "execution_count": 20,
   "metadata": {},
   "outputs": [],
   "source": [
    "#data['Flows'].unique()"
   ]
  },
  {
   "cell_type": "code",
   "execution_count": 21,
   "metadata": {},
   "outputs": [
    {
     "data": {
      "text/html": [
       "<div>\n",
       "<style scoped>\n",
       "    .dataframe tbody tr th:only-of-type {\n",
       "        vertical-align: middle;\n",
       "    }\n",
       "\n",
       "    .dataframe tbody tr th {\n",
       "        vertical-align: top;\n",
       "    }\n",
       "\n",
       "    .dataframe thead th {\n",
       "        text-align: right;\n",
       "    }\n",
       "</style>\n",
       "<table border=\"1\" class=\"dataframe\">\n",
       "  <thead>\n",
       "    <tr style=\"text-align: right;\">\n",
       "      <th></th>\n",
       "      <th>Date first seen</th>\n",
       "      <th>IP Pair</th>\n",
       "      <th>Duration</th>\n",
       "      <th>Proto</th>\n",
       "      <th>Src IP Addr</th>\n",
       "      <th>Src Pt</th>\n",
       "      <th>Dst IP Addr</th>\n",
       "      <th>Dst Pt</th>\n",
       "      <th>Packets</th>\n",
       "      <th>Bytes</th>\n",
       "      <th>Flows</th>\n",
       "      <th>Flags</th>\n",
       "      <th>Tos</th>\n",
       "      <th>class</th>\n",
       "      <th>attackType</th>\n",
       "      <th>attackID</th>\n",
       "      <th>attackDescription</th>\n",
       "      <th>sourceIP_feature 1</th>\n",
       "      <th>sourceIP_feature 2</th>\n",
       "      <th>sourceIP_feature 3</th>\n",
       "      <th>sourceIP_feature 4</th>\n",
       "      <th>sourceEXT_SERVER</th>\n",
       "      <th>sourceOPENSTACK_NET</th>\n",
       "      <th>sourceDNS</th>\n",
       "      <th>destIP_feature 1</th>\n",
       "      <th>destIP_feature 2</th>\n",
       "      <th>destIP_feature 3</th>\n",
       "      <th>destIP_feature 4</th>\n",
       "      <th>destEXT_SERVER</th>\n",
       "      <th>destOPENSTACK_NET</th>\n",
       "      <th>destDNS</th>\n",
       "      <th>GRE</th>\n",
       "      <th>ICMP</th>\n",
       "      <th>IGMP</th>\n",
       "      <th>TCP</th>\n",
       "      <th>UDP</th>\n",
       "    </tr>\n",
       "  </thead>\n",
       "  <tbody>\n",
       "    <tr>\n",
       "      <td>0</td>\n",
       "      <td>2017-03-15 00:01:16.632</td>\n",
       "      <td>192.168.100.5/192.168.220.16</td>\n",
       "      <td>0.000000e+00</td>\n",
       "      <td>3</td>\n",
       "      <td>192.168.100.5</td>\n",
       "      <td>0.006790</td>\n",
       "      <td>192.168.220.16</td>\n",
       "      <td>0.897902</td>\n",
       "      <td>0.000000</td>\n",
       "      <td>1.549787e-07</td>\n",
       "      <td>0.0</td>\n",
       "      <td>.AP...</td>\n",
       "      <td>0.0</td>\n",
       "      <td>normal</td>\n",
       "      <td>0</td>\n",
       "      <td>---</td>\n",
       "      <td>---</td>\n",
       "      <td>1.0</td>\n",
       "      <td>1.0</td>\n",
       "      <td>0.500</td>\n",
       "      <td>0.217391</td>\n",
       "      <td>0.0</td>\n",
       "      <td>0.0</td>\n",
       "      <td>0.0</td>\n",
       "      <td>0.5</td>\n",
       "      <td>0.5</td>\n",
       "      <td>0.714286</td>\n",
       "      <td>0.062745</td>\n",
       "      <td>0.0</td>\n",
       "      <td>0.0</td>\n",
       "      <td>0.0</td>\n",
       "      <td>0.0</td>\n",
       "      <td>0.0</td>\n",
       "      <td>0.0</td>\n",
       "      <td>1.0</td>\n",
       "      <td>0.0</td>\n",
       "    </tr>\n",
       "    <tr>\n",
       "      <td>1</td>\n",
       "      <td>2017-03-15 00:01:16.552</td>\n",
       "      <td>192.168.100.5/192.168.220.15</td>\n",
       "      <td>0.000000e+00</td>\n",
       "      <td>3</td>\n",
       "      <td>192.168.100.5</td>\n",
       "      <td>0.006790</td>\n",
       "      <td>192.168.220.15</td>\n",
       "      <td>0.745983</td>\n",
       "      <td>0.000000</td>\n",
       "      <td>1.549787e-07</td>\n",
       "      <td>0.0</td>\n",
       "      <td>.AP...</td>\n",
       "      <td>0.0</td>\n",
       "      <td>normal</td>\n",
       "      <td>0</td>\n",
       "      <td>---</td>\n",
       "      <td>---</td>\n",
       "      <td>1.0</td>\n",
       "      <td>1.0</td>\n",
       "      <td>0.500</td>\n",
       "      <td>0.217391</td>\n",
       "      <td>0.0</td>\n",
       "      <td>0.0</td>\n",
       "      <td>0.0</td>\n",
       "      <td>0.5</td>\n",
       "      <td>0.5</td>\n",
       "      <td>0.714286</td>\n",
       "      <td>0.058824</td>\n",
       "      <td>0.0</td>\n",
       "      <td>0.0</td>\n",
       "      <td>0.0</td>\n",
       "      <td>0.0</td>\n",
       "      <td>0.0</td>\n",
       "      <td>0.0</td>\n",
       "      <td>1.0</td>\n",
       "      <td>0.0</td>\n",
       "    </tr>\n",
       "    <tr>\n",
       "      <td>2</td>\n",
       "      <td>2017-03-15 00:01:16.551</td>\n",
       "      <td>192.168.100.5/192.168.220.15</td>\n",
       "      <td>6.613570e-09</td>\n",
       "      <td>3</td>\n",
       "      <td>192.168.220.15</td>\n",
       "      <td>0.745983</td>\n",
       "      <td>192.168.100.5</td>\n",
       "      <td>0.006790</td>\n",
       "      <td>0.000005</td>\n",
       "      <td>2.828361e-07</td>\n",
       "      <td>0.0</td>\n",
       "      <td>.AP...</td>\n",
       "      <td>0.0</td>\n",
       "      <td>normal</td>\n",
       "      <td>0</td>\n",
       "      <td>---</td>\n",
       "      <td>---</td>\n",
       "      <td>1.0</td>\n",
       "      <td>1.0</td>\n",
       "      <td>0.875</td>\n",
       "      <td>0.652174</td>\n",
       "      <td>0.0</td>\n",
       "      <td>0.0</td>\n",
       "      <td>0.0</td>\n",
       "      <td>0.5</td>\n",
       "      <td>0.5</td>\n",
       "      <td>0.285714</td>\n",
       "      <td>0.019608</td>\n",
       "      <td>0.0</td>\n",
       "      <td>0.0</td>\n",
       "      <td>0.0</td>\n",
       "      <td>0.0</td>\n",
       "      <td>0.0</td>\n",
       "      <td>0.0</td>\n",
       "      <td>1.0</td>\n",
       "      <td>0.0</td>\n",
       "    </tr>\n",
       "    <tr>\n",
       "      <td>3</td>\n",
       "      <td>2017-03-15 00:01:16.631</td>\n",
       "      <td>192.168.100.5/192.168.220.16</td>\n",
       "      <td>6.613570e-09</td>\n",
       "      <td>3</td>\n",
       "      <td>192.168.220.16</td>\n",
       "      <td>0.897902</td>\n",
       "      <td>192.168.100.5</td>\n",
       "      <td>0.006790</td>\n",
       "      <td>0.000005</td>\n",
       "      <td>2.828361e-07</td>\n",
       "      <td>0.0</td>\n",
       "      <td>.AP...</td>\n",
       "      <td>0.0</td>\n",
       "      <td>normal</td>\n",
       "      <td>0</td>\n",
       "      <td>---</td>\n",
       "      <td>---</td>\n",
       "      <td>1.0</td>\n",
       "      <td>1.0</td>\n",
       "      <td>0.875</td>\n",
       "      <td>0.695652</td>\n",
       "      <td>0.0</td>\n",
       "      <td>0.0</td>\n",
       "      <td>0.0</td>\n",
       "      <td>0.5</td>\n",
       "      <td>0.5</td>\n",
       "      <td>0.285714</td>\n",
       "      <td>0.019608</td>\n",
       "      <td>0.0</td>\n",
       "      <td>0.0</td>\n",
       "      <td>0.0</td>\n",
       "      <td>0.0</td>\n",
       "      <td>0.0</td>\n",
       "      <td>0.0</td>\n",
       "      <td>1.0</td>\n",
       "      <td>0.0</td>\n",
       "    </tr>\n",
       "    <tr>\n",
       "      <td>4</td>\n",
       "      <td>2017-03-15 00:01:16.552</td>\n",
       "      <td>192.168.100.5/192.168.220.15</td>\n",
       "      <td>0.000000e+00</td>\n",
       "      <td>3</td>\n",
       "      <td>192.168.100.5</td>\n",
       "      <td>0.006790</td>\n",
       "      <td>192.168.220.15</td>\n",
       "      <td>0.745983</td>\n",
       "      <td>0.000000</td>\n",
       "      <td>1.549787e-07</td>\n",
       "      <td>0.0</td>\n",
       "      <td>.AP...</td>\n",
       "      <td>0.0</td>\n",
       "      <td>normal</td>\n",
       "      <td>0</td>\n",
       "      <td>---</td>\n",
       "      <td>---</td>\n",
       "      <td>1.0</td>\n",
       "      <td>1.0</td>\n",
       "      <td>0.500</td>\n",
       "      <td>0.217391</td>\n",
       "      <td>0.0</td>\n",
       "      <td>0.0</td>\n",
       "      <td>0.0</td>\n",
       "      <td>0.5</td>\n",
       "      <td>0.5</td>\n",
       "      <td>0.714286</td>\n",
       "      <td>0.058824</td>\n",
       "      <td>0.0</td>\n",
       "      <td>0.0</td>\n",
       "      <td>0.0</td>\n",
       "      <td>0.0</td>\n",
       "      <td>0.0</td>\n",
       "      <td>0.0</td>\n",
       "      <td>1.0</td>\n",
       "      <td>0.0</td>\n",
       "    </tr>\n",
       "  </tbody>\n",
       "</table>\n",
       "</div>"
      ],
      "text/plain": [
       "           Date first seen                       IP Pair      Duration  Proto  \\\n",
       "0  2017-03-15 00:01:16.632  192.168.100.5/192.168.220.16  0.000000e+00      3   \n",
       "1  2017-03-15 00:01:16.552  192.168.100.5/192.168.220.15  0.000000e+00      3   \n",
       "2  2017-03-15 00:01:16.551  192.168.100.5/192.168.220.15  6.613570e-09      3   \n",
       "3  2017-03-15 00:01:16.631  192.168.100.5/192.168.220.16  6.613570e-09      3   \n",
       "4  2017-03-15 00:01:16.552  192.168.100.5/192.168.220.15  0.000000e+00      3   \n",
       "\n",
       "      Src IP Addr    Src Pt     Dst IP Addr    Dst Pt   Packets         Bytes  \\\n",
       "0   192.168.100.5  0.006790  192.168.220.16  0.897902  0.000000  1.549787e-07   \n",
       "1   192.168.100.5  0.006790  192.168.220.15  0.745983  0.000000  1.549787e-07   \n",
       "2  192.168.220.15  0.745983   192.168.100.5  0.006790  0.000005  2.828361e-07   \n",
       "3  192.168.220.16  0.897902   192.168.100.5  0.006790  0.000005  2.828361e-07   \n",
       "4   192.168.100.5  0.006790  192.168.220.15  0.745983  0.000000  1.549787e-07   \n",
       "\n",
       "   Flows   Flags  Tos   class  attackType attackID attackDescription  \\\n",
       "0    0.0  .AP...  0.0  normal           0      ---               ---   \n",
       "1    0.0  .AP...  0.0  normal           0      ---               ---   \n",
       "2    0.0  .AP...  0.0  normal           0      ---               ---   \n",
       "3    0.0  .AP...  0.0  normal           0      ---               ---   \n",
       "4    0.0  .AP...  0.0  normal           0      ---               ---   \n",
       "\n",
       "   sourceIP_feature 1  sourceIP_feature 2  sourceIP_feature 3  \\\n",
       "0                 1.0                 1.0               0.500   \n",
       "1                 1.0                 1.0               0.500   \n",
       "2                 1.0                 1.0               0.875   \n",
       "3                 1.0                 1.0               0.875   \n",
       "4                 1.0                 1.0               0.500   \n",
       "\n",
       "   sourceIP_feature 4  sourceEXT_SERVER  sourceOPENSTACK_NET  sourceDNS  \\\n",
       "0            0.217391               0.0                  0.0        0.0   \n",
       "1            0.217391               0.0                  0.0        0.0   \n",
       "2            0.652174               0.0                  0.0        0.0   \n",
       "3            0.695652               0.0                  0.0        0.0   \n",
       "4            0.217391               0.0                  0.0        0.0   \n",
       "\n",
       "   destIP_feature 1  destIP_feature 2  destIP_feature 3  destIP_feature 4  \\\n",
       "0               0.5               0.5          0.714286          0.062745   \n",
       "1               0.5               0.5          0.714286          0.058824   \n",
       "2               0.5               0.5          0.285714          0.019608   \n",
       "3               0.5               0.5          0.285714          0.019608   \n",
       "4               0.5               0.5          0.714286          0.058824   \n",
       "\n",
       "   destEXT_SERVER  destOPENSTACK_NET  destDNS  GRE    ICMP   IGMP   TCP    \\\n",
       "0             0.0                0.0      0.0    0.0    0.0    0.0    1.0   \n",
       "1             0.0                0.0      0.0    0.0    0.0    0.0    1.0   \n",
       "2             0.0                0.0      0.0    0.0    0.0    0.0    1.0   \n",
       "3             0.0                0.0      0.0    0.0    0.0    0.0    1.0   \n",
       "4             0.0                0.0      0.0    0.0    0.0    0.0    1.0   \n",
       "\n",
       "   UDP    \n",
       "0    0.0  \n",
       "1    0.0  \n",
       "2    0.0  \n",
       "3    0.0  \n",
       "4    0.0  "
      ]
     },
     "execution_count": 21,
     "metadata": {},
     "output_type": "execute_result"
    }
   ],
   "source": [
    "#91850\n",
    "data.head()"
   ]
  },
  {
   "cell_type": "code",
   "execution_count": 22,
   "metadata": {},
   "outputs": [],
   "source": [
    "from datetime import datetime\n",
    "def unix_time(df):\n",
    "  #  df[' Timestamp'] = df[' Timestamp'].apply(lambda x: x + ':00' if len(x) != 19 else x)\n",
    "   # df[' Timestamp'] = df[' Timestamp'].apply(lambda x: x[0 : 5 : ] + x[7 : :] if len(x) != 19 else x[0 : 7 : ] + x[9 : :])\n",
    "    df['Date first seen'] = df['Date first seen'].apply(lambda x: datetime.strptime(x,'%Y-%m-%d %H:%M:%S.%f'))\n",
    "    df['Date first seen'] = df['Date first seen'].apply(lambda x: x.timestamp()*1000)\n",
    "    return df;"
   ]
  },
  {
   "cell_type": "code",
   "execution_count": 23,
   "metadata": {},
   "outputs": [],
   "source": [
    "def normal_profile(grouped):\n",
    "    grouped['---'] = unix_time(grouped['---'])\n",
    "    start_time = int(grouped['---'].head(1)['Date first seen'].values[0])\n",
    "    end_time = int(grouped['---'].tail(1)['Date first seen'].values[0])\n",
    "#date_bins = pd.IntervalIndex.from_tuples(\n",
    "#        [(i, i+3600000) for i in range(start_time, end_time, 3600000)],\n",
    "#        closed=\"left\")\n",
    "#date_labels = [f\"{i}\" for i in range(1, len(date_bins)+1, 1)]\n",
    "    normal_data = dict(tuple( grouped['---'].groupby( pd.cut(\n",
    "            grouped['---']['Date first seen'],\n",
    "               np.arange(start_time, end_time, 3*3600000)))))\n",
    "    del grouped['---']\n",
    "    num = []\n",
    "    for i in grouped_data.keys():\n",
    "          num.append(len(grouped_data[i]))\n",
    "    print(min(num))\n",
    "    num = max(num)\n",
    "    print(num)\n",
    "    print(len(grouped.keys()))\n",
    "    grouped = {**grouped, **normal_data}\n",
    "    print(len(grouped.keys()))\n",
    "    return grouped, num;"
   ]
  },
  {
   "cell_type": "code",
   "execution_count": 24,
   "metadata": {},
   "outputs": [
    {
     "data": {
      "text/plain": [
       "0"
      ]
     },
     "execution_count": 24,
     "metadata": {},
     "output_type": "execute_result"
    }
   ],
   "source": [
    "grouped_data= dict(tuple(data.groupby(['attackID'])))\n",
    "del data\n",
    "gc.collect()"
   ]
  },
  {
   "cell_type": "code",
   "execution_count": 25,
   "metadata": {
    "scrolled": true
   },
   "outputs": [
    {
     "name": "stdout",
     "output_type": "stream",
     "text": [
      "---: 7195669 : 0\n",
      "bruteForce : 92\n",
      "1: 7657 : 1\n",
      "10: 311 : 1\n",
      "11: 17401 : 1\n",
      "12: 11526 : 1\n",
      "13: 513 : 1\n",
      "14: 13807 : 1\n",
      "15: 64 : 1\n",
      "16: 261003 : 1\n",
      "17: 13338 : 1\n",
      "18: 295302 : 1\n",
      "19: 11672 : 1\n",
      "2: 1927 : 1\n",
      "20: 11748 : 1\n",
      "21: 5113 : 1\n",
      "22: 295 : 1\n",
      "23: 72788 : 1\n",
      "24: 466 : 1\n",
      "25: 201 : 1\n",
      "26: 74471 : 1\n",
      "27: 680 : 1\n",
      "28: 36306 : 1\n",
      "29: 19732 : 1\n",
      "3: 37118 : 1\n",
      "30: 46 : 1\n",
      "31: 144845 : 1\n",
      "32: 335 : 1\n",
      "33: 307 : 1\n",
      "34: 12909 : 1\n",
      "35: 263 : 1\n",
      "36: 494 : 1\n",
      "37: 26114 : 1\n",
      "38: 267 : 1\n",
      "39: 364 : 1\n",
      "4: 72063 : 1\n",
      "40: 11609 : 1\n",
      "41: 379 : 1\n",
      "42: 184040 : 1\n",
      "43: 2143 : 1\n",
      "44: 261169 : 1\n",
      "45: 224960 : 1\n",
      "46: 111720 : 1\n",
      "47: 13420 : 1\n",
      "48: 13600 : 1\n",
      "49: 17629 : 1\n",
      "5: 4948 : 1\n",
      "50: 4589 : 1\n",
      "51: 11968 : 1\n",
      "52: 607 : 1\n",
      "53: 516299 : 1\n",
      "54: 183 : 1\n",
      "55: 757 : 1\n",
      "56: 427 : 1\n",
      "57: 522 : 1\n",
      "58: 510 : 1\n",
      "59: 110484 : 1\n",
      "6: 37134 : 1\n",
      "60: 333627 : 1\n",
      "61: 705 : 1\n",
      "62: 574 : 1\n",
      "63: 148641 : 1\n",
      "64: 480 : 1\n",
      "65: 373 : 1\n",
      "66: 359 : 1\n",
      "67: 13426 : 1\n",
      "68: 5632 : 1\n",
      "69: 360 : 1\n",
      "7: 9586 : 1\n",
      "70: 240 : 1\n",
      "71: 2008 : 1\n",
      "72: 2002 : 1\n",
      "73: 200 : 1\n",
      "74: 200 : 1\n",
      "75: 200 : 1\n",
      "76: 168 : 1\n",
      "77: 6410 : 1\n",
      "78: 200 : 1\n",
      "79: 200 : 1\n",
      "8: 4424 : 1\n",
      "80: 1991 : 1\n",
      "81: 200 : 1\n",
      "82: 1370 : 1\n",
      "83: 200 : 1\n",
      "84: 200 : 1\n",
      "85: 1984 : 1\n",
      "86: 2002 : 1\n",
      "87: 200 : 1\n",
      "88: 200 : 1\n",
      "89: 952 : 1\n",
      "9: 37057 : 1\n",
      "90: 200 : 1\n",
      "91: 40 : 1\n",
      "92: 40 : 1\n",
      "dos : 0\n",
      "pingScan: 0\n",
      "portScan : 0\n"
     ]
    }
   ],
   "source": [
    "no_1 = []\n",
    "no_2 = []\n",
    "no_3 = []\n",
    "no_4 = []\n",
    "for i in grouped_data.keys():\n",
    "   \n",
    "    if grouped_data[i]['attackType'].unique()[0] == 0:\n",
    "        print(f\"{i}: {len(grouped_data[i])} : {grouped_data[i]['attackType'].unique()[0]}\")\n",
    "    if grouped_data[i]['attackType'].unique()[0] == 1:\n",
    "              no_1.append(i)\n",
    "    if grouped_data[i]['attackType'].unique()[0] == 2:\n",
    "              no_2.append(i)\n",
    "    if grouped_data[i]['attackType'].unique()[0] == 3:\n",
    "              no_3.append(i)\n",
    "    if grouped_data[i]['attackType'].unique()[0] == 4:\n",
    "              no_4.append(i)\n",
    "print(f\"bruteForce : {len(no_1)}\")\n",
    "for i in no_1:\n",
    "     print(f\"{i}: {len(grouped_data[i])} : {grouped_data[i]['attackType'].unique()[0]}\")\n",
    "print(f\"dos : {len(no_2)}\")\n",
    "for i in no_2:\n",
    "     print(f\"{i}: {len(grouped_data[i])} : {grouped_data[i]['attackType'].unique()[0]}\")\n",
    "print(f\"pingScan: {len(no_3)}\")\n",
    "for i in no_3:\n",
    "     print(f\"{i}: {len(grouped_data[i])} : {grouped_data[i]['attackType'].unique()[0]}\")\n",
    "print(f\"portScan : {len(no_4)}\")\n",
    "for i in no_4:\n",
    "     print(f\"{i}: {len(grouped_data[i])} : {grouped_data[i]['attackType'].unique()[0]}\")"
   ]
  },
  {
   "cell_type": "code",
   "execution_count": 26,
   "metadata": {},
   "outputs": [
    {
     "data": {
      "text/plain": [
       "20"
      ]
     },
     "execution_count": 26,
     "metadata": {},
     "output_type": "execute_result"
    }
   ],
   "source": [
    "del no_1\n",
    "del no_2\n",
    "del no_3\n",
    "del no_4\n",
    "gc.collect()"
   ]
  },
  {
   "cell_type": "code",
   "execution_count": 27,
   "metadata": {},
   "outputs": [],
   "source": [
    "def del_largeInstances(dic, length):\n",
    "    remove_ID = []\n",
    "    for i in dic.keys():\n",
    "        if (i != '---'):\n",
    "            if(len(dic[i]) >= length):\n",
    "                remove_ID.append(i)\n",
    "    print(len(remove_ID))\n",
    "    removed_attacks = {}\n",
    "    for i in remove_ID:\n",
    "        removed_attacks[i] = dic[i]\n",
    "        del dic[i]\n",
    "    return dic;"
   ]
  },
  {
   "cell_type": "code",
   "execution_count": 28,
   "metadata": {},
   "outputs": [
    {
     "name": "stdout",
     "output_type": "stream",
     "text": [
      "19\n"
     ]
    }
   ],
   "source": [
    "grouped_data = del_largeInstances(grouped_data, 20000)"
   ]
  },
  {
   "cell_type": "code",
   "execution_count": 29,
   "metadata": {},
   "outputs": [
    {
     "name": "stdout",
     "output_type": "stream",
     "text": [
      "40\n",
      "19732\n",
      "73\n",
      "350\n"
     ]
    }
   ],
   "source": [
    "#grouped_data, num = normal_profile(grouped_data)\n",
    "grouped_data1= {}\n",
    "for i in grouped_data.keys():\n",
    "    grouped_data[i] = flag_convert(grouped_data[i])\n",
    "   # grouped_data[i] =  drop_columns(grouped_data[i])\n",
    "grouped_data, num = normal_profile(grouped_data)\n",
    "for i in grouped_data.keys():\n",
    "   # grouped_data[i] = flag_convert(grouped_data[i])\n",
    "    grouped_data[i] =  drop_columns(grouped_data[i])"
   ]
  },
  {
   "cell_type": "code",
   "execution_count": 30,
   "metadata": {
    "scrolled": true
   },
   "outputs": [
    {
     "name": "stdout",
     "output_type": "stream",
     "text": [
      "1 : False\n",
      "10 : False\n",
      "11 : False\n",
      "12 : False\n",
      "13 : False\n",
      "14 : False\n",
      "15 : False\n",
      "17 : False\n",
      "19 : False\n",
      "2 : False\n",
      "20 : False\n",
      "21 : False\n",
      "22 : False\n",
      "24 : False\n",
      "25 : False\n",
      "27 : False\n",
      "29 : False\n",
      "30 : False\n",
      "32 : False\n",
      "33 : False\n",
      "34 : False\n",
      "35 : False\n",
      "36 : False\n",
      "38 : False\n",
      "39 : False\n",
      "40 : False\n",
      "41 : False\n",
      "43 : False\n",
      "47 : False\n",
      "48 : False\n",
      "49 : False\n",
      "5 : False\n",
      "50 : False\n",
      "51 : False\n",
      "52 : False\n",
      "54 : False\n",
      "55 : False\n",
      "56 : False\n",
      "57 : False\n",
      "58 : False\n",
      "61 : False\n",
      "62 : False\n",
      "64 : False\n",
      "65 : False\n",
      "66 : False\n",
      "67 : False\n",
      "68 : False\n",
      "69 : False\n",
      "7 : False\n",
      "70 : False\n",
      "71 : False\n",
      "72 : False\n",
      "73 : False\n",
      "74 : False\n",
      "75 : False\n",
      "76 : False\n",
      "77 : False\n",
      "78 : False\n",
      "79 : False\n",
      "8 : False\n",
      "80 : False\n",
      "81 : False\n",
      "82 : False\n",
      "83 : False\n",
      "84 : False\n",
      "85 : False\n",
      "86 : False\n",
      "87 : False\n",
      "88 : False\n",
      "89 : False\n",
      "90 : False\n",
      "91 : False\n",
      "92 : False\n",
      "(1489536076632, 1489546876632] : False\n",
      "(1489546876632, 1489557676632] : False\n",
      "(1489557676632, 1489568476632] : False\n",
      "(1489568476632, 1489579276632] : False\n",
      "(1489579276632, 1489590076632] : False\n",
      "(1489590076632, 1489600876632] : False\n",
      "(1489600876632, 1489611676632] : False\n",
      "(1489611676632, 1489622476632] : False\n",
      "(1489622476632, 1489633276632] : False\n",
      "(1489633276632, 1489644076632] : False\n",
      "(1489644076632, 1489654876632] : False\n",
      "(1489654876632, 1489665676632] : False\n",
      "(1489665676632, 1489676476632] : False\n",
      "(1489676476632, 1489687276632] : False\n",
      "(1489687276632, 1489698076632] : False\n",
      "(1489698076632, 1489708876632] : False\n",
      "(1489708876632, 1489719676632] : False\n",
      "(1489719676632, 1489730476632] : False\n",
      "(1489730476632, 1489741276632] : False\n",
      "(1489741276632, 1489752076632] : False\n",
      "(1489752076632, 1489762876632] : False\n",
      "(1489762876632, 1489773676632] : False\n",
      "(1489773676632, 1489784476632] : False\n",
      "(1489784476632, 1489795276632] : False\n",
      "(1489795276632, 1489806076632] : False\n",
      "(1489806076632, 1489816876632] : False\n",
      "(1489816876632, 1489827676632] : False\n",
      "(1489827676632, 1489838476632] : False\n",
      "(1489838476632, 1489849276632] : False\n",
      "(1489849276632, 1489860076632] : False\n",
      "(1489860076632, 1489870876632] : False\n",
      "(1489870876632, 1489881676632] : False\n",
      "(1489881676632, 1489892476632] : False\n",
      "(1489892476632, 1489903276632] : False\n",
      "(1489903276632, 1489914076632] : False\n",
      "(1489914076632, 1489924876632] : False\n",
      "(1489924876632, 1489935676632] : False\n",
      "(1489935676632, 1489946476632] : False\n",
      "(1489946476632, 1489957276632] : False\n",
      "(1489957276632, 1489968076632] : False\n",
      "(1489968076632, 1489978876632] : False\n",
      "(1489978876632, 1489989676632] : False\n",
      "(1489989676632, 1490000476632] : False\n",
      "(1490000476632, 1490011276632] : False\n",
      "(1490011276632, 1490022076632] : False\n",
      "(1490022076632, 1490032876632] : False\n",
      "(1490032876632, 1490043676632] : False\n",
      "(1490043676632, 1490054476632] : False\n",
      "(1490054476632, 1490065276632] : False\n",
      "(1490065276632, 1490076076632] : False\n",
      "(1490076076632, 1490086876632] : False\n",
      "(1490086876632, 1490097676632] : False\n",
      "(1490097676632, 1490108476632] : False\n",
      "(1490108476632, 1490119276632] : False\n",
      "(1490119276632, 1490130076632] : False\n",
      "(1490130076632, 1490140876632] : False\n",
      "(1490140876632, 1490151676632] : False\n",
      "(1490151676632, 1490162476632] : False\n",
      "(1490162476632, 1490173276632] : False\n",
      "(1490173276632, 1490184076632] : False\n",
      "(1490184076632, 1490194876632] : False\n",
      "(1490194876632, 1490205676632] : False\n",
      "(1490205676632, 1490216476632] : False\n",
      "(1490216476632, 1490227276632] : False\n",
      "(1490227276632, 1490238076632] : False\n",
      "(1490238076632, 1490248876632] : False\n",
      "(1490248876632, 1490259676632] : False\n",
      "(1490259676632, 1490270476632] : False\n",
      "(1490270476632, 1490281276632] : False\n",
      "(1490281276632, 1490292076632] : False\n",
      "(1490292076632, 1490302876632] : False\n",
      "(1490302876632, 1490313676632] : False\n",
      "(1490313676632, 1490324476632] : False\n",
      "(1490324476632, 1490335276632] : False\n",
      "(1490335276632, 1490346076632] : False\n",
      "(1490346076632, 1490356876632] : False\n",
      "(1490356876632, 1490367676632] : False\n",
      "(1490367676632, 1490378476632] : False\n",
      "(1490378476632, 1490389276632] : False\n",
      "(1490389276632, 1490400076632] : False\n",
      "(1490400076632, 1490410876632] : False\n",
      "(1490410876632, 1490421676632] : False\n",
      "(1490421676632, 1490432476632] : False\n",
      "(1490432476632, 1490443276632] : False\n",
      "(1490443276632, 1490454076632] : False\n",
      "(1490454076632, 1490464876632] : False\n",
      "(1490464876632, 1490475676632] : False\n",
      "(1490475676632, 1490486476632] : False\n",
      "(1490486476632, 1490497276632] : False\n",
      "(1490497276632, 1490508076632] : False\n",
      "(1490508076632, 1490518876632] : False\n",
      "(1490518876632, 1490529676632] : False\n",
      "(1490529676632, 1490540476632] : False\n",
      "(1490540476632, 1490551276632] : False\n",
      "(1490551276632, 1490562076632] : False\n",
      "(1490562076632, 1490572876632] : False\n",
      "(1490572876632, 1490583676632] : False\n",
      "(1490583676632, 1490594476632] : False\n",
      "(1490594476632, 1490605276632] : False\n",
      "(1490605276632, 1490616076632] : False\n",
      "(1490616076632, 1490626876632] : False\n",
      "(1490626876632, 1490637676632] : False\n",
      "(1490637676632, 1490648476632] : False\n",
      "(1490648476632, 1490659276632] : False\n",
      "(1490659276632, 1490670076632] : False\n",
      "(1490670076632, 1490680876632] : False\n",
      "(1490680876632, 1490691676632] : False\n",
      "(1490691676632, 1490702476632] : False\n",
      "(1490702476632, 1490713276632] : False\n",
      "(1490713276632, 1490724076632] : False\n",
      "(1490724076632, 1490734876632] : False\n",
      "(1490734876632, 1490745676632] : False\n",
      "(1490745676632, 1490756476632] : False\n",
      "(1490756476632, 1490767276632] : False\n",
      "(1490767276632, 1490778076632] : False\n",
      "(1490778076632, 1490788876632] : False\n",
      "(1490788876632, 1490799676632] : False\n",
      "(1490799676632, 1490810476632] : False\n",
      "(1490810476632, 1490821276632] : False\n",
      "(1490821276632, 1490832076632] : False\n",
      "(1490832076632, 1490842876632] : False\n",
      "(1490842876632, 1490853676632] : False\n",
      "(1490853676632, 1490864476632] : False\n",
      "(1490864476632, 1490875276632] : False\n",
      "(1490875276632, 1490886076632] : False\n",
      "(1490886076632, 1490896876632] : False\n",
      "(1490896876632, 1490907676632] : False\n",
      "(1490907676632, 1490918476632] : False\n",
      "(1490918476632, 1490929276632] : False\n",
      "(1490929276632, 1490940076632] : False\n",
      "(1490940076632, 1490950876632] : False\n",
      "(1490950876632, 1490961676632] : False\n",
      "(1490961676632, 1490972476632] : False\n",
      "(1490972476632, 1490983276632] : False\n",
      "(1490983276632, 1490994076632] : False\n",
      "(1490994076632, 1491004876632] : False\n",
      "(1491004876632, 1491015676632] : False\n",
      "(1491015676632, 1491026476632] : False\n",
      "(1491026476632, 1491037276632] : False\n",
      "(1491037276632, 1491048076632] : False\n",
      "(1491048076632, 1491058876632] : False\n",
      "(1491058876632, 1491069676632] : False\n",
      "(1491069676632, 1491080476632] : False\n",
      "(1491080476632, 1491091276632] : False\n",
      "(1491091276632, 1491102076632] : False\n",
      "(1491102076632, 1491112876632] : False\n",
      "(1491112876632, 1491123676632] : False\n",
      "(1491123676632, 1491134476632] : False\n",
      "(1491134476632, 1491145276632] : False\n",
      "(1491145276632, 1491156076632] : False\n",
      "(1491156076632, 1491166876632] : False\n",
      "(1491166876632, 1491177676632] : False\n",
      "(1491177676632, 1491188476632] : False\n",
      "(1491188476632, 1491199276632] : False\n",
      "(1491199276632, 1491210076632] : False\n",
      "(1491210076632, 1491220876632] : False\n",
      "(1491220876632, 1491231676632] : False\n",
      "(1491231676632, 1491242476632] : False\n",
      "(1491242476632, 1491253276632] : False\n",
      "(1491253276632, 1491264076632] : False\n",
      "(1491264076632, 1491274876632] : False\n",
      "(1491274876632, 1491285676632] : False\n",
      "(1491285676632, 1491296476632] : False\n",
      "(1491296476632, 1491307276632] : False\n",
      "(1491307276632, 1491318076632] : False\n",
      "(1491318076632, 1491328876632] : False\n",
      "(1491328876632, 1491339676632] : False\n",
      "(1491339676632, 1491350476632] : False\n",
      "(1491350476632, 1491361276632] : False\n",
      "(1491361276632, 1491372076632] : False\n",
      "(1491372076632, 1491382876632] : False\n",
      "(1491382876632, 1491393676632] : False\n",
      "(1491393676632, 1491404476632] : False\n",
      "(1491404476632, 1491415276632] : False\n",
      "(1491415276632, 1491426076632] : False\n",
      "(1491426076632, 1491436876632] : False\n",
      "(1491436876632, 1491447676632] : False\n",
      "(1491447676632, 1491458476632] : False\n",
      "(1491458476632, 1491469276632] : False\n",
      "(1491469276632, 1491480076632] : False\n",
      "(1491480076632, 1491490876632] : False\n",
      "(1491490876632, 1491501676632] : False\n",
      "(1491501676632, 1491512476632] : False\n",
      "(1491512476632, 1491523276632] : False\n",
      "(1491523276632, 1491534076632] : False\n",
      "(1491534076632, 1491544876632] : False\n",
      "(1491544876632, 1491555676632] : False\n",
      "(1491555676632, 1491566476632] : False\n",
      "(1491566476632, 1491577276632] : False\n",
      "(1491577276632, 1491588076632] : False\n",
      "(1491588076632, 1491598876632] : False\n",
      "(1491598876632, 1491609676632] : False\n",
      "(1491609676632, 1491620476632] : False\n",
      "(1491620476632, 1491631276632] : False\n",
      "(1491631276632, 1491642076632] : False\n",
      "(1491642076632, 1491652876632] : False\n",
      "(1491652876632, 1491663676632] : False\n",
      "(1491663676632, 1491674476632] : False\n",
      "(1491674476632, 1491685276632] : False\n",
      "(1491685276632, 1491696076632] : False\n",
      "(1491696076632, 1491706876632] : False\n",
      "(1491706876632, 1491717676632] : False\n",
      "(1491717676632, 1491728476632] : False\n",
      "(1491728476632, 1491739276632] : False\n",
      "(1491739276632, 1491750076632] : False\n",
      "(1491750076632, 1491760876632] : False\n",
      "(1491760876632, 1491771676632] : False\n",
      "(1491771676632, 1491782476632] : False\n",
      "(1491782476632, 1491793276632] : False\n",
      "(1491793276632, 1491804076632] : False\n",
      "(1491804076632, 1491814876632] : False\n",
      "(1491814876632, 1491825676632] : False\n",
      "(1491825676632, 1491836476632] : False\n",
      "(1491836476632, 1491847276632] : False\n",
      "(1491847276632, 1491858076632] : False\n",
      "(1491858076632, 1491868876632] : False\n",
      "(1491868876632, 1491879676632] : False\n",
      "(1491879676632, 1491890476632] : False\n",
      "(1491890476632, 1491901276632] : False\n",
      "(1491901276632, 1491912076632] : False\n",
      "(1491912076632, 1491922876632] : False\n",
      "(1491922876632, 1491933676632] : False\n",
      "(1491933676632, 1491944476632] : False\n",
      "(1491944476632, 1491955276632] : False\n",
      "(1491955276632, 1491966076632] : False\n",
      "(1491966076632, 1491976876632] : False\n",
      "(1491976876632, 1491987676632] : False\n"
     ]
    },
    {
     "name": "stdout",
     "output_type": "stream",
     "text": [
      "(1491987676632, 1491998476632] : False\n",
      "(1491998476632, 1492009276632] : False\n",
      "(1492009276632, 1492020076632] : False\n",
      "(1492020076632, 1492030876632] : False\n",
      "(1492030876632, 1492041676632] : False\n",
      "(1492041676632, 1492052476632] : False\n",
      "(1492052476632, 1492063276632] : False\n",
      "(1492063276632, 1492074076632] : False\n",
      "(1492074076632, 1492084876632] : False\n",
      "(1492084876632, 1492095676632] : False\n",
      "(1492095676632, 1492106476632] : False\n",
      "(1492106476632, 1492117276632] : False\n",
      "(1492117276632, 1492128076632] : False\n",
      "(1492128076632, 1492138876632] : False\n",
      "(1492138876632, 1492149676632] : False\n",
      "(1492149676632, 1492160476632] : False\n",
      "(1492160476632, 1492171276632] : False\n",
      "(1492171276632, 1492182076632] : False\n",
      "(1492182076632, 1492192876632] : False\n",
      "(1492192876632, 1492203676632] : False\n",
      "(1492203676632, 1492214476632] : False\n",
      "(1492214476632, 1492225276632] : False\n",
      "(1492225276632, 1492236076632] : False\n",
      "(1492236076632, 1492246876632] : False\n",
      "(1492246876632, 1492257676632] : False\n",
      "(1492257676632, 1492268476632] : False\n",
      "(1492268476632, 1492279276632] : False\n",
      "(1492279276632, 1492290076632] : False\n",
      "(1492290076632, 1492300876632] : False\n",
      "(1492300876632, 1492311676632] : False\n",
      "(1492311676632, 1492322476632] : False\n",
      "(1492322476632, 1492333276632] : False\n",
      "(1492333276632, 1492344076632] : False\n",
      "(1492344076632, 1492354876632] : False\n",
      "(1492354876632, 1492365676632] : False\n",
      "(1492365676632, 1492376476632] : False\n",
      "(1492376476632, 1492387276632] : False\n",
      "(1492387276632, 1492398076632] : False\n",
      "(1492398076632, 1492408876632] : False\n",
      "(1492408876632, 1492419676632] : False\n",
      "(1492419676632, 1492430476632] : False\n",
      "(1492430476632, 1492441276632] : False\n",
      "(1492441276632, 1492452076632] : False\n",
      "(1492452076632, 1492462876632] : False\n",
      "(1492462876632, 1492473676632] : False\n",
      "(1492473676632, 1492484476632] : False\n",
      "(1492484476632, 1492495276632] : False\n",
      "(1492495276632, 1492506076632] : False\n",
      "(1492506076632, 1492516876632] : False\n",
      "(1492516876632, 1492527676632] : False\n"
     ]
    }
   ],
   "source": [
    "for i in grouped_data.keys():\n",
    "    #if (grouped_data[i].hasnull())\n",
    "    print(f'{i} : {grouped_data[i].isnull().values.any()}')"
   ]
  },
  {
   "cell_type": "code",
   "execution_count": 31,
   "metadata": {},
   "outputs": [],
   "source": [
    "#grouped_data[(1491346876632, 1491350476632)].head()"
   ]
  },
  {
   "cell_type": "code",
   "execution_count": 32,
   "metadata": {},
   "outputs": [
    {
     "name": "stdout",
     "output_type": "stream",
     "text": [
      "167\n"
     ]
    }
   ],
   "source": [
    "counter = 0\n",
    "for i in grouped_data.keys():\n",
    "    if ( len(grouped_data[i]) == 0):\n",
    "        counter = counter +1;\n",
    "print(counter)"
   ]
  },
  {
   "cell_type": "code",
   "execution_count": 33,
   "metadata": {},
   "outputs": [],
   "source": [
    "def roundup(x):\n",
    "    return x if x % 100 == 0 else x + 100 - x % 100\n",
    "#Convert to 3D arrays, input dict\n",
    "def make_array(dic):\n",
    "    x = []\n",
    "    y = []\n",
    "    zero_arrays = []\n",
    "    for i in dic.keys():\n",
    "        if ( len(dic[i]) == 0):\n",
    "            zero_arrays.append(i);\n",
    "    for i in zero_arrays:\n",
    "        del dic[i]\n",
    "    for i in dic.keys():\n",
    "        x.append(np.array(dic[i].drop(['attackType'],axis = 1)).astype(np.float32))\n",
    "       # print(f'{i}')\n",
    "        y.append(dic[i]['attackType'].values[0])\n",
    "    print(len(y))\n",
    "    o = []\n",
    "    features = len(x[1][1])\n",
    "    #for i in x:\n",
    "     #   o.append(len(i))\n",
    "   # print(min(o))\n",
    "    o = num\n",
    "    o = roundup(o)\n",
    "    print(o)\n",
    "    index = 0\n",
    "    for i in x:\n",
    "        l = len(i)\n",
    "        i = list(i)\n",
    "        if(o > l):\n",
    "            l = o-l\n",
    "            for j in range(0, l, 1):\n",
    "                i.append([0] * features)\n",
    "        elif (o<l):\n",
    "            l = l-o\n",
    "            i = i[:-l]\n",
    "        x[index] = np.array(i).astype(np.float32)\n",
    "        index = index + 1\n",
    "    return x,y"
   ]
  },
  {
   "cell_type": "code",
   "execution_count": 34,
   "metadata": {},
   "outputs": [
    {
     "name": "stdout",
     "output_type": "stream",
     "text": [
      "183\n",
      "19800\n"
     ]
    }
   ],
   "source": [
    "X,Y = make_array(grouped_data)\n",
    "del grouped_data\n",
    "gc.collect()\n",
    "Y = np.array(Y)\n",
    "X = np.array(X)\n"
   ]
  },
  {
   "cell_type": "code",
   "execution_count": 35,
   "metadata": {},
   "outputs": [
    {
     "data": {
      "text/plain": [
       "{0: 110, 1: 73}"
      ]
     },
     "execution_count": 35,
     "metadata": {},
     "output_type": "execute_result"
    }
   ],
   "source": [
    "unique, counts = np.unique(Y, return_counts=True)\n",
    "dict(zip(unique, counts))"
   ]
  },
  {
   "cell_type": "code",
   "execution_count": 36,
   "metadata": {},
   "outputs": [],
   "source": [
    "from sklearn.model_selection import train_test_split\n",
    "from sklearn.tree import DecisionTreeClassifier\n",
    "X_train, X_test, Y_train, Y_test = train_test_split(X,Y , test_size=0.2, random_state=0,  stratify=Y)"
   ]
  },
  {
   "cell_type": "code",
   "execution_count": 37,
   "metadata": {},
   "outputs": [],
   "source": [
    "#for i in X_train:\n",
    " #   print(f\"{X_train.indexOf(i)} \")"
   ]
  },
  {
   "cell_type": "code",
   "execution_count": 38,
   "metadata": {},
   "outputs": [
    {
     "data": {
      "text/plain": [
       "80"
      ]
     },
     "execution_count": 38,
     "metadata": {},
     "output_type": "execute_result"
    }
   ],
   "source": [
    "del X,Y\n",
    "gc.collect()"
   ]
  },
  {
   "cell_type": "code",
   "execution_count": 39,
   "metadata": {},
   "outputs": [
    {
     "data": {
      "text/plain": [
       "{0: 88, 1: 58}"
      ]
     },
     "execution_count": 39,
     "metadata": {},
     "output_type": "execute_result"
    }
   ],
   "source": [
    "unique, counts = np.unique(Y_train, return_counts=True)\n",
    "dict(zip(unique, counts))"
   ]
  },
  {
   "cell_type": "code",
   "execution_count": 40,
   "metadata": {},
   "outputs": [
    {
     "data": {
      "text/plain": [
       "{0: 22, 1: 15}"
      ]
     },
     "execution_count": 40,
     "metadata": {},
     "output_type": "execute_result"
    }
   ],
   "source": [
    "unique, counts = np.unique(Y_test, return_counts=True)\n",
    "dict(zip(unique, counts))"
   ]
  },
  {
   "cell_type": "code",
   "execution_count": 41,
   "metadata": {},
   "outputs": [
    {
     "name": "stdout",
     "output_type": "stream",
     "text": [
      "False\n",
      "False\n",
      "False\n",
      "False\n",
      "False\n",
      "False\n",
      "False\n",
      "False\n",
      "False\n",
      "False\n",
      "False\n",
      "False\n",
      "False\n",
      "False\n",
      "False\n",
      "False\n",
      "False\n",
      "False\n",
      "False\n",
      "False\n",
      "False\n",
      "False\n",
      "False\n",
      "False\n",
      "False\n",
      "False\n",
      "False\n",
      "False\n",
      "False\n",
      "False\n",
      "False\n",
      "False\n",
      "False\n",
      "False\n",
      "False\n",
      "False\n",
      "False\n",
      "False\n",
      "False\n",
      "False\n",
      "False\n",
      "False\n",
      "False\n",
      "False\n",
      "False\n",
      "False\n",
      "False\n",
      "False\n",
      "False\n",
      "False\n",
      "False\n",
      "False\n",
      "False\n",
      "False\n",
      "False\n",
      "False\n",
      "False\n",
      "False\n",
      "False\n",
      "False\n",
      "False\n",
      "False\n",
      "False\n",
      "False\n",
      "False\n",
      "False\n",
      "False\n",
      "False\n",
      "False\n",
      "False\n",
      "False\n",
      "False\n",
      "False\n",
      "False\n",
      "False\n",
      "False\n",
      "False\n",
      "False\n",
      "False\n",
      "False\n",
      "False\n",
      "False\n",
      "False\n",
      "False\n",
      "False\n",
      "False\n",
      "False\n",
      "False\n",
      "False\n",
      "False\n",
      "False\n",
      "False\n",
      "False\n",
      "False\n",
      "False\n",
      "False\n",
      "False\n",
      "False\n",
      "False\n",
      "False\n",
      "False\n",
      "False\n",
      "False\n",
      "False\n",
      "False\n",
      "False\n",
      "False\n",
      "False\n",
      "False\n",
      "False\n",
      "False\n",
      "False\n",
      "False\n",
      "False\n",
      "False\n",
      "False\n",
      "False\n",
      "False\n",
      "False\n",
      "False\n",
      "False\n",
      "False\n",
      "False\n",
      "False\n",
      "False\n",
      "False\n",
      "False\n",
      "False\n",
      "False\n",
      "False\n",
      "False\n",
      "False\n",
      "False\n",
      "False\n",
      "False\n",
      "False\n",
      "False\n",
      "False\n",
      "False\n",
      "False\n",
      "False\n",
      "False\n",
      "False\n",
      "False\n",
      "False\n",
      "False\n"
     ]
    }
   ],
   "source": [
    "for i in X_train:\n",
    "    print(f'{np.isnan(i).any()}')"
   ]
  },
  {
   "cell_type": "code",
   "execution_count": 42,
   "metadata": {},
   "outputs": [],
   "source": [
    "import tensorflow as tf\n",
    "from tensorflow import keras\n",
    "from tensorflow.keras.layers import Embedding, Dense, LSTM, Dropout, Masking, Flatten, Input, Bidirectional, SimpleRNN\n",
    "from tensorflow.keras.losses import BinaryCrossentropy\n",
    "from tensorflow.keras.models import Sequential\n",
    "from tensorflow.keras.optimizers import Adam\n",
    "from tensorflow.keras.preprocessing.sequence import pad_sequences"
   ]
  },
  {
   "cell_type": "code",
   "execution_count": 43,
   "metadata": {},
   "outputs": [
    {
     "data": {
      "text/plain": [
       "19732"
      ]
     },
     "execution_count": 43,
     "metadata": {},
     "output_type": "execute_result"
    }
   ],
   "source": [
    "num"
   ]
  },
  {
   "cell_type": "code",
   "execution_count": 44,
   "metadata": {},
   "outputs": [
    {
     "name": "stdout",
     "output_type": "stream",
     "text": [
      "samples: 146 \n",
      " X:19800 \n",
      " Y:34\n"
     ]
    }
   ],
   "source": [
    "nsamples,nx, ny = X_train.shape\n",
    "print(f\"samples: {nsamples} \\n X:{nx} \\n Y:{ny}\")"
   ]
  },
  {
   "cell_type": "code",
   "execution_count": 45,
   "metadata": {},
   "outputs": [],
   "source": [
    "from keras.callbacks import EarlyStopping\n",
    "from keras.callbacks import ModelCheckpoint, LambdaCallback\n",
    "wie_by_epoch = []\n",
    "model_check = ModelCheckpoint(\"./models/Testpoints/best_model.hdf5\", monitor='loss', verbose=0, save_best_only=True, mode='min', save_freq=1)\n",
    "print_weights = LambdaCallback(on_epoch_end=lambda batch, logs:wie_by_epoch.append(model.get_weights()))\n",
    "callback = tf.keras.callbacks.EarlyStopping(monitor='loss', patience=4, verbose= 2)"
   ]
  },
  {
   "cell_type": "code",
   "execution_count": 46,
   "metadata": {},
   "outputs": [],
   "source": [
    "model = Sequential()\n",
    "model.add(SimpleRNN(16, input_shape=(nx, ny), return_sequences = True, activation='relu'))\n",
    "model.add(Flatten())\n",
    "model.add(Dense(units=5, activation='softmax'))\n",
    "model.compile(optimizer= 'rmsprop', loss='sparse_categorical_crossentropy',  metrics=[keras.metrics.SparseCategoricalAccuracy()])"
   ]
  },
  {
   "cell_type": "code",
   "execution_count": 47,
   "metadata": {},
   "outputs": [
    {
     "data": {
      "text/plain": [
       "(None, 5)"
      ]
     },
     "execution_count": 47,
     "metadata": {},
     "output_type": "execute_result"
    }
   ],
   "source": [
    "model.build(input_shape = (nx,ny))\n",
    "model.output_shape"
   ]
  },
  {
   "cell_type": "code",
   "execution_count": 48,
   "metadata": {},
   "outputs": [
    {
     "data": {
      "text/plain": [
       "2228"
      ]
     },
     "execution_count": 48,
     "metadata": {},
     "output_type": "execute_result"
    }
   ],
   "source": [
    "#del model, wie_by_epoch\n",
    "\n",
    "gc.collect()"
   ]
  },
  {
   "cell_type": "code",
   "execution_count": 49,
   "metadata": {},
   "outputs": [
    {
     "name": "stdout",
     "output_type": "stream",
     "text": [
      "Model: \"sequential\"\n",
      "_________________________________________________________________\n",
      "Layer (type)                 Output Shape              Param #   \n",
      "=================================================================\n",
      "simple_rnn (SimpleRNN)       (None, 19800, 16)         816       \n",
      "_________________________________________________________________\n",
      "flatten (Flatten)            (None, 316800)            0         \n",
      "_________________________________________________________________\n",
      "dense (Dense)                (None, 5)                 1584005   \n",
      "=================================================================\n",
      "Total params: 1,584,821\n",
      "Trainable params: 1,584,821\n",
      "Non-trainable params: 0\n",
      "_________________________________________________________________\n"
     ]
    }
   ],
   "source": [
    "#model.build(input_shape = (nx,ny))\n",
    "model.summary()\n"
   ]
  },
  {
   "cell_type": "code",
   "execution_count": 50,
   "metadata": {},
   "outputs": [
    {
     "data": {
      "image/png": "[encoded data removed]",
      "text/plain": [
       "<IPython.core.display.Image object>"
      ]
     },
     "execution_count": 50,
     "metadata": {},
     "output_type": "execute_result"
    }
   ],
   "source": [
    "from tensorflow.keras.utils import plot_model\n",
    "plot_model(model, show_shapes=True)"
   ]
  },
  {
   "cell_type": "code",
   "execution_count": 51,
   "metadata": {
    "scrolled": true
   },
   "outputs": [
    {
     "data": {
      "text/plain": [
       "[array([[-0.02254534, -0.00685206,  0.05249509, -0.33225173, -0.07143906,\n",
       "         -0.27285188,  0.05573902,  0.05098262, -0.32774088,  0.10687399,\n",
       "         -0.16621238,  0.21887827, -0.23846257, -0.30554432,  0.07112324,\n",
       "          0.22913164],\n",
       "        [ 0.33313578,  0.238469  ,  0.20680177, -0.33642182,  0.31156594,\n",
       "          0.10863087,  0.308307  ,  0.20766681, -0.15082583, -0.2561196 ,\n",
       "          0.25445807,  0.05219975, -0.11883187,  0.09580785,  0.22781193,\n",
       "          0.34280938],\n",
       "        [ 0.31539017, -0.32371393, -0.17943043,  0.29970282,  0.12252128,\n",
       "          0.05042678,  0.02930629,  0.15336558, -0.15990518,  0.25019747,\n",
       "         -0.23134433,  0.16872042, -0.15481785, -0.1848696 ,  0.16942292,\n",
       "         -0.05094397],\n",
       "        [ 0.24516964, -0.2559144 ,  0.30453432,  0.22912014,  0.07683009,\n",
       "         -0.01831454,  0.03207952, -0.05029413,  0.2905547 ,  0.02842447,\n",
       "         -0.24908265, -0.13860382, -0.01386184,  0.05504325,  0.15579051,\n",
       "         -0.12784639],\n",
       "        [ 0.12854767, -0.22264077,  0.17043847,  0.18238121, -0.22984077,\n",
       "          0.25020605, -0.04028779,  0.15050322,  0.10930473, -0.27397528,\n",
       "         -0.25194937,  0.28220373, -0.1301373 ,  0.2636721 , -0.09587258,\n",
       "          0.31546223],\n",
       "        [ 0.08014411,  0.27548373, -0.30964   ,  0.34236872,  0.2677049 ,\n",
       "          0.05889189, -0.34007132,  0.14430785, -0.19254276, -0.13009673,\n",
       "          0.27849126,  0.16950381,  0.18923098,  0.14729127, -0.12577543,\n",
       "         -0.1994674 ],\n",
       "        [ 0.0449079 ,  0.33903754, -0.26008224, -0.09461597, -0.03179541,\n",
       "         -0.19738613,  0.10303286,  0.0115152 , -0.01045111, -0.32005292,\n",
       "          0.06611064, -0.02683577,  0.31449473, -0.17197514,  0.04875234,\n",
       "          0.23244089],\n",
       "        [ 0.03497696,  0.2147438 , -0.03109363, -0.15489449,  0.20505881,\n",
       "         -0.09734683, -0.25067326,  0.29034418,  0.31464761,  0.12052515,\n",
       "         -0.12975763, -0.32448465,  0.25549066, -0.1274141 , -0.28852734,\n",
       "          0.29573214],\n",
       "        [-0.05111179, -0.18682617, -0.18948667,  0.07124391, -0.196167  ,\n",
       "         -0.2718194 , -0.15925305,  0.1710198 ,  0.20090497, -0.13471974,\n",
       "          0.27603543,  0.04225343,  0.04035386, -0.09418914,  0.2339409 ,\n",
       "         -0.04454872],\n",
       "        [ 0.11847186,  0.11466113,  0.31894177, -0.15556033, -0.3066176 ,\n",
       "          0.2800889 ,  0.3317418 ,  0.18390286,  0.24688911,  0.12139812,\n",
       "         -0.15642786,  0.18571794,  0.0305202 ,  0.00239456, -0.06847405,\n",
       "         -0.04858369],\n",
       "        [ 0.19329542, -0.07703352, -0.06005198, -0.24294642,  0.22459215,\n",
       "         -0.22033063, -0.12312287,  0.28790343,  0.06686866,  0.17342842,\n",
       "         -0.00119632, -0.22541416,  0.21543455, -0.31450167,  0.0171164 ,\n",
       "         -0.266087  ],\n",
       "        [-0.004318  , -0.16344468, -0.33292502, -0.08909073,  0.20239168,\n",
       "          0.1675173 , -0.18966225, -0.29573923, -0.06721571,  0.1259501 ,\n",
       "          0.22041488,  0.24523127,  0.22151703, -0.27814043,  0.17007118,\n",
       "          0.05909854],\n",
       "        [-0.05606905,  0.02996907,  0.10350299, -0.08732653, -0.08278877,\n",
       "          0.09064841, -0.00936189, -0.13741517, -0.07273525, -0.16512614,\n",
       "          0.32037795,  0.34206408, -0.1839834 , -0.10658145, -0.31420767,\n",
       "          0.3403942 ],\n",
       "        [ 0.16497171, -0.32644477,  0.10560423, -0.0743261 , -0.12954347,\n",
       "         -0.06620777, -0.14294305,  0.08281147, -0.26323125, -0.05679178,\n",
       "          0.16491067,  0.32262713, -0.317904  , -0.12569275, -0.33353245,\n",
       "         -0.01130253],\n",
       "        [ 0.11557236, -0.05826074, -0.20332605,  0.18800813, -0.2411722 ,\n",
       "          0.25773638,  0.2789585 ,  0.31191355, -0.31631908, -0.03268102,\n",
       "         -0.26365495,  0.10102278, -0.08207971, -0.0996417 ,  0.03143242,\n",
       "         -0.04252467],\n",
       "        [-0.21118397,  0.03986996,  0.16237867, -0.18353873,  0.29922438,\n",
       "         -0.05492616, -0.19588074, -0.23463285, -0.11362049,  0.14565343,\n",
       "         -0.33143178,  0.13061187,  0.31946367,  0.06393099, -0.23410937,\n",
       "          0.22259599],\n",
       "        [-0.04201829, -0.1537255 ,  0.17380643,  0.15607762,  0.27931702,\n",
       "         -0.01449159,  0.01012677,  0.2151267 ,  0.02623773,  0.07163867,\n",
       "         -0.13976504, -0.28152192, -0.25159562,  0.19438893,  0.27579618,\n",
       "         -0.3035666 ],\n",
       "        [ 0.10834113, -0.2988519 ,  0.29858392,  0.22943276, -0.25996932,\n",
       "         -0.12834722, -0.24095333,  0.30126888, -0.18119705,  0.06895217,\n",
       "          0.25926358,  0.24636734,  0.25957638, -0.21420695, -0.2769788 ,\n",
       "          0.19025946],\n",
       "        [ 0.14581382, -0.09360078,  0.05074352, -0.07452697, -0.08243632,\n",
       "         -0.22045179,  0.17681646, -0.0056406 ,  0.19480592, -0.00728598,\n",
       "          0.1849069 , -0.02678579, -0.13131933, -0.29963768,  0.05317926,\n",
       "          0.01318508],\n",
       "        [ 0.21002895, -0.24659643,  0.05899829,  0.21841657,  0.24900872,\n",
       "          0.2309441 , -0.29139307,  0.25343168,  0.02372515,  0.10849649,\n",
       "         -0.14279017, -0.02519402, -0.05421555,  0.09762102, -0.26730138,\n",
       "          0.19837862],\n",
       "        [-0.04154754, -0.14399658,  0.11902705, -0.3015116 ,  0.25199008,\n",
       "          0.2639401 , -0.1377756 , -0.08135366, -0.27580014, -0.2271389 ,\n",
       "          0.23096335, -0.30607563,  0.04783276, -0.19886565,  0.24485344,\n",
       "          0.00867096],\n",
       "        [-0.01862857,  0.25862163, -0.32846537, -0.10799764,  0.22770959,\n",
       "         -0.29936555,  0.08343494, -0.04298139, -0.10540867, -0.03093216,\n",
       "         -0.08827567, -0.1051372 , -0.11231424, -0.20510653, -0.2026351 ,\n",
       "         -0.15014677],\n",
       "        [ 0.09317261,  0.09929094, -0.10185315,  0.3280728 , -0.23415166,\n",
       "          0.33471352,  0.29371774,  0.2042194 ,  0.24831313,  0.21734202,\n",
       "         -0.03948906, -0.13430828,  0.27269912,  0.21961623,  0.02490371,\n",
       "          0.16451514],\n",
       "        [-0.15634015, -0.11029233, -0.27444375,  0.04474875,  0.30050755,\n",
       "         -0.10671254,  0.09600168,  0.12500337,  0.29996282, -0.19160263,\n",
       "          0.18731594,  0.3069349 ,  0.29806328, -0.21908723,  0.02325165,\n",
       "         -0.23939237],\n",
       "        [-0.13657697,  0.13456398,  0.2931391 , -0.27949798,  0.17419553,\n",
       "         -0.01682082, -0.34604147,  0.32168502, -0.2485136 ,  0.2490241 ,\n",
       "         -0.036946  ,  0.15272161, -0.16799402, -0.3213369 ,  0.30727732,\n",
       "         -0.13284156],\n",
       "        [-0.24075   ,  0.08607462, -0.11126038, -0.23465332,  0.07668951,\n",
       "         -0.1902716 , -0.08433089, -0.22722182, -0.01424637,  0.20846325,\n",
       "         -0.22359064, -0.21744548, -0.0440554 , -0.23059201,  0.18352443,\n",
       "          0.19589877],\n",
       "        [ 0.2202084 , -0.18708013,  0.1664831 ,  0.08690301, -0.05454564,\n",
       "          0.1494318 , -0.24177518, -0.07138786,  0.32203966,  0.2640627 ,\n",
       "         -0.01630247, -0.30639672, -0.07643482, -0.04921657, -0.13059905,\n",
       "          0.18067002],\n",
       "        [-0.01692531, -0.24278602, -0.24750012,  0.12953678,  0.27028662,\n",
       "          0.14562288,  0.18331778,  0.02301958,  0.03711507,  0.30332434,\n",
       "          0.272026  ,  0.10922486,  0.16518587,  0.22327447,  0.02279469,\n",
       "          0.29628575],\n",
       "        [ 0.16874278,  0.12380779,  0.06938842, -0.24197118, -0.1828866 ,\n",
       "         -0.327337  , -0.15278918,  0.24270797, -0.05216977,  0.24532092,\n",
       "         -0.09237662,  0.3045658 , -0.01258424, -0.23609643,  0.15549338,\n",
       "         -0.2440452 ],\n",
       "        [ 0.32761168, -0.08569545, -0.2492128 ,  0.21824354, -0.09531742,\n",
       "         -0.30457535,  0.07298887, -0.08793381,  0.24955589, -0.25370014,\n",
       "          0.08863494,  0.17585748,  0.06449732, -0.14868674, -0.13417391,\n",
       "          0.19412225],\n",
       "        [ 0.04564023, -0.04188615,  0.05590823, -0.21727188, -0.11798491,\n",
       "         -0.262806  ,  0.09830374,  0.2308271 , -0.30327934, -0.30910355,\n",
       "         -0.32945943,  0.27007264, -0.13086343, -0.18536507, -0.16555677,\n",
       "         -0.2309284 ],\n",
       "        [ 0.06202886, -0.08512327,  0.16676319, -0.08677012, -0.17532246,\n",
       "         -0.1452574 , -0.15558437, -0.1107807 ,  0.22437614,  0.04312825,\n",
       "         -0.16280486, -0.22449979,  0.28336537,  0.06267604,  0.1859194 ,\n",
       "          0.06907788],\n",
       "        [-0.144932  ,  0.23418653,  0.32735032, -0.00843465, -0.07820565,\n",
       "          0.00651154,  0.02282673,  0.17371869,  0.14021641, -0.2773825 ,\n",
       "          0.22172052,  0.13693807, -0.3365244 ,  0.11353889,  0.33249074,\n",
       "          0.26099467],\n",
       "        [ 0.18995577,  0.16179454, -0.08510113,  0.27522117, -0.32148126,\n",
       "         -0.1244971 ,  0.03989235, -0.04413494, -0.31923017, -0.22488344,\n",
       "         -0.08560839, -0.15093245,  0.02175248,  0.07934546,  0.00847983,\n",
       "          0.07828739]], dtype=float32),\n",
       " array([[ 3.52287054e-01,  2.93506801e-01, -4.97537345e-01,\n",
       "         -1.78459480e-01, -2.91016161e-01, -1.57257810e-01,\n",
       "          1.11546084e-01, -2.70239934e-02, -4.13814247e-01,\n",
       "         -1.35969579e-01,  1.14865884e-01, -9.70018134e-02,\n",
       "          8.63643065e-02,  3.89619768e-01, -1.27149925e-01,\n",
       "         -3.33578850e-04],\n",
       "        [ 1.10608935e-01, -2.12335531e-02,  1.63598865e-01,\n",
       "         -2.58289635e-01,  7.18260556e-02,  3.58509213e-01,\n",
       "         -1.81402043e-02, -1.53450131e-01,  2.15905651e-01,\n",
       "          2.15739712e-01, -1.12826116e-01, -3.03875983e-01,\n",
       "          5.88755488e-01,  2.49499157e-01, -2.49663100e-01,\n",
       "         -2.58513004e-01],\n",
       "        [ 3.62486273e-01, -2.37507075e-01,  4.71105039e-01,\n",
       "         -4.72212285e-02, -4.68688101e-01, -2.75581598e-01,\n",
       "         -3.01933475e-03,  2.10939616e-01, -1.82960123e-01,\n",
       "          3.19105923e-01,  8.89591053e-02, -1.43566832e-01,\n",
       "         -1.01103634e-03, -8.88853669e-02,  2.16482878e-01,\n",
       "         -1.71205327e-01],\n",
       "        [-1.94521964e-01, -2.09592789e-01, -2.01618373e-01,\n",
       "          8.70674700e-02, -3.13168019e-01,  1.29579276e-01,\n",
       "          1.03550442e-01,  3.61143142e-01,  4.28130597e-01,\n",
       "          2.01453194e-01,  1.93890736e-01,  2.54842162e-01,\n",
       "          1.37875909e-02,  5.04452288e-01,  1.41341135e-01,\n",
       "          1.13721311e-01],\n",
       "        [ 4.58944738e-02, -9.44892913e-02, -2.13432059e-01,\n",
       "          1.08464751e-02, -3.66316773e-02,  4.30218652e-02,\n",
       "         -3.51718575e-01, -4.22832191e-01,  2.20049828e-01,\n",
       "         -5.82816964e-03,  3.63991201e-01, -1.62725389e-01,\n",
       "         -3.38719904e-01,  5.37528992e-02,  2.19953269e-01,\n",
       "         -5.13987780e-01],\n",
       "        [ 2.35399574e-01,  2.68746197e-01, -3.50817740e-01,\n",
       "          2.62781680e-02,  1.56221949e-02, -4.10026997e-01,\n",
       "         -1.47847027e-01,  3.33233140e-02,  4.83480513e-01,\n",
       "          3.90986800e-01, -2.37904280e-01, -9.29478705e-02,\n",
       "          9.14909616e-02, -2.82260984e-01,  4.26664576e-03,\n",
       "          1.31687745e-01],\n",
       "        [ 1.88633114e-01,  1.69920117e-01,  1.00229852e-01,\n",
       "          2.48622850e-01, -9.33347344e-02,  2.68212140e-01,\n",
       "         -3.49086702e-01, -1.22571744e-01, -1.84427589e-01,\n",
       "          3.85695279e-01, -2.15545565e-01,  4.72009599e-01,\n",
       "         -2.36294731e-01,  1.33041650e-01, -3.44320178e-01,\n",
       "         -4.50780243e-02],\n",
       "        [ 2.28594974e-01,  1.35605723e-01, -3.10096256e-02,\n",
       "          2.58092880e-01,  1.43601656e-01,  4.17958975e-01,\n",
       "         -2.15339094e-01,  3.79356835e-03, -1.60386384e-01,\n",
       "          1.41228586e-01,  1.98231623e-01, -2.53731191e-01,\n",
       "          1.31707370e-01, -2.62397528e-03,  4.93989915e-01,\n",
       "          4.57559973e-01],\n",
       "        [-8.34872425e-02, -2.15512097e-01, -1.74769104e-01,\n",
       "          2.91332722e-01,  7.91615434e-03, -1.20759942e-01,\n",
       "         -4.68246162e-01,  3.12449932e-01, -1.42144158e-01,\n",
       "         -1.31651238e-01,  3.43176395e-01,  5.26692532e-02,\n",
       "          4.32529658e-01, -2.20102414e-01, -3.06908131e-01,\n",
       "         -1.08810008e-01],\n",
       "        [ 4.85341281e-01,  1.24547586e-01,  2.71189302e-01,\n",
       "         -4.28594314e-02,  4.50052977e-01, -1.73799232e-01,\n",
       "         -1.55270085e-01,  2.80337274e-01,  2.31764704e-01,\n",
       "         -3.43865573e-01,  6.23103753e-02,  2.10962147e-01,\n",
       "         -4.06532995e-02,  3.19053560e-01,  7.93523639e-02,\n",
       "         -8.94915536e-02],\n",
       "        [ 1.17065236e-01, -3.72692406e-01, -2.44738430e-01,\n",
       "         -1.27963901e-01,  5.30562937e-01,  1.82393994e-02,\n",
       "          2.19022006e-01,  2.32207865e-01, -2.14927733e-01,\n",
       "          4.46885347e-01,  1.35510862e-01, -1.34800136e-01,\n",
       "         -2.66376019e-01,  1.68421417e-02, -1.75110042e-01,\n",
       "         -5.53665347e-02],\n",
       "        [-3.41295570e-01,  4.14855689e-01,  6.38245493e-02,\n",
       "          6.54833019e-02,  2.41749823e-01, -2.30144039e-01,\n",
       "          1.31552577e-01, -1.38525618e-02, -2.28622019e-01,\n",
       "          3.28116059e-01,  1.56976923e-01,  2.55470484e-01,\n",
       "          2.79658169e-01,  9.51086506e-02,  3.42450917e-01,\n",
       "         -3.46094191e-01],\n",
       "        [ 1.02029562e-01, -3.19372445e-01, -2.61260182e-01,\n",
       "         -4.88347083e-01,  3.69440019e-03,  1.28762513e-01,\n",
       "         -2.04473615e-01, -1.62690971e-02, -1.31849736e-01,\n",
       "         -4.99480069e-02, -2.85323650e-01,  4.44636792e-01,\n",
       "          1.96806401e-01, -1.76444188e-01,  3.88250291e-01,\n",
       "         -5.08889817e-02],\n",
       "        [ 3.14415812e-01,  1.66611224e-02, -1.95005804e-01,\n",
       "          4.49421853e-01, -6.05975538e-02,  3.13260287e-01,\n",
       "          4.64778155e-01,  1.42790958e-01,  7.50970095e-02,\n",
       "         -1.42916843e-01, -1.39265463e-01,  9.07305554e-02,\n",
       "          7.70316124e-02, -2.75234759e-01,  9.39559266e-02,\n",
       "         -4.22419578e-01],\n",
       "        [-6.40504807e-02, -3.70732397e-01, -7.38234371e-02,\n",
       "          4.44872916e-01,  1.08909480e-01, -2.97146142e-01,\n",
       "         -9.34942886e-02, -1.79752722e-01, -1.41163498e-01,\n",
       "         -4.77535948e-02, -5.14578819e-01, -1.82368398e-01,\n",
       "          9.57753360e-02,  3.94777864e-01,  1.65255457e-01,\n",
       "         -3.59837227e-02],\n",
       "        [-2.50965983e-01,  2.68269360e-01, -6.06282875e-02,\n",
       "         -1.29017204e-01, -5.82374968e-02,  1.90549210e-01,\n",
       "         -2.95787334e-01,  5.67957580e-01, -9.01482925e-02,\n",
       "         -5.29439077e-02, -3.51385027e-01, -3.47124100e-01,\n",
       "         -2.40195736e-01,  3.16292048e-02,  9.15320814e-02,\n",
       "         -2.70168364e-01]], dtype=float32),\n",
       " array([0., 0., 0., 0., 0., 0., 0., 0., 0., 0., 0., 0., 0., 0., 0., 0.],\n",
       "       dtype=float32),\n",
       " array([[ 1.5089475e-04,  1.2925919e-03,  2.5703558e-03, -2.6142327e-03,\n",
       "          1.7478094e-03],\n",
       "        [-3.7287641e-04, -1.4601042e-03,  3.3544190e-03, -2.1813686e-03,\n",
       "         -2.1540367e-03],\n",
       "        [-2.7751615e-03, -4.1970750e-04, -2.5073206e-04,  1.3507260e-03,\n",
       "          2.6685288e-03],\n",
       "        ...,\n",
       "        [-3.8937107e-04,  8.6358422e-04,  3.7128446e-03, -3.2842190e-03,\n",
       "          6.8197772e-04],\n",
       "        [-1.4450978e-03, -3.1463096e-03,  2.5276178e-03,  2.8538504e-03,\n",
       "         -3.1369142e-03],\n",
       "        [ 5.8803707e-05, -3.2642228e-03,  3.3525098e-04, -6.4924220e-04,\n",
       "         -1.7398035e-03]], dtype=float32),\n",
       " array([0., 0., 0., 0., 0.], dtype=float32)]"
      ]
     },
     "execution_count": 51,
     "metadata": {},
     "output_type": "execute_result"
    }
   ],
   "source": [
    "wights = model.get_weights()\n",
    "wights"
   ]
  },
  {
   "cell_type": "code",
   "execution_count": 52,
   "metadata": {
    "scrolled": true
   },
   "outputs": [
    {
     "name": "stdout",
     "output_type": "stream",
     "text": [
      "Epoch 1/120\n",
      "5/5 - 26s - loss: 9.2859 - sparse_categorical_accuracy: 0.5068\n",
      "Epoch 2/120\n",
      "5/5 - 24s - loss: 0.4551 - sparse_categorical_accuracy: 0.9589\n",
      "Epoch 3/120\n",
      "5/5 - 25s - loss: 0.2748 - sparse_categorical_accuracy: 0.9863\n",
      "Epoch 4/120\n",
      "5/5 - 25s - loss: 0.0324 - sparse_categorical_accuracy: 0.9932\n",
      "Epoch 5/120\n",
      "5/5 - 24s - loss: 0.0225 - sparse_categorical_accuracy: 0.9932\n",
      "Epoch 6/120\n",
      "5/5 - 25s - loss: 0.0204 - sparse_categorical_accuracy: 0.9932\n",
      "Epoch 7/120\n",
      "5/5 - 22s - loss: 0.0183 - sparse_categorical_accuracy: 0.9932\n",
      "Epoch 8/120\n",
      "5/5 - 20s - loss: 0.0168 - sparse_categorical_accuracy: 0.9932\n",
      "Epoch 9/120\n",
      "5/5 - 20s - loss: 0.0152 - sparse_categorical_accuracy: 0.9932\n",
      "Epoch 10/120\n",
      "5/5 - 20s - loss: 0.0135 - sparse_categorical_accuracy: 0.9932\n",
      "Epoch 11/120\n",
      "5/5 - 21s - loss: 0.0123 - sparse_categorical_accuracy: 0.9932\n",
      "Epoch 12/120\n",
      "5/5 - 22s - loss: 0.0111 - sparse_categorical_accuracy: 0.9932\n",
      "Epoch 13/120\n",
      "5/5 - 22s - loss: 0.0101 - sparse_categorical_accuracy: 0.9932\n",
      "Epoch 14/120\n",
      "5/5 - 22s - loss: 0.0093 - sparse_categorical_accuracy: 0.9932\n",
      "Epoch 15/120\n",
      "5/5 - 22s - loss: 0.0082 - sparse_categorical_accuracy: 1.0000\n",
      "Epoch 16/120\n",
      "5/5 - 24s - loss: 0.0072 - sparse_categorical_accuracy: 1.0000\n",
      "Epoch 17/120\n",
      "5/5 - 24s - loss: 0.0063 - sparse_categorical_accuracy: 1.0000\n",
      "Epoch 18/120\n",
      "5/5 - 24s - loss: 0.0055 - sparse_categorical_accuracy: 1.0000\n",
      "Epoch 19/120\n",
      "5/5 - 24s - loss: 0.0046 - sparse_categorical_accuracy: 1.0000\n",
      "Epoch 20/120\n",
      "5/5 - 24s - loss: 0.0039 - sparse_categorical_accuracy: 1.0000\n",
      "Epoch 21/120\n",
      "5/5 - 24s - loss: 0.0032 - sparse_categorical_accuracy: 1.0000\n",
      "Epoch 22/120\n",
      "5/5 - 24s - loss: 0.0022 - sparse_categorical_accuracy: 1.0000\n",
      "Epoch 23/120\n",
      "5/5 - 24s - loss: 0.0019 - sparse_categorical_accuracy: 1.0000\n",
      "Epoch 24/120\n",
      "5/5 - 24s - loss: 0.0014 - sparse_categorical_accuracy: 1.0000\n",
      "Epoch 25/120\n",
      "5/5 - 24s - loss: 9.5510e-04 - sparse_categorical_accuracy: 1.0000\n",
      "Epoch 26/120\n",
      "5/5 - 24s - loss: 6.8234e-04 - sparse_categorical_accuracy: 1.0000\n",
      "Epoch 27/120\n",
      "5/5 - 24s - loss: 3.8096e-04 - sparse_categorical_accuracy: 1.0000\n",
      "Epoch 28/120\n",
      "5/5 - 24s - loss: 2.5580e-04 - sparse_categorical_accuracy: 1.0000\n",
      "Epoch 29/120\n",
      "5/5 - 24s - loss: 1.8009e-04 - sparse_categorical_accuracy: 1.0000\n",
      "Epoch 30/120\n",
      "5/5 - 24s - loss: 1.2966e-04 - sparse_categorical_accuracy: 1.0000\n",
      "Epoch 31/120\n",
      "5/5 - 24s - loss: 9.2897e-05 - sparse_categorical_accuracy: 1.0000\n",
      "Epoch 32/120\n",
      "5/5 - 24s - loss: 5.9781e-05 - sparse_categorical_accuracy: 1.0000\n",
      "Epoch 33/120\n",
      "5/5 - 24s - loss: 4.9598e-05 - sparse_categorical_accuracy: 1.0000\n",
      "Epoch 34/120\n",
      "5/5 - 24s - loss: 3.9047e-05 - sparse_categorical_accuracy: 1.0000\n",
      "Epoch 35/120\n",
      "5/5 - 24s - loss: 2.7261e-05 - sparse_categorical_accuracy: 1.0000\n",
      "Epoch 36/120\n",
      "5/5 - 24s - loss: 1.9890e-05 - sparse_categorical_accuracy: 1.0000\n",
      "Epoch 37/120\n",
      "5/5 - 24s - loss: 1.3380e-05 - sparse_categorical_accuracy: 1.0000\n",
      "Epoch 38/120\n",
      "5/5 - 24s - loss: 1.1615e-05 - sparse_categorical_accuracy: 1.0000\n",
      "Epoch 39/120\n",
      "5/5 - 24s - loss: 9.3148e-06 - sparse_categorical_accuracy: 1.0000\n",
      "Epoch 40/120\n",
      "5/5 - 24s - loss: 4.8493e-06 - sparse_categorical_accuracy: 1.0000\n",
      "Epoch 41/120\n",
      "5/5 - 24s - loss: 3.7792e-06 - sparse_categorical_accuracy: 1.0000\n",
      "Epoch 42/120\n",
      "5/5 - 24s - loss: 2.9105e-06 - sparse_categorical_accuracy: 1.0000\n",
      "Epoch 43/120\n",
      "5/5 - 24s - loss: 2.3750e-06 - sparse_categorical_accuracy: 1.0000\n",
      "Epoch 44/120\n",
      "5/5 - 24s - loss: 1.7178e-06 - sparse_categorical_accuracy: 1.0000\n",
      "Epoch 45/120\n",
      "5/5 - 24s - loss: 1.1210e-06 - sparse_categorical_accuracy: 1.0000\n",
      "Epoch 46/120\n",
      "5/5 - 24s - loss: 9.1691e-07 - sparse_categorical_accuracy: 1.0000\n",
      "Epoch 47/120\n",
      "5/5 - 24s - loss: 8.3036e-07 - sparse_categorical_accuracy: 1.0000\n",
      "Epoch 48/120\n",
      "5/5 - 24s - loss: 5.4052e-07 - sparse_categorical_accuracy: 1.0000\n",
      "Epoch 49/120\n",
      "5/5 - 25s - loss: 4.0579e-07 - sparse_categorical_accuracy: 1.0000\n",
      "Epoch 50/120\n",
      "5/5 - 24s - loss: 2.9475e-07 - sparse_categorical_accuracy: 1.0000\n",
      "Epoch 51/120\n",
      "5/5 - 24s - loss: 2.0412e-07 - sparse_categorical_accuracy: 1.0000\n",
      "Epoch 52/120\n",
      "5/5 - 21s - loss: 1.6493e-07 - sparse_categorical_accuracy: 1.0000\n",
      "Epoch 53/120\n",
      "5/5 - 20s - loss: 1.2656e-07 - sparse_categorical_accuracy: 1.0000\n",
      "Epoch 54/120\n",
      "5/5 - 20s - loss: 8.7365e-08 - sparse_categorical_accuracy: 1.0000\n",
      "Epoch 55/120\n",
      "5/5 - 20s - loss: 5.8788e-08 - sparse_categorical_accuracy: 1.0000\n",
      "Epoch 56/120\n",
      "5/5 - 20s - loss: 5.1440e-08 - sparse_categorical_accuracy: 1.0000\n",
      "Epoch 57/120\n",
      "5/5 - 20s - loss: 3.7559e-08 - sparse_categorical_accuracy: 1.0000\n",
      "Epoch 58/120\n",
      "5/5 - 20s - loss: 3.1027e-08 - sparse_categorical_accuracy: 1.0000\n",
      "Epoch 59/120\n",
      "5/5 - 20s - loss: 2.6128e-08 - sparse_categorical_accuracy: 1.0000\n",
      "Epoch 60/120\n",
      "5/5 - 20s - loss: 1.9596e-08 - sparse_categorical_accuracy: 1.0000\n",
      "Epoch 61/120\n",
      "5/5 - 20s - loss: 1.7147e-08 - sparse_categorical_accuracy: 1.0000\n",
      "Epoch 62/120\n",
      "5/5 - 20s - loss: 1.3881e-08 - sparse_categorical_accuracy: 1.0000\n",
      "Epoch 63/120\n",
      "5/5 - 20s - loss: 1.0615e-08 - sparse_categorical_accuracy: 1.0000\n",
      "Epoch 64/120\n",
      "5/5 - 20s - loss: 8.9815e-09 - sparse_categorical_accuracy: 1.0000\n",
      "Epoch 65/120\n",
      "5/5 - 20s - loss: 8.1650e-09 - sparse_categorical_accuracy: 1.0000\n",
      "Epoch 66/120\n",
      "5/5 - 20s - loss: 8.1650e-09 - sparse_categorical_accuracy: 1.0000\n",
      "Epoch 67/120\n",
      "5/5 - 19s - loss: 4.8990e-09 - sparse_categorical_accuracy: 1.0000\n",
      "Epoch 68/120\n",
      "5/5 - 18s - loss: 4.8990e-09 - sparse_categorical_accuracy: 1.0000\n",
      "Epoch 69/120\n",
      "5/5 - 19s - loss: 4.0825e-09 - sparse_categorical_accuracy: 1.0000\n",
      "Epoch 70/120\n",
      "5/5 - 19s - loss: 4.0825e-09 - sparse_categorical_accuracy: 1.0000\n",
      "Epoch 71/120\n",
      "5/5 - 20s - loss: 8.9815e-09 - sparse_categorical_accuracy: 1.0000\n",
      "Epoch 72/120\n",
      "5/5 - 20s - loss: 3.2660e-09 - sparse_categorical_accuracy: 1.0000\n",
      "Epoch 73/120\n",
      "5/5 - 20s - loss: 2.4495e-09 - sparse_categorical_accuracy: 1.0000\n",
      "Epoch 74/120\n",
      "5/5 - 20s - loss: 2.4495e-09 - sparse_categorical_accuracy: 1.0000\n",
      "Epoch 75/120\n",
      "5/5 - 19s - loss: 2.4495e-09 - sparse_categorical_accuracy: 1.0000\n",
      "Epoch 76/120\n",
      "5/5 - 19s - loss: 2.4495e-09 - sparse_categorical_accuracy: 1.0000\n",
      "Epoch 77/120\n",
      "5/5 - 18s - loss: 1.6330e-09 - sparse_categorical_accuracy: 1.0000\n",
      "Epoch 78/120\n",
      "5/5 - 17s - loss: 1.6330e-09 - sparse_categorical_accuracy: 1.0000\n",
      "Epoch 79/120\n",
      "5/5 - 18s - loss: 1.6330e-09 - sparse_categorical_accuracy: 1.0000\n",
      "Epoch 80/120\n",
      "5/5 - 18s - loss: 8.1650e-10 - sparse_categorical_accuracy: 1.0000\n",
      "Epoch 81/120\n",
      "5/5 - 18s - loss: 1.6330e-09 - sparse_categorical_accuracy: 1.0000\n",
      "Epoch 82/120\n",
      "5/5 - 19s - loss: 2.4495e-09 - sparse_categorical_accuracy: 1.0000\n",
      "Epoch 83/120\n",
      "5/5 - 20s - loss: 8.1650e-10 - sparse_categorical_accuracy: 1.0000\n",
      "Epoch 84/120\n",
      "5/5 - 20s - loss: 1.6330e-09 - sparse_categorical_accuracy: 1.0000\n",
      "Epoch 00084: early stopping\n"
     ]
    }
   ],
   "source": [
    "mod = model.fit(X_train,\n",
    "               Y_train, epochs=120, batch_size= 32, verbose=2 , \n",
    "                callbacks=[callback, print_weights, model_check])"
   ]
  },
  {
   "cell_type": "code",
   "execution_count": 53,
   "metadata": {},
   "outputs": [
    {
     "data": {
      "text/plain": [
       "84"
      ]
     },
     "execution_count": 53,
     "metadata": {},
     "output_type": "execute_result"
    }
   ],
   "source": [
    "#Number of Epochs\n",
    "len(wie_by_epoch)"
   ]
  },
  {
   "cell_type": "code",
   "execution_count": 54,
   "metadata": {},
   "outputs": [],
   "source": [
    "#120 +21\n",
    "#model.set_weights(wie_by_epoch[80])\n",
    "#mod.history.get('sparse_categorical_accuracy')"
   ]
  },
  {
   "cell_type": "code",
   "execution_count": 55,
   "metadata": {},
   "outputs": [
    {
     "name": "stdout",
     "output_type": "stream",
     "text": [
      "2/2 - 1s - loss: 0.5222 - sparse_categorical_accuracy: 0.9730\n"
     ]
    },
    {
     "data": {
      "text/plain": [
       "[0.5221662521362305, 0.9729729890823364]"
      ]
     },
     "execution_count": 55,
     "metadata": {},
     "output_type": "execute_result"
    }
   ],
   "source": [
    "scores = model.evaluate(X_test,Y_test, verbose=2)\n",
    "scores"
   ]
  },
  {
   "cell_type": "code",
   "execution_count": 56,
   "metadata": {},
   "outputs": [
    {
     "data": {
      "text/plain": [
       "84"
      ]
     },
     "execution_count": 56,
     "metadata": {},
     "output_type": "execute_result"
    }
   ],
   "source": [
    "len(wie_by_epoch)"
   ]
  },
  {
   "cell_type": "code",
   "execution_count": 57,
   "metadata": {},
   "outputs": [
    {
     "data": {
      "text/plain": [
       "{'loss': 0.5221662521362305, 'sparse_categorical_accuracy': 0.9729729890823364}"
      ]
     },
     "execution_count": 57,
     "metadata": {},
     "output_type": "execute_result"
    }
   ],
   "source": [
    "dict(zip(model.metrics_names, scores))"
   ]
  },
  {
   "cell_type": "code",
   "execution_count": 58,
   "metadata": {},
   "outputs": [
    {
     "data": {
      "image/png": "[encoded data removed]",
      "text/plain": [
       "<Figure size 432x288 with 2 Axes>"
      ]
     },
     "metadata": {
      "needs_background": "light"
     },
     "output_type": "display_data"
    }
   ],
   "source": [
    "from matplotlib import pyplot\n",
    "# plot loss during training\n",
    "pyplot.subplot(211)\n",
    "pyplot.title('Loss')\n",
    "pyplot.plot(mod.history['loss'], label='train')\n",
    "#pyplot.plot(mod.history['val_loss'], label='test')\n",
    "pyplot.legend()\n",
    "# plot accuracy during training\n",
    "pyplot.subplot(212)\n",
    "pyplot.title('Accuracy')\n",
    "pyplot.plot(mod.history['sparse_categorical_accuracy'], label='train')\n",
    "#pyplot.plot(mod.history['val_accuracy'], label='test')\n",
    "pyplot.legend()\n",
    "pyplot.show()"
   ]
  },
  {
   "cell_type": "code",
   "execution_count": 59,
   "metadata": {},
   "outputs": [],
   "source": [
    "# predict probabilities for test set\n",
    "yhat_probs = model.predict(X_test.astype('float32'), verbose=0)\n",
    "# predict crisp classes for test set\n",
    "#yhat_classes = model.predict_classes(X_test, verbose=0)\n",
    "yhat_classes = np.argmax(yhat_probs,axis=1)"
   ]
  },
  {
   "cell_type": "code",
   "execution_count": 60,
   "metadata": {},
   "outputs": [],
   "source": [
    "from sklearn.datasets import make_circles\n",
    "from sklearn.metrics import accuracy_score\n",
    "from sklearn.metrics import precision_score\n",
    "from sklearn.metrics import recall_score\n",
    "from sklearn.metrics import f1_score\n",
    "from sklearn.metrics import cohen_kappa_score\n",
    "from sklearn.metrics import roc_auc_score\n",
    "from sklearn.metrics import confusion_matrix\n",
    "from sklearn.metrics import roc_curve\n"
   ]
  },
  {
   "cell_type": "code",
   "execution_count": 61,
   "metadata": {},
   "outputs": [
    {
     "name": "stdout",
     "output_type": "stream",
     "text": [
      "Accuracy: 0.972973\n",
      "Precision: 0.978261\n",
      "Recall: 0.966667\n",
      "F1 score: 0.971648\n"
     ]
    }
   ],
   "source": [
    "# accuracy: (tp + tn) / (p + n)\n",
    "accuracy = accuracy_score(Y_test, yhat_classes)\n",
    "print('Accuracy: %f' % accuracy)\n",
    "# precision tp / (tp + fp)\n",
    "precision = precision_score(Y_test, yhat_classes, average='macro')\n",
    "print('Precision: %f' % precision)\n",
    "# recall: tp / (tp + fn)\n",
    "recall = recall_score(Y_test, yhat_classes,average='macro')\n",
    "print('Recall: %f' % recall)\n",
    "# f1: 2 tp / (2 tp + fp + fn)\n",
    "f1 = f1_score(Y_test, yhat_classes, average='macro')\n",
    "print('F1 score: %f' % f1)"
   ]
  },
  {
   "cell_type": "code",
   "execution_count": 62,
   "metadata": {},
   "outputs": [
    {
     "name": "stdout",
     "output_type": "stream",
     "text": [
      "Cohens kappa: 0.943338\n",
      "[[22  0]\n",
      " [ 1 14]]\n"
     ]
    }
   ],
   "source": [
    "# kappa\n",
    "kappa = cohen_kappa_score(Y_test, yhat_classes)\n",
    "print('Cohens kappa: %f' % kappa)\n",
    "# ROC AUC\n",
    "#fprate, tprate, thresholds = roc_curve(Y_test, yhat_probs, average = 'macro')\n",
    "#print('ROC AUC: %f' % thresholds)\n",
    "# confusion matrix\n",
    "matrix = confusion_matrix(Y_test, yhat_classes)\n",
    "print(matrix)"
   ]
  },
  {
   "cell_type": "code",
   "execution_count": 63,
   "metadata": {},
   "outputs": [
    {
     "name": "stderr",
     "output_type": "stream",
     "text": [
      "C:\\Users\\hp\\Anaconda3\\lib\\site-packages\\sklearn\\metrics\\ranking.py:659: UndefinedMetricWarning: No positive samples in y_true, true positive value should be meaningless\n",
      "  UndefinedMetricWarning)\n"
     ]
    }
   ],
   "source": [
    "fpr = {}\n",
    "tpr = {}\n",
    "thresh ={}\n",
    "\n",
    "n_class = 5\n",
    "\n",
    "for i in range(n_class):    \n",
    "    fpr[i], tpr[i], thresh[i] = roc_curve(Y_test, yhat_classes, pos_label=i)"
   ]
  },
  {
   "cell_type": "code",
   "execution_count": 64,
   "metadata": {},
   "outputs": [
    {
     "data": {
      "image/png": "[encoded data removed]",
      "text/plain": [
       "<Figure size 432x288 with 1 Axes>"
      ]
     },
     "metadata": {
      "needs_background": "light"
     },
     "output_type": "display_data"
    }
   ],
   "source": [
    "# plotting    \n",
    "plt.plot(fpr[0], tpr[0], linestyle='--',color='orange', label='Class 0 vs Rest')\n",
    "plt.plot(fpr[1], tpr[1], linestyle='--',color='green', label='Class 1 vs Rest')\n",
    "plt.plot(fpr[2], tpr[2], linestyle='--',color='blue', label='Class 2 vs Rest')\n",
    "plt.plot(fpr[3], tpr[3], linestyle='--',color='red', label='Class 3 vs Rest')\n",
    "plt.plot(fpr[4], tpr[4], linestyle='--',color='black', label='Class 4 vs Rest')\n",
    "plt.title('Multiclass ROC curve')\n",
    "plt.xlabel('False Positive Rate')\n",
    "plt.ylabel('True Positive rate')\n",
    "plt.legend(loc='best')\n",
    "plt.savefig('Multiclass ROC',dpi=300); "
   ]
  },
  {
   "cell_type": "code",
   "execution_count": 65,
   "metadata": {},
   "outputs": [
    {
     "name": "stdout",
     "output_type": "stream",
     "text": [
      "Confusion matrix : \n",
      " [[22  0]\n",
      " [ 1 14]]\n"
     ]
    }
   ],
   "source": [
    "from sklearn.metrics import confusion_matrix\n",
    "from sklearn.metrics import classification_report\n",
    "matrix = confusion_matrix(Y_test, yhat_classes, labels= [0, 1])\n",
    "print('Confusion matrix : \\n',matrix)"
   ]
  },
  {
   "cell_type": "code",
   "execution_count": 66,
   "metadata": {},
   "outputs": [
    {
     "name": "stdout",
     "output_type": "stream",
     "text": [
      "Classification report : \n",
      "               precision    recall  f1-score   support\n",
      "\n",
      "           0       0.96      1.00      0.98        22\n",
      "           1       1.00      0.93      0.97        15\n",
      "\n",
      "    accuracy                           0.97        37\n",
      "   macro avg       0.98      0.97      0.97        37\n",
      "weighted avg       0.97      0.97      0.97        37\n",
      "\n"
     ]
    }
   ],
   "source": [
    "matrix = classification_report(Y_test,yhat_classes, labels= [0, 1])\n",
    "print('Classification report : \\n',matrix)"
   ]
  },
  {
   "cell_type": "code",
   "execution_count": 67,
   "metadata": {},
   "outputs": [
    {
     "name": "stdout",
     "output_type": "stream",
     "text": [
      "INFO:tensorflow:Assets written to: ./models/Binary Classifcation/With IP/SImple RNN\\assets\n"
     ]
    }
   ],
   "source": [
    "model.save('./models/Binary Classifcation/With IP/SImple RNN')"
   ]
  },
  {
   "cell_type": "code",
   "execution_count": 222,
   "metadata": {},
   "outputs": [
    {
     "data": {
      "text/plain": [
       "<keras.engine.sequential.Sequential at 0x1d1d471f548>"
      ]
     },
     "execution_count": 222,
     "metadata": {},
     "output_type": "execute_result"
    }
   ],
   "source": [
    "#keras.models.load_model('./models/IP address/LSTM')"
   ]
  }
 ],
 "metadata": {
  "kernelspec": {
   "display_name": "Python 3",
   "language": "python",
   "name": "python3"
  },
  "language_info": {
   "codemirror_mode": {
    "name": "ipython",
    "version": 3
   },
   "file_extension": ".py",
   "mimetype": "text/x-python",
   "name": "python",
   "nbconvert_exporter": "python",
   "pygments_lexer": "ipython3",
   "version": "3.7.4"
  }
 },
 "nbformat": 4,
 "nbformat_minor": 2
}

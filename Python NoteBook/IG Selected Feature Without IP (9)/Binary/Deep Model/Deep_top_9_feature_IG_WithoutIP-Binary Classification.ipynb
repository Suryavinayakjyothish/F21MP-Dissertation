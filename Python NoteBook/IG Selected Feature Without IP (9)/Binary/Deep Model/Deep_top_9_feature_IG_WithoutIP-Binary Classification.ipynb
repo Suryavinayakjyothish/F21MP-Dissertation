{
 "cells": [
  {
   "cell_type": "code",
   "execution_count": 1,
   "metadata": {},
   "outputs": [],
   "source": [
    "import pandas as pd\n",
    "import numpy as np\n",
    "from datetime import datetime\n",
    "import time\n",
    "import matplotlib.pyplot as plt\n",
    "import gc\n",
    "pd.set_option('display.max_columns', None)"
   ]
  },
  {
   "cell_type": "code",
   "execution_count": 2,
   "metadata": {},
   "outputs": [],
   "source": [
    "## for machine learning\n",
    "from sklearn import model_selection, preprocessing, feature_selection, ensemble, linear_model, metrics, decomposition\n",
    "## for plotting\n",
    "import matplotlib.pyplot as plt\n",
    "## for machine learning\n",
    "from sklearn import model_selection, preprocessing, feature_selection, ensemble, linear_model, metrics, decomposition\n",
    "from sklearn.preprocessing import LabelEncoder,Normalizer,StandardScaler, OneHotEncoder, MinMaxScaler\n",
    "from sklearn.feature_selection import mutual_info_classif\n",
    "from sklearn.metrics import confusion_matrix\n",
    "from sklearn.metrics import classification_report\n",
    "## for explainer\n",
    "#from lime import lime_tabular"
   ]
  },
  {
   "cell_type": "code",
   "execution_count": 3,
   "metadata": {},
   "outputs": [],
   "source": [
    "#to compute information gain\n",
    "def compute_impurity(feature, impurity_criterion):\n",
    "    \"\"\"\n",
    "    This function calculates impurity of a feature.\n",
    "    Supported impurity criteria: 'entropy', 'gini'\n",
    "    input: feature (this needs to be a Pandas series)\n",
    "    output: feature impurity\n",
    "    \"\"\"\n",
    "    probs = feature.value_counts(normalize=True)\n",
    "    \n",
    "    if impurity_criterion == 'entropy':\n",
    "        impurity = -1 * np.sum(np.log2(probs) * probs)\n",
    "    elif impurity_criterion == 'gini':\n",
    "        impurity = 1 - np.sum(np.square(probs))\n",
    "    else:\n",
    "        raise ValueError('Unknown impurity criterion')\n",
    "    return(round(impurity, 3))\n",
    "\n",
    "def comp_feature_information_gain(df, target, descriptive_feature, split_criterion):\n",
    "    \"\"\"\n",
    "    This function calculates information gain for splitting on \n",
    "    a particular descriptive feature for a given dataset\n",
    "    and a given impurity criteria.\n",
    "    Supported split criterion: 'entropy', 'gini'\n",
    "    \"\"\"\n",
    "    \n",
    "    print('target feature:', target)\n",
    "    print('descriptive_feature:', descriptive_feature)\n",
    "    print('split criterion:', split_criterion)\n",
    "            \n",
    "    target_entropy = compute_impurity(df[target], split_criterion)\n",
    "\n",
    "    # we define two lists below:\n",
    "    # entropy_list to store the entropy of each partition\n",
    "    # weight_list to store the relative number of observations in each partition\n",
    "    entropy_list = list()\n",
    "    weight_list = list()\n",
    "    \n",
    "    # loop over each level of the descriptive feature\n",
    "    # to partition the dataset with respect to that level\n",
    "    # and compute the entropy and the weight of the level's partition\n",
    "    for level in df[descriptive_feature].unique():\n",
    "        df_feature_level = df[df[descriptive_feature] == level]\n",
    "        entropy_level = compute_impurity(df_feature_level[target], split_criterion)\n",
    "        entropy_list.append(round(entropy_level, 3))\n",
    "        weight_level = len(df_feature_level) / len(df)\n",
    "        weight_list.append(round(weight_level, 3))\n",
    "\n",
    "   # print('impurity of partitions:', entropy_list)\n",
    "   # print('weights of partitions:', weight_list)\n",
    "\n",
    "    feature_remaining_impurity = np.sum(np.array(entropy_list) * np.array(weight_list))\n",
    "    print('remaining impurity:', feature_remaining_impurity)\n",
    "    \n",
    "    information_gain = target_entropy - feature_remaining_impurity\n",
    "    print('information gain:', information_gain)\n",
    "    \n",
    "    print('====================')\n",
    "\n",
    "    return(information_gain)"
   ]
  },
  {
   "cell_type": "code",
   "execution_count": 4,
   "metadata": {},
   "outputs": [],
   "source": [
    "#a = pd.read_csv('drive/My Drive/Colab Notebooks/traffic/OpenStack/CIDDS-001-internal-week1.csv', low_memory=False, encoding='cp1252')\n",
    "#b = pd.read_csv('drive/My Drive/Colab Notebooks/traffic/OpenStack/CIDDS-001-internal-week2.csv', low_memory=False, encoding='cp1252')\n",
    "a = pd.read_csv('./CIDDS-001/traffic/OpenStack/CIDDS-001-internal-week1.csv', low_memory=False, encoding='cp1252')\n",
    "b = pd.read_csv('./CIDDS-001/traffic/OpenStack/CIDDS-001-internal-week2.csv', low_memory=False, encoding='cp1252')\n",
    "c =  pd.read_csv('./CIDDS-001/traffic/ExternalServer/CIDDS-001-external-week2.csv', low_memory=False, encoding='cp1252')\n",
    "d =  pd.read_csv('./CIDDS-001/traffic/ExternalServer/CIDDS-001-external-week3.csv', low_memory=False, encoding='cp1252')\n",
    "e =  pd.read_csv('./CIDDS-001/traffic/ExternalServer/CIDDS-001-external-week4.csv', low_memory=False, encoding='cp1252')\n",
    "#f =  pd.read_csv('./CIDDS-001/traffic/ExternalServer/CIDDS-001-external-week1.csv', low_memory=False, encoding='cp1252')\n",
    "#c = pd.read_csv('drive/My Drive/Colab Notebooks/traffic/OpenStack/CIDDS-001-internal-week3.csv', low_memory=False , encoding='cp1252')\n",
    "#d = pd.read_csv('drive/My Drive/Colab Notebooks/traffic/OpenStack/CIDDS-001-internal-week4.csv', low_memory=False, encoding='cp1252')\n",
    "#e =  pd.read_csv('drive/My Drive/Colab Notebooks/traffic/ExternalServer/CIDDS-001-external-week1.csv', low_memory=False, encoding='cp1252')\n",
    "#f =  pd.read_csv('drive/My Drive/Colab Notebooks/traffic/ExternalServer/CIDDS-001-external-week2.csv', low_memory=False, encoding='cp1252')\n",
    "#g =  pd.read_csv('drive/My Drive/Colab Notebooks/traffic/ExternalServer/CIDDS-001-external-week3.csv', low_memory=False, encoding='cp1252')\n",
    "#h =  pd.read_csv('drive/My Drive/Colab Notebooks/traffic/ExternalServer/CIDDS-001-external-week4.csv', low_memory=False, encoding='cp1252')"
   ]
  },
  {
   "cell_type": "code",
   "execution_count": 5,
   "metadata": {},
   "outputs": [
    {
     "name": "stdout",
     "output_type": "stream",
     "text": [
      "(10310733, 16)\n"
     ]
    },
    {
     "data": {
      "text/plain": [
       "(1795404, 16)"
      ]
     },
     "execution_count": 5,
     "metadata": {},
     "output_type": "execute_result"
    }
   ],
   "source": [
    "print(b.shape)\n",
    "#a.drop(a[a['attackType'] == '---'].index, axis = 0, inplace= True) \n",
    "b.drop(b[b['attackType'] == '---'].index, axis = 0, inplace= True)  \n",
    "c.drop(c[c['attackType'] == '---'].index, axis = 0, inplace= True)  \n",
    "d.drop(d[d['attackType'] == '---'].index, axis = 0, inplace= True)  \n",
    "#e.drop(e[e['attackType'] == '---'].index, axis = 0, inplace= True)  \n",
    "b.shape"
   ]
  },
  {
   "cell_type": "code",
   "execution_count": 6,
   "metadata": {},
   "outputs": [],
   "source": [
    "data_external = pd.concat([c,d,e], axis = 0)\n",
    "data_external.reset_index(drop= True, inplace= True)"
   ]
  },
  {
   "cell_type": "code",
   "execution_count": 7,
   "metadata": {},
   "outputs": [],
   "source": [
    "#to Increment attackID values\n",
    "data_external['attackID'] = data_external['attackID'].apply(lambda x: str(int(x) + 70) if x != '---' else x)"
   ]
  },
  {
   "cell_type": "code",
   "execution_count": 8,
   "metadata": {},
   "outputs": [],
   "source": [
    "def convert_bytes(df):\n",
    "    if 'M' in df:\n",
    "        df = df.split('M')\n",
    "        df = df[0].strip()\n",
    "        df = float(df) * 1000000\n",
    "    elif 'B' in df:\n",
    "        df = df.split('B')\n",
    "        df = df[0].strip()\n",
    "        df =  float(df) * 1000000000\n",
    "    else: \n",
    "        df =float(df)\n",
    "    return df"
   ]
  },
  {
   "cell_type": "code",
   "execution_count": 9,
   "metadata": {},
   "outputs": [
    {
     "data": {
      "text/plain": [
       "60"
      ]
     },
     "execution_count": 9,
     "metadata": {},
     "output_type": "execute_result"
    }
   ],
   "source": [
    "data = pd.concat([a,b,data_external], axis = 0)\n",
    "data.reset_index(drop= True, inplace= True)\n",
    "data['Bytes'] = data['Bytes'].apply(lambda x: convert_bytes(x))\n",
    "data['attackType'] = data['attackType'].apply(lambda x:  'attack' if (x!= '---') else x )\n",
    "columns = ['Src Pt', 'Dst Pt','Tos','Flows','Packets', 'Bytes']\n",
    "for i in columns:\n",
    "    data[i] = pd.to_numeric(data[i]);\n",
    "del columns\n",
    "del a,b,c,d,e, data_external\n",
    "gc.collect()"
   ]
  },
  {
   "cell_type": "code",
   "execution_count": 10,
   "metadata": {},
   "outputs": [],
   "source": [
    "#Converts Hexadecimal value to Binary\n",
    "def hex_to_binary(hexdata):\n",
    "    scale = 16 ## equals to hexadecimal\n",
    "    num_of_bits = 9\n",
    "    return bin(int(hexdata, scale))[2:].zfill(num_of_bits);\n",
    "#Converts TCP flags to Binary\n",
    "def to_Binary(x):\n",
    "    l = 0\n",
    "    x = '...' + x\n",
    "    x = list(x)\n",
    "    for i in x:\n",
    "        if (i=='.'):\n",
    "            x[l]= '0'\n",
    "        else:\n",
    "            x[l] = '1'\n",
    "        l = l +1\n",
    "    return ''.join(x)\n",
    "#Converts the 'Flags' column to 9 indiviual columns (manual oneshot encoding)\n",
    "def flag_convert(df):  \n",
    "   # df['Flags'] = df['Flags'].apply(lambda x: (list(x)))\n",
    "   # temp = df['Flags'].apply(lambda x: toBinary(x))\n",
    "    hex_values = list(df[(df['Flags'].str.contains(\"0x\", na=False))]['Flags'].unique())\n",
    "    flag_values = list(df[~(df['Flags'].str.contains(\"0x\", na=False))]['Flags'].unique())\n",
    "    binary_values = {}\n",
    "    for i in hex_values:\n",
    "         binary_values[i] = (hex_to_binary(i))\n",
    "    for i in flag_values:\n",
    "         binary_values[i] = (to_Binary(i))\n",
    "    temp = df['Flags'].replace(binary_values)\n",
    "#temp = temp.apply(lambda x: pd.Series(x)) \n",
    "    temp = pd.DataFrame(temp.apply(list).tolist())\n",
    "#temp = pd.DataFrame(temp)\n",
    "#a = a.iloc[: , 1:]\n",
    "   # print(temp.head())\n",
    "    temp.columns = ['N','C','E','U' ,'A','P','R','S','F']\n",
    "    for i in temp.columns:\n",
    "        temp[i] = pd.to_numeric(temp[i]);\n",
    "    temp = temp.reset_index(drop=True)\n",
    "    df = df.reset_index(drop=True)\n",
    "    df = pd.concat([df, temp], axis = 1)\n",
    "    return df;"
   ]
  },
  {
   "cell_type": "code",
   "execution_count": 11,
   "metadata": {},
   "outputs": [],
   "source": [
    "#make a IP_pairs \n",
    "def make_pair(df):\n",
    "    ip_pair = df['Src IP Addr'] +'/' +df['Dst IP Addr']\n",
    "    source_ip = df['Src IP Addr'].unique().tolist()\n",
    "    destination_ip = df['Dst IP Addr'].unique().tolist()\n",
    "   # df = df.drop(columns = ['Src IP Addr', 'Dst IP Addr'])\n",
    "    df.insert(1, ' IP Pair', ip_pair)\n",
    "    return df\n",
    "\n",
    "def check_inverse(df):\n",
    "    list_pairs = df[' IP Pair'].unique()\n",
    "    tuple_pair = []\n",
    "    for i in list_pairs:\n",
    "        tuple_pair.append(tuple((i.split('/'))))\n",
    "    dic_store = {}\n",
    "    for i in tuple_pair:\n",
    "        if (i  not in dic_store.keys()) and (i[::-1] not in dic_store.keys()):\n",
    "            dic_store[i] = i[0] + '/' +i[1]\n",
    "    print(len(dic_store.keys()))\n",
    "    dic_final = {}\n",
    "    for i in dic_store.keys():\n",
    "        dic_final[i[0] + '/' +i[1]] = dic_store[i]\n",
    "        dic_final[i[1] + '/' +i[0]] = dic_store[i]\n",
    "    df[' IP Pair'] = df[' IP Pair'].map(dic_final)               \n",
    "    return df"
   ]
  },
  {
   "cell_type": "code",
   "execution_count": 12,
   "metadata": {},
   "outputs": [],
   "source": [
    "def normalize_IP(df):\n",
    "    columns = ['sourceIP_feature 1', 'sourceIP_feature 2', 'sourceIP_feature 3', 'sourceIP_feature 4', 'destIP_feature 1',\n",
    "              'destIP_feature 2', 'destIP_feature 3', 'destIP_feature 4']\n",
    "    normalized = df[columns]\n",
    "    print(columns)\n",
    "    transformed = MinMaxScaler().fit(normalized).transform(normalized)\n",
    "    transformed = pd.DataFrame(transformed)\n",
    "    j = 0\n",
    "    col = {}\n",
    "    for i in columns:\n",
    "        col[j] = i\n",
    "        j=j+1\n",
    "    transformed = transformed.rename(columns = col)\n",
    "    transformed = transformed.reset_index()\n",
    "    for i in columns:\n",
    "        df[i] = transformed[i].to_numpy()\n",
    "    return df;"
   ]
  },
  {
   "cell_type": "code",
   "execution_count": 13,
   "metadata": {},
   "outputs": [],
   "source": [
    "def normalize(df):\n",
    "    numerics = ['int16', 'int32', 'int64', 'float16', 'float32', 'float64']\n",
    "    columns = data.select_dtypes(include=numerics).columns\n",
    "    normalized = df[columns]\n",
    "    print(columns)\n",
    "    transformed = MinMaxScaler().fit(normalized).transform(normalized)\n",
    "    transformed = pd.DataFrame(transformed)\n",
    "    j = 0\n",
    "    col = {}\n",
    "    for i in columns:\n",
    "        col[j] = i\n",
    "        j=j+1\n",
    "    transformed = transformed.rename(columns = col)\n",
    "    transformed = transformed.reset_index()\n",
    "    for i in columns:\n",
    "        df[i] = transformed[i].to_numpy()\n",
    "    return df;"
   ]
  },
  {
   "cell_type": "code",
   "execution_count": 14,
   "metadata": {},
   "outputs": [],
   "source": [
    "def one_shot(df):\n",
    "    label_encoder = LabelEncoder()\n",
    "    #df.astype({'attackType': 'str'})\n",
    "    df['attackType'] = label_encoder.fit_transform(df['attackType'])\n",
    "    print(list(label_encoder.classes_))\n",
    "    print(list(label_encoder.transform(label_encoder.classes_)))\n",
    "    \n",
    "    \n",
    "    \n",
    "    df['Proto'] = label_encoder.fit_transform(df['Proto'])\n",
    "    print(list(label_encoder.classes_))\n",
    "    print(list(label_encoder.transform(label_encoder.classes_)))\n",
    "    \n",
    "    onehot_encoder1 = OneHotEncoder()\n",
    "    onehot_encoder1.fit(df.Proto.to_numpy().reshape(-1, 1))\n",
    "    proto = onehot_encoder1.transform(df.Proto.to_numpy().reshape(-1, 1))\n",
    "    proto = pd.DataFrame.sparse.from_spmatrix(proto)\n",
    "    proto.astype('int32')\n",
    "    proto.columns = label_encoder.classes_\n",
    "   # print(proto.head(1))\n",
    "    df = pd.concat([df, proto], axis = 1)\n",
    "    return df;"
   ]
  },
  {
   "cell_type": "code",
   "execution_count": 15,
   "metadata": {},
   "outputs": [],
   "source": [
    "def drop_columns(df):\n",
    "    return df.drop(columns = ['Date first seen', ' IP Pair', 'Flows', 'class', 'attackID','Flags',\n",
    "                              'attackDescription', 'Src IP Addr', 'Dst IP Addr','Proto'], axis =1)"
   ]
  },
  {
   "cell_type": "code",
   "execution_count": 16,
   "metadata": {},
   "outputs": [],
   "source": [
    "#Aplit IP address into features, 7 features\n",
    "def split_to_net(IP_address):\n",
    "    IP_list = IP_address.split(\".\")\n",
    "    needed_len = 7\n",
    "    needed_len = needed_len - len(IP_list)\n",
    "    for i in range(0,needed_len,1):\n",
    "        IP_list.append('0')\n",
    "    return IP_list\n",
    "#replace unknown IP address, and convert to columns\n",
    "def IP_split(df): \n",
    "    replace = {\"ATTACKER1\":\"0.0.0.0\",\n",
    "           \"ATTACKER2\":\"0.0.0.0\",\n",
    "           \"ATTACKER3\":\"0.0.0.0\",\n",
    "           \"EXT_SERVER\": \"0.0.0.0.1\",\n",
    "          \"OPENSTACK_NET\": \"0.0.0.0.0.1\",\n",
    "          \"DNS\": \"0.0.0.0.0.0.1\"}\n",
    "    df = df.replace({\"Src IP Addr\": replace, \"Dst IP Addr\": replace}, value=None)\n",
    "    temp_source = df[\"Src IP Addr\"].apply(lambda x: \"0.0.0.0.0.0.0\" if ('_') in x else x)\n",
    "    temp_des = df['Dst IP Addr'].apply(lambda x: \"0.0.0.0.0.0.0\" if ('_') in x else x)\n",
    "   # sourceIP = list(df[\"Src IP Addr\"].unique())\n",
    "   # destIP = list(df[\"Dst IP Addr\"].unique())\n",
    "   # sourceIP_values = {}\n",
    "   # desIP_values = {}\n",
    "   # for i in sourceIP:\n",
    "   #      sourceIP_values[i] = (split_to_net(i))\n",
    "   # for i in destIP:\n",
    "   #      desIP_values[i] = (split_to_net(i))\n",
    "    #print(sourceIP_values)\n",
    "   # print(desIP_values)\n",
    "#for Source IP\n",
    "    temp_source = temp_source.apply(lambda x: split_to_net(x) )\n",
    "    temp_source = pd.DataFrame(temp_source.apply(list).tolist())\n",
    "    temp_source.columns = ['sourceIP_feature 1','sourceIP_feature 2','sourceIP_feature 3','sourceIP_feature 4' ,\n",
    "                    'sourceEXT_SERVER','sourceOPENSTACK_NET','sourceDNS']\n",
    "    for i in temp_source.columns:\n",
    "        temp_source[i] = pd.to_numeric(temp_source[i]);\n",
    "    temp_source = temp_source.reset_index(drop=True)\n",
    "    df = df.reset_index(drop=True)\n",
    "    df = pd.concat([df, temp_source], axis = 1)\n",
    "    #for Destination IP\n",
    "    temp_des = temp_des.apply(lambda x: split_to_net(x) )\n",
    "    temp_des = pd.DataFrame(temp_des.apply(list).tolist())\n",
    "    temp_des.columns = ['destIP_feature 1','destIP_feature 2','destIP_feature 3','destIP_feature 4' ,\n",
    "                    'destEXT_SERVER','destOPENSTACK_NET','destDNS']\n",
    "    for i in temp_des.columns:\n",
    "        temp_des[i] = pd.to_numeric(temp_des[i]);\n",
    "    temp_des = temp_des.reset_index(drop=True)\n",
    "    df = df.reset_index(drop=True)\n",
    "    df = pd.concat([df, temp_des], axis = 1)\n",
    "    return df;"
   ]
  },
  {
   "cell_type": "code",
   "execution_count": 17,
   "metadata": {},
   "outputs": [
    {
     "name": "stdout",
     "output_type": "stream",
     "text": [
      "59362\n"
     ]
    }
   ],
   "source": [
    "data = make_pair(data)\n",
    "data = check_inverse(data)"
   ]
  },
  {
   "cell_type": "code",
   "execution_count": 18,
   "metadata": {},
   "outputs": [],
   "source": [
    "#data = IP_split(data)"
   ]
  },
  {
   "cell_type": "code",
   "execution_count": 19,
   "metadata": {
    "scrolled": true
   },
   "outputs": [
    {
     "name": "stdout",
     "output_type": "stream",
     "text": [
      "Index(['Duration', 'Src Pt', 'Dst Pt', 'Packets', 'Bytes', 'Flows', 'Tos'], dtype='object')\n",
      "['---', 'attack']\n",
      "[0, 1]\n",
      "['GRE  ', 'ICMP ', 'IGMP ', 'TCP  ', 'UDP  ']\n",
      "[0, 1, 2, 3, 4]\n"
     ]
    },
    {
     "name": "stderr",
     "output_type": "stream",
     "text": [
      "C:\\Users\\hp\\Anaconda3\\lib\\site-packages\\sklearn\\preprocessing\\_encoders.py:415: FutureWarning: The handling of integer data will change in version 0.22. Currently, the categories are determined based on the range [0, max(values)], while in the future they will be determined based on the unique values.\n",
      "If you want the future behaviour and silence this warning, you can specify \"categories='auto'\".\n",
      "In case you used a LabelEncoder before this OneHotEncoder to convert the categories to integers, then you can now use the OneHotEncoder directly.\n",
      "  warnings.warn(msg, FutureWarning)\n"
     ]
    }
   ],
   "source": [
    "data = normalize(data)\n",
    "data =  one_shot(data) \n",
    "#data = normalize_IP(data)"
   ]
  },
  {
   "cell_type": "code",
   "execution_count": 20,
   "metadata": {},
   "outputs": [],
   "source": [
    "data_ig = flag_convert(data)\n",
    "data_ig = drop_columns(data)"
   ]
  },
  {
   "cell_type": "code",
   "execution_count": 21,
   "metadata": {
    "scrolled": true
   },
   "outputs": [
    {
     "name": "stdout",
     "output_type": "stream",
     "text": [
      "target feature: attackType\n",
      "descriptive_feature: Duration\n",
      "split criterion: entropy\n",
      "remaining impurity: 0.401493\n",
      "information gain: 0.640507\n",
      "====================\n",
      "target feature: attackType\n",
      "descriptive_feature: Src Pt\n",
      "split criterion: entropy\n",
      "remaining impurity: 0.27205699999999994\n",
      "information gain: 0.769943\n",
      "====================\n",
      "target feature: attackType\n",
      "descriptive_feature: Dst Pt\n",
      "split criterion: entropy\n",
      "remaining impurity: 0.27464799999999995\n",
      "information gain: 0.767352\n",
      "====================\n",
      "target feature: attackType\n",
      "descriptive_feature: Packets\n",
      "split criterion: entropy\n",
      "remaining impurity: 0.48312599999999994\n",
      "information gain: 0.5588740000000001\n",
      "====================\n",
      "target feature: attackType\n",
      "descriptive_feature: Bytes\n",
      "split criterion: entropy\n",
      "remaining impurity: 0.065486\n",
      "information gain: 0.976514\n",
      "====================\n",
      "target feature: attackType\n",
      "descriptive_feature: Tos\n",
      "split criterion: entropy\n",
      "remaining impurity: 0.8962410000000001\n",
      "information gain: 0.14575899999999997\n",
      "====================\n",
      "target feature: attackType\n",
      "descriptive_feature: GRE  \n",
      "split criterion: entropy\n"
     ]
    },
    {
     "name": "stderr",
     "output_type": "stream",
     "text": [
      "C:\\Users\\hp\\Anaconda3\\lib\\site-packages\\pandas\\core\\indexing.py:2418: FutureWarning: DataFrame/Series.to_dense is deprecated and will be removed in a future version\n",
      "  result = result.to_dense()\n"
     ]
    },
    {
     "name": "stdout",
     "output_type": "stream",
     "text": [
      "remaining impurity: 1.042\n",
      "information gain: 0.0\n",
      "====================\n",
      "target feature: attackType\n",
      "descriptive_feature: ICMP \n",
      "split criterion: entropy\n",
      "remaining impurity: 1.032648\n",
      "information gain: 0.009352000000000027\n",
      "====================\n",
      "target feature: attackType\n",
      "descriptive_feature: IGMP \n",
      "split criterion: entropy\n",
      "remaining impurity: 1.042\n",
      "information gain: 0.0\n",
      "====================\n",
      "target feature: attackType\n",
      "descriptive_feature: TCP  \n",
      "split criterion: entropy\n",
      "remaining impurity: 0.9856520000000001\n",
      "information gain: 0.056347999999999954\n",
      "====================\n",
      "target feature: attackType\n",
      "descriptive_feature: UDP  \n",
      "split criterion: entropy\n",
      "remaining impurity: 0.9867680000000001\n",
      "information gain: 0.05523199999999995\n",
      "====================\n"
     ]
    },
    {
     "data": {
      "text/plain": [
       "{'Duration': 0.640507,\n",
       " 'Src Pt': 0.769943,\n",
       " 'Dst Pt': 0.767352,\n",
       " 'Packets': 0.5588740000000001,\n",
       " 'Bytes': 0.976514,\n",
       " 'Tos': 0.14575899999999997,\n",
       " 'GRE  ': 0.0,\n",
       " 'ICMP ': 0.009352000000000027,\n",
       " 'IGMP ': 0.0,\n",
       " 'TCP  ': 0.056347999999999954,\n",
       " 'UDP  ': 0.05523199999999995}"
      ]
     },
     "execution_count": 21,
     "metadata": {},
     "output_type": "execute_result"
    }
   ],
   "source": [
    "split_criterion = 'entropy'\n",
    "feature_info_gain = {}\n",
    "for feature in data_ig.drop(columns='attackType').columns:\n",
    "    feature_info_gain[feature] = comp_feature_information_gain(data_ig, 'attackType', feature, split_criterion)\n",
    "feature_info_gain"
   ]
  },
  {
   "cell_type": "code",
   "execution_count": 22,
   "metadata": {
    "scrolled": true
   },
   "outputs": [
    {
     "data": {
      "text/html": [
       "<div>\n",
       "<style scoped>\n",
       "    .dataframe tbody tr th:only-of-type {\n",
       "        vertical-align: middle;\n",
       "    }\n",
       "\n",
       "    .dataframe tbody tr th {\n",
       "        vertical-align: top;\n",
       "    }\n",
       "\n",
       "    .dataframe thead th {\n",
       "        text-align: right;\n",
       "    }\n",
       "</style>\n",
       "<table border=\"1\" class=\"dataframe\">\n",
       "  <thead>\n",
       "    <tr style=\"text-align: right;\">\n",
       "      <th></th>\n",
       "      <th>entropy</th>\n",
       "    </tr>\n",
       "  </thead>\n",
       "  <tbody>\n",
       "    <tr>\n",
       "      <td>Bytes</td>\n",
       "      <td>0.976514</td>\n",
       "    </tr>\n",
       "    <tr>\n",
       "      <td>Src Pt</td>\n",
       "      <td>0.769943</td>\n",
       "    </tr>\n",
       "    <tr>\n",
       "      <td>Dst Pt</td>\n",
       "      <td>0.767352</td>\n",
       "    </tr>\n",
       "    <tr>\n",
       "      <td>Duration</td>\n",
       "      <td>0.640507</td>\n",
       "    </tr>\n",
       "    <tr>\n",
       "      <td>Packets</td>\n",
       "      <td>0.558874</td>\n",
       "    </tr>\n",
       "    <tr>\n",
       "      <td>Tos</td>\n",
       "      <td>0.145759</td>\n",
       "    </tr>\n",
       "    <tr>\n",
       "      <td>TCP</td>\n",
       "      <td>0.056348</td>\n",
       "    </tr>\n",
       "    <tr>\n",
       "      <td>UDP</td>\n",
       "      <td>0.055232</td>\n",
       "    </tr>\n",
       "    <tr>\n",
       "      <td>ICMP</td>\n",
       "      <td>0.009352</td>\n",
       "    </tr>\n",
       "    <tr>\n",
       "      <td>IGMP</td>\n",
       "      <td>0.000000</td>\n",
       "    </tr>\n",
       "    <tr>\n",
       "      <td>GRE</td>\n",
       "      <td>0.000000</td>\n",
       "    </tr>\n",
       "  </tbody>\n",
       "</table>\n",
       "</div>"
      ],
      "text/plain": [
       "           entropy\n",
       "Bytes     0.976514\n",
       "Src Pt    0.769943\n",
       "Dst Pt    0.767352\n",
       "Duration  0.640507\n",
       "Packets   0.558874\n",
       "Tos       0.145759\n",
       "TCP       0.056348\n",
       "UDP       0.055232\n",
       "ICMP      0.009352\n",
       "IGMP      0.000000\n",
       "GRE       0.000000"
      ]
     },
     "execution_count": 22,
     "metadata": {},
     "output_type": "execute_result"
    }
   ],
   "source": [
    "feature_info_gain = pd.DataFrame.from_dict([feature_info_gain]).transpose()\n",
    "feature_info_gain = pd.DataFrame(feature_info_gain[0].sort_values(ascending = False))\n",
    "feature_info_gain.columns = ['entropy']\n",
    "feature_info_gain"
   ]
  },
  {
   "cell_type": "code",
   "execution_count": 25,
   "metadata": {
    "scrolled": true
   },
   "outputs": [
    {
     "name": "stdout",
     "output_type": "stream",
     "text": [
      "target feature: attackType\n",
      "descriptive_feature: Duration\n",
      "split criterion: gini\n",
      "remaining impurity: 0.14406099999999997\n",
      "information gain: 0.30093900000000007\n",
      "====================\n",
      "target feature: attackType\n",
      "descriptive_feature: Src Pt\n",
      "split criterion: gini\n",
      "remaining impurity: 0.133217\n",
      "information gain: 0.31178300000000003\n",
      "====================\n",
      "target feature: attackType\n",
      "descriptive_feature: Dst Pt\n",
      "split criterion: gini\n",
      "remaining impurity: 0.13347900000000001\n",
      "information gain: 0.311521\n",
      "====================\n",
      "target feature: attackType\n",
      "descriptive_feature: Packets\n",
      "split criterion: gini\n",
      "remaining impurity: 0.202782\n",
      "information gain: 0.24221800000000002\n",
      "====================\n",
      "target feature: attackType\n",
      "descriptive_feature: Bytes\n",
      "split criterion: gini\n",
      "remaining impurity: 0.024279000000000002\n",
      "information gain: 0.420721\n",
      "====================\n",
      "target feature: attackType\n",
      "descriptive_feature: Tos\n",
      "split criterion: gini\n",
      "remaining impurity: 0.392797\n",
      "information gain: 0.052203\n",
      "====================\n",
      "target feature: attackType\n",
      "descriptive_feature: GRE  \n",
      "split criterion: gini\n",
      "remaining impurity: 0.445\n",
      "information gain: 0.0\n",
      "====================\n",
      "target feature: attackType\n",
      "descriptive_feature: ICMP \n",
      "split criterion: gini\n",
      "remaining impurity: 0.444252\n",
      "information gain: 0.0007480000000000264\n",
      "====================\n",
      "target feature: attackType\n",
      "descriptive_feature: IGMP \n",
      "split criterion: gini\n",
      "remaining impurity: 0.445\n",
      "information gain: 0.0\n",
      "====================\n",
      "target feature: attackType\n",
      "descriptive_feature: TCP  \n",
      "split criterion: gini\n",
      "remaining impurity: 0.426607\n",
      "information gain: 0.018392999999999993\n",
      "====================\n",
      "target feature: attackType\n",
      "descriptive_feature: UDP  \n",
      "split criterion: gini\n",
      "remaining impurity: 0.425641\n",
      "information gain: 0.019359000000000015\n",
      "====================\n"
     ]
    },
    {
     "data": {
      "text/plain": [
       "{'Duration': 0.30093900000000007,\n",
       " 'Src Pt': 0.31178300000000003,\n",
       " 'Dst Pt': 0.311521,\n",
       " 'Packets': 0.24221800000000002,\n",
       " 'Bytes': 0.420721,\n",
       " 'Tos': 0.052203,\n",
       " 'GRE  ': 0.0,\n",
       " 'ICMP ': 0.0007480000000000264,\n",
       " 'IGMP ': 0.0,\n",
       " 'TCP  ': 0.018392999999999993,\n",
       " 'UDP  ': 0.019359000000000015}"
      ]
     },
     "execution_count": 25,
     "metadata": {},
     "output_type": "execute_result"
    }
   ],
   "source": [
    "split_criterion = 'gini'\n",
    "feature_info_gain1 = {}\n",
    "for feature in data_ig.drop(columns='attackType').columns:\n",
    "    feature_info_gain1[feature] = comp_feature_information_gain(data_ig, 'attackType', feature, split_criterion)\n",
    "feature_info_gain1"
   ]
  },
  {
   "cell_type": "code",
   "execution_count": 26,
   "metadata": {
    "scrolled": true
   },
   "outputs": [
    {
     "ename": "TypeError",
     "evalue": "__init__() got an unexpected keyword argument 'column'",
     "output_type": "error",
     "traceback": [
      "\u001b[1;31m---------------------------------------------------------------------------\u001b[0m",
      "\u001b[1;31mTypeError\u001b[0m                                 Traceback (most recent call last)",
      "\u001b[1;32m<ipython-input-26-488f4a7af678>\u001b[0m in \u001b[0;36m<module>\u001b[1;34m\u001b[0m\n\u001b[0;32m      1\u001b[0m \u001b[0mfeature_info_gain1\u001b[0m \u001b[1;33m=\u001b[0m \u001b[0mpd\u001b[0m\u001b[1;33m.\u001b[0m\u001b[0mDataFrame\u001b[0m\u001b[1;33m.\u001b[0m\u001b[0mfrom_dict\u001b[0m\u001b[1;33m(\u001b[0m\u001b[1;33m[\u001b[0m\u001b[0mfeature_info_gain1\u001b[0m\u001b[1;33m]\u001b[0m\u001b[1;33m)\u001b[0m\u001b[1;33m.\u001b[0m\u001b[0mtranspose\u001b[0m\u001b[1;33m(\u001b[0m\u001b[1;33m)\u001b[0m\u001b[1;33m\u001b[0m\u001b[1;33m\u001b[0m\u001b[0m\n\u001b[1;32m----> 2\u001b[1;33m \u001b[0mfeature_info_gain1\u001b[0m \u001b[1;33m=\u001b[0m \u001b[0mpd\u001b[0m\u001b[1;33m.\u001b[0m\u001b[0mDataFrame\u001b[0m\u001b[1;33m(\u001b[0m\u001b[0mfeature_info_gain1\u001b[0m\u001b[1;33m[\u001b[0m\u001b[1;36m0\u001b[0m\u001b[1;33m]\u001b[0m\u001b[1;33m.\u001b[0m\u001b[0msort_values\u001b[0m\u001b[1;33m(\u001b[0m\u001b[0mascending\u001b[0m \u001b[1;33m=\u001b[0m \u001b[1;32mFalse\u001b[0m\u001b[1;33m)\u001b[0m\u001b[1;33m,\u001b[0m \u001b[0mcolumn\u001b[0m \u001b[1;33m=\u001b[0m \u001b[1;33m[\u001b[0m\u001b[1;34m'gini'\u001b[0m\u001b[1;33m]\u001b[0m\u001b[1;33m)\u001b[0m\u001b[1;33m\u001b[0m\u001b[1;33m\u001b[0m\u001b[0m\n\u001b[0m\u001b[0;32m      3\u001b[0m \u001b[0mfeature_info_gain1\u001b[0m\u001b[1;33m.\u001b[0m\u001b[0mcolumns\u001b[0m \u001b[1;33m=\u001b[0m \u001b[1;33m[\u001b[0m\u001b[1;34m'gini'\u001b[0m\u001b[1;33m]\u001b[0m\u001b[1;33m\u001b[0m\u001b[1;33m\u001b[0m\u001b[0m\n\u001b[0;32m      4\u001b[0m \u001b[0mfeature_info_gain1\u001b[0m\u001b[1;33m\u001b[0m\u001b[1;33m\u001b[0m\u001b[0m\n",
      "\u001b[1;31mTypeError\u001b[0m: __init__() got an unexpected keyword argument 'column'"
     ]
    }
   ],
   "source": [
    "feature_info_gain1 = pd.DataFrame.from_dict([feature_info_gain1]).transpose()\n",
    "feature_info_gain1 = pd.DataFrame(feature_info_gain1[0].sort_values(ascending = False), column = ['gini'])\n",
    "#feature_info_gain1.columns = ['gini']\n",
    "feature_info_gain1"
   ]
  },
  {
   "cell_type": "code",
   "execution_count": 27,
   "metadata": {},
   "outputs": [
    {
     "data": {
      "text/plain": [
       "Index(['Bytes', 'Src Pt', 'Dst Pt', 'Duration', 'Packets', 'Tos', 'TCP  ',\n",
       "       'UDP  ', 'ICMP '],\n",
       "      dtype='object')"
      ]
     },
     "execution_count": 27,
     "metadata": {},
     "output_type": "execute_result"
    }
   ],
   "source": [
    "#The FIrst 9 features are selected\n",
    "selected_features = feature_info_gain.index\n",
    "selected_features = selected_features[0:9]\n",
    "selected_features"
   ]
  },
  {
   "cell_type": "code",
   "execution_count": 20,
   "metadata": {},
   "outputs": [
    {
     "data": {
      "text/plain": [
       "20"
      ]
     },
     "execution_count": 20,
     "metadata": {},
     "output_type": "execute_result"
    }
   ],
   "source": [
    "gc.collect()"
   ]
  },
  {
   "cell_type": "code",
   "execution_count": 21,
   "metadata": {},
   "outputs": [],
   "source": [
    "from datetime import datetime\n",
    "def unix_time(df):\n",
    "  #  df[' Timestamp'] = df[' Timestamp'].apply(lambda x: x + ':00' if len(x) != 19 else x)\n",
    "   # df[' Timestamp'] = df[' Timestamp'].apply(lambda x: x[0 : 5 : ] + x[7 : :] if len(x) != 19 else x[0 : 7 : ] + x[9 : :])\n",
    "    df['Date first seen'] = df['Date first seen'].apply(lambda x: datetime.strptime(x,'%Y-%m-%d %H:%M:%S.%f'))\n",
    "    df['Date first seen'] = df['Date first seen'].apply(lambda x: x.timestamp()*1000)\n",
    "    return df;"
   ]
  },
  {
   "cell_type": "code",
   "execution_count": 22,
   "metadata": {},
   "outputs": [],
   "source": [
    "def normal_profile(grouped):\n",
    "    grouped['---'] = unix_time(grouped['---'])\n",
    "    start_time = int(grouped['---'].head(1)['Date first seen'].values[0])\n",
    "    end_time = int(grouped['---'].tail(1)['Date first seen'].values[0])\n",
    "#date_bins = pd.IntervalIndex.from_tuples(\n",
    "#        [(i, i+3600000) for i in range(start_time, end_time, 3600000)],\n",
    "#        closed=\"left\")\n",
    "#date_labels = [f\"{i}\" for i in range(1, len(date_bins)+1, 1)]\n",
    "    normal_data = dict(tuple( grouped['---'].groupby( pd.cut(\n",
    "            grouped['---']['Date first seen'],\n",
    "               np.arange(start_time, end_time, 3*3600000)))))\n",
    "    del grouped['---']\n",
    "    num = []\n",
    "    for i in grouped_data.keys():\n",
    "          num.append(len(grouped_data[i]))\n",
    "    print(min(num))\n",
    "    num = max(num)\n",
    "    print(num)\n",
    "    print(len(grouped.keys()))\n",
    "    grouped = {**grouped, **normal_data}\n",
    "    print(len(grouped.keys()))\n",
    "    return grouped, num;"
   ]
  },
  {
   "cell_type": "code",
   "execution_count": 23,
   "metadata": {},
   "outputs": [
    {
     "data": {
      "text/plain": [
       "0"
      ]
     },
     "execution_count": 23,
     "metadata": {},
     "output_type": "execute_result"
    }
   ],
   "source": [
    "grouped_data= dict(tuple(data.groupby(['attackID'])))\n",
    "del data\n",
    "gc.collect()"
   ]
  },
  {
   "cell_type": "code",
   "execution_count": 24,
   "metadata": {
    "scrolled": true
   },
   "outputs": [
    {
     "name": "stdout",
     "output_type": "stream",
     "text": [
      "---: 7195669 : 0\n",
      "Attack ID: 1; Lenght of Attack: 7657; Attack Type: 1\n",
      "Attack ID: 10; Lenght of Attack: 311; Attack Type: 1\n",
      "Attack ID: 11; Lenght of Attack: 17401; Attack Type: 1\n",
      "Attack ID: 12; Lenght of Attack: 11526; Attack Type: 1\n",
      "Attack ID: 13; Lenght of Attack: 513; Attack Type: 1\n",
      "Attack ID: 14; Lenght of Attack: 13807; Attack Type: 1\n",
      "Attack ID: 15; Lenght of Attack: 64; Attack Type: 1\n",
      "Attack ID: 16; Lenght of Attack: 261003; Attack Type: 1\n",
      "Attack ID: 17; Lenght of Attack: 13338; Attack Type: 1\n",
      "Attack ID: 18; Lenght of Attack: 295302; Attack Type: 1\n",
      "Attack ID: 19; Lenght of Attack: 11672; Attack Type: 1\n",
      "Attack ID: 2; Lenght of Attack: 1927; Attack Type: 1\n",
      "Attack ID: 20; Lenght of Attack: 11748; Attack Type: 1\n",
      "Attack ID: 21; Lenght of Attack: 5113; Attack Type: 1\n",
      "Attack ID: 22; Lenght of Attack: 295; Attack Type: 1\n",
      "Attack ID: 23; Lenght of Attack: 72788; Attack Type: 1\n",
      "Attack ID: 24; Lenght of Attack: 466; Attack Type: 1\n",
      "Attack ID: 25; Lenght of Attack: 201; Attack Type: 1\n",
      "Attack ID: 26; Lenght of Attack: 74471; Attack Type: 1\n",
      "Attack ID: 27; Lenght of Attack: 680; Attack Type: 1\n",
      "Attack ID: 28; Lenght of Attack: 36306; Attack Type: 1\n",
      "Attack ID: 29; Lenght of Attack: 19732; Attack Type: 1\n",
      "Attack ID: 3; Lenght of Attack: 37118; Attack Type: 1\n",
      "Attack ID: 30; Lenght of Attack: 46; Attack Type: 1\n",
      "Attack ID: 31; Lenght of Attack: 144845; Attack Type: 1\n",
      "Attack ID: 32; Lenght of Attack: 335; Attack Type: 1\n",
      "Attack ID: 33; Lenght of Attack: 307; Attack Type: 1\n",
      "Attack ID: 34; Lenght of Attack: 12909; Attack Type: 1\n",
      "Attack ID: 35; Lenght of Attack: 263; Attack Type: 1\n",
      "Attack ID: 36; Lenght of Attack: 494; Attack Type: 1\n",
      "Attack ID: 37; Lenght of Attack: 26114; Attack Type: 1\n",
      "Attack ID: 38; Lenght of Attack: 267; Attack Type: 1\n",
      "Attack ID: 39; Lenght of Attack: 364; Attack Type: 1\n",
      "Attack ID: 4; Lenght of Attack: 72063; Attack Type: 1\n",
      "Attack ID: 40; Lenght of Attack: 11609; Attack Type: 1\n",
      "Attack ID: 41; Lenght of Attack: 379; Attack Type: 1\n",
      "Attack ID: 42; Lenght of Attack: 184040; Attack Type: 1\n",
      "Attack ID: 43; Lenght of Attack: 2143; Attack Type: 1\n",
      "Attack ID: 44; Lenght of Attack: 261169; Attack Type: 1\n",
      "Attack ID: 45; Lenght of Attack: 224960; Attack Type: 1\n",
      "Attack ID: 46; Lenght of Attack: 111720; Attack Type: 1\n",
      "Attack ID: 47; Lenght of Attack: 13420; Attack Type: 1\n",
      "Attack ID: 48; Lenght of Attack: 13600; Attack Type: 1\n",
      "Attack ID: 49; Lenght of Attack: 17629; Attack Type: 1\n",
      "Attack ID: 5; Lenght of Attack: 4948; Attack Type: 1\n",
      "Attack ID: 50; Lenght of Attack: 4589; Attack Type: 1\n",
      "Attack ID: 51; Lenght of Attack: 11968; Attack Type: 1\n",
      "Attack ID: 52; Lenght of Attack: 607; Attack Type: 1\n",
      "Attack ID: 53; Lenght of Attack: 516299; Attack Type: 1\n",
      "Attack ID: 54; Lenght of Attack: 183; Attack Type: 1\n",
      "Attack ID: 55; Lenght of Attack: 757; Attack Type: 1\n",
      "Attack ID: 56; Lenght of Attack: 427; Attack Type: 1\n",
      "Attack ID: 57; Lenght of Attack: 522; Attack Type: 1\n",
      "Attack ID: 58; Lenght of Attack: 510; Attack Type: 1\n",
      "Attack ID: 59; Lenght of Attack: 110484; Attack Type: 1\n",
      "Attack ID: 6; Lenght of Attack: 37134; Attack Type: 1\n",
      "Attack ID: 60; Lenght of Attack: 333627; Attack Type: 1\n",
      "Attack ID: 61; Lenght of Attack: 705; Attack Type: 1\n",
      "Attack ID: 62; Lenght of Attack: 574; Attack Type: 1\n",
      "Attack ID: 63; Lenght of Attack: 148641; Attack Type: 1\n",
      "Attack ID: 64; Lenght of Attack: 480; Attack Type: 1\n",
      "Attack ID: 65; Lenght of Attack: 373; Attack Type: 1\n",
      "Attack ID: 66; Lenght of Attack: 359; Attack Type: 1\n",
      "Attack ID: 67; Lenght of Attack: 13426; Attack Type: 1\n",
      "Attack ID: 68; Lenght of Attack: 5632; Attack Type: 1\n",
      "Attack ID: 69; Lenght of Attack: 360; Attack Type: 1\n",
      "Attack ID: 7; Lenght of Attack: 9586; Attack Type: 1\n",
      "Attack ID: 70; Lenght of Attack: 240; Attack Type: 1\n",
      "Attack ID: 71; Lenght of Attack: 2008; Attack Type: 1\n",
      "Attack ID: 72; Lenght of Attack: 2002; Attack Type: 1\n",
      "Attack ID: 73; Lenght of Attack: 200; Attack Type: 1\n",
      "Attack ID: 74; Lenght of Attack: 200; Attack Type: 1\n",
      "Attack ID: 75; Lenght of Attack: 200; Attack Type: 1\n",
      "Attack ID: 76; Lenght of Attack: 168; Attack Type: 1\n",
      "Attack ID: 77; Lenght of Attack: 6410; Attack Type: 1\n",
      "Attack ID: 78; Lenght of Attack: 200; Attack Type: 1\n",
      "Attack ID: 79; Lenght of Attack: 200; Attack Type: 1\n",
      "Attack ID: 8; Lenght of Attack: 4424; Attack Type: 1\n",
      "Attack ID: 80; Lenght of Attack: 1991; Attack Type: 1\n",
      "Attack ID: 81; Lenght of Attack: 200; Attack Type: 1\n",
      "Attack ID: 82; Lenght of Attack: 1370; Attack Type: 1\n",
      "Attack ID: 83; Lenght of Attack: 200; Attack Type: 1\n",
      "Attack ID: 84; Lenght of Attack: 200; Attack Type: 1\n",
      "Attack ID: 85; Lenght of Attack: 1984; Attack Type: 1\n",
      "Attack ID: 86; Lenght of Attack: 2002; Attack Type: 1\n",
      "Attack ID: 87; Lenght of Attack: 200; Attack Type: 1\n",
      "Attack ID: 88; Lenght of Attack: 200; Attack Type: 1\n",
      "Attack ID: 89; Lenght of Attack: 952; Attack Type: 1\n",
      "Attack ID: 9; Lenght of Attack: 37057; Attack Type: 1\n",
      "Attack ID: 90; Lenght of Attack: 200; Attack Type: 1\n",
      "Attack ID: 91; Lenght of Attack: 40; Attack Type: 1\n",
      "Attack ID: 92; Lenght of Attack: 40; Attack Type: 1\n",
      "dos : 0\n",
      "pingScan: 0\n",
      "portScan : 0\n"
     ]
    }
   ],
   "source": [
    "no_1 = []\n",
    "no_2 = []\n",
    "no_3 = []\n",
    "no_4 = []\n",
    "for i in grouped_data.keys():\n",
    "   \n",
    "    if grouped_data[i]['attackType'].unique()[0] == 0:\n",
    "        print(f\"{i}: {len(grouped_data[i])} : {grouped_data[i]['attackType'].unique()[0]}\")\n",
    "    if grouped_data[i]['attackType'].unique()[0] == 1:\n",
    "              no_1.append(i)\n",
    "    if grouped_data[i]['attackType'].unique()[0] == 2:\n",
    "              no_2.append(i)\n",
    "    if grouped_data[i]['attackType'].unique()[0] == 3:\n",
    "              no_3.append(i)\n",
    "    if grouped_data[i]['attackType'].unique()[0] == 4:\n",
    "              no_4.append(i)\n",
    "for i in no_1:\n",
    "     print(f\"Attack ID: {i}; Lenght of Attack: {len(grouped_data[i])}; Attack Type: {grouped_data[i]['attackType'].unique()[0]}\")\n",
    "print(f\"dos : {len(no_2)}\")\n",
    "for i in no_2:\n",
    "     print(f\"Attack ID: {i}; Lenght of Attack: {len(grouped_data[i])}; Attack Type: {grouped_data[i]['attackType'].unique()[0]}\")\n",
    "print(f\"pingScan: {len(no_3)}\")\n",
    "for i in no_3:\n",
    "     print(f\"Attack ID: {i}; Lenght of Attack: {len(grouped_data[i])}; Attack Type: {grouped_data[i]['attackType'].unique()[0]}\")\n",
    "print(f\"portScan : {len(no_4)}\")\n",
    "for i in no_4:\n",
    "     print(f\"Attack ID: {i}; Lenght of Attack: {len(grouped_data[i])}; Attack Type: {grouped_data[i]['attackType'].unique()[0]}\")\n"
   ]
  },
  {
   "cell_type": "code",
   "execution_count": 25,
   "metadata": {},
   "outputs": [
    {
     "data": {
      "text/plain": [
       "20"
      ]
     },
     "execution_count": 25,
     "metadata": {},
     "output_type": "execute_result"
    }
   ],
   "source": [
    "del no_1\n",
    "del no_2\n",
    "del no_3\n",
    "del no_4\n",
    "gc.collect()"
   ]
  },
  {
   "cell_type": "code",
   "execution_count": 26,
   "metadata": {},
   "outputs": [],
   "source": [
    "def del_largeInstances(dic, length):\n",
    "    remove_ID = []\n",
    "    for i in dic.keys():\n",
    "        if (i != '---'):\n",
    "            if(len(dic[i]) >= length):\n",
    "                remove_ID.append(i)\n",
    "    print(len(remove_ID))\n",
    "    removed_attacks = {}\n",
    "    for i in remove_ID:\n",
    "        removed_attacks[i] = dic[i]\n",
    "        del dic[i]\n",
    "    return dic;"
   ]
  },
  {
   "cell_type": "code",
   "execution_count": 27,
   "metadata": {},
   "outputs": [
    {
     "name": "stdout",
     "output_type": "stream",
     "text": [
      "19\n"
     ]
    }
   ],
   "source": [
    "grouped_data = del_largeInstances(grouped_data, 20000)"
   ]
  },
  {
   "cell_type": "code",
   "execution_count": 28,
   "metadata": {},
   "outputs": [
    {
     "name": "stdout",
     "output_type": "stream",
     "text": [
      "40\n",
      "19732\n",
      "73\n",
      "350\n"
     ]
    }
   ],
   "source": [
    "#grouped_data, num = normal_profile(grouped_data)\n",
    "grouped_data1= {}\n",
    "for i in grouped_data.keys():\n",
    "    grouped_data[i] = flag_convert(grouped_data[i])\n",
    "   # grouped_data[i] =  drop_columns(grouped_data[i])\n",
    "grouped_data, num = normal_profile(grouped_data)\n",
    "for i in grouped_data.keys():\n",
    "   # grouped_data[i] = flag_convert(grouped_data[i])\n",
    "    grouped_data[i] =  drop_columns(grouped_data[i])"
   ]
  },
  {
   "cell_type": "code",
   "execution_count": 29,
   "metadata": {},
   "outputs": [
    {
     "name": "stdout",
     "output_type": "stream",
     "text": [
      "1 : False\n",
      "10 : False\n",
      "11 : False\n",
      "12 : False\n",
      "13 : False\n",
      "14 : False\n",
      "15 : False\n",
      "17 : False\n",
      "19 : False\n",
      "2 : False\n",
      "20 : False\n",
      "21 : False\n",
      "22 : False\n",
      "24 : False\n",
      "25 : False\n",
      "27 : False\n",
      "29 : False\n",
      "30 : False\n",
      "32 : False\n",
      "33 : False\n",
      "34 : False\n",
      "35 : False\n",
      "36 : False\n",
      "38 : False\n",
      "39 : False\n",
      "40 : False\n",
      "41 : False\n",
      "43 : False\n",
      "47 : False\n",
      "48 : False\n",
      "49 : False\n",
      "5 : False\n",
      "50 : False\n",
      "51 : False\n",
      "52 : False\n",
      "54 : False\n",
      "55 : False\n",
      "56 : False\n",
      "57 : False\n",
      "58 : False\n",
      "61 : False\n",
      "62 : False\n",
      "64 : False\n",
      "65 : False\n",
      "66 : False\n",
      "67 : False\n",
      "68 : False\n",
      "69 : False\n",
      "7 : False\n",
      "70 : False\n",
      "71 : False\n",
      "72 : False\n",
      "73 : False\n",
      "74 : False\n",
      "75 : False\n",
      "76 : False\n",
      "77 : False\n",
      "78 : False\n",
      "79 : False\n",
      "8 : False\n",
      "80 : False\n",
      "81 : False\n",
      "82 : False\n",
      "83 : False\n",
      "84 : False\n",
      "85 : False\n",
      "86 : False\n",
      "87 : False\n",
      "88 : False\n",
      "89 : False\n",
      "90 : False\n",
      "91 : False\n",
      "92 : False\n",
      "(1489536076632, 1489546876632] : False\n",
      "(1489546876632, 1489557676632] : False\n",
      "(1489557676632, 1489568476632] : False\n",
      "(1489568476632, 1489579276632] : False\n",
      "(1489579276632, 1489590076632] : False\n",
      "(1489590076632, 1489600876632] : False\n",
      "(1489600876632, 1489611676632] : False\n",
      "(1489611676632, 1489622476632] : False\n",
      "(1489622476632, 1489633276632] : False\n",
      "(1489633276632, 1489644076632] : False\n",
      "(1489644076632, 1489654876632] : False\n",
      "(1489654876632, 1489665676632] : False\n",
      "(1489665676632, 1489676476632] : False\n",
      "(1489676476632, 1489687276632] : False\n",
      "(1489687276632, 1489698076632] : False\n",
      "(1489698076632, 1489708876632] : False\n",
      "(1489708876632, 1489719676632] : False\n",
      "(1489719676632, 1489730476632] : False\n",
      "(1489730476632, 1489741276632] : False\n",
      "(1489741276632, 1489752076632] : False\n",
      "(1489752076632, 1489762876632] : False\n",
      "(1489762876632, 1489773676632] : False\n",
      "(1489773676632, 1489784476632] : False\n",
      "(1489784476632, 1489795276632] : False\n",
      "(1489795276632, 1489806076632] : False\n",
      "(1489806076632, 1489816876632] : False\n",
      "(1489816876632, 1489827676632] : False\n",
      "(1489827676632, 1489838476632] : False\n",
      "(1489838476632, 1489849276632] : False\n",
      "(1489849276632, 1489860076632] : False\n",
      "(1489860076632, 1489870876632] : False\n",
      "(1489870876632, 1489881676632] : False\n",
      "(1489881676632, 1489892476632] : False\n",
      "(1489892476632, 1489903276632] : False\n",
      "(1489903276632, 1489914076632] : False\n",
      "(1489914076632, 1489924876632] : False\n",
      "(1489924876632, 1489935676632] : False\n",
      "(1489935676632, 1489946476632] : False\n",
      "(1489946476632, 1489957276632] : False\n",
      "(1489957276632, 1489968076632] : False\n",
      "(1489968076632, 1489978876632] : False\n",
      "(1489978876632, 1489989676632] : False\n",
      "(1489989676632, 1490000476632] : False\n",
      "(1490000476632, 1490011276632] : False\n",
      "(1490011276632, 1490022076632] : False\n",
      "(1490022076632, 1490032876632] : False\n",
      "(1490032876632, 1490043676632] : False\n",
      "(1490043676632, 1490054476632] : False\n",
      "(1490054476632, 1490065276632] : False\n",
      "(1490065276632, 1490076076632] : False\n",
      "(1490076076632, 1490086876632] : False\n",
      "(1490086876632, 1490097676632] : False\n",
      "(1490097676632, 1490108476632] : False\n",
      "(1490108476632, 1490119276632] : False\n",
      "(1490119276632, 1490130076632] : False\n",
      "(1490130076632, 1490140876632] : False\n",
      "(1490140876632, 1490151676632] : False\n",
      "(1490151676632, 1490162476632] : False\n",
      "(1490162476632, 1490173276632] : False\n",
      "(1490173276632, 1490184076632] : False\n",
      "(1490184076632, 1490194876632] : False\n",
      "(1490194876632, 1490205676632] : False\n",
      "(1490205676632, 1490216476632] : False\n",
      "(1490216476632, 1490227276632] : False\n",
      "(1490227276632, 1490238076632] : False\n",
      "(1490238076632, 1490248876632] : False\n",
      "(1490248876632, 1490259676632] : False\n",
      "(1490259676632, 1490270476632] : False\n",
      "(1490270476632, 1490281276632] : False\n",
      "(1490281276632, 1490292076632] : False\n",
      "(1490292076632, 1490302876632] : False\n",
      "(1490302876632, 1490313676632] : False\n",
      "(1490313676632, 1490324476632] : False\n",
      "(1490324476632, 1490335276632] : False\n",
      "(1490335276632, 1490346076632] : False\n",
      "(1490346076632, 1490356876632] : False\n",
      "(1490356876632, 1490367676632] : False\n",
      "(1490367676632, 1490378476632] : False\n",
      "(1490378476632, 1490389276632] : False\n",
      "(1490389276632, 1490400076632] : False\n",
      "(1490400076632, 1490410876632] : False\n",
      "(1490410876632, 1490421676632] : False\n",
      "(1490421676632, 1490432476632] : False\n",
      "(1490432476632, 1490443276632] : False\n",
      "(1490443276632, 1490454076632] : False\n",
      "(1490454076632, 1490464876632] : False\n",
      "(1490464876632, 1490475676632] : False\n",
      "(1490475676632, 1490486476632] : False\n",
      "(1490486476632, 1490497276632] : False\n",
      "(1490497276632, 1490508076632] : False\n",
      "(1490508076632, 1490518876632] : False\n",
      "(1490518876632, 1490529676632] : False\n",
      "(1490529676632, 1490540476632] : False\n",
      "(1490540476632, 1490551276632] : False\n",
      "(1490551276632, 1490562076632] : False\n",
      "(1490562076632, 1490572876632] : False\n",
      "(1490572876632, 1490583676632] : False\n",
      "(1490583676632, 1490594476632] : False\n",
      "(1490594476632, 1490605276632] : False\n",
      "(1490605276632, 1490616076632] : False\n",
      "(1490616076632, 1490626876632] : False\n",
      "(1490626876632, 1490637676632] : False\n",
      "(1490637676632, 1490648476632] : False\n",
      "(1490648476632, 1490659276632] : False\n",
      "(1490659276632, 1490670076632] : False\n",
      "(1490670076632, 1490680876632] : False\n",
      "(1490680876632, 1490691676632] : False\n",
      "(1490691676632, 1490702476632] : False\n",
      "(1490702476632, 1490713276632] : False\n",
      "(1490713276632, 1490724076632] : False\n",
      "(1490724076632, 1490734876632] : False\n",
      "(1490734876632, 1490745676632] : False\n",
      "(1490745676632, 1490756476632] : False\n",
      "(1490756476632, 1490767276632] : False\n",
      "(1490767276632, 1490778076632] : False\n",
      "(1490778076632, 1490788876632] : False\n",
      "(1490788876632, 1490799676632] : False\n",
      "(1490799676632, 1490810476632] : False\n",
      "(1490810476632, 1490821276632] : False\n",
      "(1490821276632, 1490832076632] : False\n",
      "(1490832076632, 1490842876632] : False\n",
      "(1490842876632, 1490853676632] : False\n",
      "(1490853676632, 1490864476632] : False\n",
      "(1490864476632, 1490875276632] : False\n",
      "(1490875276632, 1490886076632] : False\n",
      "(1490886076632, 1490896876632] : False\n",
      "(1490896876632, 1490907676632] : False\n",
      "(1490907676632, 1490918476632] : False\n",
      "(1490918476632, 1490929276632] : False\n",
      "(1490929276632, 1490940076632] : False\n",
      "(1490940076632, 1490950876632] : False\n",
      "(1490950876632, 1490961676632] : False\n",
      "(1490961676632, 1490972476632] : False\n",
      "(1490972476632, 1490983276632] : False\n",
      "(1490983276632, 1490994076632] : False\n",
      "(1490994076632, 1491004876632] : False\n",
      "(1491004876632, 1491015676632] : False\n",
      "(1491015676632, 1491026476632] : False\n",
      "(1491026476632, 1491037276632] : False\n",
      "(1491037276632, 1491048076632] : False\n",
      "(1491048076632, 1491058876632] : False\n",
      "(1491058876632, 1491069676632] : False\n",
      "(1491069676632, 1491080476632] : False\n",
      "(1491080476632, 1491091276632] : False\n",
      "(1491091276632, 1491102076632] : False\n",
      "(1491102076632, 1491112876632] : False\n",
      "(1491112876632, 1491123676632] : False\n",
      "(1491123676632, 1491134476632] : False\n",
      "(1491134476632, 1491145276632] : False\n",
      "(1491145276632, 1491156076632] : False\n",
      "(1491156076632, 1491166876632] : False\n",
      "(1491166876632, 1491177676632] : False\n",
      "(1491177676632, 1491188476632] : False\n",
      "(1491188476632, 1491199276632] : False\n",
      "(1491199276632, 1491210076632] : False\n",
      "(1491210076632, 1491220876632] : False\n",
      "(1491220876632, 1491231676632] : False\n",
      "(1491231676632, 1491242476632] : False\n",
      "(1491242476632, 1491253276632] : False\n",
      "(1491253276632, 1491264076632] : False\n",
      "(1491264076632, 1491274876632] : False\n",
      "(1491274876632, 1491285676632] : False\n",
      "(1491285676632, 1491296476632] : False\n",
      "(1491296476632, 1491307276632] : False\n",
      "(1491307276632, 1491318076632] : False\n",
      "(1491318076632, 1491328876632] : False\n",
      "(1491328876632, 1491339676632] : False\n",
      "(1491339676632, 1491350476632] : False\n",
      "(1491350476632, 1491361276632] : False\n",
      "(1491361276632, 1491372076632] : False\n",
      "(1491372076632, 1491382876632] : False\n",
      "(1491382876632, 1491393676632] : False\n",
      "(1491393676632, 1491404476632] : False\n",
      "(1491404476632, 1491415276632] : False\n",
      "(1491415276632, 1491426076632] : False\n",
      "(1491426076632, 1491436876632] : False\n",
      "(1491436876632, 1491447676632] : False\n",
      "(1491447676632, 1491458476632] : False\n",
      "(1491458476632, 1491469276632] : False\n",
      "(1491469276632, 1491480076632] : False\n",
      "(1491480076632, 1491490876632] : False\n",
      "(1491490876632, 1491501676632] : False\n",
      "(1491501676632, 1491512476632] : False\n",
      "(1491512476632, 1491523276632] : False\n",
      "(1491523276632, 1491534076632] : False\n",
      "(1491534076632, 1491544876632] : False\n",
      "(1491544876632, 1491555676632] : False\n",
      "(1491555676632, 1491566476632] : False\n",
      "(1491566476632, 1491577276632] : False\n",
      "(1491577276632, 1491588076632] : False\n",
      "(1491588076632, 1491598876632] : False\n",
      "(1491598876632, 1491609676632] : False\n",
      "(1491609676632, 1491620476632] : False\n",
      "(1491620476632, 1491631276632] : False\n",
      "(1491631276632, 1491642076632] : False\n",
      "(1491642076632, 1491652876632] : False\n",
      "(1491652876632, 1491663676632] : False\n",
      "(1491663676632, 1491674476632] : False\n",
      "(1491674476632, 1491685276632] : False\n",
      "(1491685276632, 1491696076632] : False\n",
      "(1491696076632, 1491706876632] : False\n",
      "(1491706876632, 1491717676632] : False\n",
      "(1491717676632, 1491728476632] : False\n",
      "(1491728476632, 1491739276632] : False\n",
      "(1491739276632, 1491750076632] : False\n",
      "(1491750076632, 1491760876632] : False\n",
      "(1491760876632, 1491771676632] : False\n"
     ]
    },
    {
     "name": "stdout",
     "output_type": "stream",
     "text": [
      "(1491771676632, 1491782476632] : False\n",
      "(1491782476632, 1491793276632] : False\n",
      "(1491793276632, 1491804076632] : False\n",
      "(1491804076632, 1491814876632] : False\n",
      "(1491814876632, 1491825676632] : False\n",
      "(1491825676632, 1491836476632] : False\n",
      "(1491836476632, 1491847276632] : False\n",
      "(1491847276632, 1491858076632] : False\n",
      "(1491858076632, 1491868876632] : False\n",
      "(1491868876632, 1491879676632] : False\n",
      "(1491879676632, 1491890476632] : False\n",
      "(1491890476632, 1491901276632] : False\n",
      "(1491901276632, 1491912076632] : False\n",
      "(1491912076632, 1491922876632] : False\n",
      "(1491922876632, 1491933676632] : False\n",
      "(1491933676632, 1491944476632] : False\n",
      "(1491944476632, 1491955276632] : False\n",
      "(1491955276632, 1491966076632] : False\n",
      "(1491966076632, 1491976876632] : False\n",
      "(1491976876632, 1491987676632] : False\n",
      "(1491987676632, 1491998476632] : False\n",
      "(1491998476632, 1492009276632] : False\n",
      "(1492009276632, 1492020076632] : False\n",
      "(1492020076632, 1492030876632] : False\n",
      "(1492030876632, 1492041676632] : False\n",
      "(1492041676632, 1492052476632] : False\n",
      "(1492052476632, 1492063276632] : False\n",
      "(1492063276632, 1492074076632] : False\n",
      "(1492074076632, 1492084876632] : False\n",
      "(1492084876632, 1492095676632] : False\n",
      "(1492095676632, 1492106476632] : False\n",
      "(1492106476632, 1492117276632] : False\n",
      "(1492117276632, 1492128076632] : False\n",
      "(1492128076632, 1492138876632] : False\n",
      "(1492138876632, 1492149676632] : False\n",
      "(1492149676632, 1492160476632] : False\n",
      "(1492160476632, 1492171276632] : False\n",
      "(1492171276632, 1492182076632] : False\n",
      "(1492182076632, 1492192876632] : False\n",
      "(1492192876632, 1492203676632] : False\n",
      "(1492203676632, 1492214476632] : False\n",
      "(1492214476632, 1492225276632] : False\n",
      "(1492225276632, 1492236076632] : False\n",
      "(1492236076632, 1492246876632] : False\n",
      "(1492246876632, 1492257676632] : False\n",
      "(1492257676632, 1492268476632] : False\n",
      "(1492268476632, 1492279276632] : False\n",
      "(1492279276632, 1492290076632] : False\n",
      "(1492290076632, 1492300876632] : False\n",
      "(1492300876632, 1492311676632] : False\n",
      "(1492311676632, 1492322476632] : False\n",
      "(1492322476632, 1492333276632] : False\n",
      "(1492333276632, 1492344076632] : False\n",
      "(1492344076632, 1492354876632] : False\n",
      "(1492354876632, 1492365676632] : False\n",
      "(1492365676632, 1492376476632] : False\n",
      "(1492376476632, 1492387276632] : False\n",
      "(1492387276632, 1492398076632] : False\n",
      "(1492398076632, 1492408876632] : False\n",
      "(1492408876632, 1492419676632] : False\n",
      "(1492419676632, 1492430476632] : False\n",
      "(1492430476632, 1492441276632] : False\n",
      "(1492441276632, 1492452076632] : False\n",
      "(1492452076632, 1492462876632] : False\n",
      "(1492462876632, 1492473676632] : False\n",
      "(1492473676632, 1492484476632] : False\n",
      "(1492484476632, 1492495276632] : False\n",
      "(1492495276632, 1492506076632] : False\n",
      "(1492506076632, 1492516876632] : False\n",
      "(1492516876632, 1492527676632] : False\n"
     ]
    }
   ],
   "source": [
    "for i in grouped_data.keys():\n",
    "    #if (grouped_data[i].hasnull())\n",
    "    print(f'{i} : {grouped_data[i].isnull().values.any()}')"
   ]
  },
  {
   "cell_type": "code",
   "execution_count": 30,
   "metadata": {},
   "outputs": [
    {
     "name": "stdout",
     "output_type": "stream",
     "text": [
      "Number of Instances which are empty: 167\n"
     ]
    }
   ],
   "source": [
    "counter = 0\n",
    "for i in grouped_data.keys():\n",
    "    if ( len(grouped_data[i]) == 0):\n",
    "        counter = counter +1;\n",
    "print(f\"Number of Instances which are empty: {counter}\")"
   ]
  },
  {
   "cell_type": "code",
   "execution_count": 31,
   "metadata": {},
   "outputs": [],
   "source": [
    "def roundup(x):\n",
    "    return x if x % 100 == 0 else x + 100 - x % 100\n",
    "#Convert to 3D arrays, input dict\n",
    "def make_array(dic):\n",
    "    x = []\n",
    "    y = []\n",
    "    zero_arrays = []\n",
    "    for i in dic.keys():\n",
    "        if ( len(dic[i]) == 0):\n",
    "            zero_arrays.append(i);\n",
    "    for i in zero_arrays:\n",
    "        del dic[i]\n",
    "    for i in dic.keys():\n",
    "        x.append(np.array(dic[i].drop(['attackType'],axis = 1)).astype(np.float32))\n",
    "       # print(f'{i}')\n",
    "        y.append(dic[i]['attackType'].values[0])\n",
    "    print(len(y))\n",
    "    o = []\n",
    "    features = len(x[1][1])\n",
    "    #for i in x:\n",
    "     #   o.append(len(i))\n",
    "   # print(min(o))\n",
    "    o = num\n",
    "    o = roundup(o)\n",
    "    print(o)\n",
    "    index = 0\n",
    "    for i in x:\n",
    "        l = len(i)\n",
    "        i = list(i)\n",
    "        if(o > l):\n",
    "            l = o-l\n",
    "            for j in range(0, l, 1):\n",
    "                i.append([0] * features)\n",
    "        elif (o<l):\n",
    "            l = l-o\n",
    "            i = i[:-l]\n",
    "        #i = [k = np.array([k]) for l in i for k in l] # Makes array elements an array \n",
    "        x[index] = np.array(i).astype(np.float32)\n",
    "        index = index + 1\n",
    "    #x = [[i] for i in x]\n",
    "    return x,y"
   ]
  },
  {
   "cell_type": "code",
   "execution_count": 32,
   "metadata": {},
   "outputs": [],
   "source": [
    "#Remove columns that were not listed in cfs list\n",
    "selected_features = ['Bytes', 'Src Pt', 'Dst Pt', 'Duration', 'Packets', 'Tos', 'TCP  ',\n",
    "       'UDP  ', 'ICMP ', 'attackType']\n",
    "for i in grouped_data.keys():\n",
    "    if ( len(grouped_data[i]) != 0):\n",
    "        grouped_data[i] = grouped_data[i][selected_features]"
   ]
  },
  {
   "cell_type": "code",
   "execution_count": 33,
   "metadata": {},
   "outputs": [
    {
     "name": "stdout",
     "output_type": "stream",
     "text": [
      "1 : False\n",
      "10 : False\n",
      "11 : False\n",
      "12 : False\n",
      "13 : False\n",
      "14 : False\n",
      "15 : False\n",
      "17 : False\n",
      "19 : False\n",
      "2 : False\n",
      "20 : False\n",
      "21 : False\n",
      "22 : False\n",
      "24 : False\n",
      "25 : False\n",
      "27 : False\n",
      "29 : False\n",
      "30 : False\n",
      "32 : False\n",
      "33 : False\n",
      "34 : False\n",
      "35 : False\n",
      "36 : False\n",
      "38 : False\n",
      "39 : False\n",
      "40 : False\n",
      "41 : False\n",
      "43 : False\n",
      "47 : False\n",
      "48 : False\n",
      "49 : False\n",
      "5 : False\n",
      "50 : False\n",
      "51 : False\n",
      "52 : False\n",
      "54 : False\n",
      "55 : False\n",
      "56 : False\n",
      "57 : False\n",
      "58 : False\n",
      "61 : False\n",
      "62 : False\n",
      "64 : False\n",
      "65 : False\n",
      "66 : False\n",
      "67 : False\n",
      "68 : False\n",
      "69 : False\n",
      "7 : False\n",
      "70 : False\n",
      "71 : False\n",
      "72 : False\n",
      "73 : False\n",
      "74 : False\n",
      "75 : False\n",
      "76 : False\n",
      "77 : False\n",
      "78 : False\n",
      "79 : False\n",
      "8 : False\n",
      "80 : False\n",
      "81 : False\n",
      "82 : False\n",
      "83 : False\n",
      "84 : False\n",
      "85 : False\n",
      "86 : False\n",
      "87 : False\n",
      "88 : False\n",
      "89 : False\n",
      "90 : False\n",
      "91 : False\n",
      "92 : False\n",
      "(1489536076632, 1489546876632] : False\n",
      "(1489546876632, 1489557676632] : False\n",
      "(1489557676632, 1489568476632] : False\n",
      "(1489568476632, 1489579276632] : False\n",
      "(1489579276632, 1489590076632] : False\n",
      "(1489590076632, 1489600876632] : False\n",
      "(1489600876632, 1489611676632] : False\n",
      "(1489611676632, 1489622476632] : False\n",
      "(1489622476632, 1489633276632] : False\n",
      "(1489633276632, 1489644076632] : False\n",
      "(1489644076632, 1489654876632] : False\n",
      "(1489654876632, 1489665676632] : False\n",
      "(1489665676632, 1489676476632] : False\n",
      "(1489676476632, 1489687276632] : False\n",
      "(1489687276632, 1489698076632] : False\n",
      "(1489698076632, 1489708876632] : False\n",
      "(1489708876632, 1489719676632] : False\n",
      "(1489719676632, 1489730476632] : False\n",
      "(1489730476632, 1489741276632] : False\n",
      "(1489741276632, 1489752076632] : False\n",
      "(1489752076632, 1489762876632] : False\n",
      "(1489762876632, 1489773676632] : False\n",
      "(1489773676632, 1489784476632] : False\n",
      "(1489784476632, 1489795276632] : False\n",
      "(1489795276632, 1489806076632] : False\n",
      "(1489806076632, 1489816876632] : False\n",
      "(1489816876632, 1489827676632] : False\n",
      "(1489827676632, 1489838476632] : False\n",
      "(1489838476632, 1489849276632] : False\n",
      "(1489849276632, 1489860076632] : False\n",
      "(1489860076632, 1489870876632] : False\n",
      "(1489870876632, 1489881676632] : False\n",
      "(1489881676632, 1489892476632] : False\n",
      "(1489892476632, 1489903276632] : False\n",
      "(1489903276632, 1489914076632] : False\n",
      "(1489914076632, 1489924876632] : False\n",
      "(1489924876632, 1489935676632] : False\n",
      "(1489935676632, 1489946476632] : False\n",
      "(1489946476632, 1489957276632] : False\n",
      "(1489957276632, 1489968076632] : False\n",
      "(1489968076632, 1489978876632] : False\n",
      "(1489978876632, 1489989676632] : False\n",
      "(1489989676632, 1490000476632] : False\n",
      "(1490000476632, 1490011276632] : False\n",
      "(1490011276632, 1490022076632] : False\n",
      "(1490022076632, 1490032876632] : False\n",
      "(1490032876632, 1490043676632] : False\n",
      "(1490043676632, 1490054476632] : False\n",
      "(1490054476632, 1490065276632] : False\n",
      "(1490065276632, 1490076076632] : False\n",
      "(1490076076632, 1490086876632] : False\n",
      "(1490086876632, 1490097676632] : False\n",
      "(1490097676632, 1490108476632] : False\n",
      "(1490108476632, 1490119276632] : False\n",
      "(1490119276632, 1490130076632] : False\n",
      "(1490130076632, 1490140876632] : False\n",
      "(1490140876632, 1490151676632] : False\n",
      "(1490151676632, 1490162476632] : False\n",
      "(1490162476632, 1490173276632] : False\n",
      "(1490173276632, 1490184076632] : False\n",
      "(1490184076632, 1490194876632] : False\n",
      "(1490194876632, 1490205676632] : False\n",
      "(1490205676632, 1490216476632] : False\n",
      "(1490216476632, 1490227276632] : False\n",
      "(1490227276632, 1490238076632] : False\n",
      "(1490238076632, 1490248876632] : False\n",
      "(1490248876632, 1490259676632] : False\n",
      "(1490259676632, 1490270476632] : False\n",
      "(1490270476632, 1490281276632] : False\n",
      "(1490281276632, 1490292076632] : False\n",
      "(1490292076632, 1490302876632] : False\n",
      "(1490302876632, 1490313676632] : False\n",
      "(1490313676632, 1490324476632] : False\n",
      "(1490324476632, 1490335276632] : False\n",
      "(1490335276632, 1490346076632] : False\n",
      "(1490346076632, 1490356876632] : False\n",
      "(1490356876632, 1490367676632] : False\n",
      "(1490367676632, 1490378476632] : False\n",
      "(1490378476632, 1490389276632] : False\n",
      "(1490389276632, 1490400076632] : False\n",
      "(1490400076632, 1490410876632] : False\n",
      "(1490410876632, 1490421676632] : False\n",
      "(1490421676632, 1490432476632] : False\n",
      "(1490432476632, 1490443276632] : False\n",
      "(1490443276632, 1490454076632] : False\n",
      "(1490454076632, 1490464876632] : False\n",
      "(1490464876632, 1490475676632] : False\n",
      "(1490475676632, 1490486476632] : False\n",
      "(1490486476632, 1490497276632] : False\n",
      "(1490497276632, 1490508076632] : False\n",
      "(1490508076632, 1490518876632] : False\n",
      "(1490518876632, 1490529676632] : False\n",
      "(1490529676632, 1490540476632] : False\n",
      "(1490540476632, 1490551276632] : False\n",
      "(1490551276632, 1490562076632] : False\n",
      "(1490562076632, 1490572876632] : False\n",
      "(1490572876632, 1490583676632] : False\n",
      "(1490583676632, 1490594476632] : False\n",
      "(1490594476632, 1490605276632] : False\n",
      "(1490605276632, 1490616076632] : False\n",
      "(1490616076632, 1490626876632] : False\n",
      "(1490626876632, 1490637676632] : False\n",
      "(1490637676632, 1490648476632] : False\n",
      "(1490648476632, 1490659276632] : False\n",
      "(1490659276632, 1490670076632] : False\n",
      "(1490670076632, 1490680876632] : False\n",
      "(1490680876632, 1490691676632] : False\n",
      "(1490691676632, 1490702476632] : False\n",
      "(1490702476632, 1490713276632] : False\n",
      "(1490713276632, 1490724076632] : False\n",
      "(1490724076632, 1490734876632] : False\n",
      "(1490734876632, 1490745676632] : False\n",
      "(1490745676632, 1490756476632] : False\n",
      "(1490756476632, 1490767276632] : False\n",
      "(1490767276632, 1490778076632] : False\n",
      "(1490778076632, 1490788876632] : False\n",
      "(1490788876632, 1490799676632] : False\n",
      "(1490799676632, 1490810476632] : False\n",
      "(1490810476632, 1490821276632] : False\n",
      "(1490821276632, 1490832076632] : False\n",
      "(1490832076632, 1490842876632] : False\n",
      "(1490842876632, 1490853676632] : False\n",
      "(1490853676632, 1490864476632] : False\n",
      "(1490864476632, 1490875276632] : False\n",
      "(1490875276632, 1490886076632] : False\n",
      "(1490886076632, 1490896876632] : False\n",
      "(1490896876632, 1490907676632] : False\n",
      "(1490907676632, 1490918476632] : False\n",
      "(1490918476632, 1490929276632] : False\n",
      "(1490929276632, 1490940076632] : False\n",
      "(1490940076632, 1490950876632] : False\n",
      "(1490950876632, 1490961676632] : False\n",
      "(1490961676632, 1490972476632] : False\n",
      "(1490972476632, 1490983276632] : False\n",
      "(1490983276632, 1490994076632] : False\n",
      "(1490994076632, 1491004876632] : False\n",
      "(1491004876632, 1491015676632] : False\n",
      "(1491015676632, 1491026476632] : False\n",
      "(1491026476632, 1491037276632] : False\n",
      "(1491037276632, 1491048076632] : False\n",
      "(1491048076632, 1491058876632] : False\n",
      "(1491058876632, 1491069676632] : False\n",
      "(1491069676632, 1491080476632] : False\n",
      "(1491080476632, 1491091276632] : False\n",
      "(1491091276632, 1491102076632] : False\n",
      "(1491102076632, 1491112876632] : False\n",
      "(1491112876632, 1491123676632] : False\n",
      "(1491123676632, 1491134476632] : False\n",
      "(1491134476632, 1491145276632] : False\n",
      "(1491145276632, 1491156076632] : False\n",
      "(1491156076632, 1491166876632] : False\n",
      "(1491166876632, 1491177676632] : False\n",
      "(1491177676632, 1491188476632] : False\n",
      "(1491188476632, 1491199276632] : False\n",
      "(1491199276632, 1491210076632] : False\n",
      "(1491210076632, 1491220876632] : False\n",
      "(1491220876632, 1491231676632] : False\n",
      "(1491231676632, 1491242476632] : False\n",
      "(1491242476632, 1491253276632] : False\n",
      "(1491253276632, 1491264076632] : False\n",
      "(1491264076632, 1491274876632] : False\n",
      "(1491274876632, 1491285676632] : False\n",
      "(1491285676632, 1491296476632] : False\n",
      "(1491296476632, 1491307276632] : False\n",
      "(1491307276632, 1491318076632] : False\n",
      "(1491318076632, 1491328876632] : False\n",
      "(1491328876632, 1491339676632] : False\n",
      "(1491339676632, 1491350476632] : False\n",
      "(1491350476632, 1491361276632] : False\n",
      "(1491361276632, 1491372076632] : False\n",
      "(1491372076632, 1491382876632] : False\n",
      "(1491382876632, 1491393676632] : False\n",
      "(1491393676632, 1491404476632] : False\n",
      "(1491404476632, 1491415276632] : False\n",
      "(1491415276632, 1491426076632] : False\n",
      "(1491426076632, 1491436876632] : False\n",
      "(1491436876632, 1491447676632] : False\n",
      "(1491447676632, 1491458476632] : False\n",
      "(1491458476632, 1491469276632] : False\n",
      "(1491469276632, 1491480076632] : False\n",
      "(1491480076632, 1491490876632] : False\n",
      "(1491490876632, 1491501676632] : False\n",
      "(1491501676632, 1491512476632] : False\n",
      "(1491512476632, 1491523276632] : False\n",
      "(1491523276632, 1491534076632] : False\n",
      "(1491534076632, 1491544876632] : False\n",
      "(1491544876632, 1491555676632] : False\n",
      "(1491555676632, 1491566476632] : False\n",
      "(1491566476632, 1491577276632] : False\n",
      "(1491577276632, 1491588076632] : False\n",
      "(1491588076632, 1491598876632] : False\n",
      "(1491598876632, 1491609676632] : False\n",
      "(1491609676632, 1491620476632] : False\n",
      "(1491620476632, 1491631276632] : False\n",
      "(1491631276632, 1491642076632] : False\n",
      "(1491642076632, 1491652876632] : False\n",
      "(1491652876632, 1491663676632] : False\n",
      "(1491663676632, 1491674476632] : False\n",
      "(1491674476632, 1491685276632] : False\n",
      "(1491685276632, 1491696076632] : False\n",
      "(1491696076632, 1491706876632] : False\n",
      "(1491706876632, 1491717676632] : False\n",
      "(1491717676632, 1491728476632] : False\n",
      "(1491728476632, 1491739276632] : False\n",
      "(1491739276632, 1491750076632] : False\n",
      "(1491750076632, 1491760876632] : False\n",
      "(1491760876632, 1491771676632] : False\n",
      "(1491771676632, 1491782476632] : False\n",
      "(1491782476632, 1491793276632] : False\n",
      "(1491793276632, 1491804076632] : False\n",
      "(1491804076632, 1491814876632] : False\n",
      "(1491814876632, 1491825676632] : False\n",
      "(1491825676632, 1491836476632] : False\n",
      "(1491836476632, 1491847276632] : False\n",
      "(1491847276632, 1491858076632] : False\n",
      "(1491858076632, 1491868876632] : False\n",
      "(1491868876632, 1491879676632] : False\n",
      "(1491879676632, 1491890476632] : False\n",
      "(1491890476632, 1491901276632] : False\n",
      "(1491901276632, 1491912076632] : False\n",
      "(1491912076632, 1491922876632] : False\n",
      "(1491922876632, 1491933676632] : False\n",
      "(1491933676632, 1491944476632] : False\n",
      "(1491944476632, 1491955276632] : False\n",
      "(1491955276632, 1491966076632] : False\n",
      "(1491966076632, 1491976876632] : False\n"
     ]
    },
    {
     "name": "stdout",
     "output_type": "stream",
     "text": [
      "(1491976876632, 1491987676632] : False\n",
      "(1491987676632, 1491998476632] : False\n",
      "(1491998476632, 1492009276632] : False\n",
      "(1492009276632, 1492020076632] : False\n",
      "(1492020076632, 1492030876632] : False\n",
      "(1492030876632, 1492041676632] : False\n",
      "(1492041676632, 1492052476632] : False\n",
      "(1492052476632, 1492063276632] : False\n",
      "(1492063276632, 1492074076632] : False\n",
      "(1492074076632, 1492084876632] : False\n",
      "(1492084876632, 1492095676632] : False\n",
      "(1492095676632, 1492106476632] : False\n",
      "(1492106476632, 1492117276632] : False\n",
      "(1492117276632, 1492128076632] : False\n",
      "(1492128076632, 1492138876632] : False\n",
      "(1492138876632, 1492149676632] : False\n",
      "(1492149676632, 1492160476632] : False\n",
      "(1492160476632, 1492171276632] : False\n",
      "(1492171276632, 1492182076632] : False\n",
      "(1492182076632, 1492192876632] : False\n",
      "(1492192876632, 1492203676632] : False\n",
      "(1492203676632, 1492214476632] : False\n",
      "(1492214476632, 1492225276632] : False\n",
      "(1492225276632, 1492236076632] : False\n",
      "(1492236076632, 1492246876632] : False\n",
      "(1492246876632, 1492257676632] : False\n",
      "(1492257676632, 1492268476632] : False\n",
      "(1492268476632, 1492279276632] : False\n",
      "(1492279276632, 1492290076632] : False\n",
      "(1492290076632, 1492300876632] : False\n",
      "(1492300876632, 1492311676632] : False\n",
      "(1492311676632, 1492322476632] : False\n",
      "(1492322476632, 1492333276632] : False\n",
      "(1492333276632, 1492344076632] : False\n",
      "(1492344076632, 1492354876632] : False\n",
      "(1492354876632, 1492365676632] : False\n",
      "(1492365676632, 1492376476632] : False\n",
      "(1492376476632, 1492387276632] : False\n",
      "(1492387276632, 1492398076632] : False\n",
      "(1492398076632, 1492408876632] : False\n",
      "(1492408876632, 1492419676632] : False\n",
      "(1492419676632, 1492430476632] : False\n",
      "(1492430476632, 1492441276632] : False\n",
      "(1492441276632, 1492452076632] : False\n",
      "(1492452076632, 1492462876632] : False\n",
      "(1492462876632, 1492473676632] : False\n",
      "(1492473676632, 1492484476632] : False\n",
      "(1492484476632, 1492495276632] : False\n",
      "(1492495276632, 1492506076632] : False\n",
      "(1492506076632, 1492516876632] : False\n",
      "(1492516876632, 1492527676632] : False\n"
     ]
    }
   ],
   "source": [
    "for i in grouped_data.keys():\n",
    "    #if (grouped_data[i].hasnull())\n",
    "    print(f'{i} : {grouped_data[i].isnull().values.any()}')"
   ]
  },
  {
   "cell_type": "code",
   "execution_count": 34,
   "metadata": {},
   "outputs": [
    {
     "name": "stdout",
     "output_type": "stream",
     "text": [
      "183\n",
      "19800\n"
     ]
    }
   ],
   "source": [
    "X,Y = make_array(grouped_data)\n",
    "del grouped_data\n",
    "gc.collect()\n",
    "Y = np.array(Y)\n",
    "X = np.array(X)"
   ]
  },
  {
   "cell_type": "code",
   "execution_count": 35,
   "metadata": {},
   "outputs": [
    {
     "data": {
      "text/plain": [
       "{0: 110, 1: 73}"
      ]
     },
     "execution_count": 35,
     "metadata": {},
     "output_type": "execute_result"
    }
   ],
   "source": [
    "unique, counts = np.unique(Y, return_counts=True)\n",
    "dict(zip(unique, counts))"
   ]
  },
  {
   "cell_type": "code",
   "execution_count": 36,
   "metadata": {},
   "outputs": [],
   "source": [
    "def make_4D(arr):\n",
    "    x = []\n",
    "    for i in range(0, len(arr),1):\n",
    "        temp = []\n",
    "        for j in range(0,len(arr[i]),1):\n",
    "             temp.append([np.array([k]) for k in arr[i][j]])\n",
    "        x.append(np.array(temp).astype(np.float32))\n",
    "    return np.array(x).astype(np.float32)"
   ]
  },
  {
   "cell_type": "code",
   "execution_count": 37,
   "metadata": {},
   "outputs": [],
   "source": [
    "X = make_4D(X)"
   ]
  },
  {
   "cell_type": "code",
   "execution_count": 38,
   "metadata": {},
   "outputs": [],
   "source": [
    "from sklearn.model_selection import train_test_split\n",
    "from sklearn.tree import DecisionTreeClassifier\n",
    "X_train, X_test, Y_train, Y_test = train_test_split(X,Y , test_size=0.2, random_state=0,  stratify=Y)"
   ]
  },
  {
   "cell_type": "code",
   "execution_count": 39,
   "metadata": {},
   "outputs": [
    {
     "data": {
      "text/plain": [
       "40"
      ]
     },
     "execution_count": 39,
     "metadata": {},
     "output_type": "execute_result"
    }
   ],
   "source": [
    "del X,Y\n",
    "gc.collect()"
   ]
  },
  {
   "cell_type": "code",
   "execution_count": 40,
   "metadata": {},
   "outputs": [
    {
     "data": {
      "text/plain": [
       "{0: 88, 1: 58}"
      ]
     },
     "execution_count": 40,
     "metadata": {},
     "output_type": "execute_result"
    }
   ],
   "source": [
    "unique, counts = np.unique(Y_train, return_counts=True)\n",
    "dict(zip(unique, counts))"
   ]
  },
  {
   "cell_type": "code",
   "execution_count": 41,
   "metadata": {},
   "outputs": [
    {
     "data": {
      "text/plain": [
       "{0: 22, 1: 15}"
      ]
     },
     "execution_count": 41,
     "metadata": {},
     "output_type": "execute_result"
    }
   ],
   "source": [
    "unique, counts = np.unique(Y_test, return_counts=True)\n",
    "dict(zip(unique, counts))"
   ]
  },
  {
   "cell_type": "code",
   "execution_count": 42,
   "metadata": {},
   "outputs": [
    {
     "name": "stdout",
     "output_type": "stream",
     "text": [
      "False\n",
      "False\n",
      "False\n",
      "False\n",
      "False\n",
      "False\n",
      "False\n",
      "False\n",
      "False\n",
      "False\n",
      "False\n",
      "False\n",
      "False\n",
      "False\n",
      "False\n",
      "False\n",
      "False\n",
      "False\n",
      "False\n",
      "False\n",
      "False\n",
      "False\n",
      "False\n",
      "False\n",
      "False\n",
      "False\n",
      "False\n",
      "False\n",
      "False\n",
      "False\n",
      "False\n",
      "False\n",
      "False\n",
      "False\n",
      "False\n",
      "False\n",
      "False\n",
      "False\n",
      "False\n",
      "False\n",
      "False\n",
      "False\n",
      "False\n",
      "False\n",
      "False\n",
      "False\n",
      "False\n",
      "False\n",
      "False\n",
      "False\n",
      "False\n",
      "False\n",
      "False\n",
      "False\n",
      "False\n",
      "False\n",
      "False\n",
      "False\n",
      "False\n",
      "False\n",
      "False\n",
      "False\n",
      "False\n",
      "False\n",
      "False\n",
      "False\n",
      "False\n",
      "False\n",
      "False\n",
      "False\n",
      "False\n",
      "False\n",
      "False\n",
      "False\n",
      "False\n",
      "False\n",
      "False\n",
      "False\n",
      "False\n",
      "False\n",
      "False\n",
      "False\n",
      "False\n",
      "False\n",
      "False\n",
      "False\n",
      "False\n",
      "False\n",
      "False\n",
      "False\n",
      "False\n",
      "False\n",
      "False\n",
      "False\n",
      "False\n",
      "False\n",
      "False\n",
      "False\n",
      "False\n",
      "False\n",
      "False\n",
      "False\n",
      "False\n",
      "False\n",
      "False\n",
      "False\n",
      "False\n",
      "False\n",
      "False\n",
      "False\n",
      "False\n",
      "False\n",
      "False\n",
      "False\n",
      "False\n",
      "False\n",
      "False\n",
      "False\n",
      "False\n",
      "False\n",
      "False\n",
      "False\n",
      "False\n",
      "False\n",
      "False\n",
      "False\n",
      "False\n",
      "False\n",
      "False\n",
      "False\n",
      "False\n",
      "False\n",
      "False\n",
      "False\n",
      "False\n",
      "False\n",
      "False\n",
      "False\n",
      "False\n",
      "False\n",
      "False\n",
      "False\n",
      "False\n",
      "False\n",
      "False\n",
      "False\n"
     ]
    }
   ],
   "source": [
    "for i in X_train:\n",
    "    print(f'{np.isnan(i).any()}')"
   ]
  },
  {
   "cell_type": "code",
   "execution_count": 43,
   "metadata": {},
   "outputs": [
    {
     "name": "stdout",
     "output_type": "stream",
     "text": [
      "samples: 146 \n",
      " X:19800 \n",
      " Y:9 \n",
      " \n"
     ]
    }
   ],
   "source": [
    "nsamples,nx, ny, nz = X_train.shape\n",
    "print(f\"samples: {nsamples} \\n X:{nx} \\n Y:{ny} \\n \" )"
   ]
  },
  {
   "cell_type": "code",
   "execution_count": 44,
   "metadata": {},
   "outputs": [],
   "source": [
    "import tensorflow as tf\n",
    "from tensorflow import keras\n",
    "from tensorflow.keras.layers import Embedding, Dense, LSTM, Dropout, Masking, Flatten, Input, Bidirectional, SimpleRNN\n",
    "from tensorflow.keras.losses import BinaryCrossentropy\n",
    "from tensorflow.keras.models import Sequential\n",
    "from tensorflow.keras.optimizers import Adam\n",
    "from tensorflow.keras.preprocessing.sequence import pad_sequences\n",
    "from keras.layers import Dense, Conv2D, MaxPooling2D, Dropout, Flatten"
   ]
  },
  {
   "cell_type": "code",
   "execution_count": 45,
   "metadata": {},
   "outputs": [],
   "source": [
    "##CNN MODEL"
   ]
  },
  {
   "cell_type": "code",
   "execution_count": 46,
   "metadata": {},
   "outputs": [],
   "source": [
    "from keras.callbacks import EarlyStopping\n",
    "from keras.callbacks import ModelCheckpoint, LambdaCallback\n",
    "wie_by_epoch = []\n",
    "#model_check = ModelCheckpoint(\"/models/Testpoints/best_model.hdf5\", monitor='loss', verbose=0, save_best_only=True, mode='min', save_freq=1)\n",
    "print_weights = LambdaCallback(on_epoch_end=lambda batch, logs:wie_by_epoch.append(model.get_weights()))\n",
    "callback = tf.keras.callbacks.EarlyStopping(monitor='loss', patience=4, verbose= 2)"
   ]
  },
  {
   "cell_type": "code",
   "execution_count": 47,
   "metadata": {},
   "outputs": [],
   "source": [
    "model = Sequential()\n",
    "model.add(Conv2D(64, (2, 2), padding='same', activation='relu', input_shape=X_train.shape[1:]))\n",
    "model.add(MaxPooling2D(pool_size=(2, 2)))\n",
    "model.add(Dropout(0.25))\n",
    "model.add(MaxPooling2D(pool_size=(2, 2)))\n",
    "model.add(Dense(256, activation='relu'))\n",
    "model.add(Flatten())\n",
    "model.add(Dense(128, activation='relu'))\n",
    "model.add(Dense(64, activation='relu'))\n",
    "model.add(Dense(5, activation = 'softmax') )\n",
    "#mod1 = model.compile(optimizer=tf.keras.optimizers.RMSprop(\n",
    "#   learning_rate=0.1, rho=0.1, momentum=0.0, epsilon=1e-2 , centered=False,\n",
    "#   name='RMSprop'), loss='sparse_categorical_crossentropy', metrics=[keras.metrics.SparseCategoricalAccuracy()])\n",
    "model.compile(optimizer= 'rmsprop', loss='sparse_categorical_crossentropy',  metrics=[keras.metrics.SparseCategoricalAccuracy()])\n",
    "#mod = model.fit(X.astype('float32'),Y.astype('float32'), epochs=20, batch_size= 20, verbose=0)des\": (2, 10, None),"
   ]
  },
  {
   "cell_type": "code",
   "execution_count": 48,
   "metadata": {},
   "outputs": [
    {
     "data": {
      "text/plain": [
       "(None, 5)"
      ]
     },
     "execution_count": 48,
     "metadata": {},
     "output_type": "execute_result"
    }
   ],
   "source": [
    "model.build(input_shape = (nx,ny,nz))\n",
    "model.output_shape"
   ]
  },
  {
   "cell_type": "code",
   "execution_count": 49,
   "metadata": {},
   "outputs": [
    {
     "data": {
      "text/plain": [
       "868"
      ]
     },
     "execution_count": 49,
     "metadata": {},
     "output_type": "execute_result"
    }
   ],
   "source": [
    "#del model, wie_by_epoch\n",
    "\n",
    "gc.collect()"
   ]
  },
  {
   "cell_type": "code",
   "execution_count": 50,
   "metadata": {},
   "outputs": [
    {
     "name": "stdout",
     "output_type": "stream",
     "text": [
      "Model: \"sequential\"\n",
      "_________________________________________________________________\n",
      "Layer (type)                 Output Shape              Param #   \n",
      "=================================================================\n",
      "conv2d (Conv2D)              (None, 19800, 9, 64)      320       \n",
      "_________________________________________________________________\n",
      "max_pooling2d (MaxPooling2D) (None, 9900, 4, 64)       0         \n",
      "_________________________________________________________________\n",
      "dropout (Dropout)            (None, 9900, 4, 64)       0         \n",
      "_________________________________________________________________\n",
      "max_pooling2d_1 (MaxPooling2 (None, 4950, 2, 64)       0         \n",
      "_________________________________________________________________\n",
      "dense (Dense)                (None, 4950, 2, 256)      16640     \n",
      "_________________________________________________________________\n",
      "flatten (Flatten)            (None, 2534400)           0         \n",
      "_________________________________________________________________\n",
      "dense_1 (Dense)              (None, 128)               324403328 \n",
      "_________________________________________________________________\n",
      "dense_2 (Dense)              (None, 64)                8256      \n",
      "_________________________________________________________________\n",
      "dense_3 (Dense)              (None, 5)                 325       \n",
      "=================================================================\n",
      "Total params: 324,428,869\n",
      "Trainable params: 324,428,869\n",
      "Non-trainable params: 0\n",
      "_________________________________________________________________\n"
     ]
    }
   ],
   "source": [
    "#model.build(input_shape = (nx,ny))\n",
    "model.summary()\n"
   ]
  },
  {
   "cell_type": "code",
   "execution_count": 51,
   "metadata": {
    "scrolled": true
   },
   "outputs": [
    {
     "data": {
      "text/plain": [
       "[array([[[[ 1.04437590e-01, -2.75996402e-02,  1.00214660e-01,\n",
       "           -1.36689261e-01,  1.31458789e-01, -3.92220467e-02,\n",
       "            5.42160124e-02,  1.27144545e-01, -9.26781669e-02,\n",
       "            1.29632205e-01,  6.58937991e-02, -3.19702923e-02,\n",
       "           -2.25163549e-02,  3.11727822e-03, -2.88254097e-02,\n",
       "           -7.54909888e-02,  9.92032588e-02,  9.62682366e-02,\n",
       "           -1.26986057e-02,  5.57510555e-02, -2.25213170e-02,\n",
       "            1.23963743e-01,  6.93802536e-02,  5.32176942e-02,\n",
       "           -7.25523680e-02,  1.09778345e-02,  7.43541270e-02,\n",
       "           -6.19516522e-02, -1.51355818e-01,  1.12435848e-01,\n",
       "            1.48941994e-01,  1.46987915e-01,  4.44971770e-02,\n",
       "           -2.40708441e-02,  2.54352689e-02, -2.82086432e-03,\n",
       "            1.48413569e-01, -8.63075256e-05, -7.49442726e-02,\n",
       "           -1.47685707e-01,  1.66162401e-02, -1.27547845e-01,\n",
       "           -3.45949978e-02, -1.03858419e-01, -1.00265518e-01,\n",
       "           -8.38061795e-02, -1.32875204e-01,  1.35442019e-01,\n",
       "            4.19376194e-02,  2.33598053e-03,  5.34204394e-02,\n",
       "            3.84491086e-02, -1.47701055e-01,  3.22490335e-02,\n",
       "           -7.34485984e-02,  7.06202239e-02,  4.57571149e-02,\n",
       "            9.68762785e-02, -3.70559320e-02,  6.77274615e-02,\n",
       "           -3.97338122e-02, -9.69476998e-02,  5.38882464e-02,\n",
       "            1.38888478e-01]],\n",
       " \n",
       "         [[-1.40477523e-01,  2.28578150e-02, -1.01880930e-01,\n",
       "           -4.15337905e-02,  9.04411376e-02, -1.11748949e-01,\n",
       "           -2.29147077e-03, -2.61206925e-02, -1.47964433e-01,\n",
       "           -5.04889637e-02, -6.20712414e-02,  2.61286944e-02,\n",
       "           -1.10654831e-01,  5.86394817e-02, -3.15361768e-02,\n",
       "           -1.46352291e-01, -1.23627461e-01,  3.10804397e-02,\n",
       "            1.12587780e-01, -1.33858070e-01,  6.15483224e-02,\n",
       "           -9.29573774e-02, -8.08934271e-02, -1.16825506e-01,\n",
       "            3.86494994e-02, -8.91418010e-02, -3.25127691e-02,\n",
       "            4.42366302e-02,  1.98528469e-02, -2.09055692e-02,\n",
       "           -9.72217619e-02,  1.00153983e-02, -6.97627589e-02,\n",
       "           -3.76091301e-02,  9.43122357e-02,  7.85964876e-02,\n",
       "            6.52449131e-02,  4.02679294e-02,  7.44561553e-02,\n",
       "            1.04598105e-01,  1.15147650e-01,  1.05718762e-01,\n",
       "           -3.88504043e-02,  5.47451675e-02, -5.67687303e-02,\n",
       "           -8.98465067e-02,  7.57625848e-02,  7.10777789e-02,\n",
       "           -1.22173183e-01, -1.63711458e-02,  4.35051322e-03,\n",
       "            9.18335915e-02, -5.90378046e-03,  9.41866636e-03,\n",
       "            9.38607305e-02, -1.20633900e-01,  1.46027058e-02,\n",
       "           -1.33504793e-01,  1.18297458e-01, -4.04962450e-02,\n",
       "            4.17184979e-02,  3.07681262e-02,  5.44650257e-02,\n",
       "           -1.49917036e-01]]],\n",
       " \n",
       " \n",
       "        [[[-9.59876552e-02, -1.40228555e-01, -1.46425411e-01,\n",
       "            1.00299716e-03,  6.94528222e-04, -4.16055024e-02,\n",
       "           -1.25003606e-01,  1.07330650e-01, -7.09025562e-03,\n",
       "           -8.83417055e-02, -8.20440054e-03,  1.33441329e-01,\n",
       "            1.33886635e-02, -6.67682961e-02,  9.83615220e-03,\n",
       "           -6.96821362e-02, -4.97152731e-02,  1.14822924e-01,\n",
       "            1.13667995e-01, -1.01214111e-01, -5.79650179e-02,\n",
       "           -2.81909406e-02,  1.27875268e-01, -6.82850480e-02,\n",
       "            1.19043410e-01,  1.07197672e-01, -5.81036657e-02,\n",
       "            8.15029144e-02, -8.74786079e-03,  1.28142595e-01,\n",
       "           -2.31743306e-02, -6.20961636e-02,  1.90784335e-02,\n",
       "            1.16766512e-01,  6.71667755e-02,  1.39641762e-02,\n",
       "           -1.04076415e-02, -1.69335008e-02, -4.83217314e-02,\n",
       "            2.53334194e-02,  1.06626272e-01,  1.20469183e-01,\n",
       "           -1.37079835e-01,  1.36742204e-01,  1.68971717e-02,\n",
       "            8.73918086e-02, -9.69250202e-02, -1.24347374e-01,\n",
       "           -1.40074626e-01, -9.07659084e-02, -1.33925825e-02,\n",
       "            1.58353597e-02, -1.21157981e-01,  6.73486292e-02,\n",
       "            7.30548948e-02, -4.70206216e-02, -1.46194011e-01,\n",
       "            9.16338414e-02,  9.98445153e-02,  7.27776438e-02,\n",
       "           -1.51893556e-01,  4.34056669e-02, -1.04211584e-01,\n",
       "           -5.24155796e-03]],\n",
       " \n",
       "         [[ 1.41095728e-01, -8.35975260e-02, -9.44403335e-02,\n",
       "           -2.17618197e-02,  9.59012061e-02, -4.69093621e-02,\n",
       "           -1.32339180e-01,  1.00835562e-02,  1.81455910e-02,\n",
       "            7.12503195e-02,  1.11992598e-01, -8.51856321e-02,\n",
       "            1.14592582e-01, -5.52667677e-03, -4.09981608e-02,\n",
       "            8.69813710e-02,  1.48576587e-01, -2.46116519e-02,\n",
       "            1.51237905e-01,  5.91127872e-02, -1.18351460e-01,\n",
       "            7.97079355e-02,  1.45957083e-01, -9.74224061e-02,\n",
       "            8.30838084e-03,  1.17273152e-01,  1.18341774e-01,\n",
       "            1.39782041e-01, -4.55366075e-02,  3.30781788e-02,\n",
       "           -1.08647212e-01,  7.73242861e-02, -1.15747795e-01,\n",
       "            5.18678427e-02,  1.30260140e-01, -1.24741249e-01,\n",
       "           -8.42107087e-02, -1.35888144e-01,  9.11000520e-02,\n",
       "            1.61392391e-02,  1.16920084e-01,  1.12687588e-01,\n",
       "            2.76367217e-02, -5.95396832e-02,  6.54125363e-02,\n",
       "           -1.17107823e-01, -5.56687042e-02, -1.18817389e-03,\n",
       "           -1.26716822e-01, -2.61466950e-02,  4.62862253e-02,\n",
       "            1.12840980e-01, -1.76411420e-02, -1.46160692e-01,\n",
       "            1.23487592e-01,  1.49099618e-01,  1.10549480e-01,\n",
       "           -8.90059471e-02, -4.35427502e-02,  1.74222738e-02,\n",
       "           -7.77043626e-02, -1.50862962e-01,  1.18888766e-01,\n",
       "           -5.07064611e-02]]]], dtype=float32),\n",
       " array([0., 0., 0., 0., 0., 0., 0., 0., 0., 0., 0., 0., 0., 0., 0., 0., 0.,\n",
       "        0., 0., 0., 0., 0., 0., 0., 0., 0., 0., 0., 0., 0., 0., 0., 0., 0.,\n",
       "        0., 0., 0., 0., 0., 0., 0., 0., 0., 0., 0., 0., 0., 0., 0., 0., 0.,\n",
       "        0., 0., 0., 0., 0., 0., 0., 0., 0., 0., 0., 0., 0.], dtype=float32),\n",
       " array([[ 0.10198665, -0.10266629, -0.02269554, ..., -0.10648978,\n",
       "          0.09367205,  0.0812663 ],\n",
       "        [-0.02884617, -0.04970072,  0.0921098 , ..., -0.00870524,\n",
       "         -0.05976991, -0.12811075],\n",
       "        [ 0.04312281, -0.06443736,  0.03590408, ..., -0.00828119,\n",
       "         -0.09066898, -0.11676115],\n",
       "        ...,\n",
       "        [ 0.04362945, -0.12497773,  0.0404759 , ..., -0.08293847,\n",
       "         -0.06852304, -0.12294579],\n",
       "        [ 0.06843232, -0.08801845,  0.06265014, ..., -0.07862439,\n",
       "         -0.04027425,  0.05452357],\n",
       "        [-0.09964126,  0.09720892, -0.10740467, ..., -0.01897077,\n",
       "          0.12270272,  0.10024308]], dtype=float32),\n",
       " array([0., 0., 0., 0., 0., 0., 0., 0., 0., 0., 0., 0., 0., 0., 0., 0., 0.,\n",
       "        0., 0., 0., 0., 0., 0., 0., 0., 0., 0., 0., 0., 0., 0., 0., 0., 0.,\n",
       "        0., 0., 0., 0., 0., 0., 0., 0., 0., 0., 0., 0., 0., 0., 0., 0., 0.,\n",
       "        0., 0., 0., 0., 0., 0., 0., 0., 0., 0., 0., 0., 0., 0., 0., 0., 0.,\n",
       "        0., 0., 0., 0., 0., 0., 0., 0., 0., 0., 0., 0., 0., 0., 0., 0., 0.,\n",
       "        0., 0., 0., 0., 0., 0., 0., 0., 0., 0., 0., 0., 0., 0., 0., 0., 0.,\n",
       "        0., 0., 0., 0., 0., 0., 0., 0., 0., 0., 0., 0., 0., 0., 0., 0., 0.,\n",
       "        0., 0., 0., 0., 0., 0., 0., 0., 0., 0., 0., 0., 0., 0., 0., 0., 0.,\n",
       "        0., 0., 0., 0., 0., 0., 0., 0., 0., 0., 0., 0., 0., 0., 0., 0., 0.,\n",
       "        0., 0., 0., 0., 0., 0., 0., 0., 0., 0., 0., 0., 0., 0., 0., 0., 0.,\n",
       "        0., 0., 0., 0., 0., 0., 0., 0., 0., 0., 0., 0., 0., 0., 0., 0., 0.,\n",
       "        0., 0., 0., 0., 0., 0., 0., 0., 0., 0., 0., 0., 0., 0., 0., 0., 0.,\n",
       "        0., 0., 0., 0., 0., 0., 0., 0., 0., 0., 0., 0., 0., 0., 0., 0., 0.,\n",
       "        0., 0., 0., 0., 0., 0., 0., 0., 0., 0., 0., 0., 0., 0., 0., 0., 0.,\n",
       "        0., 0., 0., 0., 0., 0., 0., 0., 0., 0., 0., 0., 0., 0., 0., 0., 0.,\n",
       "        0.], dtype=float32),\n",
       " array([[-3.8485916e-04, -1.3960010e-03, -2.1744182e-04, ...,\n",
       "         -1.1464445e-03, -6.9855846e-04, -1.6150181e-04],\n",
       "        [ 1.4590682e-03,  1.1640645e-03, -1.2036754e-03, ...,\n",
       "         -5.1713584e-04, -1.1244174e-03, -1.2021087e-03],\n",
       "        [ 1.0439116e-03, -1.4908997e-03, -3.1367538e-04, ...,\n",
       "         -2.2200402e-06, -1.1049628e-03, -1.0422653e-03],\n",
       "        ...,\n",
       "        [-1.5044648e-03, -3.4017372e-05, -1.2606495e-03, ...,\n",
       "          5.5349083e-04, -9.7591459e-04,  3.9331801e-04],\n",
       "        [ 1.6750721e-04,  6.5326318e-04,  1.2745888e-03, ...,\n",
       "          3.2741472e-04,  3.3024233e-04, -1.2369856e-03],\n",
       "        [ 5.2811764e-04, -9.6707942e-04, -1.0884436e-03, ...,\n",
       "          7.9808105e-04, -7.6479767e-04,  8.6770765e-04]], dtype=float32),\n",
       " array([0., 0., 0., 0., 0., 0., 0., 0., 0., 0., 0., 0., 0., 0., 0., 0., 0.,\n",
       "        0., 0., 0., 0., 0., 0., 0., 0., 0., 0., 0., 0., 0., 0., 0., 0., 0.,\n",
       "        0., 0., 0., 0., 0., 0., 0., 0., 0., 0., 0., 0., 0., 0., 0., 0., 0.,\n",
       "        0., 0., 0., 0., 0., 0., 0., 0., 0., 0., 0., 0., 0., 0., 0., 0., 0.,\n",
       "        0., 0., 0., 0., 0., 0., 0., 0., 0., 0., 0., 0., 0., 0., 0., 0., 0.,\n",
       "        0., 0., 0., 0., 0., 0., 0., 0., 0., 0., 0., 0., 0., 0., 0., 0., 0.,\n",
       "        0., 0., 0., 0., 0., 0., 0., 0., 0., 0., 0., 0., 0., 0., 0., 0., 0.,\n",
       "        0., 0., 0., 0., 0., 0., 0., 0., 0.], dtype=float32),\n",
       " array([[ 0.07029146, -0.03162375,  0.02194063, ...,  0.07331966,\n",
       "          0.13552614,  0.10089655],\n",
       "        [-0.14143497, -0.11331787, -0.04476488, ...,  0.06774692,\n",
       "          0.13974623, -0.07576178],\n",
       "        [-0.10157391,  0.14181112, -0.11203281, ..., -0.02565841,\n",
       "          0.03829518,  0.14379425],\n",
       "        ...,\n",
       "        [-0.07694493,  0.03755891,  0.0719185 , ...,  0.02044106,\n",
       "         -0.10946219,  0.00155661],\n",
       "        [-0.04925829, -0.14162192,  0.03283088, ..., -0.15977305,\n",
       "          0.00655797, -0.04640128],\n",
       "        [-0.1689898 ,  0.1744804 ,  0.07599796, ...,  0.13708232,\n",
       "         -0.00690973, -0.13345006]], dtype=float32),\n",
       " array([0., 0., 0., 0., 0., 0., 0., 0., 0., 0., 0., 0., 0., 0., 0., 0., 0.,\n",
       "        0., 0., 0., 0., 0., 0., 0., 0., 0., 0., 0., 0., 0., 0., 0., 0., 0.,\n",
       "        0., 0., 0., 0., 0., 0., 0., 0., 0., 0., 0., 0., 0., 0., 0., 0., 0.,\n",
       "        0., 0., 0., 0., 0., 0., 0., 0., 0., 0., 0., 0., 0.], dtype=float32),\n",
       " array([[-2.05030143e-02, -2.07630605e-01,  1.29067898e-01,\n",
       "         -6.29028827e-02,  1.16677463e-01],\n",
       "        [ 2.53855884e-01,  7.23273158e-02, -2.18362212e-02,\n",
       "          6.86408281e-02, -1.98798031e-01],\n",
       "        [ 1.64678693e-03,  1.30453527e-01, -2.88507789e-01,\n",
       "          4.55067754e-02,  1.49198979e-01],\n",
       "        [-9.37297195e-02, -7.99727440e-03,  1.83160007e-02,\n",
       "          2.65081227e-01,  3.81234288e-03],\n",
       "        [-7.18966872e-02, -1.51860714e-03, -2.08133504e-01,\n",
       "         -2.94270009e-01,  1.51728719e-01],\n",
       "        [-5.52173406e-02,  2.27400959e-01,  2.30057240e-01,\n",
       "         -1.45223171e-01,  1.43904686e-02],\n",
       "        [-2.78390735e-01,  1.65254354e-01, -6.10526502e-02,\n",
       "         -4.58554178e-02,  1.42434001e-01],\n",
       "        [ 9.60685909e-02,  2.08480120e-01, -2.78112322e-01,\n",
       "         -8.66240561e-02,  2.57447362e-01],\n",
       "        [-2.07449019e-01,  7.45711923e-02, -2.44975224e-01,\n",
       "         -1.53252795e-01,  2.63881922e-01],\n",
       "        [-2.29657143e-01,  7.56810308e-02,  1.61631078e-01,\n",
       "          2.21138418e-01, -1.90640301e-01],\n",
       "        [ 2.14179099e-01,  2.88744450e-01,  2.33560801e-04,\n",
       "         -7.66307861e-02, -4.36459184e-02],\n",
       "        [ 1.09053999e-01,  6.16313219e-02, -1.86149240e-01,\n",
       "         -2.38146916e-01,  1.37428373e-01],\n",
       "        [ 6.14916384e-02,  2.17041671e-01,  2.18933880e-01,\n",
       "          2.78176427e-01, -7.77374059e-02],\n",
       "        [-1.69240192e-01,  1.84203386e-01,  1.48873657e-01,\n",
       "          2.93688655e-01,  2.28908360e-01],\n",
       "        [-2.62912273e-01, -1.02851346e-01,  2.04888254e-01,\n",
       "         -2.33371675e-01,  8.36068392e-03],\n",
       "        [ 8.73382986e-02, -2.37829834e-01,  1.94363683e-01,\n",
       "          1.34236068e-01, -1.51801541e-01],\n",
       "        [-9.54026580e-02,  1.34079695e-01, -2.23632157e-02,\n",
       "          9.67886746e-02, -1.77718580e-01],\n",
       "        [ 1.50544912e-01, -2.39745036e-01,  2.53445685e-01,\n",
       "          1.88780725e-01, -2.77182311e-01],\n",
       "        [ 1.02254599e-01, -2.91895062e-01,  4.34714258e-02,\n",
       "          2.46170163e-01, -1.77219987e-01],\n",
       "        [-5.80993146e-02,  6.01828098e-02, -1.56401873e-01,\n",
       "         -2.65342742e-01,  6.20634258e-02],\n",
       "        [ 1.17378622e-01,  2.20306873e-01, -2.51389563e-01,\n",
       "         -2.39607796e-01, -2.37268373e-01],\n",
       "        [-2.21615493e-01, -2.07582176e-01, -5.41817993e-02,\n",
       "          2.86293864e-01,  1.15615785e-01],\n",
       "        [ 1.24243706e-01, -1.67380184e-01, -1.23843253e-01,\n",
       "         -3.59079242e-03,  2.59396613e-01],\n",
       "        [-1.40870258e-01, -1.61544457e-01,  9.85891223e-02,\n",
       "          2.78074622e-01,  2.45395660e-01],\n",
       "        [ 2.60620713e-01, -2.46503174e-01,  9.64289904e-02,\n",
       "          2.19886541e-01,  1.47279501e-02],\n",
       "        [ 2.53918588e-01,  2.56053209e-01, -2.46301323e-01,\n",
       "          2.73654342e-01,  2.04594880e-01],\n",
       "        [-2.35250458e-01, -6.48492575e-03,  1.13475025e-02,\n",
       "         -1.96699172e-01,  6.72884285e-02],\n",
       "        [-2.72887677e-01,  2.93454170e-01,  2.40186453e-02,\n",
       "         -2.58792281e-01, -2.09160596e-01],\n",
       "        [ 2.70941496e-01, -2.22122669e-01,  2.23575711e-01,\n",
       "         -1.92422271e-01,  4.88841236e-02],\n",
       "        [-3.31273079e-02, -3.73768210e-02,  2.62685478e-01,\n",
       "          6.08718991e-02,  5.36644459e-03],\n",
       "        [-3.95255685e-02, -9.02045220e-02, -8.05523098e-02,\n",
       "         -2.38181368e-01, -1.25851467e-01],\n",
       "        [ 1.51768506e-01,  2.83827424e-01,  9.85013247e-02,\n",
       "         -2.48048007e-01,  8.14216435e-02],\n",
       "        [-8.96555781e-02,  6.68145418e-02,  3.61596942e-02,\n",
       "          1.09881639e-01,  2.40579367e-01],\n",
       "        [ 1.53479189e-01,  1.73344284e-01,  1.36746109e-01,\n",
       "          1.92405283e-02, -2.36535504e-01],\n",
       "        [-5.85924387e-02,  9.72293317e-02,  2.21769810e-01,\n",
       "          1.98694944e-01,  1.09491646e-01],\n",
       "        [-1.80841148e-01,  1.38669610e-02,  2.12519407e-01,\n",
       "          2.11124182e-01, -2.15438142e-01],\n",
       "        [ 2.66862988e-01, -1.13642216e-02,  1.50898904e-01,\n",
       "          1.26990914e-01,  1.23389989e-01],\n",
       "        [-2.68458068e-01, -1.97843403e-01,  4.35131192e-02,\n",
       "         -4.90911007e-02,  9.37817395e-02],\n",
       "        [-8.01209807e-02, -6.15937114e-02, -2.31854200e-01,\n",
       "          2.79665351e-01,  2.69044161e-01],\n",
       "        [-2.09660619e-01,  1.66743010e-01, -3.13980877e-02,\n",
       "         -2.06562877e-01, -1.25930205e-01],\n",
       "        [ 1.18987650e-01,  2.01028883e-02, -5.30755371e-02,\n",
       "          1.12346709e-02,  1.82198256e-01],\n",
       "        [-1.19324982e-01, -2.90459573e-01, -2.67731875e-01,\n",
       "          7.89000392e-02,  4.09558117e-02],\n",
       "        [ 2.42601335e-02, -2.33099461e-02, -2.24376962e-01,\n",
       "         -2.87776262e-01, -2.33300731e-01],\n",
       "        [ 8.18166137e-02, -7.35583603e-02,  8.78819823e-02,\n",
       "         -7.53404051e-02,  1.05720788e-01],\n",
       "        [-2.36911774e-01,  1.35282487e-01,  7.58130550e-02,\n",
       "          2.30746925e-01,  4.49983776e-02],\n",
       "        [ 2.54903018e-01,  2.19079852e-02,  1.52968466e-02,\n",
       "         -2.08196849e-01,  1.53654248e-01],\n",
       "        [-2.56535411e-01, -1.60669848e-01,  8.54935348e-02,\n",
       "         -2.48254642e-01, -8.42513740e-02],\n",
       "        [ 1.65339202e-01, -1.21623978e-01, -5.73992729e-02,\n",
       "         -2.46318072e-01, -8.33026767e-02],\n",
       "        [ 2.94494748e-01,  8.53631198e-02, -4.98532802e-02,\n",
       "         -1.57409906e-01, -2.94376522e-01],\n",
       "        [-2.16276109e-01, -2.44141817e-02, -1.38205945e-01,\n",
       "          1.01792037e-01,  1.31940573e-01],\n",
       "        [ 1.15305454e-01, -7.21710920e-03,  2.83606529e-01,\n",
       "         -2.72595763e-01, -1.64848194e-01],\n",
       "        [-2.57930189e-01, -1.03849262e-01, -1.28142238e-02,\n",
       "          2.84362078e-01,  2.91782916e-01],\n",
       "        [ 1.41325563e-01,  1.57455891e-01, -4.99850363e-02,\n",
       "         -3.67302895e-02, -1.32297516e-01],\n",
       "        [-1.61007673e-01, -9.99474972e-02, -1.04615808e-01,\n",
       "         -2.76572466e-01, -1.94703758e-01],\n",
       "        [-2.48414576e-01, -2.58117855e-01, -1.47250369e-01,\n",
       "          2.52283394e-01, -4.89334017e-02],\n",
       "        [-2.11566687e-01, -4.41916287e-02,  2.71074772e-01,\n",
       "          2.82211781e-01, -2.03934982e-01],\n",
       "        [-8.70508850e-02, -1.78854093e-01,  4.78021204e-02,\n",
       "          2.20710516e-01, -1.95859373e-01],\n",
       "        [-1.44253790e-01, -1.14813522e-01, -1.58245638e-01,\n",
       "          6.71363473e-02, -2.24567831e-01],\n",
       "        [-1.92762688e-01,  2.86591887e-01, -2.64575839e-01,\n",
       "          2.05356300e-01, -2.93401361e-01],\n",
       "        [-2.70627558e-01,  1.64514512e-01, -1.95749134e-01,\n",
       "          2.84854412e-01, -1.76995352e-01],\n",
       "        [-1.17567539e-01,  6.84793890e-02, -1.02047250e-01,\n",
       "          7.38428235e-02,  3.27518880e-02],\n",
       "        [-9.87661481e-02, -1.48739308e-01,  1.84853673e-02,\n",
       "         -4.40399647e-02, -1.72739387e-01],\n",
       "        [ 2.84529924e-01,  2.03670770e-01,  2.55097449e-01,\n",
       "          1.71036154e-01,  8.36212933e-02],\n",
       "        [ 2.56503105e-01,  4.56735194e-02, -1.51969492e-02,\n",
       "          1.28032267e-01,  5.83963394e-02]], dtype=float32),\n",
       " array([0., 0., 0., 0., 0.], dtype=float32)]"
      ]
     },
     "execution_count": 51,
     "metadata": {},
     "output_type": "execute_result"
    }
   ],
   "source": [
    "wights = model.get_weights()\n",
    "wights"
   ]
  },
  {
   "cell_type": "code",
   "execution_count": 52,
   "metadata": {
    "scrolled": true
   },
   "outputs": [
    {
     "data": {
      "image/png": "[encoded data removed]",
      "text/plain": [
       "<IPython.core.display.Image object>"
      ]
     },
     "execution_count": 52,
     "metadata": {},
     "output_type": "execute_result"
    }
   ],
   "source": [
    "from tensorflow.keras.utils import plot_model\n",
    "plot_model(model, show_shapes=True)"
   ]
  },
  {
   "cell_type": "code",
   "execution_count": 61,
   "metadata": {
    "scrolled": true
   },
   "outputs": [
    {
     "name": "stdout",
     "output_type": "stream",
     "text": [
      "Epoch 1/200\n",
      "5/5 - 33s - loss: 0.0687 - sparse_categorical_accuracy: 0.9726\n",
      "Epoch 2/200\n",
      "5/5 - 33s - loss: 0.0499 - sparse_categorical_accuracy: 0.9932\n",
      "Epoch 3/200\n",
      "5/5 - 32s - loss: 0.2465 - sparse_categorical_accuracy: 0.9178\n",
      "Epoch 4/200\n",
      "5/5 - 31s - loss: 0.1664 - sparse_categorical_accuracy: 0.9521\n",
      "Epoch 5/200\n",
      "5/5 - 33s - loss: 0.0431 - sparse_categorical_accuracy: 0.9932\n",
      "Epoch 6/200\n",
      "5/5 - 38s - loss: 0.0246 - sparse_categorical_accuracy: 0.9932\n",
      "Epoch 7/200\n",
      "5/5 - 34s - loss: 0.0341 - sparse_categorical_accuracy: 0.9932\n",
      "Epoch 8/200\n",
      "5/5 - 33s - loss: 0.0173 - sparse_categorical_accuracy: 0.9932\n",
      "Epoch 9/200\n",
      "5/5 - 34s - loss: 0.0181 - sparse_categorical_accuracy: 0.9932\n",
      "Epoch 10/200\n",
      "5/5 - 30s - loss: 0.0106 - sparse_categorical_accuracy: 0.9932\n",
      "Epoch 11/200\n",
      "5/5 - 30s - loss: 0.0096 - sparse_categorical_accuracy: 0.9932\n",
      "Epoch 12/200\n",
      "5/5 - 39s - loss: 0.0147 - sparse_categorical_accuracy: 0.9932\n",
      "Epoch 13/200\n",
      "5/5 - 30s - loss: 0.0077 - sparse_categorical_accuracy: 0.9932\n",
      "Epoch 14/200\n",
      "5/5 - 32s - loss: 1.7432 - sparse_categorical_accuracy: 0.8356\n",
      "Epoch 15/200\n",
      "5/5 - 44s - loss: 0.1025 - sparse_categorical_accuracy: 0.9795\n",
      "Epoch 16/200\n",
      "5/5 - 39s - loss: 0.0133 - sparse_categorical_accuracy: 0.9932\n",
      "Epoch 17/200\n",
      "5/5 - 37s - loss: 0.0118 - sparse_categorical_accuracy: 0.9932\n",
      "Epoch 00017: early stopping\n"
     ]
    }
   ],
   "source": [
    "mod = model.fit(X_train,\n",
    "               Y_train, epochs=200, batch_size= 32, verbose=2 , \n",
    "                callbacks=[callback, print_weights])"
   ]
  },
  {
   "cell_type": "code",
   "execution_count": 62,
   "metadata": {},
   "outputs": [
    {
     "data": {
      "text/plain": [
       "33"
      ]
     },
     "execution_count": 62,
     "metadata": {},
     "output_type": "execute_result"
    }
   ],
   "source": [
    "len(wie_by_epoch)"
   ]
  },
  {
   "cell_type": "code",
   "execution_count": 63,
   "metadata": {},
   "outputs": [],
   "source": [
    "#model.set_weights(wie_by_epoch[76])"
   ]
  },
  {
   "cell_type": "code",
   "execution_count": 64,
   "metadata": {},
   "outputs": [
    {
     "name": "stdout",
     "output_type": "stream",
     "text": [
      "2/2 - 2s - loss: 0.1402 - sparse_categorical_accuracy: 0.9189\n"
     ]
    },
    {
     "data": {
      "text/plain": [
       "[0.14020046591758728, 0.9189189076423645]"
      ]
     },
     "execution_count": 64,
     "metadata": {},
     "output_type": "execute_result"
    }
   ],
   "source": [
    "scores = model.evaluate(X_test,Y_test, verbose=2)\n",
    "scores"
   ]
  },
  {
   "cell_type": "code",
   "execution_count": 65,
   "metadata": {},
   "outputs": [
    {
     "data": {
      "text/plain": [
       "{'loss': 0.14020046591758728,\n",
       " 'sparse_categorical_accuracy': 0.9189189076423645}"
      ]
     },
     "execution_count": 65,
     "metadata": {},
     "output_type": "execute_result"
    }
   ],
   "source": [
    "dict(zip(model.metrics_names, scores))"
   ]
  },
  {
   "cell_type": "code",
   "execution_count": 66,
   "metadata": {},
   "outputs": [
    {
     "data": {
      "image/png": "[encoded data removed]",
      "text/plain": [
       "<Figure size 432x288 with 2 Axes>"
      ]
     },
     "metadata": {
      "needs_background": "light"
     },
     "output_type": "display_data"
    }
   ],
   "source": [
    "from matplotlib import pyplot\n",
    "# plot loss during training\n",
    "pyplot.subplot(211)\n",
    "pyplot.title('Loss')\n",
    "pyplot.plot(mod.history['loss'], label='train')\n",
    "#pyplot.plot(mod.history['val_loss'], label='test')\n",
    "pyplot.legend()\n",
    "# plot accuracy during training\n",
    "pyplot.subplot(212)\n",
    "pyplot.title('Accuracy')\n",
    "pyplot.plot(mod.history['sparse_categorical_accuracy'], label='train')\n",
    "#pyplot.plot(mod.history['val_accuracy'], label='test')\n",
    "pyplot.legend()\n",
    "pyplot.show()"
   ]
  },
  {
   "cell_type": "code",
   "execution_count": 67,
   "metadata": {},
   "outputs": [],
   "source": [
    "# predict probabilities for test set\n",
    "yhat_probs = model.predict(X_test.astype('float32'), verbose=0)\n",
    "# predict crisp classes for test set\n",
    "#yhat_classes = model.predict_classes(X_test, verbose=0)\n",
    "yhat_classes = np.argmax(yhat_probs,axis=1)"
   ]
  },
  {
   "cell_type": "code",
   "execution_count": 68,
   "metadata": {},
   "outputs": [],
   "source": [
    "from sklearn.metrics import accuracy_score\n",
    "from sklearn.metrics import precision_score\n",
    "from sklearn.metrics import recall_score\n",
    "from sklearn.metrics import f1_score\n",
    "from sklearn.metrics import cohen_kappa_score\n",
    "from sklearn.metrics import roc_auc_score\n",
    "from sklearn.metrics import confusion_matrix\n",
    "from sklearn.metrics import roc_curve\n",
    "from sklearn.metrics import classification_report"
   ]
  },
  {
   "cell_type": "code",
   "execution_count": 69,
   "metadata": {},
   "outputs": [
    {
     "name": "stdout",
     "output_type": "stream",
     "text": [
      "Accuracy: 0.918919\n",
      "Precision: 0.940000\n",
      "Recall: 0.900000\n",
      "F1 score: 0.912530\n"
     ]
    }
   ],
   "source": [
    "# accuracy: (tp + tn) / (p + n)\n",
    "accuracy = accuracy_score(Y_test, yhat_classes)\n",
    "print('Accuracy: %f' % accuracy)\n",
    "# precision tp / (tp + fp)\n",
    "precision = precision_score(Y_test, yhat_classes, average='macro')\n",
    "print('Precision: %f' % precision)\n",
    "# recall: tp / (tp + fn)\n",
    "recall = recall_score(Y_test, yhat_classes,average='macro')\n",
    "print('Recall: %f' % recall)\n",
    "# f1: 2 tp / (2 tp + fp + fn)\n",
    "f1 = f1_score(Y_test, yhat_classes, average='macro')\n",
    "print('F1 score: %f' % f1)"
   ]
  },
  {
   "cell_type": "code",
   "execution_count": 70,
   "metadata": {},
   "outputs": [
    {
     "name": "stdout",
     "output_type": "stream",
     "text": [
      "Cohens kappa: 0.826291\n",
      "[[22  0]\n",
      " [ 3 12]]\n"
     ]
    }
   ],
   "source": [
    "# kappa\n",
    "kappa = cohen_kappa_score(Y_test, yhat_classes)\n",
    "print('Cohens kappa: %f' % kappa)\n",
    "# ROC AUC\n",
    "#fprate, tprate, thresholds = roc_curve(Y_test, yhat_probs, average = 'macro')\n",
    "#print('ROC AUC: %f' % thresholds)\n",
    "# confusion matrix\n",
    "matrix = confusion_matrix(Y_test, yhat_classes)\n",
    "print(matrix)"
   ]
  },
  {
   "cell_type": "code",
   "execution_count": 71,
   "metadata": {},
   "outputs": [
    {
     "name": "stderr",
     "output_type": "stream",
     "text": [
      "C:\\Users\\hp\\Anaconda3\\lib\\site-packages\\sklearn\\metrics\\ranking.py:659: UndefinedMetricWarning: No positive samples in y_true, true positive value should be meaningless\n",
      "  UndefinedMetricWarning)\n"
     ]
    }
   ],
   "source": [
    "fpr = {}\n",
    "tpr = {}\n",
    "thresh ={}\n",
    "\n",
    "n_class = 5\n",
    "\n",
    "for i in range(n_class):    \n",
    "    fpr[i], tpr[i], thresh[i] = roc_curve(Y_test, yhat_classes, pos_label=i)"
   ]
  },
  {
   "cell_type": "code",
   "execution_count": 72,
   "metadata": {},
   "outputs": [
    {
     "data": {
      "image/png": "[encoded data removed]",
      "text/plain": [
       "<Figure size 432x288 with 1 Axes>"
      ]
     },
     "metadata": {
      "needs_background": "light"
     },
     "output_type": "display_data"
    }
   ],
   "source": [
    "# plotting    \n",
    "plt.plot(fpr[0], tpr[0], linestyle='--',color='orange', label='Class 0 vs Rest')\n",
    "plt.plot(fpr[1], tpr[1], linestyle='--',color='green', label='Class 1 vs Rest')\n",
    "plt.plot(fpr[2], tpr[2], linestyle='--',color='blue', label='Class 2 vs Rest')\n",
    "plt.plot(fpr[3], tpr[3], linestyle='--',color='red', label='Class 3 vs Rest')\n",
    "plt.plot(fpr[4], tpr[4], linestyle='--',color='black', label='Class 4 vs Rest')\n",
    "plt.title('Multiclass ROC curve')\n",
    "plt.xlabel('False Positive Rate')\n",
    "plt.ylabel('True Positive rate')\n",
    "plt.legend(loc='best')\n",
    "plt.savefig('Multiclass ROC',dpi=300); "
   ]
  },
  {
   "cell_type": "code",
   "execution_count": 74,
   "metadata": {},
   "outputs": [
    {
     "name": "stdout",
     "output_type": "stream",
     "text": [
      "Confusion matrix : \n",
      " [[22  0]\n",
      " [ 3 12]]\n"
     ]
    }
   ],
   "source": [
    "matrix = confusion_matrix(Y_test, yhat_classes, labels= [0, 1])\n",
    "print('Confusion matrix : \\n',matrix)"
   ]
  },
  {
   "cell_type": "code",
   "execution_count": 75,
   "metadata": {},
   "outputs": [
    {
     "name": "stdout",
     "output_type": "stream",
     "text": [
      "Classification report : \n",
      "               precision    recall  f1-score   support\n",
      "\n",
      "           0       0.88      1.00      0.94        22\n",
      "           1       1.00      0.80      0.89        15\n",
      "\n",
      "    accuracy                           0.92        37\n",
      "   macro avg       0.94      0.90      0.91        37\n",
      "weighted avg       0.93      0.92      0.92        37\n",
      "\n"
     ]
    }
   ],
   "source": [
    "matrix = classification_report(Y_test,yhat_classes, labels= [0, 1])\n",
    "print('Classification report : \\n',matrix)"
   ]
  },
  {
   "cell_type": "code",
   "execution_count": 76,
   "metadata": {},
   "outputs": [
    {
     "name": "stdout",
     "output_type": "stream",
     "text": [
      "INFO:tensorflow:Assets written to: ./models/IG feature selection/WithoutIP Top9/Binary/CNN\\assets\n"
     ]
    }
   ],
   "source": [
    "model.save('./models/IG feature selection/WithoutIP Top9/Binary/CNN')"
   ]
  },
  {
   "cell_type": "code",
   "execution_count": null,
   "metadata": {},
   "outputs": [],
   "source": [
    "#FOr DNN model"
   ]
  },
  {
   "cell_type": "code",
   "execution_count": 44,
   "metadata": {},
   "outputs": [],
   "source": [
    "from keras.callbacks import EarlyStopping\n",
    "from keras.callbacks import ModelCheckpoint, LambdaCallback\n",
    "wie_by_epoch = []\n",
    "#model_check = ModelCheckpoint(\"/models/Testpoints/best_model.hdf5\", monitor='loss', verbose=0, save_best_only=True, mode='min', save_freq=1)\n",
    "print_weights = LambdaCallback(on_epoch_end=lambda batch, logs:wie_by_epoch.append(model.get_weights()))\n",
    "callback = tf.keras.callbacks.EarlyStopping(monitor='loss', patience=4, verbose= 2)"
   ]
  },
  {
   "cell_type": "code",
   "execution_count": 45,
   "metadata": {},
   "outputs": [],
   "source": [
    "model = Sequential()\n",
    "model.add(Flatten(input_shape = X_train.shape[1:], name = 'input'))\n",
    "model.add(Dense(256, activation='relu'))\n",
    "model.add(Dense(128, activation='relu'))\n",
    "model.add(Dense(64, activation='relu'))\n",
    "model.add(Dense(32, activation='relu'))\n",
    "model.add(Dense(12, activation='relu'))\n",
    "model.add(Dense(5, activation = 'softmax') )\n",
    "#mod1 = model.compile(optimizer=tf.keras.optimizers.RMSprop(\n",
    "#   learning_rate=0.1, rho=0.1, momentum=0.0, epsilon=1e-2 , centered=False,\n",
    "#   name='RMSprop'), loss='sparse_categorical_crossentropy', metrics=[keras.metrics.SparseCategoricalAccuracy()])\n",
    "model.compile(optimizer= 'rmsprop', loss='sparse_categorical_crossentropy',  metrics=[keras.metrics.SparseCategoricalAccuracy()])\n",
    "#mod = model.fit(X.astype('float32'),Y.astype('float32'), epochs=20, batch_size= 20, verbose=0)"
   ]
  },
  {
   "cell_type": "code",
   "execution_count": 46,
   "metadata": {
    "scrolled": true
   },
   "outputs": [
    {
     "data": {
      "text/plain": [
       "(None, 5)"
      ]
     },
     "execution_count": 46,
     "metadata": {},
     "output_type": "execute_result"
    }
   ],
   "source": [
    "model.build(input_shape = (nx,ny))\n",
    "model.output_shape"
   ]
  },
  {
   "cell_type": "code",
   "execution_count": 47,
   "metadata": {},
   "outputs": [
    {
     "data": {
      "text/plain": [
       "361"
      ]
     },
     "execution_count": 47,
     "metadata": {},
     "output_type": "execute_result"
    }
   ],
   "source": [
    "#del model, wie_by_epoch\n",
    "\n",
    "gc.collect()"
   ]
  },
  {
   "cell_type": "code",
   "execution_count": 48,
   "metadata": {
    "scrolled": true
   },
   "outputs": [
    {
     "data": {
      "image/png": "[encoded data removed]",
      "text/plain": [
       "<IPython.core.display.Image object>"
      ]
     },
     "execution_count": 48,
     "metadata": {},
     "output_type": "execute_result"
    }
   ],
   "source": [
    "wights = model.get_weights()\n",
    "from tensorflow.keras.utils import plot_model\n",
    "plot_model(model, show_shapes=True)"
   ]
  },
  {
   "cell_type": "code",
   "execution_count": 64,
   "metadata": {
    "scrolled": true
   },
   "outputs": [
    {
     "name": "stdout",
     "output_type": "stream",
     "text": [
      "Epoch 1/40\n",
      "5/5 - 2s - loss: 1.6330e-09 - sparse_categorical_accuracy: 1.0000\n",
      "Epoch 2/40\n",
      "5/5 - 2s - loss: 1.6330e-09 - sparse_categorical_accuracy: 1.0000\n",
      "Epoch 3/40\n",
      "5/5 - 2s - loss: 1.6330e-09 - sparse_categorical_accuracy: 1.0000\n",
      "Epoch 4/40\n",
      "5/5 - 2s - loss: 1.6330e-09 - sparse_categorical_accuracy: 1.0000\n",
      "Epoch 5/40\n",
      "5/5 - 2s - loss: 1.6330e-09 - sparse_categorical_accuracy: 1.0000\n",
      "Epoch 00005: early stopping\n"
     ]
    }
   ],
   "source": [
    "mod = model.fit(X_train,\n",
    "               Y_train, epochs=40, batch_size= 32, verbose=2 , \n",
    "                callbacks=[callback, print_weights])"
   ]
  },
  {
   "cell_type": "code",
   "execution_count": 65,
   "metadata": {},
   "outputs": [
    {
     "data": {
      "text/plain": [
       "88"
      ]
     },
     "execution_count": 65,
     "metadata": {},
     "output_type": "execute_result"
    }
   ],
   "source": [
    "#Total Epochs\n",
    "len(wie_by_epoch)"
   ]
  },
  {
   "cell_type": "code",
   "execution_count": 66,
   "metadata": {},
   "outputs": [],
   "source": [
    "#\n",
    "#model.set_weights(wie_by_epoch[37])"
   ]
  },
  {
   "cell_type": "code",
   "execution_count": 67,
   "metadata": {},
   "outputs": [
    {
     "name": "stdout",
     "output_type": "stream",
     "text": [
      "2/2 - 0s - loss: 1.2883 - sparse_categorical_accuracy: 0.8919\n"
     ]
    },
    {
     "data": {
      "text/plain": [
       "[1.2882566452026367, 0.8918918967247009]"
      ]
     },
     "execution_count": 67,
     "metadata": {},
     "output_type": "execute_result"
    }
   ],
   "source": [
    "scores = model.evaluate(X_test,Y_test, verbose=2)\n",
    "scores"
   ]
  },
  {
   "cell_type": "code",
   "execution_count": 68,
   "metadata": {},
   "outputs": [
    {
     "data": {
      "text/plain": [
       "{'loss': 1.2882566452026367, 'sparse_categorical_accuracy': 0.8918918967247009}"
      ]
     },
     "execution_count": 68,
     "metadata": {},
     "output_type": "execute_result"
    }
   ],
   "source": [
    "dict(zip(model.metrics_names, scores))"
   ]
  },
  {
   "cell_type": "code",
   "execution_count": 69,
   "metadata": {},
   "outputs": [
    {
     "data": {
      "image/png": "[encoded data removed]",
      "text/plain": [
       "<Figure size 432x288 with 2 Axes>"
      ]
     },
     "metadata": {
      "needs_background": "light"
     },
     "output_type": "display_data"
    }
   ],
   "source": [
    "from matplotlib import pyplot\n",
    "# plot loss during training\n",
    "pyplot.subplot(211)\n",
    "pyplot.title('Loss')\n",
    "pyplot.plot(mod.history['loss'], label='train')\n",
    "#pyplot.plot(mod.history['val_loss'], label='test')\n",
    "pyplot.legend()\n",
    "# plot accuracy during training\n",
    "pyplot.subplot(212)\n",
    "pyplot.title('Accuracy')\n",
    "pyplot.plot(mod.history['sparse_categorical_accuracy'], label='train')\n",
    "#pyplot.plot(mod.history['val_accuracy'], label='test')\n",
    "pyplot.legend()\n",
    "pyplot.show()"
   ]
  },
  {
   "cell_type": "code",
   "execution_count": 70,
   "metadata": {},
   "outputs": [],
   "source": [
    "# predict probabilities for test set\n",
    "yhat_probs = model.predict(X_test.astype('float32'), verbose=0)\n",
    "# predict crisp classes for test set\n",
    "#yhat_classes = model.predict_classes(X_test, verbose=0)\n",
    "yhat_classes = np.argmax(yhat_probs,axis=1)"
   ]
  },
  {
   "cell_type": "code",
   "execution_count": 71,
   "metadata": {},
   "outputs": [],
   "source": [
    "from sklearn.datasets import make_circles\n",
    "from sklearn.metrics import accuracy_score\n",
    "from sklearn.metrics import precision_score\n",
    "from sklearn.metrics import recall_score\n",
    "from sklearn.metrics import f1_score\n",
    "from sklearn.metrics import cohen_kappa_score\n",
    "from sklearn.metrics import roc_auc_score\n",
    "from sklearn.metrics import confusion_matrix\n",
    "from sklearn.metrics import roc_curve\n"
   ]
  },
  {
   "cell_type": "code",
   "execution_count": 72,
   "metadata": {},
   "outputs": [
    {
     "name": "stdout",
     "output_type": "stream",
     "text": [
      "Accuracy: 0.891892\n",
      "Precision: 0.899038\n",
      "Recall: 0.877273\n",
      "F1 score: 0.885093\n"
     ]
    }
   ],
   "source": [
    "# accuracy: (tp + tn) / (p + n)\n",
    "accuracy = accuracy_score(Y_test, yhat_classes)\n",
    "print('Accuracy: %f' % accuracy)\n",
    "# precision tp / (tp + fp)\n",
    "precision = precision_score(Y_test, yhat_classes, average='macro')\n",
    "print('Precision: %f' % precision)\n",
    "# recall: tp / (tp + fn)\n",
    "recall = recall_score(Y_test, yhat_classes,average='macro')\n",
    "print('Recall: %f' % recall)\n",
    "# f1: 2 tp / (2 tp + fp + fn)\n",
    "f1 = f1_score(Y_test, yhat_classes, average='macro')\n",
    "print('F1 score: %f' % f1)"
   ]
  },
  {
   "cell_type": "code",
   "execution_count": 73,
   "metadata": {},
   "outputs": [
    {
     "name": "stdout",
     "output_type": "stream",
     "text": [
      "Cohens kappa: 0.770898\n",
      "[[21  1]\n",
      " [ 3 12]]\n"
     ]
    }
   ],
   "source": [
    "# kappa\n",
    "kappa = cohen_kappa_score(Y_test, yhat_classes)\n",
    "print('Cohens kappa: %f' % kappa)\n",
    "# ROC AUC\n",
    "#fprate, tprate, thresholds = roc_curve(Y_test, yhat_probs, average = 'macro')\n",
    "#print('ROC AUC: %f' % thresholds)\n",
    "# confusion matrix\n",
    "matrix = confusion_matrix(Y_test, yhat_classes)\n",
    "print(matrix)"
   ]
  },
  {
   "cell_type": "code",
   "execution_count": 74,
   "metadata": {},
   "outputs": [
    {
     "name": "stderr",
     "output_type": "stream",
     "text": [
      "C:\\Users\\hp\\Anaconda3\\lib\\site-packages\\sklearn\\metrics\\ranking.py:659: UndefinedMetricWarning: No positive samples in y_true, true positive value should be meaningless\n",
      "  UndefinedMetricWarning)\n"
     ]
    }
   ],
   "source": [
    "fpr = {}\n",
    "tpr = {}\n",
    "thresh ={}\n",
    "\n",
    "n_class = 5\n",
    "\n",
    "for i in range(n_class):    \n",
    "    fpr[i], tpr[i], thresh[i] = roc_curve(Y_test, yhat_classes, pos_label=i)"
   ]
  },
  {
   "cell_type": "code",
   "execution_count": 75,
   "metadata": {},
   "outputs": [
    {
     "data": {
      "image/png": "[encoded data removed]",
      "text/plain": [
       "<Figure size 432x288 with 1 Axes>"
      ]
     },
     "metadata": {
      "needs_background": "light"
     },
     "output_type": "display_data"
    }
   ],
   "source": [
    "# plotting    \n",
    "plt.plot(fpr[0], tpr[0], linestyle='--',color='orange', label='Class 0 vs Rest')\n",
    "plt.plot(fpr[1], tpr[1], linestyle='--',color='green', label='Class 1 vs Rest')\n",
    "plt.plot(fpr[2], tpr[2], linestyle='--',color='blue', label='Class 2 vs Rest')\n",
    "plt.plot(fpr[3], tpr[3], linestyle='--',color='red', label='Class 3 vs Rest')\n",
    "plt.plot(fpr[4], tpr[4], linestyle='--',color='black', label='Class 4 vs Rest')\n",
    "plt.title('Multiclass ROC curve')\n",
    "plt.xlabel('False Positive Rate')\n",
    "plt.ylabel('True Positive rate')\n",
    "plt.legend(loc='best')\n",
    "plt.savefig('Multiclass ROC',dpi=300); "
   ]
  },
  {
   "cell_type": "code",
   "execution_count": 76,
   "metadata": {},
   "outputs": [
    {
     "name": "stdout",
     "output_type": "stream",
     "text": [
      "Confusion matrix : \n",
      " [[21  1]\n",
      " [ 3 12]]\n"
     ]
    }
   ],
   "source": [
    "matrix = confusion_matrix(Y_test,yhat_classes, labels= [0, 1])\n",
    "print('Confusion matrix : \\n',matrix)"
   ]
  },
  {
   "cell_type": "code",
   "execution_count": 77,
   "metadata": {},
   "outputs": [
    {
     "name": "stdout",
     "output_type": "stream",
     "text": [
      "Classification report : \n",
      "               precision    recall  f1-score   support\n",
      "\n",
      "           0       0.88      0.95      0.91        22\n",
      "           1       0.92      0.80      0.86        15\n",
      "\n",
      "    accuracy                           0.89        37\n",
      "   macro avg       0.90      0.88      0.89        37\n",
      "weighted avg       0.89      0.89      0.89        37\n",
      "\n"
     ]
    }
   ],
   "source": [
    "matrix = classification_report(Y_test,yhat_classes, labels= [0, 1])\n",
    "print('Classification report : \\n',matrix)"
   ]
  },
  {
   "cell_type": "code",
   "execution_count": 78,
   "metadata": {},
   "outputs": [
    {
     "name": "stdout",
     "output_type": "stream",
     "text": [
      "INFO:tensorflow:Assets written to: ./models/IG feature selection/WithoutIP Top9/Binary/DNN\\assets\n"
     ]
    }
   ],
   "source": [
    "model.save('./models/IG feature selection/WithoutIP Top9/Binary/DNN')"
   ]
  },
  {
   "cell_type": "code",
   "execution_count": 79,
   "metadata": {},
   "outputs": [],
   "source": [
    "from keras import backend as K\n",
    "K.clear_session()"
   ]
  },
  {
   "cell_type": "code",
   "execution_count": 80,
   "metadata": {},
   "outputs": [],
   "source": [
    "#LSTM"
   ]
  },
  {
   "cell_type": "code",
   "execution_count": 81,
   "metadata": {},
   "outputs": [],
   "source": [
    "from keras.callbacks import EarlyStopping\n",
    "from keras.callbacks import ModelCheckpoint, LambdaCallback\n",
    "wie_by_epoch = []\n",
    "model_check = ModelCheckpoint(\"./models/Testpoints/best_model.hdf5\", monitor='loss', verbose=0, save_best_only=True, mode='min', save_freq=1)\n",
    "print_weights = LambdaCallback(on_epoch_end=lambda batch, logs:wie_by_epoch.append(model.get_weights()))\n",
    "callback = tf.keras.callbacks.EarlyStopping(monitor='loss', patience=4, verbose= 2)"
   ]
  },
  {
   "cell_type": "code",
   "execution_count": 82,
   "metadata": {},
   "outputs": [],
   "source": [
    "model = Sequential()\n",
    "model.add(LSTM(14, activation='relu', return_sequences = True, dropout = 0.1, input_shape = (nx,ny) ))\n",
    "model.add(Flatten())\n",
    "model.add(Dense(5, activation='softmax'))\n",
    "model.compile(optimizer= 'rmsprop', loss='sparse_categorical_crossentropy',  metrics=[keras.metrics.SparseCategoricalAccuracy()])"
   ]
  },
  {
   "cell_type": "code",
   "execution_count": 83,
   "metadata": {},
   "outputs": [
    {
     "data": {
      "text/plain": [
       "(None, 5)"
      ]
     },
     "execution_count": 83,
     "metadata": {},
     "output_type": "execute_result"
    }
   ],
   "source": [
    "model.build(input_shape = (nx,ny))\n",
    "model.output_shape"
   ]
  },
  {
   "cell_type": "code",
   "execution_count": 84,
   "metadata": {
    "scrolled": true
   },
   "outputs": [
    {
     "data": {
      "text/plain": [
       "15848"
      ]
     },
     "execution_count": 84,
     "metadata": {},
     "output_type": "execute_result"
    }
   ],
   "source": [
    "#del model, wie_by_epoch\n",
    "\n",
    "gc.collect()"
   ]
  },
  {
   "cell_type": "code",
   "execution_count": 85,
   "metadata": {},
   "outputs": [
    {
     "name": "stdout",
     "output_type": "stream",
     "text": [
      "Model: \"sequential\"\n",
      "_________________________________________________________________\n",
      "Layer (type)                 Output Shape              Param #   \n",
      "=================================================================\n",
      "lstm (LSTM)                  (None, 19800, 14)         1344      \n",
      "_________________________________________________________________\n",
      "flatten (Flatten)            (None, 277200)            0         \n",
      "_________________________________________________________________\n",
      "dense (Dense)                (None, 5)                 1386005   \n",
      "=================================================================\n",
      "Total params: 1,387,349\n",
      "Trainable params: 1,387,349\n",
      "Non-trainable params: 0\n",
      "_________________________________________________________________\n"
     ]
    }
   ],
   "source": [
    "#model.build(input_shape = (nx,ny))\n",
    "model.summary()\n"
   ]
  },
  {
   "cell_type": "code",
   "execution_count": 86,
   "metadata": {},
   "outputs": [
    {
     "data": {
      "image/png": "[encoded data removed]",
      "text/plain": [
       "<IPython.core.display.Image object>"
      ]
     },
     "execution_count": 86,
     "metadata": {},
     "output_type": "execute_result"
    }
   ],
   "source": [
    "from tensorflow.keras.utils import plot_model\n",
    "wights = model.get_weights()\n",
    "plot_model(model, show_shapes=True)"
   ]
  },
  {
   "cell_type": "code",
   "execution_count": 91,
   "metadata": {
    "scrolled": true
   },
   "outputs": [
    {
     "name": "stdout",
     "output_type": "stream",
     "text": [
      "Epoch 1/60\n",
      "3/3 - 36s - loss: 0.0852 - sparse_categorical_accuracy: 0.9726\n",
      "Epoch 2/60\n",
      "3/3 - 37s - loss: 0.0829 - sparse_categorical_accuracy: 0.9658\n",
      "Epoch 3/60\n",
      "3/3 - 34s - loss: 0.1014 - sparse_categorical_accuracy: 0.9589\n",
      "Epoch 4/60\n",
      "3/3 - 35s - loss: 0.1907 - sparse_categorical_accuracy: 0.9452\n",
      "Epoch 5/60\n",
      "3/3 - 34s - loss: 0.0759 - sparse_categorical_accuracy: 0.9726\n",
      "Epoch 6/60\n",
      "3/3 - 34s - loss: 0.0665 - sparse_categorical_accuracy: 0.9795\n",
      "Epoch 7/60\n",
      "3/3 - 35s - loss: 0.0766 - sparse_categorical_accuracy: 0.9658\n",
      "Epoch 8/60\n",
      "3/3 - 36s - loss: 0.0885 - sparse_categorical_accuracy: 0.9726\n",
      "Epoch 9/60\n",
      "3/3 - 35s - loss: 0.0946 - sparse_categorical_accuracy: 0.9521\n",
      "Epoch 10/60\n",
      "3/3 - 36s - loss: 0.1649 - sparse_categorical_accuracy: 0.9315\n",
      "Epoch 00010: early stopping\n"
     ]
    }
   ],
   "source": [
    "mod = model.fit(X_train,\n",
    "               Y_train, epochs=60, batch_size= 64, verbose=2 , \n",
    "                callbacks=[callback, print_weights, model_check])"
   ]
  },
  {
   "cell_type": "code",
   "execution_count": 92,
   "metadata": {},
   "outputs": [
    {
     "data": {
      "text/plain": [
       "25"
      ]
     },
     "execution_count": 92,
     "metadata": {},
     "output_type": "execute_result"
    }
   ],
   "source": [
    "# Number of Epochs\n",
    "len(wie_by_epoch)"
   ]
  },
  {
   "cell_type": "code",
   "execution_count": 95,
   "metadata": {},
   "outputs": [],
   "source": [
    "# 7\n",
    "model.set_weights(wie_by_epoch[16])"
   ]
  },
  {
   "cell_type": "code",
   "execution_count": 96,
   "metadata": {},
   "outputs": [
    {
     "name": "stdout",
     "output_type": "stream",
     "text": [
      "2/2 - 4s - loss: 0.1239 - sparse_categorical_accuracy: 0.9459\n"
     ]
    },
    {
     "data": {
      "text/plain": [
       "[0.12385458499193192, 0.9459459185600281]"
      ]
     },
     "execution_count": 96,
     "metadata": {},
     "output_type": "execute_result"
    }
   ],
   "source": [
    "scores = model.evaluate(X_test,Y_test, verbose=2)\n",
    "scores"
   ]
  },
  {
   "cell_type": "code",
   "execution_count": 97,
   "metadata": {},
   "outputs": [
    {
     "data": {
      "image/png": "[encoded data removed]",
      "text/plain": [
       "<Figure size 432x288 with 2 Axes>"
      ]
     },
     "metadata": {
      "needs_background": "light"
     },
     "output_type": "display_data"
    }
   ],
   "source": [
    "from matplotlib import pyplot\n",
    "# plot loss during training\n",
    "pyplot.subplot(211)\n",
    "pyplot.title('Loss')\n",
    "pyplot.plot(mod.history['loss'], label='train')\n",
    "#pyplot.plot(mod.history['val_loss'], label='test')\n",
    "pyplot.legend()\n",
    "# plot accuracy during training\n",
    "pyplot.subplot(212)\n",
    "pyplot.title('Accuracy')\n",
    "pyplot.plot(mod.history['sparse_categorical_accuracy'], label='train')\n",
    "#pyplot.plot(mod.history['val_accuracy'], label='test')\n",
    "pyplot.legend()\n",
    "pyplot.show()"
   ]
  },
  {
   "cell_type": "code",
   "execution_count": 98,
   "metadata": {},
   "outputs": [],
   "source": [
    "# predict probabilities for test set\n",
    "yhat_probs = model.predict(X_test.astype('float32'), verbose=0)\n",
    "# predict crisp classes for test set\n",
    "#yhat_classes = model.predict_classes(X_test, verbose=0)\n",
    "yhat_classes = np.argmax(yhat_probs,axis=1)"
   ]
  },
  {
   "cell_type": "code",
   "execution_count": 99,
   "metadata": {},
   "outputs": [
    {
     "name": "stdout",
     "output_type": "stream",
     "text": [
      "Accuracy: 0.945946\n",
      "Precision: 0.958333\n",
      "Recall: 0.933333\n",
      "F1 score: 0.942547\n"
     ]
    }
   ],
   "source": [
    "# accuracy: (tp + tn) / (p + n)\n",
    "accuracy = accuracy_score(Y_test, yhat_classes)\n",
    "print('Accuracy: %f' % accuracy)\n",
    "# precision tp / (tp + fp)\n",
    "precision = precision_score(Y_test, yhat_classes, average='macro')\n",
    "print('Precision: %f' % precision)\n",
    "# recall: tp / (tp + fn)\n",
    "recall = recall_score(Y_test, yhat_classes,average='macro')\n",
    "print('Recall: %f' % recall)\n",
    "# f1: 2 tp / (2 tp + fp + fn)\n",
    "f1 = f1_score(Y_test, yhat_classes, average='macro')\n",
    "print('F1 score: %f' % f1)"
   ]
  },
  {
   "cell_type": "code",
   "execution_count": 100,
   "metadata": {},
   "outputs": [
    {
     "name": "stdout",
     "output_type": "stream",
     "text": [
      "Cohens kappa: 0.885449\n",
      "[[22  0]\n",
      " [ 2 13]]\n"
     ]
    }
   ],
   "source": [
    "# kappa\n",
    "kappa = cohen_kappa_score(Y_test, yhat_classes)\n",
    "print('Cohens kappa: %f' % kappa)\n",
    "# ROC AUC\n",
    "#fprate, tprate, thresholds = roc_curve(Y_test, yhat_probs, average = 'macro')\n",
    "#print('ROC AUC: %f' % thresholds)\n",
    "# confusion matrix\n",
    "matrix = confusion_matrix(Y_test, yhat_classes)\n",
    "print(matrix)"
   ]
  },
  {
   "cell_type": "code",
   "execution_count": 101,
   "metadata": {},
   "outputs": [
    {
     "name": "stderr",
     "output_type": "stream",
     "text": [
      "C:\\Users\\hp\\Anaconda3\\lib\\site-packages\\sklearn\\metrics\\ranking.py:659: UndefinedMetricWarning: No positive samples in y_true, true positive value should be meaningless\n",
      "  UndefinedMetricWarning)\n"
     ]
    }
   ],
   "source": [
    "fpr = {}\n",
    "tpr = {}\n",
    "thresh ={}\n",
    "\n",
    "n_class = 5\n",
    "\n",
    "for i in range(n_class):    \n",
    "    fpr[i], tpr[i], thresh[i] = roc_curve(Y_test, yhat_classes, pos_label=i)"
   ]
  },
  {
   "cell_type": "code",
   "execution_count": 102,
   "metadata": {},
   "outputs": [
    {
     "data": {
      "image/png": "[encoded data removed]",
      "text/plain": [
       "<Figure size 432x288 with 1 Axes>"
      ]
     },
     "metadata": {
      "needs_background": "light"
     },
     "output_type": "display_data"
    }
   ],
   "source": [
    "# plotting    \n",
    "plt.plot(fpr[0], tpr[0], linestyle='--',color='orange', label='Class 0 vs Rest')\n",
    "plt.plot(fpr[1], tpr[1], linestyle='--',color='green', label='Class 1 vs Rest')\n",
    "plt.plot(fpr[2], tpr[2], linestyle='--',color='blue', label='Class 2 vs Rest')\n",
    "plt.plot(fpr[3], tpr[3], linestyle='--',color='red', label='Class 3 vs Rest')\n",
    "plt.plot(fpr[4], tpr[4], linestyle='--',color='black', label='Class 4 vs Rest')\n",
    "plt.title('Multiclass ROC curve')\n",
    "plt.xlabel('False Positive Rate')\n",
    "plt.ylabel('True Positive rate')\n",
    "plt.legend(loc='best')\n",
    "plt.savefig('Multiclass ROC',dpi=300); "
   ]
  },
  {
   "cell_type": "code",
   "execution_count": 103,
   "metadata": {},
   "outputs": [
    {
     "name": "stdout",
     "output_type": "stream",
     "text": [
      "Confusion matrix : \n",
      " [[22  0  0  0]\n",
      " [ 2 13  0  0]\n",
      " [ 0  0  0  0]\n",
      " [ 0  0  0  0]]\n"
     ]
    }
   ],
   "source": [
    "matrix = confusion_matrix(Y_test,yhat_classes, labels= [0, 1])\n",
    "print('Confusion matrix : \\n',matrix)"
   ]
  },
  {
   "cell_type": "code",
   "execution_count": 104,
   "metadata": {},
   "outputs": [
    {
     "name": "stdout",
     "output_type": "stream",
     "text": [
      "Classification report : \n",
      "               precision    recall  f1-score   support\n",
      "\n",
      "           0       0.92      1.00      0.96        22\n",
      "           1       1.00      0.87      0.93        15\n",
      "\n",
      "    accuracy                           0.95        37\n",
      "   macro avg       0.96      0.93      0.94        37\n",
      "weighted avg       0.95      0.95      0.95        37\n",
      "\n"
     ]
    }
   ],
   "source": [
    "matrix = classification_report(Y_test,yhat_classes, labels= [0, 1])\n",
    "print('Classification report : \\n',matrix)"
   ]
  },
  {
   "cell_type": "code",
   "execution_count": 105,
   "metadata": {},
   "outputs": [
    {
     "name": "stdout",
     "output_type": "stream",
     "text": [
      "INFO:tensorflow:Assets written to: ./models/IG feature selection/WithoutIP Top9/Binary/LSTM\\assets\n"
     ]
    }
   ],
   "source": [
    "import pickle\n",
    "#filename = './models/CFS feature selection/With IP_ Top 7/Multi-class/KNN/KNN.sav'\n",
    "model.save('./models/IG feature selection/WithoutIP Top9/Binary/LSTM')"
   ]
  },
  {
   "cell_type": "code",
   "execution_count": 106,
   "metadata": {},
   "outputs": [],
   "source": [
    "from keras import backend as K\n",
    "K.clear_session()"
   ]
  },
  {
   "cell_type": "code",
   "execution_count": 178,
   "metadata": {},
   "outputs": [],
   "source": [
    "from keras.callbacks import EarlyStopping\n",
    "from keras.callbacks import ModelCheckpoint, LambdaCallback\n",
    "wie_by_epoch = []\n",
    "model_check = ModelCheckpoint(\"./models/Testpoints/best_model.hdf5\", monitor='loss', verbose=0, save_best_only=True, mode='min', save_freq=1)\n",
    "print_weights = LambdaCallback(on_epoch_end=lambda batch, logs:wie_by_epoch.append(model.get_weights()))\n",
    "callback = tf.keras.callbacks.EarlyStopping(monitor='loss', patience=4, verbose= 2)"
   ]
  },
  {
   "cell_type": "code",
   "execution_count": 179,
   "metadata": {},
   "outputs": [],
   "source": [
    "model = Sequential()\n",
    "model.add(SimpleRNN(12, input_shape=(nx, ny), return_sequences = True, activation='relu'))\n",
    "model.add(Flatten())\n",
    "model.add(Dense(units=5, activation='softmax'))\n",
    "model.compile(optimizer= 'rmsprop', loss='sparse_categorical_crossentropy',  metrics=[keras.metrics.SparseCategoricalAccuracy()])"
   ]
  },
  {
   "cell_type": "code",
   "execution_count": 180,
   "metadata": {
    "scrolled": true
   },
   "outputs": [
    {
     "data": {
      "text/plain": [
       "(None, 5)"
      ]
     },
     "execution_count": 180,
     "metadata": {},
     "output_type": "execute_result"
    }
   ],
   "source": [
    "model.build(input_shape = (nx,ny))\n",
    "model.output_shape"
   ]
  },
  {
   "cell_type": "code",
   "execution_count": 177,
   "metadata": {},
   "outputs": [
    {
     "data": {
      "text/plain": [
       "68097"
      ]
     },
     "execution_count": 177,
     "metadata": {},
     "output_type": "execute_result"
    }
   ],
   "source": [
    "del model, wie_by_epoch\n",
    "\n",
    "gc.collect()"
   ]
  },
  {
   "cell_type": "code",
   "execution_count": 181,
   "metadata": {},
   "outputs": [
    {
     "name": "stdout",
     "output_type": "stream",
     "text": [
      "Model: \"sequential_4\"\n",
      "_________________________________________________________________\n",
      "Layer (type)                 Output Shape              Param #   \n",
      "=================================================================\n",
      "simple_rnn_4 (SimpleRNN)     (None, 19800, 12)         264       \n",
      "_________________________________________________________________\n",
      "flatten_4 (Flatten)          (None, 237600)            0         \n",
      "_________________________________________________________________\n",
      "dense_4 (Dense)              (None, 5)                 1188005   \n",
      "=================================================================\n",
      "Total params: 1,188,269\n",
      "Trainable params: 1,188,269\n",
      "Non-trainable params: 0\n",
      "_________________________________________________________________\n"
     ]
    }
   ],
   "source": [
    "#model.build(input_shape = (nx,ny))\n",
    "model.summary()\n"
   ]
  },
  {
   "cell_type": "code",
   "execution_count": 182,
   "metadata": {},
   "outputs": [
    {
     "data": {
      "image/png": "[encoded data removed]",
      "text/plain": [
       "<IPython.core.display.Image object>"
      ]
     },
     "execution_count": 182,
     "metadata": {},
     "output_type": "execute_result"
    }
   ],
   "source": [
    "from tensorflow.keras.utils import plot_model\n",
    "wights = model.get_weights()\n",
    "plot_model(model, show_shapes=True)"
   ]
  },
  {
   "cell_type": "code",
   "execution_count": 183,
   "metadata": {
    "scrolled": true
   },
   "outputs": [
    {
     "name": "stdout",
     "output_type": "stream",
     "text": [
      "Epoch 1/60\n",
      "5/5 - 40s - loss: 11.3485 - sparse_categorical_accuracy: 0.6233\n",
      "Epoch 2/60\n",
      "5/5 - 37s - loss: 0.8972 - sparse_categorical_accuracy: 0.8699\n",
      "Epoch 3/60\n",
      "5/5 - 37s - loss: 6.9692 - sparse_categorical_accuracy: 0.7329\n",
      "Epoch 4/60\n",
      "5/5 - 36s - loss: 1.8662 - sparse_categorical_accuracy: 0.9452\n",
      "Epoch 5/60\n",
      "5/5 - 26s - loss: 0.6005 - sparse_categorical_accuracy: 0.9384\n",
      "Epoch 6/60\n",
      "5/5 - 20s - loss: 1.6350 - sparse_categorical_accuracy: 0.8630\n",
      "Epoch 7/60\n",
      "5/5 - 23s - loss: 0.0453 - sparse_categorical_accuracy: 0.9932\n",
      "Epoch 8/60\n",
      "5/5 - 23s - loss: 0.0218 - sparse_categorical_accuracy: 1.0000\n",
      "Epoch 9/60\n",
      "5/5 - 23s - loss: 0.0180 - sparse_categorical_accuracy: 1.0000\n",
      "Epoch 10/60\n",
      "5/5 - 22s - loss: 0.0162 - sparse_categorical_accuracy: 1.0000\n",
      "Epoch 11/60\n",
      "5/5 - 22s - loss: 0.0148 - sparse_categorical_accuracy: 1.0000\n",
      "Epoch 12/60\n",
      "5/5 - 23s - loss: 0.0130 - sparse_categorical_accuracy: 1.0000\n",
      "Epoch 13/60\n",
      "5/5 - 23s - loss: 0.0118 - sparse_categorical_accuracy: 0.9932\n",
      "Epoch 14/60\n",
      "5/5 - 23s - loss: 0.0117 - sparse_categorical_accuracy: 0.9932\n",
      "Epoch 15/60\n",
      "5/5 - 23s - loss: 0.0096 - sparse_categorical_accuracy: 0.9932\n",
      "Epoch 16/60\n",
      "5/5 - 23s - loss: 0.0085 - sparse_categorical_accuracy: 0.9932\n",
      "Epoch 17/60\n",
      "5/5 - 23s - loss: 0.0079 - sparse_categorical_accuracy: 1.0000\n",
      "Epoch 18/60\n",
      "5/5 - 23s - loss: 0.0079 - sparse_categorical_accuracy: 1.0000\n",
      "Epoch 19/60\n",
      "5/5 - 23s - loss: 0.0066 - sparse_categorical_accuracy: 1.0000\n",
      "Epoch 20/60\n",
      "5/5 - 22s - loss: 0.0062 - sparse_categorical_accuracy: 1.0000\n",
      "Epoch 21/60\n",
      "5/5 - 22s - loss: 0.0051 - sparse_categorical_accuracy: 1.0000\n",
      "Epoch 22/60\n",
      "5/5 - 22s - loss: 0.4750 - sparse_categorical_accuracy: 0.9521\n",
      "Epoch 23/60\n",
      "5/5 - 22s - loss: 0.1120 - sparse_categorical_accuracy: 0.9863\n",
      "Epoch 24/60\n",
      "5/5 - 23s - loss: 0.0031 - sparse_categorical_accuracy: 1.0000\n",
      "Epoch 25/60\n",
      "5/5 - 22s - loss: 0.0034 - sparse_categorical_accuracy: 1.0000\n",
      "Epoch 26/60\n",
      "5/5 - 23s - loss: 0.0029 - sparse_categorical_accuracy: 1.0000\n",
      "Epoch 27/60\n",
      "5/5 - 23s - loss: 0.0034 - sparse_categorical_accuracy: 1.0000\n",
      "Epoch 28/60\n",
      "5/5 - 22s - loss: 0.0031 - sparse_categorical_accuracy: 1.0000\n",
      "Epoch 29/60\n",
      "5/5 - 22s - loss: 0.0029 - sparse_categorical_accuracy: 1.0000\n",
      "Epoch 30/60\n",
      "5/5 - 22s - loss: 0.0027 - sparse_categorical_accuracy: 1.0000\n",
      "Epoch 31/60\n",
      "5/5 - 22s - loss: 0.0024 - sparse_categorical_accuracy: 1.0000\n",
      "Epoch 32/60\n",
      "5/5 - 23s - loss: 0.0024 - sparse_categorical_accuracy: 1.0000\n",
      "Epoch 33/60\n",
      "5/5 - 25s - loss: 0.0028 - sparse_categorical_accuracy: 1.0000\n",
      "Epoch 34/60\n",
      "5/5 - 24s - loss: 0.0021 - sparse_categorical_accuracy: 1.0000\n",
      "Epoch 35/60\n",
      "5/5 - 23s - loss: 0.0028 - sparse_categorical_accuracy: 1.0000\n",
      "Epoch 36/60\n",
      "5/5 - 22s - loss: 0.0011 - sparse_categorical_accuracy: 1.0000\n",
      "Epoch 37/60\n",
      "5/5 - 24s - loss: 0.0011 - sparse_categorical_accuracy: 1.0000\n",
      "Epoch 38/60\n",
      "5/5 - 23s - loss: 9.4585e-04 - sparse_categorical_accuracy: 1.0000\n",
      "Epoch 39/60\n",
      "5/5 - 22s - loss: 7.7999e-04 - sparse_categorical_accuracy: 1.0000\n",
      "Epoch 40/60\n",
      "5/5 - 23s - loss: 7.2413e-04 - sparse_categorical_accuracy: 1.0000\n",
      "Epoch 41/60\n",
      "5/5 - 23s - loss: 4.9699e-04 - sparse_categorical_accuracy: 1.0000\n",
      "Epoch 42/60\n",
      "5/5 - 23s - loss: 4.8735e-04 - sparse_categorical_accuracy: 1.0000\n",
      "Epoch 43/60\n",
      "5/5 - 23s - loss: 8.5601e-04 - sparse_categorical_accuracy: 1.0000\n",
      "Epoch 44/60\n",
      "5/5 - 22s - loss: 6.6206 - sparse_categorical_accuracy: 0.8082\n",
      "Epoch 45/60\n",
      "5/5 - 22s - loss: 0.7158 - sparse_categorical_accuracy: 0.9658\n",
      "Epoch 46/60\n",
      "5/5 - 22s - loss: 3.7123e-04 - sparse_categorical_accuracy: 1.0000\n",
      "Epoch 47/60\n",
      "5/5 - 21s - loss: 3.4978e-04 - sparse_categorical_accuracy: 1.0000\n",
      "Epoch 48/60\n",
      "5/5 - 33s - loss: 3.3429e-04 - sparse_categorical_accuracy: 1.0000\n",
      "Epoch 49/60\n",
      "5/5 - 54s - loss: 3.1947e-04 - sparse_categorical_accuracy: 1.0000\n",
      "Epoch 50/60\n",
      "5/5 - 53s - loss: 3.0607e-04 - sparse_categorical_accuracy: 1.0000\n",
      "Epoch 51/60\n",
      "5/5 - 53s - loss: 2.9477e-04 - sparse_categorical_accuracy: 1.0000\n",
      "Epoch 52/60\n",
      "5/5 - 56s - loss: 2.8637e-04 - sparse_categorical_accuracy: 1.0000\n",
      "Epoch 53/60\n",
      "5/5 - 56s - loss: 2.7915e-04 - sparse_categorical_accuracy: 1.0000\n",
      "Epoch 54/60\n",
      "5/5 - 54s - loss: 2.7137e-04 - sparse_categorical_accuracy: 1.0000\n",
      "Epoch 55/60\n",
      "5/5 - 55s - loss: 2.6183e-04 - sparse_categorical_accuracy: 1.0000\n",
      "Epoch 56/60\n",
      "5/5 - 54s - loss: 2.6226e-04 - sparse_categorical_accuracy: 1.0000\n",
      "Epoch 57/60\n",
      "5/5 - 50s - loss: 2.4821e-04 - sparse_categorical_accuracy: 1.0000\n",
      "Epoch 58/60\n",
      "5/5 - 21s - loss: 2.5886e-04 - sparse_categorical_accuracy: 1.0000\n",
      "Epoch 59/60\n",
      "5/5 - 19s - loss: 2.6284e-04 - sparse_categorical_accuracy: 1.0000\n",
      "Epoch 60/60\n",
      "5/5 - 19s - loss: 2.6396e-04 - sparse_categorical_accuracy: 1.0000\n"
     ]
    }
   ],
   "source": [
    "mod = model.fit(X_train,\n",
    "               Y_train, epochs=60, batch_size= 32, verbose=2 , \n",
    "                callbacks=[callback, print_weights, model_check])"
   ]
  },
  {
   "cell_type": "code",
   "execution_count": 184,
   "metadata": {},
   "outputs": [
    {
     "data": {
      "text/plain": [
       "60"
      ]
     },
     "execution_count": 184,
     "metadata": {},
     "output_type": "execute_result"
    }
   ],
   "source": [
    "#Number of Epochs\n",
    "len(wie_by_epoch)"
   ]
  },
  {
   "cell_type": "code",
   "execution_count": 185,
   "metadata": {},
   "outputs": [],
   "source": [
    "#120 +21\n",
    "#model.set_weights(wie_by_epoch[25])\n",
    "#mod.history.get('sparse_categorical_accuracy')"
   ]
  },
  {
   "cell_type": "code",
   "execution_count": 186,
   "metadata": {},
   "outputs": [
    {
     "name": "stdout",
     "output_type": "stream",
     "text": [
      "2/2 - 1s - loss: 2.6528 - sparse_categorical_accuracy: 0.8919\n"
     ]
    },
    {
     "data": {
      "text/plain": [
       "[2.6528053283691406, 0.8918918967247009]"
      ]
     },
     "execution_count": 186,
     "metadata": {},
     "output_type": "execute_result"
    }
   ],
   "source": [
    "scores = model.evaluate(X_test,Y_test, verbose=2)\n",
    "scores"
   ]
  },
  {
   "cell_type": "code",
   "execution_count": 187,
   "metadata": {},
   "outputs": [
    {
     "data": {
      "text/plain": [
       "{'loss': 2.6528053283691406, 'sparse_categorical_accuracy': 0.8918918967247009}"
      ]
     },
     "execution_count": 187,
     "metadata": {},
     "output_type": "execute_result"
    }
   ],
   "source": [
    "dict(zip(model.metrics_names, scores))"
   ]
  },
  {
   "cell_type": "code",
   "execution_count": 188,
   "metadata": {},
   "outputs": [
    {
     "data": {
      "image/png": "[encoded data removed]",
      "text/plain": [
       "<Figure size 432x288 with 2 Axes>"
      ]
     },
     "metadata": {
      "needs_background": "light"
     },
     "output_type": "display_data"
    }
   ],
   "source": [
    "from matplotlib import pyplot\n",
    "# plot loss during training\n",
    "pyplot.subplot(211)\n",
    "pyplot.title('Loss')\n",
    "pyplot.plot(mod.history['loss'], label='train')\n",
    "#pyplot.plot(mod.history['val_loss'], label='test')\n",
    "pyplot.legend()\n",
    "# plot accuracy during training\n",
    "pyplot.subplot(212)\n",
    "pyplot.title('Accuracy')\n",
    "pyplot.plot(mod.history['sparse_categorical_accuracy'], label='train')\n",
    "#pyplot.plot(mod.history['val_accuracy'], label='test')\n",
    "pyplot.legend()\n",
    "pyplot.show()"
   ]
  },
  {
   "cell_type": "code",
   "execution_count": 189,
   "metadata": {},
   "outputs": [
    {
     "name": "stdout",
     "output_type": "stream",
     "text": [
      "WARNING:tensorflow:6 out of the last 13 calls to <function Model.make_predict_function.<locals>.predict_function at 0x0000028FD823CB88> triggered tf.function retracing. Tracing is expensive and the excessive number of tracings could be due to (1) creating @tf.function repeatedly in a loop, (2) passing tensors with different shapes, (3) passing Python objects instead of tensors. For (1), please define your @tf.function outside of the loop. For (2), @tf.function has experimental_relax_shapes=True option that relaxes argument shapes that can avoid unnecessary retracing. For (3), please refer to https://www.tensorflow.org/guide/function#controlling_retracing and https://www.tensorflow.org/api_docs/python/tf/function for  more details.\n"
     ]
    }
   ],
   "source": [
    "# predict probabilities for test set\n",
    "yhat_probs = model.predict(X_test.astype('float32'), verbose=0)\n",
    "# predict crisp classes for test set\n",
    "#yhat_classes = model.predict_classes(X_test, verbose=0)\n",
    "yhat_classes = np.argmax(yhat_probs,axis=1)"
   ]
  },
  {
   "cell_type": "code",
   "execution_count": 190,
   "metadata": {},
   "outputs": [
    {
     "name": "stdout",
     "output_type": "stream",
     "text": [
      "Accuracy: 0.891892\n",
      "Precision: 0.923077\n",
      "Recall: 0.866667\n",
      "F1 score: 0.881410\n"
     ]
    }
   ],
   "source": [
    "# accuracy: (tp + tn) / (p + n)\n",
    "accuracy = accuracy_score(Y_test, yhat_classes)\n",
    "print('Accuracy: %f' % accuracy)\n",
    "# precision tp / (tp + fp)\n",
    "precision = precision_score(Y_test, yhat_classes, average='macro')\n",
    "print('Precision: %f' % precision)\n",
    "# recall: tp / (tp + fn)\n",
    "recall = recall_score(Y_test, yhat_classes,average='macro')\n",
    "print('Recall: %f' % recall)\n",
    "# f1: 2 tp / (2 tp + fp + fn)\n",
    "f1 = f1_score(Y_test, yhat_classes, average='macro')\n",
    "print('F1 score: %f' % f1)"
   ]
  },
  {
   "cell_type": "code",
   "execution_count": 191,
   "metadata": {},
   "outputs": [
    {
     "name": "stdout",
     "output_type": "stream",
     "text": [
      "Cohens kappa: 0.765823\n",
      "[[22  0]\n",
      " [ 4 11]]\n"
     ]
    }
   ],
   "source": [
    "# kappa\n",
    "kappa = cohen_kappa_score(Y_test, yhat_classes)\n",
    "print('Cohens kappa: %f' % kappa)\n",
    "# ROC AUC\n",
    "#fprate, tprate, thresholds = roc_curve(Y_test, yhat_probs, average = 'macro')\n",
    "#print('ROC AUC: %f' % thresholds)\n",
    "# confusion matrix\n",
    "matrix = confusion_matrix(Y_test, yhat_classes)\n",
    "print(matrix)"
   ]
  },
  {
   "cell_type": "code",
   "execution_count": 192,
   "metadata": {},
   "outputs": [
    {
     "name": "stderr",
     "output_type": "stream",
     "text": [
      "C:\\Users\\hp\\Anaconda3\\lib\\site-packages\\sklearn\\metrics\\ranking.py:659: UndefinedMetricWarning: No positive samples in y_true, true positive value should be meaningless\n",
      "  UndefinedMetricWarning)\n"
     ]
    }
   ],
   "source": [
    "fpr = {}\n",
    "tpr = {}\n",
    "thresh ={}\n",
    "\n",
    "n_class = 5\n",
    "\n",
    "for i in range(n_class):    \n",
    "    fpr[i], tpr[i], thresh[i] = roc_curve(Y_test, yhat_classes, pos_label=i)"
   ]
  },
  {
   "cell_type": "code",
   "execution_count": 193,
   "metadata": {},
   "outputs": [
    {
     "data": {
      "image/png": "[encoded data removed]",
      "text/plain": [
       "<Figure size 432x288 with 1 Axes>"
      ]
     },
     "metadata": {
      "needs_background": "light"
     },
     "output_type": "display_data"
    }
   ],
   "source": [
    "# plotting    \n",
    "plt.plot(fpr[0], tpr[0], linestyle='--',color='orange', label='Class 0 vs Rest')\n",
    "plt.plot(fpr[1], tpr[1], linestyle='--',color='green', label='Class 1 vs Rest')\n",
    "plt.plot(fpr[2], tpr[2], linestyle='--',color='blue', label='Class 2 vs Rest')\n",
    "plt.plot(fpr[3], tpr[3], linestyle='--',color='red', label='Class 3 vs Rest')\n",
    "plt.plot(fpr[4], tpr[4], linestyle='--',color='black', label='Class 4 vs Rest')\n",
    "plt.title('Multiclass ROC curve')\n",
    "plt.xlabel('False Positive Rate')\n",
    "plt.ylabel('True Positive rate')\n",
    "plt.legend(loc='best')\n",
    "plt.savefig('Multiclass ROC',dpi=300); "
   ]
  },
  {
   "cell_type": "code",
   "execution_count": 194,
   "metadata": {},
   "outputs": [
    {
     "name": "stdout",
     "output_type": "stream",
     "text": [
      "Confusion matrix : \n",
      " [[22  0]\n",
      " [ 4 11]]\n"
     ]
    }
   ],
   "source": [
    "matrix = confusion_matrix(Y_test,yhat_classes, labels= [0, 1])\n",
    "print('Confusion matrix : \\n',matrix)"
   ]
  },
  {
   "cell_type": "code",
   "execution_count": 195,
   "metadata": {},
   "outputs": [
    {
     "name": "stdout",
     "output_type": "stream",
     "text": [
      "Classification report : \n",
      "               precision    recall  f1-score   support\n",
      "\n",
      "           0       0.85      1.00      0.92        22\n",
      "           1       1.00      0.73      0.85        15\n",
      "\n",
      "    accuracy                           0.89        37\n",
      "   macro avg       0.92      0.87      0.88        37\n",
      "weighted avg       0.91      0.89      0.89        37\n",
      "\n"
     ]
    }
   ],
   "source": [
    "matrix = classification_report(Y_test,yhat_classes, labels= [0, 1])\n",
    "print('Classification report : \\n',matrix)"
   ]
  },
  {
   "cell_type": "code",
   "execution_count": 196,
   "metadata": {},
   "outputs": [
    {
     "name": "stdout",
     "output_type": "stream",
     "text": [
      "INFO:tensorflow:Assets written to: ./models/IG feature selection/WithoutIP Top9/Binary/Simple RNN\\assets\n"
     ]
    }
   ],
   "source": [
    "import pickle\n",
    "model.save('./models/IG feature selection/WithoutIP Top9/Binary/Simple RNN')"
   ]
  },
  {
   "cell_type": "code",
   "execution_count": null,
   "metadata": {},
   "outputs": [],
   "source": [
    "#MLP"
   ]
  },
  {
   "cell_type": "code",
   "execution_count": 197,
   "metadata": {},
   "outputs": [
    {
     "name": "stdout",
     "output_type": "stream",
     "text": [
      "samples: 37 \n",
      " X:19800 \n",
      " Y:9\n"
     ]
    }
   ],
   "source": [
    "#X = make_4D(X)\n",
    "nsamples,nx, ny = X_test.shape\n",
    "print(f\"samples: {nsamples} \\n X:{nx} \\n Y:{ny}\" )\n",
    "X_test = X_test.reshape((nsamples,nx*ny))"
   ]
  },
  {
   "cell_type": "code",
   "execution_count": 198,
   "metadata": {},
   "outputs": [
    {
     "name": "stdout",
     "output_type": "stream",
     "text": [
      "samples: 146 \n",
      " X:19800 \n",
      " Y:9\n"
     ]
    }
   ],
   "source": [
    "nsamples,nx, ny = X_train.shape\n",
    "print(f\"samples: {nsamples} \\n X:{nx} \\n Y:{ny}\" )\n",
    "X_train = X_train.reshape((nsamples,nx*ny))"
   ]
  },
  {
   "cell_type": "code",
   "execution_count": 199,
   "metadata": {},
   "outputs": [],
   "source": [
    "from sklearn.neural_network import MLPClassifier"
   ]
  },
  {
   "cell_type": "code",
   "execution_count": 200,
   "metadata": {},
   "outputs": [],
   "source": [
    "clf = MLPClassifier(hidden_layer_sizes=(256,128,64,32),activation=\"relu\",random_state=1).fit(X_train, Y_train)\n",
    "y_pred=clf.predict(X_test)\n"
   ]
  },
  {
   "cell_type": "code",
   "execution_count": 201,
   "metadata": {},
   "outputs": [
    {
     "data": {
      "text/plain": [
       "0.9459459459459459"
      ]
     },
     "execution_count": 201,
     "metadata": {},
     "output_type": "execute_result"
    }
   ],
   "source": [
    "clf.score(X_test, Y_test)"
   ]
  },
  {
   "cell_type": "code",
   "execution_count": 202,
   "metadata": {},
   "outputs": [],
   "source": [
    "yhat_classes = y_pred"
   ]
  },
  {
   "cell_type": "code",
   "execution_count": 203,
   "metadata": {},
   "outputs": [],
   "source": [
    "from sklearn.datasets import make_circles\n",
    "from sklearn.metrics import accuracy_score\n",
    "from sklearn.metrics import precision_score\n",
    "from sklearn.metrics import recall_score\n",
    "from sklearn.metrics import f1_score\n",
    "from sklearn.metrics import cohen_kappa_score\n",
    "from sklearn.metrics import roc_auc_score\n",
    "from sklearn.metrics import confusion_matrix\n",
    "from sklearn.metrics import roc_curve\n"
   ]
  },
  {
   "cell_type": "code",
   "execution_count": 204,
   "metadata": {},
   "outputs": [
    {
     "name": "stdout",
     "output_type": "stream",
     "text": [
      "Accuracy: 0.945946\n",
      "Precision: 0.958333\n",
      "Recall: 0.933333\n",
      "F1 score: 0.942547\n"
     ]
    }
   ],
   "source": [
    "# accuracy: (tp + tn) / (p + n)\n",
    "accuracy = accuracy_score(Y_test, yhat_classes)\n",
    "print('Accuracy: %f' % accuracy)\n",
    "# precision tp / (tp + fp)\n",
    "precision = precision_score(Y_test, yhat_classes, average='macro')\n",
    "print('Precision: %f' % precision)\n",
    "# recall: tp / (tp + fn)\n",
    "recall = recall_score(Y_test, yhat_classes,average='macro')\n",
    "print('Recall: %f' % recall)\n",
    "# f1: 2 tp / (2 tp + fp + fn)\n",
    "f1 = f1_score(Y_test, yhat_classes, average='macro')\n",
    "print('F1 score: %f' % f1)"
   ]
  },
  {
   "cell_type": "code",
   "execution_count": 205,
   "metadata": {},
   "outputs": [
    {
     "name": "stdout",
     "output_type": "stream",
     "text": [
      "Cohens kappa: 0.885449\n",
      "[[22  0]\n",
      " [ 2 13]]\n"
     ]
    }
   ],
   "source": [
    "# kappa\n",
    "kappa = cohen_kappa_score(Y_test, yhat_classes)\n",
    "print('Cohens kappa: %f' % kappa)\n",
    "# ROC AUC\n",
    "#fprate, tprate, thresholds = roc_curve(Y_test, yhat_probs, average = 'macro')\n",
    "#print('ROC AUC: %f' % thresholds)\n",
    "# confusion matrix\n",
    "matrix = confusion_matrix(Y_test, yhat_classes)\n",
    "print(matrix)"
   ]
  },
  {
   "cell_type": "code",
   "execution_count": 206,
   "metadata": {},
   "outputs": [
    {
     "name": "stderr",
     "output_type": "stream",
     "text": [
      "C:\\Users\\hp\\Anaconda3\\lib\\site-packages\\sklearn\\metrics\\ranking.py:659: UndefinedMetricWarning: No positive samples in y_true, true positive value should be meaningless\n",
      "  UndefinedMetricWarning)\n"
     ]
    }
   ],
   "source": [
    "fpr = {}\n",
    "tpr = {}\n",
    "thresh ={}\n",
    "\n",
    "n_class = 5\n",
    "\n",
    "for i in range(n_class):    \n",
    "    fpr[i], tpr[i], thresh[i] = roc_curve(Y_test, yhat_classes, pos_label=i)"
   ]
  },
  {
   "cell_type": "code",
   "execution_count": 207,
   "metadata": {},
   "outputs": [
    {
     "data": {
      "image/png": "[encoded data removed]",
      "text/plain": [
       "<Figure size 432x288 with 1 Axes>"
      ]
     },
     "metadata": {
      "needs_background": "light"
     },
     "output_type": "display_data"
    }
   ],
   "source": [
    "# plotting    \n",
    "plt.plot(fpr[0], tpr[0], linestyle='--',color='orange', label='Class 0 vs Rest')\n",
    "plt.plot(fpr[1], tpr[1], linestyle='--',color='green', label='Class 1 vs Rest')\n",
    "plt.plot(fpr[2], tpr[2], linestyle='--',color='blue', label='Class 2 vs Rest')\n",
    "plt.plot(fpr[3], tpr[3], linestyle='--',color='red', label='Class 3 vs Rest')\n",
    "plt.plot(fpr[4], tpr[4], linestyle='--',color='black', label='Class 4 vs Rest')\n",
    "plt.title('Multiclass ROC curve')\n",
    "plt.xlabel('False Positive Rate')\n",
    "plt.ylabel('True Positive rate')\n",
    "plt.legend(loc='best')\n",
    "plt.savefig('Multiclass ROC',dpi=300); "
   ]
  },
  {
   "cell_type": "code",
   "execution_count": 208,
   "metadata": {},
   "outputs": [
    {
     "name": "stdout",
     "output_type": "stream",
     "text": [
      "Confusion matrix : \n",
      " [[22  0]\n",
      " [ 2 13]]\n"
     ]
    }
   ],
   "source": [
    "from sklearn.metrics import confusion_matrix\n",
    "from sklearn.metrics import classification_report\n",
    "matrix = confusion_matrix(Y_test, yhat_classes, labels= [0, 1])\n",
    "print('Confusion matrix : \\n',matrix)"
   ]
  },
  {
   "cell_type": "code",
   "execution_count": 209,
   "metadata": {},
   "outputs": [
    {
     "name": "stdout",
     "output_type": "stream",
     "text": [
      "Classification report : \n",
      "               precision    recall  f1-score   support\n",
      "\n",
      "           0       0.92      1.00      0.96        22\n",
      "           1       1.00      0.87      0.93        15\n",
      "\n",
      "    accuracy                           0.95        37\n",
      "   macro avg       0.96      0.93      0.94        37\n",
      "weighted avg       0.95      0.95      0.95        37\n",
      "\n"
     ]
    }
   ],
   "source": [
    "matrix = classification_report(Y_test,yhat_classes, labels= [0, 1])\n",
    "print('Classification report : \\n',matrix)"
   ]
  },
  {
   "cell_type": "code",
   "execution_count": 211,
   "metadata": {},
   "outputs": [],
   "source": [
    "import pickle\n",
    "# save the model to disk\n",
    "filename = './models/IG feature selection/WithoutIP Top9/Binary/MLP/MLP.sav'\n",
    "pickle.dump(clf, open(filename, 'wb'))"
   ]
  },
  {
   "cell_type": "code",
   "execution_count": 212,
   "metadata": {},
   "outputs": [
    {
     "name": "stdout",
     "output_type": "stream",
     "text": [
      "WARNING:tensorflow:From C:\\Users\\hp\\AppData\\Roaming\\Python\\Python37\\site-packages\\tensorflow\\python\\compat\\v2_compat.py:101: disable_resource_variables (from tensorflow.python.ops.variable_scope) is deprecated and will be removed in a future version.\n",
      "Instructions for updating:\n",
      "non-resource variables are not supported in the long term\n"
     ]
    }
   ],
   "source": [
    "#DBN model\n",
    "from dbn.tensorflow import SupervisedDBNClassification"
   ]
  },
  {
   "cell_type": "code",
   "execution_count": 215,
   "metadata": {},
   "outputs": [],
   "source": [
    "classifier = SupervisedDBNClassification(hidden_layers_structure=[32,32],\n",
    "                                         learning_rate_rbm=0.00001,\n",
    "                                         learning_rate=0.02,\n",
    "                                         n_epochs_rbm=32,\n",
    "                                         n_iter_backprop=512,\n",
    "                                         batch_size=32,\n",
    "                                         activation_function='relu',\n",
    "                                         dropout_p=0.00001)"
   ]
  },
  {
   "cell_type": "code",
   "execution_count": 214,
   "metadata": {},
   "outputs": [
    {
     "data": {
      "text/plain": [
       "112936"
      ]
     },
     "execution_count": 214,
     "metadata": {},
     "output_type": "execute_result"
    }
   ],
   "source": [
    "del classifier\n",
    "gc.collect()"
   ]
  },
  {
   "cell_type": "code",
   "execution_count": 216,
   "metadata": {
    "scrolled": true
   },
   "outputs": [
    {
     "name": "stdout",
     "output_type": "stream",
     "text": [
      "[START] Pre-training step:\n",
      "WARNING:tensorflow:From C:\\Users\\hp\\Desktop\\Project dISSERATAION\\dbn\\tensorflow\\models.py:151: to_float (from tensorflow.python.ops.math_ops) is deprecated and will be removed in a future version.\n",
      "Instructions for updating:\n",
      "Use `tf.cast` instead.\n",
      ">> Epoch 1 finished \tRBM Reconstruction error 11548.340820\n",
      ">> Epoch 2 finished \tRBM Reconstruction error 11548.017578\n",
      ">> Epoch 3 finished \tRBM Reconstruction error 11547.685547\n",
      ">> Epoch 4 finished \tRBM Reconstruction error 11547.353516\n",
      ">> Epoch 5 finished \tRBM Reconstruction error 11547.017578\n",
      ">> Epoch 6 finished \tRBM Reconstruction error 11546.664062\n",
      ">> Epoch 7 finished \tRBM Reconstruction error 11546.286133\n",
      ">> Epoch 8 finished \tRBM Reconstruction error 11545.873047\n",
      ">> Epoch 9 finished \tRBM Reconstruction error 11545.403320\n",
      ">> Epoch 10 finished \tRBM Reconstruction error 11544.739258\n",
      ">> Epoch 11 finished \tRBM Reconstruction error 11543.857422\n",
      ">> Epoch 12 finished \tRBM Reconstruction error 11542.593750\n",
      ">> Epoch 13 finished \tRBM Reconstruction error 11540.765625\n",
      ">> Epoch 14 finished \tRBM Reconstruction error 11537.898438\n",
      ">> Epoch 15 finished \tRBM Reconstruction error 11533.984375\n",
      ">> Epoch 16 finished \tRBM Reconstruction error 11528.947266\n",
      ">> Epoch 17 finished \tRBM Reconstruction error 11522.261719\n",
      ">> Epoch 18 finished \tRBM Reconstruction error 11513.693359\n",
      ">> Epoch 19 finished \tRBM Reconstruction error 11502.867188\n",
      ">> Epoch 20 finished \tRBM Reconstruction error 11489.527344\n",
      ">> Epoch 21 finished \tRBM Reconstruction error 11473.310547\n",
      ">> Epoch 22 finished \tRBM Reconstruction error 11453.883789\n",
      ">> Epoch 23 finished \tRBM Reconstruction error 11431.066406\n",
      ">> Epoch 24 finished \tRBM Reconstruction error 11404.705078\n",
      ">> Epoch 25 finished \tRBM Reconstruction error 11374.672852\n",
      ">> Epoch 26 finished \tRBM Reconstruction error 11340.947266\n",
      ">> Epoch 27 finished \tRBM Reconstruction error 11303.559570\n",
      ">> Epoch 28 finished \tRBM Reconstruction error 11262.354492\n",
      ">> Epoch 29 finished \tRBM Reconstruction error 11217.172852\n",
      ">> Epoch 30 finished \tRBM Reconstruction error 11168.138672\n",
      ">> Epoch 31 finished \tRBM Reconstruction error 11115.137695\n",
      ">> Epoch 32 finished \tRBM Reconstruction error 11058.210938\n",
      ">> Epoch 1 finished \tRBM Reconstruction error 241.652405\n",
      ">> Epoch 2 finished \tRBM Reconstruction error 241.608658\n",
      ">> Epoch 3 finished \tRBM Reconstruction error 241.564026\n",
      ">> Epoch 4 finished \tRBM Reconstruction error 241.517548\n",
      ">> Epoch 5 finished \tRBM Reconstruction error 241.470627\n",
      ">> Epoch 6 finished \tRBM Reconstruction error 241.422836\n",
      ">> Epoch 7 finished \tRBM Reconstruction error 241.371979\n",
      ">> Epoch 8 finished \tRBM Reconstruction error 241.321014\n",
      ">> Epoch 9 finished \tRBM Reconstruction error 241.268570\n",
      ">> Epoch 10 finished \tRBM Reconstruction error 241.220840\n",
      ">> Epoch 11 finished \tRBM Reconstruction error 241.167542\n",
      ">> Epoch 12 finished \tRBM Reconstruction error 241.115234\n",
      ">> Epoch 13 finished \tRBM Reconstruction error 241.060684\n",
      ">> Epoch 14 finished \tRBM Reconstruction error 241.003983\n",
      ">> Epoch 15 finished \tRBM Reconstruction error 240.949036\n",
      ">> Epoch 16 finished \tRBM Reconstruction error 240.893570\n",
      ">> Epoch 17 finished \tRBM Reconstruction error 240.835617\n",
      ">> Epoch 18 finished \tRBM Reconstruction error 240.778152\n",
      ">> Epoch 19 finished \tRBM Reconstruction error 240.720490\n",
      ">> Epoch 20 finished \tRBM Reconstruction error 240.660263\n",
      ">> Epoch 21 finished \tRBM Reconstruction error 240.598038\n",
      ">> Epoch 22 finished \tRBM Reconstruction error 240.536713\n",
      ">> Epoch 23 finished \tRBM Reconstruction error 240.472168\n",
      ">> Epoch 24 finished \tRBM Reconstruction error 240.405930\n",
      ">> Epoch 25 finished \tRBM Reconstruction error 240.344345\n",
      ">> Epoch 26 finished \tRBM Reconstruction error 240.275848\n",
      ">> Epoch 27 finished \tRBM Reconstruction error 240.209763\n",
      ">> Epoch 28 finished \tRBM Reconstruction error 240.141693\n",
      ">> Epoch 29 finished \tRBM Reconstruction error 240.071121\n",
      ">> Epoch 30 finished \tRBM Reconstruction error 239.999359\n",
      ">> Epoch 31 finished \tRBM Reconstruction error 239.925430\n",
      ">> Epoch 32 finished \tRBM Reconstruction error 239.851669\n",
      "[END] Pre-training step\n",
      "WARNING:tensorflow:From C:\\Users\\hp\\AppData\\Roaming\\Python\\Python37\\site-packages\\tensorflow\\python\\util\\dispatch.py:206: calling dropout (from tensorflow.python.ops.nn_ops) with keep_prob is deprecated and will be removed in a future version.\n",
      "Instructions for updating:\n",
      "Please use `rate` instead of `keep_prob`. Rate should be set to `rate = 1 - keep_prob`.\n",
      "[START] Fine tuning step:\n",
      ">> Epoch 0 finished \tANN training loss 0.660951\n",
      ">> Epoch 1 finished \tANN training loss 0.618733\n",
      ">> Epoch 2 finished \tANN training loss 0.583727\n",
      ">> Epoch 3 finished \tANN training loss 0.568835\n",
      ">> Epoch 4 finished \tANN training loss 0.562224\n",
      ">> Epoch 5 finished \tANN training loss 0.553252\n",
      ">> Epoch 6 finished \tANN training loss 0.545138\n",
      ">> Epoch 7 finished \tANN training loss 0.534642\n",
      ">> Epoch 8 finished \tANN training loss 0.523164\n",
      ">> Epoch 9 finished \tANN training loss 0.509954\n",
      ">> Epoch 10 finished \tANN training loss 0.500420\n",
      ">> Epoch 11 finished \tANN training loss 0.477083\n",
      ">> Epoch 12 finished \tANN training loss 0.455926\n",
      ">> Epoch 13 finished \tANN training loss 0.434542\n",
      ">> Epoch 14 finished \tANN training loss 0.418910\n",
      ">> Epoch 15 finished \tANN training loss 0.400151\n",
      ">> Epoch 16 finished \tANN training loss 0.385427\n",
      ">> Epoch 17 finished \tANN training loss 0.375044\n",
      ">> Epoch 18 finished \tANN training loss 0.355838\n",
      ">> Epoch 19 finished \tANN training loss 0.340206\n",
      ">> Epoch 20 finished \tANN training loss 0.324367\n",
      ">> Epoch 21 finished \tANN training loss 0.311090\n",
      ">> Epoch 22 finished \tANN training loss 0.316506\n",
      ">> Epoch 23 finished \tANN training loss 0.287984\n",
      ">> Epoch 24 finished \tANN training loss 0.257787\n",
      ">> Epoch 25 finished \tANN training loss 0.244797\n",
      ">> Epoch 26 finished \tANN training loss 0.237135\n",
      ">> Epoch 27 finished \tANN training loss 0.222586\n",
      ">> Epoch 28 finished \tANN training loss 0.212948\n",
      ">> Epoch 29 finished \tANN training loss 0.205785\n",
      ">> Epoch 30 finished \tANN training loss 0.199905\n",
      ">> Epoch 31 finished \tANN training loss 0.185120\n",
      ">> Epoch 32 finished \tANN training loss 0.176616\n",
      ">> Epoch 33 finished \tANN training loss 0.167243\n",
      ">> Epoch 34 finished \tANN training loss 0.162430\n",
      ">> Epoch 35 finished \tANN training loss 0.151582\n",
      ">> Epoch 36 finished \tANN training loss 0.144356\n",
      ">> Epoch 37 finished \tANN training loss 0.137617\n",
      ">> Epoch 38 finished \tANN training loss 0.131157\n",
      ">> Epoch 39 finished \tANN training loss 0.125578\n",
      ">> Epoch 40 finished \tANN training loss 0.119908\n",
      ">> Epoch 41 finished \tANN training loss 0.116565\n",
      ">> Epoch 42 finished \tANN training loss 0.110691\n",
      ">> Epoch 43 finished \tANN training loss 0.105593\n",
      ">> Epoch 44 finished \tANN training loss 0.101755\n",
      ">> Epoch 45 finished \tANN training loss 0.096969\n",
      ">> Epoch 46 finished \tANN training loss 0.092877\n",
      ">> Epoch 47 finished \tANN training loss 0.088890\n",
      ">> Epoch 48 finished \tANN training loss 0.085277\n",
      ">> Epoch 49 finished \tANN training loss 0.081683\n",
      ">> Epoch 50 finished \tANN training loss 0.078254\n",
      ">> Epoch 51 finished \tANN training loss 0.075439\n",
      ">> Epoch 52 finished \tANN training loss 0.071849\n",
      ">> Epoch 53 finished \tANN training loss 0.069275\n",
      ">> Epoch 54 finished \tANN training loss 0.066096\n",
      ">> Epoch 55 finished \tANN training loss 0.063194\n",
      ">> Epoch 56 finished \tANN training loss 0.060662\n",
      ">> Epoch 57 finished \tANN training loss 0.057935\n",
      ">> Epoch 58 finished \tANN training loss 0.055337\n",
      ">> Epoch 59 finished \tANN training loss 0.053074\n",
      ">> Epoch 60 finished \tANN training loss 0.050899\n",
      ">> Epoch 61 finished \tANN training loss 0.048900\n",
      ">> Epoch 62 finished \tANN training loss 0.046892\n",
      ">> Epoch 63 finished \tANN training loss 0.045088\n",
      ">> Epoch 64 finished \tANN training loss 0.043195\n",
      ">> Epoch 65 finished \tANN training loss 0.041482\n",
      ">> Epoch 66 finished \tANN training loss 0.040058\n",
      ">> Epoch 67 finished \tANN training loss 0.038521\n",
      ">> Epoch 68 finished \tANN training loss 0.037134\n",
      ">> Epoch 69 finished \tANN training loss 0.035832\n",
      ">> Epoch 70 finished \tANN training loss 0.034660\n",
      ">> Epoch 71 finished \tANN training loss 0.033535\n",
      ">> Epoch 72 finished \tANN training loss 0.032499\n",
      ">> Epoch 73 finished \tANN training loss 0.031458\n",
      ">> Epoch 74 finished \tANN training loss 0.030507\n",
      ">> Epoch 75 finished \tANN training loss 0.029669\n",
      ">> Epoch 76 finished \tANN training loss 0.028829\n"
     ]
    },
    {
     "name": "stdout",
     "output_type": "stream",
     "text": [
      ">> Epoch 77 finished \tANN training loss 0.028064\n",
      ">> Epoch 78 finished \tANN training loss 0.027354\n",
      ">> Epoch 79 finished \tANN training loss 0.026668\n",
      ">> Epoch 80 finished \tANN training loss 0.026007\n",
      ">> Epoch 81 finished \tANN training loss 0.025388\n",
      ">> Epoch 82 finished \tANN training loss 0.024794\n",
      ">> Epoch 83 finished \tANN training loss 0.024239\n",
      ">> Epoch 84 finished \tANN training loss 0.023744\n",
      ">> Epoch 85 finished \tANN training loss 0.023266\n",
      ">> Epoch 86 finished \tANN training loss 0.022797\n",
      ">> Epoch 87 finished \tANN training loss 0.022344\n",
      ">> Epoch 88 finished \tANN training loss 0.021934\n",
      ">> Epoch 89 finished \tANN training loss 0.021523\n",
      ">> Epoch 90 finished \tANN training loss 0.021137\n",
      ">> Epoch 91 finished \tANN training loss 0.020783\n",
      ">> Epoch 92 finished \tANN training loss 0.020434\n",
      ">> Epoch 93 finished \tANN training loss 0.020105\n",
      ">> Epoch 94 finished \tANN training loss 0.019810\n",
      ">> Epoch 95 finished \tANN training loss 0.019509\n",
      ">> Epoch 96 finished \tANN training loss 0.019204\n",
      ">> Epoch 97 finished \tANN training loss 0.018924\n",
      ">> Epoch 98 finished \tANN training loss 0.018641\n",
      ">> Epoch 99 finished \tANN training loss 0.018398\n",
      ">> Epoch 100 finished \tANN training loss 0.018144\n",
      ">> Epoch 101 finished \tANN training loss 0.017902\n",
      ">> Epoch 102 finished \tANN training loss 0.017679\n",
      ">> Epoch 103 finished \tANN training loss 0.017457\n",
      ">> Epoch 104 finished \tANN training loss 0.017251\n",
      ">> Epoch 105 finished \tANN training loss 0.017031\n",
      ">> Epoch 106 finished \tANN training loss 0.016830\n",
      ">> Epoch 107 finished \tANN training loss 0.016619\n",
      ">> Epoch 108 finished \tANN training loss 0.016428\n",
      ">> Epoch 109 finished \tANN training loss 0.016253\n",
      ">> Epoch 110 finished \tANN training loss 0.016080\n",
      ">> Epoch 111 finished \tANN training loss 0.015885\n",
      ">> Epoch 112 finished \tANN training loss 0.015720\n",
      ">> Epoch 113 finished \tANN training loss 0.015559\n",
      ">> Epoch 114 finished \tANN training loss 0.015405\n",
      ">> Epoch 115 finished \tANN training loss 0.015252\n",
      ">> Epoch 116 finished \tANN training loss 0.015099\n",
      ">> Epoch 117 finished \tANN training loss 0.014949\n",
      ">> Epoch 118 finished \tANN training loss 0.014809\n",
      ">> Epoch 119 finished \tANN training loss 0.014667\n",
      ">> Epoch 120 finished \tANN training loss 0.014536\n",
      ">> Epoch 121 finished \tANN training loss 0.014403\n",
      ">> Epoch 122 finished \tANN training loss 0.014270\n",
      ">> Epoch 123 finished \tANN training loss 0.014142\n",
      ">> Epoch 124 finished \tANN training loss 0.013991\n",
      ">> Epoch 125 finished \tANN training loss 0.013871\n",
      ">> Epoch 126 finished \tANN training loss 0.013751\n",
      ">> Epoch 127 finished \tANN training loss 0.013626\n",
      ">> Epoch 128 finished \tANN training loss 0.013515\n",
      ">> Epoch 129 finished \tANN training loss 0.013403\n",
      ">> Epoch 130 finished \tANN training loss 0.013285\n",
      ">> Epoch 131 finished \tANN training loss 0.013170\n",
      ">> Epoch 132 finished \tANN training loss 0.013064\n",
      ">> Epoch 133 finished \tANN training loss 0.012958\n",
      ">> Epoch 134 finished \tANN training loss 0.012854\n",
      ">> Epoch 135 finished \tANN training loss 0.012748\n",
      ">> Epoch 136 finished \tANN training loss 0.012646\n",
      ">> Epoch 137 finished \tANN training loss 0.012546\n",
      ">> Epoch 138 finished \tANN training loss 0.012447\n",
      ">> Epoch 139 finished \tANN training loss 0.012321\n",
      ">> Epoch 140 finished \tANN training loss 0.012227\n",
      ">> Epoch 141 finished \tANN training loss 0.012135\n",
      ">> Epoch 142 finished \tANN training loss 0.012044\n",
      ">> Epoch 143 finished \tANN training loss 0.011954\n",
      ">> Epoch 144 finished \tANN training loss 0.011865\n",
      ">> Epoch 145 finished \tANN training loss 0.011773\n",
      ">> Epoch 146 finished \tANN training loss 0.011658\n",
      ">> Epoch 147 finished \tANN training loss 0.011569\n",
      ">> Epoch 148 finished \tANN training loss 0.011485\n",
      ">> Epoch 149 finished \tANN training loss 0.011401\n",
      ">> Epoch 150 finished \tANN training loss 0.011316\n",
      ">> Epoch 151 finished \tANN training loss 0.011233\n",
      ">> Epoch 152 finished \tANN training loss 0.011152\n",
      ">> Epoch 153 finished \tANN training loss 0.011072\n",
      ">> Epoch 154 finished \tANN training loss 0.010993\n",
      ">> Epoch 155 finished \tANN training loss 0.010912\n",
      ">> Epoch 156 finished \tANN training loss 0.010832\n",
      ">> Epoch 157 finished \tANN training loss 0.010758\n",
      ">> Epoch 158 finished \tANN training loss 0.010676\n",
      ">> Epoch 159 finished \tANN training loss 0.010599\n",
      ">> Epoch 160 finished \tANN training loss 0.010523\n",
      ">> Epoch 161 finished \tANN training loss 0.010452\n",
      ">> Epoch 162 finished \tANN training loss 0.010379\n",
      ">> Epoch 163 finished \tANN training loss 0.010281\n",
      ">> Epoch 164 finished \tANN training loss 0.010208\n",
      ">> Epoch 165 finished \tANN training loss 0.010135\n",
      ">> Epoch 166 finished \tANN training loss 0.010068\n",
      ">> Epoch 167 finished \tANN training loss 0.009976\n",
      ">> Epoch 168 finished \tANN training loss 0.009903\n",
      ">> Epoch 169 finished \tANN training loss 0.009835\n",
      ">> Epoch 170 finished \tANN training loss 0.009748\n",
      ">> Epoch 171 finished \tANN training loss 0.009678\n",
      ">> Epoch 172 finished \tANN training loss 0.009613\n",
      ">> Epoch 173 finished \tANN training loss 0.009547\n",
      ">> Epoch 174 finished \tANN training loss 0.009481\n",
      ">> Epoch 175 finished \tANN training loss 0.009416\n",
      ">> Epoch 176 finished \tANN training loss 0.009353\n",
      ">> Epoch 177 finished \tANN training loss 0.009291\n",
      ">> Epoch 178 finished \tANN training loss 0.009233\n",
      ">> Epoch 179 finished \tANN training loss 0.009168\n",
      ">> Epoch 180 finished \tANN training loss 0.009108\n",
      ">> Epoch 181 finished \tANN training loss 0.009045\n",
      ">> Epoch 182 finished \tANN training loss 0.008984\n",
      ">> Epoch 183 finished \tANN training loss 0.008926\n",
      ">> Epoch 184 finished \tANN training loss 0.008867\n",
      ">> Epoch 185 finished \tANN training loss 0.008804\n",
      ">> Epoch 186 finished \tANN training loss 0.008722\n",
      ">> Epoch 187 finished \tANN training loss 0.008660\n",
      ">> Epoch 188 finished \tANN training loss 0.008603\n",
      ">> Epoch 189 finished \tANN training loss 0.008546\n",
      ">> Epoch 190 finished \tANN training loss 0.008489\n",
      ">> Epoch 191 finished \tANN training loss 0.008411\n",
      ">> Epoch 192 finished \tANN training loss 0.008354\n",
      ">> Epoch 193 finished \tANN training loss 0.008299\n",
      ">> Epoch 194 finished \tANN training loss 0.008246\n",
      ">> Epoch 195 finished \tANN training loss 0.008195\n",
      ">> Epoch 196 finished \tANN training loss 0.008143\n",
      ">> Epoch 197 finished \tANN training loss 0.008092\n",
      ">> Epoch 198 finished \tANN training loss 0.008039\n",
      ">> Epoch 199 finished \tANN training loss 0.007990\n",
      ">> Epoch 200 finished \tANN training loss 0.007941\n",
      ">> Epoch 201 finished \tANN training loss 0.007891\n",
      ">> Epoch 202 finished \tANN training loss 0.007842\n",
      ">> Epoch 203 finished \tANN training loss 0.007794\n",
      ">> Epoch 204 finished \tANN training loss 0.007725\n",
      ">> Epoch 205 finished \tANN training loss 0.007677\n",
      ">> Epoch 206 finished \tANN training loss 0.007630\n",
      ">> Epoch 207 finished \tANN training loss 0.007581\n",
      ">> Epoch 208 finished \tANN training loss 0.007537\n",
      ">> Epoch 209 finished \tANN training loss 0.007489\n",
      ">> Epoch 210 finished \tANN training loss 0.007444\n",
      ">> Epoch 211 finished \tANN training loss 0.007401\n",
      ">> Epoch 212 finished \tANN training loss 0.007358\n",
      ">> Epoch 213 finished \tANN training loss 0.007318\n",
      ">> Epoch 214 finished \tANN training loss 0.007275\n",
      ">> Epoch 215 finished \tANN training loss 0.007231\n",
      ">> Epoch 216 finished \tANN training loss 0.007188\n",
      ">> Epoch 217 finished \tANN training loss 0.007149\n",
      ">> Epoch 218 finished \tANN training loss 0.007106\n",
      ">> Epoch 219 finished \tANN training loss 0.007067\n",
      ">> Epoch 220 finished \tANN training loss 0.007028\n",
      ">> Epoch 221 finished \tANN training loss 0.006987\n",
      ">> Epoch 222 finished \tANN training loss 0.006950\n",
      ">> Epoch 223 finished \tANN training loss 0.006911\n",
      ">> Epoch 224 finished \tANN training loss 0.006874\n",
      ">> Epoch 225 finished \tANN training loss 0.006837\n",
      ">> Epoch 226 finished \tANN training loss 0.006799\n",
      ">> Epoch 227 finished \tANN training loss 0.006746\n",
      ">> Epoch 228 finished \tANN training loss 0.006707\n",
      ">> Epoch 229 finished \tANN training loss 0.006655\n",
      ">> Epoch 230 finished \tANN training loss 0.006618\n",
      ">> Epoch 231 finished \tANN training loss 0.006582\n",
      ">> Epoch 232 finished \tANN training loss 0.006547\n",
      ">> Epoch 233 finished \tANN training loss 0.006513\n",
      ">> Epoch 234 finished \tANN training loss 0.006476\n",
      ">> Epoch 235 finished \tANN training loss 0.006440\n",
      ">> Epoch 236 finished \tANN training loss 0.006405\n",
      ">> Epoch 237 finished \tANN training loss 0.006360\n",
      ">> Epoch 238 finished \tANN training loss 0.006323\n",
      ">> Epoch 239 finished \tANN training loss 0.006292\n",
      ">> Epoch 240 finished \tANN training loss 0.006249\n",
      ">> Epoch 241 finished \tANN training loss 0.006216\n"
     ]
    },
    {
     "name": "stdout",
     "output_type": "stream",
     "text": [
      ">> Epoch 242 finished \tANN training loss 0.006184\n",
      ">> Epoch 243 finished \tANN training loss 0.006151\n",
      ">> Epoch 244 finished \tANN training loss 0.006120\n",
      ">> Epoch 245 finished \tANN training loss 0.006086\n",
      ">> Epoch 246 finished \tANN training loss 0.006056\n",
      ">> Epoch 247 finished \tANN training loss 0.006026\n",
      ">> Epoch 248 finished \tANN training loss 0.005995\n",
      ">> Epoch 249 finished \tANN training loss 0.005964\n",
      ">> Epoch 250 finished \tANN training loss 0.005933\n",
      ">> Epoch 251 finished \tANN training loss 0.005901\n",
      ">> Epoch 252 finished \tANN training loss 0.005870\n",
      ">> Epoch 253 finished \tANN training loss 0.005840\n",
      ">> Epoch 254 finished \tANN training loss 0.005810\n",
      ">> Epoch 255 finished \tANN training loss 0.005766\n",
      ">> Epoch 256 finished \tANN training loss 0.005737\n",
      ">> Epoch 257 finished \tANN training loss 0.005709\n",
      ">> Epoch 258 finished \tANN training loss 0.005667\n",
      ">> Epoch 259 finished \tANN training loss 0.005639\n",
      ">> Epoch 260 finished \tANN training loss 0.005600\n",
      ">> Epoch 261 finished \tANN training loss 0.005572\n",
      ">> Epoch 262 finished \tANN training loss 0.005544\n",
      ">> Epoch 263 finished \tANN training loss 0.005517\n",
      ">> Epoch 264 finished \tANN training loss 0.005489\n",
      ">> Epoch 265 finished \tANN training loss 0.005460\n",
      ">> Epoch 266 finished \tANN training loss 0.005433\n",
      ">> Epoch 267 finished \tANN training loss 0.005406\n",
      ">> Epoch 268 finished \tANN training loss 0.005379\n",
      ">> Epoch 269 finished \tANN training loss 0.005354\n",
      ">> Epoch 270 finished \tANN training loss 0.005328\n",
      ">> Epoch 271 finished \tANN training loss 0.005302\n",
      ">> Epoch 272 finished \tANN training loss 0.005276\n",
      ">> Epoch 273 finished \tANN training loss 0.005240\n",
      ">> Epoch 274 finished \tANN training loss 0.005213\n",
      ">> Epoch 275 finished \tANN training loss 0.005187\n",
      ">> Epoch 276 finished \tANN training loss 0.005161\n",
      ">> Epoch 277 finished \tANN training loss 0.005136\n",
      ">> Epoch 278 finished \tANN training loss 0.005110\n",
      ">> Epoch 279 finished \tANN training loss 0.005085\n",
      ">> Epoch 280 finished \tANN training loss 0.005058\n",
      ">> Epoch 281 finished \tANN training loss 0.005034\n",
      ">> Epoch 282 finished \tANN training loss 0.005010\n",
      ">> Epoch 283 finished \tANN training loss 0.004986\n",
      ">> Epoch 284 finished \tANN training loss 0.004963\n",
      ">> Epoch 285 finished \tANN training loss 0.004939\n",
      ">> Epoch 286 finished \tANN training loss 0.004916\n",
      ">> Epoch 287 finished \tANN training loss 0.004883\n",
      ">> Epoch 288 finished \tANN training loss 0.004858\n",
      ">> Epoch 289 finished \tANN training loss 0.004834\n",
      ">> Epoch 290 finished \tANN training loss 0.004810\n",
      ">> Epoch 291 finished \tANN training loss 0.004788\n",
      ">> Epoch 292 finished \tANN training loss 0.004766\n",
      ">> Epoch 293 finished \tANN training loss 0.004744\n",
      ">> Epoch 294 finished \tANN training loss 0.004720\n",
      ">> Epoch 295 finished \tANN training loss 0.004687\n",
      ">> Epoch 296 finished \tANN training loss 0.004665\n",
      ">> Epoch 297 finished \tANN training loss 0.004642\n",
      ">> Epoch 298 finished \tANN training loss 0.004619\n",
      ">> Epoch 299 finished \tANN training loss 0.004588\n",
      ">> Epoch 300 finished \tANN training loss 0.004567\n",
      ">> Epoch 301 finished \tANN training loss 0.004545\n",
      ">> Epoch 302 finished \tANN training loss 0.004524\n",
      ">> Epoch 303 finished \tANN training loss 0.004503\n",
      ">> Epoch 304 finished \tANN training loss 0.004473\n",
      ">> Epoch 305 finished \tANN training loss 0.004449\n",
      ">> Epoch 306 finished \tANN training loss 0.004429\n",
      ">> Epoch 307 finished \tANN training loss 0.004409\n",
      ">> Epoch 308 finished \tANN training loss 0.004388\n",
      ">> Epoch 309 finished \tANN training loss 0.004368\n",
      ">> Epoch 310 finished \tANN training loss 0.004348\n",
      ">> Epoch 311 finished \tANN training loss 0.004328\n",
      ">> Epoch 312 finished \tANN training loss 0.004298\n",
      ">> Epoch 313 finished \tANN training loss 0.004277\n",
      ">> Epoch 314 finished \tANN training loss 0.004257\n",
      ">> Epoch 315 finished \tANN training loss 0.004236\n",
      ">> Epoch 316 finished \tANN training loss 0.004217\n",
      ">> Epoch 317 finished \tANN training loss 0.004198\n",
      ">> Epoch 318 finished \tANN training loss 0.004179\n",
      ">> Epoch 319 finished \tANN training loss 0.004159\n",
      ">> Epoch 320 finished \tANN training loss 0.004140\n",
      ">> Epoch 321 finished \tANN training loss 0.004121\n",
      ">> Epoch 322 finished \tANN training loss 0.004092\n",
      ">> Epoch 323 finished \tANN training loss 0.004064\n",
      ">> Epoch 324 finished \tANN training loss 0.004046\n",
      ">> Epoch 325 finished \tANN training loss 0.004026\n",
      ">> Epoch 326 finished \tANN training loss 0.004008\n",
      ">> Epoch 327 finished \tANN training loss 0.003990\n",
      ">> Epoch 328 finished \tANN training loss 0.003972\n",
      ">> Epoch 329 finished \tANN training loss 0.003954\n",
      ">> Epoch 330 finished \tANN training loss 0.003927\n",
      ">> Epoch 331 finished \tANN training loss 0.003900\n",
      ">> Epoch 332 finished \tANN training loss 0.003882\n",
      ">> Epoch 333 finished \tANN training loss 0.003856\n",
      ">> Epoch 334 finished \tANN training loss 0.003839\n",
      ">> Epoch 335 finished \tANN training loss 0.003822\n",
      ">> Epoch 336 finished \tANN training loss 0.003805\n",
      ">> Epoch 337 finished \tANN training loss 0.003779\n",
      ">> Epoch 338 finished \tANN training loss 0.003763\n",
      ">> Epoch 339 finished \tANN training loss 0.003746\n",
      ">> Epoch 340 finished \tANN training loss 0.003721\n",
      ">> Epoch 341 finished \tANN training loss 0.003704\n",
      ">> Epoch 342 finished \tANN training loss 0.003679\n",
      ">> Epoch 343 finished \tANN training loss 0.003661\n",
      ">> Epoch 344 finished \tANN training loss 0.003645\n",
      ">> Epoch 345 finished \tANN training loss 0.003629\n",
      ">> Epoch 346 finished \tANN training loss 0.003612\n",
      ">> Epoch 347 finished \tANN training loss 0.003596\n",
      ">> Epoch 348 finished \tANN training loss 0.003580\n",
      ">> Epoch 349 finished \tANN training loss 0.003564\n",
      ">> Epoch 350 finished \tANN training loss 0.003548\n",
      ">> Epoch 351 finished \tANN training loss 0.003533\n",
      ">> Epoch 352 finished \tANN training loss 0.003517\n",
      ">> Epoch 353 finished \tANN training loss 0.003493\n",
      ">> Epoch 354 finished \tANN training loss 0.003477\n",
      ">> Epoch 355 finished \tANN training loss 0.003461\n",
      ">> Epoch 356 finished \tANN training loss 0.003444\n",
      ">> Epoch 357 finished \tANN training loss 0.003429\n",
      ">> Epoch 358 finished \tANN training loss 0.003415\n",
      ">> Epoch 359 finished \tANN training loss 0.003400\n",
      ">> Epoch 360 finished \tANN training loss 0.003385\n",
      ">> Epoch 361 finished \tANN training loss 0.003371\n",
      ">> Epoch 362 finished \tANN training loss 0.003356\n",
      ">> Epoch 363 finished \tANN training loss 0.003341\n",
      ">> Epoch 364 finished \tANN training loss 0.003319\n",
      ">> Epoch 365 finished \tANN training loss 0.003303\n",
      ">> Epoch 366 finished \tANN training loss 0.003289\n",
      ">> Epoch 367 finished \tANN training loss 0.003274\n",
      ">> Epoch 368 finished \tANN training loss 0.003261\n",
      ">> Epoch 369 finished \tANN training loss 0.003247\n",
      ">> Epoch 370 finished \tANN training loss 0.003233\n",
      ">> Epoch 371 finished \tANN training loss 0.003219\n",
      ">> Epoch 372 finished \tANN training loss 0.003205\n",
      ">> Epoch 373 finished \tANN training loss 0.003191\n",
      ">> Epoch 374 finished \tANN training loss 0.003177\n",
      ">> Epoch 375 finished \tANN training loss 0.003163\n",
      ">> Epoch 376 finished \tANN training loss 0.003150\n",
      ">> Epoch 377 finished \tANN training loss 0.003136\n",
      ">> Epoch 378 finished \tANN training loss 0.003122\n",
      ">> Epoch 379 finished \tANN training loss 0.003102\n",
      ">> Epoch 380 finished \tANN training loss 0.003088\n",
      ">> Epoch 381 finished \tANN training loss 0.003075\n",
      ">> Epoch 382 finished \tANN training loss 0.003054\n",
      ">> Epoch 383 finished \tANN training loss 0.003041\n",
      ">> Epoch 384 finished \tANN training loss 0.003028\n",
      ">> Epoch 385 finished \tANN training loss 0.003014\n",
      ">> Epoch 386 finished \tANN training loss 0.002996\n",
      ">> Epoch 387 finished \tANN training loss 0.002983\n",
      ">> Epoch 388 finished \tANN training loss 0.002970\n",
      ">> Epoch 389 finished \tANN training loss 0.002958\n",
      ">> Epoch 390 finished \tANN training loss 0.002945\n",
      ">> Epoch 391 finished \tANN training loss 0.002933\n",
      ">> Epoch 392 finished \tANN training loss 0.002921\n",
      ">> Epoch 393 finished \tANN training loss 0.002909\n",
      ">> Epoch 394 finished \tANN training loss 0.002898\n",
      ">> Epoch 395 finished \tANN training loss 0.002886\n",
      ">> Epoch 396 finished \tANN training loss 0.002874\n",
      ">> Epoch 397 finished \tANN training loss 0.002863\n",
      ">> Epoch 398 finished \tANN training loss 0.002851\n",
      ">> Epoch 399 finished \tANN training loss 0.002839\n",
      ">> Epoch 400 finished \tANN training loss 0.002822\n",
      ">> Epoch 401 finished \tANN training loss 0.002810\n",
      ">> Epoch 402 finished \tANN training loss 0.002798\n",
      ">> Epoch 403 finished \tANN training loss 0.002786\n",
      ">> Epoch 404 finished \tANN training loss 0.002768\n",
      ">> Epoch 405 finished \tANN training loss 0.002757\n"
     ]
    },
    {
     "name": "stdout",
     "output_type": "stream",
     "text": [
      ">> Epoch 406 finished \tANN training loss 0.002746\n",
      ">> Epoch 407 finished \tANN training loss 0.002729\n",
      ">> Epoch 408 finished \tANN training loss 0.002718\n",
      ">> Epoch 409 finished \tANN training loss 0.002707\n",
      ">> Epoch 410 finished \tANN training loss 0.002696\n",
      ">> Epoch 411 finished \tANN training loss 0.002685\n",
      ">> Epoch 412 finished \tANN training loss 0.002674\n",
      ">> Epoch 413 finished \tANN training loss 0.002658\n",
      ">> Epoch 414 finished \tANN training loss 0.002648\n",
      ">> Epoch 415 finished \tANN training loss 0.002637\n",
      ">> Epoch 416 finished \tANN training loss 0.002626\n",
      ">> Epoch 417 finished \tANN training loss 0.002616\n",
      ">> Epoch 418 finished \tANN training loss 0.002605\n",
      ">> Epoch 419 finished \tANN training loss 0.002595\n",
      ">> Epoch 420 finished \tANN training loss 0.002584\n",
      ">> Epoch 421 finished \tANN training loss 0.002574\n",
      ">> Epoch 422 finished \tANN training loss 0.002564\n",
      ">> Epoch 423 finished \tANN training loss 0.002549\n",
      ">> Epoch 424 finished \tANN training loss 0.002539\n",
      ">> Epoch 425 finished \tANN training loss 0.002529\n",
      ">> Epoch 426 finished \tANN training loss 0.002519\n",
      ">> Epoch 427 finished \tANN training loss 0.002509\n",
      ">> Epoch 428 finished \tANN training loss 0.002494\n",
      ">> Epoch 429 finished \tANN training loss 0.002479\n",
      ">> Epoch 430 finished \tANN training loss 0.002464\n",
      ">> Epoch 431 finished \tANN training loss 0.002454\n",
      ">> Epoch 432 finished \tANN training loss 0.002444\n",
      ">> Epoch 433 finished \tANN training loss 0.002435\n",
      ">> Epoch 434 finished \tANN training loss 0.002425\n",
      ">> Epoch 435 finished \tANN training loss 0.002416\n",
      ">> Epoch 436 finished \tANN training loss 0.002406\n",
      ">> Epoch 437 finished \tANN training loss 0.002396\n",
      ">> Epoch 438 finished \tANN training loss 0.002387\n",
      ">> Epoch 439 finished \tANN training loss 0.002378\n",
      ">> Epoch 440 finished \tANN training loss 0.002369\n",
      ">> Epoch 441 finished \tANN training loss 0.002359\n",
      ">> Epoch 442 finished \tANN training loss 0.002350\n",
      ">> Epoch 443 finished \tANN training loss 0.002341\n",
      ">> Epoch 444 finished \tANN training loss 0.002332\n",
      ">> Epoch 445 finished \tANN training loss 0.002323\n",
      ">> Epoch 446 finished \tANN training loss 0.002314\n",
      ">> Epoch 447 finished \tANN training loss 0.002305\n",
      ">> Epoch 448 finished \tANN training loss 0.002296\n",
      ">> Epoch 449 finished \tANN training loss 0.002287\n",
      ">> Epoch 450 finished \tANN training loss 0.002279\n",
      ">> Epoch 451 finished \tANN training loss 0.002270\n",
      ">> Epoch 452 finished \tANN training loss 0.002261\n",
      ">> Epoch 453 finished \tANN training loss 0.002253\n",
      ">> Epoch 454 finished \tANN training loss 0.002245\n",
      ">> Epoch 455 finished \tANN training loss 0.002236\n",
      ">> Epoch 456 finished \tANN training loss 0.002228\n",
      ">> Epoch 457 finished \tANN training loss 0.002219\n",
      ">> Epoch 458 finished \tANN training loss 0.002207\n",
      ">> Epoch 459 finished \tANN training loss 0.002198\n",
      ">> Epoch 460 finished \tANN training loss 0.002190\n",
      ">> Epoch 461 finished \tANN training loss 0.002181\n",
      ">> Epoch 462 finished \tANN training loss 0.002173\n",
      ">> Epoch 463 finished \tANN training loss 0.002165\n",
      ">> Epoch 464 finished \tANN training loss 0.002157\n",
      ">> Epoch 465 finished \tANN training loss 0.002149\n",
      ">> Epoch 466 finished \tANN training loss 0.002142\n",
      ">> Epoch 467 finished \tANN training loss 0.002129\n",
      ">> Epoch 468 finished \tANN training loss 0.002122\n",
      ">> Epoch 469 finished \tANN training loss 0.002114\n",
      ">> Epoch 470 finished \tANN training loss 0.002102\n",
      ">> Epoch 471 finished \tANN training loss 0.002094\n",
      ">> Epoch 472 finished \tANN training loss 0.002087\n",
      ">> Epoch 473 finished \tANN training loss 0.002078\n",
      ">> Epoch 474 finished \tANN training loss 0.002071\n",
      ">> Epoch 475 finished \tANN training loss 0.002063\n",
      ">> Epoch 476 finished \tANN training loss 0.002056\n",
      ">> Epoch 477 finished \tANN training loss 0.002048\n",
      ">> Epoch 478 finished \tANN training loss 0.002040\n",
      ">> Epoch 479 finished \tANN training loss 0.002029\n",
      ">> Epoch 480 finished \tANN training loss 0.002022\n",
      ">> Epoch 481 finished \tANN training loss 0.002014\n",
      ">> Epoch 482 finished \tANN training loss 0.002007\n",
      ">> Epoch 483 finished \tANN training loss 0.002000\n",
      ">> Epoch 484 finished \tANN training loss 0.001992\n",
      ">> Epoch 485 finished \tANN training loss 0.001981\n",
      ">> Epoch 486 finished \tANN training loss 0.001974\n",
      ">> Epoch 487 finished \tANN training loss 0.001967\n",
      ">> Epoch 488 finished \tANN training loss 0.001957\n",
      ">> Epoch 489 finished \tANN training loss 0.001949\n",
      ">> Epoch 490 finished \tANN training loss 0.001942\n",
      ">> Epoch 491 finished \tANN training loss 0.001932\n",
      ">> Epoch 492 finished \tANN training loss 0.001925\n",
      ">> Epoch 493 finished \tANN training loss 0.001918\n",
      ">> Epoch 494 finished \tANN training loss 0.001911\n",
      ">> Epoch 495 finished \tANN training loss 0.001905\n",
      ">> Epoch 496 finished \tANN training loss 0.001898\n",
      ">> Epoch 497 finished \tANN training loss 0.001891\n",
      ">> Epoch 498 finished \tANN training loss 0.001884\n",
      ">> Epoch 499 finished \tANN training loss 0.001878\n",
      ">> Epoch 500 finished \tANN training loss 0.001871\n",
      ">> Epoch 501 finished \tANN training loss 0.001865\n",
      ">> Epoch 502 finished \tANN training loss 0.001858\n",
      ">> Epoch 503 finished \tANN training loss 0.001848\n",
      ">> Epoch 504 finished \tANN training loss 0.001842\n",
      ">> Epoch 505 finished \tANN training loss 0.001835\n",
      ">> Epoch 506 finished \tANN training loss 0.001829\n",
      ">> Epoch 507 finished \tANN training loss 0.001822\n",
      ">> Epoch 508 finished \tANN training loss 0.001816\n",
      ">> Epoch 509 finished \tANN training loss 0.001810\n",
      ">> Epoch 510 finished \tANN training loss 0.001804\n",
      ">> Epoch 511 finished \tANN training loss 0.001794\n",
      "[END] Fine tuning step\n"
     ]
    },
    {
     "data": {
      "text/plain": [
       "SupervisedDBNClassification(batch_size=32, dropout_p=1e-05,\n",
       "                            idx_to_label_map={0: 0, 1: 1},\n",
       "                            l2_regularization=1.0,\n",
       "                            label_to_idx_map={0: 0, 1: 1}, learning_rate=0.02,\n",
       "                            n_iter_backprop=512, verbose=True)"
      ]
     },
     "execution_count": 216,
     "metadata": {},
     "output_type": "execute_result"
    }
   ],
   "source": [
    "classifier.fit(X_train, Y_train)"
   ]
  },
  {
   "cell_type": "code",
   "execution_count": 217,
   "metadata": {},
   "outputs": [],
   "source": [
    "# predict probabilities for test set\n",
    "yhat_probs = classifier.predict(X_test)\n",
    "# predict crisp classes for test set\n",
    "#yhat_classes = model.predict_classes(X_test, verbose=0)\n",
    "yhat_classes = yhat_probs# np.argmax(yhat_probs,axis=1)"
   ]
  },
  {
   "cell_type": "code",
   "execution_count": 218,
   "metadata": {},
   "outputs": [],
   "source": [
    "from sklearn.datasets import make_circles\n",
    "from sklearn.metrics import accuracy_score\n",
    "from sklearn.metrics import precision_score\n",
    "from sklearn.metrics import recall_score\n",
    "from sklearn.metrics import f1_score\n",
    "from sklearn.metrics import cohen_kappa_score\n",
    "from sklearn.metrics import roc_auc_score\n",
    "from sklearn.metrics import confusion_matrix\n",
    "from sklearn.metrics import roc_curve\n",
    "from sklearn.metrics import classification_report"
   ]
  },
  {
   "cell_type": "code",
   "execution_count": 219,
   "metadata": {},
   "outputs": [
    {
     "name": "stdout",
     "output_type": "stream",
     "text": [
      "Accuracy: 0.918919\n",
      "Precision: 0.920807\n",
      "Recall: 0.910606\n",
      "F1 score: 0.914943\n"
     ]
    }
   ],
   "source": [
    "# accuracy: (tp + tn) / (p + n)\n",
    "accuracy = accuracy_score(Y_test, yhat_classes)\n",
    "print('Accuracy: %f' % accuracy)\n",
    "# precision tp / (tp + fp)\n",
    "precision = precision_score(Y_test, yhat_classes, average='macro')\n",
    "print('Precision: %f' % precision)\n",
    "# recall: tp / (tp + fn)\n",
    "recall = recall_score(Y_test, yhat_classes,average='macro')\n",
    "print('Recall: %f' % recall)\n",
    "# f1: 2 tp / (2 tp + fp + fn)\n",
    "f1 = f1_score(Y_test, yhat_classes, average='macro')\n",
    "print('F1 score: %f' % f1)"
   ]
  },
  {
   "cell_type": "code",
   "execution_count": 220,
   "metadata": {},
   "outputs": [
    {
     "name": "stdout",
     "output_type": "stream",
     "text": [
      "Cohens kappa: 0.830015\n",
      "[[21  1]\n",
      " [ 2 13]]\n"
     ]
    }
   ],
   "source": [
    "# kappa\n",
    "kappa = cohen_kappa_score(Y_test, yhat_classes)\n",
    "print('Cohens kappa: %f' % kappa)\n",
    "# ROC AUC\n",
    "#fprate, tprate, thresholds = roc_curve(Y_test, yhat_probs, average = 'macro')\n",
    "#print('ROC AUC: %f' % thresholds)\n",
    "# confusion matrix\n",
    "matrix = confusion_matrix(Y_test, yhat_classes)\n",
    "print(matrix)"
   ]
  },
  {
   "cell_type": "code",
   "execution_count": 221,
   "metadata": {},
   "outputs": [
    {
     "name": "stderr",
     "output_type": "stream",
     "text": [
      "C:\\Users\\hp\\Anaconda3\\lib\\site-packages\\sklearn\\metrics\\ranking.py:659: UndefinedMetricWarning: No positive samples in y_true, true positive value should be meaningless\n",
      "  UndefinedMetricWarning)\n"
     ]
    }
   ],
   "source": [
    "fpr = {}\n",
    "tpr = {}\n",
    "thresh ={}\n",
    "\n",
    "n_class = 5\n",
    "\n",
    "for i in range(n_class):    \n",
    "    fpr[i], tpr[i], thresh[i] = roc_curve(Y_test, yhat_classes, pos_label=i)"
   ]
  },
  {
   "cell_type": "code",
   "execution_count": 222,
   "metadata": {},
   "outputs": [
    {
     "data": {
      "image/png": "[encoded data removed]",
      "text/plain": [
       "<Figure size 432x288 with 1 Axes>"
      ]
     },
     "metadata": {
      "needs_background": "light"
     },
     "output_type": "display_data"
    }
   ],
   "source": [
    "# plotting    \n",
    "plt.plot(fpr[0], tpr[0], linestyle='--',color='orange', label='Class 0 vs Rest')\n",
    "plt.plot(fpr[1], tpr[1], linestyle='--',color='green', label='Class 1 vs Rest')\n",
    "plt.plot(fpr[2], tpr[2], linestyle='--',color='blue', label='Class 2 vs Rest')\n",
    "plt.plot(fpr[3], tpr[3], linestyle='--',color='red', label='Class 3 vs Rest')\n",
    "plt.plot(fpr[4], tpr[4], linestyle='--',color='black', label='Class 4 vs Rest')\n",
    "plt.title('Multiclass ROC curve')\n",
    "plt.xlabel('False Positive Rate')\n",
    "plt.ylabel('True Positive rate')\n",
    "plt.legend(loc='best')\n",
    "plt.savefig('Multiclass ROC',dpi=300); "
   ]
  },
  {
   "cell_type": "code",
   "execution_count": 223,
   "metadata": {},
   "outputs": [
    {
     "name": "stdout",
     "output_type": "stream",
     "text": [
      "Confusion matrix : \n",
      " [[21  1]\n",
      " [ 2 13]]\n"
     ]
    }
   ],
   "source": [
    "matrix = confusion_matrix(Y_test,yhat_classes, labels= [0, 1])\n",
    "print('Confusion matrix : \\n',matrix)"
   ]
  },
  {
   "cell_type": "code",
   "execution_count": 224,
   "metadata": {},
   "outputs": [
    {
     "name": "stdout",
     "output_type": "stream",
     "text": [
      "Classification report : \n",
      "               precision    recall  f1-score   support\n",
      "\n",
      "           0       0.91      0.95      0.93        22\n",
      "           1       0.93      0.87      0.90        15\n",
      "\n",
      "    accuracy                           0.92        37\n",
      "   macro avg       0.92      0.91      0.91        37\n",
      "weighted avg       0.92      0.92      0.92        37\n",
      "\n"
     ]
    }
   ],
   "source": [
    "matrix = classification_report(Y_test,yhat_classes, labels= [0, 1])\n",
    "print('Classification report : \\n',matrix)"
   ]
  },
  {
   "cell_type": "code",
   "execution_count": 225,
   "metadata": {},
   "outputs": [],
   "source": [
    "classifier.save('./models/IG feature selection/WithoutIP Top9/Binary/DBN/DBN.pkl')"
   ]
  },
  {
   "cell_type": "code",
   "execution_count": null,
   "metadata": {},
   "outputs": [],
   "source": []
  }
 ],
 "metadata": {
  "kernelspec": {
   "display_name": "Python 3",
   "language": "python",
   "name": "python3"
  },
  "language_info": {
   "codemirror_mode": {
    "name": "ipython",
    "version": 3
   },
   "file_extension": ".py",
   "mimetype": "text/x-python",
   "name": "python",
   "nbconvert_exporter": "python",
   "pygments_lexer": "ipython3",
   "version": "3.7.4"
  }
 },
 "nbformat": 4,
 "nbformat_minor": 2
}

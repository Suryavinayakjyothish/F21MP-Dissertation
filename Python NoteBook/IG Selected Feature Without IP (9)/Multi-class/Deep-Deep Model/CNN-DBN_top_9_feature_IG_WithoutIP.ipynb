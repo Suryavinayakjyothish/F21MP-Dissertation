{
 "cells": [
  {
   "cell_type": "code",
   "execution_count": 1,
   "metadata": {},
   "outputs": [],
   "source": [
    "import pandas as pd\n",
    "import numpy as np\n",
    "from datetime import datetime\n",
    "import time\n",
    "import matplotlib.pyplot as plt\n",
    "import gc\n",
    "pd.set_option('display.max_columns', None)"
   ]
  },
  {
   "cell_type": "code",
   "execution_count": 2,
   "metadata": {},
   "outputs": [],
   "source": [
    "## for machine learning\n",
    "from sklearn import model_selection, preprocessing, feature_selection, ensemble, linear_model, metrics, decomposition\n",
    "## for plotting\n",
    "import matplotlib.pyplot as plt\n",
    "## for machine learning\n",
    "from sklearn import model_selection, preprocessing, feature_selection, ensemble, linear_model, metrics, decomposition\n",
    "from sklearn.preprocessing import LabelEncoder,Normalizer,StandardScaler, OneHotEncoder, MinMaxScaler\n",
    "from sklearn.feature_selection import mutual_info_classif\n",
    "from sklearn.metrics import confusion_matrix\n",
    "from sklearn.metrics import classification_report\n",
    "## for explainer\n",
    "#from lime import lime_tabular"
   ]
  },
  {
   "cell_type": "code",
   "execution_count": 3,
   "metadata": {},
   "outputs": [],
   "source": [
    "#a = pd.read_csv('drive/My Drive/Colab Notebooks/traffic/OpenStack/CIDDS-001-internal-week1.csv', low_memory=False, encoding='cp1252')\n",
    "#b = pd.read_csv('drive/My Drive/Colab Notebooks/traffic/OpenStack/CIDDS-001-internal-week2.csv', low_memory=False, encoding='cp1252')\n",
    "a = pd.read_csv('./CIDDS-001/traffic/OpenStack/CIDDS-001-internal-week1.csv', low_memory=False, encoding='cp1252')\n",
    "b = pd.read_csv('./CIDDS-001/traffic/OpenStack/CIDDS-001-internal-week2.csv', low_memory=False, encoding='cp1252')\n",
    "c =  pd.read_csv('./CIDDS-001/traffic/ExternalServer/CIDDS-001-external-week2.csv', low_memory=False, encoding='cp1252')\n",
    "d =  pd.read_csv('./CIDDS-001/traffic/ExternalServer/CIDDS-001-external-week3.csv', low_memory=False, encoding='cp1252')\n",
    "e =  pd.read_csv('./CIDDS-001/traffic/ExternalServer/CIDDS-001-external-week4.csv', low_memory=False, encoding='cp1252')\n",
    "#f =  pd.read_csv('./CIDDS-001/traffic/ExternalServer/CIDDS-001-external-week1.csv', low_memory=False, encoding='cp1252')\n",
    "#c = pd.read_csv('drive/My Drive/Colab Notebooks/traffic/OpenStack/CIDDS-001-internal-week3.csv', low_memory=False , encoding='cp1252')\n",
    "#d = pd.read_csv('drive/My Drive/Colab Notebooks/traffic/OpenStack/CIDDS-001-internal-week4.csv', low_memory=False, encoding='cp1252')\n",
    "#e =  pd.read_csv('drive/My Drive/Colab Notebooks/traffic/ExternalServer/CIDDS-001-external-week1.csv', low_memory=False, encoding='cp1252')\n",
    "#f =  pd.read_csv('drive/My Drive/Colab Notebooks/traffic/ExternalServer/CIDDS-001-external-week2.csv', low_memory=False, encoding='cp1252')\n",
    "#g =  pd.read_csv('drive/My Drive/Colab Notebooks/traffic/ExternalServer/CIDDS-001-external-week3.csv', low_memory=False, encoding='cp1252')\n",
    "#h =  pd.read_csv('drive/My Drive/Colab Notebooks/traffic/ExternalServer/CIDDS-001-external-week4.csv', low_memory=False, encoding='cp1252')"
   ]
  },
  {
   "cell_type": "code",
   "execution_count": 4,
   "metadata": {},
   "outputs": [
    {
     "name": "stdout",
     "output_type": "stream",
     "text": [
      "(10310733, 16)\n"
     ]
    },
    {
     "data": {
      "text/plain": [
       "(1795404, 16)"
      ]
     },
     "execution_count": 4,
     "metadata": {},
     "output_type": "execute_result"
    }
   ],
   "source": [
    "print(b.shape)\n",
    "#a.drop(a[a['attackType'] == '---'].index, axis = 0, inplace= True) \n",
    "b.drop(b[b['attackType'] == '---'].index, axis = 0, inplace= True)  \n",
    "c.drop(c[c['attackType'] == '---'].index, axis = 0, inplace= True)  \n",
    "d.drop(d[d['attackType'] == '---'].index, axis = 0, inplace= True)  \n",
    "#e.drop(e[e['attackType'] == '---'].index, axis = 0, inplace= True)  \n",
    "b.shape"
   ]
  },
  {
   "cell_type": "code",
   "execution_count": 5,
   "metadata": {},
   "outputs": [],
   "source": [
    "data_external = pd.concat([c,d,e], axis = 0)\n",
    "data_external.reset_index(drop= True, inplace= True)"
   ]
  },
  {
   "cell_type": "code",
   "execution_count": 6,
   "metadata": {},
   "outputs": [],
   "source": [
    "#to Increment attackID values\n",
    "data_external['attackID'] = data_external['attackID'].apply(lambda x: str(int(x) + 70) if x != '---' else x)"
   ]
  },
  {
   "cell_type": "code",
   "execution_count": 7,
   "metadata": {},
   "outputs": [],
   "source": [
    "def convert_bytes(df):\n",
    "    if 'M' in df:\n",
    "        df = df.split('M')\n",
    "        df = df[0].strip()\n",
    "        df = float(df) * 1000000\n",
    "    elif 'B' in df:\n",
    "        df = df.split('B')\n",
    "        df = df[0].strip()\n",
    "        df =  float(df) * 1000000000\n",
    "    else: \n",
    "        df =float(df)\n",
    "    return df"
   ]
  },
  {
   "cell_type": "code",
   "execution_count": 8,
   "metadata": {},
   "outputs": [
    {
     "data": {
      "text/plain": [
       "0"
      ]
     },
     "execution_count": 8,
     "metadata": {},
     "output_type": "execute_result"
    }
   ],
   "source": [
    "data = pd.concat([a,b,data_external], axis = 0)\n",
    "data.reset_index(drop= True, inplace= True)\n",
    "data['Bytes'] = data['Bytes'].apply(lambda x: convert_bytes(x))\n",
    "columns = ['Src Pt', 'Dst Pt','Tos','Flows','Packets', 'Bytes']\n",
    "for i in columns:\n",
    "    data[i] = pd.to_numeric(data[i]);\n",
    "del columns\n",
    "del a,b,c,d,e, data_external\n",
    "gc.collect()"
   ]
  },
  {
   "cell_type": "code",
   "execution_count": 9,
   "metadata": {},
   "outputs": [],
   "source": [
    "#Converts Hexadecimal value to Binary\n",
    "def hex_to_binary(hexdata):\n",
    "    scale = 16 ## equals to hexadecimal\n",
    "    num_of_bits = 9\n",
    "    return bin(int(hexdata, scale))[2:].zfill(num_of_bits);\n",
    "#Converts TCP flags to Binary\n",
    "def to_Binary(x):\n",
    "    l = 0\n",
    "    x = '...' + x\n",
    "    x = list(x)\n",
    "    for i in x:\n",
    "        if (i=='.'):\n",
    "            x[l]= '0'\n",
    "        else:\n",
    "            x[l] = '1'\n",
    "        l = l +1\n",
    "    return ''.join(x)\n",
    "#Converts the 'Flags' column to 9 indiviual columns (manual oneshot encoding)\n",
    "def flag_convert(df):  \n",
    "   # df['Flags'] = df['Flags'].apply(lambda x: (list(x)))\n",
    "   # temp = df['Flags'].apply(lambda x: toBinary(x))\n",
    "    hex_values = list(df[(df['Flags'].str.contains(\"0x\", na=False))]['Flags'].unique())\n",
    "    flag_values = list(df[~(df['Flags'].str.contains(\"0x\", na=False))]['Flags'].unique())\n",
    "    binary_values = {}\n",
    "    for i in hex_values:\n",
    "         binary_values[i] = (hex_to_binary(i))\n",
    "    for i in flag_values:\n",
    "         binary_values[i] = (to_Binary(i))\n",
    "    temp = df['Flags'].replace(binary_values)\n",
    "#temp = temp.apply(lambda x: pd.Series(x)) \n",
    "    temp = pd.DataFrame(temp.apply(list).tolist())\n",
    "#temp = pd.DataFrame(temp)\n",
    "#a = a.iloc[: , 1:]\n",
    "   # print(temp.head())\n",
    "    temp.columns = ['N','C','E','U' ,'A','P','R','S','F']\n",
    "    for i in temp.columns:\n",
    "        temp[i] = pd.to_numeric(temp[i]);\n",
    "    temp = temp.reset_index(drop=True)\n",
    "    df = df.reset_index(drop=True)\n",
    "    df = pd.concat([df, temp], axis = 1)\n",
    "    return df;"
   ]
  },
  {
   "cell_type": "code",
   "execution_count": 10,
   "metadata": {},
   "outputs": [],
   "source": [
    "#make a IP_pairs \n",
    "def make_pair(df):\n",
    "    ip_pair = df['Src IP Addr'] +'/' +df['Dst IP Addr']\n",
    "    source_ip = df['Src IP Addr'].unique().tolist()\n",
    "    destination_ip = df['Dst IP Addr'].unique().tolist()\n",
    "   # df = df.drop(columns = ['Src IP Addr', 'Dst IP Addr'])\n",
    "    df.insert(1, ' IP Pair', ip_pair)\n",
    "    return df\n",
    "\n",
    "def check_inverse(df):\n",
    "    list_pairs = df[' IP Pair'].unique()\n",
    "    tuple_pair = []\n",
    "    for i in list_pairs:\n",
    "        tuple_pair.append(tuple((i.split('/'))))\n",
    "    dic_store = {}\n",
    "    for i in tuple_pair:\n",
    "        if (i  not in dic_store.keys()) and (i[::-1] not in dic_store.keys()):\n",
    "            dic_store[i] = i[0] + '/' +i[1]\n",
    "    print(len(dic_store.keys()))\n",
    "    dic_final = {}\n",
    "    for i in dic_store.keys():\n",
    "        dic_final[i[0] + '/' +i[1]] = dic_store[i]\n",
    "        dic_final[i[1] + '/' +i[0]] = dic_store[i]\n",
    "    df[' IP Pair'] = df[' IP Pair'].map(dic_final)               \n",
    "    return df"
   ]
  },
  {
   "cell_type": "code",
   "execution_count": 11,
   "metadata": {},
   "outputs": [],
   "source": [
    "def normalize_IP(df):\n",
    "    columns = ['sourceIP_feature 1', 'sourceIP_feature 2', 'sourceIP_feature 3', 'sourceIP_feature 4', 'destIP_feature 1',\n",
    "              'destIP_feature 2', 'destIP_feature 3', 'destIP_feature 4']\n",
    "    normalized = df[columns]\n",
    "    print(columns)\n",
    "    transformed = MinMaxScaler().fit(normalized).transform(normalized)\n",
    "    transformed = pd.DataFrame(transformed)\n",
    "    j = 0\n",
    "    col = {}\n",
    "    for i in columns:\n",
    "        col[j] = i\n",
    "        j=j+1\n",
    "    transformed = transformed.rename(columns = col)\n",
    "    transformed = transformed.reset_index()\n",
    "    for i in columns:\n",
    "        df[i] = transformed[i].to_numpy()\n",
    "    return df;"
   ]
  },
  {
   "cell_type": "code",
   "execution_count": 12,
   "metadata": {},
   "outputs": [],
   "source": [
    "def normalize(df):\n",
    "    numerics = ['int16', 'int32', 'int64', 'float16', 'float32', 'float64']\n",
    "    columns = data.select_dtypes(include=numerics).columns\n",
    "    normalized = df[columns]\n",
    "    print(columns)\n",
    "    transformed = MinMaxScaler().fit(normalized).transform(normalized)\n",
    "    transformed = pd.DataFrame(transformed)\n",
    "    j = 0\n",
    "    col = {}\n",
    "    for i in columns:\n",
    "        col[j] = i\n",
    "        j=j+1\n",
    "    transformed = transformed.rename(columns = col)\n",
    "    transformed = transformed.reset_index()\n",
    "    for i in columns:\n",
    "        df[i] = transformed[i].to_numpy()\n",
    "    return df;"
   ]
  },
  {
   "cell_type": "code",
   "execution_count": 13,
   "metadata": {},
   "outputs": [],
   "source": [
    "def one_shot(df):\n",
    "    label_encoder = LabelEncoder()\n",
    "    #df.astype({'attackType': 'str'})\n",
    "    df['attackType'] = label_encoder.fit_transform(df['attackType'])\n",
    "    print(list(label_encoder.classes_))\n",
    "    print(list(label_encoder.transform(label_encoder.classes_)))\n",
    "    \n",
    "#    onehot_encoder = OneHotEncoder()\n",
    "#    onehot_encoder.fit(df.attackType.to_numpy().reshape(-1, 1))\n",
    "#    proto = onehot_encoder.transform(df.attackType.to_numpy().reshape(-1, 1))\n",
    "#    proto = pd.DataFrame.sparse.from_spmatrix(proto)\n",
    "#    proto.astype('int32')\n",
    "#    proto.columns = label_encoder.classes_\n",
    "#    df = pd.concat([df, proto], axis = 1) \n",
    "    \n",
    "    \n",
    "    \n",
    "    df['Proto'] = label_encoder.fit_transform(df['Proto'])\n",
    "    print(list(label_encoder.classes_))\n",
    "    print(list(label_encoder.transform(label_encoder.classes_)))\n",
    "    \n",
    "    onehot_encoder1 = OneHotEncoder()\n",
    "    onehot_encoder1.fit(df.Proto.to_numpy().reshape(-1, 1))\n",
    "    proto = onehot_encoder1.transform(df.Proto.to_numpy().reshape(-1, 1))\n",
    "    proto = pd.DataFrame.sparse.from_spmatrix(proto)\n",
    "    proto.astype('int32')\n",
    "    proto.columns = label_encoder.classes_\n",
    "   # print(proto.head(1))\n",
    "    df = pd.concat([df, proto], axis = 1)\n",
    "    return df;"
   ]
  },
  {
   "cell_type": "code",
   "execution_count": 14,
   "metadata": {},
   "outputs": [],
   "source": [
    "def drop_columns(df):\n",
    "    return df.drop(columns = ['Date first seen', ' IP Pair', 'Flows', 'class', 'attackID','Flags',\n",
    "                              'attackDescription', 'Src IP Addr', 'Dst IP Addr','Proto'], axis =1)"
   ]
  },
  {
   "cell_type": "code",
   "execution_count": 15,
   "metadata": {},
   "outputs": [],
   "source": [
    "#Aplit IP address into features, 7 features\n",
    "def split_to_net(IP_address):\n",
    "    IP_list = IP_address.split(\".\")\n",
    "    needed_len = 7\n",
    "    needed_len = needed_len - len(IP_list)\n",
    "    for i in range(0,needed_len,1):\n",
    "        IP_list.append('0')\n",
    "    return IP_list\n",
    "#replace unknown IP address, and convert to columns\n",
    "def IP_split(df): \n",
    "    replace = {\"ATTACKER1\":\"0.0.0.0\",\n",
    "           \"ATTACKER2\":\"0.0.0.0\",\n",
    "           \"ATTACKER3\":\"0.0.0.0\",\n",
    "           \"EXT_SERVER\": \"0.0.0.0.1\",\n",
    "          \"OPENSTACK_NET\": \"0.0.0.0.0.1\",\n",
    "          \"DNS\": \"0.0.0.0.0.0.1\"}\n",
    "    df = df.replace({\"Src IP Addr\": replace, \"Dst IP Addr\": replace}, value=None)\n",
    "    temp_source = df[\"Src IP Addr\"].apply(lambda x: \"0.0.0.0.0.0.0\" if ('_') in x else x)\n",
    "    temp_des = df['Dst IP Addr'].apply(lambda x: \"0.0.0.0.0.0.0\" if ('_') in x else x)\n",
    "   # sourceIP = list(df[\"Src IP Addr\"].unique())\n",
    "   # destIP = list(df[\"Dst IP Addr\"].unique())\n",
    "   # sourceIP_values = {}\n",
    "   # desIP_values = {}\n",
    "   # for i in sourceIP:\n",
    "   #      sourceIP_values[i] = (split_to_net(i))\n",
    "   # for i in destIP:\n",
    "   #      desIP_values[i] = (split_to_net(i))\n",
    "    #print(sourceIP_values)\n",
    "   # print(desIP_values)\n",
    "#for Source IP\n",
    "    temp_source = temp_source.apply(lambda x: split_to_net(x) )\n",
    "    temp_source = pd.DataFrame(temp_source.apply(list).tolist())\n",
    "    temp_source.columns = ['sourceIP_feature 1','sourceIP_feature 2','sourceIP_feature 3','sourceIP_feature 4' ,\n",
    "                    'sourceEXT_SERVER','sourceOPENSTACK_NET','sourceDNS']\n",
    "    for i in temp_source.columns:\n",
    "        temp_source[i] = pd.to_numeric(temp_source[i]);\n",
    "    temp_source = temp_source.reset_index(drop=True)\n",
    "    df = df.reset_index(drop=True)\n",
    "    df = pd.concat([df, temp_source], axis = 1)\n",
    "    #for Destination IP\n",
    "    temp_des = temp_des.apply(lambda x: split_to_net(x) )\n",
    "    temp_des = pd.DataFrame(temp_des.apply(list).tolist())\n",
    "    temp_des.columns = ['destIP_feature 1','destIP_feature 2','destIP_feature 3','destIP_feature 4' ,\n",
    "                    'destEXT_SERVER','destOPENSTACK_NET','destDNS']\n",
    "    for i in temp_des.columns:\n",
    "        temp_des[i] = pd.to_numeric(temp_des[i]);\n",
    "    temp_des = temp_des.reset_index(drop=True)\n",
    "    df = df.reset_index(drop=True)\n",
    "    df = pd.concat([df, temp_des], axis = 1)\n",
    "    return df;"
   ]
  },
  {
   "cell_type": "code",
   "execution_count": 16,
   "metadata": {},
   "outputs": [
    {
     "name": "stdout",
     "output_type": "stream",
     "text": [
      "59362\n"
     ]
    }
   ],
   "source": [
    "data = make_pair(data)\n",
    "data = check_inverse(data)"
   ]
  },
  {
   "cell_type": "code",
   "execution_count": 17,
   "metadata": {},
   "outputs": [],
   "source": [
    "#data = IP_split(data)"
   ]
  },
  {
   "cell_type": "code",
   "execution_count": 18,
   "metadata": {
    "scrolled": true
   },
   "outputs": [
    {
     "name": "stdout",
     "output_type": "stream",
     "text": [
      "Index(['Duration', 'Src Pt', 'Dst Pt', 'Packets', 'Bytes', 'Flows', 'Tos'], dtype='object')\n",
      "['---', 'bruteForce', 'dos', 'pingScan', 'portScan']\n",
      "[0, 1, 2, 3, 4]\n",
      "['GRE  ', 'ICMP ', 'IGMP ', 'TCP  ', 'UDP  ']\n",
      "[0, 1, 2, 3, 4]\n"
     ]
    },
    {
     "name": "stderr",
     "output_type": "stream",
     "text": [
      "C:\\Users\\hp\\Anaconda3\\lib\\site-packages\\sklearn\\preprocessing\\_encoders.py:415: FutureWarning: The handling of integer data will change in version 0.22. Currently, the categories are determined based on the range [0, max(values)], while in the future they will be determined based on the unique values.\n",
      "If you want the future behaviour and silence this warning, you can specify \"categories='auto'\".\n",
      "In case you used a LabelEncoder before this OneHotEncoder to convert the categories to integers, then you can now use the OneHotEncoder directly.\n",
      "  warnings.warn(msg, FutureWarning)\n"
     ]
    }
   ],
   "source": [
    "data = normalize(data)\n",
    "data =  one_shot(data) \n",
    "#data = normalize_IP(data)"
   ]
  },
  {
   "cell_type": "code",
   "execution_count": 19,
   "metadata": {},
   "outputs": [],
   "source": [
    "from datetime import datetime\n",
    "def unix_time(df):\n",
    "  #  df[' Timestamp'] = df[' Timestamp'].apply(lambda x: x + ':00' if len(x) != 19 else x)\n",
    "   # df[' Timestamp'] = df[' Timestamp'].apply(lambda x: x[0 : 5 : ] + x[7 : :] if len(x) != 19 else x[0 : 7 : ] + x[9 : :])\n",
    "    df['Date first seen'] = df['Date first seen'].apply(lambda x: datetime.strptime(x,'%Y-%m-%d %H:%M:%S.%f'))\n",
    "    df['Date first seen'] = df['Date first seen'].apply(lambda x: x.timestamp()*1000)\n",
    "    return df;"
   ]
  },
  {
   "cell_type": "code",
   "execution_count": 20,
   "metadata": {},
   "outputs": [],
   "source": [
    "def normal_profile(grouped):\n",
    "    grouped['---'] = unix_time(grouped['---'])\n",
    "    start_time = int(grouped['---'].head(1)['Date first seen'].values[0])\n",
    "    end_time = int(grouped['---'].tail(1)['Date first seen'].values[0])\n",
    "#date_bins = pd.IntervalIndex.from_tuples(\n",
    "#        [(i, i+3600000) for i in range(start_time, end_time, 3600000)],\n",
    "#        closed=\"left\")\n",
    "#date_labels = [f\"{i}\" for i in range(1, len(date_bins)+1, 1)]\n",
    "    normal_data = dict(tuple( grouped['---'].groupby( pd.cut(\n",
    "            grouped['---']['Date first seen'],\n",
    "               np.arange(start_time, end_time, 3*3600000)))))\n",
    "    del grouped['---']\n",
    "    num = []\n",
    "    for i in grouped_data.keys():\n",
    "          num.append(len(grouped_data[i]))\n",
    "    print(min(num))\n",
    "    num = max(num)\n",
    "    print(num)\n",
    "    print(len(grouped.keys()))\n",
    "    grouped = {**grouped, **normal_data}\n",
    "    print(len(grouped.keys()))\n",
    "    return grouped, num;"
   ]
  },
  {
   "cell_type": "code",
   "execution_count": 21,
   "metadata": {},
   "outputs": [
    {
     "data": {
      "text/plain": [
       "0"
      ]
     },
     "execution_count": 21,
     "metadata": {},
     "output_type": "execute_result"
    }
   ],
   "source": [
    "grouped_data= dict(tuple(data.groupby(['attackID'])))\n",
    "del data\n",
    "gc.collect()"
   ]
  },
  {
   "cell_type": "code",
   "execution_count": 22,
   "metadata": {
    "scrolled": true
   },
   "outputs": [
    {
     "name": "stdout",
     "output_type": "stream",
     "text": [
      "---: 7195669 : 0\n",
      "bruteForce : 26\n",
      "25: 201 : 1\n",
      "27: 680 : 1\n",
      "30: 46 : 1\n",
      "32: 335 : 1\n",
      "39: 364 : 1\n",
      "54: 183 : 1\n",
      "55: 757 : 1\n",
      "56: 427 : 1\n",
      "61: 705 : 1\n",
      "62: 574 : 1\n",
      "64: 480 : 1\n",
      "70: 240 : 1\n",
      "73: 200 : 1\n",
      "74: 200 : 1\n",
      "75: 200 : 1\n",
      "76: 168 : 1\n",
      "78: 200 : 1\n",
      "79: 200 : 1\n",
      "81: 200 : 1\n",
      "83: 200 : 1\n",
      "84: 200 : 1\n",
      "87: 200 : 1\n",
      "88: 200 : 1\n",
      "90: 200 : 1\n",
      "91: 40 : 1\n",
      "92: 40 : 1\n",
      "dos : 18\n",
      "16: 261003 : 2\n",
      "18: 295302 : 2\n",
      "23: 72788 : 2\n",
      "26: 74471 : 2\n",
      "28: 36306 : 2\n",
      "3: 37118 : 2\n",
      "31: 144845 : 2\n",
      "4: 72063 : 2\n",
      "42: 184040 : 2\n",
      "44: 261169 : 2\n",
      "45: 224960 : 2\n",
      "46: 111720 : 2\n",
      "53: 516299 : 2\n",
      "59: 110484 : 2\n",
      "6: 37134 : 2\n",
      "60: 333627 : 2\n",
      "63: 148641 : 2\n",
      "9: 37057 : 2\n",
      "pingScan: 16\n",
      "10: 311 : 3\n",
      "13: 513 : 3\n",
      "15: 64 : 3\n",
      "22: 295 : 3\n",
      "24: 466 : 3\n",
      "33: 307 : 3\n",
      "35: 263 : 3\n",
      "36: 494 : 3\n",
      "38: 267 : 3\n",
      "41: 379 : 3\n",
      "52: 607 : 3\n",
      "57: 522 : 3\n",
      "58: 510 : 3\n",
      "65: 373 : 3\n",
      "66: 359 : 3\n",
      "69: 360 : 3\n",
      "portScan : 32\n",
      "1: 7657 : 4\n",
      "11: 17401 : 4\n",
      "12: 11526 : 4\n",
      "14: 13807 : 4\n",
      "17: 13338 : 4\n",
      "19: 11672 : 4\n",
      "2: 1927 : 4\n",
      "20: 11748 : 4\n",
      "21: 5113 : 4\n",
      "29: 19732 : 4\n",
      "34: 12909 : 4\n",
      "37: 26114 : 4\n",
      "40: 11609 : 4\n",
      "43: 2143 : 4\n",
      "47: 13420 : 4\n",
      "48: 13600 : 4\n",
      "49: 17629 : 4\n",
      "5: 4948 : 4\n",
      "50: 4589 : 4\n",
      "51: 11968 : 4\n",
      "67: 13426 : 4\n",
      "68: 5632 : 4\n",
      "7: 9586 : 4\n",
      "71: 2008 : 4\n",
      "72: 2002 : 4\n",
      "77: 6410 : 4\n",
      "8: 4424 : 4\n",
      "80: 1991 : 4\n",
      "82: 1370 : 4\n",
      "85: 1984 : 4\n",
      "86: 2002 : 4\n",
      "89: 952 : 4\n"
     ]
    }
   ],
   "source": [
    "no_1 = []\n",
    "no_2 = []\n",
    "no_3 = []\n",
    "no_4 = []\n",
    "for i in grouped_data.keys():\n",
    "   \n",
    "    if grouped_data[i]['attackType'].unique()[0] == 0:\n",
    "        print(f\"{i}: {len(grouped_data[i])} : {grouped_data[i]['attackType'].unique()[0]}\")\n",
    "    if grouped_data[i]['attackType'].unique()[0] == 1:\n",
    "              no_1.append(i)\n",
    "    if grouped_data[i]['attackType'].unique()[0] == 2:\n",
    "              no_2.append(i)\n",
    "    if grouped_data[i]['attackType'].unique()[0] == 3:\n",
    "              no_3.append(i)\n",
    "    if grouped_data[i]['attackType'].unique()[0] == 4:\n",
    "              no_4.append(i)\n",
    "print(f\"bruteForce : {len(no_1)}\")\n",
    "for i in no_1:\n",
    "     print(f\"{i}: {len(grouped_data[i])} : {grouped_data[i]['attackType'].unique()[0]}\")\n",
    "print(f\"dos : {len(no_2)}\")\n",
    "for i in no_2:\n",
    "     print(f\"{i}: {len(grouped_data[i])} : {grouped_data[i]['attackType'].unique()[0]}\")\n",
    "print(f\"pingScan: {len(no_3)}\")\n",
    "for i in no_3:\n",
    "     print(f\"{i}: {len(grouped_data[i])} : {grouped_data[i]['attackType'].unique()[0]}\")\n",
    "print(f\"portScan : {len(no_4)}\")\n",
    "for i in no_4:\n",
    "     print(f\"{i}: {len(grouped_data[i])} : {grouped_data[i]['attackType'].unique()[0]}\")"
   ]
  },
  {
   "cell_type": "code",
   "execution_count": 23,
   "metadata": {},
   "outputs": [
    {
     "data": {
      "text/plain": [
       "20"
      ]
     },
     "execution_count": 23,
     "metadata": {},
     "output_type": "execute_result"
    }
   ],
   "source": [
    "del no_1\n",
    "del no_2\n",
    "del no_3\n",
    "del no_4\n",
    "gc.collect()"
   ]
  },
  {
   "cell_type": "code",
   "execution_count": 24,
   "metadata": {},
   "outputs": [],
   "source": [
    "def del_largeInstances(dic, length):\n",
    "    remove_ID = []\n",
    "    for i in dic.keys():\n",
    "        if (i != '---'):\n",
    "            if(len(dic[i]) >= length):\n",
    "                remove_ID.append(i)\n",
    "    print(len(remove_ID))\n",
    "    removed_attacks = {}\n",
    "    for i in remove_ID:\n",
    "        removed_attacks[i] = dic[i]\n",
    "        del dic[i]\n",
    "    return dic;"
   ]
  },
  {
   "cell_type": "code",
   "execution_count": 25,
   "metadata": {},
   "outputs": [
    {
     "name": "stdout",
     "output_type": "stream",
     "text": [
      "19\n"
     ]
    }
   ],
   "source": [
    "grouped_data = del_largeInstances(grouped_data, 20000)"
   ]
  },
  {
   "cell_type": "code",
   "execution_count": 26,
   "metadata": {},
   "outputs": [
    {
     "name": "stdout",
     "output_type": "stream",
     "text": [
      "40\n",
      "19732\n",
      "73\n",
      "350\n"
     ]
    }
   ],
   "source": [
    "#grouped_data, num = normal_profile(grouped_data)\n",
    "grouped_data1= {}\n",
    "for i in grouped_data.keys():\n",
    "    grouped_data[i] = flag_convert(grouped_data[i])\n",
    "   # grouped_data[i] =  drop_columns(grouped_data[i])\n",
    "grouped_data, num = normal_profile(grouped_data)\n",
    "for i in grouped_data.keys():\n",
    "   # grouped_data[i] = flag_convert(grouped_data[i])\n",
    "    grouped_data[i] =  drop_columns(grouped_data[i])"
   ]
  },
  {
   "cell_type": "code",
   "execution_count": 27,
   "metadata": {},
   "outputs": [
    {
     "name": "stdout",
     "output_type": "stream",
     "text": [
      "1 : False\n",
      "10 : False\n",
      "11 : False\n",
      "12 : False\n",
      "13 : False\n",
      "14 : False\n",
      "15 : False\n",
      "17 : False\n",
      "19 : False\n",
      "2 : False\n",
      "20 : False\n",
      "21 : False\n",
      "22 : False\n",
      "24 : False\n",
      "25 : False\n",
      "27 : False\n",
      "29 : False\n",
      "30 : False\n",
      "32 : False\n",
      "33 : False\n",
      "34 : False\n",
      "35 : False\n",
      "36 : False\n",
      "38 : False\n",
      "39 : False\n",
      "40 : False\n",
      "41 : False\n",
      "43 : False\n",
      "47 : False\n",
      "48 : False\n",
      "49 : False\n",
      "5 : False\n",
      "50 : False\n",
      "51 : False\n",
      "52 : False\n",
      "54 : False\n",
      "55 : False\n",
      "56 : False\n",
      "57 : False\n",
      "58 : False\n",
      "61 : False\n",
      "62 : False\n",
      "64 : False\n",
      "65 : False\n",
      "66 : False\n",
      "67 : False\n",
      "68 : False\n",
      "69 : False\n",
      "7 : False\n",
      "70 : False\n",
      "71 : False\n",
      "72 : False\n",
      "73 : False\n",
      "74 : False\n",
      "75 : False\n",
      "76 : False\n",
      "77 : False\n",
      "78 : False\n",
      "79 : False\n",
      "8 : False\n",
      "80 : False\n",
      "81 : False\n",
      "82 : False\n",
      "83 : False\n",
      "84 : False\n",
      "85 : False\n",
      "86 : False\n",
      "87 : False\n",
      "88 : False\n",
      "89 : False\n",
      "90 : False\n",
      "91 : False\n",
      "92 : False\n",
      "(1489536076632, 1489546876632] : False\n",
      "(1489546876632, 1489557676632] : False\n",
      "(1489557676632, 1489568476632] : False\n",
      "(1489568476632, 1489579276632] : False\n",
      "(1489579276632, 1489590076632] : False\n",
      "(1489590076632, 1489600876632] : False\n",
      "(1489600876632, 1489611676632] : False\n",
      "(1489611676632, 1489622476632] : False\n",
      "(1489622476632, 1489633276632] : False\n",
      "(1489633276632, 1489644076632] : False\n",
      "(1489644076632, 1489654876632] : False\n",
      "(1489654876632, 1489665676632] : False\n",
      "(1489665676632, 1489676476632] : False\n",
      "(1489676476632, 1489687276632] : False\n",
      "(1489687276632, 1489698076632] : False\n",
      "(1489698076632, 1489708876632] : False\n",
      "(1489708876632, 1489719676632] : False\n",
      "(1489719676632, 1489730476632] : False\n",
      "(1489730476632, 1489741276632] : False\n",
      "(1489741276632, 1489752076632] : False\n",
      "(1489752076632, 1489762876632] : False\n",
      "(1489762876632, 1489773676632] : False\n",
      "(1489773676632, 1489784476632] : False\n",
      "(1489784476632, 1489795276632] : False\n",
      "(1489795276632, 1489806076632] : False\n",
      "(1489806076632, 1489816876632] : False\n",
      "(1489816876632, 1489827676632] : False\n",
      "(1489827676632, 1489838476632] : False\n",
      "(1489838476632, 1489849276632] : False\n",
      "(1489849276632, 1489860076632] : False\n",
      "(1489860076632, 1489870876632] : False\n",
      "(1489870876632, 1489881676632] : False\n",
      "(1489881676632, 1489892476632] : False\n",
      "(1489892476632, 1489903276632] : False\n",
      "(1489903276632, 1489914076632] : False\n",
      "(1489914076632, 1489924876632] : False\n",
      "(1489924876632, 1489935676632] : False\n",
      "(1489935676632, 1489946476632] : False\n",
      "(1489946476632, 1489957276632] : False\n",
      "(1489957276632, 1489968076632] : False\n",
      "(1489968076632, 1489978876632] : False\n",
      "(1489978876632, 1489989676632] : False\n",
      "(1489989676632, 1490000476632] : False\n",
      "(1490000476632, 1490011276632] : False\n",
      "(1490011276632, 1490022076632] : False\n",
      "(1490022076632, 1490032876632] : False\n",
      "(1490032876632, 1490043676632] : False\n",
      "(1490043676632, 1490054476632] : False\n",
      "(1490054476632, 1490065276632] : False\n",
      "(1490065276632, 1490076076632] : False\n",
      "(1490076076632, 1490086876632] : False\n",
      "(1490086876632, 1490097676632] : False\n",
      "(1490097676632, 1490108476632] : False\n",
      "(1490108476632, 1490119276632] : False\n",
      "(1490119276632, 1490130076632] : False\n",
      "(1490130076632, 1490140876632] : False\n",
      "(1490140876632, 1490151676632] : False\n",
      "(1490151676632, 1490162476632] : False\n",
      "(1490162476632, 1490173276632] : False\n",
      "(1490173276632, 1490184076632] : False\n",
      "(1490184076632, 1490194876632] : False\n",
      "(1490194876632, 1490205676632] : False\n",
      "(1490205676632, 1490216476632] : False\n",
      "(1490216476632, 1490227276632] : False\n",
      "(1490227276632, 1490238076632] : False\n",
      "(1490238076632, 1490248876632] : False\n",
      "(1490248876632, 1490259676632] : False\n",
      "(1490259676632, 1490270476632] : False\n",
      "(1490270476632, 1490281276632] : False\n",
      "(1490281276632, 1490292076632] : False\n",
      "(1490292076632, 1490302876632] : False\n",
      "(1490302876632, 1490313676632] : False\n",
      "(1490313676632, 1490324476632] : False\n",
      "(1490324476632, 1490335276632] : False\n",
      "(1490335276632, 1490346076632] : False\n",
      "(1490346076632, 1490356876632] : False\n",
      "(1490356876632, 1490367676632] : False\n",
      "(1490367676632, 1490378476632] : False\n",
      "(1490378476632, 1490389276632] : False\n",
      "(1490389276632, 1490400076632] : False\n",
      "(1490400076632, 1490410876632] : False\n",
      "(1490410876632, 1490421676632] : False\n",
      "(1490421676632, 1490432476632] : False\n",
      "(1490432476632, 1490443276632] : False\n",
      "(1490443276632, 1490454076632] : False\n",
      "(1490454076632, 1490464876632] : False\n",
      "(1490464876632, 1490475676632] : False\n",
      "(1490475676632, 1490486476632] : False\n",
      "(1490486476632, 1490497276632] : False\n",
      "(1490497276632, 1490508076632] : False\n",
      "(1490508076632, 1490518876632] : False\n",
      "(1490518876632, 1490529676632] : False\n",
      "(1490529676632, 1490540476632] : False\n",
      "(1490540476632, 1490551276632] : False\n",
      "(1490551276632, 1490562076632] : False\n",
      "(1490562076632, 1490572876632] : False\n",
      "(1490572876632, 1490583676632] : False\n",
      "(1490583676632, 1490594476632] : False\n",
      "(1490594476632, 1490605276632] : False\n",
      "(1490605276632, 1490616076632] : False\n",
      "(1490616076632, 1490626876632] : False\n",
      "(1490626876632, 1490637676632] : False\n",
      "(1490637676632, 1490648476632] : False\n",
      "(1490648476632, 1490659276632] : False\n",
      "(1490659276632, 1490670076632] : False\n",
      "(1490670076632, 1490680876632] : False\n",
      "(1490680876632, 1490691676632] : False\n",
      "(1490691676632, 1490702476632] : False\n",
      "(1490702476632, 1490713276632] : False\n",
      "(1490713276632, 1490724076632] : False\n",
      "(1490724076632, 1490734876632] : False\n",
      "(1490734876632, 1490745676632] : False\n",
      "(1490745676632, 1490756476632] : False\n",
      "(1490756476632, 1490767276632] : False\n",
      "(1490767276632, 1490778076632] : False\n",
      "(1490778076632, 1490788876632] : False\n",
      "(1490788876632, 1490799676632] : False\n",
      "(1490799676632, 1490810476632] : False\n",
      "(1490810476632, 1490821276632] : False\n",
      "(1490821276632, 1490832076632] : False\n",
      "(1490832076632, 1490842876632] : False\n",
      "(1490842876632, 1490853676632] : False\n",
      "(1490853676632, 1490864476632] : False\n",
      "(1490864476632, 1490875276632] : False\n",
      "(1490875276632, 1490886076632] : False\n",
      "(1490886076632, 1490896876632] : False\n",
      "(1490896876632, 1490907676632] : False\n",
      "(1490907676632, 1490918476632] : False\n",
      "(1490918476632, 1490929276632] : False\n",
      "(1490929276632, 1490940076632] : False\n",
      "(1490940076632, 1490950876632] : False\n",
      "(1490950876632, 1490961676632] : False\n",
      "(1490961676632, 1490972476632] : False\n",
      "(1490972476632, 1490983276632] : False\n",
      "(1490983276632, 1490994076632] : False\n",
      "(1490994076632, 1491004876632] : False\n",
      "(1491004876632, 1491015676632] : False\n",
      "(1491015676632, 1491026476632] : False\n",
      "(1491026476632, 1491037276632] : False\n",
      "(1491037276632, 1491048076632] : False\n",
      "(1491048076632, 1491058876632] : False\n",
      "(1491058876632, 1491069676632] : False\n",
      "(1491069676632, 1491080476632] : False\n",
      "(1491080476632, 1491091276632] : False\n",
      "(1491091276632, 1491102076632] : False\n",
      "(1491102076632, 1491112876632] : False\n",
      "(1491112876632, 1491123676632] : False\n",
      "(1491123676632, 1491134476632] : False\n",
      "(1491134476632, 1491145276632] : False\n",
      "(1491145276632, 1491156076632] : False\n",
      "(1491156076632, 1491166876632] : False\n",
      "(1491166876632, 1491177676632] : False\n",
      "(1491177676632, 1491188476632] : False\n",
      "(1491188476632, 1491199276632] : False\n",
      "(1491199276632, 1491210076632] : False\n",
      "(1491210076632, 1491220876632] : False\n",
      "(1491220876632, 1491231676632] : False\n",
      "(1491231676632, 1491242476632] : False\n",
      "(1491242476632, 1491253276632] : False\n",
      "(1491253276632, 1491264076632] : False\n",
      "(1491264076632, 1491274876632] : False\n",
      "(1491274876632, 1491285676632] : False\n",
      "(1491285676632, 1491296476632] : False\n",
      "(1491296476632, 1491307276632] : False\n",
      "(1491307276632, 1491318076632] : False\n",
      "(1491318076632, 1491328876632] : False\n",
      "(1491328876632, 1491339676632] : False\n",
      "(1491339676632, 1491350476632] : False\n",
      "(1491350476632, 1491361276632] : False\n",
      "(1491361276632, 1491372076632] : False\n",
      "(1491372076632, 1491382876632] : False\n",
      "(1491382876632, 1491393676632] : False\n",
      "(1491393676632, 1491404476632] : False\n",
      "(1491404476632, 1491415276632] : False\n",
      "(1491415276632, 1491426076632] : False\n",
      "(1491426076632, 1491436876632] : False\n",
      "(1491436876632, 1491447676632] : False\n",
      "(1491447676632, 1491458476632] : False\n",
      "(1491458476632, 1491469276632] : False\n",
      "(1491469276632, 1491480076632] : False\n",
      "(1491480076632, 1491490876632] : False\n",
      "(1491490876632, 1491501676632] : False\n",
      "(1491501676632, 1491512476632] : False\n",
      "(1491512476632, 1491523276632] : False\n",
      "(1491523276632, 1491534076632] : False\n",
      "(1491534076632, 1491544876632] : False\n",
      "(1491544876632, 1491555676632] : False\n",
      "(1491555676632, 1491566476632] : False\n",
      "(1491566476632, 1491577276632] : False\n",
      "(1491577276632, 1491588076632] : False\n",
      "(1491588076632, 1491598876632] : False\n",
      "(1491598876632, 1491609676632] : False\n",
      "(1491609676632, 1491620476632] : False\n",
      "(1491620476632, 1491631276632] : False\n",
      "(1491631276632, 1491642076632] : False\n",
      "(1491642076632, 1491652876632] : False\n",
      "(1491652876632, 1491663676632] : False\n",
      "(1491663676632, 1491674476632] : False\n",
      "(1491674476632, 1491685276632] : False\n",
      "(1491685276632, 1491696076632] : False\n",
      "(1491696076632, 1491706876632] : False\n",
      "(1491706876632, 1491717676632] : False\n",
      "(1491717676632, 1491728476632] : False\n",
      "(1491728476632, 1491739276632] : False\n",
      "(1491739276632, 1491750076632] : False\n",
      "(1491750076632, 1491760876632] : False\n",
      "(1491760876632, 1491771676632] : False\n",
      "(1491771676632, 1491782476632] : False\n",
      "(1491782476632, 1491793276632] : False\n",
      "(1491793276632, 1491804076632] : False\n",
      "(1491804076632, 1491814876632] : False\n",
      "(1491814876632, 1491825676632] : False\n",
      "(1491825676632, 1491836476632] : False\n",
      "(1491836476632, 1491847276632] : False\n",
      "(1491847276632, 1491858076632] : False\n",
      "(1491858076632, 1491868876632] : False\n",
      "(1491868876632, 1491879676632] : False\n",
      "(1491879676632, 1491890476632] : False\n",
      "(1491890476632, 1491901276632] : False\n",
      "(1491901276632, 1491912076632] : False\n",
      "(1491912076632, 1491922876632] : False\n",
      "(1491922876632, 1491933676632] : False\n",
      "(1491933676632, 1491944476632] : False\n",
      "(1491944476632, 1491955276632] : False\n",
      "(1491955276632, 1491966076632] : False\n",
      "(1491966076632, 1491976876632] : False\n",
      "(1491976876632, 1491987676632] : False\n",
      "(1491987676632, 1491998476632] : False\n",
      "(1491998476632, 1492009276632] : False\n",
      "(1492009276632, 1492020076632] : False\n",
      "(1492020076632, 1492030876632] : False\n",
      "(1492030876632, 1492041676632] : False\n",
      "(1492041676632, 1492052476632] : False\n",
      "(1492052476632, 1492063276632] : False\n",
      "(1492063276632, 1492074076632] : False\n",
      "(1492074076632, 1492084876632] : False\n",
      "(1492084876632, 1492095676632] : False\n",
      "(1492095676632, 1492106476632] : False\n"
     ]
    },
    {
     "name": "stdout",
     "output_type": "stream",
     "text": [
      "(1492106476632, 1492117276632] : False\n",
      "(1492117276632, 1492128076632] : False\n",
      "(1492128076632, 1492138876632] : False\n",
      "(1492138876632, 1492149676632] : False\n",
      "(1492149676632, 1492160476632] : False\n",
      "(1492160476632, 1492171276632] : False\n",
      "(1492171276632, 1492182076632] : False\n",
      "(1492182076632, 1492192876632] : False\n",
      "(1492192876632, 1492203676632] : False\n",
      "(1492203676632, 1492214476632] : False\n",
      "(1492214476632, 1492225276632] : False\n",
      "(1492225276632, 1492236076632] : False\n",
      "(1492236076632, 1492246876632] : False\n",
      "(1492246876632, 1492257676632] : False\n",
      "(1492257676632, 1492268476632] : False\n",
      "(1492268476632, 1492279276632] : False\n",
      "(1492279276632, 1492290076632] : False\n",
      "(1492290076632, 1492300876632] : False\n",
      "(1492300876632, 1492311676632] : False\n",
      "(1492311676632, 1492322476632] : False\n",
      "(1492322476632, 1492333276632] : False\n",
      "(1492333276632, 1492344076632] : False\n",
      "(1492344076632, 1492354876632] : False\n",
      "(1492354876632, 1492365676632] : False\n",
      "(1492365676632, 1492376476632] : False\n",
      "(1492376476632, 1492387276632] : False\n",
      "(1492387276632, 1492398076632] : False\n",
      "(1492398076632, 1492408876632] : False\n",
      "(1492408876632, 1492419676632] : False\n",
      "(1492419676632, 1492430476632] : False\n",
      "(1492430476632, 1492441276632] : False\n",
      "(1492441276632, 1492452076632] : False\n",
      "(1492452076632, 1492462876632] : False\n",
      "(1492462876632, 1492473676632] : False\n",
      "(1492473676632, 1492484476632] : False\n",
      "(1492484476632, 1492495276632] : False\n",
      "(1492495276632, 1492506076632] : False\n",
      "(1492506076632, 1492516876632] : False\n",
      "(1492516876632, 1492527676632] : False\n"
     ]
    }
   ],
   "source": [
    "for i in grouped_data.keys():\n",
    "    #if (grouped_data[i].hasnull())\n",
    "    print(f'{i} : {grouped_data[i].isnull().values.any()}')"
   ]
  },
  {
   "cell_type": "code",
   "execution_count": 28,
   "metadata": {},
   "outputs": [],
   "source": [
    "#grouped_data['34']"
   ]
  },
  {
   "cell_type": "code",
   "execution_count": 29,
   "metadata": {},
   "outputs": [
    {
     "name": "stdout",
     "output_type": "stream",
     "text": [
      "167\n"
     ]
    }
   ],
   "source": [
    "counter = 0\n",
    "for i in grouped_data.keys():\n",
    "    if ( len(grouped_data[i]) == 0):\n",
    "        counter = counter +1;\n",
    "print(counter)"
   ]
  },
  {
   "cell_type": "code",
   "execution_count": 30,
   "metadata": {},
   "outputs": [],
   "source": [
    "#Remove columns that were not listed in cfs list\n",
    "selected_features = ['Bytes', 'Src Pt', 'Dst Pt', 'Duration', 'Packets', 'Tos', 'TCP  ',\n",
    "       'UDP  ', 'ICMP ', 'attackType']\n",
    "for i in grouped_data.keys():\n",
    "    if ( len(grouped_data[i]) != 0):\n",
    "        grouped_data[i] = grouped_data[i][selected_features]"
   ]
  },
  {
   "cell_type": "code",
   "execution_count": 31,
   "metadata": {},
   "outputs": [],
   "source": [
    "def roundup(x):\n",
    "    return x if x % 100 == 0 else x + 100 - x % 100\n",
    "#Convert to 3D arrays, input dict\n",
    "def make_array(dic):\n",
    "    x = []\n",
    "    y = []\n",
    "    zero_arrays = []\n",
    "    for i in dic.keys():\n",
    "        if ( len(dic[i]) == 0):\n",
    "            zero_arrays.append(i);\n",
    "    for i in zero_arrays:\n",
    "        del dic[i]\n",
    "    for i in dic.keys():\n",
    "        x.append(np.array(dic[i].drop(['attackType'],axis = 1)).astype(np.float32))\n",
    "       # print(f'{i}')\n",
    "        y.append(dic[i]['attackType'].values[0])\n",
    "    print(len(y))\n",
    "    o = []\n",
    "    features = len(x[1][1])\n",
    "    #for i in x:\n",
    "     #   o.append(len(i))\n",
    "   # print(min(o))\n",
    "    o = num\n",
    "    o = roundup(o)\n",
    "    print(o)\n",
    "    index = 0\n",
    "    for i in x:\n",
    "        l = len(i)\n",
    "        i = list(i)\n",
    "        if(o > l):\n",
    "            l = o-l\n",
    "            for j in range(0, l, 1):\n",
    "                i.append([0] * features)\n",
    "        elif (o<l):\n",
    "            l = l-o\n",
    "            i = i[:-l]\n",
    "        #i = [k = np.array([k]) for l in i for k in l] # Makes array elements an array \n",
    "        x[index] = np.array(i).astype(np.float32)\n",
    "        index = index + 1\n",
    "    #x = [[i] for i in x]\n",
    "    return x,y"
   ]
  },
  {
   "cell_type": "code",
   "execution_count": 32,
   "metadata": {},
   "outputs": [
    {
     "name": "stdout",
     "output_type": "stream",
     "text": [
      "183\n",
      "19800\n"
     ]
    }
   ],
   "source": [
    "X,Y = make_array(grouped_data)\n",
    "del grouped_data\n",
    "gc.collect()\n",
    "Y = np.array(Y)\n",
    "X = np.array(X)"
   ]
  },
  {
   "cell_type": "code",
   "execution_count": 33,
   "metadata": {},
   "outputs": [
    {
     "data": {
      "text/plain": [
       "{0: 110, 1: 26, 3: 16, 4: 31}"
      ]
     },
     "execution_count": 33,
     "metadata": {},
     "output_type": "execute_result"
    }
   ],
   "source": [
    "unique, counts = np.unique(Y, return_counts=True)\n",
    "dict(zip(unique, counts))"
   ]
  },
  {
   "cell_type": "code",
   "execution_count": null,
   "metadata": {
    "scrolled": true
   },
   "outputs": [],
   "source": []
  },
  {
   "cell_type": "code",
   "execution_count": 34,
   "metadata": {},
   "outputs": [],
   "source": [
    "def make_4D(arr):\n",
    "    x = []\n",
    "    for i in range(0, len(arr),1):\n",
    "        temp = []\n",
    "        for j in range(0,len(arr[i]),1):\n",
    "             temp.append([np.array([k]) for k in arr[i][j]])\n",
    "        x.append(np.array(temp).astype(np.float32))\n",
    "    return np.array(x).astype(np.float32)"
   ]
  },
  {
   "cell_type": "code",
   "execution_count": 35,
   "metadata": {},
   "outputs": [],
   "source": [
    "#X = make_4D(X)"
   ]
  },
  {
   "cell_type": "code",
   "execution_count": 36,
   "metadata": {},
   "outputs": [],
   "source": [
    "from sklearn.model_selection import train_test_split\n",
    "from sklearn.tree import DecisionTreeClassifier\n",
    "X_train, X_test, Y_train, Y_test = train_test_split(X,Y , test_size=0.2, random_state=0,  stratify=Y)"
   ]
  },
  {
   "cell_type": "code",
   "execution_count": 37,
   "metadata": {},
   "outputs": [
    {
     "data": {
      "text/plain": [
       "100"
      ]
     },
     "execution_count": 37,
     "metadata": {},
     "output_type": "execute_result"
    }
   ],
   "source": [
    "del X,Y\n",
    "gc.collect()"
   ]
  },
  {
   "cell_type": "code",
   "execution_count": 38,
   "metadata": {},
   "outputs": [
    {
     "data": {
      "text/plain": [
       "{0: 88, 1: 21, 3: 13, 4: 24}"
      ]
     },
     "execution_count": 38,
     "metadata": {},
     "output_type": "execute_result"
    }
   ],
   "source": [
    "unique, counts = np.unique(Y_train, return_counts=True)\n",
    "dict(zip(unique, counts))"
   ]
  },
  {
   "cell_type": "code",
   "execution_count": 39,
   "metadata": {},
   "outputs": [
    {
     "data": {
      "text/plain": [
       "{0: 22, 1: 5, 3: 3, 4: 7}"
      ]
     },
     "execution_count": 39,
     "metadata": {},
     "output_type": "execute_result"
    }
   ],
   "source": [
    "unique, counts = np.unique(Y_test, return_counts=True)\n",
    "dict(zip(unique, counts))"
   ]
  },
  {
   "cell_type": "code",
   "execution_count": 40,
   "metadata": {},
   "outputs": [
    {
     "name": "stdout",
     "output_type": "stream",
     "text": [
      "False\n",
      "False\n",
      "False\n",
      "False\n",
      "False\n",
      "False\n",
      "False\n",
      "False\n",
      "False\n",
      "False\n",
      "False\n",
      "False\n",
      "False\n",
      "False\n",
      "False\n",
      "False\n",
      "False\n",
      "False\n",
      "False\n",
      "False\n",
      "False\n",
      "False\n",
      "False\n",
      "False\n",
      "False\n",
      "False\n",
      "False\n",
      "False\n",
      "False\n",
      "False\n",
      "False\n",
      "False\n",
      "False\n",
      "False\n",
      "False\n",
      "False\n",
      "False\n",
      "False\n",
      "False\n",
      "False\n",
      "False\n",
      "False\n",
      "False\n",
      "False\n",
      "False\n",
      "False\n",
      "False\n",
      "False\n",
      "False\n",
      "False\n",
      "False\n",
      "False\n",
      "False\n",
      "False\n",
      "False\n",
      "False\n",
      "False\n",
      "False\n",
      "False\n",
      "False\n",
      "False\n",
      "False\n",
      "False\n",
      "False\n",
      "False\n",
      "False\n",
      "False\n",
      "False\n",
      "False\n",
      "False\n",
      "False\n",
      "False\n",
      "False\n",
      "False\n",
      "False\n",
      "False\n",
      "False\n",
      "False\n",
      "False\n",
      "False\n",
      "False\n",
      "False\n",
      "False\n",
      "False\n",
      "False\n",
      "False\n",
      "False\n",
      "False\n",
      "False\n",
      "False\n",
      "False\n",
      "False\n",
      "False\n",
      "False\n",
      "False\n",
      "False\n",
      "False\n",
      "False\n",
      "False\n",
      "False\n",
      "False\n",
      "False\n",
      "False\n",
      "False\n",
      "False\n",
      "False\n",
      "False\n",
      "False\n",
      "False\n",
      "False\n",
      "False\n",
      "False\n",
      "False\n",
      "False\n",
      "False\n",
      "False\n",
      "False\n",
      "False\n",
      "False\n",
      "False\n",
      "False\n",
      "False\n",
      "False\n",
      "False\n",
      "False\n",
      "False\n",
      "False\n",
      "False\n",
      "False\n",
      "False\n",
      "False\n",
      "False\n",
      "False\n",
      "False\n",
      "False\n",
      "False\n",
      "False\n",
      "False\n",
      "False\n",
      "False\n",
      "False\n",
      "False\n",
      "False\n",
      "False\n",
      "False\n",
      "False\n"
     ]
    }
   ],
   "source": [
    "for i in X_train:\n",
    "    print(f'{np.isnan(i).any()}')"
   ]
  },
  {
   "cell_type": "code",
   "execution_count": 41,
   "metadata": {},
   "outputs": [],
   "source": [
    "import tensorflow as tf\n",
    "from tensorflow import keras\n",
    "from tensorflow.keras.layers import Embedding, Dense, LSTM, Dropout, Masking, Flatten, Input, Bidirectional, BatchNormalization\n",
    "from tensorflow.keras.losses import BinaryCrossentropy\n",
    "from tensorflow.keras.models import Sequential\n",
    "from tensorflow.keras.optimizers import Adam\n",
    "from tensorflow.keras.preprocessing.sequence import pad_sequences\n",
    "from keras.layers import Dense, Conv2D, MaxPooling1D, Dropout, Flatten, Conv1D, MaxPooling2D\n",
    "from tensorflow.keras.models import Model"
   ]
  },
  {
   "cell_type": "code",
   "execution_count": 42,
   "metadata": {},
   "outputs": [
    {
     "name": "stdout",
     "output_type": "stream",
     "text": [
      "samples: 146 \n",
      " X:19800 \n",
      " Y:9 \n",
      " \n"
     ]
    }
   ],
   "source": [
    "nsamples,nx, ny = X_train.shape\n",
    "print(f\"samples: {nsamples} \\n X:{nx} \\n Y:{ny} \\n \" )"
   ]
  },
  {
   "cell_type": "code",
   "execution_count": 43,
   "metadata": {},
   "outputs": [
    {
     "data": {
      "text/plain": [
       "(19800, 9)"
      ]
     },
     "execution_count": 43,
     "metadata": {},
     "output_type": "execute_result"
    }
   ],
   "source": [
    "X_train.shape[1:]"
   ]
  },
  {
   "cell_type": "code",
   "execution_count": 44,
   "metadata": {},
   "outputs": [],
   "source": [
    "from keras.callbacks import EarlyStopping\n",
    "from keras.callbacks import ModelCheckpoint, LambdaCallback\n",
    "wie_by_epoch = []\n",
    "model_check = ModelCheckpoint(\"/models/Testpoints/best_model.hdf5\", monitor='loss', verbose=0, save_best_only=True, mode='min', save_freq=1)\n",
    "print_weights = LambdaCallback(on_epoch_end=lambda batch, logs:wie_by_epoch.append(model.get_weights()))\n",
    "callback = tf.keras.callbacks.EarlyStopping(monitor='loss', patience=10, verbose= 2)"
   ]
  },
  {
   "cell_type": "code",
   "execution_count": 45,
   "metadata": {
    "scrolled": true
   },
   "outputs": [],
   "source": [
    "# Build a model for only the feature extraction layers\n",
    "feature_extractor = Sequential()\n",
    "feature_extractor.add(Conv1D(128, 2, activation='relu', input_shape=X_train.shape[1:]))\n",
    "feature_extractor.add(MaxPooling1D(pool_size= 2))\n",
    "feature_extractor.add(Conv1D(64, 2, activation='relu', input_shape=X_train.shape[1:]))\n",
    "feature_extractor.add(MaxPooling1D(pool_size= 2))\n",
    "feature_extractor.add(Conv1D(32, 2, activation='relu', input_shape=X_train.shape[1:]))\n",
    "feature_extractor.add(MaxPooling1D(pool_size= 2))\n",
    "feature_extractor.add(Flatten())\n",
    "# Keep adding new layers for prediciton outside of feature extraction model\n",
    "x = feature_extractor.output\n",
    "#x = Dense(64, activation = 'relu')(x)\n",
    "prediction_layer = Dense(5, activation = 'softmax')(x)"
   ]
  },
  {
   "cell_type": "code",
   "execution_count": 46,
   "metadata": {},
   "outputs": [],
   "source": [
    "model=Model(inputs=feature_extractor.input, outputs=prediction_layer)\n",
    "model.compile(optimizer= 'rmsprop', loss='sparse_categorical_crossentropy',  metrics=[keras.metrics.SparseCategoricalAccuracy()])\n"
   ]
  },
  {
   "cell_type": "code",
   "execution_count": 47,
   "metadata": {
    "scrolled": true
   },
   "outputs": [
    {
     "data": {
      "text/plain": [
       "(None, 5)"
      ]
     },
     "execution_count": 47,
     "metadata": {},
     "output_type": "execute_result"
    }
   ],
   "source": [
    "model.build(input_shape = (nx,ny))\n",
    "model.output_shape"
   ]
  },
  {
   "cell_type": "code",
   "execution_count": 48,
   "metadata": {},
   "outputs": [
    {
     "data": {
      "text/plain": [
       "790"
      ]
     },
     "execution_count": 48,
     "metadata": {},
     "output_type": "execute_result"
    }
   ],
   "source": [
    "#del model, wie_by_epoch\n",
    "\n",
    "gc.collect()"
   ]
  },
  {
   "cell_type": "code",
   "execution_count": 49,
   "metadata": {},
   "outputs": [
    {
     "name": "stdout",
     "output_type": "stream",
     "text": [
      "Model: \"model\"\n",
      "_________________________________________________________________\n",
      "Layer (type)                 Output Shape              Param #   \n",
      "=================================================================\n",
      "conv1d_input (InputLayer)    [(None, 19800, 9)]        0         \n",
      "_________________________________________________________________\n",
      "conv1d (Conv1D)              (None, 19799, 128)        2432      \n",
      "_________________________________________________________________\n",
      "max_pooling1d (MaxPooling1D) (None, 9899, 128)         0         \n",
      "_________________________________________________________________\n",
      "conv1d_1 (Conv1D)            (None, 9898, 64)          16448     \n",
      "_________________________________________________________________\n",
      "max_pooling1d_1 (MaxPooling1 (None, 4949, 64)          0         \n",
      "_________________________________________________________________\n",
      "conv1d_2 (Conv1D)            (None, 4948, 32)          4128      \n",
      "_________________________________________________________________\n",
      "max_pooling1d_2 (MaxPooling1 (None, 2474, 32)          0         \n",
      "_________________________________________________________________\n",
      "flatten (Flatten)            (None, 79168)             0         \n",
      "_________________________________________________________________\n",
      "dense (Dense)                (None, 5)                 395845    \n",
      "=================================================================\n",
      "Total params: 418,853\n",
      "Trainable params: 418,853\n",
      "Non-trainable params: 0\n",
      "_________________________________________________________________\n"
     ]
    }
   ],
   "source": [
    "#model.build(input_shape = (nx,ny))\n",
    "model.summary()\n"
   ]
  },
  {
   "cell_type": "code",
   "execution_count": 50,
   "metadata": {
    "scrolled": true
   },
   "outputs": [
    {
     "data": {
      "text/plain": [
       "[array([[[-0.07470613, -0.13791734,  0.13623634, ...,  0.0933741 ,\n",
       "          -0.0399172 ,  0.10712397],\n",
       "         [-0.01301582,  0.00028345,  0.01860538, ..., -0.08268587,\n",
       "           0.09232442, -0.13112417],\n",
       "         [ 0.14673868,  0.13491932, -0.07813269, ...,  0.05875179,\n",
       "          -0.12639534, -0.1248734 ],\n",
       "         ...,\n",
       "         [ 0.02672885,  0.06764397, -0.11861668, ...,  0.09736907,\n",
       "           0.08081312,  0.09982078],\n",
       "         [ 0.07095203,  0.07212724,  0.05510509, ..., -0.0401709 ,\n",
       "           0.01450683, -0.07244268],\n",
       "         [ 0.09631276,  0.10499209, -0.04712965, ...,  0.08031665,\n",
       "           0.00369604, -0.06490042]],\n",
       " \n",
       "        [[ 0.10853809,  0.03185931, -0.03104202, ..., -0.12907138,\n",
       "           0.08471559,  0.10735554],\n",
       "         [ 0.13780418,  0.0091396 , -0.13314122, ...,  0.11482146,\n",
       "           0.08258939, -0.0163437 ],\n",
       "         [ 0.09109259,  0.08705626, -0.00308307, ...,  0.0617414 ,\n",
       "          -0.09829012, -0.01341781],\n",
       "         ...,\n",
       "         [-0.08862419,  0.02972597, -0.00254627, ..., -0.11245497,\n",
       "          -0.11693151, -0.01293029],\n",
       "         [ 0.07194659, -0.08654183, -0.14329031, ..., -0.08734988,\n",
       "          -0.05529299,  0.07882765],\n",
       "         [ 0.00377986, -0.0318519 ,  0.13247067, ...,  0.07850116,\n",
       "          -0.04089836, -0.07832998]]], dtype=float32),\n",
       " array([0., 0., 0., 0., 0., 0., 0., 0., 0., 0., 0., 0., 0., 0., 0., 0., 0.,\n",
       "        0., 0., 0., 0., 0., 0., 0., 0., 0., 0., 0., 0., 0., 0., 0., 0., 0.,\n",
       "        0., 0., 0., 0., 0., 0., 0., 0., 0., 0., 0., 0., 0., 0., 0., 0., 0.,\n",
       "        0., 0., 0., 0., 0., 0., 0., 0., 0., 0., 0., 0., 0., 0., 0., 0., 0.,\n",
       "        0., 0., 0., 0., 0., 0., 0., 0., 0., 0., 0., 0., 0., 0., 0., 0., 0.,\n",
       "        0., 0., 0., 0., 0., 0., 0., 0., 0., 0., 0., 0., 0., 0., 0., 0., 0.,\n",
       "        0., 0., 0., 0., 0., 0., 0., 0., 0., 0., 0., 0., 0., 0., 0., 0., 0.,\n",
       "        0., 0., 0., 0., 0., 0., 0., 0., 0.], dtype=float32),\n",
       " array([[[ 0.05878824, -0.05991772,  0.0121614 , ..., -0.05378738,\n",
       "           0.0492264 , -0.11524335],\n",
       "         [ 0.03982431,  0.10905954,  0.04515454, ...,  0.00898716,\n",
       "           0.02438924, -0.10454321],\n",
       "         [-0.00118792,  0.11401355,  0.05676347, ...,  0.01671204,\n",
       "           0.01900035, -0.01842877],\n",
       "         ...,\n",
       "         [ 0.05845681,  0.08160141,  0.07354775, ...,  0.04092991,\n",
       "           0.01999846, -0.0880096 ],\n",
       "         [-0.00577071,  0.00075036,  0.04599896, ..., -0.00266209,\n",
       "          -0.02296489,  0.0307053 ],\n",
       "         [-0.00248092,  0.02812079,  0.07089105, ...,  0.03682709,\n",
       "          -0.06552455, -0.09339863]],\n",
       " \n",
       "        [[-0.04903474, -0.019642  ,  0.06927013, ..., -0.0938929 ,\n",
       "          -0.04896763,  0.08948624],\n",
       "         [ 0.03353503, -0.04629827, -0.04594672, ...,  0.03268233,\n",
       "           0.08150852,  0.05119768],\n",
       "         [ 0.03808329, -0.02632338,  0.00451535, ..., -0.11168978,\n",
       "          -0.03927764, -0.00681704],\n",
       "         ...,\n",
       "         [ 0.06265959,  0.05241096, -0.00956219, ...,  0.03096646,\n",
       "          -0.07307738,  0.03941041],\n",
       "         [-0.05808079,  0.07259068, -0.07343853, ...,  0.09647813,\n",
       "          -0.01713207, -0.11512697],\n",
       "         [ 0.0843859 , -0.09684226,  0.11543581, ...,  0.04653549,\n",
       "           0.04869714, -0.01363531]]], dtype=float32),\n",
       " array([0., 0., 0., 0., 0., 0., 0., 0., 0., 0., 0., 0., 0., 0., 0., 0., 0.,\n",
       "        0., 0., 0., 0., 0., 0., 0., 0., 0., 0., 0., 0., 0., 0., 0., 0., 0.,\n",
       "        0., 0., 0., 0., 0., 0., 0., 0., 0., 0., 0., 0., 0., 0., 0., 0., 0.,\n",
       "        0., 0., 0., 0., 0., 0., 0., 0., 0., 0., 0., 0., 0.], dtype=float32),\n",
       " array([[[-0.15122133,  0.02144849,  0.06248187, ...,  0.09829535,\n",
       "          -0.09378926, -0.00573707],\n",
       "         [ 0.0645503 ,  0.12498589, -0.16286676, ...,  0.10204642,\n",
       "          -0.08840651, -0.07978955],\n",
       "         [-0.07099902,  0.16060002, -0.11600764, ...,  0.11766897,\n",
       "           0.08708103,  0.07724531],\n",
       "         ...,\n",
       "         [ 0.10533689,  0.1520179 , -0.0174633 , ...,  0.04674882,\n",
       "           0.15887858, -0.03791551],\n",
       "         [-0.13443908, -0.10533382,  0.00768721, ..., -0.00261918,\n",
       "          -0.03578866,  0.03683276],\n",
       "         [-0.00879681,  0.04170118, -0.1759939 , ..., -0.07115749,\n",
       "          -0.10490852, -0.1730909 ]],\n",
       " \n",
       "        [[ 0.14854644, -0.12811618, -0.08704892, ..., -0.05041964,\n",
       "          -0.06487976,  0.15204243],\n",
       "         [-0.15849592, -0.06735875, -0.12904812, ...,  0.08472811,\n",
       "           0.06715855,  0.1353562 ],\n",
       "         [-0.01576073,  0.00546303, -0.0619833 , ...,  0.0441251 ,\n",
       "           0.01181258, -0.14330947],\n",
       "         ...,\n",
       "         [ 0.07676019, -0.11319775, -0.12176827, ...,  0.01260696,\n",
       "          -0.04912704, -0.09202427],\n",
       "         [-0.16458091, -0.06283218,  0.0750138 , ...,  0.10288854,\n",
       "          -0.11351904, -0.05546276],\n",
       "         [ 0.15933426,  0.1588776 ,  0.07773282, ...,  0.01953211,\n",
       "          -0.01912299,  0.05515344]]], dtype=float32),\n",
       " array([0., 0., 0., 0., 0., 0., 0., 0., 0., 0., 0., 0., 0., 0., 0., 0., 0.,\n",
       "        0., 0., 0., 0., 0., 0., 0., 0., 0., 0., 0., 0., 0., 0., 0.],\n",
       "       dtype=float32),\n",
       " array([[ 0.00830352,  0.00504192,  0.00847314,  0.00600824,  0.00437831],\n",
       "        [-0.00349523, -0.00412212,  0.00538614,  0.00423749,  0.00668825],\n",
       "        [-0.0003961 ,  0.00730144, -0.00121074,  0.00591657,  0.00500166],\n",
       "        ...,\n",
       "        [ 0.00062785,  0.00098097,  0.00267704, -0.00621841,  0.00557283],\n",
       "        [ 0.00740481, -0.00070139,  0.0025438 , -0.00262231,  0.00606522],\n",
       "        [ 0.0072113 , -0.0054306 ,  0.00523523, -0.00120844,  0.00275328]],\n",
       "       dtype=float32),\n",
       " array([0., 0., 0., 0., 0.], dtype=float32)]"
      ]
     },
     "execution_count": 50,
     "metadata": {},
     "output_type": "execute_result"
    }
   ],
   "source": [
    "wights = model.get_weights()\n",
    "wights"
   ]
  },
  {
   "cell_type": "code",
   "execution_count": 51,
   "metadata": {
    "scrolled": true
   },
   "outputs": [
    {
     "data": {
      "image/png": "[encoded data removed]",
      "text/plain": [
       "<IPython.core.display.Image object>"
      ]
     },
     "execution_count": 51,
     "metadata": {},
     "output_type": "execute_result"
    }
   ],
   "source": [
    "from tensorflow.keras.utils import plot_model\n",
    "plot_model(model, show_shapes=True)"
   ]
  },
  {
   "cell_type": "code",
   "execution_count": 60,
   "metadata": {
    "scrolled": true
   },
   "outputs": [
    {
     "name": "stdout",
     "output_type": "stream",
     "text": [
      "Epoch 1/40\n",
      "5/5 - 6s - loss: 0.0019 - sparse_categorical_accuracy: 1.0000\n",
      "Epoch 2/40\n",
      "5/5 - 6s - loss: 0.0019 - sparse_categorical_accuracy: 1.0000\n",
      "Epoch 3/40\n",
      "5/5 - 6s - loss: 0.0017 - sparse_categorical_accuracy: 1.0000\n",
      "Epoch 4/40\n",
      "5/5 - 6s - loss: 0.0015 - sparse_categorical_accuracy: 1.0000\n",
      "Epoch 5/40\n",
      "5/5 - 6s - loss: 0.0015 - sparse_categorical_accuracy: 1.0000\n",
      "Epoch 6/40\n",
      "5/5 - 6s - loss: 0.0013 - sparse_categorical_accuracy: 1.0000\n",
      "Epoch 7/40\n",
      "5/5 - 7s - loss: 0.0012 - sparse_categorical_accuracy: 1.0000\n",
      "Epoch 8/40\n",
      "5/5 - 7s - loss: 0.0012 - sparse_categorical_accuracy: 1.0000\n",
      "Epoch 9/40\n",
      "5/5 - 6s - loss: 9.0715e-04 - sparse_categorical_accuracy: 1.0000\n",
      "Epoch 10/40\n",
      "5/5 - 7s - loss: 6.8562e-04 - sparse_categorical_accuracy: 1.0000\n",
      "Epoch 11/40\n",
      "5/5 - 6s - loss: 7.0227e-04 - sparse_categorical_accuracy: 1.0000\n",
      "Epoch 12/40\n",
      "5/5 - 8s - loss: 5.6398e-04 - sparse_categorical_accuracy: 1.0000\n",
      "Epoch 13/40\n",
      "5/5 - 7s - loss: 4.9773e-04 - sparse_categorical_accuracy: 1.0000\n",
      "Epoch 14/40\n",
      "5/5 - 7s - loss: 3.9151e-04 - sparse_categorical_accuracy: 1.0000\n",
      "Epoch 15/40\n",
      "5/5 - 7s - loss: 3.3853e-04 - sparse_categorical_accuracy: 1.0000\n",
      "Epoch 16/40\n",
      "5/5 - 7s - loss: 2.0184e-04 - sparse_categorical_accuracy: 1.0000\n",
      "Epoch 17/40\n",
      "5/5 - 7s - loss: 1.5047e-04 - sparse_categorical_accuracy: 1.0000\n",
      "Epoch 18/40\n",
      "5/5 - 7s - loss: 1.0806e-04 - sparse_categorical_accuracy: 1.0000\n",
      "Epoch 19/40\n",
      "5/5 - 7s - loss: 8.8193e-05 - sparse_categorical_accuracy: 1.0000\n",
      "Epoch 20/40\n",
      "5/5 - 7s - loss: 9.1071e-05 - sparse_categorical_accuracy: 1.0000\n",
      "Epoch 21/40\n",
      "5/5 - 7s - loss: 0.0855 - sparse_categorical_accuracy: 0.9932\n",
      "Epoch 22/40\n",
      "5/5 - 7s - loss: 0.7037 - sparse_categorical_accuracy: 0.9726\n",
      "Epoch 23/40\n",
      "5/5 - 7s - loss: 2.8021e-04 - sparse_categorical_accuracy: 1.0000\n",
      "Epoch 24/40\n",
      "5/5 - 7s - loss: 2.6764e-04 - sparse_categorical_accuracy: 1.0000\n",
      "Epoch 25/40\n",
      "5/5 - 7s - loss: 2.7015e-04 - sparse_categorical_accuracy: 1.0000\n",
      "Epoch 26/40\n",
      "5/5 - 7s - loss: 2.3047e-04 - sparse_categorical_accuracy: 1.0000\n",
      "Epoch 27/40\n",
      "5/5 - 7s - loss: 2.5407e-04 - sparse_categorical_accuracy: 1.0000\n",
      "Epoch 28/40\n",
      "5/5 - 7s - loss: 2.1468e-04 - sparse_categorical_accuracy: 1.0000\n",
      "Epoch 29/40\n",
      "5/5 - 7s - loss: 2.0827e-04 - sparse_categorical_accuracy: 1.0000\n",
      "Epoch 00029: early stopping\n"
     ]
    }
   ],
   "source": [
    "mod = model.fit(X_train,\n",
    "               Y_train, epochs=40, batch_size= 32, verbose=2 , \n",
    "                callbacks=[callback, print_weights, model_check])"
   ]
  },
  {
   "cell_type": "code",
   "execution_count": 61,
   "metadata": {},
   "outputs": [
    {
     "data": {
      "text/plain": [
       "92"
      ]
     },
     "execution_count": 61,
     "metadata": {},
     "output_type": "execute_result"
    }
   ],
   "source": [
    "len(wie_by_epoch)"
   ]
  },
  {
   "cell_type": "code",
   "execution_count": 62,
   "metadata": {},
   "outputs": [],
   "source": [
    "#120 +21\n",
    "#model.set_weights(wie_by_epoch[5])\n",
    "#mod.history.get('sparse_categorical_accuracy')"
   ]
  },
  {
   "cell_type": "code",
   "execution_count": 63,
   "metadata": {},
   "outputs": [
    {
     "name": "stdout",
     "output_type": "stream",
     "text": [
      "2/2 - 0s - loss: 0.3543 - sparse_categorical_accuracy: 0.9459\n"
     ]
    },
    {
     "data": {
      "text/plain": [
       "[0.3542505204677582, 0.9459459185600281]"
      ]
     },
     "execution_count": 63,
     "metadata": {},
     "output_type": "execute_result"
    }
   ],
   "source": [
    "scores = model.evaluate(X_test,Y_test, verbose=2)\n",
    "scores"
   ]
  },
  {
   "cell_type": "code",
   "execution_count": 64,
   "metadata": {},
   "outputs": [
    {
     "data": {
      "text/plain": [
       "{'loss': 0.3542505204677582, 'sparse_categorical_accuracy': 0.9459459185600281}"
      ]
     },
     "execution_count": 64,
     "metadata": {},
     "output_type": "execute_result"
    }
   ],
   "source": [
    "dict(zip(model.metrics_names, scores))"
   ]
  },
  {
   "cell_type": "code",
   "execution_count": 65,
   "metadata": {},
   "outputs": [
    {
     "data": {
      "image/png": "[encoded data removed]",
      "text/plain": [
       "<Figure size 432x288 with 2 Axes>"
      ]
     },
     "metadata": {
      "needs_background": "light"
     },
     "output_type": "display_data"
    }
   ],
   "source": [
    "from matplotlib import pyplot\n",
    "# plot loss during training\n",
    "pyplot.subplot(211)\n",
    "pyplot.title('Loss')\n",
    "pyplot.plot(mod.history['loss'], label='train')\n",
    "#pyplot.plot(mod.history['val_loss'], label='test')\n",
    "pyplot.legend()\n",
    "# plot accuracy during training\n",
    "pyplot.subplot(212)\n",
    "pyplot.title('Accuracy')\n",
    "pyplot.plot(mod.history['sparse_categorical_accuracy'], label='train')\n",
    "#pyplot.plot(mod.history['val_accuracy'], label='test')\n",
    "pyplot.legend()\n",
    "pyplot.show()"
   ]
  },
  {
   "cell_type": "code",
   "execution_count": 66,
   "metadata": {},
   "outputs": [],
   "source": [
    "# predict probabilities for test set\n",
    "yhat_probs = model.predict(X_test.astype('float32'), verbose=0)\n",
    "# predict crisp classes for test set\n",
    "#yhat_classes = model.predict_classes(X_test, verbose=0)\n",
    "yhat_classes = np.argmax(yhat_probs,axis=1)"
   ]
  },
  {
   "cell_type": "code",
   "execution_count": 67,
   "metadata": {},
   "outputs": [],
   "source": [
    "from sklearn.datasets import make_circles\n",
    "from sklearn.metrics import accuracy_score\n",
    "from sklearn.metrics import precision_score\n",
    "from sklearn.metrics import recall_score\n",
    "from sklearn.metrics import f1_score\n",
    "from sklearn.metrics import cohen_kappa_score\n",
    "from sklearn.metrics import roc_auc_score\n",
    "from sklearn.metrics import confusion_matrix\n",
    "from sklearn.metrics import roc_curve\n"
   ]
  },
  {
   "cell_type": "code",
   "execution_count": 68,
   "metadata": {},
   "outputs": [
    {
     "name": "stdout",
     "output_type": "stream",
     "text": [
      "Accuracy: 0.945946\n",
      "Precision: 0.947464\n",
      "Recall: 0.880952\n",
      "F1 score: 0.902486\n"
     ]
    }
   ],
   "source": [
    "# accuracy: (tp + tn) / (p + n)\n",
    "accuracy = accuracy_score(Y_test, yhat_classes)\n",
    "print('Accuracy: %f' % accuracy)\n",
    "# precision tp / (tp + fp)\n",
    "precision = precision_score(Y_test, yhat_classes, average='macro')\n",
    "print('Precision: %f' % precision)\n",
    "# recall: tp / (tp + fn)\n",
    "recall = recall_score(Y_test, yhat_classes,average='macro')\n",
    "print('Recall: %f' % recall)\n",
    "# f1: 2 tp / (2 tp + fp + fn)\n",
    "f1 = f1_score(Y_test, yhat_classes, average='macro')\n",
    "print('F1 score: %f' % f1)"
   ]
  },
  {
   "cell_type": "code",
   "execution_count": 69,
   "metadata": {},
   "outputs": [
    {
     "name": "stdout",
     "output_type": "stream",
     "text": [
      "Cohens kappa: 0.905732\n",
      "[[22  0  0  0]\n",
      " [ 0  5  0  0]\n",
      " [ 0  1  2  0]\n",
      " [ 1  0  0  6]]\n"
     ]
    }
   ],
   "source": [
    "# kappa\n",
    "kappa = cohen_kappa_score(Y_test, yhat_classes)\n",
    "print('Cohens kappa: %f' % kappa)\n",
    "# ROC AUC\n",
    "#fprate, tprate, thresholds = roc_curve(Y_test, yhat_probs, average = 'macro')\n",
    "#print('ROC AUC: %f' % thresholds)\n",
    "# confusion matrix\n",
    "matrix = confusion_matrix(Y_test, yhat_classes)\n",
    "print(matrix)"
   ]
  },
  {
   "cell_type": "code",
   "execution_count": 70,
   "metadata": {},
   "outputs": [
    {
     "name": "stderr",
     "output_type": "stream",
     "text": [
      "C:\\Users\\hp\\Anaconda3\\lib\\site-packages\\sklearn\\metrics\\ranking.py:659: UndefinedMetricWarning: No positive samples in y_true, true positive value should be meaningless\n",
      "  UndefinedMetricWarning)\n"
     ]
    }
   ],
   "source": [
    "fpr = {}\n",
    "tpr = {}\n",
    "thresh ={}\n",
    "\n",
    "n_class = 5\n",
    "\n",
    "for i in range(n_class):    \n",
    "    fpr[i], tpr[i], thresh[i] = roc_curve(Y_test, yhat_classes, pos_label=i)"
   ]
  },
  {
   "cell_type": "code",
   "execution_count": 71,
   "metadata": {},
   "outputs": [
    {
     "data": {
      "image/png": "[encoded data removed]",
      "text/plain": [
       "<Figure size 432x288 with 1 Axes>"
      ]
     },
     "metadata": {
      "needs_background": "light"
     },
     "output_type": "display_data"
    }
   ],
   "source": [
    "# plotting    \n",
    "plt.plot(fpr[0], tpr[0], linestyle='--',color='orange', label='Class 0 vs Rest')\n",
    "plt.plot(fpr[1], tpr[1], linestyle='--',color='green', label='Class 1 vs Rest')\n",
    "plt.plot(fpr[2], tpr[2], linestyle='--',color='blue', label='Class 2 vs Rest')\n",
    "plt.plot(fpr[3], tpr[3], linestyle='--',color='red', label='Class 3 vs Rest')\n",
    "plt.plot(fpr[4], tpr[4], linestyle='--',color='black', label='Class 4 vs Rest')\n",
    "plt.title('Multiclass ROC curve')\n",
    "plt.xlabel('False Positive Rate')\n",
    "plt.ylabel('True Positive rate')\n",
    "plt.legend(loc='best')\n",
    "plt.savefig('Multiclass ROC',dpi=300); "
   ]
  },
  {
   "cell_type": "code",
   "execution_count": 72,
   "metadata": {},
   "outputs": [
    {
     "name": "stdout",
     "output_type": "stream",
     "text": [
      "Confusion matrix : \n",
      " [[22  0  0  0]\n",
      " [ 0  5  0  0]\n",
      " [ 0  1  2  0]\n",
      " [ 1  0  0  6]]\n"
     ]
    }
   ],
   "source": [
    "from sklearn.metrics import confusion_matrix\n",
    "from sklearn.metrics import classification_report\n",
    "matrix = confusion_matrix(Y_test, yhat_classes, labels= [0, 1, 3, 4])\n",
    "print('Confusion matrix : \\n',matrix)"
   ]
  },
  {
   "cell_type": "code",
   "execution_count": 73,
   "metadata": {},
   "outputs": [
    {
     "name": "stdout",
     "output_type": "stream",
     "text": [
      "Classification report : \n",
      "               precision    recall  f1-score   support\n",
      "\n",
      "           0       0.96      1.00      0.98        22\n",
      "           1       0.83      1.00      0.91         5\n",
      "           3       1.00      0.67      0.80         3\n",
      "           4       1.00      0.86      0.92         7\n",
      "\n",
      "    accuracy                           0.95        37\n",
      "   macro avg       0.95      0.88      0.90        37\n",
      "weighted avg       0.95      0.95      0.94        37\n",
      "\n"
     ]
    }
   ],
   "source": [
    "matrix = classification_report(Y_test,yhat_classes, labels= [0, 1, 3, 4])\n",
    "print('Classification report : \\n',matrix)"
   ]
  },
  {
   "cell_type": "code",
   "execution_count": 74,
   "metadata": {},
   "outputs": [
    {
     "name": "stdout",
     "output_type": "stream",
     "text": [
      "INFO:tensorflow:Assets written to: ./models/IG feature selection/WithoutIP Top9/Multi-class/CNN-DBN/CNN\\assets\n"
     ]
    }
   ],
   "source": [
    "model.save('./models/IG feature selection/WithoutIP Top9/Multi-class/CNN-DBN/CNN')"
   ]
  },
  {
   "cell_type": "code",
   "execution_count": 75,
   "metadata": {},
   "outputs": [],
   "source": [
    "#Feature extracted from feature extractor part of deep learning model\n",
    "X_ext = feature_extractor.predict(X_train)\n",
    "X_ext_test = feature_extractor.predict(X_test)"
   ]
  },
  {
   "cell_type": "code",
   "execution_count": 76,
   "metadata": {},
   "outputs": [
    {
     "name": "stdout",
     "output_type": "stream",
     "text": [
      "False\n",
      "False\n",
      "False\n",
      "False\n",
      "False\n",
      "False\n",
      "False\n",
      "False\n",
      "False\n",
      "False\n",
      "False\n",
      "False\n",
      "False\n",
      "False\n",
      "False\n",
      "False\n",
      "False\n",
      "False\n",
      "False\n",
      "False\n",
      "False\n",
      "False\n",
      "False\n",
      "False\n",
      "False\n",
      "False\n",
      "False\n",
      "False\n",
      "False\n",
      "False\n",
      "False\n",
      "False\n",
      "False\n",
      "False\n",
      "False\n",
      "False\n",
      "False\n",
      "False\n",
      "False\n",
      "False\n",
      "False\n",
      "False\n",
      "False\n",
      "False\n",
      "False\n",
      "False\n",
      "False\n",
      "False\n",
      "False\n",
      "False\n",
      "False\n",
      "False\n",
      "False\n",
      "False\n",
      "False\n",
      "False\n",
      "False\n",
      "False\n",
      "False\n",
      "False\n",
      "False\n",
      "False\n",
      "False\n",
      "False\n",
      "False\n",
      "False\n",
      "False\n",
      "False\n",
      "False\n",
      "False\n",
      "False\n",
      "False\n",
      "False\n",
      "False\n",
      "False\n",
      "False\n",
      "False\n",
      "False\n",
      "False\n",
      "False\n",
      "False\n",
      "False\n",
      "False\n",
      "False\n",
      "False\n",
      "False\n",
      "False\n",
      "False\n",
      "False\n",
      "False\n",
      "False\n",
      "False\n",
      "False\n",
      "False\n",
      "False\n",
      "False\n",
      "False\n",
      "False\n",
      "False\n",
      "False\n",
      "False\n",
      "False\n",
      "False\n",
      "False\n",
      "False\n",
      "False\n",
      "False\n",
      "False\n",
      "False\n",
      "False\n",
      "False\n",
      "False\n",
      "False\n",
      "False\n",
      "False\n",
      "False\n",
      "False\n",
      "False\n",
      "False\n",
      "False\n",
      "False\n",
      "False\n",
      "False\n",
      "False\n",
      "False\n",
      "False\n",
      "False\n",
      "False\n",
      "False\n",
      "False\n",
      "False\n",
      "False\n",
      "False\n",
      "False\n",
      "False\n",
      "False\n",
      "False\n",
      "False\n",
      "False\n",
      "False\n",
      "False\n",
      "False\n",
      "False\n",
      "False\n",
      "False\n",
      "False\n"
     ]
    }
   ],
   "source": [
    "for i in X_ext:\n",
    "    print(f'{np.isnan(i).any()}')"
   ]
  },
  {
   "cell_type": "code",
   "execution_count": 77,
   "metadata": {},
   "outputs": [
    {
     "name": "stdout",
     "output_type": "stream",
     "text": [
      "WARNING:tensorflow:From C:\\Users\\hp\\AppData\\Roaming\\Python\\Python37\\site-packages\\tensorflow\\python\\compat\\v2_compat.py:101: disable_resource_variables (from tensorflow.python.ops.variable_scope) is deprecated and will be removed in a future version.\n",
      "Instructions for updating:\n",
      "non-resource variables are not supported in the long term\n"
     ]
    }
   ],
   "source": [
    "from dbn.tensorflow import SupervisedDBNClassification"
   ]
  },
  {
   "cell_type": "code",
   "execution_count": 81,
   "metadata": {},
   "outputs": [],
   "source": [
    "classifier = SupervisedDBNClassification(hidden_layers_structure=[32, 32],\n",
    "                                         learning_rate_rbm=0.0001,\n",
    "                                         learning_rate=0.02,\n",
    "                                         n_epochs_rbm=8,\n",
    "                                         n_iter_backprop=512,\n",
    "                                         batch_size=32,\n",
    "                                         activation_function='relu',\n",
    "                                         dropout_p=0.0001)"
   ]
  },
  {
   "cell_type": "code",
   "execution_count": 79,
   "metadata": {},
   "outputs": [
    {
     "data": {
      "text/plain": [
       "26988"
      ]
     },
     "execution_count": 79,
     "metadata": {},
     "output_type": "execute_result"
    }
   ],
   "source": [
    "del classifier\n",
    "gc.collect()"
   ]
  },
  {
   "cell_type": "code",
   "execution_count": 82,
   "metadata": {
    "scrolled": true
   },
   "outputs": [
    {
     "name": "stdout",
     "output_type": "stream",
     "text": [
      "[START] Pre-training step:\n",
      "WARNING:tensorflow:From C:\\Users\\hp\\Desktop\\Project dISSERATAION\\dbn\\tensorflow\\models.py:151: to_float (from tensorflow.python.ops.math_ops) is deprecated and will be removed in a future version.\n",
      "Instructions for updating:\n",
      "Use `tf.cast` instead.\n",
      ">> Epoch 1 finished \tRBM Reconstruction error 9872.801758\n",
      ">> Epoch 2 finished \tRBM Reconstruction error 9860.320312\n",
      ">> Epoch 3 finished \tRBM Reconstruction error 9784.926758\n",
      ">> Epoch 4 finished \tRBM Reconstruction error 9590.582031\n",
      ">> Epoch 5 finished \tRBM Reconstruction error 9242.143555\n",
      ">> Epoch 6 finished \tRBM Reconstruction error 8736.289062\n",
      ">> Epoch 7 finished \tRBM Reconstruction error 8108.878418\n",
      ">> Epoch 8 finished \tRBM Reconstruction error 7420.785156\n",
      ">> Epoch 1 finished \tRBM Reconstruction error 1475.655151\n",
      ">> Epoch 2 finished \tRBM Reconstruction error 1441.533447\n",
      ">> Epoch 3 finished \tRBM Reconstruction error 1388.242920\n",
      ">> Epoch 4 finished \tRBM Reconstruction error 1316.198242\n",
      ">> Epoch 5 finished \tRBM Reconstruction error 1226.725952\n",
      ">> Epoch 6 finished \tRBM Reconstruction error 1122.373291\n",
      ">> Epoch 7 finished \tRBM Reconstruction error 1005.871704\n",
      ">> Epoch 8 finished \tRBM Reconstruction error 880.278992\n",
      "[END] Pre-training step\n",
      "WARNING:tensorflow:From C:\\Users\\hp\\AppData\\Roaming\\Python\\Python37\\site-packages\\tensorflow\\python\\util\\dispatch.py:206: calling dropout (from tensorflow.python.ops.nn_ops) with keep_prob is deprecated and will be removed in a future version.\n",
      "Instructions for updating:\n",
      "Please use `rate` instead of `keep_prob`. Rate should be set to `rate = 1 - keep_prob`.\n",
      "[START] Fine tuning step:\n",
      ">> Epoch 0 finished \tANN training loss 0.979219\n",
      ">> Epoch 1 finished \tANN training loss 0.876911\n",
      ">> Epoch 2 finished \tANN training loss 0.842205\n",
      ">> Epoch 3 finished \tANN training loss 0.799691\n",
      ">> Epoch 4 finished \tANN training loss 0.761468\n",
      ">> Epoch 5 finished \tANN training loss 0.725519\n",
      ">> Epoch 6 finished \tANN training loss 0.705437\n",
      ">> Epoch 7 finished \tANN training loss 0.687344\n",
      ">> Epoch 8 finished \tANN training loss 0.673461\n",
      ">> Epoch 9 finished \tANN training loss 0.683554\n",
      ">> Epoch 10 finished \tANN training loss 0.659210\n",
      ">> Epoch 11 finished \tANN training loss 0.643569\n",
      ">> Epoch 12 finished \tANN training loss 0.634859\n",
      ">> Epoch 13 finished \tANN training loss 0.626266\n",
      ">> Epoch 14 finished \tANN training loss 0.622295\n",
      ">> Epoch 15 finished \tANN training loss 0.613099\n",
      ">> Epoch 16 finished \tANN training loss 0.618333\n",
      ">> Epoch 17 finished \tANN training loss 0.592100\n",
      ">> Epoch 18 finished \tANN training loss 0.590011\n",
      ">> Epoch 19 finished \tANN training loss 0.586242\n",
      ">> Epoch 20 finished \tANN training loss 0.560828\n",
      ">> Epoch 21 finished \tANN training loss 0.555198\n",
      ">> Epoch 22 finished \tANN training loss 0.542688\n",
      ">> Epoch 23 finished \tANN training loss 0.534747\n",
      ">> Epoch 24 finished \tANN training loss 0.516838\n",
      ">> Epoch 25 finished \tANN training loss 0.494372\n",
      ">> Epoch 26 finished \tANN training loss 0.481449\n",
      ">> Epoch 27 finished \tANN training loss 0.470459\n",
      ">> Epoch 28 finished \tANN training loss 0.459921\n",
      ">> Epoch 29 finished \tANN training loss 0.450903\n",
      ">> Epoch 30 finished \tANN training loss 0.442389\n",
      ">> Epoch 31 finished \tANN training loss 0.436825\n",
      ">> Epoch 32 finished \tANN training loss 0.432187\n",
      ">> Epoch 33 finished \tANN training loss 0.420730\n",
      ">> Epoch 34 finished \tANN training loss 0.424643\n",
      ">> Epoch 35 finished \tANN training loss 0.411143\n",
      ">> Epoch 36 finished \tANN training loss 0.399115\n",
      ">> Epoch 37 finished \tANN training loss 0.402159\n",
      ">> Epoch 38 finished \tANN training loss 0.383791\n",
      ">> Epoch 39 finished \tANN training loss 0.375634\n",
      ">> Epoch 40 finished \tANN training loss 0.367268\n",
      ">> Epoch 41 finished \tANN training loss 0.366860\n",
      ">> Epoch 42 finished \tANN training loss 0.346134\n",
      ">> Epoch 43 finished \tANN training loss 0.335564\n",
      ">> Epoch 44 finished \tANN training loss 0.323743\n",
      ">> Epoch 45 finished \tANN training loss 0.310684\n",
      ">> Epoch 46 finished \tANN training loss 0.298725\n",
      ">> Epoch 47 finished \tANN training loss 0.291577\n",
      ">> Epoch 48 finished \tANN training loss 0.282549\n",
      ">> Epoch 49 finished \tANN training loss 0.274056\n",
      ">> Epoch 50 finished \tANN training loss 0.268923\n",
      ">> Epoch 51 finished \tANN training loss 0.263373\n",
      ">> Epoch 52 finished \tANN training loss 0.258346\n",
      ">> Epoch 53 finished \tANN training loss 0.249332\n",
      ">> Epoch 54 finished \tANN training loss 0.251776\n",
      ">> Epoch 55 finished \tANN training loss 0.243323\n",
      ">> Epoch 56 finished \tANN training loss 0.239375\n",
      ">> Epoch 57 finished \tANN training loss 0.231305\n",
      ">> Epoch 58 finished \tANN training loss 0.226647\n",
      ">> Epoch 59 finished \tANN training loss 0.227879\n",
      ">> Epoch 60 finished \tANN training loss 0.219000\n",
      ">> Epoch 61 finished \tANN training loss 0.215024\n",
      ">> Epoch 62 finished \tANN training loss 0.211114\n",
      ">> Epoch 63 finished \tANN training loss 0.207624\n",
      ">> Epoch 64 finished \tANN training loss 0.204720\n",
      ">> Epoch 65 finished \tANN training loss 0.201214\n",
      ">> Epoch 66 finished \tANN training loss 0.197964\n",
      ">> Epoch 67 finished \tANN training loss 0.197393\n",
      ">> Epoch 68 finished \tANN training loss 0.192138\n",
      ">> Epoch 69 finished \tANN training loss 0.190457\n",
      ">> Epoch 70 finished \tANN training loss 0.186995\n",
      ">> Epoch 71 finished \tANN training loss 0.184572\n",
      ">> Epoch 72 finished \tANN training loss 0.183096\n",
      ">> Epoch 73 finished \tANN training loss 0.180417\n",
      ">> Epoch 74 finished \tANN training loss 0.178145\n",
      ">> Epoch 75 finished \tANN training loss 0.175655\n",
      ">> Epoch 76 finished \tANN training loss 0.172370\n",
      ">> Epoch 77 finished \tANN training loss 0.170914\n",
      ">> Epoch 78 finished \tANN training loss 0.172388\n",
      ">> Epoch 79 finished \tANN training loss 0.166599\n",
      ">> Epoch 80 finished \tANN training loss 0.163637\n",
      ">> Epoch 81 finished \tANN training loss 0.162045\n",
      ">> Epoch 82 finished \tANN training loss 0.159968\n",
      ">> Epoch 83 finished \tANN training loss 0.158271\n",
      ">> Epoch 84 finished \tANN training loss 0.156372\n",
      ">> Epoch 85 finished \tANN training loss 0.154633\n",
      ">> Epoch 86 finished \tANN training loss 0.152793\n",
      ">> Epoch 87 finished \tANN training loss 0.151307\n",
      ">> Epoch 88 finished \tANN training loss 0.149823\n",
      ">> Epoch 89 finished \tANN training loss 0.148091\n",
      ">> Epoch 90 finished \tANN training loss 0.146621\n",
      ">> Epoch 91 finished \tANN training loss 0.145036\n",
      ">> Epoch 92 finished \tANN training loss 0.143835\n",
      ">> Epoch 93 finished \tANN training loss 0.142326\n",
      ">> Epoch 94 finished \tANN training loss 0.140828\n",
      ">> Epoch 95 finished \tANN training loss 0.139709\n",
      ">> Epoch 96 finished \tANN training loss 0.138233\n",
      ">> Epoch 97 finished \tANN training loss 0.136932\n",
      ">> Epoch 98 finished \tANN training loss 0.135663\n",
      ">> Epoch 99 finished \tANN training loss 0.134485\n",
      ">> Epoch 100 finished \tANN training loss 0.133303\n",
      ">> Epoch 101 finished \tANN training loss 0.131992\n",
      ">> Epoch 102 finished \tANN training loss 0.131027\n",
      ">> Epoch 103 finished \tANN training loss 0.129719\n",
      ">> Epoch 104 finished \tANN training loss 0.128709\n",
      ">> Epoch 105 finished \tANN training loss 0.127539\n",
      ">> Epoch 106 finished \tANN training loss 0.126673\n",
      ">> Epoch 107 finished \tANN training loss 0.125452\n",
      ">> Epoch 108 finished \tANN training loss 0.124405\n",
      ">> Epoch 109 finished \tANN training loss 0.123404\n",
      ">> Epoch 110 finished \tANN training loss 0.122424\n",
      ">> Epoch 111 finished \tANN training loss 0.121454\n",
      ">> Epoch 112 finished \tANN training loss 0.120520\n",
      ">> Epoch 113 finished \tANN training loss 0.119497\n",
      ">> Epoch 114 finished \tANN training loss 0.118620\n",
      ">> Epoch 115 finished \tANN training loss 0.117735\n",
      ">> Epoch 116 finished \tANN training loss 0.116847\n",
      ">> Epoch 117 finished \tANN training loss 0.115991\n",
      ">> Epoch 118 finished \tANN training loss 0.115141\n",
      ">> Epoch 119 finished \tANN training loss 0.114581\n",
      ">> Epoch 120 finished \tANN training loss 0.113476\n",
      ">> Epoch 121 finished \tANN training loss 0.112608\n",
      ">> Epoch 122 finished \tANN training loss 0.111838\n",
      ">> Epoch 123 finished \tANN training loss 0.111031\n",
      ">> Epoch 124 finished \tANN training loss 0.110273\n",
      ">> Epoch 125 finished \tANN training loss 0.109445\n",
      ">> Epoch 126 finished \tANN training loss 0.108652\n",
      ">> Epoch 127 finished \tANN training loss 0.107903\n",
      ">> Epoch 128 finished \tANN training loss 0.107106\n",
      ">> Epoch 129 finished \tANN training loss 0.106406\n",
      ">> Epoch 130 finished \tANN training loss 0.105683\n",
      ">> Epoch 131 finished \tANN training loss 0.105008\n",
      ">> Epoch 132 finished \tANN training loss 0.104229\n",
      ">> Epoch 133 finished \tANN training loss 0.103573\n"
     ]
    },
    {
     "name": "stdout",
     "output_type": "stream",
     "text": [
      ">> Epoch 134 finished \tANN training loss 0.102895\n",
      ">> Epoch 135 finished \tANN training loss 0.102231\n",
      ">> Epoch 136 finished \tANN training loss 0.101548\n",
      ">> Epoch 137 finished \tANN training loss 0.100914\n",
      ">> Epoch 138 finished \tANN training loss 0.100225\n",
      ">> Epoch 139 finished \tANN training loss 0.099565\n",
      ">> Epoch 140 finished \tANN training loss 0.098906\n",
      ">> Epoch 141 finished \tANN training loss 0.098276\n",
      ">> Epoch 142 finished \tANN training loss 0.097618\n",
      ">> Epoch 143 finished \tANN training loss 0.096987\n",
      ">> Epoch 144 finished \tANN training loss 0.096354\n",
      ">> Epoch 145 finished \tANN training loss 0.095735\n",
      ">> Epoch 146 finished \tANN training loss 0.095168\n",
      ">> Epoch 147 finished \tANN training loss 0.094574\n",
      ">> Epoch 148 finished \tANN training loss 0.093953\n",
      ">> Epoch 149 finished \tANN training loss 0.093402\n",
      ">> Epoch 150 finished \tANN training loss 0.092853\n",
      ">> Epoch 151 finished \tANN training loss 0.092296\n",
      ">> Epoch 152 finished \tANN training loss 0.091707\n",
      ">> Epoch 153 finished \tANN training loss 0.091150\n",
      ">> Epoch 154 finished \tANN training loss 0.090608\n",
      ">> Epoch 155 finished \tANN training loss 0.090069\n",
      ">> Epoch 156 finished \tANN training loss 0.089509\n",
      ">> Epoch 157 finished \tANN training loss 0.088946\n",
      ">> Epoch 158 finished \tANN training loss 0.088435\n",
      ">> Epoch 159 finished \tANN training loss 0.087896\n",
      ">> Epoch 160 finished \tANN training loss 0.087402\n",
      ">> Epoch 161 finished \tANN training loss 0.086901\n",
      ">> Epoch 162 finished \tANN training loss 0.086405\n",
      ">> Epoch 163 finished \tANN training loss 0.085917\n",
      ">> Epoch 164 finished \tANN training loss 0.085421\n",
      ">> Epoch 165 finished \tANN training loss 0.084915\n",
      ">> Epoch 166 finished \tANN training loss 0.084421\n",
      ">> Epoch 167 finished \tANN training loss 0.083935\n",
      ">> Epoch 168 finished \tANN training loss 0.083462\n",
      ">> Epoch 169 finished \tANN training loss 0.082942\n",
      ">> Epoch 170 finished \tANN training loss 0.082499\n",
      ">> Epoch 171 finished \tANN training loss 0.082055\n",
      ">> Epoch 172 finished \tANN training loss 0.081591\n",
      ">> Epoch 173 finished \tANN training loss 0.081134\n",
      ">> Epoch 174 finished \tANN training loss 0.080727\n",
      ">> Epoch 175 finished \tANN training loss 0.080286\n",
      ">> Epoch 176 finished \tANN training loss 0.079824\n",
      ">> Epoch 177 finished \tANN training loss 0.079388\n",
      ">> Epoch 178 finished \tANN training loss 0.078969\n",
      ">> Epoch 179 finished \tANN training loss 0.078524\n",
      ">> Epoch 180 finished \tANN training loss 0.078119\n",
      ">> Epoch 181 finished \tANN training loss 0.077718\n",
      ">> Epoch 182 finished \tANN training loss 0.077284\n",
      ">> Epoch 183 finished \tANN training loss 0.076863\n",
      ">> Epoch 184 finished \tANN training loss 0.076395\n",
      ">> Epoch 185 finished \tANN training loss 0.075989\n",
      ">> Epoch 186 finished \tANN training loss 0.075570\n",
      ">> Epoch 187 finished \tANN training loss 0.075132\n",
      ">> Epoch 188 finished \tANN training loss 0.074745\n",
      ">> Epoch 189 finished \tANN training loss 0.074332\n",
      ">> Epoch 190 finished \tANN training loss 0.073928\n",
      ">> Epoch 191 finished \tANN training loss 0.073548\n",
      ">> Epoch 192 finished \tANN training loss 0.073172\n",
      ">> Epoch 193 finished \tANN training loss 0.072774\n",
      ">> Epoch 194 finished \tANN training loss 0.072386\n",
      ">> Epoch 195 finished \tANN training loss 0.072011\n",
      ">> Epoch 196 finished \tANN training loss 0.071633\n",
      ">> Epoch 197 finished \tANN training loss 0.071293\n",
      ">> Epoch 198 finished \tANN training loss 0.070944\n",
      ">> Epoch 199 finished \tANN training loss 0.070586\n",
      ">> Epoch 200 finished \tANN training loss 0.070231\n",
      ">> Epoch 201 finished \tANN training loss 0.069872\n",
      ">> Epoch 202 finished \tANN training loss 0.069521\n",
      ">> Epoch 203 finished \tANN training loss 0.069138\n",
      ">> Epoch 204 finished \tANN training loss 0.068766\n",
      ">> Epoch 205 finished \tANN training loss 0.068417\n",
      ">> Epoch 206 finished \tANN training loss 0.068078\n",
      ">> Epoch 207 finished \tANN training loss 0.067746\n",
      ">> Epoch 208 finished \tANN training loss 0.067404\n",
      ">> Epoch 209 finished \tANN training loss 0.067093\n",
      ">> Epoch 210 finished \tANN training loss 0.066785\n",
      ">> Epoch 211 finished \tANN training loss 0.066432\n",
      ">> Epoch 212 finished \tANN training loss 0.066118\n",
      ">> Epoch 213 finished \tANN training loss 0.065799\n",
      ">> Epoch 214 finished \tANN training loss 0.065457\n",
      ">> Epoch 215 finished \tANN training loss 0.065154\n",
      ">> Epoch 216 finished \tANN training loss 0.064830\n",
      ">> Epoch 217 finished \tANN training loss 0.064512\n",
      ">> Epoch 218 finished \tANN training loss 0.064225\n",
      ">> Epoch 219 finished \tANN training loss 0.063932\n",
      ">> Epoch 220 finished \tANN training loss 0.063630\n",
      ">> Epoch 221 finished \tANN training loss 0.063329\n",
      ">> Epoch 222 finished \tANN training loss 0.063045\n",
      ">> Epoch 223 finished \tANN training loss 0.062747\n",
      ">> Epoch 224 finished \tANN training loss 0.062461\n",
      ">> Epoch 225 finished \tANN training loss 0.062158\n",
      ">> Epoch 226 finished \tANN training loss 0.061854\n",
      ">> Epoch 227 finished \tANN training loss 0.061551\n",
      ">> Epoch 228 finished \tANN training loss 0.061255\n",
      ">> Epoch 229 finished \tANN training loss 0.060979\n",
      ">> Epoch 230 finished \tANN training loss 0.060684\n",
      ">> Epoch 231 finished \tANN training loss 0.060394\n",
      ">> Epoch 232 finished \tANN training loss 0.060104\n",
      ">> Epoch 233 finished \tANN training loss 0.059828\n",
      ">> Epoch 234 finished \tANN training loss 0.059549\n",
      ">> Epoch 235 finished \tANN training loss 0.059290\n",
      ">> Epoch 236 finished \tANN training loss 0.058986\n",
      ">> Epoch 237 finished \tANN training loss 0.058667\n",
      ">> Epoch 238 finished \tANN training loss 0.058383\n",
      ">> Epoch 239 finished \tANN training loss 0.058120\n",
      ">> Epoch 240 finished \tANN training loss 0.057837\n",
      ">> Epoch 241 finished \tANN training loss 0.057573\n",
      ">> Epoch 242 finished \tANN training loss 0.057295\n",
      ">> Epoch 243 finished \tANN training loss 0.057017\n",
      ">> Epoch 244 finished \tANN training loss 0.056740\n",
      ">> Epoch 245 finished \tANN training loss 0.056475\n",
      ">> Epoch 246 finished \tANN training loss 0.056211\n",
      ">> Epoch 247 finished \tANN training loss 0.055942\n",
      ">> Epoch 248 finished \tANN training loss 0.055689\n",
      ">> Epoch 249 finished \tANN training loss 0.055425\n",
      ">> Epoch 250 finished \tANN training loss 0.055173\n",
      ">> Epoch 251 finished \tANN training loss 0.054914\n",
      ">> Epoch 252 finished \tANN training loss 0.054647\n",
      ">> Epoch 253 finished \tANN training loss 0.054372\n",
      ">> Epoch 254 finished \tANN training loss 0.054097\n",
      ">> Epoch 255 finished \tANN training loss 0.053865\n",
      ">> Epoch 256 finished \tANN training loss 0.053616\n",
      ">> Epoch 257 finished \tANN training loss 0.053370\n",
      ">> Epoch 258 finished \tANN training loss 0.053125\n",
      ">> Epoch 259 finished \tANN training loss 0.052889\n",
      ">> Epoch 260 finished \tANN training loss 0.052653\n",
      ">> Epoch 261 finished \tANN training loss 0.052410\n",
      ">> Epoch 262 finished \tANN training loss 0.052180\n",
      ">> Epoch 263 finished \tANN training loss 0.051945\n",
      ">> Epoch 264 finished \tANN training loss 0.051729\n",
      ">> Epoch 265 finished \tANN training loss 0.051463\n",
      ">> Epoch 266 finished \tANN training loss 0.051239\n",
      ">> Epoch 267 finished \tANN training loss 0.051014\n",
      ">> Epoch 268 finished \tANN training loss 0.050758\n",
      ">> Epoch 269 finished \tANN training loss 0.050539\n",
      ">> Epoch 270 finished \tANN training loss 0.050320\n",
      ">> Epoch 271 finished \tANN training loss 0.050073\n",
      ">> Epoch 272 finished \tANN training loss 0.049857\n",
      ">> Epoch 273 finished \tANN training loss 0.049633\n",
      ">> Epoch 274 finished \tANN training loss 0.049410\n",
      ">> Epoch 275 finished \tANN training loss 0.049206\n",
      ">> Epoch 276 finished \tANN training loss 0.048991\n",
      ">> Epoch 277 finished \tANN training loss 0.048763\n",
      ">> Epoch 278 finished \tANN training loss 0.048544\n",
      ">> Epoch 279 finished \tANN training loss 0.048326\n",
      ">> Epoch 280 finished \tANN training loss 0.048110\n",
      ">> Epoch 281 finished \tANN training loss 0.047896\n",
      ">> Epoch 282 finished \tANN training loss 0.047685\n",
      ">> Epoch 283 finished \tANN training loss 0.047460\n",
      ">> Epoch 284 finished \tANN training loss 0.047223\n",
      ">> Epoch 285 finished \tANN training loss 0.046996\n",
      ">> Epoch 286 finished \tANN training loss 0.046774\n",
      ">> Epoch 287 finished \tANN training loss 0.046573\n",
      ">> Epoch 288 finished \tANN training loss 0.046359\n",
      ">> Epoch 289 finished \tANN training loss 0.046147\n",
      ">> Epoch 290 finished \tANN training loss 0.045924\n",
      ">> Epoch 291 finished \tANN training loss 0.045724\n",
      ">> Epoch 292 finished \tANN training loss 0.045516\n",
      ">> Epoch 293 finished \tANN training loss 0.045323\n",
      ">> Epoch 294 finished \tANN training loss 0.045133\n",
      ">> Epoch 295 finished \tANN training loss 0.044921\n",
      ">> Epoch 296 finished \tANN training loss 0.044719\n",
      ">> Epoch 297 finished \tANN training loss 0.044525\n"
     ]
    },
    {
     "name": "stdout",
     "output_type": "stream",
     "text": [
      ">> Epoch 298 finished \tANN training loss 0.044335\n",
      ">> Epoch 299 finished \tANN training loss 0.044124\n",
      ">> Epoch 300 finished \tANN training loss 0.043929\n",
      ">> Epoch 301 finished \tANN training loss 0.043730\n",
      ">> Epoch 302 finished \tANN training loss 0.043542\n",
      ">> Epoch 303 finished \tANN training loss 0.043348\n",
      ">> Epoch 304 finished \tANN training loss 0.043164\n",
      ">> Epoch 305 finished \tANN training loss 0.042989\n",
      ">> Epoch 306 finished \tANN training loss 0.042787\n",
      ">> Epoch 307 finished \tANN training loss 0.042601\n",
      ">> Epoch 308 finished \tANN training loss 0.042414\n",
      ">> Epoch 309 finished \tANN training loss 0.042222\n",
      ">> Epoch 310 finished \tANN training loss 0.042008\n",
      ">> Epoch 311 finished \tANN training loss 0.041831\n",
      ">> Epoch 312 finished \tANN training loss 0.041657\n",
      ">> Epoch 313 finished \tANN training loss 0.041479\n",
      ">> Epoch 314 finished \tANN training loss 0.041301\n",
      ">> Epoch 315 finished \tANN training loss 0.041126\n",
      ">> Epoch 316 finished \tANN training loss 0.040925\n",
      ">> Epoch 317 finished \tANN training loss 0.040728\n",
      ">> Epoch 318 finished \tANN training loss 0.040547\n",
      ">> Epoch 319 finished \tANN training loss 0.040367\n",
      ">> Epoch 320 finished \tANN training loss 0.040193\n",
      ">> Epoch 321 finished \tANN training loss 0.039988\n",
      ">> Epoch 322 finished \tANN training loss 0.039823\n",
      ">> Epoch 323 finished \tANN training loss 0.039650\n",
      ">> Epoch 324 finished \tANN training loss 0.039489\n",
      ">> Epoch 325 finished \tANN training loss 0.039311\n",
      ">> Epoch 326 finished \tANN training loss 0.039143\n",
      ">> Epoch 327 finished \tANN training loss 0.038976\n",
      ">> Epoch 328 finished \tANN training loss 0.038800\n",
      ">> Epoch 329 finished \tANN training loss 0.038626\n",
      ">> Epoch 330 finished \tANN training loss 0.038459\n",
      ">> Epoch 331 finished \tANN training loss 0.038288\n",
      ">> Epoch 332 finished \tANN training loss 0.038124\n",
      ">> Epoch 333 finished \tANN training loss 0.037951\n",
      ">> Epoch 334 finished \tANN training loss 0.037765\n",
      ">> Epoch 335 finished \tANN training loss 0.037574\n",
      ">> Epoch 336 finished \tANN training loss 0.037393\n",
      ">> Epoch 337 finished \tANN training loss 0.037224\n",
      ">> Epoch 338 finished \tANN training loss 0.037061\n",
      ">> Epoch 339 finished \tANN training loss 0.036898\n",
      ">> Epoch 340 finished \tANN training loss 0.036727\n",
      ">> Epoch 341 finished \tANN training loss 0.036570\n",
      ">> Epoch 342 finished \tANN training loss 0.036418\n",
      ">> Epoch 343 finished \tANN training loss 0.036257\n",
      ">> Epoch 344 finished \tANN training loss 0.036092\n",
      ">> Epoch 345 finished \tANN training loss 0.035911\n",
      ">> Epoch 346 finished \tANN training loss 0.035758\n",
      ">> Epoch 347 finished \tANN training loss 0.035596\n",
      ">> Epoch 348 finished \tANN training loss 0.035443\n",
      ">> Epoch 349 finished \tANN training loss 0.035288\n",
      ">> Epoch 350 finished \tANN training loss 0.035114\n",
      ">> Epoch 351 finished \tANN training loss 0.034963\n",
      ">> Epoch 352 finished \tANN training loss 0.034803\n",
      ">> Epoch 353 finished \tANN training loss 0.034649\n",
      ">> Epoch 354 finished \tANN training loss 0.034495\n",
      ">> Epoch 355 finished \tANN training loss 0.034350\n",
      ">> Epoch 356 finished \tANN training loss 0.034194\n",
      ">> Epoch 357 finished \tANN training loss 0.034011\n",
      ">> Epoch 358 finished \tANN training loss 0.033851\n",
      ">> Epoch 359 finished \tANN training loss 0.033707\n",
      ">> Epoch 360 finished \tANN training loss 0.033532\n",
      ">> Epoch 361 finished \tANN training loss 0.033368\n",
      ">> Epoch 362 finished \tANN training loss 0.033213\n",
      ">> Epoch 363 finished \tANN training loss 0.033050\n",
      ">> Epoch 364 finished \tANN training loss 0.032892\n",
      ">> Epoch 365 finished \tANN training loss 0.032752\n",
      ">> Epoch 366 finished \tANN training loss 0.032611\n",
      ">> Epoch 367 finished \tANN training loss 0.032464\n",
      ">> Epoch 368 finished \tANN training loss 0.032316\n",
      ">> Epoch 369 finished \tANN training loss 0.032172\n",
      ">> Epoch 370 finished \tANN training loss 0.032034\n",
      ">> Epoch 371 finished \tANN training loss 0.031884\n",
      ">> Epoch 372 finished \tANN training loss 0.031742\n",
      ">> Epoch 373 finished \tANN training loss 0.031608\n",
      ">> Epoch 374 finished \tANN training loss 0.031466\n",
      ">> Epoch 375 finished \tANN training loss 0.031326\n",
      ">> Epoch 376 finished \tANN training loss 0.031181\n",
      ">> Epoch 377 finished \tANN training loss 0.031041\n",
      ">> Epoch 378 finished \tANN training loss 0.030889\n",
      ">> Epoch 379 finished \tANN training loss 0.030754\n",
      ">> Epoch 380 finished \tANN training loss 0.030608\n",
      ">> Epoch 381 finished \tANN training loss 0.030457\n",
      ">> Epoch 382 finished \tANN training loss 0.030302\n",
      ">> Epoch 383 finished \tANN training loss 0.030165\n",
      ">> Epoch 384 finished \tANN training loss 0.030026\n",
      ">> Epoch 385 finished \tANN training loss 0.029884\n",
      ">> Epoch 386 finished \tANN training loss 0.029748\n",
      ">> Epoch 387 finished \tANN training loss 0.029614\n",
      ">> Epoch 388 finished \tANN training loss 0.029482\n",
      ">> Epoch 389 finished \tANN training loss 0.029344\n",
      ">> Epoch 390 finished \tANN training loss 0.029199\n",
      ">> Epoch 391 finished \tANN training loss 0.029066\n",
      ">> Epoch 392 finished \tANN training loss 0.028922\n",
      ">> Epoch 393 finished \tANN training loss 0.028781\n",
      ">> Epoch 394 finished \tANN training loss 0.028629\n",
      ">> Epoch 395 finished \tANN training loss 0.028489\n",
      ">> Epoch 396 finished \tANN training loss 0.028353\n",
      ">> Epoch 397 finished \tANN training loss 0.028219\n",
      ">> Epoch 398 finished \tANN training loss 0.028075\n",
      ">> Epoch 399 finished \tANN training loss 0.027931\n",
      ">> Epoch 400 finished \tANN training loss 0.027788\n",
      ">> Epoch 401 finished \tANN training loss 0.027648\n",
      ">> Epoch 402 finished \tANN training loss 0.027516\n",
      ">> Epoch 403 finished \tANN training loss 0.027377\n",
      ">> Epoch 404 finished \tANN training loss 0.027234\n",
      ">> Epoch 405 finished \tANN training loss 0.027092\n",
      ">> Epoch 406 finished \tANN training loss 0.026961\n",
      ">> Epoch 407 finished \tANN training loss 0.026822\n",
      ">> Epoch 408 finished \tANN training loss 0.026669\n",
      ">> Epoch 409 finished \tANN training loss 0.026538\n",
      ">> Epoch 410 finished \tANN training loss 0.026392\n",
      ">> Epoch 411 finished \tANN training loss 0.026257\n",
      ">> Epoch 412 finished \tANN training loss 0.026126\n",
      ">> Epoch 413 finished \tANN training loss 0.025983\n",
      ">> Epoch 414 finished \tANN training loss 0.025840\n",
      ">> Epoch 415 finished \tANN training loss 0.025704\n",
      ">> Epoch 416 finished \tANN training loss 0.025564\n",
      ">> Epoch 417 finished \tANN training loss 0.025425\n",
      ">> Epoch 418 finished \tANN training loss 0.025287\n",
      ">> Epoch 419 finished \tANN training loss 0.025150\n",
      ">> Epoch 420 finished \tANN training loss 0.025011\n",
      ">> Epoch 421 finished \tANN training loss 0.024878\n",
      ">> Epoch 422 finished \tANN training loss 0.024746\n",
      ">> Epoch 423 finished \tANN training loss 0.024613\n",
      ">> Epoch 424 finished \tANN training loss 0.024473\n",
      ">> Epoch 425 finished \tANN training loss 0.024342\n",
      ">> Epoch 426 finished \tANN training loss 0.024193\n",
      ">> Epoch 427 finished \tANN training loss 0.024032\n",
      ">> Epoch 428 finished \tANN training loss 0.023893\n",
      ">> Epoch 429 finished \tANN training loss 0.023757\n",
      ">> Epoch 430 finished \tANN training loss 0.023615\n",
      ">> Epoch 431 finished \tANN training loss 0.023478\n",
      ">> Epoch 432 finished \tANN training loss 0.023336\n",
      ">> Epoch 433 finished \tANN training loss 0.023195\n",
      ">> Epoch 434 finished \tANN training loss 0.023051\n",
      ">> Epoch 435 finished \tANN training loss 0.022901\n",
      ">> Epoch 436 finished \tANN training loss 0.022751\n",
      ">> Epoch 437 finished \tANN training loss 0.022597\n",
      ">> Epoch 438 finished \tANN training loss 0.022447\n",
      ">> Epoch 439 finished \tANN training loss 0.022308\n",
      ">> Epoch 440 finished \tANN training loss 0.022173\n",
      ">> Epoch 441 finished \tANN training loss 0.022027\n",
      ">> Epoch 442 finished \tANN training loss 0.021884\n",
      ">> Epoch 443 finished \tANN training loss 0.021731\n",
      ">> Epoch 444 finished \tANN training loss 0.021571\n",
      ">> Epoch 445 finished \tANN training loss 0.021427\n",
      ">> Epoch 446 finished \tANN training loss 0.021274\n",
      ">> Epoch 447 finished \tANN training loss 0.021139\n",
      ">> Epoch 448 finished \tANN training loss 0.020989\n",
      ">> Epoch 449 finished \tANN training loss 0.020849\n",
      ">> Epoch 450 finished \tANN training loss 0.020686\n",
      ">> Epoch 451 finished \tANN training loss 0.020541\n",
      ">> Epoch 452 finished \tANN training loss 0.020386\n",
      ">> Epoch 453 finished \tANN training loss 0.020236\n",
      ">> Epoch 454 finished \tANN training loss 0.020086\n",
      ">> Epoch 455 finished \tANN training loss 0.019944\n",
      ">> Epoch 456 finished \tANN training loss 0.019802\n",
      ">> Epoch 457 finished \tANN training loss 0.019660\n",
      ">> Epoch 458 finished \tANN training loss 0.019519\n",
      ">> Epoch 459 finished \tANN training loss 0.019381\n",
      ">> Epoch 460 finished \tANN training loss 0.019239\n",
      ">> Epoch 461 finished \tANN training loss 0.019089\n"
     ]
    },
    {
     "name": "stdout",
     "output_type": "stream",
     "text": [
      ">> Epoch 462 finished \tANN training loss 0.018938\n",
      ">> Epoch 463 finished \tANN training loss 0.018799\n",
      ">> Epoch 464 finished \tANN training loss 0.018651\n",
      ">> Epoch 465 finished \tANN training loss 0.018487\n",
      ">> Epoch 466 finished \tANN training loss 0.018344\n",
      ">> Epoch 467 finished \tANN training loss 0.018197\n",
      ">> Epoch 468 finished \tANN training loss 0.018054\n",
      ">> Epoch 469 finished \tANN training loss 0.017902\n",
      ">> Epoch 470 finished \tANN training loss 0.017740\n",
      ">> Epoch 471 finished \tANN training loss 0.017588\n",
      ">> Epoch 472 finished \tANN training loss 0.017446\n",
      ">> Epoch 473 finished \tANN training loss 0.017300\n",
      ">> Epoch 474 finished \tANN training loss 0.017164\n",
      ">> Epoch 475 finished \tANN training loss 0.017017\n",
      ">> Epoch 476 finished \tANN training loss 0.016876\n",
      ">> Epoch 477 finished \tANN training loss 0.016726\n",
      ">> Epoch 478 finished \tANN training loss 0.016584\n",
      ">> Epoch 479 finished \tANN training loss 0.016439\n",
      ">> Epoch 480 finished \tANN training loss 0.016291\n",
      ">> Epoch 481 finished \tANN training loss 0.016151\n",
      ">> Epoch 482 finished \tANN training loss 0.016008\n",
      ">> Epoch 483 finished \tANN training loss 0.015860\n",
      ">> Epoch 484 finished \tANN training loss 0.015721\n",
      ">> Epoch 485 finished \tANN training loss 0.015587\n",
      ">> Epoch 486 finished \tANN training loss 0.015435\n",
      ">> Epoch 487 finished \tANN training loss 0.015301\n",
      ">> Epoch 488 finished \tANN training loss 0.015147\n",
      ">> Epoch 489 finished \tANN training loss 0.015002\n",
      ">> Epoch 490 finished \tANN training loss 0.014869\n",
      ">> Epoch 491 finished \tANN training loss 0.014718\n",
      ">> Epoch 492 finished \tANN training loss 0.014564\n",
      ">> Epoch 493 finished \tANN training loss 0.014417\n",
      ">> Epoch 494 finished \tANN training loss 0.014276\n",
      ">> Epoch 495 finished \tANN training loss 0.014134\n",
      ">> Epoch 496 finished \tANN training loss 0.013996\n",
      ">> Epoch 497 finished \tANN training loss 0.013869\n",
      ">> Epoch 498 finished \tANN training loss 0.013733\n",
      ">> Epoch 499 finished \tANN training loss 0.013594\n",
      ">> Epoch 500 finished \tANN training loss 0.013452\n",
      ">> Epoch 501 finished \tANN training loss 0.013323\n",
      ">> Epoch 502 finished \tANN training loss 0.013195\n",
      ">> Epoch 503 finished \tANN training loss 0.013064\n",
      ">> Epoch 504 finished \tANN training loss 0.012929\n",
      ">> Epoch 505 finished \tANN training loss 0.012797\n",
      ">> Epoch 506 finished \tANN training loss 0.012676\n",
      ">> Epoch 507 finished \tANN training loss 0.012552\n",
      ">> Epoch 508 finished \tANN training loss 0.012430\n",
      ">> Epoch 509 finished \tANN training loss 0.012312\n",
      ">> Epoch 510 finished \tANN training loss 0.012193\n",
      ">> Epoch 511 finished \tANN training loss 0.012073\n",
      "[END] Fine tuning step\n"
     ]
    },
    {
     "data": {
      "text/plain": [
       "SupervisedDBNClassification(batch_size=32, dropout_p=0.0001,\n",
       "                            idx_to_label_map={0: 0, 1: 1, 2: 4, 3: 3},\n",
       "                            l2_regularization=1.0,\n",
       "                            label_to_idx_map={0: 0, 1: 1, 3: 3, 4: 2},\n",
       "                            learning_rate=0.02, n_iter_backprop=512,\n",
       "                            verbose=True)"
      ]
     },
     "execution_count": 82,
     "metadata": {},
     "output_type": "execute_result"
    }
   ],
   "source": [
    "classifier.fit(X_ext, Y_train)"
   ]
  },
  {
   "cell_type": "code",
   "execution_count": 90,
   "metadata": {},
   "outputs": [],
   "source": [
    "# predict probabilities for test set\n",
    "yhat_probs = classifier.predict(X_ext_test)\n",
    "# predict crisp classes for test set\n",
    "#yhat_classes = model.predict_classes(X_test, verbose=0)\n",
    "yhat_classes = yhat_probs# np.argmax(yhat_probs,axis=1)"
   ]
  },
  {
   "cell_type": "code",
   "execution_count": 91,
   "metadata": {},
   "outputs": [
    {
     "name": "stdout",
     "output_type": "stream",
     "text": [
      "Accuracy: 0.972973\n",
      "Precision: 0.958333\n",
      "Recall: 0.916667\n",
      "F1 score: 0.927273\n"
     ]
    }
   ],
   "source": [
    "# accuracy: (tp + tn) / (p + n)\n",
    "accuracy = accuracy_score(Y_test, yhat_classes)\n",
    "print('Accuracy: %f' % accuracy)\n",
    "# precision tp / (tp + fp)\n",
    "precision = precision_score(Y_test, yhat_classes, average='macro')\n",
    "print('Precision: %f' % precision)\n",
    "# recall: tp / (tp + fn)\n",
    "recall = recall_score(Y_test, yhat_classes,average='macro')\n",
    "print('Recall: %f' % recall)\n",
    "# f1: 2 tp / (2 tp + fp + fn)\n",
    "f1 = f1_score(Y_test, yhat_classes, average='macro')\n",
    "print('F1 score: %f' % f1)"
   ]
  },
  {
   "cell_type": "code",
   "execution_count": 92,
   "metadata": {},
   "outputs": [
    {
     "name": "stdout",
     "output_type": "stream",
     "text": [
      "Cohens kappa: 0.953750\n",
      "[[22  0  0  0]\n",
      " [ 0  5  0  0]\n",
      " [ 0  1  2  0]\n",
      " [ 0  0  0  7]]\n"
     ]
    }
   ],
   "source": [
    "# kappa\n",
    "kappa = cohen_kappa_score(Y_test, yhat_classes)\n",
    "print('Cohens kappa: %f' % kappa)\n",
    "# ROC AUC\n",
    "#fprate, tprate, thresholds = roc_curve(Y_test, yhat_probs, average = 'macro')\n",
    "#print('ROC AUC: %f' % thresholds)\n",
    "# confusion matrix\n",
    "matrix = confusion_matrix(Y_test, yhat_classes)\n",
    "print(matrix)"
   ]
  },
  {
   "cell_type": "code",
   "execution_count": 93,
   "metadata": {},
   "outputs": [
    {
     "name": "stderr",
     "output_type": "stream",
     "text": [
      "C:\\Users\\hp\\Anaconda3\\lib\\site-packages\\sklearn\\metrics\\ranking.py:659: UndefinedMetricWarning: No positive samples in y_true, true positive value should be meaningless\n",
      "  UndefinedMetricWarning)\n"
     ]
    }
   ],
   "source": [
    "fpr = {}\n",
    "tpr = {}\n",
    "thresh ={}\n",
    "\n",
    "n_class = 5\n",
    "\n",
    "for i in range(n_class):    \n",
    "    fpr[i], tpr[i], thresh[i] = roc_curve(Y_test, yhat_classes, pos_label=i)"
   ]
  },
  {
   "cell_type": "code",
   "execution_count": 94,
   "metadata": {},
   "outputs": [
    {
     "data": {
      "image/png": "[encoded data removed]",
      "text/plain": [
       "<Figure size 432x288 with 1 Axes>"
      ]
     },
     "metadata": {
      "needs_background": "light"
     },
     "output_type": "display_data"
    }
   ],
   "source": [
    "# plotting    \n",
    "plt.plot(fpr[0], tpr[0], linestyle='--',color='orange', label='Class 0 vs Rest')\n",
    "plt.plot(fpr[1], tpr[1], linestyle='--',color='green', label='Class 1 vs Rest')\n",
    "plt.plot(fpr[2], tpr[2], linestyle='--',color='blue', label='Class 2 vs Rest')\n",
    "plt.plot(fpr[3], tpr[3], linestyle='--',color='red', label='Class 3 vs Rest')\n",
    "plt.plot(fpr[4], tpr[4], linestyle='--',color='black', label='Class 4 vs Rest')\n",
    "plt.title('Multiclass ROC curve')\n",
    "plt.xlabel('False Positive Rate')\n",
    "plt.ylabel('True Positive rate')\n",
    "plt.legend(loc='best')\n",
    "plt.savefig('Multiclass ROC',dpi=300); "
   ]
  },
  {
   "cell_type": "code",
   "execution_count": 95,
   "metadata": {},
   "outputs": [
    {
     "name": "stdout",
     "output_type": "stream",
     "text": [
      "Confusion matrix : \n",
      " [[22  0  0  0]\n",
      " [ 0  5  0  0]\n",
      " [ 0  1  2  0]\n",
      " [ 0  0  0  7]]\n"
     ]
    }
   ],
   "source": [
    "matrix = confusion_matrix(Y_test,yhat_classes, labels= [0, 1, 3, 4])\n",
    "print('Confusion matrix : \\n',matrix)"
   ]
  },
  {
   "cell_type": "code",
   "execution_count": 96,
   "metadata": {},
   "outputs": [
    {
     "name": "stdout",
     "output_type": "stream",
     "text": [
      "Classification report : \n",
      "               precision    recall  f1-score   support\n",
      "\n",
      "           0       1.00      1.00      1.00        22\n",
      "           1       0.83      1.00      0.91         5\n",
      "           3       1.00      0.67      0.80         3\n",
      "           4       1.00      1.00      1.00         7\n",
      "\n",
      "    accuracy                           0.97        37\n",
      "   macro avg       0.96      0.92      0.93        37\n",
      "weighted avg       0.98      0.97      0.97        37\n",
      "\n"
     ]
    }
   ],
   "source": [
    "matrix = classification_report(Y_test,yhat_classes, labels= [0, 1, 3, 4])\n",
    "print('Classification report : \\n',matrix)"
   ]
  },
  {
   "cell_type": "code",
   "execution_count": 97,
   "metadata": {},
   "outputs": [],
   "source": [
    "classifier.save('./models/IG feature selection/WithoutIP Top9/Multi-class/CNN-DBN/DBN.pkl')"
   ]
  },
  {
   "cell_type": "code",
   "execution_count": null,
   "metadata": {},
   "outputs": [],
   "source": []
  }
 ],
 "metadata": {
  "kernelspec": {
   "display_name": "Python 3",
   "language": "python",
   "name": "python3"
  },
  "language_info": {
   "codemirror_mode": {
    "name": "ipython",
    "version": 3
   },
   "file_extension": ".py",
   "mimetype": "text/x-python",
   "name": "python",
   "nbconvert_exporter": "python",
   "pygments_lexer": "ipython3",
   "version": "3.7.4"
  }
 },
 "nbformat": 4,
 "nbformat_minor": 2
}

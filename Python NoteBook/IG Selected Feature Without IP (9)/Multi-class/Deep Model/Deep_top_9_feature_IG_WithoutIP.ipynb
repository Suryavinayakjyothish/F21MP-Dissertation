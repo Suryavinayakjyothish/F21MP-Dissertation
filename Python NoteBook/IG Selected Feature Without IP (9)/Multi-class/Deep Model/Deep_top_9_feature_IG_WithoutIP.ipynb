{
 "cells": [
  {
   "cell_type": "code",
   "execution_count": 1,
   "metadata": {},
   "outputs": [],
   "source": [
    "import pandas as pd\n",
    "import numpy as np\n",
    "from datetime import datetime\n",
    "import time\n",
    "import matplotlib.pyplot as plt\n",
    "import gc\n",
    "pd.set_option('display.max_columns', None)"
   ]
  },
  {
   "cell_type": "code",
   "execution_count": 2,
   "metadata": {},
   "outputs": [],
   "source": [
    "## for machine learning\n",
    "from sklearn import model_selection, preprocessing, feature_selection, ensemble, linear_model, metrics, decomposition\n",
    "## for plotting\n",
    "import matplotlib.pyplot as plt\n",
    "## for machine learning\n",
    "from sklearn import model_selection, preprocessing, feature_selection, ensemble, linear_model, metrics, decomposition\n",
    "from sklearn.preprocessing import LabelEncoder,Normalizer,StandardScaler, OneHotEncoder, MinMaxScaler\n",
    "from sklearn.feature_selection import mutual_info_classif\n",
    "from sklearn.metrics import confusion_matrix\n",
    "from sklearn.metrics import classification_report\n",
    "## for explainer\n",
    "#from lime import lime_tabular"
   ]
  },
  {
   "cell_type": "code",
   "execution_count": 3,
   "metadata": {},
   "outputs": [],
   "source": [
    "#to compute information gain\n",
    "def compute_impurity(feature, impurity_criterion):\n",
    "    \"\"\"\n",
    "    This function calculates impurity of a feature.\n",
    "    Supported impurity criteria: 'entropy', 'gini'\n",
    "    input: feature (this needs to be a Pandas series)\n",
    "    output: feature impurity\n",
    "    \"\"\"\n",
    "    probs = feature.value_counts(normalize=True)\n",
    "    \n",
    "    if impurity_criterion == 'entropy':\n",
    "        impurity = -1 * np.sum(np.log2(probs) * probs)\n",
    "    elif impurity_criterion == 'gini':\n",
    "        impurity = 1 - np.sum(np.square(probs))\n",
    "    else:\n",
    "        raise ValueError('Unknown impurity criterion')\n",
    "    return(round(impurity, 3))\n",
    "\n",
    "def comp_feature_information_gain(df, target, descriptive_feature, split_criterion):\n",
    "    \"\"\"\n",
    "    This function calculates information gain for splitting on \n",
    "    a particular descriptive feature for a given dataset\n",
    "    and a given impurity criteria.\n",
    "    Supported split criterion: 'entropy', 'gini'\n",
    "    \"\"\"\n",
    "    \n",
    "    print('target feature:', target)\n",
    "    print('descriptive_feature:', descriptive_feature)\n",
    "    print('split criterion:', split_criterion)\n",
    "            \n",
    "    target_entropy = compute_impurity(df[target], split_criterion)\n",
    "\n",
    "    # we define two lists below:\n",
    "    # entropy_list to store the entropy of each partition\n",
    "    # weight_list to store the relative number of observations in each partition\n",
    "    entropy_list = list()\n",
    "    weight_list = list()\n",
    "    \n",
    "    # loop over each level of the descriptive feature\n",
    "    # to partition the dataset with respect to that level\n",
    "    # and compute the entropy and the weight of the level's partition\n",
    "    for level in df[descriptive_feature].unique():\n",
    "        df_feature_level = df[df[descriptive_feature] == level]\n",
    "        entropy_level = compute_impurity(df_feature_level[target], split_criterion)\n",
    "        entropy_list.append(round(entropy_level, 3))\n",
    "        weight_level = len(df_feature_level) / len(df)\n",
    "        weight_list.append(round(weight_level, 3))\n",
    "\n",
    "   # print('impurity of partitions:', entropy_list)\n",
    "   # print('weights of partitions:', weight_list)\n",
    "\n",
    "    feature_remaining_impurity = np.sum(np.array(entropy_list) * np.array(weight_list))\n",
    "    print('remaining impurity:', feature_remaining_impurity)\n",
    "    \n",
    "    information_gain = target_entropy - feature_remaining_impurity\n",
    "    print('information gain:', information_gain)\n",
    "    \n",
    "    print('====================')\n",
    "\n",
    "    return(information_gain)"
   ]
  },
  {
   "cell_type": "code",
   "execution_count": 4,
   "metadata": {},
   "outputs": [],
   "source": [
    "#a = pd.read_csv('drive/My Drive/Colab Notebooks/traffic/OpenStack/CIDDS-001-internal-week1.csv', low_memory=False, encoding='cp1252')\n",
    "#b = pd.read_csv('drive/My Drive/Colab Notebooks/traffic/OpenStack/CIDDS-001-internal-week2.csv', low_memory=False, encoding='cp1252')\n",
    "a = pd.read_csv('./CIDDS-001/traffic/OpenStack/CIDDS-001-internal-week1.csv', low_memory=False, encoding='cp1252')\n",
    "b = pd.read_csv('./CIDDS-001/traffic/OpenStack/CIDDS-001-internal-week2.csv', low_memory=False, encoding='cp1252')\n",
    "c =  pd.read_csv('./CIDDS-001/traffic/ExternalServer/CIDDS-001-external-week2.csv', low_memory=False, encoding='cp1252')\n",
    "d =  pd.read_csv('./CIDDS-001/traffic/ExternalServer/CIDDS-001-external-week3.csv', low_memory=False, encoding='cp1252')\n",
    "e =  pd.read_csv('./CIDDS-001/traffic/ExternalServer/CIDDS-001-external-week4.csv', low_memory=False, encoding='cp1252')\n",
    "#f =  pd.read_csv('./CIDDS-001/traffic/ExternalServer/CIDDS-001-external-week1.csv', low_memory=False, encoding='cp1252')\n",
    "#c = pd.read_csv('drive/My Drive/Colab Notebooks/traffic/OpenStack/CIDDS-001-internal-week3.csv', low_memory=False , encoding='cp1252')\n",
    "#d = pd.read_csv('drive/My Drive/Colab Notebooks/traffic/OpenStack/CIDDS-001-internal-week4.csv', low_memory=False, encoding='cp1252')\n",
    "#e =  pd.read_csv('drive/My Drive/Colab Notebooks/traffic/ExternalServer/CIDDS-001-external-week1.csv', low_memory=False, encoding='cp1252')\n",
    "#f =  pd.read_csv('drive/My Drive/Colab Notebooks/traffic/ExternalServer/CIDDS-001-external-week2.csv', low_memory=False, encoding='cp1252')\n",
    "#g =  pd.read_csv('drive/My Drive/Colab Notebooks/traffic/ExternalServer/CIDDS-001-external-week3.csv', low_memory=False, encoding='cp1252')\n",
    "#h =  pd.read_csv('drive/My Drive/Colab Notebooks/traffic/ExternalServer/CIDDS-001-external-week4.csv', low_memory=False, encoding='cp1252')"
   ]
  },
  {
   "cell_type": "code",
   "execution_count": 5,
   "metadata": {},
   "outputs": [
    {
     "name": "stdout",
     "output_type": "stream",
     "text": [
      "(10310733, 16)\n"
     ]
    },
    {
     "data": {
      "text/plain": [
       "(1795404, 16)"
      ]
     },
     "execution_count": 5,
     "metadata": {},
     "output_type": "execute_result"
    }
   ],
   "source": [
    "print(b.shape)\n",
    "#a.drop(a[a['attackType'] == '---'].index, axis = 0, inplace= True) \n",
    "b.drop(b[b['attackType'] == '---'].index, axis = 0, inplace= True)  \n",
    "c.drop(c[c['attackType'] == '---'].index, axis = 0, inplace= True)  \n",
    "d.drop(d[d['attackType'] == '---'].index, axis = 0, inplace= True)  \n",
    "#e.drop(e[e['attackType'] == '---'].index, axis = 0, inplace= True)  \n",
    "b.shape"
   ]
  },
  {
   "cell_type": "code",
   "execution_count": 6,
   "metadata": {},
   "outputs": [],
   "source": [
    "data_external = pd.concat([c,d,e], axis = 0)\n",
    "data_external.reset_index(drop= True, inplace= True)"
   ]
  },
  {
   "cell_type": "code",
   "execution_count": 7,
   "metadata": {},
   "outputs": [],
   "source": [
    "#to Increment attackID values\n",
    "data_external['attackID'] = data_external['attackID'].apply(lambda x: str(int(x) + 70) if x != '---' else x)"
   ]
  },
  {
   "cell_type": "code",
   "execution_count": 8,
   "metadata": {},
   "outputs": [],
   "source": [
    "def convert_bytes(df):\n",
    "    if 'M' in df:\n",
    "        df = df.split('M')\n",
    "        df = df[0].strip()\n",
    "        df = float(df) * 1000000\n",
    "    elif 'B' in df:\n",
    "        df = df.split('B')\n",
    "        df = df[0].strip()\n",
    "        df =  float(df) * 1000000000\n",
    "    else: \n",
    "        df =float(df)\n",
    "    return df"
   ]
  },
  {
   "cell_type": "code",
   "execution_count": 9,
   "metadata": {},
   "outputs": [
    {
     "data": {
      "text/plain": [
       "60"
      ]
     },
     "execution_count": 9,
     "metadata": {},
     "output_type": "execute_result"
    }
   ],
   "source": [
    "data = pd.concat([a,b,data_external], axis = 0)\n",
    "data.reset_index(drop= True, inplace= True)\n",
    "data['Bytes'] = data['Bytes'].apply(lambda x: convert_bytes(x))\n",
    "columns = ['Src Pt', 'Dst Pt','Tos','Flows','Packets', 'Bytes']\n",
    "for i in columns:\n",
    "    data[i] = pd.to_numeric(data[i]);\n",
    "del columns\n",
    "del a,b,c,d,e, data_external\n",
    "gc.collect()"
   ]
  },
  {
   "cell_type": "code",
   "execution_count": 10,
   "metadata": {},
   "outputs": [],
   "source": [
    "#Converts Hexadecimal value to Binary\n",
    "def hex_to_binary(hexdata):\n",
    "    scale = 16 ## equals to hexadecimal\n",
    "    num_of_bits = 9\n",
    "    return bin(int(hexdata, scale))[2:].zfill(num_of_bits);\n",
    "#Converts TCP flags to Binary\n",
    "def to_Binary(x):\n",
    "    l = 0\n",
    "    x = '...' + x\n",
    "    x = list(x)\n",
    "    for i in x:\n",
    "        if (i=='.'):\n",
    "            x[l]= '0'\n",
    "        else:\n",
    "            x[l] = '1'\n",
    "        l = l +1\n",
    "    return ''.join(x)\n",
    "#Converts the 'Flags' column to 9 indiviual columns (manual oneshot encoding)\n",
    "def flag_convert(df):  \n",
    "   # df['Flags'] = df['Flags'].apply(lambda x: (list(x)))\n",
    "   # temp = df['Flags'].apply(lambda x: toBinary(x))\n",
    "    hex_values = list(df[(df['Flags'].str.contains(\"0x\", na=False))]['Flags'].unique())\n",
    "    flag_values = list(df[~(df['Flags'].str.contains(\"0x\", na=False))]['Flags'].unique())\n",
    "    binary_values = {}\n",
    "    for i in hex_values:\n",
    "         binary_values[i] = (hex_to_binary(i))\n",
    "    for i in flag_values:\n",
    "         binary_values[i] = (to_Binary(i))\n",
    "    temp = df['Flags'].replace(binary_values)\n",
    "#temp = temp.apply(lambda x: pd.Series(x)) \n",
    "    temp = pd.DataFrame(temp.apply(list).tolist())\n",
    "#temp = pd.DataFrame(temp)\n",
    "#a = a.iloc[: , 1:]\n",
    "   # print(temp.head())\n",
    "    temp.columns = ['N','C','E','U' ,'A','P','R','S','F']\n",
    "    for i in temp.columns:\n",
    "        temp[i] = pd.to_numeric(temp[i]);\n",
    "    temp = temp.reset_index(drop=True)\n",
    "    df = df.reset_index(drop=True)\n",
    "    df = pd.concat([df, temp], axis = 1)\n",
    "    return df;"
   ]
  },
  {
   "cell_type": "code",
   "execution_count": 11,
   "metadata": {},
   "outputs": [],
   "source": [
    "#make a IP_pairs \n",
    "def make_pair(df):\n",
    "    ip_pair = df['Src IP Addr'] +'/' +df['Dst IP Addr']\n",
    "    source_ip = df['Src IP Addr'].unique().tolist()\n",
    "    destination_ip = df['Dst IP Addr'].unique().tolist()\n",
    "   # df = df.drop(columns = ['Src IP Addr', 'Dst IP Addr'])\n",
    "    df.insert(1, ' IP Pair', ip_pair)\n",
    "    return df\n",
    "\n",
    "def check_inverse(df):\n",
    "    list_pairs = df[' IP Pair'].unique()\n",
    "    tuple_pair = []\n",
    "    for i in list_pairs:\n",
    "        tuple_pair.append(tuple((i.split('/'))))\n",
    "    dic_store = {}\n",
    "    for i in tuple_pair:\n",
    "        if (i  not in dic_store.keys()) and (i[::-1] not in dic_store.keys()):\n",
    "            dic_store[i] = i[0] + '/' +i[1]\n",
    "    print(len(dic_store.keys()))\n",
    "    dic_final = {}\n",
    "    for i in dic_store.keys():\n",
    "        dic_final[i[0] + '/' +i[1]] = dic_store[i]\n",
    "        dic_final[i[1] + '/' +i[0]] = dic_store[i]\n",
    "    df[' IP Pair'] = df[' IP Pair'].map(dic_final)               \n",
    "    return df"
   ]
  },
  {
   "cell_type": "code",
   "execution_count": 12,
   "metadata": {},
   "outputs": [],
   "source": [
    "def normalize_IP(df):\n",
    "    columns = ['sourceIP_feature 1', 'sourceIP_feature 2', 'sourceIP_feature 3', 'sourceIP_feature 4', 'destIP_feature 1',\n",
    "              'destIP_feature 2', 'destIP_feature 3', 'destIP_feature 4']\n",
    "    normalized = df[columns]\n",
    "    print(columns)\n",
    "    transformed = MinMaxScaler().fit(normalized).transform(normalized)\n",
    "    transformed = pd.DataFrame(transformed)\n",
    "    j = 0\n",
    "    col = {}\n",
    "    for i in columns:\n",
    "        col[j] = i\n",
    "        j=j+1\n",
    "    transformed = transformed.rename(columns = col)\n",
    "    transformed = transformed.reset_index()\n",
    "    for i in columns:\n",
    "        df[i] = transformed[i].to_numpy()\n",
    "    return df;"
   ]
  },
  {
   "cell_type": "code",
   "execution_count": 13,
   "metadata": {},
   "outputs": [],
   "source": [
    "def normalize(df):\n",
    "    numerics = ['int16', 'int32', 'int64', 'float16', 'float32', 'float64']\n",
    "    columns = data.select_dtypes(include=numerics).columns\n",
    "    normalized = df[columns]\n",
    "    print(columns)\n",
    "    transformed = MinMaxScaler().fit(normalized).transform(normalized)\n",
    "    transformed = pd.DataFrame(transformed)\n",
    "    j = 0\n",
    "    col = {}\n",
    "    for i in columns:\n",
    "        col[j] = i\n",
    "        j=j+1\n",
    "    transformed = transformed.rename(columns = col)\n",
    "    transformed = transformed.reset_index()\n",
    "    for i in columns:\n",
    "        df[i] = transformed[i].to_numpy()\n",
    "    return df;"
   ]
  },
  {
   "cell_type": "code",
   "execution_count": 14,
   "metadata": {},
   "outputs": [],
   "source": [
    "def one_shot(df):\n",
    "    label_encoder = LabelEncoder()\n",
    "    #df.astype({'attackType': 'str'})\n",
    "    df['attackType'] = label_encoder.fit_transform(df['attackType'])\n",
    "    print(list(label_encoder.classes_))\n",
    "    print(list(label_encoder.transform(label_encoder.classes_)))\n",
    "    \n",
    "    \n",
    "    \n",
    "    df['Proto'] = label_encoder.fit_transform(df['Proto'])\n",
    "    print(list(label_encoder.classes_))\n",
    "    print(list(label_encoder.transform(label_encoder.classes_)))\n",
    "    \n",
    "    onehot_encoder1 = OneHotEncoder()\n",
    "    onehot_encoder1.fit(df.Proto.to_numpy().reshape(-1, 1))\n",
    "    proto = onehot_encoder1.transform(df.Proto.to_numpy().reshape(-1, 1))\n",
    "    proto = pd.DataFrame.sparse.from_spmatrix(proto)\n",
    "    proto.astype('int32')\n",
    "    proto.columns = label_encoder.classes_\n",
    "   # print(proto.head(1))\n",
    "    df = pd.concat([df, proto], axis = 1)\n",
    "    return df;"
   ]
  },
  {
   "cell_type": "code",
   "execution_count": 15,
   "metadata": {},
   "outputs": [],
   "source": [
    "def drop_columns(df):\n",
    "    return df.drop(columns = ['Date first seen', ' IP Pair', 'Flows', 'class', 'attackID','Flags',\n",
    "                              'attackDescription', 'Src IP Addr', 'Dst IP Addr','Proto'], axis =1)"
   ]
  },
  {
   "cell_type": "code",
   "execution_count": 16,
   "metadata": {},
   "outputs": [],
   "source": [
    "#Aplit IP address into features, 7 features\n",
    "def split_to_net(IP_address):\n",
    "    IP_list = IP_address.split(\".\")\n",
    "    needed_len = 7\n",
    "    needed_len = needed_len - len(IP_list)\n",
    "    for i in range(0,needed_len,1):\n",
    "        IP_list.append('0')\n",
    "    return IP_list\n",
    "#replace unknown IP address, and convert to columns\n",
    "def IP_split(df): \n",
    "    replace = {\"ATTACKER1\":\"0.0.0.0\",\n",
    "           \"ATTACKER2\":\"0.0.0.0\",\n",
    "           \"ATTACKER3\":\"0.0.0.0\",\n",
    "           \"EXT_SERVER\": \"0.0.0.0.1\",\n",
    "          \"OPENSTACK_NET\": \"0.0.0.0.0.1\",\n",
    "          \"DNS\": \"0.0.0.0.0.0.1\"}\n",
    "    df = df.replace({\"Src IP Addr\": replace, \"Dst IP Addr\": replace}, value=None)\n",
    "    temp_source = df[\"Src IP Addr\"].apply(lambda x: \"0.0.0.0.0.0.0\" if ('_') in x else x)\n",
    "    temp_des = df['Dst IP Addr'].apply(lambda x: \"0.0.0.0.0.0.0\" if ('_') in x else x)\n",
    "   # sourceIP = list(df[\"Src IP Addr\"].unique())\n",
    "   # destIP = list(df[\"Dst IP Addr\"].unique())\n",
    "   # sourceIP_values = {}\n",
    "   # desIP_values = {}\n",
    "   # for i in sourceIP:\n",
    "   #      sourceIP_values[i] = (split_to_net(i))\n",
    "   # for i in destIP:\n",
    "   #      desIP_values[i] = (split_to_net(i))\n",
    "    #print(sourceIP_values)\n",
    "   # print(desIP_values)\n",
    "#for Source IP\n",
    "    temp_source = temp_source.apply(lambda x: split_to_net(x) )\n",
    "    temp_source = pd.DataFrame(temp_source.apply(list).tolist())\n",
    "    temp_source.columns = ['sourceIP_feature 1','sourceIP_feature 2','sourceIP_feature 3','sourceIP_feature 4' ,\n",
    "                    'sourceEXT_SERVER','sourceOPENSTACK_NET','sourceDNS']\n",
    "    for i in temp_source.columns:\n",
    "        temp_source[i] = pd.to_numeric(temp_source[i]);\n",
    "    temp_source = temp_source.reset_index(drop=True)\n",
    "    df = df.reset_index(drop=True)\n",
    "    df = pd.concat([df, temp_source], axis = 1)\n",
    "    #for Destination IP\n",
    "    temp_des = temp_des.apply(lambda x: split_to_net(x) )\n",
    "    temp_des = pd.DataFrame(temp_des.apply(list).tolist())\n",
    "    temp_des.columns = ['destIP_feature 1','destIP_feature 2','destIP_feature 3','destIP_feature 4' ,\n",
    "                    'destEXT_SERVER','destOPENSTACK_NET','destDNS']\n",
    "    for i in temp_des.columns:\n",
    "        temp_des[i] = pd.to_numeric(temp_des[i]);\n",
    "    temp_des = temp_des.reset_index(drop=True)\n",
    "    df = df.reset_index(drop=True)\n",
    "    df = pd.concat([df, temp_des], axis = 1)\n",
    "    return df;"
   ]
  },
  {
   "cell_type": "code",
   "execution_count": 17,
   "metadata": {},
   "outputs": [
    {
     "name": "stdout",
     "output_type": "stream",
     "text": [
      "59362\n"
     ]
    }
   ],
   "source": [
    "data = make_pair(data)\n",
    "data = check_inverse(data)"
   ]
  },
  {
   "cell_type": "code",
   "execution_count": 18,
   "metadata": {},
   "outputs": [],
   "source": [
    "#data = IP_split(data)"
   ]
  },
  {
   "cell_type": "code",
   "execution_count": 19,
   "metadata": {
    "scrolled": true
   },
   "outputs": [
    {
     "name": "stdout",
     "output_type": "stream",
     "text": [
      "Index(['Duration', 'Src Pt', 'Dst Pt', 'Packets', 'Bytes', 'Flows', 'Tos'], dtype='object')\n",
      "['---', 'bruteForce', 'dos', 'pingScan', 'portScan']\n",
      "[0, 1, 2, 3, 4]\n",
      "['GRE  ', 'ICMP ', 'IGMP ', 'TCP  ', 'UDP  ']\n",
      "[0, 1, 2, 3, 4]\n"
     ]
    },
    {
     "name": "stderr",
     "output_type": "stream",
     "text": [
      "C:\\Users\\hp\\Anaconda3\\lib\\site-packages\\sklearn\\preprocessing\\_encoders.py:415: FutureWarning: The handling of integer data will change in version 0.22. Currently, the categories are determined based on the range [0, max(values)], while in the future they will be determined based on the unique values.\n",
      "If you want the future behaviour and silence this warning, you can specify \"categories='auto'\".\n",
      "In case you used a LabelEncoder before this OneHotEncoder to convert the categories to integers, then you can now use the OneHotEncoder directly.\n",
      "  warnings.warn(msg, FutureWarning)\n"
     ]
    }
   ],
   "source": [
    "data = normalize(data)\n",
    "data =  one_shot(data) \n",
    "#data = normalize_IP(data)"
   ]
  },
  {
   "cell_type": "code",
   "execution_count": 20,
   "metadata": {},
   "outputs": [],
   "source": [
    "data_ig = flag_convert(data)\n",
    "data_ig = drop_columns(data)"
   ]
  },
  {
   "cell_type": "code",
   "execution_count": 21,
   "metadata": {
    "scrolled": true
   },
   "outputs": [
    {
     "name": "stdout",
     "output_type": "stream",
     "text": [
      "target feature: attackType\n",
      "descriptive_feature: Duration\n",
      "split criterion: entropy\n",
      "remaining impurity: 0.401493\n",
      "information gain: 0.640507\n",
      "====================\n",
      "target feature: attackType\n",
      "descriptive_feature: Src Pt\n",
      "split criterion: entropy\n",
      "remaining impurity: 0.27205699999999994\n",
      "information gain: 0.769943\n",
      "====================\n",
      "target feature: attackType\n",
      "descriptive_feature: Dst Pt\n",
      "split criterion: entropy\n",
      "remaining impurity: 0.27464799999999995\n",
      "information gain: 0.767352\n",
      "====================\n",
      "target feature: attackType\n",
      "descriptive_feature: Packets\n",
      "split criterion: entropy\n",
      "remaining impurity: 0.48312599999999994\n",
      "information gain: 0.5588740000000001\n",
      "====================\n",
      "target feature: attackType\n",
      "descriptive_feature: Bytes\n",
      "split criterion: entropy\n",
      "remaining impurity: 0.065486\n",
      "information gain: 0.976514\n",
      "====================\n",
      "target feature: attackType\n",
      "descriptive_feature: Tos\n",
      "split criterion: entropy\n",
      "remaining impurity: 0.8962410000000001\n",
      "information gain: 0.14575899999999997\n",
      "====================\n",
      "target feature: attackType\n",
      "descriptive_feature: GRE  \n",
      "split criterion: entropy\n"
     ]
    },
    {
     "name": "stderr",
     "output_type": "stream",
     "text": [
      "C:\\Users\\hp\\Anaconda3\\lib\\site-packages\\pandas\\core\\indexing.py:2418: FutureWarning: DataFrame/Series.to_dense is deprecated and will be removed in a future version\n",
      "  result = result.to_dense()\n"
     ]
    },
    {
     "name": "stdout",
     "output_type": "stream",
     "text": [
      "remaining impurity: 1.042\n",
      "information gain: 0.0\n",
      "====================\n",
      "target feature: attackType\n",
      "descriptive_feature: ICMP \n",
      "split criterion: entropy\n",
      "remaining impurity: 1.032648\n",
      "information gain: 0.009352000000000027\n",
      "====================\n",
      "target feature: attackType\n",
      "descriptive_feature: IGMP \n",
      "split criterion: entropy\n",
      "remaining impurity: 1.042\n",
      "information gain: 0.0\n",
      "====================\n",
      "target feature: attackType\n",
      "descriptive_feature: TCP  \n",
      "split criterion: entropy\n",
      "remaining impurity: 0.9856520000000001\n",
      "information gain: 0.056347999999999954\n",
      "====================\n",
      "target feature: attackType\n",
      "descriptive_feature: UDP  \n",
      "split criterion: entropy\n",
      "remaining impurity: 0.9867680000000001\n",
      "information gain: 0.05523199999999995\n",
      "====================\n"
     ]
    },
    {
     "data": {
      "text/plain": [
       "{'Duration': 0.640507,\n",
       " 'Src Pt': 0.769943,\n",
       " 'Dst Pt': 0.767352,\n",
       " 'Packets': 0.5588740000000001,\n",
       " 'Bytes': 0.976514,\n",
       " 'Tos': 0.14575899999999997,\n",
       " 'GRE  ': 0.0,\n",
       " 'ICMP ': 0.009352000000000027,\n",
       " 'IGMP ': 0.0,\n",
       " 'TCP  ': 0.056347999999999954,\n",
       " 'UDP  ': 0.05523199999999995}"
      ]
     },
     "execution_count": 21,
     "metadata": {},
     "output_type": "execute_result"
    }
   ],
   "source": [
    "split_criterion = 'entropy'\n",
    "feature_info_gain = {}\n",
    "for feature in data_ig.drop(columns='attackType').columns:\n",
    "    feature_info_gain[feature] = comp_feature_information_gain(data_ig, 'attackType', feature, split_criterion)\n",
    "feature_info_gain"
   ]
  },
  {
   "cell_type": "code",
   "execution_count": 22,
   "metadata": {
    "scrolled": true
   },
   "outputs": [
    {
     "data": {
      "text/html": [
       "<div>\n",
       "<style scoped>\n",
       "    .dataframe tbody tr th:only-of-type {\n",
       "        vertical-align: middle;\n",
       "    }\n",
       "\n",
       "    .dataframe tbody tr th {\n",
       "        vertical-align: top;\n",
       "    }\n",
       "\n",
       "    .dataframe thead th {\n",
       "        text-align: right;\n",
       "    }\n",
       "</style>\n",
       "<table border=\"1\" class=\"dataframe\">\n",
       "  <thead>\n",
       "    <tr style=\"text-align: right;\">\n",
       "      <th></th>\n",
       "      <th>entropy</th>\n",
       "    </tr>\n",
       "  </thead>\n",
       "  <tbody>\n",
       "    <tr>\n",
       "      <td>Bytes</td>\n",
       "      <td>0.976514</td>\n",
       "    </tr>\n",
       "    <tr>\n",
       "      <td>Src Pt</td>\n",
       "      <td>0.769943</td>\n",
       "    </tr>\n",
       "    <tr>\n",
       "      <td>Dst Pt</td>\n",
       "      <td>0.767352</td>\n",
       "    </tr>\n",
       "    <tr>\n",
       "      <td>Duration</td>\n",
       "      <td>0.640507</td>\n",
       "    </tr>\n",
       "    <tr>\n",
       "      <td>Packets</td>\n",
       "      <td>0.558874</td>\n",
       "    </tr>\n",
       "    <tr>\n",
       "      <td>Tos</td>\n",
       "      <td>0.145759</td>\n",
       "    </tr>\n",
       "    <tr>\n",
       "      <td>TCP</td>\n",
       "      <td>0.056348</td>\n",
       "    </tr>\n",
       "    <tr>\n",
       "      <td>UDP</td>\n",
       "      <td>0.055232</td>\n",
       "    </tr>\n",
       "    <tr>\n",
       "      <td>ICMP</td>\n",
       "      <td>0.009352</td>\n",
       "    </tr>\n",
       "    <tr>\n",
       "      <td>IGMP</td>\n",
       "      <td>0.000000</td>\n",
       "    </tr>\n",
       "    <tr>\n",
       "      <td>GRE</td>\n",
       "      <td>0.000000</td>\n",
       "    </tr>\n",
       "  </tbody>\n",
       "</table>\n",
       "</div>"
      ],
      "text/plain": [
       "           entropy\n",
       "Bytes     0.976514\n",
       "Src Pt    0.769943\n",
       "Dst Pt    0.767352\n",
       "Duration  0.640507\n",
       "Packets   0.558874\n",
       "Tos       0.145759\n",
       "TCP       0.056348\n",
       "UDP       0.055232\n",
       "ICMP      0.009352\n",
       "IGMP      0.000000\n",
       "GRE       0.000000"
      ]
     },
     "execution_count": 22,
     "metadata": {},
     "output_type": "execute_result"
    }
   ],
   "source": [
    "feature_info_gain = pd.DataFrame.from_dict([feature_info_gain]).transpose()\n",
    "feature_info_gain = pd.DataFrame(feature_info_gain[0].sort_values(ascending = False))\n",
    "feature_info_gain.columns = ['entropy']\n",
    "feature_info_gain"
   ]
  },
  {
   "cell_type": "code",
   "execution_count": 25,
   "metadata": {
    "scrolled": true
   },
   "outputs": [
    {
     "name": "stdout",
     "output_type": "stream",
     "text": [
      "target feature: attackType\n",
      "descriptive_feature: Duration\n",
      "split criterion: gini\n",
      "remaining impurity: 0.14406099999999997\n",
      "information gain: 0.30093900000000007\n",
      "====================\n",
      "target feature: attackType\n",
      "descriptive_feature: Src Pt\n",
      "split criterion: gini\n",
      "remaining impurity: 0.133217\n",
      "information gain: 0.31178300000000003\n",
      "====================\n",
      "target feature: attackType\n",
      "descriptive_feature: Dst Pt\n",
      "split criterion: gini\n",
      "remaining impurity: 0.13347900000000001\n",
      "information gain: 0.311521\n",
      "====================\n",
      "target feature: attackType\n",
      "descriptive_feature: Packets\n",
      "split criterion: gini\n",
      "remaining impurity: 0.202782\n",
      "information gain: 0.24221800000000002\n",
      "====================\n",
      "target feature: attackType\n",
      "descriptive_feature: Bytes\n",
      "split criterion: gini\n",
      "remaining impurity: 0.024279000000000002\n",
      "information gain: 0.420721\n",
      "====================\n",
      "target feature: attackType\n",
      "descriptive_feature: Tos\n",
      "split criterion: gini\n",
      "remaining impurity: 0.392797\n",
      "information gain: 0.052203\n",
      "====================\n",
      "target feature: attackType\n",
      "descriptive_feature: GRE  \n",
      "split criterion: gini\n",
      "remaining impurity: 0.445\n",
      "information gain: 0.0\n",
      "====================\n",
      "target feature: attackType\n",
      "descriptive_feature: ICMP \n",
      "split criterion: gini\n",
      "remaining impurity: 0.444252\n",
      "information gain: 0.0007480000000000264\n",
      "====================\n",
      "target feature: attackType\n",
      "descriptive_feature: IGMP \n",
      "split criterion: gini\n",
      "remaining impurity: 0.445\n",
      "information gain: 0.0\n",
      "====================\n",
      "target feature: attackType\n",
      "descriptive_feature: TCP  \n",
      "split criterion: gini\n",
      "remaining impurity: 0.426607\n",
      "information gain: 0.018392999999999993\n",
      "====================\n",
      "target feature: attackType\n",
      "descriptive_feature: UDP  \n",
      "split criterion: gini\n",
      "remaining impurity: 0.425641\n",
      "information gain: 0.019359000000000015\n",
      "====================\n"
     ]
    },
    {
     "data": {
      "text/plain": [
       "{'Duration': 0.30093900000000007,\n",
       " 'Src Pt': 0.31178300000000003,\n",
       " 'Dst Pt': 0.311521,\n",
       " 'Packets': 0.24221800000000002,\n",
       " 'Bytes': 0.420721,\n",
       " 'Tos': 0.052203,\n",
       " 'GRE  ': 0.0,\n",
       " 'ICMP ': 0.0007480000000000264,\n",
       " 'IGMP ': 0.0,\n",
       " 'TCP  ': 0.018392999999999993,\n",
       " 'UDP  ': 0.019359000000000015}"
      ]
     },
     "execution_count": 25,
     "metadata": {},
     "output_type": "execute_result"
    }
   ],
   "source": [
    "split_criterion = 'gini'\n",
    "feature_info_gain1 = {}\n",
    "for feature in data_ig.drop(columns='attackType').columns:\n",
    "    feature_info_gain1[feature] = comp_feature_information_gain(data_ig, 'attackType', feature, split_criterion)\n",
    "feature_info_gain1"
   ]
  },
  {
   "cell_type": "code",
   "execution_count": 26,
   "metadata": {
    "scrolled": true
   },
   "outputs": [
    {
     "ename": "TypeError",
     "evalue": "__init__() got an unexpected keyword argument 'column'",
     "output_type": "error",
     "traceback": [
      "\u001b[1;31m---------------------------------------------------------------------------\u001b[0m",
      "\u001b[1;31mTypeError\u001b[0m                                 Traceback (most recent call last)",
      "\u001b[1;32m<ipython-input-26-488f4a7af678>\u001b[0m in \u001b[0;36m<module>\u001b[1;34m\u001b[0m\n\u001b[0;32m      1\u001b[0m \u001b[0mfeature_info_gain1\u001b[0m \u001b[1;33m=\u001b[0m \u001b[0mpd\u001b[0m\u001b[1;33m.\u001b[0m\u001b[0mDataFrame\u001b[0m\u001b[1;33m.\u001b[0m\u001b[0mfrom_dict\u001b[0m\u001b[1;33m(\u001b[0m\u001b[1;33m[\u001b[0m\u001b[0mfeature_info_gain1\u001b[0m\u001b[1;33m]\u001b[0m\u001b[1;33m)\u001b[0m\u001b[1;33m.\u001b[0m\u001b[0mtranspose\u001b[0m\u001b[1;33m(\u001b[0m\u001b[1;33m)\u001b[0m\u001b[1;33m\u001b[0m\u001b[1;33m\u001b[0m\u001b[0m\n\u001b[1;32m----> 2\u001b[1;33m \u001b[0mfeature_info_gain1\u001b[0m \u001b[1;33m=\u001b[0m \u001b[0mpd\u001b[0m\u001b[1;33m.\u001b[0m\u001b[0mDataFrame\u001b[0m\u001b[1;33m(\u001b[0m\u001b[0mfeature_info_gain1\u001b[0m\u001b[1;33m[\u001b[0m\u001b[1;36m0\u001b[0m\u001b[1;33m]\u001b[0m\u001b[1;33m.\u001b[0m\u001b[0msort_values\u001b[0m\u001b[1;33m(\u001b[0m\u001b[0mascending\u001b[0m \u001b[1;33m=\u001b[0m \u001b[1;32mFalse\u001b[0m\u001b[1;33m)\u001b[0m\u001b[1;33m,\u001b[0m \u001b[0mcolumn\u001b[0m \u001b[1;33m=\u001b[0m \u001b[1;33m[\u001b[0m\u001b[1;34m'gini'\u001b[0m\u001b[1;33m]\u001b[0m\u001b[1;33m)\u001b[0m\u001b[1;33m\u001b[0m\u001b[1;33m\u001b[0m\u001b[0m\n\u001b[0m\u001b[0;32m      3\u001b[0m \u001b[0mfeature_info_gain1\u001b[0m\u001b[1;33m.\u001b[0m\u001b[0mcolumns\u001b[0m \u001b[1;33m=\u001b[0m \u001b[1;33m[\u001b[0m\u001b[1;34m'gini'\u001b[0m\u001b[1;33m]\u001b[0m\u001b[1;33m\u001b[0m\u001b[1;33m\u001b[0m\u001b[0m\n\u001b[0;32m      4\u001b[0m \u001b[0mfeature_info_gain1\u001b[0m\u001b[1;33m\u001b[0m\u001b[1;33m\u001b[0m\u001b[0m\n",
      "\u001b[1;31mTypeError\u001b[0m: __init__() got an unexpected keyword argument 'column'"
     ]
    }
   ],
   "source": [
    "feature_info_gain1 = pd.DataFrame.from_dict([feature_info_gain1]).transpose()\n",
    "feature_info_gain1 = pd.DataFrame(feature_info_gain1[0].sort_values(ascending = False), column = ['gini'])\n",
    "#feature_info_gain1.columns = ['gini']\n",
    "feature_info_gain1"
   ]
  },
  {
   "cell_type": "code",
   "execution_count": 27,
   "metadata": {},
   "outputs": [
    {
     "data": {
      "text/plain": [
       "Index(['Bytes', 'Src Pt', 'Dst Pt', 'Duration', 'Packets', 'Tos', 'TCP  ',\n",
       "       'UDP  ', 'ICMP '],\n",
       "      dtype='object')"
      ]
     },
     "execution_count": 27,
     "metadata": {},
     "output_type": "execute_result"
    }
   ],
   "source": [
    "#The FIrst 9 features are selected\n",
    "selected_features = feature_info_gain.index\n",
    "selected_features = selected_features[0:9]\n",
    "selected_features"
   ]
  },
  {
   "cell_type": "code",
   "execution_count": 20,
   "metadata": {},
   "outputs": [
    {
     "data": {
      "text/plain": [
       "20"
      ]
     },
     "execution_count": 20,
     "metadata": {},
     "output_type": "execute_result"
    }
   ],
   "source": [
    "gc.collect()"
   ]
  },
  {
   "cell_type": "code",
   "execution_count": 21,
   "metadata": {},
   "outputs": [],
   "source": [
    "from datetime import datetime\n",
    "def unix_time(df):\n",
    "  #  df[' Timestamp'] = df[' Timestamp'].apply(lambda x: x + ':00' if len(x) != 19 else x)\n",
    "   # df[' Timestamp'] = df[' Timestamp'].apply(lambda x: x[0 : 5 : ] + x[7 : :] if len(x) != 19 else x[0 : 7 : ] + x[9 : :])\n",
    "    df['Date first seen'] = df['Date first seen'].apply(lambda x: datetime.strptime(x,'%Y-%m-%d %H:%M:%S.%f'))\n",
    "    df['Date first seen'] = df['Date first seen'].apply(lambda x: x.timestamp()*1000)\n",
    "    return df;"
   ]
  },
  {
   "cell_type": "code",
   "execution_count": 22,
   "metadata": {},
   "outputs": [],
   "source": [
    "def normal_profile(grouped):\n",
    "    grouped['---'] = unix_time(grouped['---'])\n",
    "    start_time = int(grouped['---'].head(1)['Date first seen'].values[0])\n",
    "    end_time = int(grouped['---'].tail(1)['Date first seen'].values[0])\n",
    "#date_bins = pd.IntervalIndex.from_tuples(\n",
    "#        [(i, i+3600000) for i in range(start_time, end_time, 3600000)],\n",
    "#        closed=\"left\")\n",
    "#date_labels = [f\"{i}\" for i in range(1, len(date_bins)+1, 1)]\n",
    "    normal_data = dict(tuple( grouped['---'].groupby( pd.cut(\n",
    "            grouped['---']['Date first seen'],\n",
    "               np.arange(start_time, end_time, 3*3600000)))))\n",
    "    del grouped['---']\n",
    "    num = []\n",
    "    for i in grouped_data.keys():\n",
    "          num.append(len(grouped_data[i]))\n",
    "    print(min(num))\n",
    "    num = max(num)\n",
    "    print(num)\n",
    "    print(len(grouped.keys()))\n",
    "    grouped = {**grouped, **normal_data}\n",
    "    print(len(grouped.keys()))\n",
    "    return grouped, num;"
   ]
  },
  {
   "cell_type": "code",
   "execution_count": 23,
   "metadata": {},
   "outputs": [
    {
     "data": {
      "text/plain": [
       "0"
      ]
     },
     "execution_count": 23,
     "metadata": {},
     "output_type": "execute_result"
    }
   ],
   "source": [
    "grouped_data= dict(tuple(data.groupby(['attackID'])))\n",
    "del data\n",
    "gc.collect()"
   ]
  },
  {
   "cell_type": "code",
   "execution_count": 24,
   "metadata": {
    "scrolled": true
   },
   "outputs": [
    {
     "name": "stdout",
     "output_type": "stream",
     "text": [
      "---: 7195669 : 0\n",
      "Attack ID: 25; Lenght of Attack: 201; Attack Type: 1\n",
      "Attack ID: 27; Lenght of Attack: 680; Attack Type: 1\n",
      "Attack ID: 30; Lenght of Attack: 46; Attack Type: 1\n",
      "Attack ID: 32; Lenght of Attack: 335; Attack Type: 1\n",
      "Attack ID: 39; Lenght of Attack: 364; Attack Type: 1\n",
      "Attack ID: 54; Lenght of Attack: 183; Attack Type: 1\n",
      "Attack ID: 55; Lenght of Attack: 757; Attack Type: 1\n",
      "Attack ID: 56; Lenght of Attack: 427; Attack Type: 1\n",
      "Attack ID: 61; Lenght of Attack: 705; Attack Type: 1\n",
      "Attack ID: 62; Lenght of Attack: 574; Attack Type: 1\n",
      "Attack ID: 64; Lenght of Attack: 480; Attack Type: 1\n",
      "Attack ID: 70; Lenght of Attack: 240; Attack Type: 1\n",
      "Attack ID: 73; Lenght of Attack: 200; Attack Type: 1\n",
      "Attack ID: 74; Lenght of Attack: 200; Attack Type: 1\n",
      "Attack ID: 75; Lenght of Attack: 200; Attack Type: 1\n",
      "Attack ID: 76; Lenght of Attack: 168; Attack Type: 1\n",
      "Attack ID: 78; Lenght of Attack: 200; Attack Type: 1\n",
      "Attack ID: 79; Lenght of Attack: 200; Attack Type: 1\n",
      "Attack ID: 81; Lenght of Attack: 200; Attack Type: 1\n",
      "Attack ID: 83; Lenght of Attack: 200; Attack Type: 1\n",
      "Attack ID: 84; Lenght of Attack: 200; Attack Type: 1\n",
      "Attack ID: 87; Lenght of Attack: 200; Attack Type: 1\n",
      "Attack ID: 88; Lenght of Attack: 200; Attack Type: 1\n",
      "Attack ID: 90; Lenght of Attack: 200; Attack Type: 1\n",
      "Attack ID: 91; Lenght of Attack: 40; Attack Type: 1\n",
      "Attack ID: 92; Lenght of Attack: 40; Attack Type: 1\n",
      "dos : 18\n",
      "Attack ID: 16; Lenght of Attack: 261003; Attack Type: 2\n",
      "Attack ID: 18; Lenght of Attack: 295302; Attack Type: 2\n",
      "Attack ID: 23; Lenght of Attack: 72788; Attack Type: 2\n",
      "Attack ID: 26; Lenght of Attack: 74471; Attack Type: 2\n",
      "Attack ID: 28; Lenght of Attack: 36306; Attack Type: 2\n",
      "Attack ID: 3; Lenght of Attack: 37118; Attack Type: 2\n",
      "Attack ID: 31; Lenght of Attack: 144845; Attack Type: 2\n",
      "Attack ID: 4; Lenght of Attack: 72063; Attack Type: 2\n",
      "Attack ID: 42; Lenght of Attack: 184040; Attack Type: 2\n",
      "Attack ID: 44; Lenght of Attack: 261169; Attack Type: 2\n",
      "Attack ID: 45; Lenght of Attack: 224960; Attack Type: 2\n",
      "Attack ID: 46; Lenght of Attack: 111720; Attack Type: 2\n",
      "Attack ID: 53; Lenght of Attack: 516299; Attack Type: 2\n",
      "Attack ID: 59; Lenght of Attack: 110484; Attack Type: 2\n",
      "Attack ID: 6; Lenght of Attack: 37134; Attack Type: 2\n",
      "Attack ID: 60; Lenght of Attack: 333627; Attack Type: 2\n",
      "Attack ID: 63; Lenght of Attack: 148641; Attack Type: 2\n",
      "Attack ID: 9; Lenght of Attack: 37057; Attack Type: 2\n",
      "pingScan: 16\n",
      "Attack ID: 10; Lenght of Attack: 311; Attack Type: 3\n",
      "Attack ID: 13; Lenght of Attack: 513; Attack Type: 3\n",
      "Attack ID: 15; Lenght of Attack: 64; Attack Type: 3\n",
      "Attack ID: 22; Lenght of Attack: 295; Attack Type: 3\n",
      "Attack ID: 24; Lenght of Attack: 466; Attack Type: 3\n",
      "Attack ID: 33; Lenght of Attack: 307; Attack Type: 3\n",
      "Attack ID: 35; Lenght of Attack: 263; Attack Type: 3\n",
      "Attack ID: 36; Lenght of Attack: 494; Attack Type: 3\n",
      "Attack ID: 38; Lenght of Attack: 267; Attack Type: 3\n",
      "Attack ID: 41; Lenght of Attack: 379; Attack Type: 3\n",
      "Attack ID: 52; Lenght of Attack: 607; Attack Type: 3\n",
      "Attack ID: 57; Lenght of Attack: 522; Attack Type: 3\n",
      "Attack ID: 58; Lenght of Attack: 510; Attack Type: 3\n",
      "Attack ID: 65; Lenght of Attack: 373; Attack Type: 3\n",
      "Attack ID: 66; Lenght of Attack: 359; Attack Type: 3\n",
      "Attack ID: 69; Lenght of Attack: 360; Attack Type: 3\n",
      "portScan : 32\n",
      "Attack ID: 1; Lenght of Attack: 7657; Attack Type: 4\n",
      "Attack ID: 11; Lenght of Attack: 17401; Attack Type: 4\n",
      "Attack ID: 12; Lenght of Attack: 11526; Attack Type: 4\n",
      "Attack ID: 14; Lenght of Attack: 13807; Attack Type: 4\n",
      "Attack ID: 17; Lenght of Attack: 13338; Attack Type: 4\n",
      "Attack ID: 19; Lenght of Attack: 11672; Attack Type: 4\n",
      "Attack ID: 2; Lenght of Attack: 1927; Attack Type: 4\n",
      "Attack ID: 20; Lenght of Attack: 11748; Attack Type: 4\n",
      "Attack ID: 21; Lenght of Attack: 5113; Attack Type: 4\n",
      "Attack ID: 29; Lenght of Attack: 19732; Attack Type: 4\n",
      "Attack ID: 34; Lenght of Attack: 12909; Attack Type: 4\n",
      "Attack ID: 37; Lenght of Attack: 26114; Attack Type: 4\n",
      "Attack ID: 40; Lenght of Attack: 11609; Attack Type: 4\n",
      "Attack ID: 43; Lenght of Attack: 2143; Attack Type: 4\n",
      "Attack ID: 47; Lenght of Attack: 13420; Attack Type: 4\n",
      "Attack ID: 48; Lenght of Attack: 13600; Attack Type: 4\n",
      "Attack ID: 49; Lenght of Attack: 17629; Attack Type: 4\n",
      "Attack ID: 5; Lenght of Attack: 4948; Attack Type: 4\n",
      "Attack ID: 50; Lenght of Attack: 4589; Attack Type: 4\n",
      "Attack ID: 51; Lenght of Attack: 11968; Attack Type: 4\n",
      "Attack ID: 67; Lenght of Attack: 13426; Attack Type: 4\n",
      "Attack ID: 68; Lenght of Attack: 5632; Attack Type: 4\n",
      "Attack ID: 7; Lenght of Attack: 9586; Attack Type: 4\n",
      "Attack ID: 71; Lenght of Attack: 2008; Attack Type: 4\n",
      "Attack ID: 72; Lenght of Attack: 2002; Attack Type: 4\n",
      "Attack ID: 77; Lenght of Attack: 6410; Attack Type: 4\n",
      "Attack ID: 8; Lenght of Attack: 4424; Attack Type: 4\n",
      "Attack ID: 80; Lenght of Attack: 1991; Attack Type: 4\n",
      "Attack ID: 82; Lenght of Attack: 1370; Attack Type: 4\n",
      "Attack ID: 85; Lenght of Attack: 1984; Attack Type: 4\n",
      "Attack ID: 86; Lenght of Attack: 2002; Attack Type: 4\n",
      "Attack ID: 89; Lenght of Attack: 952; Attack Type: 4\n"
     ]
    }
   ],
   "source": [
    "no_1 = []\n",
    "no_2 = []\n",
    "no_3 = []\n",
    "no_4 = []\n",
    "for i in grouped_data.keys():\n",
    "   \n",
    "    if grouped_data[i]['attackType'].unique()[0] == 0:\n",
    "        print(f\"{i}: {len(grouped_data[i])} : {grouped_data[i]['attackType'].unique()[0]}\")\n",
    "    if grouped_data[i]['attackType'].unique()[0] == 1:\n",
    "              no_1.append(i)\n",
    "    if grouped_data[i]['attackType'].unique()[0] == 2:\n",
    "              no_2.append(i)\n",
    "    if grouped_data[i]['attackType'].unique()[0] == 3:\n",
    "              no_3.append(i)\n",
    "    if grouped_data[i]['attackType'].unique()[0] == 4:\n",
    "              no_4.append(i)\n",
    "for i in no_1:\n",
    "     print(f\"Attack ID: {i}; Lenght of Attack: {len(grouped_data[i])}; Attack Type: {grouped_data[i]['attackType'].unique()[0]}\")\n",
    "print(f\"dos : {len(no_2)}\")\n",
    "for i in no_2:\n",
    "     print(f\"Attack ID: {i}; Lenght of Attack: {len(grouped_data[i])}; Attack Type: {grouped_data[i]['attackType'].unique()[0]}\")\n",
    "print(f\"pingScan: {len(no_3)}\")\n",
    "for i in no_3:\n",
    "     print(f\"Attack ID: {i}; Lenght of Attack: {len(grouped_data[i])}; Attack Type: {grouped_data[i]['attackType'].unique()[0]}\")\n",
    "print(f\"portScan : {len(no_4)}\")\n",
    "for i in no_4:\n",
    "     print(f\"Attack ID: {i}; Lenght of Attack: {len(grouped_data[i])}; Attack Type: {grouped_data[i]['attackType'].unique()[0]}\")\n"
   ]
  },
  {
   "cell_type": "code",
   "execution_count": 25,
   "metadata": {},
   "outputs": [
    {
     "data": {
      "text/plain": [
       "20"
      ]
     },
     "execution_count": 25,
     "metadata": {},
     "output_type": "execute_result"
    }
   ],
   "source": [
    "del no_1\n",
    "del no_2\n",
    "del no_3\n",
    "del no_4\n",
    "gc.collect()"
   ]
  },
  {
   "cell_type": "code",
   "execution_count": 26,
   "metadata": {},
   "outputs": [],
   "source": [
    "def del_largeInstances(dic, length):\n",
    "    remove_ID = []\n",
    "    for i in dic.keys():\n",
    "        if (i != '---'):\n",
    "            if(len(dic[i]) >= length):\n",
    "                remove_ID.append(i)\n",
    "    print(len(remove_ID))\n",
    "    removed_attacks = {}\n",
    "    for i in remove_ID:\n",
    "        removed_attacks[i] = dic[i]\n",
    "        del dic[i]\n",
    "    return dic;"
   ]
  },
  {
   "cell_type": "code",
   "execution_count": 27,
   "metadata": {},
   "outputs": [
    {
     "name": "stdout",
     "output_type": "stream",
     "text": [
      "19\n"
     ]
    }
   ],
   "source": [
    "grouped_data = del_largeInstances(grouped_data, 20000)"
   ]
  },
  {
   "cell_type": "code",
   "execution_count": 28,
   "metadata": {},
   "outputs": [
    {
     "name": "stdout",
     "output_type": "stream",
     "text": [
      "40\n",
      "19732\n",
      "73\n",
      "350\n"
     ]
    }
   ],
   "source": [
    "#grouped_data, num = normal_profile(grouped_data)\n",
    "grouped_data1= {}\n",
    "for i in grouped_data.keys():\n",
    "    grouped_data[i] = flag_convert(grouped_data[i])\n",
    "   # grouped_data[i] =  drop_columns(grouped_data[i])\n",
    "grouped_data, num = normal_profile(grouped_data)\n",
    "for i in grouped_data.keys():\n",
    "   # grouped_data[i] = flag_convert(grouped_data[i])\n",
    "    grouped_data[i] =  drop_columns(grouped_data[i])"
   ]
  },
  {
   "cell_type": "code",
   "execution_count": 29,
   "metadata": {},
   "outputs": [
    {
     "name": "stdout",
     "output_type": "stream",
     "text": [
      "1 : False\n",
      "10 : False\n",
      "11 : False\n",
      "12 : False\n",
      "13 : False\n",
      "14 : False\n",
      "15 : False\n",
      "17 : False\n",
      "19 : False\n",
      "2 : False\n",
      "20 : False\n",
      "21 : False\n",
      "22 : False\n",
      "24 : False\n",
      "25 : False\n",
      "27 : False\n",
      "29 : False\n",
      "30 : False\n",
      "32 : False\n",
      "33 : False\n",
      "34 : False\n",
      "35 : False\n",
      "36 : False\n",
      "38 : False\n",
      "39 : False\n",
      "40 : False\n",
      "41 : False\n",
      "43 : False\n",
      "47 : False\n",
      "48 : False\n",
      "49 : False\n",
      "5 : False\n",
      "50 : False\n",
      "51 : False\n",
      "52 : False\n",
      "54 : False\n",
      "55 : False\n",
      "56 : False\n",
      "57 : False\n",
      "58 : False\n",
      "61 : False\n",
      "62 : False\n",
      "64 : False\n",
      "65 : False\n",
      "66 : False\n",
      "67 : False\n",
      "68 : False\n",
      "69 : False\n",
      "7 : False\n",
      "70 : False\n",
      "71 : False\n",
      "72 : False\n",
      "73 : False\n",
      "74 : False\n",
      "75 : False\n",
      "76 : False\n",
      "77 : False\n",
      "78 : False\n",
      "79 : False\n",
      "8 : False\n",
      "80 : False\n",
      "81 : False\n",
      "82 : False\n",
      "83 : False\n",
      "84 : False\n",
      "85 : False\n",
      "86 : False\n",
      "87 : False\n",
      "88 : False\n",
      "89 : False\n",
      "90 : False\n",
      "91 : False\n",
      "92 : False\n",
      "(1489536076632, 1489546876632] : False\n",
      "(1489546876632, 1489557676632] : False\n",
      "(1489557676632, 1489568476632] : False\n",
      "(1489568476632, 1489579276632] : False\n",
      "(1489579276632, 1489590076632] : False\n",
      "(1489590076632, 1489600876632] : False\n",
      "(1489600876632, 1489611676632] : False\n",
      "(1489611676632, 1489622476632] : False\n",
      "(1489622476632, 1489633276632] : False\n",
      "(1489633276632, 1489644076632] : False\n",
      "(1489644076632, 1489654876632] : False\n",
      "(1489654876632, 1489665676632] : False\n",
      "(1489665676632, 1489676476632] : False\n",
      "(1489676476632, 1489687276632] : False\n",
      "(1489687276632, 1489698076632] : False\n",
      "(1489698076632, 1489708876632] : False\n",
      "(1489708876632, 1489719676632] : False\n",
      "(1489719676632, 1489730476632] : False\n",
      "(1489730476632, 1489741276632] : False\n",
      "(1489741276632, 1489752076632] : False\n",
      "(1489752076632, 1489762876632] : False\n",
      "(1489762876632, 1489773676632] : False\n",
      "(1489773676632, 1489784476632] : False\n",
      "(1489784476632, 1489795276632] : False\n",
      "(1489795276632, 1489806076632] : False\n",
      "(1489806076632, 1489816876632] : False\n",
      "(1489816876632, 1489827676632] : False\n",
      "(1489827676632, 1489838476632] : False\n",
      "(1489838476632, 1489849276632] : False\n",
      "(1489849276632, 1489860076632] : False\n",
      "(1489860076632, 1489870876632] : False\n",
      "(1489870876632, 1489881676632] : False\n",
      "(1489881676632, 1489892476632] : False\n",
      "(1489892476632, 1489903276632] : False\n",
      "(1489903276632, 1489914076632] : False\n",
      "(1489914076632, 1489924876632] : False\n",
      "(1489924876632, 1489935676632] : False\n",
      "(1489935676632, 1489946476632] : False\n",
      "(1489946476632, 1489957276632] : False\n",
      "(1489957276632, 1489968076632] : False\n",
      "(1489968076632, 1489978876632] : False\n",
      "(1489978876632, 1489989676632] : False\n",
      "(1489989676632, 1490000476632] : False\n",
      "(1490000476632, 1490011276632] : False\n",
      "(1490011276632, 1490022076632] : False\n",
      "(1490022076632, 1490032876632] : False\n",
      "(1490032876632, 1490043676632] : False\n",
      "(1490043676632, 1490054476632] : False\n",
      "(1490054476632, 1490065276632] : False\n",
      "(1490065276632, 1490076076632] : False\n",
      "(1490076076632, 1490086876632] : False\n",
      "(1490086876632, 1490097676632] : False\n",
      "(1490097676632, 1490108476632] : False\n",
      "(1490108476632, 1490119276632] : False\n",
      "(1490119276632, 1490130076632] : False\n",
      "(1490130076632, 1490140876632] : False\n",
      "(1490140876632, 1490151676632] : False\n",
      "(1490151676632, 1490162476632] : False\n",
      "(1490162476632, 1490173276632] : False\n",
      "(1490173276632, 1490184076632] : False\n",
      "(1490184076632, 1490194876632] : False\n",
      "(1490194876632, 1490205676632] : False\n",
      "(1490205676632, 1490216476632] : False\n",
      "(1490216476632, 1490227276632] : False\n",
      "(1490227276632, 1490238076632] : False\n",
      "(1490238076632, 1490248876632] : False\n",
      "(1490248876632, 1490259676632] : False\n",
      "(1490259676632, 1490270476632] : False\n",
      "(1490270476632, 1490281276632] : False\n",
      "(1490281276632, 1490292076632] : False\n",
      "(1490292076632, 1490302876632] : False\n",
      "(1490302876632, 1490313676632] : False\n",
      "(1490313676632, 1490324476632] : False\n",
      "(1490324476632, 1490335276632] : False\n",
      "(1490335276632, 1490346076632] : False\n",
      "(1490346076632, 1490356876632] : False\n",
      "(1490356876632, 1490367676632] : False\n",
      "(1490367676632, 1490378476632] : False\n",
      "(1490378476632, 1490389276632] : False\n",
      "(1490389276632, 1490400076632] : False\n",
      "(1490400076632, 1490410876632] : False\n",
      "(1490410876632, 1490421676632] : False\n",
      "(1490421676632, 1490432476632] : False\n",
      "(1490432476632, 1490443276632] : False\n",
      "(1490443276632, 1490454076632] : False\n",
      "(1490454076632, 1490464876632] : False\n",
      "(1490464876632, 1490475676632] : False\n",
      "(1490475676632, 1490486476632] : False\n",
      "(1490486476632, 1490497276632] : False\n",
      "(1490497276632, 1490508076632] : False\n",
      "(1490508076632, 1490518876632] : False\n",
      "(1490518876632, 1490529676632] : False\n",
      "(1490529676632, 1490540476632] : False\n",
      "(1490540476632, 1490551276632] : False\n",
      "(1490551276632, 1490562076632] : False\n",
      "(1490562076632, 1490572876632] : False\n",
      "(1490572876632, 1490583676632] : False\n",
      "(1490583676632, 1490594476632] : False\n",
      "(1490594476632, 1490605276632] : False\n",
      "(1490605276632, 1490616076632] : False\n",
      "(1490616076632, 1490626876632] : False\n",
      "(1490626876632, 1490637676632] : False\n",
      "(1490637676632, 1490648476632] : False\n",
      "(1490648476632, 1490659276632] : False\n",
      "(1490659276632, 1490670076632] : False\n",
      "(1490670076632, 1490680876632] : False\n",
      "(1490680876632, 1490691676632] : False\n",
      "(1490691676632, 1490702476632] : False\n",
      "(1490702476632, 1490713276632] : False\n",
      "(1490713276632, 1490724076632] : False\n",
      "(1490724076632, 1490734876632] : False\n",
      "(1490734876632, 1490745676632] : False\n",
      "(1490745676632, 1490756476632] : False\n",
      "(1490756476632, 1490767276632] : False\n",
      "(1490767276632, 1490778076632] : False\n",
      "(1490778076632, 1490788876632] : False\n",
      "(1490788876632, 1490799676632] : False\n",
      "(1490799676632, 1490810476632] : False\n",
      "(1490810476632, 1490821276632] : False\n",
      "(1490821276632, 1490832076632] : False\n",
      "(1490832076632, 1490842876632] : False\n",
      "(1490842876632, 1490853676632] : False\n",
      "(1490853676632, 1490864476632] : False\n",
      "(1490864476632, 1490875276632] : False\n",
      "(1490875276632, 1490886076632] : False\n",
      "(1490886076632, 1490896876632] : False\n",
      "(1490896876632, 1490907676632] : False\n",
      "(1490907676632, 1490918476632] : False\n",
      "(1490918476632, 1490929276632] : False\n",
      "(1490929276632, 1490940076632] : False\n",
      "(1490940076632, 1490950876632] : False\n",
      "(1490950876632, 1490961676632] : False\n",
      "(1490961676632, 1490972476632] : False\n",
      "(1490972476632, 1490983276632] : False\n",
      "(1490983276632, 1490994076632] : False\n",
      "(1490994076632, 1491004876632] : False\n",
      "(1491004876632, 1491015676632] : False\n",
      "(1491015676632, 1491026476632] : False\n",
      "(1491026476632, 1491037276632] : False\n",
      "(1491037276632, 1491048076632] : False\n",
      "(1491048076632, 1491058876632] : False\n",
      "(1491058876632, 1491069676632] : False\n",
      "(1491069676632, 1491080476632] : False\n",
      "(1491080476632, 1491091276632] : False\n",
      "(1491091276632, 1491102076632] : False\n",
      "(1491102076632, 1491112876632] : False\n",
      "(1491112876632, 1491123676632] : False\n",
      "(1491123676632, 1491134476632] : False\n",
      "(1491134476632, 1491145276632] : False\n",
      "(1491145276632, 1491156076632] : False\n",
      "(1491156076632, 1491166876632] : False\n",
      "(1491166876632, 1491177676632] : False\n",
      "(1491177676632, 1491188476632] : False\n",
      "(1491188476632, 1491199276632] : False\n",
      "(1491199276632, 1491210076632] : False\n",
      "(1491210076632, 1491220876632] : False\n",
      "(1491220876632, 1491231676632] : False\n",
      "(1491231676632, 1491242476632] : False\n",
      "(1491242476632, 1491253276632] : False\n",
      "(1491253276632, 1491264076632] : False\n",
      "(1491264076632, 1491274876632] : False\n",
      "(1491274876632, 1491285676632] : False\n",
      "(1491285676632, 1491296476632] : False\n",
      "(1491296476632, 1491307276632] : False\n",
      "(1491307276632, 1491318076632] : False\n",
      "(1491318076632, 1491328876632] : False\n",
      "(1491328876632, 1491339676632] : False\n",
      "(1491339676632, 1491350476632] : False\n",
      "(1491350476632, 1491361276632] : False\n",
      "(1491361276632, 1491372076632] : False\n",
      "(1491372076632, 1491382876632] : False\n",
      "(1491382876632, 1491393676632] : False\n",
      "(1491393676632, 1491404476632] : False\n",
      "(1491404476632, 1491415276632] : False\n",
      "(1491415276632, 1491426076632] : False\n",
      "(1491426076632, 1491436876632] : False\n",
      "(1491436876632, 1491447676632] : False\n",
      "(1491447676632, 1491458476632] : False\n",
      "(1491458476632, 1491469276632] : False\n",
      "(1491469276632, 1491480076632] : False\n",
      "(1491480076632, 1491490876632] : False\n",
      "(1491490876632, 1491501676632] : False\n",
      "(1491501676632, 1491512476632] : False\n",
      "(1491512476632, 1491523276632] : False\n",
      "(1491523276632, 1491534076632] : False\n",
      "(1491534076632, 1491544876632] : False\n",
      "(1491544876632, 1491555676632] : False\n",
      "(1491555676632, 1491566476632] : False\n",
      "(1491566476632, 1491577276632] : False\n",
      "(1491577276632, 1491588076632] : False\n",
      "(1491588076632, 1491598876632] : False\n",
      "(1491598876632, 1491609676632] : False\n",
      "(1491609676632, 1491620476632] : False\n",
      "(1491620476632, 1491631276632] : False\n",
      "(1491631276632, 1491642076632] : False\n",
      "(1491642076632, 1491652876632] : False\n",
      "(1491652876632, 1491663676632] : False\n",
      "(1491663676632, 1491674476632] : False\n",
      "(1491674476632, 1491685276632] : False\n",
      "(1491685276632, 1491696076632] : False\n",
      "(1491696076632, 1491706876632] : False\n",
      "(1491706876632, 1491717676632] : False\n",
      "(1491717676632, 1491728476632] : False\n",
      "(1491728476632, 1491739276632] : False\n",
      "(1491739276632, 1491750076632] : False\n",
      "(1491750076632, 1491760876632] : False\n",
      "(1491760876632, 1491771676632] : False\n",
      "(1491771676632, 1491782476632] : False\n",
      "(1491782476632, 1491793276632] : False\n",
      "(1491793276632, 1491804076632] : False\n",
      "(1491804076632, 1491814876632] : False\n",
      "(1491814876632, 1491825676632] : False\n",
      "(1491825676632, 1491836476632] : False\n",
      "(1491836476632, 1491847276632] : False\n",
      "(1491847276632, 1491858076632] : False\n",
      "(1491858076632, 1491868876632] : False\n",
      "(1491868876632, 1491879676632] : False\n",
      "(1491879676632, 1491890476632] : False\n",
      "(1491890476632, 1491901276632] : False\n",
      "(1491901276632, 1491912076632] : False\n",
      "(1491912076632, 1491922876632] : False\n",
      "(1491922876632, 1491933676632] : False\n",
      "(1491933676632, 1491944476632] : False\n",
      "(1491944476632, 1491955276632] : False\n",
      "(1491955276632, 1491966076632] : False\n",
      "(1491966076632, 1491976876632] : False\n",
      "(1491976876632, 1491987676632] : False\n",
      "(1491987676632, 1491998476632] : False\n"
     ]
    },
    {
     "name": "stdout",
     "output_type": "stream",
     "text": [
      "(1491998476632, 1492009276632] : False\n",
      "(1492009276632, 1492020076632] : False\n",
      "(1492020076632, 1492030876632] : False\n",
      "(1492030876632, 1492041676632] : False\n",
      "(1492041676632, 1492052476632] : False\n",
      "(1492052476632, 1492063276632] : False\n",
      "(1492063276632, 1492074076632] : False\n",
      "(1492074076632, 1492084876632] : False\n",
      "(1492084876632, 1492095676632] : False\n",
      "(1492095676632, 1492106476632] : False\n",
      "(1492106476632, 1492117276632] : False\n",
      "(1492117276632, 1492128076632] : False\n",
      "(1492128076632, 1492138876632] : False\n",
      "(1492138876632, 1492149676632] : False\n",
      "(1492149676632, 1492160476632] : False\n",
      "(1492160476632, 1492171276632] : False\n",
      "(1492171276632, 1492182076632] : False\n",
      "(1492182076632, 1492192876632] : False\n",
      "(1492192876632, 1492203676632] : False\n",
      "(1492203676632, 1492214476632] : False\n",
      "(1492214476632, 1492225276632] : False\n",
      "(1492225276632, 1492236076632] : False\n",
      "(1492236076632, 1492246876632] : False\n",
      "(1492246876632, 1492257676632] : False\n",
      "(1492257676632, 1492268476632] : False\n",
      "(1492268476632, 1492279276632] : False\n",
      "(1492279276632, 1492290076632] : False\n",
      "(1492290076632, 1492300876632] : False\n",
      "(1492300876632, 1492311676632] : False\n",
      "(1492311676632, 1492322476632] : False\n",
      "(1492322476632, 1492333276632] : False\n",
      "(1492333276632, 1492344076632] : False\n",
      "(1492344076632, 1492354876632] : False\n",
      "(1492354876632, 1492365676632] : False\n",
      "(1492365676632, 1492376476632] : False\n",
      "(1492376476632, 1492387276632] : False\n",
      "(1492387276632, 1492398076632] : False\n",
      "(1492398076632, 1492408876632] : False\n",
      "(1492408876632, 1492419676632] : False\n",
      "(1492419676632, 1492430476632] : False\n",
      "(1492430476632, 1492441276632] : False\n",
      "(1492441276632, 1492452076632] : False\n",
      "(1492452076632, 1492462876632] : False\n",
      "(1492462876632, 1492473676632] : False\n",
      "(1492473676632, 1492484476632] : False\n",
      "(1492484476632, 1492495276632] : False\n",
      "(1492495276632, 1492506076632] : False\n",
      "(1492506076632, 1492516876632] : False\n",
      "(1492516876632, 1492527676632] : False\n"
     ]
    }
   ],
   "source": [
    "for i in grouped_data.keys():\n",
    "    #if (grouped_data[i].hasnull())\n",
    "    print(f'{i} : {grouped_data[i].isnull().values.any()}')"
   ]
  },
  {
   "cell_type": "code",
   "execution_count": 30,
   "metadata": {},
   "outputs": [
    {
     "name": "stdout",
     "output_type": "stream",
     "text": [
      "Number of Instances which are empty: 167\n"
     ]
    }
   ],
   "source": [
    "counter = 0\n",
    "for i in grouped_data.keys():\n",
    "    if ( len(grouped_data[i]) == 0):\n",
    "        counter = counter +1;\n",
    "print(f\"Number of Instances which are empty: {counter}\")"
   ]
  },
  {
   "cell_type": "code",
   "execution_count": 31,
   "metadata": {},
   "outputs": [],
   "source": [
    "def roundup(x):\n",
    "    return x if x % 100 == 0 else x + 100 - x % 100\n",
    "#Convert to 3D arrays, input dict\n",
    "def make_array(dic):\n",
    "    x = []\n",
    "    y = []\n",
    "    zero_arrays = []\n",
    "    for i in dic.keys():\n",
    "        if ( len(dic[i]) == 0):\n",
    "            zero_arrays.append(i);\n",
    "    for i in zero_arrays:\n",
    "        del dic[i]\n",
    "    for i in dic.keys():\n",
    "        x.append(np.array(dic[i].drop(['attackType'],axis = 1)).astype(np.float32))\n",
    "       # print(f'{i}')\n",
    "        y.append(dic[i]['attackType'].values[0])\n",
    "    print(len(y))\n",
    "    o = []\n",
    "    features = len(x[1][1])\n",
    "    #for i in x:\n",
    "     #   o.append(len(i))\n",
    "   # print(min(o))\n",
    "    o = num\n",
    "    o = roundup(o)\n",
    "    print(o)\n",
    "    index = 0\n",
    "    for i in x:\n",
    "        l = len(i)\n",
    "        i = list(i)\n",
    "        if(o > l):\n",
    "            l = o-l\n",
    "            for j in range(0, l, 1):\n",
    "                i.append([0] * features)\n",
    "        elif (o<l):\n",
    "            l = l-o\n",
    "            i = i[:-l]\n",
    "        #i = [k = np.array([k]) for l in i for k in l] # Makes array elements an array \n",
    "        x[index] = np.array(i).astype(np.float32)\n",
    "        index = index + 1\n",
    "    #x = [[i] for i in x]\n",
    "    return x,y"
   ]
  },
  {
   "cell_type": "code",
   "execution_count": 32,
   "metadata": {},
   "outputs": [],
   "source": [
    "#Remove columns that were not listed in cfs list\n",
    "selected_features = ['Bytes', 'Src Pt', 'Dst Pt', 'Duration', 'Packets', 'Tos', 'TCP  ',\n",
    "       'UDP  ', 'ICMP ', 'attackType']\n",
    "for i in grouped_data.keys():\n",
    "    if ( len(grouped_data[i]) != 0):\n",
    "        grouped_data[i] = grouped_data[i][selected_features]"
   ]
  },
  {
   "cell_type": "code",
   "execution_count": 33,
   "metadata": {},
   "outputs": [
    {
     "name": "stdout",
     "output_type": "stream",
     "text": [
      "1 : False\n",
      "10 : False\n",
      "11 : False\n",
      "12 : False\n",
      "13 : False\n",
      "14 : False\n",
      "15 : False\n",
      "17 : False\n",
      "19 : False\n",
      "2 : False\n",
      "20 : False\n",
      "21 : False\n",
      "22 : False\n",
      "24 : False\n",
      "25 : False\n",
      "27 : False\n",
      "29 : False\n",
      "30 : False\n",
      "32 : False\n",
      "33 : False\n",
      "34 : False\n",
      "35 : False\n",
      "36 : False\n",
      "38 : False\n",
      "39 : False\n",
      "40 : False\n",
      "41 : False\n",
      "43 : False\n",
      "47 : False\n",
      "48 : False\n",
      "49 : False\n",
      "5 : False\n",
      "50 : False\n",
      "51 : False\n",
      "52 : False\n",
      "54 : False\n",
      "55 : False\n",
      "56 : False\n",
      "57 : False\n",
      "58 : False\n",
      "61 : False\n",
      "62 : False\n",
      "64 : False\n",
      "65 : False\n",
      "66 : False\n",
      "67 : False\n",
      "68 : False\n",
      "69 : False\n",
      "7 : False\n",
      "70 : False\n",
      "71 : False\n",
      "72 : False\n",
      "73 : False\n",
      "74 : False\n",
      "75 : False\n",
      "76 : False\n",
      "77 : False\n",
      "78 : False\n",
      "79 : False\n",
      "8 : False\n",
      "80 : False\n",
      "81 : False\n",
      "82 : False\n",
      "83 : False\n",
      "84 : False\n",
      "85 : False\n",
      "86 : False\n",
      "87 : False\n",
      "88 : False\n",
      "89 : False\n",
      "90 : False\n",
      "91 : False\n",
      "92 : False\n",
      "(1489536076632, 1489546876632] : False\n",
      "(1489546876632, 1489557676632] : False\n",
      "(1489557676632, 1489568476632] : False\n",
      "(1489568476632, 1489579276632] : False\n",
      "(1489579276632, 1489590076632] : False\n",
      "(1489590076632, 1489600876632] : False\n",
      "(1489600876632, 1489611676632] : False\n",
      "(1489611676632, 1489622476632] : False\n",
      "(1489622476632, 1489633276632] : False\n",
      "(1489633276632, 1489644076632] : False\n",
      "(1489644076632, 1489654876632] : False\n",
      "(1489654876632, 1489665676632] : False\n",
      "(1489665676632, 1489676476632] : False\n",
      "(1489676476632, 1489687276632] : False\n",
      "(1489687276632, 1489698076632] : False\n",
      "(1489698076632, 1489708876632] : False\n",
      "(1489708876632, 1489719676632] : False\n",
      "(1489719676632, 1489730476632] : False\n",
      "(1489730476632, 1489741276632] : False\n",
      "(1489741276632, 1489752076632] : False\n",
      "(1489752076632, 1489762876632] : False\n",
      "(1489762876632, 1489773676632] : False\n",
      "(1489773676632, 1489784476632] : False\n",
      "(1489784476632, 1489795276632] : False\n",
      "(1489795276632, 1489806076632] : False\n",
      "(1489806076632, 1489816876632] : False\n",
      "(1489816876632, 1489827676632] : False\n",
      "(1489827676632, 1489838476632] : False\n",
      "(1489838476632, 1489849276632] : False\n",
      "(1489849276632, 1489860076632] : False\n",
      "(1489860076632, 1489870876632] : False\n",
      "(1489870876632, 1489881676632] : False\n",
      "(1489881676632, 1489892476632] : False\n",
      "(1489892476632, 1489903276632] : False\n",
      "(1489903276632, 1489914076632] : False\n",
      "(1489914076632, 1489924876632] : False\n",
      "(1489924876632, 1489935676632] : False\n",
      "(1489935676632, 1489946476632] : False\n",
      "(1489946476632, 1489957276632] : False\n",
      "(1489957276632, 1489968076632] : False\n",
      "(1489968076632, 1489978876632] : False\n",
      "(1489978876632, 1489989676632] : False\n",
      "(1489989676632, 1490000476632] : False\n",
      "(1490000476632, 1490011276632] : False\n",
      "(1490011276632, 1490022076632] : False\n",
      "(1490022076632, 1490032876632] : False\n",
      "(1490032876632, 1490043676632] : False\n",
      "(1490043676632, 1490054476632] : False\n",
      "(1490054476632, 1490065276632] : False\n",
      "(1490065276632, 1490076076632] : False\n",
      "(1490076076632, 1490086876632] : False\n",
      "(1490086876632, 1490097676632] : False\n",
      "(1490097676632, 1490108476632] : False\n",
      "(1490108476632, 1490119276632] : False\n",
      "(1490119276632, 1490130076632] : False\n",
      "(1490130076632, 1490140876632] : False\n",
      "(1490140876632, 1490151676632] : False\n",
      "(1490151676632, 1490162476632] : False\n",
      "(1490162476632, 1490173276632] : False\n",
      "(1490173276632, 1490184076632] : False\n",
      "(1490184076632, 1490194876632] : False\n",
      "(1490194876632, 1490205676632] : False\n",
      "(1490205676632, 1490216476632] : False\n",
      "(1490216476632, 1490227276632] : False\n",
      "(1490227276632, 1490238076632] : False\n",
      "(1490238076632, 1490248876632] : False\n",
      "(1490248876632, 1490259676632] : False\n",
      "(1490259676632, 1490270476632] : False\n",
      "(1490270476632, 1490281276632] : False\n",
      "(1490281276632, 1490292076632] : False\n",
      "(1490292076632, 1490302876632] : False\n",
      "(1490302876632, 1490313676632] : False\n",
      "(1490313676632, 1490324476632] : False\n",
      "(1490324476632, 1490335276632] : False\n",
      "(1490335276632, 1490346076632] : False\n",
      "(1490346076632, 1490356876632] : False\n",
      "(1490356876632, 1490367676632] : False\n",
      "(1490367676632, 1490378476632] : False\n",
      "(1490378476632, 1490389276632] : False\n",
      "(1490389276632, 1490400076632] : False\n",
      "(1490400076632, 1490410876632] : False\n",
      "(1490410876632, 1490421676632] : False\n",
      "(1490421676632, 1490432476632] : False\n",
      "(1490432476632, 1490443276632] : False\n",
      "(1490443276632, 1490454076632] : False\n",
      "(1490454076632, 1490464876632] : False\n",
      "(1490464876632, 1490475676632] : False\n",
      "(1490475676632, 1490486476632] : False\n",
      "(1490486476632, 1490497276632] : False\n",
      "(1490497276632, 1490508076632] : False\n",
      "(1490508076632, 1490518876632] : False\n",
      "(1490518876632, 1490529676632] : False\n",
      "(1490529676632, 1490540476632] : False\n",
      "(1490540476632, 1490551276632] : False\n",
      "(1490551276632, 1490562076632] : False\n",
      "(1490562076632, 1490572876632] : False\n",
      "(1490572876632, 1490583676632] : False\n",
      "(1490583676632, 1490594476632] : False\n",
      "(1490594476632, 1490605276632] : False\n",
      "(1490605276632, 1490616076632] : False\n",
      "(1490616076632, 1490626876632] : False\n",
      "(1490626876632, 1490637676632] : False\n",
      "(1490637676632, 1490648476632] : False\n",
      "(1490648476632, 1490659276632] : False\n",
      "(1490659276632, 1490670076632] : False\n",
      "(1490670076632, 1490680876632] : False\n",
      "(1490680876632, 1490691676632] : False\n",
      "(1490691676632, 1490702476632] : False\n",
      "(1490702476632, 1490713276632] : False\n",
      "(1490713276632, 1490724076632] : False\n",
      "(1490724076632, 1490734876632] : False\n",
      "(1490734876632, 1490745676632] : False\n",
      "(1490745676632, 1490756476632] : False\n",
      "(1490756476632, 1490767276632] : False\n",
      "(1490767276632, 1490778076632] : False\n",
      "(1490778076632, 1490788876632] : False\n",
      "(1490788876632, 1490799676632] : False\n",
      "(1490799676632, 1490810476632] : False\n",
      "(1490810476632, 1490821276632] : False\n",
      "(1490821276632, 1490832076632] : False\n",
      "(1490832076632, 1490842876632] : False\n",
      "(1490842876632, 1490853676632] : False\n",
      "(1490853676632, 1490864476632] : False\n",
      "(1490864476632, 1490875276632] : False\n",
      "(1490875276632, 1490886076632] : False\n",
      "(1490886076632, 1490896876632] : False\n",
      "(1490896876632, 1490907676632] : False\n",
      "(1490907676632, 1490918476632] : False\n",
      "(1490918476632, 1490929276632] : False\n",
      "(1490929276632, 1490940076632] : False\n",
      "(1490940076632, 1490950876632] : False\n",
      "(1490950876632, 1490961676632] : False\n",
      "(1490961676632, 1490972476632] : False\n",
      "(1490972476632, 1490983276632] : False\n",
      "(1490983276632, 1490994076632] : False\n",
      "(1490994076632, 1491004876632] : False\n",
      "(1491004876632, 1491015676632] : False\n",
      "(1491015676632, 1491026476632] : False\n",
      "(1491026476632, 1491037276632] : False\n",
      "(1491037276632, 1491048076632] : False\n",
      "(1491048076632, 1491058876632] : False\n",
      "(1491058876632, 1491069676632] : False\n",
      "(1491069676632, 1491080476632] : False\n",
      "(1491080476632, 1491091276632] : False\n",
      "(1491091276632, 1491102076632] : False\n",
      "(1491102076632, 1491112876632] : False\n",
      "(1491112876632, 1491123676632] : False\n",
      "(1491123676632, 1491134476632] : False\n",
      "(1491134476632, 1491145276632] : False\n",
      "(1491145276632, 1491156076632] : False\n",
      "(1491156076632, 1491166876632] : False\n",
      "(1491166876632, 1491177676632] : False\n",
      "(1491177676632, 1491188476632] : False\n",
      "(1491188476632, 1491199276632] : False\n",
      "(1491199276632, 1491210076632] : False\n",
      "(1491210076632, 1491220876632] : False\n",
      "(1491220876632, 1491231676632] : False\n",
      "(1491231676632, 1491242476632] : False\n",
      "(1491242476632, 1491253276632] : False\n",
      "(1491253276632, 1491264076632] : False\n",
      "(1491264076632, 1491274876632] : False\n",
      "(1491274876632, 1491285676632] : False\n",
      "(1491285676632, 1491296476632] : False\n",
      "(1491296476632, 1491307276632] : False\n",
      "(1491307276632, 1491318076632] : False\n",
      "(1491318076632, 1491328876632] : False\n",
      "(1491328876632, 1491339676632] : False\n",
      "(1491339676632, 1491350476632] : False\n",
      "(1491350476632, 1491361276632] : False\n",
      "(1491361276632, 1491372076632] : False\n",
      "(1491372076632, 1491382876632] : False\n",
      "(1491382876632, 1491393676632] : False\n",
      "(1491393676632, 1491404476632] : False\n",
      "(1491404476632, 1491415276632] : False\n",
      "(1491415276632, 1491426076632] : False\n",
      "(1491426076632, 1491436876632] : False\n",
      "(1491436876632, 1491447676632] : False\n",
      "(1491447676632, 1491458476632] : False\n",
      "(1491458476632, 1491469276632] : False\n",
      "(1491469276632, 1491480076632] : False\n",
      "(1491480076632, 1491490876632] : False\n",
      "(1491490876632, 1491501676632] : False\n",
      "(1491501676632, 1491512476632] : False\n",
      "(1491512476632, 1491523276632] : False\n",
      "(1491523276632, 1491534076632] : False\n",
      "(1491534076632, 1491544876632] : False\n",
      "(1491544876632, 1491555676632] : False\n",
      "(1491555676632, 1491566476632] : False\n",
      "(1491566476632, 1491577276632] : False\n",
      "(1491577276632, 1491588076632] : False\n",
      "(1491588076632, 1491598876632] : False\n",
      "(1491598876632, 1491609676632] : False\n",
      "(1491609676632, 1491620476632] : False\n",
      "(1491620476632, 1491631276632] : False\n",
      "(1491631276632, 1491642076632] : False\n",
      "(1491642076632, 1491652876632] : False\n",
      "(1491652876632, 1491663676632] : False\n",
      "(1491663676632, 1491674476632] : False\n",
      "(1491674476632, 1491685276632] : False\n",
      "(1491685276632, 1491696076632] : False\n",
      "(1491696076632, 1491706876632] : False\n",
      "(1491706876632, 1491717676632] : False\n",
      "(1491717676632, 1491728476632] : False\n",
      "(1491728476632, 1491739276632] : False\n",
      "(1491739276632, 1491750076632] : False\n",
      "(1491750076632, 1491760876632] : False\n",
      "(1491760876632, 1491771676632] : False\n",
      "(1491771676632, 1491782476632] : False\n",
      "(1491782476632, 1491793276632] : False\n",
      "(1491793276632, 1491804076632] : False\n",
      "(1491804076632, 1491814876632] : False\n",
      "(1491814876632, 1491825676632] : False\n",
      "(1491825676632, 1491836476632] : False\n",
      "(1491836476632, 1491847276632] : False\n",
      "(1491847276632, 1491858076632] : False\n",
      "(1491858076632, 1491868876632] : False\n",
      "(1491868876632, 1491879676632] : False\n"
     ]
    },
    {
     "name": "stdout",
     "output_type": "stream",
     "text": [
      "(1491879676632, 1491890476632] : False\n",
      "(1491890476632, 1491901276632] : False\n",
      "(1491901276632, 1491912076632] : False\n",
      "(1491912076632, 1491922876632] : False\n",
      "(1491922876632, 1491933676632] : False\n",
      "(1491933676632, 1491944476632] : False\n",
      "(1491944476632, 1491955276632] : False\n",
      "(1491955276632, 1491966076632] : False\n",
      "(1491966076632, 1491976876632] : False\n",
      "(1491976876632, 1491987676632] : False\n",
      "(1491987676632, 1491998476632] : False\n",
      "(1491998476632, 1492009276632] : False\n",
      "(1492009276632, 1492020076632] : False\n",
      "(1492020076632, 1492030876632] : False\n",
      "(1492030876632, 1492041676632] : False\n",
      "(1492041676632, 1492052476632] : False\n",
      "(1492052476632, 1492063276632] : False\n",
      "(1492063276632, 1492074076632] : False\n",
      "(1492074076632, 1492084876632] : False\n",
      "(1492084876632, 1492095676632] : False\n",
      "(1492095676632, 1492106476632] : False\n",
      "(1492106476632, 1492117276632] : False\n",
      "(1492117276632, 1492128076632] : False\n",
      "(1492128076632, 1492138876632] : False\n",
      "(1492138876632, 1492149676632] : False\n",
      "(1492149676632, 1492160476632] : False\n",
      "(1492160476632, 1492171276632] : False\n",
      "(1492171276632, 1492182076632] : False\n",
      "(1492182076632, 1492192876632] : False\n",
      "(1492192876632, 1492203676632] : False\n",
      "(1492203676632, 1492214476632] : False\n",
      "(1492214476632, 1492225276632] : False\n",
      "(1492225276632, 1492236076632] : False\n",
      "(1492236076632, 1492246876632] : False\n",
      "(1492246876632, 1492257676632] : False\n",
      "(1492257676632, 1492268476632] : False\n",
      "(1492268476632, 1492279276632] : False\n",
      "(1492279276632, 1492290076632] : False\n",
      "(1492290076632, 1492300876632] : False\n",
      "(1492300876632, 1492311676632] : False\n",
      "(1492311676632, 1492322476632] : False\n",
      "(1492322476632, 1492333276632] : False\n",
      "(1492333276632, 1492344076632] : False\n",
      "(1492344076632, 1492354876632] : False\n",
      "(1492354876632, 1492365676632] : False\n",
      "(1492365676632, 1492376476632] : False\n",
      "(1492376476632, 1492387276632] : False\n",
      "(1492387276632, 1492398076632] : False\n",
      "(1492398076632, 1492408876632] : False\n",
      "(1492408876632, 1492419676632] : False\n",
      "(1492419676632, 1492430476632] : False\n",
      "(1492430476632, 1492441276632] : False\n",
      "(1492441276632, 1492452076632] : False\n",
      "(1492452076632, 1492462876632] : False\n",
      "(1492462876632, 1492473676632] : False\n",
      "(1492473676632, 1492484476632] : False\n",
      "(1492484476632, 1492495276632] : False\n",
      "(1492495276632, 1492506076632] : False\n",
      "(1492506076632, 1492516876632] : False\n",
      "(1492516876632, 1492527676632] : False\n"
     ]
    }
   ],
   "source": [
    "for i in grouped_data.keys():\n",
    "    #if (grouped_data[i].hasnull())\n",
    "    print(f'{i} : {grouped_data[i].isnull().values.any()}')"
   ]
  },
  {
   "cell_type": "code",
   "execution_count": 34,
   "metadata": {},
   "outputs": [
    {
     "name": "stdout",
     "output_type": "stream",
     "text": [
      "183\n",
      "19800\n"
     ]
    }
   ],
   "source": [
    "X,Y = make_array(grouped_data)\n",
    "del grouped_data\n",
    "gc.collect()\n",
    "Y = np.array(Y)\n",
    "X = np.array(X)"
   ]
  },
  {
   "cell_type": "code",
   "execution_count": 35,
   "metadata": {},
   "outputs": [
    {
     "data": {
      "text/plain": [
       "{0: 110, 1: 26, 3: 16, 4: 31}"
      ]
     },
     "execution_count": 35,
     "metadata": {},
     "output_type": "execute_result"
    }
   ],
   "source": [
    "unique, counts = np.unique(Y, return_counts=True)\n",
    "dict(zip(unique, counts))"
   ]
  },
  {
   "cell_type": "code",
   "execution_count": 36,
   "metadata": {},
   "outputs": [],
   "source": [
    "def make_4D(arr):\n",
    "    x = []\n",
    "    for i in range(0, len(arr),1):\n",
    "        temp = []\n",
    "        for j in range(0,len(arr[i]),1):\n",
    "             temp.append([np.array([k]) for k in arr[i][j]])\n",
    "        x.append(np.array(temp).astype(np.float32))\n",
    "    return np.array(x).astype(np.float32)"
   ]
  },
  {
   "cell_type": "code",
   "execution_count": 37,
   "metadata": {},
   "outputs": [],
   "source": [
    "X = make_4D(X)"
   ]
  },
  {
   "cell_type": "code",
   "execution_count": 38,
   "metadata": {},
   "outputs": [],
   "source": [
    "from sklearn.model_selection import train_test_split\n",
    "from sklearn.tree import DecisionTreeClassifier\n",
    "X_train, X_test, Y_train, Y_test = train_test_split(X,Y , test_size=0.2, random_state=0,  stratify=Y)"
   ]
  },
  {
   "cell_type": "code",
   "execution_count": 39,
   "metadata": {},
   "outputs": [
    {
     "data": {
      "text/plain": [
       "40"
      ]
     },
     "execution_count": 39,
     "metadata": {},
     "output_type": "execute_result"
    }
   ],
   "source": [
    "del X,Y\n",
    "gc.collect()"
   ]
  },
  {
   "cell_type": "code",
   "execution_count": 40,
   "metadata": {},
   "outputs": [
    {
     "data": {
      "text/plain": [
       "{0: 88, 1: 21, 3: 13, 4: 24}"
      ]
     },
     "execution_count": 40,
     "metadata": {},
     "output_type": "execute_result"
    }
   ],
   "source": [
    "unique, counts = np.unique(Y_train, return_counts=True)\n",
    "dict(zip(unique, counts))"
   ]
  },
  {
   "cell_type": "code",
   "execution_count": 41,
   "metadata": {},
   "outputs": [
    {
     "data": {
      "text/plain": [
       "{0: 22, 1: 5, 3: 3, 4: 7}"
      ]
     },
     "execution_count": 41,
     "metadata": {},
     "output_type": "execute_result"
    }
   ],
   "source": [
    "unique, counts = np.unique(Y_test, return_counts=True)\n",
    "dict(zip(unique, counts))"
   ]
  },
  {
   "cell_type": "code",
   "execution_count": 42,
   "metadata": {},
   "outputs": [
    {
     "name": "stdout",
     "output_type": "stream",
     "text": [
      "False\n",
      "False\n",
      "False\n",
      "False\n",
      "False\n",
      "False\n",
      "False\n",
      "False\n",
      "False\n",
      "False\n",
      "False\n",
      "False\n",
      "False\n",
      "False\n",
      "False\n",
      "False\n",
      "False\n",
      "False\n",
      "False\n",
      "False\n",
      "False\n",
      "False\n",
      "False\n",
      "False\n",
      "False\n",
      "False\n",
      "False\n",
      "False\n",
      "False\n",
      "False\n",
      "False\n",
      "False\n",
      "False\n",
      "False\n",
      "False\n",
      "False\n",
      "False\n",
      "False\n",
      "False\n",
      "False\n",
      "False\n",
      "False\n",
      "False\n",
      "False\n",
      "False\n",
      "False\n",
      "False\n",
      "False\n",
      "False\n",
      "False\n",
      "False\n",
      "False\n",
      "False\n",
      "False\n",
      "False\n",
      "False\n",
      "False\n",
      "False\n",
      "False\n",
      "False\n",
      "False\n",
      "False\n",
      "False\n",
      "False\n",
      "False\n",
      "False\n",
      "False\n",
      "False\n",
      "False\n",
      "False\n",
      "False\n",
      "False\n",
      "False\n",
      "False\n",
      "False\n",
      "False\n",
      "False\n",
      "False\n",
      "False\n",
      "False\n",
      "False\n",
      "False\n",
      "False\n",
      "False\n",
      "False\n",
      "False\n",
      "False\n",
      "False\n",
      "False\n",
      "False\n",
      "False\n",
      "False\n",
      "False\n",
      "False\n",
      "False\n",
      "False\n",
      "False\n",
      "False\n",
      "False\n",
      "False\n",
      "False\n",
      "False\n",
      "False\n",
      "False\n",
      "False\n",
      "False\n",
      "False\n",
      "False\n",
      "False\n",
      "False\n",
      "False\n",
      "False\n",
      "False\n",
      "False\n",
      "False\n",
      "False\n",
      "False\n",
      "False\n",
      "False\n",
      "False\n",
      "False\n",
      "False\n",
      "False\n",
      "False\n",
      "False\n",
      "False\n",
      "False\n",
      "False\n",
      "False\n",
      "False\n",
      "False\n",
      "False\n",
      "False\n",
      "False\n",
      "False\n",
      "False\n",
      "False\n",
      "False\n",
      "False\n",
      "False\n",
      "False\n",
      "False\n",
      "False\n",
      "False\n",
      "False\n",
      "False\n"
     ]
    }
   ],
   "source": [
    "for i in X_train:\n",
    "    print(f'{np.isnan(i).any()}')"
   ]
  },
  {
   "cell_type": "code",
   "execution_count": 44,
   "metadata": {},
   "outputs": [
    {
     "name": "stdout",
     "output_type": "stream",
     "text": [
      "samples: 146 \n",
      " X:19800 \n",
      " Y:9 \n",
      " \n"
     ]
    }
   ],
   "source": [
    "nsamples,nx, ny, nz = X_train.shape\n",
    "print(f\"samples: {nsamples} \\n X:{nx} \\n Y:{ny} \\n \" )"
   ]
  },
  {
   "cell_type": "code",
   "execution_count": 45,
   "metadata": {},
   "outputs": [],
   "source": [
    "import tensorflow as tf\n",
    "from tensorflow import keras\n",
    "from tensorflow.keras.layers import Embedding, Dense, LSTM, Dropout, Masking, Flatten, Input, Bidirectional, SimpleRNN\n",
    "from tensorflow.keras.losses import BinaryCrossentropy\n",
    "from tensorflow.keras.models import Sequential\n",
    "from tensorflow.keras.optimizers import Adam\n",
    "from tensorflow.keras.preprocessing.sequence import pad_sequences\n",
    "from keras.layers import Dense, Conv2D, MaxPooling2D, Dropout, Flatten"
   ]
  },
  {
   "cell_type": "code",
   "execution_count": 46,
   "metadata": {},
   "outputs": [],
   "source": [
    "##CNN MODEL"
   ]
  },
  {
   "cell_type": "code",
   "execution_count": 47,
   "metadata": {},
   "outputs": [],
   "source": [
    "from keras.callbacks import EarlyStopping\n",
    "from keras.callbacks import ModelCheckpoint, LambdaCallback\n",
    "wie_by_epoch = []\n",
    "#model_check = ModelCheckpoint(\"/models/Testpoints/best_model.hdf5\", monitor='loss', verbose=0, save_best_only=True, mode='min', save_freq=1)\n",
    "print_weights = LambdaCallback(on_epoch_end=lambda batch, logs:wie_by_epoch.append(model.get_weights()))\n",
    "callback = tf.keras.callbacks.EarlyStopping(monitor='loss', patience=4, verbose= 2)"
   ]
  },
  {
   "cell_type": "code",
   "execution_count": 48,
   "metadata": {},
   "outputs": [],
   "source": [
    "model = Sequential()\n",
    "model.add(Conv2D(64, (2, 2), padding='same', activation='relu', input_shape=X_train.shape[1:]))\n",
    "model.add(MaxPooling2D(pool_size=(2, 2)))\n",
    "model.add(Dropout(0.25))\n",
    "model.add(MaxPooling2D(pool_size=(2, 2)))\n",
    "model.add(Dense(256, activation='relu'))\n",
    "model.add(Flatten())\n",
    "model.add(Dense(128, activation='relu'))\n",
    "model.add(Dense(64, activation='relu'))\n",
    "model.add(Dense(5, activation = 'softmax') )\n",
    "#mod1 = model.compile(optimizer=tf.keras.optimizers.RMSprop(\n",
    "#   learning_rate=0.1, rho=0.1, momentum=0.0, epsilon=1e-2 , centered=False,\n",
    "#   name='RMSprop'), loss='sparse_categorical_crossentropy', metrics=[keras.metrics.SparseCategoricalAccuracy()])\n",
    "model.compile(optimizer= 'rmsprop', loss='sparse_categorical_crossentropy',  metrics=[keras.metrics.SparseCategoricalAccuracy()])\n",
    "#mod = model.fit(X.astype('float32'),Y.astype('float32'), epochs=20, batch_size= 20, verbose=0)des\": (2, 10, None),"
   ]
  },
  {
   "cell_type": "code",
   "execution_count": 49,
   "metadata": {},
   "outputs": [
    {
     "data": {
      "text/plain": [
       "(None, 5)"
      ]
     },
     "execution_count": 49,
     "metadata": {},
     "output_type": "execute_result"
    }
   ],
   "source": [
    "model.build(input_shape = (nx,ny,nz))\n",
    "model.output_shape"
   ]
  },
  {
   "cell_type": "code",
   "execution_count": 50,
   "metadata": {},
   "outputs": [
    {
     "data": {
      "text/plain": [
       "868"
      ]
     },
     "execution_count": 50,
     "metadata": {},
     "output_type": "execute_result"
    }
   ],
   "source": [
    "#del model, wie_by_epoch\n",
    "\n",
    "gc.collect()"
   ]
  },
  {
   "cell_type": "code",
   "execution_count": 51,
   "metadata": {},
   "outputs": [
    {
     "name": "stdout",
     "output_type": "stream",
     "text": [
      "Model: \"sequential\"\n",
      "_________________________________________________________________\n",
      "Layer (type)                 Output Shape              Param #   \n",
      "=================================================================\n",
      "conv2d (Conv2D)              (None, 19800, 9, 64)      320       \n",
      "_________________________________________________________________\n",
      "max_pooling2d (MaxPooling2D) (None, 9900, 4, 64)       0         \n",
      "_________________________________________________________________\n",
      "dropout (Dropout)            (None, 9900, 4, 64)       0         \n",
      "_________________________________________________________________\n",
      "max_pooling2d_1 (MaxPooling2 (None, 4950, 2, 64)       0         \n",
      "_________________________________________________________________\n",
      "dense (Dense)                (None, 4950, 2, 256)      16640     \n",
      "_________________________________________________________________\n",
      "flatten (Flatten)            (None, 2534400)           0         \n",
      "_________________________________________________________________\n",
      "dense_1 (Dense)              (None, 128)               324403328 \n",
      "_________________________________________________________________\n",
      "dense_2 (Dense)              (None, 64)                8256      \n",
      "_________________________________________________________________\n",
      "dense_3 (Dense)              (None, 5)                 325       \n",
      "=================================================================\n",
      "Total params: 324,428,869\n",
      "Trainable params: 324,428,869\n",
      "Non-trainable params: 0\n",
      "_________________________________________________________________\n"
     ]
    }
   ],
   "source": [
    "#model.build(input_shape = (nx,ny))\n",
    "model.summary()\n"
   ]
  },
  {
   "cell_type": "code",
   "execution_count": 52,
   "metadata": {
    "scrolled": true
   },
   "outputs": [
    {
     "data": {
      "text/plain": [
       "[array([[[[-0.02792057,  0.13731185, -0.00259407,  0.13335821,\n",
       "           -0.00719059, -0.15139265, -0.04106013,  0.06969064,\n",
       "            0.01545747,  0.14466774, -0.10874246, -0.12642305,\n",
       "            0.15096053,  0.10191551, -0.07848067,  0.13584468,\n",
       "            0.02210936,  0.13505998, -0.05430012,  0.13825682,\n",
       "            0.14365086,  0.08002187,  0.06211348,  0.07199728,\n",
       "            0.03296567, -0.08247451, -0.06575922, -0.14425726,\n",
       "            0.12798521,  0.13593471,  0.1365903 , -0.14571458,\n",
       "            0.14643773, -0.12942766, -0.08571243,  0.14929938,\n",
       "           -0.06562597,  0.13798356, -0.0281816 , -0.04763854,\n",
       "            0.01973362,  0.0710308 ,  0.10553044,  0.11701423,\n",
       "            0.1363863 ,  0.14090648, -0.14682852, -0.10334224,\n",
       "            0.14834055,  0.09430487, -0.12711608,  0.07241181,\n",
       "           -0.06668948, -0.03201231, -0.14448696, -0.1386064 ,\n",
       "           -0.0321407 ,  0.07844499,  0.01397493,  0.02875674,\n",
       "            0.08232398, -0.0989325 , -0.03598455, -0.12845486]],\n",
       " \n",
       "         [[-0.02521364,  0.0768415 , -0.03667296, -0.0245401 ,\n",
       "           -0.11042796,  0.05682451,  0.14697275,  0.06414536,\n",
       "           -0.06264205, -0.13870619,  0.13793248,  0.07846017,\n",
       "           -0.13184349, -0.12446425,  0.05591071, -0.01256235,\n",
       "            0.07736181, -0.12882538,  0.09361424,  0.09797746,\n",
       "            0.05890428,  0.09873068,  0.09054942,  0.14283258,\n",
       "           -0.14803496,  0.03716531, -0.08398854, -0.00208516,\n",
       "           -0.05656271,  0.04354003,  0.05587675, -0.04482101,\n",
       "           -0.14509572, -0.08622097, -0.07409151, -0.06226164,\n",
       "            0.04476306,  0.09592359,  0.11888179, -0.06827349,\n",
       "           -0.12670979,  0.02729139, -0.01936123,  0.13867825,\n",
       "            0.01380083, -0.04557837,  0.01618028,  0.10463986,\n",
       "            0.04626721, -0.02984826, -0.04466943, -0.01062112,\n",
       "            0.01864001,  0.06409325, -0.1306213 ,  0.01415823,\n",
       "            0.10051006, -0.01417707,  0.1456967 , -0.06671491,\n",
       "           -0.04740461,  0.09278515,  0.08017638,  0.05711649]]],\n",
       " \n",
       " \n",
       "        [[[ 0.05704844,  0.10239509,  0.00149621, -0.10364473,\n",
       "            0.09010148, -0.0811408 , -0.0411858 ,  0.09215274,\n",
       "            0.09808891,  0.09630971,  0.01692988, -0.04050697,\n",
       "            0.14594018, -0.11458829,  0.00147659, -0.02258191,\n",
       "            0.08792979, -0.12973866,  0.06863676,  0.02293544,\n",
       "            0.02016842,  0.12049887,  0.02609444, -0.02083141,\n",
       "            0.1237379 , -0.12842748, -0.02032177,  0.14344224,\n",
       "           -0.07897809,  0.1171343 ,  0.04566345,  0.1407865 ,\n",
       "           -0.11533768, -0.12747855,  0.04348777, -0.09751987,\n",
       "            0.06903282, -0.13067512,  0.12768221,  0.1512677 ,\n",
       "           -0.1003712 ,  0.04361722, -0.14096107,  0.06565563,\n",
       "            0.11345997, -0.0516995 , -0.13917434,  0.14266959,\n",
       "           -0.01514432,  0.04341708,  0.10704216,  0.01878759,\n",
       "           -0.040035  ,  0.07182898,  0.07603735, -0.06168667,\n",
       "           -0.12866761,  0.02995756,  0.05524868, -0.05058581,\n",
       "            0.10852915,  0.080036  ,  0.02490672,  0.03201748]],\n",
       " \n",
       "         [[-0.14918217, -0.01267716,  0.08110559,  0.10608238,\n",
       "            0.0921379 ,  0.14378688,  0.01212001,  0.09866807,\n",
       "           -0.03896254,  0.11215684, -0.07696102,  0.01445244,\n",
       "           -0.10414719, -0.05570862,  0.11850742, -0.08963162,\n",
       "           -0.08380209, -0.14585935,  0.13656989,  0.05858199,\n",
       "           -0.06993973,  0.11960113, -0.0239154 ,  0.1283527 ,\n",
       "            0.07233031, -0.15093815, -0.06869218, -0.11539683,\n",
       "            0.09185474, -0.09129818, -0.07673364,  0.03603968,\n",
       "            0.05896446,  0.10497001, -0.07666602, -0.1214277 ,\n",
       "           -0.14163864,  0.11346593, -0.14997843,  0.03191517,\n",
       "           -0.0240088 , -0.13772699, -0.11728345,  0.03426056,\n",
       "           -0.09373784,  0.00022973,  0.00392133, -0.14509004,\n",
       "           -0.06143938, -0.11789116,  0.00391944,  0.1086421 ,\n",
       "           -0.12625992, -0.06485991,  0.00859158,  0.07489491,\n",
       "           -0.12597303,  0.13053405,  0.06083997,  0.14748475,\n",
       "            0.10480347, -0.12287235, -0.02212444, -0.09387174]]]],\n",
       "       dtype=float32),\n",
       " array([0., 0., 0., 0., 0., 0., 0., 0., 0., 0., 0., 0., 0., 0., 0., 0., 0.,\n",
       "        0., 0., 0., 0., 0., 0., 0., 0., 0., 0., 0., 0., 0., 0., 0., 0., 0.,\n",
       "        0., 0., 0., 0., 0., 0., 0., 0., 0., 0., 0., 0., 0., 0., 0., 0., 0.,\n",
       "        0., 0., 0., 0., 0., 0., 0., 0., 0., 0., 0., 0., 0.], dtype=float32),\n",
       " array([[ 0.08105442,  0.04349956,  0.00908186, ...,  0.06220196,\n",
       "          0.05565505, -0.03552955],\n",
       "        [-0.03287684, -0.0894598 ,  0.0012888 , ..., -0.07039142,\n",
       "          0.12045491, -0.05564864],\n",
       "        [ 0.05848807,  0.0350278 , -0.06792962, ...,  0.12461323,\n",
       "          0.02658652, -0.07215258],\n",
       "        ...,\n",
       "        [-0.08387579,  0.08879955, -0.09334947, ...,  0.05974686,\n",
       "          0.05250844, -0.00914323],\n",
       "        [ 0.11599654, -0.03017574, -0.07817592, ..., -0.07098905,\n",
       "         -0.06669084, -0.07092696],\n",
       "        [ 0.0834619 ,  0.01217879,  0.11188105, ..., -0.0367135 ,\n",
       "         -0.11870436,  0.11459571]], dtype=float32),\n",
       " array([0., 0., 0., 0., 0., 0., 0., 0., 0., 0., 0., 0., 0., 0., 0., 0., 0.,\n",
       "        0., 0., 0., 0., 0., 0., 0., 0., 0., 0., 0., 0., 0., 0., 0., 0., 0.,\n",
       "        0., 0., 0., 0., 0., 0., 0., 0., 0., 0., 0., 0., 0., 0., 0., 0., 0.,\n",
       "        0., 0., 0., 0., 0., 0., 0., 0., 0., 0., 0., 0., 0., 0., 0., 0., 0.,\n",
       "        0., 0., 0., 0., 0., 0., 0., 0., 0., 0., 0., 0., 0., 0., 0., 0., 0.,\n",
       "        0., 0., 0., 0., 0., 0., 0., 0., 0., 0., 0., 0., 0., 0., 0., 0., 0.,\n",
       "        0., 0., 0., 0., 0., 0., 0., 0., 0., 0., 0., 0., 0., 0., 0., 0., 0.,\n",
       "        0., 0., 0., 0., 0., 0., 0., 0., 0., 0., 0., 0., 0., 0., 0., 0., 0.,\n",
       "        0., 0., 0., 0., 0., 0., 0., 0., 0., 0., 0., 0., 0., 0., 0., 0., 0.,\n",
       "        0., 0., 0., 0., 0., 0., 0., 0., 0., 0., 0., 0., 0., 0., 0., 0., 0.,\n",
       "        0., 0., 0., 0., 0., 0., 0., 0., 0., 0., 0., 0., 0., 0., 0., 0., 0.,\n",
       "        0., 0., 0., 0., 0., 0., 0., 0., 0., 0., 0., 0., 0., 0., 0., 0., 0.,\n",
       "        0., 0., 0., 0., 0., 0., 0., 0., 0., 0., 0., 0., 0., 0., 0., 0., 0.,\n",
       "        0., 0., 0., 0., 0., 0., 0., 0., 0., 0., 0., 0., 0., 0., 0., 0., 0.,\n",
       "        0., 0., 0., 0., 0., 0., 0., 0., 0., 0., 0., 0., 0., 0., 0., 0., 0.,\n",
       "        0.], dtype=float32),\n",
       " array([[ 1.6833330e-04,  5.9383223e-04,  1.9088155e-05, ...,\n",
       "         -1.2806144e-03, -4.1897758e-05,  6.0216081e-04],\n",
       "        [-1.9563700e-04, -9.0592890e-04, -1.0445137e-03, ...,\n",
       "         -1.1023154e-03, -3.9765798e-04, -1.1085097e-03],\n",
       "        [-3.0995463e-05,  1.3368025e-03,  1.7847912e-04, ...,\n",
       "         -1.3228833e-03, -4.6992791e-04, -3.3771503e-04],\n",
       "        ...,\n",
       "        [-1.1600542e-04, -8.6798385e-04, -1.1324747e-03, ...,\n",
       "          1.2731266e-03, -2.5938835e-04,  1.1763049e-03],\n",
       "        [-3.7793932e-04, -1.4099398e-03, -1.4564160e-03, ...,\n",
       "          5.4746517e-04, -1.4266616e-03,  4.2006141e-04],\n",
       "        [-1.5978690e-04, -1.2090488e-04,  6.7346357e-04, ...,\n",
       "         -5.7360117e-04,  1.4743493e-03, -1.1710303e-03]], dtype=float32),\n",
       " array([0., 0., 0., 0., 0., 0., 0., 0., 0., 0., 0., 0., 0., 0., 0., 0., 0.,\n",
       "        0., 0., 0., 0., 0., 0., 0., 0., 0., 0., 0., 0., 0., 0., 0., 0., 0.,\n",
       "        0., 0., 0., 0., 0., 0., 0., 0., 0., 0., 0., 0., 0., 0., 0., 0., 0.,\n",
       "        0., 0., 0., 0., 0., 0., 0., 0., 0., 0., 0., 0., 0., 0., 0., 0., 0.,\n",
       "        0., 0., 0., 0., 0., 0., 0., 0., 0., 0., 0., 0., 0., 0., 0., 0., 0.,\n",
       "        0., 0., 0., 0., 0., 0., 0., 0., 0., 0., 0., 0., 0., 0., 0., 0., 0.,\n",
       "        0., 0., 0., 0., 0., 0., 0., 0., 0., 0., 0., 0., 0., 0., 0., 0., 0.,\n",
       "        0., 0., 0., 0., 0., 0., 0., 0., 0.], dtype=float32),\n",
       " array([[-0.02949871, -0.15713184, -0.06629805, ...,  0.10760514,\n",
       "          0.17238288, -0.00880873],\n",
       "        [ 0.03662856, -0.09130078,  0.08048405, ...,  0.0883645 ,\n",
       "         -0.02564353, -0.13252752],\n",
       "        [ 0.04204932,  0.17542078, -0.02043073, ...,  0.14662315,\n",
       "          0.10626094,  0.01494153],\n",
       "        ...,\n",
       "        [ 0.0718141 ,  0.03683217,  0.10770871, ...,  0.02788895,\n",
       "         -0.14569516, -0.01522946],\n",
       "        [-0.09946087, -0.10307669,  0.10538416, ...,  0.17117395,\n",
       "          0.16665639, -0.1662337 ],\n",
       "        [-0.03482531,  0.09878953, -0.02453212, ..., -0.10278609,\n",
       "          0.14125665,  0.02012984]], dtype=float32),\n",
       " array([0., 0., 0., 0., 0., 0., 0., 0., 0., 0., 0., 0., 0., 0., 0., 0., 0.,\n",
       "        0., 0., 0., 0., 0., 0., 0., 0., 0., 0., 0., 0., 0., 0., 0., 0., 0.,\n",
       "        0., 0., 0., 0., 0., 0., 0., 0., 0., 0., 0., 0., 0., 0., 0., 0., 0.,\n",
       "        0., 0., 0., 0., 0., 0., 0., 0., 0., 0., 0., 0., 0.], dtype=float32),\n",
       " array([[ 0.0680376 , -0.05672392,  0.00745782, -0.05861226, -0.14359756],\n",
       "        [ 0.07383114, -0.05555367,  0.20146656, -0.19640684,  0.22778213],\n",
       "        [-0.289389  , -0.02331805, -0.10886931,  0.0763841 , -0.178511  ],\n",
       "        [-0.22644016,  0.08001244,  0.2831223 , -0.02349535,  0.0495083 ],\n",
       "        [-0.21881148, -0.08779922, -0.15398186,  0.08354136, -0.10453995],\n",
       "        [-0.10213493, -0.27969906,  0.04117641, -0.11878805,  0.03805563],\n",
       "        [-0.20009881,  0.19974735, -0.2796701 ,  0.20936549, -0.11248246],\n",
       "        [ 0.08646902,  0.23729032, -0.2512053 , -0.20178686,  0.23748189],\n",
       "        [-0.06773865, -0.02830288, -0.0141302 , -0.18970066,  0.24667692],\n",
       "        [ 0.07355267,  0.06944147,  0.15166023,  0.053745  , -0.21890351],\n",
       "        [-0.25216034, -0.20205066,  0.06135145, -0.152892  , -0.16308619],\n",
       "        [ 0.00322169,  0.20733464, -0.14130813, -0.26498982,  0.23559111],\n",
       "        [ 0.24131924, -0.05601312,  0.12959209,  0.24142718,  0.25167453],\n",
       "        [-0.24044731, -0.08528692,  0.03206071,  0.19002563,  0.12984827],\n",
       "        [-0.26760942,  0.02578256,  0.15798753,  0.03286523,  0.22571194],\n",
       "        [-0.05127965, -0.11368287, -0.12722692, -0.23921984, -0.19441678],\n",
       "        [ 0.18558434,  0.27717912, -0.14048801, -0.00763726,  0.04033592],\n",
       "        [ 0.16424194, -0.18292888,  0.09063029,  0.23677325, -0.21934004],\n",
       "        [ 0.08722144, -0.14425324,  0.14831242, -0.00485629, -0.2289739 ],\n",
       "        [-0.03838325, -0.09201391, -0.16845706,  0.21154767,  0.26432353],\n",
       "        [ 0.00545186,  0.00149766, -0.24130322, -0.03049809, -0.23494947],\n",
       "        [ 0.08436477, -0.25996295,  0.05265892,  0.16876107,  0.11988357],\n",
       "        [-0.25580654,  0.22836417, -0.27400604,  0.22918135, -0.00225991],\n",
       "        [ 0.20453575, -0.00379917, -0.26133484, -0.05730008,  0.23979616],\n",
       "        [ 0.20013538,  0.12503192,  0.09073028, -0.00498188, -0.13905272],\n",
       "        [-0.27779117, -0.19360207,  0.20730186, -0.12051252,  0.17205918],\n",
       "        [-0.13551542,  0.28953373, -0.2685617 ,  0.1118367 ,  0.10120478],\n",
       "        [-0.03431851, -0.24309412,  0.13482171,  0.12861076, -0.1732496 ],\n",
       "        [-0.28993523,  0.18089971, -0.10083623, -0.05342995, -0.1089188 ],\n",
       "        [ 0.2938093 , -0.20254004,  0.28272963, -0.27321735, -0.22969039],\n",
       "        [-0.20016047, -0.12483956,  0.1208303 ,  0.05814689, -0.24926332],\n",
       "        [-0.19510886,  0.16802081, -0.05006251,  0.09586042,  0.06301093],\n",
       "        [ 0.10131755,  0.11478645, -0.17662589,  0.16632244, -0.05952314],\n",
       "        [-0.22400132,  0.06635812,  0.00321212, -0.080277  , -0.23510991],\n",
       "        [ 0.05079186, -0.17857891,  0.26437253,  0.15508637,  0.20640713],\n",
       "        [ 0.24243635,  0.14102423, -0.15831946,  0.2947839 ,  0.15168336],\n",
       "        [-0.25555772,  0.27332628,  0.12857926, -0.01012236,  0.20010579],\n",
       "        [-0.03985307, -0.06902884, -0.07551743,  0.2819544 , -0.19970545],\n",
       "        [-0.19873741, -0.1953884 ,  0.15658775,  0.24101347,  0.20870346],\n",
       "        [ 0.10566667,  0.24241138,  0.03568518,  0.26925963, -0.05506104],\n",
       "        [ 0.12042546, -0.05003004,  0.13671967, -0.03144693,  0.19496593],\n",
       "        [ 0.11294425, -0.05798414,  0.2703892 ,  0.2383427 , -0.20956802],\n",
       "        [ 0.28868067, -0.27034986,  0.25552428, -0.21071331, -0.28532934],\n",
       "        [ 0.06968626,  0.09735385,  0.08981776,  0.09832266,  0.01577044],\n",
       "        [-0.13583207, -0.2709161 ,  0.16896313,  0.20530081, -0.24509242],\n",
       "        [-0.11738017,  0.2490235 , -0.2120449 , -0.21519446, -0.0894919 ],\n",
       "        [-0.05331732,  0.11759439, -0.25756305, -0.29418436,  0.04480463],\n",
       "        [-0.17845279,  0.17469221, -0.26315743, -0.06906955, -0.02277949],\n",
       "        [ 0.06210062,  0.25576943, -0.27520517,  0.06836909, -0.27775285],\n",
       "        [ 0.00746542, -0.2944116 ,  0.25489312,  0.24645185,  0.2061078 ],\n",
       "        [-0.13847178, -0.17058909,  0.05209485,  0.101477  ,  0.27454025],\n",
       "        [ 0.08370903,  0.16818133, -0.13220957, -0.02260879, -0.16808501],\n",
       "        [-0.26808587,  0.2776186 ,  0.04520425,  0.02970681,  0.03198147],\n",
       "        [ 0.13878429,  0.03533801, -0.13604996,  0.17333445,  0.1530196 ],\n",
       "        [ 0.0292868 , -0.07122111,  0.04905179,  0.15602434, -0.11240815],\n",
       "        [-0.23073873,  0.15746939,  0.23945308, -0.11476459, -0.23825307],\n",
       "        [-0.01007622,  0.03466913, -0.04801226,  0.0214676 ,  0.16946208],\n",
       "        [-0.04755069,  0.187058  ,  0.20027629,  0.16725644, -0.06212677],\n",
       "        [ 0.11682799,  0.09070385, -0.09704007,  0.05043992,  0.12530056],\n",
       "        [-0.07550851, -0.10617715,  0.11895853,  0.24646032,  0.02859858],\n",
       "        [ 0.1652405 ,  0.07187173,  0.13601044, -0.14318529,  0.23301739],\n",
       "        [ 0.25631374,  0.03893465,  0.05172995,  0.14706624,  0.2862581 ],\n",
       "        [ 0.08209378,  0.16389984, -0.13560203, -0.15582164, -0.22202137],\n",
       "        [-0.12165   , -0.25430852, -0.15956014, -0.22585788,  0.27063072]],\n",
       "       dtype=float32),\n",
       " array([0., 0., 0., 0., 0.], dtype=float32)]"
      ]
     },
     "execution_count": 52,
     "metadata": {},
     "output_type": "execute_result"
    }
   ],
   "source": [
    "wights = model.get_weights()\n",
    "wights"
   ]
  },
  {
   "cell_type": "code",
   "execution_count": 53,
   "metadata": {
    "scrolled": true
   },
   "outputs": [
    {
     "data": {
      "image/png": "[encoded data removed]",
      "text/plain": [
       "<IPython.core.display.Image object>"
      ]
     },
     "execution_count": 53,
     "metadata": {},
     "output_type": "execute_result"
    }
   ],
   "source": [
    "from tensorflow.keras.utils import plot_model\n",
    "plot_model(model, show_shapes=True)"
   ]
  },
  {
   "cell_type": "code",
   "execution_count": 72,
   "metadata": {
    "scrolled": true
   },
   "outputs": [
    {
     "name": "stdout",
     "output_type": "stream",
     "text": [
      "Epoch 1/200\n",
      "5/5 - 48s - loss: 0.0054 - sparse_categorical_accuracy: 1.0000\n",
      "Epoch 2/200\n",
      "5/5 - 46s - loss: 0.0059 - sparse_categorical_accuracy: 1.0000\n",
      "Epoch 3/200\n",
      "5/5 - 46s - loss: 0.0036 - sparse_categorical_accuracy: 1.0000\n",
      "Epoch 4/200\n",
      "5/5 - 48s - loss: 0.0018 - sparse_categorical_accuracy: 1.0000\n",
      "Epoch 5/200\n",
      "5/5 - 47s - loss: 9.3671e-04 - sparse_categorical_accuracy: 1.0000\n",
      "Epoch 6/200\n",
      "5/5 - 48s - loss: 6.4655e-04 - sparse_categorical_accuracy: 1.0000\n",
      "Epoch 7/200\n",
      "5/5 - 47s - loss: 4.9206e-04 - sparse_categorical_accuracy: 1.0000\n",
      "Epoch 8/200\n",
      "5/5 - 46s - loss: 3.5059e-04 - sparse_categorical_accuracy: 1.0000\n",
      "Epoch 9/200\n",
      "5/5 - 46s - loss: 2.4730e-04 - sparse_categorical_accuracy: 1.0000\n",
      "Epoch 10/200\n",
      "5/5 - 46s - loss: 4.7293e-04 - sparse_categorical_accuracy: 1.0000\n",
      "Epoch 11/200\n",
      "5/5 - 48s - loss: 0.1964 - sparse_categorical_accuracy: 0.9658\n",
      "Epoch 12/200\n",
      "5/5 - 31s - loss: 2.2704 - sparse_categorical_accuracy: 0.8493\n",
      "Epoch 13/200\n",
      "5/5 - 33s - loss: 0.0513 - sparse_categorical_accuracy: 0.9932\n",
      "Epoch 00013: early stopping\n"
     ]
    }
   ],
   "source": [
    "mod = model.fit(X_train,\n",
    "               Y_train, epochs=200, batch_size= 32, verbose=2 , \n",
    "                callbacks=[callback, print_weights])"
   ]
  },
  {
   "cell_type": "code",
   "execution_count": 73,
   "metadata": {},
   "outputs": [
    {
     "data": {
      "text/plain": [
       "53"
      ]
     },
     "execution_count": 73,
     "metadata": {},
     "output_type": "execute_result"
    }
   ],
   "source": [
    "len(wie_by_epoch)"
   ]
  },
  {
   "cell_type": "code",
   "execution_count": 75,
   "metadata": {},
   "outputs": [],
   "source": [
    "model.set_weights(wie_by_epoch[48])"
   ]
  },
  {
   "cell_type": "code",
   "execution_count": 76,
   "metadata": {},
   "outputs": [
    {
     "name": "stdout",
     "output_type": "stream",
     "text": [
      "2/2 - 2s - loss: 0.2341 - sparse_categorical_accuracy: 0.9189\n"
     ]
    },
    {
     "data": {
      "text/plain": [
       "[0.23407572507858276, 0.9189189076423645]"
      ]
     },
     "execution_count": 76,
     "metadata": {},
     "output_type": "execute_result"
    }
   ],
   "source": [
    "scores = model.evaluate(X_test,Y_test, verbose=2)\n",
    "scores"
   ]
  },
  {
   "cell_type": "code",
   "execution_count": 77,
   "metadata": {},
   "outputs": [
    {
     "data": {
      "text/plain": [
       "{'loss': 0.23407572507858276,\n",
       " 'sparse_categorical_accuracy': 0.9189189076423645}"
      ]
     },
     "execution_count": 77,
     "metadata": {},
     "output_type": "execute_result"
    }
   ],
   "source": [
    "dict(zip(model.metrics_names, scores))"
   ]
  },
  {
   "cell_type": "code",
   "execution_count": 78,
   "metadata": {},
   "outputs": [
    {
     "data": {
      "image/png": "[encoded data removed]",
      "text/plain": [
       "<Figure size 432x288 with 2 Axes>"
      ]
     },
     "metadata": {
      "needs_background": "light"
     },
     "output_type": "display_data"
    }
   ],
   "source": [
    "from matplotlib import pyplot\n",
    "# plot loss during training\n",
    "pyplot.subplot(211)\n",
    "pyplot.title('Loss')\n",
    "pyplot.plot(mod.history['loss'], label='train')\n",
    "#pyplot.plot(mod.history['val_loss'], label='test')\n",
    "pyplot.legend()\n",
    "# plot accuracy during training\n",
    "pyplot.subplot(212)\n",
    "pyplot.title('Accuracy')\n",
    "pyplot.plot(mod.history['sparse_categorical_accuracy'], label='train')\n",
    "#pyplot.plot(mod.history['val_accuracy'], label='test')\n",
    "pyplot.legend()\n",
    "pyplot.show()"
   ]
  },
  {
   "cell_type": "code",
   "execution_count": 79,
   "metadata": {},
   "outputs": [],
   "source": [
    "# predict probabilities for test set\n",
    "yhat_probs = model.predict(X_test.astype('float32'), verbose=0)\n",
    "# predict crisp classes for test set\n",
    "#yhat_classes = model.predict_classes(X_test, verbose=0)\n",
    "yhat_classes = np.argmax(yhat_probs,axis=1)"
   ]
  },
  {
   "cell_type": "code",
   "execution_count": 80,
   "metadata": {},
   "outputs": [],
   "source": [
    "from sklearn.metrics import accuracy_score\n",
    "from sklearn.metrics import precision_score\n",
    "from sklearn.metrics import recall_score\n",
    "from sklearn.metrics import f1_score\n",
    "from sklearn.metrics import cohen_kappa_score\n",
    "from sklearn.metrics import roc_auc_score\n",
    "from sklearn.metrics import confusion_matrix\n",
    "from sklearn.metrics import roc_curve\n",
    "from sklearn.metrics import classification_report"
   ]
  },
  {
   "cell_type": "code",
   "execution_count": 81,
   "metadata": {},
   "outputs": [
    {
     "name": "stdout",
     "output_type": "stream",
     "text": [
      "Accuracy: 0.918919\n",
      "Precision: 0.970000\n",
      "Recall: 0.830952\n",
      "F1 score: 0.887034\n"
     ]
    }
   ],
   "source": [
    "# accuracy: (tp + tn) / (p + n)\n",
    "accuracy = accuracy_score(Y_test, yhat_classes)\n",
    "print('Accuracy: %f' % accuracy)\n",
    "# precision tp / (tp + fp)\n",
    "precision = precision_score(Y_test, yhat_classes, average='macro')\n",
    "print('Precision: %f' % precision)\n",
    "# recall: tp / (tp + fn)\n",
    "recall = recall_score(Y_test, yhat_classes,average='macro')\n",
    "print('Recall: %f' % recall)\n",
    "# f1: 2 tp / (2 tp + fp + fn)\n",
    "f1 = f1_score(Y_test, yhat_classes, average='macro')\n",
    "print('F1 score: %f' % f1)"
   ]
  },
  {
   "cell_type": "code",
   "execution_count": 82,
   "metadata": {},
   "outputs": [
    {
     "name": "stdout",
     "output_type": "stream",
     "text": [
      "Cohens kappa: 0.852197\n",
      "[[22  0  0  0]\n",
      " [ 1  4  0  0]\n",
      " [ 1  0  2  0]\n",
      " [ 1  0  0  6]]\n"
     ]
    }
   ],
   "source": [
    "# kappa\n",
    "kappa = cohen_kappa_score(Y_test, yhat_classes)\n",
    "print('Cohens kappa: %f' % kappa)\n",
    "# ROC AUC\n",
    "#fprate, tprate, thresholds = roc_curve(Y_test, yhat_probs, average = 'macro')\n",
    "#print('ROC AUC: %f' % thresholds)\n",
    "# confusion matrix\n",
    "matrix = confusion_matrix(Y_test, yhat_classes)\n",
    "print(matrix)"
   ]
  },
  {
   "cell_type": "code",
   "execution_count": 83,
   "metadata": {},
   "outputs": [
    {
     "name": "stderr",
     "output_type": "stream",
     "text": [
      "C:\\Users\\hp\\Anaconda3\\lib\\site-packages\\sklearn\\metrics\\ranking.py:659: UndefinedMetricWarning: No positive samples in y_true, true positive value should be meaningless\n",
      "  UndefinedMetricWarning)\n"
     ]
    }
   ],
   "source": [
    "fpr = {}\n",
    "tpr = {}\n",
    "thresh ={}\n",
    "\n",
    "n_class = 5\n",
    "\n",
    "for i in range(n_class):    \n",
    "    fpr[i], tpr[i], thresh[i] = roc_curve(Y_test, yhat_classes, pos_label=i)"
   ]
  },
  {
   "cell_type": "code",
   "execution_count": 84,
   "metadata": {},
   "outputs": [
    {
     "data": {
      "image/png": "[encoded data removed]",
      "text/plain": [
       "<Figure size 432x288 with 1 Axes>"
      ]
     },
     "metadata": {
      "needs_background": "light"
     },
     "output_type": "display_data"
    }
   ],
   "source": [
    "# plotting    \n",
    "plt.plot(fpr[0], tpr[0], linestyle='--',color='orange', label='Class 0 vs Rest')\n",
    "plt.plot(fpr[1], tpr[1], linestyle='--',color='green', label='Class 1 vs Rest')\n",
    "plt.plot(fpr[2], tpr[2], linestyle='--',color='blue', label='Class 2 vs Rest')\n",
    "plt.plot(fpr[3], tpr[3], linestyle='--',color='red', label='Class 3 vs Rest')\n",
    "plt.plot(fpr[4], tpr[4], linestyle='--',color='black', label='Class 4 vs Rest')\n",
    "plt.title('Multiclass ROC curve')\n",
    "plt.xlabel('False Positive Rate')\n",
    "plt.ylabel('True Positive rate')\n",
    "plt.legend(loc='best')\n",
    "plt.savefig('Multiclass ROC',dpi=300); "
   ]
  },
  {
   "cell_type": "code",
   "execution_count": 85,
   "metadata": {},
   "outputs": [
    {
     "name": "stdout",
     "output_type": "stream",
     "text": [
      "Confusion matrix : \n",
      " [[22  0  0  0]\n",
      " [ 1  4  0  0]\n",
      " [ 1  0  2  0]\n",
      " [ 1  0  0  6]]\n"
     ]
    }
   ],
   "source": [
    "matrix = confusion_matrix(Y_test, yhat_classes, labels= [0, 1, 3, 4])\n",
    "print('Confusion matrix : \\n',matrix)"
   ]
  },
  {
   "cell_type": "code",
   "execution_count": 86,
   "metadata": {},
   "outputs": [
    {
     "name": "stdout",
     "output_type": "stream",
     "text": [
      "Classification report : \n",
      "               precision    recall  f1-score   support\n",
      "\n",
      "           0       0.88      1.00      0.94        22\n",
      "           1       1.00      0.80      0.89         5\n",
      "           3       1.00      0.67      0.80         3\n",
      "           4       1.00      0.86      0.92         7\n",
      "\n",
      "    accuracy                           0.92        37\n",
      "   macro avg       0.97      0.83      0.89        37\n",
      "weighted avg       0.93      0.92      0.92        37\n",
      "\n"
     ]
    }
   ],
   "source": [
    "matrix = classification_report(Y_test,yhat_classes, labels= [0, 1, 3, 4])\n",
    "print('Classification report : \\n',matrix)"
   ]
  },
  {
   "cell_type": "code",
   "execution_count": 87,
   "metadata": {},
   "outputs": [
    {
     "name": "stdout",
     "output_type": "stream",
     "text": [
      "INFO:tensorflow:Assets written to: ./models/IG feature selection/WithoutIP Top9/Multi-class/CNN\\assets\n"
     ]
    }
   ],
   "source": [
    "model.save('./models/IG feature selection/WithoutIP Top9/Multi-class/CNN')"
   ]
  },
  {
   "cell_type": "code",
   "execution_count": null,
   "metadata": {},
   "outputs": [],
   "source": [
    "#FOr DNN model"
   ]
  },
  {
   "cell_type": "code",
   "execution_count": 45,
   "metadata": {},
   "outputs": [],
   "source": [
    "from keras.callbacks import EarlyStopping\n",
    "from keras.callbacks import ModelCheckpoint, LambdaCallback\n",
    "wie_by_epoch = []\n",
    "#model_check = ModelCheckpoint(\"/models/Testpoints/best_model.hdf5\", monitor='loss', verbose=0, save_best_only=True, mode='min', save_freq=1)\n",
    "print_weights = LambdaCallback(on_epoch_end=lambda batch, logs:wie_by_epoch.append(model.get_weights()))\n",
    "callback = tf.keras.callbacks.EarlyStopping(monitor='loss', patience=4, verbose= 2)"
   ]
  },
  {
   "cell_type": "code",
   "execution_count": 46,
   "metadata": {},
   "outputs": [],
   "source": [
    "model = Sequential()\n",
    "model.add(Flatten(input_shape = X_train.shape[1:], name = 'input'))\n",
    "model.add(Dense(256, activation='relu'))\n",
    "model.add(Dense(128, activation='relu'))\n",
    "model.add(Dense(64, activation='relu'))\n",
    "model.add(Dense(32, activation='relu'))\n",
    "model.add(Dense(12, activation='relu'))\n",
    "model.add(Dense(5, activation = 'softmax') )\n",
    "#mod1 = model.compile(optimizer=tf.keras.optimizers.RMSprop(\n",
    "#   learning_rate=0.1, rho=0.1, momentum=0.0, epsilon=1e-2 , centered=False,\n",
    "#   name='RMSprop'), loss='sparse_categorical_crossentropy', metrics=[keras.metrics.SparseCategoricalAccuracy()])\n",
    "model.compile(optimizer= 'rmsprop', loss='sparse_categorical_crossentropy',  metrics=[keras.metrics.SparseCategoricalAccuracy()])\n",
    "#mod = model.fit(X.astype('float32'),Y.astype('float32'), epochs=20, batch_size= 20, verbose=0)"
   ]
  },
  {
   "cell_type": "code",
   "execution_count": 47,
   "metadata": {
    "scrolled": true
   },
   "outputs": [
    {
     "data": {
      "text/plain": [
       "(None, 5)"
      ]
     },
     "execution_count": 47,
     "metadata": {},
     "output_type": "execute_result"
    }
   ],
   "source": [
    "model.build(input_shape = (nx,ny))\n",
    "model.output_shape"
   ]
  },
  {
   "cell_type": "code",
   "execution_count": 48,
   "metadata": {},
   "outputs": [
    {
     "data": {
      "text/plain": [
       "361"
      ]
     },
     "execution_count": 48,
     "metadata": {},
     "output_type": "execute_result"
    }
   ],
   "source": [
    "#del model, wie_by_epoch\n",
    "\n",
    "gc.collect()"
   ]
  },
  {
   "cell_type": "code",
   "execution_count": 49,
   "metadata": {
    "scrolled": true
   },
   "outputs": [
    {
     "data": {
      "image/png": "[encoded data removed]",
      "text/plain": [
       "<IPython.core.display.Image object>"
      ]
     },
     "execution_count": 49,
     "metadata": {},
     "output_type": "execute_result"
    }
   ],
   "source": [
    "wights = model.get_weights()\n",
    "from tensorflow.keras.utils import plot_model\n",
    "plot_model(model, show_shapes=True)"
   ]
  },
  {
   "cell_type": "code",
   "execution_count": 63,
   "metadata": {
    "scrolled": true
   },
   "outputs": [
    {
     "name": "stdout",
     "output_type": "stream",
     "text": [
      "Epoch 1/40\n",
      "5/5 - 2s - loss: 6.0301e-04 - sparse_categorical_accuracy: 1.0000\n",
      "Epoch 2/40\n",
      "5/5 - 2s - loss: 3.7699e-04 - sparse_categorical_accuracy: 1.0000\n",
      "Epoch 3/40\n",
      "5/5 - 2s - loss: 3.1448e-04 - sparse_categorical_accuracy: 1.0000\n",
      "Epoch 4/40\n",
      "5/5 - 2s - loss: 2.5436e-04 - sparse_categorical_accuracy: 1.0000\n",
      "Epoch 5/40\n",
      "5/5 - 2s - loss: 1.4712e-04 - sparse_categorical_accuracy: 1.0000\n",
      "Epoch 6/40\n",
      "5/5 - 2s - loss: 9.8144e-05 - sparse_categorical_accuracy: 1.0000\n",
      "Epoch 7/40\n",
      "5/5 - 2s - loss: 8.7896e-05 - sparse_categorical_accuracy: 1.0000\n",
      "Epoch 8/40\n",
      "5/5 - 2s - loss: 8.0545e-05 - sparse_categorical_accuracy: 1.0000\n",
      "Epoch 9/40\n",
      "5/5 - 2s - loss: 7.3462e-05 - sparse_categorical_accuracy: 1.0000\n",
      "Epoch 10/40\n",
      "5/5 - 2s - loss: 6.8992e-05 - sparse_categorical_accuracy: 1.0000\n",
      "Epoch 11/40\n",
      "5/5 - 2s - loss: 6.5007e-05 - sparse_categorical_accuracy: 1.0000\n",
      "Epoch 12/40\n",
      "5/5 - 2s - loss: 6.1800e-05 - sparse_categorical_accuracy: 1.0000\n",
      "Epoch 13/40\n",
      "5/5 - 2s - loss: 5.6565e-05 - sparse_categorical_accuracy: 1.0000\n",
      "Epoch 14/40\n",
      "5/5 - 2s - loss: 5.2866e-05 - sparse_categorical_accuracy: 1.0000\n",
      "Epoch 15/40\n",
      "5/5 - 2s - loss: 4.9293e-05 - sparse_categorical_accuracy: 1.0000\n",
      "Epoch 16/40\n",
      "5/5 - 2s - loss: 4.4443e-05 - sparse_categorical_accuracy: 1.0000\n",
      "Epoch 17/40\n",
      "5/5 - 2s - loss: 4.2158e-05 - sparse_categorical_accuracy: 1.0000\n",
      "Epoch 18/40\n",
      "5/5 - 2s - loss: 3.8075e-05 - sparse_categorical_accuracy: 1.0000\n",
      "Epoch 19/40\n",
      "5/5 - 2s - loss: 3.3807e-05 - sparse_categorical_accuracy: 1.0000\n",
      "Epoch 20/40\n",
      "5/5 - 2s - loss: 3.1649e-05 - sparse_categorical_accuracy: 1.0000\n",
      "Epoch 21/40\n",
      "5/5 - 2s - loss: 2.7103e-05 - sparse_categorical_accuracy: 1.0000\n",
      "Epoch 22/40\n",
      "5/5 - 2s - loss: 2.3647e-05 - sparse_categorical_accuracy: 1.0000\n",
      "Epoch 23/40\n",
      "5/5 - 2s - loss: 2.1451e-05 - sparse_categorical_accuracy: 1.0000\n",
      "Epoch 24/40\n",
      "5/5 - 2s - loss: 1.8530e-05 - sparse_categorical_accuracy: 1.0000\n",
      "Epoch 25/40\n",
      "5/5 - 2s - loss: 1.3638e-05 - sparse_categorical_accuracy: 1.0000\n",
      "Epoch 26/40\n",
      "5/5 - 2s - loss: 1.2403e-05 - sparse_categorical_accuracy: 1.0000\n",
      "Epoch 27/40\n",
      "5/5 - 2s - loss: 1.1027e-05 - sparse_categorical_accuracy: 1.0000\n",
      "Epoch 28/40\n",
      "5/5 - 2s - loss: 8.9652e-06 - sparse_categorical_accuracy: 1.0000\n",
      "Epoch 29/40\n",
      "5/5 - 2s - loss: 7.4923e-06 - sparse_categorical_accuracy: 1.0000\n",
      "Epoch 30/40\n",
      "5/5 - 2s - loss: 5.4995e-06 - sparse_categorical_accuracy: 1.0000\n",
      "Epoch 31/40\n",
      "5/5 - 2s - loss: 4.6362e-06 - sparse_categorical_accuracy: 1.0000\n",
      "Epoch 32/40\n",
      "5/5 - 2s - loss: 3.8145e-06 - sparse_categorical_accuracy: 1.0000\n",
      "Epoch 33/40\n",
      "5/5 - 2s - loss: 2.6621e-06 - sparse_categorical_accuracy: 1.0000\n",
      "Epoch 34/40\n",
      "5/5 - 2s - loss: 2.3870e-06 - sparse_categorical_accuracy: 1.0000\n",
      "Epoch 35/40\n",
      "5/5 - 2s - loss: 2.2296e-06 - sparse_categorical_accuracy: 1.0000\n",
      "Epoch 36/40\n",
      "5/5 - 2s - loss: 1.6344e-06 - sparse_categorical_accuracy: 1.0000\n",
      "Epoch 37/40\n",
      "5/5 - 2s - loss: 1.2834e-06 - sparse_categorical_accuracy: 1.0000\n",
      "Epoch 38/40\n",
      "5/5 - 2s - loss: 1.0157e-06 - sparse_categorical_accuracy: 1.0000\n",
      "Epoch 39/40\n",
      "5/5 - 2s - loss: 9.8546e-07 - sparse_categorical_accuracy: 1.0000\n",
      "Epoch 40/40\n",
      "5/5 - 2s - loss: 6.9889e-07 - sparse_categorical_accuracy: 1.0000\n"
     ]
    }
   ],
   "source": [
    "mod = model.fit(X_train,\n",
    "               Y_train, epochs=40, batch_size= 32, verbose=2 , \n",
    "                callbacks=[callback, print_weights])"
   ]
  },
  {
   "cell_type": "code",
   "execution_count": 64,
   "metadata": {},
   "outputs": [
    {
     "data": {
      "text/plain": [
       "131"
      ]
     },
     "execution_count": 64,
     "metadata": {},
     "output_type": "execute_result"
    }
   ],
   "source": [
    "#Total Epochs\n",
    "len(wie_by_epoch)"
   ]
  },
  {
   "cell_type": "code",
   "execution_count": 65,
   "metadata": {},
   "outputs": [],
   "source": [
    "#\n",
    "#model.set_weights(wie_by_epoch[37])"
   ]
  },
  {
   "cell_type": "code",
   "execution_count": 66,
   "metadata": {},
   "outputs": [
    {
     "name": "stdout",
     "output_type": "stream",
     "text": [
      "2/2 - 0s - loss: 1.9357 - sparse_categorical_accuracy: 0.9189\n"
     ]
    },
    {
     "data": {
      "text/plain": [
       "[1.935672402381897, 0.9189189076423645]"
      ]
     },
     "execution_count": 66,
     "metadata": {},
     "output_type": "execute_result"
    }
   ],
   "source": [
    "scores = model.evaluate(X_test,Y_test, verbose=2)\n",
    "scores"
   ]
  },
  {
   "cell_type": "code",
   "execution_count": 67,
   "metadata": {},
   "outputs": [
    {
     "data": {
      "text/plain": [
       "{'loss': 1.935672402381897, 'sparse_categorical_accuracy': 0.9189189076423645}"
      ]
     },
     "execution_count": 67,
     "metadata": {},
     "output_type": "execute_result"
    }
   ],
   "source": [
    "dict(zip(model.metrics_names, scores))"
   ]
  },
  {
   "cell_type": "code",
   "execution_count": 68,
   "metadata": {},
   "outputs": [
    {
     "data": {
      "image/png": "[encoded data removed]",
      "text/plain": [
       "<Figure size 432x288 with 2 Axes>"
      ]
     },
     "metadata": {
      "needs_background": "light"
     },
     "output_type": "display_data"
    }
   ],
   "source": [
    "from matplotlib import pyplot\n",
    "# plot loss during training\n",
    "pyplot.subplot(211)\n",
    "pyplot.title('Loss')\n",
    "pyplot.plot(mod.history['loss'], label='train')\n",
    "#pyplot.plot(mod.history['val_loss'], label='test')\n",
    "pyplot.legend()\n",
    "# plot accuracy during training\n",
    "pyplot.subplot(212)\n",
    "pyplot.title('Accuracy')\n",
    "pyplot.plot(mod.history['sparse_categorical_accuracy'], label='train')\n",
    "#pyplot.plot(mod.history['val_accuracy'], label='test')\n",
    "pyplot.legend()\n",
    "pyplot.show()"
   ]
  },
  {
   "cell_type": "code",
   "execution_count": 69,
   "metadata": {},
   "outputs": [],
   "source": [
    "# predict probabilities for test set\n",
    "yhat_probs = model.predict(X_test.astype('float32'), verbose=0)\n",
    "# predict crisp classes for test set\n",
    "#yhat_classes = model.predict_classes(X_test, verbose=0)\n",
    "yhat_classes = np.argmax(yhat_probs,axis=1)"
   ]
  },
  {
   "cell_type": "code",
   "execution_count": 70,
   "metadata": {},
   "outputs": [],
   "source": [
    "from sklearn.datasets import make_circles\n",
    "from sklearn.metrics import accuracy_score\n",
    "from sklearn.metrics import precision_score\n",
    "from sklearn.metrics import recall_score\n",
    "from sklearn.metrics import f1_score\n",
    "from sklearn.metrics import cohen_kappa_score\n",
    "from sklearn.metrics import roc_auc_score\n",
    "from sklearn.metrics import confusion_matrix\n",
    "from sklearn.metrics import roc_curve\n"
   ]
  },
  {
   "cell_type": "code",
   "execution_count": 71,
   "metadata": {},
   "outputs": [
    {
     "name": "stdout",
     "output_type": "stream",
     "text": [
      "Accuracy: 0.918919\n",
      "Precision: 0.942547\n",
      "Recall: 0.869589\n",
      "F1 score: 0.897619\n"
     ]
    }
   ],
   "source": [
    "# accuracy: (tp + tn) / (p + n)\n",
    "accuracy = accuracy_score(Y_test, yhat_classes)\n",
    "print('Accuracy: %f' % accuracy)\n",
    "# precision tp / (tp + fp)\n",
    "precision = precision_score(Y_test, yhat_classes, average='macro')\n",
    "print('Precision: %f' % precision)\n",
    "# recall: tp / (tp + fn)\n",
    "recall = recall_score(Y_test, yhat_classes,average='macro')\n",
    "print('Recall: %f' % recall)\n",
    "# f1: 2 tp / (2 tp + fp + fn)\n",
    "f1 = f1_score(Y_test, yhat_classes, average='macro')\n",
    "print('F1 score: %f' % f1)"
   ]
  },
  {
   "cell_type": "code",
   "execution_count": 72,
   "metadata": {},
   "outputs": [
    {
     "name": "stdout",
     "output_type": "stream",
     "text": [
      "Cohens kappa: 0.858238\n",
      "[[21  0  0  1]\n",
      " [ 0  5  0  0]\n",
      " [ 1  0  2  0]\n",
      " [ 1  0  0  6]]\n"
     ]
    }
   ],
   "source": [
    "# kappa\n",
    "kappa = cohen_kappa_score(Y_test, yhat_classes)\n",
    "print('Cohens kappa: %f' % kappa)\n",
    "# ROC AUC\n",
    "#fprate, tprate, thresholds = roc_curve(Y_test, yhat_probs, average = 'macro')\n",
    "#print('ROC AUC: %f' % thresholds)\n",
    "# confusion matrix\n",
    "matrix = confusion_matrix(Y_test, yhat_classes)\n",
    "print(matrix)"
   ]
  },
  {
   "cell_type": "code",
   "execution_count": 73,
   "metadata": {},
   "outputs": [
    {
     "name": "stderr",
     "output_type": "stream",
     "text": [
      "C:\\Users\\hp\\Anaconda3\\lib\\site-packages\\sklearn\\metrics\\ranking.py:659: UndefinedMetricWarning: No positive samples in y_true, true positive value should be meaningless\n",
      "  UndefinedMetricWarning)\n"
     ]
    }
   ],
   "source": [
    "fpr = {}\n",
    "tpr = {}\n",
    "thresh ={}\n",
    "\n",
    "n_class = 5\n",
    "\n",
    "for i in range(n_class):    \n",
    "    fpr[i], tpr[i], thresh[i] = roc_curve(Y_test, yhat_classes, pos_label=i)"
   ]
  },
  {
   "cell_type": "code",
   "execution_count": 74,
   "metadata": {},
   "outputs": [
    {
     "data": {
      "image/png": "[encoded data removed]",
      "text/plain": [
       "<Figure size 432x288 with 1 Axes>"
      ]
     },
     "metadata": {
      "needs_background": "light"
     },
     "output_type": "display_data"
    }
   ],
   "source": [
    "# plotting    \n",
    "plt.plot(fpr[0], tpr[0], linestyle='--',color='orange', label='Class 0 vs Rest')\n",
    "plt.plot(fpr[1], tpr[1], linestyle='--',color='green', label='Class 1 vs Rest')\n",
    "plt.plot(fpr[2], tpr[2], linestyle='--',color='blue', label='Class 2 vs Rest')\n",
    "plt.plot(fpr[3], tpr[3], linestyle='--',color='red', label='Class 3 vs Rest')\n",
    "plt.plot(fpr[4], tpr[4], linestyle='--',color='black', label='Class 4 vs Rest')\n",
    "plt.title('Multiclass ROC curve')\n",
    "plt.xlabel('False Positive Rate')\n",
    "plt.ylabel('True Positive rate')\n",
    "plt.legend(loc='best')\n",
    "plt.savefig('Multiclass ROC',dpi=300); "
   ]
  },
  {
   "cell_type": "code",
   "execution_count": 75,
   "metadata": {},
   "outputs": [
    {
     "name": "stdout",
     "output_type": "stream",
     "text": [
      "Confusion matrix : \n",
      " [[21  0  0  1]\n",
      " [ 0  5  0  0]\n",
      " [ 1  0  2  0]\n",
      " [ 1  0  0  6]]\n"
     ]
    }
   ],
   "source": [
    "matrix = confusion_matrix(Y_test,yhat_classes, labels= [0, 1,3, 4])\n",
    "print('Confusion matrix : \\n',matrix)"
   ]
  },
  {
   "cell_type": "code",
   "execution_count": 76,
   "metadata": {},
   "outputs": [
    {
     "name": "stdout",
     "output_type": "stream",
     "text": [
      "Classification report : \n",
      "               precision    recall  f1-score   support\n",
      "\n",
      "           0       0.91      0.95      0.93        22\n",
      "           1       1.00      1.00      1.00         5\n",
      "           3       1.00      0.67      0.80         3\n",
      "           4       0.86      0.86      0.86         7\n",
      "\n",
      "    accuracy                           0.92        37\n",
      "   macro avg       0.94      0.87      0.90        37\n",
      "weighted avg       0.92      0.92      0.92        37\n",
      "\n"
     ]
    }
   ],
   "source": [
    "matrix = classification_report(Y_test,yhat_classes, labels= [0, 1,3, 4])\n",
    "print('Classification report : \\n',matrix)"
   ]
  },
  {
   "cell_type": "code",
   "execution_count": 77,
   "metadata": {},
   "outputs": [
    {
     "name": "stdout",
     "output_type": "stream",
     "text": [
      "INFO:tensorflow:Assets written to: ./models/IG feature selection/WithoutIP Top9/Multi-class/DNN\\assets\n"
     ]
    }
   ],
   "source": [
    "model.save('./models/IG feature selection/WithoutIP Top9/Multi-class/DNN')"
   ]
  },
  {
   "cell_type": "code",
   "execution_count": 78,
   "metadata": {},
   "outputs": [],
   "source": [
    "from keras import backend as K\n",
    "K.clear_session()"
   ]
  },
  {
   "cell_type": "code",
   "execution_count": 79,
   "metadata": {},
   "outputs": [],
   "source": [
    "#LSTM"
   ]
  },
  {
   "cell_type": "code",
   "execution_count": 80,
   "metadata": {},
   "outputs": [],
   "source": [
    "from keras.callbacks import EarlyStopping\n",
    "from keras.callbacks import ModelCheckpoint, LambdaCallback\n",
    "wie_by_epoch = []\n",
    "model_check = ModelCheckpoint(\"./models/Testpoints/best_model.hdf5\", monitor='loss', verbose=0, save_best_only=True, mode='min', save_freq=1)\n",
    "print_weights = LambdaCallback(on_epoch_end=lambda batch, logs:wie_by_epoch.append(model.get_weights()))\n",
    "callback = tf.keras.callbacks.EarlyStopping(monitor='loss', patience=4, verbose= 2)"
   ]
  },
  {
   "cell_type": "code",
   "execution_count": 81,
   "metadata": {},
   "outputs": [],
   "source": [
    "model = Sequential()\n",
    "model.add(LSTM(14, activation='relu', return_sequences = True, dropout = 0.1, input_shape = (nx,ny) ))\n",
    "model.add(Flatten())\n",
    "model.add(Dense(5, activation='softmax'))\n",
    "model.compile(optimizer= 'rmsprop', loss='sparse_categorical_crossentropy',  metrics=[keras.metrics.SparseCategoricalAccuracy()])"
   ]
  },
  {
   "cell_type": "code",
   "execution_count": 82,
   "metadata": {},
   "outputs": [
    {
     "data": {
      "text/plain": [
       "(None, 5)"
      ]
     },
     "execution_count": 82,
     "metadata": {},
     "output_type": "execute_result"
    }
   ],
   "source": [
    "model.build(input_shape = (nx,ny))\n",
    "model.output_shape"
   ]
  },
  {
   "cell_type": "code",
   "execution_count": 83,
   "metadata": {
    "scrolled": true
   },
   "outputs": [
    {
     "data": {
      "text/plain": [
       "15848"
      ]
     },
     "execution_count": 83,
     "metadata": {},
     "output_type": "execute_result"
    }
   ],
   "source": [
    "#del model, wie_by_epoch\n",
    "\n",
    "gc.collect()"
   ]
  },
  {
   "cell_type": "code",
   "execution_count": 84,
   "metadata": {},
   "outputs": [
    {
     "name": "stdout",
     "output_type": "stream",
     "text": [
      "Model: \"sequential\"\n",
      "_________________________________________________________________\n",
      "Layer (type)                 Output Shape              Param #   \n",
      "=================================================================\n",
      "lstm (LSTM)                  (None, 19800, 14)         1344      \n",
      "_________________________________________________________________\n",
      "flatten (Flatten)            (None, 277200)            0         \n",
      "_________________________________________________________________\n",
      "dense (Dense)                (None, 5)                 1386005   \n",
      "=================================================================\n",
      "Total params: 1,387,349\n",
      "Trainable params: 1,387,349\n",
      "Non-trainable params: 0\n",
      "_________________________________________________________________\n"
     ]
    }
   ],
   "source": [
    "#model.build(input_shape = (nx,ny))\n",
    "model.summary()\n"
   ]
  },
  {
   "cell_type": "code",
   "execution_count": 85,
   "metadata": {},
   "outputs": [
    {
     "data": {
      "image/png": "[encoded data removed]",
      "text/plain": [
       "<IPython.core.display.Image object>"
      ]
     },
     "execution_count": 85,
     "metadata": {},
     "output_type": "execute_result"
    }
   ],
   "source": [
    "from tensorflow.keras.utils import plot_model\n",
    "wights = model.get_weights()\n",
    "plot_model(model, show_shapes=True)"
   ]
  },
  {
   "cell_type": "code",
   "execution_count": 86,
   "metadata": {
    "scrolled": true
   },
   "outputs": [
    {
     "name": "stdout",
     "output_type": "stream",
     "text": [
      "Epoch 1/60\n",
      "3/3 - 39s - loss: 3.8566 - sparse_categorical_accuracy: 0.3288\n",
      "Epoch 2/60\n",
      "3/3 - 33s - loss: 4.3788 - sparse_categorical_accuracy: 0.7534\n",
      "Epoch 3/60\n",
      "3/3 - 33s - loss: 1.0412 - sparse_categorical_accuracy: 0.8562\n",
      "Epoch 4/60\n",
      "3/3 - 33s - loss: 0.7111 - sparse_categorical_accuracy: 0.9041\n",
      "Epoch 5/60\n",
      "3/3 - 33s - loss: 0.5927 - sparse_categorical_accuracy: 0.9178\n",
      "Epoch 6/60\n",
      "3/3 - 33s - loss: 1.0998 - sparse_categorical_accuracy: 0.8288\n",
      "Epoch 7/60\n",
      "3/3 - 33s - loss: 0.3251 - sparse_categorical_accuracy: 0.9315\n",
      "Epoch 8/60\n",
      "3/3 - 33s - loss: 0.2942 - sparse_categorical_accuracy: 0.9452\n",
      "Epoch 9/60\n",
      "3/3 - 33s - loss: 0.2370 - sparse_categorical_accuracy: 0.9521\n",
      "Epoch 10/60\n",
      "3/3 - 33s - loss: 3.2544 - sparse_categorical_accuracy: 0.7397\n",
      "Epoch 11/60\n",
      "3/3 - 35s - loss: 0.2340 - sparse_categorical_accuracy: 0.9452\n",
      "Epoch 12/60\n",
      "3/3 - 36s - loss: 0.3215 - sparse_categorical_accuracy: 0.9178\n",
      "Epoch 13/60\n",
      "3/3 - 34s - loss: 0.2162 - sparse_categorical_accuracy: 0.9521\n",
      "Epoch 14/60\n",
      "3/3 - 33s - loss: 0.1735 - sparse_categorical_accuracy: 0.9521\n",
      "Epoch 15/60\n",
      "3/3 - 23s - loss: 0.1905 - sparse_categorical_accuracy: 0.9384\n",
      "Epoch 16/60\n",
      "3/3 - 24s - loss: 0.1048 - sparse_categorical_accuracy: 0.9589\n",
      "Epoch 17/60\n",
      "3/3 - 24s - loss: 2.4969 - sparse_categorical_accuracy: 0.6301\n",
      "Epoch 18/60\n",
      "3/3 - 23s - loss: 0.1355 - sparse_categorical_accuracy: 0.9658\n",
      "Epoch 19/60\n",
      "3/3 - 23s - loss: 0.1732 - sparse_categorical_accuracy: 0.9589\n",
      "Epoch 20/60\n",
      "3/3 - 23s - loss: 0.0852 - sparse_categorical_accuracy: 0.9589\n",
      "Epoch 21/60\n",
      "3/3 - 23s - loss: 0.0633 - sparse_categorical_accuracy: 0.9795\n",
      "Epoch 22/60\n",
      "3/3 - 26s - loss: 0.0787 - sparse_categorical_accuracy: 0.9658\n",
      "Epoch 23/60\n",
      "3/3 - 32s - loss: 0.0559 - sparse_categorical_accuracy: 0.9795\n",
      "Epoch 24/60\n",
      "3/3 - 36s - loss: 0.0614 - sparse_categorical_accuracy: 0.9795\n",
      "Epoch 25/60\n",
      "3/3 - 36s - loss: 0.0954 - sparse_categorical_accuracy: 0.9452\n",
      "Epoch 26/60\n",
      "3/3 - 34s - loss: 0.1083 - sparse_categorical_accuracy: 0.9521\n",
      "Epoch 27/60\n",
      "3/3 - 35s - loss: 0.0507 - sparse_categorical_accuracy: 0.9795\n",
      "Epoch 28/60\n",
      "3/3 - 34s - loss: 0.0584 - sparse_categorical_accuracy: 0.9795\n",
      "Epoch 29/60\n",
      "3/3 - 35s - loss: 0.0473 - sparse_categorical_accuracy: 0.9726\n",
      "Epoch 30/60\n",
      "3/3 - 35s - loss: 0.1631 - sparse_categorical_accuracy: 0.9452\n",
      "Epoch 31/60\n",
      "3/3 - 35s - loss: 0.0355 - sparse_categorical_accuracy: 0.9932\n",
      "Epoch 32/60\n",
      "3/3 - 36s - loss: 0.0356 - sparse_categorical_accuracy: 0.9795\n",
      "Epoch 33/60\n",
      "3/3 - 30s - loss: 0.0341 - sparse_categorical_accuracy: 0.9863\n",
      "Epoch 34/60\n",
      "3/3 - 24s - loss: 0.0914 - sparse_categorical_accuracy: 0.9589\n",
      "Epoch 35/60\n",
      "3/3 - 24s - loss: 0.6972 - sparse_categorical_accuracy: 0.8356\n",
      "Epoch 36/60\n",
      "3/3 - 24s - loss: 0.2385 - sparse_categorical_accuracy: 0.9521\n",
      "Epoch 37/60\n",
      "3/3 - 23s - loss: 0.0626 - sparse_categorical_accuracy: 0.9726\n",
      "Epoch 00037: early stopping\n"
     ]
    }
   ],
   "source": [
    "mod = model.fit(X_train,\n",
    "               Y_train, epochs=60, batch_size= 64, verbose=2 , \n",
    "                callbacks=[callback, print_weights, model_check])"
   ]
  },
  {
   "cell_type": "code",
   "execution_count": 87,
   "metadata": {},
   "outputs": [
    {
     "data": {
      "text/plain": [
       "37"
      ]
     },
     "execution_count": 87,
     "metadata": {},
     "output_type": "execute_result"
    }
   ],
   "source": [
    "# Number of Epochs\n",
    "len(wie_by_epoch)"
   ]
  },
  {
   "cell_type": "code",
   "execution_count": 89,
   "metadata": {},
   "outputs": [],
   "source": [
    "# 7\n",
    "#model.set_weights(wie_by_epoch[45])"
   ]
  },
  {
   "cell_type": "code",
   "execution_count": 90,
   "metadata": {},
   "outputs": [
    {
     "name": "stdout",
     "output_type": "stream",
     "text": [
      "2/2 - 2s - loss: 0.1049 - sparse_categorical_accuracy: 0.9459\n"
     ]
    },
    {
     "data": {
      "text/plain": [
       "[0.10488784313201904, 0.9459459185600281]"
      ]
     },
     "execution_count": 90,
     "metadata": {},
     "output_type": "execute_result"
    }
   ],
   "source": [
    "scores = model.evaluate(X_test,Y_test, verbose=2)\n",
    "scores"
   ]
  },
  {
   "cell_type": "code",
   "execution_count": 91,
   "metadata": {},
   "outputs": [
    {
     "data": {
      "image/png": "[encoded data removed]",
      "text/plain": [
       "<Figure size 432x288 with 2 Axes>"
      ]
     },
     "metadata": {
      "needs_background": "light"
     },
     "output_type": "display_data"
    }
   ],
   "source": [
    "from matplotlib import pyplot\n",
    "# plot loss during training\n",
    "pyplot.subplot(211)\n",
    "pyplot.title('Loss')\n",
    "pyplot.plot(mod.history['loss'], label='train')\n",
    "#pyplot.plot(mod.history['val_loss'], label='test')\n",
    "pyplot.legend()\n",
    "# plot accuracy during training\n",
    "pyplot.subplot(212)\n",
    "pyplot.title('Accuracy')\n",
    "pyplot.plot(mod.history['sparse_categorical_accuracy'], label='train')\n",
    "#pyplot.plot(mod.history['val_accuracy'], label='test')\n",
    "pyplot.legend()\n",
    "pyplot.show()"
   ]
  },
  {
   "cell_type": "code",
   "execution_count": 92,
   "metadata": {},
   "outputs": [],
   "source": [
    "# predict probabilities for test set\n",
    "yhat_probs = model.predict(X_test.astype('float32'), verbose=0)\n",
    "# predict crisp classes for test set\n",
    "#yhat_classes = model.predict_classes(X_test, verbose=0)\n",
    "yhat_classes = np.argmax(yhat_probs,axis=1)"
   ]
  },
  {
   "cell_type": "code",
   "execution_count": 93,
   "metadata": {},
   "outputs": [
    {
     "name": "stdout",
     "output_type": "stream",
     "text": [
      "Accuracy: 0.945946\n",
      "Precision: 0.947464\n",
      "Recall: 0.880952\n",
      "F1 score: 0.902486\n"
     ]
    }
   ],
   "source": [
    "# accuracy: (tp + tn) / (p + n)\n",
    "accuracy = accuracy_score(Y_test, yhat_classes)\n",
    "print('Accuracy: %f' % accuracy)\n",
    "# precision tp / (tp + fp)\n",
    "precision = precision_score(Y_test, yhat_classes, average='macro')\n",
    "print('Precision: %f' % precision)\n",
    "# recall: tp / (tp + fn)\n",
    "recall = recall_score(Y_test, yhat_classes,average='macro')\n",
    "print('Recall: %f' % recall)\n",
    "# f1: 2 tp / (2 tp + fp + fn)\n",
    "f1 = f1_score(Y_test, yhat_classes, average='macro')\n",
    "print('F1 score: %f' % f1)"
   ]
  },
  {
   "cell_type": "code",
   "execution_count": 94,
   "metadata": {},
   "outputs": [
    {
     "name": "stdout",
     "output_type": "stream",
     "text": [
      "Cohens kappa: 0.905732\n",
      "[[22  0  0  0]\n",
      " [ 0  5  0  0]\n",
      " [ 0  1  2  0]\n",
      " [ 1  0  0  6]]\n"
     ]
    }
   ],
   "source": [
    "# kappa\n",
    "kappa = cohen_kappa_score(Y_test, yhat_classes)\n",
    "print('Cohens kappa: %f' % kappa)\n",
    "# ROC AUC\n",
    "#fprate, tprate, thresholds = roc_curve(Y_test, yhat_probs, average = 'macro')\n",
    "#print('ROC AUC: %f' % thresholds)\n",
    "# confusion matrix\n",
    "matrix = confusion_matrix(Y_test, yhat_classes)\n",
    "print(matrix)"
   ]
  },
  {
   "cell_type": "code",
   "execution_count": 95,
   "metadata": {},
   "outputs": [
    {
     "name": "stderr",
     "output_type": "stream",
     "text": [
      "C:\\Users\\hp\\Anaconda3\\lib\\site-packages\\sklearn\\metrics\\ranking.py:659: UndefinedMetricWarning: No positive samples in y_true, true positive value should be meaningless\n",
      "  UndefinedMetricWarning)\n"
     ]
    }
   ],
   "source": [
    "fpr = {}\n",
    "tpr = {}\n",
    "thresh ={}\n",
    "\n",
    "n_class = 5\n",
    "\n",
    "for i in range(n_class):    \n",
    "    fpr[i], tpr[i], thresh[i] = roc_curve(Y_test, yhat_classes, pos_label=i)"
   ]
  },
  {
   "cell_type": "code",
   "execution_count": 96,
   "metadata": {},
   "outputs": [
    {
     "data": {
      "image/png": "[encoded data removed]",
      "text/plain": [
       "<Figure size 432x288 with 1 Axes>"
      ]
     },
     "metadata": {
      "needs_background": "light"
     },
     "output_type": "display_data"
    }
   ],
   "source": [
    "# plotting    \n",
    "plt.plot(fpr[0], tpr[0], linestyle='--',color='orange', label='Class 0 vs Rest')\n",
    "plt.plot(fpr[1], tpr[1], linestyle='--',color='green', label='Class 1 vs Rest')\n",
    "plt.plot(fpr[2], tpr[2], linestyle='--',color='blue', label='Class 2 vs Rest')\n",
    "plt.plot(fpr[3], tpr[3], linestyle='--',color='red', label='Class 3 vs Rest')\n",
    "plt.plot(fpr[4], tpr[4], linestyle='--',color='black', label='Class 4 vs Rest')\n",
    "plt.title('Multiclass ROC curve')\n",
    "plt.xlabel('False Positive Rate')\n",
    "plt.ylabel('True Positive rate')\n",
    "plt.legend(loc='best')\n",
    "plt.savefig('Multiclass ROC',dpi=300); "
   ]
  },
  {
   "cell_type": "code",
   "execution_count": 97,
   "metadata": {},
   "outputs": [
    {
     "name": "stdout",
     "output_type": "stream",
     "text": [
      "Confusion matrix : \n",
      " [[22  0  0  0]\n",
      " [ 0  5  0  0]\n",
      " [ 0  1  2  0]\n",
      " [ 1  0  0  6]]\n"
     ]
    }
   ],
   "source": [
    "matrix = confusion_matrix(Y_test,yhat_classes, labels= [0, 1, 3, 4])\n",
    "print('Confusion matrix : \\n',matrix)"
   ]
  },
  {
   "cell_type": "code",
   "execution_count": 98,
   "metadata": {},
   "outputs": [
    {
     "name": "stdout",
     "output_type": "stream",
     "text": [
      "Classification report : \n",
      "               precision    recall  f1-score   support\n",
      "\n",
      "           0       0.96      1.00      0.98        22\n",
      "           1       0.83      1.00      0.91         5\n",
      "           3       1.00      0.67      0.80         3\n",
      "           4       1.00      0.86      0.92         7\n",
      "\n",
      "    accuracy                           0.95        37\n",
      "   macro avg       0.95      0.88      0.90        37\n",
      "weighted avg       0.95      0.95      0.94        37\n",
      "\n"
     ]
    }
   ],
   "source": [
    "matrix = classification_report(Y_test,yhat_classes, labels= [0, 1, 3, 4])\n",
    "print('Classification report : \\n',matrix)"
   ]
  },
  {
   "cell_type": "code",
   "execution_count": 99,
   "metadata": {},
   "outputs": [
    {
     "name": "stdout",
     "output_type": "stream",
     "text": [
      "INFO:tensorflow:Assets written to: ./models/IG feature selection/WithoutIP Top9/Multi-class/LSTM\\assets\n"
     ]
    }
   ],
   "source": [
    "import pickle\n",
    "#filename = './models/CFS feature selection/With IP_ Top 7/Multi-class/KNN/KNN.sav'\n",
    "model.save('./models/IG feature selection/WithoutIP Top9/Multi-class/LSTM')"
   ]
  },
  {
   "cell_type": "code",
   "execution_count": 100,
   "metadata": {},
   "outputs": [],
   "source": [
    "from keras import backend as K\n",
    "K.clear_session()"
   ]
  },
  {
   "cell_type": "code",
   "execution_count": 118,
   "metadata": {},
   "outputs": [],
   "source": [
    "from keras.callbacks import EarlyStopping\n",
    "from keras.callbacks import ModelCheckpoint, LambdaCallback\n",
    "wie_by_epoch = []\n",
    "model_check = ModelCheckpoint(\"./models/Testpoints/best_model.hdf5\", monitor='loss', verbose=0, save_best_only=True, mode='min', save_freq=1)\n",
    "print_weights = LambdaCallback(on_epoch_end=lambda batch, logs:wie_by_epoch.append(model.get_weights()))\n",
    "callback = tf.keras.callbacks.EarlyStopping(monitor='loss', patience=4, verbose= 2)"
   ]
  },
  {
   "cell_type": "code",
   "execution_count": 119,
   "metadata": {},
   "outputs": [],
   "source": [
    "model = Sequential()\n",
    "model.add(SimpleRNN(8, input_shape=(nx, ny), return_sequences = True, activation='relu'))\n",
    "model.add(Flatten())\n",
    "model.add(Dense(units=5, activation='softmax'))\n",
    "model.compile(optimizer= 'rmsprop', loss='sparse_categorical_crossentropy',  metrics=[keras.metrics.SparseCategoricalAccuracy()])"
   ]
  },
  {
   "cell_type": "code",
   "execution_count": 120,
   "metadata": {
    "scrolled": true
   },
   "outputs": [
    {
     "data": {
      "text/plain": [
       "(None, 5)"
      ]
     },
     "execution_count": 120,
     "metadata": {},
     "output_type": "execute_result"
    }
   ],
   "source": [
    "model.build(input_shape = (nx,ny))\n",
    "model.output_shape"
   ]
  },
  {
   "cell_type": "code",
   "execution_count": 117,
   "metadata": {},
   "outputs": [
    {
     "data": {
      "text/plain": [
       "107086"
      ]
     },
     "execution_count": 117,
     "metadata": {},
     "output_type": "execute_result"
    }
   ],
   "source": [
    "del model, wie_by_epoch\n",
    "\n",
    "gc.collect()"
   ]
  },
  {
   "cell_type": "code",
   "execution_count": 121,
   "metadata": {},
   "outputs": [
    {
     "name": "stdout",
     "output_type": "stream",
     "text": [
      "Model: \"sequential_1\"\n",
      "_________________________________________________________________\n",
      "Layer (type)                 Output Shape              Param #   \n",
      "=================================================================\n",
      "simple_rnn_1 (SimpleRNN)     (None, 19800, 8)          144       \n",
      "_________________________________________________________________\n",
      "flatten_1 (Flatten)          (None, 158400)            0         \n",
      "_________________________________________________________________\n",
      "dense_1 (Dense)              (None, 5)                 792005    \n",
      "=================================================================\n",
      "Total params: 792,149\n",
      "Trainable params: 792,149\n",
      "Non-trainable params: 0\n",
      "_________________________________________________________________\n"
     ]
    }
   ],
   "source": [
    "#model.build(input_shape = (nx,ny))\n",
    "model.summary()\n"
   ]
  },
  {
   "cell_type": "code",
   "execution_count": 122,
   "metadata": {},
   "outputs": [
    {
     "data": {
      "image/png": "[encoded data removed]",
      "text/plain": [
       "<IPython.core.display.Image object>"
      ]
     },
     "execution_count": 122,
     "metadata": {},
     "output_type": "execute_result"
    }
   ],
   "source": [
    "from tensorflow.keras.utils import plot_model\n",
    "wights = model.get_weights()\n",
    "plot_model(model, show_shapes=True)"
   ]
  },
  {
   "cell_type": "code",
   "execution_count": 123,
   "metadata": {
    "scrolled": true
   },
   "outputs": [
    {
     "name": "stdout",
     "output_type": "stream",
     "text": [
      "Epoch 1/60\n",
      "5/5 - 23s - loss: 6.9105 - sparse_categorical_accuracy: 0.5205\n",
      "Epoch 2/60\n",
      "5/5 - 22s - loss: 1.2109 - sparse_categorical_accuracy: 0.8562\n",
      "Epoch 3/60\n",
      "5/5 - 22s - loss: 5.2797 - sparse_categorical_accuracy: 0.7534\n",
      "Epoch 4/60\n",
      "5/5 - 22s - loss: 0.5069 - sparse_categorical_accuracy: 0.8836\n",
      "Epoch 5/60\n",
      "5/5 - 22s - loss: 0.1404 - sparse_categorical_accuracy: 0.9521\n",
      "Epoch 6/60\n",
      "5/5 - 23s - loss: 0.2098 - sparse_categorical_accuracy: 0.9384\n",
      "Epoch 7/60\n",
      "5/5 - 23s - loss: 0.2146 - sparse_categorical_accuracy: 0.9589\n",
      "Epoch 8/60\n",
      "5/5 - 24s - loss: 0.0636 - sparse_categorical_accuracy: 0.9658\n",
      "Epoch 9/60\n",
      "5/5 - 24s - loss: 0.0586 - sparse_categorical_accuracy: 0.9795\n",
      "Epoch 10/60\n",
      "5/5 - 24s - loss: 0.0761 - sparse_categorical_accuracy: 0.9589\n",
      "Epoch 11/60\n",
      "5/5 - 24s - loss: 0.0243 - sparse_categorical_accuracy: 0.9863\n",
      "Epoch 12/60\n",
      "5/5 - 25s - loss: 0.0197 - sparse_categorical_accuracy: 0.9932\n",
      "Epoch 13/60\n",
      "5/5 - 25s - loss: 0.0168 - sparse_categorical_accuracy: 0.9932\n",
      "Epoch 14/60\n",
      "5/5 - 25s - loss: 0.0158 - sparse_categorical_accuracy: 0.9932\n",
      "Epoch 15/60\n",
      "5/5 - 25s - loss: 0.0538 - sparse_categorical_accuracy: 0.9795\n",
      "Epoch 16/60\n",
      "5/5 - 25s - loss: 4.5350 - sparse_categorical_accuracy: 0.8014\n",
      "Epoch 17/60\n",
      "5/5 - 26s - loss: 0.2228 - sparse_categorical_accuracy: 0.9452\n",
      "Epoch 18/60\n",
      "5/5 - 26s - loss: 0.0129 - sparse_categorical_accuracy: 0.9932\n",
      "Epoch 19/60\n",
      "5/5 - 25s - loss: 0.0105 - sparse_categorical_accuracy: 1.0000\n",
      "Epoch 20/60\n",
      "5/5 - 25s - loss: 0.0093 - sparse_categorical_accuracy: 1.0000\n",
      "Epoch 21/60\n",
      "5/5 - 25s - loss: 0.0085 - sparse_categorical_accuracy: 1.0000\n",
      "Epoch 22/60\n",
      "5/5 - 25s - loss: 0.0079 - sparse_categorical_accuracy: 1.0000\n",
      "Epoch 23/60\n",
      "5/5 - 26s - loss: 0.0072 - sparse_categorical_accuracy: 1.0000\n",
      "Epoch 24/60\n",
      "5/5 - 25s - loss: 0.0068 - sparse_categorical_accuracy: 1.0000\n",
      "Epoch 25/60\n",
      "5/5 - 24s - loss: 0.0061 - sparse_categorical_accuracy: 1.0000\n",
      "Epoch 26/60\n",
      "5/5 - 25s - loss: 0.0058 - sparse_categorical_accuracy: 1.0000\n",
      "Epoch 27/60\n",
      "5/5 - 24s - loss: 0.0050 - sparse_categorical_accuracy: 1.0000\n",
      "Epoch 28/60\n",
      "5/5 - 24s - loss: 0.0048 - sparse_categorical_accuracy: 1.0000\n",
      "Epoch 29/60\n",
      "5/5 - 19s - loss: 0.0039 - sparse_categorical_accuracy: 1.0000\n",
      "Epoch 30/60\n",
      "5/5 - 19s - loss: 0.0037 - sparse_categorical_accuracy: 1.0000\n",
      "Epoch 31/60\n",
      "5/5 - 19s - loss: 0.0035 - sparse_categorical_accuracy: 1.0000\n",
      "Epoch 32/60\n",
      "5/5 - 19s - loss: 0.0028 - sparse_categorical_accuracy: 1.0000\n",
      "Epoch 33/60\n",
      "5/5 - 19s - loss: 0.0027 - sparse_categorical_accuracy: 1.0000\n",
      "Epoch 34/60\n",
      "5/5 - 19s - loss: 0.0027 - sparse_categorical_accuracy: 1.0000\n",
      "Epoch 35/60\n",
      "5/5 - 19s - loss: 0.0021 - sparse_categorical_accuracy: 1.0000\n",
      "Epoch 36/60\n",
      "5/5 - 19s - loss: 0.0016 - sparse_categorical_accuracy: 1.0000\n",
      "Epoch 37/60\n",
      "5/5 - 18s - loss: 0.0017 - sparse_categorical_accuracy: 1.0000\n",
      "Epoch 38/60\n",
      "5/5 - 18s - loss: 0.0012 - sparse_categorical_accuracy: 1.0000\n",
      "Epoch 39/60\n",
      "5/5 - 17s - loss: 0.0011 - sparse_categorical_accuracy: 1.0000\n",
      "Epoch 40/60\n",
      "5/5 - 17s - loss: 9.0386e-04 - sparse_categorical_accuracy: 1.0000\n",
      "Epoch 41/60\n",
      "5/5 - 17s - loss: 7.8889e-04 - sparse_categorical_accuracy: 1.0000\n",
      "Epoch 42/60\n",
      "5/5 - 17s - loss: 9.9787e-04 - sparse_categorical_accuracy: 1.0000\n",
      "Epoch 43/60\n",
      "5/5 - 17s - loss: 7.0569e-04 - sparse_categorical_accuracy: 1.0000\n",
      "Epoch 44/60\n",
      "5/5 - 18s - loss: 5.0244e-04 - sparse_categorical_accuracy: 1.0000\n",
      "Epoch 45/60\n",
      "5/5 - 17s - loss: 5.7705e-04 - sparse_categorical_accuracy: 1.0000\n",
      "Epoch 46/60\n",
      "5/5 - 18s - loss: 4.4882e-04 - sparse_categorical_accuracy: 1.0000\n",
      "Epoch 47/60\n",
      "5/5 - 18s - loss: 2.8925e-04 - sparse_categorical_accuracy: 1.0000\n",
      "Epoch 48/60\n",
      "5/5 - 18s - loss: 2.6700e-04 - sparse_categorical_accuracy: 1.0000\n",
      "Epoch 49/60\n",
      "5/5 - 19s - loss: 2.7672e-04 - sparse_categorical_accuracy: 1.0000\n",
      "Epoch 50/60\n",
      "5/5 - 19s - loss: 2.5844e-04 - sparse_categorical_accuracy: 1.0000\n",
      "Epoch 51/60\n",
      "5/5 - 19s - loss: 1.9036e-04 - sparse_categorical_accuracy: 1.0000\n",
      "Epoch 52/60\n",
      "5/5 - 19s - loss: 1.2646e-04 - sparse_categorical_accuracy: 1.0000\n",
      "Epoch 53/60\n",
      "5/5 - 18s - loss: 9.9997e-05 - sparse_categorical_accuracy: 1.0000\n",
      "Epoch 54/60\n",
      "5/5 - 19s - loss: 1.0460e-04 - sparse_categorical_accuracy: 1.0000\n",
      "Epoch 55/60\n",
      "5/5 - 19s - loss: 1.4448e-04 - sparse_categorical_accuracy: 1.0000\n",
      "Epoch 56/60\n",
      "5/5 - 18s - loss: 0.5898 - sparse_categorical_accuracy: 0.9521\n",
      "Epoch 57/60\n",
      "5/5 - 17s - loss: 0.0971 - sparse_categorical_accuracy: 0.9795\n",
      "Epoch 00057: early stopping\n"
     ]
    }
   ],
   "source": [
    "mod = model.fit(X_train,\n",
    "               Y_train, epochs=60, batch_size= 32, verbose=2 , \n",
    "                callbacks=[callback, print_weights, model_check])"
   ]
  },
  {
   "cell_type": "code",
   "execution_count": 125,
   "metadata": {},
   "outputs": [
    {
     "data": {
      "text/plain": [
       "57"
      ]
     },
     "execution_count": 125,
     "metadata": {},
     "output_type": "execute_result"
    }
   ],
   "source": [
    "#Number of Epochs\n",
    "len(wie_by_epoch)"
   ]
  },
  {
   "cell_type": "code",
   "execution_count": 130,
   "metadata": {},
   "outputs": [],
   "source": [
    "#120 +21\n",
    "model.set_weights(wie_by_epoch[52])\n",
    "#mod.history.get('sparse_categorical_accuracy')"
   ]
  },
  {
   "cell_type": "code",
   "execution_count": 131,
   "metadata": {},
   "outputs": [
    {
     "name": "stdout",
     "output_type": "stream",
     "text": [
      "2/2 - 2s - loss: 0.6454 - sparse_categorical_accuracy: 0.9459\n"
     ]
    },
    {
     "data": {
      "text/plain": [
       "[0.6454492211341858, 0.9459459185600281]"
      ]
     },
     "execution_count": 131,
     "metadata": {},
     "output_type": "execute_result"
    }
   ],
   "source": [
    "scores = model.evaluate(X_test,Y_test, verbose=2)\n",
    "scores"
   ]
  },
  {
   "cell_type": "code",
   "execution_count": 132,
   "metadata": {},
   "outputs": [
    {
     "data": {
      "text/plain": [
       "{'loss': 0.6454492211341858, 'sparse_categorical_accuracy': 0.9459459185600281}"
      ]
     },
     "execution_count": 132,
     "metadata": {},
     "output_type": "execute_result"
    }
   ],
   "source": [
    "dict(zip(model.metrics_names, scores))"
   ]
  },
  {
   "cell_type": "code",
   "execution_count": 133,
   "metadata": {},
   "outputs": [
    {
     "data": {
      "image/png": "[encoded data removed]",
      "text/plain": [
       "<Figure size 432x288 with 2 Axes>"
      ]
     },
     "metadata": {
      "needs_background": "light"
     },
     "output_type": "display_data"
    }
   ],
   "source": [
    "from matplotlib import pyplot\n",
    "# plot loss during training\n",
    "pyplot.subplot(211)\n",
    "pyplot.title('Loss')\n",
    "pyplot.plot(mod.history['loss'], label='train')\n",
    "#pyplot.plot(mod.history['val_loss'], label='test')\n",
    "pyplot.legend()\n",
    "# plot accuracy during training\n",
    "pyplot.subplot(212)\n",
    "pyplot.title('Accuracy')\n",
    "pyplot.plot(mod.history['sparse_categorical_accuracy'], label='train')\n",
    "#pyplot.plot(mod.history['val_accuracy'], label='test')\n",
    "pyplot.legend()\n",
    "pyplot.show()"
   ]
  },
  {
   "cell_type": "code",
   "execution_count": 134,
   "metadata": {},
   "outputs": [],
   "source": [
    "# predict probabilities for test set\n",
    "yhat_probs = model.predict(X_test.astype('float32'), verbose=0)\n",
    "# predict crisp classes for test set\n",
    "#yhat_classes = model.predict_classes(X_test, verbose=0)\n",
    "yhat_classes = np.argmax(yhat_probs,axis=1)"
   ]
  },
  {
   "cell_type": "code",
   "execution_count": 135,
   "metadata": {},
   "outputs": [
    {
     "name": "stdout",
     "output_type": "stream",
     "text": [
      "Accuracy: 0.945946\n",
      "Precision: 0.927083\n",
      "Recall: 0.905303\n",
      "F1 score: 0.904792\n"
     ]
    }
   ],
   "source": [
    "# accuracy: (tp + tn) / (p + n)\n",
    "accuracy = accuracy_score(Y_test, yhat_classes)\n",
    "print('Accuracy: %f' % accuracy)\n",
    "# precision tp / (tp + fp)\n",
    "precision = precision_score(Y_test, yhat_classes, average='macro')\n",
    "print('Precision: %f' % precision)\n",
    "# recall: tp / (tp + fn)\n",
    "recall = recall_score(Y_test, yhat_classes,average='macro')\n",
    "print('Recall: %f' % recall)\n",
    "# f1: 2 tp / (2 tp + fp + fn)\n",
    "f1 = f1_score(Y_test, yhat_classes, average='macro')\n",
    "print('F1 score: %f' % f1)"
   ]
  },
  {
   "cell_type": "code",
   "execution_count": 136,
   "metadata": {},
   "outputs": [
    {
     "name": "stdout",
     "output_type": "stream",
     "text": [
      "Cohens kappa: 0.909202\n",
      "[[21  0  0  1]\n",
      " [ 0  5  0  0]\n",
      " [ 0  1  2  0]\n",
      " [ 0  0  0  7]]\n"
     ]
    }
   ],
   "source": [
    "# kappa\n",
    "kappa = cohen_kappa_score(Y_test, yhat_classes)\n",
    "print('Cohens kappa: %f' % kappa)\n",
    "# ROC AUC\n",
    "#fprate, tprate, thresholds = roc_curve(Y_test, yhat_probs, average = 'macro')\n",
    "#print('ROC AUC: %f' % thresholds)\n",
    "# confusion matrix\n",
    "matrix = confusion_matrix(Y_test, yhat_classes)\n",
    "print(matrix)"
   ]
  },
  {
   "cell_type": "code",
   "execution_count": 137,
   "metadata": {},
   "outputs": [],
   "source": [
    "fpr = {}\n",
    "tpr = {}\n",
    "thresh ={}\n",
    "\n",
    "n_class = 5\n",
    "\n",
    "for i in range(n_class):    \n",
    "    fpr[i], tpr[i], thresh[i] = roc_curve(Y_test, yhat_classes, pos_label=i)"
   ]
  },
  {
   "cell_type": "code",
   "execution_count": 138,
   "metadata": {},
   "outputs": [
    {
     "data": {
      "image/png": "[encoded data removed]",
      "text/plain": [
       "<Figure size 432x288 with 1 Axes>"
      ]
     },
     "metadata": {
      "needs_background": "light"
     },
     "output_type": "display_data"
    }
   ],
   "source": [
    "# plotting    \n",
    "plt.plot(fpr[0], tpr[0], linestyle='--',color='orange', label='Class 0 vs Rest')\n",
    "plt.plot(fpr[1], tpr[1], linestyle='--',color='green', label='Class 1 vs Rest')\n",
    "plt.plot(fpr[2], tpr[2], linestyle='--',color='blue', label='Class 2 vs Rest')\n",
    "plt.plot(fpr[3], tpr[3], linestyle='--',color='red', label='Class 3 vs Rest')\n",
    "plt.plot(fpr[4], tpr[4], linestyle='--',color='black', label='Class 4 vs Rest')\n",
    "plt.title('Multiclass ROC curve')\n",
    "plt.xlabel('False Positive Rate')\n",
    "plt.ylabel('True Positive rate')\n",
    "plt.legend(loc='best')\n",
    "plt.savefig('Multiclass ROC',dpi=300); "
   ]
  },
  {
   "cell_type": "code",
   "execution_count": 139,
   "metadata": {},
   "outputs": [
    {
     "name": "stdout",
     "output_type": "stream",
     "text": [
      "Confusion matrix : \n",
      " [[21  0  0  1]\n",
      " [ 0  5  0  0]\n",
      " [ 0  1  2  0]\n",
      " [ 0  0  0  7]]\n"
     ]
    }
   ],
   "source": [
    "matrix = confusion_matrix(Y_test,yhat_classes, labels= [0, 1, 3, 4])\n",
    "print('Confusion matrix : \\n',matrix)"
   ]
  },
  {
   "cell_type": "code",
   "execution_count": 140,
   "metadata": {},
   "outputs": [
    {
     "name": "stdout",
     "output_type": "stream",
     "text": [
      "Classification report : \n",
      "               precision    recall  f1-score   support\n",
      "\n",
      "           0       1.00      0.95      0.98        22\n",
      "           1       0.83      1.00      0.91         5\n",
      "           3       1.00      0.67      0.80         3\n",
      "           4       0.88      1.00      0.93         7\n",
      "\n",
      "    accuracy                           0.95        37\n",
      "   macro avg       0.93      0.91      0.90        37\n",
      "weighted avg       0.95      0.95      0.95        37\n",
      "\n"
     ]
    }
   ],
   "source": [
    "matrix = classification_report(Y_test,yhat_classes, labels= [0, 1, 3, 4])\n",
    "print('Classification report : \\n',matrix)"
   ]
  },
  {
   "cell_type": "code",
   "execution_count": 141,
   "metadata": {},
   "outputs": [
    {
     "name": "stdout",
     "output_type": "stream",
     "text": [
      "INFO:tensorflow:Assets written to: ./models/IG feature selection/WithoutIP Top9/Multi-class/Simple RNN\\assets\n"
     ]
    }
   ],
   "source": [
    "import pickle\n",
    "model.save('./models/IG feature selection/WithoutIP Top9/Multi-class/Simple RNN')"
   ]
  },
  {
   "cell_type": "code",
   "execution_count": null,
   "metadata": {},
   "outputs": [],
   "source": [
    "#MLP"
   ]
  },
  {
   "cell_type": "code",
   "execution_count": 142,
   "metadata": {},
   "outputs": [
    {
     "name": "stdout",
     "output_type": "stream",
     "text": [
      "samples: 37 \n",
      " X:19800 \n",
      " Y:9\n"
     ]
    }
   ],
   "source": [
    "#X = make_4D(X)\n",
    "nsamples,nx, ny = X_test.shape\n",
    "print(f\"samples: {nsamples} \\n X:{nx} \\n Y:{ny}\" )\n",
    "X_test = X_test.reshape((nsamples,nx*ny))"
   ]
  },
  {
   "cell_type": "code",
   "execution_count": 143,
   "metadata": {},
   "outputs": [
    {
     "name": "stdout",
     "output_type": "stream",
     "text": [
      "samples: 146 \n",
      " X:19800 \n",
      " Y:9\n"
     ]
    }
   ],
   "source": [
    "nsamples,nx, ny = X_train.shape\n",
    "print(f\"samples: {nsamples} \\n X:{nx} \\n Y:{ny}\" )\n",
    "X_train = X_train.reshape((nsamples,nx*ny))"
   ]
  },
  {
   "cell_type": "code",
   "execution_count": 144,
   "metadata": {},
   "outputs": [],
   "source": [
    "from sklearn.neural_network import MLPClassifier"
   ]
  },
  {
   "cell_type": "code",
   "execution_count": 145,
   "metadata": {},
   "outputs": [],
   "source": [
    "clf = MLPClassifier(hidden_layer_sizes=(256,128,64,32),activation=\"relu\",random_state=1).fit(X_train, Y_train)\n",
    "y_pred=clf.predict(X_test)\n"
   ]
  },
  {
   "cell_type": "code",
   "execution_count": 146,
   "metadata": {},
   "outputs": [
    {
     "data": {
      "text/plain": [
       "0.972972972972973"
      ]
     },
     "execution_count": 146,
     "metadata": {},
     "output_type": "execute_result"
    }
   ],
   "source": [
    "clf.score(X_test, Y_test)"
   ]
  },
  {
   "cell_type": "code",
   "execution_count": 147,
   "metadata": {},
   "outputs": [],
   "source": [
    "yhat_classes = y_pred"
   ]
  },
  {
   "cell_type": "code",
   "execution_count": 148,
   "metadata": {},
   "outputs": [],
   "source": [
    "from sklearn.datasets import make_circles\n",
    "from sklearn.metrics import accuracy_score\n",
    "from sklearn.metrics import precision_score\n",
    "from sklearn.metrics import recall_score\n",
    "from sklearn.metrics import f1_score\n",
    "from sklearn.metrics import cohen_kappa_score\n",
    "from sklearn.metrics import roc_auc_score\n",
    "from sklearn.metrics import confusion_matrix\n",
    "from sklearn.metrics import roc_curve\n"
   ]
  },
  {
   "cell_type": "code",
   "execution_count": 149,
   "metadata": {},
   "outputs": [
    {
     "name": "stdout",
     "output_type": "stream",
     "text": [
      "Accuracy: 0.972973\n",
      "Precision: 0.968750\n",
      "Recall: 0.988636\n",
      "F1 score: 0.977519\n"
     ]
    }
   ],
   "source": [
    "# accuracy: (tp + tn) / (p + n)\n",
    "accuracy = accuracy_score(Y_test, yhat_classes)\n",
    "print('Accuracy: %f' % accuracy)\n",
    "# precision tp / (tp + fp)\n",
    "precision = precision_score(Y_test, yhat_classes, average='macro')\n",
    "print('Precision: %f' % precision)\n",
    "# recall: tp / (tp + fn)\n",
    "recall = recall_score(Y_test, yhat_classes,average='macro')\n",
    "print('Recall: %f' % recall)\n",
    "# f1: 2 tp / (2 tp + fp + fn)\n",
    "f1 = f1_score(Y_test, yhat_classes, average='macro')\n",
    "print('F1 score: %f' % f1)"
   ]
  },
  {
   "cell_type": "code",
   "execution_count": 150,
   "metadata": {},
   "outputs": [
    {
     "name": "stdout",
     "output_type": "stream",
     "text": [
      "Cohens kappa: 0.954712\n",
      "[[21  0  0  1]\n",
      " [ 0  5  0  0]\n",
      " [ 0  0  3  0]\n",
      " [ 0  0  0  7]]\n"
     ]
    }
   ],
   "source": [
    "# kappa\n",
    "kappa = cohen_kappa_score(Y_test, yhat_classes)\n",
    "print('Cohens kappa: %f' % kappa)\n",
    "# ROC AUC\n",
    "#fprate, tprate, thresholds = roc_curve(Y_test, yhat_probs, average = 'macro')\n",
    "#print('ROC AUC: %f' % thresholds)\n",
    "# confusion matrix\n",
    "matrix = confusion_matrix(Y_test, yhat_classes)\n",
    "print(matrix)"
   ]
  },
  {
   "cell_type": "code",
   "execution_count": 151,
   "metadata": {},
   "outputs": [
    {
     "name": "stderr",
     "output_type": "stream",
     "text": [
      "C:\\Users\\hp\\Anaconda3\\lib\\site-packages\\sklearn\\metrics\\ranking.py:659: UndefinedMetricWarning: No positive samples in y_true, true positive value should be meaningless\n",
      "  UndefinedMetricWarning)\n"
     ]
    }
   ],
   "source": [
    "fpr = {}\n",
    "tpr = {}\n",
    "thresh ={}\n",
    "\n",
    "n_class = 5\n",
    "\n",
    "for i in range(n_class):    \n",
    "    fpr[i], tpr[i], thresh[i] = roc_curve(Y_test, yhat_classes, pos_label=i)"
   ]
  },
  {
   "cell_type": "code",
   "execution_count": 152,
   "metadata": {},
   "outputs": [
    {
     "data": {
      "image/png": "[encoded data removed]",
      "text/plain": [
       "<Figure size 432x288 with 1 Axes>"
      ]
     },
     "metadata": {
      "needs_background": "light"
     },
     "output_type": "display_data"
    }
   ],
   "source": [
    "# plotting    \n",
    "plt.plot(fpr[0], tpr[0], linestyle='--',color='orange', label='Class 0 vs Rest')\n",
    "plt.plot(fpr[1], tpr[1], linestyle='--',color='green', label='Class 1 vs Rest')\n",
    "plt.plot(fpr[2], tpr[2], linestyle='--',color='blue', label='Class 2 vs Rest')\n",
    "plt.plot(fpr[3], tpr[3], linestyle='--',color='red', label='Class 3 vs Rest')\n",
    "plt.plot(fpr[4], tpr[4], linestyle='--',color='black', label='Class 4 vs Rest')\n",
    "plt.title('Multiclass ROC curve')\n",
    "plt.xlabel('False Positive Rate')\n",
    "plt.ylabel('True Positive rate')\n",
    "plt.legend(loc='best')\n",
    "plt.savefig('Multiclass ROC',dpi=300); "
   ]
  },
  {
   "cell_type": "code",
   "execution_count": 153,
   "metadata": {},
   "outputs": [
    {
     "name": "stdout",
     "output_type": "stream",
     "text": [
      "Confusion matrix : \n",
      " [[21  0  0  1]\n",
      " [ 0  5  0  0]\n",
      " [ 0  0  3  0]\n",
      " [ 0  0  0  7]]\n"
     ]
    }
   ],
   "source": [
    "from sklearn.metrics import confusion_matrix\n",
    "from sklearn.metrics import classification_report\n",
    "matrix = confusion_matrix(Y_test, yhat_classes, labels= [0, 1, 3, 4])\n",
    "print('Confusion matrix : \\n',matrix)"
   ]
  },
  {
   "cell_type": "code",
   "execution_count": 154,
   "metadata": {},
   "outputs": [
    {
     "name": "stdout",
     "output_type": "stream",
     "text": [
      "Classification report : \n",
      "               precision    recall  f1-score   support\n",
      "\n",
      "           0       1.00      0.95      0.98        22\n",
      "           1       1.00      1.00      1.00         5\n",
      "           3       1.00      1.00      1.00         3\n",
      "           4       0.88      1.00      0.93         7\n",
      "\n",
      "    accuracy                           0.97        37\n",
      "   macro avg       0.97      0.99      0.98        37\n",
      "weighted avg       0.98      0.97      0.97        37\n",
      "\n"
     ]
    }
   ],
   "source": [
    "matrix = classification_report(Y_test,yhat_classes, labels= [0, 1, 3, 4])\n",
    "print('Classification report : \\n',matrix)"
   ]
  },
  {
   "cell_type": "code",
   "execution_count": 156,
   "metadata": {},
   "outputs": [],
   "source": [
    "import pickle\n",
    "# save the model to disk\n",
    "filename = './models/IG feature selection/WithoutIP Top9/Multi-class/MLP/MLP.sav'\n",
    "pickle.dump(clf, open(filename, 'wb'))"
   ]
  },
  {
   "cell_type": "code",
   "execution_count": 157,
   "metadata": {},
   "outputs": [
    {
     "name": "stdout",
     "output_type": "stream",
     "text": [
      "WARNING:tensorflow:From C:\\Users\\hp\\AppData\\Roaming\\Python\\Python37\\site-packages\\tensorflow\\python\\compat\\v2_compat.py:101: disable_resource_variables (from tensorflow.python.ops.variable_scope) is deprecated and will be removed in a future version.\n",
      "Instructions for updating:\n",
      "non-resource variables are not supported in the long term\n"
     ]
    }
   ],
   "source": [
    "#DBN model\n",
    "from dbn.tensorflow import SupervisedDBNClassification"
   ]
  },
  {
   "cell_type": "code",
   "execution_count": 190,
   "metadata": {},
   "outputs": [],
   "source": [
    "classifier = SupervisedDBNClassification(hidden_layers_structure=[32,32],\n",
    "                                         learning_rate_rbm=0.00001,\n",
    "                                         learning_rate=0.02,\n",
    "                                         n_epochs_rbm=32,\n",
    "                                         n_iter_backprop=512,\n",
    "                                         batch_size=32,\n",
    "                                         activation_function='relu',\n",
    "                                         dropout_p=0.00001)"
   ]
  },
  {
   "cell_type": "code",
   "execution_count": 189,
   "metadata": {},
   "outputs": [
    {
     "data": {
      "text/plain": [
       "120"
      ]
     },
     "execution_count": 189,
     "metadata": {},
     "output_type": "execute_result"
    }
   ],
   "source": [
    "del classifier\n",
    "gc.collect()"
   ]
  },
  {
   "cell_type": "code",
   "execution_count": 191,
   "metadata": {
    "scrolled": true
   },
   "outputs": [
    {
     "name": "stdout",
     "output_type": "stream",
     "text": [
      "[START] Pre-training step:\n",
      ">> Epoch 1 finished \tRBM Reconstruction error 11910.996094\n",
      ">> Epoch 2 finished \tRBM Reconstruction error 11910.636719\n",
      ">> Epoch 3 finished \tRBM Reconstruction error 11910.277344\n",
      ">> Epoch 4 finished \tRBM Reconstruction error 11909.892578\n",
      ">> Epoch 5 finished \tRBM Reconstruction error 11909.461914\n",
      ">> Epoch 6 finished \tRBM Reconstruction error 11908.954102\n",
      ">> Epoch 7 finished \tRBM Reconstruction error 11908.349609\n",
      ">> Epoch 8 finished \tRBM Reconstruction error 11907.510742\n",
      ">> Epoch 9 finished \tRBM Reconstruction error 11906.226562\n",
      ">> Epoch 10 finished \tRBM Reconstruction error 11904.340820\n",
      ">> Epoch 11 finished \tRBM Reconstruction error 11901.511719\n",
      ">> Epoch 12 finished \tRBM Reconstruction error 11897.863281\n",
      ">> Epoch 13 finished \tRBM Reconstruction error 11892.931641\n",
      ">> Epoch 14 finished \tRBM Reconstruction error 11886.487305\n",
      ">> Epoch 15 finished \tRBM Reconstruction error 11878.211914\n",
      ">> Epoch 16 finished \tRBM Reconstruction error 11868.211914\n",
      ">> Epoch 17 finished \tRBM Reconstruction error 11856.047852\n",
      ">> Epoch 18 finished \tRBM Reconstruction error 11841.524414\n",
      ">> Epoch 19 finished \tRBM Reconstruction error 11824.251953\n",
      ">> Epoch 20 finished \tRBM Reconstruction error 11804.032227\n",
      ">> Epoch 21 finished \tRBM Reconstruction error 11780.672852\n",
      ">> Epoch 22 finished \tRBM Reconstruction error 11753.911133\n",
      ">> Epoch 23 finished \tRBM Reconstruction error 11723.746094\n",
      ">> Epoch 24 finished \tRBM Reconstruction error 11689.915039\n",
      ">> Epoch 25 finished \tRBM Reconstruction error 11652.534180\n",
      ">> Epoch 26 finished \tRBM Reconstruction error 11611.361328\n",
      ">> Epoch 27 finished \tRBM Reconstruction error 11566.558594\n",
      ">> Epoch 28 finished \tRBM Reconstruction error 11518.032227\n",
      ">> Epoch 29 finished \tRBM Reconstruction error 11465.818359\n",
      ">> Epoch 30 finished \tRBM Reconstruction error 11409.671875\n",
      ">> Epoch 31 finished \tRBM Reconstruction error 11349.856445\n",
      ">> Epoch 32 finished \tRBM Reconstruction error 11286.125000\n",
      ">> Epoch 1 finished \tRBM Reconstruction error 308.033295\n",
      ">> Epoch 2 finished \tRBM Reconstruction error 307.878723\n",
      ">> Epoch 3 finished \tRBM Reconstruction error 307.724365\n",
      ">> Epoch 4 finished \tRBM Reconstruction error 307.561951\n",
      ">> Epoch 5 finished \tRBM Reconstruction error 307.399841\n",
      ">> Epoch 6 finished \tRBM Reconstruction error 307.231873\n",
      ">> Epoch 7 finished \tRBM Reconstruction error 307.058472\n",
      ">> Epoch 8 finished \tRBM Reconstruction error 306.879608\n",
      ">> Epoch 9 finished \tRBM Reconstruction error 306.695892\n",
      ">> Epoch 10 finished \tRBM Reconstruction error 306.510071\n",
      ">> Epoch 11 finished \tRBM Reconstruction error 306.323608\n",
      ">> Epoch 12 finished \tRBM Reconstruction error 306.132965\n",
      ">> Epoch 13 finished \tRBM Reconstruction error 305.935852\n",
      ">> Epoch 14 finished \tRBM Reconstruction error 305.737701\n",
      ">> Epoch 15 finished \tRBM Reconstruction error 305.532379\n",
      ">> Epoch 16 finished \tRBM Reconstruction error 305.321106\n",
      ">> Epoch 17 finished \tRBM Reconstruction error 305.106903\n",
      ">> Epoch 18 finished \tRBM Reconstruction error 304.885956\n",
      ">> Epoch 19 finished \tRBM Reconstruction error 304.655121\n",
      ">> Epoch 20 finished \tRBM Reconstruction error 304.418091\n",
      ">> Epoch 21 finished \tRBM Reconstruction error 304.183899\n",
      ">> Epoch 22 finished \tRBM Reconstruction error 303.939484\n",
      ">> Epoch 23 finished \tRBM Reconstruction error 303.698273\n",
      ">> Epoch 24 finished \tRBM Reconstruction error 303.447906\n",
      ">> Epoch 25 finished \tRBM Reconstruction error 303.195618\n",
      ">> Epoch 26 finished \tRBM Reconstruction error 302.934967\n",
      ">> Epoch 27 finished \tRBM Reconstruction error 302.674377\n",
      ">> Epoch 28 finished \tRBM Reconstruction error 302.407959\n",
      ">> Epoch 29 finished \tRBM Reconstruction error 302.136383\n",
      ">> Epoch 30 finished \tRBM Reconstruction error 301.860443\n",
      ">> Epoch 31 finished \tRBM Reconstruction error 301.577667\n",
      ">> Epoch 32 finished \tRBM Reconstruction error 301.292206\n",
      "[END] Pre-training step\n",
      "[START] Fine tuning step:\n",
      ">> Epoch 0 finished \tANN training loss 1.184664\n",
      ">> Epoch 1 finished \tANN training loss 0.939108\n",
      ">> Epoch 2 finished \tANN training loss 0.872156\n",
      ">> Epoch 3 finished \tANN training loss 0.833289\n",
      ">> Epoch 4 finished \tANN training loss 0.853307\n",
      ">> Epoch 5 finished \tANN training loss 0.793407\n",
      ">> Epoch 6 finished \tANN training loss 0.770149\n",
      ">> Epoch 7 finished \tANN training loss 0.760445\n",
      ">> Epoch 8 finished \tANN training loss 0.749990\n",
      ">> Epoch 9 finished \tANN training loss 0.737756\n",
      ">> Epoch 10 finished \tANN training loss 0.725127\n",
      ">> Epoch 11 finished \tANN training loss 0.719041\n",
      ">> Epoch 12 finished \tANN training loss 0.736242\n",
      ">> Epoch 13 finished \tANN training loss 0.707745\n",
      ">> Epoch 14 finished \tANN training loss 0.682301\n",
      ">> Epoch 15 finished \tANN training loss 0.673690\n",
      ">> Epoch 16 finished \tANN training loss 0.668370\n",
      ">> Epoch 17 finished \tANN training loss 0.657211\n",
      ">> Epoch 18 finished \tANN training loss 0.676143\n",
      ">> Epoch 19 finished \tANN training loss 0.644309\n",
      ">> Epoch 20 finished \tANN training loss 0.646256\n",
      ">> Epoch 21 finished \tANN training loss 0.627848\n",
      ">> Epoch 22 finished \tANN training loss 0.619550\n",
      ">> Epoch 23 finished \tANN training loss 0.611544\n",
      ">> Epoch 24 finished \tANN training loss 0.605150\n",
      ">> Epoch 25 finished \tANN training loss 0.591359\n",
      ">> Epoch 26 finished \tANN training loss 0.579421\n",
      ">> Epoch 27 finished \tANN training loss 0.565562\n",
      ">> Epoch 28 finished \tANN training loss 0.549786\n",
      ">> Epoch 29 finished \tANN training loss 0.536946\n",
      ">> Epoch 30 finished \tANN training loss 0.521884\n",
      ">> Epoch 31 finished \tANN training loss 0.513510\n",
      ">> Epoch 32 finished \tANN training loss 0.484306\n",
      ">> Epoch 33 finished \tANN training loss 0.467512\n",
      ">> Epoch 34 finished \tANN training loss 0.455183\n",
      ">> Epoch 35 finished \tANN training loss 0.455180\n",
      ">> Epoch 36 finished \tANN training loss 0.430672\n",
      ">> Epoch 37 finished \tANN training loss 0.444338\n",
      ">> Epoch 38 finished \tANN training loss 0.409860\n",
      ">> Epoch 39 finished \tANN training loss 0.409375\n",
      ">> Epoch 40 finished \tANN training loss 0.391913\n",
      ">> Epoch 41 finished \tANN training loss 0.385338\n",
      ">> Epoch 42 finished \tANN training loss 0.385565\n",
      ">> Epoch 43 finished \tANN training loss 0.370655\n",
      ">> Epoch 44 finished \tANN training loss 0.367003\n",
      ">> Epoch 45 finished \tANN training loss 0.358748\n",
      ">> Epoch 46 finished \tANN training loss 0.353207\n",
      ">> Epoch 47 finished \tANN training loss 0.349025\n",
      ">> Epoch 48 finished \tANN training loss 0.344424\n",
      ">> Epoch 49 finished \tANN training loss 0.340731\n",
      ">> Epoch 50 finished \tANN training loss 0.337355\n",
      ">> Epoch 51 finished \tANN training loss 0.331415\n",
      ">> Epoch 52 finished \tANN training loss 0.330833\n",
      ">> Epoch 53 finished \tANN training loss 0.324203\n",
      ">> Epoch 54 finished \tANN training loss 0.320949\n",
      ">> Epoch 55 finished \tANN training loss 0.318254\n",
      ">> Epoch 56 finished \tANN training loss 0.316212\n",
      ">> Epoch 57 finished \tANN training loss 0.314862\n",
      ">> Epoch 58 finished \tANN training loss 0.310881\n",
      ">> Epoch 59 finished \tANN training loss 0.307259\n",
      ">> Epoch 60 finished \tANN training loss 0.305317\n",
      ">> Epoch 61 finished \tANN training loss 0.307734\n",
      ">> Epoch 62 finished \tANN training loss 0.301030\n",
      ">> Epoch 63 finished \tANN training loss 0.298561\n",
      ">> Epoch 64 finished \tANN training loss 0.298684\n",
      ">> Epoch 65 finished \tANN training loss 0.294868\n",
      ">> Epoch 66 finished \tANN training loss 0.293277\n",
      ">> Epoch 67 finished \tANN training loss 0.291742\n",
      ">> Epoch 68 finished \tANN training loss 0.290005\n",
      ">> Epoch 69 finished \tANN training loss 0.288529\n",
      ">> Epoch 70 finished \tANN training loss 0.287117\n",
      ">> Epoch 71 finished \tANN training loss 0.285821\n",
      ">> Epoch 72 finished \tANN training loss 0.284463\n",
      ">> Epoch 73 finished \tANN training loss 0.283206\n",
      ">> Epoch 74 finished \tANN training loss 0.281971\n",
      ">> Epoch 75 finished \tANN training loss 0.280693\n",
      ">> Epoch 76 finished \tANN training loss 0.279571\n",
      ">> Epoch 77 finished \tANN training loss 0.278523\n",
      ">> Epoch 78 finished \tANN training loss 0.277452\n",
      ">> Epoch 79 finished \tANN training loss 0.276339\n",
      ">> Epoch 80 finished \tANN training loss 0.275263\n",
      ">> Epoch 81 finished \tANN training loss 0.274252\n",
      ">> Epoch 82 finished \tANN training loss 0.273255\n",
      ">> Epoch 83 finished \tANN training loss 0.272223\n",
      ">> Epoch 84 finished \tANN training loss 0.271280\n",
      ">> Epoch 85 finished \tANN training loss 0.270336\n",
      ">> Epoch 86 finished \tANN training loss 0.269415\n",
      ">> Epoch 87 finished \tANN training loss 0.268507\n",
      ">> Epoch 88 finished \tANN training loss 0.267539\n",
      ">> Epoch 89 finished \tANN training loss 0.266634\n"
     ]
    },
    {
     "name": "stdout",
     "output_type": "stream",
     "text": [
      ">> Epoch 90 finished \tANN training loss 0.265824\n",
      ">> Epoch 91 finished \tANN training loss 0.264952\n",
      ">> Epoch 92 finished \tANN training loss 0.264093\n",
      ">> Epoch 93 finished \tANN training loss 0.263249\n",
      ">> Epoch 94 finished \tANN training loss 0.262455\n",
      ">> Epoch 95 finished \tANN training loss 0.261591\n",
      ">> Epoch 96 finished \tANN training loss 0.260855\n",
      ">> Epoch 97 finished \tANN training loss 0.260086\n",
      ">> Epoch 98 finished \tANN training loss 0.259309\n",
      ">> Epoch 99 finished \tANN training loss 0.258584\n",
      ">> Epoch 100 finished \tANN training loss 0.257865\n",
      ">> Epoch 101 finished \tANN training loss 0.257111\n",
      ">> Epoch 102 finished \tANN training loss 0.256385\n",
      ">> Epoch 103 finished \tANN training loss 0.255693\n",
      ">> Epoch 104 finished \tANN training loss 0.254952\n",
      ">> Epoch 105 finished \tANN training loss 0.254260\n",
      ">> Epoch 106 finished \tANN training loss 0.253628\n",
      ">> Epoch 107 finished \tANN training loss 0.252871\n",
      ">> Epoch 108 finished \tANN training loss 0.252195\n",
      ">> Epoch 109 finished \tANN training loss 0.251476\n",
      ">> Epoch 110 finished \tANN training loss 0.250798\n",
      ">> Epoch 111 finished \tANN training loss 0.250170\n",
      ">> Epoch 112 finished \tANN training loss 0.249400\n",
      ">> Epoch 113 finished \tANN training loss 0.248703\n",
      ">> Epoch 114 finished \tANN training loss 0.248026\n",
      ">> Epoch 115 finished \tANN training loss 0.247333\n",
      ">> Epoch 116 finished \tANN training loss 0.246681\n",
      ">> Epoch 117 finished \tANN training loss 0.246000\n",
      ">> Epoch 118 finished \tANN training loss 0.245287\n",
      ">> Epoch 119 finished \tANN training loss 0.244556\n",
      ">> Epoch 120 finished \tANN training loss 0.243867\n",
      ">> Epoch 121 finished \tANN training loss 0.243188\n",
      ">> Epoch 122 finished \tANN training loss 0.242467\n",
      ">> Epoch 123 finished \tANN training loss 0.241698\n",
      ">> Epoch 124 finished \tANN training loss 0.240952\n",
      ">> Epoch 125 finished \tANN training loss 0.240230\n",
      ">> Epoch 126 finished \tANN training loss 0.239481\n",
      ">> Epoch 127 finished \tANN training loss 0.238648\n",
      ">> Epoch 128 finished \tANN training loss 0.237846\n",
      ">> Epoch 129 finished \tANN training loss 0.237037\n",
      ">> Epoch 130 finished \tANN training loss 0.236181\n",
      ">> Epoch 131 finished \tANN training loss 0.235298\n",
      ">> Epoch 132 finished \tANN training loss 0.234456\n",
      ">> Epoch 133 finished \tANN training loss 0.233588\n",
      ">> Epoch 134 finished \tANN training loss 0.232604\n",
      ">> Epoch 135 finished \tANN training loss 0.231646\n",
      ">> Epoch 136 finished \tANN training loss 0.230654\n",
      ">> Epoch 137 finished \tANN training loss 0.229613\n",
      ">> Epoch 138 finished \tANN training loss 0.228510\n",
      ">> Epoch 139 finished \tANN training loss 0.227386\n",
      ">> Epoch 140 finished \tANN training loss 0.226191\n",
      ">> Epoch 141 finished \tANN training loss 0.224789\n",
      ">> Epoch 142 finished \tANN training loss 0.223408\n",
      ">> Epoch 143 finished \tANN training loss 0.221990\n",
      ">> Epoch 144 finished \tANN training loss 0.220259\n",
      ">> Epoch 145 finished \tANN training loss 0.218547\n",
      ">> Epoch 146 finished \tANN training loss 0.216741\n",
      ">> Epoch 147 finished \tANN training loss 0.214865\n",
      ">> Epoch 148 finished \tANN training loss 0.212986\n",
      ">> Epoch 149 finished \tANN training loss 0.211001\n",
      ">> Epoch 150 finished \tANN training loss 0.208594\n",
      ">> Epoch 151 finished \tANN training loss 0.206096\n",
      ">> Epoch 152 finished \tANN training loss 0.203325\n",
      ">> Epoch 153 finished \tANN training loss 0.200693\n",
      ">> Epoch 154 finished \tANN training loss 0.197667\n",
      ">> Epoch 155 finished \tANN training loss 0.194624\n",
      ">> Epoch 156 finished \tANN training loss 0.191254\n",
      ">> Epoch 157 finished \tANN training loss 0.187879\n",
      ">> Epoch 158 finished \tANN training loss 0.184460\n",
      ">> Epoch 159 finished \tANN training loss 0.180640\n",
      ">> Epoch 160 finished \tANN training loss 0.176665\n",
      ">> Epoch 161 finished \tANN training loss 0.173028\n",
      ">> Epoch 162 finished \tANN training loss 0.169243\n",
      ">> Epoch 163 finished \tANN training loss 0.165320\n",
      ">> Epoch 164 finished \tANN training loss 0.161520\n",
      ">> Epoch 165 finished \tANN training loss 0.157911\n",
      ">> Epoch 166 finished \tANN training loss 0.154042\n",
      ">> Epoch 167 finished \tANN training loss 0.150387\n",
      ">> Epoch 168 finished \tANN training loss 0.147147\n",
      ">> Epoch 169 finished \tANN training loss 0.143556\n",
      ">> Epoch 170 finished \tANN training loss 0.140243\n",
      ">> Epoch 171 finished \tANN training loss 0.137149\n",
      ">> Epoch 172 finished \tANN training loss 0.134128\n",
      ">> Epoch 173 finished \tANN training loss 0.131222\n",
      ">> Epoch 174 finished \tANN training loss 0.128195\n",
      ">> Epoch 175 finished \tANN training loss 0.125232\n",
      ">> Epoch 176 finished \tANN training loss 0.122562\n",
      ">> Epoch 177 finished \tANN training loss 0.119900\n",
      ">> Epoch 178 finished \tANN training loss 0.117158\n",
      ">> Epoch 179 finished \tANN training loss 0.114371\n",
      ">> Epoch 180 finished \tANN training loss 0.111729\n",
      ">> Epoch 181 finished \tANN training loss 0.108745\n",
      ">> Epoch 182 finished \tANN training loss 0.105879\n",
      ">> Epoch 183 finished \tANN training loss 0.102930\n",
      ">> Epoch 184 finished \tANN training loss 0.100103\n",
      ">> Epoch 185 finished \tANN training loss 0.097169\n",
      ">> Epoch 186 finished \tANN training loss 0.093900\n",
      ">> Epoch 187 finished \tANN training loss 0.090563\n",
      ">> Epoch 188 finished \tANN training loss 0.087404\n",
      ">> Epoch 189 finished \tANN training loss 0.083500\n",
      ">> Epoch 190 finished \tANN training loss 0.079711\n",
      ">> Epoch 191 finished \tANN training loss 0.076359\n",
      ">> Epoch 192 finished \tANN training loss 0.072865\n",
      ">> Epoch 193 finished \tANN training loss 0.069359\n",
      ">> Epoch 194 finished \tANN training loss 0.065727\n",
      ">> Epoch 195 finished \tANN training loss 0.062532\n",
      ">> Epoch 196 finished \tANN training loss 0.059247\n",
      ">> Epoch 197 finished \tANN training loss 0.056206\n",
      ">> Epoch 198 finished \tANN training loss 0.053177\n",
      ">> Epoch 199 finished \tANN training loss 0.050199\n",
      ">> Epoch 200 finished \tANN training loss 0.047245\n",
      ">> Epoch 201 finished \tANN training loss 0.044672\n",
      ">> Epoch 202 finished \tANN training loss 0.042380\n",
      ">> Epoch 203 finished \tANN training loss 0.040205\n",
      ">> Epoch 204 finished \tANN training loss 0.038386\n",
      ">> Epoch 205 finished \tANN training loss 0.036643\n",
      ">> Epoch 206 finished \tANN training loss 0.034856\n",
      ">> Epoch 207 finished \tANN training loss 0.033199\n",
      ">> Epoch 208 finished \tANN training loss 0.031859\n",
      ">> Epoch 209 finished \tANN training loss 0.030618\n",
      ">> Epoch 210 finished \tANN training loss 0.029452\n",
      ">> Epoch 211 finished \tANN training loss 0.028435\n",
      ">> Epoch 212 finished \tANN training loss 0.027409\n",
      ">> Epoch 213 finished \tANN training loss 0.026468\n",
      ">> Epoch 214 finished \tANN training loss 0.025695\n",
      ">> Epoch 215 finished \tANN training loss 0.024939\n",
      ">> Epoch 216 finished \tANN training loss 0.024271\n",
      ">> Epoch 217 finished \tANN training loss 0.023612\n",
      ">> Epoch 218 finished \tANN training loss 0.023059\n",
      ">> Epoch 219 finished \tANN training loss 0.022534\n",
      ">> Epoch 220 finished \tANN training loss 0.021983\n",
      ">> Epoch 221 finished \tANN training loss 0.021470\n",
      ">> Epoch 222 finished \tANN training loss 0.020961\n",
      ">> Epoch 223 finished \tANN training loss 0.020529\n",
      ">> Epoch 224 finished \tANN training loss 0.020150\n",
      ">> Epoch 225 finished \tANN training loss 0.019765\n",
      ">> Epoch 226 finished \tANN training loss 0.019419\n",
      ">> Epoch 227 finished \tANN training loss 0.019032\n",
      ">> Epoch 228 finished \tANN training loss 0.018704\n",
      ">> Epoch 229 finished \tANN training loss 0.018404\n",
      ">> Epoch 230 finished \tANN training loss 0.018123\n",
      ">> Epoch 231 finished \tANN training loss 0.017782\n",
      ">> Epoch 232 finished \tANN training loss 0.017522\n",
      ">> Epoch 233 finished \tANN training loss 0.017238\n",
      ">> Epoch 234 finished \tANN training loss 0.016987\n",
      ">> Epoch 235 finished \tANN training loss 0.016719\n",
      ">> Epoch 236 finished \tANN training loss 0.016499\n",
      ">> Epoch 237 finished \tANN training loss 0.016280\n",
      ">> Epoch 238 finished \tANN training loss 0.016061\n",
      ">> Epoch 239 finished \tANN training loss 0.015855\n",
      ">> Epoch 240 finished \tANN training loss 0.015653\n",
      ">> Epoch 241 finished \tANN training loss 0.015460\n",
      ">> Epoch 242 finished \tANN training loss 0.015276\n",
      ">> Epoch 243 finished \tANN training loss 0.015086\n",
      ">> Epoch 244 finished \tANN training loss 0.014883\n",
      ">> Epoch 245 finished \tANN training loss 0.014711\n",
      ">> Epoch 246 finished \tANN training loss 0.014541\n",
      ">> Epoch 247 finished \tANN training loss 0.014380\n",
      ">> Epoch 248 finished \tANN training loss 0.014222\n",
      ">> Epoch 249 finished \tANN training loss 0.014029\n",
      ">> Epoch 250 finished \tANN training loss 0.013845\n",
      ">> Epoch 251 finished \tANN training loss 0.013702\n",
      ">> Epoch 252 finished \tANN training loss 0.013561\n",
      ">> Epoch 253 finished \tANN training loss 0.013407\n",
      ">> Epoch 254 finished \tANN training loss 0.013273\n"
     ]
    },
    {
     "name": "stdout",
     "output_type": "stream",
     "text": [
      ">> Epoch 255 finished \tANN training loss 0.013139\n",
      ">> Epoch 256 finished \tANN training loss 0.013009\n",
      ">> Epoch 257 finished \tANN training loss 0.012874\n",
      ">> Epoch 258 finished \tANN training loss 0.012719\n",
      ">> Epoch 259 finished \tANN training loss 0.012591\n",
      ">> Epoch 260 finished \tANN training loss 0.012476\n",
      ">> Epoch 261 finished \tANN training loss 0.012347\n",
      ">> Epoch 262 finished \tANN training loss 0.012230\n",
      ">> Epoch 263 finished \tANN training loss 0.012110\n",
      ">> Epoch 264 finished \tANN training loss 0.011999\n",
      ">> Epoch 265 finished \tANN training loss 0.011890\n",
      ">> Epoch 266 finished \tANN training loss 0.011737\n",
      ">> Epoch 267 finished \tANN training loss 0.011632\n",
      ">> Epoch 268 finished \tANN training loss 0.011530\n",
      ">> Epoch 269 finished \tANN training loss 0.011425\n",
      ">> Epoch 270 finished \tANN training loss 0.011324\n",
      ">> Epoch 271 finished \tANN training loss 0.011227\n",
      ">> Epoch 272 finished \tANN training loss 0.011123\n",
      ">> Epoch 273 finished \tANN training loss 0.011020\n",
      ">> Epoch 274 finished \tANN training loss 0.010919\n",
      ">> Epoch 275 finished \tANN training loss 0.010826\n",
      ">> Epoch 276 finished \tANN training loss 0.010730\n",
      ">> Epoch 277 finished \tANN training loss 0.010639\n",
      ">> Epoch 278 finished \tANN training loss 0.010545\n",
      ">> Epoch 279 finished \tANN training loss 0.010458\n",
      ">> Epoch 280 finished \tANN training loss 0.010337\n",
      ">> Epoch 281 finished \tANN training loss 0.010251\n",
      ">> Epoch 282 finished \tANN training loss 0.010164\n",
      ">> Epoch 283 finished \tANN training loss 0.010068\n",
      ">> Epoch 284 finished \tANN training loss 0.009958\n",
      ">> Epoch 285 finished \tANN training loss 0.009879\n",
      ">> Epoch 286 finished \tANN training loss 0.009800\n",
      ">> Epoch 287 finished \tANN training loss 0.009719\n",
      ">> Epoch 288 finished \tANN training loss 0.009642\n",
      ">> Epoch 289 finished \tANN training loss 0.009564\n",
      ">> Epoch 290 finished \tANN training loss 0.009486\n",
      ">> Epoch 291 finished \tANN training loss 0.009410\n",
      ">> Epoch 292 finished \tANN training loss 0.009337\n",
      ">> Epoch 293 finished \tANN training loss 0.009264\n",
      ">> Epoch 294 finished \tANN training loss 0.009187\n",
      ">> Epoch 295 finished \tANN training loss 0.009115\n",
      ">> Epoch 296 finished \tANN training loss 0.009037\n",
      ">> Epoch 297 finished \tANN training loss 0.008940\n",
      ">> Epoch 298 finished \tANN training loss 0.008871\n",
      ">> Epoch 299 finished \tANN training loss 0.008800\n",
      ">> Epoch 300 finished \tANN training loss 0.008733\n",
      ">> Epoch 301 finished \tANN training loss 0.008661\n",
      ">> Epoch 302 finished \tANN training loss 0.008594\n",
      ">> Epoch 303 finished \tANN training loss 0.008529\n",
      ">> Epoch 304 finished \tANN training loss 0.008465\n",
      ">> Epoch 305 finished \tANN training loss 0.008400\n",
      ">> Epoch 306 finished \tANN training loss 0.008337\n",
      ">> Epoch 307 finished \tANN training loss 0.008274\n",
      ">> Epoch 308 finished \tANN training loss 0.008221\n",
      ">> Epoch 309 finished \tANN training loss 0.008157\n",
      ">> Epoch 310 finished \tANN training loss 0.008089\n",
      ">> Epoch 311 finished \tANN training loss 0.008028\n",
      ">> Epoch 312 finished \tANN training loss 0.007943\n",
      ">> Epoch 313 finished \tANN training loss 0.007882\n",
      ">> Epoch 314 finished \tANN training loss 0.007824\n",
      ">> Epoch 315 finished \tANN training loss 0.007764\n",
      ">> Epoch 316 finished \tANN training loss 0.007707\n",
      ">> Epoch 317 finished \tANN training loss 0.007650\n",
      ">> Epoch 318 finished \tANN training loss 0.007594\n",
      ">> Epoch 319 finished \tANN training loss 0.007534\n",
      ">> Epoch 320 finished \tANN training loss 0.007455\n",
      ">> Epoch 321 finished \tANN training loss 0.007402\n",
      ">> Epoch 322 finished \tANN training loss 0.007349\n",
      ">> Epoch 323 finished \tANN training loss 0.007296\n",
      ">> Epoch 324 finished \tANN training loss 0.007243\n",
      ">> Epoch 325 finished \tANN training loss 0.007191\n",
      ">> Epoch 326 finished \tANN training loss 0.007135\n",
      ">> Epoch 327 finished \tANN training loss 0.007083\n",
      ">> Epoch 328 finished \tANN training loss 0.007029\n",
      ">> Epoch 329 finished \tANN training loss 0.006979\n",
      ">> Epoch 330 finished \tANN training loss 0.006907\n",
      ">> Epoch 331 finished \tANN training loss 0.006858\n",
      ">> Epoch 332 finished \tANN training loss 0.006810\n",
      ">> Epoch 333 finished \tANN training loss 0.006762\n",
      ">> Epoch 334 finished \tANN training loss 0.006715\n",
      ">> Epoch 335 finished \tANN training loss 0.006668\n",
      ">> Epoch 336 finished \tANN training loss 0.006622\n",
      ">> Epoch 337 finished \tANN training loss 0.006575\n",
      ">> Epoch 338 finished \tANN training loss 0.006529\n",
      ">> Epoch 339 finished \tANN training loss 0.006480\n",
      ">> Epoch 340 finished \tANN training loss 0.006435\n",
      ">> Epoch 341 finished \tANN training loss 0.006391\n",
      ">> Epoch 342 finished \tANN training loss 0.006343\n",
      ">> Epoch 343 finished \tANN training loss 0.006299\n",
      ">> Epoch 344 finished \tANN training loss 0.006256\n",
      ">> Epoch 345 finished \tANN training loss 0.006214\n",
      ">> Epoch 346 finished \tANN training loss 0.006171\n",
      ">> Epoch 347 finished \tANN training loss 0.006129\n",
      ">> Epoch 348 finished \tANN training loss 0.006087\n",
      ">> Epoch 349 finished \tANN training loss 0.006042\n",
      ">> Epoch 350 finished \tANN training loss 0.006001\n",
      ">> Epoch 351 finished \tANN training loss 0.005942\n",
      ">> Epoch 352 finished \tANN training loss 0.005902\n",
      ">> Epoch 353 finished \tANN training loss 0.005844\n",
      ">> Epoch 354 finished \tANN training loss 0.005805\n",
      ">> Epoch 355 finished \tANN training loss 0.005766\n",
      ">> Epoch 356 finished \tANN training loss 0.005723\n",
      ">> Epoch 357 finished \tANN training loss 0.005685\n",
      ">> Epoch 358 finished \tANN training loss 0.005647\n",
      ">> Epoch 359 finished \tANN training loss 0.005606\n",
      ">> Epoch 360 finished \tANN training loss 0.005569\n",
      ">> Epoch 361 finished \tANN training loss 0.005533\n",
      ">> Epoch 362 finished \tANN training loss 0.005496\n",
      ">> Epoch 363 finished \tANN training loss 0.005461\n",
      ">> Epoch 364 finished \tANN training loss 0.005425\n",
      ">> Epoch 365 finished \tANN training loss 0.005386\n",
      ">> Epoch 366 finished \tANN training loss 0.005348\n",
      ">> Epoch 367 finished \tANN training loss 0.005310\n",
      ">> Epoch 368 finished \tANN training loss 0.005276\n",
      ">> Epoch 369 finished \tANN training loss 0.005242\n",
      ">> Epoch 370 finished \tANN training loss 0.005208\n",
      ">> Epoch 371 finished \tANN training loss 0.005174\n",
      ">> Epoch 372 finished \tANN training loss 0.005141\n",
      ">> Epoch 373 finished \tANN training loss 0.005107\n",
      ">> Epoch 374 finished \tANN training loss 0.005075\n",
      ">> Epoch 375 finished \tANN training loss 0.005042\n",
      ">> Epoch 376 finished \tANN training loss 0.005008\n",
      ">> Epoch 377 finished \tANN training loss 0.004976\n",
      ">> Epoch 378 finished \tANN training loss 0.004944\n",
      ">> Epoch 379 finished \tANN training loss 0.004913\n",
      ">> Epoch 380 finished \tANN training loss 0.004882\n",
      ">> Epoch 381 finished \tANN training loss 0.004851\n",
      ">> Epoch 382 finished \tANN training loss 0.004820\n",
      ">> Epoch 383 finished \tANN training loss 0.004777\n",
      ">> Epoch 384 finished \tANN training loss 0.004747\n",
      ">> Epoch 385 finished \tANN training loss 0.004718\n",
      ">> Epoch 386 finished \tANN training loss 0.004688\n",
      ">> Epoch 387 finished \tANN training loss 0.004659\n",
      ">> Epoch 388 finished \tANN training loss 0.004628\n",
      ">> Epoch 389 finished \tANN training loss 0.004597\n",
      ">> Epoch 390 finished \tANN training loss 0.004569\n",
      ">> Epoch 391 finished \tANN training loss 0.004538\n",
      ">> Epoch 392 finished \tANN training loss 0.004510\n",
      ">> Epoch 393 finished \tANN training loss 0.004470\n",
      ">> Epoch 394 finished \tANN training loss 0.004443\n",
      ">> Epoch 395 finished \tANN training loss 0.004413\n",
      ">> Epoch 396 finished \tANN training loss 0.004386\n",
      ">> Epoch 397 finished \tANN training loss 0.004357\n",
      ">> Epoch 398 finished \tANN training loss 0.004331\n",
      ">> Epoch 399 finished \tANN training loss 0.004293\n",
      ">> Epoch 400 finished \tANN training loss 0.004255\n",
      ">> Epoch 401 finished \tANN training loss 0.004230\n",
      ">> Epoch 402 finished \tANN training loss 0.004205\n",
      ">> Epoch 403 finished \tANN training loss 0.004180\n",
      ">> Epoch 404 finished \tANN training loss 0.004153\n",
      ">> Epoch 405 finished \tANN training loss 0.004128\n",
      ">> Epoch 406 finished \tANN training loss 0.004102\n",
      ">> Epoch 407 finished \tANN training loss 0.004078\n",
      ">> Epoch 408 finished \tANN training loss 0.004054\n",
      ">> Epoch 409 finished \tANN training loss 0.004026\n",
      ">> Epoch 410 finished \tANN training loss 0.004002\n",
      ">> Epoch 411 finished \tANN training loss 0.003979\n",
      ">> Epoch 412 finished \tANN training loss 0.003956\n",
      ">> Epoch 413 finished \tANN training loss 0.003934\n",
      ">> Epoch 414 finished \tANN training loss 0.003909\n",
      ">> Epoch 415 finished \tANN training loss 0.003887\n",
      ">> Epoch 416 finished \tANN training loss 0.003864\n",
      ">> Epoch 417 finished \tANN training loss 0.003842\n",
      ">> Epoch 418 finished \tANN training loss 0.003820\n"
     ]
    },
    {
     "name": "stdout",
     "output_type": "stream",
     "text": [
      ">> Epoch 419 finished \tANN training loss 0.003799\n",
      ">> Epoch 420 finished \tANN training loss 0.003777\n",
      ">> Epoch 421 finished \tANN training loss 0.003756\n",
      ">> Epoch 422 finished \tANN training loss 0.003734\n",
      ">> Epoch 423 finished \tANN training loss 0.003713\n",
      ">> Epoch 424 finished \tANN training loss 0.003683\n",
      ">> Epoch 425 finished \tANN training loss 0.003662\n",
      ">> Epoch 426 finished \tANN training loss 0.003642\n",
      ">> Epoch 427 finished \tANN training loss 0.003610\n",
      ">> Epoch 428 finished \tANN training loss 0.003590\n",
      ">> Epoch 429 finished \tANN training loss 0.003568\n",
      ">> Epoch 430 finished \tANN training loss 0.003549\n",
      ">> Epoch 431 finished \tANN training loss 0.003529\n",
      ">> Epoch 432 finished \tANN training loss 0.003507\n",
      ">> Epoch 433 finished \tANN training loss 0.003487\n",
      ">> Epoch 434 finished \tANN training loss 0.003468\n",
      ">> Epoch 435 finished \tANN training loss 0.003440\n",
      ">> Epoch 436 finished \tANN training loss 0.003421\n",
      ">> Epoch 437 finished \tANN training loss 0.003403\n",
      ">> Epoch 438 finished \tANN training loss 0.003376\n",
      ">> Epoch 439 finished \tANN training loss 0.003358\n",
      ">> Epoch 440 finished \tANN training loss 0.003340\n",
      ">> Epoch 441 finished \tANN training loss 0.003322\n",
      ">> Epoch 442 finished \tANN training loss 0.003303\n",
      ">> Epoch 443 finished \tANN training loss 0.003286\n",
      ">> Epoch 444 finished \tANN training loss 0.003268\n",
      ">> Epoch 445 finished \tANN training loss 0.003250\n",
      ">> Epoch 446 finished \tANN training loss 0.003232\n",
      ">> Epoch 447 finished \tANN training loss 0.003214\n",
      ">> Epoch 448 finished \tANN training loss 0.003197\n",
      ">> Epoch 449 finished \tANN training loss 0.003180\n",
      ">> Epoch 450 finished \tANN training loss 0.003163\n",
      ">> Epoch 451 finished \tANN training loss 0.003147\n",
      ">> Epoch 452 finished \tANN training loss 0.003131\n",
      ">> Epoch 453 finished \tANN training loss 0.003113\n",
      ">> Epoch 454 finished \tANN training loss 0.003097\n",
      ">> Epoch 455 finished \tANN training loss 0.003080\n",
      ">> Epoch 456 finished \tANN training loss 0.003056\n",
      ">> Epoch 457 finished \tANN training loss 0.003041\n",
      ">> Epoch 458 finished \tANN training loss 0.003024\n",
      ">> Epoch 459 finished \tANN training loss 0.003000\n",
      ">> Epoch 460 finished \tANN training loss 0.002985\n",
      ">> Epoch 461 finished \tANN training loss 0.002969\n",
      ">> Epoch 462 finished \tANN training loss 0.002954\n",
      ">> Epoch 463 finished \tANN training loss 0.002940\n",
      ">> Epoch 464 finished \tANN training loss 0.002924\n",
      ">> Epoch 465 finished \tANN training loss 0.002902\n",
      ">> Epoch 466 finished \tANN training loss 0.002888\n",
      ">> Epoch 467 finished \tANN training loss 0.002873\n",
      ">> Epoch 468 finished \tANN training loss 0.002859\n",
      ">> Epoch 469 finished \tANN training loss 0.002845\n",
      ">> Epoch 470 finished \tANN training loss 0.002831\n",
      ">> Epoch 471 finished \tANN training loss 0.002816\n",
      ">> Epoch 472 finished \tANN training loss 0.002796\n",
      ">> Epoch 473 finished \tANN training loss 0.002781\n",
      ">> Epoch 474 finished \tANN training loss 0.002767\n",
      ">> Epoch 475 finished \tANN training loss 0.002754\n",
      ">> Epoch 476 finished \tANN training loss 0.002740\n",
      ">> Epoch 477 finished \tANN training loss 0.002727\n",
      ">> Epoch 478 finished \tANN training loss 0.002713\n",
      ">> Epoch 479 finished \tANN training loss 0.002700\n",
      ">> Epoch 480 finished \tANN training loss 0.002687\n",
      ">> Epoch 481 finished \tANN training loss 0.002667\n",
      ">> Epoch 482 finished \tANN training loss 0.002654\n",
      ">> Epoch 483 finished \tANN training loss 0.002641\n",
      ">> Epoch 484 finished \tANN training loss 0.002629\n",
      ">> Epoch 485 finished \tANN training loss 0.002617\n",
      ">> Epoch 486 finished \tANN training loss 0.002604\n",
      ">> Epoch 487 finished \tANN training loss 0.002592\n",
      ">> Epoch 488 finished \tANN training loss 0.002580\n",
      ">> Epoch 489 finished \tANN training loss 0.002563\n",
      ">> Epoch 490 finished \tANN training loss 0.002551\n",
      ">> Epoch 491 finished \tANN training loss 0.002538\n",
      ">> Epoch 492 finished \tANN training loss 0.002521\n",
      ">> Epoch 493 finished \tANN training loss 0.002509\n",
      ">> Epoch 494 finished \tANN training loss 0.002496\n",
      ">> Epoch 495 finished \tANN training loss 0.002485\n",
      ">> Epoch 496 finished \tANN training loss 0.002468\n",
      ">> Epoch 497 finished \tANN training loss 0.002455\n",
      ">> Epoch 498 finished \tANN training loss 0.002443\n",
      ">> Epoch 499 finished \tANN training loss 0.002432\n",
      ">> Epoch 500 finished \tANN training loss 0.002416\n",
      ">> Epoch 501 finished \tANN training loss 0.002405\n",
      ">> Epoch 502 finished \tANN training loss 0.002394\n",
      ">> Epoch 503 finished \tANN training loss 0.002384\n",
      ">> Epoch 504 finished \tANN training loss 0.002372\n",
      ">> Epoch 505 finished \tANN training loss 0.002361\n",
      ">> Epoch 506 finished \tANN training loss 0.002351\n",
      ">> Epoch 507 finished \tANN training loss 0.002340\n",
      ">> Epoch 508 finished \tANN training loss 0.002330\n",
      ">> Epoch 509 finished \tANN training loss 0.002320\n",
      ">> Epoch 510 finished \tANN training loss 0.002309\n",
      ">> Epoch 511 finished \tANN training loss 0.002299\n",
      "[END] Fine tuning step\n"
     ]
    },
    {
     "data": {
      "text/plain": [
       "SupervisedDBNClassification(batch_size=32, dropout_p=1e-05,\n",
       "                            idx_to_label_map={0: 0, 1: 1, 2: 4, 3: 3},\n",
       "                            l2_regularization=1.0,\n",
       "                            label_to_idx_map={0: 0, 1: 1, 3: 3, 4: 2},\n",
       "                            learning_rate=0.02, n_iter_backprop=512,\n",
       "                            verbose=True)"
      ]
     },
     "execution_count": 191,
     "metadata": {},
     "output_type": "execute_result"
    }
   ],
   "source": [
    "classifier.fit(X_train, Y_train)"
   ]
  },
  {
   "cell_type": "code",
   "execution_count": 192,
   "metadata": {},
   "outputs": [],
   "source": [
    "# predict probabilities for test set\n",
    "yhat_probs = classifier.predict(X_test)\n",
    "# predict crisp classes for test set\n",
    "#yhat_classes = model.predict_classes(X_test, verbose=0)\n",
    "yhat_classes = yhat_probs# np.argmax(yhat_probs,axis=1)"
   ]
  },
  {
   "cell_type": "code",
   "execution_count": 193,
   "metadata": {},
   "outputs": [],
   "source": [
    "from sklearn.datasets import make_circles\n",
    "from sklearn.metrics import accuracy_score\n",
    "from sklearn.metrics import precision_score\n",
    "from sklearn.metrics import recall_score\n",
    "from sklearn.metrics import f1_score\n",
    "from sklearn.metrics import cohen_kappa_score\n",
    "from sklearn.metrics import roc_auc_score\n",
    "from sklearn.metrics import confusion_matrix\n",
    "from sklearn.metrics import roc_curve\n",
    "from sklearn.metrics import classification_report"
   ]
  },
  {
   "cell_type": "code",
   "execution_count": 194,
   "metadata": {},
   "outputs": [
    {
     "name": "stdout",
     "output_type": "stream",
     "text": [
      "Accuracy: 0.945946\n",
      "Precision: 0.952922\n",
      "Recall: 0.952922\n",
      "F1 score: 0.952922\n"
     ]
    }
   ],
   "source": [
    "# accuracy: (tp + tn) / (p + n)\n",
    "accuracy = accuracy_score(Y_test, yhat_classes)\n",
    "print('Accuracy: %f' % accuracy)\n",
    "# precision tp / (tp + fp)\n",
    "precision = precision_score(Y_test, yhat_classes, average='macro')\n",
    "print('Precision: %f' % precision)\n",
    "# recall: tp / (tp + fn)\n",
    "recall = recall_score(Y_test, yhat_classes,average='macro')\n",
    "print('Recall: %f' % recall)\n",
    "# f1: 2 tp / (2 tp + fp + fn)\n",
    "f1 = f1_score(Y_test, yhat_classes, average='macro')\n",
    "print('F1 score: %f' % f1)"
   ]
  },
  {
   "cell_type": "code",
   "execution_count": 195,
   "metadata": {},
   "outputs": [
    {
     "name": "stdout",
     "output_type": "stream",
     "text": [
      "Cohens kappa: 0.907731\n",
      "[[21  0  0  1]\n",
      " [ 0  5  0  0]\n",
      " [ 0  0  3  0]\n",
      " [ 1  0  0  6]]\n"
     ]
    }
   ],
   "source": [
    "# kappa\n",
    "kappa = cohen_kappa_score(Y_test, yhat_classes)\n",
    "print('Cohens kappa: %f' % kappa)\n",
    "# ROC AUC\n",
    "#fprate, tprate, thresholds = roc_curve(Y_test, yhat_probs, average = 'macro')\n",
    "#print('ROC AUC: %f' % thresholds)\n",
    "# confusion matrix\n",
    "matrix = confusion_matrix(Y_test, yhat_classes)\n",
    "print(matrix)"
   ]
  },
  {
   "cell_type": "code",
   "execution_count": 196,
   "metadata": {},
   "outputs": [],
   "source": [
    "fpr = {}\n",
    "tpr = {}\n",
    "thresh ={}\n",
    "\n",
    "n_class = 5\n",
    "\n",
    "for i in range(n_class):    \n",
    "    fpr[i], tpr[i], thresh[i] = roc_curve(Y_test, yhat_classes, pos_label=i)"
   ]
  },
  {
   "cell_type": "code",
   "execution_count": 197,
   "metadata": {},
   "outputs": [
    {
     "data": {
      "image/png": "[encoded data removed]",
      "text/plain": [
       "<Figure size 432x288 with 1 Axes>"
      ]
     },
     "metadata": {
      "needs_background": "light"
     },
     "output_type": "display_data"
    }
   ],
   "source": [
    "# plotting    \n",
    "plt.plot(fpr[0], tpr[0], linestyle='--',color='orange', label='Class 0 vs Rest')\n",
    "plt.plot(fpr[1], tpr[1], linestyle='--',color='green', label='Class 1 vs Rest')\n",
    "plt.plot(fpr[2], tpr[2], linestyle='--',color='blue', label='Class 2 vs Rest')\n",
    "plt.plot(fpr[3], tpr[3], linestyle='--',color='red', label='Class 3 vs Rest')\n",
    "plt.plot(fpr[4], tpr[4], linestyle='--',color='black', label='Class 4 vs Rest')\n",
    "plt.title('Multiclass ROC curve')\n",
    "plt.xlabel('False Positive Rate')\n",
    "plt.ylabel('True Positive rate')\n",
    "plt.legend(loc='best')\n",
    "plt.savefig('Multiclass ROC',dpi=300); "
   ]
  },
  {
   "cell_type": "code",
   "execution_count": 198,
   "metadata": {},
   "outputs": [
    {
     "name": "stdout",
     "output_type": "stream",
     "text": [
      "Confusion matrix : \n",
      " [[21  0  0  1]\n",
      " [ 0  5  0  0]\n",
      " [ 0  0  3  0]\n",
      " [ 1  0  0  6]]\n"
     ]
    }
   ],
   "source": [
    "matrix = confusion_matrix(Y_test,yhat_classes, labels= [0, 1, 3, 4])\n",
    "print('Confusion matrix : \\n',matrix)"
   ]
  },
  {
   "cell_type": "code",
   "execution_count": 199,
   "metadata": {},
   "outputs": [
    {
     "name": "stdout",
     "output_type": "stream",
     "text": [
      "Classification report : \n",
      "               precision    recall  f1-score   support\n",
      "\n",
      "           0       0.95      0.95      0.95        22\n",
      "           1       1.00      1.00      1.00         5\n",
      "           3       1.00      1.00      1.00         3\n",
      "           4       0.86      0.86      0.86         7\n",
      "\n",
      "    accuracy                           0.95        37\n",
      "   macro avg       0.95      0.95      0.95        37\n",
      "weighted avg       0.95      0.95      0.95        37\n",
      "\n"
     ]
    }
   ],
   "source": [
    "matrix = classification_report(Y_test,yhat_classes, labels= [0, 1, 3, 4])\n",
    "print('Classification report : \\n',matrix)"
   ]
  },
  {
   "cell_type": "code",
   "execution_count": 200,
   "metadata": {},
   "outputs": [],
   "source": [
    "classifier.save('./models/IG feature selection/WithoutIP Top9/Multi-class/DBN/DBN.pkl')"
   ]
  },
  {
   "cell_type": "code",
   "execution_count": null,
   "metadata": {},
   "outputs": [],
   "source": []
  }
 ],
 "metadata": {
  "kernelspec": {
   "display_name": "Python 3",
   "language": "python",
   "name": "python3"
  },
  "language_info": {
   "codemirror_mode": {
    "name": "ipython",
    "version": 3
   },
   "file_extension": ".py",
   "mimetype": "text/x-python",
   "name": "python",
   "nbconvert_exporter": "python",
   "pygments_lexer": "ipython3",
   "version": "3.7.4"
  }
 },
 "nbformat": 4,
 "nbformat_minor": 2
}

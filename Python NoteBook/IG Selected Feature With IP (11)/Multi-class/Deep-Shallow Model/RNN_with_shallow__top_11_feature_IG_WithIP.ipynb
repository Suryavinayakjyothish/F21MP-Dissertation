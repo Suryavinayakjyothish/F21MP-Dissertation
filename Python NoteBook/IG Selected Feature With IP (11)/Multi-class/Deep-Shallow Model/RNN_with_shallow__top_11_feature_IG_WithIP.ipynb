{
 "cells": [
  {
   "cell_type": "code",
   "execution_count": 1,
   "metadata": {},
   "outputs": [],
   "source": [
    "import pandas as pd\n",
    "import numpy as np\n",
    "from datetime import datetime\n",
    "import time\n",
    "import matplotlib.pyplot as plt\n",
    "import gc\n",
    "pd.set_option('display.max_columns', None)"
   ]
  },
  {
   "cell_type": "code",
   "execution_count": 2,
   "metadata": {},
   "outputs": [],
   "source": [
    "## for machine learning\n",
    "from sklearn import model_selection, preprocessing, feature_selection, ensemble, linear_model, metrics, decomposition\n",
    "## for plotting\n",
    "import matplotlib.pyplot as plt\n",
    "## for machine learning\n",
    "from sklearn import model_selection, preprocessing, feature_selection, ensemble, linear_model, metrics, decomposition\n",
    "from sklearn.preprocessing import LabelEncoder,Normalizer,StandardScaler, OneHotEncoder, MinMaxScaler\n",
    "from sklearn.feature_selection import mutual_info_classif\n",
    "from sklearn.metrics import confusion_matrix\n",
    "from sklearn.metrics import classification_report\n",
    "## for explainer\n",
    "#from lime import lime_tabular"
   ]
  },
  {
   "cell_type": "code",
   "execution_count": 3,
   "metadata": {},
   "outputs": [],
   "source": [
    "#a = pd.read_csv('drive/My Drive/Colab Notebooks/traffic/OpenStack/CIDDS-001-internal-week1.csv', low_memory=False, encoding='cp1252')\n",
    "#b = pd.read_csv('drive/My Drive/Colab Notebooks/traffic/OpenStack/CIDDS-001-internal-week2.csv', low_memory=False, encoding='cp1252')\n",
    "a = pd.read_csv('./CIDDS-001/traffic/OpenStack/CIDDS-001-internal-week1.csv', low_memory=False, encoding='cp1252')\n",
    "b = pd.read_csv('./CIDDS-001/traffic/OpenStack/CIDDS-001-internal-week2.csv', low_memory=False, encoding='cp1252')\n",
    "c =  pd.read_csv('./CIDDS-001/traffic/ExternalServer/CIDDS-001-external-week2.csv', low_memory=False, encoding='cp1252')\n",
    "d =  pd.read_csv('./CIDDS-001/traffic/ExternalServer/CIDDS-001-external-week3.csv', low_memory=False, encoding='cp1252')\n",
    "e =  pd.read_csv('./CIDDS-001/traffic/ExternalServer/CIDDS-001-external-week4.csv', low_memory=False, encoding='cp1252')\n",
    "#f =  pd.read_csv('./CIDDS-001/traffic/ExternalServer/CIDDS-001-external-week1.csv', low_memory=False, encoding='cp1252')\n",
    "#c = pd.read_csv('drive/My Drive/Colab Notebooks/traffic/OpenStack/CIDDS-001-internal-week3.csv', low_memory=False , encoding='cp1252')\n",
    "#d = pd.read_csv('drive/My Drive/Colab Notebooks/traffic/OpenStack/CIDDS-001-internal-week4.csv', low_memory=False, encoding='cp1252')\n",
    "#e =  pd.read_csv('drive/My Drive/Colab Notebooks/traffic/ExternalServer/CIDDS-001-external-week1.csv', low_memory=False, encoding='cp1252')\n",
    "#f =  pd.read_csv('drive/My Drive/Colab Notebooks/traffic/ExternalServer/CIDDS-001-external-week2.csv', low_memory=False, encoding='cp1252')\n",
    "#g =  pd.read_csv('drive/My Drive/Colab Notebooks/traffic/ExternalServer/CIDDS-001-external-week3.csv', low_memory=False, encoding='cp1252')\n",
    "#h =  pd.read_csv('drive/My Drive/Colab Notebooks/traffic/ExternalServer/CIDDS-001-external-week4.csv', low_memory=False, encoding='cp1252')"
   ]
  },
  {
   "cell_type": "code",
   "execution_count": 4,
   "metadata": {},
   "outputs": [
    {
     "name": "stdout",
     "output_type": "stream",
     "text": [
      "(10310733, 16)\n"
     ]
    },
    {
     "data": {
      "text/plain": [
       "(1795404, 16)"
      ]
     },
     "execution_count": 4,
     "metadata": {},
     "output_type": "execute_result"
    }
   ],
   "source": [
    "print(b.shape)\n",
    "#a.drop(a[a['attackType'] == '---'].index, axis = 0, inplace= True) \n",
    "b.drop(b[b['attackType'] == '---'].index, axis = 0, inplace= True)  \n",
    "c.drop(c[c['attackType'] == '---'].index, axis = 0, inplace= True)  \n",
    "d.drop(d[d['attackType'] == '---'].index, axis = 0, inplace= True)  \n",
    "#e.drop(e[e['attackType'] == '---'].index, axis = 0, inplace= True)  \n",
    "b.shape"
   ]
  },
  {
   "cell_type": "code",
   "execution_count": 5,
   "metadata": {},
   "outputs": [],
   "source": [
    "data_external = pd.concat([c,d,e], axis = 0)\n",
    "data_external.reset_index(drop= True, inplace= True)"
   ]
  },
  {
   "cell_type": "code",
   "execution_count": 6,
   "metadata": {},
   "outputs": [],
   "source": [
    "#to Increment attackID values\n",
    "data_external['attackID'] = data_external['attackID'].apply(lambda x: str(int(x) + 70) if x != '---' else x)"
   ]
  },
  {
   "cell_type": "code",
   "execution_count": 7,
   "metadata": {},
   "outputs": [],
   "source": [
    "def convert_bytes(df):\n",
    "    if 'M' in df:\n",
    "        df = df.split('M')\n",
    "        df = df[0].strip()\n",
    "        df = float(df) * 1000000\n",
    "    elif 'B' in df:\n",
    "        df = df.split('B')\n",
    "        df = df[0].strip()\n",
    "        df =  float(df) * 1000000000\n",
    "    else: \n",
    "        df =float(df)\n",
    "    return df"
   ]
  },
  {
   "cell_type": "code",
   "execution_count": 8,
   "metadata": {},
   "outputs": [
    {
     "data": {
      "text/plain": [
       "0"
      ]
     },
     "execution_count": 8,
     "metadata": {},
     "output_type": "execute_result"
    }
   ],
   "source": [
    "data = pd.concat([a,b,data_external], axis = 0)\n",
    "data.reset_index(drop= True, inplace= True)\n",
    "data['Bytes'] = data['Bytes'].apply(lambda x: convert_bytes(x))\n",
    "columns = ['Src Pt', 'Dst Pt','Tos','Flows','Packets', 'Bytes']\n",
    "for i in columns:\n",
    "    data[i] = pd.to_numeric(data[i]);\n",
    "del columns\n",
    "del a,b,c,d,e, data_external\n",
    "gc.collect()"
   ]
  },
  {
   "cell_type": "code",
   "execution_count": 9,
   "metadata": {},
   "outputs": [],
   "source": [
    "#Converts Hexadecimal value to Binary\n",
    "def hex_to_binary(hexdata):\n",
    "    scale = 16 ## equals to hexadecimal\n",
    "    num_of_bits = 9\n",
    "    return bin(int(hexdata, scale))[2:].zfill(num_of_bits);\n",
    "#Converts TCP flags to Binary\n",
    "def to_Binary(x):\n",
    "    l = 0\n",
    "    x = '...' + x\n",
    "    x = list(x)\n",
    "    for i in x:\n",
    "        if (i=='.'):\n",
    "            x[l]= '0'\n",
    "        else:\n",
    "            x[l] = '1'\n",
    "        l = l +1\n",
    "    return ''.join(x)\n",
    "#Converts the 'Flags' column to 9 indiviual columns (manual oneshot encoding)\n",
    "def flag_convert(df):  \n",
    "   # df['Flags'] = df['Flags'].apply(lambda x: (list(x)))\n",
    "   # temp = df['Flags'].apply(lambda x: toBinary(x))\n",
    "    hex_values = list(df[(df['Flags'].str.contains(\"0x\", na=False))]['Flags'].unique())\n",
    "    flag_values = list(df[~(df['Flags'].str.contains(\"0x\", na=False))]['Flags'].unique())\n",
    "    binary_values = {}\n",
    "    for i in hex_values:\n",
    "         binary_values[i] = (hex_to_binary(i))\n",
    "    for i in flag_values:\n",
    "         binary_values[i] = (to_Binary(i))\n",
    "    temp = df['Flags'].replace(binary_values)\n",
    "#temp = temp.apply(lambda x: pd.Series(x)) \n",
    "    temp = pd.DataFrame(temp.apply(list).tolist())\n",
    "#temp = pd.DataFrame(temp)\n",
    "#a = a.iloc[: , 1:]\n",
    "   # print(temp.head())\n",
    "    temp.columns = ['N','C','E','U' ,'A','P','R','S','F']\n",
    "    for i in temp.columns:\n",
    "        temp[i] = pd.to_numeric(temp[i]);\n",
    "    temp = temp.reset_index(drop=True)\n",
    "    df = df.reset_index(drop=True)\n",
    "    df = pd.concat([df, temp], axis = 1)\n",
    "    return df;"
   ]
  },
  {
   "cell_type": "code",
   "execution_count": 10,
   "metadata": {},
   "outputs": [],
   "source": [
    "#make a IP_pairs \n",
    "def make_pair(df):\n",
    "    ip_pair = df['Src IP Addr'] +'/' +df['Dst IP Addr']\n",
    "    source_ip = df['Src IP Addr'].unique().tolist()\n",
    "    destination_ip = df['Dst IP Addr'].unique().tolist()\n",
    "   # df = df.drop(columns = ['Src IP Addr', 'Dst IP Addr'])\n",
    "    df.insert(1, ' IP Pair', ip_pair)\n",
    "    return df\n",
    "\n",
    "def check_inverse(df):\n",
    "    list_pairs = df[' IP Pair'].unique()\n",
    "    tuple_pair = []\n",
    "    for i in list_pairs:\n",
    "        tuple_pair.append(tuple((i.split('/'))))\n",
    "    dic_store = {}\n",
    "    for i in tuple_pair:\n",
    "        if (i  not in dic_store.keys()) and (i[::-1] not in dic_store.keys()):\n",
    "            dic_store[i] = i[0] + '/' +i[1]\n",
    "    print(len(dic_store.keys()))\n",
    "    dic_final = {}\n",
    "    for i in dic_store.keys():\n",
    "        dic_final[i[0] + '/' +i[1]] = dic_store[i]\n",
    "        dic_final[i[1] + '/' +i[0]] = dic_store[i]\n",
    "    df[' IP Pair'] = df[' IP Pair'].map(dic_final)               \n",
    "    return df"
   ]
  },
  {
   "cell_type": "code",
   "execution_count": 11,
   "metadata": {},
   "outputs": [],
   "source": [
    "def normalize_IP(df):\n",
    "    columns = ['sourceIP_feature 1', 'sourceIP_feature 2', 'sourceIP_feature 3', 'sourceIP_feature 4', 'destIP_feature 1',\n",
    "              'destIP_feature 2', 'destIP_feature 3', 'destIP_feature 4']\n",
    "    normalized = df[columns]\n",
    "    print(columns)\n",
    "    transformed = MinMaxScaler().fit(normalized).transform(normalized)\n",
    "    transformed = pd.DataFrame(transformed)\n",
    "    j = 0\n",
    "    col = {}\n",
    "    for i in columns:\n",
    "        col[j] = i\n",
    "        j=j+1\n",
    "    transformed = transformed.rename(columns = col)\n",
    "    transformed = transformed.reset_index()\n",
    "    for i in columns:\n",
    "        df[i] = transformed[i].to_numpy()\n",
    "    return df;"
   ]
  },
  {
   "cell_type": "code",
   "execution_count": 12,
   "metadata": {},
   "outputs": [],
   "source": [
    "def normalize(df):\n",
    "    numerics = ['int16', 'int32', 'int64', 'float16', 'float32', 'float64']\n",
    "    columns = data.select_dtypes(include=numerics).columns\n",
    "    normalized = df[columns]\n",
    "    print(columns)\n",
    "    transformed = MinMaxScaler().fit(normalized).transform(normalized)\n",
    "    transformed = pd.DataFrame(transformed)\n",
    "    j = 0\n",
    "    col = {}\n",
    "    for i in columns:\n",
    "        col[j] = i\n",
    "        j=j+1\n",
    "    transformed = transformed.rename(columns = col)\n",
    "    transformed = transformed.reset_index()\n",
    "    for i in columns:\n",
    "        df[i] = transformed[i].to_numpy()\n",
    "    return df;"
   ]
  },
  {
   "cell_type": "code",
   "execution_count": 13,
   "metadata": {},
   "outputs": [],
   "source": [
    "def one_shot(df):\n",
    "    label_encoder = LabelEncoder()\n",
    "    #df.astype({'attackType': 'str'})\n",
    "    df['attackType'] = label_encoder.fit_transform(df['attackType'])\n",
    "    print(list(label_encoder.classes_))\n",
    "    print(list(label_encoder.transform(label_encoder.classes_)))\n",
    "    \n",
    "    \n",
    "    df['sourceIP_feature 1'] = label_encoder.fit_transform(df['sourceIP_feature 1'])\n",
    "    print(list(label_encoder.classes_))\n",
    "    print(list(label_encoder.transform(label_encoder.classes_)))\n",
    "    \n",
    "    df['sourceIP_feature 2'] = label_encoder.fit_transform(df['sourceIP_feature 2'])\n",
    "    print(list(label_encoder.classes_))\n",
    "    print(list(label_encoder.transform(label_encoder.classes_)))\n",
    "    \n",
    "    df['sourceIP_feature 3'] = label_encoder.fit_transform(df['sourceIP_feature 3'])\n",
    "    print(list(label_encoder.classes_))\n",
    "    print(list(label_encoder.transform(label_encoder.classes_)))\n",
    "    \n",
    "    df['sourceIP_feature 4'] = label_encoder.fit_transform(df['sourceIP_feature 4'])\n",
    "    print(list(label_encoder.classes_))\n",
    "    print(list(label_encoder.transform(label_encoder.classes_)))\n",
    "    \n",
    "    df['destIP_feature 1'] = label_encoder.fit_transform(df['destIP_feature 1'])\n",
    "    print(list(label_encoder.classes_))\n",
    "    print(list(label_encoder.transform(label_encoder.classes_)))\n",
    "    \n",
    "    df['destIP_feature 2'] = label_encoder.fit_transform(df['destIP_feature 2'])\n",
    "    print(list(label_encoder.classes_))\n",
    "    print(list(label_encoder.transform(label_encoder.classes_)))\n",
    "    \n",
    "    df['destIP_feature 3'] = label_encoder.fit_transform(df['destIP_feature 3'])\n",
    "    print(list(label_encoder.classes_))\n",
    "    print(list(label_encoder.transform(label_encoder.classes_)))\n",
    "    \n",
    "    df['destIP_feature 4'] = label_encoder.fit_transform(df['destIP_feature 4'])\n",
    "    print(list(label_encoder.classes_))\n",
    "    print(list(label_encoder.transform(label_encoder.classes_)))\n",
    "    \n",
    "    df['Proto'] = label_encoder.fit_transform(df['Proto'])\n",
    "    print(list(label_encoder.classes_))\n",
    "    print(list(label_encoder.transform(label_encoder.classes_)))\n",
    "    \n",
    "    onehot_encoder1 = OneHotEncoder()\n",
    "    onehot_encoder1.fit(df.Proto.to_numpy().reshape(-1, 1))\n",
    "    proto = onehot_encoder1.transform(df.Proto.to_numpy().reshape(-1, 1))\n",
    "    proto = pd.DataFrame.sparse.from_spmatrix(proto)\n",
    "    proto.astype('int32')\n",
    "    proto.columns = label_encoder.classes_\n",
    "   # print(proto.head(1))\n",
    "    df = pd.concat([df, proto], axis = 1)\n",
    "    return df;"
   ]
  },
  {
   "cell_type": "code",
   "execution_count": 14,
   "metadata": {},
   "outputs": [],
   "source": [
    "def drop_columns(df):\n",
    "    return df.drop(columns = ['Date first seen', ' IP Pair', 'Flows', 'class', 'attackID','Flags',\n",
    "                              'attackDescription', 'Src IP Addr', 'Dst IP Addr','Proto'], axis =1)"
   ]
  },
  {
   "cell_type": "code",
   "execution_count": 15,
   "metadata": {},
   "outputs": [],
   "source": [
    "#Aplit IP address into features, 7 features\n",
    "def split_to_net(IP_address):\n",
    "    IP_list = IP_address.split(\".\")\n",
    "    needed_len = 7\n",
    "    needed_len = needed_len - len(IP_list)\n",
    "    for i in range(0,needed_len,1):\n",
    "        IP_list.append('0')\n",
    "    return IP_list\n",
    "#replace unknown IP address, and convert to columns\n",
    "def IP_split(df): \n",
    "    replace = {\"ATTACKER1\":\"0.0.0.0\",\n",
    "           \"ATTACKER2\":\"0.0.0.0\",\n",
    "           \"ATTACKER3\":\"0.0.0.0\",\n",
    "           \"EXT_SERVER\": \"0.0.0.0.1\",\n",
    "          \"OPENSTACK_NET\": \"0.0.0.0.0.1\",\n",
    "          \"DNS\": \"0.0.0.0.0.0.1\"}\n",
    "    df = df.replace({\"Src IP Addr\": replace, \"Dst IP Addr\": replace}, value=None)\n",
    "    temp_source = df[\"Src IP Addr\"].apply(lambda x: \"0.0.0.0.0.0.0\" if ('_') in x else x)\n",
    "    temp_des = df['Dst IP Addr'].apply(lambda x: \"0.0.0.0.0.0.0\" if ('_') in x else x)\n",
    "   # sourceIP = list(df[\"Src IP Addr\"].unique())\n",
    "   # destIP = list(df[\"Dst IP Addr\"].unique())\n",
    "   # sourceIP_values = {}\n",
    "   # desIP_values = {}\n",
    "   # for i in sourceIP:\n",
    "   #      sourceIP_values[i] = (split_to_net(i))\n",
    "   # for i in destIP:\n",
    "   #      desIP_values[i] = (split_to_net(i))\n",
    "    #print(sourceIP_values)\n",
    "   # print(desIP_values)\n",
    "#for Source IP\n",
    "    temp_source = temp_source.apply(lambda x: split_to_net(x) )\n",
    "    temp_source = pd.DataFrame(temp_source.apply(list).tolist())\n",
    "    temp_source.columns = ['sourceIP_feature 1','sourceIP_feature 2','sourceIP_feature 3','sourceIP_feature 4' ,\n",
    "                    'sourceEXT_SERVER','sourceOPENSTACK_NET','sourceDNS']\n",
    "    for i in temp_source.columns:\n",
    "        temp_source[i] = pd.to_numeric(temp_source[i]);\n",
    "    temp_source = temp_source.reset_index(drop=True)\n",
    "    df = df.reset_index(drop=True)\n",
    "    df = pd.concat([df, temp_source], axis = 1)\n",
    "    #for Destination IP\n",
    "    temp_des = temp_des.apply(lambda x: split_to_net(x) )\n",
    "    temp_des = pd.DataFrame(temp_des.apply(list).tolist())\n",
    "    temp_des.columns = ['destIP_feature 1','destIP_feature 2','destIP_feature 3','destIP_feature 4' ,\n",
    "                    'destEXT_SERVER','destOPENSTACK_NET','destDNS']\n",
    "    for i in temp_des.columns:\n",
    "        temp_des[i] = pd.to_numeric(temp_des[i]);\n",
    "    temp_des = temp_des.reset_index(drop=True)\n",
    "    df = df.reset_index(drop=True)\n",
    "    df = pd.concat([df, temp_des], axis = 1)\n",
    "    return df;"
   ]
  },
  {
   "cell_type": "code",
   "execution_count": 16,
   "metadata": {},
   "outputs": [
    {
     "name": "stdout",
     "output_type": "stream",
     "text": [
      "59362\n"
     ]
    }
   ],
   "source": [
    "data = make_pair(data)\n",
    "data = check_inverse(data)"
   ]
  },
  {
   "cell_type": "code",
   "execution_count": 17,
   "metadata": {},
   "outputs": [],
   "source": [
    "data = IP_split(data)"
   ]
  },
  {
   "cell_type": "code",
   "execution_count": 18,
   "metadata": {
    "scrolled": true
   },
   "outputs": [
    {
     "name": "stdout",
     "output_type": "stream",
     "text": [
      "Index(['Duration', 'Src Pt', 'Dst Pt', 'Packets', 'Bytes', 'Flows', 'Tos',\n",
      "       'sourceIP_feature 1', 'sourceIP_feature 2', 'sourceIP_feature 3',\n",
      "       'sourceIP_feature 4', 'sourceEXT_SERVER', 'sourceOPENSTACK_NET',\n",
      "       'sourceDNS', 'destIP_feature 1', 'destIP_feature 2', 'destIP_feature 3',\n",
      "       'destIP_feature 4', 'destEXT_SERVER', 'destOPENSTACK_NET', 'destDNS'],\n",
      "      dtype='object')\n",
      "['---', 'bruteForce', 'dos', 'pingScan', 'portScan']\n",
      "[0, 1, 2, 3, 4]\n",
      "[0.0, 1.0]\n",
      "[0, 1]\n",
      "[0.0, 1.0]\n",
      "[0, 1]\n",
      "[0.0, 0.003952569169960474, 0.01976284584980237, 0.3162055335968379, 0.3952569169960474, 0.7905138339920948, 0.8300395256916996, 0.8695652173913043, 0.9999999999999999]\n",
      "[0, 1, 2, 3, 4, 5, 6, 7, 8]\n",
      "[0.0, 0.004, 0.008, 0.012, 0.016, 0.02, 0.024, 0.028, 0.032, 0.036000000000000004, 0.04, 0.044, 0.048, 0.052000000000000005, 0.056, 0.06, 0.064, 0.4, 0.432, 0.456, 0.612, 0.884, 0.96, 1.0]\n",
      "[0, 1, 2, 3, 4, 5, 6, 7, 8, 9, 10, 11, 12, 13, 14, 15, 16, 17, 18, 19, 20, 21, 22, 23]\n",
      "[0.0, 0.7529411764705882, 1.0]\n",
      "[0, 1, 2]\n",
      "[0.0, 0.6588235294117647, 1.0]\n",
      "[0, 1, 2]\n",
      "[0.0, 0.00392156862745098, 0.39215686274509803, 0.7843137254901961, 0.8235294117647058, 0.8627450980392157, 0.9921568627450981, 1.0]\n",
      "[0, 1, 2, 3, 4, 5, 6, 7]\n",
      "[0.0, 0.00392156862745098, 0.00784313725490196, 0.011764705882352941, 0.01568627450980392, 0.0196078431372549, 0.023529411764705882, 0.027450980392156862, 0.03137254901960784, 0.03529411764705882, 0.0392156862745098, 0.043137254901960784, 0.047058823529411764, 0.050980392156862744, 0.054901960784313725, 0.058823529411764705, 0.06274509803921569, 0.06666666666666667, 0.07058823529411765, 0.07450980392156863, 0.0784313725490196, 0.08235294117647059, 0.08627450980392157, 0.09019607843137255, 0.09411764705882353, 0.09803921568627451, 0.10196078431372549, 0.10588235294117647, 0.10980392156862745, 0.11372549019607843, 0.11764705882352941, 0.12156862745098039, 0.12549019607843137, 0.12941176470588234, 0.13333333333333333, 0.13725490196078433, 0.1411764705882353, 0.14509803921568626, 0.14901960784313725, 0.15294117647058825, 0.1568627450980392, 0.16078431372549018, 0.16470588235294117, 0.16862745098039217, 0.17254901960784313, 0.1764705882352941, 0.1803921568627451, 0.1843137254901961, 0.18823529411764706, 0.19215686274509802, 0.19607843137254902, 0.2, 0.20392156862745098, 0.20784313725490194, 0.21176470588235294, 0.21568627450980393, 0.2196078431372549, 0.22352941176470587, 0.22745098039215686, 0.23137254901960785, 0.23529411764705882, 0.2392156862745098, 0.24313725490196078, 0.24705882352941178, 0.25098039215686274, 0.2549019607843137, 0.2588235294117647, 0.2627450980392157, 0.26666666666666666, 0.27058823529411763, 0.27450980392156865, 0.2784313725490196, 0.2823529411764706, 0.28627450980392155, 0.2901960784313725, 0.29411764705882354, 0.2980392156862745, 0.30196078431372547, 0.3058823529411765, 0.30980392156862746, 0.3137254901960784, 0.3176470588235294, 0.32156862745098036, 0.3254901960784314, 0.32941176470588235, 0.3333333333333333, 0.33725490196078434, 0.3411764705882353, 0.34509803921568627, 0.34901960784313724, 0.3529411764705882, 0.3568627450980392, 0.3607843137254902, 0.36470588235294116, 0.3686274509803922, 0.37254901960784315, 0.3764705882352941, 0.3803921568627451, 0.38431372549019605, 0.38823529411764707, 0.39215686274509803, 0.396078431372549, 0.4, 0.403921568627451, 0.40784313725490196, 0.4117647058823529, 0.4156862745098039, 0.4196078431372549, 0.4235294117647059, 0.42745098039215684, 0.43137254901960786, 0.43529411764705883, 0.4392156862745098, 0.44313725490196076, 0.44705882352941173, 0.45098039215686275, 0.4549019607843137, 0.4588235294117647, 0.4627450980392157, 0.4666666666666667, 0.47058823529411764, 0.4745098039215686, 0.4784313725490196, 0.4823529411764706, 0.48627450980392156, 0.49019607843137253, 0.49411764705882355, 0.4980392156862745, 0.5019607843137255, 0.5058823529411764, 0.5098039215686274, 0.5137254901960784, 0.5176470588235293, 0.5215686274509804, 0.5254901960784314, 0.5294117647058824, 0.5333333333333333, 0.5372549019607843, 0.5411764705882353, 0.5450980392156862, 0.5490196078431373, 0.5529411764705883, 0.5568627450980392, 0.5607843137254902, 0.5647058823529412, 0.5686274509803921, 0.5725490196078431, 0.5764705882352941, 0.580392156862745, 0.5843137254901961, 0.5882352941176471, 0.592156862745098, 0.596078431372549, 0.6, 0.6039215686274509, 0.6078431372549019, 0.611764705882353, 0.615686274509804, 0.6196078431372549, 0.6235294117647059, 0.6274509803921569, 0.6313725490196078, 0.6352941176470588, 0.6392156862745098, 0.6431372549019607, 0.6470588235294118, 0.6509803921568628, 0.6549019607843137, 0.6588235294117647, 0.6627450980392157, 0.6666666666666666, 0.6705882352941176, 0.6745098039215687, 0.6784313725490196, 0.6823529411764706, 0.6862745098039216, 0.6901960784313725, 0.6941176470588235, 0.6980392156862745, 0.7019607843137254, 0.7058823529411764, 0.7098039215686275, 0.7137254901960784, 0.7176470588235294, 0.7215686274509804, 0.7254901960784313, 0.7294117647058823, 0.7333333333333333, 0.7372549019607844, 0.7411764705882353, 0.7450980392156863, 0.7490196078431373, 0.7529411764705882, 0.7568627450980392, 0.7607843137254902, 0.7647058823529411, 0.7686274509803921, 0.7725490196078432, 0.7764705882352941, 0.7803921568627451, 0.7843137254901961, 0.788235294117647, 0.792156862745098, 0.796078431372549, 0.8, 0.803921568627451, 0.807843137254902, 0.8117647058823529, 0.8156862745098039, 0.8196078431372549, 0.8235294117647058, 0.8274509803921568, 0.8313725490196078, 0.8352941176470589, 0.8392156862745098, 0.8431372549019608, 0.8470588235294118, 0.8509803921568627, 0.8549019607843137, 0.8588235294117647, 0.8627450980392157, 0.8666666666666667, 0.8705882352941177, 0.8745098039215686, 0.8784313725490196, 0.8823529411764706, 0.8862745098039215, 0.8901960784313725, 0.8941176470588235, 0.8980392156862745, 0.9019607843137255, 0.9058823529411765, 0.9098039215686274, 0.9137254901960784, 0.9176470588235294, 0.9215686274509803, 0.9254901960784314, 0.9294117647058824, 0.9333333333333333, 0.9372549019607843, 0.9411764705882353, 0.9450980392156862, 0.9490196078431372, 0.9529411764705882, 0.9568627450980391, 0.9607843137254902, 0.9647058823529412, 0.9686274509803922, 0.9725490196078431, 0.9764705882352941, 0.9803921568627451, 0.984313725490196, 0.9882352941176471, 0.9921568627450981, 0.996078431372549, 1.0]\n",
      "[0, 1, 2, 3, 4, 5, 6, 7, 8, 9, 10, 11, 12, 13, 14, 15, 16, 17, 18, 19, 20, 21, 22, 23, 24, 25, 26, 27, 28, 29, 30, 31, 32, 33, 34, 35, 36, 37, 38, 39, 40, 41, 42, 43, 44, 45, 46, 47, 48, 49, 50, 51, 52, 53, 54, 55, 56, 57, 58, 59, 60, 61, 62, 63, 64, 65, 66, 67, 68, 69, 70, 71, 72, 73, 74, 75, 76, 77, 78, 79, 80, 81, 82, 83, 84, 85, 86, 87, 88, 89, 90, 91, 92, 93, 94, 95, 96, 97, 98, 99, 100, 101, 102, 103, 104, 105, 106, 107, 108, 109, 110, 111, 112, 113, 114, 115, 116, 117, 118, 119, 120, 121, 122, 123, 124, 125, 126, 127, 128, 129, 130, 131, 132, 133, 134, 135, 136, 137, 138, 139, 140, 141, 142, 143, 144, 145, 146, 147, 148, 149, 150, 151, 152, 153, 154, 155, 156, 157, 158, 159, 160, 161, 162, 163, 164, 165, 166, 167, 168, 169, 170, 171, 172, 173, 174, 175, 176, 177, 178, 179, 180, 181, 182, 183, 184, 185, 186, 187, 188, 189, 190, 191, 192, 193, 194, 195, 196, 197, 198, 199, 200, 201, 202, 203, 204, 205, 206, 207, 208, 209, 210, 211, 212, 213, 214, 215, 216, 217, 218, 219, 220, 221, 222, 223, 224, 225, 226, 227, 228, 229, 230, 231, 232, 233, 234, 235, 236, 237, 238, 239, 240, 241, 242, 243, 244, 245, 246, 247, 248, 249, 250, 251, 252, 253, 254, 255]\n",
      "['GRE  ', 'ICMP ', 'IGMP ', 'TCP  ', 'UDP  ']\n",
      "[0, 1, 2, 3, 4]\n"
     ]
    },
    {
     "name": "stderr",
     "output_type": "stream",
     "text": [
      "C:\\Users\\hp\\Anaconda3\\lib\\site-packages\\sklearn\\preprocessing\\_encoders.py:415: FutureWarning: The handling of integer data will change in version 0.22. Currently, the categories are determined based on the range [0, max(values)], while in the future they will be determined based on the unique values.\n",
      "If you want the future behaviour and silence this warning, you can specify \"categories='auto'\".\n",
      "In case you used a LabelEncoder before this OneHotEncoder to convert the categories to integers, then you can now use the OneHotEncoder directly.\n",
      "  warnings.warn(msg, FutureWarning)\n"
     ]
    },
    {
     "name": "stdout",
     "output_type": "stream",
     "text": [
      "['sourceIP_feature 1', 'sourceIP_feature 2', 'sourceIP_feature 3', 'sourceIP_feature 4', 'destIP_feature 1', 'destIP_feature 2', 'destIP_feature 3', 'destIP_feature 4']\n"
     ]
    }
   ],
   "source": [
    "data = normalize(data)\n",
    "data =  one_shot(data) \n",
    "data = normalize_IP(data)"
   ]
  },
  {
   "cell_type": "code",
   "execution_count": 19,
   "metadata": {},
   "outputs": [],
   "source": [
    "from datetime import datetime\n",
    "def unix_time(df):\n",
    "  #  df[' Timestamp'] = df[' Timestamp'].apply(lambda x: x + ':00' if len(x) != 19 else x)\n",
    "   # df[' Timestamp'] = df[' Timestamp'].apply(lambda x: x[0 : 5 : ] + x[7 : :] if len(x) != 19 else x[0 : 7 : ] + x[9 : :])\n",
    "    df['Date first seen'] = df['Date first seen'].apply(lambda x: datetime.strptime(x,'%Y-%m-%d %H:%M:%S.%f'))\n",
    "    df['Date first seen'] = df['Date first seen'].apply(lambda x: x.timestamp()*1000)\n",
    "    return df;"
   ]
  },
  {
   "cell_type": "code",
   "execution_count": 20,
   "metadata": {},
   "outputs": [],
   "source": [
    "def normal_profile(grouped):\n",
    "    grouped['---'] = unix_time(grouped['---'])\n",
    "    start_time = int(grouped['---'].head(1)['Date first seen'].values[0])\n",
    "    end_time = int(grouped['---'].tail(1)['Date first seen'].values[0])\n",
    "#date_bins = pd.IntervalIndex.from_tuples(\n",
    "#        [(i, i+3600000) for i in range(start_time, end_time, 3600000)],\n",
    "#        closed=\"left\")\n",
    "#date_labels = [f\"{i}\" for i in range(1, len(date_bins)+1, 1)]\n",
    "    normal_data = dict(tuple( grouped['---'].groupby( pd.cut(\n",
    "            grouped['---']['Date first seen'],\n",
    "               np.arange(start_time, end_time, 3*3600000)))))\n",
    "    del grouped['---']\n",
    "    num = []\n",
    "    for i in grouped_data.keys():\n",
    "          num.append(len(grouped_data[i]))\n",
    "    print(min(num))\n",
    "    num = max(num)\n",
    "    print(num)\n",
    "    print(len(grouped.keys()))\n",
    "    grouped = {**grouped, **normal_data}\n",
    "    print(len(grouped.keys()))\n",
    "    return grouped, num;"
   ]
  },
  {
   "cell_type": "code",
   "execution_count": 21,
   "metadata": {},
   "outputs": [
    {
     "data": {
      "text/plain": [
       "0"
      ]
     },
     "execution_count": 21,
     "metadata": {},
     "output_type": "execute_result"
    }
   ],
   "source": [
    "grouped_data= dict(tuple(data.groupby(['attackID'])))\n",
    "del data\n",
    "gc.collect()"
   ]
  },
  {
   "cell_type": "code",
   "execution_count": 22,
   "metadata": {
    "scrolled": true
   },
   "outputs": [
    {
     "name": "stdout",
     "output_type": "stream",
     "text": [
      "---: 7195669 : 0\n",
      "Attack ID: 25; Lenght of Attack: 201; Attack Type: 1\n",
      "Attack ID: 27; Lenght of Attack: 680; Attack Type: 1\n",
      "Attack ID: 30; Lenght of Attack: 46; Attack Type: 1\n",
      "Attack ID: 32; Lenght of Attack: 335; Attack Type: 1\n",
      "Attack ID: 39; Lenght of Attack: 364; Attack Type: 1\n",
      "Attack ID: 54; Lenght of Attack: 183; Attack Type: 1\n",
      "Attack ID: 55; Lenght of Attack: 757; Attack Type: 1\n",
      "Attack ID: 56; Lenght of Attack: 427; Attack Type: 1\n",
      "Attack ID: 61; Lenght of Attack: 705; Attack Type: 1\n",
      "Attack ID: 62; Lenght of Attack: 574; Attack Type: 1\n",
      "Attack ID: 64; Lenght of Attack: 480; Attack Type: 1\n",
      "Attack ID: 70; Lenght of Attack: 240; Attack Type: 1\n",
      "Attack ID: 73; Lenght of Attack: 200; Attack Type: 1\n",
      "Attack ID: 74; Lenght of Attack: 200; Attack Type: 1\n",
      "Attack ID: 75; Lenght of Attack: 200; Attack Type: 1\n",
      "Attack ID: 76; Lenght of Attack: 168; Attack Type: 1\n",
      "Attack ID: 78; Lenght of Attack: 200; Attack Type: 1\n",
      "Attack ID: 79; Lenght of Attack: 200; Attack Type: 1\n",
      "Attack ID: 81; Lenght of Attack: 200; Attack Type: 1\n",
      "Attack ID: 83; Lenght of Attack: 200; Attack Type: 1\n",
      "Attack ID: 84; Lenght of Attack: 200; Attack Type: 1\n",
      "Attack ID: 87; Lenght of Attack: 200; Attack Type: 1\n",
      "Attack ID: 88; Lenght of Attack: 200; Attack Type: 1\n",
      "Attack ID: 90; Lenght of Attack: 200; Attack Type: 1\n",
      "Attack ID: 91; Lenght of Attack: 40; Attack Type: 1\n",
      "Attack ID: 92; Lenght of Attack: 40; Attack Type: 1\n",
      "dos : 18\n",
      "Attack ID: 16; Lenght of Attack: 261003; Attack Type: 2\n",
      "Attack ID: 18; Lenght of Attack: 295302; Attack Type: 2\n",
      "Attack ID: 23; Lenght of Attack: 72788; Attack Type: 2\n",
      "Attack ID: 26; Lenght of Attack: 74471; Attack Type: 2\n",
      "Attack ID: 28; Lenght of Attack: 36306; Attack Type: 2\n",
      "Attack ID: 3; Lenght of Attack: 37118; Attack Type: 2\n",
      "Attack ID: 31; Lenght of Attack: 144845; Attack Type: 2\n",
      "Attack ID: 4; Lenght of Attack: 72063; Attack Type: 2\n",
      "Attack ID: 42; Lenght of Attack: 184040; Attack Type: 2\n",
      "Attack ID: 44; Lenght of Attack: 261169; Attack Type: 2\n",
      "Attack ID: 45; Lenght of Attack: 224960; Attack Type: 2\n",
      "Attack ID: 46; Lenght of Attack: 111720; Attack Type: 2\n",
      "Attack ID: 53; Lenght of Attack: 516299; Attack Type: 2\n",
      "Attack ID: 59; Lenght of Attack: 110484; Attack Type: 2\n",
      "Attack ID: 6; Lenght of Attack: 37134; Attack Type: 2\n",
      "Attack ID: 60; Lenght of Attack: 333627; Attack Type: 2\n",
      "Attack ID: 63; Lenght of Attack: 148641; Attack Type: 2\n",
      "Attack ID: 9; Lenght of Attack: 37057; Attack Type: 2\n",
      "pingScan: 16\n",
      "Attack ID: 10; Lenght of Attack: 311; Attack Type: 3\n",
      "Attack ID: 13; Lenght of Attack: 513; Attack Type: 3\n",
      "Attack ID: 15; Lenght of Attack: 64; Attack Type: 3\n",
      "Attack ID: 22; Lenght of Attack: 295; Attack Type: 3\n",
      "Attack ID: 24; Lenght of Attack: 466; Attack Type: 3\n",
      "Attack ID: 33; Lenght of Attack: 307; Attack Type: 3\n",
      "Attack ID: 35; Lenght of Attack: 263; Attack Type: 3\n",
      "Attack ID: 36; Lenght of Attack: 494; Attack Type: 3\n",
      "Attack ID: 38; Lenght of Attack: 267; Attack Type: 3\n",
      "Attack ID: 41; Lenght of Attack: 379; Attack Type: 3\n",
      "Attack ID: 52; Lenght of Attack: 607; Attack Type: 3\n",
      "Attack ID: 57; Lenght of Attack: 522; Attack Type: 3\n",
      "Attack ID: 58; Lenght of Attack: 510; Attack Type: 3\n",
      "Attack ID: 65; Lenght of Attack: 373; Attack Type: 3\n",
      "Attack ID: 66; Lenght of Attack: 359; Attack Type: 3\n",
      "Attack ID: 69; Lenght of Attack: 360; Attack Type: 3\n",
      "portScan : 32\n",
      "Attack ID: 1; Lenght of Attack: 7657; Attack Type: 4\n",
      "Attack ID: 11; Lenght of Attack: 17401; Attack Type: 4\n",
      "Attack ID: 12; Lenght of Attack: 11526; Attack Type: 4\n",
      "Attack ID: 14; Lenght of Attack: 13807; Attack Type: 4\n",
      "Attack ID: 17; Lenght of Attack: 13338; Attack Type: 4\n",
      "Attack ID: 19; Lenght of Attack: 11672; Attack Type: 4\n",
      "Attack ID: 2; Lenght of Attack: 1927; Attack Type: 4\n",
      "Attack ID: 20; Lenght of Attack: 11748; Attack Type: 4\n",
      "Attack ID: 21; Lenght of Attack: 5113; Attack Type: 4\n",
      "Attack ID: 29; Lenght of Attack: 19732; Attack Type: 4\n",
      "Attack ID: 34; Lenght of Attack: 12909; Attack Type: 4\n",
      "Attack ID: 37; Lenght of Attack: 26114; Attack Type: 4\n",
      "Attack ID: 40; Lenght of Attack: 11609; Attack Type: 4\n",
      "Attack ID: 43; Lenght of Attack: 2143; Attack Type: 4\n",
      "Attack ID: 47; Lenght of Attack: 13420; Attack Type: 4\n",
      "Attack ID: 48; Lenght of Attack: 13600; Attack Type: 4\n",
      "Attack ID: 49; Lenght of Attack: 17629; Attack Type: 4\n",
      "Attack ID: 5; Lenght of Attack: 4948; Attack Type: 4\n",
      "Attack ID: 50; Lenght of Attack: 4589; Attack Type: 4\n",
      "Attack ID: 51; Lenght of Attack: 11968; Attack Type: 4\n",
      "Attack ID: 67; Lenght of Attack: 13426; Attack Type: 4\n",
      "Attack ID: 68; Lenght of Attack: 5632; Attack Type: 4\n",
      "Attack ID: 7; Lenght of Attack: 9586; Attack Type: 4\n",
      "Attack ID: 71; Lenght of Attack: 2008; Attack Type: 4\n",
      "Attack ID: 72; Lenght of Attack: 2002; Attack Type: 4\n",
      "Attack ID: 77; Lenght of Attack: 6410; Attack Type: 4\n",
      "Attack ID: 8; Lenght of Attack: 4424; Attack Type: 4\n",
      "Attack ID: 80; Lenght of Attack: 1991; Attack Type: 4\n",
      "Attack ID: 82; Lenght of Attack: 1370; Attack Type: 4\n",
      "Attack ID: 85; Lenght of Attack: 1984; Attack Type: 4\n",
      "Attack ID: 86; Lenght of Attack: 2002; Attack Type: 4\n",
      "Attack ID: 89; Lenght of Attack: 952; Attack Type: 4\n"
     ]
    }
   ],
   "source": [
    "no_1 = []\n",
    "no_2 = []\n",
    "no_3 = []\n",
    "no_4 = []\n",
    "for i in grouped_data.keys():\n",
    "   \n",
    "    if grouped_data[i]['attackType'].unique()[0] == 0:\n",
    "        print(f\"{i}: {len(grouped_data[i])} : {grouped_data[i]['attackType'].unique()[0]}\")\n",
    "    if grouped_data[i]['attackType'].unique()[0] == 1:\n",
    "              no_1.append(i)\n",
    "    if grouped_data[i]['attackType'].unique()[0] == 2:\n",
    "              no_2.append(i)\n",
    "    if grouped_data[i]['attackType'].unique()[0] == 3:\n",
    "              no_3.append(i)\n",
    "    if grouped_data[i]['attackType'].unique()[0] == 4:\n",
    "              no_4.append(i)\n",
    "for i in no_1:\n",
    "     print(f\"Attack ID: {i}; Lenght of Attack: {len(grouped_data[i])}; Attack Type: {grouped_data[i]['attackType'].unique()[0]}\")\n",
    "print(f\"dos : {len(no_2)}\")\n",
    "for i in no_2:\n",
    "     print(f\"Attack ID: {i}; Lenght of Attack: {len(grouped_data[i])}; Attack Type: {grouped_data[i]['attackType'].unique()[0]}\")\n",
    "print(f\"pingScan: {len(no_3)}\")\n",
    "for i in no_3:\n",
    "     print(f\"Attack ID: {i}; Lenght of Attack: {len(grouped_data[i])}; Attack Type: {grouped_data[i]['attackType'].unique()[0]}\")\n",
    "print(f\"portScan : {len(no_4)}\")\n",
    "for i in no_4:\n",
    "     print(f\"Attack ID: {i}; Lenght of Attack: {len(grouped_data[i])}; Attack Type: {grouped_data[i]['attackType'].unique()[0]}\")\n"
   ]
  },
  {
   "cell_type": "code",
   "execution_count": 23,
   "metadata": {},
   "outputs": [
    {
     "data": {
      "text/plain": [
       "20"
      ]
     },
     "execution_count": 23,
     "metadata": {},
     "output_type": "execute_result"
    }
   ],
   "source": [
    "del no_1\n",
    "del no_2\n",
    "del no_3\n",
    "del no_4\n",
    "gc.collect()"
   ]
  },
  {
   "cell_type": "code",
   "execution_count": 24,
   "metadata": {},
   "outputs": [],
   "source": [
    "def del_largeInstances(dic, length):\n",
    "    remove_ID = []\n",
    "    for i in dic.keys():\n",
    "        if (i != '---'):\n",
    "            if(len(dic[i]) >= length):\n",
    "                remove_ID.append(i)\n",
    "    print(len(remove_ID))\n",
    "    removed_attacks = {}\n",
    "    for i in remove_ID:\n",
    "        removed_attacks[i] = dic[i]\n",
    "        del dic[i]\n",
    "    return dic;"
   ]
  },
  {
   "cell_type": "code",
   "execution_count": 25,
   "metadata": {},
   "outputs": [
    {
     "name": "stdout",
     "output_type": "stream",
     "text": [
      "19\n"
     ]
    }
   ],
   "source": [
    "grouped_data = del_largeInstances(grouped_data, 20000)"
   ]
  },
  {
   "cell_type": "code",
   "execution_count": 26,
   "metadata": {},
   "outputs": [
    {
     "name": "stdout",
     "output_type": "stream",
     "text": [
      "40\n",
      "19732\n",
      "73\n",
      "350\n"
     ]
    }
   ],
   "source": [
    "#grouped_data, num = normal_profile(grouped_data)\n",
    "grouped_data1= {}\n",
    "for i in grouped_data.keys():\n",
    "    grouped_data[i] = flag_convert(grouped_data[i])\n",
    "   # grouped_data[i] =  drop_columns(grouped_data[i])\n",
    "grouped_data, num = normal_profile(grouped_data)\n",
    "for i in grouped_data.keys():\n",
    "   # grouped_data[i] = flag_convert(grouped_data[i])\n",
    "    grouped_data[i] =  drop_columns(grouped_data[i])"
   ]
  },
  {
   "cell_type": "code",
   "execution_count": 27,
   "metadata": {},
   "outputs": [
    {
     "name": "stdout",
     "output_type": "stream",
     "text": [
      "1 : False\n",
      "10 : False\n",
      "11 : False\n",
      "12 : False\n",
      "13 : False\n",
      "14 : False\n",
      "15 : False\n",
      "17 : False\n",
      "19 : False\n",
      "2 : False\n",
      "20 : False\n",
      "21 : False\n",
      "22 : False\n",
      "24 : False\n",
      "25 : False\n",
      "27 : False\n",
      "29 : False\n",
      "30 : False\n",
      "32 : False\n",
      "33 : False\n",
      "34 : False\n",
      "35 : False\n",
      "36 : False\n",
      "38 : False\n",
      "39 : False\n",
      "40 : False\n",
      "41 : False\n",
      "43 : False\n",
      "47 : False\n",
      "48 : False\n",
      "49 : False\n",
      "5 : False\n",
      "50 : False\n",
      "51 : False\n",
      "52 : False\n",
      "54 : False\n",
      "55 : False\n",
      "56 : False\n",
      "57 : False\n",
      "58 : False\n",
      "61 : False\n",
      "62 : False\n",
      "64 : False\n",
      "65 : False\n",
      "66 : False\n",
      "67 : False\n",
      "68 : False\n",
      "69 : False\n",
      "7 : False\n",
      "70 : False\n",
      "71 : False\n",
      "72 : False\n",
      "73 : False\n",
      "74 : False\n",
      "75 : False\n",
      "76 : False\n",
      "77 : False\n",
      "78 : False\n",
      "79 : False\n",
      "8 : False\n",
      "80 : False\n",
      "81 : False\n",
      "82 : False\n",
      "83 : False\n",
      "84 : False\n",
      "85 : False\n",
      "86 : False\n",
      "87 : False\n",
      "88 : False\n",
      "89 : False\n",
      "90 : False\n",
      "91 : False\n",
      "92 : False\n",
      "(1489536076632, 1489546876632] : False\n",
      "(1489546876632, 1489557676632] : False\n",
      "(1489557676632, 1489568476632] : False\n",
      "(1489568476632, 1489579276632] : False\n",
      "(1489579276632, 1489590076632] : False\n",
      "(1489590076632, 1489600876632] : False\n",
      "(1489600876632, 1489611676632] : False\n",
      "(1489611676632, 1489622476632] : False\n",
      "(1489622476632, 1489633276632] : False\n",
      "(1489633276632, 1489644076632] : False\n",
      "(1489644076632, 1489654876632] : False\n",
      "(1489654876632, 1489665676632] : False\n",
      "(1489665676632, 1489676476632] : False\n",
      "(1489676476632, 1489687276632] : False\n",
      "(1489687276632, 1489698076632] : False\n",
      "(1489698076632, 1489708876632] : False\n",
      "(1489708876632, 1489719676632] : False\n",
      "(1489719676632, 1489730476632] : False\n",
      "(1489730476632, 1489741276632] : False\n",
      "(1489741276632, 1489752076632] : False\n",
      "(1489752076632, 1489762876632] : False\n",
      "(1489762876632, 1489773676632] : False\n",
      "(1489773676632, 1489784476632] : False\n",
      "(1489784476632, 1489795276632] : False\n",
      "(1489795276632, 1489806076632] : False\n",
      "(1489806076632, 1489816876632] : False\n",
      "(1489816876632, 1489827676632] : False\n",
      "(1489827676632, 1489838476632] : False\n",
      "(1489838476632, 1489849276632] : False\n",
      "(1489849276632, 1489860076632] : False\n",
      "(1489860076632, 1489870876632] : False\n",
      "(1489870876632, 1489881676632] : False\n",
      "(1489881676632, 1489892476632] : False\n",
      "(1489892476632, 1489903276632] : False\n",
      "(1489903276632, 1489914076632] : False\n",
      "(1489914076632, 1489924876632] : False\n",
      "(1489924876632, 1489935676632] : False\n",
      "(1489935676632, 1489946476632] : False\n",
      "(1489946476632, 1489957276632] : False\n",
      "(1489957276632, 1489968076632] : False\n",
      "(1489968076632, 1489978876632] : False\n",
      "(1489978876632, 1489989676632] : False\n",
      "(1489989676632, 1490000476632] : False\n",
      "(1490000476632, 1490011276632] : False\n",
      "(1490011276632, 1490022076632] : False\n",
      "(1490022076632, 1490032876632] : False\n",
      "(1490032876632, 1490043676632] : False\n",
      "(1490043676632, 1490054476632] : False\n",
      "(1490054476632, 1490065276632] : False\n",
      "(1490065276632, 1490076076632] : False\n",
      "(1490076076632, 1490086876632] : False\n",
      "(1490086876632, 1490097676632] : False\n",
      "(1490097676632, 1490108476632] : False\n",
      "(1490108476632, 1490119276632] : False\n",
      "(1490119276632, 1490130076632] : False\n",
      "(1490130076632, 1490140876632] : False\n",
      "(1490140876632, 1490151676632] : False\n",
      "(1490151676632, 1490162476632] : False\n",
      "(1490162476632, 1490173276632] : False\n",
      "(1490173276632, 1490184076632] : False\n",
      "(1490184076632, 1490194876632] : False\n",
      "(1490194876632, 1490205676632] : False\n",
      "(1490205676632, 1490216476632] : False\n",
      "(1490216476632, 1490227276632] : False\n",
      "(1490227276632, 1490238076632] : False\n",
      "(1490238076632, 1490248876632] : False\n",
      "(1490248876632, 1490259676632] : False\n",
      "(1490259676632, 1490270476632] : False\n",
      "(1490270476632, 1490281276632] : False\n",
      "(1490281276632, 1490292076632] : False\n",
      "(1490292076632, 1490302876632] : False\n",
      "(1490302876632, 1490313676632] : False\n",
      "(1490313676632, 1490324476632] : False\n",
      "(1490324476632, 1490335276632] : False\n",
      "(1490335276632, 1490346076632] : False\n",
      "(1490346076632, 1490356876632] : False\n",
      "(1490356876632, 1490367676632] : False\n",
      "(1490367676632, 1490378476632] : False\n",
      "(1490378476632, 1490389276632] : False\n",
      "(1490389276632, 1490400076632] : False\n",
      "(1490400076632, 1490410876632] : False\n",
      "(1490410876632, 1490421676632] : False\n",
      "(1490421676632, 1490432476632] : False\n",
      "(1490432476632, 1490443276632] : False\n",
      "(1490443276632, 1490454076632] : False\n",
      "(1490454076632, 1490464876632] : False\n",
      "(1490464876632, 1490475676632] : False\n",
      "(1490475676632, 1490486476632] : False\n",
      "(1490486476632, 1490497276632] : False\n",
      "(1490497276632, 1490508076632] : False\n",
      "(1490508076632, 1490518876632] : False\n",
      "(1490518876632, 1490529676632] : False\n",
      "(1490529676632, 1490540476632] : False\n",
      "(1490540476632, 1490551276632] : False\n",
      "(1490551276632, 1490562076632] : False\n",
      "(1490562076632, 1490572876632] : False\n",
      "(1490572876632, 1490583676632] : False\n",
      "(1490583676632, 1490594476632] : False\n",
      "(1490594476632, 1490605276632] : False\n",
      "(1490605276632, 1490616076632] : False\n",
      "(1490616076632, 1490626876632] : False\n",
      "(1490626876632, 1490637676632] : False\n",
      "(1490637676632, 1490648476632] : False\n",
      "(1490648476632, 1490659276632] : False\n",
      "(1490659276632, 1490670076632] : False\n",
      "(1490670076632, 1490680876632] : False\n",
      "(1490680876632, 1490691676632] : False\n",
      "(1490691676632, 1490702476632] : False\n",
      "(1490702476632, 1490713276632] : False\n",
      "(1490713276632, 1490724076632] : False\n",
      "(1490724076632, 1490734876632] : False\n",
      "(1490734876632, 1490745676632] : False\n",
      "(1490745676632, 1490756476632] : False\n",
      "(1490756476632, 1490767276632] : False\n",
      "(1490767276632, 1490778076632] : False\n",
      "(1490778076632, 1490788876632] : False\n",
      "(1490788876632, 1490799676632] : False\n",
      "(1490799676632, 1490810476632] : False\n",
      "(1490810476632, 1490821276632] : False\n",
      "(1490821276632, 1490832076632] : False\n",
      "(1490832076632, 1490842876632] : False\n",
      "(1490842876632, 1490853676632] : False\n",
      "(1490853676632, 1490864476632] : False\n",
      "(1490864476632, 1490875276632] : False\n",
      "(1490875276632, 1490886076632] : False\n",
      "(1490886076632, 1490896876632] : False\n",
      "(1490896876632, 1490907676632] : False\n",
      "(1490907676632, 1490918476632] : False\n",
      "(1490918476632, 1490929276632] : False\n",
      "(1490929276632, 1490940076632] : False\n",
      "(1490940076632, 1490950876632] : False\n",
      "(1490950876632, 1490961676632] : False\n",
      "(1490961676632, 1490972476632] : False\n",
      "(1490972476632, 1490983276632] : False\n",
      "(1490983276632, 1490994076632] : False\n",
      "(1490994076632, 1491004876632] : False\n",
      "(1491004876632, 1491015676632] : False\n",
      "(1491015676632, 1491026476632] : False\n",
      "(1491026476632, 1491037276632] : False\n",
      "(1491037276632, 1491048076632] : False\n",
      "(1491048076632, 1491058876632] : False\n",
      "(1491058876632, 1491069676632] : False\n",
      "(1491069676632, 1491080476632] : False\n",
      "(1491080476632, 1491091276632] : False\n",
      "(1491091276632, 1491102076632] : False\n",
      "(1491102076632, 1491112876632] : False\n",
      "(1491112876632, 1491123676632] : False\n",
      "(1491123676632, 1491134476632] : False\n",
      "(1491134476632, 1491145276632] : False\n",
      "(1491145276632, 1491156076632] : False\n",
      "(1491156076632, 1491166876632] : False\n",
      "(1491166876632, 1491177676632] : False\n",
      "(1491177676632, 1491188476632] : False\n",
      "(1491188476632, 1491199276632] : False\n",
      "(1491199276632, 1491210076632] : False\n",
      "(1491210076632, 1491220876632] : False\n",
      "(1491220876632, 1491231676632] : False\n",
      "(1491231676632, 1491242476632] : False\n",
      "(1491242476632, 1491253276632] : False\n",
      "(1491253276632, 1491264076632] : False\n",
      "(1491264076632, 1491274876632] : False\n",
      "(1491274876632, 1491285676632] : False\n",
      "(1491285676632, 1491296476632] : False\n",
      "(1491296476632, 1491307276632] : False\n",
      "(1491307276632, 1491318076632] : False\n",
      "(1491318076632, 1491328876632] : False\n",
      "(1491328876632, 1491339676632] : False\n",
      "(1491339676632, 1491350476632] : False\n",
      "(1491350476632, 1491361276632] : False\n",
      "(1491361276632, 1491372076632] : False\n",
      "(1491372076632, 1491382876632] : False\n",
      "(1491382876632, 1491393676632] : False\n",
      "(1491393676632, 1491404476632] : False\n",
      "(1491404476632, 1491415276632] : False\n",
      "(1491415276632, 1491426076632] : False\n",
      "(1491426076632, 1491436876632] : False\n",
      "(1491436876632, 1491447676632] : False\n",
      "(1491447676632, 1491458476632] : False\n",
      "(1491458476632, 1491469276632] : False\n",
      "(1491469276632, 1491480076632] : False\n",
      "(1491480076632, 1491490876632] : False\n",
      "(1491490876632, 1491501676632] : False\n",
      "(1491501676632, 1491512476632] : False\n",
      "(1491512476632, 1491523276632] : False\n",
      "(1491523276632, 1491534076632] : False\n",
      "(1491534076632, 1491544876632] : False\n",
      "(1491544876632, 1491555676632] : False\n",
      "(1491555676632, 1491566476632] : False\n",
      "(1491566476632, 1491577276632] : False\n",
      "(1491577276632, 1491588076632] : False\n",
      "(1491588076632, 1491598876632] : False\n",
      "(1491598876632, 1491609676632] : False\n",
      "(1491609676632, 1491620476632] : False\n",
      "(1491620476632, 1491631276632] : False\n"
     ]
    },
    {
     "name": "stdout",
     "output_type": "stream",
     "text": [
      "(1491631276632, 1491642076632] : False\n",
      "(1491642076632, 1491652876632] : False\n",
      "(1491652876632, 1491663676632] : False\n",
      "(1491663676632, 1491674476632] : False\n",
      "(1491674476632, 1491685276632] : False\n",
      "(1491685276632, 1491696076632] : False\n",
      "(1491696076632, 1491706876632] : False\n",
      "(1491706876632, 1491717676632] : False\n",
      "(1491717676632, 1491728476632] : False\n",
      "(1491728476632, 1491739276632] : False\n",
      "(1491739276632, 1491750076632] : False\n",
      "(1491750076632, 1491760876632] : False\n",
      "(1491760876632, 1491771676632] : False\n",
      "(1491771676632, 1491782476632] : False\n",
      "(1491782476632, 1491793276632] : False\n",
      "(1491793276632, 1491804076632] : False\n",
      "(1491804076632, 1491814876632] : False\n",
      "(1491814876632, 1491825676632] : False\n",
      "(1491825676632, 1491836476632] : False\n",
      "(1491836476632, 1491847276632] : False\n",
      "(1491847276632, 1491858076632] : False\n",
      "(1491858076632, 1491868876632] : False\n",
      "(1491868876632, 1491879676632] : False\n",
      "(1491879676632, 1491890476632] : False\n",
      "(1491890476632, 1491901276632] : False\n",
      "(1491901276632, 1491912076632] : False\n",
      "(1491912076632, 1491922876632] : False\n",
      "(1491922876632, 1491933676632] : False\n",
      "(1491933676632, 1491944476632] : False\n",
      "(1491944476632, 1491955276632] : False\n",
      "(1491955276632, 1491966076632] : False\n",
      "(1491966076632, 1491976876632] : False\n",
      "(1491976876632, 1491987676632] : False\n",
      "(1491987676632, 1491998476632] : False\n",
      "(1491998476632, 1492009276632] : False\n",
      "(1492009276632, 1492020076632] : False\n",
      "(1492020076632, 1492030876632] : False\n",
      "(1492030876632, 1492041676632] : False\n",
      "(1492041676632, 1492052476632] : False\n",
      "(1492052476632, 1492063276632] : False\n",
      "(1492063276632, 1492074076632] : False\n",
      "(1492074076632, 1492084876632] : False\n",
      "(1492084876632, 1492095676632] : False\n",
      "(1492095676632, 1492106476632] : False\n",
      "(1492106476632, 1492117276632] : False\n",
      "(1492117276632, 1492128076632] : False\n",
      "(1492128076632, 1492138876632] : False\n",
      "(1492138876632, 1492149676632] : False\n",
      "(1492149676632, 1492160476632] : False\n",
      "(1492160476632, 1492171276632] : False\n",
      "(1492171276632, 1492182076632] : False\n",
      "(1492182076632, 1492192876632] : False\n",
      "(1492192876632, 1492203676632] : False\n",
      "(1492203676632, 1492214476632] : False\n",
      "(1492214476632, 1492225276632] : False\n",
      "(1492225276632, 1492236076632] : False\n",
      "(1492236076632, 1492246876632] : False\n",
      "(1492246876632, 1492257676632] : False\n",
      "(1492257676632, 1492268476632] : False\n",
      "(1492268476632, 1492279276632] : False\n",
      "(1492279276632, 1492290076632] : False\n",
      "(1492290076632, 1492300876632] : False\n",
      "(1492300876632, 1492311676632] : False\n",
      "(1492311676632, 1492322476632] : False\n",
      "(1492322476632, 1492333276632] : False\n",
      "(1492333276632, 1492344076632] : False\n",
      "(1492344076632, 1492354876632] : False\n",
      "(1492354876632, 1492365676632] : False\n",
      "(1492365676632, 1492376476632] : False\n",
      "(1492376476632, 1492387276632] : False\n",
      "(1492387276632, 1492398076632] : False\n",
      "(1492398076632, 1492408876632] : False\n",
      "(1492408876632, 1492419676632] : False\n",
      "(1492419676632, 1492430476632] : False\n",
      "(1492430476632, 1492441276632] : False\n",
      "(1492441276632, 1492452076632] : False\n",
      "(1492452076632, 1492462876632] : False\n",
      "(1492462876632, 1492473676632] : False\n",
      "(1492473676632, 1492484476632] : False\n",
      "(1492484476632, 1492495276632] : False\n",
      "(1492495276632, 1492506076632] : False\n",
      "(1492506076632, 1492516876632] : False\n",
      "(1492516876632, 1492527676632] : False\n"
     ]
    }
   ],
   "source": [
    "for i in grouped_data.keys():\n",
    "    #if (grouped_data[i].hasnull())\n",
    "    print(f'{i} : {grouped_data[i].isnull().values.any()}')"
   ]
  },
  {
   "cell_type": "code",
   "execution_count": 28,
   "metadata": {},
   "outputs": [
    {
     "name": "stdout",
     "output_type": "stream",
     "text": [
      "Number of Instances which are empty: 167\n"
     ]
    }
   ],
   "source": [
    "counter = 0\n",
    "for i in grouped_data.keys():\n",
    "    if ( len(grouped_data[i]) == 0):\n",
    "        counter = counter +1;\n",
    "print(f\"Number of Instances which are empty: {counter}\")"
   ]
  },
  {
   "cell_type": "code",
   "execution_count": 29,
   "metadata": {},
   "outputs": [],
   "source": [
    "#Remove columns that were not listed in cfs list\n",
    "selected_features = ['Bytes', 'sourceIP_feature 4', 'Src Pt', 'Dst Pt', 'destIP_feature 4',\n",
    "       'Duration', 'Packets', 'S', 'F', 'sourceIP_feature 3',\n",
    "       'destIP_feature 3', 'attackType']\n",
    "for i in grouped_data.keys():\n",
    "    if ( len(grouped_data[i]) != 0):\n",
    "        grouped_data[i] = grouped_data[i][selected_features]"
   ]
  },
  {
   "cell_type": "code",
   "execution_count": 30,
   "metadata": {},
   "outputs": [],
   "source": [
    "def roundup(x):\n",
    "    return x if x % 100 == 0 else x + 100 - x % 100\n",
    "#Convert to 3D arrays, input dict\n",
    "def make_array(dic):\n",
    "    x = []\n",
    "    y = []\n",
    "    zero_arrays = []\n",
    "    for i in dic.keys():\n",
    "        if ( len(dic[i]) == 0):\n",
    "            zero_arrays.append(i);\n",
    "    for i in zero_arrays:\n",
    "        del dic[i]\n",
    "    for i in dic.keys():\n",
    "        x.append(np.array(dic[i].drop(['attackType'],axis = 1)).astype(np.float32))\n",
    "       # print(f'{i}')\n",
    "        y.append(dic[i]['attackType'].values[0])\n",
    "    print(len(y))\n",
    "    o = []\n",
    "    features = len(x[1][1])\n",
    "    #for i in x:\n",
    "     #   o.append(len(i))\n",
    "   # print(min(o))\n",
    "    o = num\n",
    "    o = roundup(o)\n",
    "    print(o)\n",
    "    index = 0\n",
    "    for i in x:\n",
    "        l = len(i)\n",
    "        i = list(i)\n",
    "        if(o > l):\n",
    "            l = o-l\n",
    "            for j in range(0, l, 1):\n",
    "                i.append([0] * features)\n",
    "        elif (o<l):\n",
    "            l = l-o\n",
    "            i = i[:-l]\n",
    "        #i = [k = np.array([k]) for l in i for k in l] # Makes array elements an array \n",
    "        x[index] = np.array(i).astype(np.float32)\n",
    "        index = index + 1\n",
    "    #x = [[i] for i in x]\n",
    "    return x,y"
   ]
  },
  {
   "cell_type": "code",
   "execution_count": 31,
   "metadata": {},
   "outputs": [
    {
     "name": "stdout",
     "output_type": "stream",
     "text": [
      "183\n",
      "19800\n"
     ]
    }
   ],
   "source": [
    "X,Y = make_array(grouped_data)\n",
    "del grouped_data\n",
    "gc.collect()\n",
    "Y = np.array(Y)\n",
    "X = np.array(X)"
   ]
  },
  {
   "cell_type": "code",
   "execution_count": 32,
   "metadata": {},
   "outputs": [
    {
     "data": {
      "text/plain": [
       "{0: 110, 1: 26, 3: 16, 4: 31}"
      ]
     },
     "execution_count": 32,
     "metadata": {},
     "output_type": "execute_result"
    }
   ],
   "source": [
    "unique, counts = np.unique(Y, return_counts=True)\n",
    "dict(zip(unique, counts))"
   ]
  },
  {
   "cell_type": "code",
   "execution_count": 33,
   "metadata": {},
   "outputs": [],
   "source": [
    "def make_4D(arr):\n",
    "    x = []\n",
    "    for i in range(0, len(arr),1):\n",
    "        temp = []\n",
    "        for j in range(0,len(arr[i]),1):\n",
    "             temp.append([np.array([k]) for k in arr[i][j]])\n",
    "        x.append(np.array(temp).astype(np.float32))\n",
    "    return np.array(x).astype(np.float32)"
   ]
  },
  {
   "cell_type": "code",
   "execution_count": 34,
   "metadata": {},
   "outputs": [],
   "source": [
    "#X = make_4D(X)"
   ]
  },
  {
   "cell_type": "code",
   "execution_count": 35,
   "metadata": {},
   "outputs": [],
   "source": [
    "from sklearn.model_selection import train_test_split\n",
    "from sklearn.tree import DecisionTreeClassifier\n",
    "X_train, X_test, Y_train, Y_test = train_test_split(X,Y , test_size=0.2, random_state=0,  stratify=Y)"
   ]
  },
  {
   "cell_type": "code",
   "execution_count": 36,
   "metadata": {},
   "outputs": [
    {
     "data": {
      "text/plain": [
       "100"
      ]
     },
     "execution_count": 36,
     "metadata": {},
     "output_type": "execute_result"
    }
   ],
   "source": [
    "del X,Y\n",
    "gc.collect()"
   ]
  },
  {
   "cell_type": "code",
   "execution_count": 37,
   "metadata": {},
   "outputs": [
    {
     "data": {
      "text/plain": [
       "{0: 88, 1: 21, 3: 13, 4: 24}"
      ]
     },
     "execution_count": 37,
     "metadata": {},
     "output_type": "execute_result"
    }
   ],
   "source": [
    "unique, counts = np.unique(Y_train, return_counts=True)\n",
    "dict(zip(unique, counts))"
   ]
  },
  {
   "cell_type": "code",
   "execution_count": 38,
   "metadata": {},
   "outputs": [
    {
     "data": {
      "text/plain": [
       "{0: 22, 1: 5, 3: 3, 4: 7}"
      ]
     },
     "execution_count": 38,
     "metadata": {},
     "output_type": "execute_result"
    }
   ],
   "source": [
    "unique, counts = np.unique(Y_test, return_counts=True)\n",
    "dict(zip(unique, counts))"
   ]
  },
  {
   "cell_type": "code",
   "execution_count": 39,
   "metadata": {},
   "outputs": [
    {
     "name": "stdout",
     "output_type": "stream",
     "text": [
      "False\n",
      "False\n",
      "False\n",
      "False\n",
      "False\n",
      "False\n",
      "False\n",
      "False\n",
      "False\n",
      "False\n",
      "False\n",
      "False\n",
      "False\n",
      "False\n",
      "False\n",
      "False\n",
      "False\n",
      "False\n",
      "False\n",
      "False\n",
      "False\n",
      "False\n",
      "False\n",
      "False\n",
      "False\n",
      "False\n",
      "False\n",
      "False\n",
      "False\n",
      "False\n",
      "False\n",
      "False\n",
      "False\n",
      "False\n",
      "False\n",
      "False\n",
      "False\n",
      "False\n",
      "False\n",
      "False\n",
      "False\n",
      "False\n",
      "False\n",
      "False\n",
      "False\n",
      "False\n",
      "False\n",
      "False\n",
      "False\n",
      "False\n",
      "False\n",
      "False\n",
      "False\n",
      "False\n",
      "False\n",
      "False\n",
      "False\n",
      "False\n",
      "False\n",
      "False\n",
      "False\n",
      "False\n",
      "False\n",
      "False\n",
      "False\n",
      "False\n",
      "False\n",
      "False\n",
      "False\n",
      "False\n",
      "False\n",
      "False\n",
      "False\n",
      "False\n",
      "False\n",
      "False\n",
      "False\n",
      "False\n",
      "False\n",
      "False\n",
      "False\n",
      "False\n",
      "False\n",
      "False\n",
      "False\n",
      "False\n",
      "False\n",
      "False\n",
      "False\n",
      "False\n",
      "False\n",
      "False\n",
      "False\n",
      "False\n",
      "False\n",
      "False\n",
      "False\n",
      "False\n",
      "False\n",
      "False\n",
      "False\n",
      "False\n",
      "False\n",
      "False\n",
      "False\n",
      "False\n",
      "False\n",
      "False\n",
      "False\n",
      "False\n",
      "False\n",
      "False\n",
      "False\n",
      "False\n",
      "False\n",
      "False\n",
      "False\n",
      "False\n",
      "False\n",
      "False\n",
      "False\n",
      "False\n",
      "False\n",
      "False\n",
      "False\n",
      "False\n",
      "False\n",
      "False\n",
      "False\n",
      "False\n",
      "False\n",
      "False\n",
      "False\n",
      "False\n",
      "False\n",
      "False\n",
      "False\n",
      "False\n",
      "False\n",
      "False\n",
      "False\n",
      "False\n",
      "False\n",
      "False\n",
      "False\n",
      "False\n"
     ]
    }
   ],
   "source": [
    "for i in X_train:\n",
    "    print(f'{np.isnan(i).any()}')"
   ]
  },
  {
   "cell_type": "code",
   "execution_count": 40,
   "metadata": {},
   "outputs": [],
   "source": [
    "import tensorflow as tf\n",
    "from tensorflow import keras\n",
    "from tensorflow.keras.layers import Embedding, Dense, LSTM, Dropout, Masking, Flatten, Input, Bidirectional, SimpleRNN\n",
    "from tensorflow.keras.losses import BinaryCrossentropy\n",
    "from tensorflow.keras.models import Sequential\n",
    "from tensorflow.keras.optimizers import Adam\n",
    "from tensorflow.keras.preprocessing.sequence import pad_sequences\n",
    "from keras.layers import Dense, Conv2D, MaxPooling1D, Dropout, Flatten, Conv1D, MaxPooling2D, BatchNormalization, LeakyReLU\n",
    "#from dbn.tensorflow import SupervisedDBNClassification\n",
    "from tensorflow.keras.models import Model"
   ]
  },
  {
   "cell_type": "code",
   "execution_count": 41,
   "metadata": {},
   "outputs": [
    {
     "name": "stdout",
     "output_type": "stream",
     "text": [
      "samples: 146 \n",
      " X:19800 \n",
      " Y:11 \n",
      " \n"
     ]
    }
   ],
   "source": [
    "nsamples,nx, ny = X_train.shape\n",
    "print(f\"samples: {nsamples} \\n X:{nx} \\n Y:{ny} \\n \" )"
   ]
  },
  {
   "cell_type": "code",
   "execution_count": 42,
   "metadata": {},
   "outputs": [
    {
     "data": {
      "text/plain": [
       "(19800, 11)"
      ]
     },
     "execution_count": 42,
     "metadata": {},
     "output_type": "execute_result"
    }
   ],
   "source": [
    "X_train.shape[1:]"
   ]
  },
  {
   "cell_type": "code",
   "execution_count": 43,
   "metadata": {},
   "outputs": [],
   "source": [
    "from keras.callbacks import EarlyStopping\n",
    "from keras.callbacks import ModelCheckpoint, LambdaCallback\n",
    "wie_by_epoch = []\n",
    "model_check = ModelCheckpoint(\"/models/Testpoints/best_model.hdf5\", monitor='loss', verbose=0, save_best_only=True, mode='min', save_freq=1)\n",
    "print_weights = LambdaCallback(on_epoch_end=lambda batch, logs:wie_by_epoch.append(model.get_weights()))\n",
    "callback = tf.keras.callbacks.EarlyStopping(monitor='loss', patience=7, verbose= 2)"
   ]
  },
  {
   "cell_type": "code",
   "execution_count": 44,
   "metadata": {},
   "outputs": [],
   "source": [
    "n_inputs = X_train.shape[1]"
   ]
  },
  {
   "cell_type": "code",
   "execution_count": 45,
   "metadata": {},
   "outputs": [],
   "source": [
    "# Build a model for only the feature extraction layers\n",
    "feature_extractor = Sequential()\n",
    "feature_extractor.add(SimpleRNN(64, activation='relu',input_shape=(nx,ny), stateful = False, return_sequences = True))\n",
    "feature_extractor.add(SimpleRNN(16, activation='relu',input_shape=(nx,ny), stateful = False, return_sequences = True))\n",
    "feature_extractor.add(Flatten())\n",
    "# Keep adding new layers for prediciton outside of feature extraction model\n",
    "x = feature_extractor.output\n",
    "#x = Dense(64, activation = 'relu')(x)\n",
    "prediction_layer = Dense(5, activation = 'softmax')(x)"
   ]
  },
  {
   "cell_type": "code",
   "execution_count": 46,
   "metadata": {},
   "outputs": [],
   "source": [
    "model=Model(inputs=feature_extractor.input, outputs=prediction_layer)\n",
    "model.compile(optimizer= 'rmsprop', loss='sparse_categorical_crossentropy',  metrics=[keras.metrics.SparseCategoricalAccuracy()])\n"
   ]
  },
  {
   "cell_type": "code",
   "execution_count": 47,
   "metadata": {},
   "outputs": [
    {
     "data": {
      "text/plain": [
       "4558"
      ]
     },
     "execution_count": 47,
     "metadata": {},
     "output_type": "execute_result"
    }
   ],
   "source": [
    "#del model, wie_by_epoch\n",
    "gc.collect()"
   ]
  },
  {
   "cell_type": "code",
   "execution_count": 48,
   "metadata": {},
   "outputs": [
    {
     "data": {
      "text/plain": [
       "(None, 5)"
      ]
     },
     "execution_count": 48,
     "metadata": {},
     "output_type": "execute_result"
    }
   ],
   "source": [
    "model.build(input_shape = (nx,ny))\n",
    "model.output_shape"
   ]
  },
  {
   "cell_type": "code",
   "execution_count": 49,
   "metadata": {
    "scrolled": true
   },
   "outputs": [
    {
     "data": {
      "image/png": "[encoded data removed]",
      "text/plain": [
       "<IPython.core.display.Image object>"
      ]
     },
     "execution_count": 49,
     "metadata": {},
     "output_type": "execute_result"
    }
   ],
   "source": [
    "from tensorflow.keras.utils import plot_model\n",
    "plot_model(model, show_shapes=True)"
   ]
  },
  {
   "cell_type": "code",
   "execution_count": 50,
   "metadata": {
    "scrolled": true
   },
   "outputs": [
    {
     "name": "stdout",
     "output_type": "stream",
     "text": [
      "Epoch 1/30\n",
      "5/5 - 511s - loss: 1.6680 - sparse_categorical_accuracy: 0.6644\n",
      "Epoch 2/30\n",
      "5/5 - 482s - loss: 0.2008 - sparse_categorical_accuracy: 0.9521\n",
      "Epoch 3/30\n",
      "5/5 - 504s - loss: 0.1488 - sparse_categorical_accuracy: 0.9658\n",
      "Epoch 4/30\n",
      "5/5 - 447s - loss: 0.0860 - sparse_categorical_accuracy: 0.9795\n",
      "Epoch 5/30\n",
      "5/5 - 180s - loss: 0.0549 - sparse_categorical_accuracy: 0.9795\n",
      "Epoch 6/30\n",
      "5/5 - 180s - loss: 0.0536 - sparse_categorical_accuracy: 0.9932\n",
      "Epoch 7/30\n",
      "5/5 - 340s - loss: 0.0389 - sparse_categorical_accuracy: 0.9932\n",
      "Epoch 8/30\n",
      "5/5 - 560s - loss: 0.0286 - sparse_categorical_accuracy: 0.9932\n",
      "Epoch 9/30\n",
      "5/5 - 462s - loss: 0.0249 - sparse_categorical_accuracy: 0.9932\n",
      "Epoch 10/30\n",
      "5/5 - 457s - loss: 0.0241 - sparse_categorical_accuracy: 0.9932\n",
      "Epoch 11/30\n",
      "5/5 - 454s - loss: 0.0144 - sparse_categorical_accuracy: 0.9932\n",
      "Epoch 12/30\n",
      "5/5 - 470s - loss: 0.0126 - sparse_categorical_accuracy: 0.9932\n",
      "Epoch 13/30\n",
      "5/5 - 460s - loss: 0.0109 - sparse_categorical_accuracy: 1.0000\n",
      "Epoch 14/30\n",
      "5/5 - 395s - loss: 0.0188 - sparse_categorical_accuracy: 0.9932\n",
      "Epoch 15/30\n",
      "5/5 - 195s - loss: 0.0049 - sparse_categorical_accuracy: 1.0000\n",
      "Epoch 16/30\n",
      "5/5 - 539s - loss: 0.0032 - sparse_categorical_accuracy: 1.0000\n",
      "Epoch 17/30\n",
      "5/5 - 533s - loss: 0.0015 - sparse_categorical_accuracy: 1.0000\n",
      "Epoch 18/30\n",
      "5/5 - 543s - loss: 0.0011 - sparse_categorical_accuracy: 1.0000\n",
      "Epoch 19/30\n",
      "5/5 - 546s - loss: 6.0332e-04 - sparse_categorical_accuracy: 1.0000\n",
      "Epoch 20/30\n",
      "5/5 - 565s - loss: 3.2824e-04 - sparse_categorical_accuracy: 1.0000\n",
      "Epoch 21/30\n",
      "5/5 - 515s - loss: 3.3278e-04 - sparse_categorical_accuracy: 1.0000\n",
      "Epoch 22/30\n",
      "5/5 - 282s - loss: 1.4496e-04 - sparse_categorical_accuracy: 1.0000\n",
      "Epoch 23/30\n",
      "5/5 - 192s - loss: 9.7068e-05 - sparse_categorical_accuracy: 1.0000\n",
      "Epoch 24/30\n",
      "5/5 - 192s - loss: 1.1476e-04 - sparse_categorical_accuracy: 1.0000\n",
      "Epoch 25/30\n",
      "5/5 - 222s - loss: 3.3296e-05 - sparse_categorical_accuracy: 1.0000\n",
      "Epoch 26/30\n",
      "5/5 - 522s - loss: 2.4897e-05 - sparse_categorical_accuracy: 1.0000\n",
      "Epoch 27/30\n",
      "5/5 - 333s - loss: 1.7621e-05 - sparse_categorical_accuracy: 1.0000\n",
      "Epoch 28/30\n",
      "5/5 - 305s - loss: 1.2129e-05 - sparse_categorical_accuracy: 1.0000\n",
      "Epoch 29/30\n",
      "5/5 - 393s - loss: 9.3420e-06 - sparse_categorical_accuracy: 1.0000\n",
      "Epoch 30/30\n",
      "5/5 - 345s - loss: 7.4005e-06 - sparse_categorical_accuracy: 1.0000\n"
     ]
    }
   ],
   "source": [
    "mod = model.fit(X_train,\n",
    "               Y_train, epochs=30, batch_size= 32, verbose=2 , \n",
    "                callbacks=[callback, print_weights, model_check])"
   ]
  },
  {
   "cell_type": "code",
   "execution_count": 51,
   "metadata": {},
   "outputs": [
    {
     "data": {
      "text/plain": [
       "30"
      ]
     },
     "execution_count": 51,
     "metadata": {},
     "output_type": "execute_result"
    }
   ],
   "source": [
    "len(wie_by_epoch)"
   ]
  },
  {
   "cell_type": "code",
   "execution_count": 52,
   "metadata": {},
   "outputs": [],
   "source": [
    "#mod.history.get('loss').index('nan')"
   ]
  },
  {
   "cell_type": "code",
   "execution_count": 53,
   "metadata": {},
   "outputs": [],
   "source": [
    "#120 +21\n",
    "#model.set_weights(wie_by_epoch[6])\n",
    "#mod.history.get('sparse_categorical_accuracy')"
   ]
  },
  {
   "cell_type": "code",
   "execution_count": 54,
   "metadata": {},
   "outputs": [
    {
     "name": "stdout",
     "output_type": "stream",
     "text": [
      "2/2 - 2s - loss: 0.2264 - sparse_categorical_accuracy: 0.9459\n"
     ]
    },
    {
     "data": {
      "text/plain": [
       "[0.22643548250198364, 0.9459459185600281]"
      ]
     },
     "execution_count": 54,
     "metadata": {},
     "output_type": "execute_result"
    }
   ],
   "source": [
    "scores = model.evaluate(X_test,Y_test, verbose=2)\n",
    "scores"
   ]
  },
  {
   "cell_type": "code",
   "execution_count": 55,
   "metadata": {},
   "outputs": [
    {
     "data": {
      "text/plain": [
       "{'loss': 0.22643548250198364,\n",
       " 'sparse_categorical_accuracy': 0.9459459185600281}"
      ]
     },
     "execution_count": 55,
     "metadata": {},
     "output_type": "execute_result"
    }
   ],
   "source": [
    "dict(zip(model.metrics_names, scores))"
   ]
  },
  {
   "cell_type": "code",
   "execution_count": 56,
   "metadata": {},
   "outputs": [
    {
     "data": {
      "image/png": "[encoded data removed]",
      "text/plain": [
       "<Figure size 432x288 with 2 Axes>"
      ]
     },
     "metadata": {
      "needs_background": "light"
     },
     "output_type": "display_data"
    }
   ],
   "source": [
    "from matplotlib import pyplot\n",
    "# plot loss during training\n",
    "pyplot.subplot(211)\n",
    "pyplot.title('Loss')\n",
    "pyplot.plot(mod.history['loss'], label='train')\n",
    "#pyplot.plot(mod.history['val_loss'], label='test')\n",
    "pyplot.legend()\n",
    "# plot accuracy during training\n",
    "pyplot.subplot(212)\n",
    "pyplot.title('Accuracy')\n",
    "pyplot.plot(mod.history['sparse_categorical_accuracy'], label='train')\n",
    "#pyplot.plot(mod.history['val_accuracy'], label='test')\n",
    "pyplot.legend()\n",
    "pyplot.show()"
   ]
  },
  {
   "cell_type": "code",
   "execution_count": 57,
   "metadata": {},
   "outputs": [],
   "source": [
    "# predict probabilities for test set\n",
    "yhat_probs = model.predict(X_test.astype('float32'), verbose=0)\n",
    "# predict crisp classes for test set\n",
    "#yhat_classes = model.predict_classes(X_test, verbose=0)\n",
    "yhat_classes = np.argmax(yhat_probs,axis=1)"
   ]
  },
  {
   "cell_type": "code",
   "execution_count": 58,
   "metadata": {},
   "outputs": [],
   "source": [
    "from sklearn.datasets import make_circles\n",
    "from sklearn.metrics import accuracy_score\n",
    "from sklearn.metrics import precision_score\n",
    "from sklearn.metrics import recall_score\n",
    "from sklearn.metrics import f1_score\n",
    "from sklearn.metrics import cohen_kappa_score\n",
    "from sklearn.metrics import roc_auc_score\n",
    "from sklearn.metrics import confusion_matrix\n",
    "from sklearn.metrics import roc_curve\n"
   ]
  },
  {
   "cell_type": "code",
   "execution_count": 59,
   "metadata": {},
   "outputs": [
    {
     "name": "stdout",
     "output_type": "stream",
     "text": [
      "Accuracy: 0.945946\n",
      "Precision: 0.939130\n",
      "Recall: 0.866667\n",
      "F1 score: 0.894444\n"
     ]
    }
   ],
   "source": [
    "# accuracy: (tp + tn) / (p + n)\n",
    "accuracy = accuracy_score(Y_test, yhat_classes)\n",
    "print('Accuracy: %f' % accuracy)\n",
    "# precision tp / (tp + fp)\n",
    "precision = precision_score(Y_test, yhat_classes, average='macro')\n",
    "print('Precision: %f' % precision)\n",
    "# recall: tp / (tp + fn)\n",
    "recall = recall_score(Y_test, yhat_classes,average='macro')\n",
    "print('Recall: %f' % recall)\n",
    "# f1: 2 tp / (2 tp + fp + fn)\n",
    "f1 = f1_score(Y_test, yhat_classes, average='macro')\n",
    "print('F1 score: %f' % f1)"
   ]
  },
  {
   "cell_type": "code",
   "execution_count": 60,
   "metadata": {},
   "outputs": [
    {
     "name": "stdout",
     "output_type": "stream",
     "text": [
      "Cohens kappa: 0.905492\n",
      "[[22  0  0  0]\n",
      " [ 1  4  0  0]\n",
      " [ 0  1  2  0]\n",
      " [ 0  0  0  7]]\n"
     ]
    }
   ],
   "source": [
    "# kappa\n",
    "kappa = cohen_kappa_score(Y_test, yhat_classes)\n",
    "print('Cohens kappa: %f' % kappa)\n",
    "# ROC AUC\n",
    "#fprate, tprate, thresholds = roc_curve(Y_test, yhat_probs, average = 'macro')\n",
    "#print('ROC AUC: %f' % thresholds)\n",
    "# confusion matrix\n",
    "matrix = confusion_matrix(Y_test, yhat_classes)\n",
    "print(matrix)"
   ]
  },
  {
   "cell_type": "code",
   "execution_count": 61,
   "metadata": {},
   "outputs": [
    {
     "name": "stderr",
     "output_type": "stream",
     "text": [
      "C:\\Users\\hp\\Anaconda3\\lib\\site-packages\\sklearn\\metrics\\ranking.py:659: UndefinedMetricWarning: No positive samples in y_true, true positive value should be meaningless\n",
      "  UndefinedMetricWarning)\n"
     ]
    }
   ],
   "source": [
    "fpr = {}\n",
    "tpr = {}\n",
    "thresh ={}\n",
    "\n",
    "n_class = 5\n",
    "\n",
    "for i in range(n_class):    \n",
    "    fpr[i], tpr[i], thresh[i] = roc_curve(Y_test, yhat_classes, pos_label=i)"
   ]
  },
  {
   "cell_type": "code",
   "execution_count": 62,
   "metadata": {},
   "outputs": [
    {
     "data": {
      "image/png": "[encoded data removed]",
      "text/plain": [
       "<Figure size 432x288 with 1 Axes>"
      ]
     },
     "metadata": {
      "needs_background": "light"
     },
     "output_type": "display_data"
    }
   ],
   "source": [
    "# plotting    \n",
    "plt.plot(fpr[0], tpr[0], linestyle='--',color='orange', label='Class 0 vs Rest')\n",
    "plt.plot(fpr[1], tpr[1], linestyle='--',color='green', label='Class 1 vs Rest')\n",
    "plt.plot(fpr[2], tpr[2], linestyle='--',color='blue', label='Class 2 vs Rest')\n",
    "plt.plot(fpr[3], tpr[3], linestyle='--',color='red', label='Class 3 vs Rest')\n",
    "plt.plot(fpr[4], tpr[4], linestyle='--',color='black', label='Class 4 vs Rest')\n",
    "plt.title('Multiclass ROC curve')\n",
    "plt.xlabel('False Positive Rate')\n",
    "plt.ylabel('True Positive rate')\n",
    "plt.legend(loc='best')\n",
    "plt.savefig('Multiclass ROC',dpi=300); "
   ]
  },
  {
   "cell_type": "code",
   "execution_count": 63,
   "metadata": {},
   "outputs": [
    {
     "name": "stdout",
     "output_type": "stream",
     "text": [
      "Confusion matrix : \n",
      " [[22  0  0  0]\n",
      " [ 1  4  0  0]\n",
      " [ 0  1  2  0]\n",
      " [ 0  0  0  7]]\n"
     ]
    }
   ],
   "source": [
    "from sklearn.metrics import confusion_matrix\n",
    "from sklearn.metrics import classification_report\n",
    "matrix = confusion_matrix(Y_test, yhat_classes, labels= [0, 1,3,4])\n",
    "print('Confusion matrix : \\n',matrix)"
   ]
  },
  {
   "cell_type": "code",
   "execution_count": 64,
   "metadata": {},
   "outputs": [
    {
     "name": "stdout",
     "output_type": "stream",
     "text": [
      "Classification report : \n",
      "               precision    recall  f1-score   support\n",
      "\n",
      "           0       0.96      1.00      0.98        22\n",
      "           1       0.80      0.80      0.80         5\n",
      "           3       1.00      0.67      0.80         3\n",
      "           4       1.00      1.00      1.00         7\n",
      "\n",
      "    accuracy                           0.95        37\n",
      "   macro avg       0.94      0.87      0.89        37\n",
      "weighted avg       0.95      0.95      0.94        37\n",
      "\n"
     ]
    }
   ],
   "source": [
    "matrix = classification_report(Y_test,yhat_classes, labels= [0, 1,3,4])\n",
    "print('Classification report : \\n',matrix)"
   ]
  },
  {
   "cell_type": "code",
   "execution_count": 65,
   "metadata": {},
   "outputs": [
    {
     "name": "stdout",
     "output_type": "stream",
     "text": [
      "INFO:tensorflow:Assets written to: ./models/IG feature selection/WithIP Top11/Multi-class/RNN-RNN\\assets\n"
     ]
    }
   ],
   "source": [
    "model.save('./models/IG feature selection/WithIP Top11/Multi-class/RNN-RNN')"
   ]
  },
  {
   "cell_type": "code",
   "execution_count": 66,
   "metadata": {},
   "outputs": [
    {
     "name": "stdout",
     "output_type": "stream",
     "text": [
      "INFO:tensorflow:Assets written to: ./models/IG feature selection/WithIP Top11/Multi-class/RNN-RNN-Shallow Model\\assets\n"
     ]
    }
   ],
   "source": [
    "model.save('./models/IG feature selection/WithIP Top11/Multi-class/RNN-RNN-Shallow Model')"
   ]
  },
  {
   "cell_type": "code",
   "execution_count": 67,
   "metadata": {},
   "outputs": [],
   "source": [
    "#Feature extracted from feature extractor part of deep learning model\n",
    "X_ext = feature_extractor.predict(X_train)"
   ]
  },
  {
   "cell_type": "code",
   "execution_count": 68,
   "metadata": {},
   "outputs": [
    {
     "name": "stdout",
     "output_type": "stream",
     "text": [
      "False\n",
      "False\n",
      "False\n",
      "False\n",
      "False\n",
      "False\n",
      "False\n",
      "False\n",
      "False\n",
      "False\n",
      "False\n",
      "False\n",
      "False\n",
      "False\n",
      "False\n",
      "False\n",
      "False\n",
      "False\n",
      "False\n",
      "False\n",
      "False\n",
      "False\n",
      "False\n",
      "False\n",
      "False\n",
      "False\n",
      "False\n",
      "False\n",
      "False\n",
      "False\n",
      "False\n",
      "False\n",
      "False\n",
      "False\n",
      "False\n",
      "False\n",
      "False\n",
      "False\n",
      "False\n",
      "False\n",
      "False\n",
      "False\n",
      "False\n",
      "False\n",
      "False\n",
      "False\n",
      "False\n",
      "False\n",
      "False\n",
      "False\n",
      "False\n",
      "False\n",
      "False\n",
      "False\n",
      "False\n",
      "False\n",
      "False\n",
      "False\n",
      "False\n",
      "False\n",
      "False\n",
      "False\n",
      "False\n",
      "False\n",
      "False\n",
      "False\n",
      "False\n",
      "False\n",
      "False\n",
      "False\n",
      "False\n",
      "False\n",
      "False\n",
      "False\n",
      "False\n",
      "False\n",
      "False\n",
      "False\n",
      "False\n",
      "False\n",
      "False\n",
      "False\n",
      "False\n",
      "False\n",
      "False\n",
      "False\n",
      "False\n",
      "False\n",
      "False\n",
      "False\n",
      "False\n",
      "False\n",
      "False\n",
      "False\n",
      "False\n",
      "False\n",
      "False\n",
      "False\n",
      "False\n",
      "False\n",
      "False\n",
      "False\n",
      "False\n",
      "False\n",
      "False\n",
      "False\n",
      "False\n",
      "False\n",
      "False\n",
      "False\n",
      "False\n",
      "False\n",
      "False\n",
      "False\n",
      "False\n",
      "False\n",
      "False\n",
      "False\n",
      "False\n",
      "False\n",
      "False\n",
      "False\n",
      "False\n",
      "False\n",
      "False\n",
      "False\n",
      "False\n",
      "False\n",
      "False\n",
      "False\n",
      "False\n",
      "False\n",
      "False\n",
      "False\n",
      "False\n",
      "False\n",
      "False\n",
      "False\n",
      "False\n",
      "False\n",
      "False\n",
      "False\n",
      "False\n",
      "False\n",
      "False\n",
      "False\n"
     ]
    }
   ],
   "source": [
    "for i in X_ext:\n",
    "    print(f'{np.isnan(i).any()}')"
   ]
  },
  {
   "cell_type": "code",
   "execution_count": 69,
   "metadata": {},
   "outputs": [],
   "source": [
    "X_ext_test = feature_extractor.predict(X_test)"
   ]
  },
  {
   "cell_type": "code",
   "execution_count": 85,
   "metadata": {},
   "outputs": [],
   "source": [
    "search_space = {\n",
    "    \"criterion\": (\"gini\", \"entropy\"),\n",
    "    \"max_leaf_nodes\": (2, 10, None),\n",
    "    \"max_depth\": (1, nx*ny),\n",
    "    \"min_samples_split\": (2, int(nsamples/4)),\n",
    "    \"min_samples_leaf\": (1,int(nsamples/4) ),\n",
    "    \"min_weight_fraction_leaf\": (0.01, 0.5),\n",
    "    \"max_features\": (\"auto\", \"sqrt\",\"log2\", None),\n",
    "    \"random_state\": (0,42)\n",
    "}"
   ]
  },
  {
   "cell_type": "code",
   "execution_count": 71,
   "metadata": {},
   "outputs": [],
   "source": [
    "from skopt import BayesSearchCV\n",
    "from sklearn.model_selection import StratifiedKFold\n",
    "from sklearn.tree import DecisionTreeClassifier\n",
    "from skopt.callbacks import DeadlineStopper # Stop the optimization before running out of a fixed budget of time.\n",
    "from skopt.callbacks import VerboseCallback # Callback to control the verbosity\n",
    "from skopt.callbacks import DeltaXStopper # Stop the optimization If the last two positions at which the objective has been evaluated are less than delta\n",
    "cv = StratifiedKFold(n_splits=7, shuffle=True)"
   ]
  },
  {
   "cell_type": "code",
   "execution_count": 72,
   "metadata": {},
   "outputs": [],
   "source": [
    "estimator = DecisionTreeClassifier()\n",
    "n_iterations = 50\n",
    "bayes_cv_tuner = BayesSearchCV(\n",
    "    estimator=estimator,\n",
    "    search_spaces=search_space,\n",
    "    scoring=\"accuracy\",\n",
    "    cv=cv,\n",
    "    n_jobs=-1,\n",
    "    n_iter=n_iterations,\n",
    "    verbose=0,\n",
    "    refit=True,\n",
    ")"
   ]
  },
  {
   "cell_type": "code",
   "execution_count": 73,
   "metadata": {},
   "outputs": [],
   "source": [
    "def print_status(optimal_result):\n",
    "    \"\"\"Shows the best parameters found and accuracy attained of the search so far.\"\"\"\n",
    "    models_tested = pd.DataFrame(bayes_cv_tuner.cv_results_)\n",
    "    best_parameters_so_far = pd.Series(bayes_cv_tuner.best_params_)\n",
    "    print(\n",
    "        \"Model #{}\\nBest accuracy so far: {}\\nBest parameters so far: {}\\n\".format(\n",
    "            len(models_tested),\n",
    "            np.round(bayes_cv_tuner.best_score_, 3),\n",
    "            bayes_cv_tuner.best_params_,\n",
    "        )\n",
    "    )"
   ]
  },
  {
   "cell_type": "code",
   "execution_count": 86,
   "metadata": {
    "scrolled": true
   },
   "outputs": [
    {
     "name": "stdout",
     "output_type": "stream",
     "text": [
      "Model #1\n",
      "Best accuracy so far: 0.664\n",
      "Best parameters so far: OrderedDict([('criterion', 'entropy'), ('max_depth', 215308), ('max_features', None), ('max_leaf_nodes', 2), ('min_samples_leaf', 3), ('min_samples_split', 7), ('min_weight_fraction_leaf', 0.3671804785575729), ('random_state', 20)])\n",
      "\n",
      "Model #2\n",
      "Best accuracy so far: 0.664\n",
      "Best parameters so far: OrderedDict([('criterion', 'entropy'), ('max_depth', 215308), ('max_features', None), ('max_leaf_nodes', 2), ('min_samples_leaf', 3), ('min_samples_split', 7), ('min_weight_fraction_leaf', 0.3671804785575729), ('random_state', 20)])\n",
      "\n",
      "Model #3\n",
      "Best accuracy so far: 0.664\n",
      "Best parameters so far: OrderedDict([('criterion', 'entropy'), ('max_depth', 215308), ('max_features', None), ('max_leaf_nodes', 2), ('min_samples_leaf', 3), ('min_samples_split', 7), ('min_weight_fraction_leaf', 0.3671804785575729), ('random_state', 20)])\n",
      "\n",
      "Model #4\n",
      "Best accuracy so far: 0.699\n",
      "Best parameters so far: OrderedDict([('criterion', 'gini'), ('max_depth', 165815), ('max_features', 'log2'), ('max_leaf_nodes', 10), ('min_samples_leaf', 16), ('min_samples_split', 35), ('min_weight_fraction_leaf', 0.1807841260640897), ('random_state', 27)])\n",
      "\n",
      "Model #5\n",
      "Best accuracy so far: 0.719\n",
      "Best parameters so far: OrderedDict([('criterion', 'gini'), ('max_depth', 132136), ('max_features', 'auto'), ('max_leaf_nodes', 10), ('min_samples_leaf', 12), ('min_samples_split', 13), ('min_weight_fraction_leaf', 0.2855936072999139), ('random_state', 2)])\n",
      "\n",
      "Model #6\n",
      "Best accuracy so far: 0.767\n",
      "Best parameters so far: OrderedDict([('criterion', 'gini'), ('max_depth', 55332), ('max_features', 'auto'), ('max_leaf_nodes', 10), ('min_samples_leaf', 18), ('min_samples_split', 33), ('min_weight_fraction_leaf', 0.21198121078638968), ('random_state', 1)])\n",
      "\n",
      "Model #7\n",
      "Best accuracy so far: 0.767\n",
      "Best parameters so far: OrderedDict([('criterion', 'gini'), ('max_depth', 55332), ('max_features', 'auto'), ('max_leaf_nodes', 10), ('min_samples_leaf', 18), ('min_samples_split', 33), ('min_weight_fraction_leaf', 0.21198121078638968), ('random_state', 1)])\n",
      "\n",
      "Model #8\n",
      "Best accuracy so far: 0.767\n",
      "Best parameters so far: OrderedDict([('criterion', 'gini'), ('max_depth', 55332), ('max_features', 'auto'), ('max_leaf_nodes', 10), ('min_samples_leaf', 18), ('min_samples_split', 33), ('min_weight_fraction_leaf', 0.21198121078638968), ('random_state', 1)])\n",
      "\n",
      "Model #9\n",
      "Best accuracy so far: 0.767\n",
      "Best parameters so far: OrderedDict([('criterion', 'gini'), ('max_depth', 55332), ('max_features', 'auto'), ('max_leaf_nodes', 10), ('min_samples_leaf', 18), ('min_samples_split', 33), ('min_weight_fraction_leaf', 0.21198121078638968), ('random_state', 1)])\n",
      "\n",
      "Model #10\n",
      "Best accuracy so far: 0.767\n",
      "Best parameters so far: OrderedDict([('criterion', 'gini'), ('max_depth', 55332), ('max_features', 'auto'), ('max_leaf_nodes', 10), ('min_samples_leaf', 18), ('min_samples_split', 33), ('min_weight_fraction_leaf', 0.21198121078638968), ('random_state', 1)])\n",
      "\n",
      "Model #11\n",
      "Best accuracy so far: 0.767\n",
      "Best parameters so far: OrderedDict([('criterion', 'gini'), ('max_depth', 55332), ('max_features', 'auto'), ('max_leaf_nodes', 10), ('min_samples_leaf', 18), ('min_samples_split', 33), ('min_weight_fraction_leaf', 0.21198121078638968), ('random_state', 1)])\n",
      "\n",
      "Model #12\n",
      "Best accuracy so far: 0.767\n",
      "Best parameters so far: OrderedDict([('criterion', 'gini'), ('max_depth', 55332), ('max_features', 'auto'), ('max_leaf_nodes', 10), ('min_samples_leaf', 18), ('min_samples_split', 33), ('min_weight_fraction_leaf', 0.21198121078638968), ('random_state', 1)])\n",
      "\n",
      "Model #13\n",
      "Best accuracy so far: 0.767\n",
      "Best parameters so far: OrderedDict([('criterion', 'gini'), ('max_depth', 55332), ('max_features', 'auto'), ('max_leaf_nodes', 10), ('min_samples_leaf', 18), ('min_samples_split', 33), ('min_weight_fraction_leaf', 0.21198121078638968), ('random_state', 1)])\n",
      "\n",
      "Model #14\n",
      "Best accuracy so far: 0.767\n",
      "Best parameters so far: OrderedDict([('criterion', 'gini'), ('max_depth', 55332), ('max_features', 'auto'), ('max_leaf_nodes', 10), ('min_samples_leaf', 18), ('min_samples_split', 33), ('min_weight_fraction_leaf', 0.21198121078638968), ('random_state', 1)])\n",
      "\n",
      "Model #15\n",
      "Best accuracy so far: 0.767\n",
      "Best parameters so far: OrderedDict([('criterion', 'gini'), ('max_depth', 55332), ('max_features', 'auto'), ('max_leaf_nodes', 10), ('min_samples_leaf', 18), ('min_samples_split', 33), ('min_weight_fraction_leaf', 0.21198121078638968), ('random_state', 1)])\n",
      "\n",
      "Model #16\n",
      "Best accuracy so far: 0.767\n",
      "Best parameters so far: OrderedDict([('criterion', 'gini'), ('max_depth', 55332), ('max_features', 'auto'), ('max_leaf_nodes', 10), ('min_samples_leaf', 18), ('min_samples_split', 33), ('min_weight_fraction_leaf', 0.21198121078638968), ('random_state', 1)])\n",
      "\n",
      "Model #17\n",
      "Best accuracy so far: 0.767\n",
      "Best parameters so far: OrderedDict([('criterion', 'gini'), ('max_depth', 55332), ('max_features', 'auto'), ('max_leaf_nodes', 10), ('min_samples_leaf', 18), ('min_samples_split', 33), ('min_weight_fraction_leaf', 0.21198121078638968), ('random_state', 1)])\n",
      "\n",
      "Model #18\n",
      "Best accuracy so far: 0.767\n",
      "Best parameters so far: OrderedDict([('criterion', 'gini'), ('max_depth', 55332), ('max_features', 'auto'), ('max_leaf_nodes', 10), ('min_samples_leaf', 18), ('min_samples_split', 33), ('min_weight_fraction_leaf', 0.21198121078638968), ('random_state', 1)])\n",
      "\n",
      "Model #19\n",
      "Best accuracy so far: 0.767\n",
      "Best parameters so far: OrderedDict([('criterion', 'gini'), ('max_depth', 55332), ('max_features', 'auto'), ('max_leaf_nodes', 10), ('min_samples_leaf', 18), ('min_samples_split', 33), ('min_weight_fraction_leaf', 0.21198121078638968), ('random_state', 1)])\n",
      "\n",
      "Model #20\n",
      "Best accuracy so far: 0.767\n",
      "Best parameters so far: OrderedDict([('criterion', 'gini'), ('max_depth', 55332), ('max_features', 'auto'), ('max_leaf_nodes', 10), ('min_samples_leaf', 18), ('min_samples_split', 33), ('min_weight_fraction_leaf', 0.21198121078638968), ('random_state', 1)])\n",
      "\n",
      "Model #21\n",
      "Best accuracy so far: 0.767\n",
      "Best parameters so far: OrderedDict([('criterion', 'gini'), ('max_depth', 55332), ('max_features', 'auto'), ('max_leaf_nodes', 10), ('min_samples_leaf', 18), ('min_samples_split', 33), ('min_weight_fraction_leaf', 0.21198121078638968), ('random_state', 1)])\n",
      "\n",
      "Model #22\n",
      "Best accuracy so far: 0.767\n",
      "Best parameters so far: OrderedDict([('criterion', 'gini'), ('max_depth', 55332), ('max_features', 'auto'), ('max_leaf_nodes', 10), ('min_samples_leaf', 18), ('min_samples_split', 33), ('min_weight_fraction_leaf', 0.21198121078638968), ('random_state', 1)])\n",
      "\n",
      "Model #23\n",
      "Best accuracy so far: 0.767\n",
      "Best parameters so far: OrderedDict([('criterion', 'gini'), ('max_depth', 55332), ('max_features', 'auto'), ('max_leaf_nodes', 10), ('min_samples_leaf', 18), ('min_samples_split', 33), ('min_weight_fraction_leaf', 0.21198121078638968), ('random_state', 1)])\n",
      "\n",
      "Model #24\n",
      "Best accuracy so far: 0.767\n",
      "Best parameters so far: OrderedDict([('criterion', 'gini'), ('max_depth', 55332), ('max_features', 'auto'), ('max_leaf_nodes', 10), ('min_samples_leaf', 18), ('min_samples_split', 33), ('min_weight_fraction_leaf', 0.21198121078638968), ('random_state', 1)])\n",
      "\n",
      "Model #25\n",
      "Best accuracy so far: 0.904\n",
      "Best parameters so far: OrderedDict([('criterion', 'entropy'), ('max_depth', 217800), ('max_features', 'auto'), ('max_leaf_nodes', None), ('min_samples_leaf', 1), ('min_samples_split', 2), ('min_weight_fraction_leaf', 0.01), ('random_state', 0)])\n",
      "\n",
      "Model #26\n",
      "Best accuracy so far: 0.904\n",
      "Best parameters so far: OrderedDict([('criterion', 'entropy'), ('max_depth', 217800), ('max_features', 'auto'), ('max_leaf_nodes', None), ('min_samples_leaf', 1), ('min_samples_split', 2), ('min_weight_fraction_leaf', 0.01), ('random_state', 0)])\n",
      "\n",
      "Model #27\n",
      "Best accuracy so far: 0.904\n",
      "Best parameters so far: OrderedDict([('criterion', 'entropy'), ('max_depth', 217800), ('max_features', 'auto'), ('max_leaf_nodes', None), ('min_samples_leaf', 1), ('min_samples_split', 2), ('min_weight_fraction_leaf', 0.01), ('random_state', 0)])\n",
      "\n",
      "Model #28\n",
      "Best accuracy so far: 0.904\n",
      "Best parameters so far: OrderedDict([('criterion', 'entropy'), ('max_depth', 217800), ('max_features', 'auto'), ('max_leaf_nodes', None), ('min_samples_leaf', 1), ('min_samples_split', 2), ('min_weight_fraction_leaf', 0.01), ('random_state', 0)])\n",
      "\n"
     ]
    },
    {
     "name": "stdout",
     "output_type": "stream",
     "text": [
      "Model #29\n",
      "Best accuracy so far: 0.904\n",
      "Best parameters so far: OrderedDict([('criterion', 'entropy'), ('max_depth', 217800), ('max_features', 'auto'), ('max_leaf_nodes', None), ('min_samples_leaf', 1), ('min_samples_split', 2), ('min_weight_fraction_leaf', 0.01), ('random_state', 0)])\n",
      "\n",
      "Model #30\n",
      "Best accuracy so far: 0.904\n",
      "Best parameters so far: OrderedDict([('criterion', 'entropy'), ('max_depth', 217800), ('max_features', 'auto'), ('max_leaf_nodes', None), ('min_samples_leaf', 1), ('min_samples_split', 2), ('min_weight_fraction_leaf', 0.01), ('random_state', 0)])\n",
      "\n",
      "Model #31\n",
      "Best accuracy so far: 0.904\n",
      "Best parameters so far: OrderedDict([('criterion', 'entropy'), ('max_depth', 217800), ('max_features', 'auto'), ('max_leaf_nodes', None), ('min_samples_leaf', 1), ('min_samples_split', 2), ('min_weight_fraction_leaf', 0.01), ('random_state', 0)])\n",
      "\n",
      "Model #32\n",
      "Best accuracy so far: 0.904\n",
      "Best parameters so far: OrderedDict([('criterion', 'entropy'), ('max_depth', 217800), ('max_features', 'auto'), ('max_leaf_nodes', None), ('min_samples_leaf', 1), ('min_samples_split', 2), ('min_weight_fraction_leaf', 0.01), ('random_state', 0)])\n",
      "\n",
      "Model #33\n",
      "Best accuracy so far: 0.904\n",
      "Best parameters so far: OrderedDict([('criterion', 'entropy'), ('max_depth', 217800), ('max_features', 'auto'), ('max_leaf_nodes', None), ('min_samples_leaf', 1), ('min_samples_split', 2), ('min_weight_fraction_leaf', 0.01), ('random_state', 0)])\n",
      "\n",
      "Model #34\n",
      "Best accuracy so far: 0.911\n",
      "Best parameters so far: OrderedDict([('criterion', 'entropy'), ('max_depth', 217800), ('max_features', 'auto'), ('max_leaf_nodes', 10), ('min_samples_leaf', 12), ('min_samples_split', 2), ('min_weight_fraction_leaf', 0.04418143547156373), ('random_state', 0)])\n",
      "\n",
      "Model #35\n",
      "Best accuracy so far: 0.911\n",
      "Best parameters so far: OrderedDict([('criterion', 'entropy'), ('max_depth', 217800), ('max_features', 'auto'), ('max_leaf_nodes', 10), ('min_samples_leaf', 12), ('min_samples_split', 2), ('min_weight_fraction_leaf', 0.04418143547156373), ('random_state', 0)])\n",
      "\n",
      "Model #36\n",
      "Best accuracy so far: 0.925\n",
      "Best parameters so far: OrderedDict([('criterion', 'entropy'), ('max_depth', 217800), ('max_features', 'auto'), ('max_leaf_nodes', 10), ('min_samples_leaf', 7), ('min_samples_split', 2), ('min_weight_fraction_leaf', 0.02755458310225333), ('random_state', 0)])\n",
      "\n",
      "Model #37\n",
      "Best accuracy so far: 0.925\n",
      "Best parameters so far: OrderedDict([('criterion', 'entropy'), ('max_depth', 217800), ('max_features', 'auto'), ('max_leaf_nodes', 10), ('min_samples_leaf', 7), ('min_samples_split', 2), ('min_weight_fraction_leaf', 0.02755458310225333), ('random_state', 0)])\n",
      "\n",
      "Model #38\n",
      "Best accuracy so far: 0.925\n",
      "Best parameters so far: OrderedDict([('criterion', 'entropy'), ('max_depth', 217800), ('max_features', 'auto'), ('max_leaf_nodes', 10), ('min_samples_leaf', 7), ('min_samples_split', 2), ('min_weight_fraction_leaf', 0.02755458310225333), ('random_state', 0)])\n",
      "\n",
      "Model #39\n",
      "Best accuracy so far: 0.925\n",
      "Best parameters so far: OrderedDict([('criterion', 'entropy'), ('max_depth', 217800), ('max_features', 'auto'), ('max_leaf_nodes', 10), ('min_samples_leaf', 7), ('min_samples_split', 2), ('min_weight_fraction_leaf', 0.02755458310225333), ('random_state', 0)])\n",
      "\n",
      "Model #40\n",
      "Best accuracy so far: 0.925\n",
      "Best parameters so far: OrderedDict([('criterion', 'entropy'), ('max_depth', 217800), ('max_features', 'auto'), ('max_leaf_nodes', 10), ('min_samples_leaf', 7), ('min_samples_split', 2), ('min_weight_fraction_leaf', 0.02755458310225333), ('random_state', 0)])\n",
      "\n",
      "Model #41\n",
      "Best accuracy so far: 0.925\n",
      "Best parameters so far: OrderedDict([('criterion', 'entropy'), ('max_depth', 217800), ('max_features', 'auto'), ('max_leaf_nodes', 10), ('min_samples_leaf', 7), ('min_samples_split', 2), ('min_weight_fraction_leaf', 0.02755458310225333), ('random_state', 0)])\n",
      "\n",
      "Model #42\n",
      "Best accuracy so far: 0.925\n",
      "Best parameters so far: OrderedDict([('criterion', 'entropy'), ('max_depth', 217800), ('max_features', 'auto'), ('max_leaf_nodes', 10), ('min_samples_leaf', 7), ('min_samples_split', 2), ('min_weight_fraction_leaf', 0.02755458310225333), ('random_state', 0)])\n",
      "\n",
      "Model #43\n",
      "Best accuracy so far: 0.925\n",
      "Best parameters so far: OrderedDict([('criterion', 'entropy'), ('max_depth', 217800), ('max_features', 'auto'), ('max_leaf_nodes', 10), ('min_samples_leaf', 7), ('min_samples_split', 2), ('min_weight_fraction_leaf', 0.02755458310225333), ('random_state', 0)])\n",
      "\n",
      "Model #44\n",
      "Best accuracy so far: 0.925\n",
      "Best parameters so far: OrderedDict([('criterion', 'entropy'), ('max_depth', 217800), ('max_features', 'auto'), ('max_leaf_nodes', 10), ('min_samples_leaf', 7), ('min_samples_split', 2), ('min_weight_fraction_leaf', 0.02755458310225333), ('random_state', 0)])\n",
      "\n",
      "Model #45\n",
      "Best accuracy so far: 0.925\n",
      "Best parameters so far: OrderedDict([('criterion', 'entropy'), ('max_depth', 217800), ('max_features', 'auto'), ('max_leaf_nodes', 10), ('min_samples_leaf', 7), ('min_samples_split', 2), ('min_weight_fraction_leaf', 0.02755458310225333), ('random_state', 0)])\n",
      "\n",
      "Model #46\n",
      "Best accuracy so far: 0.925\n",
      "Best parameters so far: OrderedDict([('criterion', 'entropy'), ('max_depth', 217800), ('max_features', 'auto'), ('max_leaf_nodes', 10), ('min_samples_leaf', 7), ('min_samples_split', 2), ('min_weight_fraction_leaf', 0.02755458310225333), ('random_state', 0)])\n",
      "\n",
      "Model #47\n",
      "Best accuracy so far: 0.925\n",
      "Best parameters so far: OrderedDict([('criterion', 'entropy'), ('max_depth', 217800), ('max_features', 'auto'), ('max_leaf_nodes', 10), ('min_samples_leaf', 7), ('min_samples_split', 2), ('min_weight_fraction_leaf', 0.02755458310225333), ('random_state', 0)])\n",
      "\n",
      "Model #48\n",
      "Best accuracy so far: 0.925\n",
      "Best parameters so far: OrderedDict([('criterion', 'entropy'), ('max_depth', 217800), ('max_features', 'auto'), ('max_leaf_nodes', 10), ('min_samples_leaf', 7), ('min_samples_split', 2), ('min_weight_fraction_leaf', 0.02755458310225333), ('random_state', 0)])\n",
      "\n",
      "Model #49\n",
      "Best accuracy so far: 0.925\n",
      "Best parameters so far: OrderedDict([('criterion', 'entropy'), ('max_depth', 217800), ('max_features', 'auto'), ('max_leaf_nodes', 10), ('min_samples_leaf', 7), ('min_samples_split', 2), ('min_weight_fraction_leaf', 0.02755458310225333), ('random_state', 0)])\n",
      "\n",
      "Model #50\n",
      "Best accuracy so far: 0.925\n",
      "Best parameters so far: OrderedDict([('criterion', 'entropy'), ('max_depth', 217800), ('max_features', 'auto'), ('max_leaf_nodes', 10), ('min_samples_leaf', 7), ('min_samples_split', 2), ('min_weight_fraction_leaf', 0.02755458310225333), ('random_state', 0)])\n",
      "\n"
     ]
    }
   ],
   "source": [
    "result_dtc = bayes_cv_tuner.fit(X_ext, Y_train, callback=[print_status, DeltaXStopper(0.0001)])"
   ]
  },
  {
   "cell_type": "code",
   "execution_count": 87,
   "metadata": {},
   "outputs": [],
   "source": [
    "model_dtc = DecisionTreeClassifier(\n",
    "    criterion = result_dtc.best_params_['criterion'],\n",
    "     max_leaf_nodes =  result_dtc.best_params_['max_leaf_nodes'],\n",
    "       max_depth = result_dtc.best_params_['max_depth'],\n",
    "    min_samples_split = result_dtc.best_params_['min_samples_split'],\n",
    "    min_samples_leaf = result_dtc.best_params_['min_samples_leaf'],\n",
    "    min_weight_fraction_leaf = result_dtc.best_params_['min_weight_fraction_leaf'],\n",
    "    max_features = result_dtc.best_params_['max_features'],\n",
    "    random_state = result_dtc.best_params_['random_state'],\n",
    "\n",
    "\n",
    "    )"
   ]
  },
  {
   "cell_type": "code",
   "execution_count": 88,
   "metadata": {},
   "outputs": [
    {
     "data": {
      "text/plain": [
       "DecisionTreeClassifier(class_weight=None, criterion='entropy', max_depth=217800,\n",
       "                       max_features='auto', max_leaf_nodes=10,\n",
       "                       min_impurity_decrease=0.0, min_impurity_split=None,\n",
       "                       min_samples_leaf=7, min_samples_split=2,\n",
       "                       min_weight_fraction_leaf=0.02755458310225333,\n",
       "                       presort=False, random_state=0, splitter='best')"
      ]
     },
     "execution_count": 88,
     "metadata": {},
     "output_type": "execute_result"
    }
   ],
   "source": [
    "model_dtc.fit(X_ext, Y_train)"
   ]
  },
  {
   "cell_type": "code",
   "execution_count": 89,
   "metadata": {},
   "outputs": [],
   "source": [
    "# predict probabilities for test set\n",
    "yhat_probs = model_dtc.predict(X_ext_test)\n",
    "# predict crisp classes for test set\n",
    "#yhat_classes = model.predict_classes(X_test, verbose=0)\n",
    "yhat_classes = yhat_probs# np.argmax(yhat_probs,axis=1)"
   ]
  },
  {
   "cell_type": "code",
   "execution_count": 90,
   "metadata": {},
   "outputs": [
    {
     "name": "stdout",
     "output_type": "stream",
     "text": [
      "Accuracy: 0.918919\n",
      "Precision: 0.897321\n",
      "Recall: 0.821970\n",
      "F1 score: 0.810853\n"
     ]
    }
   ],
   "source": [
    "# accuracy: (tp + tn) / (p + n)\n",
    "accuracy = accuracy_score(Y_test, yhat_classes)\n",
    "print('Accuracy: %f' % accuracy)\n",
    "# precision tp / (tp + fp)\n",
    "precision = precision_score(Y_test, yhat_classes, average='macro')\n",
    "print('Precision: %f' % precision)\n",
    "# recall: tp / (tp + fn)\n",
    "recall = recall_score(Y_test, yhat_classes,average='macro')\n",
    "print('Recall: %f' % recall)\n",
    "# f1: 2 tp / (2 tp + fp + fn)\n",
    "f1 = f1_score(Y_test, yhat_classes, average='macro')\n",
    "print('F1 score: %f' % f1)"
   ]
  },
  {
   "cell_type": "code",
   "execution_count": 91,
   "metadata": {},
   "outputs": [
    {
     "name": "stdout",
     "output_type": "stream",
     "text": [
      "Cohens kappa: 0.863469\n",
      "[[21  0  0  1]\n",
      " [ 0  5  0  0]\n",
      " [ 0  2  1  0]\n",
      " [ 0  0  0  7]]\n"
     ]
    }
   ],
   "source": [
    "# kappa\n",
    "kappa = cohen_kappa_score(Y_test, yhat_classes)\n",
    "print('Cohens kappa: %f' % kappa)\n",
    "# ROC AUC\n",
    "#fprate, tprate, thresholds = roc_curve(Y_test, yhat_probs, average = 'macro')\n",
    "#print('ROC AUC: %f' % thresholds)\n",
    "# confusion matrix\n",
    "matrix = confusion_matrix(Y_test, yhat_classes)\n",
    "print(matrix)"
   ]
  },
  {
   "cell_type": "code",
   "execution_count": 92,
   "metadata": {},
   "outputs": [
    {
     "name": "stderr",
     "output_type": "stream",
     "text": [
      "C:\\Users\\hp\\Anaconda3\\lib\\site-packages\\sklearn\\metrics\\ranking.py:659: UndefinedMetricWarning: No positive samples in y_true, true positive value should be meaningless\n",
      "  UndefinedMetricWarning)\n"
     ]
    }
   ],
   "source": [
    "fpr = {}\n",
    "tpr = {}\n",
    "thresh ={}\n",
    "\n",
    "n_class = 5\n",
    "\n",
    "for i in range(n_class):    \n",
    "    fpr[i], tpr[i], thresh[i] = roc_curve(Y_test, yhat_classes, pos_label=i)"
   ]
  },
  {
   "cell_type": "code",
   "execution_count": 101,
   "metadata": {},
   "outputs": [
    {
     "data": {
      "image/png": "[encoded data removed]",
      "text/plain": [
       "<Figure size 432x288 with 1 Axes>"
      ]
     },
     "metadata": {
      "needs_background": "light"
     },
     "output_type": "display_data"
    }
   ],
   "source": [
    "# plotting    \n",
    "plt.plot(fpr[0], tpr[0], linestyle='--',color='orange', label='Class 0 vs Rest')\n",
    "plt.plot(fpr[1], tpr[1], linestyle='--',color='green', label='Class 1 vs Rest')\n",
    "plt.plot(fpr[2], tpr[2], linestyle='--',color='blue', label='Class 2 vs Rest')\n",
    "plt.plot(fpr[3], tpr[3], linestyle='--',color='red', label='Class 3 vs Rest')\n",
    "plt.plot(fpr[4], tpr[4], linestyle='--',color='black', label='Class 4 vs Rest')\n",
    "plt.title('Multiclass ROC curve')\n",
    "plt.xlabel('False Positive Rate')\n",
    "plt.ylabel('True Positive rate')\n",
    "plt.legend(loc='best')\n",
    "plt.savefig('Multiclass ROC',dpi=300); "
   ]
  },
  {
   "cell_type": "code",
   "execution_count": 94,
   "metadata": {},
   "outputs": [
    {
     "name": "stdout",
     "output_type": "stream",
     "text": [
      "Confusion matrix : \n",
      " [[21  0  0  1]\n",
      " [ 0  5  0  0]\n",
      " [ 0  2  1  0]\n",
      " [ 0  0  0  7]]\n"
     ]
    }
   ],
   "source": [
    "matrix = confusion_matrix(Y_test, yhat_classes, labels= [0, 1, 3, 4])\n",
    "print('Confusion matrix : \\n',matrix)"
   ]
  },
  {
   "cell_type": "code",
   "execution_count": 95,
   "metadata": {},
   "outputs": [
    {
     "name": "stdout",
     "output_type": "stream",
     "text": [
      "Classification report : \n",
      "               precision    recall  f1-score   support\n",
      "\n",
      "           0       1.00      0.95      0.98        22\n",
      "           1       0.71      1.00      0.83         5\n",
      "           3       1.00      0.33      0.50         3\n",
      "           4       0.88      1.00      0.93         7\n",
      "\n",
      "    accuracy                           0.92        37\n",
      "   macro avg       0.90      0.82      0.81        37\n",
      "weighted avg       0.94      0.92      0.91        37\n",
      "\n"
     ]
    }
   ],
   "source": [
    "matrix = classification_report(Y_test,yhat_classes, labels= [0, 1, 3, 4])\n",
    "print('Classification report : \\n',matrix)"
   ]
  },
  {
   "cell_type": "code",
   "execution_count": 96,
   "metadata": {},
   "outputs": [
    {
     "data": {
      "text/plain": [
       "4193"
      ]
     },
     "execution_count": 96,
     "metadata": {},
     "output_type": "execute_result"
    }
   ],
   "source": [
    "import pickle\n",
    "filename = './models/IG feature selection/WithIP Top11/Multi-class/RNN-RNN-Shallow Model/DT-model.sav'\n",
    "pickle.dump(model_dtc, open(filename, 'wb'))\n",
    "gc.collect()"
   ]
  },
  {
   "cell_type": "code",
   "execution_count": 97,
   "metadata": {},
   "outputs": [],
   "source": [
    "from skopt.space import Real, Categorical, Integer\n",
    "search_space = {\n",
    "    \"C\": Real(1e-6, 1e+6, prior='log-uniform'),\n",
    "    \"gamma\": Real(1e-6, 1e+1, prior='log-uniform'),\n",
    "    \"kernel\": Categorical(['linear', 'rbf']),\n",
    "}"
   ]
  },
  {
   "cell_type": "code",
   "execution_count": 98,
   "metadata": {},
   "outputs": [],
   "source": [
    "from sklearn import svm\n",
    "from sklearn.metrics import make_scorer\n",
    "from sklearn.metrics import accuracy_score, recall_score, precision_score, f1_score\n",
    "\n",
    "scorers = {\n",
    " #   'precision_score': make_scorer(precision_score),\n",
    "#    'recall_score': make_scorer(recall_score),\n",
    "#    'accuracy_score': make_scorer(accuracy_score),\n",
    "    'f1_score':make_scorer(f1_score)\n",
    "}\n",
    "estimator = svm.SVC()\n",
    "n_iterations = 50\n",
    "bayes_cv_tuner = BayesSearchCV(\n",
    "    estimator=estimator,\n",
    "    search_spaces=search_space,\n",
    "    scoring=\"accuracy\",\n",
    "    cv=cv,\n",
    "    n_jobs=-1,\n",
    "    n_iter=n_iterations,\n",
    "    verbose=0,\n",
    "    refit=True,\n",
    ")"
   ]
  },
  {
   "cell_type": "code",
   "execution_count": 99,
   "metadata": {
    "scrolled": true
   },
   "outputs": [
    {
     "name": "stdout",
     "output_type": "stream",
     "text": [
      "Model #1\n",
      "Best accuracy so far: 0.678\n",
      "Best parameters so far: OrderedDict([('C', 27142.281338263165), ('gamma', 0.023580968385386553), ('kernel', 'rbf')])\n",
      "\n",
      "Model #2\n",
      "Best accuracy so far: 0.678\n",
      "Best parameters so far: OrderedDict([('C', 27142.281338263165), ('gamma', 0.023580968385386553), ('kernel', 'rbf')])\n",
      "\n",
      "Model #3\n",
      "Best accuracy so far: 0.822\n",
      "Best parameters so far: OrderedDict([('C', 347.8933692936221), ('gamma', 0.0010964689539477088), ('kernel', 'rbf')])\n",
      "\n",
      "Model #4\n",
      "Best accuracy so far: 0.822\n",
      "Best parameters so far: OrderedDict([('C', 347.8933692936221), ('gamma', 0.0010964689539477088), ('kernel', 'rbf')])\n",
      "\n",
      "Model #5\n",
      "Best accuracy so far: 0.932\n",
      "Best parameters so far: OrderedDict([('C', 123.73418702516591), ('gamma', 3.2986632778070484), ('kernel', 'linear')])\n",
      "\n",
      "Model #6\n",
      "Best accuracy so far: 0.932\n",
      "Best parameters so far: OrderedDict([('C', 123.73418702516591), ('gamma', 3.2986632778070484), ('kernel', 'linear')])\n",
      "\n",
      "Model #7\n",
      "Best accuracy so far: 0.966\n",
      "Best parameters so far: OrderedDict([('C', 1194.8356051774588), ('gamma', 1.0064777733178862e-05), ('kernel', 'linear')])\n",
      "\n",
      "Model #8\n",
      "Best accuracy so far: 0.966\n",
      "Best parameters so far: OrderedDict([('C', 1194.8356051774588), ('gamma', 1.0064777733178862e-05), ('kernel', 'linear')])\n",
      "\n",
      "Model #9\n",
      "Best accuracy so far: 0.966\n",
      "Best parameters so far: OrderedDict([('C', 1194.8356051774588), ('gamma', 1.0064777733178862e-05), ('kernel', 'linear')])\n",
      "\n",
      "Model #10\n",
      "Best accuracy so far: 0.966\n",
      "Best parameters so far: OrderedDict([('C', 1194.8356051774588), ('gamma', 1.0064777733178862e-05), ('kernel', 'linear')])\n",
      "\n",
      "Model #11\n",
      "Best accuracy so far: 0.966\n",
      "Best parameters so far: OrderedDict([('C', 1194.8356051774588), ('gamma', 1.0064777733178862e-05), ('kernel', 'linear')])\n",
      "\n",
      "Model #12\n",
      "Best accuracy so far: 0.966\n",
      "Best parameters so far: OrderedDict([('C', 1194.8356051774588), ('gamma', 1.0064777733178862e-05), ('kernel', 'linear')])\n",
      "\n",
      "Model #13\n",
      "Best accuracy so far: 0.966\n",
      "Best parameters so far: OrderedDict([('C', 1194.8356051774588), ('gamma', 1.0064777733178862e-05), ('kernel', 'linear')])\n",
      "\n",
      "Model #14\n",
      "Best accuracy so far: 0.979\n",
      "Best parameters so far: OrderedDict([('C', 24058.57780616456), ('gamma', 2.021033193016015e-05), ('kernel', 'linear')])\n",
      "\n",
      "Model #15\n",
      "Best accuracy so far: 0.979\n",
      "Best parameters so far: OrderedDict([('C', 24058.57780616456), ('gamma', 2.021033193016015e-05), ('kernel', 'linear')])\n",
      "\n",
      "Model #16\n",
      "Best accuracy so far: 0.979\n",
      "Best parameters so far: OrderedDict([('C', 24058.57780616456), ('gamma', 2.021033193016015e-05), ('kernel', 'linear')])\n",
      "\n",
      "Model #17\n",
      "Best accuracy so far: 0.979\n",
      "Best parameters so far: OrderedDict([('C', 24058.57780616456), ('gamma', 2.021033193016015e-05), ('kernel', 'linear')])\n",
      "\n",
      "Model #18\n",
      "Best accuracy so far: 0.979\n",
      "Best parameters so far: OrderedDict([('C', 24058.57780616456), ('gamma', 2.021033193016015e-05), ('kernel', 'linear')])\n",
      "\n",
      "Model #19\n",
      "Best accuracy so far: 0.979\n",
      "Best parameters so far: OrderedDict([('C', 24058.57780616456), ('gamma', 2.021033193016015e-05), ('kernel', 'linear')])\n",
      "\n",
      "Model #20\n",
      "Best accuracy so far: 0.979\n",
      "Best parameters so far: OrderedDict([('C', 24058.57780616456), ('gamma', 2.021033193016015e-05), ('kernel', 'linear')])\n",
      "\n",
      "Model #21\n",
      "Best accuracy so far: 0.979\n",
      "Best parameters so far: OrderedDict([('C', 24058.57780616456), ('gamma', 2.021033193016015e-05), ('kernel', 'linear')])\n",
      "\n",
      "Model #22\n",
      "Best accuracy so far: 0.979\n",
      "Best parameters so far: OrderedDict([('C', 24058.57780616456), ('gamma', 2.021033193016015e-05), ('kernel', 'linear')])\n",
      "\n",
      "Model #23\n",
      "Best accuracy so far: 0.979\n",
      "Best parameters so far: OrderedDict([('C', 24058.57780616456), ('gamma', 2.021033193016015e-05), ('kernel', 'linear')])\n",
      "\n",
      "Model #24\n",
      "Best accuracy so far: 0.979\n",
      "Best parameters so far: OrderedDict([('C', 24058.57780616456), ('gamma', 2.021033193016015e-05), ('kernel', 'linear')])\n",
      "\n",
      "Model #25\n",
      "Best accuracy so far: 0.979\n",
      "Best parameters so far: OrderedDict([('C', 24058.57780616456), ('gamma', 2.021033193016015e-05), ('kernel', 'linear')])\n",
      "\n",
      "Model #26\n",
      "Best accuracy so far: 0.979\n",
      "Best parameters so far: OrderedDict([('C', 24058.57780616456), ('gamma', 2.021033193016015e-05), ('kernel', 'linear')])\n",
      "\n",
      "Model #27\n",
      "Best accuracy so far: 0.979\n",
      "Best parameters so far: OrderedDict([('C', 24058.57780616456), ('gamma', 2.021033193016015e-05), ('kernel', 'linear')])\n",
      "\n",
      "Model #28\n",
      "Best accuracy so far: 0.979\n",
      "Best parameters so far: OrderedDict([('C', 24058.57780616456), ('gamma', 2.021033193016015e-05), ('kernel', 'linear')])\n",
      "\n",
      "Model #29\n",
      "Best accuracy so far: 0.979\n",
      "Best parameters so far: OrderedDict([('C', 24058.57780616456), ('gamma', 2.021033193016015e-05), ('kernel', 'linear')])\n",
      "\n",
      "Model #30\n",
      "Best accuracy so far: 0.979\n",
      "Best parameters so far: OrderedDict([('C', 24058.57780616456), ('gamma', 2.021033193016015e-05), ('kernel', 'linear')])\n",
      "\n",
      "Model #31\n",
      "Best accuracy so far: 0.979\n",
      "Best parameters so far: OrderedDict([('C', 24058.57780616456), ('gamma', 2.021033193016015e-05), ('kernel', 'linear')])\n",
      "\n",
      "Model #32\n",
      "Best accuracy so far: 0.979\n",
      "Best parameters so far: OrderedDict([('C', 24058.57780616456), ('gamma', 2.021033193016015e-05), ('kernel', 'linear')])\n",
      "\n",
      "Model #33\n",
      "Best accuracy so far: 0.979\n",
      "Best parameters so far: OrderedDict([('C', 24058.57780616456), ('gamma', 2.021033193016015e-05), ('kernel', 'linear')])\n",
      "\n",
      "Model #34\n",
      "Best accuracy so far: 0.979\n",
      "Best parameters so far: OrderedDict([('C', 24058.57780616456), ('gamma', 2.021033193016015e-05), ('kernel', 'linear')])\n",
      "\n",
      "Model #35\n",
      "Best accuracy so far: 0.979\n",
      "Best parameters so far: OrderedDict([('C', 24058.57780616456), ('gamma', 2.021033193016015e-05), ('kernel', 'linear')])\n",
      "\n",
      "Model #36\n",
      "Best accuracy so far: 0.979\n",
      "Best parameters so far: OrderedDict([('C', 24058.57780616456), ('gamma', 2.021033193016015e-05), ('kernel', 'linear')])\n",
      "\n",
      "Model #37\n",
      "Best accuracy so far: 0.979\n",
      "Best parameters so far: OrderedDict([('C', 24058.57780616456), ('gamma', 2.021033193016015e-05), ('kernel', 'linear')])\n",
      "\n",
      "Model #38\n",
      "Best accuracy so far: 0.979\n",
      "Best parameters so far: OrderedDict([('C', 24058.57780616456), ('gamma', 2.021033193016015e-05), ('kernel', 'linear')])\n",
      "\n",
      "Model #39\n",
      "Best accuracy so far: 0.979\n",
      "Best parameters so far: OrderedDict([('C', 24058.57780616456), ('gamma', 2.021033193016015e-05), ('kernel', 'linear')])\n",
      "\n",
      "Model #40\n",
      "Best accuracy so far: 0.979\n",
      "Best parameters so far: OrderedDict([('C', 24058.57780616456), ('gamma', 2.021033193016015e-05), ('kernel', 'linear')])\n",
      "\n",
      "Model #41\n",
      "Best accuracy so far: 0.979\n",
      "Best parameters so far: OrderedDict([('C', 24058.57780616456), ('gamma', 2.021033193016015e-05), ('kernel', 'linear')])\n",
      "\n",
      "Model #42\n",
      "Best accuracy so far: 0.979\n",
      "Best parameters so far: OrderedDict([('C', 24058.57780616456), ('gamma', 2.021033193016015e-05), ('kernel', 'linear')])\n",
      "\n",
      "Model #43\n",
      "Best accuracy so far: 0.979\n",
      "Best parameters so far: OrderedDict([('C', 24058.57780616456), ('gamma', 2.021033193016015e-05), ('kernel', 'linear')])\n",
      "\n",
      "Model #44\n",
      "Best accuracy so far: 0.979\n",
      "Best parameters so far: OrderedDict([('C', 24058.57780616456), ('gamma', 2.021033193016015e-05), ('kernel', 'linear')])\n",
      "\n",
      "Model #45\n",
      "Best accuracy so far: 0.979\n",
      "Best parameters so far: OrderedDict([('C', 24058.57780616456), ('gamma', 2.021033193016015e-05), ('kernel', 'linear')])\n",
      "\n",
      "Model #46\n",
      "Best accuracy so far: 0.979\n",
      "Best parameters so far: OrderedDict([('C', 24058.57780616456), ('gamma', 2.021033193016015e-05), ('kernel', 'linear')])\n",
      "\n",
      "Model #47\n",
      "Best accuracy so far: 0.979\n",
      "Best parameters so far: OrderedDict([('C', 24058.57780616456), ('gamma', 2.021033193016015e-05), ('kernel', 'linear')])\n",
      "\n",
      "Model #48\n",
      "Best accuracy so far: 0.979\n",
      "Best parameters so far: OrderedDict([('C', 24058.57780616456), ('gamma', 2.021033193016015e-05), ('kernel', 'linear')])\n",
      "\n",
      "Model #49\n",
      "Best accuracy so far: 0.979\n",
      "Best parameters so far: OrderedDict([('C', 24058.57780616456), ('gamma', 2.021033193016015e-05), ('kernel', 'linear')])\n",
      "\n",
      "Model #50\n",
      "Best accuracy so far: 0.979\n",
      "Best parameters so far: OrderedDict([('C', 24058.57780616456), ('gamma', 2.021033193016015e-05), ('kernel', 'linear')])\n",
      "\n"
     ]
    }
   ],
   "source": [
    "result_svm = bayes_cv_tuner.fit(X_ext, Y_train, callback= [DeltaXStopper(0.0001), \n",
    "                                     print_status])\n"
   ]
  },
  {
   "cell_type": "code",
   "execution_count": 100,
   "metadata": {},
   "outputs": [
    {
     "data": {
      "text/plain": [
       "SVC(C=24058.57780616456, cache_size=200, class_weight=None, coef0=0.0,\n",
       "    decision_function_shape='ovr', degree=3, gamma=2.021033193016015e-05,\n",
       "    kernel='linear', max_iter=-1, probability=False, random_state=None,\n",
       "    shrinking=True, tol=0.001, verbose=False)"
      ]
     },
     "execution_count": 100,
     "metadata": {},
     "output_type": "execute_result"
    }
   ],
   "source": [
    "#Create a svm Classifier\n",
    "clf = svm.SVC(kernel= result_svm.best_params_['kernel'], C = result_svm.best_params_['C'], gamma = result_svm.best_params_['gamma'])\n",
    "\n",
    "#Train the model using the training sets\n",
    "clf.fit(X_ext, Y_train)"
   ]
  },
  {
   "cell_type": "code",
   "execution_count": 102,
   "metadata": {},
   "outputs": [],
   "source": [
    "# predict probabilities for test set\n",
    "yhat_probs = clf.predict(X_ext_test)\n",
    "# predict crisp classes for test set\n",
    "#yhat_classes = model.predict_classes(X_test, verbose=0)\n",
    "yhat_classes = yhat_probs# np.argmax(yhat_probs,axis=1)"
   ]
  },
  {
   "cell_type": "code",
   "execution_count": 103,
   "metadata": {},
   "outputs": [],
   "source": [
    "from sklearn.datasets import make_circles\n",
    "from sklearn.metrics import accuracy_score\n",
    "from sklearn.metrics import precision_score\n",
    "from sklearn.metrics import recall_score\n",
    "from sklearn.metrics import f1_score\n",
    "from sklearn.metrics import cohen_kappa_score\n",
    "from sklearn.metrics import roc_auc_score\n",
    "from sklearn.metrics import confusion_matrix\n",
    "from sklearn.metrics import roc_curve\n"
   ]
  },
  {
   "cell_type": "code",
   "execution_count": 104,
   "metadata": {},
   "outputs": [
    {
     "name": "stdout",
     "output_type": "stream",
     "text": [
      "Accuracy: 0.945946\n",
      "Precision: 0.939130\n",
      "Recall: 0.866667\n",
      "F1 score: 0.894444\n"
     ]
    }
   ],
   "source": [
    "# accuracy: (tp + tn) / (p + n)\n",
    "accuracy = accuracy_score(Y_test, yhat_classes)\n",
    "print('Accuracy: %f' % accuracy)\n",
    "# precision tp / (tp + fp)\n",
    "precision = precision_score(Y_test, yhat_classes, average='macro')\n",
    "print('Precision: %f' % precision)\n",
    "# recall: tp / (tp + fn)\n",
    "recall = recall_score(Y_test, yhat_classes,average='macro')\n",
    "print('Recall: %f' % recall)\n",
    "# f1: 2 tp / (2 tp + fp + fn)\n",
    "f1 = f1_score(Y_test, yhat_classes, average='macro')\n",
    "print('F1 score: %f' % f1)"
   ]
  },
  {
   "cell_type": "code",
   "execution_count": 105,
   "metadata": {},
   "outputs": [
    {
     "name": "stdout",
     "output_type": "stream",
     "text": [
      "Cohens kappa: 0.905492\n",
      "[[22  0  0  0]\n",
      " [ 1  4  0  0]\n",
      " [ 0  1  2  0]\n",
      " [ 0  0  0  7]]\n"
     ]
    }
   ],
   "source": [
    "# kappa\n",
    "kappa = cohen_kappa_score(Y_test, yhat_classes)\n",
    "print('Cohens kappa: %f' % kappa)\n",
    "# ROC AUC\n",
    "#fprate, tprate, thresholds = roc_curve(Y_test, yhat_probs, average = 'macro')\n",
    "#print('ROC AUC: %f' % thresholds)\n",
    "# confusion matrix\n",
    "matrix = confusion_matrix(Y_test, yhat_classes)\n",
    "print(matrix)"
   ]
  },
  {
   "cell_type": "code",
   "execution_count": 106,
   "metadata": {},
   "outputs": [
    {
     "name": "stderr",
     "output_type": "stream",
     "text": [
      "C:\\Users\\hp\\Anaconda3\\lib\\site-packages\\sklearn\\metrics\\ranking.py:659: UndefinedMetricWarning: No positive samples in y_true, true positive value should be meaningless\n",
      "  UndefinedMetricWarning)\n"
     ]
    }
   ],
   "source": [
    "fpr = {}\n",
    "tpr = {}\n",
    "thresh ={}\n",
    "\n",
    "n_class = 5\n",
    "\n",
    "for i in range(n_class):    \n",
    "    fpr[i], tpr[i], thresh[i] = roc_curve(Y_test, yhat_classes, pos_label=i)"
   ]
  },
  {
   "cell_type": "code",
   "execution_count": 107,
   "metadata": {},
   "outputs": [
    {
     "data": {
      "image/png": "[encoded data removed]",
      "text/plain": [
       "<Figure size 432x288 with 1 Axes>"
      ]
     },
     "metadata": {
      "needs_background": "light"
     },
     "output_type": "display_data"
    }
   ],
   "source": [
    "# plotting    \n",
    "plt.plot(fpr[0], tpr[0], linestyle='--',color='orange', label='Class 0 vs Rest')\n",
    "plt.plot(fpr[1], tpr[1], linestyle='--',color='green', label='Class 1 vs Rest')\n",
    "plt.plot(fpr[2], tpr[2], linestyle='--',color='blue', label='Class 2 vs Rest')\n",
    "plt.plot(fpr[3], tpr[3], linestyle='--',color='red', label='Class 3 vs Rest')\n",
    "plt.plot(fpr[4], tpr[4], linestyle='--',color='black', label='Class 4 vs Rest')\n",
    "plt.title('Multiclass ROC curve')\n",
    "plt.xlabel('False Positive Rate')\n",
    "plt.ylabel('True Positive rate')\n",
    "plt.legend(loc='best')\n",
    "plt.savefig('Multiclass ROC',dpi=300); "
   ]
  },
  {
   "cell_type": "code",
   "execution_count": 108,
   "metadata": {},
   "outputs": [
    {
     "name": "stdout",
     "output_type": "stream",
     "text": [
      "Confusion matrix : \n",
      " [[22  0  0  0]\n",
      " [ 1  4  0  0]\n",
      " [ 0  1  2  0]\n",
      " [ 0  0  0  7]]\n"
     ]
    }
   ],
   "source": [
    "matrix = confusion_matrix(Y_test,yhat_classes, labels= [0, 1, 3, 4])\n",
    "print('Confusion matrix : \\n',matrix)"
   ]
  },
  {
   "cell_type": "code",
   "execution_count": 109,
   "metadata": {},
   "outputs": [
    {
     "name": "stdout",
     "output_type": "stream",
     "text": [
      "Classification report : \n",
      "               precision    recall  f1-score   support\n",
      "\n",
      "           0       0.96      1.00      0.98        22\n",
      "           1       0.80      0.80      0.80         5\n",
      "           3       1.00      0.67      0.80         3\n",
      "           4       1.00      1.00      1.00         7\n",
      "\n",
      "    accuracy                           0.95        37\n",
      "   macro avg       0.94      0.87      0.89        37\n",
      "weighted avg       0.95      0.95      0.94        37\n",
      "\n"
     ]
    }
   ],
   "source": [
    "matrix = classification_report(Y_test,yhat_classes, labels= [0, 1, 3, 4])\n",
    "print('Classification report : \\n',matrix)"
   ]
  },
  {
   "cell_type": "code",
   "execution_count": 110,
   "metadata": {},
   "outputs": [
    {
     "data": {
      "text/plain": [
       "7817"
      ]
     },
     "execution_count": 110,
     "metadata": {},
     "output_type": "execute_result"
    }
   ],
   "source": [
    "import pickle\n",
    "filename = './models/IG feature selection/WithIP Top11/Multi-class/RNN-RNN-Shallow Model/SVM-model.sav'\n",
    "pickle.dump(clf, open(filename, 'wb'))\n",
    "gc.collect()"
   ]
  },
  {
   "cell_type": "code",
   "execution_count": 111,
   "metadata": {},
   "outputs": [],
   "source": [
    "#ALong KNN model"
   ]
  },
  {
   "cell_type": "code",
   "execution_count": 112,
   "metadata": {},
   "outputs": [],
   "source": [
    "search_space = {\n",
    "    'n_neighbors' : [5,7,9,11,13,15],\n",
    "    'weights' : ['uniform','distance'],\n",
    "    'metric' : ['minkowski','euclidean','manhattan']\n",
    "}"
   ]
  },
  {
   "cell_type": "code",
   "execution_count": 113,
   "metadata": {},
   "outputs": [],
   "source": [
    "from sklearn.neighbors import KNeighborsClassifier\n",
    "estimator = KNeighborsClassifier()\n",
    "n_iterations = 50\n",
    "bayes_cv_tuner = BayesSearchCV(\n",
    "    estimator=estimator,\n",
    "    search_spaces=search_space,\n",
    "    scoring=\"accuracy\",\n",
    "    cv=cv,\n",
    "    n_jobs=-1,\n",
    "    n_iter=n_iterations,\n",
    "    verbose=0,\n",
    "    refit=True,\n",
    ")"
   ]
  },
  {
   "cell_type": "code",
   "execution_count": 114,
   "metadata": {
    "scrolled": true
   },
   "outputs": [
    {
     "name": "stdout",
     "output_type": "stream",
     "text": [
      "Model #1\n",
      "Best accuracy so far: 0.938\n",
      "Best parameters so far: OrderedDict([('metric', 'euclidean'), ('n_neighbors', 7), ('weights', 'uniform')])\n",
      "\n",
      "Model #2\n",
      "Best accuracy so far: 0.938\n",
      "Best parameters so far: OrderedDict([('metric', 'euclidean'), ('n_neighbors', 7), ('weights', 'uniform')])\n",
      "\n",
      "Model #3\n",
      "Best accuracy so far: 0.938\n",
      "Best parameters so far: OrderedDict([('metric', 'euclidean'), ('n_neighbors', 7), ('weights', 'uniform')])\n",
      "\n",
      "Model #4\n",
      "Best accuracy so far: 0.938\n",
      "Best parameters so far: OrderedDict([('metric', 'euclidean'), ('n_neighbors', 7), ('weights', 'uniform')])\n",
      "\n",
      "Model #5\n",
      "Best accuracy so far: 0.959\n",
      "Best parameters so far: OrderedDict([('metric', 'minkowski'), ('n_neighbors', 9), ('weights', 'distance')])\n",
      "\n",
      "Model #6\n",
      "Best accuracy so far: 0.959\n",
      "Best parameters so far: OrderedDict([('metric', 'minkowski'), ('n_neighbors', 9), ('weights', 'distance')])\n",
      "\n",
      "Model #7\n",
      "Best accuracy so far: 0.959\n",
      "Best parameters so far: OrderedDict([('metric', 'minkowski'), ('n_neighbors', 9), ('weights', 'distance')])\n",
      "\n",
      "Model #8\n",
      "Best accuracy so far: 0.966\n",
      "Best parameters so far: OrderedDict([('metric', 'euclidean'), ('n_neighbors', 5), ('weights', 'uniform')])\n",
      "\n",
      "Model #9\n",
      "Best accuracy so far: 0.973\n",
      "Best parameters so far: OrderedDict([('metric', 'minkowski'), ('n_neighbors', 9), ('weights', 'distance')])\n",
      "\n",
      "Model #10\n",
      "Best accuracy so far: 0.973\n",
      "Best parameters so far: OrderedDict([('metric', 'minkowski'), ('n_neighbors', 9), ('weights', 'distance')])\n",
      "\n",
      "Model #11\n",
      "Best accuracy so far: 0.973\n",
      "Best parameters so far: OrderedDict([('metric', 'minkowski'), ('n_neighbors', 9), ('weights', 'distance')])\n",
      "\n",
      "Model #12\n",
      "Best accuracy so far: 0.973\n",
      "Best parameters so far: OrderedDict([('metric', 'minkowski'), ('n_neighbors', 9), ('weights', 'distance')])\n",
      "\n",
      "Model #13\n",
      "Best accuracy so far: 0.973\n",
      "Best parameters so far: OrderedDict([('metric', 'minkowski'), ('n_neighbors', 9), ('weights', 'distance')])\n",
      "\n"
     ]
    },
    {
     "name": "stderr",
     "output_type": "stream",
     "text": [
      "C:\\Users\\hp\\Anaconda3\\lib\\site-packages\\skopt\\optimizer\\optimizer.py:449: UserWarning: The objective has been evaluated at this point before.\n",
      "  warnings.warn(\"The objective has been evaluated \"\n"
     ]
    },
    {
     "name": "stdout",
     "output_type": "stream",
     "text": [
      "Model #14\n",
      "Best accuracy so far: 0.973\n",
      "Best parameters so far: OrderedDict([('metric', 'minkowski'), ('n_neighbors', 9), ('weights', 'distance')])\n",
      "\n"
     ]
    }
   ],
   "source": [
    "result_knn = bayes_cv_tuner.fit(X_ext, Y_train, callback= [DeltaXStopper(0.0001), \n",
    "                                     print_status])\n"
   ]
  },
  {
   "cell_type": "code",
   "execution_count": 115,
   "metadata": {},
   "outputs": [],
   "source": [
    "model_KNN = KNeighborsClassifier(\n",
    "    n_neighbors = result_knn.best_params_['n_neighbors'],\n",
    "     weights =  result_knn.best_params_['weights'],\n",
    "       metric = result_knn.best_params_['metric']\n",
    "    )"
   ]
  },
  {
   "cell_type": "code",
   "execution_count": 116,
   "metadata": {},
   "outputs": [
    {
     "data": {
      "text/plain": [
       "KNeighborsClassifier(algorithm='auto', leaf_size=30, metric='minkowski',\n",
       "                     metric_params=None, n_jobs=None, n_neighbors=9, p=2,\n",
       "                     weights='distance')"
      ]
     },
     "execution_count": 116,
     "metadata": {},
     "output_type": "execute_result"
    }
   ],
   "source": [
    "model_KNN.fit(X_ext, Y_train)"
   ]
  },
  {
   "cell_type": "code",
   "execution_count": 117,
   "metadata": {},
   "outputs": [],
   "source": [
    "# predict probabilities for test set\n",
    "yhat_probs = model_KNN.predict(X_ext_test)\n",
    "# predict crisp classes for test set\n",
    "#yhat_classes = model.predict_classes(X_test, verbose=0)\n",
    "yhat_classes = yhat_probs# np.argmax(yhat_probs,axis=1)"
   ]
  },
  {
   "cell_type": "code",
   "execution_count": 118,
   "metadata": {},
   "outputs": [
    {
     "name": "stdout",
     "output_type": "stream",
     "text": [
      "Accuracy: 0.945946\n",
      "Precision: 0.875000\n",
      "Recall: 0.880952\n",
      "F1 score: 0.874709\n"
     ]
    }
   ],
   "source": [
    "# accuracy: (tp + tn) / (p + n)\n",
    "accuracy = accuracy_score(Y_test, yhat_classes)\n",
    "print('Accuracy: %f' % accuracy)\n",
    "# precision tp / (tp + fp)\n",
    "precision = precision_score(Y_test, yhat_classes, average='macro')\n",
    "print('Precision: %f' % precision)\n",
    "# recall: tp / (tp + fn)\n",
    "recall = recall_score(Y_test, yhat_classes,average='macro')\n",
    "print('Recall: %f' % recall)\n",
    "# f1: 2 tp / (2 tp + fp + fn)\n",
    "f1 = f1_score(Y_test, yhat_classes, average='macro')\n",
    "print('F1 score: %f' % f1)"
   ]
  },
  {
   "cell_type": "code",
   "execution_count": 119,
   "metadata": {},
   "outputs": [
    {
     "name": "stdout",
     "output_type": "stream",
     "text": [
      "Cohens kappa: 0.907960\n",
      "[[22  0  0  0]\n",
      " [ 0  5  0  0]\n",
      " [ 0  1  2  0]\n",
      " [ 0  0  1  6]]\n"
     ]
    }
   ],
   "source": [
    "# kappa\n",
    "kappa = cohen_kappa_score(Y_test, yhat_classes)\n",
    "print('Cohens kappa: %f' % kappa)\n",
    "# ROC AUC\n",
    "#fprate, tprate, thresholds = roc_curve(Y_test, yhat_probs, average = 'macro')\n",
    "#print('ROC AUC: %f' % thresholds)\n",
    "# confusion matrix\n",
    "matrix = confusion_matrix(Y_test, yhat_classes)\n",
    "print(matrix)"
   ]
  },
  {
   "cell_type": "code",
   "execution_count": 120,
   "metadata": {},
   "outputs": [
    {
     "name": "stderr",
     "output_type": "stream",
     "text": [
      "C:\\Users\\hp\\Anaconda3\\lib\\site-packages\\sklearn\\metrics\\ranking.py:659: UndefinedMetricWarning: No positive samples in y_true, true positive value should be meaningless\n",
      "  UndefinedMetricWarning)\n"
     ]
    }
   ],
   "source": [
    "fpr = {}\n",
    "tpr = {}\n",
    "thresh ={}\n",
    "\n",
    "n_class = 5\n",
    "\n",
    "for i in range(n_class):    \n",
    "    fpr[i], tpr[i], thresh[i] = roc_curve(Y_test, yhat_classes, pos_label=i)"
   ]
  },
  {
   "cell_type": "code",
   "execution_count": 121,
   "metadata": {},
   "outputs": [
    {
     "data": {
      "image/png": "[encoded data removed]",
      "text/plain": [
       "<Figure size 432x288 with 1 Axes>"
      ]
     },
     "metadata": {
      "needs_background": "light"
     },
     "output_type": "display_data"
    }
   ],
   "source": [
    "# plotting    \n",
    "plt.plot(fpr[0], tpr[0], linestyle='--',color='orange', label='Class 0 vs Rest')\n",
    "plt.plot(fpr[1], tpr[1], linestyle='--',color='green', label='Class 1 vs Rest')\n",
    "plt.plot(fpr[2], tpr[2], linestyle='--',color='blue', label='Class 2 vs Rest')\n",
    "plt.plot(fpr[3], tpr[3], linestyle='--',color='red', label='Class 3 vs Rest')\n",
    "plt.plot(fpr[4], tpr[4], linestyle='--',color='black', label='Class 4 vs Rest')\n",
    "plt.title('Multiclass ROC curve')\n",
    "plt.xlabel('False Positive Rate')\n",
    "plt.ylabel('True Positive rate')\n",
    "plt.legend(loc='best')\n",
    "plt.savefig('Multiclass ROC',dpi=300); "
   ]
  },
  {
   "cell_type": "code",
   "execution_count": 122,
   "metadata": {},
   "outputs": [
    {
     "name": "stdout",
     "output_type": "stream",
     "text": [
      "Confusion matrix : \n",
      " [[22  0  0  0]\n",
      " [ 0  5  0  0]\n",
      " [ 0  1  2  0]\n",
      " [ 0  0  1  6]]\n"
     ]
    }
   ],
   "source": [
    "matrix = confusion_matrix(Y_test,yhat_classes, labels= [0, 1, 3, 4])\n",
    "print('Confusion matrix : \\n',matrix)"
   ]
  },
  {
   "cell_type": "code",
   "execution_count": 123,
   "metadata": {},
   "outputs": [
    {
     "name": "stdout",
     "output_type": "stream",
     "text": [
      "Classification report : \n",
      "               precision    recall  f1-score   support\n",
      "\n",
      "           0       1.00      1.00      1.00        22\n",
      "           1       0.83      1.00      0.91         5\n",
      "           3       0.67      0.67      0.67         3\n",
      "           4       1.00      0.86      0.92         7\n",
      "\n",
      "    accuracy                           0.95        37\n",
      "   macro avg       0.88      0.88      0.87        37\n",
      "weighted avg       0.95      0.95      0.95        37\n",
      "\n"
     ]
    }
   ],
   "source": [
    "matrix = classification_report(Y_test,yhat_classes, labels= [0, 1, 3, 4])\n",
    "print('Classification report : \\n',matrix)"
   ]
  },
  {
   "cell_type": "code",
   "execution_count": 124,
   "metadata": {},
   "outputs": [
    {
     "data": {
      "text/plain": [
       "4669"
      ]
     },
     "execution_count": 124,
     "metadata": {},
     "output_type": "execute_result"
    }
   ],
   "source": [
    "import pickle\n",
    "filename = './models/IG feature selection/WithIP Top11/Multi-class/RNN-RNN-Shallow Model/KNN-model.sav'\n",
    "pickle.dump(model_KNN, open(filename, 'wb'))\n",
    "gc.collect()"
   ]
  },
  {
   "cell_type": "code",
   "execution_count": 125,
   "metadata": {},
   "outputs": [],
   "source": [
    "from sklearn.ensemble import RandomForestClassifier\n",
    "search_space = {\"n_estimators\": (10, 1000),\n",
    "                  \"max_depth\": (1, 150),\n",
    "                  \"min_samples_split\": (2, 10)}\n",
    "estimator = RandomForestClassifier()\n",
    "n_iterations = 50\n",
    "bayes_cv_tuner = BayesSearchCV(\n",
    "    estimator=estimator,\n",
    "    search_spaces=search_space,\n",
    "    scoring=\"accuracy\",\n",
    "    cv=cv,\n",
    "    n_jobs=-1,\n",
    "    n_iter=n_iterations,\n",
    "    verbose=0,\n",
    "    refit=True,\n",
    ")\n",
    "\n",
    "  "
   ]
  },
  {
   "cell_type": "code",
   "execution_count": 126,
   "metadata": {
    "scrolled": true
   },
   "outputs": [
    {
     "name": "stdout",
     "output_type": "stream",
     "text": [
      "Model #1\n",
      "Best accuracy so far: 0.966\n",
      "Best parameters so far: OrderedDict([('max_depth', 42), ('min_samples_split', 7), ('n_estimators', 129)])\n",
      "\n",
      "Model #2\n",
      "Best accuracy so far: 0.966\n",
      "Best parameters so far: OrderedDict([('max_depth', 42), ('min_samples_split', 7), ('n_estimators', 129)])\n",
      "\n",
      "Model #3\n",
      "Best accuracy so far: 0.973\n",
      "Best parameters so far: OrderedDict([('max_depth', 116), ('min_samples_split', 9), ('n_estimators', 234)])\n",
      "\n",
      "Model #4\n",
      "Best accuracy so far: 0.973\n",
      "Best parameters so far: OrderedDict([('max_depth', 116), ('min_samples_split', 9), ('n_estimators', 234)])\n",
      "\n",
      "Model #5\n",
      "Best accuracy so far: 0.973\n",
      "Best parameters so far: OrderedDict([('max_depth', 116), ('min_samples_split', 9), ('n_estimators', 234)])\n",
      "\n",
      "Model #6\n",
      "Best accuracy so far: 0.973\n",
      "Best parameters so far: OrderedDict([('max_depth', 116), ('min_samples_split', 9), ('n_estimators', 234)])\n",
      "\n",
      "Model #7\n",
      "Best accuracy so far: 0.973\n",
      "Best parameters so far: OrderedDict([('max_depth', 116), ('min_samples_split', 9), ('n_estimators', 234)])\n",
      "\n",
      "Model #8\n",
      "Best accuracy so far: 0.973\n",
      "Best parameters so far: OrderedDict([('max_depth', 116), ('min_samples_split', 9), ('n_estimators', 234)])\n",
      "\n",
      "Model #9\n",
      "Best accuracy so far: 0.973\n",
      "Best parameters so far: OrderedDict([('max_depth', 116), ('min_samples_split', 9), ('n_estimators', 234)])\n",
      "\n",
      "Model #10\n",
      "Best accuracy so far: 0.973\n",
      "Best parameters so far: OrderedDict([('max_depth', 116), ('min_samples_split', 9), ('n_estimators', 234)])\n",
      "\n",
      "Model #11\n",
      "Best accuracy so far: 0.973\n",
      "Best parameters so far: OrderedDict([('max_depth', 116), ('min_samples_split', 9), ('n_estimators', 234)])\n",
      "\n",
      "Model #12\n",
      "Best accuracy so far: 0.973\n",
      "Best parameters so far: OrderedDict([('max_depth', 116), ('min_samples_split', 9), ('n_estimators', 234)])\n",
      "\n",
      "Model #13\n",
      "Best accuracy so far: 0.973\n",
      "Best parameters so far: OrderedDict([('max_depth', 116), ('min_samples_split', 9), ('n_estimators', 234)])\n",
      "\n",
      "Model #14\n",
      "Best accuracy so far: 0.973\n",
      "Best parameters so far: OrderedDict([('max_depth', 116), ('min_samples_split', 9), ('n_estimators', 234)])\n",
      "\n",
      "Model #15\n",
      "Best accuracy so far: 0.973\n",
      "Best parameters so far: OrderedDict([('max_depth', 116), ('min_samples_split', 9), ('n_estimators', 234)])\n",
      "\n",
      "Model #16\n",
      "Best accuracy so far: 0.973\n",
      "Best parameters so far: OrderedDict([('max_depth', 116), ('min_samples_split', 9), ('n_estimators', 234)])\n",
      "\n",
      "Model #17\n",
      "Best accuracy so far: 0.973\n",
      "Best parameters so far: OrderedDict([('max_depth', 116), ('min_samples_split', 9), ('n_estimators', 234)])\n",
      "\n",
      "Model #18\n",
      "Best accuracy so far: 0.973\n",
      "Best parameters so far: OrderedDict([('max_depth', 116), ('min_samples_split', 9), ('n_estimators', 234)])\n",
      "\n",
      "Model #19\n",
      "Best accuracy so far: 0.973\n",
      "Best parameters so far: OrderedDict([('max_depth', 116), ('min_samples_split', 9), ('n_estimators', 234)])\n",
      "\n",
      "Model #20\n",
      "Best accuracy so far: 0.973\n",
      "Best parameters so far: OrderedDict([('max_depth', 116), ('min_samples_split', 9), ('n_estimators', 234)])\n",
      "\n",
      "Model #21\n",
      "Best accuracy so far: 0.973\n",
      "Best parameters so far: OrderedDict([('max_depth', 116), ('min_samples_split', 9), ('n_estimators', 234)])\n",
      "\n",
      "Model #22\n",
      "Best accuracy so far: 0.973\n",
      "Best parameters so far: OrderedDict([('max_depth', 116), ('min_samples_split', 9), ('n_estimators', 234)])\n",
      "\n",
      "Model #23\n",
      "Best accuracy so far: 0.973\n",
      "Best parameters so far: OrderedDict([('max_depth', 116), ('min_samples_split', 9), ('n_estimators', 234)])\n",
      "\n",
      "Model #24\n",
      "Best accuracy so far: 0.973\n",
      "Best parameters so far: OrderedDict([('max_depth', 116), ('min_samples_split', 9), ('n_estimators', 234)])\n",
      "\n",
      "Model #25\n",
      "Best accuracy so far: 0.973\n",
      "Best parameters so far: OrderedDict([('max_depth', 116), ('min_samples_split', 9), ('n_estimators', 234)])\n",
      "\n",
      "Model #26\n",
      "Best accuracy so far: 0.973\n",
      "Best parameters so far: OrderedDict([('max_depth', 116), ('min_samples_split', 9), ('n_estimators', 234)])\n",
      "\n",
      "Model #27\n",
      "Best accuracy so far: 0.973\n",
      "Best parameters so far: OrderedDict([('max_depth', 116), ('min_samples_split', 9), ('n_estimators', 234)])\n",
      "\n",
      "Model #28\n",
      "Best accuracy so far: 0.973\n",
      "Best parameters so far: OrderedDict([('max_depth', 116), ('min_samples_split', 9), ('n_estimators', 234)])\n",
      "\n",
      "Model #29\n",
      "Best accuracy so far: 0.973\n",
      "Best parameters so far: OrderedDict([('max_depth', 116), ('min_samples_split', 9), ('n_estimators', 234)])\n",
      "\n",
      "Model #30\n",
      "Best accuracy so far: 0.973\n",
      "Best parameters so far: OrderedDict([('max_depth', 116), ('min_samples_split', 9), ('n_estimators', 234)])\n",
      "\n",
      "Model #31\n",
      "Best accuracy so far: 0.973\n",
      "Best parameters so far: OrderedDict([('max_depth', 116), ('min_samples_split', 9), ('n_estimators', 234)])\n",
      "\n",
      "Model #32\n",
      "Best accuracy so far: 0.973\n",
      "Best parameters so far: OrderedDict([('max_depth', 116), ('min_samples_split', 9), ('n_estimators', 234)])\n",
      "\n",
      "Model #33\n",
      "Best accuracy so far: 0.973\n",
      "Best parameters so far: OrderedDict([('max_depth', 116), ('min_samples_split', 9), ('n_estimators', 234)])\n",
      "\n",
      "Model #34\n",
      "Best accuracy so far: 0.973\n",
      "Best parameters so far: OrderedDict([('max_depth', 116), ('min_samples_split', 9), ('n_estimators', 234)])\n",
      "\n",
      "Model #35\n",
      "Best accuracy so far: 0.973\n",
      "Best parameters so far: OrderedDict([('max_depth', 116), ('min_samples_split', 9), ('n_estimators', 234)])\n",
      "\n",
      "Model #36\n",
      "Best accuracy so far: 0.973\n",
      "Best parameters so far: OrderedDict([('max_depth', 116), ('min_samples_split', 9), ('n_estimators', 234)])\n",
      "\n",
      "Model #37\n",
      "Best accuracy so far: 0.973\n",
      "Best parameters so far: OrderedDict([('max_depth', 116), ('min_samples_split', 9), ('n_estimators', 234)])\n",
      "\n",
      "Model #38\n",
      "Best accuracy so far: 0.973\n",
      "Best parameters so far: OrderedDict([('max_depth', 116), ('min_samples_split', 9), ('n_estimators', 234)])\n",
      "\n",
      "Model #39\n",
      "Best accuracy so far: 0.973\n",
      "Best parameters so far: OrderedDict([('max_depth', 116), ('min_samples_split', 9), ('n_estimators', 234)])\n",
      "\n",
      "Model #40\n",
      "Best accuracy so far: 0.979\n",
      "Best parameters so far: OrderedDict([('max_depth', 134), ('min_samples_split', 2), ('n_estimators', 16)])\n",
      "\n",
      "Model #41\n",
      "Best accuracy so far: 0.979\n",
      "Best parameters so far: OrderedDict([('max_depth', 134), ('min_samples_split', 2), ('n_estimators', 16)])\n",
      "\n",
      "Model #42\n",
      "Best accuracy so far: 0.979\n",
      "Best parameters so far: OrderedDict([('max_depth', 134), ('min_samples_split', 2), ('n_estimators', 16)])\n",
      "\n",
      "Model #43\n",
      "Best accuracy so far: 0.979\n",
      "Best parameters so far: OrderedDict([('max_depth', 134), ('min_samples_split', 2), ('n_estimators', 16)])\n",
      "\n",
      "Model #44\n",
      "Best accuracy so far: 0.979\n",
      "Best parameters so far: OrderedDict([('max_depth', 134), ('min_samples_split', 2), ('n_estimators', 16)])\n",
      "\n",
      "Model #45\n",
      "Best accuracy so far: 0.979\n",
      "Best parameters so far: OrderedDict([('max_depth', 134), ('min_samples_split', 2), ('n_estimators', 16)])\n",
      "\n",
      "Model #46\n",
      "Best accuracy so far: 0.979\n",
      "Best parameters so far: OrderedDict([('max_depth', 134), ('min_samples_split', 2), ('n_estimators', 16)])\n",
      "\n",
      "Model #47\n",
      "Best accuracy so far: 0.979\n",
      "Best parameters so far: OrderedDict([('max_depth', 134), ('min_samples_split', 2), ('n_estimators', 16)])\n",
      "\n",
      "Model #48\n",
      "Best accuracy so far: 0.979\n",
      "Best parameters so far: OrderedDict([('max_depth', 134), ('min_samples_split', 2), ('n_estimators', 16)])\n",
      "\n",
      "Model #49\n",
      "Best accuracy so far: 0.979\n",
      "Best parameters so far: OrderedDict([('max_depth', 134), ('min_samples_split', 2), ('n_estimators', 16)])\n",
      "\n",
      "Model #50\n",
      "Best accuracy so far: 0.979\n",
      "Best parameters so far: OrderedDict([('max_depth', 134), ('min_samples_split', 2), ('n_estimators', 16)])\n",
      "\n"
     ]
    }
   ],
   "source": [
    "result_rf = bayes_cv_tuner.fit(X_ext, Y_train, callback= [DeltaXStopper(0.0001), \n",
    "                                     print_status])\n"
   ]
  },
  {
   "cell_type": "code",
   "execution_count": 127,
   "metadata": {},
   "outputs": [],
   "source": [
    "model_RF = RandomForestClassifier(\n",
    "    n_estimators = result_rf.best_params_['n_estimators'],\n",
    "     max_depth =  result_rf.best_params_['max_depth'],\n",
    "       min_samples_split = result_rf.best_params_['min_samples_split']\n",
    "    )"
   ]
  },
  {
   "cell_type": "code",
   "execution_count": 128,
   "metadata": {},
   "outputs": [
    {
     "data": {
      "text/plain": [
       "RandomForestClassifier(bootstrap=True, class_weight=None, criterion='gini',\n",
       "                       max_depth=134, max_features='auto', max_leaf_nodes=None,\n",
       "                       min_impurity_decrease=0.0, min_impurity_split=None,\n",
       "                       min_samples_leaf=1, min_samples_split=2,\n",
       "                       min_weight_fraction_leaf=0.0, n_estimators=16,\n",
       "                       n_jobs=None, oob_score=False, random_state=None,\n",
       "                       verbose=0, warm_start=False)"
      ]
     },
     "execution_count": 128,
     "metadata": {},
     "output_type": "execute_result"
    }
   ],
   "source": [
    "model_RF.fit(X_ext, Y_train)"
   ]
  },
  {
   "cell_type": "code",
   "execution_count": 129,
   "metadata": {},
   "outputs": [],
   "source": [
    "# predict probabilities for test set\n",
    "yhat_probs = model_RF.predict(X_ext_test)\n",
    "# predict crisp classes for test set\n",
    "#yhat_classes = model.predict_classes(X_test, verbose=0)\n",
    "yhat_classes = yhat_probs# np.argmax(yhat_probs,axis=1)"
   ]
  },
  {
   "cell_type": "code",
   "execution_count": 130,
   "metadata": {},
   "outputs": [
    {
     "name": "stdout",
     "output_type": "stream",
     "text": [
      "Accuracy: 0.972973\n",
      "Precision: 0.958333\n",
      "Recall: 0.916667\n",
      "F1 score: 0.927273\n"
     ]
    }
   ],
   "source": [
    "# accuracy: (tp + tn) / (p + n)\n",
    "accuracy = accuracy_score(Y_test, yhat_classes)\n",
    "print('Accuracy: %f' % accuracy)\n",
    "# precision tp / (tp + fp)\n",
    "precision = precision_score(Y_test, yhat_classes, average='macro')\n",
    "print('Precision: %f' % precision)\n",
    "# recall: tp / (tp + fn)\n",
    "recall = recall_score(Y_test, yhat_classes,average='macro')\n",
    "print('Recall: %f' % recall)\n",
    "# f1: 2 tp / (2 tp + fp + fn)\n",
    "f1 = f1_score(Y_test, yhat_classes, average='macro')\n",
    "print('F1 score: %f' % f1)"
   ]
  },
  {
   "cell_type": "code",
   "execution_count": 131,
   "metadata": {},
   "outputs": [
    {
     "name": "stdout",
     "output_type": "stream",
     "text": [
      "Cohens kappa: 0.953750\n",
      "[[22  0  0  0]\n",
      " [ 0  5  0  0]\n",
      " [ 0  1  2  0]\n",
      " [ 0  0  0  7]]\n"
     ]
    }
   ],
   "source": [
    "# kappa\n",
    "kappa = cohen_kappa_score(Y_test, yhat_classes)\n",
    "print('Cohens kappa: %f' % kappa)\n",
    "# ROC AUC\n",
    "#fprate, tprate, thresholds = roc_curve(Y_test, yhat_probs, average = 'macro')\n",
    "#print('ROC AUC: %f' % thresholds)\n",
    "# confusion matrix\n",
    "matrix = confusion_matrix(Y_test, yhat_classes)\n",
    "print(matrix)"
   ]
  },
  {
   "cell_type": "code",
   "execution_count": 132,
   "metadata": {},
   "outputs": [
    {
     "name": "stderr",
     "output_type": "stream",
     "text": [
      "C:\\Users\\hp\\Anaconda3\\lib\\site-packages\\sklearn\\metrics\\ranking.py:659: UndefinedMetricWarning: No positive samples in y_true, true positive value should be meaningless\n",
      "  UndefinedMetricWarning)\n"
     ]
    }
   ],
   "source": [
    "fpr = {}\n",
    "tpr = {}\n",
    "thresh ={}\n",
    "\n",
    "n_class = 5\n",
    "\n",
    "for i in range(n_class):    \n",
    "    fpr[i], tpr[i], thresh[i] = roc_curve(Y_test, yhat_classes, pos_label=i)"
   ]
  },
  {
   "cell_type": "code",
   "execution_count": 133,
   "metadata": {},
   "outputs": [
    {
     "data": {
      "image/png": "[encoded data removed]",
      "text/plain": [
       "<Figure size 432x288 with 1 Axes>"
      ]
     },
     "metadata": {
      "needs_background": "light"
     },
     "output_type": "display_data"
    }
   ],
   "source": [
    "# plotting    \n",
    "plt.plot(fpr[0], tpr[0], linestyle='--',color='orange', label='Class 0 vs Rest')\n",
    "plt.plot(fpr[1], tpr[1], linestyle='--',color='green', label='Class 1 vs Rest')\n",
    "plt.plot(fpr[2], tpr[2], linestyle='--',color='blue', label='Class 2 vs Rest')\n",
    "plt.plot(fpr[3], tpr[3], linestyle='--',color='red', label='Class 3 vs Rest')\n",
    "plt.plot(fpr[4], tpr[4], linestyle='--',color='black', label='Class 4 vs Rest')\n",
    "plt.title('Multiclass ROC curve')\n",
    "plt.xlabel('False Positive Rate')\n",
    "plt.ylabel('True Positive rate')\n",
    "plt.legend(loc='best')\n",
    "plt.savefig('Multiclass ROC',dpi=300); "
   ]
  },
  {
   "cell_type": "code",
   "execution_count": 134,
   "metadata": {},
   "outputs": [
    {
     "name": "stdout",
     "output_type": "stream",
     "text": [
      "Confusion matrix : \n",
      " [[22  0  0  0]\n",
      " [ 0  5  0  0]\n",
      " [ 0  1  2  0]\n",
      " [ 0  0  0  7]]\n"
     ]
    }
   ],
   "source": [
    "matrix = confusion_matrix(Y_test,yhat_classes, labels= [0, 1, 3, 4])\n",
    "print('Confusion matrix : \\n',matrix)"
   ]
  },
  {
   "cell_type": "code",
   "execution_count": 135,
   "metadata": {},
   "outputs": [
    {
     "name": "stdout",
     "output_type": "stream",
     "text": [
      "Classification report : \n",
      "               precision    recall  f1-score   support\n",
      "\n",
      "           0       1.00      1.00      1.00        22\n",
      "           1       0.83      1.00      0.91         5\n",
      "           3       1.00      0.67      0.80         3\n",
      "           4       1.00      1.00      1.00         7\n",
      "\n",
      "    accuracy                           0.97        37\n",
      "   macro avg       0.96      0.92      0.93        37\n",
      "weighted avg       0.98      0.97      0.97        37\n",
      "\n"
     ]
    }
   ],
   "source": [
    "matrix = classification_report(Y_test,yhat_classes, labels= [0, 1, 3, 4])\n",
    "print('Classification report : \\n',matrix)"
   ]
  },
  {
   "cell_type": "code",
   "execution_count": 136,
   "metadata": {},
   "outputs": [
    {
     "data": {
      "text/plain": [
       "4024"
      ]
     },
     "execution_count": 136,
     "metadata": {},
     "output_type": "execute_result"
    }
   ],
   "source": [
    "import pickle\n",
    "filename = './models/IG feature selection/WithIP Top11/Multi-class/RNN-RNN-Shallow Model/RF-model.sav'\n",
    "pickle.dump(model_RF, open(filename, 'wb'))\n",
    "gc.collect()"
   ]
  },
  {
   "cell_type": "code",
   "execution_count": null,
   "metadata": {},
   "outputs": [],
   "source": []
  }
 ],
 "metadata": {
  "kernelspec": {
   "display_name": "Python 3",
   "language": "python",
   "name": "python3"
  },
  "language_info": {
   "codemirror_mode": {
    "name": "ipython",
    "version": 3
   },
   "file_extension": ".py",
   "mimetype": "text/x-python",
   "name": "python",
   "nbconvert_exporter": "python",
   "pygments_lexer": "ipython3",
   "version": "3.7.4"
  }
 },
 "nbformat": 4,
 "nbformat_minor": 2
}

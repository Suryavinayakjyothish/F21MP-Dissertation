{
 "cells": [
  {
   "cell_type": "code",
   "execution_count": 1,
   "metadata": {},
   "outputs": [],
   "source": [
    "import pandas as pd\n",
    "import numpy as np\n",
    "from datetime import datetime\n",
    "import time\n",
    "import matplotlib.pyplot as plt\n",
    "import gc\n",
    "pd.set_option('display.max_columns', None)"
   ]
  },
  {
   "cell_type": "code",
   "execution_count": 2,
   "metadata": {},
   "outputs": [],
   "source": [
    "## for machine learning\n",
    "from sklearn import model_selection, preprocessing, feature_selection, ensemble, linear_model, metrics, decomposition\n",
    "## for plotting\n",
    "import matplotlib.pyplot as plt\n",
    "## for machine learning\n",
    "from sklearn import model_selection, preprocessing, feature_selection, ensemble, linear_model, metrics, decomposition\n",
    "from sklearn.preprocessing import LabelEncoder,Normalizer,StandardScaler, OneHotEncoder, MinMaxScaler\n",
    "from sklearn.feature_selection import mutual_info_classif\n",
    "from sklearn.metrics import confusion_matrix\n",
    "from sklearn.metrics import classification_report\n",
    "## for explainer\n",
    "#from lime import lime_tabular"
   ]
  },
  {
   "cell_type": "code",
   "execution_count": 3,
   "metadata": {},
   "outputs": [],
   "source": [
    "#to compute information gain\n",
    "def compute_impurity(feature, impurity_criterion):\n",
    "    \"\"\"\n",
    "    This function calculates impurity of a feature.\n",
    "    Supported impurity criteria: 'entropy', 'gini'\n",
    "    input: feature (this needs to be a Pandas series)\n",
    "    output: feature impurity\n",
    "    \"\"\"\n",
    "    probs = feature.value_counts(normalize=True)\n",
    "    \n",
    "    if impurity_criterion == 'entropy':\n",
    "        impurity = -1 * np.sum(np.log2(probs) * probs)\n",
    "    elif impurity_criterion == 'gini':\n",
    "        impurity = 1 - np.sum(np.square(probs))\n",
    "    else:\n",
    "        raise ValueError('Unknown impurity criterion')\n",
    "    return(round(impurity, 3))\n",
    "\n",
    "def comp_feature_information_gain(df, target, descriptive_feature, split_criterion):\n",
    "    \"\"\"\n",
    "    This function calculates information gain for splitting on \n",
    "    a particular descriptive feature for a given dataset\n",
    "    and a given impurity criteria.\n",
    "    Supported split criterion: 'entropy', 'gini'\n",
    "    \"\"\"\n",
    "    \n",
    "    print('target feature:', target)\n",
    "    print('descriptive_feature:', descriptive_feature)\n",
    "    print('split criterion:', split_criterion)\n",
    "            \n",
    "    target_entropy = compute_impurity(df[target], split_criterion)\n",
    "\n",
    "    # we define two lists below:\n",
    "    # entropy_list to store the entropy of each partition\n",
    "    # weight_list to store the relative number of observations in each partition\n",
    "    entropy_list = list()\n",
    "    weight_list = list()\n",
    "    \n",
    "    # loop over each level of the descriptive feature\n",
    "    # to partition the dataset with respect to that level\n",
    "    # and compute the entropy and the weight of the level's partition\n",
    "    for level in df[descriptive_feature].unique():\n",
    "        df_feature_level = df[df[descriptive_feature] == level]\n",
    "        entropy_level = compute_impurity(df_feature_level[target], split_criterion)\n",
    "        entropy_list.append(round(entropy_level, 3))\n",
    "        weight_level = len(df_feature_level) / len(df)\n",
    "        weight_list.append(round(weight_level, 3))\n",
    "\n",
    "   # print('impurity of partitions:', entropy_list)\n",
    "   # print('weights of partitions:', weight_list)\n",
    "\n",
    "    feature_remaining_impurity = np.sum(np.array(entropy_list) * np.array(weight_list))\n",
    "    print('remaining impurity:', feature_remaining_impurity)\n",
    "    \n",
    "    information_gain = target_entropy - feature_remaining_impurity\n",
    "    print('information gain:', information_gain)\n",
    "    \n",
    "    print('====================')\n",
    "\n",
    "    return(information_gain)"
   ]
  },
  {
   "cell_type": "code",
   "execution_count": 4,
   "metadata": {},
   "outputs": [],
   "source": [
    "#a = pd.read_csv('drive/My Drive/Colab Notebooks/traffic/OpenStack/CIDDS-001-internal-week1.csv', low_memory=False, encoding='cp1252')\n",
    "#b = pd.read_csv('drive/My Drive/Colab Notebooks/traffic/OpenStack/CIDDS-001-internal-week2.csv', low_memory=False, encoding='cp1252')\n",
    "a = pd.read_csv('./CIDDS-001/traffic/OpenStack/CIDDS-001-internal-week1.csv', low_memory=False, encoding='cp1252')\n",
    "b = pd.read_csv('./CIDDS-001/traffic/OpenStack/CIDDS-001-internal-week2.csv', low_memory=False, encoding='cp1252')\n",
    "c =  pd.read_csv('./CIDDS-001/traffic/ExternalServer/CIDDS-001-external-week2.csv', low_memory=False, encoding='cp1252')\n",
    "d =  pd.read_csv('./CIDDS-001/traffic/ExternalServer/CIDDS-001-external-week3.csv', low_memory=False, encoding='cp1252')\n",
    "e =  pd.read_csv('./CIDDS-001/traffic/ExternalServer/CIDDS-001-external-week4.csv', low_memory=False, encoding='cp1252')\n",
    "#f =  pd.read_csv('./CIDDS-001/traffic/ExternalServer/CIDDS-001-external-week1.csv', low_memory=False, encoding='cp1252')\n",
    "#c = pd.read_csv('drive/My Drive/Colab Notebooks/traffic/OpenStack/CIDDS-001-internal-week3.csv', low_memory=False , encoding='cp1252')\n",
    "#d = pd.read_csv('drive/My Drive/Colab Notebooks/traffic/OpenStack/CIDDS-001-internal-week4.csv', low_memory=False, encoding='cp1252')\n",
    "#e =  pd.read_csv('drive/My Drive/Colab Notebooks/traffic/ExternalServer/CIDDS-001-external-week1.csv', low_memory=False, encoding='cp1252')\n",
    "#f =  pd.read_csv('drive/My Drive/Colab Notebooks/traffic/ExternalServer/CIDDS-001-external-week2.csv', low_memory=False, encoding='cp1252')\n",
    "#g =  pd.read_csv('drive/My Drive/Colab Notebooks/traffic/ExternalServer/CIDDS-001-external-week3.csv', low_memory=False, encoding='cp1252')\n",
    "#h =  pd.read_csv('drive/My Drive/Colab Notebooks/traffic/ExternalServer/CIDDS-001-external-week4.csv', low_memory=False, encoding='cp1252')"
   ]
  },
  {
   "cell_type": "code",
   "execution_count": 5,
   "metadata": {},
   "outputs": [
    {
     "name": "stdout",
     "output_type": "stream",
     "text": [
      "(10310733, 16)\n"
     ]
    },
    {
     "data": {
      "text/plain": [
       "(1795404, 16)"
      ]
     },
     "execution_count": 5,
     "metadata": {},
     "output_type": "execute_result"
    }
   ],
   "source": [
    "print(b.shape)\n",
    "#a.drop(a[a['attackType'] == '---'].index, axis = 0, inplace= True) \n",
    "b.drop(b[b['attackType'] == '---'].index, axis = 0, inplace= True)  \n",
    "c.drop(c[c['attackType'] == '---'].index, axis = 0, inplace= True)  \n",
    "d.drop(d[d['attackType'] == '---'].index, axis = 0, inplace= True)  \n",
    "#e.drop(e[e['attackType'] == '---'].index, axis = 0, inplace= True)  \n",
    "b.shape"
   ]
  },
  {
   "cell_type": "code",
   "execution_count": 6,
   "metadata": {},
   "outputs": [],
   "source": [
    "data_external = pd.concat([c,d,e], axis = 0)\n",
    "data_external.reset_index(drop= True, inplace= True)"
   ]
  },
  {
   "cell_type": "code",
   "execution_count": 7,
   "metadata": {},
   "outputs": [],
   "source": [
    "#to Increment attackID values\n",
    "data_external['attackID'] = data_external['attackID'].apply(lambda x: str(int(x) + 70) if x != '---' else x)"
   ]
  },
  {
   "cell_type": "code",
   "execution_count": 8,
   "metadata": {},
   "outputs": [],
   "source": [
    "def convert_bytes(df):\n",
    "    if 'M' in df:\n",
    "        df = df.split('M')\n",
    "        df = df[0].strip()\n",
    "        df = float(df) * 1000000\n",
    "    elif 'B' in df:\n",
    "        df = df.split('B')\n",
    "        df = df[0].strip()\n",
    "        df =  float(df) * 1000000000\n",
    "    else: \n",
    "        df =float(df)\n",
    "    return df"
   ]
  },
  {
   "cell_type": "code",
   "execution_count": 9,
   "metadata": {},
   "outputs": [
    {
     "data": {
      "text/plain": [
       "60"
      ]
     },
     "execution_count": 9,
     "metadata": {},
     "output_type": "execute_result"
    }
   ],
   "source": [
    "data = pd.concat([a,b,data_external], axis = 0)\n",
    "data.reset_index(drop= True, inplace= True)\n",
    "data['Bytes'] = data['Bytes'].apply(lambda x: convert_bytes(x))\n",
    "columns = ['Src Pt', 'Dst Pt','Tos','Flows','Packets', 'Bytes']\n",
    "for i in columns:\n",
    "    data[i] = pd.to_numeric(data[i]);\n",
    "del columns\n",
    "del a,b,c,d,e, data_external\n",
    "gc.collect()"
   ]
  },
  {
   "cell_type": "code",
   "execution_count": 10,
   "metadata": {},
   "outputs": [],
   "source": [
    "#Converts Hexadecimal value to Binary\n",
    "def hex_to_binary(hexdata):\n",
    "    scale = 16 ## equals to hexadecimal\n",
    "    num_of_bits = 9\n",
    "    return bin(int(hexdata, scale))[2:].zfill(num_of_bits);\n",
    "#Converts TCP flags to Binary\n",
    "def to_Binary(x):\n",
    "    l = 0\n",
    "    x = '...' + x\n",
    "    x = list(x)\n",
    "    for i in x:\n",
    "        if (i=='.'):\n",
    "            x[l]= '0'\n",
    "        else:\n",
    "            x[l] = '1'\n",
    "        l = l +1\n",
    "    return ''.join(x)\n",
    "#Converts the 'Flags' column to 9 indiviual columns (manual oneshot encoding)\n",
    "def flag_convert(df):  \n",
    "   # df['Flags'] = df['Flags'].apply(lambda x: (list(x)))\n",
    "   # temp = df['Flags'].apply(lambda x: toBinary(x))\n",
    "    hex_values = list(df[(df['Flags'].str.contains(\"0x\", na=False))]['Flags'].unique())\n",
    "    flag_values = list(df[~(df['Flags'].str.contains(\"0x\", na=False))]['Flags'].unique())\n",
    "    binary_values = {}\n",
    "    for i in hex_values:\n",
    "         binary_values[i] = (hex_to_binary(i))\n",
    "    for i in flag_values:\n",
    "         binary_values[i] = (to_Binary(i))\n",
    "    temp = df['Flags'].replace(binary_values)\n",
    "#temp = temp.apply(lambda x: pd.Series(x)) \n",
    "    temp = pd.DataFrame(temp.apply(list).tolist())\n",
    "#temp = pd.DataFrame(temp)\n",
    "#a = a.iloc[: , 1:]\n",
    "   # print(temp.head())\n",
    "    temp.columns = ['N','C','E','U' ,'A','P','R','S','F']\n",
    "    for i in temp.columns:\n",
    "        temp[i] = pd.to_numeric(temp[i]);\n",
    "    temp = temp.reset_index(drop=True)\n",
    "    df = df.reset_index(drop=True)\n",
    "    df = pd.concat([df, temp], axis = 1)\n",
    "    return df;"
   ]
  },
  {
   "cell_type": "code",
   "execution_count": 11,
   "metadata": {},
   "outputs": [],
   "source": [
    "#make a IP_pairs \n",
    "def make_pair(df):\n",
    "    ip_pair = df['Src IP Addr'] +'/' +df['Dst IP Addr']\n",
    "    source_ip = df['Src IP Addr'].unique().tolist()\n",
    "    destination_ip = df['Dst IP Addr'].unique().tolist()\n",
    "   # df = df.drop(columns = ['Src IP Addr', 'Dst IP Addr'])\n",
    "    df.insert(1, ' IP Pair', ip_pair)\n",
    "    return df\n",
    "\n",
    "def check_inverse(df):\n",
    "    list_pairs = df[' IP Pair'].unique()\n",
    "    tuple_pair = []\n",
    "    for i in list_pairs:\n",
    "        tuple_pair.append(tuple((i.split('/'))))\n",
    "    dic_store = {}\n",
    "    for i in tuple_pair:\n",
    "        if (i  not in dic_store.keys()) and (i[::-1] not in dic_store.keys()):\n",
    "            dic_store[i] = i[0] + '/' +i[1]\n",
    "    print(len(dic_store.keys()))\n",
    "    dic_final = {}\n",
    "    for i in dic_store.keys():\n",
    "        dic_final[i[0] + '/' +i[1]] = dic_store[i]\n",
    "        dic_final[i[1] + '/' +i[0]] = dic_store[i]\n",
    "    df[' IP Pair'] = df[' IP Pair'].map(dic_final)               \n",
    "    return df"
   ]
  },
  {
   "cell_type": "code",
   "execution_count": 12,
   "metadata": {},
   "outputs": [],
   "source": [
    "def normalize_IP(df):\n",
    "    columns = ['sourceIP_feature 1', 'sourceIP_feature 2', 'sourceIP_feature 3', 'sourceIP_feature 4', 'destIP_feature 1',\n",
    "              'destIP_feature 2', 'destIP_feature 3', 'destIP_feature 4']\n",
    "    normalized = df[columns]\n",
    "    print(columns)\n",
    "    transformed = MinMaxScaler().fit(normalized).transform(normalized)\n",
    "    transformed = pd.DataFrame(transformed)\n",
    "    j = 0\n",
    "    col = {}\n",
    "    for i in columns:\n",
    "        col[j] = i\n",
    "        j=j+1\n",
    "    transformed = transformed.rename(columns = col)\n",
    "    transformed = transformed.reset_index()\n",
    "    for i in columns:\n",
    "        df[i] = transformed[i].to_numpy()\n",
    "    return df;"
   ]
  },
  {
   "cell_type": "code",
   "execution_count": 13,
   "metadata": {},
   "outputs": [],
   "source": [
    "def normalize(df):\n",
    "    numerics = ['int16', 'int32', 'int64', 'float16', 'float32', 'float64']\n",
    "    columns = data.select_dtypes(include=numerics).columns\n",
    "    normalized = df[columns]\n",
    "    print(columns)\n",
    "    transformed = MinMaxScaler().fit(normalized).transform(normalized)\n",
    "    transformed = pd.DataFrame(transformed)\n",
    "    j = 0\n",
    "    col = {}\n",
    "    for i in columns:\n",
    "        col[j] = i\n",
    "        j=j+1\n",
    "    transformed = transformed.rename(columns = col)\n",
    "    transformed = transformed.reset_index()\n",
    "    for i in columns:\n",
    "        df[i] = transformed[i].to_numpy()\n",
    "    return df;"
   ]
  },
  {
   "cell_type": "code",
   "execution_count": 14,
   "metadata": {},
   "outputs": [],
   "source": [
    "def one_shot(df):\n",
    "    label_encoder = LabelEncoder()\n",
    "    #df.astype({'attackType': 'str'})\n",
    "    df['attackType'] = label_encoder.fit_transform(df['attackType'])\n",
    "    print(list(label_encoder.classes_))\n",
    "    print(list(label_encoder.transform(label_encoder.classes_)))\n",
    "    \n",
    "    \n",
    "    df['sourceIP_feature 1'] = label_encoder.fit_transform(df['sourceIP_feature 1'])\n",
    "    print(list(label_encoder.classes_))\n",
    "    print(list(label_encoder.transform(label_encoder.classes_)))\n",
    "    \n",
    "    df['sourceIP_feature 2'] = label_encoder.fit_transform(df['sourceIP_feature 2'])\n",
    "    print(list(label_encoder.classes_))\n",
    "    print(list(label_encoder.transform(label_encoder.classes_)))\n",
    "    \n",
    "    df['sourceIP_feature 3'] = label_encoder.fit_transform(df['sourceIP_feature 3'])\n",
    "    print(list(label_encoder.classes_))\n",
    "    print(list(label_encoder.transform(label_encoder.classes_)))\n",
    "    \n",
    "    df['sourceIP_feature 4'] = label_encoder.fit_transform(df['sourceIP_feature 4'])\n",
    "    print(list(label_encoder.classes_))\n",
    "    print(list(label_encoder.transform(label_encoder.classes_)))\n",
    "    \n",
    "    df['destIP_feature 1'] = label_encoder.fit_transform(df['destIP_feature 1'])\n",
    "    print(list(label_encoder.classes_))\n",
    "    print(list(label_encoder.transform(label_encoder.classes_)))\n",
    "    \n",
    "    df['destIP_feature 2'] = label_encoder.fit_transform(df['destIP_feature 2'])\n",
    "    print(list(label_encoder.classes_))\n",
    "    print(list(label_encoder.transform(label_encoder.classes_)))\n",
    "    \n",
    "    df['destIP_feature 3'] = label_encoder.fit_transform(df['destIP_feature 3'])\n",
    "    print(list(label_encoder.classes_))\n",
    "    print(list(label_encoder.transform(label_encoder.classes_)))\n",
    "    \n",
    "    df['destIP_feature 4'] = label_encoder.fit_transform(df['destIP_feature 4'])\n",
    "    print(list(label_encoder.classes_))\n",
    "    print(list(label_encoder.transform(label_encoder.classes_)))\n",
    "    \n",
    "    df['Proto'] = label_encoder.fit_transform(df['Proto'])\n",
    "    print(list(label_encoder.classes_))\n",
    "    print(list(label_encoder.transform(label_encoder.classes_)))\n",
    "    \n",
    "    onehot_encoder1 = OneHotEncoder()\n",
    "    onehot_encoder1.fit(df.Proto.to_numpy().reshape(-1, 1))\n",
    "    proto = onehot_encoder1.transform(df.Proto.to_numpy().reshape(-1, 1))\n",
    "    proto = pd.DataFrame.sparse.from_spmatrix(proto)\n",
    "    proto.astype('int32')\n",
    "    proto.columns = label_encoder.classes_\n",
    "   # print(proto.head(1))\n",
    "    df = pd.concat([df, proto], axis = 1)\n",
    "    return df;"
   ]
  },
  {
   "cell_type": "code",
   "execution_count": 15,
   "metadata": {},
   "outputs": [],
   "source": [
    "def drop_columns(df):\n",
    "    return df.drop(columns = ['Date first seen', ' IP Pair', 'Flows', 'class', 'attackID','Flags',\n",
    "                              'attackDescription', 'Src IP Addr', 'Dst IP Addr','Proto'], axis =1)"
   ]
  },
  {
   "cell_type": "code",
   "execution_count": 16,
   "metadata": {},
   "outputs": [],
   "source": [
    "#Aplit IP address into features, 7 features\n",
    "def split_to_net(IP_address):\n",
    "    IP_list = IP_address.split(\".\")\n",
    "    needed_len = 7\n",
    "    needed_len = needed_len - len(IP_list)\n",
    "    for i in range(0,needed_len,1):\n",
    "        IP_list.append('0')\n",
    "    return IP_list\n",
    "#replace unknown IP address, and convert to columns\n",
    "def IP_split(df): \n",
    "    replace = {\"ATTACKER1\":\"0.0.0.0\",\n",
    "           \"ATTACKER2\":\"0.0.0.0\",\n",
    "           \"ATTACKER3\":\"0.0.0.0\",\n",
    "           \"EXT_SERVER\": \"0.0.0.0.1\",\n",
    "          \"OPENSTACK_NET\": \"0.0.0.0.0.1\",\n",
    "          \"DNS\": \"0.0.0.0.0.0.1\"}\n",
    "    df = df.replace({\"Src IP Addr\": replace, \"Dst IP Addr\": replace}, value=None)\n",
    "    temp_source = df[\"Src IP Addr\"].apply(lambda x: \"0.0.0.0.0.0.0\" if ('_') in x else x)\n",
    "    temp_des = df['Dst IP Addr'].apply(lambda x: \"0.0.0.0.0.0.0\" if ('_') in x else x)\n",
    "   # sourceIP = list(df[\"Src IP Addr\"].unique())\n",
    "   # destIP = list(df[\"Dst IP Addr\"].unique())\n",
    "   # sourceIP_values = {}\n",
    "   # desIP_values = {}\n",
    "   # for i in sourceIP:\n",
    "   #      sourceIP_values[i] = (split_to_net(i))\n",
    "   # for i in destIP:\n",
    "   #      desIP_values[i] = (split_to_net(i))\n",
    "    #print(sourceIP_values)\n",
    "   # print(desIP_values)\n",
    "#for Source IP\n",
    "    temp_source = temp_source.apply(lambda x: split_to_net(x) )\n",
    "    temp_source = pd.DataFrame(temp_source.apply(list).tolist())\n",
    "    temp_source.columns = ['sourceIP_feature 1','sourceIP_feature 2','sourceIP_feature 3','sourceIP_feature 4' ,\n",
    "                    'sourceEXT_SERVER','sourceOPENSTACK_NET','sourceDNS']\n",
    "    for i in temp_source.columns:\n",
    "        temp_source[i] = pd.to_numeric(temp_source[i]);\n",
    "    temp_source = temp_source.reset_index(drop=True)\n",
    "    df = df.reset_index(drop=True)\n",
    "    df = pd.concat([df, temp_source], axis = 1)\n",
    "    #for Destination IP\n",
    "    temp_des = temp_des.apply(lambda x: split_to_net(x) )\n",
    "    temp_des = pd.DataFrame(temp_des.apply(list).tolist())\n",
    "    temp_des.columns = ['destIP_feature 1','destIP_feature 2','destIP_feature 3','destIP_feature 4' ,\n",
    "                    'destEXT_SERVER','destOPENSTACK_NET','destDNS']\n",
    "    for i in temp_des.columns:\n",
    "        temp_des[i] = pd.to_numeric(temp_des[i]);\n",
    "    temp_des = temp_des.reset_index(drop=True)\n",
    "    df = df.reset_index(drop=True)\n",
    "    df = pd.concat([df, temp_des], axis = 1)\n",
    "    return df;"
   ]
  },
  {
   "cell_type": "code",
   "execution_count": 17,
   "metadata": {},
   "outputs": [
    {
     "name": "stdout",
     "output_type": "stream",
     "text": [
      "59362\n"
     ]
    }
   ],
   "source": [
    "data = make_pair(data)\n",
    "data = check_inverse(data)"
   ]
  },
  {
   "cell_type": "code",
   "execution_count": 18,
   "metadata": {},
   "outputs": [],
   "source": [
    "data = IP_split(data)"
   ]
  },
  {
   "cell_type": "code",
   "execution_count": 19,
   "metadata": {
    "scrolled": true
   },
   "outputs": [
    {
     "name": "stdout",
     "output_type": "stream",
     "text": [
      "Index(['Duration', 'Src Pt', 'Dst Pt', 'Packets', 'Bytes', 'Flows', 'Tos',\n",
      "       'sourceIP_feature 1', 'sourceIP_feature 2', 'sourceIP_feature 3',\n",
      "       'sourceIP_feature 4', 'sourceEXT_SERVER', 'sourceOPENSTACK_NET',\n",
      "       'sourceDNS', 'destIP_feature 1', 'destIP_feature 2', 'destIP_feature 3',\n",
      "       'destIP_feature 4', 'destEXT_SERVER', 'destOPENSTACK_NET', 'destDNS'],\n",
      "      dtype='object')\n",
      "['---', 'bruteForce', 'dos', 'pingScan', 'portScan']\n",
      "[0, 1, 2, 3, 4]\n",
      "[0.0, 1.0]\n",
      "[0, 1]\n",
      "[0.0, 1.0]\n",
      "[0, 1]\n",
      "[0.0, 0.003952569169960474, 0.01976284584980237, 0.3162055335968379, 0.3952569169960474, 0.7905138339920948, 0.8300395256916996, 0.8695652173913043, 0.9999999999999999]\n",
      "[0, 1, 2, 3, 4, 5, 6, 7, 8]\n",
      "[0.0, 0.004, 0.008, 0.012, 0.016, 0.02, 0.024, 0.028, 0.032, 0.036000000000000004, 0.04, 0.044, 0.048, 0.052000000000000005, 0.056, 0.06, 0.064, 0.4, 0.432, 0.456, 0.612, 0.884, 0.96, 1.0]\n",
      "[0, 1, 2, 3, 4, 5, 6, 7, 8, 9, 10, 11, 12, 13, 14, 15, 16, 17, 18, 19, 20, 21, 22, 23]\n",
      "[0.0, 0.7529411764705882, 1.0]\n",
      "[0, 1, 2]\n",
      "[0.0, 0.6588235294117647, 1.0]\n",
      "[0, 1, 2]\n",
      "[0.0, 0.00392156862745098, 0.39215686274509803, 0.7843137254901961, 0.8235294117647058, 0.8627450980392157, 0.9921568627450981, 1.0]\n",
      "[0, 1, 2, 3, 4, 5, 6, 7]\n",
      "[0.0, 0.00392156862745098, 0.00784313725490196, 0.011764705882352941, 0.01568627450980392, 0.0196078431372549, 0.023529411764705882, 0.027450980392156862, 0.03137254901960784, 0.03529411764705882, 0.0392156862745098, 0.043137254901960784, 0.047058823529411764, 0.050980392156862744, 0.054901960784313725, 0.058823529411764705, 0.06274509803921569, 0.06666666666666667, 0.07058823529411765, 0.07450980392156863, 0.0784313725490196, 0.08235294117647059, 0.08627450980392157, 0.09019607843137255, 0.09411764705882353, 0.09803921568627451, 0.10196078431372549, 0.10588235294117647, 0.10980392156862745, 0.11372549019607843, 0.11764705882352941, 0.12156862745098039, 0.12549019607843137, 0.12941176470588234, 0.13333333333333333, 0.13725490196078433, 0.1411764705882353, 0.14509803921568626, 0.14901960784313725, 0.15294117647058825, 0.1568627450980392, 0.16078431372549018, 0.16470588235294117, 0.16862745098039217, 0.17254901960784313, 0.1764705882352941, 0.1803921568627451, 0.1843137254901961, 0.18823529411764706, 0.19215686274509802, 0.19607843137254902, 0.2, 0.20392156862745098, 0.20784313725490194, 0.21176470588235294, 0.21568627450980393, 0.2196078431372549, 0.22352941176470587, 0.22745098039215686, 0.23137254901960785, 0.23529411764705882, 0.2392156862745098, 0.24313725490196078, 0.24705882352941178, 0.25098039215686274, 0.2549019607843137, 0.2588235294117647, 0.2627450980392157, 0.26666666666666666, 0.27058823529411763, 0.27450980392156865, 0.2784313725490196, 0.2823529411764706, 0.28627450980392155, 0.2901960784313725, 0.29411764705882354, 0.2980392156862745, 0.30196078431372547, 0.3058823529411765, 0.30980392156862746, 0.3137254901960784, 0.3176470588235294, 0.32156862745098036, 0.3254901960784314, 0.32941176470588235, 0.3333333333333333, 0.33725490196078434, 0.3411764705882353, 0.34509803921568627, 0.34901960784313724, 0.3529411764705882, 0.3568627450980392, 0.3607843137254902, 0.36470588235294116, 0.3686274509803922, 0.37254901960784315, 0.3764705882352941, 0.3803921568627451, 0.38431372549019605, 0.38823529411764707, 0.39215686274509803, 0.396078431372549, 0.4, 0.403921568627451, 0.40784313725490196, 0.4117647058823529, 0.4156862745098039, 0.4196078431372549, 0.4235294117647059, 0.42745098039215684, 0.43137254901960786, 0.43529411764705883, 0.4392156862745098, 0.44313725490196076, 0.44705882352941173, 0.45098039215686275, 0.4549019607843137, 0.4588235294117647, 0.4627450980392157, 0.4666666666666667, 0.47058823529411764, 0.4745098039215686, 0.4784313725490196, 0.4823529411764706, 0.48627450980392156, 0.49019607843137253, 0.49411764705882355, 0.4980392156862745, 0.5019607843137255, 0.5058823529411764, 0.5098039215686274, 0.5137254901960784, 0.5176470588235293, 0.5215686274509804, 0.5254901960784314, 0.5294117647058824, 0.5333333333333333, 0.5372549019607843, 0.5411764705882353, 0.5450980392156862, 0.5490196078431373, 0.5529411764705883, 0.5568627450980392, 0.5607843137254902, 0.5647058823529412, 0.5686274509803921, 0.5725490196078431, 0.5764705882352941, 0.580392156862745, 0.5843137254901961, 0.5882352941176471, 0.592156862745098, 0.596078431372549, 0.6, 0.6039215686274509, 0.6078431372549019, 0.611764705882353, 0.615686274509804, 0.6196078431372549, 0.6235294117647059, 0.6274509803921569, 0.6313725490196078, 0.6352941176470588, 0.6392156862745098, 0.6431372549019607, 0.6470588235294118, 0.6509803921568628, 0.6549019607843137, 0.6588235294117647, 0.6627450980392157, 0.6666666666666666, 0.6705882352941176, 0.6745098039215687, 0.6784313725490196, 0.6823529411764706, 0.6862745098039216, 0.6901960784313725, 0.6941176470588235, 0.6980392156862745, 0.7019607843137254, 0.7058823529411764, 0.7098039215686275, 0.7137254901960784, 0.7176470588235294, 0.7215686274509804, 0.7254901960784313, 0.7294117647058823, 0.7333333333333333, 0.7372549019607844, 0.7411764705882353, 0.7450980392156863, 0.7490196078431373, 0.7529411764705882, 0.7568627450980392, 0.7607843137254902, 0.7647058823529411, 0.7686274509803921, 0.7725490196078432, 0.7764705882352941, 0.7803921568627451, 0.7843137254901961, 0.788235294117647, 0.792156862745098, 0.796078431372549, 0.8, 0.803921568627451, 0.807843137254902, 0.8117647058823529, 0.8156862745098039, 0.8196078431372549, 0.8235294117647058, 0.8274509803921568, 0.8313725490196078, 0.8352941176470589, 0.8392156862745098, 0.8431372549019608, 0.8470588235294118, 0.8509803921568627, 0.8549019607843137, 0.8588235294117647, 0.8627450980392157, 0.8666666666666667, 0.8705882352941177, 0.8745098039215686, 0.8784313725490196, 0.8823529411764706, 0.8862745098039215, 0.8901960784313725, 0.8941176470588235, 0.8980392156862745, 0.9019607843137255, 0.9058823529411765, 0.9098039215686274, 0.9137254901960784, 0.9176470588235294, 0.9215686274509803, 0.9254901960784314, 0.9294117647058824, 0.9333333333333333, 0.9372549019607843, 0.9411764705882353, 0.9450980392156862, 0.9490196078431372, 0.9529411764705882, 0.9568627450980391, 0.9607843137254902, 0.9647058823529412, 0.9686274509803922, 0.9725490196078431, 0.9764705882352941, 0.9803921568627451, 0.984313725490196, 0.9882352941176471, 0.9921568627450981, 0.996078431372549, 1.0]\n",
      "[0, 1, 2, 3, 4, 5, 6, 7, 8, 9, 10, 11, 12, 13, 14, 15, 16, 17, 18, 19, 20, 21, 22, 23, 24, 25, 26, 27, 28, 29, 30, 31, 32, 33, 34, 35, 36, 37, 38, 39, 40, 41, 42, 43, 44, 45, 46, 47, 48, 49, 50, 51, 52, 53, 54, 55, 56, 57, 58, 59, 60, 61, 62, 63, 64, 65, 66, 67, 68, 69, 70, 71, 72, 73, 74, 75, 76, 77, 78, 79, 80, 81, 82, 83, 84, 85, 86, 87, 88, 89, 90, 91, 92, 93, 94, 95, 96, 97, 98, 99, 100, 101, 102, 103, 104, 105, 106, 107, 108, 109, 110, 111, 112, 113, 114, 115, 116, 117, 118, 119, 120, 121, 122, 123, 124, 125, 126, 127, 128, 129, 130, 131, 132, 133, 134, 135, 136, 137, 138, 139, 140, 141, 142, 143, 144, 145, 146, 147, 148, 149, 150, 151, 152, 153, 154, 155, 156, 157, 158, 159, 160, 161, 162, 163, 164, 165, 166, 167, 168, 169, 170, 171, 172, 173, 174, 175, 176, 177, 178, 179, 180, 181, 182, 183, 184, 185, 186, 187, 188, 189, 190, 191, 192, 193, 194, 195, 196, 197, 198, 199, 200, 201, 202, 203, 204, 205, 206, 207, 208, 209, 210, 211, 212, 213, 214, 215, 216, 217, 218, 219, 220, 221, 222, 223, 224, 225, 226, 227, 228, 229, 230, 231, 232, 233, 234, 235, 236, 237, 238, 239, 240, 241, 242, 243, 244, 245, 246, 247, 248, 249, 250, 251, 252, 253, 254, 255]\n",
      "['GRE  ', 'ICMP ', 'IGMP ', 'TCP  ', 'UDP  ']\n",
      "[0, 1, 2, 3, 4]\n"
     ]
    },
    {
     "name": "stderr",
     "output_type": "stream",
     "text": [
      "C:\\Users\\hp\\Anaconda3\\lib\\site-packages\\sklearn\\preprocessing\\_encoders.py:415: FutureWarning: The handling of integer data will change in version 0.22. Currently, the categories are determined based on the range [0, max(values)], while in the future they will be determined based on the unique values.\n",
      "If you want the future behaviour and silence this warning, you can specify \"categories='auto'\".\n",
      "In case you used a LabelEncoder before this OneHotEncoder to convert the categories to integers, then you can now use the OneHotEncoder directly.\n",
      "  warnings.warn(msg, FutureWarning)\n"
     ]
    },
    {
     "name": "stdout",
     "output_type": "stream",
     "text": [
      "['sourceIP_feature 1', 'sourceIP_feature 2', 'sourceIP_feature 3', 'sourceIP_feature 4', 'destIP_feature 1', 'destIP_feature 2', 'destIP_feature 3', 'destIP_feature 4']\n"
     ]
    }
   ],
   "source": [
    "data = normalize(data)\n",
    "data =  one_shot(data) \n",
    "data = normalize_IP(data)"
   ]
  },
  {
   "cell_type": "code",
   "execution_count": 20,
   "metadata": {},
   "outputs": [],
   "source": [
    "data_ig = flag_convert(data)\n",
    "data_ig = drop_columns(data)"
   ]
  },
  {
   "cell_type": "code",
   "execution_count": 25,
   "metadata": {},
   "outputs": [
    {
     "name": "stdout",
     "output_type": "stream",
     "text": [
      "target feature: attackType\n",
      "descriptive_feature: Duration\n",
      "split criterion: entropy\n",
      "remaining impurity: 0.36495600000000006\n",
      "information gain: 0.530044\n",
      "====================\n",
      "target feature: attackType\n",
      "descriptive_feature: Src Pt\n",
      "split criterion: entropy\n",
      "remaining impurity: 0.267853\n",
      "information gain: 0.627147\n",
      "====================\n",
      "target feature: attackType\n",
      "descriptive_feature: Dst Pt\n",
      "split criterion: entropy\n",
      "remaining impurity: 0.2693620000000001\n",
      "information gain: 0.6256379999999999\n",
      "====================\n",
      "target feature: attackType\n",
      "descriptive_feature: Packets\n",
      "split criterion: entropy\n",
      "remaining impurity: 0.46965899999999994\n",
      "information gain: 0.4253410000000001\n",
      "====================\n",
      "target feature: attackType\n",
      "descriptive_feature: Bytes\n",
      "split criterion: entropy\n",
      "remaining impurity: 0.063283\n",
      "information gain: 0.831717\n",
      "====================\n",
      "target feature: attackType\n",
      "descriptive_feature: Tos\n",
      "split criterion: entropy\n",
      "remaining impurity: 0.751886\n",
      "information gain: 0.14311399999999996\n",
      "====================\n",
      "target feature: attackType\n",
      "descriptive_feature: sourceIP_feature 1\n",
      "split criterion: entropy\n",
      "remaining impurity: 0.6798160000000001\n",
      "information gain: 0.21518399999999993\n",
      "====================\n",
      "target feature: attackType\n",
      "descriptive_feature: sourceIP_feature 2\n",
      "split criterion: entropy\n",
      "remaining impurity: 0.6798160000000001\n",
      "information gain: 0.21518399999999993\n",
      "====================\n",
      "target feature: attackType\n",
      "descriptive_feature: sourceIP_feature 3\n",
      "split criterion: entropy\n",
      "remaining impurity: 0.5157079999999999\n",
      "information gain: 0.3792920000000001\n",
      "====================\n",
      "target feature: attackType\n",
      "descriptive_feature: sourceIP_feature 4\n",
      "split criterion: entropy\n",
      "remaining impurity: 0.29876\n",
      "information gain: 0.59624\n",
      "====================\n",
      "target feature: attackType\n",
      "descriptive_feature: sourceEXT_SERVER\n",
      "split criterion: entropy\n",
      "remaining impurity: 0.889494\n",
      "information gain: 0.005506000000000011\n",
      "====================\n",
      "target feature: attackType\n",
      "descriptive_feature: sourceOPENSTACK_NET\n",
      "split criterion: entropy\n",
      "remaining impurity: 0.894208\n",
      "information gain: 0.0007920000000000149\n",
      "====================\n",
      "target feature: attackType\n",
      "descriptive_feature: sourceDNS\n",
      "split criterion: entropy\n",
      "remaining impurity: 0.869136\n",
      "information gain: 0.025863999999999998\n",
      "====================\n",
      "target feature: attackType\n",
      "descriptive_feature: destIP_feature 1\n",
      "split criterion: entropy\n",
      "remaining impurity: 0.676984\n",
      "information gain: 0.218016\n",
      "====================\n",
      "target feature: attackType\n",
      "descriptive_feature: destIP_feature 2\n",
      "split criterion: entropy\n",
      "remaining impurity: 0.676984\n",
      "information gain: 0.218016\n",
      "====================\n",
      "target feature: attackType\n",
      "descriptive_feature: destIP_feature 3\n",
      "split criterion: entropy\n",
      "remaining impurity: 0.525392\n",
      "information gain: 0.36960800000000005\n",
      "====================\n",
      "target feature: attackType\n",
      "descriptive_feature: destIP_feature 4\n",
      "split criterion: entropy\n",
      "remaining impurity: 0.32387900000000003\n",
      "information gain: 0.571121\n",
      "====================\n",
      "target feature: attackType\n",
      "descriptive_feature: destEXT_SERVER\n",
      "split criterion: entropy\n",
      "remaining impurity: 0.8901\n",
      "information gain: 0.0049000000000000155\n",
      "====================\n",
      "target feature: attackType\n",
      "descriptive_feature: destOPENSTACK_NET\n",
      "split criterion: entropy\n",
      "remaining impurity: 0.894208\n",
      "information gain: 0.0007920000000000149\n",
      "====================\n",
      "target feature: attackType\n",
      "descriptive_feature: destDNS\n",
      "split criterion: entropy\n",
      "remaining impurity: 0.869136\n",
      "information gain: 0.025863999999999998\n",
      "====================\n",
      "target feature: attackType\n",
      "descriptive_feature: GRE  \n",
      "split criterion: entropy\n"
     ]
    },
    {
     "name": "stderr",
     "output_type": "stream",
     "text": [
      "C:\\Users\\hp\\Anaconda3\\lib\\site-packages\\pandas\\core\\indexing.py:2418: FutureWarning: DataFrame/Series.to_dense is deprecated and will be removed in a future version\n",
      "  result = result.to_dense()\n"
     ]
    },
    {
     "name": "stdout",
     "output_type": "stream",
     "text": [
      "remaining impurity: 0.895\n",
      "information gain: 0.0\n",
      "====================\n",
      "target feature: attackType\n",
      "descriptive_feature: ICMP \n",
      "split criterion: entropy\n",
      "remaining impurity: 0.893228\n",
      "information gain: 0.0017719999999999958\n",
      "====================\n",
      "target feature: attackType\n",
      "descriptive_feature: IGMP \n",
      "split criterion: entropy\n",
      "remaining impurity: 0.895\n",
      "information gain: 0.0\n",
      "====================\n",
      "target feature: attackType\n",
      "descriptive_feature: TCP  \n",
      "split criterion: entropy\n",
      "remaining impurity: 0.8482480000000001\n",
      "information gain: 0.046751999999999905\n",
      "====================\n",
      "target feature: attackType\n",
      "descriptive_feature: UDP  \n",
      "split criterion: entropy\n",
      "remaining impurity: 0.8418270000000001\n",
      "information gain: 0.053172999999999915\n",
      "====================\n",
      "target feature: attackType\n",
      "descriptive_feature: N\n",
      "split criterion: entropy\n",
      "remaining impurity: 0.895\n",
      "information gain: 0.0\n",
      "====================\n",
      "target feature: attackType\n",
      "descriptive_feature: C\n",
      "split criterion: entropy\n",
      "remaining impurity: 0.894105\n",
      "information gain: 0.0008949999999999791\n",
      "====================\n",
      "target feature: attackType\n",
      "descriptive_feature: E\n",
      "split criterion: entropy\n",
      "remaining impurity: 0.894105\n",
      "information gain: 0.0008949999999999791\n",
      "====================\n",
      "target feature: attackType\n",
      "descriptive_feature: U\n",
      "split criterion: entropy\n",
      "remaining impurity: 0.895\n",
      "information gain: 0.0\n",
      "====================\n",
      "target feature: attackType\n",
      "descriptive_feature: A\n",
      "split criterion: entropy\n",
      "remaining impurity: 0.879546\n",
      "information gain: 0.015453999999999968\n",
      "====================\n",
      "target feature: attackType\n",
      "descriptive_feature: P\n",
      "split criterion: entropy\n",
      "remaining impurity: 0.887885\n",
      "information gain: 0.0071149999999999824\n",
      "====================\n",
      "target feature: attackType\n",
      "descriptive_feature: R\n",
      "split criterion: entropy\n",
      "remaining impurity: 0.89392\n",
      "information gain: 0.0010799999999999699\n",
      "====================\n",
      "target feature: attackType\n",
      "descriptive_feature: S\n",
      "split criterion: entropy\n",
      "remaining impurity: 0.47800600000000004\n",
      "information gain: 0.416994\n",
      "====================\n",
      "target feature: attackType\n",
      "descriptive_feature: F\n",
      "split criterion: entropy\n",
      "remaining impurity: 0.51942\n",
      "information gain: 0.37558\n",
      "====================\n"
     ]
    },
    {
     "data": {
      "text/plain": [
       "{'Duration': 0.530044,\n",
       " 'Src Pt': 0.627147,\n",
       " 'Dst Pt': 0.6256379999999999,\n",
       " 'Packets': 0.4253410000000001,\n",
       " 'Bytes': 0.831717,\n",
       " 'Tos': 0.14311399999999996,\n",
       " 'sourceIP_feature 1': 0.21518399999999993,\n",
       " 'sourceIP_feature 2': 0.21518399999999993,\n",
       " 'sourceIP_feature 3': 0.3792920000000001,\n",
       " 'sourceIP_feature 4': 0.59624,\n",
       " 'sourceEXT_SERVER': 0.005506000000000011,\n",
       " 'sourceOPENSTACK_NET': 0.0007920000000000149,\n",
       " 'sourceDNS': 0.025863999999999998,\n",
       " 'destIP_feature 1': 0.218016,\n",
       " 'destIP_feature 2': 0.218016,\n",
       " 'destIP_feature 3': 0.36960800000000005,\n",
       " 'destIP_feature 4': 0.571121,\n",
       " 'destEXT_SERVER': 0.0049000000000000155,\n",
       " 'destOPENSTACK_NET': 0.0007920000000000149,\n",
       " 'destDNS': 0.025863999999999998,\n",
       " 'GRE  ': 0.0,\n",
       " 'ICMP ': 0.0017719999999999958,\n",
       " 'IGMP ': 0.0,\n",
       " 'TCP  ': 0.046751999999999905,\n",
       " 'UDP  ': 0.053172999999999915,\n",
       " 'N': 0.0,\n",
       " 'C': 0.0008949999999999791,\n",
       " 'E': 0.0008949999999999791,\n",
       " 'U': 0.0,\n",
       " 'A': 0.015453999999999968,\n",
       " 'P': 0.0071149999999999824,\n",
       " 'R': 0.0010799999999999699,\n",
       " 'S': 0.416994,\n",
       " 'F': 0.37558}"
      ]
     },
     "execution_count": 25,
     "metadata": {},
     "output_type": "execute_result"
    }
   ],
   "source": [
    "split_criterion = 'entropy'\n",
    "feature_info_gain = {}\n",
    "for feature in data_ig.drop(columns='attackType').columns:\n",
    "    feature_info_gain[feature] = comp_feature_information_gain(data_ig, 'attackType', feature, split_criterion)\n",
    "feature_info_gain"
   ]
  },
  {
   "cell_type": "code",
   "execution_count": 30,
   "metadata": {
    "scrolled": true
   },
   "outputs": [
    {
     "data": {
      "text/html": [
       "<div>\n",
       "<style scoped>\n",
       "    .dataframe tbody tr th:only-of-type {\n",
       "        vertical-align: middle;\n",
       "    }\n",
       "\n",
       "    .dataframe tbody tr th {\n",
       "        vertical-align: top;\n",
       "    }\n",
       "\n",
       "    .dataframe thead th {\n",
       "        text-align: right;\n",
       "    }\n",
       "</style>\n",
       "<table border=\"1\" class=\"dataframe\">\n",
       "  <thead>\n",
       "    <tr style=\"text-align: right;\">\n",
       "      <th></th>\n",
       "      <th>entropy</th>\n",
       "    </tr>\n",
       "  </thead>\n",
       "  <tbody>\n",
       "    <tr>\n",
       "      <td>Bytes</td>\n",
       "      <td>0.831717</td>\n",
       "    </tr>\n",
       "    <tr>\n",
       "      <td>Src Pt</td>\n",
       "      <td>0.627147</td>\n",
       "    </tr>\n",
       "    <tr>\n",
       "      <td>Dst Pt</td>\n",
       "      <td>0.625638</td>\n",
       "    </tr>\n",
       "    <tr>\n",
       "      <td>sourceIP_feature 4</td>\n",
       "      <td>0.596240</td>\n",
       "    </tr>\n",
       "    <tr>\n",
       "      <td>destIP_feature 4</td>\n",
       "      <td>0.571121</td>\n",
       "    </tr>\n",
       "    <tr>\n",
       "      <td>Duration</td>\n",
       "      <td>0.530044</td>\n",
       "    </tr>\n",
       "    <tr>\n",
       "      <td>Packets</td>\n",
       "      <td>0.425341</td>\n",
       "    </tr>\n",
       "    <tr>\n",
       "      <td>S</td>\n",
       "      <td>0.416994</td>\n",
       "    </tr>\n",
       "    <tr>\n",
       "      <td>sourceIP_feature 3</td>\n",
       "      <td>0.379292</td>\n",
       "    </tr>\n",
       "    <tr>\n",
       "      <td>F</td>\n",
       "      <td>0.375580</td>\n",
       "    </tr>\n",
       "    <tr>\n",
       "      <td>destIP_feature 3</td>\n",
       "      <td>0.369608</td>\n",
       "    </tr>\n",
       "    <tr>\n",
       "      <td>destIP_feature 2</td>\n",
       "      <td>0.218016</td>\n",
       "    </tr>\n",
       "    <tr>\n",
       "      <td>destIP_feature 1</td>\n",
       "      <td>0.218016</td>\n",
       "    </tr>\n",
       "    <tr>\n",
       "      <td>sourceIP_feature 2</td>\n",
       "      <td>0.215184</td>\n",
       "    </tr>\n",
       "    <tr>\n",
       "      <td>sourceIP_feature 1</td>\n",
       "      <td>0.215184</td>\n",
       "    </tr>\n",
       "    <tr>\n",
       "      <td>Tos</td>\n",
       "      <td>0.143114</td>\n",
       "    </tr>\n",
       "    <tr>\n",
       "      <td>UDP</td>\n",
       "      <td>0.053173</td>\n",
       "    </tr>\n",
       "    <tr>\n",
       "      <td>TCP</td>\n",
       "      <td>0.046752</td>\n",
       "    </tr>\n",
       "    <tr>\n",
       "      <td>sourceDNS</td>\n",
       "      <td>0.025864</td>\n",
       "    </tr>\n",
       "    <tr>\n",
       "      <td>destDNS</td>\n",
       "      <td>0.025864</td>\n",
       "    </tr>\n",
       "    <tr>\n",
       "      <td>A</td>\n",
       "      <td>0.015454</td>\n",
       "    </tr>\n",
       "    <tr>\n",
       "      <td>P</td>\n",
       "      <td>0.007115</td>\n",
       "    </tr>\n",
       "    <tr>\n",
       "      <td>sourceEXT_SERVER</td>\n",
       "      <td>0.005506</td>\n",
       "    </tr>\n",
       "    <tr>\n",
       "      <td>destEXT_SERVER</td>\n",
       "      <td>0.004900</td>\n",
       "    </tr>\n",
       "    <tr>\n",
       "      <td>ICMP</td>\n",
       "      <td>0.001772</td>\n",
       "    </tr>\n",
       "    <tr>\n",
       "      <td>R</td>\n",
       "      <td>0.001080</td>\n",
       "    </tr>\n",
       "    <tr>\n",
       "      <td>E</td>\n",
       "      <td>0.000895</td>\n",
       "    </tr>\n",
       "    <tr>\n",
       "      <td>C</td>\n",
       "      <td>0.000895</td>\n",
       "    </tr>\n",
       "    <tr>\n",
       "      <td>sourceOPENSTACK_NET</td>\n",
       "      <td>0.000792</td>\n",
       "    </tr>\n",
       "    <tr>\n",
       "      <td>destOPENSTACK_NET</td>\n",
       "      <td>0.000792</td>\n",
       "    </tr>\n",
       "    <tr>\n",
       "      <td>U</td>\n",
       "      <td>0.000000</td>\n",
       "    </tr>\n",
       "    <tr>\n",
       "      <td>N</td>\n",
       "      <td>0.000000</td>\n",
       "    </tr>\n",
       "    <tr>\n",
       "      <td>IGMP</td>\n",
       "      <td>0.000000</td>\n",
       "    </tr>\n",
       "    <tr>\n",
       "      <td>GRE</td>\n",
       "      <td>0.000000</td>\n",
       "    </tr>\n",
       "  </tbody>\n",
       "</table>\n",
       "</div>"
      ],
      "text/plain": [
       "                      entropy\n",
       "Bytes                0.831717\n",
       "Src Pt               0.627147\n",
       "Dst Pt               0.625638\n",
       "sourceIP_feature 4   0.596240\n",
       "destIP_feature 4     0.571121\n",
       "Duration             0.530044\n",
       "Packets              0.425341\n",
       "S                    0.416994\n",
       "sourceIP_feature 3   0.379292\n",
       "F                    0.375580\n",
       "destIP_feature 3     0.369608\n",
       "destIP_feature 2     0.218016\n",
       "destIP_feature 1     0.218016\n",
       "sourceIP_feature 2   0.215184\n",
       "sourceIP_feature 1   0.215184\n",
       "Tos                  0.143114\n",
       "UDP                  0.053173\n",
       "TCP                  0.046752\n",
       "sourceDNS            0.025864\n",
       "destDNS              0.025864\n",
       "A                    0.015454\n",
       "P                    0.007115\n",
       "sourceEXT_SERVER     0.005506\n",
       "destEXT_SERVER       0.004900\n",
       "ICMP                 0.001772\n",
       "R                    0.001080\n",
       "E                    0.000895\n",
       "C                    0.000895\n",
       "sourceOPENSTACK_NET  0.000792\n",
       "destOPENSTACK_NET    0.000792\n",
       "U                    0.000000\n",
       "N                    0.000000\n",
       "IGMP                 0.000000\n",
       "GRE                  0.000000"
      ]
     },
     "execution_count": 30,
     "metadata": {},
     "output_type": "execute_result"
    }
   ],
   "source": [
    "feature_info_gain = pd.DataFrame.from_dict([feature_info_gain]).transpose()\n",
    "feature_info_gain = pd.DataFrame(feature_info_gain[0].sort_values(ascending = False))\n",
    "feature_info_gain.columns = ['entropy']\n",
    "feature_info_gain"
   ]
  },
  {
   "cell_type": "code",
   "execution_count": 28,
   "metadata": {},
   "outputs": [
    {
     "name": "stdout",
     "output_type": "stream",
     "text": [
      "target feature: attackType\n",
      "descriptive_feature: Duration\n",
      "split criterion: gini\n",
      "remaining impurity: 0.14231299999999997\n",
      "information gain: 0.286687\n",
      "====================\n",
      "target feature: attackType\n",
      "descriptive_feature: Src Pt\n",
      "split criterion: gini\n",
      "remaining impurity: 0.13233399999999998\n",
      "information gain: 0.296666\n",
      "====================\n",
      "target feature: attackType\n",
      "descriptive_feature: Dst Pt\n",
      "split criterion: gini\n",
      "remaining impurity: 0.132656\n",
      "information gain: 0.296344\n",
      "====================\n",
      "target feature: attackType\n",
      "descriptive_feature: Packets\n",
      "split criterion: gini\n",
      "remaining impurity: 0.20162500000000003\n",
      "information gain: 0.22737499999999997\n",
      "====================\n",
      "target feature: attackType\n",
      "descriptive_feature: Bytes\n",
      "split criterion: gini\n",
      "remaining impurity: 0.023725999999999997\n",
      "information gain: 0.405274\n",
      "====================\n",
      "target feature: attackType\n",
      "descriptive_feature: Tos\n",
      "split criterion: gini\n",
      "remaining impurity: 0.371657\n",
      "information gain: 0.05734299999999998\n",
      "====================\n",
      "target feature: attackType\n",
      "descriptive_feature: sourceIP_feature 1\n",
      "split criterion: gini\n",
      "remaining impurity: 0.334704\n",
      "information gain: 0.09429599999999999\n",
      "====================\n",
      "target feature: attackType\n",
      "descriptive_feature: sourceIP_feature 2\n",
      "split criterion: gini\n",
      "remaining impurity: 0.334704\n",
      "information gain: 0.09429599999999999\n",
      "====================\n",
      "target feature: attackType\n",
      "descriptive_feature: sourceIP_feature 3\n",
      "split criterion: gini\n",
      "remaining impurity: 0.23767999999999997\n",
      "information gain: 0.19132000000000002\n",
      "====================\n",
      "target feature: attackType\n",
      "descriptive_feature: sourceIP_feature 4\n",
      "split criterion: gini\n",
      "remaining impurity: 0.126449\n",
      "information gain: 0.302551\n",
      "====================\n",
      "target feature: attackType\n",
      "descriptive_feature: sourceEXT_SERVER\n",
      "split criterion: gini\n",
      "remaining impurity: 0.426237\n",
      "information gain: 0.0027630000000000154\n",
      "====================\n",
      "target feature: attackType\n",
      "descriptive_feature: sourceOPENSTACK_NET\n",
      "split criterion: gini\n",
      "remaining impurity: 0.42913999999999997\n",
      "information gain: -0.00013999999999997348\n",
      "====================\n",
      "target feature: attackType\n",
      "descriptive_feature: sourceDNS\n",
      "split criterion: gini\n",
      "remaining impurity: 0.41931999999999997\n",
      "information gain: 0.009680000000000022\n",
      "====================\n",
      "target feature: attackType\n",
      "descriptive_feature: destIP_feature 1\n",
      "split criterion: gini\n",
      "remaining impurity: 0.33324600000000004\n",
      "information gain: 0.09575399999999995\n",
      "====================\n",
      "target feature: attackType\n",
      "descriptive_feature: destIP_feature 2\n",
      "split criterion: gini\n",
      "remaining impurity: 0.33324600000000004\n",
      "information gain: 0.09575399999999995\n",
      "====================\n",
      "target feature: attackType\n",
      "descriptive_feature: destIP_feature 3\n",
      "split criterion: gini\n",
      "remaining impurity: 0.241396\n",
      "information gain: 0.187604\n",
      "====================\n",
      "target feature: attackType\n",
      "descriptive_feature: destIP_feature 4\n",
      "split criterion: gini\n",
      "remaining impurity: 0.134822\n",
      "information gain: 0.294178\n",
      "====================\n",
      "target feature: attackType\n",
      "descriptive_feature: destEXT_SERVER\n",
      "split criterion: gini\n",
      "remaining impurity: 0.426438\n",
      "information gain: 0.0025620000000000087\n",
      "====================\n",
      "target feature: attackType\n",
      "descriptive_feature: destOPENSTACK_NET\n",
      "split criterion: gini\n",
      "remaining impurity: 0.42913999999999997\n",
      "information gain: -0.00013999999999997348\n",
      "====================\n",
      "target feature: attackType\n",
      "descriptive_feature: destDNS\n",
      "split criterion: gini\n",
      "remaining impurity: 0.41931999999999997\n",
      "information gain: 0.009680000000000022\n",
      "====================\n",
      "target feature: attackType\n",
      "descriptive_feature: GRE  \n",
      "split criterion: gini\n",
      "remaining impurity: 0.429\n",
      "information gain: 0.0\n",
      "====================\n",
      "target feature: attackType\n",
      "descriptive_feature: ICMP \n",
      "split criterion: gini\n",
      "remaining impurity: 0.427544\n",
      "information gain: 0.0014560000000000128\n",
      "====================\n",
      "target feature: attackType\n",
      "descriptive_feature: IGMP \n",
      "split criterion: gini\n",
      "remaining impurity: 0.429\n",
      "information gain: 0.0\n",
      "====================\n",
      "target feature: attackType\n",
      "descriptive_feature: TCP  \n",
      "split criterion: gini\n",
      "remaining impurity: 0.40956400000000004\n",
      "information gain: 0.019435999999999953\n",
      "====================\n",
      "target feature: attackType\n",
      "descriptive_feature: UDP  \n",
      "split criterion: gini\n",
      "remaining impurity: 0.40766100000000005\n",
      "information gain: 0.02133899999999994\n",
      "====================\n",
      "target feature: attackType\n",
      "descriptive_feature: N\n",
      "split criterion: gini\n",
      "remaining impurity: 0.429\n",
      "information gain: 0.0\n",
      "====================\n",
      "target feature: attackType\n",
      "descriptive_feature: C\n",
      "split criterion: gini\n",
      "remaining impurity: 0.428571\n",
      "information gain: 0.0004290000000000127\n",
      "====================\n",
      "target feature: attackType\n",
      "descriptive_feature: E\n",
      "split criterion: gini\n",
      "remaining impurity: 0.428571\n",
      "information gain: 0.0004290000000000127\n",
      "====================\n",
      "target feature: attackType\n",
      "descriptive_feature: U\n",
      "split criterion: gini\n",
      "remaining impurity: 0.429\n",
      "information gain: 0.0\n",
      "====================\n",
      "target feature: attackType\n",
      "descriptive_feature: A\n",
      "split criterion: gini\n",
      "remaining impurity: 0.420674\n",
      "information gain: 0.008326\n",
      "====================\n",
      "target feature: attackType\n",
      "descriptive_feature: P\n",
      "split criterion: gini\n",
      "remaining impurity: 0.42479500000000003\n",
      "information gain: 0.004204999999999959\n",
      "====================\n",
      "target feature: attackType\n",
      "descriptive_feature: R\n",
      "split criterion: gini\n",
      "remaining impurity: 0.42829599999999995\n",
      "information gain: 0.0007040000000000379\n",
      "====================\n",
      "target feature: attackType\n",
      "descriptive_feature: S\n",
      "split criterion: gini\n",
      "remaining impurity: 0.213088\n",
      "information gain: 0.215912\n",
      "====================\n",
      "target feature: attackType\n",
      "descriptive_feature: F\n",
      "split criterion: gini\n",
      "remaining impurity: 0.222916\n",
      "information gain: 0.206084\n",
      "====================\n"
     ]
    },
    {
     "data": {
      "text/plain": [
       "{'Duration': 0.286687,\n",
       " 'Src Pt': 0.296666,\n",
       " 'Dst Pt': 0.296344,\n",
       " 'Packets': 0.22737499999999997,\n",
       " 'Bytes': 0.405274,\n",
       " 'Tos': 0.05734299999999998,\n",
       " 'sourceIP_feature 1': 0.09429599999999999,\n",
       " 'sourceIP_feature 2': 0.09429599999999999,\n",
       " 'sourceIP_feature 3': 0.19132000000000002,\n",
       " 'sourceIP_feature 4': 0.302551,\n",
       " 'sourceEXT_SERVER': 0.0027630000000000154,\n",
       " 'sourceOPENSTACK_NET': -0.00013999999999997348,\n",
       " 'sourceDNS': 0.009680000000000022,\n",
       " 'destIP_feature 1': 0.09575399999999995,\n",
       " 'destIP_feature 2': 0.09575399999999995,\n",
       " 'destIP_feature 3': 0.187604,\n",
       " 'destIP_feature 4': 0.294178,\n",
       " 'destEXT_SERVER': 0.0025620000000000087,\n",
       " 'destOPENSTACK_NET': -0.00013999999999997348,\n",
       " 'destDNS': 0.009680000000000022,\n",
       " 'GRE  ': 0.0,\n",
       " 'ICMP ': 0.0014560000000000128,\n",
       " 'IGMP ': 0.0,\n",
       " 'TCP  ': 0.019435999999999953,\n",
       " 'UDP  ': 0.02133899999999994,\n",
       " 'N': 0.0,\n",
       " 'C': 0.0004290000000000127,\n",
       " 'E': 0.0004290000000000127,\n",
       " 'U': 0.0,\n",
       " 'A': 0.008326,\n",
       " 'P': 0.004204999999999959,\n",
       " 'R': 0.0007040000000000379,\n",
       " 'S': 0.215912,\n",
       " 'F': 0.206084}"
      ]
     },
     "execution_count": 28,
     "metadata": {},
     "output_type": "execute_result"
    }
   ],
   "source": [
    "split_criterion = 'gini'\n",
    "feature_info_gain1 = {}\n",
    "for feature in data_ig.drop(columns='attackType').columns:\n",
    "    feature_info_gain1[feature] = comp_feature_information_gain(data_ig, 'attackType', feature, split_criterion)\n",
    "feature_info_gain1"
   ]
  },
  {
   "cell_type": "code",
   "execution_count": 31,
   "metadata": {
    "scrolled": true
   },
   "outputs": [
    {
     "data": {
      "text/html": [
       "<div>\n",
       "<style scoped>\n",
       "    .dataframe tbody tr th:only-of-type {\n",
       "        vertical-align: middle;\n",
       "    }\n",
       "\n",
       "    .dataframe tbody tr th {\n",
       "        vertical-align: top;\n",
       "    }\n",
       "\n",
       "    .dataframe thead th {\n",
       "        text-align: right;\n",
       "    }\n",
       "</style>\n",
       "<table border=\"1\" class=\"dataframe\">\n",
       "  <thead>\n",
       "    <tr style=\"text-align: right;\">\n",
       "      <th></th>\n",
       "      <th>gini</th>\n",
       "    </tr>\n",
       "  </thead>\n",
       "  <tbody>\n",
       "    <tr>\n",
       "      <td>Bytes</td>\n",
       "      <td>0.405274</td>\n",
       "    </tr>\n",
       "    <tr>\n",
       "      <td>sourceIP_feature 4</td>\n",
       "      <td>0.302551</td>\n",
       "    </tr>\n",
       "    <tr>\n",
       "      <td>Src Pt</td>\n",
       "      <td>0.296666</td>\n",
       "    </tr>\n",
       "    <tr>\n",
       "      <td>Dst Pt</td>\n",
       "      <td>0.296344</td>\n",
       "    </tr>\n",
       "    <tr>\n",
       "      <td>destIP_feature 4</td>\n",
       "      <td>0.294178</td>\n",
       "    </tr>\n",
       "    <tr>\n",
       "      <td>Duration</td>\n",
       "      <td>0.286687</td>\n",
       "    </tr>\n",
       "    <tr>\n",
       "      <td>Packets</td>\n",
       "      <td>0.227375</td>\n",
       "    </tr>\n",
       "    <tr>\n",
       "      <td>S</td>\n",
       "      <td>0.215912</td>\n",
       "    </tr>\n",
       "    <tr>\n",
       "      <td>F</td>\n",
       "      <td>0.206084</td>\n",
       "    </tr>\n",
       "    <tr>\n",
       "      <td>sourceIP_feature 3</td>\n",
       "      <td>0.191320</td>\n",
       "    </tr>\n",
       "    <tr>\n",
       "      <td>destIP_feature 3</td>\n",
       "      <td>0.187604</td>\n",
       "    </tr>\n",
       "    <tr>\n",
       "      <td>destIP_feature 2</td>\n",
       "      <td>0.095754</td>\n",
       "    </tr>\n",
       "    <tr>\n",
       "      <td>destIP_feature 1</td>\n",
       "      <td>0.095754</td>\n",
       "    </tr>\n",
       "    <tr>\n",
       "      <td>sourceIP_feature 2</td>\n",
       "      <td>0.094296</td>\n",
       "    </tr>\n",
       "    <tr>\n",
       "      <td>sourceIP_feature 1</td>\n",
       "      <td>0.094296</td>\n",
       "    </tr>\n",
       "    <tr>\n",
       "      <td>Tos</td>\n",
       "      <td>0.057343</td>\n",
       "    </tr>\n",
       "    <tr>\n",
       "      <td>UDP</td>\n",
       "      <td>0.021339</td>\n",
       "    </tr>\n",
       "    <tr>\n",
       "      <td>TCP</td>\n",
       "      <td>0.019436</td>\n",
       "    </tr>\n",
       "    <tr>\n",
       "      <td>sourceDNS</td>\n",
       "      <td>0.009680</td>\n",
       "    </tr>\n",
       "    <tr>\n",
       "      <td>destDNS</td>\n",
       "      <td>0.009680</td>\n",
       "    </tr>\n",
       "    <tr>\n",
       "      <td>A</td>\n",
       "      <td>0.008326</td>\n",
       "    </tr>\n",
       "    <tr>\n",
       "      <td>P</td>\n",
       "      <td>0.004205</td>\n",
       "    </tr>\n",
       "    <tr>\n",
       "      <td>sourceEXT_SERVER</td>\n",
       "      <td>0.002763</td>\n",
       "    </tr>\n",
       "    <tr>\n",
       "      <td>destEXT_SERVER</td>\n",
       "      <td>0.002562</td>\n",
       "    </tr>\n",
       "    <tr>\n",
       "      <td>ICMP</td>\n",
       "      <td>0.001456</td>\n",
       "    </tr>\n",
       "    <tr>\n",
       "      <td>R</td>\n",
       "      <td>0.000704</td>\n",
       "    </tr>\n",
       "    <tr>\n",
       "      <td>E</td>\n",
       "      <td>0.000429</td>\n",
       "    </tr>\n",
       "    <tr>\n",
       "      <td>C</td>\n",
       "      <td>0.000429</td>\n",
       "    </tr>\n",
       "    <tr>\n",
       "      <td>U</td>\n",
       "      <td>0.000000</td>\n",
       "    </tr>\n",
       "    <tr>\n",
       "      <td>N</td>\n",
       "      <td>0.000000</td>\n",
       "    </tr>\n",
       "    <tr>\n",
       "      <td>IGMP</td>\n",
       "      <td>0.000000</td>\n",
       "    </tr>\n",
       "    <tr>\n",
       "      <td>GRE</td>\n",
       "      <td>0.000000</td>\n",
       "    </tr>\n",
       "    <tr>\n",
       "      <td>sourceOPENSTACK_NET</td>\n",
       "      <td>-0.000140</td>\n",
       "    </tr>\n",
       "    <tr>\n",
       "      <td>destOPENSTACK_NET</td>\n",
       "      <td>-0.000140</td>\n",
       "    </tr>\n",
       "  </tbody>\n",
       "</table>\n",
       "</div>"
      ],
      "text/plain": [
       "                         gini\n",
       "Bytes                0.405274\n",
       "sourceIP_feature 4   0.302551\n",
       "Src Pt               0.296666\n",
       "Dst Pt               0.296344\n",
       "destIP_feature 4     0.294178\n",
       "Duration             0.286687\n",
       "Packets              0.227375\n",
       "S                    0.215912\n",
       "F                    0.206084\n",
       "sourceIP_feature 3   0.191320\n",
       "destIP_feature 3     0.187604\n",
       "destIP_feature 2     0.095754\n",
       "destIP_feature 1     0.095754\n",
       "sourceIP_feature 2   0.094296\n",
       "sourceIP_feature 1   0.094296\n",
       "Tos                  0.057343\n",
       "UDP                  0.021339\n",
       "TCP                  0.019436\n",
       "sourceDNS            0.009680\n",
       "destDNS              0.009680\n",
       "A                    0.008326\n",
       "P                    0.004205\n",
       "sourceEXT_SERVER     0.002763\n",
       "destEXT_SERVER       0.002562\n",
       "ICMP                 0.001456\n",
       "R                    0.000704\n",
       "E                    0.000429\n",
       "C                    0.000429\n",
       "U                    0.000000\n",
       "N                    0.000000\n",
       "IGMP                 0.000000\n",
       "GRE                  0.000000\n",
       "sourceOPENSTACK_NET -0.000140\n",
       "destOPENSTACK_NET   -0.000140"
      ]
     },
     "execution_count": 31,
     "metadata": {},
     "output_type": "execute_result"
    }
   ],
   "source": [
    "feature_info_gain1 = pd.DataFrame.from_dict([feature_info_gain1]).transpose()\n",
    "feature_info_gain1 = pd.DataFrame(feature_info_gain1[0].sort_values(ascending = False), column = ['gini'])\n",
    "feature_info_gain1.columns = ['gini']\n",
    "feature_info_gain1"
   ]
  },
  {
   "cell_type": "code",
   "execution_count": 34,
   "metadata": {},
   "outputs": [
    {
     "data": {
      "text/plain": [
       "Index(['Bytes', 'sourceIP_feature 4', 'Src Pt', 'Dst Pt', 'destIP_feature 4',\n",
       "       'Duration', 'Packets', 'S', 'F', 'sourceIP_feature 3',\n",
       "       'destIP_feature 3'],\n",
       "      dtype='object')"
      ]
     },
     "execution_count": 34,
     "metadata": {},
     "output_type": "execute_result"
    }
   ],
   "source": [
    "#The FIrst 11 features are selected\n",
    "selected_features = feature_info_gain1.index\n",
    "selected_features = selected_features[0:11]\n",
    "selected_features"
   ]
  },
  {
   "cell_type": "code",
   "execution_count": 20,
   "metadata": {},
   "outputs": [
    {
     "data": {
      "text/plain": [
       "20"
      ]
     },
     "execution_count": 20,
     "metadata": {},
     "output_type": "execute_result"
    }
   ],
   "source": [
    "gc.collect()"
   ]
  },
  {
   "cell_type": "code",
   "execution_count": 21,
   "metadata": {},
   "outputs": [],
   "source": [
    "from datetime import datetime\n",
    "def unix_time(df):\n",
    "  #  df[' Timestamp'] = df[' Timestamp'].apply(lambda x: x + ':00' if len(x) != 19 else x)\n",
    "   # df[' Timestamp'] = df[' Timestamp'].apply(lambda x: x[0 : 5 : ] + x[7 : :] if len(x) != 19 else x[0 : 7 : ] + x[9 : :])\n",
    "    df['Date first seen'] = df['Date first seen'].apply(lambda x: datetime.strptime(x,'%Y-%m-%d %H:%M:%S.%f'))\n",
    "    df['Date first seen'] = df['Date first seen'].apply(lambda x: x.timestamp()*1000)\n",
    "    return df;"
   ]
  },
  {
   "cell_type": "code",
   "execution_count": 22,
   "metadata": {},
   "outputs": [],
   "source": [
    "def normal_profile(grouped):\n",
    "    grouped['---'] = unix_time(grouped['---'])\n",
    "    start_time = int(grouped['---'].head(1)['Date first seen'].values[0])\n",
    "    end_time = int(grouped['---'].tail(1)['Date first seen'].values[0])\n",
    "#date_bins = pd.IntervalIndex.from_tuples(\n",
    "#        [(i, i+3600000) for i in range(start_time, end_time, 3600000)],\n",
    "#        closed=\"left\")\n",
    "#date_labels = [f\"{i}\" for i in range(1, len(date_bins)+1, 1)]\n",
    "    normal_data = dict(tuple( grouped['---'].groupby( pd.cut(\n",
    "            grouped['---']['Date first seen'],\n",
    "               np.arange(start_time, end_time, 3*3600000)))))\n",
    "    del grouped['---']\n",
    "    num = []\n",
    "    for i in grouped_data.keys():\n",
    "          num.append(len(grouped_data[i]))\n",
    "    print(min(num))\n",
    "    num = max(num)\n",
    "    print(num)\n",
    "    print(len(grouped.keys()))\n",
    "    grouped = {**grouped, **normal_data}\n",
    "    print(len(grouped.keys()))\n",
    "    return grouped, num;"
   ]
  },
  {
   "cell_type": "code",
   "execution_count": 23,
   "metadata": {},
   "outputs": [
    {
     "data": {
      "text/plain": [
       "0"
      ]
     },
     "execution_count": 23,
     "metadata": {},
     "output_type": "execute_result"
    }
   ],
   "source": [
    "grouped_data= dict(tuple(data.groupby(['attackID'])))\n",
    "del data\n",
    "gc.collect()"
   ]
  },
  {
   "cell_type": "code",
   "execution_count": 24,
   "metadata": {
    "scrolled": true
   },
   "outputs": [
    {
     "name": "stdout",
     "output_type": "stream",
     "text": [
      "---: 7195669 : 0\n",
      "Attack ID: 25; Lenght of Attack: 201; Attack Type: 1\n",
      "Attack ID: 27; Lenght of Attack: 680; Attack Type: 1\n",
      "Attack ID: 30; Lenght of Attack: 46; Attack Type: 1\n",
      "Attack ID: 32; Lenght of Attack: 335; Attack Type: 1\n",
      "Attack ID: 39; Lenght of Attack: 364; Attack Type: 1\n",
      "Attack ID: 54; Lenght of Attack: 183; Attack Type: 1\n",
      "Attack ID: 55; Lenght of Attack: 757; Attack Type: 1\n",
      "Attack ID: 56; Lenght of Attack: 427; Attack Type: 1\n",
      "Attack ID: 61; Lenght of Attack: 705; Attack Type: 1\n",
      "Attack ID: 62; Lenght of Attack: 574; Attack Type: 1\n",
      "Attack ID: 64; Lenght of Attack: 480; Attack Type: 1\n",
      "Attack ID: 70; Lenght of Attack: 240; Attack Type: 1\n",
      "Attack ID: 73; Lenght of Attack: 200; Attack Type: 1\n",
      "Attack ID: 74; Lenght of Attack: 200; Attack Type: 1\n",
      "Attack ID: 75; Lenght of Attack: 200; Attack Type: 1\n",
      "Attack ID: 76; Lenght of Attack: 168; Attack Type: 1\n",
      "Attack ID: 78; Lenght of Attack: 200; Attack Type: 1\n",
      "Attack ID: 79; Lenght of Attack: 200; Attack Type: 1\n",
      "Attack ID: 81; Lenght of Attack: 200; Attack Type: 1\n",
      "Attack ID: 83; Lenght of Attack: 200; Attack Type: 1\n",
      "Attack ID: 84; Lenght of Attack: 200; Attack Type: 1\n",
      "Attack ID: 87; Lenght of Attack: 200; Attack Type: 1\n",
      "Attack ID: 88; Lenght of Attack: 200; Attack Type: 1\n",
      "Attack ID: 90; Lenght of Attack: 200; Attack Type: 1\n",
      "Attack ID: 91; Lenght of Attack: 40; Attack Type: 1\n",
      "Attack ID: 92; Lenght of Attack: 40; Attack Type: 1\n",
      "dos : 18\n",
      "Attack ID: 16; Lenght of Attack: 261003; Attack Type: 2\n",
      "Attack ID: 18; Lenght of Attack: 295302; Attack Type: 2\n",
      "Attack ID: 23; Lenght of Attack: 72788; Attack Type: 2\n",
      "Attack ID: 26; Lenght of Attack: 74471; Attack Type: 2\n",
      "Attack ID: 28; Lenght of Attack: 36306; Attack Type: 2\n",
      "Attack ID: 3; Lenght of Attack: 37118; Attack Type: 2\n",
      "Attack ID: 31; Lenght of Attack: 144845; Attack Type: 2\n",
      "Attack ID: 4; Lenght of Attack: 72063; Attack Type: 2\n",
      "Attack ID: 42; Lenght of Attack: 184040; Attack Type: 2\n",
      "Attack ID: 44; Lenght of Attack: 261169; Attack Type: 2\n",
      "Attack ID: 45; Lenght of Attack: 224960; Attack Type: 2\n",
      "Attack ID: 46; Lenght of Attack: 111720; Attack Type: 2\n",
      "Attack ID: 53; Lenght of Attack: 516299; Attack Type: 2\n",
      "Attack ID: 59; Lenght of Attack: 110484; Attack Type: 2\n",
      "Attack ID: 6; Lenght of Attack: 37134; Attack Type: 2\n",
      "Attack ID: 60; Lenght of Attack: 333627; Attack Type: 2\n",
      "Attack ID: 63; Lenght of Attack: 148641; Attack Type: 2\n",
      "Attack ID: 9; Lenght of Attack: 37057; Attack Type: 2\n",
      "pingScan: 16\n",
      "Attack ID: 10; Lenght of Attack: 311; Attack Type: 3\n",
      "Attack ID: 13; Lenght of Attack: 513; Attack Type: 3\n",
      "Attack ID: 15; Lenght of Attack: 64; Attack Type: 3\n",
      "Attack ID: 22; Lenght of Attack: 295; Attack Type: 3\n",
      "Attack ID: 24; Lenght of Attack: 466; Attack Type: 3\n",
      "Attack ID: 33; Lenght of Attack: 307; Attack Type: 3\n",
      "Attack ID: 35; Lenght of Attack: 263; Attack Type: 3\n",
      "Attack ID: 36; Lenght of Attack: 494; Attack Type: 3\n",
      "Attack ID: 38; Lenght of Attack: 267; Attack Type: 3\n",
      "Attack ID: 41; Lenght of Attack: 379; Attack Type: 3\n",
      "Attack ID: 52; Lenght of Attack: 607; Attack Type: 3\n",
      "Attack ID: 57; Lenght of Attack: 522; Attack Type: 3\n",
      "Attack ID: 58; Lenght of Attack: 510; Attack Type: 3\n",
      "Attack ID: 65; Lenght of Attack: 373; Attack Type: 3\n",
      "Attack ID: 66; Lenght of Attack: 359; Attack Type: 3\n",
      "Attack ID: 69; Lenght of Attack: 360; Attack Type: 3\n",
      "portScan : 32\n",
      "Attack ID: 1; Lenght of Attack: 7657; Attack Type: 4\n",
      "Attack ID: 11; Lenght of Attack: 17401; Attack Type: 4\n",
      "Attack ID: 12; Lenght of Attack: 11526; Attack Type: 4\n",
      "Attack ID: 14; Lenght of Attack: 13807; Attack Type: 4\n",
      "Attack ID: 17; Lenght of Attack: 13338; Attack Type: 4\n",
      "Attack ID: 19; Lenght of Attack: 11672; Attack Type: 4\n",
      "Attack ID: 2; Lenght of Attack: 1927; Attack Type: 4\n",
      "Attack ID: 20; Lenght of Attack: 11748; Attack Type: 4\n",
      "Attack ID: 21; Lenght of Attack: 5113; Attack Type: 4\n",
      "Attack ID: 29; Lenght of Attack: 19732; Attack Type: 4\n",
      "Attack ID: 34; Lenght of Attack: 12909; Attack Type: 4\n",
      "Attack ID: 37; Lenght of Attack: 26114; Attack Type: 4\n",
      "Attack ID: 40; Lenght of Attack: 11609; Attack Type: 4\n",
      "Attack ID: 43; Lenght of Attack: 2143; Attack Type: 4\n",
      "Attack ID: 47; Lenght of Attack: 13420; Attack Type: 4\n",
      "Attack ID: 48; Lenght of Attack: 13600; Attack Type: 4\n",
      "Attack ID: 49; Lenght of Attack: 17629; Attack Type: 4\n",
      "Attack ID: 5; Lenght of Attack: 4948; Attack Type: 4\n",
      "Attack ID: 50; Lenght of Attack: 4589; Attack Type: 4\n",
      "Attack ID: 51; Lenght of Attack: 11968; Attack Type: 4\n",
      "Attack ID: 67; Lenght of Attack: 13426; Attack Type: 4\n",
      "Attack ID: 68; Lenght of Attack: 5632; Attack Type: 4\n",
      "Attack ID: 7; Lenght of Attack: 9586; Attack Type: 4\n",
      "Attack ID: 71; Lenght of Attack: 2008; Attack Type: 4\n",
      "Attack ID: 72; Lenght of Attack: 2002; Attack Type: 4\n",
      "Attack ID: 77; Lenght of Attack: 6410; Attack Type: 4\n",
      "Attack ID: 8; Lenght of Attack: 4424; Attack Type: 4\n",
      "Attack ID: 80; Lenght of Attack: 1991; Attack Type: 4\n",
      "Attack ID: 82; Lenght of Attack: 1370; Attack Type: 4\n",
      "Attack ID: 85; Lenght of Attack: 1984; Attack Type: 4\n",
      "Attack ID: 86; Lenght of Attack: 2002; Attack Type: 4\n",
      "Attack ID: 89; Lenght of Attack: 952; Attack Type: 4\n"
     ]
    }
   ],
   "source": [
    "no_1 = []\n",
    "no_2 = []\n",
    "no_3 = []\n",
    "no_4 = []\n",
    "for i in grouped_data.keys():\n",
    "   \n",
    "    if grouped_data[i]['attackType'].unique()[0] == 0:\n",
    "        print(f\"{i}: {len(grouped_data[i])} : {grouped_data[i]['attackType'].unique()[0]}\")\n",
    "    if grouped_data[i]['attackType'].unique()[0] == 1:\n",
    "              no_1.append(i)\n",
    "    if grouped_data[i]['attackType'].unique()[0] == 2:\n",
    "              no_2.append(i)\n",
    "    if grouped_data[i]['attackType'].unique()[0] == 3:\n",
    "              no_3.append(i)\n",
    "    if grouped_data[i]['attackType'].unique()[0] == 4:\n",
    "              no_4.append(i)\n",
    "for i in no_1:\n",
    "     print(f\"Attack ID: {i}; Lenght of Attack: {len(grouped_data[i])}; Attack Type: {grouped_data[i]['attackType'].unique()[0]}\")\n",
    "print(f\"dos : {len(no_2)}\")\n",
    "for i in no_2:\n",
    "     print(f\"Attack ID: {i}; Lenght of Attack: {len(grouped_data[i])}; Attack Type: {grouped_data[i]['attackType'].unique()[0]}\")\n",
    "print(f\"pingScan: {len(no_3)}\")\n",
    "for i in no_3:\n",
    "     print(f\"Attack ID: {i}; Lenght of Attack: {len(grouped_data[i])}; Attack Type: {grouped_data[i]['attackType'].unique()[0]}\")\n",
    "print(f\"portScan : {len(no_4)}\")\n",
    "for i in no_4:\n",
    "     print(f\"Attack ID: {i}; Lenght of Attack: {len(grouped_data[i])}; Attack Type: {grouped_data[i]['attackType'].unique()[0]}\")\n"
   ]
  },
  {
   "cell_type": "code",
   "execution_count": 25,
   "metadata": {},
   "outputs": [
    {
     "data": {
      "text/plain": [
       "20"
      ]
     },
     "execution_count": 25,
     "metadata": {},
     "output_type": "execute_result"
    }
   ],
   "source": [
    "del no_1\n",
    "del no_2\n",
    "del no_3\n",
    "del no_4\n",
    "gc.collect()"
   ]
  },
  {
   "cell_type": "code",
   "execution_count": 26,
   "metadata": {},
   "outputs": [],
   "source": [
    "def del_largeInstances(dic, length):\n",
    "    remove_ID = []\n",
    "    for i in dic.keys():\n",
    "        if (i != '---'):\n",
    "            if(len(dic[i]) >= length):\n",
    "                remove_ID.append(i)\n",
    "    print(len(remove_ID))\n",
    "    removed_attacks = {}\n",
    "    for i in remove_ID:\n",
    "        removed_attacks[i] = dic[i]\n",
    "        del dic[i]\n",
    "    return dic;"
   ]
  },
  {
   "cell_type": "code",
   "execution_count": 27,
   "metadata": {},
   "outputs": [
    {
     "name": "stdout",
     "output_type": "stream",
     "text": [
      "19\n"
     ]
    }
   ],
   "source": [
    "grouped_data = del_largeInstances(grouped_data, 20000)"
   ]
  },
  {
   "cell_type": "code",
   "execution_count": 28,
   "metadata": {},
   "outputs": [
    {
     "name": "stdout",
     "output_type": "stream",
     "text": [
      "40\n",
      "19732\n",
      "73\n",
      "350\n"
     ]
    }
   ],
   "source": [
    "#grouped_data, num = normal_profile(grouped_data)\n",
    "grouped_data1= {}\n",
    "for i in grouped_data.keys():\n",
    "    grouped_data[i] = flag_convert(grouped_data[i])\n",
    "   # grouped_data[i] =  drop_columns(grouped_data[i])\n",
    "grouped_data, num = normal_profile(grouped_data)\n",
    "for i in grouped_data.keys():\n",
    "   # grouped_data[i] = flag_convert(grouped_data[i])\n",
    "    grouped_data[i] =  drop_columns(grouped_data[i])"
   ]
  },
  {
   "cell_type": "code",
   "execution_count": 29,
   "metadata": {},
   "outputs": [
    {
     "name": "stdout",
     "output_type": "stream",
     "text": [
      "1 : False\n",
      "10 : False\n",
      "11 : False\n",
      "12 : False\n",
      "13 : False\n",
      "14 : False\n",
      "15 : False\n",
      "17 : False\n",
      "19 : False\n",
      "2 : False\n",
      "20 : False\n",
      "21 : False\n",
      "22 : False\n",
      "24 : False\n",
      "25 : False\n",
      "27 : False\n",
      "29 : False\n",
      "30 : False\n",
      "32 : False\n",
      "33 : False\n",
      "34 : False\n",
      "35 : False\n",
      "36 : False\n",
      "38 : False\n",
      "39 : False\n",
      "40 : False\n",
      "41 : False\n",
      "43 : False\n",
      "47 : False\n",
      "48 : False\n",
      "49 : False\n",
      "5 : False\n",
      "50 : False\n",
      "51 : False\n",
      "52 : False\n",
      "54 : False\n",
      "55 : False\n",
      "56 : False\n",
      "57 : False\n",
      "58 : False\n",
      "61 : False\n",
      "62 : False\n",
      "64 : False\n",
      "65 : False\n",
      "66 : False\n",
      "67 : False\n",
      "68 : False\n",
      "69 : False\n",
      "7 : False\n",
      "70 : False\n",
      "71 : False\n",
      "72 : False\n",
      "73 : False\n",
      "74 : False\n",
      "75 : False\n",
      "76 : False\n",
      "77 : False\n",
      "78 : False\n",
      "79 : False\n",
      "8 : False\n",
      "80 : False\n",
      "81 : False\n",
      "82 : False\n",
      "83 : False\n",
      "84 : False\n",
      "85 : False\n",
      "86 : False\n",
      "87 : False\n",
      "88 : False\n",
      "89 : False\n",
      "90 : False\n",
      "91 : False\n",
      "92 : False\n",
      "(1489536076632, 1489546876632] : False\n",
      "(1489546876632, 1489557676632] : False\n",
      "(1489557676632, 1489568476632] : False\n",
      "(1489568476632, 1489579276632] : False\n",
      "(1489579276632, 1489590076632] : False\n",
      "(1489590076632, 1489600876632] : False\n",
      "(1489600876632, 1489611676632] : False\n",
      "(1489611676632, 1489622476632] : False\n",
      "(1489622476632, 1489633276632] : False\n",
      "(1489633276632, 1489644076632] : False\n",
      "(1489644076632, 1489654876632] : False\n",
      "(1489654876632, 1489665676632] : False\n",
      "(1489665676632, 1489676476632] : False\n",
      "(1489676476632, 1489687276632] : False\n",
      "(1489687276632, 1489698076632] : False\n",
      "(1489698076632, 1489708876632] : False\n",
      "(1489708876632, 1489719676632] : False\n",
      "(1489719676632, 1489730476632] : False\n",
      "(1489730476632, 1489741276632] : False\n",
      "(1489741276632, 1489752076632] : False\n",
      "(1489752076632, 1489762876632] : False\n",
      "(1489762876632, 1489773676632] : False\n",
      "(1489773676632, 1489784476632] : False\n",
      "(1489784476632, 1489795276632] : False\n",
      "(1489795276632, 1489806076632] : False\n",
      "(1489806076632, 1489816876632] : False\n",
      "(1489816876632, 1489827676632] : False\n",
      "(1489827676632, 1489838476632] : False\n",
      "(1489838476632, 1489849276632] : False\n",
      "(1489849276632, 1489860076632] : False\n",
      "(1489860076632, 1489870876632] : False\n",
      "(1489870876632, 1489881676632] : False\n",
      "(1489881676632, 1489892476632] : False\n",
      "(1489892476632, 1489903276632] : False\n",
      "(1489903276632, 1489914076632] : False\n",
      "(1489914076632, 1489924876632] : False\n",
      "(1489924876632, 1489935676632] : False\n",
      "(1489935676632, 1489946476632] : False\n",
      "(1489946476632, 1489957276632] : False\n",
      "(1489957276632, 1489968076632] : False\n",
      "(1489968076632, 1489978876632] : False\n",
      "(1489978876632, 1489989676632] : False\n",
      "(1489989676632, 1490000476632] : False\n",
      "(1490000476632, 1490011276632] : False\n",
      "(1490011276632, 1490022076632] : False\n",
      "(1490022076632, 1490032876632] : False\n",
      "(1490032876632, 1490043676632] : False\n",
      "(1490043676632, 1490054476632] : False\n",
      "(1490054476632, 1490065276632] : False\n",
      "(1490065276632, 1490076076632] : False\n",
      "(1490076076632, 1490086876632] : False\n",
      "(1490086876632, 1490097676632] : False\n",
      "(1490097676632, 1490108476632] : False\n",
      "(1490108476632, 1490119276632] : False\n",
      "(1490119276632, 1490130076632] : False\n",
      "(1490130076632, 1490140876632] : False\n",
      "(1490140876632, 1490151676632] : False\n",
      "(1490151676632, 1490162476632] : False\n",
      "(1490162476632, 1490173276632] : False\n",
      "(1490173276632, 1490184076632] : False\n",
      "(1490184076632, 1490194876632] : False\n",
      "(1490194876632, 1490205676632] : False\n",
      "(1490205676632, 1490216476632] : False\n",
      "(1490216476632, 1490227276632] : False\n",
      "(1490227276632, 1490238076632] : False\n",
      "(1490238076632, 1490248876632] : False\n",
      "(1490248876632, 1490259676632] : False\n",
      "(1490259676632, 1490270476632] : False\n",
      "(1490270476632, 1490281276632] : False\n",
      "(1490281276632, 1490292076632] : False\n",
      "(1490292076632, 1490302876632] : False\n",
      "(1490302876632, 1490313676632] : False\n",
      "(1490313676632, 1490324476632] : False\n",
      "(1490324476632, 1490335276632] : False\n",
      "(1490335276632, 1490346076632] : False\n",
      "(1490346076632, 1490356876632] : False\n",
      "(1490356876632, 1490367676632] : False\n",
      "(1490367676632, 1490378476632] : False\n",
      "(1490378476632, 1490389276632] : False\n",
      "(1490389276632, 1490400076632] : False\n",
      "(1490400076632, 1490410876632] : False\n",
      "(1490410876632, 1490421676632] : False\n",
      "(1490421676632, 1490432476632] : False\n",
      "(1490432476632, 1490443276632] : False\n",
      "(1490443276632, 1490454076632] : False\n",
      "(1490454076632, 1490464876632] : False\n",
      "(1490464876632, 1490475676632] : False\n",
      "(1490475676632, 1490486476632] : False\n",
      "(1490486476632, 1490497276632] : False\n",
      "(1490497276632, 1490508076632] : False\n",
      "(1490508076632, 1490518876632] : False\n",
      "(1490518876632, 1490529676632] : False\n",
      "(1490529676632, 1490540476632] : False\n",
      "(1490540476632, 1490551276632] : False\n",
      "(1490551276632, 1490562076632] : False\n",
      "(1490562076632, 1490572876632] : False\n",
      "(1490572876632, 1490583676632] : False\n",
      "(1490583676632, 1490594476632] : False\n",
      "(1490594476632, 1490605276632] : False\n",
      "(1490605276632, 1490616076632] : False\n",
      "(1490616076632, 1490626876632] : False\n",
      "(1490626876632, 1490637676632] : False\n",
      "(1490637676632, 1490648476632] : False\n",
      "(1490648476632, 1490659276632] : False\n",
      "(1490659276632, 1490670076632] : False\n",
      "(1490670076632, 1490680876632] : False\n",
      "(1490680876632, 1490691676632] : False\n",
      "(1490691676632, 1490702476632] : False\n",
      "(1490702476632, 1490713276632] : False\n",
      "(1490713276632, 1490724076632] : False\n",
      "(1490724076632, 1490734876632] : False\n",
      "(1490734876632, 1490745676632] : False\n",
      "(1490745676632, 1490756476632] : False\n",
      "(1490756476632, 1490767276632] : False\n",
      "(1490767276632, 1490778076632] : False\n",
      "(1490778076632, 1490788876632] : False\n",
      "(1490788876632, 1490799676632] : False\n",
      "(1490799676632, 1490810476632] : False\n",
      "(1490810476632, 1490821276632] : False\n",
      "(1490821276632, 1490832076632] : False\n",
      "(1490832076632, 1490842876632] : False\n",
      "(1490842876632, 1490853676632] : False\n",
      "(1490853676632, 1490864476632] : False\n",
      "(1490864476632, 1490875276632] : False\n",
      "(1490875276632, 1490886076632] : False\n",
      "(1490886076632, 1490896876632] : False\n",
      "(1490896876632, 1490907676632] : False\n",
      "(1490907676632, 1490918476632] : False\n",
      "(1490918476632, 1490929276632] : False\n",
      "(1490929276632, 1490940076632] : False\n",
      "(1490940076632, 1490950876632] : False\n",
      "(1490950876632, 1490961676632] : False\n",
      "(1490961676632, 1490972476632] : False\n",
      "(1490972476632, 1490983276632] : False\n",
      "(1490983276632, 1490994076632] : False\n",
      "(1490994076632, 1491004876632] : False\n",
      "(1491004876632, 1491015676632] : False\n",
      "(1491015676632, 1491026476632] : False\n",
      "(1491026476632, 1491037276632] : False\n",
      "(1491037276632, 1491048076632] : False\n",
      "(1491048076632, 1491058876632] : False\n",
      "(1491058876632, 1491069676632] : False\n",
      "(1491069676632, 1491080476632] : False\n",
      "(1491080476632, 1491091276632] : False\n",
      "(1491091276632, 1491102076632] : False\n",
      "(1491102076632, 1491112876632] : False\n",
      "(1491112876632, 1491123676632] : False\n",
      "(1491123676632, 1491134476632] : False\n",
      "(1491134476632, 1491145276632] : False\n",
      "(1491145276632, 1491156076632] : False\n",
      "(1491156076632, 1491166876632] : False\n",
      "(1491166876632, 1491177676632] : False\n",
      "(1491177676632, 1491188476632] : False\n",
      "(1491188476632, 1491199276632] : False\n",
      "(1491199276632, 1491210076632] : False\n",
      "(1491210076632, 1491220876632] : False\n",
      "(1491220876632, 1491231676632] : False\n",
      "(1491231676632, 1491242476632] : False\n",
      "(1491242476632, 1491253276632] : False\n",
      "(1491253276632, 1491264076632] : False\n",
      "(1491264076632, 1491274876632] : False\n",
      "(1491274876632, 1491285676632] : False\n",
      "(1491285676632, 1491296476632] : False\n",
      "(1491296476632, 1491307276632] : False\n",
      "(1491307276632, 1491318076632] : False\n",
      "(1491318076632, 1491328876632] : False\n",
      "(1491328876632, 1491339676632] : False\n",
      "(1491339676632, 1491350476632] : False\n",
      "(1491350476632, 1491361276632] : False\n",
      "(1491361276632, 1491372076632] : False\n",
      "(1491372076632, 1491382876632] : False\n",
      "(1491382876632, 1491393676632] : False\n",
      "(1491393676632, 1491404476632] : False\n",
      "(1491404476632, 1491415276632] : False\n",
      "(1491415276632, 1491426076632] : False\n",
      "(1491426076632, 1491436876632] : False\n",
      "(1491436876632, 1491447676632] : False\n",
      "(1491447676632, 1491458476632] : False\n",
      "(1491458476632, 1491469276632] : False\n",
      "(1491469276632, 1491480076632] : False\n",
      "(1491480076632, 1491490876632] : False\n",
      "(1491490876632, 1491501676632] : False\n",
      "(1491501676632, 1491512476632] : False\n",
      "(1491512476632, 1491523276632] : False\n",
      "(1491523276632, 1491534076632] : False\n",
      "(1491534076632, 1491544876632] : False\n",
      "(1491544876632, 1491555676632] : False\n",
      "(1491555676632, 1491566476632] : False\n",
      "(1491566476632, 1491577276632] : False\n",
      "(1491577276632, 1491588076632] : False\n",
      "(1491588076632, 1491598876632] : False\n",
      "(1491598876632, 1491609676632] : False\n",
      "(1491609676632, 1491620476632] : False\n",
      "(1491620476632, 1491631276632] : False\n",
      "(1491631276632, 1491642076632] : False\n",
      "(1491642076632, 1491652876632] : False\n",
      "(1491652876632, 1491663676632] : False\n",
      "(1491663676632, 1491674476632] : False\n",
      "(1491674476632, 1491685276632] : False\n",
      "(1491685276632, 1491696076632] : False\n",
      "(1491696076632, 1491706876632] : False\n",
      "(1491706876632, 1491717676632] : False\n",
      "(1491717676632, 1491728476632] : False\n",
      "(1491728476632, 1491739276632] : False\n",
      "(1491739276632, 1491750076632] : False\n",
      "(1491750076632, 1491760876632] : False\n",
      "(1491760876632, 1491771676632] : False\n",
      "(1491771676632, 1491782476632] : False\n",
      "(1491782476632, 1491793276632] : False\n",
      "(1491793276632, 1491804076632] : False\n",
      "(1491804076632, 1491814876632] : False\n",
      "(1491814876632, 1491825676632] : False\n",
      "(1491825676632, 1491836476632] : False\n",
      "(1491836476632, 1491847276632] : False\n",
      "(1491847276632, 1491858076632] : False\n",
      "(1491858076632, 1491868876632] : False\n",
      "(1491868876632, 1491879676632] : False\n",
      "(1491879676632, 1491890476632] : False\n",
      "(1491890476632, 1491901276632] : False\n",
      "(1491901276632, 1491912076632] : False\n",
      "(1491912076632, 1491922876632] : False\n",
      "(1491922876632, 1491933676632] : False\n",
      "(1491933676632, 1491944476632] : False\n",
      "(1491944476632, 1491955276632] : False\n",
      "(1491955276632, 1491966076632] : False\n",
      "(1491966076632, 1491976876632] : False\n",
      "(1491976876632, 1491987676632] : False\n",
      "(1491987676632, 1491998476632] : False\n",
      "(1491998476632, 1492009276632] : False\n"
     ]
    },
    {
     "name": "stdout",
     "output_type": "stream",
     "text": [
      "(1492009276632, 1492020076632] : False\n",
      "(1492020076632, 1492030876632] : False\n",
      "(1492030876632, 1492041676632] : False\n",
      "(1492041676632, 1492052476632] : False\n",
      "(1492052476632, 1492063276632] : False\n",
      "(1492063276632, 1492074076632] : False\n",
      "(1492074076632, 1492084876632] : False\n",
      "(1492084876632, 1492095676632] : False\n",
      "(1492095676632, 1492106476632] : False\n",
      "(1492106476632, 1492117276632] : False\n",
      "(1492117276632, 1492128076632] : False\n",
      "(1492128076632, 1492138876632] : False\n",
      "(1492138876632, 1492149676632] : False\n",
      "(1492149676632, 1492160476632] : False\n",
      "(1492160476632, 1492171276632] : False\n",
      "(1492171276632, 1492182076632] : False\n",
      "(1492182076632, 1492192876632] : False\n",
      "(1492192876632, 1492203676632] : False\n",
      "(1492203676632, 1492214476632] : False\n",
      "(1492214476632, 1492225276632] : False\n",
      "(1492225276632, 1492236076632] : False\n",
      "(1492236076632, 1492246876632] : False\n",
      "(1492246876632, 1492257676632] : False\n",
      "(1492257676632, 1492268476632] : False\n",
      "(1492268476632, 1492279276632] : False\n",
      "(1492279276632, 1492290076632] : False\n",
      "(1492290076632, 1492300876632] : False\n",
      "(1492300876632, 1492311676632] : False\n",
      "(1492311676632, 1492322476632] : False\n",
      "(1492322476632, 1492333276632] : False\n",
      "(1492333276632, 1492344076632] : False\n",
      "(1492344076632, 1492354876632] : False\n",
      "(1492354876632, 1492365676632] : False\n",
      "(1492365676632, 1492376476632] : False\n",
      "(1492376476632, 1492387276632] : False\n",
      "(1492387276632, 1492398076632] : False\n",
      "(1492398076632, 1492408876632] : False\n",
      "(1492408876632, 1492419676632] : False\n",
      "(1492419676632, 1492430476632] : False\n",
      "(1492430476632, 1492441276632] : False\n",
      "(1492441276632, 1492452076632] : False\n",
      "(1492452076632, 1492462876632] : False\n",
      "(1492462876632, 1492473676632] : False\n",
      "(1492473676632, 1492484476632] : False\n",
      "(1492484476632, 1492495276632] : False\n",
      "(1492495276632, 1492506076632] : False\n",
      "(1492506076632, 1492516876632] : False\n",
      "(1492516876632, 1492527676632] : False\n"
     ]
    }
   ],
   "source": [
    "for i in grouped_data.keys():\n",
    "    #if (grouped_data[i].hasnull())\n",
    "    print(f'{i} : {grouped_data[i].isnull().values.any()}')"
   ]
  },
  {
   "cell_type": "code",
   "execution_count": 30,
   "metadata": {},
   "outputs": [
    {
     "name": "stdout",
     "output_type": "stream",
     "text": [
      "Number of Instances which are empty: 167\n"
     ]
    }
   ],
   "source": [
    "counter = 0\n",
    "for i in grouped_data.keys():\n",
    "    if ( len(grouped_data[i]) == 0):\n",
    "        counter = counter +1;\n",
    "print(f\"Number of Instances which are empty: {counter}\")"
   ]
  },
  {
   "cell_type": "code",
   "execution_count": 31,
   "metadata": {},
   "outputs": [],
   "source": [
    "def roundup(x):\n",
    "    return x if x % 100 == 0 else x + 100 - x % 100\n",
    "#Convert to 3D arrays, input dict\n",
    "def make_array(dic):\n",
    "    x = []\n",
    "    y = []\n",
    "    zero_arrays = []\n",
    "    for i in dic.keys():\n",
    "        if ( len(dic[i]) == 0):\n",
    "            zero_arrays.append(i);\n",
    "    for i in zero_arrays:\n",
    "        del dic[i]\n",
    "    for i in dic.keys():\n",
    "        x.append(np.array(dic[i].drop(['attackType'],axis = 1)).astype(np.float32))\n",
    "       # print(f'{i}')\n",
    "        y.append(dic[i]['attackType'].values[0])\n",
    "    print(len(y))\n",
    "    o = []\n",
    "    features = len(x[1][1])\n",
    "    #for i in x:\n",
    "     #   o.append(len(i))\n",
    "   # print(min(o))\n",
    "    o = num\n",
    "    o = roundup(o)\n",
    "    print(o)\n",
    "    index = 0\n",
    "    for i in x:\n",
    "        l = len(i)\n",
    "        i = list(i)\n",
    "        if(o > l):\n",
    "            l = o-l\n",
    "            for j in range(0, l, 1):\n",
    "                i.append([0] * features)\n",
    "        elif (o<l):\n",
    "            l = l-o\n",
    "            i = i[:-l]\n",
    "        #i = [k = np.array([k]) for l in i for k in l] # Makes array elements an array \n",
    "        x[index] = np.array(i).astype(np.float32)\n",
    "        index = index + 1\n",
    "    #x = [[i] for i in x]\n",
    "    return x,y"
   ]
  },
  {
   "cell_type": "code",
   "execution_count": 32,
   "metadata": {},
   "outputs": [],
   "source": [
    "#Remove columns that were not listed in cfs list\n",
    "selected_features = ['Bytes', 'sourceIP_feature 4', 'Src Pt', 'Dst Pt', 'destIP_feature 4',\n",
    "       'Duration', 'Packets', 'S', 'F', 'sourceIP_feature 3',\n",
    "       'destIP_feature 3', 'attackType']\n",
    "for i in grouped_data.keys():\n",
    "    if ( len(grouped_data[i]) != 0):\n",
    "        grouped_data[i] = grouped_data[i][selected_features]"
   ]
  },
  {
   "cell_type": "code",
   "execution_count": 33,
   "metadata": {},
   "outputs": [
    {
     "name": "stdout",
     "output_type": "stream",
     "text": [
      "1 : False\n",
      "10 : False\n",
      "11 : False\n",
      "12 : False\n",
      "13 : False\n",
      "14 : False\n",
      "15 : False\n",
      "17 : False\n",
      "19 : False\n",
      "2 : False\n",
      "20 : False\n",
      "21 : False\n",
      "22 : False\n",
      "24 : False\n",
      "25 : False\n",
      "27 : False\n",
      "29 : False\n",
      "30 : False\n",
      "32 : False\n",
      "33 : False\n",
      "34 : False\n",
      "35 : False\n",
      "36 : False\n",
      "38 : False\n",
      "39 : False\n",
      "40 : False\n",
      "41 : False\n",
      "43 : False\n",
      "47 : False\n",
      "48 : False\n",
      "49 : False\n",
      "5 : False\n",
      "50 : False\n",
      "51 : False\n",
      "52 : False\n",
      "54 : False\n",
      "55 : False\n",
      "56 : False\n",
      "57 : False\n",
      "58 : False\n",
      "61 : False\n",
      "62 : False\n",
      "64 : False\n",
      "65 : False\n",
      "66 : False\n",
      "67 : False\n",
      "68 : False\n",
      "69 : False\n",
      "7 : False\n",
      "70 : False\n",
      "71 : False\n",
      "72 : False\n",
      "73 : False\n",
      "74 : False\n",
      "75 : False\n",
      "76 : False\n",
      "77 : False\n",
      "78 : False\n",
      "79 : False\n",
      "8 : False\n",
      "80 : False\n",
      "81 : False\n",
      "82 : False\n",
      "83 : False\n",
      "84 : False\n",
      "85 : False\n",
      "86 : False\n",
      "87 : False\n",
      "88 : False\n",
      "89 : False\n",
      "90 : False\n",
      "91 : False\n",
      "92 : False\n",
      "(1489536076632, 1489546876632] : False\n",
      "(1489546876632, 1489557676632] : False\n",
      "(1489557676632, 1489568476632] : False\n",
      "(1489568476632, 1489579276632] : False\n",
      "(1489579276632, 1489590076632] : False\n",
      "(1489590076632, 1489600876632] : False\n",
      "(1489600876632, 1489611676632] : False\n",
      "(1489611676632, 1489622476632] : False\n",
      "(1489622476632, 1489633276632] : False\n",
      "(1489633276632, 1489644076632] : False\n",
      "(1489644076632, 1489654876632] : False\n",
      "(1489654876632, 1489665676632] : False\n",
      "(1489665676632, 1489676476632] : False\n",
      "(1489676476632, 1489687276632] : False\n",
      "(1489687276632, 1489698076632] : False\n",
      "(1489698076632, 1489708876632] : False\n",
      "(1489708876632, 1489719676632] : False\n",
      "(1489719676632, 1489730476632] : False\n",
      "(1489730476632, 1489741276632] : False\n",
      "(1489741276632, 1489752076632] : False\n",
      "(1489752076632, 1489762876632] : False\n",
      "(1489762876632, 1489773676632] : False\n",
      "(1489773676632, 1489784476632] : False\n",
      "(1489784476632, 1489795276632] : False\n",
      "(1489795276632, 1489806076632] : False\n",
      "(1489806076632, 1489816876632] : False\n",
      "(1489816876632, 1489827676632] : False\n",
      "(1489827676632, 1489838476632] : False\n",
      "(1489838476632, 1489849276632] : False\n",
      "(1489849276632, 1489860076632] : False\n",
      "(1489860076632, 1489870876632] : False\n",
      "(1489870876632, 1489881676632] : False\n",
      "(1489881676632, 1489892476632] : False\n",
      "(1489892476632, 1489903276632] : False\n",
      "(1489903276632, 1489914076632] : False\n",
      "(1489914076632, 1489924876632] : False\n",
      "(1489924876632, 1489935676632] : False\n",
      "(1489935676632, 1489946476632] : False\n",
      "(1489946476632, 1489957276632] : False\n",
      "(1489957276632, 1489968076632] : False\n",
      "(1489968076632, 1489978876632] : False\n",
      "(1489978876632, 1489989676632] : False\n",
      "(1489989676632, 1490000476632] : False\n",
      "(1490000476632, 1490011276632] : False\n",
      "(1490011276632, 1490022076632] : False\n",
      "(1490022076632, 1490032876632] : False\n",
      "(1490032876632, 1490043676632] : False\n",
      "(1490043676632, 1490054476632] : False\n",
      "(1490054476632, 1490065276632] : False\n",
      "(1490065276632, 1490076076632] : False\n",
      "(1490076076632, 1490086876632] : False\n",
      "(1490086876632, 1490097676632] : False\n",
      "(1490097676632, 1490108476632] : False\n",
      "(1490108476632, 1490119276632] : False\n",
      "(1490119276632, 1490130076632] : False\n",
      "(1490130076632, 1490140876632] : False\n",
      "(1490140876632, 1490151676632] : False\n",
      "(1490151676632, 1490162476632] : False\n",
      "(1490162476632, 1490173276632] : False\n",
      "(1490173276632, 1490184076632] : False\n",
      "(1490184076632, 1490194876632] : False\n",
      "(1490194876632, 1490205676632] : False\n",
      "(1490205676632, 1490216476632] : False\n",
      "(1490216476632, 1490227276632] : False\n",
      "(1490227276632, 1490238076632] : False\n",
      "(1490238076632, 1490248876632] : False\n",
      "(1490248876632, 1490259676632] : False\n",
      "(1490259676632, 1490270476632] : False\n",
      "(1490270476632, 1490281276632] : False\n",
      "(1490281276632, 1490292076632] : False\n",
      "(1490292076632, 1490302876632] : False\n",
      "(1490302876632, 1490313676632] : False\n",
      "(1490313676632, 1490324476632] : False\n",
      "(1490324476632, 1490335276632] : False\n",
      "(1490335276632, 1490346076632] : False\n",
      "(1490346076632, 1490356876632] : False\n",
      "(1490356876632, 1490367676632] : False\n",
      "(1490367676632, 1490378476632] : False\n",
      "(1490378476632, 1490389276632] : False\n",
      "(1490389276632, 1490400076632] : False\n",
      "(1490400076632, 1490410876632] : False\n",
      "(1490410876632, 1490421676632] : False\n",
      "(1490421676632, 1490432476632] : False\n",
      "(1490432476632, 1490443276632] : False\n",
      "(1490443276632, 1490454076632] : False\n",
      "(1490454076632, 1490464876632] : False\n",
      "(1490464876632, 1490475676632] : False\n",
      "(1490475676632, 1490486476632] : False\n",
      "(1490486476632, 1490497276632] : False\n",
      "(1490497276632, 1490508076632] : False\n",
      "(1490508076632, 1490518876632] : False\n",
      "(1490518876632, 1490529676632] : False\n",
      "(1490529676632, 1490540476632] : False\n",
      "(1490540476632, 1490551276632] : False\n",
      "(1490551276632, 1490562076632] : False\n",
      "(1490562076632, 1490572876632] : False\n",
      "(1490572876632, 1490583676632] : False\n",
      "(1490583676632, 1490594476632] : False\n",
      "(1490594476632, 1490605276632] : False\n",
      "(1490605276632, 1490616076632] : False\n",
      "(1490616076632, 1490626876632] : False\n",
      "(1490626876632, 1490637676632] : False\n",
      "(1490637676632, 1490648476632] : False\n",
      "(1490648476632, 1490659276632] : False\n",
      "(1490659276632, 1490670076632] : False\n",
      "(1490670076632, 1490680876632] : False\n",
      "(1490680876632, 1490691676632] : False\n",
      "(1490691676632, 1490702476632] : False\n",
      "(1490702476632, 1490713276632] : False\n",
      "(1490713276632, 1490724076632] : False\n",
      "(1490724076632, 1490734876632] : False\n",
      "(1490734876632, 1490745676632] : False\n",
      "(1490745676632, 1490756476632] : False\n",
      "(1490756476632, 1490767276632] : False\n",
      "(1490767276632, 1490778076632] : False\n",
      "(1490778076632, 1490788876632] : False\n",
      "(1490788876632, 1490799676632] : False\n",
      "(1490799676632, 1490810476632] : False\n",
      "(1490810476632, 1490821276632] : False\n",
      "(1490821276632, 1490832076632] : False\n",
      "(1490832076632, 1490842876632] : False\n",
      "(1490842876632, 1490853676632] : False\n",
      "(1490853676632, 1490864476632] : False\n",
      "(1490864476632, 1490875276632] : False\n",
      "(1490875276632, 1490886076632] : False\n",
      "(1490886076632, 1490896876632] : False\n",
      "(1490896876632, 1490907676632] : False\n",
      "(1490907676632, 1490918476632] : False\n",
      "(1490918476632, 1490929276632] : False\n",
      "(1490929276632, 1490940076632] : False\n",
      "(1490940076632, 1490950876632] : False\n",
      "(1490950876632, 1490961676632] : False\n",
      "(1490961676632, 1490972476632] : False\n",
      "(1490972476632, 1490983276632] : False\n",
      "(1490983276632, 1490994076632] : False\n",
      "(1490994076632, 1491004876632] : False\n",
      "(1491004876632, 1491015676632] : False\n",
      "(1491015676632, 1491026476632] : False\n",
      "(1491026476632, 1491037276632] : False\n",
      "(1491037276632, 1491048076632] : False\n",
      "(1491048076632, 1491058876632] : False\n",
      "(1491058876632, 1491069676632] : False\n",
      "(1491069676632, 1491080476632] : False\n",
      "(1491080476632, 1491091276632] : False\n",
      "(1491091276632, 1491102076632] : False\n",
      "(1491102076632, 1491112876632] : False\n",
      "(1491112876632, 1491123676632] : False\n",
      "(1491123676632, 1491134476632] : False\n",
      "(1491134476632, 1491145276632] : False\n",
      "(1491145276632, 1491156076632] : False\n",
      "(1491156076632, 1491166876632] : False\n",
      "(1491166876632, 1491177676632] : False\n",
      "(1491177676632, 1491188476632] : False\n",
      "(1491188476632, 1491199276632] : False\n",
      "(1491199276632, 1491210076632] : False\n",
      "(1491210076632, 1491220876632] : False\n",
      "(1491220876632, 1491231676632] : False\n",
      "(1491231676632, 1491242476632] : False\n",
      "(1491242476632, 1491253276632] : False\n",
      "(1491253276632, 1491264076632] : False\n",
      "(1491264076632, 1491274876632] : False\n",
      "(1491274876632, 1491285676632] : False\n",
      "(1491285676632, 1491296476632] : False\n",
      "(1491296476632, 1491307276632] : False\n",
      "(1491307276632, 1491318076632] : False\n",
      "(1491318076632, 1491328876632] : False\n",
      "(1491328876632, 1491339676632] : False\n",
      "(1491339676632, 1491350476632] : False\n",
      "(1491350476632, 1491361276632] : False\n",
      "(1491361276632, 1491372076632] : False\n",
      "(1491372076632, 1491382876632] : False\n",
      "(1491382876632, 1491393676632] : False\n",
      "(1491393676632, 1491404476632] : False\n",
      "(1491404476632, 1491415276632] : False\n",
      "(1491415276632, 1491426076632] : False\n",
      "(1491426076632, 1491436876632] : False\n",
      "(1491436876632, 1491447676632] : False\n",
      "(1491447676632, 1491458476632] : False\n",
      "(1491458476632, 1491469276632] : False\n",
      "(1491469276632, 1491480076632] : False\n",
      "(1491480076632, 1491490876632] : False\n",
      "(1491490876632, 1491501676632] : False\n",
      "(1491501676632, 1491512476632] : False\n",
      "(1491512476632, 1491523276632] : False\n",
      "(1491523276632, 1491534076632] : False\n",
      "(1491534076632, 1491544876632] : False\n",
      "(1491544876632, 1491555676632] : False\n",
      "(1491555676632, 1491566476632] : False\n",
      "(1491566476632, 1491577276632] : False\n",
      "(1491577276632, 1491588076632] : False\n",
      "(1491588076632, 1491598876632] : False\n",
      "(1491598876632, 1491609676632] : False\n",
      "(1491609676632, 1491620476632] : False\n",
      "(1491620476632, 1491631276632] : False\n",
      "(1491631276632, 1491642076632] : False\n",
      "(1491642076632, 1491652876632] : False\n",
      "(1491652876632, 1491663676632] : False\n",
      "(1491663676632, 1491674476632] : False\n",
      "(1491674476632, 1491685276632] : False\n",
      "(1491685276632, 1491696076632] : False\n",
      "(1491696076632, 1491706876632] : False\n",
      "(1491706876632, 1491717676632] : False\n",
      "(1491717676632, 1491728476632] : False\n",
      "(1491728476632, 1491739276632] : False\n",
      "(1491739276632, 1491750076632] : False\n",
      "(1491750076632, 1491760876632] : False\n",
      "(1491760876632, 1491771676632] : False\n",
      "(1491771676632, 1491782476632] : False\n",
      "(1491782476632, 1491793276632] : False\n",
      "(1491793276632, 1491804076632] : False\n",
      "(1491804076632, 1491814876632] : False\n",
      "(1491814876632, 1491825676632] : False\n",
      "(1491825676632, 1491836476632] : False\n",
      "(1491836476632, 1491847276632] : False\n",
      "(1491847276632, 1491858076632] : False\n",
      "(1491858076632, 1491868876632] : False\n",
      "(1491868876632, 1491879676632] : False\n",
      "(1491879676632, 1491890476632] : False\n",
      "(1491890476632, 1491901276632] : False\n",
      "(1491901276632, 1491912076632] : False\n",
      "(1491912076632, 1491922876632] : False\n",
      "(1491922876632, 1491933676632] : False\n",
      "(1491933676632, 1491944476632] : False\n",
      "(1491944476632, 1491955276632] : False\n",
      "(1491955276632, 1491966076632] : False\n",
      "(1491966076632, 1491976876632] : False\n",
      "(1491976876632, 1491987676632] : False\n",
      "(1491987676632, 1491998476632] : False\n",
      "(1491998476632, 1492009276632] : False\n",
      "(1492009276632, 1492020076632] : False\n",
      "(1492020076632, 1492030876632] : False\n",
      "(1492030876632, 1492041676632] : False\n",
      "(1492041676632, 1492052476632] : False\n",
      "(1492052476632, 1492063276632] : False\n",
      "(1492063276632, 1492074076632] : False\n",
      "(1492074076632, 1492084876632] : False\n",
      "(1492084876632, 1492095676632] : False\n",
      "(1492095676632, 1492106476632] : False\n",
      "(1492106476632, 1492117276632] : False\n",
      "(1492117276632, 1492128076632] : False\n",
      "(1492128076632, 1492138876632] : False\n",
      "(1492138876632, 1492149676632] : False\n",
      "(1492149676632, 1492160476632] : False\n",
      "(1492160476632, 1492171276632] : False\n",
      "(1492171276632, 1492182076632] : False\n",
      "(1492182076632, 1492192876632] : False\n",
      "(1492192876632, 1492203676632] : False\n",
      "(1492203676632, 1492214476632] : False\n",
      "(1492214476632, 1492225276632] : False\n",
      "(1492225276632, 1492236076632] : False\n",
      "(1492236076632, 1492246876632] : False\n",
      "(1492246876632, 1492257676632] : False\n",
      "(1492257676632, 1492268476632] : False\n",
      "(1492268476632, 1492279276632] : False\n",
      "(1492279276632, 1492290076632] : False\n",
      "(1492290076632, 1492300876632] : False\n",
      "(1492300876632, 1492311676632] : False\n",
      "(1492311676632, 1492322476632] : False\n",
      "(1492322476632, 1492333276632] : False\n",
      "(1492333276632, 1492344076632] : False\n",
      "(1492344076632, 1492354876632] : False\n",
      "(1492354876632, 1492365676632] : False\n",
      "(1492365676632, 1492376476632] : False\n",
      "(1492376476632, 1492387276632] : False\n",
      "(1492387276632, 1492398076632] : False\n",
      "(1492398076632, 1492408876632] : False\n",
      "(1492408876632, 1492419676632] : False\n",
      "(1492419676632, 1492430476632] : False\n",
      "(1492430476632, 1492441276632] : False\n",
      "(1492441276632, 1492452076632] : False\n",
      "(1492452076632, 1492462876632] : False\n",
      "(1492462876632, 1492473676632] : False\n",
      "(1492473676632, 1492484476632] : False\n",
      "(1492484476632, 1492495276632] : False\n",
      "(1492495276632, 1492506076632] : False\n",
      "(1492506076632, 1492516876632] : False\n",
      "(1492516876632, 1492527676632] : False\n"
     ]
    }
   ],
   "source": [
    "for i in grouped_data.keys():\n",
    "    #if (grouped_data[i].hasnull())\n",
    "    print(f'{i} : {grouped_data[i].isnull().values.any()}')"
   ]
  },
  {
   "cell_type": "code",
   "execution_count": 34,
   "metadata": {},
   "outputs": [
    {
     "name": "stdout",
     "output_type": "stream",
     "text": [
      "183\n",
      "19800\n"
     ]
    }
   ],
   "source": [
    "X,Y = make_array(grouped_data)\n",
    "del grouped_data\n",
    "gc.collect()\n",
    "Y = np.array(Y)\n",
    "X = np.array(X)"
   ]
  },
  {
   "cell_type": "code",
   "execution_count": 35,
   "metadata": {},
   "outputs": [
    {
     "data": {
      "text/plain": [
       "{0: 110, 1: 26, 3: 16, 4: 31}"
      ]
     },
     "execution_count": 35,
     "metadata": {},
     "output_type": "execute_result"
    }
   ],
   "source": [
    "unique, counts = np.unique(Y, return_counts=True)\n",
    "dict(zip(unique, counts))"
   ]
  },
  {
   "cell_type": "code",
   "execution_count": 36,
   "metadata": {},
   "outputs": [],
   "source": [
    "def make_4D(arr):\n",
    "    x = []\n",
    "    for i in range(0, len(arr),1):\n",
    "        temp = []\n",
    "        for j in range(0,len(arr[i]),1):\n",
    "             temp.append([np.array([k]) for k in arr[i][j]])\n",
    "        x.append(np.array(temp).astype(np.float32))\n",
    "    return np.array(x).astype(np.float32)"
   ]
  },
  {
   "cell_type": "code",
   "execution_count": 37,
   "metadata": {},
   "outputs": [],
   "source": [
    "X = make_4D(X)"
   ]
  },
  {
   "cell_type": "code",
   "execution_count": 38,
   "metadata": {},
   "outputs": [],
   "source": [
    "from sklearn.model_selection import train_test_split\n",
    "from sklearn.tree import DecisionTreeClassifier\n",
    "X_train, X_test, Y_train, Y_test = train_test_split(X,Y , test_size=0.2, random_state=0,  stratify=Y)"
   ]
  },
  {
   "cell_type": "code",
   "execution_count": 39,
   "metadata": {},
   "outputs": [
    {
     "data": {
      "text/plain": [
       "40"
      ]
     },
     "execution_count": 39,
     "metadata": {},
     "output_type": "execute_result"
    }
   ],
   "source": [
    "del X,Y\n",
    "gc.collect()"
   ]
  },
  {
   "cell_type": "code",
   "execution_count": 40,
   "metadata": {},
   "outputs": [
    {
     "data": {
      "text/plain": [
       "{0: 88, 1: 21, 3: 13, 4: 24}"
      ]
     },
     "execution_count": 40,
     "metadata": {},
     "output_type": "execute_result"
    }
   ],
   "source": [
    "unique, counts = np.unique(Y_train, return_counts=True)\n",
    "dict(zip(unique, counts))"
   ]
  },
  {
   "cell_type": "code",
   "execution_count": 41,
   "metadata": {},
   "outputs": [
    {
     "data": {
      "text/plain": [
       "{0: 22, 1: 5, 3: 3, 4: 7}"
      ]
     },
     "execution_count": 41,
     "metadata": {},
     "output_type": "execute_result"
    }
   ],
   "source": [
    "unique, counts = np.unique(Y_test, return_counts=True)\n",
    "dict(zip(unique, counts))"
   ]
  },
  {
   "cell_type": "code",
   "execution_count": 42,
   "metadata": {},
   "outputs": [
    {
     "name": "stdout",
     "output_type": "stream",
     "text": [
      "False\n",
      "False\n",
      "False\n",
      "False\n",
      "False\n",
      "False\n",
      "False\n",
      "False\n",
      "False\n",
      "False\n",
      "False\n",
      "False\n",
      "False\n",
      "False\n",
      "False\n",
      "False\n",
      "False\n",
      "False\n",
      "False\n",
      "False\n",
      "False\n",
      "False\n",
      "False\n",
      "False\n",
      "False\n",
      "False\n",
      "False\n",
      "False\n",
      "False\n",
      "False\n",
      "False\n",
      "False\n",
      "False\n",
      "False\n",
      "False\n",
      "False\n",
      "False\n",
      "False\n",
      "False\n",
      "False\n",
      "False\n",
      "False\n",
      "False\n",
      "False\n",
      "False\n",
      "False\n",
      "False\n",
      "False\n",
      "False\n",
      "False\n",
      "False\n",
      "False\n",
      "False\n",
      "False\n",
      "False\n",
      "False\n",
      "False\n",
      "False\n",
      "False\n",
      "False\n",
      "False\n",
      "False\n",
      "False\n",
      "False\n",
      "False\n",
      "False\n",
      "False\n",
      "False\n",
      "False\n",
      "False\n",
      "False\n",
      "False\n",
      "False\n",
      "False\n",
      "False\n",
      "False\n",
      "False\n",
      "False\n",
      "False\n",
      "False\n",
      "False\n",
      "False\n",
      "False\n",
      "False\n",
      "False\n",
      "False\n",
      "False\n",
      "False\n",
      "False\n",
      "False\n",
      "False\n",
      "False\n",
      "False\n",
      "False\n",
      "False\n",
      "False\n",
      "False\n",
      "False\n",
      "False\n",
      "False\n",
      "False\n",
      "False\n",
      "False\n",
      "False\n",
      "False\n",
      "False\n",
      "False\n",
      "False\n",
      "False\n",
      "False\n",
      "False\n",
      "False\n",
      "False\n",
      "False\n",
      "False\n",
      "False\n",
      "False\n",
      "False\n",
      "False\n",
      "False\n",
      "False\n",
      "False\n",
      "False\n",
      "False\n",
      "False\n",
      "False\n",
      "False\n",
      "False\n",
      "False\n",
      "False\n",
      "False\n",
      "False\n",
      "False\n",
      "False\n",
      "False\n",
      "False\n",
      "False\n",
      "False\n",
      "False\n",
      "False\n",
      "False\n",
      "False\n",
      "False\n",
      "False\n",
      "False\n",
      "False\n"
     ]
    }
   ],
   "source": [
    "for i in X_train:\n",
    "    print(f'{np.isnan(i).any()}')"
   ]
  },
  {
   "cell_type": "code",
   "execution_count": 43,
   "metadata": {},
   "outputs": [
    {
     "name": "stdout",
     "output_type": "stream",
     "text": [
      "samples: 146 \n",
      " X:19800 \n",
      " Y:11 \n",
      " \n"
     ]
    }
   ],
   "source": [
    "nsamples,nx, ny, nz = X_train.shape\n",
    "print(f\"samples: {nsamples} \\n X:{nx} \\n Y:{ny} \\n \" )"
   ]
  },
  {
   "cell_type": "code",
   "execution_count": 44,
   "metadata": {},
   "outputs": [],
   "source": [
    "import tensorflow as tf\n",
    "from tensorflow import keras\n",
    "from tensorflow.keras.layers import Embedding, Dense, LSTM, Dropout, Masking, Flatten, Input, Bidirectional, SimpleRNN\n",
    "from tensorflow.keras.losses import BinaryCrossentropy\n",
    "from tensorflow.keras.models import Sequential\n",
    "from tensorflow.keras.optimizers import Adam\n",
    "from tensorflow.keras.preprocessing.sequence import pad_sequences\n",
    "from keras.layers import Dense, Conv2D, MaxPooling2D, Dropout, Flatten"
   ]
  },
  {
   "cell_type": "code",
   "execution_count": 45,
   "metadata": {},
   "outputs": [],
   "source": [
    "##CNN MODEL"
   ]
  },
  {
   "cell_type": "code",
   "execution_count": 46,
   "metadata": {},
   "outputs": [],
   "source": [
    "from keras.callbacks import EarlyStopping\n",
    "from keras.callbacks import ModelCheckpoint, LambdaCallback\n",
    "wie_by_epoch = []\n",
    "#model_check = ModelCheckpoint(\"/models/Testpoints/best_model.hdf5\", monitor='loss', verbose=0, save_best_only=True, mode='min', save_freq=1)\n",
    "print_weights = LambdaCallback(on_epoch_end=lambda batch, logs:wie_by_epoch.append(model.get_weights()))\n",
    "callback = tf.keras.callbacks.EarlyStopping(monitor='loss', patience=4, verbose= 2)"
   ]
  },
  {
   "cell_type": "code",
   "execution_count": 47,
   "metadata": {},
   "outputs": [],
   "source": [
    "model = Sequential()\n",
    "model.add(Conv2D(64, (2, 2), padding='same', activation='relu', input_shape=X_train.shape[1:]))\n",
    "model.add(MaxPooling2D(pool_size=(2, 2)))\n",
    "model.add(Dropout(0.25))\n",
    "model.add(MaxPooling2D(pool_size=(2, 2)))\n",
    "model.add(Dense(256, activation='relu'))\n",
    "model.add(Flatten())\n",
    "model.add(Dense(128, activation='relu'))\n",
    "model.add(Dense(64, activation='relu'))\n",
    "model.add(Dense(5, activation = 'softmax') )\n",
    "#mod1 = model.compile(optimizer=tf.keras.optimizers.RMSprop(\n",
    "#   learning_rate=0.1, rho=0.1, momentum=0.0, epsilon=1e-2 , centered=False,\n",
    "#   name='RMSprop'), loss='sparse_categorical_crossentropy', metrics=[keras.metrics.SparseCategoricalAccuracy()])\n",
    "model.compile(optimizer= 'rmsprop', loss='sparse_categorical_crossentropy',  metrics=[keras.metrics.SparseCategoricalAccuracy()])\n",
    "#mod = model.fit(X.astype('float32'),Y.astype('float32'), epochs=20, batch_size= 20, verbose=0)des\": (2, 10, None),"
   ]
  },
  {
   "cell_type": "code",
   "execution_count": 48,
   "metadata": {},
   "outputs": [
    {
     "data": {
      "text/plain": [
       "(None, 5)"
      ]
     },
     "execution_count": 48,
     "metadata": {},
     "output_type": "execute_result"
    }
   ],
   "source": [
    "model.build(input_shape = (nx,ny,nz))\n",
    "model.output_shape"
   ]
  },
  {
   "cell_type": "code",
   "execution_count": 49,
   "metadata": {},
   "outputs": [
    {
     "data": {
      "text/plain": [
       "868"
      ]
     },
     "execution_count": 49,
     "metadata": {},
     "output_type": "execute_result"
    }
   ],
   "source": [
    "#del model, wie_by_epoch\n",
    "\n",
    "gc.collect()"
   ]
  },
  {
   "cell_type": "code",
   "execution_count": 50,
   "metadata": {},
   "outputs": [
    {
     "name": "stdout",
     "output_type": "stream",
     "text": [
      "Model: \"sequential\"\n",
      "_________________________________________________________________\n",
      "Layer (type)                 Output Shape              Param #   \n",
      "=================================================================\n",
      "conv2d (Conv2D)              (None, 19800, 11, 64)     320       \n",
      "_________________________________________________________________\n",
      "max_pooling2d (MaxPooling2D) (None, 9900, 5, 64)       0         \n",
      "_________________________________________________________________\n",
      "dropout (Dropout)            (None, 9900, 5, 64)       0         \n",
      "_________________________________________________________________\n",
      "max_pooling2d_1 (MaxPooling2 (None, 4950, 2, 64)       0         \n",
      "_________________________________________________________________\n",
      "dense (Dense)                (None, 4950, 2, 256)      16640     \n",
      "_________________________________________________________________\n",
      "flatten (Flatten)            (None, 2534400)           0         \n",
      "_________________________________________________________________\n",
      "dense_1 (Dense)              (None, 128)               324403328 \n",
      "_________________________________________________________________\n",
      "dense_2 (Dense)              (None, 64)                8256      \n",
      "_________________________________________________________________\n",
      "dense_3 (Dense)              (None, 5)                 325       \n",
      "=================================================================\n",
      "Total params: 324,428,869\n",
      "Trainable params: 324,428,869\n",
      "Non-trainable params: 0\n",
      "_________________________________________________________________\n"
     ]
    }
   ],
   "source": [
    "#model.build(input_shape = (nx,ny))\n",
    "model.summary()\n"
   ]
  },
  {
   "cell_type": "code",
   "execution_count": 51,
   "metadata": {
    "scrolled": true
   },
   "outputs": [
    {
     "data": {
      "text/plain": [
       "[array([[[[-0.02020617,  0.11278936, -0.01387171,  0.14996359,\n",
       "            0.08151342,  0.11739889,  0.03464784, -0.05114499,\n",
       "           -0.02980729,  0.04709998, -0.04044735,  0.15168095,\n",
       "           -0.13432156, -0.12827623, -0.09211457, -0.01656204,\n",
       "           -0.07276081, -0.13954018, -0.03538424,  0.03036176,\n",
       "           -0.10193899,  0.07149635,  0.14049077, -0.09283905,\n",
       "           -0.05595783,  0.12304214,  0.08892488, -0.06620731,\n",
       "           -0.10545558,  0.06458896,  0.03448494,  0.01179777,\n",
       "            0.04270075, -0.08135445, -0.05143724, -0.14065832,\n",
       "           -0.03665398,  0.06665018, -0.07313545, -0.12085092,\n",
       "           -0.02347484,  0.08810103, -0.03135418,  0.00626673,\n",
       "           -0.06760353,  0.13688782, -0.1456604 , -0.012419  ,\n",
       "            0.05337912,  0.05860887,  0.04710367,  0.10276127,\n",
       "           -0.07335465, -0.01221201, -0.08628891, -0.15181597,\n",
       "            0.06444564,  0.07380818, -0.07739825, -0.02890737,\n",
       "           -0.02157789,  0.05685203,  0.01203983,  0.12734488]],\n",
       " \n",
       "         [[ 0.1174373 ,  0.03876388, -0.12142535,  0.12850663,\n",
       "            0.146512  , -0.15169609, -0.06090005,  0.10396707,\n",
       "            0.10523921, -0.12591548, -0.13890299, -0.02663431,\n",
       "            0.12647307,  0.10466641,  0.11176971,  0.05509102,\n",
       "           -0.05514556,  0.10553691, -0.05210152,  0.04359476,\n",
       "            0.12200862,  0.07408459, -0.01214054, -0.12275326,\n",
       "            0.13497981,  0.10219839,  0.05872633, -0.08024744,\n",
       "            0.08554886, -0.10631837, -0.125478  ,  0.1484355 ,\n",
       "            0.10912052,  0.03054422,  0.06086372,  0.14336136,\n",
       "           -0.09066808,  0.10106707,  0.10147503,  0.09772386,\n",
       "           -0.09398054,  0.08602025, -0.00515854, -0.14348078,\n",
       "           -0.03701587, -0.12033405,  0.13773537,  0.08739369,\n",
       "            0.05229318,  0.09631072,  0.12644142,  0.09527571,\n",
       "            0.00961852,  0.01644872,  0.11070651, -0.12318984,\n",
       "            0.03640603,  0.00786616, -0.00927781, -0.06615577,\n",
       "           -0.06343106, -0.05841572, -0.09010999,  0.06096727]]],\n",
       " \n",
       " \n",
       "        [[[ 0.04568785,  0.10042557,  0.05861416,  0.06386018,\n",
       "           -0.1170883 , -0.14431754, -0.03028403, -0.04221328,\n",
       "            0.03706147, -0.0463843 ,  0.14458105,  0.08980083,\n",
       "           -0.11905101, -0.00516884,  0.05829602, -0.09146094,\n",
       "            0.09408771, -0.09708196, -0.12718476,  0.00950262,\n",
       "           -0.11051753,  0.13184929,  0.05649865,  0.11086118,\n",
       "           -0.01852095,  0.1467605 , -0.01100191, -0.00758812,\n",
       "            0.11963207,  0.08073175, -0.15082225, -0.09326777,\n",
       "           -0.12688994, -0.01018026, -0.11991106, -0.05927446,\n",
       "            0.00061592,  0.00602551,  0.11291522, -0.0438116 ,\n",
       "            0.06625783,  0.04067878,  0.0421842 ,  0.03355162,\n",
       "           -0.03614642, -0.09975951, -0.11902548, -0.12235171,\n",
       "           -0.07171688,  0.14132741, -0.0507777 ,  0.08154289,\n",
       "           -0.04005865,  0.12740877, -0.13994963,  0.10525444,\n",
       "           -0.14323016, -0.00362213,  0.11536261,  0.0271406 ,\n",
       "           -0.09123074, -0.01350583, -0.09565915, -0.06750845]],\n",
       " \n",
       "         [[ 0.11005855, -0.06695471, -0.03162821, -0.09877405,\n",
       "            0.05338213, -0.03681657, -0.08000123, -0.09949497,\n",
       "           -0.04888377, -0.0088584 ,  0.14088258,  0.07987359,\n",
       "           -0.02585463, -0.1310407 ,  0.06361774, -0.06310267,\n",
       "            0.12151694, -0.11122665,  0.06316069, -0.07681694,\n",
       "            0.06152068, -0.01989935, -0.12774831,  0.08647519,\n",
       "           -0.04391251, -0.03672595,  0.01019447,  0.04408519,\n",
       "            0.14126113, -0.11430003, -0.0700625 , -0.07976302,\n",
       "           -0.115188  ,  0.08188759, -0.03628521,  0.02005981,\n",
       "           -0.10107329,  0.08329315,  0.07112508, -0.06665613,\n",
       "            0.09240758, -0.02997683, -0.08380506,  0.14695245,\n",
       "           -0.03367194,  0.04761967, -0.12160582,  0.06684609,\n",
       "            0.10616538, -0.03826515, -0.08662629,  0.123391  ,\n",
       "            0.1329866 , -0.040302  , -0.04990831,  0.112517  ,\n",
       "            0.1044603 ,  0.12625721,  0.11366007, -0.01502852,\n",
       "           -0.05086035, -0.0473325 , -0.12600958, -0.05278832]]]],\n",
       "       dtype=float32),\n",
       " array([0., 0., 0., 0., 0., 0., 0., 0., 0., 0., 0., 0., 0., 0., 0., 0., 0.,\n",
       "        0., 0., 0., 0., 0., 0., 0., 0., 0., 0., 0., 0., 0., 0., 0., 0., 0.,\n",
       "        0., 0., 0., 0., 0., 0., 0., 0., 0., 0., 0., 0., 0., 0., 0., 0., 0.,\n",
       "        0., 0., 0., 0., 0., 0., 0., 0., 0., 0., 0., 0., 0.], dtype=float32),\n",
       " array([[-0.09159555, -0.00459269,  0.04539885, ...,  0.05328752,\n",
       "          0.10241686,  0.09909433],\n",
       "        [ 0.08530729, -0.00352396, -0.06025491, ..., -0.08187421,\n",
       "          0.08095632,  0.04166761],\n",
       "        [ 0.10925989,  0.01169774,  0.12538067, ...,  0.1083338 ,\n",
       "         -0.09112312, -0.10751727],\n",
       "        ...,\n",
       "        [-0.1060923 , -0.1256277 ,  0.00636414, ..., -0.037049  ,\n",
       "          0.01617506, -0.11054046],\n",
       "        [-0.01358277, -0.10866491,  0.09123658, ...,  0.11805737,\n",
       "          0.1133441 , -0.0959681 ],\n",
       "        [-0.05630837,  0.03242637, -0.00206403, ...,  0.07255952,\n",
       "         -0.11924681,  0.09829544]], dtype=float32),\n",
       " array([0., 0., 0., 0., 0., 0., 0., 0., 0., 0., 0., 0., 0., 0., 0., 0., 0.,\n",
       "        0., 0., 0., 0., 0., 0., 0., 0., 0., 0., 0., 0., 0., 0., 0., 0., 0.,\n",
       "        0., 0., 0., 0., 0., 0., 0., 0., 0., 0., 0., 0., 0., 0., 0., 0., 0.,\n",
       "        0., 0., 0., 0., 0., 0., 0., 0., 0., 0., 0., 0., 0., 0., 0., 0., 0.,\n",
       "        0., 0., 0., 0., 0., 0., 0., 0., 0., 0., 0., 0., 0., 0., 0., 0., 0.,\n",
       "        0., 0., 0., 0., 0., 0., 0., 0., 0., 0., 0., 0., 0., 0., 0., 0., 0.,\n",
       "        0., 0., 0., 0., 0., 0., 0., 0., 0., 0., 0., 0., 0., 0., 0., 0., 0.,\n",
       "        0., 0., 0., 0., 0., 0., 0., 0., 0., 0., 0., 0., 0., 0., 0., 0., 0.,\n",
       "        0., 0., 0., 0., 0., 0., 0., 0., 0., 0., 0., 0., 0., 0., 0., 0., 0.,\n",
       "        0., 0., 0., 0., 0., 0., 0., 0., 0., 0., 0., 0., 0., 0., 0., 0., 0.,\n",
       "        0., 0., 0., 0., 0., 0., 0., 0., 0., 0., 0., 0., 0., 0., 0., 0., 0.,\n",
       "        0., 0., 0., 0., 0., 0., 0., 0., 0., 0., 0., 0., 0., 0., 0., 0., 0.,\n",
       "        0., 0., 0., 0., 0., 0., 0., 0., 0., 0., 0., 0., 0., 0., 0., 0., 0.,\n",
       "        0., 0., 0., 0., 0., 0., 0., 0., 0., 0., 0., 0., 0., 0., 0., 0., 0.,\n",
       "        0., 0., 0., 0., 0., 0., 0., 0., 0., 0., 0., 0., 0., 0., 0., 0., 0.,\n",
       "        0.], dtype=float32),\n",
       " array([[-5.3966045e-04,  1.2582538e-03, -3.7356187e-04, ...,\n",
       "         -7.2656898e-05, -1.1291432e-03, -2.8168480e-04],\n",
       "        [ 1.3518485e-03, -1.3735876e-03,  1.9139051e-04, ...,\n",
       "          9.9283364e-04,  2.3079896e-04, -4.7427963e-04],\n",
       "        [-5.4727809e-04,  1.3376416e-03,  9.2179747e-05, ...,\n",
       "          5.2858982e-04,  1.5155438e-03, -1.0814763e-03],\n",
       "        ...,\n",
       "        [ 1.2751329e-03,  6.4085424e-04,  8.5205259e-04, ...,\n",
       "          5.6375936e-04,  1.0245887e-03, -1.1559015e-03],\n",
       "        [-9.0071990e-04, -6.7392422e-04,  2.8447597e-04, ...,\n",
       "         -2.8874481e-04, -8.8809640e-05,  1.4300295e-03],\n",
       "        [-1.2705745e-03, -1.7689960e-04,  7.0654321e-04, ...,\n",
       "          3.9455714e-04,  8.1966352e-04,  2.4562038e-04]], dtype=float32),\n",
       " array([0., 0., 0., 0., 0., 0., 0., 0., 0., 0., 0., 0., 0., 0., 0., 0., 0.,\n",
       "        0., 0., 0., 0., 0., 0., 0., 0., 0., 0., 0., 0., 0., 0., 0., 0., 0.,\n",
       "        0., 0., 0., 0., 0., 0., 0., 0., 0., 0., 0., 0., 0., 0., 0., 0., 0.,\n",
       "        0., 0., 0., 0., 0., 0., 0., 0., 0., 0., 0., 0., 0., 0., 0., 0., 0.,\n",
       "        0., 0., 0., 0., 0., 0., 0., 0., 0., 0., 0., 0., 0., 0., 0., 0., 0.,\n",
       "        0., 0., 0., 0., 0., 0., 0., 0., 0., 0., 0., 0., 0., 0., 0., 0., 0.,\n",
       "        0., 0., 0., 0., 0., 0., 0., 0., 0., 0., 0., 0., 0., 0., 0., 0., 0.,\n",
       "        0., 0., 0., 0., 0., 0., 0., 0., 0.], dtype=float32),\n",
       " array([[ 0.14641996, -0.04897703,  0.01383352, ...,  0.05623059,\n",
       "          0.01102284, -0.08494457],\n",
       "        [ 0.16884442, -0.14337747, -0.15236925, ...,  0.1615948 ,\n",
       "          0.03290817,  0.12367164],\n",
       "        [-0.17017835, -0.05704188, -0.05954334, ...,  0.08395804,\n",
       "         -0.02374515,  0.17419325],\n",
       "        ...,\n",
       "        [ 0.04774095, -0.08948648,  0.05953285, ..., -0.11252829,\n",
       "         -0.05037522,  0.15940438],\n",
       "        [-0.02779438, -0.08901768, -0.17661342, ..., -0.00525984,\n",
       "          0.05763038,  0.02348481],\n",
       "        [-0.00361615, -0.09072509, -0.17657228, ...,  0.06097789,\n",
       "         -0.12968391,  0.12686758]], dtype=float32),\n",
       " array([0., 0., 0., 0., 0., 0., 0., 0., 0., 0., 0., 0., 0., 0., 0., 0., 0.,\n",
       "        0., 0., 0., 0., 0., 0., 0., 0., 0., 0., 0., 0., 0., 0., 0., 0., 0.,\n",
       "        0., 0., 0., 0., 0., 0., 0., 0., 0., 0., 0., 0., 0., 0., 0., 0., 0.,\n",
       "        0., 0., 0., 0., 0., 0., 0., 0., 0., 0., 0., 0., 0.], dtype=float32),\n",
       " array([[-0.2736683 ,  0.2154628 ,  0.00557455,  0.11184865,  0.13801345],\n",
       "        [ 0.12043786,  0.0462051 , -0.07193655,  0.06202203, -0.21254787],\n",
       "        [-0.1592517 , -0.04508197, -0.18305233, -0.16776596,  0.1957289 ],\n",
       "        [-0.27037522,  0.15351433, -0.2833752 ,  0.1876348 , -0.2456375 ],\n",
       "        [ 0.14057681, -0.0589169 ,  0.22811657, -0.04644471, -0.07131596],\n",
       "        [ 0.00969413, -0.25433066,  0.16706029,  0.02851152, -0.12507564],\n",
       "        [ 0.13703537, -0.18759163, -0.17225154, -0.19625717,  0.17331049],\n",
       "        [-0.23870634,  0.08662483, -0.25221875,  0.22759962, -0.14283355],\n",
       "        [ 0.10238972,  0.25196874, -0.1852513 , -0.05756786,  0.102305  ],\n",
       "        [-0.2851216 , -0.1914773 , -0.24269752, -0.09736882,  0.0647513 ],\n",
       "        [ 0.04294124,  0.10540983, -0.09195   , -0.07767041, -0.12148167],\n",
       "        [-0.28773513,  0.03202331,  0.19782358,  0.23367357, -0.21133924],\n",
       "        [ 0.24326777,  0.150154  ,  0.0155988 ,  0.2160412 ,  0.08303824],\n",
       "        [ 0.17714846,  0.04699317, -0.00638729,  0.08961746,  0.14411643],\n",
       "        [-0.2774911 , -0.21575114, -0.03906789,  0.29420447,  0.0485799 ],\n",
       "        [-0.04961923, -0.05690615, -0.19047086,  0.27866888,  0.09961256],\n",
       "        [-0.2039759 ,  0.23260581, -0.27248856, -0.10738824, -0.07894519],\n",
       "        [ 0.06601012, -0.13547161,  0.10975382,  0.13592839,  0.04055569],\n",
       "        [ 0.24705261, -0.17378041,  0.19580463, -0.2261635 , -0.19962855],\n",
       "        [ 0.0690673 , -0.02734566, -0.10973568, -0.02143681, -0.04851922],\n",
       "        [-0.27265364,  0.2442972 , -0.26571852,  0.15400648,  0.10892695],\n",
       "        [ 0.1853706 ,  0.06943133, -0.08914368,  0.02370408, -0.29003042],\n",
       "        [ 0.15282872, -0.11856897,  0.2575705 , -0.16714087,  0.29034024],\n",
       "        [-0.26842248,  0.23001897, -0.07820199, -0.09878479, -0.10806289],\n",
       "        [ 0.00052506, -0.1987235 , -0.25700974, -0.18446344,  0.20885086],\n",
       "        [ 0.02654263, -0.21843597,  0.11876568, -0.27627945,  0.27750605],\n",
       "        [-0.16014944,  0.05536041,  0.07310912, -0.00878465, -0.10889131],\n",
       "        [-0.06924544,  0.06947029,  0.06655645,  0.11420685,  0.00532278],\n",
       "        [-0.04547028,  0.08874702, -0.1985904 , -0.2191808 ,  0.00982109],\n",
       "        [-0.12767175, -0.28764725,  0.08590716,  0.24353129,  0.17589647],\n",
       "        [ 0.15367675, -0.09077787,  0.0425095 ,  0.13443777,  0.1965495 ],\n",
       "        [-0.12134381,  0.19516012, -0.0619664 , -0.11680487,  0.02071977],\n",
       "        [ 0.24280715, -0.23406552,  0.05956224, -0.26487345, -0.17517576],\n",
       "        [-0.1810861 ,  0.22726935,  0.0872798 , -0.21319693, -0.09813045],\n",
       "        [-0.13056189,  0.1953581 , -0.03295401, -0.2525013 , -0.02782252],\n",
       "        [-0.07915547,  0.2760663 , -0.11150676, -0.10685638, -0.022212  ],\n",
       "        [-0.29261816, -0.00891358, -0.06662452,  0.06907967, -0.0871342 ],\n",
       "        [ 0.01216671, -0.1400538 , -0.02239379, -0.26153928, -0.26967907],\n",
       "        [-0.19578457,  0.02701044,  0.17910233, -0.09495129, -0.22455722],\n",
       "        [-0.05390044,  0.10808751,  0.13084725,  0.15414843, -0.14844114],\n",
       "        [-0.23006997,  0.22196674,  0.07883269,  0.23266137,  0.01801363],\n",
       "        [-0.03289896, -0.24901155, -0.12746364, -0.22517908, -0.02261478],\n",
       "        [-0.09914735,  0.06990057, -0.1209491 ,  0.03679243,  0.19571173],\n",
       "        [-0.1723745 , -0.1309402 , -0.11883135,  0.28227758, -0.24855176],\n",
       "        [ 0.28048003,  0.15935507,  0.2268117 , -0.22600931,  0.19606292],\n",
       "        [-0.06988502,  0.00439623,  0.13405144,  0.05904752, -0.05630995],\n",
       "        [ 0.22176212, -0.12458055, -0.2903678 , -0.13294166,  0.00773007],\n",
       "        [-0.05843037, -0.10516855,  0.19268098, -0.18470109, -0.11680909],\n",
       "        [ 0.03015134,  0.16809836,  0.26286483,  0.06516132,  0.12005728],\n",
       "        [ 0.04267013,  0.12320712,  0.12583297,  0.10215291, -0.27023217],\n",
       "        [-0.13179153,  0.11664668,  0.22698861, -0.12161329, -0.17051168],\n",
       "        [-0.13268505, -0.17428479, -0.11265583,  0.1656039 , -0.02689934],\n",
       "        [ 0.14385122,  0.00070903,  0.20448464,  0.20699918,  0.00740778],\n",
       "        [-0.22925217, -0.21021856, -0.09991853,  0.2002778 , -0.10260689],\n",
       "        [-0.20309955, -0.17566714,  0.19217023,  0.17540237, -0.12859198],\n",
       "        [ 0.22396201,  0.09972709,  0.25054616,  0.01424614, -0.17196259],\n",
       "        [ 0.07466224, -0.0676969 , -0.01087371,  0.19525659, -0.19250812],\n",
       "        [ 0.27064717,  0.20139462,  0.1881431 , -0.24513742, -0.01853016],\n",
       "        [-0.20513847,  0.12685338, -0.07251459, -0.03206444, -0.2343229 ],\n",
       "        [ 0.27376986, -0.04908399, -0.01748765,  0.15141028,  0.1925607 ],\n",
       "        [-0.03187868,  0.18431735,  0.11987618, -0.16632019, -0.03550366],\n",
       "        [ 0.03313196,  0.27569407,  0.15329736, -0.11864483, -0.1353128 ],\n",
       "        [ 0.17395511, -0.10631038, -0.2493157 ,  0.1409755 , -0.16283442],\n",
       "        [ 0.15901226,  0.11610439, -0.16098672, -0.15748584,  0.04067063]],\n",
       "       dtype=float32),\n",
       " array([0., 0., 0., 0., 0.], dtype=float32)]"
      ]
     },
     "execution_count": 51,
     "metadata": {},
     "output_type": "execute_result"
    }
   ],
   "source": [
    "wights = model.get_weights()\n",
    "wights"
   ]
  },
  {
   "cell_type": "code",
   "execution_count": 52,
   "metadata": {
    "scrolled": true
   },
   "outputs": [
    {
     "data": {
      "image/png": "[encoded data removed]",
      "text/plain": [
       "<IPython.core.display.Image object>"
      ]
     },
     "execution_count": 52,
     "metadata": {},
     "output_type": "execute_result"
    }
   ],
   "source": [
    "from tensorflow.keras.utils import plot_model\n",
    "plot_model(model, show_shapes=True)"
   ]
  },
  {
   "cell_type": "code",
   "execution_count": 53,
   "metadata": {
    "scrolled": true
   },
   "outputs": [
    {
     "name": "stdout",
     "output_type": "stream",
     "text": [
      "Epoch 1/200\n",
      "5/5 - 146s - loss: 30.7936 - sparse_categorical_accuracy: 0.4041\n",
      "Epoch 2/200\n",
      "5/5 - 78s - loss: 1.3333 - sparse_categorical_accuracy: 0.8151\n",
      "Epoch 3/200\n",
      "5/5 - 68s - loss: 0.2269 - sparse_categorical_accuracy: 0.9178\n",
      "Epoch 4/200\n",
      "5/5 - 80s - loss: 0.2606 - sparse_categorical_accuracy: 0.8973\n",
      "Epoch 5/200\n",
      "5/5 - 69s - loss: 0.3811 - sparse_categorical_accuracy: 0.8836\n",
      "Epoch 6/200\n",
      "5/5 - 95s - loss: 0.4629 - sparse_categorical_accuracy: 0.9795\n",
      "Epoch 7/200\n",
      "5/5 - 107s - loss: 0.1171 - sparse_categorical_accuracy: 0.9863\n",
      "Epoch 8/200\n",
      "5/5 - 104s - loss: 0.0397 - sparse_categorical_accuracy: 0.9863\n",
      "Epoch 9/200\n",
      "5/5 - 85s - loss: 0.0149 - sparse_categorical_accuracy: 1.0000\n",
      "Epoch 10/200\n",
      "5/5 - 82s - loss: 0.0110 - sparse_categorical_accuracy: 0.9932\n",
      "Epoch 11/200\n",
      "5/5 - 76s - loss: 0.0084 - sparse_categorical_accuracy: 1.0000\n",
      "Epoch 12/200\n",
      "5/5 - 76s - loss: 0.0097 - sparse_categorical_accuracy: 0.9932\n",
      "Epoch 13/200\n",
      "5/5 - 82s - loss: 0.0061 - sparse_categorical_accuracy: 1.0000\n",
      "Epoch 14/200\n",
      "5/5 - 75s - loss: 0.0043 - sparse_categorical_accuracy: 1.0000\n",
      "Epoch 15/200\n",
      "5/5 - 106s - loss: 0.0029 - sparse_categorical_accuracy: 1.0000\n",
      "Epoch 16/200\n",
      "5/5 - 100s - loss: 0.0035 - sparse_categorical_accuracy: 1.0000\n",
      "Epoch 17/200\n",
      "5/5 - 84s - loss: 0.0079 - sparse_categorical_accuracy: 0.9932\n",
      "Epoch 18/200\n",
      "5/5 - 96s - loss: 0.0016 - sparse_categorical_accuracy: 1.0000\n",
      "Epoch 19/200\n",
      "5/5 - 96s - loss: 7.6846e-04 - sparse_categorical_accuracy: 1.0000\n",
      "Epoch 20/200\n",
      "5/5 - 72s - loss: 4.6433e-04 - sparse_categorical_accuracy: 1.0000\n",
      "Epoch 21/200\n",
      "5/5 - 45s - loss: 5.3677e-04 - sparse_categorical_accuracy: 1.0000\n",
      "Epoch 22/200\n",
      "5/5 - 46s - loss: 2.7792e-04 - sparse_categorical_accuracy: 1.0000\n",
      "Epoch 23/200\n",
      "5/5 - 45s - loss: 8.9160e-04 - sparse_categorical_accuracy: 1.0000\n",
      "Epoch 24/200\n",
      "5/5 - 42s - loss: 1.0883e-04 - sparse_categorical_accuracy: 1.0000\n",
      "Epoch 25/200\n",
      "5/5 - 40s - loss: 7.7257e-05 - sparse_categorical_accuracy: 1.0000\n",
      "Epoch 26/200\n",
      "5/5 - 42s - loss: 6.2272e-05 - sparse_categorical_accuracy: 1.0000\n",
      "Epoch 27/200\n",
      "5/5 - 42s - loss: 4.4000e-05 - sparse_categorical_accuracy: 1.0000\n",
      "Epoch 28/200\n",
      "5/5 - 41s - loss: 4.8316e-05 - sparse_categorical_accuracy: 1.0000\n",
      "Epoch 29/200\n",
      "5/5 - 39s - loss: 3.2356e-05 - sparse_categorical_accuracy: 1.0000\n",
      "Epoch 30/200\n",
      "5/5 - 37s - loss: 2.4185e-05 - sparse_categorical_accuracy: 1.0000\n",
      "Epoch 31/200\n",
      "5/5 - 37s - loss: 1.4596e-05 - sparse_categorical_accuracy: 1.0000\n",
      "Epoch 32/200\n",
      "5/5 - 37s - loss: 1.1627e-05 - sparse_categorical_accuracy: 1.0000\n",
      "Epoch 33/200\n",
      "5/5 - 37s - loss: 1.1229e-05 - sparse_categorical_accuracy: 1.0000\n",
      "Epoch 34/200\n",
      "5/5 - 42s - loss: 9.5941e-06 - sparse_categorical_accuracy: 1.0000\n",
      "Epoch 35/200\n",
      "5/5 - 50s - loss: 1.1283e-05 - sparse_categorical_accuracy: 1.0000\n",
      "Epoch 36/200\n",
      "5/5 - 57s - loss: 9.8265e-06 - sparse_categorical_accuracy: 1.0000\n",
      "Epoch 37/200\n",
      "5/5 - 47s - loss: 2.4037e-06 - sparse_categorical_accuracy: 1.0000\n",
      "Epoch 38/200\n",
      "5/5 - 40s - loss: 1.6885e-06 - sparse_categorical_accuracy: 1.0000\n",
      "Epoch 39/200\n",
      "5/5 - 51s - loss: 1.8363e-06 - sparse_categorical_accuracy: 1.0000\n",
      "Epoch 40/200\n",
      "5/5 - 44s - loss: 1.4362e-06 - sparse_categorical_accuracy: 1.0000\n",
      "Epoch 41/200\n",
      "5/5 - 42s - loss: 1.2198e-06 - sparse_categorical_accuracy: 1.0000\n",
      "Epoch 42/200\n",
      "5/5 - 38s - loss: 7.4300e-07 - sparse_categorical_accuracy: 1.0000\n",
      "Epoch 43/200\n",
      "5/5 - 37s - loss: 8.4098e-07 - sparse_categorical_accuracy: 1.0000\n",
      "Epoch 44/200\n",
      "5/5 - 37s - loss: 6.1727e-07 - sparse_categorical_accuracy: 1.0000\n",
      "Epoch 45/200\n",
      "5/5 - 39s - loss: 3.3721e-07 - sparse_categorical_accuracy: 1.0000\n",
      "Epoch 46/200\n",
      "5/5 - 42s - loss: 3.2986e-07 - sparse_categorical_accuracy: 1.0000\n",
      "Epoch 47/200\n",
      "5/5 - 47s - loss: 3.0864e-07 - sparse_categorical_accuracy: 1.0000\n",
      "Epoch 48/200\n",
      "5/5 - 45s - loss: 2.8087e-07 - sparse_categorical_accuracy: 1.0000\n",
      "Epoch 49/200\n",
      "5/5 - 46s - loss: 1.6330e-07 - sparse_categorical_accuracy: 1.0000\n",
      "Epoch 50/200\n",
      "5/5 - 42s - loss: 1.2982e-07 - sparse_categorical_accuracy: 1.0000\n",
      "Epoch 51/200\n",
      "5/5 - 40s - loss: 1.1186e-07 - sparse_categorical_accuracy: 1.0000\n",
      "Epoch 52/200\n",
      "5/5 - 39s - loss: 1.2656e-07 - sparse_categorical_accuracy: 1.0000\n",
      "Epoch 53/200\n",
      "5/5 - 37s - loss: 1.0451e-07 - sparse_categorical_accuracy: 1.0000\n",
      "Epoch 54/200\n",
      "5/5 - 40s - loss: 3.9192e-08 - sparse_categorical_accuracy: 1.0000\n",
      "Epoch 55/200\n",
      "5/5 - 38s - loss: 3.4293e-08 - sparse_categorical_accuracy: 1.0000\n",
      "Epoch 56/200\n",
      "5/5 - 38s - loss: 3.7559e-08 - sparse_categorical_accuracy: 1.0000\n",
      "Epoch 57/200\n",
      "5/5 - 37s - loss: 4.3275e-08 - sparse_categorical_accuracy: 1.0000\n",
      "Epoch 58/200\n",
      "5/5 - 38s - loss: 3.3477e-08 - sparse_categorical_accuracy: 1.0000\n",
      "Epoch 59/200\n",
      "5/5 - 37s - loss: 9.0461 - sparse_categorical_accuracy: 0.7534\n",
      "Epoch 60/200\n",
      "5/5 - 39s - loss: 0.5885 - sparse_categorical_accuracy: 0.9521\n",
      "Epoch 61/200\n",
      "5/5 - 38s - loss: 0.0199 - sparse_categorical_accuracy: 0.9932\n",
      "Epoch 62/200\n",
      "5/5 - 37s - loss: 7.4079e-04 - sparse_categorical_accuracy: 1.0000\n",
      "Epoch 00062: early stopping\n"
     ]
    }
   ],
   "source": [
    "mod = model.fit(X_train,\n",
    "               Y_train, epochs=200, batch_size= 32, verbose=2 , \n",
    "                callbacks=[callback, print_weights])"
   ]
  },
  {
   "cell_type": "code",
   "execution_count": 54,
   "metadata": {},
   "outputs": [
    {
     "data": {
      "text/plain": [
       "62"
      ]
     },
     "execution_count": 54,
     "metadata": {},
     "output_type": "execute_result"
    }
   ],
   "source": [
    "len(wie_by_epoch)"
   ]
  },
  {
   "cell_type": "code",
   "execution_count": 63,
   "metadata": {},
   "outputs": [],
   "source": [
    "model.set_weights(wie_by_epoch[61])"
   ]
  },
  {
   "cell_type": "code",
   "execution_count": 64,
   "metadata": {},
   "outputs": [
    {
     "name": "stdout",
     "output_type": "stream",
     "text": [
      "2/2 - 1s - loss: 0.0963 - sparse_categorical_accuracy: 0.9730\n"
     ]
    },
    {
     "data": {
      "text/plain": [
       "[0.09630392491817474, 0.9729729890823364]"
      ]
     },
     "execution_count": 64,
     "metadata": {},
     "output_type": "execute_result"
    }
   ],
   "source": [
    "scores = model.evaluate(X_test,Y_test, verbose=2)\n",
    "scores"
   ]
  },
  {
   "cell_type": "code",
   "execution_count": 65,
   "metadata": {},
   "outputs": [
    {
     "data": {
      "text/plain": [
       "{'loss': 0.09630392491817474,\n",
       " 'sparse_categorical_accuracy': 0.9729729890823364}"
      ]
     },
     "execution_count": 65,
     "metadata": {},
     "output_type": "execute_result"
    }
   ],
   "source": [
    "dict(zip(model.metrics_names, scores))"
   ]
  },
  {
   "cell_type": "code",
   "execution_count": 66,
   "metadata": {},
   "outputs": [
    {
     "data": {
      "image/png": "[encoded data removed]",
      "text/plain": [
       "<Figure size 432x288 with 2 Axes>"
      ]
     },
     "metadata": {
      "needs_background": "light"
     },
     "output_type": "display_data"
    }
   ],
   "source": [
    "from matplotlib import pyplot\n",
    "# plot loss during training\n",
    "pyplot.subplot(211)\n",
    "pyplot.title('Loss')\n",
    "pyplot.plot(mod.history['loss'], label='train')\n",
    "#pyplot.plot(mod.history['val_loss'], label='test')\n",
    "pyplot.legend()\n",
    "# plot accuracy during training\n",
    "pyplot.subplot(212)\n",
    "pyplot.title('Accuracy')\n",
    "pyplot.plot(mod.history['sparse_categorical_accuracy'], label='train')\n",
    "#pyplot.plot(mod.history['val_accuracy'], label='test')\n",
    "pyplot.legend()\n",
    "pyplot.show()"
   ]
  },
  {
   "cell_type": "code",
   "execution_count": 67,
   "metadata": {},
   "outputs": [],
   "source": [
    "# predict probabilities for test set\n",
    "yhat_probs = model.predict(X_test.astype('float32'), verbose=0)\n",
    "# predict crisp classes for test set\n",
    "#yhat_classes = model.predict_classes(X_test, verbose=0)\n",
    "yhat_classes = np.argmax(yhat_probs,axis=1)"
   ]
  },
  {
   "cell_type": "code",
   "execution_count": 68,
   "metadata": {},
   "outputs": [],
   "source": [
    "from sklearn.metrics import accuracy_score\n",
    "from sklearn.metrics import precision_score\n",
    "from sklearn.metrics import recall_score\n",
    "from sklearn.metrics import f1_score\n",
    "from sklearn.metrics import cohen_kappa_score\n",
    "from sklearn.metrics import roc_auc_score\n",
    "from sklearn.metrics import confusion_matrix\n",
    "from sklearn.metrics import roc_curve\n",
    "from sklearn.metrics import classification_report"
   ]
  },
  {
   "cell_type": "code",
   "execution_count": 69,
   "metadata": {},
   "outputs": [
    {
     "name": "stdout",
     "output_type": "stream",
     "text": [
      "Accuracy: 0.972973\n",
      "Precision: 0.989130\n",
      "Recall: 0.916667\n",
      "F1 score: 0.944444\n"
     ]
    }
   ],
   "source": [
    "# accuracy: (tp + tn) / (p + n)\n",
    "accuracy = accuracy_score(Y_test, yhat_classes)\n",
    "print('Accuracy: %f' % accuracy)\n",
    "# precision tp / (tp + fp)\n",
    "precision = precision_score(Y_test, yhat_classes, average='macro')\n",
    "print('Precision: %f' % precision)\n",
    "# recall: tp / (tp + fn)\n",
    "recall = recall_score(Y_test, yhat_classes,average='macro')\n",
    "print('Recall: %f' % recall)\n",
    "# f1: 2 tp / (2 tp + fp + fn)\n",
    "f1 = f1_score(Y_test, yhat_classes, average='macro')\n",
    "print('F1 score: %f' % f1)"
   ]
  },
  {
   "cell_type": "code",
   "execution_count": 70,
   "metadata": {},
   "outputs": [
    {
     "name": "stdout",
     "output_type": "stream",
     "text": [
      "Cohens kappa: 0.952746\n",
      "[[22  0  0  0]\n",
      " [ 0  5  0  0]\n",
      " [ 1  0  2  0]\n",
      " [ 0  0  0  7]]\n"
     ]
    }
   ],
   "source": [
    "# kappa\n",
    "kappa = cohen_kappa_score(Y_test, yhat_classes)\n",
    "print('Cohens kappa: %f' % kappa)\n",
    "# ROC AUC\n",
    "#fprate, tprate, thresholds = roc_curve(Y_test, yhat_probs, average = 'macro')\n",
    "#print('ROC AUC: %f' % thresholds)\n",
    "# confusion matrix\n",
    "matrix = confusion_matrix(Y_test, yhat_classes)\n",
    "print(matrix)"
   ]
  },
  {
   "cell_type": "code",
   "execution_count": 71,
   "metadata": {},
   "outputs": [
    {
     "name": "stderr",
     "output_type": "stream",
     "text": [
      "C:\\Users\\hp\\Anaconda3\\lib\\site-packages\\sklearn\\metrics\\ranking.py:659: UndefinedMetricWarning: No positive samples in y_true, true positive value should be meaningless\n",
      "  UndefinedMetricWarning)\n"
     ]
    }
   ],
   "source": [
    "fpr = {}\n",
    "tpr = {}\n",
    "thresh ={}\n",
    "\n",
    "n_class = 5\n",
    "\n",
    "for i in range(n_class):    \n",
    "    fpr[i], tpr[i], thresh[i] = roc_curve(Y_test, yhat_classes, pos_label=i)"
   ]
  },
  {
   "cell_type": "code",
   "execution_count": 72,
   "metadata": {},
   "outputs": [
    {
     "data": {
      "image/png": "[encoded data removed]",
      "text/plain": [
       "<Figure size 432x288 with 1 Axes>"
      ]
     },
     "metadata": {
      "needs_background": "light"
     },
     "output_type": "display_data"
    }
   ],
   "source": [
    "# plotting    \n",
    "plt.plot(fpr[0], tpr[0], linestyle='--',color='orange', label='Class 0 vs Rest')\n",
    "plt.plot(fpr[1], tpr[1], linestyle='--',color='green', label='Class 1 vs Rest')\n",
    "plt.plot(fpr[2], tpr[2], linestyle='--',color='blue', label='Class 2 vs Rest')\n",
    "plt.plot(fpr[3], tpr[3], linestyle='--',color='red', label='Class 3 vs Rest')\n",
    "plt.plot(fpr[4], tpr[4], linestyle='--',color='black', label='Class 4 vs Rest')\n",
    "plt.title('Multiclass ROC curve')\n",
    "plt.xlabel('False Positive Rate')\n",
    "plt.ylabel('True Positive rate')\n",
    "plt.legend(loc='best')\n",
    "plt.savefig('Multiclass ROC',dpi=300); "
   ]
  },
  {
   "cell_type": "code",
   "execution_count": 73,
   "metadata": {},
   "outputs": [
    {
     "name": "stdout",
     "output_type": "stream",
     "text": [
      "Confusion matrix : \n",
      " [[22  0  0  0]\n",
      " [ 0  5  0  0]\n",
      " [ 1  0  2  0]\n",
      " [ 0  0  0  7]]\n"
     ]
    }
   ],
   "source": [
    "matrix = confusion_matrix(Y_test, yhat_classes, labels= [0, 1, 3, 4])\n",
    "print('Confusion matrix : \\n',matrix)"
   ]
  },
  {
   "cell_type": "code",
   "execution_count": 74,
   "metadata": {},
   "outputs": [
    {
     "name": "stdout",
     "output_type": "stream",
     "text": [
      "Classification report : \n",
      "               precision    recall  f1-score   support\n",
      "\n",
      "           0       0.96      1.00      0.98        22\n",
      "           1       1.00      1.00      1.00         5\n",
      "           3       1.00      0.67      0.80         3\n",
      "           4       1.00      1.00      1.00         7\n",
      "\n",
      "    accuracy                           0.97        37\n",
      "   macro avg       0.99      0.92      0.94        37\n",
      "weighted avg       0.97      0.97      0.97        37\n",
      "\n"
     ]
    }
   ],
   "source": [
    "matrix = classification_report(Y_test,yhat_classes, labels= [0, 1, 3, 4])\n",
    "print('Classification report : \\n',matrix)"
   ]
  },
  {
   "cell_type": "code",
   "execution_count": 75,
   "metadata": {},
   "outputs": [
    {
     "name": "stdout",
     "output_type": "stream",
     "text": [
      "INFO:tensorflow:Assets written to: ./models/IG feature selection/WithIP Top11/Multi-class/CNN\\assets\n"
     ]
    }
   ],
   "source": [
    "model.save('./models/IG feature selection/WithIP Top11/Multi-class/CNN')"
   ]
  },
  {
   "cell_type": "code",
   "execution_count": null,
   "metadata": {},
   "outputs": [],
   "source": [
    "#FOr DNN model"
   ]
  },
  {
   "cell_type": "code",
   "execution_count": 44,
   "metadata": {},
   "outputs": [],
   "source": [
    "from keras.callbacks import EarlyStopping\n",
    "from keras.callbacks import ModelCheckpoint, LambdaCallback\n",
    "wie_by_epoch = []\n",
    "#model_check = ModelCheckpoint(\"/models/Testpoints/best_model.hdf5\", monitor='loss', verbose=0, save_best_only=True, mode='min', save_freq=1)\n",
    "print_weights = LambdaCallback(on_epoch_end=lambda batch, logs:wie_by_epoch.append(model.get_weights()))\n",
    "callback = tf.keras.callbacks.EarlyStopping(monitor='loss', patience=4, verbose= 2)"
   ]
  },
  {
   "cell_type": "code",
   "execution_count": 45,
   "metadata": {},
   "outputs": [],
   "source": [
    "model = Sequential()\n",
    "model.add(Flatten(input_shape = X_train.shape[1:], name = 'input'))\n",
    "model.add(Dense(256, activation='relu'))\n",
    "model.add(Dense(128, activation='relu'))\n",
    "model.add(Dense(64, activation='relu'))\n",
    "model.add(Dense(32, activation='relu'))\n",
    "model.add(Dense(12, activation='relu'))\n",
    "model.add(Dense(5, activation = 'softmax') )\n",
    "#mod1 = model.compile(optimizer=tf.keras.optimizers.RMSprop(\n",
    "#   learning_rate=0.1, rho=0.1, momentum=0.0, epsilon=1e-2 , centered=False,\n",
    "#   name='RMSprop'), loss='sparse_categorical_crossentropy', metrics=[keras.metrics.SparseCategoricalAccuracy()])\n",
    "model.compile(optimizer= 'rmsprop', loss='sparse_categorical_crossentropy',  metrics=[keras.metrics.SparseCategoricalAccuracy()])\n",
    "#mod = model.fit(X.astype('float32'),Y.astype('float32'), epochs=20, batch_size= 20, verbose=0)"
   ]
  },
  {
   "cell_type": "code",
   "execution_count": 46,
   "metadata": {
    "scrolled": true
   },
   "outputs": [
    {
     "data": {
      "text/plain": [
       "(None, 5)"
      ]
     },
     "execution_count": 46,
     "metadata": {},
     "output_type": "execute_result"
    }
   ],
   "source": [
    "model.build(input_shape = (nx,ny))\n",
    "model.output_shape"
   ]
  },
  {
   "cell_type": "code",
   "execution_count": 47,
   "metadata": {},
   "outputs": [
    {
     "data": {
      "text/plain": [
       "361"
      ]
     },
     "execution_count": 47,
     "metadata": {},
     "output_type": "execute_result"
    }
   ],
   "source": [
    "#del model, wie_by_epoch\n",
    "\n",
    "gc.collect()"
   ]
  },
  {
   "cell_type": "code",
   "execution_count": 48,
   "metadata": {
    "scrolled": true
   },
   "outputs": [
    {
     "data": {
      "image/png": "[encoded data removed]",
      "text/plain": [
       "<IPython.core.display.Image object>"
      ]
     },
     "execution_count": 48,
     "metadata": {},
     "output_type": "execute_result"
    }
   ],
   "source": [
    "wights = model.get_weights()\n",
    "from tensorflow.keras.utils import plot_model\n",
    "plot_model(model, show_shapes=True)"
   ]
  },
  {
   "cell_type": "code",
   "execution_count": 59,
   "metadata": {
    "scrolled": true
   },
   "outputs": [
    {
     "name": "stdout",
     "output_type": "stream",
     "text": [
      "Epoch 1/40\n",
      "5/5 - 3s - loss: 2.3215e-05 - sparse_categorical_accuracy: 1.0000\n",
      "Epoch 2/40\n",
      "5/5 - 3s - loss: 1.5785e-05 - sparse_categorical_accuracy: 1.0000\n",
      "Epoch 3/40\n",
      "5/5 - 3s - loss: 1.1674e-05 - sparse_categorical_accuracy: 1.0000\n",
      "Epoch 4/40\n",
      "5/5 - 3s - loss: 7.8244e-06 - sparse_categorical_accuracy: 1.0000\n",
      "Epoch 5/40\n",
      "5/5 - 3s - loss: 5.7353e-06 - sparse_categorical_accuracy: 1.0000\n",
      "Epoch 6/40\n",
      "5/5 - 3s - loss: 4.1540e-06 - sparse_categorical_accuracy: 1.0000\n",
      "Epoch 7/40\n",
      "5/5 - 3s - loss: 3.0106e-06 - sparse_categorical_accuracy: 1.0000\n",
      "Epoch 8/40\n",
      "5/5 - 3s - loss: 2.0908e-06 - sparse_categorical_accuracy: 1.0000\n",
      "Epoch 9/40\n",
      "5/5 - 3s - loss: 1.6165e-06 - sparse_categorical_accuracy: 1.0000\n",
      "Epoch 10/40\n",
      "5/5 - 3s - loss: 1.1838e-06 - sparse_categorical_accuracy: 1.0000\n",
      "Epoch 11/40\n",
      "5/5 - 3s - loss: 8.4666e-07 - sparse_categorical_accuracy: 1.0000\n",
      "Epoch 12/40\n",
      "5/5 - 3s - loss: 5.0050e-07 - sparse_categorical_accuracy: 1.0000\n",
      "Epoch 13/40\n",
      "5/5 - 3s - loss: 3.7966e-07 - sparse_categorical_accuracy: 1.0000\n",
      "Epoch 14/40\n",
      "5/5 - 3s - loss: 2.9149e-07 - sparse_categorical_accuracy: 1.0000\n",
      "Epoch 15/40\n",
      "5/5 - 3s - loss: 2.2698e-07 - sparse_categorical_accuracy: 1.0000\n",
      "Epoch 16/40\n",
      "5/5 - 3s - loss: 1.8044e-07 - sparse_categorical_accuracy: 1.0000\n",
      "Epoch 17/40\n",
      "5/5 - 3s - loss: 1.1513e-07 - sparse_categorical_accuracy: 1.0000\n",
      "Epoch 18/40\n",
      "5/5 - 3s - loss: 8.8182e-08 - sparse_categorical_accuracy: 1.0000\n",
      "Epoch 19/40\n",
      "5/5 - 3s - loss: 6.6136e-08 - sparse_categorical_accuracy: 1.0000\n",
      "Epoch 20/40\n",
      "5/5 - 3s - loss: 5.5522e-08 - sparse_categorical_accuracy: 1.0000\n",
      "Epoch 21/40\n",
      "5/5 - 3s - loss: 4.5724e-08 - sparse_categorical_accuracy: 1.0000\n",
      "Epoch 22/40\n",
      "5/5 - 3s - loss: 3.9192e-08 - sparse_categorical_accuracy: 1.0000\n",
      "Epoch 23/40\n",
      "5/5 - 3s - loss: 3.2660e-08 - sparse_categorical_accuracy: 1.0000\n",
      "Epoch 24/40\n",
      "5/5 - 3s - loss: 2.8578e-08 - sparse_categorical_accuracy: 1.0000\n",
      "Epoch 25/40\n",
      "5/5 - 3s - loss: 2.2046e-08 - sparse_categorical_accuracy: 1.0000\n",
      "Epoch 26/40\n",
      "5/5 - 3s - loss: 1.9596e-08 - sparse_categorical_accuracy: 1.0000\n",
      "Epoch 27/40\n",
      "5/5 - 3s - loss: 1.7147e-08 - sparse_categorical_accuracy: 1.0000\n",
      "Epoch 28/40\n",
      "5/5 - 3s - loss: 1.3064e-08 - sparse_categorical_accuracy: 1.0000\n",
      "Epoch 29/40\n",
      "5/5 - 3s - loss: 1.0615e-08 - sparse_categorical_accuracy: 1.0000\n",
      "Epoch 30/40\n",
      "5/5 - 3s - loss: 1.0615e-08 - sparse_categorical_accuracy: 1.0000\n",
      "Epoch 31/40\n",
      "5/5 - 3s - loss: 8.1650e-09 - sparse_categorical_accuracy: 1.0000\n",
      "Epoch 32/40\n",
      "5/5 - 3s - loss: 5.7155e-09 - sparse_categorical_accuracy: 1.0000\n",
      "Epoch 33/40\n",
      "5/5 - 3s - loss: 5.7155e-09 - sparse_categorical_accuracy: 1.0000\n",
      "Epoch 34/40\n",
      "5/5 - 3s - loss: 6.5320e-09 - sparse_categorical_accuracy: 1.0000\n",
      "Epoch 35/40\n",
      "5/5 - 3s - loss: 4.0825e-09 - sparse_categorical_accuracy: 1.0000\n",
      "Epoch 36/40\n",
      "5/5 - 3s - loss: 4.8990e-09 - sparse_categorical_accuracy: 1.0000\n",
      "Epoch 37/40\n",
      "5/5 - 3s - loss: 4.8990e-09 - sparse_categorical_accuracy: 1.0000\n",
      "Epoch 38/40\n",
      "5/5 - 3s - loss: 2.4495e-09 - sparse_categorical_accuracy: 1.0000\n",
      "Epoch 39/40\n",
      "5/5 - 3s - loss: 1.6330e-09 - sparse_categorical_accuracy: 1.0000\n",
      "Epoch 40/40\n",
      "5/5 - 3s - loss: 2.4495e-09 - sparse_categorical_accuracy: 1.0000\n"
     ]
    }
   ],
   "source": [
    "mod = model.fit(X_train,\n",
    "               Y_train, epochs=40, batch_size= 32, verbose=2 , \n",
    "                callbacks=[callback, print_weights])"
   ]
  },
  {
   "cell_type": "code",
   "execution_count": 61,
   "metadata": {},
   "outputs": [
    {
     "data": {
      "text/plain": [
       "80"
      ]
     },
     "execution_count": 61,
     "metadata": {},
     "output_type": "execute_result"
    }
   ],
   "source": [
    "#Total Epochs\n",
    "len(wie_by_epoch)"
   ]
  },
  {
   "cell_type": "code",
   "execution_count": 62,
   "metadata": {},
   "outputs": [],
   "source": [
    "#\n",
    "#model.set_weights(wie_by_epoch[37])"
   ]
  },
  {
   "cell_type": "code",
   "execution_count": 63,
   "metadata": {},
   "outputs": [
    {
     "name": "stdout",
     "output_type": "stream",
     "text": [
      "2/2 - 0s - loss: 0.8453 - sparse_categorical_accuracy: 0.9459\n"
     ]
    },
    {
     "data": {
      "text/plain": [
       "[0.8453392386436462, 0.9459459185600281]"
      ]
     },
     "execution_count": 63,
     "metadata": {},
     "output_type": "execute_result"
    }
   ],
   "source": [
    "scores = model.evaluate(X_test,Y_test, verbose=2)\n",
    "scores"
   ]
  },
  {
   "cell_type": "code",
   "execution_count": 64,
   "metadata": {},
   "outputs": [
    {
     "data": {
      "text/plain": [
       "{'loss': 0.8453392386436462, 'sparse_categorical_accuracy': 0.9459459185600281}"
      ]
     },
     "execution_count": 64,
     "metadata": {},
     "output_type": "execute_result"
    }
   ],
   "source": [
    "dict(zip(model.metrics_names, scores))"
   ]
  },
  {
   "cell_type": "code",
   "execution_count": 65,
   "metadata": {},
   "outputs": [
    {
     "data": {
      "image/png": "[encoded data removed]",
      "text/plain": [
       "<Figure size 432x288 with 2 Axes>"
      ]
     },
     "metadata": {
      "needs_background": "light"
     },
     "output_type": "display_data"
    }
   ],
   "source": [
    "from matplotlib import pyplot\n",
    "# plot loss during training\n",
    "pyplot.subplot(211)\n",
    "pyplot.title('Loss')\n",
    "pyplot.plot(mod.history['loss'], label='train')\n",
    "#pyplot.plot(mod.history['val_loss'], label='test')\n",
    "pyplot.legend()\n",
    "# plot accuracy during training\n",
    "pyplot.subplot(212)\n",
    "pyplot.title('Accuracy')\n",
    "pyplot.plot(mod.history['sparse_categorical_accuracy'], label='train')\n",
    "#pyplot.plot(mod.history['val_accuracy'], label='test')\n",
    "pyplot.legend()\n",
    "pyplot.show()"
   ]
  },
  {
   "cell_type": "code",
   "execution_count": 66,
   "metadata": {},
   "outputs": [],
   "source": [
    "# predict probabilities for test set\n",
    "yhat_probs = model.predict(X_test.astype('float32'), verbose=0)\n",
    "# predict crisp classes for test set\n",
    "#yhat_classes = model.predict_classes(X_test, verbose=0)\n",
    "yhat_classes = np.argmax(yhat_probs,axis=1)"
   ]
  },
  {
   "cell_type": "code",
   "execution_count": 67,
   "metadata": {},
   "outputs": [],
   "source": [
    "from sklearn.datasets import make_circles\n",
    "from sklearn.metrics import accuracy_score\n",
    "from sklearn.metrics import precision_score\n",
    "from sklearn.metrics import recall_score\n",
    "from sklearn.metrics import f1_score\n",
    "from sklearn.metrics import cohen_kappa_score\n",
    "from sklearn.metrics import roc_auc_score\n",
    "from sklearn.metrics import confusion_matrix\n",
    "from sklearn.metrics import roc_curve\n"
   ]
  },
  {
   "cell_type": "code",
   "execution_count": 68,
   "metadata": {},
   "outputs": [
    {
     "name": "stdout",
     "output_type": "stream",
     "text": [
      "Accuracy: 0.945946\n",
      "Precision: 0.979167\n",
      "Recall: 0.880952\n",
      "F1 score: 0.919900\n"
     ]
    }
   ],
   "source": [
    "# accuracy: (tp + tn) / (p + n)\n",
    "accuracy = accuracy_score(Y_test, yhat_classes)\n",
    "print('Accuracy: %f' % accuracy)\n",
    "# precision tp / (tp + fp)\n",
    "precision = precision_score(Y_test, yhat_classes, average='macro')\n",
    "print('Precision: %f' % precision)\n",
    "# recall: tp / (tp + fn)\n",
    "recall = recall_score(Y_test, yhat_classes,average='macro')\n",
    "print('Recall: %f' % recall)\n",
    "# f1: 2 tp / (2 tp + fp + fn)\n",
    "f1 = f1_score(Y_test, yhat_classes, average='macro')\n",
    "print('F1 score: %f' % f1)"
   ]
  },
  {
   "cell_type": "code",
   "execution_count": 69,
   "metadata": {},
   "outputs": [
    {
     "name": "stdout",
     "output_type": "stream",
     "text": [
      "Cohens kappa: 0.903646\n",
      "[[22  0  0  0]\n",
      " [ 0  5  0  0]\n",
      " [ 1  0  2  0]\n",
      " [ 1  0  0  6]]\n"
     ]
    }
   ],
   "source": [
    "# kappa\n",
    "kappa = cohen_kappa_score(Y_test, yhat_classes)\n",
    "print('Cohens kappa: %f' % kappa)\n",
    "# ROC AUC\n",
    "#fprate, tprate, thresholds = roc_curve(Y_test, yhat_probs, average = 'macro')\n",
    "#print('ROC AUC: %f' % thresholds)\n",
    "# confusion matrix\n",
    "matrix = confusion_matrix(Y_test, yhat_classes)\n",
    "print(matrix)"
   ]
  },
  {
   "cell_type": "code",
   "execution_count": 70,
   "metadata": {},
   "outputs": [
    {
     "name": "stderr",
     "output_type": "stream",
     "text": [
      "C:\\Users\\hp\\Anaconda3\\lib\\site-packages\\sklearn\\metrics\\ranking.py:659: UndefinedMetricWarning: No positive samples in y_true, true positive value should be meaningless\n",
      "  UndefinedMetricWarning)\n"
     ]
    }
   ],
   "source": [
    "fpr = {}\n",
    "tpr = {}\n",
    "thresh ={}\n",
    "\n",
    "n_class = 5\n",
    "\n",
    "for i in range(n_class):    \n",
    "    fpr[i], tpr[i], thresh[i] = roc_curve(Y_test, yhat_classes, pos_label=i)"
   ]
  },
  {
   "cell_type": "code",
   "execution_count": 71,
   "metadata": {},
   "outputs": [
    {
     "data": {
      "image/png": "[encoded data removed]",
      "text/plain": [
       "<Figure size 432x288 with 1 Axes>"
      ]
     },
     "metadata": {
      "needs_background": "light"
     },
     "output_type": "display_data"
    }
   ],
   "source": [
    "# plotting    \n",
    "plt.plot(fpr[0], tpr[0], linestyle='--',color='orange', label='Class 0 vs Rest')\n",
    "plt.plot(fpr[1], tpr[1], linestyle='--',color='green', label='Class 1 vs Rest')\n",
    "plt.plot(fpr[2], tpr[2], linestyle='--',color='blue', label='Class 2 vs Rest')\n",
    "plt.plot(fpr[3], tpr[3], linestyle='--',color='red', label='Class 3 vs Rest')\n",
    "plt.plot(fpr[4], tpr[4], linestyle='--',color='black', label='Class 4 vs Rest')\n",
    "plt.title('Multiclass ROC curve')\n",
    "plt.xlabel('False Positive Rate')\n",
    "plt.ylabel('True Positive rate')\n",
    "plt.legend(loc='best')\n",
    "plt.savefig('Multiclass ROC',dpi=300); "
   ]
  },
  {
   "cell_type": "code",
   "execution_count": 72,
   "metadata": {},
   "outputs": [
    {
     "name": "stdout",
     "output_type": "stream",
     "text": [
      "Confusion matrix : \n",
      " [[22  0  0  0]\n",
      " [ 0  5  0  0]\n",
      " [ 1  0  2  0]\n",
      " [ 1  0  0  6]]\n"
     ]
    }
   ],
   "source": [
    "matrix = confusion_matrix(Y_test,yhat_classes, labels= [0, 1,3, 4])\n",
    "print('Confusion matrix : \\n',matrix)"
   ]
  },
  {
   "cell_type": "code",
   "execution_count": 73,
   "metadata": {},
   "outputs": [
    {
     "name": "stdout",
     "output_type": "stream",
     "text": [
      "Classification report : \n",
      "               precision    recall  f1-score   support\n",
      "\n",
      "           0       0.92      1.00      0.96        22\n",
      "           1       1.00      1.00      1.00         5\n",
      "           3       1.00      0.67      0.80         3\n",
      "           4       1.00      0.86      0.92         7\n",
      "\n",
      "    accuracy                           0.95        37\n",
      "   macro avg       0.98      0.88      0.92        37\n",
      "weighted avg       0.95      0.95      0.94        37\n",
      "\n"
     ]
    }
   ],
   "source": [
    "matrix = classification_report(Y_test,yhat_classes, labels= [0, 1,3, 4])\n",
    "print('Classification report : \\n',matrix)"
   ]
  },
  {
   "cell_type": "code",
   "execution_count": 74,
   "metadata": {},
   "outputs": [
    {
     "name": "stdout",
     "output_type": "stream",
     "text": [
      "INFO:tensorflow:Assets written to: ./models/IG feature selection/WithIP Top11/Multi-class/DNN\\assets\n"
     ]
    }
   ],
   "source": [
    "model.save('./models/IG feature selection/WithIP Top11/Multi-class/DNN')"
   ]
  },
  {
   "cell_type": "code",
   "execution_count": 75,
   "metadata": {},
   "outputs": [],
   "source": [
    "from keras import backend as K\n",
    "K.clear_session()"
   ]
  },
  {
   "cell_type": "code",
   "execution_count": 76,
   "metadata": {},
   "outputs": [],
   "source": [
    "#LSTM"
   ]
  },
  {
   "cell_type": "code",
   "execution_count": 77,
   "metadata": {},
   "outputs": [],
   "source": [
    "from keras.callbacks import EarlyStopping\n",
    "from keras.callbacks import ModelCheckpoint, LambdaCallback\n",
    "wie_by_epoch = []\n",
    "model_check = ModelCheckpoint(\"./models/Testpoints/best_model.hdf5\", monitor='loss', verbose=0, save_best_only=True, mode='min', save_freq=1)\n",
    "print_weights = LambdaCallback(on_epoch_end=lambda batch, logs:wie_by_epoch.append(model.get_weights()))\n",
    "callback = tf.keras.callbacks.EarlyStopping(monitor='loss', patience=4, verbose= 2)"
   ]
  },
  {
   "cell_type": "code",
   "execution_count": 78,
   "metadata": {},
   "outputs": [],
   "source": [
    "model = Sequential()\n",
    "model.add(LSTM(14, activation='relu', return_sequences = True, dropout = 0.1, input_shape = (nx,ny) ))\n",
    "model.add(Flatten())\n",
    "model.add(Dense(5, activation='softmax'))\n",
    "model.compile(optimizer= 'rmsprop', loss='sparse_categorical_crossentropy',  metrics=[keras.metrics.SparseCategoricalAccuracy()])"
   ]
  },
  {
   "cell_type": "code",
   "execution_count": 79,
   "metadata": {},
   "outputs": [
    {
     "data": {
      "text/plain": [
       "(None, 5)"
      ]
     },
     "execution_count": 79,
     "metadata": {},
     "output_type": "execute_result"
    }
   ],
   "source": [
    "model.build(input_shape = (nx,ny))\n",
    "model.output_shape"
   ]
  },
  {
   "cell_type": "code",
   "execution_count": 80,
   "metadata": {
    "scrolled": true
   },
   "outputs": [
    {
     "data": {
      "text/plain": [
       "15848"
      ]
     },
     "execution_count": 80,
     "metadata": {},
     "output_type": "execute_result"
    }
   ],
   "source": [
    "#del model, wie_by_epoch\n",
    "\n",
    "gc.collect()"
   ]
  },
  {
   "cell_type": "code",
   "execution_count": 81,
   "metadata": {},
   "outputs": [
    {
     "name": "stdout",
     "output_type": "stream",
     "text": [
      "Model: \"sequential\"\n",
      "_________________________________________________________________\n",
      "Layer (type)                 Output Shape              Param #   \n",
      "=================================================================\n",
      "lstm (LSTM)                  (None, 19800, 14)         1456      \n",
      "_________________________________________________________________\n",
      "flatten (Flatten)            (None, 277200)            0         \n",
      "_________________________________________________________________\n",
      "dense (Dense)                (None, 5)                 1386005   \n",
      "=================================================================\n",
      "Total params: 1,387,461\n",
      "Trainable params: 1,387,461\n",
      "Non-trainable params: 0\n",
      "_________________________________________________________________\n"
     ]
    }
   ],
   "source": [
    "#model.build(input_shape = (nx,ny))\n",
    "model.summary()\n"
   ]
  },
  {
   "cell_type": "code",
   "execution_count": 82,
   "metadata": {},
   "outputs": [
    {
     "data": {
      "image/png": "[encoded data removed]",
      "text/plain": [
       "<IPython.core.display.Image object>"
      ]
     },
     "execution_count": 82,
     "metadata": {},
     "output_type": "execute_result"
    }
   ],
   "source": [
    "from tensorflow.keras.utils import plot_model\n",
    "wights = model.get_weights()\n",
    "plot_model(model, show_shapes=True)"
   ]
  },
  {
   "cell_type": "code",
   "execution_count": 83,
   "metadata": {
    "scrolled": true
   },
   "outputs": [
    {
     "name": "stdout",
     "output_type": "stream",
     "text": [
      "Epoch 1/60\n",
      "3/3 - 35s - loss: 5.6104 - sparse_categorical_accuracy: 0.4795\n",
      "Epoch 2/60\n",
      "3/3 - 33s - loss: 2.4063 - sparse_categorical_accuracy: 0.8082\n",
      "Epoch 3/60\n",
      "3/3 - 33s - loss: 1.0185 - sparse_categorical_accuracy: 0.8767\n",
      "Epoch 4/60\n",
      "3/3 - 32s - loss: 0.2544 - sparse_categorical_accuracy: 0.9452\n",
      "Epoch 5/60\n",
      "3/3 - 32s - loss: 0.1158 - sparse_categorical_accuracy: 0.9726\n",
      "Epoch 6/60\n",
      "3/3 - 34s - loss: 0.1557 - sparse_categorical_accuracy: 0.9795\n",
      "Epoch 7/60\n",
      "3/3 - 33s - loss: 0.0552 - sparse_categorical_accuracy: 0.9932\n",
      "Epoch 8/60\n",
      "3/3 - 33s - loss: 0.0426 - sparse_categorical_accuracy: 0.9932\n",
      "Epoch 9/60\n",
      "3/3 - 34s - loss: 0.0377 - sparse_categorical_accuracy: 0.9932\n",
      "Epoch 10/60\n",
      "3/3 - 35s - loss: 0.0327 - sparse_categorical_accuracy: 0.9932\n",
      "Epoch 11/60\n",
      "3/3 - 34s - loss: 0.0299 - sparse_categorical_accuracy: 0.9932\n",
      "Epoch 12/60\n",
      "3/3 - 33s - loss: 0.0277 - sparse_categorical_accuracy: 0.9932\n",
      "Epoch 13/60\n",
      "3/3 - 34s - loss: 0.0244 - sparse_categorical_accuracy: 0.9932\n",
      "Epoch 14/60\n",
      "3/3 - 33s - loss: 0.0218 - sparse_categorical_accuracy: 0.9932\n",
      "Epoch 15/60\n",
      "3/3 - 34s - loss: 0.0186 - sparse_categorical_accuracy: 0.9932\n",
      "Epoch 16/60\n",
      "3/3 - 34s - loss: 0.0167 - sparse_categorical_accuracy: 0.9932\n",
      "Epoch 17/60\n",
      "3/3 - 34s - loss: 0.0147 - sparse_categorical_accuracy: 0.9932\n",
      "Epoch 18/60\n",
      "3/3 - 34s - loss: 0.0134 - sparse_categorical_accuracy: 0.9932\n",
      "Epoch 19/60\n",
      "3/3 - 34s - loss: 0.0123 - sparse_categorical_accuracy: 0.9932\n",
      "Epoch 20/60\n",
      "3/3 - 34s - loss: 0.0109 - sparse_categorical_accuracy: 0.9932\n",
      "Epoch 21/60\n",
      "3/3 - 34s - loss: 0.0111 - sparse_categorical_accuracy: 0.9932\n",
      "Epoch 22/60\n",
      "3/3 - 35s - loss: 0.0096 - sparse_categorical_accuracy: 0.9932\n",
      "Epoch 23/60\n",
      "3/3 - 34s - loss: 0.0086 - sparse_categorical_accuracy: 0.9932\n",
      "Epoch 24/60\n",
      "3/3 - 25s - loss: 0.0081 - sparse_categorical_accuracy: 0.9932\n",
      "Epoch 25/60\n",
      "3/3 - 23s - loss: 0.0068 - sparse_categorical_accuracy: 1.0000\n",
      "Epoch 26/60\n",
      "3/3 - 23s - loss: 0.0058 - sparse_categorical_accuracy: 1.0000\n",
      "Epoch 27/60\n",
      "3/3 - 21s - loss: 0.0046 - sparse_categorical_accuracy: 1.0000\n",
      "Epoch 28/60\n",
      "3/3 - 21s - loss: 0.0044 - sparse_categorical_accuracy: 1.0000\n",
      "Epoch 29/60\n",
      "3/3 - 22s - loss: 0.0040 - sparse_categorical_accuracy: 1.0000\n",
      "Epoch 30/60\n",
      "3/3 - 20s - loss: 0.0033 - sparse_categorical_accuracy: 1.0000\n",
      "Epoch 31/60\n",
      "3/3 - 20s - loss: 0.0041 - sparse_categorical_accuracy: 1.0000\n",
      "Epoch 32/60\n",
      "3/3 - 21s - loss: 0.0030 - sparse_categorical_accuracy: 1.0000\n",
      "Epoch 33/60\n",
      "3/3 - 20s - loss: 0.0022 - sparse_categorical_accuracy: 1.0000\n",
      "Epoch 34/60\n",
      "3/3 - 21s - loss: 0.0020 - sparse_categorical_accuracy: 1.0000\n",
      "Epoch 35/60\n",
      "3/3 - 22s - loss: 0.0017 - sparse_categorical_accuracy: 1.0000\n",
      "Epoch 36/60\n",
      "3/3 - 22s - loss: 0.0016 - sparse_categorical_accuracy: 1.0000\n",
      "Epoch 37/60\n",
      "3/3 - 22s - loss: 0.0013 - sparse_categorical_accuracy: 1.0000\n",
      "Epoch 38/60\n",
      "3/3 - 23s - loss: 0.0010 - sparse_categorical_accuracy: 1.0000\n",
      "Epoch 39/60\n",
      "3/3 - 23s - loss: 0.0016 - sparse_categorical_accuracy: 1.0000\n",
      "Epoch 40/60\n",
      "3/3 - 23s - loss: 5.2777e-04 - sparse_categorical_accuracy: 1.0000\n",
      "Epoch 41/60\n",
      "3/3 - 21s - loss: 5.4286e-04 - sparse_categorical_accuracy: 1.0000\n",
      "Epoch 42/60\n",
      "3/3 - 20s - loss: 5.3779e-04 - sparse_categorical_accuracy: 1.0000\n",
      "Epoch 43/60\n",
      "3/3 - 21s - loss: 3.7284e-04 - sparse_categorical_accuracy: 1.0000\n",
      "Epoch 44/60\n",
      "3/3 - 21s - loss: 2.3689e-04 - sparse_categorical_accuracy: 1.0000\n",
      "Epoch 45/60\n",
      "3/3 - 22s - loss: 2.0723e-04 - sparse_categorical_accuracy: 1.0000\n",
      "Epoch 46/60\n",
      "3/3 - 23s - loss: 2.9424e-04 - sparse_categorical_accuracy: 1.0000\n",
      "Epoch 47/60\n",
      "3/3 - 24s - loss: 1.0871e-04 - sparse_categorical_accuracy: 1.0000\n",
      "Epoch 48/60\n",
      "3/3 - 32s - loss: nan - sparse_categorical_accuracy: 1.0000\n",
      "Epoch 49/60\n",
      "3/3 - 33s - loss: nan - sparse_categorical_accuracy: 0.6027\n",
      "Epoch 50/60\n",
      "3/3 - 33s - loss: nan - sparse_categorical_accuracy: 0.6027\n",
      "Epoch 51/60\n",
      "3/3 - 33s - loss: nan - sparse_categorical_accuracy: 0.6027\n",
      "Epoch 00051: early stopping\n"
     ]
    }
   ],
   "source": [
    "mod = model.fit(X_train,\n",
    "               Y_train, epochs=60, batch_size= 64, verbose=2 , \n",
    "                callbacks=[callback, print_weights, model_check])"
   ]
  },
  {
   "cell_type": "code",
   "execution_count": 84,
   "metadata": {},
   "outputs": [
    {
     "data": {
      "text/plain": [
       "51"
      ]
     },
     "execution_count": 84,
     "metadata": {},
     "output_type": "execute_result"
    }
   ],
   "source": [
    "# Number of Epochs\n",
    "len(wie_by_epoch)"
   ]
  },
  {
   "cell_type": "code",
   "execution_count": 85,
   "metadata": {},
   "outputs": [],
   "source": [
    "# 7\n",
    "model.set_weights(wie_by_epoch[45])"
   ]
  },
  {
   "cell_type": "code",
   "execution_count": 86,
   "metadata": {},
   "outputs": [
    {
     "name": "stdout",
     "output_type": "stream",
     "text": [
      "2/2 - 5s - loss: 0.2056 - sparse_categorical_accuracy: 0.9459\n"
     ]
    },
    {
     "data": {
      "text/plain": [
       "[0.2055751234292984, 0.9459459185600281]"
      ]
     },
     "execution_count": 86,
     "metadata": {},
     "output_type": "execute_result"
    }
   ],
   "source": [
    "scores = model.evaluate(X_test,Y_test, verbose=2)\n",
    "scores"
   ]
  },
  {
   "cell_type": "code",
   "execution_count": 87,
   "metadata": {},
   "outputs": [
    {
     "data": {
      "image/png": "[encoded data removed]",
      "text/plain": [
       "<Figure size 432x288 with 2 Axes>"
      ]
     },
     "metadata": {
      "needs_background": "light"
     },
     "output_type": "display_data"
    }
   ],
   "source": [
    "from matplotlib import pyplot\n",
    "# plot loss during training\n",
    "pyplot.subplot(211)\n",
    "pyplot.title('Loss')\n",
    "pyplot.plot(mod.history['loss'], label='train')\n",
    "#pyplot.plot(mod.history['val_loss'], label='test')\n",
    "pyplot.legend()\n",
    "# plot accuracy during training\n",
    "pyplot.subplot(212)\n",
    "pyplot.title('Accuracy')\n",
    "pyplot.plot(mod.history['sparse_categorical_accuracy'], label='train')\n",
    "#pyplot.plot(mod.history['val_accuracy'], label='test')\n",
    "pyplot.legend()\n",
    "pyplot.show()"
   ]
  },
  {
   "cell_type": "code",
   "execution_count": 88,
   "metadata": {},
   "outputs": [],
   "source": [
    "# predict probabilities for test set\n",
    "yhat_probs = model.predict(X_test.astype('float32'), verbose=0)\n",
    "# predict crisp classes for test set\n",
    "#yhat_classes = model.predict_classes(X_test, verbose=0)\n",
    "yhat_classes = np.argmax(yhat_probs,axis=1)"
   ]
  },
  {
   "cell_type": "code",
   "execution_count": 89,
   "metadata": {},
   "outputs": [
    {
     "name": "stdout",
     "output_type": "stream",
     "text": [
      "Accuracy: 0.945946\n",
      "Precision: 0.979167\n",
      "Recall: 0.866667\n",
      "F1 score: 0.911353\n"
     ]
    }
   ],
   "source": [
    "# accuracy: (tp + tn) / (p + n)\n",
    "accuracy = accuracy_score(Y_test, yhat_classes)\n",
    "print('Accuracy: %f' % accuracy)\n",
    "# precision tp / (tp + fp)\n",
    "precision = precision_score(Y_test, yhat_classes, average='macro')\n",
    "print('Precision: %f' % precision)\n",
    "# recall: tp / (tp + fn)\n",
    "recall = recall_score(Y_test, yhat_classes,average='macro')\n",
    "print('Recall: %f' % recall)\n",
    "# f1: 2 tp / (2 tp + fp + fn)\n",
    "f1 = f1_score(Y_test, yhat_classes, average='macro')\n",
    "print('F1 score: %f' % f1)"
   ]
  },
  {
   "cell_type": "code",
   "execution_count": 90,
   "metadata": {},
   "outputs": [
    {
     "name": "stdout",
     "output_type": "stream",
     "text": [
      "Cohens kappa: 0.903394\n",
      "[[22  0  0  0]\n",
      " [ 1  4  0  0]\n",
      " [ 1  0  2  0]\n",
      " [ 0  0  0  7]]\n"
     ]
    }
   ],
   "source": [
    "# kappa\n",
    "kappa = cohen_kappa_score(Y_test, yhat_classes)\n",
    "print('Cohens kappa: %f' % kappa)\n",
    "# ROC AUC\n",
    "#fprate, tprate, thresholds = roc_curve(Y_test, yhat_probs, average = 'macro')\n",
    "#print('ROC AUC: %f' % thresholds)\n",
    "# confusion matrix\n",
    "matrix = confusion_matrix(Y_test, yhat_classes)\n",
    "print(matrix)"
   ]
  },
  {
   "cell_type": "code",
   "execution_count": 91,
   "metadata": {},
   "outputs": [
    {
     "name": "stderr",
     "output_type": "stream",
     "text": [
      "C:\\Users\\hp\\Anaconda3\\lib\\site-packages\\sklearn\\metrics\\ranking.py:659: UndefinedMetricWarning: No positive samples in y_true, true positive value should be meaningless\n",
      "  UndefinedMetricWarning)\n"
     ]
    }
   ],
   "source": [
    "fpr = {}\n",
    "tpr = {}\n",
    "thresh ={}\n",
    "\n",
    "n_class = 5\n",
    "\n",
    "for i in range(n_class):    \n",
    "    fpr[i], tpr[i], thresh[i] = roc_curve(Y_test, yhat_classes, pos_label=i)"
   ]
  },
  {
   "cell_type": "code",
   "execution_count": 92,
   "metadata": {},
   "outputs": [
    {
     "data": {
      "image/png": "[encoded data removed]",
      "text/plain": [
       "<Figure size 432x288 with 1 Axes>"
      ]
     },
     "metadata": {
      "needs_background": "light"
     },
     "output_type": "display_data"
    }
   ],
   "source": [
    "# plotting    \n",
    "plt.plot(fpr[0], tpr[0], linestyle='--',color='orange', label='Class 0 vs Rest')\n",
    "plt.plot(fpr[1], tpr[1], linestyle='--',color='green', label='Class 1 vs Rest')\n",
    "plt.plot(fpr[2], tpr[2], linestyle='--',color='blue', label='Class 2 vs Rest')\n",
    "plt.plot(fpr[3], tpr[3], linestyle='--',color='red', label='Class 3 vs Rest')\n",
    "plt.plot(fpr[4], tpr[4], linestyle='--',color='black', label='Class 4 vs Rest')\n",
    "plt.title('Multiclass ROC curve')\n",
    "plt.xlabel('False Positive Rate')\n",
    "plt.ylabel('True Positive rate')\n",
    "plt.legend(loc='best')\n",
    "plt.savefig('Multiclass ROC',dpi=300); "
   ]
  },
  {
   "cell_type": "code",
   "execution_count": 93,
   "metadata": {},
   "outputs": [
    {
     "name": "stdout",
     "output_type": "stream",
     "text": [
      "Confusion matrix : \n",
      " [[22  0  0  0]\n",
      " [ 1  4  0  0]\n",
      " [ 1  0  2  0]\n",
      " [ 0  0  0  7]]\n"
     ]
    }
   ],
   "source": [
    "matrix = confusion_matrix(Y_test,yhat_classes, labels= [0, 1, 3, 4])\n",
    "print('Confusion matrix : \\n',matrix)"
   ]
  },
  {
   "cell_type": "code",
   "execution_count": 94,
   "metadata": {},
   "outputs": [
    {
     "name": "stdout",
     "output_type": "stream",
     "text": [
      "Classification report : \n",
      "               precision    recall  f1-score   support\n",
      "\n",
      "           0       0.92      1.00      0.96        22\n",
      "           1       1.00      0.80      0.89         5\n",
      "           3       1.00      0.67      0.80         3\n",
      "           4       1.00      1.00      1.00         7\n",
      "\n",
      "    accuracy                           0.95        37\n",
      "   macro avg       0.98      0.87      0.91        37\n",
      "weighted avg       0.95      0.95      0.94        37\n",
      "\n"
     ]
    }
   ],
   "source": [
    "matrix = classification_report(Y_test,yhat_classes, labels= [0, 1, 3, 4])\n",
    "print('Classification report : \\n',matrix)"
   ]
  },
  {
   "cell_type": "code",
   "execution_count": 95,
   "metadata": {},
   "outputs": [
    {
     "name": "stdout",
     "output_type": "stream",
     "text": [
      "INFO:tensorflow:Assets written to: ./models/IG feature selection/WithIP Top11/Multi-class/LSTM\\assets\n"
     ]
    }
   ],
   "source": [
    "import pickle\n",
    "#filename = './models/CFS feature selection/With IP_ Top 7/Multi-class/KNN/KNN.sav'\n",
    "model.save('./models/IG feature selection/WithIP Top11/Multi-class/LSTM')"
   ]
  },
  {
   "cell_type": "code",
   "execution_count": 96,
   "metadata": {},
   "outputs": [],
   "source": [
    "from keras import backend as K\n",
    "K.clear_session()"
   ]
  },
  {
   "cell_type": "code",
   "execution_count": 97,
   "metadata": {},
   "outputs": [],
   "source": [
    "from keras.callbacks import EarlyStopping\n",
    "from keras.callbacks import ModelCheckpoint, LambdaCallback\n",
    "wie_by_epoch = []\n",
    "model_check = ModelCheckpoint(\"./models/Testpoints/best_model.hdf5\", monitor='loss', verbose=0, save_best_only=True, mode='min', save_freq=1)\n",
    "print_weights = LambdaCallback(on_epoch_end=lambda batch, logs:wie_by_epoch.append(model.get_weights()))\n",
    "callback = tf.keras.callbacks.EarlyStopping(monitor='loss', patience=4, verbose= 2)"
   ]
  },
  {
   "cell_type": "code",
   "execution_count": 98,
   "metadata": {},
   "outputs": [],
   "source": [
    "model = Sequential()\n",
    "model.add(SimpleRNN(16, input_shape=(nx, ny), return_sequences = True, activation='relu'))\n",
    "model.add(Flatten())\n",
    "model.add(Dense(units=5, activation='softmax'))\n",
    "model.compile(optimizer= 'rmsprop', loss='sparse_categorical_crossentropy',  metrics=[keras.metrics.SparseCategoricalAccuracy()])"
   ]
  },
  {
   "cell_type": "code",
   "execution_count": 99,
   "metadata": {
    "scrolled": true
   },
   "outputs": [
    {
     "data": {
      "text/plain": [
       "(None, 5)"
      ]
     },
     "execution_count": 99,
     "metadata": {},
     "output_type": "execute_result"
    }
   ],
   "source": [
    "model.build(input_shape = (nx,ny))\n",
    "model.output_shape"
   ]
  },
  {
   "cell_type": "code",
   "execution_count": 100,
   "metadata": {},
   "outputs": [
    {
     "data": {
      "text/plain": [
       "72719"
      ]
     },
     "execution_count": 100,
     "metadata": {},
     "output_type": "execute_result"
    }
   ],
   "source": [
    "#del model, wie_by_epoch\n",
    "\n",
    "gc.collect()"
   ]
  },
  {
   "cell_type": "code",
   "execution_count": 101,
   "metadata": {},
   "outputs": [
    {
     "name": "stdout",
     "output_type": "stream",
     "text": [
      "Model: \"sequential\"\n",
      "_________________________________________________________________\n",
      "Layer (type)                 Output Shape              Param #   \n",
      "=================================================================\n",
      "simple_rnn (SimpleRNN)       (None, 19800, 16)         448       \n",
      "_________________________________________________________________\n",
      "flatten (Flatten)            (None, 316800)            0         \n",
      "_________________________________________________________________\n",
      "dense (Dense)                (None, 5)                 1584005   \n",
      "=================================================================\n",
      "Total params: 1,584,453\n",
      "Trainable params: 1,584,453\n",
      "Non-trainable params: 0\n",
      "_________________________________________________________________\n"
     ]
    }
   ],
   "source": [
    "#model.build(input_shape = (nx,ny))\n",
    "model.summary()\n"
   ]
  },
  {
   "cell_type": "code",
   "execution_count": 102,
   "metadata": {},
   "outputs": [
    {
     "data": {
      "image/png": "[encoded data removed]",
      "text/plain": [
       "<IPython.core.display.Image object>"
      ]
     },
     "execution_count": 102,
     "metadata": {},
     "output_type": "execute_result"
    }
   ],
   "source": [
    "from tensorflow.keras.utils import plot_model\n",
    "wights = model.get_weights()\n",
    "plot_model(model, show_shapes=True)"
   ]
  },
  {
   "cell_type": "code",
   "execution_count": 103,
   "metadata": {
    "scrolled": true
   },
   "outputs": [
    {
     "name": "stdout",
     "output_type": "stream",
     "text": [
      "Epoch 1/60\n",
      "5/5 - 29s - loss: 8.7577 - sparse_categorical_accuracy: 0.4589\n",
      "Epoch 2/60\n",
      "5/5 - 29s - loss: 1.7771 - sparse_categorical_accuracy: 0.8082\n",
      "Epoch 3/60\n",
      "5/5 - 30s - loss: 0.2036 - sparse_categorical_accuracy: 0.9726\n",
      "Epoch 4/60\n",
      "5/5 - 28s - loss: 0.0390 - sparse_categorical_accuracy: 0.9932\n",
      "Epoch 5/60\n",
      "5/5 - 26s - loss: 0.0329 - sparse_categorical_accuracy: 0.9932\n",
      "Epoch 6/60\n",
      "5/5 - 28s - loss: 0.0284 - sparse_categorical_accuracy: 0.9932\n",
      "Epoch 7/60\n",
      "5/5 - 29s - loss: 0.0252 - sparse_categorical_accuracy: 0.9932\n",
      "Epoch 8/60\n",
      "5/5 - 27s - loss: 0.0214 - sparse_categorical_accuracy: 0.9932\n",
      "Epoch 9/60\n",
      "5/5 - 25s - loss: 0.0168 - sparse_categorical_accuracy: 0.9932\n",
      "Epoch 10/60\n",
      "5/5 - 27s - loss: 0.0133 - sparse_categorical_accuracy: 1.0000\n",
      "Epoch 11/60\n",
      "5/5 - 28s - loss: 0.0112 - sparse_categorical_accuracy: 1.0000\n",
      "Epoch 12/60\n",
      "5/5 - 27s - loss: 0.0092 - sparse_categorical_accuracy: 1.0000\n",
      "Epoch 13/60\n",
      "5/5 - 26s - loss: 0.0078 - sparse_categorical_accuracy: 1.0000\n",
      "Epoch 14/60\n",
      "5/5 - 22s - loss: 0.0063 - sparse_categorical_accuracy: 1.0000\n",
      "Epoch 15/60\n",
      "5/5 - 20s - loss: 0.0050 - sparse_categorical_accuracy: 1.0000\n",
      "Epoch 16/60\n",
      "5/5 - 20s - loss: 0.0037 - sparse_categorical_accuracy: 1.0000\n",
      "Epoch 17/60\n",
      "5/5 - 20s - loss: 0.0027 - sparse_categorical_accuracy: 1.0000\n",
      "Epoch 18/60\n",
      "5/5 - 20s - loss: 0.0021 - sparse_categorical_accuracy: 1.0000\n",
      "Epoch 19/60\n",
      "5/5 - 20s - loss: 0.0017 - sparse_categorical_accuracy: 1.0000\n",
      "Epoch 20/60\n",
      "5/5 - 19s - loss: 0.0012 - sparse_categorical_accuracy: 1.0000\n",
      "Epoch 21/60\n",
      "5/5 - 18s - loss: 8.6038e-04 - sparse_categorical_accuracy: 1.0000\n",
      "Epoch 22/60\n",
      "5/5 - 18s - loss: 6.1305e-04 - sparse_categorical_accuracy: 1.0000\n",
      "Epoch 23/60\n",
      "5/5 - 18s - loss: 4.1778e-04 - sparse_categorical_accuracy: 1.0000\n",
      "Epoch 24/60\n",
      "5/5 - 18s - loss: 2.9703e-04 - sparse_categorical_accuracy: 1.0000\n",
      "Epoch 25/60\n",
      "5/5 - 17s - loss: 1.9703e-04 - sparse_categorical_accuracy: 1.0000\n",
      "Epoch 26/60\n",
      "5/5 - 17s - loss: 1.5785e-04 - sparse_categorical_accuracy: 1.0000\n",
      "Epoch 27/60\n",
      "5/5 - 18s - loss: 1.1748e-04 - sparse_categorical_accuracy: 1.0000\n",
      "Epoch 28/60\n",
      "5/5 - 18s - loss: 1.0163e-04 - sparse_categorical_accuracy: 1.0000\n",
      "Epoch 29/60\n",
      "5/5 - 18s - loss: 7.5810e-05 - sparse_categorical_accuracy: 1.0000\n",
      "Epoch 30/60\n",
      "5/5 - 19s - loss: 6.0319e-05 - sparse_categorical_accuracy: 1.0000\n",
      "Epoch 31/60\n",
      "5/5 - 19s - loss: 4.8432e-05 - sparse_categorical_accuracy: 1.0000\n",
      "Epoch 32/60\n",
      "5/5 - 19s - loss: 4.2991e-05 - sparse_categorical_accuracy: 1.0000\n",
      "Epoch 33/60\n",
      "5/5 - 20s - loss: 2.1648e-05 - sparse_categorical_accuracy: 1.0000\n",
      "Epoch 34/60\n",
      "5/5 - 19s - loss: 1.7384e-05 - sparse_categorical_accuracy: 1.0000\n",
      "Epoch 35/60\n",
      "5/5 - 20s - loss: 1.3931e-05 - sparse_categorical_accuracy: 1.0000\n",
      "Epoch 36/60\n",
      "5/5 - 18s - loss: 9.3210e-06 - sparse_categorical_accuracy: 1.0000\n",
      "Epoch 37/60\n",
      "5/5 - 18s - loss: 8.4166e-06 - sparse_categorical_accuracy: 1.0000\n",
      "Epoch 38/60\n",
      "5/5 - 17s - loss: 6.8400e-06 - sparse_categorical_accuracy: 1.0000\n",
      "Epoch 39/60\n",
      "5/5 - 17s - loss: 3.4578e-06 - sparse_categorical_accuracy: 1.0000\n",
      "Epoch 40/60\n",
      "5/5 - 17s - loss: 2.6755e-06 - sparse_categorical_accuracy: 1.0000\n",
      "Epoch 41/60\n",
      "5/5 - 19s - loss: 2.1310e-06 - sparse_categorical_accuracy: 1.0000\n",
      "Epoch 42/60\n",
      "5/5 - 19s - loss: 1.6101e-06 - sparse_categorical_accuracy: 1.0000\n",
      "Epoch 43/60\n",
      "5/5 - 26s - loss: 1.4852e-06 - sparse_categorical_accuracy: 1.0000\n",
      "Epoch 44/60\n",
      "5/5 - 26s - loss: 1.0696e-06 - sparse_categorical_accuracy: 1.0000\n",
      "Epoch 45/60\n",
      "5/5 - 27s - loss: 8.3771e-07 - sparse_categorical_accuracy: 1.0000\n",
      "Epoch 46/60\n",
      "5/5 - 29s - loss: 7.0219e-07 - sparse_categorical_accuracy: 1.0000\n",
      "Epoch 47/60\n",
      "5/5 - 28s - loss: 4.4009e-07 - sparse_categorical_accuracy: 1.0000\n",
      "Epoch 48/60\n",
      "5/5 - 31s - loss: 3.4538e-07 - sparse_categorical_accuracy: 1.0000\n",
      "Epoch 49/60\n",
      "5/5 - 31s - loss: 2.9231e-07 - sparse_categorical_accuracy: 1.0000\n",
      "Epoch 50/60\n",
      "5/5 - 31s - loss: 2.2209e-07 - sparse_categorical_accuracy: 1.0000\n",
      "Epoch 51/60\n",
      "5/5 - 32s - loss: 1.8453e-07 - sparse_categorical_accuracy: 1.0000\n",
      "Epoch 52/60\n",
      "5/5 - 21s - loss: 1.3799e-07 - sparse_categorical_accuracy: 1.0000\n",
      "Epoch 53/60\n",
      "5/5 - 22s - loss: 1.1186e-07 - sparse_categorical_accuracy: 1.0000\n",
      "Epoch 54/60\n",
      "5/5 - 21s - loss: 9.7163e-08 - sparse_categorical_accuracy: 1.0000\n",
      "Epoch 55/60\n",
      "5/5 - 21s - loss: 7.2669e-08 - sparse_categorical_accuracy: 1.0000\n",
      "Epoch 56/60\n",
      "5/5 - 21s - loss: 5.9605e-08 - sparse_categorical_accuracy: 1.0000\n",
      "Epoch 57/60\n",
      "5/5 - 20s - loss: 5.1440e-08 - sparse_categorical_accuracy: 1.0000\n",
      "Epoch 58/60\n",
      "5/5 - 22s - loss: 3.9192e-08 - sparse_categorical_accuracy: 1.0000\n",
      "Epoch 59/60\n",
      "5/5 - 24s - loss: 3.3477e-08 - sparse_categorical_accuracy: 1.0000\n",
      "Epoch 60/60\n",
      "5/5 - 46s - loss: 2.7761e-08 - sparse_categorical_accuracy: 1.0000\n"
     ]
    }
   ],
   "source": [
    "mod = model.fit(X_train,\n",
    "               Y_train, epochs=60, batch_size= 32, verbose=2 , \n",
    "                callbacks=[callback, print_weights, model_check])"
   ]
  },
  {
   "cell_type": "code",
   "execution_count": 104,
   "metadata": {},
   "outputs": [
    {
     "data": {
      "text/plain": [
       "60"
      ]
     },
     "execution_count": 104,
     "metadata": {},
     "output_type": "execute_result"
    }
   ],
   "source": [
    "#Number of Epochs\n",
    "len(wie_by_epoch)"
   ]
  },
  {
   "cell_type": "code",
   "execution_count": 121,
   "metadata": {},
   "outputs": [],
   "source": [
    "#120 +21\n",
    "#model.set_weights(wie_by_epoch[95])\n",
    "#mod.history.get('sparse_categorical_accuracy')"
   ]
  },
  {
   "cell_type": "code",
   "execution_count": 105,
   "metadata": {},
   "outputs": [
    {
     "name": "stdout",
     "output_type": "stream",
     "text": [
      "2/2 - 5s - loss: 0.4019 - sparse_categorical_accuracy: 0.9189\n"
     ]
    },
    {
     "data": {
      "text/plain": [
       "[0.4018898606300354, 0.9189189076423645]"
      ]
     },
     "execution_count": 105,
     "metadata": {},
     "output_type": "execute_result"
    }
   ],
   "source": [
    "scores = model.evaluate(X_test,Y_test, verbose=2)\n",
    "scores"
   ]
  },
  {
   "cell_type": "code",
   "execution_count": 106,
   "metadata": {},
   "outputs": [
    {
     "data": {
      "text/plain": [
       "{'loss': 0.4018898606300354, 'sparse_categorical_accuracy': 0.9189189076423645}"
      ]
     },
     "execution_count": 106,
     "metadata": {},
     "output_type": "execute_result"
    }
   ],
   "source": [
    "dict(zip(model.metrics_names, scores))"
   ]
  },
  {
   "cell_type": "code",
   "execution_count": 107,
   "metadata": {},
   "outputs": [
    {
     "data": {
      "image/png": "[encoded data removed]",
      "text/plain": [
       "<Figure size 432x288 with 2 Axes>"
      ]
     },
     "metadata": {
      "needs_background": "light"
     },
     "output_type": "display_data"
    }
   ],
   "source": [
    "from matplotlib import pyplot\n",
    "# plot loss during training\n",
    "pyplot.subplot(211)\n",
    "pyplot.title('Loss')\n",
    "pyplot.plot(mod.history['loss'], label='train')\n",
    "#pyplot.plot(mod.history['val_loss'], label='test')\n",
    "pyplot.legend()\n",
    "# plot accuracy during training\n",
    "pyplot.subplot(212)\n",
    "pyplot.title('Accuracy')\n",
    "pyplot.plot(mod.history['sparse_categorical_accuracy'], label='train')\n",
    "#pyplot.plot(mod.history['val_accuracy'], label='test')\n",
    "pyplot.legend()\n",
    "pyplot.show()"
   ]
  },
  {
   "cell_type": "code",
   "execution_count": 108,
   "metadata": {},
   "outputs": [],
   "source": [
    "# predict probabilities for test set\n",
    "yhat_probs = model.predict(X_test.astype('float32'), verbose=0)\n",
    "# predict crisp classes for test set\n",
    "#yhat_classes = model.predict_classes(X_test, verbose=0)\n",
    "yhat_classes = np.argmax(yhat_probs,axis=1)"
   ]
  },
  {
   "cell_type": "code",
   "execution_count": 109,
   "metadata": {},
   "outputs": [
    {
     "name": "stdout",
     "output_type": "stream",
     "text": [
      "Accuracy: 0.918919\n",
      "Precision: 0.947011\n",
      "Recall: 0.855303\n",
      "F1 score: 0.888889\n"
     ]
    }
   ],
   "source": [
    "# accuracy: (tp + tn) / (p + n)\n",
    "accuracy = accuracy_score(Y_test, yhat_classes)\n",
    "print('Accuracy: %f' % accuracy)\n",
    "# precision tp / (tp + fp)\n",
    "precision = precision_score(Y_test, yhat_classes, average='macro')\n",
    "print('Precision: %f' % precision)\n",
    "# recall: tp / (tp + fn)\n",
    "recall = recall_score(Y_test, yhat_classes,average='macro')\n",
    "print('Recall: %f' % recall)\n",
    "# f1: 2 tp / (2 tp + fp + fn)\n",
    "f1 = f1_score(Y_test, yhat_classes, average='macro')\n",
    "print('F1 score: %f' % f1)"
   ]
  },
  {
   "cell_type": "code",
   "execution_count": 110,
   "metadata": {},
   "outputs": [
    {
     "name": "stdout",
     "output_type": "stream",
     "text": [
      "Cohens kappa: 0.857875\n",
      "[[21  0  0  1]\n",
      " [ 1  4  0  0]\n",
      " [ 1  0  2  0]\n",
      " [ 0  0  0  7]]\n"
     ]
    }
   ],
   "source": [
    "# kappa\n",
    "kappa = cohen_kappa_score(Y_test, yhat_classes)\n",
    "print('Cohens kappa: %f' % kappa)\n",
    "# ROC AUC\n",
    "#fprate, tprate, thresholds = roc_curve(Y_test, yhat_probs, average = 'macro')\n",
    "#print('ROC AUC: %f' % thresholds)\n",
    "# confusion matrix\n",
    "matrix = confusion_matrix(Y_test, yhat_classes)\n",
    "print(matrix)"
   ]
  },
  {
   "cell_type": "code",
   "execution_count": 111,
   "metadata": {},
   "outputs": [
    {
     "name": "stderr",
     "output_type": "stream",
     "text": [
      "C:\\Users\\hp\\Anaconda3\\lib\\site-packages\\sklearn\\metrics\\ranking.py:659: UndefinedMetricWarning: No positive samples in y_true, true positive value should be meaningless\n",
      "  UndefinedMetricWarning)\n"
     ]
    }
   ],
   "source": [
    "fpr = {}\n",
    "tpr = {}\n",
    "thresh ={}\n",
    "\n",
    "n_class = 5\n",
    "\n",
    "for i in range(n_class):    \n",
    "    fpr[i], tpr[i], thresh[i] = roc_curve(Y_test, yhat_classes, pos_label=i)"
   ]
  },
  {
   "cell_type": "code",
   "execution_count": 112,
   "metadata": {},
   "outputs": [
    {
     "data": {
      "image/png": "[encoded data removed]",
      "text/plain": [
       "<Figure size 432x288 with 1 Axes>"
      ]
     },
     "metadata": {
      "needs_background": "light"
     },
     "output_type": "display_data"
    }
   ],
   "source": [
    "# plotting    \n",
    "plt.plot(fpr[0], tpr[0], linestyle='--',color='orange', label='Class 0 vs Rest')\n",
    "plt.plot(fpr[1], tpr[1], linestyle='--',color='green', label='Class 1 vs Rest')\n",
    "plt.plot(fpr[2], tpr[2], linestyle='--',color='blue', label='Class 2 vs Rest')\n",
    "plt.plot(fpr[3], tpr[3], linestyle='--',color='red', label='Class 3 vs Rest')\n",
    "plt.plot(fpr[4], tpr[4], linestyle='--',color='black', label='Class 4 vs Rest')\n",
    "plt.title('Multiclass ROC curve')\n",
    "plt.xlabel('False Positive Rate')\n",
    "plt.ylabel('True Positive rate')\n",
    "plt.legend(loc='best')\n",
    "plt.savefig('Multiclass ROC',dpi=300); "
   ]
  },
  {
   "cell_type": "code",
   "execution_count": 113,
   "metadata": {},
   "outputs": [
    {
     "name": "stdout",
     "output_type": "stream",
     "text": [
      "Confusion matrix : \n",
      " [[21  0  0  1]\n",
      " [ 1  4  0  0]\n",
      " [ 1  0  2  0]\n",
      " [ 0  0  0  7]]\n"
     ]
    }
   ],
   "source": [
    "matrix = confusion_matrix(Y_test,yhat_classes, labels= [0, 1, 3, 4])\n",
    "print('Confusion matrix : \\n',matrix)"
   ]
  },
  {
   "cell_type": "code",
   "execution_count": 114,
   "metadata": {},
   "outputs": [
    {
     "name": "stdout",
     "output_type": "stream",
     "text": [
      "Classification report : \n",
      "               precision    recall  f1-score   support\n",
      "\n",
      "           0       0.91      0.95      0.93        22\n",
      "           1       1.00      0.80      0.89         5\n",
      "           3       1.00      0.67      0.80         3\n",
      "           4       0.88      1.00      0.93         7\n",
      "\n",
      "    accuracy                           0.92        37\n",
      "   macro avg       0.95      0.86      0.89        37\n",
      "weighted avg       0.92      0.92      0.92        37\n",
      "\n"
     ]
    }
   ],
   "source": [
    "matrix = classification_report(Y_test,yhat_classes, labels= [0, 1, 3, 4])\n",
    "print('Classification report : \\n',matrix)"
   ]
  },
  {
   "cell_type": "code",
   "execution_count": 115,
   "metadata": {},
   "outputs": [
    {
     "name": "stdout",
     "output_type": "stream",
     "text": [
      "INFO:tensorflow:Assets written to: ./models/IG feature selection/WithIP Top11/Multi-class/Simple RNN\\assets\n"
     ]
    }
   ],
   "source": [
    "import pickle\n",
    "model.save('./models/IG feature selection/WithIP Top11/Multi-class/Simple RNN')"
   ]
  },
  {
   "cell_type": "code",
   "execution_count": null,
   "metadata": {},
   "outputs": [],
   "source": [
    "#MLP"
   ]
  },
  {
   "cell_type": "code",
   "execution_count": 116,
   "metadata": {},
   "outputs": [
    {
     "name": "stdout",
     "output_type": "stream",
     "text": [
      "samples: 37 \n",
      " X:19800 \n",
      " Y:11\n"
     ]
    }
   ],
   "source": [
    "#X = make_4D(X)\n",
    "nsamples,nx, ny = X_test.shape\n",
    "print(f\"samples: {nsamples} \\n X:{nx} \\n Y:{ny}\" )\n",
    "X_test = X_test.reshape((nsamples,nx*ny))"
   ]
  },
  {
   "cell_type": "code",
   "execution_count": 117,
   "metadata": {},
   "outputs": [
    {
     "name": "stdout",
     "output_type": "stream",
     "text": [
      "samples: 146 \n",
      " X:19800 \n",
      " Y:11\n"
     ]
    }
   ],
   "source": [
    "nsamples,nx, ny = X_train.shape\n",
    "print(f\"samples: {nsamples} \\n X:{nx} \\n Y:{ny}\" )\n",
    "X_train = X_train.reshape((nsamples,nx*ny))"
   ]
  },
  {
   "cell_type": "code",
   "execution_count": 118,
   "metadata": {},
   "outputs": [],
   "source": [
    "from sklearn.neural_network import MLPClassifier"
   ]
  },
  {
   "cell_type": "code",
   "execution_count": 119,
   "metadata": {},
   "outputs": [],
   "source": [
    "clf = MLPClassifier(hidden_layer_sizes=(256,128,64,32),activation=\"relu\",random_state=1).fit(X_train, Y_train)\n",
    "y_pred=clf.predict(X_test)\n"
   ]
  },
  {
   "cell_type": "code",
   "execution_count": 120,
   "metadata": {},
   "outputs": [
    {
     "data": {
      "text/plain": [
       "0.9459459459459459"
      ]
     },
     "execution_count": 120,
     "metadata": {},
     "output_type": "execute_result"
    }
   ],
   "source": [
    "clf.score(X_test, Y_test)"
   ]
  },
  {
   "cell_type": "code",
   "execution_count": 121,
   "metadata": {},
   "outputs": [],
   "source": [
    "yhat_classes = y_pred"
   ]
  },
  {
   "cell_type": "code",
   "execution_count": 122,
   "metadata": {},
   "outputs": [],
   "source": [
    "from sklearn.datasets import make_circles\n",
    "from sklearn.metrics import accuracy_score\n",
    "from sklearn.metrics import precision_score\n",
    "from sklearn.metrics import recall_score\n",
    "from sklearn.metrics import f1_score\n",
    "from sklearn.metrics import cohen_kappa_score\n",
    "from sklearn.metrics import roc_auc_score\n",
    "from sklearn.metrics import confusion_matrix\n",
    "from sklearn.metrics import roc_curve\n"
   ]
  },
  {
   "cell_type": "code",
   "execution_count": 123,
   "metadata": {},
   "outputs": [
    {
     "name": "stdout",
     "output_type": "stream",
     "text": [
      "Accuracy: 0.945946\n",
      "Precision: 0.927083\n",
      "Recall: 0.905303\n",
      "F1 score: 0.904792\n"
     ]
    }
   ],
   "source": [
    "# accuracy: (tp + tn) / (p + n)\n",
    "accuracy = accuracy_score(Y_test, yhat_classes)\n",
    "print('Accuracy: %f' % accuracy)\n",
    "# precision tp / (tp + fp)\n",
    "precision = precision_score(Y_test, yhat_classes, average='macro')\n",
    "print('Precision: %f' % precision)\n",
    "# recall: tp / (tp + fn)\n",
    "recall = recall_score(Y_test, yhat_classes,average='macro')\n",
    "print('Recall: %f' % recall)\n",
    "# f1: 2 tp / (2 tp + fp + fn)\n",
    "f1 = f1_score(Y_test, yhat_classes, average='macro')\n",
    "print('F1 score: %f' % f1)"
   ]
  },
  {
   "cell_type": "code",
   "execution_count": 124,
   "metadata": {},
   "outputs": [
    {
     "name": "stdout",
     "output_type": "stream",
     "text": [
      "Cohens kappa: 0.909202\n",
      "[[21  0  0  1]\n",
      " [ 0  5  0  0]\n",
      " [ 0  1  2  0]\n",
      " [ 0  0  0  7]]\n"
     ]
    }
   ],
   "source": [
    "# kappa\n",
    "kappa = cohen_kappa_score(Y_test, yhat_classes)\n",
    "print('Cohens kappa: %f' % kappa)\n",
    "# ROC AUC\n",
    "#fprate, tprate, thresholds = roc_curve(Y_test, yhat_probs, average = 'macro')\n",
    "#print('ROC AUC: %f' % thresholds)\n",
    "# confusion matrix\n",
    "matrix = confusion_matrix(Y_test, yhat_classes)\n",
    "print(matrix)"
   ]
  },
  {
   "cell_type": "code",
   "execution_count": 125,
   "metadata": {},
   "outputs": [
    {
     "name": "stderr",
     "output_type": "stream",
     "text": [
      "C:\\Users\\hp\\Anaconda3\\lib\\site-packages\\sklearn\\metrics\\ranking.py:659: UndefinedMetricWarning: No positive samples in y_true, true positive value should be meaningless\n",
      "  UndefinedMetricWarning)\n"
     ]
    }
   ],
   "source": [
    "fpr = {}\n",
    "tpr = {}\n",
    "thresh ={}\n",
    "\n",
    "n_class = 5\n",
    "\n",
    "for i in range(n_class):    \n",
    "    fpr[i], tpr[i], thresh[i] = roc_curve(Y_test, yhat_classes, pos_label=i)"
   ]
  },
  {
   "cell_type": "code",
   "execution_count": 126,
   "metadata": {},
   "outputs": [
    {
     "data": {
      "image/png": "[encoded data removed]",
      "text/plain": [
       "<Figure size 432x288 with 1 Axes>"
      ]
     },
     "metadata": {
      "needs_background": "light"
     },
     "output_type": "display_data"
    }
   ],
   "source": [
    "# plotting    \n",
    "plt.plot(fpr[0], tpr[0], linestyle='--',color='orange', label='Class 0 vs Rest')\n",
    "plt.plot(fpr[1], tpr[1], linestyle='--',color='green', label='Class 1 vs Rest')\n",
    "plt.plot(fpr[2], tpr[2], linestyle='--',color='blue', label='Class 2 vs Rest')\n",
    "plt.plot(fpr[3], tpr[3], linestyle='--',color='red', label='Class 3 vs Rest')\n",
    "plt.plot(fpr[4], tpr[4], linestyle='--',color='black', label='Class 4 vs Rest')\n",
    "plt.title('Multiclass ROC curve')\n",
    "plt.xlabel('False Positive Rate')\n",
    "plt.ylabel('True Positive rate')\n",
    "plt.legend(loc='best')\n",
    "plt.savefig('Multiclass ROC',dpi=300); "
   ]
  },
  {
   "cell_type": "code",
   "execution_count": 127,
   "metadata": {},
   "outputs": [
    {
     "name": "stdout",
     "output_type": "stream",
     "text": [
      "Confusion matrix : \n",
      " [[21  0  0  1]\n",
      " [ 0  5  0  0]\n",
      " [ 0  1  2  0]\n",
      " [ 0  0  0  7]]\n"
     ]
    }
   ],
   "source": [
    "from sklearn.metrics import confusion_matrix\n",
    "from sklearn.metrics import classification_report\n",
    "matrix = confusion_matrix(Y_test, yhat_classes, labels= [0, 1, 3, 4])\n",
    "print('Confusion matrix : \\n',matrix)"
   ]
  },
  {
   "cell_type": "code",
   "execution_count": 128,
   "metadata": {},
   "outputs": [
    {
     "name": "stdout",
     "output_type": "stream",
     "text": [
      "Classification report : \n",
      "               precision    recall  f1-score   support\n",
      "\n",
      "           0       1.00      0.95      0.98        22\n",
      "           1       0.83      1.00      0.91         5\n",
      "           3       1.00      0.67      0.80         3\n",
      "           4       0.88      1.00      0.93         7\n",
      "\n",
      "    accuracy                           0.95        37\n",
      "   macro avg       0.93      0.91      0.90        37\n",
      "weighted avg       0.95      0.95      0.95        37\n",
      "\n"
     ]
    }
   ],
   "source": [
    "matrix = classification_report(Y_test,yhat_classes, labels= [0, 1, 3, 4])\n",
    "print('Classification report : \\n',matrix)"
   ]
  },
  {
   "cell_type": "code",
   "execution_count": 129,
   "metadata": {},
   "outputs": [],
   "source": [
    "import pickle\n",
    "# save the model to disk\n",
    "filename = './models/IG feature selection/WithIP Top11/Multi-class/MLP/MLP.sav'\n",
    "pickle.dump(clf, open(filename, 'wb'))"
   ]
  },
  {
   "cell_type": "code",
   "execution_count": 130,
   "metadata": {},
   "outputs": [
    {
     "name": "stdout",
     "output_type": "stream",
     "text": [
      "WARNING:tensorflow:From C:\\Users\\hp\\AppData\\Roaming\\Python\\Python37\\site-packages\\tensorflow\\python\\compat\\v2_compat.py:101: disable_resource_variables (from tensorflow.python.ops.variable_scope) is deprecated and will be removed in a future version.\n",
      "Instructions for updating:\n",
      "non-resource variables are not supported in the long term\n"
     ]
    }
   ],
   "source": [
    "#DBN model\n",
    "from dbn.tensorflow import SupervisedDBNClassification"
   ]
  },
  {
   "cell_type": "code",
   "execution_count": 309,
   "metadata": {},
   "outputs": [],
   "source": [
    "classifier = SupervisedDBNClassification(hidden_layers_structure=[64,64],\n",
    "                                         learning_rate_rbm=0.00001,\n",
    "                                         learning_rate=0.01,\n",
    "                                         n_epochs_rbm=32,\n",
    "                                         n_iter_backprop=512,\n",
    "                                         batch_size=32,\n",
    "                                         activation_function='relu',\n",
    "                                         dropout_p=0.00001)"
   ]
  },
  {
   "cell_type": "code",
   "execution_count": 308,
   "metadata": {},
   "outputs": [
    {
     "data": {
      "text/plain": [
       "20"
      ]
     },
     "execution_count": 308,
     "metadata": {},
     "output_type": "execute_result"
    }
   ],
   "source": [
    "del classifier\n",
    "gc.collect()"
   ]
  },
  {
   "cell_type": "code",
   "execution_count": 310,
   "metadata": {
    "scrolled": true
   },
   "outputs": [
    {
     "name": "stdout",
     "output_type": "stream",
     "text": [
      "[START] Pre-training step:\n",
      ">> Epoch 1 finished \tRBM Reconstruction error 13841.272461\n",
      ">> Epoch 2 finished \tRBM Reconstruction error 13840.975586\n",
      ">> Epoch 3 finished \tRBM Reconstruction error 13840.669922\n",
      ">> Epoch 4 finished \tRBM Reconstruction error 13840.345703\n",
      ">> Epoch 5 finished \tRBM Reconstruction error 13839.996094\n",
      ">> Epoch 6 finished \tRBM Reconstruction error 13839.586914\n",
      ">> Epoch 7 finished \tRBM Reconstruction error 13839.114258\n",
      ">> Epoch 8 finished \tRBM Reconstruction error 13838.455078\n",
      ">> Epoch 9 finished \tRBM Reconstruction error 13837.610352\n",
      ">> Epoch 10 finished \tRBM Reconstruction error 13836.489258\n",
      ">> Epoch 11 finished \tRBM Reconstruction error 13834.886719\n",
      ">> Epoch 12 finished \tRBM Reconstruction error 13832.649414\n",
      ">> Epoch 13 finished \tRBM Reconstruction error 13829.455078\n",
      ">> Epoch 14 finished \tRBM Reconstruction error 13825.083984\n",
      ">> Epoch 15 finished \tRBM Reconstruction error 13819.349609\n",
      ">> Epoch 16 finished \tRBM Reconstruction error 13811.800781\n",
      ">> Epoch 17 finished \tRBM Reconstruction error 13802.037109\n",
      ">> Epoch 18 finished \tRBM Reconstruction error 13789.786133\n",
      ">> Epoch 19 finished \tRBM Reconstruction error 13774.641602\n",
      ">> Epoch 20 finished \tRBM Reconstruction error 13756.399414\n",
      ">> Epoch 21 finished \tRBM Reconstruction error 13734.503906\n",
      ">> Epoch 22 finished \tRBM Reconstruction error 13708.663086\n",
      ">> Epoch 23 finished \tRBM Reconstruction error 13678.606445\n",
      ">> Epoch 24 finished \tRBM Reconstruction error 13643.911133\n",
      ">> Epoch 25 finished \tRBM Reconstruction error 13604.293945\n",
      ">> Epoch 26 finished \tRBM Reconstruction error 13559.520508\n",
      ">> Epoch 27 finished \tRBM Reconstruction error 13509.725586\n",
      ">> Epoch 28 finished \tRBM Reconstruction error 13454.781250\n",
      ">> Epoch 29 finished \tRBM Reconstruction error 13394.500000\n",
      ">> Epoch 30 finished \tRBM Reconstruction error 13328.885742\n",
      ">> Epoch 31 finished \tRBM Reconstruction error 13257.897461\n",
      ">> Epoch 32 finished \tRBM Reconstruction error 13181.529297\n",
      ">> Epoch 1 finished \tRBM Reconstruction error 331.729065\n",
      ">> Epoch 2 finished \tRBM Reconstruction error 331.613251\n",
      ">> Epoch 3 finished \tRBM Reconstruction error 331.494781\n",
      ">> Epoch 4 finished \tRBM Reconstruction error 331.373291\n",
      ">> Epoch 5 finished \tRBM Reconstruction error 331.251831\n",
      ">> Epoch 6 finished \tRBM Reconstruction error 331.125336\n",
      ">> Epoch 7 finished \tRBM Reconstruction error 330.995270\n",
      ">> Epoch 8 finished \tRBM Reconstruction error 330.863892\n",
      ">> Epoch 9 finished \tRBM Reconstruction error 330.722290\n",
      ">> Epoch 10 finished \tRBM Reconstruction error 330.574493\n",
      ">> Epoch 11 finished \tRBM Reconstruction error 330.426514\n",
      ">> Epoch 12 finished \tRBM Reconstruction error 330.273315\n",
      ">> Epoch 13 finished \tRBM Reconstruction error 330.121796\n",
      ">> Epoch 14 finished \tRBM Reconstruction error 329.962708\n",
      ">> Epoch 15 finished \tRBM Reconstruction error 329.793549\n",
      ">> Epoch 16 finished \tRBM Reconstruction error 329.631653\n",
      ">> Epoch 17 finished \tRBM Reconstruction error 329.460449\n",
      ">> Epoch 18 finished \tRBM Reconstruction error 329.292267\n",
      ">> Epoch 19 finished \tRBM Reconstruction error 329.111145\n",
      ">> Epoch 20 finished \tRBM Reconstruction error 328.922241\n",
      ">> Epoch 21 finished \tRBM Reconstruction error 328.737213\n",
      ">> Epoch 22 finished \tRBM Reconstruction error 328.535156\n",
      ">> Epoch 23 finished \tRBM Reconstruction error 328.332855\n",
      ">> Epoch 24 finished \tRBM Reconstruction error 328.125916\n",
      ">> Epoch 25 finished \tRBM Reconstruction error 327.918762\n",
      ">> Epoch 26 finished \tRBM Reconstruction error 327.704987\n",
      ">> Epoch 27 finished \tRBM Reconstruction error 327.490417\n",
      ">> Epoch 28 finished \tRBM Reconstruction error 327.268097\n",
      ">> Epoch 29 finished \tRBM Reconstruction error 327.036011\n",
      ">> Epoch 30 finished \tRBM Reconstruction error 326.799438\n",
      ">> Epoch 31 finished \tRBM Reconstruction error 326.550507\n",
      ">> Epoch 32 finished \tRBM Reconstruction error 326.304901\n",
      "[END] Pre-training step\n",
      "[START] Fine tuning step:\n",
      ">> Epoch 0 finished \tANN training loss 1.330120\n",
      ">> Epoch 1 finished \tANN training loss 1.253755\n",
      ">> Epoch 2 finished \tANN training loss 1.145783\n",
      ">> Epoch 3 finished \tANN training loss 1.044479\n",
      ">> Epoch 4 finished \tANN training loss 0.974070\n",
      ">> Epoch 5 finished \tANN training loss 0.928750\n",
      ">> Epoch 6 finished \tANN training loss 0.893552\n",
      ">> Epoch 7 finished \tANN training loss 0.865294\n",
      ">> Epoch 8 finished \tANN training loss 0.843137\n",
      ">> Epoch 9 finished \tANN training loss 0.823357\n",
      ">> Epoch 10 finished \tANN training loss 0.809953\n",
      ">> Epoch 11 finished \tANN training loss 0.793451\n",
      ">> Epoch 12 finished \tANN training loss 0.779942\n",
      ">> Epoch 13 finished \tANN training loss 0.768687\n",
      ">> Epoch 14 finished \tANN training loss 0.751156\n",
      ">> Epoch 15 finished \tANN training loss 0.736793\n",
      ">> Epoch 16 finished \tANN training loss 0.724166\n",
      ">> Epoch 17 finished \tANN training loss 0.705797\n",
      ">> Epoch 18 finished \tANN training loss 0.685634\n",
      ">> Epoch 19 finished \tANN training loss 0.665606\n",
      ">> Epoch 20 finished \tANN training loss 0.647127\n",
      ">> Epoch 21 finished \tANN training loss 0.628811\n",
      ">> Epoch 22 finished \tANN training loss 0.612677\n",
      ">> Epoch 23 finished \tANN training loss 0.597706\n",
      ">> Epoch 24 finished \tANN training loss 0.581611\n",
      ">> Epoch 25 finished \tANN training loss 0.566910\n",
      ">> Epoch 26 finished \tANN training loss 0.552481\n",
      ">> Epoch 27 finished \tANN training loss 0.534039\n",
      ">> Epoch 28 finished \tANN training loss 0.518325\n",
      ">> Epoch 29 finished \tANN training loss 0.503246\n",
      ">> Epoch 30 finished \tANN training loss 0.493837\n",
      ">> Epoch 31 finished \tANN training loss 0.477085\n",
      ">> Epoch 32 finished \tANN training loss 0.465814\n",
      ">> Epoch 33 finished \tANN training loss 0.457328\n",
      ">> Epoch 34 finished \tANN training loss 0.444846\n",
      ">> Epoch 35 finished \tANN training loss 0.436512\n",
      ">> Epoch 36 finished \tANN training loss 0.428365\n",
      ">> Epoch 37 finished \tANN training loss 0.421258\n",
      ">> Epoch 38 finished \tANN training loss 0.414906\n",
      ">> Epoch 39 finished \tANN training loss 0.409339\n",
      ">> Epoch 40 finished \tANN training loss 0.404215\n",
      ">> Epoch 41 finished \tANN training loss 0.399647\n",
      ">> Epoch 42 finished \tANN training loss 0.394444\n",
      ">> Epoch 43 finished \tANN training loss 0.390296\n",
      ">> Epoch 44 finished \tANN training loss 0.386361\n",
      ">> Epoch 45 finished \tANN training loss 0.382685\n",
      ">> Epoch 46 finished \tANN training loss 0.378984\n",
      ">> Epoch 47 finished \tANN training loss 0.375462\n",
      ">> Epoch 48 finished \tANN training loss 0.372285\n",
      ">> Epoch 49 finished \tANN training loss 0.369320\n",
      ">> Epoch 50 finished \tANN training loss 0.366555\n",
      ">> Epoch 51 finished \tANN training loss 0.363878\n",
      ">> Epoch 52 finished \tANN training loss 0.361297\n",
      ">> Epoch 53 finished \tANN training loss 0.358890\n",
      ">> Epoch 54 finished \tANN training loss 0.356699\n",
      ">> Epoch 55 finished \tANN training loss 0.354428\n",
      ">> Epoch 56 finished \tANN training loss 0.352203\n",
      ">> Epoch 57 finished \tANN training loss 0.350199\n",
      ">> Epoch 58 finished \tANN training loss 0.348286\n",
      ">> Epoch 59 finished \tANN training loss 0.346557\n",
      ">> Epoch 60 finished \tANN training loss 0.344813\n",
      ">> Epoch 61 finished \tANN training loss 0.343151\n",
      ">> Epoch 62 finished \tANN training loss 0.341548\n",
      ">> Epoch 63 finished \tANN training loss 0.339984\n",
      ">> Epoch 64 finished \tANN training loss 0.338321\n",
      ">> Epoch 65 finished \tANN training loss 0.336857\n",
      ">> Epoch 66 finished \tANN training loss 0.335454\n",
      ">> Epoch 67 finished \tANN training loss 0.334072\n",
      ">> Epoch 68 finished \tANN training loss 0.332672\n",
      ">> Epoch 69 finished \tANN training loss 0.331366\n",
      ">> Epoch 70 finished \tANN training loss 0.329985\n",
      ">> Epoch 71 finished \tANN training loss 0.328706\n",
      ">> Epoch 72 finished \tANN training loss 0.327400\n",
      ">> Epoch 73 finished \tANN training loss 0.326209\n",
      ">> Epoch 74 finished \tANN training loss 0.324983\n",
      ">> Epoch 75 finished \tANN training loss 0.323842\n",
      ">> Epoch 76 finished \tANN training loss 0.322571\n",
      ">> Epoch 77 finished \tANN training loss 0.321505\n",
      ">> Epoch 78 finished \tANN training loss 0.320455\n",
      ">> Epoch 79 finished \tANN training loss 0.319404\n",
      ">> Epoch 80 finished \tANN training loss 0.318335\n",
      ">> Epoch 81 finished \tANN training loss 0.317275\n",
      ">> Epoch 82 finished \tANN training loss 0.316271\n",
      ">> Epoch 83 finished \tANN training loss 0.315327\n",
      ">> Epoch 84 finished \tANN training loss 0.314432\n",
      ">> Epoch 85 finished \tANN training loss 0.313496\n",
      ">> Epoch 86 finished \tANN training loss 0.312521\n",
      ">> Epoch 87 finished \tANN training loss 0.311614\n",
      ">> Epoch 88 finished \tANN training loss 0.310728\n",
      ">> Epoch 89 finished \tANN training loss 0.309799\n"
     ]
    },
    {
     "name": "stdout",
     "output_type": "stream",
     "text": [
      ">> Epoch 90 finished \tANN training loss 0.308930\n",
      ">> Epoch 91 finished \tANN training loss 0.308012\n",
      ">> Epoch 92 finished \tANN training loss 0.307177\n",
      ">> Epoch 93 finished \tANN training loss 0.306376\n",
      ">> Epoch 94 finished \tANN training loss 0.305608\n",
      ">> Epoch 95 finished \tANN training loss 0.304781\n",
      ">> Epoch 96 finished \tANN training loss 0.304011\n",
      ">> Epoch 97 finished \tANN training loss 0.303162\n",
      ">> Epoch 98 finished \tANN training loss 0.302420\n",
      ">> Epoch 99 finished \tANN training loss 0.301687\n",
      ">> Epoch 100 finished \tANN training loss 0.300923\n",
      ">> Epoch 101 finished \tANN training loss 0.300173\n",
      ">> Epoch 102 finished \tANN training loss 0.299420\n",
      ">> Epoch 103 finished \tANN training loss 0.298713\n",
      ">> Epoch 104 finished \tANN training loss 0.298053\n",
      ">> Epoch 105 finished \tANN training loss 0.297388\n",
      ">> Epoch 106 finished \tANN training loss 0.296726\n",
      ">> Epoch 107 finished \tANN training loss 0.296035\n",
      ">> Epoch 108 finished \tANN training loss 0.295386\n",
      ">> Epoch 109 finished \tANN training loss 0.294721\n",
      ">> Epoch 110 finished \tANN training loss 0.294071\n",
      ">> Epoch 111 finished \tANN training loss 0.293409\n",
      ">> Epoch 112 finished \tANN training loss 0.292790\n",
      ">> Epoch 113 finished \tANN training loss 0.292132\n",
      ">> Epoch 114 finished \tANN training loss 0.291539\n",
      ">> Epoch 115 finished \tANN training loss 0.290962\n",
      ">> Epoch 116 finished \tANN training loss 0.290393\n",
      ">> Epoch 117 finished \tANN training loss 0.289779\n",
      ">> Epoch 118 finished \tANN training loss 0.289235\n",
      ">> Epoch 119 finished \tANN training loss 0.288639\n",
      ">> Epoch 120 finished \tANN training loss 0.288075\n",
      ">> Epoch 121 finished \tANN training loss 0.287551\n",
      ">> Epoch 122 finished \tANN training loss 0.286967\n",
      ">> Epoch 123 finished \tANN training loss 0.286433\n",
      ">> Epoch 124 finished \tANN training loss 0.285861\n",
      ">> Epoch 125 finished \tANN training loss 0.285318\n",
      ">> Epoch 126 finished \tANN training loss 0.284831\n",
      ">> Epoch 127 finished \tANN training loss 0.284323\n",
      ">> Epoch 128 finished \tANN training loss 0.283840\n",
      ">> Epoch 129 finished \tANN training loss 0.283370\n",
      ">> Epoch 130 finished \tANN training loss 0.282874\n",
      ">> Epoch 131 finished \tANN training loss 0.282342\n",
      ">> Epoch 132 finished \tANN training loss 0.281856\n",
      ">> Epoch 133 finished \tANN training loss 0.281402\n",
      ">> Epoch 134 finished \tANN training loss 0.280928\n",
      ">> Epoch 135 finished \tANN training loss 0.280414\n",
      ">> Epoch 136 finished \tANN training loss 0.279955\n",
      ">> Epoch 137 finished \tANN training loss 0.279495\n",
      ">> Epoch 138 finished \tANN training loss 0.279053\n",
      ">> Epoch 139 finished \tANN training loss 0.278596\n",
      ">> Epoch 140 finished \tANN training loss 0.278169\n",
      ">> Epoch 141 finished \tANN training loss 0.277737\n",
      ">> Epoch 142 finished \tANN training loss 0.277261\n",
      ">> Epoch 143 finished \tANN training loss 0.276833\n",
      ">> Epoch 144 finished \tANN training loss 0.276388\n",
      ">> Epoch 145 finished \tANN training loss 0.275961\n",
      ">> Epoch 146 finished \tANN training loss 0.275507\n",
      ">> Epoch 147 finished \tANN training loss 0.275111\n",
      ">> Epoch 148 finished \tANN training loss 0.274701\n",
      ">> Epoch 149 finished \tANN training loss 0.274300\n",
      ">> Epoch 150 finished \tANN training loss 0.273914\n",
      ">> Epoch 151 finished \tANN training loss 0.273507\n",
      ">> Epoch 152 finished \tANN training loss 0.273107\n",
      ">> Epoch 153 finished \tANN training loss 0.272736\n",
      ">> Epoch 154 finished \tANN training loss 0.272336\n",
      ">> Epoch 155 finished \tANN training loss 0.271958\n",
      ">> Epoch 156 finished \tANN training loss 0.271576\n",
      ">> Epoch 157 finished \tANN training loss 0.271160\n",
      ">> Epoch 158 finished \tANN training loss 0.270809\n",
      ">> Epoch 159 finished \tANN training loss 0.270418\n",
      ">> Epoch 160 finished \tANN training loss 0.270029\n",
      ">> Epoch 161 finished \tANN training loss 0.269677\n",
      ">> Epoch 162 finished \tANN training loss 0.269298\n",
      ">> Epoch 163 finished \tANN training loss 0.268936\n",
      ">> Epoch 164 finished \tANN training loss 0.268558\n",
      ">> Epoch 165 finished \tANN training loss 0.268221\n",
      ">> Epoch 166 finished \tANN training loss 0.267870\n",
      ">> Epoch 167 finished \tANN training loss 0.267526\n",
      ">> Epoch 168 finished \tANN training loss 0.267181\n",
      ">> Epoch 169 finished \tANN training loss 0.266822\n",
      ">> Epoch 170 finished \tANN training loss 0.266479\n",
      ">> Epoch 171 finished \tANN training loss 0.266151\n",
      ">> Epoch 172 finished \tANN training loss 0.265800\n",
      ">> Epoch 173 finished \tANN training loss 0.265451\n",
      ">> Epoch 174 finished \tANN training loss 0.265124\n",
      ">> Epoch 175 finished \tANN training loss 0.264773\n",
      ">> Epoch 176 finished \tANN training loss 0.264456\n",
      ">> Epoch 177 finished \tANN training loss 0.264114\n",
      ">> Epoch 178 finished \tANN training loss 0.263801\n",
      ">> Epoch 179 finished \tANN training loss 0.263449\n",
      ">> Epoch 180 finished \tANN training loss 0.263114\n",
      ">> Epoch 181 finished \tANN training loss 0.262793\n",
      ">> Epoch 182 finished \tANN training loss 0.262466\n",
      ">> Epoch 183 finished \tANN training loss 0.262145\n",
      ">> Epoch 184 finished \tANN training loss 0.261830\n",
      ">> Epoch 185 finished \tANN training loss 0.261516\n",
      ">> Epoch 186 finished \tANN training loss 0.261187\n",
      ">> Epoch 187 finished \tANN training loss 0.260875\n",
      ">> Epoch 188 finished \tANN training loss 0.260557\n",
      ">> Epoch 189 finished \tANN training loss 0.260250\n",
      ">> Epoch 190 finished \tANN training loss 0.259942\n",
      ">> Epoch 191 finished \tANN training loss 0.259639\n",
      ">> Epoch 192 finished \tANN training loss 0.259350\n",
      ">> Epoch 193 finished \tANN training loss 0.259061\n",
      ">> Epoch 194 finished \tANN training loss 0.258753\n",
      ">> Epoch 195 finished \tANN training loss 0.258478\n",
      ">> Epoch 196 finished \tANN training loss 0.258180\n",
      ">> Epoch 197 finished \tANN training loss 0.257883\n",
      ">> Epoch 198 finished \tANN training loss 0.257596\n",
      ">> Epoch 199 finished \tANN training loss 0.257314\n",
      ">> Epoch 200 finished \tANN training loss 0.257013\n",
      ">> Epoch 201 finished \tANN training loss 0.256715\n",
      ">> Epoch 202 finished \tANN training loss 0.256427\n",
      ">> Epoch 203 finished \tANN training loss 0.256160\n",
      ">> Epoch 204 finished \tANN training loss 0.255897\n",
      ">> Epoch 205 finished \tANN training loss 0.255624\n",
      ">> Epoch 206 finished \tANN training loss 0.255341\n",
      ">> Epoch 207 finished \tANN training loss 0.255076\n",
      ">> Epoch 208 finished \tANN training loss 0.254812\n",
      ">> Epoch 209 finished \tANN training loss 0.254560\n",
      ">> Epoch 210 finished \tANN training loss 0.254305\n",
      ">> Epoch 211 finished \tANN training loss 0.254049\n",
      ">> Epoch 212 finished \tANN training loss 0.253796\n",
      ">> Epoch 213 finished \tANN training loss 0.253523\n",
      ">> Epoch 214 finished \tANN training loss 0.253269\n",
      ">> Epoch 215 finished \tANN training loss 0.252991\n",
      ">> Epoch 216 finished \tANN training loss 0.252733\n",
      ">> Epoch 217 finished \tANN training loss 0.252492\n",
      ">> Epoch 218 finished \tANN training loss 0.252248\n",
      ">> Epoch 219 finished \tANN training loss 0.252006\n",
      ">> Epoch 220 finished \tANN training loss 0.251751\n",
      ">> Epoch 221 finished \tANN training loss 0.251502\n",
      ">> Epoch 222 finished \tANN training loss 0.251230\n",
      ">> Epoch 223 finished \tANN training loss 0.250958\n",
      ">> Epoch 224 finished \tANN training loss 0.250723\n",
      ">> Epoch 225 finished \tANN training loss 0.250471\n",
      ">> Epoch 226 finished \tANN training loss 0.250231\n",
      ">> Epoch 227 finished \tANN training loss 0.249991\n",
      ">> Epoch 228 finished \tANN training loss 0.249742\n",
      ">> Epoch 229 finished \tANN training loss 0.249492\n",
      ">> Epoch 230 finished \tANN training loss 0.249242\n",
      ">> Epoch 231 finished \tANN training loss 0.248996\n",
      ">> Epoch 232 finished \tANN training loss 0.248759\n",
      ">> Epoch 233 finished \tANN training loss 0.248537\n",
      ">> Epoch 234 finished \tANN training loss 0.248308\n",
      ">> Epoch 235 finished \tANN training loss 0.248066\n",
      ">> Epoch 236 finished \tANN training loss 0.247848\n",
      ">> Epoch 237 finished \tANN training loss 0.247591\n",
      ">> Epoch 238 finished \tANN training loss 0.247349\n",
      ">> Epoch 239 finished \tANN training loss 0.247116\n",
      ">> Epoch 240 finished \tANN training loss 0.246884\n",
      ">> Epoch 241 finished \tANN training loss 0.246648\n",
      ">> Epoch 242 finished \tANN training loss 0.246399\n",
      ">> Epoch 243 finished \tANN training loss 0.246167\n",
      ">> Epoch 244 finished \tANN training loss 0.245928\n",
      ">> Epoch 245 finished \tANN training loss 0.245681\n",
      ">> Epoch 246 finished \tANN training loss 0.245456\n",
      ">> Epoch 247 finished \tANN training loss 0.245211\n",
      ">> Epoch 248 finished \tANN training loss 0.244978\n",
      ">> Epoch 249 finished \tANN training loss 0.244743\n",
      ">> Epoch 250 finished \tANN training loss 0.244519\n",
      ">> Epoch 251 finished \tANN training loss 0.244286\n",
      ">> Epoch 252 finished \tANN training loss 0.244050\n",
      ">> Epoch 253 finished \tANN training loss 0.243818\n",
      ">> Epoch 254 finished \tANN training loss 0.243600\n"
     ]
    },
    {
     "name": "stdout",
     "output_type": "stream",
     "text": [
      ">> Epoch 255 finished \tANN training loss 0.243365\n",
      ">> Epoch 256 finished \tANN training loss 0.243139\n",
      ">> Epoch 257 finished \tANN training loss 0.242910\n",
      ">> Epoch 258 finished \tANN training loss 0.242686\n",
      ">> Epoch 259 finished \tANN training loss 0.242451\n",
      ">> Epoch 260 finished \tANN training loss 0.242232\n",
      ">> Epoch 261 finished \tANN training loss 0.241993\n",
      ">> Epoch 262 finished \tANN training loss 0.241755\n",
      ">> Epoch 263 finished \tANN training loss 0.241533\n",
      ">> Epoch 264 finished \tANN training loss 0.241297\n",
      ">> Epoch 265 finished \tANN training loss 0.241067\n",
      ">> Epoch 266 finished \tANN training loss 0.240852\n",
      ">> Epoch 267 finished \tANN training loss 0.240619\n",
      ">> Epoch 268 finished \tANN training loss 0.240378\n",
      ">> Epoch 269 finished \tANN training loss 0.240160\n",
      ">> Epoch 270 finished \tANN training loss 0.239934\n",
      ">> Epoch 271 finished \tANN training loss 0.239687\n",
      ">> Epoch 272 finished \tANN training loss 0.239443\n",
      ">> Epoch 273 finished \tANN training loss 0.239222\n",
      ">> Epoch 274 finished \tANN training loss 0.238984\n",
      ">> Epoch 275 finished \tANN training loss 0.238751\n",
      ">> Epoch 276 finished \tANN training loss 0.238494\n",
      ">> Epoch 277 finished \tANN training loss 0.238234\n",
      ">> Epoch 278 finished \tANN training loss 0.238000\n",
      ">> Epoch 279 finished \tANN training loss 0.237754\n",
      ">> Epoch 280 finished \tANN training loss 0.237511\n",
      ">> Epoch 281 finished \tANN training loss 0.237261\n",
      ">> Epoch 282 finished \tANN training loss 0.237002\n",
      ">> Epoch 283 finished \tANN training loss 0.236764\n",
      ">> Epoch 284 finished \tANN training loss 0.236523\n",
      ">> Epoch 285 finished \tANN training loss 0.236290\n",
      ">> Epoch 286 finished \tANN training loss 0.236057\n",
      ">> Epoch 287 finished \tANN training loss 0.235817\n",
      ">> Epoch 288 finished \tANN training loss 0.235571\n",
      ">> Epoch 289 finished \tANN training loss 0.235306\n",
      ">> Epoch 290 finished \tANN training loss 0.235055\n",
      ">> Epoch 291 finished \tANN training loss 0.234793\n",
      ">> Epoch 292 finished \tANN training loss 0.234531\n",
      ">> Epoch 293 finished \tANN training loss 0.234260\n",
      ">> Epoch 294 finished \tANN training loss 0.234001\n",
      ">> Epoch 295 finished \tANN training loss 0.233727\n",
      ">> Epoch 296 finished \tANN training loss 0.233476\n",
      ">> Epoch 297 finished \tANN training loss 0.233202\n",
      ">> Epoch 298 finished \tANN training loss 0.232917\n",
      ">> Epoch 299 finished \tANN training loss 0.232651\n",
      ">> Epoch 300 finished \tANN training loss 0.232358\n",
      ">> Epoch 301 finished \tANN training loss 0.232072\n",
      ">> Epoch 302 finished \tANN training loss 0.231757\n",
      ">> Epoch 303 finished \tANN training loss 0.231449\n",
      ">> Epoch 304 finished \tANN training loss 0.231135\n",
      ">> Epoch 305 finished \tANN training loss 0.230829\n",
      ">> Epoch 306 finished \tANN training loss 0.230504\n",
      ">> Epoch 307 finished \tANN training loss 0.230186\n",
      ">> Epoch 308 finished \tANN training loss 0.229897\n",
      ">> Epoch 309 finished \tANN training loss 0.229578\n",
      ">> Epoch 310 finished \tANN training loss 0.229241\n",
      ">> Epoch 311 finished \tANN training loss 0.228892\n",
      ">> Epoch 312 finished \tANN training loss 0.228557\n",
      ">> Epoch 313 finished \tANN training loss 0.228189\n",
      ">> Epoch 314 finished \tANN training loss 0.227829\n",
      ">> Epoch 315 finished \tANN training loss 0.227426\n",
      ">> Epoch 316 finished \tANN training loss 0.227031\n",
      ">> Epoch 317 finished \tANN training loss 0.226617\n",
      ">> Epoch 318 finished \tANN training loss 0.226216\n",
      ">> Epoch 319 finished \tANN training loss 0.225777\n",
      ">> Epoch 320 finished \tANN training loss 0.225335\n",
      ">> Epoch 321 finished \tANN training loss 0.224910\n",
      ">> Epoch 322 finished \tANN training loss 0.224483\n",
      ">> Epoch 323 finished \tANN training loss 0.224031\n",
      ">> Epoch 324 finished \tANN training loss 0.223577\n",
      ">> Epoch 325 finished \tANN training loss 0.223133\n",
      ">> Epoch 326 finished \tANN training loss 0.222687\n",
      ">> Epoch 327 finished \tANN training loss 0.222178\n",
      ">> Epoch 328 finished \tANN training loss 0.221620\n",
      ">> Epoch 329 finished \tANN training loss 0.221082\n",
      ">> Epoch 330 finished \tANN training loss 0.220543\n",
      ">> Epoch 331 finished \tANN training loss 0.219943\n",
      ">> Epoch 332 finished \tANN training loss 0.219354\n",
      ">> Epoch 333 finished \tANN training loss 0.218716\n",
      ">> Epoch 334 finished \tANN training loss 0.218067\n",
      ">> Epoch 335 finished \tANN training loss 0.217444\n",
      ">> Epoch 336 finished \tANN training loss 0.216706\n",
      ">> Epoch 337 finished \tANN training loss 0.215969\n",
      ">> Epoch 338 finished \tANN training loss 0.215123\n",
      ">> Epoch 339 finished \tANN training loss 0.214367\n",
      ">> Epoch 340 finished \tANN training loss 0.213570\n",
      ">> Epoch 341 finished \tANN training loss 0.212767\n",
      ">> Epoch 342 finished \tANN training loss 0.211923\n",
      ">> Epoch 343 finished \tANN training loss 0.211031\n",
      ">> Epoch 344 finished \tANN training loss 0.210144\n",
      ">> Epoch 345 finished \tANN training loss 0.209185\n",
      ">> Epoch 346 finished \tANN training loss 0.208254\n",
      ">> Epoch 347 finished \tANN training loss 0.207183\n",
      ">> Epoch 348 finished \tANN training loss 0.206140\n",
      ">> Epoch 349 finished \tANN training loss 0.205020\n",
      ">> Epoch 350 finished \tANN training loss 0.203965\n",
      ">> Epoch 351 finished \tANN training loss 0.202859\n",
      ">> Epoch 352 finished \tANN training loss 0.201656\n",
      ">> Epoch 353 finished \tANN training loss 0.200409\n",
      ">> Epoch 354 finished \tANN training loss 0.199231\n",
      ">> Epoch 355 finished \tANN training loss 0.197806\n",
      ">> Epoch 356 finished \tANN training loss 0.196393\n",
      ">> Epoch 357 finished \tANN training loss 0.195031\n",
      ">> Epoch 358 finished \tANN training loss 0.193636\n",
      ">> Epoch 359 finished \tANN training loss 0.192190\n",
      ">> Epoch 360 finished \tANN training loss 0.190826\n",
      ">> Epoch 361 finished \tANN training loss 0.189327\n",
      ">> Epoch 362 finished \tANN training loss 0.187795\n",
      ">> Epoch 363 finished \tANN training loss 0.186291\n",
      ">> Epoch 364 finished \tANN training loss 0.184839\n",
      ">> Epoch 365 finished \tANN training loss 0.183224\n",
      ">> Epoch 366 finished \tANN training loss 0.181575\n",
      ">> Epoch 367 finished \tANN training loss 0.180022\n",
      ">> Epoch 368 finished \tANN training loss 0.178449\n",
      ">> Epoch 369 finished \tANN training loss 0.176947\n",
      ">> Epoch 370 finished \tANN training loss 0.175462\n",
      ">> Epoch 371 finished \tANN training loss 0.173869\n",
      ">> Epoch 372 finished \tANN training loss 0.172342\n",
      ">> Epoch 373 finished \tANN training loss 0.170883\n",
      ">> Epoch 374 finished \tANN training loss 0.169317\n",
      ">> Epoch 375 finished \tANN training loss 0.167732\n",
      ">> Epoch 376 finished \tANN training loss 0.166266\n",
      ">> Epoch 377 finished \tANN training loss 0.164793\n",
      ">> Epoch 378 finished \tANN training loss 0.163404\n",
      ">> Epoch 379 finished \tANN training loss 0.161935\n",
      ">> Epoch 380 finished \tANN training loss 0.160619\n",
      ">> Epoch 381 finished \tANN training loss 0.159340\n",
      ">> Epoch 382 finished \tANN training loss 0.158020\n",
      ">> Epoch 383 finished \tANN training loss 0.156773\n",
      ">> Epoch 384 finished \tANN training loss 0.155510\n",
      ">> Epoch 385 finished \tANN training loss 0.154343\n",
      ">> Epoch 386 finished \tANN training loss 0.153167\n",
      ">> Epoch 387 finished \tANN training loss 0.152075\n",
      ">> Epoch 388 finished \tANN training loss 0.150965\n",
      ">> Epoch 389 finished \tANN training loss 0.149903\n",
      ">> Epoch 390 finished \tANN training loss 0.148861\n",
      ">> Epoch 391 finished \tANN training loss 0.147912\n",
      ">> Epoch 392 finished \tANN training loss 0.146925\n",
      ">> Epoch 393 finished \tANN training loss 0.145998\n",
      ">> Epoch 394 finished \tANN training loss 0.145064\n",
      ">> Epoch 395 finished \tANN training loss 0.144155\n",
      ">> Epoch 396 finished \tANN training loss 0.143266\n",
      ">> Epoch 397 finished \tANN training loss 0.142406\n",
      ">> Epoch 398 finished \tANN training loss 0.141636\n",
      ">> Epoch 399 finished \tANN training loss 0.140818\n",
      ">> Epoch 400 finished \tANN training loss 0.139995\n",
      ">> Epoch 401 finished \tANN training loss 0.139238\n",
      ">> Epoch 402 finished \tANN training loss 0.138436\n",
      ">> Epoch 403 finished \tANN training loss 0.137720\n",
      ">> Epoch 404 finished \tANN training loss 0.137040\n",
      ">> Epoch 405 finished \tANN training loss 0.136391\n",
      ">> Epoch 406 finished \tANN training loss 0.135714\n",
      ">> Epoch 407 finished \tANN training loss 0.135031\n",
      ">> Epoch 408 finished \tANN training loss 0.134397\n",
      ">> Epoch 409 finished \tANN training loss 0.133788\n",
      ">> Epoch 410 finished \tANN training loss 0.133183\n",
      ">> Epoch 411 finished \tANN training loss 0.132511\n",
      ">> Epoch 412 finished \tANN training loss 0.131936\n",
      ">> Epoch 413 finished \tANN training loss 0.131336\n",
      ">> Epoch 414 finished \tANN training loss 0.130785\n",
      ">> Epoch 415 finished \tANN training loss 0.130222\n",
      ">> Epoch 416 finished \tANN training loss 0.129667\n",
      ">> Epoch 417 finished \tANN training loss 0.129146\n",
      ">> Epoch 418 finished \tANN training loss 0.128564\n"
     ]
    },
    {
     "name": "stdout",
     "output_type": "stream",
     "text": [
      ">> Epoch 419 finished \tANN training loss 0.128060\n",
      ">> Epoch 420 finished \tANN training loss 0.127552\n",
      ">> Epoch 421 finished \tANN training loss 0.127046\n",
      ">> Epoch 422 finished \tANN training loss 0.126560\n",
      ">> Epoch 423 finished \tANN training loss 0.126082\n",
      ">> Epoch 424 finished \tANN training loss 0.125633\n",
      ">> Epoch 425 finished \tANN training loss 0.125138\n",
      ">> Epoch 426 finished \tANN training loss 0.124695\n",
      ">> Epoch 427 finished \tANN training loss 0.124246\n",
      ">> Epoch 428 finished \tANN training loss 0.123816\n",
      ">> Epoch 429 finished \tANN training loss 0.123386\n",
      ">> Epoch 430 finished \tANN training loss 0.122963\n",
      ">> Epoch 431 finished \tANN training loss 0.122512\n",
      ">> Epoch 432 finished \tANN training loss 0.122090\n",
      ">> Epoch 433 finished \tANN training loss 0.121703\n",
      ">> Epoch 434 finished \tANN training loss 0.121298\n",
      ">> Epoch 435 finished \tANN training loss 0.120896\n",
      ">> Epoch 436 finished \tANN training loss 0.120509\n",
      ">> Epoch 437 finished \tANN training loss 0.120132\n",
      ">> Epoch 438 finished \tANN training loss 0.119725\n",
      ">> Epoch 439 finished \tANN training loss 0.119347\n",
      ">> Epoch 440 finished \tANN training loss 0.118984\n",
      ">> Epoch 441 finished \tANN training loss 0.118611\n",
      ">> Epoch 442 finished \tANN training loss 0.118263\n",
      ">> Epoch 443 finished \tANN training loss 0.117912\n",
      ">> Epoch 444 finished \tANN training loss 0.117562\n",
      ">> Epoch 445 finished \tANN training loss 0.117224\n",
      ">> Epoch 446 finished \tANN training loss 0.116867\n",
      ">> Epoch 447 finished \tANN training loss 0.116528\n",
      ">> Epoch 448 finished \tANN training loss 0.116171\n",
      ">> Epoch 449 finished \tANN training loss 0.115801\n",
      ">> Epoch 450 finished \tANN training loss 0.115454\n",
      ">> Epoch 451 finished \tANN training loss 0.115125\n",
      ">> Epoch 452 finished \tANN training loss 0.114804\n",
      ">> Epoch 453 finished \tANN training loss 0.114482\n",
      ">> Epoch 454 finished \tANN training loss 0.114137\n",
      ">> Epoch 455 finished \tANN training loss 0.113816\n",
      ">> Epoch 456 finished \tANN training loss 0.113508\n",
      ">> Epoch 457 finished \tANN training loss 0.113193\n",
      ">> Epoch 458 finished \tANN training loss 0.112868\n",
      ">> Epoch 459 finished \tANN training loss 0.112541\n",
      ">> Epoch 460 finished \tANN training loss 0.112208\n",
      ">> Epoch 461 finished \tANN training loss 0.111917\n",
      ">> Epoch 462 finished \tANN training loss 0.111606\n",
      ">> Epoch 463 finished \tANN training loss 0.111302\n",
      ">> Epoch 464 finished \tANN training loss 0.111005\n",
      ">> Epoch 465 finished \tANN training loss 0.110700\n",
      ">> Epoch 466 finished \tANN training loss 0.110372\n",
      ">> Epoch 467 finished \tANN training loss 0.110082\n",
      ">> Epoch 468 finished \tANN training loss 0.109793\n",
      ">> Epoch 469 finished \tANN training loss 0.109501\n",
      ">> Epoch 470 finished \tANN training loss 0.109208\n",
      ">> Epoch 471 finished \tANN training loss 0.108937\n",
      ">> Epoch 472 finished \tANN training loss 0.108662\n",
      ">> Epoch 473 finished \tANN training loss 0.108347\n",
      ">> Epoch 474 finished \tANN training loss 0.108055\n",
      ">> Epoch 475 finished \tANN training loss 0.107760\n",
      ">> Epoch 476 finished \tANN training loss 0.107481\n",
      ">> Epoch 477 finished \tANN training loss 0.107185\n",
      ">> Epoch 478 finished \tANN training loss 0.106885\n",
      ">> Epoch 479 finished \tANN training loss 0.106592\n",
      ">> Epoch 480 finished \tANN training loss 0.106292\n",
      ">> Epoch 481 finished \tANN training loss 0.106019\n",
      ">> Epoch 482 finished \tANN training loss 0.105746\n",
      ">> Epoch 483 finished \tANN training loss 0.105438\n",
      ">> Epoch 484 finished \tANN training loss 0.105155\n",
      ">> Epoch 485 finished \tANN training loss 0.104885\n",
      ">> Epoch 486 finished \tANN training loss 0.104617\n",
      ">> Epoch 487 finished \tANN training loss 0.104333\n",
      ">> Epoch 488 finished \tANN training loss 0.104063\n",
      ">> Epoch 489 finished \tANN training loss 0.103795\n",
      ">> Epoch 490 finished \tANN training loss 0.103543\n",
      ">> Epoch 491 finished \tANN training loss 0.103258\n",
      ">> Epoch 492 finished \tANN training loss 0.103008\n",
      ">> Epoch 493 finished \tANN training loss 0.102756\n",
      ">> Epoch 494 finished \tANN training loss 0.102497\n",
      ">> Epoch 495 finished \tANN training loss 0.102230\n",
      ">> Epoch 496 finished \tANN training loss 0.101977\n",
      ">> Epoch 497 finished \tANN training loss 0.101709\n",
      ">> Epoch 498 finished \tANN training loss 0.101453\n",
      ">> Epoch 499 finished \tANN training loss 0.101197\n",
      ">> Epoch 500 finished \tANN training loss 0.100959\n",
      ">> Epoch 501 finished \tANN training loss 0.100712\n",
      ">> Epoch 502 finished \tANN training loss 0.100471\n",
      ">> Epoch 503 finished \tANN training loss 0.100238\n",
      ">> Epoch 504 finished \tANN training loss 0.099989\n",
      ">> Epoch 505 finished \tANN training loss 0.099734\n",
      ">> Epoch 506 finished \tANN training loss 0.099471\n",
      ">> Epoch 507 finished \tANN training loss 0.099207\n",
      ">> Epoch 508 finished \tANN training loss 0.098956\n",
      ">> Epoch 509 finished \tANN training loss 0.098706\n",
      ">> Epoch 510 finished \tANN training loss 0.098466\n",
      ">> Epoch 511 finished \tANN training loss 0.098216\n",
      "[END] Fine tuning step\n"
     ]
    },
    {
     "data": {
      "text/plain": [
       "SupervisedDBNClassification(batch_size=32, dropout_p=1e-05,\n",
       "                            idx_to_label_map={0: 0, 1: 1, 2: 4, 3: 3},\n",
       "                            l2_regularization=1.0,\n",
       "                            label_to_idx_map={0: 0, 1: 1, 3: 3, 4: 2},\n",
       "                            learning_rate=0.01, n_iter_backprop=512,\n",
       "                            verbose=True)"
      ]
     },
     "execution_count": 310,
     "metadata": {},
     "output_type": "execute_result"
    }
   ],
   "source": [
    "classifier.fit(X_train, Y_train)"
   ]
  },
  {
   "cell_type": "code",
   "execution_count": 311,
   "metadata": {},
   "outputs": [],
   "source": [
    "# predict probabilities for test set\n",
    "yhat_probs = classifier.predict(X_test)\n",
    "# predict crisp classes for test set\n",
    "#yhat_classes = model.predict_classes(X_test, verbose=0)\n",
    "yhat_classes = yhat_probs# np.argmax(yhat_probs,axis=1)"
   ]
  },
  {
   "cell_type": "code",
   "execution_count": 312,
   "metadata": {},
   "outputs": [],
   "source": [
    "from sklearn.datasets import make_circles\n",
    "from sklearn.metrics import accuracy_score\n",
    "from sklearn.metrics import precision_score\n",
    "from sklearn.metrics import recall_score\n",
    "from sklearn.metrics import f1_score\n",
    "from sklearn.metrics import cohen_kappa_score\n",
    "from sklearn.metrics import roc_auc_score\n",
    "from sklearn.metrics import confusion_matrix\n",
    "from sklearn.metrics import roc_curve\n",
    "from sklearn.metrics import classification_report"
   ]
  },
  {
   "cell_type": "code",
   "execution_count": 313,
   "metadata": {},
   "outputs": [
    {
     "name": "stdout",
     "output_type": "stream",
     "text": [
      "Accuracy: 0.945946\n",
      "Precision: 0.928571\n",
      "Recall: 0.833333\n",
      "F1 score: 0.833333\n"
     ]
    }
   ],
   "source": [
    "# accuracy: (tp + tn) / (p + n)\n",
    "accuracy = accuracy_score(Y_test, yhat_classes)\n",
    "print('Accuracy: %f' % accuracy)\n",
    "# precision tp / (tp + fp)\n",
    "precision = precision_score(Y_test, yhat_classes, average='macro')\n",
    "print('Precision: %f' % precision)\n",
    "# recall: tp / (tp + fn)\n",
    "recall = recall_score(Y_test, yhat_classes,average='macro')\n",
    "print('Recall: %f' % recall)\n",
    "# f1: 2 tp / (2 tp + fp + fn)\n",
    "f1 = f1_score(Y_test, yhat_classes, average='macro')\n",
    "print('F1 score: %f' % f1)"
   ]
  },
  {
   "cell_type": "code",
   "execution_count": 314,
   "metadata": {},
   "outputs": [
    {
     "name": "stdout",
     "output_type": "stream",
     "text": [
      "Cohens kappa: 0.907268\n",
      "[[22  0  0  0]\n",
      " [ 0  5  0  0]\n",
      " [ 0  2  1  0]\n",
      " [ 0  0  0  7]]\n"
     ]
    }
   ],
   "source": [
    "# kappa\n",
    "kappa = cohen_kappa_score(Y_test, yhat_classes)\n",
    "print('Cohens kappa: %f' % kappa)\n",
    "# ROC AUC\n",
    "#fprate, tprate, thresholds = roc_curve(Y_test, yhat_probs, average = 'macro')\n",
    "#print('ROC AUC: %f' % thresholds)\n",
    "# confusion matrix\n",
    "matrix = confusion_matrix(Y_test, yhat_classes)\n",
    "print(matrix)"
   ]
  },
  {
   "cell_type": "code",
   "execution_count": 315,
   "metadata": {},
   "outputs": [],
   "source": [
    "fpr = {}\n",
    "tpr = {}\n",
    "thresh ={}\n",
    "\n",
    "n_class = 5\n",
    "\n",
    "for i in range(n_class):    \n",
    "    fpr[i], tpr[i], thresh[i] = roc_curve(Y_test, yhat_classes, pos_label=i)"
   ]
  },
  {
   "cell_type": "code",
   "execution_count": 316,
   "metadata": {},
   "outputs": [
    {
     "data": {
      "image/png": "[encoded data removed]",
      "text/plain": [
       "<Figure size 432x288 with 1 Axes>"
      ]
     },
     "metadata": {
      "needs_background": "light"
     },
     "output_type": "display_data"
    }
   ],
   "source": [
    "# plotting    \n",
    "plt.plot(fpr[0], tpr[0], linestyle='--',color='orange', label='Class 0 vs Rest')\n",
    "plt.plot(fpr[1], tpr[1], linestyle='--',color='green', label='Class 1 vs Rest')\n",
    "plt.plot(fpr[2], tpr[2], linestyle='--',color='blue', label='Class 2 vs Rest')\n",
    "plt.plot(fpr[3], tpr[3], linestyle='--',color='red', label='Class 3 vs Rest')\n",
    "plt.plot(fpr[4], tpr[4], linestyle='--',color='black', label='Class 4 vs Rest')\n",
    "plt.title('Multiclass ROC curve')\n",
    "plt.xlabel('False Positive Rate')\n",
    "plt.ylabel('True Positive rate')\n",
    "plt.legend(loc='best')\n",
    "plt.savefig('Multiclass ROC',dpi=300); "
   ]
  },
  {
   "cell_type": "code",
   "execution_count": 317,
   "metadata": {},
   "outputs": [
    {
     "name": "stdout",
     "output_type": "stream",
     "text": [
      "Confusion matrix : \n",
      " [[22  0  0  0]\n",
      " [ 0  5  0  0]\n",
      " [ 0  2  1  0]\n",
      " [ 0  0  0  7]]\n"
     ]
    }
   ],
   "source": [
    "matrix = confusion_matrix(Y_test,yhat_classes, labels= [0, 1, 3, 4])\n",
    "print('Confusion matrix : \\n',matrix)"
   ]
  },
  {
   "cell_type": "code",
   "execution_count": 318,
   "metadata": {},
   "outputs": [
    {
     "name": "stdout",
     "output_type": "stream",
     "text": [
      "Classification report : \n",
      "               precision    recall  f1-score   support\n",
      "\n",
      "           0       1.00      1.00      1.00        22\n",
      "           1       0.71      1.00      0.83         5\n",
      "           3       1.00      0.33      0.50         3\n",
      "           4       1.00      1.00      1.00         7\n",
      "\n",
      "    accuracy                           0.95        37\n",
      "   macro avg       0.93      0.83      0.83        37\n",
      "weighted avg       0.96      0.95      0.94        37\n",
      "\n"
     ]
    }
   ],
   "source": [
    "matrix = classification_report(Y_test,yhat_classes, labels= [0, 1, 3, 4])\n",
    "print('Classification report : \\n',matrix)"
   ]
  },
  {
   "cell_type": "code",
   "execution_count": 319,
   "metadata": {},
   "outputs": [],
   "source": [
    "classifier.save('./models/IG feature selection/WithIP Top11/Multi-class/DBN/DBN.pkl')"
   ]
  },
  {
   "cell_type": "code",
   "execution_count": null,
   "metadata": {},
   "outputs": [],
   "source": []
  }
 ],
 "metadata": {
  "kernelspec": {
   "display_name": "Python 3",
   "language": "python",
   "name": "python3"
  },
  "language_info": {
   "codemirror_mode": {
    "name": "ipython",
    "version": 3
   },
   "file_extension": ".py",
   "mimetype": "text/x-python",
   "name": "python",
   "nbconvert_exporter": "python",
   "pygments_lexer": "ipython3",
   "version": "3.7.4"
  }
 },
 "nbformat": 4,
 "nbformat_minor": 2
}

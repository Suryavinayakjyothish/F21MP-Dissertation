{
 "cells": [
  {
   "cell_type": "code",
   "execution_count": 1,
   "metadata": {},
   "outputs": [],
   "source": [
    "import pandas as pd\n",
    "import numpy as np\n",
    "from datetime import datetime\n",
    "import time\n",
    "import matplotlib.pyplot as plt\n",
    "import gc\n",
    "pd.set_option('display.max_columns', None)"
   ]
  },
  {
   "cell_type": "code",
   "execution_count": 2,
   "metadata": {},
   "outputs": [],
   "source": [
    "## for machine learning\n",
    "from sklearn import model_selection, preprocessing, feature_selection, ensemble, linear_model, metrics, decomposition\n",
    "## for plotting\n",
    "import matplotlib.pyplot as plt\n",
    "## for machine learning\n",
    "from sklearn import model_selection, preprocessing, feature_selection, ensemble, linear_model, metrics, decomposition\n",
    "from sklearn.preprocessing import LabelEncoder,Normalizer,StandardScaler, OneHotEncoder, MinMaxScaler\n",
    "from sklearn.feature_selection import mutual_info_classif\n",
    "from sklearn.metrics import confusion_matrix\n",
    "from sklearn.metrics import classification_report\n",
    "## for explainer\n",
    "#from lime import lime_tabular"
   ]
  },
  {
   "cell_type": "code",
   "execution_count": 3,
   "metadata": {},
   "outputs": [],
   "source": [
    "#to compute information gain\n",
    "def compute_impurity(feature, impurity_criterion):\n",
    "    \"\"\"\n",
    "    This function calculates impurity of a feature.\n",
    "    Supported impurity criteria: 'entropy', 'gini'\n",
    "    input: feature (this needs to be a Pandas series)\n",
    "    output: feature impurity\n",
    "    \"\"\"\n",
    "    probs = feature.value_counts(normalize=True)\n",
    "    \n",
    "    if impurity_criterion == 'entropy':\n",
    "        impurity = -1 * np.sum(np.log2(probs) * probs)\n",
    "    elif impurity_criterion == 'gini':\n",
    "        impurity = 1 - np.sum(np.square(probs))\n",
    "    else:\n",
    "        raise ValueError('Unknown impurity criterion')\n",
    "    return(round(impurity, 3))\n",
    "\n",
    "def comp_feature_information_gain(df, target, descriptive_feature, split_criterion):\n",
    "    \"\"\"\n",
    "    This function calculates information gain for splitting on \n",
    "    a particular descriptive feature for a given dataset\n",
    "    and a given impurity criteria.\n",
    "    Supported split criterion: 'entropy', 'gini'\n",
    "    \"\"\"\n",
    "    \n",
    "    print('target feature:', target)\n",
    "    print('descriptive_feature:', descriptive_feature)\n",
    "    print('split criterion:', split_criterion)\n",
    "            \n",
    "    target_entropy = compute_impurity(df[target], split_criterion)\n",
    "\n",
    "    # we define two lists below:\n",
    "    # entropy_list to store the entropy of each partition\n",
    "    # weight_list to store the relative number of observations in each partition\n",
    "    entropy_list = list()\n",
    "    weight_list = list()\n",
    "    \n",
    "    # loop over each level of the descriptive feature\n",
    "    # to partition the dataset with respect to that level\n",
    "    # and compute the entropy and the weight of the level's partition\n",
    "    for level in df[descriptive_feature].unique():\n",
    "        df_feature_level = df[df[descriptive_feature] == level]\n",
    "        entropy_level = compute_impurity(df_feature_level[target], split_criterion)\n",
    "        entropy_list.append(round(entropy_level, 3))\n",
    "        weight_level = len(df_feature_level) / len(df)\n",
    "        weight_list.append(round(weight_level, 3))\n",
    "\n",
    "   # print('impurity of partitions:', entropy_list)\n",
    "   # print('weights of partitions:', weight_list)\n",
    "\n",
    "    feature_remaining_impurity = np.sum(np.array(entropy_list) * np.array(weight_list))\n",
    "    print('remaining impurity:', feature_remaining_impurity)\n",
    "    \n",
    "    information_gain = target_entropy - feature_remaining_impurity\n",
    "    print('information gain:', information_gain)\n",
    "    \n",
    "    print('====================')\n",
    "\n",
    "    return(information_gain)"
   ]
  },
  {
   "cell_type": "code",
   "execution_count": 4,
   "metadata": {},
   "outputs": [],
   "source": [
    "#a = pd.read_csv('drive/My Drive/Colab Notebooks/traffic/OpenStack/CIDDS-001-internal-week1.csv', low_memory=False, encoding='cp1252')\n",
    "#b = pd.read_csv('drive/My Drive/Colab Notebooks/traffic/OpenStack/CIDDS-001-internal-week2.csv', low_memory=False, encoding='cp1252')\n",
    "a = pd.read_csv('./CIDDS-001/traffic/OpenStack/CIDDS-001-internal-week1.csv', low_memory=False, encoding='cp1252')\n",
    "b = pd.read_csv('./CIDDS-001/traffic/OpenStack/CIDDS-001-internal-week2.csv', low_memory=False, encoding='cp1252')\n",
    "c =  pd.read_csv('./CIDDS-001/traffic/ExternalServer/CIDDS-001-external-week2.csv', low_memory=False, encoding='cp1252')\n",
    "d =  pd.read_csv('./CIDDS-001/traffic/ExternalServer/CIDDS-001-external-week3.csv', low_memory=False, encoding='cp1252')\n",
    "e =  pd.read_csv('./CIDDS-001/traffic/ExternalServer/CIDDS-001-external-week4.csv', low_memory=False, encoding='cp1252')\n",
    "#f =  pd.read_csv('./CIDDS-001/traffic/ExternalServer/CIDDS-001-external-week1.csv', low_memory=False, encoding='cp1252')\n",
    "#c = pd.read_csv('drive/My Drive/Colab Notebooks/traffic/OpenStack/CIDDS-001-internal-week3.csv', low_memory=False , encoding='cp1252')\n",
    "#d = pd.read_csv('drive/My Drive/Colab Notebooks/traffic/OpenStack/CIDDS-001-internal-week4.csv', low_memory=False, encoding='cp1252')\n",
    "#e =  pd.read_csv('drive/My Drive/Colab Notebooks/traffic/ExternalServer/CIDDS-001-external-week1.csv', low_memory=False, encoding='cp1252')\n",
    "#f =  pd.read_csv('drive/My Drive/Colab Notebooks/traffic/ExternalServer/CIDDS-001-external-week2.csv', low_memory=False, encoding='cp1252')\n",
    "#g =  pd.read_csv('drive/My Drive/Colab Notebooks/traffic/ExternalServer/CIDDS-001-external-week3.csv', low_memory=False, encoding='cp1252')\n",
    "#h =  pd.read_csv('drive/My Drive/Colab Notebooks/traffic/ExternalServer/CIDDS-001-external-week4.csv', low_memory=False, encoding='cp1252')"
   ]
  },
  {
   "cell_type": "code",
   "execution_count": 5,
   "metadata": {},
   "outputs": [
    {
     "name": "stdout",
     "output_type": "stream",
     "text": [
      "(10310733, 16)\n"
     ]
    },
    {
     "data": {
      "text/plain": [
       "(1795404, 16)"
      ]
     },
     "execution_count": 5,
     "metadata": {},
     "output_type": "execute_result"
    }
   ],
   "source": [
    "print(b.shape)\n",
    "#a.drop(a[a['attackType'] == '---'].index, axis = 0, inplace= True) \n",
    "b.drop(b[b['attackType'] == '---'].index, axis = 0, inplace= True)  \n",
    "c.drop(c[c['attackType'] == '---'].index, axis = 0, inplace= True)  \n",
    "d.drop(d[d['attackType'] == '---'].index, axis = 0, inplace= True)  \n",
    "#e.drop(e[e['attackType'] == '---'].index, axis = 0, inplace= True)  \n",
    "b.shape"
   ]
  },
  {
   "cell_type": "code",
   "execution_count": 6,
   "metadata": {},
   "outputs": [],
   "source": [
    "data_external = pd.concat([c,d,e], axis = 0)\n",
    "data_external.reset_index(drop= True, inplace= True)"
   ]
  },
  {
   "cell_type": "code",
   "execution_count": 7,
   "metadata": {},
   "outputs": [],
   "source": [
    "#to Increment attackID values\n",
    "data_external['attackID'] = data_external['attackID'].apply(lambda x: str(int(x) + 70) if x != '---' else x)"
   ]
  },
  {
   "cell_type": "code",
   "execution_count": 8,
   "metadata": {},
   "outputs": [],
   "source": [
    "def convert_bytes(df):\n",
    "    if 'M' in df:\n",
    "        df = df.split('M')\n",
    "        df = df[0].strip()\n",
    "        df = float(df) * 1000000\n",
    "    elif 'B' in df:\n",
    "        df = df.split('B')\n",
    "        df = df[0].strip()\n",
    "        df =  float(df) * 1000000000\n",
    "    else: \n",
    "        df =float(df)\n",
    "    return df"
   ]
  },
  {
   "cell_type": "code",
   "execution_count": 9,
   "metadata": {},
   "outputs": [
    {
     "data": {
      "text/plain": [
       "0"
      ]
     },
     "execution_count": 9,
     "metadata": {},
     "output_type": "execute_result"
    }
   ],
   "source": [
    "data = pd.concat([a,b,data_external], axis = 0)\n",
    "data.reset_index(drop= True, inplace= True)\n",
    "data['Bytes'] = data['Bytes'].apply(lambda x: convert_bytes(x))\n",
    "data['attackType'] = data['attackType'].apply(lambda x:  'attack' if (x!= '---') else x )\n",
    "\n",
    "columns = ['Src Pt', 'Dst Pt','Tos','Flows','Packets', 'Bytes']\n",
    "for i in columns:\n",
    "    data[i] = pd.to_numeric(data[i]);\n",
    "del columns\n",
    "del a,b,c,d,e, data_external\n",
    "gc.collect()"
   ]
  },
  {
   "cell_type": "code",
   "execution_count": 10,
   "metadata": {},
   "outputs": [],
   "source": [
    "#Converts Hexadecimal value to Binary\n",
    "def hex_to_binary(hexdata):\n",
    "    scale = 16 ## equals to hexadecimal\n",
    "    num_of_bits = 9\n",
    "    return bin(int(hexdata, scale))[2:].zfill(num_of_bits);\n",
    "#Converts TCP flags to Binary\n",
    "def to_Binary(x):\n",
    "    l = 0\n",
    "    x = '...' + x\n",
    "    x = list(x)\n",
    "    for i in x:\n",
    "        if (i=='.'):\n",
    "            x[l]= '0'\n",
    "        else:\n",
    "            x[l] = '1'\n",
    "        l = l +1\n",
    "    return ''.join(x)\n",
    "#Converts the 'Flags' column to 9 indiviual columns (manual oneshot encoding)\n",
    "def flag_convert(df):  \n",
    "   # df['Flags'] = df['Flags'].apply(lambda x: (list(x)))\n",
    "   # temp = df['Flags'].apply(lambda x: toBinary(x))\n",
    "    hex_values = list(df[(df['Flags'].str.contains(\"0x\", na=False))]['Flags'].unique())\n",
    "    flag_values = list(df[~(df['Flags'].str.contains(\"0x\", na=False))]['Flags'].unique())\n",
    "    binary_values = {}\n",
    "    for i in hex_values:\n",
    "         binary_values[i] = (hex_to_binary(i))\n",
    "    for i in flag_values:\n",
    "         binary_values[i] = (to_Binary(i))\n",
    "    temp = df['Flags'].replace(binary_values)\n",
    "#temp = temp.apply(lambda x: pd.Series(x)) \n",
    "    temp = pd.DataFrame(temp.apply(list).tolist())\n",
    "#temp = pd.DataFrame(temp)\n",
    "#a = a.iloc[: , 1:]\n",
    "   # print(temp.head())\n",
    "    temp.columns = ['N','C','E','U' ,'A','P','R','S','F']\n",
    "    for i in temp.columns:\n",
    "        temp[i] = pd.to_numeric(temp[i]);\n",
    "    temp = temp.reset_index(drop=True)\n",
    "    df = df.reset_index(drop=True)\n",
    "    df = pd.concat([df, temp], axis = 1)\n",
    "    return df;"
   ]
  },
  {
   "cell_type": "code",
   "execution_count": 11,
   "metadata": {},
   "outputs": [],
   "source": [
    "#make a IP_pairs \n",
    "def make_pair(df):\n",
    "    ip_pair = df['Src IP Addr'] +'/' +df['Dst IP Addr']\n",
    "    source_ip = df['Src IP Addr'].unique().tolist()\n",
    "    destination_ip = df['Dst IP Addr'].unique().tolist()\n",
    "   # df = df.drop(columns = ['Src IP Addr', 'Dst IP Addr'])\n",
    "    df.insert(1, ' IP Pair', ip_pair)\n",
    "    return df\n",
    "\n",
    "def check_inverse(df):\n",
    "    list_pairs = df[' IP Pair'].unique()\n",
    "    tuple_pair = []\n",
    "    for i in list_pairs:\n",
    "        tuple_pair.append(tuple((i.split('/'))))\n",
    "    dic_store = {}\n",
    "    for i in tuple_pair:\n",
    "        if (i  not in dic_store.keys()) and (i[::-1] not in dic_store.keys()):\n",
    "            dic_store[i] = i[0] + '/' +i[1]\n",
    "    print(len(dic_store.keys()))\n",
    "    dic_final = {}\n",
    "    for i in dic_store.keys():\n",
    "        dic_final[i[0] + '/' +i[1]] = dic_store[i]\n",
    "        dic_final[i[1] + '/' +i[0]] = dic_store[i]\n",
    "    df[' IP Pair'] = df[' IP Pair'].map(dic_final)               \n",
    "    return df"
   ]
  },
  {
   "cell_type": "code",
   "execution_count": 12,
   "metadata": {},
   "outputs": [],
   "source": [
    "def normalize_IP(df):\n",
    "    columns = ['sourceIP_feature 1', 'sourceIP_feature 2', 'sourceIP_feature 3', 'sourceIP_feature 4', 'destIP_feature 1',\n",
    "              'destIP_feature 2', 'destIP_feature 3', 'destIP_feature 4']\n",
    "    normalized = df[columns]\n",
    "    print(columns)\n",
    "    transformed = MinMaxScaler().fit(normalized).transform(normalized)\n",
    "    transformed = pd.DataFrame(transformed)\n",
    "    j = 0\n",
    "    col = {}\n",
    "    for i in columns:\n",
    "        col[j] = i\n",
    "        j=j+1\n",
    "    transformed = transformed.rename(columns = col)\n",
    "    transformed = transformed.reset_index()\n",
    "    for i in columns:\n",
    "        df[i] = transformed[i].to_numpy()\n",
    "    return df;"
   ]
  },
  {
   "cell_type": "code",
   "execution_count": 13,
   "metadata": {},
   "outputs": [],
   "source": [
    "def normalize(df):\n",
    "    numerics = ['int16', 'int32', 'int64', 'float16', 'float32', 'float64']\n",
    "    columns = data.select_dtypes(include=numerics).columns\n",
    "    normalized = df[columns]\n",
    "    print(columns)\n",
    "    transformed = MinMaxScaler().fit(normalized).transform(normalized)\n",
    "    transformed = pd.DataFrame(transformed)\n",
    "    j = 0\n",
    "    col = {}\n",
    "    for i in columns:\n",
    "        col[j] = i\n",
    "        j=j+1\n",
    "    transformed = transformed.rename(columns = col)\n",
    "    transformed = transformed.reset_index()\n",
    "    for i in columns:\n",
    "        df[i] = transformed[i].to_numpy()\n",
    "    return df;"
   ]
  },
  {
   "cell_type": "code",
   "execution_count": 14,
   "metadata": {},
   "outputs": [],
   "source": [
    "def one_shot(df):\n",
    "    label_encoder = LabelEncoder()\n",
    "    #df.astype({'attackType': 'str'})\n",
    "    df['attackType'] = label_encoder.fit_transform(df['attackType'])\n",
    "    print(list(label_encoder.classes_))\n",
    "    print(list(label_encoder.transform(label_encoder.classes_)))\n",
    "    \n",
    "    \n",
    "    df['sourceIP_feature 1'] = label_encoder.fit_transform(df['sourceIP_feature 1'])\n",
    "    print(list(label_encoder.classes_))\n",
    "    print(list(label_encoder.transform(label_encoder.classes_)))\n",
    "    \n",
    "    df['sourceIP_feature 2'] = label_encoder.fit_transform(df['sourceIP_feature 2'])\n",
    "    print(list(label_encoder.classes_))\n",
    "    print(list(label_encoder.transform(label_encoder.classes_)))\n",
    "    \n",
    "    df['sourceIP_feature 3'] = label_encoder.fit_transform(df['sourceIP_feature 3'])\n",
    "    print(list(label_encoder.classes_))\n",
    "    print(list(label_encoder.transform(label_encoder.classes_)))\n",
    "    \n",
    "    df['sourceIP_feature 4'] = label_encoder.fit_transform(df['sourceIP_feature 4'])\n",
    "    print(list(label_encoder.classes_))\n",
    "    print(list(label_encoder.transform(label_encoder.classes_)))\n",
    "    \n",
    "    df['destIP_feature 1'] = label_encoder.fit_transform(df['destIP_feature 1'])\n",
    "    print(list(label_encoder.classes_))\n",
    "    print(list(label_encoder.transform(label_encoder.classes_)))\n",
    "    \n",
    "    df['destIP_feature 2'] = label_encoder.fit_transform(df['destIP_feature 2'])\n",
    "    print(list(label_encoder.classes_))\n",
    "    print(list(label_encoder.transform(label_encoder.classes_)))\n",
    "    \n",
    "    df['destIP_feature 3'] = label_encoder.fit_transform(df['destIP_feature 3'])\n",
    "    print(list(label_encoder.classes_))\n",
    "    print(list(label_encoder.transform(label_encoder.classes_)))\n",
    "    \n",
    "    df['destIP_feature 4'] = label_encoder.fit_transform(df['destIP_feature 4'])\n",
    "    print(list(label_encoder.classes_))\n",
    "    print(list(label_encoder.transform(label_encoder.classes_)))\n",
    "    \n",
    "    df['Proto'] = label_encoder.fit_transform(df['Proto'])\n",
    "    print(list(label_encoder.classes_))\n",
    "    print(list(label_encoder.transform(label_encoder.classes_)))\n",
    "    \n",
    "    onehot_encoder1 = OneHotEncoder()\n",
    "    onehot_encoder1.fit(df.Proto.to_numpy().reshape(-1, 1))\n",
    "    proto = onehot_encoder1.transform(df.Proto.to_numpy().reshape(-1, 1))\n",
    "    proto = pd.DataFrame.sparse.from_spmatrix(proto)\n",
    "    proto.astype('int32')\n",
    "    proto.columns = label_encoder.classes_\n",
    "   # print(proto.head(1))\n",
    "    df = pd.concat([df, proto], axis = 1)\n",
    "    return df;"
   ]
  },
  {
   "cell_type": "code",
   "execution_count": 15,
   "metadata": {},
   "outputs": [],
   "source": [
    "def drop_columns(df):\n",
    "    return df.drop(columns = ['Date first seen', ' IP Pair', 'Flows', 'class', 'attackID','Flags',\n",
    "                              'attackDescription', 'Src IP Addr', 'Dst IP Addr','Proto'], axis =1)"
   ]
  },
  {
   "cell_type": "code",
   "execution_count": 16,
   "metadata": {},
   "outputs": [],
   "source": [
    "#Aplit IP address into features, 7 features\n",
    "def split_to_net(IP_address):\n",
    "    IP_list = IP_address.split(\".\")\n",
    "    needed_len = 7\n",
    "    needed_len = needed_len - len(IP_list)\n",
    "    for i in range(0,needed_len,1):\n",
    "        IP_list.append('0')\n",
    "    return IP_list\n",
    "#replace unknown IP address, and convert to columns\n",
    "def IP_split(df): \n",
    "    replace = {\"ATTACKER1\":\"0.0.0.0\",\n",
    "           \"ATTACKER2\":\"0.0.0.0\",\n",
    "           \"ATTACKER3\":\"0.0.0.0\",\n",
    "           \"EXT_SERVER\": \"0.0.0.0.1\",\n",
    "          \"OPENSTACK_NET\": \"0.0.0.0.0.1\",\n",
    "          \"DNS\": \"0.0.0.0.0.0.1\"}\n",
    "    df = df.replace({\"Src IP Addr\": replace, \"Dst IP Addr\": replace}, value=None)\n",
    "    temp_source = df[\"Src IP Addr\"].apply(lambda x: \"0.0.0.0.0.0.0\" if ('_') in x else x)\n",
    "    temp_des = df['Dst IP Addr'].apply(lambda x: \"0.0.0.0.0.0.0\" if ('_') in x else x)\n",
    "   # sourceIP = list(df[\"Src IP Addr\"].unique())\n",
    "   # destIP = list(df[\"Dst IP Addr\"].unique())\n",
    "   # sourceIP_values = {}\n",
    "   # desIP_values = {}\n",
    "   # for i in sourceIP:\n",
    "   #      sourceIP_values[i] = (split_to_net(i))\n",
    "   # for i in destIP:\n",
    "   #      desIP_values[i] = (split_to_net(i))\n",
    "    #print(sourceIP_values)\n",
    "   # print(desIP_values)\n",
    "#for Source IP\n",
    "    temp_source = temp_source.apply(lambda x: split_to_net(x) )\n",
    "    temp_source = pd.DataFrame(temp_source.apply(list).tolist())\n",
    "    temp_source.columns = ['sourceIP_feature 1','sourceIP_feature 2','sourceIP_feature 3','sourceIP_feature 4' ,\n",
    "                    'sourceEXT_SERVER','sourceOPENSTACK_NET','sourceDNS']\n",
    "    for i in temp_source.columns:\n",
    "        temp_source[i] = pd.to_numeric(temp_source[i]);\n",
    "    temp_source = temp_source.reset_index(drop=True)\n",
    "    df = df.reset_index(drop=True)\n",
    "    df = pd.concat([df, temp_source], axis = 1)\n",
    "    #for Destination IP\n",
    "    temp_des = temp_des.apply(lambda x: split_to_net(x) )\n",
    "    temp_des = pd.DataFrame(temp_des.apply(list).tolist())\n",
    "    temp_des.columns = ['destIP_feature 1','destIP_feature 2','destIP_feature 3','destIP_feature 4' ,\n",
    "                    'destEXT_SERVER','destOPENSTACK_NET','destDNS']\n",
    "    for i in temp_des.columns:\n",
    "        temp_des[i] = pd.to_numeric(temp_des[i]);\n",
    "    temp_des = temp_des.reset_index(drop=True)\n",
    "    df = df.reset_index(drop=True)\n",
    "    df = pd.concat([df, temp_des], axis = 1)\n",
    "    return df;"
   ]
  },
  {
   "cell_type": "code",
   "execution_count": 17,
   "metadata": {},
   "outputs": [
    {
     "name": "stdout",
     "output_type": "stream",
     "text": [
      "59362\n"
     ]
    }
   ],
   "source": [
    "data = make_pair(data)\n",
    "data = check_inverse(data)"
   ]
  },
  {
   "cell_type": "code",
   "execution_count": 18,
   "metadata": {},
   "outputs": [],
   "source": [
    "data = IP_split(data)"
   ]
  },
  {
   "cell_type": "code",
   "execution_count": 19,
   "metadata": {
    "scrolled": true
   },
   "outputs": [
    {
     "name": "stdout",
     "output_type": "stream",
     "text": [
      "Index(['Duration', 'Src Pt', 'Dst Pt', 'Packets', 'Bytes', 'Flows', 'Tos',\n",
      "       'sourceIP_feature 1', 'sourceIP_feature 2', 'sourceIP_feature 3',\n",
      "       'sourceIP_feature 4', 'sourceEXT_SERVER', 'sourceOPENSTACK_NET',\n",
      "       'sourceDNS', 'destIP_feature 1', 'destIP_feature 2', 'destIP_feature 3',\n",
      "       'destIP_feature 4', 'destEXT_SERVER', 'destOPENSTACK_NET', 'destDNS'],\n",
      "      dtype='object')\n",
      "['---', 'attack']\n",
      "[0, 1]\n",
      "[0.0, 1.0]\n",
      "[0, 1]\n",
      "[0.0, 1.0]\n",
      "[0, 1]\n",
      "[0.0, 0.003952569169960474, 0.01976284584980237, 0.3162055335968379, 0.3952569169960474, 0.7905138339920948, 0.8300395256916996, 0.8695652173913043, 0.9999999999999999]\n",
      "[0, 1, 2, 3, 4, 5, 6, 7, 8]\n",
      "[0.0, 0.004, 0.008, 0.012, 0.016, 0.02, 0.024, 0.028, 0.032, 0.036000000000000004, 0.04, 0.044, 0.048, 0.052000000000000005, 0.056, 0.06, 0.064, 0.4, 0.432, 0.456, 0.612, 0.884, 0.96, 1.0]\n",
      "[0, 1, 2, 3, 4, 5, 6, 7, 8, 9, 10, 11, 12, 13, 14, 15, 16, 17, 18, 19, 20, 21, 22, 23]\n",
      "[0.0, 0.7529411764705882, 1.0]\n",
      "[0, 1, 2]\n",
      "[0.0, 0.6588235294117647, 1.0]\n",
      "[0, 1, 2]\n",
      "[0.0, 0.00392156862745098, 0.39215686274509803, 0.7843137254901961, 0.8235294117647058, 0.8627450980392157, 0.9921568627450981, 1.0]\n",
      "[0, 1, 2, 3, 4, 5, 6, 7]\n",
      "[0.0, 0.00392156862745098, 0.00784313725490196, 0.011764705882352941, 0.01568627450980392, 0.0196078431372549, 0.023529411764705882, 0.027450980392156862, 0.03137254901960784, 0.03529411764705882, 0.0392156862745098, 0.043137254901960784, 0.047058823529411764, 0.050980392156862744, 0.054901960784313725, 0.058823529411764705, 0.06274509803921569, 0.06666666666666667, 0.07058823529411765, 0.07450980392156863, 0.0784313725490196, 0.08235294117647059, 0.08627450980392157, 0.09019607843137255, 0.09411764705882353, 0.09803921568627451, 0.10196078431372549, 0.10588235294117647, 0.10980392156862745, 0.11372549019607843, 0.11764705882352941, 0.12156862745098039, 0.12549019607843137, 0.12941176470588234, 0.13333333333333333, 0.13725490196078433, 0.1411764705882353, 0.14509803921568626, 0.14901960784313725, 0.15294117647058825, 0.1568627450980392, 0.16078431372549018, 0.16470588235294117, 0.16862745098039217, 0.17254901960784313, 0.1764705882352941, 0.1803921568627451, 0.1843137254901961, 0.18823529411764706, 0.19215686274509802, 0.19607843137254902, 0.2, 0.20392156862745098, 0.20784313725490194, 0.21176470588235294, 0.21568627450980393, 0.2196078431372549, 0.22352941176470587, 0.22745098039215686, 0.23137254901960785, 0.23529411764705882, 0.2392156862745098, 0.24313725490196078, 0.24705882352941178, 0.25098039215686274, 0.2549019607843137, 0.2588235294117647, 0.2627450980392157, 0.26666666666666666, 0.27058823529411763, 0.27450980392156865, 0.2784313725490196, 0.2823529411764706, 0.28627450980392155, 0.2901960784313725, 0.29411764705882354, 0.2980392156862745, 0.30196078431372547, 0.3058823529411765, 0.30980392156862746, 0.3137254901960784, 0.3176470588235294, 0.32156862745098036, 0.3254901960784314, 0.32941176470588235, 0.3333333333333333, 0.33725490196078434, 0.3411764705882353, 0.34509803921568627, 0.34901960784313724, 0.3529411764705882, 0.3568627450980392, 0.3607843137254902, 0.36470588235294116, 0.3686274509803922, 0.37254901960784315, 0.3764705882352941, 0.3803921568627451, 0.38431372549019605, 0.38823529411764707, 0.39215686274509803, 0.396078431372549, 0.4, 0.403921568627451, 0.40784313725490196, 0.4117647058823529, 0.4156862745098039, 0.4196078431372549, 0.4235294117647059, 0.42745098039215684, 0.43137254901960786, 0.43529411764705883, 0.4392156862745098, 0.44313725490196076, 0.44705882352941173, 0.45098039215686275, 0.4549019607843137, 0.4588235294117647, 0.4627450980392157, 0.4666666666666667, 0.47058823529411764, 0.4745098039215686, 0.4784313725490196, 0.4823529411764706, 0.48627450980392156, 0.49019607843137253, 0.49411764705882355, 0.4980392156862745, 0.5019607843137255, 0.5058823529411764, 0.5098039215686274, 0.5137254901960784, 0.5176470588235293, 0.5215686274509804, 0.5254901960784314, 0.5294117647058824, 0.5333333333333333, 0.5372549019607843, 0.5411764705882353, 0.5450980392156862, 0.5490196078431373, 0.5529411764705883, 0.5568627450980392, 0.5607843137254902, 0.5647058823529412, 0.5686274509803921, 0.5725490196078431, 0.5764705882352941, 0.580392156862745, 0.5843137254901961, 0.5882352941176471, 0.592156862745098, 0.596078431372549, 0.6, 0.6039215686274509, 0.6078431372549019, 0.611764705882353, 0.615686274509804, 0.6196078431372549, 0.6235294117647059, 0.6274509803921569, 0.6313725490196078, 0.6352941176470588, 0.6392156862745098, 0.6431372549019607, 0.6470588235294118, 0.6509803921568628, 0.6549019607843137, 0.6588235294117647, 0.6627450980392157, 0.6666666666666666, 0.6705882352941176, 0.6745098039215687, 0.6784313725490196, 0.6823529411764706, 0.6862745098039216, 0.6901960784313725, 0.6941176470588235, 0.6980392156862745, 0.7019607843137254, 0.7058823529411764, 0.7098039215686275, 0.7137254901960784, 0.7176470588235294, 0.7215686274509804, 0.7254901960784313, 0.7294117647058823, 0.7333333333333333, 0.7372549019607844, 0.7411764705882353, 0.7450980392156863, 0.7490196078431373, 0.7529411764705882, 0.7568627450980392, 0.7607843137254902, 0.7647058823529411, 0.7686274509803921, 0.7725490196078432, 0.7764705882352941, 0.7803921568627451, 0.7843137254901961, 0.788235294117647, 0.792156862745098, 0.796078431372549, 0.8, 0.803921568627451, 0.807843137254902, 0.8117647058823529, 0.8156862745098039, 0.8196078431372549, 0.8235294117647058, 0.8274509803921568, 0.8313725490196078, 0.8352941176470589, 0.8392156862745098, 0.8431372549019608, 0.8470588235294118, 0.8509803921568627, 0.8549019607843137, 0.8588235294117647, 0.8627450980392157, 0.8666666666666667, 0.8705882352941177, 0.8745098039215686, 0.8784313725490196, 0.8823529411764706, 0.8862745098039215, 0.8901960784313725, 0.8941176470588235, 0.8980392156862745, 0.9019607843137255, 0.9058823529411765, 0.9098039215686274, 0.9137254901960784, 0.9176470588235294, 0.9215686274509803, 0.9254901960784314, 0.9294117647058824, 0.9333333333333333, 0.9372549019607843, 0.9411764705882353, 0.9450980392156862, 0.9490196078431372, 0.9529411764705882, 0.9568627450980391, 0.9607843137254902, 0.9647058823529412, 0.9686274509803922, 0.9725490196078431, 0.9764705882352941, 0.9803921568627451, 0.984313725490196, 0.9882352941176471, 0.9921568627450981, 0.996078431372549, 1.0]\n",
      "[0, 1, 2, 3, 4, 5, 6, 7, 8, 9, 10, 11, 12, 13, 14, 15, 16, 17, 18, 19, 20, 21, 22, 23, 24, 25, 26, 27, 28, 29, 30, 31, 32, 33, 34, 35, 36, 37, 38, 39, 40, 41, 42, 43, 44, 45, 46, 47, 48, 49, 50, 51, 52, 53, 54, 55, 56, 57, 58, 59, 60, 61, 62, 63, 64, 65, 66, 67, 68, 69, 70, 71, 72, 73, 74, 75, 76, 77, 78, 79, 80, 81, 82, 83, 84, 85, 86, 87, 88, 89, 90, 91, 92, 93, 94, 95, 96, 97, 98, 99, 100, 101, 102, 103, 104, 105, 106, 107, 108, 109, 110, 111, 112, 113, 114, 115, 116, 117, 118, 119, 120, 121, 122, 123, 124, 125, 126, 127, 128, 129, 130, 131, 132, 133, 134, 135, 136, 137, 138, 139, 140, 141, 142, 143, 144, 145, 146, 147, 148, 149, 150, 151, 152, 153, 154, 155, 156, 157, 158, 159, 160, 161, 162, 163, 164, 165, 166, 167, 168, 169, 170, 171, 172, 173, 174, 175, 176, 177, 178, 179, 180, 181, 182, 183, 184, 185, 186, 187, 188, 189, 190, 191, 192, 193, 194, 195, 196, 197, 198, 199, 200, 201, 202, 203, 204, 205, 206, 207, 208, 209, 210, 211, 212, 213, 214, 215, 216, 217, 218, 219, 220, 221, 222, 223, 224, 225, 226, 227, 228, 229, 230, 231, 232, 233, 234, 235, 236, 237, 238, 239, 240, 241, 242, 243, 244, 245, 246, 247, 248, 249, 250, 251, 252, 253, 254, 255]\n",
      "['GRE  ', 'ICMP ', 'IGMP ', 'TCP  ', 'UDP  ']\n",
      "[0, 1, 2, 3, 4]\n"
     ]
    },
    {
     "name": "stderr",
     "output_type": "stream",
     "text": [
      "C:\\Users\\hp\\Anaconda3\\lib\\site-packages\\sklearn\\preprocessing\\_encoders.py:415: FutureWarning: The handling of integer data will change in version 0.22. Currently, the categories are determined based on the range [0, max(values)], while in the future they will be determined based on the unique values.\n",
      "If you want the future behaviour and silence this warning, you can specify \"categories='auto'\".\n",
      "In case you used a LabelEncoder before this OneHotEncoder to convert the categories to integers, then you can now use the OneHotEncoder directly.\n",
      "  warnings.warn(msg, FutureWarning)\n"
     ]
    },
    {
     "name": "stdout",
     "output_type": "stream",
     "text": [
      "['sourceIP_feature 1', 'sourceIP_feature 2', 'sourceIP_feature 3', 'sourceIP_feature 4', 'destIP_feature 1', 'destIP_feature 2', 'destIP_feature 3', 'destIP_feature 4']\n"
     ]
    }
   ],
   "source": [
    "data = normalize(data)\n",
    "data =  one_shot(data) \n",
    "data = normalize_IP(data)"
   ]
  },
  {
   "cell_type": "code",
   "execution_count": 20,
   "metadata": {},
   "outputs": [],
   "source": [
    "data_ig = flag_convert(data)\n",
    "data_ig = drop_columns(data)"
   ]
  },
  {
   "cell_type": "code",
   "execution_count": 25,
   "metadata": {},
   "outputs": [
    {
     "name": "stdout",
     "output_type": "stream",
     "text": [
      "target feature: attackType\n",
      "descriptive_feature: Duration\n",
      "split criterion: entropy\n",
      "remaining impurity: 0.36495600000000006\n",
      "information gain: 0.530044\n",
      "====================\n",
      "target feature: attackType\n",
      "descriptive_feature: Src Pt\n",
      "split criterion: entropy\n",
      "remaining impurity: 0.267853\n",
      "information gain: 0.627147\n",
      "====================\n",
      "target feature: attackType\n",
      "descriptive_feature: Dst Pt\n",
      "split criterion: entropy\n",
      "remaining impurity: 0.2693620000000001\n",
      "information gain: 0.6256379999999999\n",
      "====================\n",
      "target feature: attackType\n",
      "descriptive_feature: Packets\n",
      "split criterion: entropy\n",
      "remaining impurity: 0.46965899999999994\n",
      "information gain: 0.4253410000000001\n",
      "====================\n",
      "target feature: attackType\n",
      "descriptive_feature: Bytes\n",
      "split criterion: entropy\n",
      "remaining impurity: 0.063283\n",
      "information gain: 0.831717\n",
      "====================\n",
      "target feature: attackType\n",
      "descriptive_feature: Tos\n",
      "split criterion: entropy\n",
      "remaining impurity: 0.751886\n",
      "information gain: 0.14311399999999996\n",
      "====================\n",
      "target feature: attackType\n",
      "descriptive_feature: sourceIP_feature 1\n",
      "split criterion: entropy\n",
      "remaining impurity: 0.6798160000000001\n",
      "information gain: 0.21518399999999993\n",
      "====================\n",
      "target feature: attackType\n",
      "descriptive_feature: sourceIP_feature 2\n",
      "split criterion: entropy\n",
      "remaining impurity: 0.6798160000000001\n",
      "information gain: 0.21518399999999993\n",
      "====================\n",
      "target feature: attackType\n",
      "descriptive_feature: sourceIP_feature 3\n",
      "split criterion: entropy\n",
      "remaining impurity: 0.5157079999999999\n",
      "information gain: 0.3792920000000001\n",
      "====================\n",
      "target feature: attackType\n",
      "descriptive_feature: sourceIP_feature 4\n",
      "split criterion: entropy\n",
      "remaining impurity: 0.29876\n",
      "information gain: 0.59624\n",
      "====================\n",
      "target feature: attackType\n",
      "descriptive_feature: sourceEXT_SERVER\n",
      "split criterion: entropy\n",
      "remaining impurity: 0.889494\n",
      "information gain: 0.005506000000000011\n",
      "====================\n",
      "target feature: attackType\n",
      "descriptive_feature: sourceOPENSTACK_NET\n",
      "split criterion: entropy\n",
      "remaining impurity: 0.894208\n",
      "information gain: 0.0007920000000000149\n",
      "====================\n",
      "target feature: attackType\n",
      "descriptive_feature: sourceDNS\n",
      "split criterion: entropy\n",
      "remaining impurity: 0.869136\n",
      "information gain: 0.025863999999999998\n",
      "====================\n",
      "target feature: attackType\n",
      "descriptive_feature: destIP_feature 1\n",
      "split criterion: entropy\n",
      "remaining impurity: 0.676984\n",
      "information gain: 0.218016\n",
      "====================\n",
      "target feature: attackType\n",
      "descriptive_feature: destIP_feature 2\n",
      "split criterion: entropy\n",
      "remaining impurity: 0.676984\n",
      "information gain: 0.218016\n",
      "====================\n",
      "target feature: attackType\n",
      "descriptive_feature: destIP_feature 3\n",
      "split criterion: entropy\n",
      "remaining impurity: 0.525392\n",
      "information gain: 0.36960800000000005\n",
      "====================\n",
      "target feature: attackType\n",
      "descriptive_feature: destIP_feature 4\n",
      "split criterion: entropy\n",
      "remaining impurity: 0.32387900000000003\n",
      "information gain: 0.571121\n",
      "====================\n",
      "target feature: attackType\n",
      "descriptive_feature: destEXT_SERVER\n",
      "split criterion: entropy\n",
      "remaining impurity: 0.8901\n",
      "information gain: 0.0049000000000000155\n",
      "====================\n",
      "target feature: attackType\n",
      "descriptive_feature: destOPENSTACK_NET\n",
      "split criterion: entropy\n",
      "remaining impurity: 0.894208\n",
      "information gain: 0.0007920000000000149\n",
      "====================\n",
      "target feature: attackType\n",
      "descriptive_feature: destDNS\n",
      "split criterion: entropy\n",
      "remaining impurity: 0.869136\n",
      "information gain: 0.025863999999999998\n",
      "====================\n",
      "target feature: attackType\n",
      "descriptive_feature: GRE  \n",
      "split criterion: entropy\n"
     ]
    },
    {
     "name": "stderr",
     "output_type": "stream",
     "text": [
      "C:\\Users\\hp\\Anaconda3\\lib\\site-packages\\pandas\\core\\indexing.py:2418: FutureWarning: DataFrame/Series.to_dense is deprecated and will be removed in a future version\n",
      "  result = result.to_dense()\n"
     ]
    },
    {
     "name": "stdout",
     "output_type": "stream",
     "text": [
      "remaining impurity: 0.895\n",
      "information gain: 0.0\n",
      "====================\n",
      "target feature: attackType\n",
      "descriptive_feature: ICMP \n",
      "split criterion: entropy\n",
      "remaining impurity: 0.893228\n",
      "information gain: 0.0017719999999999958\n",
      "====================\n",
      "target feature: attackType\n",
      "descriptive_feature: IGMP \n",
      "split criterion: entropy\n",
      "remaining impurity: 0.895\n",
      "information gain: 0.0\n",
      "====================\n",
      "target feature: attackType\n",
      "descriptive_feature: TCP  \n",
      "split criterion: entropy\n",
      "remaining impurity: 0.8482480000000001\n",
      "information gain: 0.046751999999999905\n",
      "====================\n",
      "target feature: attackType\n",
      "descriptive_feature: UDP  \n",
      "split criterion: entropy\n",
      "remaining impurity: 0.8418270000000001\n",
      "information gain: 0.053172999999999915\n",
      "====================\n",
      "target feature: attackType\n",
      "descriptive_feature: N\n",
      "split criterion: entropy\n",
      "remaining impurity: 0.895\n",
      "information gain: 0.0\n",
      "====================\n",
      "target feature: attackType\n",
      "descriptive_feature: C\n",
      "split criterion: entropy\n",
      "remaining impurity: 0.894105\n",
      "information gain: 0.0008949999999999791\n",
      "====================\n",
      "target feature: attackType\n",
      "descriptive_feature: E\n",
      "split criterion: entropy\n",
      "remaining impurity: 0.894105\n",
      "information gain: 0.0008949999999999791\n",
      "====================\n",
      "target feature: attackType\n",
      "descriptive_feature: U\n",
      "split criterion: entropy\n",
      "remaining impurity: 0.895\n",
      "information gain: 0.0\n",
      "====================\n",
      "target feature: attackType\n",
      "descriptive_feature: A\n",
      "split criterion: entropy\n",
      "remaining impurity: 0.879546\n",
      "information gain: 0.015453999999999968\n",
      "====================\n",
      "target feature: attackType\n",
      "descriptive_feature: P\n",
      "split criterion: entropy\n",
      "remaining impurity: 0.887885\n",
      "information gain: 0.0071149999999999824\n",
      "====================\n",
      "target feature: attackType\n",
      "descriptive_feature: R\n",
      "split criterion: entropy\n",
      "remaining impurity: 0.89392\n",
      "information gain: 0.0010799999999999699\n",
      "====================\n",
      "target feature: attackType\n",
      "descriptive_feature: S\n",
      "split criterion: entropy\n",
      "remaining impurity: 0.47800600000000004\n",
      "information gain: 0.416994\n",
      "====================\n",
      "target feature: attackType\n",
      "descriptive_feature: F\n",
      "split criterion: entropy\n",
      "remaining impurity: 0.51942\n",
      "information gain: 0.37558\n",
      "====================\n"
     ]
    },
    {
     "data": {
      "text/plain": [
       "{'Duration': 0.530044,\n",
       " 'Src Pt': 0.627147,\n",
       " 'Dst Pt': 0.6256379999999999,\n",
       " 'Packets': 0.4253410000000001,\n",
       " 'Bytes': 0.831717,\n",
       " 'Tos': 0.14311399999999996,\n",
       " 'sourceIP_feature 1': 0.21518399999999993,\n",
       " 'sourceIP_feature 2': 0.21518399999999993,\n",
       " 'sourceIP_feature 3': 0.3792920000000001,\n",
       " 'sourceIP_feature 4': 0.59624,\n",
       " 'sourceEXT_SERVER': 0.005506000000000011,\n",
       " 'sourceOPENSTACK_NET': 0.0007920000000000149,\n",
       " 'sourceDNS': 0.025863999999999998,\n",
       " 'destIP_feature 1': 0.218016,\n",
       " 'destIP_feature 2': 0.218016,\n",
       " 'destIP_feature 3': 0.36960800000000005,\n",
       " 'destIP_feature 4': 0.571121,\n",
       " 'destEXT_SERVER': 0.0049000000000000155,\n",
       " 'destOPENSTACK_NET': 0.0007920000000000149,\n",
       " 'destDNS': 0.025863999999999998,\n",
       " 'GRE  ': 0.0,\n",
       " 'ICMP ': 0.0017719999999999958,\n",
       " 'IGMP ': 0.0,\n",
       " 'TCP  ': 0.046751999999999905,\n",
       " 'UDP  ': 0.053172999999999915,\n",
       " 'N': 0.0,\n",
       " 'C': 0.0008949999999999791,\n",
       " 'E': 0.0008949999999999791,\n",
       " 'U': 0.0,\n",
       " 'A': 0.015453999999999968,\n",
       " 'P': 0.0071149999999999824,\n",
       " 'R': 0.0010799999999999699,\n",
       " 'S': 0.416994,\n",
       " 'F': 0.37558}"
      ]
     },
     "execution_count": 25,
     "metadata": {},
     "output_type": "execute_result"
    }
   ],
   "source": [
    "split_criterion = 'entropy'\n",
    "feature_info_gain = {}\n",
    "for feature in data_ig.drop(columns='attackType').columns:\n",
    "    feature_info_gain[feature] = comp_feature_information_gain(data_ig, 'attackType', feature, split_criterion)\n",
    "feature_info_gain"
   ]
  },
  {
   "cell_type": "code",
   "execution_count": 30,
   "metadata": {
    "scrolled": true
   },
   "outputs": [
    {
     "data": {
      "text/html": [
       "<div>\n",
       "<style scoped>\n",
       "    .dataframe tbody tr th:only-of-type {\n",
       "        vertical-align: middle;\n",
       "    }\n",
       "\n",
       "    .dataframe tbody tr th {\n",
       "        vertical-align: top;\n",
       "    }\n",
       "\n",
       "    .dataframe thead th {\n",
       "        text-align: right;\n",
       "    }\n",
       "</style>\n",
       "<table border=\"1\" class=\"dataframe\">\n",
       "  <thead>\n",
       "    <tr style=\"text-align: right;\">\n",
       "      <th></th>\n",
       "      <th>entropy</th>\n",
       "    </tr>\n",
       "  </thead>\n",
       "  <tbody>\n",
       "    <tr>\n",
       "      <td>Bytes</td>\n",
       "      <td>0.831717</td>\n",
       "    </tr>\n",
       "    <tr>\n",
       "      <td>Src Pt</td>\n",
       "      <td>0.627147</td>\n",
       "    </tr>\n",
       "    <tr>\n",
       "      <td>Dst Pt</td>\n",
       "      <td>0.625638</td>\n",
       "    </tr>\n",
       "    <tr>\n",
       "      <td>sourceIP_feature 4</td>\n",
       "      <td>0.596240</td>\n",
       "    </tr>\n",
       "    <tr>\n",
       "      <td>destIP_feature 4</td>\n",
       "      <td>0.571121</td>\n",
       "    </tr>\n",
       "    <tr>\n",
       "      <td>Duration</td>\n",
       "      <td>0.530044</td>\n",
       "    </tr>\n",
       "    <tr>\n",
       "      <td>Packets</td>\n",
       "      <td>0.425341</td>\n",
       "    </tr>\n",
       "    <tr>\n",
       "      <td>S</td>\n",
       "      <td>0.416994</td>\n",
       "    </tr>\n",
       "    <tr>\n",
       "      <td>sourceIP_feature 3</td>\n",
       "      <td>0.379292</td>\n",
       "    </tr>\n",
       "    <tr>\n",
       "      <td>F</td>\n",
       "      <td>0.375580</td>\n",
       "    </tr>\n",
       "    <tr>\n",
       "      <td>destIP_feature 3</td>\n",
       "      <td>0.369608</td>\n",
       "    </tr>\n",
       "    <tr>\n",
       "      <td>destIP_feature 2</td>\n",
       "      <td>0.218016</td>\n",
       "    </tr>\n",
       "    <tr>\n",
       "      <td>destIP_feature 1</td>\n",
       "      <td>0.218016</td>\n",
       "    </tr>\n",
       "    <tr>\n",
       "      <td>sourceIP_feature 2</td>\n",
       "      <td>0.215184</td>\n",
       "    </tr>\n",
       "    <tr>\n",
       "      <td>sourceIP_feature 1</td>\n",
       "      <td>0.215184</td>\n",
       "    </tr>\n",
       "    <tr>\n",
       "      <td>Tos</td>\n",
       "      <td>0.143114</td>\n",
       "    </tr>\n",
       "    <tr>\n",
       "      <td>UDP</td>\n",
       "      <td>0.053173</td>\n",
       "    </tr>\n",
       "    <tr>\n",
       "      <td>TCP</td>\n",
       "      <td>0.046752</td>\n",
       "    </tr>\n",
       "    <tr>\n",
       "      <td>sourceDNS</td>\n",
       "      <td>0.025864</td>\n",
       "    </tr>\n",
       "    <tr>\n",
       "      <td>destDNS</td>\n",
       "      <td>0.025864</td>\n",
       "    </tr>\n",
       "    <tr>\n",
       "      <td>A</td>\n",
       "      <td>0.015454</td>\n",
       "    </tr>\n",
       "    <tr>\n",
       "      <td>P</td>\n",
       "      <td>0.007115</td>\n",
       "    </tr>\n",
       "    <tr>\n",
       "      <td>sourceEXT_SERVER</td>\n",
       "      <td>0.005506</td>\n",
       "    </tr>\n",
       "    <tr>\n",
       "      <td>destEXT_SERVER</td>\n",
       "      <td>0.004900</td>\n",
       "    </tr>\n",
       "    <tr>\n",
       "      <td>ICMP</td>\n",
       "      <td>0.001772</td>\n",
       "    </tr>\n",
       "    <tr>\n",
       "      <td>R</td>\n",
       "      <td>0.001080</td>\n",
       "    </tr>\n",
       "    <tr>\n",
       "      <td>E</td>\n",
       "      <td>0.000895</td>\n",
       "    </tr>\n",
       "    <tr>\n",
       "      <td>C</td>\n",
       "      <td>0.000895</td>\n",
       "    </tr>\n",
       "    <tr>\n",
       "      <td>sourceOPENSTACK_NET</td>\n",
       "      <td>0.000792</td>\n",
       "    </tr>\n",
       "    <tr>\n",
       "      <td>destOPENSTACK_NET</td>\n",
       "      <td>0.000792</td>\n",
       "    </tr>\n",
       "    <tr>\n",
       "      <td>U</td>\n",
       "      <td>0.000000</td>\n",
       "    </tr>\n",
       "    <tr>\n",
       "      <td>N</td>\n",
       "      <td>0.000000</td>\n",
       "    </tr>\n",
       "    <tr>\n",
       "      <td>IGMP</td>\n",
       "      <td>0.000000</td>\n",
       "    </tr>\n",
       "    <tr>\n",
       "      <td>GRE</td>\n",
       "      <td>0.000000</td>\n",
       "    </tr>\n",
       "  </tbody>\n",
       "</table>\n",
       "</div>"
      ],
      "text/plain": [
       "                      entropy\n",
       "Bytes                0.831717\n",
       "Src Pt               0.627147\n",
       "Dst Pt               0.625638\n",
       "sourceIP_feature 4   0.596240\n",
       "destIP_feature 4     0.571121\n",
       "Duration             0.530044\n",
       "Packets              0.425341\n",
       "S                    0.416994\n",
       "sourceIP_feature 3   0.379292\n",
       "F                    0.375580\n",
       "destIP_feature 3     0.369608\n",
       "destIP_feature 2     0.218016\n",
       "destIP_feature 1     0.218016\n",
       "sourceIP_feature 2   0.215184\n",
       "sourceIP_feature 1   0.215184\n",
       "Tos                  0.143114\n",
       "UDP                  0.053173\n",
       "TCP                  0.046752\n",
       "sourceDNS            0.025864\n",
       "destDNS              0.025864\n",
       "A                    0.015454\n",
       "P                    0.007115\n",
       "sourceEXT_SERVER     0.005506\n",
       "destEXT_SERVER       0.004900\n",
       "ICMP                 0.001772\n",
       "R                    0.001080\n",
       "E                    0.000895\n",
       "C                    0.000895\n",
       "sourceOPENSTACK_NET  0.000792\n",
       "destOPENSTACK_NET    0.000792\n",
       "U                    0.000000\n",
       "N                    0.000000\n",
       "IGMP                 0.000000\n",
       "GRE                  0.000000"
      ]
     },
     "execution_count": 30,
     "metadata": {},
     "output_type": "execute_result"
    }
   ],
   "source": [
    "feature_info_gain = pd.DataFrame.from_dict([feature_info_gain]).transpose()\n",
    "feature_info_gain = pd.DataFrame(feature_info_gain[0].sort_values(ascending = False))\n",
    "feature_info_gain.columns = ['entropy']\n",
    "feature_info_gain"
   ]
  },
  {
   "cell_type": "code",
   "execution_count": 28,
   "metadata": {},
   "outputs": [
    {
     "name": "stdout",
     "output_type": "stream",
     "text": [
      "target feature: attackType\n",
      "descriptive_feature: Duration\n",
      "split criterion: gini\n",
      "remaining impurity: 0.14231299999999997\n",
      "information gain: 0.286687\n",
      "====================\n",
      "target feature: attackType\n",
      "descriptive_feature: Src Pt\n",
      "split criterion: gini\n",
      "remaining impurity: 0.13233399999999998\n",
      "information gain: 0.296666\n",
      "====================\n",
      "target feature: attackType\n",
      "descriptive_feature: Dst Pt\n",
      "split criterion: gini\n",
      "remaining impurity: 0.132656\n",
      "information gain: 0.296344\n",
      "====================\n",
      "target feature: attackType\n",
      "descriptive_feature: Packets\n",
      "split criterion: gini\n",
      "remaining impurity: 0.20162500000000003\n",
      "information gain: 0.22737499999999997\n",
      "====================\n",
      "target feature: attackType\n",
      "descriptive_feature: Bytes\n",
      "split criterion: gini\n",
      "remaining impurity: 0.023725999999999997\n",
      "information gain: 0.405274\n",
      "====================\n",
      "target feature: attackType\n",
      "descriptive_feature: Tos\n",
      "split criterion: gini\n",
      "remaining impurity: 0.371657\n",
      "information gain: 0.05734299999999998\n",
      "====================\n",
      "target feature: attackType\n",
      "descriptive_feature: sourceIP_feature 1\n",
      "split criterion: gini\n",
      "remaining impurity: 0.334704\n",
      "information gain: 0.09429599999999999\n",
      "====================\n",
      "target feature: attackType\n",
      "descriptive_feature: sourceIP_feature 2\n",
      "split criterion: gini\n",
      "remaining impurity: 0.334704\n",
      "information gain: 0.09429599999999999\n",
      "====================\n",
      "target feature: attackType\n",
      "descriptive_feature: sourceIP_feature 3\n",
      "split criterion: gini\n",
      "remaining impurity: 0.23767999999999997\n",
      "information gain: 0.19132000000000002\n",
      "====================\n",
      "target feature: attackType\n",
      "descriptive_feature: sourceIP_feature 4\n",
      "split criterion: gini\n",
      "remaining impurity: 0.126449\n",
      "information gain: 0.302551\n",
      "====================\n",
      "target feature: attackType\n",
      "descriptive_feature: sourceEXT_SERVER\n",
      "split criterion: gini\n",
      "remaining impurity: 0.426237\n",
      "information gain: 0.0027630000000000154\n",
      "====================\n",
      "target feature: attackType\n",
      "descriptive_feature: sourceOPENSTACK_NET\n",
      "split criterion: gini\n",
      "remaining impurity: 0.42913999999999997\n",
      "information gain: -0.00013999999999997348\n",
      "====================\n",
      "target feature: attackType\n",
      "descriptive_feature: sourceDNS\n",
      "split criterion: gini\n",
      "remaining impurity: 0.41931999999999997\n",
      "information gain: 0.009680000000000022\n",
      "====================\n",
      "target feature: attackType\n",
      "descriptive_feature: destIP_feature 1\n",
      "split criterion: gini\n",
      "remaining impurity: 0.33324600000000004\n",
      "information gain: 0.09575399999999995\n",
      "====================\n",
      "target feature: attackType\n",
      "descriptive_feature: destIP_feature 2\n",
      "split criterion: gini\n",
      "remaining impurity: 0.33324600000000004\n",
      "information gain: 0.09575399999999995\n",
      "====================\n",
      "target feature: attackType\n",
      "descriptive_feature: destIP_feature 3\n",
      "split criterion: gini\n",
      "remaining impurity: 0.241396\n",
      "information gain: 0.187604\n",
      "====================\n",
      "target feature: attackType\n",
      "descriptive_feature: destIP_feature 4\n",
      "split criterion: gini\n",
      "remaining impurity: 0.134822\n",
      "information gain: 0.294178\n",
      "====================\n",
      "target feature: attackType\n",
      "descriptive_feature: destEXT_SERVER\n",
      "split criterion: gini\n",
      "remaining impurity: 0.426438\n",
      "information gain: 0.0025620000000000087\n",
      "====================\n",
      "target feature: attackType\n",
      "descriptive_feature: destOPENSTACK_NET\n",
      "split criterion: gini\n",
      "remaining impurity: 0.42913999999999997\n",
      "information gain: -0.00013999999999997348\n",
      "====================\n",
      "target feature: attackType\n",
      "descriptive_feature: destDNS\n",
      "split criterion: gini\n",
      "remaining impurity: 0.41931999999999997\n",
      "information gain: 0.009680000000000022\n",
      "====================\n",
      "target feature: attackType\n",
      "descriptive_feature: GRE  \n",
      "split criterion: gini\n",
      "remaining impurity: 0.429\n",
      "information gain: 0.0\n",
      "====================\n",
      "target feature: attackType\n",
      "descriptive_feature: ICMP \n",
      "split criterion: gini\n",
      "remaining impurity: 0.427544\n",
      "information gain: 0.0014560000000000128\n",
      "====================\n",
      "target feature: attackType\n",
      "descriptive_feature: IGMP \n",
      "split criterion: gini\n",
      "remaining impurity: 0.429\n",
      "information gain: 0.0\n",
      "====================\n",
      "target feature: attackType\n",
      "descriptive_feature: TCP  \n",
      "split criterion: gini\n",
      "remaining impurity: 0.40956400000000004\n",
      "information gain: 0.019435999999999953\n",
      "====================\n",
      "target feature: attackType\n",
      "descriptive_feature: UDP  \n",
      "split criterion: gini\n",
      "remaining impurity: 0.40766100000000005\n",
      "information gain: 0.02133899999999994\n",
      "====================\n",
      "target feature: attackType\n",
      "descriptive_feature: N\n",
      "split criterion: gini\n",
      "remaining impurity: 0.429\n",
      "information gain: 0.0\n",
      "====================\n",
      "target feature: attackType\n",
      "descriptive_feature: C\n",
      "split criterion: gini\n",
      "remaining impurity: 0.428571\n",
      "information gain: 0.0004290000000000127\n",
      "====================\n",
      "target feature: attackType\n",
      "descriptive_feature: E\n",
      "split criterion: gini\n",
      "remaining impurity: 0.428571\n",
      "information gain: 0.0004290000000000127\n",
      "====================\n",
      "target feature: attackType\n",
      "descriptive_feature: U\n",
      "split criterion: gini\n",
      "remaining impurity: 0.429\n",
      "information gain: 0.0\n",
      "====================\n",
      "target feature: attackType\n",
      "descriptive_feature: A\n",
      "split criterion: gini\n",
      "remaining impurity: 0.420674\n",
      "information gain: 0.008326\n",
      "====================\n",
      "target feature: attackType\n",
      "descriptive_feature: P\n",
      "split criterion: gini\n",
      "remaining impurity: 0.42479500000000003\n",
      "information gain: 0.004204999999999959\n",
      "====================\n",
      "target feature: attackType\n",
      "descriptive_feature: R\n",
      "split criterion: gini\n",
      "remaining impurity: 0.42829599999999995\n",
      "information gain: 0.0007040000000000379\n",
      "====================\n",
      "target feature: attackType\n",
      "descriptive_feature: S\n",
      "split criterion: gini\n",
      "remaining impurity: 0.213088\n",
      "information gain: 0.215912\n",
      "====================\n",
      "target feature: attackType\n",
      "descriptive_feature: F\n",
      "split criterion: gini\n",
      "remaining impurity: 0.222916\n",
      "information gain: 0.206084\n",
      "====================\n"
     ]
    },
    {
     "data": {
      "text/plain": [
       "{'Duration': 0.286687,\n",
       " 'Src Pt': 0.296666,\n",
       " 'Dst Pt': 0.296344,\n",
       " 'Packets': 0.22737499999999997,\n",
       " 'Bytes': 0.405274,\n",
       " 'Tos': 0.05734299999999998,\n",
       " 'sourceIP_feature 1': 0.09429599999999999,\n",
       " 'sourceIP_feature 2': 0.09429599999999999,\n",
       " 'sourceIP_feature 3': 0.19132000000000002,\n",
       " 'sourceIP_feature 4': 0.302551,\n",
       " 'sourceEXT_SERVER': 0.0027630000000000154,\n",
       " 'sourceOPENSTACK_NET': -0.00013999999999997348,\n",
       " 'sourceDNS': 0.009680000000000022,\n",
       " 'destIP_feature 1': 0.09575399999999995,\n",
       " 'destIP_feature 2': 0.09575399999999995,\n",
       " 'destIP_feature 3': 0.187604,\n",
       " 'destIP_feature 4': 0.294178,\n",
       " 'destEXT_SERVER': 0.0025620000000000087,\n",
       " 'destOPENSTACK_NET': -0.00013999999999997348,\n",
       " 'destDNS': 0.009680000000000022,\n",
       " 'GRE  ': 0.0,\n",
       " 'ICMP ': 0.0014560000000000128,\n",
       " 'IGMP ': 0.0,\n",
       " 'TCP  ': 0.019435999999999953,\n",
       " 'UDP  ': 0.02133899999999994,\n",
       " 'N': 0.0,\n",
       " 'C': 0.0004290000000000127,\n",
       " 'E': 0.0004290000000000127,\n",
       " 'U': 0.0,\n",
       " 'A': 0.008326,\n",
       " 'P': 0.004204999999999959,\n",
       " 'R': 0.0007040000000000379,\n",
       " 'S': 0.215912,\n",
       " 'F': 0.206084}"
      ]
     },
     "execution_count": 28,
     "metadata": {},
     "output_type": "execute_result"
    }
   ],
   "source": [
    "split_criterion = 'gini'\n",
    "feature_info_gain1 = {}\n",
    "for feature in data_ig.drop(columns='attackType').columns:\n",
    "    feature_info_gain1[feature] = comp_feature_information_gain(data_ig, 'attackType', feature, split_criterion)\n",
    "feature_info_gain1"
   ]
  },
  {
   "cell_type": "code",
   "execution_count": 31,
   "metadata": {
    "scrolled": true
   },
   "outputs": [
    {
     "data": {
      "text/html": [
       "<div>\n",
       "<style scoped>\n",
       "    .dataframe tbody tr th:only-of-type {\n",
       "        vertical-align: middle;\n",
       "    }\n",
       "\n",
       "    .dataframe tbody tr th {\n",
       "        vertical-align: top;\n",
       "    }\n",
       "\n",
       "    .dataframe thead th {\n",
       "        text-align: right;\n",
       "    }\n",
       "</style>\n",
       "<table border=\"1\" class=\"dataframe\">\n",
       "  <thead>\n",
       "    <tr style=\"text-align: right;\">\n",
       "      <th></th>\n",
       "      <th>gini</th>\n",
       "    </tr>\n",
       "  </thead>\n",
       "  <tbody>\n",
       "    <tr>\n",
       "      <td>Bytes</td>\n",
       "      <td>0.405274</td>\n",
       "    </tr>\n",
       "    <tr>\n",
       "      <td>sourceIP_feature 4</td>\n",
       "      <td>0.302551</td>\n",
       "    </tr>\n",
       "    <tr>\n",
       "      <td>Src Pt</td>\n",
       "      <td>0.296666</td>\n",
       "    </tr>\n",
       "    <tr>\n",
       "      <td>Dst Pt</td>\n",
       "      <td>0.296344</td>\n",
       "    </tr>\n",
       "    <tr>\n",
       "      <td>destIP_feature 4</td>\n",
       "      <td>0.294178</td>\n",
       "    </tr>\n",
       "    <tr>\n",
       "      <td>Duration</td>\n",
       "      <td>0.286687</td>\n",
       "    </tr>\n",
       "    <tr>\n",
       "      <td>Packets</td>\n",
       "      <td>0.227375</td>\n",
       "    </tr>\n",
       "    <tr>\n",
       "      <td>S</td>\n",
       "      <td>0.215912</td>\n",
       "    </tr>\n",
       "    <tr>\n",
       "      <td>F</td>\n",
       "      <td>0.206084</td>\n",
       "    </tr>\n",
       "    <tr>\n",
       "      <td>sourceIP_feature 3</td>\n",
       "      <td>0.191320</td>\n",
       "    </tr>\n",
       "    <tr>\n",
       "      <td>destIP_feature 3</td>\n",
       "      <td>0.187604</td>\n",
       "    </tr>\n",
       "    <tr>\n",
       "      <td>destIP_feature 2</td>\n",
       "      <td>0.095754</td>\n",
       "    </tr>\n",
       "    <tr>\n",
       "      <td>destIP_feature 1</td>\n",
       "      <td>0.095754</td>\n",
       "    </tr>\n",
       "    <tr>\n",
       "      <td>sourceIP_feature 2</td>\n",
       "      <td>0.094296</td>\n",
       "    </tr>\n",
       "    <tr>\n",
       "      <td>sourceIP_feature 1</td>\n",
       "      <td>0.094296</td>\n",
       "    </tr>\n",
       "    <tr>\n",
       "      <td>Tos</td>\n",
       "      <td>0.057343</td>\n",
       "    </tr>\n",
       "    <tr>\n",
       "      <td>UDP</td>\n",
       "      <td>0.021339</td>\n",
       "    </tr>\n",
       "    <tr>\n",
       "      <td>TCP</td>\n",
       "      <td>0.019436</td>\n",
       "    </tr>\n",
       "    <tr>\n",
       "      <td>sourceDNS</td>\n",
       "      <td>0.009680</td>\n",
       "    </tr>\n",
       "    <tr>\n",
       "      <td>destDNS</td>\n",
       "      <td>0.009680</td>\n",
       "    </tr>\n",
       "    <tr>\n",
       "      <td>A</td>\n",
       "      <td>0.008326</td>\n",
       "    </tr>\n",
       "    <tr>\n",
       "      <td>P</td>\n",
       "      <td>0.004205</td>\n",
       "    </tr>\n",
       "    <tr>\n",
       "      <td>sourceEXT_SERVER</td>\n",
       "      <td>0.002763</td>\n",
       "    </tr>\n",
       "    <tr>\n",
       "      <td>destEXT_SERVER</td>\n",
       "      <td>0.002562</td>\n",
       "    </tr>\n",
       "    <tr>\n",
       "      <td>ICMP</td>\n",
       "      <td>0.001456</td>\n",
       "    </tr>\n",
       "    <tr>\n",
       "      <td>R</td>\n",
       "      <td>0.000704</td>\n",
       "    </tr>\n",
       "    <tr>\n",
       "      <td>E</td>\n",
       "      <td>0.000429</td>\n",
       "    </tr>\n",
       "    <tr>\n",
       "      <td>C</td>\n",
       "      <td>0.000429</td>\n",
       "    </tr>\n",
       "    <tr>\n",
       "      <td>U</td>\n",
       "      <td>0.000000</td>\n",
       "    </tr>\n",
       "    <tr>\n",
       "      <td>N</td>\n",
       "      <td>0.000000</td>\n",
       "    </tr>\n",
       "    <tr>\n",
       "      <td>IGMP</td>\n",
       "      <td>0.000000</td>\n",
       "    </tr>\n",
       "    <tr>\n",
       "      <td>GRE</td>\n",
       "      <td>0.000000</td>\n",
       "    </tr>\n",
       "    <tr>\n",
       "      <td>sourceOPENSTACK_NET</td>\n",
       "      <td>-0.000140</td>\n",
       "    </tr>\n",
       "    <tr>\n",
       "      <td>destOPENSTACK_NET</td>\n",
       "      <td>-0.000140</td>\n",
       "    </tr>\n",
       "  </tbody>\n",
       "</table>\n",
       "</div>"
      ],
      "text/plain": [
       "                         gini\n",
       "Bytes                0.405274\n",
       "sourceIP_feature 4   0.302551\n",
       "Src Pt               0.296666\n",
       "Dst Pt               0.296344\n",
       "destIP_feature 4     0.294178\n",
       "Duration             0.286687\n",
       "Packets              0.227375\n",
       "S                    0.215912\n",
       "F                    0.206084\n",
       "sourceIP_feature 3   0.191320\n",
       "destIP_feature 3     0.187604\n",
       "destIP_feature 2     0.095754\n",
       "destIP_feature 1     0.095754\n",
       "sourceIP_feature 2   0.094296\n",
       "sourceIP_feature 1   0.094296\n",
       "Tos                  0.057343\n",
       "UDP                  0.021339\n",
       "TCP                  0.019436\n",
       "sourceDNS            0.009680\n",
       "destDNS              0.009680\n",
       "A                    0.008326\n",
       "P                    0.004205\n",
       "sourceEXT_SERVER     0.002763\n",
       "destEXT_SERVER       0.002562\n",
       "ICMP                 0.001456\n",
       "R                    0.000704\n",
       "E                    0.000429\n",
       "C                    0.000429\n",
       "U                    0.000000\n",
       "N                    0.000000\n",
       "IGMP                 0.000000\n",
       "GRE                  0.000000\n",
       "sourceOPENSTACK_NET -0.000140\n",
       "destOPENSTACK_NET   -0.000140"
      ]
     },
     "execution_count": 31,
     "metadata": {},
     "output_type": "execute_result"
    }
   ],
   "source": [
    "feature_info_gain1 = pd.DataFrame.from_dict([feature_info_gain1]).transpose()\n",
    "feature_info_gain1 = pd.DataFrame(feature_info_gain1[0].sort_values(ascending = False), column = ['gini'])\n",
    "feature_info_gain1.columns = ['gini']\n",
    "feature_info_gain1"
   ]
  },
  {
   "cell_type": "code",
   "execution_count": 34,
   "metadata": {},
   "outputs": [
    {
     "data": {
      "text/plain": [
       "Index(['Bytes', 'sourceIP_feature 4', 'Src Pt', 'Dst Pt', 'destIP_feature 4',\n",
       "       'Duration', 'Packets', 'S', 'F', 'sourceIP_feature 3',\n",
       "       'destIP_feature 3'],\n",
       "      dtype='object')"
      ]
     },
     "execution_count": 34,
     "metadata": {},
     "output_type": "execute_result"
    }
   ],
   "source": [
    "#The FIrst 11 features are selected\n",
    "selected_features = feature_info_gain1.index\n",
    "selected_features = selected_features[0:11]\n",
    "selected_features"
   ]
  },
  {
   "cell_type": "code",
   "execution_count": null,
   "metadata": {},
   "outputs": [],
   "source": [
    "gc.collect()"
   ]
  },
  {
   "cell_type": "code",
   "execution_count": 20,
   "metadata": {},
   "outputs": [],
   "source": [
    "from datetime import datetime\n",
    "def unix_time(df):\n",
    "  #  df[' Timestamp'] = df[' Timestamp'].apply(lambda x: x + ':00' if len(x) != 19 else x)\n",
    "   # df[' Timestamp'] = df[' Timestamp'].apply(lambda x: x[0 : 5 : ] + x[7 : :] if len(x) != 19 else x[0 : 7 : ] + x[9 : :])\n",
    "    df['Date first seen'] = df['Date first seen'].apply(lambda x: datetime.strptime(x,'%Y-%m-%d %H:%M:%S.%f'))\n",
    "    df['Date first seen'] = df['Date first seen'].apply(lambda x: x.timestamp()*1000)\n",
    "    return df;"
   ]
  },
  {
   "cell_type": "code",
   "execution_count": 21,
   "metadata": {},
   "outputs": [],
   "source": [
    "def normal_profile(grouped):\n",
    "    grouped['---'] = unix_time(grouped['---'])\n",
    "    start_time = int(grouped['---'].head(1)['Date first seen'].values[0])\n",
    "    end_time = int(grouped['---'].tail(1)['Date first seen'].values[0])\n",
    "#date_bins = pd.IntervalIndex.from_tuples(\n",
    "#        [(i, i+3600000) for i in range(start_time, end_time, 3600000)],\n",
    "#        closed=\"left\")\n",
    "#date_labels = [f\"{i}\" for i in range(1, len(date_bins)+1, 1)]\n",
    "    normal_data = dict(tuple( grouped['---'].groupby( pd.cut(\n",
    "            grouped['---']['Date first seen'],\n",
    "               np.arange(start_time, end_time, 3*3600000)))))\n",
    "    del grouped['---']\n",
    "    num = []\n",
    "    for i in grouped_data.keys():\n",
    "          num.append(len(grouped_data[i]))\n",
    "    print(min(num))\n",
    "    num = max(num)\n",
    "    print(num)\n",
    "    print(len(grouped.keys()))\n",
    "    grouped = {**grouped, **normal_data}\n",
    "    print(len(grouped.keys()))\n",
    "    return grouped, num;"
   ]
  },
  {
   "cell_type": "code",
   "execution_count": 22,
   "metadata": {},
   "outputs": [
    {
     "data": {
      "text/plain": [
       "0"
      ]
     },
     "execution_count": 22,
     "metadata": {},
     "output_type": "execute_result"
    }
   ],
   "source": [
    "grouped_data= dict(tuple(data.groupby(['attackID'])))\n",
    "del data\n",
    "gc.collect()"
   ]
  },
  {
   "cell_type": "code",
   "execution_count": 23,
   "metadata": {
    "scrolled": true
   },
   "outputs": [
    {
     "name": "stdout",
     "output_type": "stream",
     "text": [
      "---: 7195669 : 0\n",
      "Attack ID: 1; Lenght of Attack: 7657; Attack Type: 1\n",
      "Attack ID: 10; Lenght of Attack: 311; Attack Type: 1\n",
      "Attack ID: 11; Lenght of Attack: 17401; Attack Type: 1\n",
      "Attack ID: 12; Lenght of Attack: 11526; Attack Type: 1\n",
      "Attack ID: 13; Lenght of Attack: 513; Attack Type: 1\n",
      "Attack ID: 14; Lenght of Attack: 13807; Attack Type: 1\n",
      "Attack ID: 15; Lenght of Attack: 64; Attack Type: 1\n",
      "Attack ID: 16; Lenght of Attack: 261003; Attack Type: 1\n",
      "Attack ID: 17; Lenght of Attack: 13338; Attack Type: 1\n",
      "Attack ID: 18; Lenght of Attack: 295302; Attack Type: 1\n",
      "Attack ID: 19; Lenght of Attack: 11672; Attack Type: 1\n",
      "Attack ID: 2; Lenght of Attack: 1927; Attack Type: 1\n",
      "Attack ID: 20; Lenght of Attack: 11748; Attack Type: 1\n",
      "Attack ID: 21; Lenght of Attack: 5113; Attack Type: 1\n",
      "Attack ID: 22; Lenght of Attack: 295; Attack Type: 1\n",
      "Attack ID: 23; Lenght of Attack: 72788; Attack Type: 1\n",
      "Attack ID: 24; Lenght of Attack: 466; Attack Type: 1\n",
      "Attack ID: 25; Lenght of Attack: 201; Attack Type: 1\n",
      "Attack ID: 26; Lenght of Attack: 74471; Attack Type: 1\n",
      "Attack ID: 27; Lenght of Attack: 680; Attack Type: 1\n",
      "Attack ID: 28; Lenght of Attack: 36306; Attack Type: 1\n",
      "Attack ID: 29; Lenght of Attack: 19732; Attack Type: 1\n",
      "Attack ID: 3; Lenght of Attack: 37118; Attack Type: 1\n",
      "Attack ID: 30; Lenght of Attack: 46; Attack Type: 1\n",
      "Attack ID: 31; Lenght of Attack: 144845; Attack Type: 1\n",
      "Attack ID: 32; Lenght of Attack: 335; Attack Type: 1\n",
      "Attack ID: 33; Lenght of Attack: 307; Attack Type: 1\n",
      "Attack ID: 34; Lenght of Attack: 12909; Attack Type: 1\n",
      "Attack ID: 35; Lenght of Attack: 263; Attack Type: 1\n",
      "Attack ID: 36; Lenght of Attack: 494; Attack Type: 1\n",
      "Attack ID: 37; Lenght of Attack: 26114; Attack Type: 1\n",
      "Attack ID: 38; Lenght of Attack: 267; Attack Type: 1\n",
      "Attack ID: 39; Lenght of Attack: 364; Attack Type: 1\n",
      "Attack ID: 4; Lenght of Attack: 72063; Attack Type: 1\n",
      "Attack ID: 40; Lenght of Attack: 11609; Attack Type: 1\n",
      "Attack ID: 41; Lenght of Attack: 379; Attack Type: 1\n",
      "Attack ID: 42; Lenght of Attack: 184040; Attack Type: 1\n",
      "Attack ID: 43; Lenght of Attack: 2143; Attack Type: 1\n",
      "Attack ID: 44; Lenght of Attack: 261169; Attack Type: 1\n",
      "Attack ID: 45; Lenght of Attack: 224960; Attack Type: 1\n",
      "Attack ID: 46; Lenght of Attack: 111720; Attack Type: 1\n",
      "Attack ID: 47; Lenght of Attack: 13420; Attack Type: 1\n",
      "Attack ID: 48; Lenght of Attack: 13600; Attack Type: 1\n",
      "Attack ID: 49; Lenght of Attack: 17629; Attack Type: 1\n",
      "Attack ID: 5; Lenght of Attack: 4948; Attack Type: 1\n",
      "Attack ID: 50; Lenght of Attack: 4589; Attack Type: 1\n",
      "Attack ID: 51; Lenght of Attack: 11968; Attack Type: 1\n",
      "Attack ID: 52; Lenght of Attack: 607; Attack Type: 1\n",
      "Attack ID: 53; Lenght of Attack: 516299; Attack Type: 1\n",
      "Attack ID: 54; Lenght of Attack: 183; Attack Type: 1\n",
      "Attack ID: 55; Lenght of Attack: 757; Attack Type: 1\n",
      "Attack ID: 56; Lenght of Attack: 427; Attack Type: 1\n",
      "Attack ID: 57; Lenght of Attack: 522; Attack Type: 1\n",
      "Attack ID: 58; Lenght of Attack: 510; Attack Type: 1\n",
      "Attack ID: 59; Lenght of Attack: 110484; Attack Type: 1\n",
      "Attack ID: 6; Lenght of Attack: 37134; Attack Type: 1\n",
      "Attack ID: 60; Lenght of Attack: 333627; Attack Type: 1\n",
      "Attack ID: 61; Lenght of Attack: 705; Attack Type: 1\n",
      "Attack ID: 62; Lenght of Attack: 574; Attack Type: 1\n",
      "Attack ID: 63; Lenght of Attack: 148641; Attack Type: 1\n",
      "Attack ID: 64; Lenght of Attack: 480; Attack Type: 1\n",
      "Attack ID: 65; Lenght of Attack: 373; Attack Type: 1\n",
      "Attack ID: 66; Lenght of Attack: 359; Attack Type: 1\n",
      "Attack ID: 67; Lenght of Attack: 13426; Attack Type: 1\n",
      "Attack ID: 68; Lenght of Attack: 5632; Attack Type: 1\n",
      "Attack ID: 69; Lenght of Attack: 360; Attack Type: 1\n",
      "Attack ID: 7; Lenght of Attack: 9586; Attack Type: 1\n",
      "Attack ID: 70; Lenght of Attack: 240; Attack Type: 1\n",
      "Attack ID: 71; Lenght of Attack: 2008; Attack Type: 1\n",
      "Attack ID: 72; Lenght of Attack: 2002; Attack Type: 1\n",
      "Attack ID: 73; Lenght of Attack: 200; Attack Type: 1\n",
      "Attack ID: 74; Lenght of Attack: 200; Attack Type: 1\n",
      "Attack ID: 75; Lenght of Attack: 200; Attack Type: 1\n",
      "Attack ID: 76; Lenght of Attack: 168; Attack Type: 1\n",
      "Attack ID: 77; Lenght of Attack: 6410; Attack Type: 1\n",
      "Attack ID: 78; Lenght of Attack: 200; Attack Type: 1\n",
      "Attack ID: 79; Lenght of Attack: 200; Attack Type: 1\n",
      "Attack ID: 8; Lenght of Attack: 4424; Attack Type: 1\n",
      "Attack ID: 80; Lenght of Attack: 1991; Attack Type: 1\n",
      "Attack ID: 81; Lenght of Attack: 200; Attack Type: 1\n",
      "Attack ID: 82; Lenght of Attack: 1370; Attack Type: 1\n",
      "Attack ID: 83; Lenght of Attack: 200; Attack Type: 1\n",
      "Attack ID: 84; Lenght of Attack: 200; Attack Type: 1\n",
      "Attack ID: 85; Lenght of Attack: 1984; Attack Type: 1\n",
      "Attack ID: 86; Lenght of Attack: 2002; Attack Type: 1\n",
      "Attack ID: 87; Lenght of Attack: 200; Attack Type: 1\n",
      "Attack ID: 88; Lenght of Attack: 200; Attack Type: 1\n",
      "Attack ID: 89; Lenght of Attack: 952; Attack Type: 1\n",
      "Attack ID: 9; Lenght of Attack: 37057; Attack Type: 1\n",
      "Attack ID: 90; Lenght of Attack: 200; Attack Type: 1\n",
      "Attack ID: 91; Lenght of Attack: 40; Attack Type: 1\n",
      "Attack ID: 92; Lenght of Attack: 40; Attack Type: 1\n",
      "dos : 0\n",
      "pingScan: 0\n",
      "portScan : 0\n"
     ]
    }
   ],
   "source": [
    "no_1 = []\n",
    "no_2 = []\n",
    "no_3 = []\n",
    "no_4 = []\n",
    "for i in grouped_data.keys():\n",
    "   \n",
    "    if grouped_data[i]['attackType'].unique()[0] == 0:\n",
    "        print(f\"{i}: {len(grouped_data[i])} : {grouped_data[i]['attackType'].unique()[0]}\")\n",
    "    if grouped_data[i]['attackType'].unique()[0] == 1:\n",
    "              no_1.append(i)\n",
    "    if grouped_data[i]['attackType'].unique()[0] == 2:\n",
    "              no_2.append(i)\n",
    "    if grouped_data[i]['attackType'].unique()[0] == 3:\n",
    "              no_3.append(i)\n",
    "    if grouped_data[i]['attackType'].unique()[0] == 4:\n",
    "              no_4.append(i)\n",
    "for i in no_1:\n",
    "     print(f\"Attack ID: {i}; Lenght of Attack: {len(grouped_data[i])}; Attack Type: {grouped_data[i]['attackType'].unique()[0]}\")\n",
    "print(f\"dos : {len(no_2)}\")\n",
    "for i in no_2:\n",
    "     print(f\"Attack ID: {i}; Lenght of Attack: {len(grouped_data[i])}; Attack Type: {grouped_data[i]['attackType'].unique()[0]}\")\n",
    "print(f\"pingScan: {len(no_3)}\")\n",
    "for i in no_3:\n",
    "     print(f\"Attack ID: {i}; Lenght of Attack: {len(grouped_data[i])}; Attack Type: {grouped_data[i]['attackType'].unique()[0]}\")\n",
    "print(f\"portScan : {len(no_4)}\")\n",
    "for i in no_4:\n",
    "     print(f\"Attack ID: {i}; Lenght of Attack: {len(grouped_data[i])}; Attack Type: {grouped_data[i]['attackType'].unique()[0]}\")\n"
   ]
  },
  {
   "cell_type": "code",
   "execution_count": 24,
   "metadata": {},
   "outputs": [
    {
     "data": {
      "text/plain": [
       "20"
      ]
     },
     "execution_count": 24,
     "metadata": {},
     "output_type": "execute_result"
    }
   ],
   "source": [
    "del no_1\n",
    "del no_2\n",
    "del no_3\n",
    "del no_4\n",
    "gc.collect()"
   ]
  },
  {
   "cell_type": "code",
   "execution_count": 25,
   "metadata": {},
   "outputs": [],
   "source": [
    "def del_largeInstances(dic, length):\n",
    "    remove_ID = []\n",
    "    for i in dic.keys():\n",
    "        if (i != '---'):\n",
    "            if(len(dic[i]) >= length):\n",
    "                remove_ID.append(i)\n",
    "    print(len(remove_ID))\n",
    "    removed_attacks = {}\n",
    "    for i in remove_ID:\n",
    "        removed_attacks[i] = dic[i]\n",
    "        del dic[i]\n",
    "    return dic;"
   ]
  },
  {
   "cell_type": "code",
   "execution_count": 26,
   "metadata": {},
   "outputs": [
    {
     "name": "stdout",
     "output_type": "stream",
     "text": [
      "19\n"
     ]
    }
   ],
   "source": [
    "grouped_data = del_largeInstances(grouped_data, 20000)"
   ]
  },
  {
   "cell_type": "code",
   "execution_count": 27,
   "metadata": {},
   "outputs": [
    {
     "name": "stdout",
     "output_type": "stream",
     "text": [
      "40\n",
      "19732\n",
      "73\n",
      "350\n"
     ]
    }
   ],
   "source": [
    "#grouped_data, num = normal_profile(grouped_data)\n",
    "grouped_data1= {}\n",
    "for i in grouped_data.keys():\n",
    "    grouped_data[i] = flag_convert(grouped_data[i])\n",
    "   # grouped_data[i] =  drop_columns(grouped_data[i])\n",
    "grouped_data, num = normal_profile(grouped_data)\n",
    "for i in grouped_data.keys():\n",
    "   # grouped_data[i] = flag_convert(grouped_data[i])\n",
    "    grouped_data[i] =  drop_columns(grouped_data[i])"
   ]
  },
  {
   "cell_type": "code",
   "execution_count": 28,
   "metadata": {},
   "outputs": [
    {
     "name": "stdout",
     "output_type": "stream",
     "text": [
      "1 : False\n",
      "10 : False\n",
      "11 : False\n",
      "12 : False\n",
      "13 : False\n",
      "14 : False\n",
      "15 : False\n",
      "17 : False\n",
      "19 : False\n",
      "2 : False\n",
      "20 : False\n",
      "21 : False\n",
      "22 : False\n",
      "24 : False\n",
      "25 : False\n",
      "27 : False\n",
      "29 : False\n",
      "30 : False\n",
      "32 : False\n",
      "33 : False\n",
      "34 : False\n",
      "35 : False\n",
      "36 : False\n",
      "38 : False\n",
      "39 : False\n",
      "40 : False\n",
      "41 : False\n",
      "43 : False\n",
      "47 : False\n",
      "48 : False\n",
      "49 : False\n",
      "5 : False\n",
      "50 : False\n",
      "51 : False\n",
      "52 : False\n",
      "54 : False\n",
      "55 : False\n",
      "56 : False\n",
      "57 : False\n",
      "58 : False\n",
      "61 : False\n",
      "62 : False\n",
      "64 : False\n",
      "65 : False\n",
      "66 : False\n",
      "67 : False\n",
      "68 : False\n",
      "69 : False\n",
      "7 : False\n",
      "70 : False\n",
      "71 : False\n",
      "72 : False\n",
      "73 : False\n",
      "74 : False\n",
      "75 : False\n",
      "76 : False\n",
      "77 : False\n",
      "78 : False\n",
      "79 : False\n",
      "8 : False\n",
      "80 : False\n",
      "81 : False\n",
      "82 : False\n",
      "83 : False\n",
      "84 : False\n",
      "85 : False\n",
      "86 : False\n",
      "87 : False\n",
      "88 : False\n",
      "89 : False\n",
      "90 : False\n",
      "91 : False\n",
      "92 : False\n",
      "(1489536076632, 1489546876632] : False\n",
      "(1489546876632, 1489557676632] : False\n",
      "(1489557676632, 1489568476632] : False\n",
      "(1489568476632, 1489579276632] : False\n",
      "(1489579276632, 1489590076632] : False\n",
      "(1489590076632, 1489600876632] : False\n",
      "(1489600876632, 1489611676632] : False\n",
      "(1489611676632, 1489622476632] : False\n",
      "(1489622476632, 1489633276632] : False\n",
      "(1489633276632, 1489644076632] : False\n",
      "(1489644076632, 1489654876632] : False\n",
      "(1489654876632, 1489665676632] : False\n",
      "(1489665676632, 1489676476632] : False\n",
      "(1489676476632, 1489687276632] : False\n",
      "(1489687276632, 1489698076632] : False\n",
      "(1489698076632, 1489708876632] : False\n",
      "(1489708876632, 1489719676632] : False\n",
      "(1489719676632, 1489730476632] : False\n",
      "(1489730476632, 1489741276632] : False\n",
      "(1489741276632, 1489752076632] : False\n",
      "(1489752076632, 1489762876632] : False\n",
      "(1489762876632, 1489773676632] : False\n",
      "(1489773676632, 1489784476632] : False\n",
      "(1489784476632, 1489795276632] : False\n",
      "(1489795276632, 1489806076632] : False\n",
      "(1489806076632, 1489816876632] : False\n",
      "(1489816876632, 1489827676632] : False\n",
      "(1489827676632, 1489838476632] : False\n",
      "(1489838476632, 1489849276632] : False\n",
      "(1489849276632, 1489860076632] : False\n",
      "(1489860076632, 1489870876632] : False\n",
      "(1489870876632, 1489881676632] : False\n",
      "(1489881676632, 1489892476632] : False\n",
      "(1489892476632, 1489903276632] : False\n",
      "(1489903276632, 1489914076632] : False\n",
      "(1489914076632, 1489924876632] : False\n",
      "(1489924876632, 1489935676632] : False\n",
      "(1489935676632, 1489946476632] : False\n",
      "(1489946476632, 1489957276632] : False\n",
      "(1489957276632, 1489968076632] : False\n",
      "(1489968076632, 1489978876632] : False\n",
      "(1489978876632, 1489989676632] : False\n",
      "(1489989676632, 1490000476632] : False\n",
      "(1490000476632, 1490011276632] : False\n",
      "(1490011276632, 1490022076632] : False\n",
      "(1490022076632, 1490032876632] : False\n",
      "(1490032876632, 1490043676632] : False\n",
      "(1490043676632, 1490054476632] : False\n",
      "(1490054476632, 1490065276632] : False\n",
      "(1490065276632, 1490076076632] : False\n",
      "(1490076076632, 1490086876632] : False\n",
      "(1490086876632, 1490097676632] : False\n",
      "(1490097676632, 1490108476632] : False\n",
      "(1490108476632, 1490119276632] : False\n",
      "(1490119276632, 1490130076632] : False\n",
      "(1490130076632, 1490140876632] : False\n",
      "(1490140876632, 1490151676632] : False\n",
      "(1490151676632, 1490162476632] : False\n",
      "(1490162476632, 1490173276632] : False\n",
      "(1490173276632, 1490184076632] : False\n",
      "(1490184076632, 1490194876632] : False\n",
      "(1490194876632, 1490205676632] : False\n",
      "(1490205676632, 1490216476632] : False\n",
      "(1490216476632, 1490227276632] : False\n",
      "(1490227276632, 1490238076632] : False\n",
      "(1490238076632, 1490248876632] : False\n",
      "(1490248876632, 1490259676632] : False\n",
      "(1490259676632, 1490270476632] : False\n",
      "(1490270476632, 1490281276632] : False\n",
      "(1490281276632, 1490292076632] : False\n",
      "(1490292076632, 1490302876632] : False\n",
      "(1490302876632, 1490313676632] : False\n",
      "(1490313676632, 1490324476632] : False\n",
      "(1490324476632, 1490335276632] : False\n",
      "(1490335276632, 1490346076632] : False\n",
      "(1490346076632, 1490356876632] : False\n",
      "(1490356876632, 1490367676632] : False\n",
      "(1490367676632, 1490378476632] : False\n",
      "(1490378476632, 1490389276632] : False\n",
      "(1490389276632, 1490400076632] : False\n",
      "(1490400076632, 1490410876632] : False\n",
      "(1490410876632, 1490421676632] : False\n",
      "(1490421676632, 1490432476632] : False\n",
      "(1490432476632, 1490443276632] : False\n",
      "(1490443276632, 1490454076632] : False\n",
      "(1490454076632, 1490464876632] : False\n",
      "(1490464876632, 1490475676632] : False\n",
      "(1490475676632, 1490486476632] : False\n",
      "(1490486476632, 1490497276632] : False\n",
      "(1490497276632, 1490508076632] : False\n",
      "(1490508076632, 1490518876632] : False\n",
      "(1490518876632, 1490529676632] : False\n",
      "(1490529676632, 1490540476632] : False\n",
      "(1490540476632, 1490551276632] : False\n",
      "(1490551276632, 1490562076632] : False\n",
      "(1490562076632, 1490572876632] : False\n",
      "(1490572876632, 1490583676632] : False\n",
      "(1490583676632, 1490594476632] : False\n",
      "(1490594476632, 1490605276632] : False\n",
      "(1490605276632, 1490616076632] : False\n",
      "(1490616076632, 1490626876632] : False\n",
      "(1490626876632, 1490637676632] : False\n",
      "(1490637676632, 1490648476632] : False\n",
      "(1490648476632, 1490659276632] : False\n",
      "(1490659276632, 1490670076632] : False\n",
      "(1490670076632, 1490680876632] : False\n",
      "(1490680876632, 1490691676632] : False\n",
      "(1490691676632, 1490702476632] : False\n",
      "(1490702476632, 1490713276632] : False\n",
      "(1490713276632, 1490724076632] : False\n",
      "(1490724076632, 1490734876632] : False\n",
      "(1490734876632, 1490745676632] : False\n",
      "(1490745676632, 1490756476632] : False\n",
      "(1490756476632, 1490767276632] : False\n",
      "(1490767276632, 1490778076632] : False\n",
      "(1490778076632, 1490788876632] : False\n",
      "(1490788876632, 1490799676632] : False\n",
      "(1490799676632, 1490810476632] : False\n",
      "(1490810476632, 1490821276632] : False\n",
      "(1490821276632, 1490832076632] : False\n",
      "(1490832076632, 1490842876632] : False\n",
      "(1490842876632, 1490853676632] : False\n",
      "(1490853676632, 1490864476632] : False\n",
      "(1490864476632, 1490875276632] : False\n",
      "(1490875276632, 1490886076632] : False\n",
      "(1490886076632, 1490896876632] : False\n",
      "(1490896876632, 1490907676632] : False\n",
      "(1490907676632, 1490918476632] : False\n",
      "(1490918476632, 1490929276632] : False\n",
      "(1490929276632, 1490940076632] : False\n",
      "(1490940076632, 1490950876632] : False\n",
      "(1490950876632, 1490961676632] : False\n",
      "(1490961676632, 1490972476632] : False\n",
      "(1490972476632, 1490983276632] : False\n",
      "(1490983276632, 1490994076632] : False\n",
      "(1490994076632, 1491004876632] : False\n",
      "(1491004876632, 1491015676632] : False\n",
      "(1491015676632, 1491026476632] : False\n",
      "(1491026476632, 1491037276632] : False\n",
      "(1491037276632, 1491048076632] : False\n",
      "(1491048076632, 1491058876632] : False\n",
      "(1491058876632, 1491069676632] : False\n",
      "(1491069676632, 1491080476632] : False\n",
      "(1491080476632, 1491091276632] : False\n",
      "(1491091276632, 1491102076632] : False\n",
      "(1491102076632, 1491112876632] : False\n",
      "(1491112876632, 1491123676632] : False\n",
      "(1491123676632, 1491134476632] : False\n",
      "(1491134476632, 1491145276632] : False\n",
      "(1491145276632, 1491156076632] : False\n",
      "(1491156076632, 1491166876632] : False\n",
      "(1491166876632, 1491177676632] : False\n",
      "(1491177676632, 1491188476632] : False\n",
      "(1491188476632, 1491199276632] : False\n",
      "(1491199276632, 1491210076632] : False\n",
      "(1491210076632, 1491220876632] : False\n",
      "(1491220876632, 1491231676632] : False\n",
      "(1491231676632, 1491242476632] : False\n",
      "(1491242476632, 1491253276632] : False\n",
      "(1491253276632, 1491264076632] : False\n",
      "(1491264076632, 1491274876632] : False\n",
      "(1491274876632, 1491285676632] : False\n",
      "(1491285676632, 1491296476632] : False\n",
      "(1491296476632, 1491307276632] : False\n",
      "(1491307276632, 1491318076632] : False\n",
      "(1491318076632, 1491328876632] : False\n",
      "(1491328876632, 1491339676632] : False\n",
      "(1491339676632, 1491350476632] : False\n",
      "(1491350476632, 1491361276632] : False\n",
      "(1491361276632, 1491372076632] : False\n",
      "(1491372076632, 1491382876632] : False\n",
      "(1491382876632, 1491393676632] : False\n",
      "(1491393676632, 1491404476632] : False\n",
      "(1491404476632, 1491415276632] : False\n",
      "(1491415276632, 1491426076632] : False\n",
      "(1491426076632, 1491436876632] : False\n",
      "(1491436876632, 1491447676632] : False\n",
      "(1491447676632, 1491458476632] : False\n",
      "(1491458476632, 1491469276632] : False\n",
      "(1491469276632, 1491480076632] : False\n",
      "(1491480076632, 1491490876632] : False\n",
      "(1491490876632, 1491501676632] : False\n",
      "(1491501676632, 1491512476632] : False\n",
      "(1491512476632, 1491523276632] : False\n",
      "(1491523276632, 1491534076632] : False\n",
      "(1491534076632, 1491544876632] : False\n",
      "(1491544876632, 1491555676632] : False\n",
      "(1491555676632, 1491566476632] : False\n",
      "(1491566476632, 1491577276632] : False\n",
      "(1491577276632, 1491588076632] : False\n",
      "(1491588076632, 1491598876632] : False\n",
      "(1491598876632, 1491609676632] : False\n",
      "(1491609676632, 1491620476632] : False\n",
      "(1491620476632, 1491631276632] : False\n",
      "(1491631276632, 1491642076632] : False\n",
      "(1491642076632, 1491652876632] : False\n",
      "(1491652876632, 1491663676632] : False\n",
      "(1491663676632, 1491674476632] : False\n",
      "(1491674476632, 1491685276632] : False\n",
      "(1491685276632, 1491696076632] : False\n",
      "(1491696076632, 1491706876632] : False\n",
      "(1491706876632, 1491717676632] : False\n",
      "(1491717676632, 1491728476632] : False\n",
      "(1491728476632, 1491739276632] : False\n",
      "(1491739276632, 1491750076632] : False\n",
      "(1491750076632, 1491760876632] : False\n",
      "(1491760876632, 1491771676632] : False\n",
      "(1491771676632, 1491782476632] : False\n",
      "(1491782476632, 1491793276632] : False\n",
      "(1491793276632, 1491804076632] : False\n",
      "(1491804076632, 1491814876632] : False\n",
      "(1491814876632, 1491825676632] : False\n",
      "(1491825676632, 1491836476632] : False\n",
      "(1491836476632, 1491847276632] : False\n",
      "(1491847276632, 1491858076632] : False\n",
      "(1491858076632, 1491868876632] : False\n",
      "(1491868876632, 1491879676632] : False\n",
      "(1491879676632, 1491890476632] : False\n",
      "(1491890476632, 1491901276632] : False\n",
      "(1491901276632, 1491912076632] : False\n",
      "(1491912076632, 1491922876632] : False\n",
      "(1491922876632, 1491933676632] : False\n",
      "(1491933676632, 1491944476632] : False\n",
      "(1491944476632, 1491955276632] : False\n",
      "(1491955276632, 1491966076632] : False\n",
      "(1491966076632, 1491976876632] : False\n",
      "(1491976876632, 1491987676632] : False\n",
      "(1491987676632, 1491998476632] : False\n",
      "(1491998476632, 1492009276632] : False\n",
      "(1492009276632, 1492020076632] : False\n",
      "(1492020076632, 1492030876632] : False\n",
      "(1492030876632, 1492041676632] : False\n",
      "(1492041676632, 1492052476632] : False\n",
      "(1492052476632, 1492063276632] : False\n",
      "(1492063276632, 1492074076632] : False\n",
      "(1492074076632, 1492084876632] : False\n"
     ]
    },
    {
     "name": "stdout",
     "output_type": "stream",
     "text": [
      "(1492084876632, 1492095676632] : False\n",
      "(1492095676632, 1492106476632] : False\n",
      "(1492106476632, 1492117276632] : False\n",
      "(1492117276632, 1492128076632] : False\n",
      "(1492128076632, 1492138876632] : False\n",
      "(1492138876632, 1492149676632] : False\n",
      "(1492149676632, 1492160476632] : False\n",
      "(1492160476632, 1492171276632] : False\n",
      "(1492171276632, 1492182076632] : False\n",
      "(1492182076632, 1492192876632] : False\n",
      "(1492192876632, 1492203676632] : False\n",
      "(1492203676632, 1492214476632] : False\n",
      "(1492214476632, 1492225276632] : False\n",
      "(1492225276632, 1492236076632] : False\n",
      "(1492236076632, 1492246876632] : False\n",
      "(1492246876632, 1492257676632] : False\n",
      "(1492257676632, 1492268476632] : False\n",
      "(1492268476632, 1492279276632] : False\n",
      "(1492279276632, 1492290076632] : False\n",
      "(1492290076632, 1492300876632] : False\n",
      "(1492300876632, 1492311676632] : False\n",
      "(1492311676632, 1492322476632] : False\n",
      "(1492322476632, 1492333276632] : False\n",
      "(1492333276632, 1492344076632] : False\n",
      "(1492344076632, 1492354876632] : False\n",
      "(1492354876632, 1492365676632] : False\n",
      "(1492365676632, 1492376476632] : False\n",
      "(1492376476632, 1492387276632] : False\n",
      "(1492387276632, 1492398076632] : False\n",
      "(1492398076632, 1492408876632] : False\n",
      "(1492408876632, 1492419676632] : False\n",
      "(1492419676632, 1492430476632] : False\n",
      "(1492430476632, 1492441276632] : False\n",
      "(1492441276632, 1492452076632] : False\n",
      "(1492452076632, 1492462876632] : False\n",
      "(1492462876632, 1492473676632] : False\n",
      "(1492473676632, 1492484476632] : False\n",
      "(1492484476632, 1492495276632] : False\n",
      "(1492495276632, 1492506076632] : False\n",
      "(1492506076632, 1492516876632] : False\n",
      "(1492516876632, 1492527676632] : False\n"
     ]
    }
   ],
   "source": [
    "for i in grouped_data.keys():\n",
    "    #if (grouped_data[i].hasnull())\n",
    "    print(f'{i} : {grouped_data[i].isnull().values.any()}')"
   ]
  },
  {
   "cell_type": "code",
   "execution_count": 29,
   "metadata": {},
   "outputs": [
    {
     "name": "stdout",
     "output_type": "stream",
     "text": [
      "Number of Instances which are empty: 167\n"
     ]
    }
   ],
   "source": [
    "counter = 0\n",
    "for i in grouped_data.keys():\n",
    "    if ( len(grouped_data[i]) == 0):\n",
    "        counter = counter +1;\n",
    "print(f\"Number of Instances which are empty: {counter}\")"
   ]
  },
  {
   "cell_type": "code",
   "execution_count": 30,
   "metadata": {},
   "outputs": [],
   "source": [
    "def roundup(x):\n",
    "    return x if x % 100 == 0 else x + 100 - x % 100\n",
    "#Convert to 3D arrays, input dict\n",
    "def make_array(dic):\n",
    "    x = []\n",
    "    y = []\n",
    "    zero_arrays = []\n",
    "    for i in dic.keys():\n",
    "        if ( len(dic[i]) == 0):\n",
    "            zero_arrays.append(i);\n",
    "    for i in zero_arrays:\n",
    "        del dic[i]\n",
    "    for i in dic.keys():\n",
    "        x.append(np.array(dic[i].drop(['attackType'],axis = 1)).astype(np.float32))\n",
    "       # print(f'{i}')\n",
    "        y.append(dic[i]['attackType'].values[0])\n",
    "    print(len(y))\n",
    "    o = []\n",
    "    features = len(x[1][1])\n",
    "    #for i in x:\n",
    "     #   o.append(len(i))\n",
    "   # print(min(o))\n",
    "    o = num\n",
    "    o = roundup(o)\n",
    "    print(o)\n",
    "    index = 0\n",
    "    for i in x:\n",
    "        l = len(i)\n",
    "        i = list(i)\n",
    "        if(o > l):\n",
    "            l = o-l\n",
    "            for j in range(0, l, 1):\n",
    "                i.append([0] * features)\n",
    "        elif (o<l):\n",
    "            l = l-o\n",
    "            i = i[:-l]\n",
    "        #i = [k = np.array([k]) for l in i for k in l] # Makes array elements an array \n",
    "        x[index] = np.array(i).astype(np.float32)\n",
    "        index = index + 1\n",
    "    #x = [[i] for i in x]\n",
    "    return x,y"
   ]
  },
  {
   "cell_type": "code",
   "execution_count": 31,
   "metadata": {},
   "outputs": [],
   "source": [
    "#Remove columns that were not listed in cfs list\n",
    "selected_features = ['Bytes', 'sourceIP_feature 4', 'Src Pt', 'Dst Pt', 'destIP_feature 4',\n",
    "       'Duration', 'Packets', 'S', 'F', 'sourceIP_feature 3',\n",
    "       'destIP_feature 3', 'attackType']\n",
    "for i in grouped_data.keys():\n",
    "    if ( len(grouped_data[i]) != 0):\n",
    "        grouped_data[i] = grouped_data[i][selected_features]"
   ]
  },
  {
   "cell_type": "code",
   "execution_count": 32,
   "metadata": {},
   "outputs": [
    {
     "name": "stdout",
     "output_type": "stream",
     "text": [
      "1 : False\n",
      "10 : False\n",
      "11 : False\n",
      "12 : False\n",
      "13 : False\n",
      "14 : False\n",
      "15 : False\n",
      "17 : False\n",
      "19 : False\n",
      "2 : False\n",
      "20 : False\n",
      "21 : False\n",
      "22 : False\n",
      "24 : False\n",
      "25 : False\n",
      "27 : False\n",
      "29 : False\n",
      "30 : False\n",
      "32 : False\n",
      "33 : False\n",
      "34 : False\n",
      "35 : False\n",
      "36 : False\n",
      "38 : False\n",
      "39 : False\n",
      "40 : False\n",
      "41 : False\n",
      "43 : False\n",
      "47 : False\n",
      "48 : False\n",
      "49 : False\n",
      "5 : False\n",
      "50 : False\n",
      "51 : False\n",
      "52 : False\n",
      "54 : False\n",
      "55 : False\n",
      "56 : False\n",
      "57 : False\n",
      "58 : False\n",
      "61 : False\n",
      "62 : False\n",
      "64 : False\n",
      "65 : False\n",
      "66 : False\n",
      "67 : False\n",
      "68 : False\n",
      "69 : False\n",
      "7 : False\n",
      "70 : False\n",
      "71 : False\n",
      "72 : False\n",
      "73 : False\n",
      "74 : False\n",
      "75 : False\n",
      "76 : False\n",
      "77 : False\n",
      "78 : False\n",
      "79 : False\n",
      "8 : False\n",
      "80 : False\n",
      "81 : False\n",
      "82 : False\n",
      "83 : False\n",
      "84 : False\n",
      "85 : False\n",
      "86 : False\n",
      "87 : False\n",
      "88 : False\n",
      "89 : False\n",
      "90 : False\n",
      "91 : False\n",
      "92 : False\n",
      "(1489536076632, 1489546876632] : False\n",
      "(1489546876632, 1489557676632] : False\n",
      "(1489557676632, 1489568476632] : False\n",
      "(1489568476632, 1489579276632] : False\n",
      "(1489579276632, 1489590076632] : False\n",
      "(1489590076632, 1489600876632] : False\n",
      "(1489600876632, 1489611676632] : False\n",
      "(1489611676632, 1489622476632] : False\n",
      "(1489622476632, 1489633276632] : False\n",
      "(1489633276632, 1489644076632] : False\n",
      "(1489644076632, 1489654876632] : False\n",
      "(1489654876632, 1489665676632] : False\n",
      "(1489665676632, 1489676476632] : False\n",
      "(1489676476632, 1489687276632] : False\n",
      "(1489687276632, 1489698076632] : False\n",
      "(1489698076632, 1489708876632] : False\n",
      "(1489708876632, 1489719676632] : False\n",
      "(1489719676632, 1489730476632] : False\n",
      "(1489730476632, 1489741276632] : False\n",
      "(1489741276632, 1489752076632] : False\n",
      "(1489752076632, 1489762876632] : False\n",
      "(1489762876632, 1489773676632] : False\n",
      "(1489773676632, 1489784476632] : False\n",
      "(1489784476632, 1489795276632] : False\n",
      "(1489795276632, 1489806076632] : False\n",
      "(1489806076632, 1489816876632] : False\n",
      "(1489816876632, 1489827676632] : False\n",
      "(1489827676632, 1489838476632] : False\n",
      "(1489838476632, 1489849276632] : False\n",
      "(1489849276632, 1489860076632] : False\n",
      "(1489860076632, 1489870876632] : False\n",
      "(1489870876632, 1489881676632] : False\n",
      "(1489881676632, 1489892476632] : False\n",
      "(1489892476632, 1489903276632] : False\n",
      "(1489903276632, 1489914076632] : False\n",
      "(1489914076632, 1489924876632] : False\n",
      "(1489924876632, 1489935676632] : False\n",
      "(1489935676632, 1489946476632] : False\n",
      "(1489946476632, 1489957276632] : False\n",
      "(1489957276632, 1489968076632] : False\n",
      "(1489968076632, 1489978876632] : False\n",
      "(1489978876632, 1489989676632] : False\n",
      "(1489989676632, 1490000476632] : False\n",
      "(1490000476632, 1490011276632] : False\n",
      "(1490011276632, 1490022076632] : False\n",
      "(1490022076632, 1490032876632] : False\n",
      "(1490032876632, 1490043676632] : False\n",
      "(1490043676632, 1490054476632] : False\n",
      "(1490054476632, 1490065276632] : False\n",
      "(1490065276632, 1490076076632] : False\n",
      "(1490076076632, 1490086876632] : False\n",
      "(1490086876632, 1490097676632] : False\n",
      "(1490097676632, 1490108476632] : False\n",
      "(1490108476632, 1490119276632] : False\n",
      "(1490119276632, 1490130076632] : False\n",
      "(1490130076632, 1490140876632] : False\n",
      "(1490140876632, 1490151676632] : False\n",
      "(1490151676632, 1490162476632] : False\n",
      "(1490162476632, 1490173276632] : False\n",
      "(1490173276632, 1490184076632] : False\n",
      "(1490184076632, 1490194876632] : False\n",
      "(1490194876632, 1490205676632] : False\n",
      "(1490205676632, 1490216476632] : False\n",
      "(1490216476632, 1490227276632] : False\n",
      "(1490227276632, 1490238076632] : False\n",
      "(1490238076632, 1490248876632] : False\n",
      "(1490248876632, 1490259676632] : False\n",
      "(1490259676632, 1490270476632] : False\n",
      "(1490270476632, 1490281276632] : False\n",
      "(1490281276632, 1490292076632] : False\n",
      "(1490292076632, 1490302876632] : False\n",
      "(1490302876632, 1490313676632] : False\n",
      "(1490313676632, 1490324476632] : False\n",
      "(1490324476632, 1490335276632] : False\n",
      "(1490335276632, 1490346076632] : False\n",
      "(1490346076632, 1490356876632] : False\n",
      "(1490356876632, 1490367676632] : False\n",
      "(1490367676632, 1490378476632] : False\n",
      "(1490378476632, 1490389276632] : False\n",
      "(1490389276632, 1490400076632] : False\n",
      "(1490400076632, 1490410876632] : False\n",
      "(1490410876632, 1490421676632] : False\n",
      "(1490421676632, 1490432476632] : False\n",
      "(1490432476632, 1490443276632] : False\n",
      "(1490443276632, 1490454076632] : False\n",
      "(1490454076632, 1490464876632] : False\n",
      "(1490464876632, 1490475676632] : False\n",
      "(1490475676632, 1490486476632] : False\n",
      "(1490486476632, 1490497276632] : False\n",
      "(1490497276632, 1490508076632] : False\n",
      "(1490508076632, 1490518876632] : False\n",
      "(1490518876632, 1490529676632] : False\n",
      "(1490529676632, 1490540476632] : False\n",
      "(1490540476632, 1490551276632] : False\n",
      "(1490551276632, 1490562076632] : False\n",
      "(1490562076632, 1490572876632] : False\n",
      "(1490572876632, 1490583676632] : False\n",
      "(1490583676632, 1490594476632] : False\n",
      "(1490594476632, 1490605276632] : False\n",
      "(1490605276632, 1490616076632] : False\n",
      "(1490616076632, 1490626876632] : False\n",
      "(1490626876632, 1490637676632] : False\n",
      "(1490637676632, 1490648476632] : False\n",
      "(1490648476632, 1490659276632] : False\n",
      "(1490659276632, 1490670076632] : False\n",
      "(1490670076632, 1490680876632] : False\n",
      "(1490680876632, 1490691676632] : False\n",
      "(1490691676632, 1490702476632] : False\n",
      "(1490702476632, 1490713276632] : False\n",
      "(1490713276632, 1490724076632] : False\n",
      "(1490724076632, 1490734876632] : False\n",
      "(1490734876632, 1490745676632] : False\n",
      "(1490745676632, 1490756476632] : False\n",
      "(1490756476632, 1490767276632] : False\n",
      "(1490767276632, 1490778076632] : False\n",
      "(1490778076632, 1490788876632] : False\n",
      "(1490788876632, 1490799676632] : False\n",
      "(1490799676632, 1490810476632] : False\n",
      "(1490810476632, 1490821276632] : False\n",
      "(1490821276632, 1490832076632] : False\n",
      "(1490832076632, 1490842876632] : False\n",
      "(1490842876632, 1490853676632] : False\n",
      "(1490853676632, 1490864476632] : False\n",
      "(1490864476632, 1490875276632] : False\n",
      "(1490875276632, 1490886076632] : False\n",
      "(1490886076632, 1490896876632] : False\n",
      "(1490896876632, 1490907676632] : False\n",
      "(1490907676632, 1490918476632] : False\n",
      "(1490918476632, 1490929276632] : False\n",
      "(1490929276632, 1490940076632] : False\n",
      "(1490940076632, 1490950876632] : False\n",
      "(1490950876632, 1490961676632] : False\n",
      "(1490961676632, 1490972476632] : False\n",
      "(1490972476632, 1490983276632] : False\n",
      "(1490983276632, 1490994076632] : False\n",
      "(1490994076632, 1491004876632] : False\n",
      "(1491004876632, 1491015676632] : False\n",
      "(1491015676632, 1491026476632] : False\n",
      "(1491026476632, 1491037276632] : False\n",
      "(1491037276632, 1491048076632] : False\n",
      "(1491048076632, 1491058876632] : False\n",
      "(1491058876632, 1491069676632] : False\n",
      "(1491069676632, 1491080476632] : False\n",
      "(1491080476632, 1491091276632] : False\n",
      "(1491091276632, 1491102076632] : False\n",
      "(1491102076632, 1491112876632] : False\n",
      "(1491112876632, 1491123676632] : False\n",
      "(1491123676632, 1491134476632] : False\n",
      "(1491134476632, 1491145276632] : False\n",
      "(1491145276632, 1491156076632] : False\n",
      "(1491156076632, 1491166876632] : False\n",
      "(1491166876632, 1491177676632] : False\n",
      "(1491177676632, 1491188476632] : False\n",
      "(1491188476632, 1491199276632] : False\n",
      "(1491199276632, 1491210076632] : False\n",
      "(1491210076632, 1491220876632] : False\n",
      "(1491220876632, 1491231676632] : False\n",
      "(1491231676632, 1491242476632] : False\n",
      "(1491242476632, 1491253276632] : False\n",
      "(1491253276632, 1491264076632] : False\n",
      "(1491264076632, 1491274876632] : False\n",
      "(1491274876632, 1491285676632] : False\n",
      "(1491285676632, 1491296476632] : False\n",
      "(1491296476632, 1491307276632] : False\n",
      "(1491307276632, 1491318076632] : False\n",
      "(1491318076632, 1491328876632] : False\n",
      "(1491328876632, 1491339676632] : False\n",
      "(1491339676632, 1491350476632] : False\n",
      "(1491350476632, 1491361276632] : False\n",
      "(1491361276632, 1491372076632] : False\n",
      "(1491372076632, 1491382876632] : False\n",
      "(1491382876632, 1491393676632] : False\n",
      "(1491393676632, 1491404476632] : False\n",
      "(1491404476632, 1491415276632] : False\n",
      "(1491415276632, 1491426076632] : False\n",
      "(1491426076632, 1491436876632] : False\n",
      "(1491436876632, 1491447676632] : False\n",
      "(1491447676632, 1491458476632] : False\n",
      "(1491458476632, 1491469276632] : False\n",
      "(1491469276632, 1491480076632] : False\n",
      "(1491480076632, 1491490876632] : False\n",
      "(1491490876632, 1491501676632] : False\n",
      "(1491501676632, 1491512476632] : False\n",
      "(1491512476632, 1491523276632] : False\n",
      "(1491523276632, 1491534076632] : False\n",
      "(1491534076632, 1491544876632] : False\n",
      "(1491544876632, 1491555676632] : False\n",
      "(1491555676632, 1491566476632] : False\n",
      "(1491566476632, 1491577276632] : False\n",
      "(1491577276632, 1491588076632] : False\n",
      "(1491588076632, 1491598876632] : False\n",
      "(1491598876632, 1491609676632] : False\n",
      "(1491609676632, 1491620476632] : False\n",
      "(1491620476632, 1491631276632] : False\n",
      "(1491631276632, 1491642076632] : False\n",
      "(1491642076632, 1491652876632] : False\n",
      "(1491652876632, 1491663676632] : False\n",
      "(1491663676632, 1491674476632] : False\n",
      "(1491674476632, 1491685276632] : False\n",
      "(1491685276632, 1491696076632] : False\n",
      "(1491696076632, 1491706876632] : False\n",
      "(1491706876632, 1491717676632] : False\n",
      "(1491717676632, 1491728476632] : False\n",
      "(1491728476632, 1491739276632] : False\n",
      "(1491739276632, 1491750076632] : False\n",
      "(1491750076632, 1491760876632] : False\n",
      "(1491760876632, 1491771676632] : False\n",
      "(1491771676632, 1491782476632] : False\n",
      "(1491782476632, 1491793276632] : False\n",
      "(1491793276632, 1491804076632] : False\n"
     ]
    },
    {
     "name": "stdout",
     "output_type": "stream",
     "text": [
      "(1491804076632, 1491814876632] : False\n",
      "(1491814876632, 1491825676632] : False\n",
      "(1491825676632, 1491836476632] : False\n",
      "(1491836476632, 1491847276632] : False\n",
      "(1491847276632, 1491858076632] : False\n",
      "(1491858076632, 1491868876632] : False\n",
      "(1491868876632, 1491879676632] : False\n",
      "(1491879676632, 1491890476632] : False\n",
      "(1491890476632, 1491901276632] : False\n",
      "(1491901276632, 1491912076632] : False\n",
      "(1491912076632, 1491922876632] : False\n",
      "(1491922876632, 1491933676632] : False\n",
      "(1491933676632, 1491944476632] : False\n",
      "(1491944476632, 1491955276632] : False\n",
      "(1491955276632, 1491966076632] : False\n",
      "(1491966076632, 1491976876632] : False\n",
      "(1491976876632, 1491987676632] : False\n",
      "(1491987676632, 1491998476632] : False\n",
      "(1491998476632, 1492009276632] : False\n",
      "(1492009276632, 1492020076632] : False\n",
      "(1492020076632, 1492030876632] : False\n",
      "(1492030876632, 1492041676632] : False\n",
      "(1492041676632, 1492052476632] : False\n",
      "(1492052476632, 1492063276632] : False\n",
      "(1492063276632, 1492074076632] : False\n",
      "(1492074076632, 1492084876632] : False\n",
      "(1492084876632, 1492095676632] : False\n",
      "(1492095676632, 1492106476632] : False\n",
      "(1492106476632, 1492117276632] : False\n",
      "(1492117276632, 1492128076632] : False\n",
      "(1492128076632, 1492138876632] : False\n",
      "(1492138876632, 1492149676632] : False\n",
      "(1492149676632, 1492160476632] : False\n",
      "(1492160476632, 1492171276632] : False\n",
      "(1492171276632, 1492182076632] : False\n",
      "(1492182076632, 1492192876632] : False\n",
      "(1492192876632, 1492203676632] : False\n",
      "(1492203676632, 1492214476632] : False\n",
      "(1492214476632, 1492225276632] : False\n",
      "(1492225276632, 1492236076632] : False\n",
      "(1492236076632, 1492246876632] : False\n",
      "(1492246876632, 1492257676632] : False\n",
      "(1492257676632, 1492268476632] : False\n",
      "(1492268476632, 1492279276632] : False\n",
      "(1492279276632, 1492290076632] : False\n",
      "(1492290076632, 1492300876632] : False\n",
      "(1492300876632, 1492311676632] : False\n",
      "(1492311676632, 1492322476632] : False\n",
      "(1492322476632, 1492333276632] : False\n",
      "(1492333276632, 1492344076632] : False\n",
      "(1492344076632, 1492354876632] : False\n",
      "(1492354876632, 1492365676632] : False\n",
      "(1492365676632, 1492376476632] : False\n",
      "(1492376476632, 1492387276632] : False\n",
      "(1492387276632, 1492398076632] : False\n",
      "(1492398076632, 1492408876632] : False\n",
      "(1492408876632, 1492419676632] : False\n",
      "(1492419676632, 1492430476632] : False\n",
      "(1492430476632, 1492441276632] : False\n",
      "(1492441276632, 1492452076632] : False\n",
      "(1492452076632, 1492462876632] : False\n",
      "(1492462876632, 1492473676632] : False\n",
      "(1492473676632, 1492484476632] : False\n",
      "(1492484476632, 1492495276632] : False\n",
      "(1492495276632, 1492506076632] : False\n",
      "(1492506076632, 1492516876632] : False\n",
      "(1492516876632, 1492527676632] : False\n"
     ]
    }
   ],
   "source": [
    "for i in grouped_data.keys():\n",
    "    #if (grouped_data[i].hasnull())\n",
    "    print(f'{i} : {grouped_data[i].isnull().values.any()}')"
   ]
  },
  {
   "cell_type": "code",
   "execution_count": 33,
   "metadata": {},
   "outputs": [
    {
     "name": "stdout",
     "output_type": "stream",
     "text": [
      "183\n",
      "19800\n"
     ]
    }
   ],
   "source": [
    "X,Y = make_array(grouped_data)\n",
    "del grouped_data\n",
    "gc.collect()\n",
    "Y = np.array(Y)\n",
    "X = np.array(X)"
   ]
  },
  {
   "cell_type": "code",
   "execution_count": 34,
   "metadata": {},
   "outputs": [
    {
     "data": {
      "text/plain": [
       "{0: 110, 1: 73}"
      ]
     },
     "execution_count": 34,
     "metadata": {},
     "output_type": "execute_result"
    }
   ],
   "source": [
    "unique, counts = np.unique(Y, return_counts=True)\n",
    "dict(zip(unique, counts))"
   ]
  },
  {
   "cell_type": "code",
   "execution_count": 35,
   "metadata": {},
   "outputs": [],
   "source": [
    "def make_4D(arr):\n",
    "    x = []\n",
    "    for i in range(0, len(arr),1):\n",
    "        temp = []\n",
    "        for j in range(0,len(arr[i]),1):\n",
    "             temp.append([np.array([k]) for k in arr[i][j]])\n",
    "        x.append(np.array(temp).astype(np.float32))\n",
    "    return np.array(x).astype(np.float32)"
   ]
  },
  {
   "cell_type": "code",
   "execution_count": 36,
   "metadata": {},
   "outputs": [],
   "source": [
    "X = make_4D(X)"
   ]
  },
  {
   "cell_type": "code",
   "execution_count": 37,
   "metadata": {},
   "outputs": [],
   "source": [
    "from sklearn.model_selection import train_test_split\n",
    "from sklearn.tree import DecisionTreeClassifier\n",
    "X_train, X_test, Y_train, Y_test = train_test_split(X,Y , test_size=0.2, random_state=0,  stratify=Y)"
   ]
  },
  {
   "cell_type": "code",
   "execution_count": 38,
   "metadata": {},
   "outputs": [
    {
     "data": {
      "text/plain": [
       "40"
      ]
     },
     "execution_count": 38,
     "metadata": {},
     "output_type": "execute_result"
    }
   ],
   "source": [
    "del X,Y\n",
    "gc.collect()"
   ]
  },
  {
   "cell_type": "code",
   "execution_count": 39,
   "metadata": {},
   "outputs": [
    {
     "data": {
      "text/plain": [
       "{0: 88, 1: 58}"
      ]
     },
     "execution_count": 39,
     "metadata": {},
     "output_type": "execute_result"
    }
   ],
   "source": [
    "unique, counts = np.unique(Y_train, return_counts=True)\n",
    "dict(zip(unique, counts))"
   ]
  },
  {
   "cell_type": "code",
   "execution_count": 40,
   "metadata": {},
   "outputs": [
    {
     "data": {
      "text/plain": [
       "{0: 22, 1: 15}"
      ]
     },
     "execution_count": 40,
     "metadata": {},
     "output_type": "execute_result"
    }
   ],
   "source": [
    "unique, counts = np.unique(Y_test, return_counts=True)\n",
    "dict(zip(unique, counts))"
   ]
  },
  {
   "cell_type": "code",
   "execution_count": 41,
   "metadata": {},
   "outputs": [
    {
     "name": "stdout",
     "output_type": "stream",
     "text": [
      "False\n",
      "False\n",
      "False\n",
      "False\n",
      "False\n",
      "False\n",
      "False\n",
      "False\n",
      "False\n",
      "False\n",
      "False\n",
      "False\n",
      "False\n",
      "False\n",
      "False\n",
      "False\n",
      "False\n",
      "False\n",
      "False\n",
      "False\n",
      "False\n",
      "False\n",
      "False\n",
      "False\n",
      "False\n",
      "False\n",
      "False\n",
      "False\n",
      "False\n",
      "False\n",
      "False\n",
      "False\n",
      "False\n",
      "False\n",
      "False\n",
      "False\n",
      "False\n",
      "False\n",
      "False\n",
      "False\n",
      "False\n",
      "False\n",
      "False\n",
      "False\n",
      "False\n",
      "False\n",
      "False\n",
      "False\n",
      "False\n",
      "False\n",
      "False\n",
      "False\n",
      "False\n",
      "False\n",
      "False\n",
      "False\n",
      "False\n",
      "False\n",
      "False\n",
      "False\n",
      "False\n",
      "False\n",
      "False\n",
      "False\n",
      "False\n",
      "False\n",
      "False\n",
      "False\n",
      "False\n",
      "False\n",
      "False\n",
      "False\n",
      "False\n",
      "False\n",
      "False\n",
      "False\n",
      "False\n",
      "False\n",
      "False\n",
      "False\n",
      "False\n",
      "False\n",
      "False\n",
      "False\n",
      "False\n",
      "False\n",
      "False\n",
      "False\n",
      "False\n",
      "False\n",
      "False\n",
      "False\n",
      "False\n",
      "False\n",
      "False\n",
      "False\n",
      "False\n",
      "False\n",
      "False\n",
      "False\n",
      "False\n",
      "False\n",
      "False\n",
      "False\n",
      "False\n",
      "False\n",
      "False\n",
      "False\n",
      "False\n",
      "False\n",
      "False\n",
      "False\n",
      "False\n",
      "False\n",
      "False\n",
      "False\n",
      "False\n",
      "False\n",
      "False\n",
      "False\n",
      "False\n",
      "False\n",
      "False\n",
      "False\n",
      "False\n",
      "False\n",
      "False\n",
      "False\n",
      "False\n",
      "False\n",
      "False\n",
      "False\n",
      "False\n",
      "False\n",
      "False\n",
      "False\n",
      "False\n",
      "False\n",
      "False\n",
      "False\n",
      "False\n",
      "False\n",
      "False\n",
      "False\n",
      "False\n",
      "False\n"
     ]
    }
   ],
   "source": [
    "for i in X_train:\n",
    "    print(f'{np.isnan(i).any()}')"
   ]
  },
  {
   "cell_type": "code",
   "execution_count": 42,
   "metadata": {},
   "outputs": [
    {
     "name": "stdout",
     "output_type": "stream",
     "text": [
      "samples: 146 \n",
      " X:19800 \n",
      " Y:11 \n",
      " \n"
     ]
    }
   ],
   "source": [
    "nsamples,nx, ny, nz = X_train.shape\n",
    "print(f\"samples: {nsamples} \\n X:{nx} \\n Y:{ny} \\n \" )"
   ]
  },
  {
   "cell_type": "code",
   "execution_count": 43,
   "metadata": {},
   "outputs": [],
   "source": [
    "import tensorflow as tf\n",
    "from tensorflow import keras\n",
    "from tensorflow.keras.layers import Embedding, Dense, LSTM, Dropout, Masking, Flatten, Input, Bidirectional, SimpleRNN\n",
    "from tensorflow.keras.losses import BinaryCrossentropy\n",
    "from tensorflow.keras.models import Sequential\n",
    "from tensorflow.keras.optimizers import Adam\n",
    "from tensorflow.keras.preprocessing.sequence import pad_sequences\n",
    "from keras.layers import Dense, Conv2D, MaxPooling2D, Dropout, Flatten"
   ]
  },
  {
   "cell_type": "code",
   "execution_count": 44,
   "metadata": {},
   "outputs": [],
   "source": [
    "##CNN MODEL"
   ]
  },
  {
   "cell_type": "code",
   "execution_count": 45,
   "metadata": {},
   "outputs": [],
   "source": [
    "from keras.callbacks import EarlyStopping\n",
    "from keras.callbacks import ModelCheckpoint, LambdaCallback\n",
    "wie_by_epoch = []\n",
    "#model_check = ModelCheckpoint(\"/models/Testpoints/best_model.hdf5\", monitor='loss', verbose=0, save_best_only=True, mode='min', save_freq=1)\n",
    "print_weights = LambdaCallback(on_epoch_end=lambda batch, logs:wie_by_epoch.append(model.get_weights()))\n",
    "callback = tf.keras.callbacks.EarlyStopping(monitor='loss', patience=4, verbose= 2)"
   ]
  },
  {
   "cell_type": "code",
   "execution_count": 46,
   "metadata": {},
   "outputs": [],
   "source": [
    "model = Sequential()\n",
    "model.add(Conv2D(64, (2, 2), padding='same', activation='relu', input_shape=X_train.shape[1:]))\n",
    "model.add(MaxPooling2D(pool_size=(2, 2)))\n",
    "model.add(Dropout(0.25))\n",
    "model.add(MaxPooling2D(pool_size=(2, 2)))\n",
    "model.add(Dense(256, activation='relu'))\n",
    "model.add(Flatten())\n",
    "model.add(Dense(128, activation='relu'))\n",
    "model.add(Dense(64, activation='relu'))\n",
    "model.add(Dense(5, activation = 'softmax') )\n",
    "#mod1 = model.compile(optimizer=tf.keras.optimizers.RMSprop(\n",
    "#   learning_rate=0.1, rho=0.1, momentum=0.0, epsilon=1e-2 , centered=False,\n",
    "#   name='RMSprop'), loss='sparse_categorical_crossentropy', metrics=[keras.metrics.SparseCategoricalAccuracy()])\n",
    "model.compile(optimizer= 'rmsprop', loss='sparse_categorical_crossentropy',  metrics=[keras.metrics.SparseCategoricalAccuracy()])\n",
    "#mod = model.fit(X.astype('float32'),Y.astype('float32'), epochs=20, batch_size= 20, verbose=0)des\": (2, 10, None),"
   ]
  },
  {
   "cell_type": "code",
   "execution_count": 47,
   "metadata": {},
   "outputs": [
    {
     "data": {
      "text/plain": [
       "(None, 5)"
      ]
     },
     "execution_count": 47,
     "metadata": {},
     "output_type": "execute_result"
    }
   ],
   "source": [
    "model.build(input_shape = (nx,ny,nz))\n",
    "model.output_shape"
   ]
  },
  {
   "cell_type": "code",
   "execution_count": 48,
   "metadata": {},
   "outputs": [
    {
     "data": {
      "text/plain": [
       "868"
      ]
     },
     "execution_count": 48,
     "metadata": {},
     "output_type": "execute_result"
    }
   ],
   "source": [
    "#del model, wie_by_epoch\n",
    "\n",
    "gc.collect()"
   ]
  },
  {
   "cell_type": "code",
   "execution_count": 49,
   "metadata": {},
   "outputs": [
    {
     "name": "stdout",
     "output_type": "stream",
     "text": [
      "Model: \"sequential\"\n",
      "_________________________________________________________________\n",
      "Layer (type)                 Output Shape              Param #   \n",
      "=================================================================\n",
      "conv2d (Conv2D)              (None, 19800, 11, 64)     320       \n",
      "_________________________________________________________________\n",
      "max_pooling2d (MaxPooling2D) (None, 9900, 5, 64)       0         \n",
      "_________________________________________________________________\n",
      "dropout (Dropout)            (None, 9900, 5, 64)       0         \n",
      "_________________________________________________________________\n",
      "max_pooling2d_1 (MaxPooling2 (None, 4950, 2, 64)       0         \n",
      "_________________________________________________________________\n",
      "dense (Dense)                (None, 4950, 2, 256)      16640     \n",
      "_________________________________________________________________\n",
      "flatten (Flatten)            (None, 2534400)           0         \n",
      "_________________________________________________________________\n",
      "dense_1 (Dense)              (None, 128)               324403328 \n",
      "_________________________________________________________________\n",
      "dense_2 (Dense)              (None, 64)                8256      \n",
      "_________________________________________________________________\n",
      "dense_3 (Dense)              (None, 5)                 325       \n",
      "=================================================================\n",
      "Total params: 324,428,869\n",
      "Trainable params: 324,428,869\n",
      "Non-trainable params: 0\n",
      "_________________________________________________________________\n"
     ]
    }
   ],
   "source": [
    "#model.build(input_shape = (nx,ny))\n",
    "model.summary()\n"
   ]
  },
  {
   "cell_type": "code",
   "execution_count": 50,
   "metadata": {
    "scrolled": true
   },
   "outputs": [
    {
     "data": {
      "text/plain": [
       "[array([[[[-0.10941486, -0.09669203,  0.02318215,  0.10791785,\n",
       "           -0.11133559,  0.08321354,  0.1271824 ,  0.02415791,\n",
       "           -0.12357599, -0.11309367,  0.08463351, -0.07331166,\n",
       "            0.00403711, -0.01582186,  0.03749442, -0.10258599,\n",
       "           -0.09912609, -0.04584421,  0.03722464,  0.12358892,\n",
       "            0.03887102,  0.00314781,  0.14990997,  0.0689615 ,\n",
       "            0.06334107, -0.08035218,  0.04982382,  0.14224455,\n",
       "            0.03344901,  0.04370935,  0.13795626, -0.06617855,\n",
       "           -0.09837119,  0.14178348, -0.00562641,  0.09866169,\n",
       "            0.10340157, -0.04579025, -0.00352648, -0.06632882,\n",
       "           -0.07033135,  0.11767697,  0.00377272,  0.03266619,\n",
       "           -0.10353622,  0.01220267,  0.10480484, -0.08110093,\n",
       "            0.0402652 , -0.13831691, -0.140833  , -0.04046046,\n",
       "            0.13751417,  0.13999727, -0.08361013, -0.04904853,\n",
       "           -0.03910944, -0.14741884, -0.07346989, -0.01211226,\n",
       "            0.01811491,  0.01522943, -0.1415845 , -0.0823665 ]],\n",
       " \n",
       "         [[ 0.1428729 ,  0.00959744,  0.14331266,  0.02845421,\n",
       "           -0.12668118, -0.02770764, -0.08183869,  0.04943204,\n",
       "           -0.14899695,  0.07580398, -0.01550722, -0.07255324,\n",
       "            0.00204673,  0.1080265 , -0.0245859 , -0.05739193,\n",
       "           -0.10611971, -0.1473558 ,  0.09320405,  0.05742073,\n",
       "            0.11073208, -0.11877292, -0.01546785,  0.06782095,\n",
       "            0.0386018 ,  0.08012049, -0.07019474,  0.0609718 ,\n",
       "            0.14580175,  0.1146881 , -0.12616901, -0.00982384,\n",
       "           -0.13613142,  0.08013661,  0.07251061,  0.09222312,\n",
       "           -0.11188267,  0.13127676,  0.12030005, -0.03711247,\n",
       "            0.1460582 , -0.08499994, -0.1155206 , -0.12209401,\n",
       "            0.07773979,  0.13603863, -0.07467676, -0.11257839,\n",
       "            0.12030387,  0.0249307 , -0.03524212,  0.03467958,\n",
       "            0.04262085,  0.08791965,  0.10508585, -0.02684061,\n",
       "           -0.00212605, -0.03411047, -0.07790548,  0.00715762,\n",
       "           -0.1077214 , -0.0333062 , -0.07688177, -0.01623446]]],\n",
       " \n",
       " \n",
       "        [[[-0.09656665, -0.11396845,  0.12699294, -0.07965121,\n",
       "            0.09276375,  0.07568762,  0.01498608, -0.04522209,\n",
       "           -0.07292049,  0.1089977 , -0.03093223,  0.13050872,\n",
       "            0.09880301,  0.01777323,  0.05588743, -0.03890133,\n",
       "            0.05802895, -0.07335714, -0.13436718, -0.00580432,\n",
       "           -0.13847359,  0.02438432, -0.03311613, -0.10790463,\n",
       "           -0.13179891,  0.10210419, -0.10390408,  0.01329091,\n",
       "            0.00778666, -0.06904817,  0.12230545,  0.01402926,\n",
       "            0.10855573, -0.13116175, -0.07750165, -0.03588151,\n",
       "           -0.04485589,  0.13279617, -0.09379989, -0.02863501,\n",
       "            0.1463145 ,  0.02899343, -0.12342967, -0.02088992,\n",
       "           -0.03404647,  0.14738545, -0.08150031, -0.01676263,\n",
       "           -0.11147235, -0.04442427, -0.11673901,  0.09278269,\n",
       "            0.03030798,  0.0895066 , -0.09209777,  0.05363098,\n",
       "           -0.06845546, -0.06286236, -0.02847525, -0.08330416,\n",
       "           -0.08621076,  0.13572577, -0.05109505,  0.01920556]],\n",
       " \n",
       "         [[ 0.14978471, -0.1392173 , -0.07630315,  0.00891085,\n",
       "           -0.13195656, -0.14975989,  0.13706926,  0.12420586,\n",
       "            0.05175781,  0.01234782,  0.0287541 ,  0.02939799,\n",
       "            0.05250956,  0.12497208, -0.07371987, -0.04259289,\n",
       "            0.03708096,  0.07537718, -0.02390178,  0.07914694,\n",
       "            0.03247304,  0.08655813, -0.10112969, -0.04158881,\n",
       "           -0.04948633,  0.03844889, -0.10631453,  0.11321479,\n",
       "           -0.13755651,  0.05669078, -0.13944496,  0.10578963,\n",
       "           -0.06879591, -0.02162035, -0.14431141, -0.10226597,\n",
       "           -0.12924418,  0.08123609,  0.08413754,  0.08592145,\n",
       "            0.01089667,  0.12494704, -0.12520774,  0.09976715,\n",
       "            0.06101266, -0.05423634,  0.09290522,  0.01211585,\n",
       "           -0.03358676, -0.08800328, -0.10988726,  0.04839972,\n",
       "            0.09893703, -0.10926268, -0.06482873,  0.12397173,\n",
       "           -0.14407621,  0.11238307, -0.00077678, -0.03978517,\n",
       "           -0.09856887, -0.04490561,  0.07441816, -0.00928038]]]],\n",
       "       dtype=float32),\n",
       " array([0., 0., 0., 0., 0., 0., 0., 0., 0., 0., 0., 0., 0., 0., 0., 0., 0.,\n",
       "        0., 0., 0., 0., 0., 0., 0., 0., 0., 0., 0., 0., 0., 0., 0., 0., 0.,\n",
       "        0., 0., 0., 0., 0., 0., 0., 0., 0., 0., 0., 0., 0., 0., 0., 0., 0.,\n",
       "        0., 0., 0., 0., 0., 0., 0., 0., 0., 0., 0., 0., 0.], dtype=float32),\n",
       " array([[-0.00893193,  0.13594249, -0.11584492, ..., -0.11356147,\n",
       "          0.12718385,  0.00178526],\n",
       "        [-0.0462287 ,  0.0601956 , -0.04819538, ..., -0.04748119,\n",
       "         -0.04653326,  0.1139926 ],\n",
       "        [ 0.09855209, -0.0288765 , -0.01379354, ...,  0.05473447,\n",
       "         -0.01132932, -0.01152566],\n",
       "        ...,\n",
       "        [-0.03652225,  0.06884421,  0.11647689, ..., -0.00327951,\n",
       "          0.05300258, -0.13682324],\n",
       "        [-0.03399326,  0.08318244,  0.08185339, ...,  0.1188941 ,\n",
       "          0.10077943, -0.05595918],\n",
       "        [ 0.09494844, -0.02145182,  0.06317197, ..., -0.05745842,\n",
       "         -0.10844947,  0.05441019]], dtype=float32),\n",
       " array([0., 0., 0., 0., 0., 0., 0., 0., 0., 0., 0., 0., 0., 0., 0., 0., 0.,\n",
       "        0., 0., 0., 0., 0., 0., 0., 0., 0., 0., 0., 0., 0., 0., 0., 0., 0.,\n",
       "        0., 0., 0., 0., 0., 0., 0., 0., 0., 0., 0., 0., 0., 0., 0., 0., 0.,\n",
       "        0., 0., 0., 0., 0., 0., 0., 0., 0., 0., 0., 0., 0., 0., 0., 0., 0.,\n",
       "        0., 0., 0., 0., 0., 0., 0., 0., 0., 0., 0., 0., 0., 0., 0., 0., 0.,\n",
       "        0., 0., 0., 0., 0., 0., 0., 0., 0., 0., 0., 0., 0., 0., 0., 0., 0.,\n",
       "        0., 0., 0., 0., 0., 0., 0., 0., 0., 0., 0., 0., 0., 0., 0., 0., 0.,\n",
       "        0., 0., 0., 0., 0., 0., 0., 0., 0., 0., 0., 0., 0., 0., 0., 0., 0.,\n",
       "        0., 0., 0., 0., 0., 0., 0., 0., 0., 0., 0., 0., 0., 0., 0., 0., 0.,\n",
       "        0., 0., 0., 0., 0., 0., 0., 0., 0., 0., 0., 0., 0., 0., 0., 0., 0.,\n",
       "        0., 0., 0., 0., 0., 0., 0., 0., 0., 0., 0., 0., 0., 0., 0., 0., 0.,\n",
       "        0., 0., 0., 0., 0., 0., 0., 0., 0., 0., 0., 0., 0., 0., 0., 0., 0.,\n",
       "        0., 0., 0., 0., 0., 0., 0., 0., 0., 0., 0., 0., 0., 0., 0., 0., 0.,\n",
       "        0., 0., 0., 0., 0., 0., 0., 0., 0., 0., 0., 0., 0., 0., 0., 0., 0.,\n",
       "        0., 0., 0., 0., 0., 0., 0., 0., 0., 0., 0., 0., 0., 0., 0., 0., 0.,\n",
       "        0.], dtype=float32),\n",
       " array([[-5.3879025e-04,  8.0440450e-04,  6.9261133e-04, ...,\n",
       "         -4.7965441e-05, -1.3316653e-03, -5.7248236e-04],\n",
       "        [ 3.8968783e-04,  5.7207886e-04, -8.9761137e-04, ...,\n",
       "         -5.5807026e-04, -8.8665169e-05, -8.6036656e-04],\n",
       "        [ 1.3518231e-03,  1.3373494e-03, -1.3726202e-03, ...,\n",
       "          6.7303074e-05, -1.3728257e-03,  9.6397125e-04],\n",
       "        ...,\n",
       "        [-1.4112528e-03,  9.7994972e-04,  9.9914800e-04, ...,\n",
       "         -1.2344287e-03,  1.4446771e-03, -8.3409995e-04],\n",
       "        [ 8.3989324e-04, -1.3782794e-03, -5.8318319e-04, ...,\n",
       "          1.3765914e-04, -4.0518015e-04, -1.2500705e-03],\n",
       "        [ 1.1308705e-03,  1.4714859e-03,  3.2366789e-04, ...,\n",
       "          8.3398540e-05, -6.6845363e-04, -1.5138201e-03]], dtype=float32),\n",
       " array([0., 0., 0., 0., 0., 0., 0., 0., 0., 0., 0., 0., 0., 0., 0., 0., 0.,\n",
       "        0., 0., 0., 0., 0., 0., 0., 0., 0., 0., 0., 0., 0., 0., 0., 0., 0.,\n",
       "        0., 0., 0., 0., 0., 0., 0., 0., 0., 0., 0., 0., 0., 0., 0., 0., 0.,\n",
       "        0., 0., 0., 0., 0., 0., 0., 0., 0., 0., 0., 0., 0., 0., 0., 0., 0.,\n",
       "        0., 0., 0., 0., 0., 0., 0., 0., 0., 0., 0., 0., 0., 0., 0., 0., 0.,\n",
       "        0., 0., 0., 0., 0., 0., 0., 0., 0., 0., 0., 0., 0., 0., 0., 0., 0.,\n",
       "        0., 0., 0., 0., 0., 0., 0., 0., 0., 0., 0., 0., 0., 0., 0., 0., 0.,\n",
       "        0., 0., 0., 0., 0., 0., 0., 0., 0.], dtype=float32),\n",
       " array([[ 0.06686091,  0.15593301, -0.15904619, ...,  0.07503183,\n",
       "         -0.05741092, -0.02786323],\n",
       "        [ 0.00783421,  0.12896986,  0.17192031, ..., -0.05505057,\n",
       "          0.02595529, -0.11545105],\n",
       "        [-0.14774008,  0.13229473,  0.14160018, ...,  0.09623681,\n",
       "          0.13646217, -0.10013227],\n",
       "        ...,\n",
       "        [-0.06732036, -0.00501426,  0.09969966, ..., -0.13492239,\n",
       "         -0.16817705, -0.13449451],\n",
       "        [-0.0900341 , -0.14999865, -0.17153953, ..., -0.06200176,\n",
       "          0.08839466,  0.01708531],\n",
       "        [-0.15548879,  0.08576967,  0.07992904, ..., -0.17195447,\n",
       "          0.14754646,  0.14189477]], dtype=float32),\n",
       " array([0., 0., 0., 0., 0., 0., 0., 0., 0., 0., 0., 0., 0., 0., 0., 0., 0.,\n",
       "        0., 0., 0., 0., 0., 0., 0., 0., 0., 0., 0., 0., 0., 0., 0., 0., 0.,\n",
       "        0., 0., 0., 0., 0., 0., 0., 0., 0., 0., 0., 0., 0., 0., 0., 0., 0.,\n",
       "        0., 0., 0., 0., 0., 0., 0., 0., 0., 0., 0., 0., 0.], dtype=float32),\n",
       " array([[-0.13328321, -0.2841475 ,  0.01260638, -0.05092721, -0.21356231],\n",
       "        [-0.01025257,  0.2530169 , -0.21179532, -0.08146375, -0.17178646],\n",
       "        [ 0.2781884 ,  0.22132295,  0.15349922,  0.18695915,  0.10946789],\n",
       "        [ 0.17093253, -0.26407555, -0.07698527,  0.21627343, -0.11512646],\n",
       "        [ 0.22548717,  0.06403172,  0.27320284,  0.11434808, -0.25778326],\n",
       "        [ 0.09495425, -0.18585803, -0.16916637, -0.24046904,  0.02697718],\n",
       "        [-0.13129404, -0.01514086, -0.27323774,  0.26023835, -0.06175099],\n",
       "        [-0.02457133,  0.03667298, -0.27427018, -0.03476053, -0.20950426],\n",
       "        [ 0.20156124, -0.13563332, -0.12585111,  0.10602242, -0.266782  ],\n",
       "        [ 0.13054416,  0.1929746 ,  0.14073527, -0.06420515,  0.0290986 ],\n",
       "        [ 0.01865572, -0.21797329,  0.28939152,  0.29182047,  0.07825232],\n",
       "        [ 0.21983486,  0.26355213,  0.04849336,  0.12393865,  0.11043227],\n",
       "        [ 0.24270374,  0.06623235, -0.2637542 ,  0.2459364 ,  0.20860249],\n",
       "        [-0.15743023,  0.14511862,  0.1911093 ,  0.24187756, -0.04920486],\n",
       "        [ 0.14429063, -0.12665035,  0.05732033, -0.26109388, -0.18282348],\n",
       "        [-0.20163795, -0.26390803, -0.08436815,  0.25956178, -0.05746347],\n",
       "        [-0.00072759, -0.14073731,  0.17932466, -0.17645708,  0.24492139],\n",
       "        [-0.23935372, -0.09413779, -0.13846496, -0.003198  , -0.07764369],\n",
       "        [ 0.29454005,  0.03405163, -0.00698489,  0.04890478, -0.0245657 ],\n",
       "        [ 0.01622307,  0.19431397,  0.18329987,  0.11519191,  0.18624908],\n",
       "        [-0.1710974 , -0.00674951,  0.03433061,  0.27714318,  0.06095648],\n",
       "        [-0.03452459,  0.00455138, -0.26022145,  0.12634051, -0.08648738],\n",
       "        [-0.20769079, -0.2664968 , -0.00348955, -0.08046667, -0.03614661],\n",
       "        [ 0.02140629,  0.23274505,  0.07209915,  0.1432665 , -0.2588708 ],\n",
       "        [-0.21546921, -0.2878942 ,  0.06527853,  0.2781512 ,  0.19188303],\n",
       "        [ 0.2823642 ,  0.26951647,  0.22384918, -0.09933542,  0.10085803],\n",
       "        [ 0.10282686, -0.27589783,  0.03177506,  0.21919441, -0.08962345],\n",
       "        [ 0.16873267, -0.00527948, -0.12398668, -0.1309042 , -0.16063097],\n",
       "        [-0.22873366,  0.06994948, -0.28971946,  0.19127834,  0.2686236 ],\n",
       "        [-0.20453778, -0.266896  ,  0.11715373, -0.21802461,  0.27762473],\n",
       "        [-0.11852461,  0.26508814, -0.09503742,  0.15353397,  0.03547665],\n",
       "        [ 0.27896398, -0.05049399,  0.12242511,  0.16715857, -0.16472846],\n",
       "        [-0.07799909,  0.08491576, -0.16846317,  0.24252635, -0.1910452 ],\n",
       "        [ 0.26339555, -0.17445956, -0.14570147,  0.27144915,  0.2798347 ],\n",
       "        [ 0.24772596,  0.0111351 ,  0.02742445, -0.09879772, -0.2574644 ],\n",
       "        [ 0.13324118,  0.11451143, -0.10137394,  0.24171102,  0.0887025 ],\n",
       "        [-0.06565543, -0.09396672, -0.1494032 ,  0.07195371, -0.22803244],\n",
       "        [-0.11405696, -0.1661369 ,  0.1353831 ,  0.19745386, -0.14505395],\n",
       "        [-0.08477093,  0.20037904, -0.05609685,  0.2501425 ,  0.07927465],\n",
       "        [ 0.10501155,  0.27662158,  0.04616496, -0.05268914,  0.20808113],\n",
       "        [-0.12406415,  0.03024104,  0.19209534, -0.2073406 , -0.01198375],\n",
       "        [-0.281227  , -0.15386508, -0.27526698,  0.20878762,  0.14385107],\n",
       "        [ 0.04952988,  0.20641083,  0.10040569,  0.00532791, -0.15102115],\n",
       "        [-0.01204845, -0.01323217, -0.21228528, -0.12535165,  0.2244569 ],\n",
       "        [-0.16657639, -0.15100266,  0.2195484 , -0.19956821, -0.10151364],\n",
       "        [ 0.2666071 , -0.2563495 ,  0.20468163, -0.11524338,  0.27851474],\n",
       "        [-0.23515238,  0.22062528,  0.14276135,  0.24811089, -0.29181167],\n",
       "        [-0.12617642,  0.03431711,  0.12656641,  0.19814053, -0.23662908],\n",
       "        [-0.08646137, -0.21876234, -0.2092501 , -0.11627497, -0.0693109 ],\n",
       "        [-0.2266626 , -0.06675445,  0.05645311, -0.08261164, -0.09988922],\n",
       "        [-0.16329549,  0.02677813,  0.13270292,  0.2618791 , -0.05219236],\n",
       "        [-0.26593697,  0.11227345, -0.09790196,  0.06558892,  0.06727022],\n",
       "        [ 0.13227475, -0.215161  , -0.18507306, -0.04558846, -0.0614799 ],\n",
       "        [ 0.03744072,  0.04146299, -0.07290635, -0.09928417,  0.27578884],\n",
       "        [-0.10419172,  0.09025711, -0.17795798, -0.07535847,  0.15481979],\n",
       "        [ 0.04730061, -0.2253829 , -0.09037831, -0.00548673,  0.05494273],\n",
       "        [ 0.06764978, -0.09772478,  0.0876359 ,  0.23591876,  0.14464828],\n",
       "        [-0.16807881,  0.27977222, -0.10244371,  0.22583574, -0.11082599],\n",
       "        [-0.12121445, -0.16431451,  0.06483418, -0.0091368 , -0.20126265],\n",
       "        [ 0.03271189,  0.12590912, -0.22397292,  0.1503801 , -0.26923212],\n",
       "        [-0.07743017, -0.16776659, -0.0652982 ,  0.0568634 ,  0.12277082],\n",
       "        [-0.25030538,  0.06149396,  0.22697401,  0.2564265 ,  0.08397058],\n",
       "        [ 0.1079874 , -0.06654106, -0.23770736, -0.21486929, -0.22161141],\n",
       "        [ 0.02176416,  0.00760251,  0.14759839, -0.25287682, -0.07128924]],\n",
       "       dtype=float32),\n",
       " array([0., 0., 0., 0., 0.], dtype=float32)]"
      ]
     },
     "execution_count": 50,
     "metadata": {},
     "output_type": "execute_result"
    }
   ],
   "source": [
    "wights = model.get_weights()\n",
    "wights"
   ]
  },
  {
   "cell_type": "code",
   "execution_count": 51,
   "metadata": {
    "scrolled": true
   },
   "outputs": [
    {
     "data": {
      "image/png": "[encoded data removed]",
      "text/plain": [
       "<IPython.core.display.Image object>"
      ]
     },
     "execution_count": 51,
     "metadata": {},
     "output_type": "execute_result"
    }
   ],
   "source": [
    "from tensorflow.keras.utils import plot_model\n",
    "plot_model(model, show_shapes=True)"
   ]
  },
  {
   "cell_type": "code",
   "execution_count": 52,
   "metadata": {
    "scrolled": true
   },
   "outputs": [
    {
     "name": "stdout",
     "output_type": "stream",
     "text": [
      "Epoch 1/200\n",
      "5/5 - 37s - loss: 25.4338 - sparse_categorical_accuracy: 0.4932\n",
      "Epoch 2/200\n",
      "5/5 - 35s - loss: 3.5780 - sparse_categorical_accuracy: 0.7603\n",
      "Epoch 3/200\n",
      "5/5 - 35s - loss: 0.3137 - sparse_categorical_accuracy: 0.9589\n",
      "Epoch 4/200\n",
      "5/5 - 36s - loss: 0.1636 - sparse_categorical_accuracy: 0.9726\n",
      "Epoch 5/200\n",
      "5/5 - 39s - loss: 0.0270 - sparse_categorical_accuracy: 0.9932\n",
      "Epoch 6/200\n",
      "5/5 - 38s - loss: 0.0225 - sparse_categorical_accuracy: 0.9932\n",
      "Epoch 7/200\n",
      "5/5 - 39s - loss: 0.0214 - sparse_categorical_accuracy: 0.9932\n",
      "Epoch 8/200\n",
      "5/5 - 35s - loss: 0.0203 - sparse_categorical_accuracy: 0.9932\n",
      "Epoch 9/200\n",
      "5/5 - 36s - loss: 0.0164 - sparse_categorical_accuracy: 0.9932\n",
      "Epoch 10/200\n",
      "5/5 - 112s - loss: 0.0155 - sparse_categorical_accuracy: 0.9932\n",
      "Epoch 11/200\n",
      "5/5 - 94s - loss: 0.0133 - sparse_categorical_accuracy: 0.9932\n",
      "Epoch 12/200\n",
      "5/5 - 82s - loss: 0.0163 - sparse_categorical_accuracy: 0.9932\n",
      "Epoch 13/200\n",
      "5/5 - 79s - loss: 0.0103 - sparse_categorical_accuracy: 0.9932\n",
      "Epoch 14/200\n",
      "5/5 - 66s - loss: 0.0106 - sparse_categorical_accuracy: 0.9932\n",
      "Epoch 15/200\n",
      "5/5 - 93s - loss: 0.0185 - sparse_categorical_accuracy: 0.9932\n",
      "Epoch 16/200\n",
      "5/5 - 118s - loss: 0.0069 - sparse_categorical_accuracy: 1.0000\n",
      "Epoch 17/200\n",
      "5/5 - 103s - loss: 0.0064 - sparse_categorical_accuracy: 1.0000\n",
      "Epoch 18/200\n",
      "5/5 - 83s - loss: 0.0158 - sparse_categorical_accuracy: 0.9932\n",
      "Epoch 19/200\n",
      "5/5 - 80s - loss: 0.0069 - sparse_categorical_accuracy: 0.9932\n",
      "Epoch 20/200\n",
      "5/5 - 78s - loss: 0.0056 - sparse_categorical_accuracy: 1.0000\n",
      "Epoch 21/200\n",
      "5/5 - 75s - loss: 0.0022 - sparse_categorical_accuracy: 1.0000\n",
      "Epoch 22/200\n",
      "5/5 - 83s - loss: 0.0015 - sparse_categorical_accuracy: 1.0000\n",
      "Epoch 23/200\n",
      "5/5 - 74s - loss: 0.0012 - sparse_categorical_accuracy: 1.0000\n",
      "Epoch 24/200\n",
      "5/5 - 101s - loss: 8.9004e-04 - sparse_categorical_accuracy: 1.0000\n",
      "Epoch 25/200\n",
      "5/5 - 96s - loss: 4.0796e-04 - sparse_categorical_accuracy: 1.0000\n",
      "Epoch 26/200\n",
      "5/5 - 86s - loss: 0.0014 - sparse_categorical_accuracy: 1.0000\n",
      "Epoch 27/200\n",
      "5/5 - 93s - loss: 12.3214 - sparse_categorical_accuracy: 0.7192\n",
      "Epoch 28/200\n",
      "5/5 - 96s - loss: 0.8740 - sparse_categorical_accuracy: 0.9247\n",
      "Epoch 29/200\n",
      "5/5 - 81s - loss: 0.0053 - sparse_categorical_accuracy: 1.0000\n",
      "Epoch 00029: early stopping\n"
     ]
    }
   ],
   "source": [
    "mod = model.fit(X_train,\n",
    "               Y_train, epochs=200, batch_size= 32, verbose=2 , \n",
    "                callbacks=[callback, print_weights])"
   ]
  },
  {
   "cell_type": "code",
   "execution_count": 53,
   "metadata": {},
   "outputs": [
    {
     "data": {
      "text/plain": [
       "29"
      ]
     },
     "execution_count": 53,
     "metadata": {},
     "output_type": "execute_result"
    }
   ],
   "source": [
    "len(wie_by_epoch)"
   ]
  },
  {
   "cell_type": "code",
   "execution_count": 55,
   "metadata": {},
   "outputs": [],
   "source": [
    "#model.set_weights(wie_by_epoch[76])"
   ]
  },
  {
   "cell_type": "code",
   "execution_count": 56,
   "metadata": {},
   "outputs": [
    {
     "name": "stdout",
     "output_type": "stream",
     "text": [
      "2/2 - 6s - loss: 0.0155 - sparse_categorical_accuracy: 1.0000\n"
     ]
    },
    {
     "data": {
      "text/plain": [
       "[0.015538939274847507, 1.0]"
      ]
     },
     "execution_count": 56,
     "metadata": {},
     "output_type": "execute_result"
    }
   ],
   "source": [
    "scores = model.evaluate(X_test,Y_test, verbose=2)\n",
    "scores"
   ]
  },
  {
   "cell_type": "code",
   "execution_count": 57,
   "metadata": {},
   "outputs": [
    {
     "data": {
      "text/plain": [
       "{'loss': 0.015538939274847507, 'sparse_categorical_accuracy': 1.0}"
      ]
     },
     "execution_count": 57,
     "metadata": {},
     "output_type": "execute_result"
    }
   ],
   "source": [
    "dict(zip(model.metrics_names, scores))"
   ]
  },
  {
   "cell_type": "code",
   "execution_count": 58,
   "metadata": {},
   "outputs": [
    {
     "data": {
      "image/png": "[encoded data removed]",
      "text/plain": [
       "<Figure size 432x288 with 2 Axes>"
      ]
     },
     "metadata": {
      "needs_background": "light"
     },
     "output_type": "display_data"
    }
   ],
   "source": [
    "from matplotlib import pyplot\n",
    "# plot loss during training\n",
    "pyplot.subplot(211)\n",
    "pyplot.title('Loss')\n",
    "pyplot.plot(mod.history['loss'], label='train')\n",
    "#pyplot.plot(mod.history['val_loss'], label='test')\n",
    "pyplot.legend()\n",
    "# plot accuracy during training\n",
    "pyplot.subplot(212)\n",
    "pyplot.title('Accuracy')\n",
    "pyplot.plot(mod.history['sparse_categorical_accuracy'], label='train')\n",
    "#pyplot.plot(mod.history['val_accuracy'], label='test')\n",
    "pyplot.legend()\n",
    "pyplot.show()"
   ]
  },
  {
   "cell_type": "code",
   "execution_count": 59,
   "metadata": {},
   "outputs": [],
   "source": [
    "# predict probabilities for test set\n",
    "yhat_probs = model.predict(X_test.astype('float32'), verbose=0)\n",
    "# predict crisp classes for test set\n",
    "#yhat_classes = model.predict_classes(X_test, verbose=0)\n",
    "yhat_classes = np.argmax(yhat_probs,axis=1)"
   ]
  },
  {
   "cell_type": "code",
   "execution_count": 60,
   "metadata": {},
   "outputs": [],
   "source": [
    "from sklearn.metrics import accuracy_score\n",
    "from sklearn.metrics import precision_score\n",
    "from sklearn.metrics import recall_score\n",
    "from sklearn.metrics import f1_score\n",
    "from sklearn.metrics import cohen_kappa_score\n",
    "from sklearn.metrics import roc_auc_score\n",
    "from sklearn.metrics import confusion_matrix\n",
    "from sklearn.metrics import roc_curve\n",
    "from sklearn.metrics import classification_report"
   ]
  },
  {
   "cell_type": "code",
   "execution_count": 61,
   "metadata": {},
   "outputs": [
    {
     "name": "stdout",
     "output_type": "stream",
     "text": [
      "Accuracy: 1.000000\n",
      "Precision: 1.000000\n",
      "Recall: 1.000000\n",
      "F1 score: 1.000000\n"
     ]
    }
   ],
   "source": [
    "# accuracy: (tp + tn) / (p + n)\n",
    "accuracy = accuracy_score(Y_test, yhat_classes)\n",
    "print('Accuracy: %f' % accuracy)\n",
    "# precision tp / (tp + fp)\n",
    "precision = precision_score(Y_test, yhat_classes, average='macro')\n",
    "print('Precision: %f' % precision)\n",
    "# recall: tp / (tp + fn)\n",
    "recall = recall_score(Y_test, yhat_classes,average='macro')\n",
    "print('Recall: %f' % recall)\n",
    "# f1: 2 tp / (2 tp + fp + fn)\n",
    "f1 = f1_score(Y_test, yhat_classes, average='macro')\n",
    "print('F1 score: %f' % f1)"
   ]
  },
  {
   "cell_type": "code",
   "execution_count": 62,
   "metadata": {},
   "outputs": [
    {
     "name": "stdout",
     "output_type": "stream",
     "text": [
      "Cohens kappa: 1.000000\n",
      "[[22  0]\n",
      " [ 0 15]]\n"
     ]
    }
   ],
   "source": [
    "# kappa\n",
    "kappa = cohen_kappa_score(Y_test, yhat_classes)\n",
    "print('Cohens kappa: %f' % kappa)\n",
    "# ROC AUC\n",
    "#fprate, tprate, thresholds = roc_curve(Y_test, yhat_probs, average = 'macro')\n",
    "#print('ROC AUC: %f' % thresholds)\n",
    "# confusion matrix\n",
    "matrix = confusion_matrix(Y_test, yhat_classes)\n",
    "print(matrix)"
   ]
  },
  {
   "cell_type": "code",
   "execution_count": 63,
   "metadata": {},
   "outputs": [
    {
     "name": "stderr",
     "output_type": "stream",
     "text": [
      "C:\\Users\\hp\\Anaconda3\\lib\\site-packages\\sklearn\\metrics\\ranking.py:659: UndefinedMetricWarning: No positive samples in y_true, true positive value should be meaningless\n",
      "  UndefinedMetricWarning)\n"
     ]
    }
   ],
   "source": [
    "fpr = {}\n",
    "tpr = {}\n",
    "thresh ={}\n",
    "\n",
    "n_class = 5\n",
    "\n",
    "for i in range(n_class):    \n",
    "    fpr[i], tpr[i], thresh[i] = roc_curve(Y_test, yhat_classes, pos_label=i)"
   ]
  },
  {
   "cell_type": "code",
   "execution_count": 64,
   "metadata": {},
   "outputs": [
    {
     "data": {
      "image/png": "[encoded data removed]",
      "text/plain": [
       "<Figure size 432x288 with 1 Axes>"
      ]
     },
     "metadata": {
      "needs_background": "light"
     },
     "output_type": "display_data"
    }
   ],
   "source": [
    "# plotting    \n",
    "plt.plot(fpr[0], tpr[0], linestyle='--',color='orange', label='Class 0 vs Rest')\n",
    "plt.plot(fpr[1], tpr[1], linestyle='--',color='green', label='Class 1 vs Rest')\n",
    "plt.plot(fpr[2], tpr[2], linestyle='--',color='blue', label='Class 2 vs Rest')\n",
    "plt.plot(fpr[3], tpr[3], linestyle='--',color='red', label='Class 3 vs Rest')\n",
    "plt.plot(fpr[4], tpr[4], linestyle='--',color='black', label='Class 4 vs Rest')\n",
    "plt.title('Multiclass ROC curve')\n",
    "plt.xlabel('False Positive Rate')\n",
    "plt.ylabel('True Positive rate')\n",
    "plt.legend(loc='best')\n",
    "plt.savefig('Multiclass ROC',dpi=300); "
   ]
  },
  {
   "cell_type": "code",
   "execution_count": 65,
   "metadata": {},
   "outputs": [
    {
     "name": "stdout",
     "output_type": "stream",
     "text": [
      "Confusion matrix : \n",
      " [[22  0]\n",
      " [ 0 15]]\n"
     ]
    }
   ],
   "source": [
    "matrix = confusion_matrix(Y_test, yhat_classes, labels= [0, 1])\n",
    "print('Confusion matrix : \\n',matrix)"
   ]
  },
  {
   "cell_type": "code",
   "execution_count": 66,
   "metadata": {},
   "outputs": [
    {
     "name": "stdout",
     "output_type": "stream",
     "text": [
      "Classification report : \n",
      "               precision    recall  f1-score   support\n",
      "\n",
      "           0       1.00      1.00      1.00        22\n",
      "           1       1.00      1.00      1.00        15\n",
      "\n",
      "    accuracy                           1.00        37\n",
      "   macro avg       1.00      1.00      1.00        37\n",
      "weighted avg       1.00      1.00      1.00        37\n",
      "\n"
     ]
    }
   ],
   "source": [
    "matrix = classification_report(Y_test,yhat_classes, labels= [0, 1])\n",
    "print('Classification report : \\n',matrix)"
   ]
  },
  {
   "cell_type": "code",
   "execution_count": 67,
   "metadata": {},
   "outputs": [
    {
     "name": "stdout",
     "output_type": "stream",
     "text": [
      "INFO:tensorflow:Assets written to: ./models/IG feature selection/WithIP Top11/Binary/CNN\\assets\n"
     ]
    }
   ],
   "source": [
    "model.save('./models/IG feature selection/WithIP Top11/Binary/CNN')"
   ]
  },
  {
   "cell_type": "code",
   "execution_count": null,
   "metadata": {},
   "outputs": [],
   "source": [
    "#FOr DNN model"
   ]
  },
  {
   "cell_type": "code",
   "execution_count": 45,
   "metadata": {},
   "outputs": [],
   "source": [
    "from keras.callbacks import EarlyStopping\n",
    "from keras.callbacks import ModelCheckpoint, LambdaCallback\n",
    "wie_by_epoch = []\n",
    "#model_check = ModelCheckpoint(\"/models/Testpoints/best_model.hdf5\", monitor='loss', verbose=0, save_best_only=True, mode='min', save_freq=1)\n",
    "print_weights = LambdaCallback(on_epoch_end=lambda batch, logs:wie_by_epoch.append(model.get_weights()))\n",
    "callback = tf.keras.callbacks.EarlyStopping(monitor='loss', patience=4, verbose= 2)"
   ]
  },
  {
   "cell_type": "code",
   "execution_count": 46,
   "metadata": {},
   "outputs": [],
   "source": [
    "model = Sequential()\n",
    "model.add(Flatten(input_shape = X_train.shape[1:], name = 'input'))\n",
    "model.add(Dense(256, activation='relu'))\n",
    "model.add(Dense(128, activation='relu'))\n",
    "model.add(Dense(64, activation='relu'))\n",
    "model.add(Dense(32, activation='relu'))\n",
    "model.add(Dense(12, activation='relu'))\n",
    "model.add(Dense(5, activation = 'softmax') )\n",
    "#mod1 = model.compile(optimizer=tf.keras.optimizers.RMSprop(\n",
    "#   learning_rate=0.1, rho=0.1, momentum=0.0, epsilon=1e-2 , centered=False,\n",
    "#   name='RMSprop'), loss='sparse_categorical_crossentropy', metrics=[keras.metrics.SparseCategoricalAccuracy()])\n",
    "model.compile(optimizer= 'rmsprop', loss='sparse_categorical_crossentropy',  metrics=[keras.metrics.SparseCategoricalAccuracy()])\n",
    "#mod = model.fit(X.astype('float32'),Y.astype('float32'), epochs=20, batch_size= 20, verbose=0)"
   ]
  },
  {
   "cell_type": "code",
   "execution_count": 47,
   "metadata": {
    "scrolled": true
   },
   "outputs": [
    {
     "data": {
      "text/plain": [
       "(None, 5)"
      ]
     },
     "execution_count": 47,
     "metadata": {},
     "output_type": "execute_result"
    }
   ],
   "source": [
    "model.build(input_shape = (nx,ny))\n",
    "model.output_shape"
   ]
  },
  {
   "cell_type": "code",
   "execution_count": 48,
   "metadata": {},
   "outputs": [
    {
     "data": {
      "text/plain": [
       "361"
      ]
     },
     "execution_count": 48,
     "metadata": {},
     "output_type": "execute_result"
    }
   ],
   "source": [
    "#del model, wie_by_epoch\n",
    "\n",
    "gc.collect()"
   ]
  },
  {
   "cell_type": "code",
   "execution_count": 49,
   "metadata": {
    "scrolled": true
   },
   "outputs": [
    {
     "data": {
      "image/png": "[encoded data removed]",
      "text/plain": [
       "<IPython.core.display.Image object>"
      ]
     },
     "execution_count": 49,
     "metadata": {},
     "output_type": "execute_result"
    }
   ],
   "source": [
    "wights = model.get_weights()\n",
    "from tensorflow.keras.utils import plot_model\n",
    "plot_model(model, show_shapes=True)"
   ]
  },
  {
   "cell_type": "code",
   "execution_count": 50,
   "metadata": {
    "scrolled": true
   },
   "outputs": [
    {
     "name": "stdout",
     "output_type": "stream",
     "text": [
      "Epoch 1/40\n",
      "5/5 - 4s - loss: 12.0840 - sparse_categorical_accuracy: 0.4726\n",
      "Epoch 2/40\n",
      "5/5 - 2s - loss: 2.0953 - sparse_categorical_accuracy: 0.7808\n",
      "Epoch 3/40\n",
      "5/5 - 2s - loss: 3.1203 - sparse_categorical_accuracy: 0.8562\n",
      "Epoch 4/40\n",
      "5/5 - 2s - loss: 0.5858 - sparse_categorical_accuracy: 0.9247\n",
      "Epoch 5/40\n",
      "5/5 - 2s - loss: 0.0946 - sparse_categorical_accuracy: 0.9863\n",
      "Epoch 6/40\n",
      "5/5 - 2s - loss: 0.0136 - sparse_categorical_accuracy: 0.9932\n",
      "Epoch 7/40\n",
      "5/5 - 2s - loss: 0.0126 - sparse_categorical_accuracy: 0.9932\n",
      "Epoch 8/40\n",
      "5/5 - 2s - loss: 0.0114 - sparse_categorical_accuracy: 0.9932\n",
      "Epoch 9/40\n",
      "5/5 - 2s - loss: 0.0103 - sparse_categorical_accuracy: 0.9932\n",
      "Epoch 10/40\n",
      "5/5 - 2s - loss: 0.0094 - sparse_categorical_accuracy: 0.9932\n",
      "Epoch 11/40\n",
      "5/5 - 2s - loss: 0.0088 - sparse_categorical_accuracy: 0.9932\n",
      "Epoch 12/40\n",
      "5/5 - 2s - loss: 0.0081 - sparse_categorical_accuracy: 0.9932\n",
      "Epoch 13/40\n",
      "5/5 - 2s - loss: 0.0077 - sparse_categorical_accuracy: 0.9932\n",
      "Epoch 14/40\n",
      "5/5 - 2s - loss: 0.0069 - sparse_categorical_accuracy: 0.9932\n",
      "Epoch 15/40\n",
      "5/5 - 2s - loss: 0.0064 - sparse_categorical_accuracy: 1.0000\n",
      "Epoch 16/40\n",
      "5/5 - 2s - loss: 0.0056 - sparse_categorical_accuracy: 1.0000\n",
      "Epoch 17/40\n",
      "5/5 - 2s - loss: 0.0050 - sparse_categorical_accuracy: 1.0000\n",
      "Epoch 18/40\n",
      "5/5 - 2s - loss: 0.0042 - sparse_categorical_accuracy: 1.0000\n",
      "Epoch 19/40\n",
      "5/5 - 2s - loss: 0.0037 - sparse_categorical_accuracy: 1.0000\n",
      "Epoch 20/40\n",
      "5/5 - 2s - loss: 0.0031 - sparse_categorical_accuracy: 1.0000\n",
      "Epoch 21/40\n",
      "5/5 - 2s - loss: 0.0025 - sparse_categorical_accuracy: 1.0000\n",
      "Epoch 22/40\n",
      "5/5 - 2s - loss: 0.0020 - sparse_categorical_accuracy: 1.0000\n",
      "Epoch 23/40\n",
      "5/5 - 2s - loss: 0.0015 - sparse_categorical_accuracy: 1.0000\n",
      "Epoch 24/40\n",
      "5/5 - 2s - loss: 0.0010 - sparse_categorical_accuracy: 1.0000\n",
      "Epoch 25/40\n",
      "5/5 - 2s - loss: 4.6044e-04 - sparse_categorical_accuracy: 1.0000\n",
      "Epoch 26/40\n",
      "5/5 - 2s - loss: 2.5293e-04 - sparse_categorical_accuracy: 1.0000\n",
      "Epoch 27/40\n",
      "5/5 - 2s - loss: 1.6716e-04 - sparse_categorical_accuracy: 1.0000\n",
      "Epoch 28/40\n",
      "5/5 - 2s - loss: 8.0493e-05 - sparse_categorical_accuracy: 1.0000\n",
      "Epoch 29/40\n",
      "5/5 - 3s - loss: 5.9786e-05 - sparse_categorical_accuracy: 1.0000\n",
      "Epoch 30/40\n",
      "5/5 - 2s - loss: 4.3792e-05 - sparse_categorical_accuracy: 1.0000\n",
      "Epoch 31/40\n",
      "5/5 - 2s - loss: 3.2571e-05 - sparse_categorical_accuracy: 1.0000\n",
      "Epoch 32/40\n",
      "5/5 - 2s - loss: 2.4224e-05 - sparse_categorical_accuracy: 1.0000\n",
      "Epoch 33/40\n",
      "5/5 - 2s - loss: 1.7825e-05 - sparse_categorical_accuracy: 1.0000\n",
      "Epoch 34/40\n",
      "5/5 - 2s - loss: 1.3262e-05 - sparse_categorical_accuracy: 1.0000\n",
      "Epoch 35/40\n",
      "5/5 - 2s - loss: 9.2905e-06 - sparse_categorical_accuracy: 1.0000\n",
      "Epoch 36/40\n",
      "5/5 - 2s - loss: 6.8819e-06 - sparse_categorical_accuracy: 1.0000\n",
      "Epoch 37/40\n",
      "5/5 - 2s - loss: 3.8482e-06 - sparse_categorical_accuracy: 1.0000\n",
      "Epoch 38/40\n",
      "5/5 - 2s - loss: 3.0238e-06 - sparse_categorical_accuracy: 1.0000\n",
      "Epoch 39/40\n",
      "5/5 - 2s - loss: 2.3708e-06 - sparse_categorical_accuracy: 1.0000\n",
      "Epoch 40/40\n",
      "5/5 - 2s - loss: 1.8296e-06 - sparse_categorical_accuracy: 1.0000\n"
     ]
    }
   ],
   "source": [
    "mod = model.fit(X_train,\n",
    "               Y_train, epochs=40, batch_size= 32, verbose=2 , \n",
    "                callbacks=[callback, print_weights])"
   ]
  },
  {
   "cell_type": "code",
   "execution_count": 51,
   "metadata": {},
   "outputs": [
    {
     "data": {
      "text/plain": [
       "40"
      ]
     },
     "execution_count": 51,
     "metadata": {},
     "output_type": "execute_result"
    }
   ],
   "source": [
    "#Total Epochs\n",
    "len(wie_by_epoch)"
   ]
  },
  {
   "cell_type": "code",
   "execution_count": 52,
   "metadata": {},
   "outputs": [],
   "source": [
    "#\n",
    "#model.set_weights(wie_by_epoch[37])"
   ]
  },
  {
   "cell_type": "code",
   "execution_count": 53,
   "metadata": {},
   "outputs": [
    {
     "name": "stdout",
     "output_type": "stream",
     "text": [
      "2/2 - 0s - loss: 0.0320 - sparse_categorical_accuracy: 1.0000\n"
     ]
    },
    {
     "data": {
      "text/plain": [
       "[0.03200048208236694, 1.0]"
      ]
     },
     "execution_count": 53,
     "metadata": {},
     "output_type": "execute_result"
    }
   ],
   "source": [
    "scores = model.evaluate(X_test,Y_test, verbose=2)\n",
    "scores"
   ]
  },
  {
   "cell_type": "code",
   "execution_count": 54,
   "metadata": {},
   "outputs": [
    {
     "data": {
      "text/plain": [
       "{'loss': 0.03200048208236694, 'sparse_categorical_accuracy': 1.0}"
      ]
     },
     "execution_count": 54,
     "metadata": {},
     "output_type": "execute_result"
    }
   ],
   "source": [
    "dict(zip(model.metrics_names, scores))"
   ]
  },
  {
   "cell_type": "code",
   "execution_count": 55,
   "metadata": {},
   "outputs": [
    {
     "data": {
      "image/png": "[encoded data removed]",
      "text/plain": [
       "<Figure size 432x288 with 2 Axes>"
      ]
     },
     "metadata": {
      "needs_background": "light"
     },
     "output_type": "display_data"
    }
   ],
   "source": [
    "from matplotlib import pyplot\n",
    "# plot loss during training\n",
    "pyplot.subplot(211)\n",
    "pyplot.title('Loss')\n",
    "pyplot.plot(mod.history['loss'], label='train')\n",
    "#pyplot.plot(mod.history['val_loss'], label='test')\n",
    "pyplot.legend()\n",
    "# plot accuracy during training\n",
    "pyplot.subplot(212)\n",
    "pyplot.title('Accuracy')\n",
    "pyplot.plot(mod.history['sparse_categorical_accuracy'], label='train')\n",
    "#pyplot.plot(mod.history['val_accuracy'], label='test')\n",
    "pyplot.legend()\n",
    "pyplot.show()"
   ]
  },
  {
   "cell_type": "code",
   "execution_count": 56,
   "metadata": {},
   "outputs": [],
   "source": [
    "# predict probabilities for test set\n",
    "yhat_probs = model.predict(X_test.astype('float32'), verbose=0)\n",
    "# predict crisp classes for test set\n",
    "#yhat_classes = model.predict_classes(X_test, verbose=0)\n",
    "yhat_classes = np.argmax(yhat_probs,axis=1)"
   ]
  },
  {
   "cell_type": "code",
   "execution_count": 57,
   "metadata": {},
   "outputs": [],
   "source": [
    "from sklearn.datasets import make_circles\n",
    "from sklearn.metrics import accuracy_score\n",
    "from sklearn.metrics import precision_score\n",
    "from sklearn.metrics import recall_score\n",
    "from sklearn.metrics import f1_score\n",
    "from sklearn.metrics import cohen_kappa_score\n",
    "from sklearn.metrics import roc_auc_score\n",
    "from sklearn.metrics import confusion_matrix\n",
    "from sklearn.metrics import roc_curve\n"
   ]
  },
  {
   "cell_type": "code",
   "execution_count": 58,
   "metadata": {},
   "outputs": [
    {
     "name": "stdout",
     "output_type": "stream",
     "text": [
      "Accuracy: 1.000000\n",
      "Precision: 1.000000\n",
      "Recall: 1.000000\n",
      "F1 score: 1.000000\n"
     ]
    }
   ],
   "source": [
    "# accuracy: (tp + tn) / (p + n)\n",
    "accuracy = accuracy_score(Y_test, yhat_classes)\n",
    "print('Accuracy: %f' % accuracy)\n",
    "# precision tp / (tp + fp)\n",
    "precision = precision_score(Y_test, yhat_classes, average='macro')\n",
    "print('Precision: %f' % precision)\n",
    "# recall: tp / (tp + fn)\n",
    "recall = recall_score(Y_test, yhat_classes,average='macro')\n",
    "print('Recall: %f' % recall)\n",
    "# f1: 2 tp / (2 tp + fp + fn)\n",
    "f1 = f1_score(Y_test, yhat_classes, average='macro')\n",
    "print('F1 score: %f' % f1)"
   ]
  },
  {
   "cell_type": "code",
   "execution_count": 59,
   "metadata": {},
   "outputs": [
    {
     "name": "stdout",
     "output_type": "stream",
     "text": [
      "Cohens kappa: 1.000000\n",
      "[[22  0]\n",
      " [ 0 15]]\n"
     ]
    }
   ],
   "source": [
    "# kappa\n",
    "kappa = cohen_kappa_score(Y_test, yhat_classes)\n",
    "print('Cohens kappa: %f' % kappa)\n",
    "# ROC AUC\n",
    "#fprate, tprate, thresholds = roc_curve(Y_test, yhat_probs, average = 'macro')\n",
    "#print('ROC AUC: %f' % thresholds)\n",
    "# confusion matrix\n",
    "matrix = confusion_matrix(Y_test, yhat_classes)\n",
    "print(matrix)"
   ]
  },
  {
   "cell_type": "code",
   "execution_count": 60,
   "metadata": {},
   "outputs": [
    {
     "name": "stderr",
     "output_type": "stream",
     "text": [
      "C:\\Users\\hp\\Anaconda3\\lib\\site-packages\\sklearn\\metrics\\ranking.py:659: UndefinedMetricWarning: No positive samples in y_true, true positive value should be meaningless\n",
      "  UndefinedMetricWarning)\n"
     ]
    }
   ],
   "source": [
    "fpr = {}\n",
    "tpr = {}\n",
    "thresh ={}\n",
    "\n",
    "n_class = 5\n",
    "\n",
    "for i in range(n_class):    \n",
    "    fpr[i], tpr[i], thresh[i] = roc_curve(Y_test, yhat_classes, pos_label=i)"
   ]
  },
  {
   "cell_type": "code",
   "execution_count": 61,
   "metadata": {},
   "outputs": [
    {
     "data": {
      "image/png": "[encoded data removed]",
      "text/plain": [
       "<Figure size 432x288 with 1 Axes>"
      ]
     },
     "metadata": {
      "needs_background": "light"
     },
     "output_type": "display_data"
    }
   ],
   "source": [
    "# plotting    \n",
    "plt.plot(fpr[0], tpr[0], linestyle='--',color='orange', label='Class 0 vs Rest')\n",
    "plt.plot(fpr[1], tpr[1], linestyle='--',color='green', label='Class 1 vs Rest')\n",
    "plt.plot(fpr[2], tpr[2], linestyle='--',color='blue', label='Class 2 vs Rest')\n",
    "plt.plot(fpr[3], tpr[3], linestyle='--',color='red', label='Class 3 vs Rest')\n",
    "plt.plot(fpr[4], tpr[4], linestyle='--',color='black', label='Class 4 vs Rest')\n",
    "plt.title('Multiclass ROC curve')\n",
    "plt.xlabel('False Positive Rate')\n",
    "plt.ylabel('True Positive rate')\n",
    "plt.legend(loc='best')\n",
    "plt.savefig('Multiclass ROC',dpi=300); "
   ]
  },
  {
   "cell_type": "code",
   "execution_count": 62,
   "metadata": {},
   "outputs": [
    {
     "name": "stdout",
     "output_type": "stream",
     "text": [
      "Confusion matrix : \n",
      " [[22  0]\n",
      " [ 0 15]]\n"
     ]
    }
   ],
   "source": [
    "matrix = confusion_matrix(Y_test,yhat_classes, labels= [0, 1])\n",
    "print('Confusion matrix : \\n',matrix)"
   ]
  },
  {
   "cell_type": "code",
   "execution_count": 63,
   "metadata": {},
   "outputs": [
    {
     "name": "stdout",
     "output_type": "stream",
     "text": [
      "Classification report : \n",
      "               precision    recall  f1-score   support\n",
      "\n",
      "           0       1.00      1.00      1.00        22\n",
      "           1       1.00      1.00      1.00        15\n",
      "\n",
      "    accuracy                           1.00        37\n",
      "   macro avg       1.00      1.00      1.00        37\n",
      "weighted avg       1.00      1.00      1.00        37\n",
      "\n"
     ]
    }
   ],
   "source": [
    "matrix = classification_report(Y_test,yhat_classes, labels= [0, 1])\n",
    "print('Classification report : \\n',matrix)"
   ]
  },
  {
   "cell_type": "code",
   "execution_count": 64,
   "metadata": {},
   "outputs": [
    {
     "name": "stdout",
     "output_type": "stream",
     "text": [
      "INFO:tensorflow:Assets written to: ./models/IG feature selection/WithIP Top11/Binary/DNN\\assets\n"
     ]
    }
   ],
   "source": [
    "model.save('./models/IG feature selection/WithIP Top11/Binary/DNN')"
   ]
  },
  {
   "cell_type": "code",
   "execution_count": 65,
   "metadata": {},
   "outputs": [],
   "source": [
    "from keras import backend as K\n",
    "K.clear_session()"
   ]
  },
  {
   "cell_type": "code",
   "execution_count": 66,
   "metadata": {},
   "outputs": [],
   "source": [
    "#LSTM"
   ]
  },
  {
   "cell_type": "code",
   "execution_count": 67,
   "metadata": {},
   "outputs": [],
   "source": [
    "from keras.callbacks import EarlyStopping\n",
    "from keras.callbacks import ModelCheckpoint, LambdaCallback\n",
    "wie_by_epoch = []\n",
    "model_check = ModelCheckpoint(\"./models/Testpoints/best_model.hdf5\", monitor='loss', verbose=0, save_best_only=True, mode='min', save_freq=1)\n",
    "print_weights = LambdaCallback(on_epoch_end=lambda batch, logs:wie_by_epoch.append(model.get_weights()))\n",
    "callback = tf.keras.callbacks.EarlyStopping(monitor='loss', patience=4, verbose= 2)"
   ]
  },
  {
   "cell_type": "code",
   "execution_count": 68,
   "metadata": {},
   "outputs": [],
   "source": [
    "model = Sequential()\n",
    "model.add(LSTM(14, activation='relu', return_sequences = True, dropout = 0.1, input_shape = (nx,ny) ))\n",
    "model.add(Flatten())\n",
    "model.add(Dense(5, activation='softmax'))\n",
    "model.compile(optimizer= 'rmsprop', loss='sparse_categorical_crossentropy',  metrics=[keras.metrics.SparseCategoricalAccuracy()])"
   ]
  },
  {
   "cell_type": "code",
   "execution_count": 69,
   "metadata": {},
   "outputs": [
    {
     "data": {
      "text/plain": [
       "(None, 5)"
      ]
     },
     "execution_count": 69,
     "metadata": {},
     "output_type": "execute_result"
    }
   ],
   "source": [
    "model.build(input_shape = (nx,ny))\n",
    "model.output_shape"
   ]
  },
  {
   "cell_type": "code",
   "execution_count": 70,
   "metadata": {
    "scrolled": true
   },
   "outputs": [
    {
     "data": {
      "text/plain": [
       "15848"
      ]
     },
     "execution_count": 70,
     "metadata": {},
     "output_type": "execute_result"
    }
   ],
   "source": [
    "#del model, wie_by_epoch\n",
    "\n",
    "gc.collect()"
   ]
  },
  {
   "cell_type": "code",
   "execution_count": 71,
   "metadata": {},
   "outputs": [
    {
     "name": "stdout",
     "output_type": "stream",
     "text": [
      "Model: \"sequential\"\n",
      "_________________________________________________________________\n",
      "Layer (type)                 Output Shape              Param #   \n",
      "=================================================================\n",
      "lstm (LSTM)                  (None, 19800, 14)         1456      \n",
      "_________________________________________________________________\n",
      "flatten (Flatten)            (None, 277200)            0         \n",
      "_________________________________________________________________\n",
      "dense (Dense)                (None, 5)                 1386005   \n",
      "=================================================================\n",
      "Total params: 1,387,461\n",
      "Trainable params: 1,387,461\n",
      "Non-trainable params: 0\n",
      "_________________________________________________________________\n"
     ]
    }
   ],
   "source": [
    "#model.build(input_shape = (nx,ny))\n",
    "model.summary()\n"
   ]
  },
  {
   "cell_type": "code",
   "execution_count": 72,
   "metadata": {},
   "outputs": [
    {
     "data": {
      "image/png": "[encoded data removed]",
      "text/plain": [
       "<IPython.core.display.Image object>"
      ]
     },
     "execution_count": 72,
     "metadata": {},
     "output_type": "execute_result"
    }
   ],
   "source": [
    "from tensorflow.keras.utils import plot_model\n",
    "wights = model.get_weights()\n",
    "plot_model(model, show_shapes=True)"
   ]
  },
  {
   "cell_type": "code",
   "execution_count": 73,
   "metadata": {
    "scrolled": true
   },
   "outputs": [
    {
     "name": "stdout",
     "output_type": "stream",
     "text": [
      "Epoch 1/60\n",
      "3/3 - 38s - loss: 2.3029 - sparse_categorical_accuracy: 0.4795\n",
      "Epoch 2/60\n",
      "3/3 - 43s - loss: 0.5968 - sparse_categorical_accuracy: 0.8836\n",
      "Epoch 3/60\n",
      "3/3 - 40s - loss: 1.3857 - sparse_categorical_accuracy: 0.8082\n",
      "Epoch 4/60\n",
      "3/3 - 40s - loss: 0.2175 - sparse_categorical_accuracy: 0.9726\n",
      "Epoch 5/60\n",
      "3/3 - 42s - loss: 0.1104 - sparse_categorical_accuracy: 0.9863\n",
      "Epoch 6/60\n",
      "3/3 - 42s - loss: 0.0538 - sparse_categorical_accuracy: 0.9863\n",
      "Epoch 7/60\n",
      "3/3 - 42s - loss: 0.0222 - sparse_categorical_accuracy: 0.9932\n",
      "Epoch 8/60\n",
      "3/3 - 46s - loss: 0.0224 - sparse_categorical_accuracy: 0.9932\n",
      "Epoch 9/60\n",
      "3/3 - 43s - loss: 0.0202 - sparse_categorical_accuracy: 0.9932\n",
      "Epoch 10/60\n",
      "3/3 - 41s - loss: 0.0191 - sparse_categorical_accuracy: 0.9932\n",
      "Epoch 11/60\n",
      "3/3 - 40s - loss: 0.0195 - sparse_categorical_accuracy: 0.9932\n",
      "Epoch 12/60\n",
      "3/3 - 41s - loss: 0.0182 - sparse_categorical_accuracy: 0.9932\n",
      "Epoch 13/60\n",
      "3/3 - 41s - loss: 0.0184 - sparse_categorical_accuracy: 0.9932\n",
      "Epoch 14/60\n",
      "3/3 - 42s - loss: 0.0188 - sparse_categorical_accuracy: 0.9932\n",
      "Epoch 15/60\n",
      "3/3 - 41s - loss: 0.0180 - sparse_categorical_accuracy: 0.9932\n",
      "Epoch 16/60\n",
      "3/3 - 42s - loss: 0.0177 - sparse_categorical_accuracy: 0.9932\n",
      "Epoch 17/60\n",
      "3/3 - 42s - loss: 0.0166 - sparse_categorical_accuracy: 0.9932\n",
      "Epoch 18/60\n",
      "3/3 - 42s - loss: 0.0162 - sparse_categorical_accuracy: 0.9932\n",
      "Epoch 19/60\n",
      "3/3 - 42s - loss: 0.0167 - sparse_categorical_accuracy: 0.9932\n",
      "Epoch 20/60\n",
      "3/3 - 42s - loss: 0.0157 - sparse_categorical_accuracy: 0.9932\n",
      "Epoch 21/60\n",
      "3/3 - 42s - loss: 0.0163 - sparse_categorical_accuracy: 0.9932\n",
      "Epoch 22/60\n",
      "3/3 - 32s - loss: 0.0138 - sparse_categorical_accuracy: 0.9932\n",
      "Epoch 23/60\n",
      "3/3 - 30s - loss: 0.0118 - sparse_categorical_accuracy: 0.9932\n",
      "Epoch 24/60\n",
      "3/3 - 29s - loss: 0.0111 - sparse_categorical_accuracy: 0.9932\n",
      "Epoch 25/60\n",
      "3/3 - 30s - loss: 0.0104 - sparse_categorical_accuracy: 0.9932\n",
      "Epoch 26/60\n",
      "3/3 - 29s - loss: 0.0101 - sparse_categorical_accuracy: 0.9932\n",
      "Epoch 27/60\n",
      "3/3 - 31s - loss: 0.0096 - sparse_categorical_accuracy: 0.9932\n",
      "Epoch 28/60\n",
      "3/3 - 36s - loss: 0.0090 - sparse_categorical_accuracy: 1.0000\n",
      "Epoch 29/60\n",
      "3/3 - 37s - loss: 0.0083 - sparse_categorical_accuracy: 0.9932\n",
      "Epoch 30/60\n",
      "3/3 - 35s - loss: 0.0081 - sparse_categorical_accuracy: 1.0000\n",
      "Epoch 31/60\n",
      "3/3 - 36s - loss: 0.0080 - sparse_categorical_accuracy: 1.0000\n",
      "Epoch 32/60\n",
      "3/3 - 35s - loss: 0.0055 - sparse_categorical_accuracy: 1.0000\n",
      "Epoch 33/60\n",
      "3/3 - 36s - loss: 0.0051 - sparse_categorical_accuracy: 1.0000\n",
      "Epoch 34/60\n",
      "3/3 - 36s - loss: 0.0053 - sparse_categorical_accuracy: 1.0000\n",
      "Epoch 35/60\n",
      "3/3 - 35s - loss: 0.0044 - sparse_categorical_accuracy: 1.0000\n",
      "Epoch 36/60\n",
      "3/3 - 36s - loss: 0.0041 - sparse_categorical_accuracy: 1.0000\n",
      "Epoch 37/60\n",
      "3/3 - 35s - loss: 0.0043 - sparse_categorical_accuracy: 1.0000\n",
      "Epoch 38/60\n",
      "3/3 - 35s - loss: 2.7514 - sparse_categorical_accuracy: 0.9247\n",
      "Epoch 39/60\n",
      "3/3 - 36s - loss: 0.1874 - sparse_categorical_accuracy: 0.9589\n",
      "Epoch 40/60\n",
      "3/3 - 36s - loss: 0.0160 - sparse_categorical_accuracy: 0.9932\n",
      "Epoch 00040: early stopping\n"
     ]
    }
   ],
   "source": [
    "mod = model.fit(X_train,\n",
    "               Y_train, epochs=60, batch_size= 64, verbose=2 , \n",
    "                callbacks=[callback, print_weights, model_check])"
   ]
  },
  {
   "cell_type": "code",
   "execution_count": 74,
   "metadata": {},
   "outputs": [
    {
     "data": {
      "text/plain": [
       "40"
      ]
     },
     "execution_count": 74,
     "metadata": {},
     "output_type": "execute_result"
    }
   ],
   "source": [
    "# Number of Epochs\n",
    "len(wie_by_epoch)"
   ]
  },
  {
   "cell_type": "code",
   "execution_count": 76,
   "metadata": {},
   "outputs": [],
   "source": [
    "# 7\n",
    "#model.set_weights(wie_by_epoch[45])"
   ]
  },
  {
   "cell_type": "code",
   "execution_count": 77,
   "metadata": {},
   "outputs": [
    {
     "name": "stdout",
     "output_type": "stream",
     "text": [
      "2/2 - 4s - loss: 0.0042 - sparse_categorical_accuracy: 1.0000\n"
     ]
    },
    {
     "data": {
      "text/plain": [
       "[0.004213772714138031, 1.0]"
      ]
     },
     "execution_count": 77,
     "metadata": {},
     "output_type": "execute_result"
    }
   ],
   "source": [
    "scores = model.evaluate(X_test,Y_test, verbose=2)\n",
    "scores"
   ]
  },
  {
   "cell_type": "code",
   "execution_count": 78,
   "metadata": {},
   "outputs": [
    {
     "data": {
      "image/png": "[encoded data removed]",
      "text/plain": [
       "<Figure size 432x288 with 2 Axes>"
      ]
     },
     "metadata": {
      "needs_background": "light"
     },
     "output_type": "display_data"
    }
   ],
   "source": [
    "from matplotlib import pyplot\n",
    "# plot loss during training\n",
    "pyplot.subplot(211)\n",
    "pyplot.title('Loss')\n",
    "pyplot.plot(mod.history['loss'], label='train')\n",
    "#pyplot.plot(mod.history['val_loss'], label='test')\n",
    "pyplot.legend()\n",
    "# plot accuracy during training\n",
    "pyplot.subplot(212)\n",
    "pyplot.title('Accuracy')\n",
    "pyplot.plot(mod.history['sparse_categorical_accuracy'], label='train')\n",
    "#pyplot.plot(mod.history['val_accuracy'], label='test')\n",
    "pyplot.legend()\n",
    "pyplot.show()"
   ]
  },
  {
   "cell_type": "code",
   "execution_count": 79,
   "metadata": {},
   "outputs": [],
   "source": [
    "# predict probabilities for test set\n",
    "yhat_probs = model.predict(X_test.astype('float32'), verbose=0)\n",
    "# predict crisp classes for test set\n",
    "#yhat_classes = model.predict_classes(X_test, verbose=0)\n",
    "yhat_classes = np.argmax(yhat_probs,axis=1)"
   ]
  },
  {
   "cell_type": "code",
   "execution_count": 80,
   "metadata": {},
   "outputs": [
    {
     "name": "stdout",
     "output_type": "stream",
     "text": [
      "Accuracy: 1.000000\n",
      "Precision: 1.000000\n",
      "Recall: 1.000000\n",
      "F1 score: 1.000000\n"
     ]
    }
   ],
   "source": [
    "# accuracy: (tp + tn) / (p + n)\n",
    "accuracy = accuracy_score(Y_test, yhat_classes)\n",
    "print('Accuracy: %f' % accuracy)\n",
    "# precision tp / (tp + fp)\n",
    "precision = precision_score(Y_test, yhat_classes, average='macro')\n",
    "print('Precision: %f' % precision)\n",
    "# recall: tp / (tp + fn)\n",
    "recall = recall_score(Y_test, yhat_classes,average='macro')\n",
    "print('Recall: %f' % recall)\n",
    "# f1: 2 tp / (2 tp + fp + fn)\n",
    "f1 = f1_score(Y_test, yhat_classes, average='macro')\n",
    "print('F1 score: %f' % f1)"
   ]
  },
  {
   "cell_type": "code",
   "execution_count": 81,
   "metadata": {},
   "outputs": [
    {
     "name": "stdout",
     "output_type": "stream",
     "text": [
      "Cohens kappa: 1.000000\n",
      "[[22  0]\n",
      " [ 0 15]]\n"
     ]
    }
   ],
   "source": [
    "# kappa\n",
    "kappa = cohen_kappa_score(Y_test, yhat_classes)\n",
    "print('Cohens kappa: %f' % kappa)\n",
    "# ROC AUC\n",
    "#fprate, tprate, thresholds = roc_curve(Y_test, yhat_probs, average = 'macro')\n",
    "#print('ROC AUC: %f' % thresholds)\n",
    "# confusion matrix\n",
    "matrix = confusion_matrix(Y_test, yhat_classes)\n",
    "print(matrix)"
   ]
  },
  {
   "cell_type": "code",
   "execution_count": 82,
   "metadata": {},
   "outputs": [
    {
     "name": "stderr",
     "output_type": "stream",
     "text": [
      "C:\\Users\\hp\\Anaconda3\\lib\\site-packages\\sklearn\\metrics\\ranking.py:659: UndefinedMetricWarning: No positive samples in y_true, true positive value should be meaningless\n",
      "  UndefinedMetricWarning)\n"
     ]
    }
   ],
   "source": [
    "fpr = {}\n",
    "tpr = {}\n",
    "thresh ={}\n",
    "\n",
    "n_class = 5\n",
    "\n",
    "for i in range(n_class):    \n",
    "    fpr[i], tpr[i], thresh[i] = roc_curve(Y_test, yhat_classes, pos_label=i)"
   ]
  },
  {
   "cell_type": "code",
   "execution_count": 83,
   "metadata": {},
   "outputs": [
    {
     "data": {
      "image/png": "[encoded data removed]",
      "text/plain": [
       "<Figure size 432x288 with 1 Axes>"
      ]
     },
     "metadata": {
      "needs_background": "light"
     },
     "output_type": "display_data"
    }
   ],
   "source": [
    "# plotting    \n",
    "plt.plot(fpr[0], tpr[0], linestyle='--',color='orange', label='Class 0 vs Rest')\n",
    "plt.plot(fpr[1], tpr[1], linestyle='--',color='green', label='Class 1 vs Rest')\n",
    "plt.plot(fpr[2], tpr[2], linestyle='--',color='blue', label='Class 2 vs Rest')\n",
    "plt.plot(fpr[3], tpr[3], linestyle='--',color='red', label='Class 3 vs Rest')\n",
    "plt.plot(fpr[4], tpr[4], linestyle='--',color='black', label='Class 4 vs Rest')\n",
    "plt.title('Multiclass ROC curve')\n",
    "plt.xlabel('False Positive Rate')\n",
    "plt.ylabel('True Positive rate')\n",
    "plt.legend(loc='best')\n",
    "plt.savefig('Multiclass ROC',dpi=300); "
   ]
  },
  {
   "cell_type": "code",
   "execution_count": 84,
   "metadata": {},
   "outputs": [
    {
     "name": "stdout",
     "output_type": "stream",
     "text": [
      "Confusion matrix : \n",
      " [[22  0]\n",
      " [ 0 15]]\n"
     ]
    }
   ],
   "source": [
    "matrix = confusion_matrix(Y_test,yhat_classes, labels= [0, 1])\n",
    "print('Confusion matrix : \\n',matrix)"
   ]
  },
  {
   "cell_type": "code",
   "execution_count": 85,
   "metadata": {},
   "outputs": [
    {
     "name": "stdout",
     "output_type": "stream",
     "text": [
      "Classification report : \n",
      "               precision    recall  f1-score   support\n",
      "\n",
      "           0       1.00      1.00      1.00        22\n",
      "           1       1.00      1.00      1.00        15\n",
      "\n",
      "    accuracy                           1.00        37\n",
      "   macro avg       1.00      1.00      1.00        37\n",
      "weighted avg       1.00      1.00      1.00        37\n",
      "\n"
     ]
    }
   ],
   "source": [
    "matrix = classification_report(Y_test,yhat_classes, labels= [0, 1])\n",
    "print('Classification report : \\n',matrix)"
   ]
  },
  {
   "cell_type": "code",
   "execution_count": 86,
   "metadata": {},
   "outputs": [
    {
     "name": "stdout",
     "output_type": "stream",
     "text": [
      "INFO:tensorflow:Assets written to: ./models/IG feature selection/WithIP Top11/Binary/LSTM\\assets\n"
     ]
    }
   ],
   "source": [
    "import pickle\n",
    "#filename = './models/CFS feature selection/With IP_ Top 7/Multi-class/KNN/KNN.sav'\n",
    "model.save('./models/IG feature selection/WithIP Top11/Binary/LSTM')"
   ]
  },
  {
   "cell_type": "code",
   "execution_count": 87,
   "metadata": {},
   "outputs": [],
   "source": [
    "from keras import backend as K\n",
    "K.clear_session()"
   ]
  },
  {
   "cell_type": "code",
   "execution_count": 88,
   "metadata": {},
   "outputs": [],
   "source": [
    "from keras.callbacks import EarlyStopping\n",
    "from keras.callbacks import ModelCheckpoint, LambdaCallback\n",
    "wie_by_epoch = []\n",
    "model_check = ModelCheckpoint(\"./models/Testpoints/best_model.hdf5\", monitor='loss', verbose=0, save_best_only=True, mode='min', save_freq=1)\n",
    "print_weights = LambdaCallback(on_epoch_end=lambda batch, logs:wie_by_epoch.append(model.get_weights()))\n",
    "callback = tf.keras.callbacks.EarlyStopping(monitor='loss', patience=4, verbose= 2)"
   ]
  },
  {
   "cell_type": "code",
   "execution_count": 89,
   "metadata": {},
   "outputs": [],
   "source": [
    "model = Sequential()\n",
    "model.add(SimpleRNN(16, input_shape=(nx, ny), return_sequences = True, activation='relu'))\n",
    "model.add(Flatten())\n",
    "model.add(Dense(units=5, activation='softmax'))\n",
    "model.compile(optimizer= 'rmsprop', loss='sparse_categorical_crossentropy',  metrics=[keras.metrics.SparseCategoricalAccuracy()])"
   ]
  },
  {
   "cell_type": "code",
   "execution_count": 90,
   "metadata": {
    "scrolled": true
   },
   "outputs": [
    {
     "data": {
      "text/plain": [
       "(None, 5)"
      ]
     },
     "execution_count": 90,
     "metadata": {},
     "output_type": "execute_result"
    }
   ],
   "source": [
    "model.build(input_shape = (nx,ny))\n",
    "model.output_shape"
   ]
  },
  {
   "cell_type": "code",
   "execution_count": 91,
   "metadata": {},
   "outputs": [
    {
     "data": {
      "text/plain": [
       "72719"
      ]
     },
     "execution_count": 91,
     "metadata": {},
     "output_type": "execute_result"
    }
   ],
   "source": [
    "#del model, wie_by_epoch\n",
    "\n",
    "gc.collect()"
   ]
  },
  {
   "cell_type": "code",
   "execution_count": 92,
   "metadata": {},
   "outputs": [
    {
     "name": "stdout",
     "output_type": "stream",
     "text": [
      "Model: \"sequential\"\n",
      "_________________________________________________________________\n",
      "Layer (type)                 Output Shape              Param #   \n",
      "=================================================================\n",
      "simple_rnn (SimpleRNN)       (None, 19800, 16)         448       \n",
      "_________________________________________________________________\n",
      "flatten (Flatten)            (None, 316800)            0         \n",
      "_________________________________________________________________\n",
      "dense (Dense)                (None, 5)                 1584005   \n",
      "=================================================================\n",
      "Total params: 1,584,453\n",
      "Trainable params: 1,584,453\n",
      "Non-trainable params: 0\n",
      "_________________________________________________________________\n"
     ]
    }
   ],
   "source": [
    "#model.build(input_shape = (nx,ny))\n",
    "model.summary()\n"
   ]
  },
  {
   "cell_type": "code",
   "execution_count": 93,
   "metadata": {},
   "outputs": [
    {
     "data": {
      "image/png": "[encoded data removed]",
      "text/plain": [
       "<IPython.core.display.Image object>"
      ]
     },
     "execution_count": 93,
     "metadata": {},
     "output_type": "execute_result"
    }
   ],
   "source": [
    "from tensorflow.keras.utils import plot_model\n",
    "wights = model.get_weights()\n",
    "plot_model(model, show_shapes=True)"
   ]
  },
  {
   "cell_type": "code",
   "execution_count": 94,
   "metadata": {
    "scrolled": true
   },
   "outputs": [
    {
     "name": "stdout",
     "output_type": "stream",
     "text": [
      "Epoch 1/60\n",
      "5/5 - 28s - loss: 7.9491 - sparse_categorical_accuracy: 0.6301\n",
      "Epoch 2/60\n",
      "5/5 - 27s - loss: 0.6229 - sparse_categorical_accuracy: 0.9521\n",
      "Epoch 3/60\n",
      "5/5 - 31s - loss: 0.0380 - sparse_categorical_accuracy: 0.9863\n",
      "Epoch 4/60\n",
      "5/5 - 32s - loss: 0.0200 - sparse_categorical_accuracy: 0.9932\n",
      "Epoch 5/60\n",
      "5/5 - 32s - loss: 0.0174 - sparse_categorical_accuracy: 0.9932\n",
      "Epoch 6/60\n",
      "5/5 - 31s - loss: 0.0175 - sparse_categorical_accuracy: 0.9932\n",
      "Epoch 7/60\n",
      "5/5 - 31s - loss: 0.0189 - sparse_categorical_accuracy: 0.9932\n",
      "Epoch 8/60\n",
      "5/5 - 31s - loss: 0.0162 - sparse_categorical_accuracy: 0.9932\n",
      "Epoch 9/60\n",
      "5/5 - 32s - loss: 0.0134 - sparse_categorical_accuracy: 0.9932\n",
      "Epoch 10/60\n",
      "5/5 - 31s - loss: 0.0132 - sparse_categorical_accuracy: 0.9932\n",
      "Epoch 11/60\n",
      "5/5 - 31s - loss: 0.0121 - sparse_categorical_accuracy: 0.9932\n",
      "Epoch 12/60\n",
      "5/5 - 31s - loss: 0.0104 - sparse_categorical_accuracy: 0.9932\n",
      "Epoch 13/60\n",
      "5/5 - 31s - loss: 0.0094 - sparse_categorical_accuracy: 0.9932\n",
      "Epoch 14/60\n",
      "5/5 - 31s - loss: 0.0080 - sparse_categorical_accuracy: 1.0000\n",
      "Epoch 15/60\n",
      "5/5 - 31s - loss: 0.0076 - sparse_categorical_accuracy: 0.9932\n",
      "Epoch 16/60\n",
      "5/5 - 32s - loss: 0.0063 - sparse_categorical_accuracy: 1.0000\n",
      "Epoch 17/60\n",
      "5/5 - 31s - loss: 0.0051 - sparse_categorical_accuracy: 1.0000\n",
      "Epoch 18/60\n",
      "5/5 - 27s - loss: 0.0042 - sparse_categorical_accuracy: 1.0000\n",
      "Epoch 19/60\n",
      "5/5 - 23s - loss: 0.0034 - sparse_categorical_accuracy: 1.0000\n",
      "Epoch 20/60\n",
      "5/5 - 23s - loss: 0.0028 - sparse_categorical_accuracy: 1.0000\n",
      "Epoch 21/60\n",
      "5/5 - 22s - loss: 0.0027 - sparse_categorical_accuracy: 1.0000\n",
      "Epoch 22/60\n",
      "5/5 - 23s - loss: 0.0016 - sparse_categorical_accuracy: 1.0000\n",
      "Epoch 23/60\n",
      "5/5 - 23s - loss: 0.0018 - sparse_categorical_accuracy: 1.0000\n",
      "Epoch 24/60\n",
      "5/5 - 24s - loss: 0.0011 - sparse_categorical_accuracy: 1.0000\n",
      "Epoch 25/60\n",
      "5/5 - 25s - loss: 8.9636e-04 - sparse_categorical_accuracy: 1.0000\n",
      "Epoch 26/60\n",
      "5/5 - 31s - loss: 8.5984e-04 - sparse_categorical_accuracy: 1.0000\n",
      "Epoch 27/60\n",
      "5/5 - 30s - loss: 9.6754e-04 - sparse_categorical_accuracy: 1.0000\n",
      "Epoch 28/60\n",
      "5/5 - 30s - loss: 3.6139e-04 - sparse_categorical_accuracy: 1.0000\n",
      "Epoch 29/60\n",
      "5/5 - 30s - loss: 2.4579e-04 - sparse_categorical_accuracy: 1.0000\n",
      "Epoch 30/60\n",
      "5/5 - 31s - loss: 2.2512e-04 - sparse_categorical_accuracy: 1.0000\n",
      "Epoch 31/60\n",
      "5/5 - 30s - loss: 1.9322e-04 - sparse_categorical_accuracy: 1.0000\n",
      "Epoch 32/60\n",
      "5/5 - 29s - loss: 1.3240e-04 - sparse_categorical_accuracy: 1.0000\n",
      "Epoch 33/60\n",
      "5/5 - 30s - loss: 7.8169e-05 - sparse_categorical_accuracy: 1.0000\n",
      "Epoch 34/60\n",
      "5/5 - 30s - loss: 7.6927e-05 - sparse_categorical_accuracy: 1.0000\n",
      "Epoch 35/60\n",
      "5/5 - 30s - loss: 5.2383 - sparse_categorical_accuracy: 0.8767\n",
      "Epoch 36/60\n",
      "5/5 - 30s - loss: 5.2878e-04 - sparse_categorical_accuracy: 1.0000\n",
      "Epoch 37/60\n",
      "5/5 - 31s - loss: 4.7462e-04 - sparse_categorical_accuracy: 1.0000\n",
      "Epoch 38/60\n",
      "5/5 - 29s - loss: 4.1227e-04 - sparse_categorical_accuracy: 1.0000\n",
      "Epoch 00038: early stopping\n"
     ]
    }
   ],
   "source": [
    "mod = model.fit(X_train,\n",
    "               Y_train, epochs=60, batch_size= 32, verbose=2 , \n",
    "                callbacks=[callback, print_weights, model_check])"
   ]
  },
  {
   "cell_type": "code",
   "execution_count": 95,
   "metadata": {},
   "outputs": [
    {
     "data": {
      "text/plain": [
       "38"
      ]
     },
     "execution_count": 95,
     "metadata": {},
     "output_type": "execute_result"
    }
   ],
   "source": [
    "#Number of Epochs\n",
    "len(wie_by_epoch)"
   ]
  },
  {
   "cell_type": "code",
   "execution_count": 96,
   "metadata": {},
   "outputs": [],
   "source": [
    "#120 +21\n",
    "#model.set_weights(wie_by_epoch[95])\n",
    "#mod.history.get('sparse_categorical_accuracy')"
   ]
  },
  {
   "cell_type": "code",
   "execution_count": 97,
   "metadata": {},
   "outputs": [
    {
     "name": "stdout",
     "output_type": "stream",
     "text": [
      "2/2 - 3s - loss: 0.0011 - sparse_categorical_accuracy: 1.0000\n"
     ]
    },
    {
     "data": {
      "text/plain": [
       "[0.0011153246741741896, 1.0]"
      ]
     },
     "execution_count": 97,
     "metadata": {},
     "output_type": "execute_result"
    }
   ],
   "source": [
    "scores = model.evaluate(X_test,Y_test, verbose=2)\n",
    "scores"
   ]
  },
  {
   "cell_type": "code",
   "execution_count": 98,
   "metadata": {},
   "outputs": [
    {
     "data": {
      "text/plain": [
       "{'loss': 0.0011153246741741896, 'sparse_categorical_accuracy': 1.0}"
      ]
     },
     "execution_count": 98,
     "metadata": {},
     "output_type": "execute_result"
    }
   ],
   "source": [
    "dict(zip(model.metrics_names, scores))"
   ]
  },
  {
   "cell_type": "code",
   "execution_count": 99,
   "metadata": {},
   "outputs": [
    {
     "data": {
      "image/png": "[encoded data removed]",
      "text/plain": [
       "<Figure size 432x288 with 2 Axes>"
      ]
     },
     "metadata": {
      "needs_background": "light"
     },
     "output_type": "display_data"
    }
   ],
   "source": [
    "from matplotlib import pyplot\n",
    "# plot loss during training\n",
    "pyplot.subplot(211)\n",
    "pyplot.title('Loss')\n",
    "pyplot.plot(mod.history['loss'], label='train')\n",
    "#pyplot.plot(mod.history['val_loss'], label='test')\n",
    "pyplot.legend()\n",
    "# plot accuracy during training\n",
    "pyplot.subplot(212)\n",
    "pyplot.title('Accuracy')\n",
    "pyplot.plot(mod.history['sparse_categorical_accuracy'], label='train')\n",
    "#pyplot.plot(mod.history['val_accuracy'], label='test')\n",
    "pyplot.legend()\n",
    "pyplot.show()"
   ]
  },
  {
   "cell_type": "code",
   "execution_count": 100,
   "metadata": {},
   "outputs": [],
   "source": [
    "# predict probabilities for test set\n",
    "yhat_probs = model.predict(X_test.astype('float32'), verbose=0)\n",
    "# predict crisp classes for test set\n",
    "#yhat_classes = model.predict_classes(X_test, verbose=0)\n",
    "yhat_classes = np.argmax(yhat_probs,axis=1)"
   ]
  },
  {
   "cell_type": "code",
   "execution_count": 101,
   "metadata": {},
   "outputs": [
    {
     "name": "stdout",
     "output_type": "stream",
     "text": [
      "Accuracy: 1.000000\n",
      "Precision: 1.000000\n",
      "Recall: 1.000000\n",
      "F1 score: 1.000000\n"
     ]
    }
   ],
   "source": [
    "# accuracy: (tp + tn) / (p + n)\n",
    "accuracy = accuracy_score(Y_test, yhat_classes)\n",
    "print('Accuracy: %f' % accuracy)\n",
    "# precision tp / (tp + fp)\n",
    "precision = precision_score(Y_test, yhat_classes, average='macro')\n",
    "print('Precision: %f' % precision)\n",
    "# recall: tp / (tp + fn)\n",
    "recall = recall_score(Y_test, yhat_classes,average='macro')\n",
    "print('Recall: %f' % recall)\n",
    "# f1: 2 tp / (2 tp + fp + fn)\n",
    "f1 = f1_score(Y_test, yhat_classes, average='macro')\n",
    "print('F1 score: %f' % f1)"
   ]
  },
  {
   "cell_type": "code",
   "execution_count": 102,
   "metadata": {},
   "outputs": [
    {
     "name": "stdout",
     "output_type": "stream",
     "text": [
      "Cohens kappa: 1.000000\n",
      "[[22  0]\n",
      " [ 0 15]]\n"
     ]
    }
   ],
   "source": [
    "# kappa\n",
    "kappa = cohen_kappa_score(Y_test, yhat_classes)\n",
    "print('Cohens kappa: %f' % kappa)\n",
    "# ROC AUC\n",
    "#fprate, tprate, thresholds = roc_curve(Y_test, yhat_probs, average = 'macro')\n",
    "#print('ROC AUC: %f' % thresholds)\n",
    "# confusion matrix\n",
    "matrix = confusion_matrix(Y_test, yhat_classes)\n",
    "print(matrix)"
   ]
  },
  {
   "cell_type": "code",
   "execution_count": 103,
   "metadata": {},
   "outputs": [
    {
     "name": "stderr",
     "output_type": "stream",
     "text": [
      "C:\\Users\\hp\\Anaconda3\\lib\\site-packages\\sklearn\\metrics\\ranking.py:659: UndefinedMetricWarning: No positive samples in y_true, true positive value should be meaningless\n",
      "  UndefinedMetricWarning)\n"
     ]
    }
   ],
   "source": [
    "fpr = {}\n",
    "tpr = {}\n",
    "thresh ={}\n",
    "\n",
    "n_class = 5\n",
    "\n",
    "for i in range(n_class):    \n",
    "    fpr[i], tpr[i], thresh[i] = roc_curve(Y_test, yhat_classes, pos_label=i)"
   ]
  },
  {
   "cell_type": "code",
   "execution_count": 104,
   "metadata": {},
   "outputs": [
    {
     "data": {
      "image/png": "[encoded data removed]",
      "text/plain": [
       "<Figure size 432x288 with 1 Axes>"
      ]
     },
     "metadata": {
      "needs_background": "light"
     },
     "output_type": "display_data"
    }
   ],
   "source": [
    "# plotting    \n",
    "plt.plot(fpr[0], tpr[0], linestyle='--',color='orange', label='Class 0 vs Rest')\n",
    "plt.plot(fpr[1], tpr[1], linestyle='--',color='green', label='Class 1 vs Rest')\n",
    "plt.plot(fpr[2], tpr[2], linestyle='--',color='blue', label='Class 2 vs Rest')\n",
    "plt.plot(fpr[3], tpr[3], linestyle='--',color='red', label='Class 3 vs Rest')\n",
    "plt.plot(fpr[4], tpr[4], linestyle='--',color='black', label='Class 4 vs Rest')\n",
    "plt.title('Multiclass ROC curve')\n",
    "plt.xlabel('False Positive Rate')\n",
    "plt.ylabel('True Positive rate')\n",
    "plt.legend(loc='best')\n",
    "plt.savefig('Multiclass ROC',dpi=300); "
   ]
  },
  {
   "cell_type": "code",
   "execution_count": 105,
   "metadata": {},
   "outputs": [
    {
     "name": "stdout",
     "output_type": "stream",
     "text": [
      "Confusion matrix : \n",
      " [[22  0]\n",
      " [ 0 15]]\n"
     ]
    }
   ],
   "source": [
    "matrix = confusion_matrix(Y_test,yhat_classes, labels= [0, 1])\n",
    "print('Confusion matrix : \\n',matrix)"
   ]
  },
  {
   "cell_type": "code",
   "execution_count": 106,
   "metadata": {},
   "outputs": [
    {
     "name": "stdout",
     "output_type": "stream",
     "text": [
      "Classification report : \n",
      "               precision    recall  f1-score   support\n",
      "\n",
      "           0       1.00      1.00      1.00        22\n",
      "           1       1.00      1.00      1.00        15\n",
      "\n",
      "    accuracy                           1.00        37\n",
      "   macro avg       1.00      1.00      1.00        37\n",
      "weighted avg       1.00      1.00      1.00        37\n",
      "\n"
     ]
    }
   ],
   "source": [
    "matrix = classification_report(Y_test,yhat_classes, labels= [0, 1])\n",
    "print('Classification report : \\n',matrix)"
   ]
  },
  {
   "cell_type": "code",
   "execution_count": 107,
   "metadata": {},
   "outputs": [
    {
     "name": "stdout",
     "output_type": "stream",
     "text": [
      "INFO:tensorflow:Assets written to: ./models/IG feature selection/WithIP Top11/Binary/Simple RNN\\assets\n"
     ]
    }
   ],
   "source": [
    "import pickle\n",
    "model.save('./models/IG feature selection/WithIP Top11/Binary/Simple RNN')"
   ]
  },
  {
   "cell_type": "code",
   "execution_count": null,
   "metadata": {},
   "outputs": [],
   "source": [
    "#MLP"
   ]
  },
  {
   "cell_type": "code",
   "execution_count": 108,
   "metadata": {},
   "outputs": [
    {
     "name": "stdout",
     "output_type": "stream",
     "text": [
      "samples: 37 \n",
      " X:19800 \n",
      " Y:11\n"
     ]
    }
   ],
   "source": [
    "#X = make_4D(X)\n",
    "nsamples,nx, ny = X_test.shape\n",
    "print(f\"samples: {nsamples} \\n X:{nx} \\n Y:{ny}\" )\n",
    "X_test = X_test.reshape((nsamples,nx*ny))"
   ]
  },
  {
   "cell_type": "code",
   "execution_count": 109,
   "metadata": {},
   "outputs": [
    {
     "name": "stdout",
     "output_type": "stream",
     "text": [
      "samples: 146 \n",
      " X:19800 \n",
      " Y:11\n"
     ]
    }
   ],
   "source": [
    "nsamples,nx, ny = X_train.shape\n",
    "print(f\"samples: {nsamples} \\n X:{nx} \\n Y:{ny}\" )\n",
    "X_train = X_train.reshape((nsamples,nx*ny))"
   ]
  },
  {
   "cell_type": "code",
   "execution_count": 110,
   "metadata": {},
   "outputs": [],
   "source": [
    "from sklearn.neural_network import MLPClassifier"
   ]
  },
  {
   "cell_type": "code",
   "execution_count": 111,
   "metadata": {},
   "outputs": [],
   "source": [
    "clf = MLPClassifier(hidden_layer_sizes=(256,128,64,32),activation=\"relu\",random_state=1).fit(X_train, Y_train)\n",
    "y_pred=clf.predict(X_test)\n"
   ]
  },
  {
   "cell_type": "code",
   "execution_count": 112,
   "metadata": {},
   "outputs": [
    {
     "data": {
      "text/plain": [
       "0.9459459459459459"
      ]
     },
     "execution_count": 112,
     "metadata": {},
     "output_type": "execute_result"
    }
   ],
   "source": [
    "clf.score(X_test, Y_test)"
   ]
  },
  {
   "cell_type": "code",
   "execution_count": 113,
   "metadata": {},
   "outputs": [],
   "source": [
    "yhat_classes = y_pred"
   ]
  },
  {
   "cell_type": "code",
   "execution_count": 114,
   "metadata": {},
   "outputs": [],
   "source": [
    "from sklearn.datasets import make_circles\n",
    "from sklearn.metrics import accuracy_score\n",
    "from sklearn.metrics import precision_score\n",
    "from sklearn.metrics import recall_score\n",
    "from sklearn.metrics import f1_score\n",
    "from sklearn.metrics import cohen_kappa_score\n",
    "from sklearn.metrics import roc_auc_score\n",
    "from sklearn.metrics import confusion_matrix\n",
    "from sklearn.metrics import roc_curve\n"
   ]
  },
  {
   "cell_type": "code",
   "execution_count": 115,
   "metadata": {},
   "outputs": [
    {
     "name": "stdout",
     "output_type": "stream",
     "text": [
      "Accuracy: 0.945946\n",
      "Precision: 0.941176\n",
      "Recall: 0.954545\n",
      "F1 score: 0.944940\n"
     ]
    }
   ],
   "source": [
    "# accuracy: (tp + tn) / (p + n)\n",
    "accuracy = accuracy_score(Y_test, yhat_classes)\n",
    "print('Accuracy: %f' % accuracy)\n",
    "# precision tp / (tp + fp)\n",
    "precision = precision_score(Y_test, yhat_classes, average='macro')\n",
    "print('Precision: %f' % precision)\n",
    "# recall: tp / (tp + fn)\n",
    "recall = recall_score(Y_test, yhat_classes,average='macro')\n",
    "print('Recall: %f' % recall)\n",
    "# f1: 2 tp / (2 tp + fp + fn)\n",
    "f1 = f1_score(Y_test, yhat_classes, average='macro')\n",
    "print('F1 score: %f' % f1)"
   ]
  },
  {
   "cell_type": "code",
   "execution_count": 116,
   "metadata": {},
   "outputs": [
    {
     "name": "stdout",
     "output_type": "stream",
     "text": [
      "Cohens kappa: 0.890208\n",
      "[[20  2]\n",
      " [ 0 15]]\n"
     ]
    }
   ],
   "source": [
    "# kappa\n",
    "kappa = cohen_kappa_score(Y_test, yhat_classes)\n",
    "print('Cohens kappa: %f' % kappa)\n",
    "# ROC AUC\n",
    "#fprate, tprate, thresholds = roc_curve(Y_test, yhat_probs, average = 'macro')\n",
    "#print('ROC AUC: %f' % thresholds)\n",
    "# confusion matrix\n",
    "matrix = confusion_matrix(Y_test, yhat_classes)\n",
    "print(matrix)"
   ]
  },
  {
   "cell_type": "code",
   "execution_count": 117,
   "metadata": {},
   "outputs": [
    {
     "name": "stderr",
     "output_type": "stream",
     "text": [
      "C:\\Users\\hp\\Anaconda3\\lib\\site-packages\\sklearn\\metrics\\ranking.py:659: UndefinedMetricWarning: No positive samples in y_true, true positive value should be meaningless\n",
      "  UndefinedMetricWarning)\n"
     ]
    }
   ],
   "source": [
    "fpr = {}\n",
    "tpr = {}\n",
    "thresh ={}\n",
    "\n",
    "n_class = 5\n",
    "\n",
    "for i in range(n_class):    \n",
    "    fpr[i], tpr[i], thresh[i] = roc_curve(Y_test, yhat_classes, pos_label=i)"
   ]
  },
  {
   "cell_type": "code",
   "execution_count": 118,
   "metadata": {},
   "outputs": [
    {
     "data": {
      "image/png": "[encoded data removed]",
      "text/plain": [
       "<Figure size 432x288 with 1 Axes>"
      ]
     },
     "metadata": {
      "needs_background": "light"
     },
     "output_type": "display_data"
    }
   ],
   "source": [
    "# plotting    \n",
    "plt.plot(fpr[0], tpr[0], linestyle='--',color='orange', label='Class 0 vs Rest')\n",
    "plt.plot(fpr[1], tpr[1], linestyle='--',color='green', label='Class 1 vs Rest')\n",
    "plt.plot(fpr[2], tpr[2], linestyle='--',color='blue', label='Class 2 vs Rest')\n",
    "plt.plot(fpr[3], tpr[3], linestyle='--',color='red', label='Class 3 vs Rest')\n",
    "plt.plot(fpr[4], tpr[4], linestyle='--',color='black', label='Class 4 vs Rest')\n",
    "plt.title('Multiclass ROC curve')\n",
    "plt.xlabel('False Positive Rate')\n",
    "plt.ylabel('True Positive rate')\n",
    "plt.legend(loc='best')\n",
    "plt.savefig('Multiclass ROC',dpi=300); "
   ]
  },
  {
   "cell_type": "code",
   "execution_count": 119,
   "metadata": {},
   "outputs": [
    {
     "name": "stdout",
     "output_type": "stream",
     "text": [
      "Confusion matrix : \n",
      " [[20  2]\n",
      " [ 0 15]]\n"
     ]
    }
   ],
   "source": [
    "from sklearn.metrics import confusion_matrix\n",
    "from sklearn.metrics import classification_report\n",
    "matrix = confusion_matrix(Y_test, yhat_classes, labels= [0, 1])\n",
    "print('Confusion matrix : \\n',matrix)"
   ]
  },
  {
   "cell_type": "code",
   "execution_count": 120,
   "metadata": {},
   "outputs": [
    {
     "name": "stdout",
     "output_type": "stream",
     "text": [
      "Classification report : \n",
      "               precision    recall  f1-score   support\n",
      "\n",
      "           0       1.00      0.91      0.95        22\n",
      "           1       0.88      1.00      0.94        15\n",
      "\n",
      "    accuracy                           0.95        37\n",
      "   macro avg       0.94      0.95      0.94        37\n",
      "weighted avg       0.95      0.95      0.95        37\n",
      "\n"
     ]
    }
   ],
   "source": [
    "matrix = classification_report(Y_test,yhat_classes, labels= [0, 1])\n",
    "print('Classification report : \\n',matrix)"
   ]
  },
  {
   "cell_type": "code",
   "execution_count": 121,
   "metadata": {},
   "outputs": [],
   "source": [
    "import pickle\n",
    "# save the model to disk\n",
    "filename = './models/IG feature selection/WithIP Top11/Binary/MLP/MLP.sav'\n",
    "pickle.dump(clf, open(filename, 'wb'))"
   ]
  },
  {
   "cell_type": "code",
   "execution_count": 122,
   "metadata": {},
   "outputs": [
    {
     "name": "stdout",
     "output_type": "stream",
     "text": [
      "WARNING:tensorflow:From C:\\Users\\hp\\AppData\\Roaming\\Python\\Python37\\site-packages\\tensorflow\\python\\compat\\v2_compat.py:101: disable_resource_variables (from tensorflow.python.ops.variable_scope) is deprecated and will be removed in a future version.\n",
      "Instructions for updating:\n",
      "non-resource variables are not supported in the long term\n"
     ]
    }
   ],
   "source": [
    "#DBN model\n",
    "from dbn.tensorflow import SupervisedDBNClassification"
   ]
  },
  {
   "cell_type": "code",
   "execution_count": 144,
   "metadata": {},
   "outputs": [],
   "source": [
    "classifier = SupervisedDBNClassification(hidden_layers_structure=[64,64],\n",
    "                                         learning_rate_rbm=0.00001,\n",
    "                                         learning_rate=0.01,\n",
    "                                         n_epochs_rbm=32,\n",
    "                                         n_iter_backprop=512,\n",
    "                                         batch_size=32,\n",
    "                                         activation_function='relu',\n",
    "                                         dropout_p=0.00001)"
   ]
  },
  {
   "cell_type": "code",
   "execution_count": 143,
   "metadata": {},
   "outputs": [
    {
     "data": {
      "text/plain": [
       "106"
      ]
     },
     "execution_count": 143,
     "metadata": {},
     "output_type": "execute_result"
    }
   ],
   "source": [
    "del classifier\n",
    "gc.collect()"
   ]
  },
  {
   "cell_type": "code",
   "execution_count": 145,
   "metadata": {
    "scrolled": true
   },
   "outputs": [
    {
     "name": "stdout",
     "output_type": "stream",
     "text": [
      "[START] Pre-training step:\n",
      ">> Epoch 1 finished \tRBM Reconstruction error 13094.500977\n",
      ">> Epoch 2 finished \tRBM Reconstruction error 13094.230469\n",
      ">> Epoch 3 finished \tRBM Reconstruction error 13093.945312\n",
      ">> Epoch 4 finished \tRBM Reconstruction error 13093.654297\n",
      ">> Epoch 5 finished \tRBM Reconstruction error 13093.332031\n",
      ">> Epoch 6 finished \tRBM Reconstruction error 13092.995117\n",
      ">> Epoch 7 finished \tRBM Reconstruction error 13092.575195\n",
      ">> Epoch 8 finished \tRBM Reconstruction error 13092.058594\n",
      ">> Epoch 9 finished \tRBM Reconstruction error 13091.390625\n",
      ">> Epoch 10 finished \tRBM Reconstruction error 13090.479492\n",
      ">> Epoch 11 finished \tRBM Reconstruction error 13089.276367\n",
      ">> Epoch 12 finished \tRBM Reconstruction error 13087.504883\n",
      ">> Epoch 13 finished \tRBM Reconstruction error 13085.301758\n",
      ">> Epoch 14 finished \tRBM Reconstruction error 13082.070312\n",
      ">> Epoch 15 finished \tRBM Reconstruction error 13077.871094\n",
      ">> Epoch 16 finished \tRBM Reconstruction error 13072.093750\n",
      ">> Epoch 17 finished \tRBM Reconstruction error 13064.618164\n",
      ">> Epoch 18 finished \tRBM Reconstruction error 13055.218750\n",
      ">> Epoch 19 finished \tRBM Reconstruction error 13043.456055\n",
      ">> Epoch 20 finished \tRBM Reconstruction error 13029.142578\n",
      ">> Epoch 21 finished \tRBM Reconstruction error 13012.043945\n",
      ">> Epoch 22 finished \tRBM Reconstruction error 12991.856445\n",
      ">> Epoch 23 finished \tRBM Reconstruction error 12968.414062\n",
      ">> Epoch 24 finished \tRBM Reconstruction error 12941.611328\n",
      ">> Epoch 25 finished \tRBM Reconstruction error 12911.227539\n",
      ">> Epoch 26 finished \tRBM Reconstruction error 12877.106445\n",
      ">> Epoch 27 finished \tRBM Reconstruction error 12839.075195\n",
      ">> Epoch 28 finished \tRBM Reconstruction error 12797.000000\n",
      ">> Epoch 29 finished \tRBM Reconstruction error 12750.618164\n",
      ">> Epoch 30 finished \tRBM Reconstruction error 12699.741211\n",
      ">> Epoch 31 finished \tRBM Reconstruction error 12644.480469\n",
      ">> Epoch 32 finished \tRBM Reconstruction error 12584.669922\n",
      ">> Epoch 1 finished \tRBM Reconstruction error 254.764496\n",
      ">> Epoch 2 finished \tRBM Reconstruction error 254.708557\n",
      ">> Epoch 3 finished \tRBM Reconstruction error 254.651855\n",
      ">> Epoch 4 finished \tRBM Reconstruction error 254.591797\n",
      ">> Epoch 5 finished \tRBM Reconstruction error 254.533340\n",
      ">> Epoch 6 finished \tRBM Reconstruction error 254.473999\n",
      ">> Epoch 7 finished \tRBM Reconstruction error 254.412704\n",
      ">> Epoch 8 finished \tRBM Reconstruction error 254.347931\n",
      ">> Epoch 9 finished \tRBM Reconstruction error 254.282349\n",
      ">> Epoch 10 finished \tRBM Reconstruction error 254.215881\n",
      ">> Epoch 11 finished \tRBM Reconstruction error 254.151108\n",
      ">> Epoch 12 finished \tRBM Reconstruction error 254.085190\n",
      ">> Epoch 13 finished \tRBM Reconstruction error 254.016968\n",
      ">> Epoch 14 finished \tRBM Reconstruction error 253.948547\n",
      ">> Epoch 15 finished \tRBM Reconstruction error 253.878845\n",
      ">> Epoch 16 finished \tRBM Reconstruction error 253.809235\n",
      ">> Epoch 17 finished \tRBM Reconstruction error 253.734802\n",
      ">> Epoch 18 finished \tRBM Reconstruction error 253.661758\n",
      ">> Epoch 19 finished \tRBM Reconstruction error 253.586746\n",
      ">> Epoch 20 finished \tRBM Reconstruction error 253.512527\n",
      ">> Epoch 21 finished \tRBM Reconstruction error 253.433945\n",
      ">> Epoch 22 finished \tRBM Reconstruction error 253.353546\n",
      ">> Epoch 23 finished \tRBM Reconstruction error 253.276749\n",
      ">> Epoch 24 finished \tRBM Reconstruction error 253.195068\n",
      ">> Epoch 25 finished \tRBM Reconstruction error 253.112854\n",
      ">> Epoch 26 finished \tRBM Reconstruction error 253.029907\n",
      ">> Epoch 27 finished \tRBM Reconstruction error 252.942261\n",
      ">> Epoch 28 finished \tRBM Reconstruction error 252.856277\n",
      ">> Epoch 29 finished \tRBM Reconstruction error 252.768600\n",
      ">> Epoch 30 finished \tRBM Reconstruction error 252.681778\n",
      ">> Epoch 31 finished \tRBM Reconstruction error 252.590118\n",
      ">> Epoch 32 finished \tRBM Reconstruction error 252.498642\n",
      "[END] Pre-training step\n",
      "[START] Fine tuning step:\n",
      ">> Epoch 0 finished \tANN training loss 0.682235\n",
      ">> Epoch 1 finished \tANN training loss 0.672754\n",
      ">> Epoch 2 finished \tANN training loss 0.659827\n",
      ">> Epoch 3 finished \tANN training loss 0.647003\n",
      ">> Epoch 4 finished \tANN training loss 0.633486\n",
      ">> Epoch 5 finished \tANN training loss 0.621295\n",
      ">> Epoch 6 finished \tANN training loss 0.611116\n",
      ">> Epoch 7 finished \tANN training loss 0.601166\n",
      ">> Epoch 8 finished \tANN training loss 0.592116\n",
      ">> Epoch 9 finished \tANN training loss 0.582477\n",
      ">> Epoch 10 finished \tANN training loss 0.572626\n",
      ">> Epoch 11 finished \tANN training loss 0.561135\n",
      ">> Epoch 12 finished \tANN training loss 0.548433\n",
      ">> Epoch 13 finished \tANN training loss 0.534581\n",
      ">> Epoch 14 finished \tANN training loss 0.517712\n",
      ">> Epoch 15 finished \tANN training loss 0.498247\n",
      ">> Epoch 16 finished \tANN training loss 0.475713\n",
      ">> Epoch 17 finished \tANN training loss 0.448902\n",
      ">> Epoch 18 finished \tANN training loss 0.422273\n",
      ">> Epoch 19 finished \tANN training loss 0.398044\n",
      ">> Epoch 20 finished \tANN training loss 0.378479\n",
      ">> Epoch 21 finished \tANN training loss 0.358539\n",
      ">> Epoch 22 finished \tANN training loss 0.343188\n",
      ">> Epoch 23 finished \tANN training loss 0.332647\n",
      ">> Epoch 24 finished \tANN training loss 0.318743\n",
      ">> Epoch 25 finished \tANN training loss 0.308049\n",
      ">> Epoch 26 finished \tANN training loss 0.293716\n",
      ">> Epoch 27 finished \tANN training loss 0.283107\n",
      ">> Epoch 28 finished \tANN training loss 0.273539\n",
      ">> Epoch 29 finished \tANN training loss 0.265205\n",
      ">> Epoch 30 finished \tANN training loss 0.257455\n",
      ">> Epoch 31 finished \tANN training loss 0.253393\n",
      ">> Epoch 32 finished \tANN training loss 0.243016\n",
      ">> Epoch 33 finished \tANN training loss 0.236741\n",
      ">> Epoch 34 finished \tANN training loss 0.231852\n",
      ">> Epoch 35 finished \tANN training loss 0.225521\n",
      ">> Epoch 36 finished \tANN training loss 0.222071\n",
      ">> Epoch 37 finished \tANN training loss 0.215036\n",
      ">> Epoch 38 finished \tANN training loss 0.209913\n",
      ">> Epoch 39 finished \tANN training loss 0.203603\n",
      ">> Epoch 40 finished \tANN training loss 0.198414\n",
      ">> Epoch 41 finished \tANN training loss 0.192718\n",
      ">> Epoch 42 finished \tANN training loss 0.187606\n",
      ">> Epoch 43 finished \tANN training loss 0.181565\n",
      ">> Epoch 44 finished \tANN training loss 0.176175\n",
      ">> Epoch 45 finished \tANN training loss 0.171077\n",
      ">> Epoch 46 finished \tANN training loss 0.165853\n",
      ">> Epoch 47 finished \tANN training loss 0.160733\n",
      ">> Epoch 48 finished \tANN training loss 0.155876\n",
      ">> Epoch 49 finished \tANN training loss 0.150970\n",
      ">> Epoch 50 finished \tANN training loss 0.146173\n",
      ">> Epoch 51 finished \tANN training loss 0.141949\n",
      ">> Epoch 52 finished \tANN training loss 0.137658\n",
      ">> Epoch 53 finished \tANN training loss 0.133733\n",
      ">> Epoch 54 finished \tANN training loss 0.129694\n",
      ">> Epoch 55 finished \tANN training loss 0.126017\n",
      ">> Epoch 56 finished \tANN training loss 0.122338\n",
      ">> Epoch 57 finished \tANN training loss 0.118791\n",
      ">> Epoch 58 finished \tANN training loss 0.115125\n",
      ">> Epoch 59 finished \tANN training loss 0.111679\n",
      ">> Epoch 60 finished \tANN training loss 0.108274\n",
      ">> Epoch 61 finished \tANN training loss 0.104952\n",
      ">> Epoch 62 finished \tANN training loss 0.101659\n",
      ">> Epoch 63 finished \tANN training loss 0.098490\n",
      ">> Epoch 64 finished \tANN training loss 0.095432\n",
      ">> Epoch 65 finished \tANN training loss 0.092249\n",
      ">> Epoch 66 finished \tANN training loss 0.089252\n",
      ">> Epoch 67 finished \tANN training loss 0.086337\n",
      ">> Epoch 68 finished \tANN training loss 0.083584\n",
      ">> Epoch 69 finished \tANN training loss 0.080834\n",
      ">> Epoch 70 finished \tANN training loss 0.078140\n",
      ">> Epoch 71 finished \tANN training loss 0.075598\n",
      ">> Epoch 72 finished \tANN training loss 0.073121\n",
      ">> Epoch 73 finished \tANN training loss 0.070535\n",
      ">> Epoch 74 finished \tANN training loss 0.068261\n",
      ">> Epoch 75 finished \tANN training loss 0.065977\n",
      ">> Epoch 76 finished \tANN training loss 0.063692\n",
      ">> Epoch 77 finished \tANN training loss 0.061550\n",
      ">> Epoch 78 finished \tANN training loss 0.059522\n",
      ">> Epoch 79 finished \tANN training loss 0.057547\n",
      ">> Epoch 80 finished \tANN training loss 0.055700\n",
      ">> Epoch 81 finished \tANN training loss 0.053901\n",
      ">> Epoch 82 finished \tANN training loss 0.052135\n",
      ">> Epoch 83 finished \tANN training loss 0.050479\n",
      ">> Epoch 84 finished \tANN training loss 0.048920\n",
      ">> Epoch 85 finished \tANN training loss 0.047433\n",
      ">> Epoch 86 finished \tANN training loss 0.046036\n",
      ">> Epoch 87 finished \tANN training loss 0.044738\n",
      ">> Epoch 88 finished \tANN training loss 0.043381\n",
      ">> Epoch 89 finished \tANN training loss 0.042161\n"
     ]
    },
    {
     "name": "stdout",
     "output_type": "stream",
     "text": [
      ">> Epoch 90 finished \tANN training loss 0.040915\n",
      ">> Epoch 91 finished \tANN training loss 0.039868\n",
      ">> Epoch 92 finished \tANN training loss 0.038772\n",
      ">> Epoch 93 finished \tANN training loss 0.037782\n",
      ">> Epoch 94 finished \tANN training loss 0.036789\n",
      ">> Epoch 95 finished \tANN training loss 0.035919\n",
      ">> Epoch 96 finished \tANN training loss 0.035031\n",
      ">> Epoch 97 finished \tANN training loss 0.034236\n",
      ">> Epoch 98 finished \tANN training loss 0.033446\n",
      ">> Epoch 99 finished \tANN training loss 0.032737\n",
      ">> Epoch 100 finished \tANN training loss 0.032020\n",
      ">> Epoch 101 finished \tANN training loss 0.031343\n",
      ">> Epoch 102 finished \tANN training loss 0.030690\n",
      ">> Epoch 103 finished \tANN training loss 0.030060\n",
      ">> Epoch 104 finished \tANN training loss 0.029481\n",
      ">> Epoch 105 finished \tANN training loss 0.028916\n",
      ">> Epoch 106 finished \tANN training loss 0.028367\n",
      ">> Epoch 107 finished \tANN training loss 0.027880\n",
      ">> Epoch 108 finished \tANN training loss 0.027416\n",
      ">> Epoch 109 finished \tANN training loss 0.026952\n",
      ">> Epoch 110 finished \tANN training loss 0.026519\n",
      ">> Epoch 111 finished \tANN training loss 0.026094\n",
      ">> Epoch 112 finished \tANN training loss 0.025685\n",
      ">> Epoch 113 finished \tANN training loss 0.025295\n",
      ">> Epoch 114 finished \tANN training loss 0.024917\n",
      ">> Epoch 115 finished \tANN training loss 0.024564\n",
      ">> Epoch 116 finished \tANN training loss 0.024223\n",
      ">> Epoch 117 finished \tANN training loss 0.023861\n",
      ">> Epoch 118 finished \tANN training loss 0.023544\n",
      ">> Epoch 119 finished \tANN training loss 0.023239\n",
      ">> Epoch 120 finished \tANN training loss 0.022955\n",
      ">> Epoch 121 finished \tANN training loss 0.022669\n",
      ">> Epoch 122 finished \tANN training loss 0.022396\n",
      ">> Epoch 123 finished \tANN training loss 0.022132\n",
      ">> Epoch 124 finished \tANN training loss 0.021884\n",
      ">> Epoch 125 finished \tANN training loss 0.021641\n",
      ">> Epoch 126 finished \tANN training loss 0.021412\n",
      ">> Epoch 127 finished \tANN training loss 0.021198\n",
      ">> Epoch 128 finished \tANN training loss 0.020986\n",
      ">> Epoch 129 finished \tANN training loss 0.020758\n",
      ">> Epoch 130 finished \tANN training loss 0.020547\n",
      ">> Epoch 131 finished \tANN training loss 0.020345\n",
      ">> Epoch 132 finished \tANN training loss 0.020149\n",
      ">> Epoch 133 finished \tANN training loss 0.019959\n",
      ">> Epoch 134 finished \tANN training loss 0.019773\n",
      ">> Epoch 135 finished \tANN training loss 0.019593\n",
      ">> Epoch 136 finished \tANN training loss 0.019421\n",
      ">> Epoch 137 finished \tANN training loss 0.019264\n",
      ">> Epoch 138 finished \tANN training loss 0.019107\n",
      ">> Epoch 139 finished \tANN training loss 0.018946\n",
      ">> Epoch 140 finished \tANN training loss 0.018791\n",
      ">> Epoch 141 finished \tANN training loss 0.018634\n",
      ">> Epoch 142 finished \tANN training loss 0.018490\n",
      ">> Epoch 143 finished \tANN training loss 0.018359\n",
      ">> Epoch 144 finished \tANN training loss 0.018215\n",
      ">> Epoch 145 finished \tANN training loss 0.018077\n",
      ">> Epoch 146 finished \tANN training loss 0.017954\n",
      ">> Epoch 147 finished \tANN training loss 0.017836\n",
      ">> Epoch 148 finished \tANN training loss 0.017714\n",
      ">> Epoch 149 finished \tANN training loss 0.017597\n",
      ">> Epoch 150 finished \tANN training loss 0.017479\n",
      ">> Epoch 151 finished \tANN training loss 0.017371\n",
      ">> Epoch 152 finished \tANN training loss 0.017265\n",
      ">> Epoch 153 finished \tANN training loss 0.017159\n",
      ">> Epoch 154 finished \tANN training loss 0.017058\n",
      ">> Epoch 155 finished \tANN training loss 0.016963\n",
      ">> Epoch 156 finished \tANN training loss 0.016870\n",
      ">> Epoch 157 finished \tANN training loss 0.016773\n",
      ">> Epoch 158 finished \tANN training loss 0.016683\n",
      ">> Epoch 159 finished \tANN training loss 0.016590\n",
      ">> Epoch 160 finished \tANN training loss 0.016505\n",
      ">> Epoch 161 finished \tANN training loss 0.016413\n",
      ">> Epoch 162 finished \tANN training loss 0.016332\n",
      ">> Epoch 163 finished \tANN training loss 0.016250\n",
      ">> Epoch 164 finished \tANN training loss 0.016171\n",
      ">> Epoch 165 finished \tANN training loss 0.016096\n",
      ">> Epoch 166 finished \tANN training loss 0.016021\n",
      ">> Epoch 167 finished \tANN training loss 0.015947\n",
      ">> Epoch 168 finished \tANN training loss 0.015865\n",
      ">> Epoch 169 finished \tANN training loss 0.015795\n",
      ">> Epoch 170 finished \tANN training loss 0.015723\n",
      ">> Epoch 171 finished \tANN training loss 0.015654\n",
      ">> Epoch 172 finished \tANN training loss 0.015581\n",
      ">> Epoch 173 finished \tANN training loss 0.015513\n",
      ">> Epoch 174 finished \tANN training loss 0.015446\n",
      ">> Epoch 175 finished \tANN training loss 0.015380\n",
      ">> Epoch 176 finished \tANN training loss 0.015319\n",
      ">> Epoch 177 finished \tANN training loss 0.015250\n",
      ">> Epoch 178 finished \tANN training loss 0.015189\n",
      ">> Epoch 179 finished \tANN training loss 0.015127\n",
      ">> Epoch 180 finished \tANN training loss 0.015068\n",
      ">> Epoch 181 finished \tANN training loss 0.015012\n",
      ">> Epoch 182 finished \tANN training loss 0.014955\n",
      ">> Epoch 183 finished \tANN training loss 0.014898\n",
      ">> Epoch 184 finished \tANN training loss 0.014842\n",
      ">> Epoch 185 finished \tANN training loss 0.014789\n",
      ">> Epoch 186 finished \tANN training loss 0.014736\n",
      ">> Epoch 187 finished \tANN training loss 0.014685\n",
      ">> Epoch 188 finished \tANN training loss 0.014636\n",
      ">> Epoch 189 finished \tANN training loss 0.014587\n",
      ">> Epoch 190 finished \tANN training loss 0.014537\n",
      ">> Epoch 191 finished \tANN training loss 0.014486\n",
      ">> Epoch 192 finished \tANN training loss 0.014435\n",
      ">> Epoch 193 finished \tANN training loss 0.014388\n",
      ">> Epoch 194 finished \tANN training loss 0.014339\n",
      ">> Epoch 195 finished \tANN training loss 0.014292\n",
      ">> Epoch 196 finished \tANN training loss 0.014248\n",
      ">> Epoch 197 finished \tANN training loss 0.014202\n",
      ">> Epoch 198 finished \tANN training loss 0.014152\n",
      ">> Epoch 199 finished \tANN training loss 0.014110\n",
      ">> Epoch 200 finished \tANN training loss 0.014067\n",
      ">> Epoch 201 finished \tANN training loss 0.014024\n",
      ">> Epoch 202 finished \tANN training loss 0.013982\n",
      ">> Epoch 203 finished \tANN training loss 0.013939\n",
      ">> Epoch 204 finished \tANN training loss 0.013893\n",
      ">> Epoch 205 finished \tANN training loss 0.013848\n",
      ">> Epoch 206 finished \tANN training loss 0.013810\n",
      ">> Epoch 207 finished \tANN training loss 0.013772\n",
      ">> Epoch 208 finished \tANN training loss 0.013734\n",
      ">> Epoch 209 finished \tANN training loss 0.013697\n",
      ">> Epoch 210 finished \tANN training loss 0.013660\n",
      ">> Epoch 211 finished \tANN training loss 0.013622\n",
      ">> Epoch 212 finished \tANN training loss 0.013583\n",
      ">> Epoch 213 finished \tANN training loss 0.013545\n",
      ">> Epoch 214 finished \tANN training loss 0.013506\n",
      ">> Epoch 215 finished \tANN training loss 0.013470\n",
      ">> Epoch 216 finished \tANN training loss 0.013436\n",
      ">> Epoch 217 finished \tANN training loss 0.013395\n",
      ">> Epoch 218 finished \tANN training loss 0.013361\n",
      ">> Epoch 219 finished \tANN training loss 0.013323\n",
      ">> Epoch 220 finished \tANN training loss 0.013288\n",
      ">> Epoch 221 finished \tANN training loss 0.013253\n",
      ">> Epoch 222 finished \tANN training loss 0.013222\n",
      ">> Epoch 223 finished \tANN training loss 0.013190\n",
      ">> Epoch 224 finished \tANN training loss 0.013157\n",
      ">> Epoch 225 finished \tANN training loss 0.013124\n",
      ">> Epoch 226 finished \tANN training loss 0.013088\n",
      ">> Epoch 227 finished \tANN training loss 0.013059\n",
      ">> Epoch 228 finished \tANN training loss 0.013028\n",
      ">> Epoch 229 finished \tANN training loss 0.012997\n",
      ">> Epoch 230 finished \tANN training loss 0.012968\n",
      ">> Epoch 231 finished \tANN training loss 0.012940\n",
      ">> Epoch 232 finished \tANN training loss 0.012911\n",
      ">> Epoch 233 finished \tANN training loss 0.012882\n",
      ">> Epoch 234 finished \tANN training loss 0.012854\n",
      ">> Epoch 235 finished \tANN training loss 0.012826\n",
      ">> Epoch 236 finished \tANN training loss 0.012796\n",
      ">> Epoch 237 finished \tANN training loss 0.012767\n",
      ">> Epoch 238 finished \tANN training loss 0.012738\n",
      ">> Epoch 239 finished \tANN training loss 0.012710\n",
      ">> Epoch 240 finished \tANN training loss 0.012684\n",
      ">> Epoch 241 finished \tANN training loss 0.012655\n",
      ">> Epoch 242 finished \tANN training loss 0.012624\n",
      ">> Epoch 243 finished \tANN training loss 0.012595\n",
      ">> Epoch 244 finished \tANN training loss 0.012570\n",
      ">> Epoch 245 finished \tANN training loss 0.012544\n",
      ">> Epoch 246 finished \tANN training loss 0.012518\n",
      ">> Epoch 247 finished \tANN training loss 0.012493\n",
      ">> Epoch 248 finished \tANN training loss 0.012468\n",
      ">> Epoch 249 finished \tANN training loss 0.012443\n",
      ">> Epoch 250 finished \tANN training loss 0.012418\n",
      ">> Epoch 251 finished \tANN training loss 0.012394\n",
      ">> Epoch 252 finished \tANN training loss 0.012370\n",
      ">> Epoch 253 finished \tANN training loss 0.012346\n",
      ">> Epoch 254 finished \tANN training loss 0.012318\n"
     ]
    },
    {
     "name": "stdout",
     "output_type": "stream",
     "text": [
      ">> Epoch 255 finished \tANN training loss 0.012293\n",
      ">> Epoch 256 finished \tANN training loss 0.012266\n",
      ">> Epoch 257 finished \tANN training loss 0.012241\n",
      ">> Epoch 258 finished \tANN training loss 0.012212\n",
      ">> Epoch 259 finished \tANN training loss 0.012188\n",
      ">> Epoch 260 finished \tANN training loss 0.012162\n",
      ">> Epoch 261 finished \tANN training loss 0.012136\n",
      ">> Epoch 262 finished \tANN training loss 0.012108\n",
      ">> Epoch 263 finished \tANN training loss 0.012084\n",
      ">> Epoch 264 finished \tANN training loss 0.012061\n",
      ">> Epoch 265 finished \tANN training loss 0.012039\n",
      ">> Epoch 266 finished \tANN training loss 0.012017\n",
      ">> Epoch 267 finished \tANN training loss 0.011995\n",
      ">> Epoch 268 finished \tANN training loss 0.011973\n",
      ">> Epoch 269 finished \tANN training loss 0.011952\n",
      ">> Epoch 270 finished \tANN training loss 0.011929\n",
      ">> Epoch 271 finished \tANN training loss 0.011907\n",
      ">> Epoch 272 finished \tANN training loss 0.011885\n",
      ">> Epoch 273 finished \tANN training loss 0.011864\n",
      ">> Epoch 274 finished \tANN training loss 0.011840\n",
      ">> Epoch 275 finished \tANN training loss 0.011814\n",
      ">> Epoch 276 finished \tANN training loss 0.011793\n",
      ">> Epoch 277 finished \tANN training loss 0.011772\n",
      ">> Epoch 278 finished \tANN training loss 0.011751\n",
      ">> Epoch 279 finished \tANN training loss 0.011728\n",
      ">> Epoch 280 finished \tANN training loss 0.011707\n",
      ">> Epoch 281 finished \tANN training loss 0.011686\n",
      ">> Epoch 282 finished \tANN training loss 0.011666\n",
      ">> Epoch 283 finished \tANN training loss 0.011645\n",
      ">> Epoch 284 finished \tANN training loss 0.011624\n",
      ">> Epoch 285 finished \tANN training loss 0.011605\n",
      ">> Epoch 286 finished \tANN training loss 0.011584\n",
      ">> Epoch 287 finished \tANN training loss 0.011564\n",
      ">> Epoch 288 finished \tANN training loss 0.011544\n",
      ">> Epoch 289 finished \tANN training loss 0.011522\n",
      ">> Epoch 290 finished \tANN training loss 0.011502\n",
      ">> Epoch 291 finished \tANN training loss 0.011481\n",
      ">> Epoch 292 finished \tANN training loss 0.011463\n",
      ">> Epoch 293 finished \tANN training loss 0.011444\n",
      ">> Epoch 294 finished \tANN training loss 0.011423\n",
      ">> Epoch 295 finished \tANN training loss 0.011405\n",
      ">> Epoch 296 finished \tANN training loss 0.011381\n",
      ">> Epoch 297 finished \tANN training loss 0.011361\n",
      ">> Epoch 298 finished \tANN training loss 0.011343\n",
      ">> Epoch 299 finished \tANN training loss 0.011324\n",
      ">> Epoch 300 finished \tANN training loss 0.011306\n",
      ">> Epoch 301 finished \tANN training loss 0.011288\n",
      ">> Epoch 302 finished \tANN training loss 0.011262\n",
      ">> Epoch 303 finished \tANN training loss 0.011242\n",
      ">> Epoch 304 finished \tANN training loss 0.011224\n",
      ">> Epoch 305 finished \tANN training loss 0.011206\n",
      ">> Epoch 306 finished \tANN training loss 0.011188\n",
      ">> Epoch 307 finished \tANN training loss 0.011171\n",
      ">> Epoch 308 finished \tANN training loss 0.011154\n",
      ">> Epoch 309 finished \tANN training loss 0.011135\n",
      ">> Epoch 310 finished \tANN training loss 0.011117\n",
      ">> Epoch 311 finished \tANN training loss 0.011100\n",
      ">> Epoch 312 finished \tANN training loss 0.011083\n",
      ">> Epoch 313 finished \tANN training loss 0.011067\n",
      ">> Epoch 314 finished \tANN training loss 0.011046\n",
      ">> Epoch 315 finished \tANN training loss 0.011030\n",
      ">> Epoch 316 finished \tANN training loss 0.011013\n",
      ">> Epoch 317 finished \tANN training loss 0.010995\n",
      ">> Epoch 318 finished \tANN training loss 0.010980\n",
      ">> Epoch 319 finished \tANN training loss 0.010961\n",
      ">> Epoch 320 finished \tANN training loss 0.010941\n",
      ">> Epoch 321 finished \tANN training loss 0.010925\n",
      ">> Epoch 322 finished \tANN training loss 0.010909\n",
      ">> Epoch 323 finished \tANN training loss 0.010893\n",
      ">> Epoch 324 finished \tANN training loss 0.010875\n",
      ">> Epoch 325 finished \tANN training loss 0.010855\n",
      ">> Epoch 326 finished \tANN training loss 0.010839\n",
      ">> Epoch 327 finished \tANN training loss 0.010822\n",
      ">> Epoch 328 finished \tANN training loss 0.010804\n",
      ">> Epoch 329 finished \tANN training loss 0.010788\n",
      ">> Epoch 330 finished \tANN training loss 0.010772\n",
      ">> Epoch 331 finished \tANN training loss 0.010756\n",
      ">> Epoch 332 finished \tANN training loss 0.010741\n",
      ">> Epoch 333 finished \tANN training loss 0.010727\n",
      ">> Epoch 334 finished \tANN training loss 0.010713\n",
      ">> Epoch 335 finished \tANN training loss 0.010698\n",
      ">> Epoch 336 finished \tANN training loss 0.010680\n",
      ">> Epoch 337 finished \tANN training loss 0.010665\n",
      ">> Epoch 338 finished \tANN training loss 0.010651\n",
      ">> Epoch 339 finished \tANN training loss 0.010634\n",
      ">> Epoch 340 finished \tANN training loss 0.010620\n",
      ">> Epoch 341 finished \tANN training loss 0.010606\n",
      ">> Epoch 342 finished \tANN training loss 0.010590\n",
      ">> Epoch 343 finished \tANN training loss 0.010572\n",
      ">> Epoch 344 finished \tANN training loss 0.010559\n",
      ">> Epoch 345 finished \tANN training loss 0.010544\n",
      ">> Epoch 346 finished \tANN training loss 0.010529\n",
      ">> Epoch 347 finished \tANN training loss 0.010517\n",
      ">> Epoch 348 finished \tANN training loss 0.010502\n",
      ">> Epoch 349 finished \tANN training loss 0.010489\n",
      ">> Epoch 350 finished \tANN training loss 0.010476\n",
      ">> Epoch 351 finished \tANN training loss 0.010463\n",
      ">> Epoch 352 finished \tANN training loss 0.010449\n",
      ">> Epoch 353 finished \tANN training loss 0.010434\n",
      ">> Epoch 354 finished \tANN training loss 0.010420\n",
      ">> Epoch 355 finished \tANN training loss 0.010408\n",
      ">> Epoch 356 finished \tANN training loss 0.010394\n",
      ">> Epoch 357 finished \tANN training loss 0.010382\n",
      ">> Epoch 358 finished \tANN training loss 0.010370\n",
      ">> Epoch 359 finished \tANN training loss 0.010356\n",
      ">> Epoch 360 finished \tANN training loss 0.010344\n",
      ">> Epoch 361 finished \tANN training loss 0.010330\n",
      ">> Epoch 362 finished \tANN training loss 0.010317\n",
      ">> Epoch 363 finished \tANN training loss 0.010302\n",
      ">> Epoch 364 finished \tANN training loss 0.010289\n",
      ">> Epoch 365 finished \tANN training loss 0.010277\n",
      ">> Epoch 366 finished \tANN training loss 0.010265\n",
      ">> Epoch 367 finished \tANN training loss 0.010251\n",
      ">> Epoch 368 finished \tANN training loss 0.010238\n",
      ">> Epoch 369 finished \tANN training loss 0.010226\n",
      ">> Epoch 370 finished \tANN training loss 0.010214\n",
      ">> Epoch 371 finished \tANN training loss 0.010202\n",
      ">> Epoch 372 finished \tANN training loss 0.010188\n",
      ">> Epoch 373 finished \tANN training loss 0.010177\n",
      ">> Epoch 374 finished \tANN training loss 0.010165\n",
      ">> Epoch 375 finished \tANN training loss 0.010154\n",
      ">> Epoch 376 finished \tANN training loss 0.010142\n",
      ">> Epoch 377 finished \tANN training loss 0.010132\n",
      ">> Epoch 378 finished \tANN training loss 0.010119\n",
      ">> Epoch 379 finished \tANN training loss 0.010108\n",
      ">> Epoch 380 finished \tANN training loss 0.010097\n",
      ">> Epoch 381 finished \tANN training loss 0.010085\n",
      ">> Epoch 382 finished \tANN training loss 0.010073\n",
      ">> Epoch 383 finished \tANN training loss 0.010061\n",
      ">> Epoch 384 finished \tANN training loss 0.010048\n",
      ">> Epoch 385 finished \tANN training loss 0.010038\n",
      ">> Epoch 386 finished \tANN training loss 0.010026\n",
      ">> Epoch 387 finished \tANN training loss 0.010013\n",
      ">> Epoch 388 finished \tANN training loss 0.010003\n",
      ">> Epoch 389 finished \tANN training loss 0.009991\n",
      ">> Epoch 390 finished \tANN training loss 0.009979\n",
      ">> Epoch 391 finished \tANN training loss 0.009969\n",
      ">> Epoch 392 finished \tANN training loss 0.009959\n",
      ">> Epoch 393 finished \tANN training loss 0.009948\n",
      ">> Epoch 394 finished \tANN training loss 0.009937\n",
      ">> Epoch 395 finished \tANN training loss 0.009926\n",
      ">> Epoch 396 finished \tANN training loss 0.009915\n",
      ">> Epoch 397 finished \tANN training loss 0.009904\n",
      ">> Epoch 398 finished \tANN training loss 0.009894\n",
      ">> Epoch 399 finished \tANN training loss 0.009883\n",
      ">> Epoch 400 finished \tANN training loss 0.009872\n",
      ">> Epoch 401 finished \tANN training loss 0.009861\n",
      ">> Epoch 402 finished \tANN training loss 0.009851\n",
      ">> Epoch 403 finished \tANN training loss 0.009840\n",
      ">> Epoch 404 finished \tANN training loss 0.009831\n",
      ">> Epoch 405 finished \tANN training loss 0.009821\n",
      ">> Epoch 406 finished \tANN training loss 0.009811\n",
      ">> Epoch 407 finished \tANN training loss 0.009801\n",
      ">> Epoch 408 finished \tANN training loss 0.009791\n",
      ">> Epoch 409 finished \tANN training loss 0.009781\n",
      ">> Epoch 410 finished \tANN training loss 0.009770\n",
      ">> Epoch 411 finished \tANN training loss 0.009759\n",
      ">> Epoch 412 finished \tANN training loss 0.009750\n",
      ">> Epoch 413 finished \tANN training loss 0.009740\n",
      ">> Epoch 414 finished \tANN training loss 0.009729\n",
      ">> Epoch 415 finished \tANN training loss 0.009719\n",
      ">> Epoch 416 finished \tANN training loss 0.009710\n",
      ">> Epoch 417 finished \tANN training loss 0.009701\n",
      ">> Epoch 418 finished \tANN training loss 0.009691\n"
     ]
    },
    {
     "name": "stdout",
     "output_type": "stream",
     "text": [
      ">> Epoch 419 finished \tANN training loss 0.009682\n",
      ">> Epoch 420 finished \tANN training loss 0.009671\n",
      ">> Epoch 421 finished \tANN training loss 0.009661\n",
      ">> Epoch 422 finished \tANN training loss 0.009653\n",
      ">> Epoch 423 finished \tANN training loss 0.009644\n",
      ">> Epoch 424 finished \tANN training loss 0.009632\n",
      ">> Epoch 425 finished \tANN training loss 0.009621\n",
      ">> Epoch 426 finished \tANN training loss 0.009612\n",
      ">> Epoch 427 finished \tANN training loss 0.009603\n",
      ">> Epoch 428 finished \tANN training loss 0.009592\n",
      ">> Epoch 429 finished \tANN training loss 0.009583\n",
      ">> Epoch 430 finished \tANN training loss 0.009575\n",
      ">> Epoch 431 finished \tANN training loss 0.009566\n",
      ">> Epoch 432 finished \tANN training loss 0.009556\n",
      ">> Epoch 433 finished \tANN training loss 0.009548\n",
      ">> Epoch 434 finished \tANN training loss 0.009538\n",
      ">> Epoch 435 finished \tANN training loss 0.009528\n",
      ">> Epoch 436 finished \tANN training loss 0.009519\n",
      ">> Epoch 437 finished \tANN training loss 0.009509\n",
      ">> Epoch 438 finished \tANN training loss 0.009500\n",
      ">> Epoch 439 finished \tANN training loss 0.009491\n",
      ">> Epoch 440 finished \tANN training loss 0.009482\n",
      ">> Epoch 441 finished \tANN training loss 0.009473\n",
      ">> Epoch 442 finished \tANN training loss 0.009464\n",
      ">> Epoch 443 finished \tANN training loss 0.009455\n",
      ">> Epoch 444 finished \tANN training loss 0.009447\n",
      ">> Epoch 445 finished \tANN training loss 0.009437\n",
      ">> Epoch 446 finished \tANN training loss 0.009429\n",
      ">> Epoch 447 finished \tANN training loss 0.009421\n",
      ">> Epoch 448 finished \tANN training loss 0.009413\n",
      ">> Epoch 449 finished \tANN training loss 0.009404\n",
      ">> Epoch 450 finished \tANN training loss 0.009396\n",
      ">> Epoch 451 finished \tANN training loss 0.009387\n",
      ">> Epoch 452 finished \tANN training loss 0.009379\n",
      ">> Epoch 453 finished \tANN training loss 0.009370\n",
      ">> Epoch 454 finished \tANN training loss 0.009362\n",
      ">> Epoch 455 finished \tANN training loss 0.009353\n",
      ">> Epoch 456 finished \tANN training loss 0.009345\n",
      ">> Epoch 457 finished \tANN training loss 0.009336\n",
      ">> Epoch 458 finished \tANN training loss 0.009328\n",
      ">> Epoch 459 finished \tANN training loss 0.009319\n",
      ">> Epoch 460 finished \tANN training loss 0.009311\n",
      ">> Epoch 461 finished \tANN training loss 0.009302\n",
      ">> Epoch 462 finished \tANN training loss 0.009294\n",
      ">> Epoch 463 finished \tANN training loss 0.009286\n",
      ">> Epoch 464 finished \tANN training loss 0.009277\n",
      ">> Epoch 465 finished \tANN training loss 0.009268\n",
      ">> Epoch 466 finished \tANN training loss 0.009259\n",
      ">> Epoch 467 finished \tANN training loss 0.009249\n",
      ">> Epoch 468 finished \tANN training loss 0.009241\n",
      ">> Epoch 469 finished \tANN training loss 0.009234\n",
      ">> Epoch 470 finished \tANN training loss 0.009225\n",
      ">> Epoch 471 finished \tANN training loss 0.009216\n",
      ">> Epoch 472 finished \tANN training loss 0.009206\n",
      ">> Epoch 473 finished \tANN training loss 0.009199\n",
      ">> Epoch 474 finished \tANN training loss 0.009191\n",
      ">> Epoch 475 finished \tANN training loss 0.009182\n",
      ">> Epoch 476 finished \tANN training loss 0.009172\n",
      ">> Epoch 477 finished \tANN training loss 0.009164\n",
      ">> Epoch 478 finished \tANN training loss 0.009157\n",
      ">> Epoch 479 finished \tANN training loss 0.009147\n",
      ">> Epoch 480 finished \tANN training loss 0.009138\n",
      ">> Epoch 481 finished \tANN training loss 0.009131\n",
      ">> Epoch 482 finished \tANN training loss 0.009123\n",
      ">> Epoch 483 finished \tANN training loss 0.009115\n",
      ">> Epoch 484 finished \tANN training loss 0.009107\n",
      ">> Epoch 485 finished \tANN training loss 0.009100\n",
      ">> Epoch 486 finished \tANN training loss 0.009092\n",
      ">> Epoch 487 finished \tANN training loss 0.009085\n",
      ">> Epoch 488 finished \tANN training loss 0.009077\n",
      ">> Epoch 489 finished \tANN training loss 0.009069\n",
      ">> Epoch 490 finished \tANN training loss 0.009060\n",
      ">> Epoch 491 finished \tANN training loss 0.009052\n",
      ">> Epoch 492 finished \tANN training loss 0.009045\n",
      ">> Epoch 493 finished \tANN training loss 0.009038\n",
      ">> Epoch 494 finished \tANN training loss 0.009031\n",
      ">> Epoch 495 finished \tANN training loss 0.009022\n",
      ">> Epoch 496 finished \tANN training loss 0.009015\n",
      ">> Epoch 497 finished \tANN training loss 0.009008\n",
      ">> Epoch 498 finished \tANN training loss 0.009000\n",
      ">> Epoch 499 finished \tANN training loss 0.008993\n",
      ">> Epoch 500 finished \tANN training loss 0.008986\n",
      ">> Epoch 501 finished \tANN training loss 0.008978\n",
      ">> Epoch 502 finished \tANN training loss 0.008971\n",
      ">> Epoch 503 finished \tANN training loss 0.008964\n",
      ">> Epoch 504 finished \tANN training loss 0.008955\n",
      ">> Epoch 505 finished \tANN training loss 0.008947\n",
      ">> Epoch 506 finished \tANN training loss 0.008940\n",
      ">> Epoch 507 finished \tANN training loss 0.008932\n",
      ">> Epoch 508 finished \tANN training loss 0.008925\n",
      ">> Epoch 509 finished \tANN training loss 0.008918\n",
      ">> Epoch 510 finished \tANN training loss 0.008910\n",
      ">> Epoch 511 finished \tANN training loss 0.008903\n",
      "[END] Fine tuning step\n"
     ]
    },
    {
     "data": {
      "text/plain": [
       "SupervisedDBNClassification(batch_size=32, dropout_p=1e-05,\n",
       "                            idx_to_label_map={0: 0, 1: 1},\n",
       "                            l2_regularization=1.0,\n",
       "                            label_to_idx_map={0: 0, 1: 1}, learning_rate=0.01,\n",
       "                            n_iter_backprop=512, verbose=True)"
      ]
     },
     "execution_count": 145,
     "metadata": {},
     "output_type": "execute_result"
    }
   ],
   "source": [
    "classifier.fit(X_train, Y_train)"
   ]
  },
  {
   "cell_type": "code",
   "execution_count": 146,
   "metadata": {},
   "outputs": [],
   "source": [
    "# predict probabilities for test set\n",
    "yhat_probs = classifier.predict(X_test)\n",
    "# predict crisp classes for test set\n",
    "#yhat_classes = model.predict_classes(X_test, verbose=0)\n",
    "yhat_classes = yhat_probs# np.argmax(yhat_probs,axis=1)"
   ]
  },
  {
   "cell_type": "code",
   "execution_count": 147,
   "metadata": {},
   "outputs": [],
   "source": [
    "from sklearn.datasets import make_circles\n",
    "from sklearn.metrics import accuracy_score\n",
    "from sklearn.metrics import precision_score\n",
    "from sklearn.metrics import recall_score\n",
    "from sklearn.metrics import f1_score\n",
    "from sklearn.metrics import cohen_kappa_score\n",
    "from sklearn.metrics import roc_auc_score\n",
    "from sklearn.metrics import confusion_matrix\n",
    "from sklearn.metrics import roc_curve\n",
    "from sklearn.metrics import classification_report"
   ]
  },
  {
   "cell_type": "code",
   "execution_count": 148,
   "metadata": {},
   "outputs": [
    {
     "name": "stdout",
     "output_type": "stream",
     "text": [
      "Accuracy: 1.000000\n",
      "Precision: 1.000000\n",
      "Recall: 1.000000\n",
      "F1 score: 1.000000\n"
     ]
    }
   ],
   "source": [
    "# accuracy: (tp + tn) / (p + n)\n",
    "accuracy = accuracy_score(Y_test, yhat_classes)\n",
    "print('Accuracy: %f' % accuracy)\n",
    "# precision tp / (tp + fp)\n",
    "precision = precision_score(Y_test, yhat_classes, average='macro')\n",
    "print('Precision: %f' % precision)\n",
    "# recall: tp / (tp + fn)\n",
    "recall = recall_score(Y_test, yhat_classes,average='macro')\n",
    "print('Recall: %f' % recall)\n",
    "# f1: 2 tp / (2 tp + fp + fn)\n",
    "f1 = f1_score(Y_test, yhat_classes, average='macro')\n",
    "print('F1 score: %f' % f1)"
   ]
  },
  {
   "cell_type": "code",
   "execution_count": 149,
   "metadata": {},
   "outputs": [
    {
     "name": "stdout",
     "output_type": "stream",
     "text": [
      "Cohens kappa: 1.000000\n",
      "[[22  0]\n",
      " [ 0 15]]\n"
     ]
    }
   ],
   "source": [
    "# kappa\n",
    "kappa = cohen_kappa_score(Y_test, yhat_classes)\n",
    "print('Cohens kappa: %f' % kappa)\n",
    "# ROC AUC\n",
    "#fprate, tprate, thresholds = roc_curve(Y_test, yhat_probs, average = 'macro')\n",
    "#print('ROC AUC: %f' % thresholds)\n",
    "# confusion matrix\n",
    "matrix = confusion_matrix(Y_test, yhat_classes)\n",
    "print(matrix)"
   ]
  },
  {
   "cell_type": "code",
   "execution_count": 150,
   "metadata": {},
   "outputs": [
    {
     "name": "stderr",
     "output_type": "stream",
     "text": [
      "C:\\Users\\hp\\Anaconda3\\lib\\site-packages\\sklearn\\metrics\\ranking.py:659: UndefinedMetricWarning: No positive samples in y_true, true positive value should be meaningless\n",
      "  UndefinedMetricWarning)\n"
     ]
    }
   ],
   "source": [
    "fpr = {}\n",
    "tpr = {}\n",
    "thresh ={}\n",
    "\n",
    "n_class = 5\n",
    "\n",
    "for i in range(n_class):    \n",
    "    fpr[i], tpr[i], thresh[i] = roc_curve(Y_test, yhat_classes, pos_label=i)"
   ]
  },
  {
   "cell_type": "code",
   "execution_count": 151,
   "metadata": {},
   "outputs": [
    {
     "data": {
      "image/png": "[encoded data removed]",
      "text/plain": [
       "<Figure size 432x288 with 1 Axes>"
      ]
     },
     "metadata": {
      "needs_background": "light"
     },
     "output_type": "display_data"
    }
   ],
   "source": [
    "# plotting    \n",
    "plt.plot(fpr[0], tpr[0], linestyle='--',color='orange', label='Class 0 vs Rest')\n",
    "plt.plot(fpr[1], tpr[1], linestyle='--',color='green', label='Class 1 vs Rest')\n",
    "plt.plot(fpr[2], tpr[2], linestyle='--',color='blue', label='Class 2 vs Rest')\n",
    "plt.plot(fpr[3], tpr[3], linestyle='--',color='red', label='Class 3 vs Rest')\n",
    "plt.plot(fpr[4], tpr[4], linestyle='--',color='black', label='Class 4 vs Rest')\n",
    "plt.title('Multiclass ROC curve')\n",
    "plt.xlabel('False Positive Rate')\n",
    "plt.ylabel('True Positive rate')\n",
    "plt.legend(loc='best')\n",
    "plt.savefig('Multiclass ROC',dpi=300); "
   ]
  },
  {
   "cell_type": "code",
   "execution_count": 152,
   "metadata": {},
   "outputs": [
    {
     "name": "stdout",
     "output_type": "stream",
     "text": [
      "Confusion matrix : \n",
      " [[22  0]\n",
      " [ 0 15]]\n"
     ]
    }
   ],
   "source": [
    "matrix = confusion_matrix(Y_test,yhat_classes, labels= [0, 1])\n",
    "print('Confusion matrix : \\n',matrix)"
   ]
  },
  {
   "cell_type": "code",
   "execution_count": 153,
   "metadata": {},
   "outputs": [
    {
     "name": "stdout",
     "output_type": "stream",
     "text": [
      "Classification report : \n",
      "               precision    recall  f1-score   support\n",
      "\n",
      "           0       1.00      1.00      1.00        22\n",
      "           1       1.00      1.00      1.00        15\n",
      "\n",
      "    accuracy                           1.00        37\n",
      "   macro avg       1.00      1.00      1.00        37\n",
      "weighted avg       1.00      1.00      1.00        37\n",
      "\n"
     ]
    }
   ],
   "source": [
    "matrix = classification_report(Y_test,yhat_classes, labels= [0, 1])\n",
    "print('Classification report : \\n',matrix)"
   ]
  },
  {
   "cell_type": "code",
   "execution_count": 155,
   "metadata": {},
   "outputs": [],
   "source": [
    "classifier.save('./models/IG feature selection/WithIP Top11/Binary/DBN/DBN.pkl')"
   ]
  },
  {
   "cell_type": "code",
   "execution_count": null,
   "metadata": {},
   "outputs": [],
   "source": []
  }
 ],
 "metadata": {
  "kernelspec": {
   "display_name": "Python 3",
   "language": "python",
   "name": "python3"
  },
  "language_info": {
   "codemirror_mode": {
    "name": "ipython",
    "version": 3
   },
   "file_extension": ".py",
   "mimetype": "text/x-python",
   "name": "python",
   "nbconvert_exporter": "python",
   "pygments_lexer": "ipython3",
   "version": "3.7.4"
  }
 },
 "nbformat": 4,
 "nbformat_minor": 2
}

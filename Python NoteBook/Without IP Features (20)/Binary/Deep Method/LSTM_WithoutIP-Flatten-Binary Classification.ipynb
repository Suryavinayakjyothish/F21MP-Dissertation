{
 "cells": [
  {
   "cell_type": "code",
   "execution_count": 1,
   "metadata": {},
   "outputs": [],
   "source": [
    "import pandas as pd\n",
    "import numpy as np\n",
    "from datetime import datetime\n",
    "import time\n",
    "import matplotlib.pyplot as plt\n",
    "import gc\n",
    "pd.set_option('display.max_columns', None)"
   ]
  },
  {
   "cell_type": "code",
   "execution_count": 2,
   "metadata": {},
   "outputs": [],
   "source": [
    "## for machine learning\n",
    "from sklearn import model_selection, preprocessing, feature_selection, ensemble, linear_model, metrics, decomposition\n",
    "## for plotting\n",
    "import matplotlib.pyplot as plt\n",
    "## for machine learning\n",
    "from sklearn import model_selection, preprocessing, feature_selection, ensemble, linear_model, metrics, decomposition\n",
    "from sklearn.preprocessing import LabelEncoder,Normalizer,StandardScaler, OneHotEncoder, MinMaxScaler\n",
    "from sklearn.feature_selection import mutual_info_classif\n",
    "from sklearn.metrics import confusion_matrix\n",
    "from sklearn.metrics import classification_report\n",
    "## for explainer\n",
    "#from lime import lime_tabular"
   ]
  },
  {
   "cell_type": "code",
   "execution_count": 3,
   "metadata": {},
   "outputs": [],
   "source": [
    "#a = pd.read_csv('drive/My Drive/Colab Notebooks/traffic/OpenStack/CIDDS-001-internal-week1.csv', low_memory=False, encoding='cp1252')\n",
    "#b = pd.read_csv('drive/My Drive/Colab Notebooks/traffic/OpenStack/CIDDS-001-internal-week2.csv', low_memory=False, encoding='cp1252')\n",
    "a = pd.read_csv('./CIDDS-001/traffic/OpenStack/CIDDS-001-internal-week1.csv', low_memory=False, encoding='cp1252')\n",
    "b = pd.read_csv('./CIDDS-001/traffic/OpenStack/CIDDS-001-internal-week2.csv', low_memory=False, encoding='cp1252')\n",
    "c =  pd.read_csv('./CIDDS-001/traffic/ExternalServer/CIDDS-001-external-week2.csv', low_memory=False, encoding='cp1252')\n",
    "d =  pd.read_csv('./CIDDS-001/traffic/ExternalServer/CIDDS-001-external-week3.csv', low_memory=False, encoding='cp1252')\n",
    "e =  pd.read_csv('./CIDDS-001/traffic/ExternalServer/CIDDS-001-external-week4.csv', low_memory=False, encoding='cp1252')\n",
    "#f =  pd.read_csv('./CIDDS-001/traffic/ExternalServer/CIDDS-001-external-week1.csv', low_memory=False, encoding='cp1252')\n",
    "#c = pd.read_csv('drive/My Drive/Colab Notebooks/traffic/OpenStack/CIDDS-001-internal-week3.csv', low_memory=False , encoding='cp1252')\n",
    "#d = pd.read_csv('drive/My Drive/Colab Notebooks/traffic/OpenStack/CIDDS-001-internal-week4.csv', low_memory=False, encoding='cp1252')\n",
    "#e =  pd.read_csv('drive/My Drive/Colab Notebooks/traffic/ExternalServer/CIDDS-001-external-week1.csv', low_memory=False, encoding='cp1252')\n",
    "#f =  pd.read_csv('drive/My Drive/Colab Notebooks/traffic/ExternalServer/CIDDS-001-external-week2.csv', low_memory=False, encoding='cp1252')\n",
    "#g =  pd.read_csv('drive/My Drive/Colab Notebooks/traffic/ExternalServer/CIDDS-001-external-week3.csv', low_memory=False, encoding='cp1252')\n",
    "#h =  pd.read_csv('drive/My Drive/Colab Notebooks/traffic/ExternalServer/CIDDS-001-external-week4.csv', low_memory=False, encoding='cp1252')"
   ]
  },
  {
   "cell_type": "code",
   "execution_count": 4,
   "metadata": {},
   "outputs": [
    {
     "name": "stdout",
     "output_type": "stream",
     "text": [
      "(10310733, 16)\n"
     ]
    },
    {
     "data": {
      "text/plain": [
       "(1795404, 16)"
      ]
     },
     "execution_count": 4,
     "metadata": {},
     "output_type": "execute_result"
    }
   ],
   "source": [
    "print(b.shape)\n",
    "#a.drop(a[a['attackType'] == '---'].index, axis = 0, inplace= True) \n",
    "b.drop(b[b['attackType'] == '---'].index, axis = 0, inplace= True)  \n",
    "c.drop(c[c['attackType'] == '---'].index, axis = 0, inplace= True)  \n",
    "d.drop(d[d['attackType'] == '---'].index, axis = 0, inplace= True)  \n",
    "#e.drop(e[e['attackType'] == '---'].index, axis = 0, inplace= True)  \n",
    "b.shape"
   ]
  },
  {
   "cell_type": "code",
   "execution_count": 5,
   "metadata": {},
   "outputs": [],
   "source": [
    "data_external = pd.concat([c,d,e], axis = 0)\n",
    "data_external.reset_index(drop= True, inplace= True)"
   ]
  },
  {
   "cell_type": "code",
   "execution_count": 6,
   "metadata": {},
   "outputs": [],
   "source": [
    "#to Increment attackID values\n",
    "data_external['attackID'] = data_external['attackID'].apply(lambda x: str(int(x) + 70) if x != '---' else x)"
   ]
  },
  {
   "cell_type": "code",
   "execution_count": 7,
   "metadata": {},
   "outputs": [],
   "source": [
    "def convert_bytes(df):\n",
    "    if 'M' in df:\n",
    "        df = df.split('M')\n",
    "        df = df[0].strip()\n",
    "        df = float(df) * 1000000\n",
    "    elif 'B' in df:\n",
    "        df = df.split('B')\n",
    "        df = df[0].strip()\n",
    "        df =  float(df) * 1000000000\n",
    "    else: \n",
    "        df =float(df)\n",
    "    return df"
   ]
  },
  {
   "cell_type": "code",
   "execution_count": 8,
   "metadata": {},
   "outputs": [
    {
     "data": {
      "text/plain": [
       "0"
      ]
     },
     "execution_count": 8,
     "metadata": {},
     "output_type": "execute_result"
    }
   ],
   "source": [
    "data = pd.concat([a,b,data_external], axis = 0)\n",
    "data.reset_index(drop= True, inplace= True)\n",
    "data['Bytes'] = data['Bytes'].apply(lambda x: convert_bytes(x))\n",
    "data['attackType'] = data['attackType'].apply(lambda x:  'attack' if (x!= '---') else x )\n",
    "columns = ['Src Pt', 'Dst Pt','Tos','Flows','Packets', 'Bytes']\n",
    "for i in columns:\n",
    "    data[i] = pd.to_numeric(data[i]);\n",
    "del columns\n",
    "del a,b,c,d,e, data_external\n",
    "gc.collect()"
   ]
  },
  {
   "cell_type": "code",
   "execution_count": 9,
   "metadata": {},
   "outputs": [],
   "source": [
    "#data.dtypes"
   ]
  },
  {
   "cell_type": "code",
   "execution_count": 10,
   "metadata": {},
   "outputs": [],
   "source": [
    "#Converts Hexadecimal value to Binary\n",
    "def hex_to_binary(hexdata):\n",
    "    scale = 16 ## equals to hexadecimal\n",
    "    num_of_bits = 9\n",
    "    return bin(int(hexdata, scale))[2:].zfill(num_of_bits);\n",
    "#Converts TCP flags to Binary\n",
    "def to_Binary(x):\n",
    "    l = 0\n",
    "    x = '...' + x\n",
    "    x = list(x)\n",
    "    for i in x:\n",
    "        if (i=='.'):\n",
    "            x[l]= '0'\n",
    "        else:\n",
    "            x[l] = '1'\n",
    "        l = l +1\n",
    "    return ''.join(x)\n",
    "#Converts the 'Flags' column to 9 indiviual columns (manual oneshot encoding)\n",
    "def flag_convert(df):  \n",
    "   # df['Flags'] = df['Flags'].apply(lambda x: (list(x)))\n",
    "   # temp = df['Flags'].apply(lambda x: toBinary(x))\n",
    "    hex_values = list(df[(df['Flags'].str.contains(\"0x\", na=False))]['Flags'].unique())\n",
    "    flag_values = list(df[~(df['Flags'].str.contains(\"0x\", na=False))]['Flags'].unique())\n",
    "    binary_values = {}\n",
    "    for i in hex_values:\n",
    "         binary_values[i] = (hex_to_binary(i))\n",
    "    for i in flag_values:\n",
    "         binary_values[i] = (to_Binary(i))\n",
    "    temp = df['Flags'].replace(binary_values)\n",
    "#temp = temp.apply(lambda x: pd.Series(x)) \n",
    "    temp = pd.DataFrame(temp.apply(list).tolist())\n",
    "#temp = pd.DataFrame(temp)\n",
    "#a = a.iloc[: , 1:]\n",
    "   # print(temp.head())\n",
    "    temp.columns = ['N','C','E','U' ,'A','P','R','S','F']\n",
    "    for i in temp.columns:\n",
    "        temp[i] = pd.to_numeric(temp[i]);\n",
    "    temp = temp.reset_index(drop=True)\n",
    "    df = df.reset_index(drop=True)\n",
    "    df = pd.concat([df, temp], axis = 1)\n",
    "    return df;"
   ]
  },
  {
   "cell_type": "code",
   "execution_count": 11,
   "metadata": {},
   "outputs": [],
   "source": [
    "#make a IP_pairs \n",
    "def make_pair(df):\n",
    "    ip_pair = df['Src IP Addr'] +'/' +df['Dst IP Addr']\n",
    "    source_ip = df['Src IP Addr'].unique().tolist()\n",
    "    destination_ip = df['Dst IP Addr'].unique().tolist()\n",
    "   # df = df.drop(columns = ['Src IP Addr', 'Dst IP Addr'])\n",
    "    df.insert(1, ' IP Pair', ip_pair)\n",
    "    return df\n",
    "\n",
    "def check_inverse(df):\n",
    "    list_pairs = df[' IP Pair'].unique()\n",
    "    tuple_pair = []\n",
    "    for i in list_pairs:\n",
    "        tuple_pair.append(tuple((i.split('/'))))\n",
    "    dic_store = {}\n",
    "    for i in tuple_pair:\n",
    "        if (i  not in dic_store.keys()) and (i[::-1] not in dic_store.keys()):\n",
    "            dic_store[i] = i[0] + '/' +i[1]\n",
    "    print(len(dic_store.keys()))\n",
    "    dic_final = {}\n",
    "    for i in dic_store.keys():\n",
    "        dic_final[i[0] + '/' +i[1]] = dic_store[i]\n",
    "        dic_final[i[1] + '/' +i[0]] = dic_store[i]\n",
    "    df[' IP Pair'] = df[' IP Pair'].map(dic_final)               \n",
    "    return df"
   ]
  },
  {
   "cell_type": "code",
   "execution_count": 12,
   "metadata": {},
   "outputs": [],
   "source": [
    "def normalize_IP(df):\n",
    "    columns = ['sourceIP_feature 1', 'sourceIP_feature 2', 'sourceIP_feature 3', 'sourceIP_feature 4', 'destIP_feature 1',\n",
    "              'destIP_feature 2', 'destIP_feature 3', 'destIP_feature 4']\n",
    "    normalized = df[columns]\n",
    "    print(columns)\n",
    "    transformed = MinMaxScaler().fit(normalized).transform(normalized)\n",
    "    transformed = pd.DataFrame(transformed)\n",
    "    j = 0\n",
    "    col = {}\n",
    "    for i in columns:\n",
    "        col[j] = i\n",
    "        j=j+1\n",
    "    transformed = transformed.rename(columns = col)\n",
    "    transformed = transformed.reset_index()\n",
    "    for i in columns:\n",
    "        df[i] = transformed[i].to_numpy()\n",
    "    return df;"
   ]
  },
  {
   "cell_type": "code",
   "execution_count": 13,
   "metadata": {},
   "outputs": [],
   "source": [
    "def normalize(df):\n",
    "    numerics = ['int16', 'int32', 'int64', 'float16', 'float32', 'float64']\n",
    "    columns = (df).select_dtypes(include=numerics).columns\n",
    "    print(columns)\n",
    "    normalized = df[columns]#.drop(['Bytes'])\n",
    "   # print(columns)\n",
    "    transformed = MinMaxScaler().fit(normalized).transform(normalized)\n",
    "    transformed = pd.DataFrame(transformed)\n",
    "    j = 0\n",
    "    col = {}\n",
    "    for i in columns:\n",
    "        col[j] = i\n",
    "        j=j+1\n",
    "    transformed = transformed.rename(columns = col)\n",
    "    transformed = transformed.reset_index()\n",
    "    for i in columns:\n",
    "        df[i] = transformed[i].to_numpy()\n",
    "    return df;"
   ]
  },
  {
   "cell_type": "code",
   "execution_count": 14,
   "metadata": {},
   "outputs": [],
   "source": [
    "def one_shot(df):\n",
    "    label_encoder = LabelEncoder()\n",
    "    #df.astype({'attackType': 'str'})\n",
    "    df['attackType'] = label_encoder.fit_transform(df['attackType'])\n",
    "    print(list(label_encoder.classes_))\n",
    "    print(list(label_encoder.transform(label_encoder.classes_)))\n",
    "    \n",
    "#    onehot_encoder = OneHotEncoder()\n",
    "#    onehot_encoder.fit(df.attackType.to_numpy().reshape(-1, 1))\n",
    "#    proto = onehot_encoder.transform(df.attackType.to_numpy().reshape(-1, 1))\n",
    "#    proto = pd.DataFrame.sparse.from_spmatrix(proto)\n",
    "#    proto.astype('int32')\n",
    "#    proto.columns = label_encoder.classes_\n",
    "#    df = pd.concat([df, proto], axis = 1) \n",
    "    \n",
    "\n",
    "    df['Proto'] = label_encoder.fit_transform(df['Proto'])\n",
    "    print(list(label_encoder.classes_))\n",
    "    print(list(label_encoder.transform(label_encoder.classes_)))\n",
    "    \n",
    "    onehot_encoder1 = OneHotEncoder()\n",
    "    onehot_encoder1.fit(df.Proto.to_numpy().reshape(-1, 1))\n",
    "    proto = onehot_encoder1.transform(df.Proto.to_numpy().reshape(-1, 1))\n",
    "    proto = pd.DataFrame.sparse.from_spmatrix(proto)\n",
    "    proto.astype('int32')\n",
    "    proto.columns = label_encoder.classes_\n",
    "   # print(proto.head(1))\n",
    "    df = pd.concat([df, proto], axis = 1)\n",
    "    return df;"
   ]
  },
  {
   "cell_type": "code",
   "execution_count": 15,
   "metadata": {},
   "outputs": [],
   "source": [
    "def drop_columns(df):\n",
    "    return df.drop(columns = ['Date first seen', ' IP Pair', 'Flows', 'class', 'attackID','Flags',\n",
    "                              'attackDescription', 'Src IP Addr', 'Dst IP Addr','Proto'], axis =1)"
   ]
  },
  {
   "cell_type": "code",
   "execution_count": 16,
   "metadata": {},
   "outputs": [],
   "source": [
    "#Aplit IP address into features, 7 features\n",
    "def split_to_net(IP_address):\n",
    "    IP_list = IP_address.split(\".\")\n",
    "    needed_len = 7\n",
    "    needed_len = needed_len - len(IP_list)\n",
    "    for i in range(0,needed_len,1):\n",
    "        IP_list.append('0')\n",
    "    return IP_list\n",
    "#replace unknown IP address, and convert to columns\n",
    "def IP_split(df): \n",
    "    replace = {\"ATTACKER1\":\"0.0.0.0\",\n",
    "           \"ATTACKER2\":\"0.0.0.0\",\n",
    "           \"ATTACKER3\":\"0.0.0.0\",\n",
    "           \"EXT_SERVER\": \"0.0.0.0.1\",\n",
    "          \"OPENSTACK_NET\": \"0.0.0.0.0.1\",\n",
    "          \"DNS\": \"0.0.0.0.0.0.1\"}\n",
    "    df = df.replace({\"Src IP Addr\": replace, \"Dst IP Addr\": replace}, value=None)\n",
    "    temp_source = df[\"Src IP Addr\"].apply(lambda x: \"0.0.0.0.0.0.0\" if ('_') in x else x)\n",
    "    temp_des = df['Dst IP Addr'].apply(lambda x: \"0.0.0.0.0.0.0\" if ('_') in x else x)\n",
    "   # sourceIP = list(df[\"Src IP Addr\"].unique())\n",
    "   # destIP = list(df[\"Dst IP Addr\"].unique())\n",
    "   # sourceIP_values = {}\n",
    "   # desIP_values = {}\n",
    "   # for i in sourceIP:\n",
    "   #      sourceIP_values[i] = (split_to_net(i))\n",
    "   # for i in destIP:\n",
    "   #      desIP_values[i] = (split_to_net(i))\n",
    "    #print(sourceIP_values)\n",
    "   # print(desIP_values)\n",
    "#for Source IP\n",
    "    temp_source = temp_source.apply(lambda x: split_to_net(x) )\n",
    "    temp_source = pd.DataFrame(temp_source.apply(list).tolist())\n",
    "    temp_source.columns = ['sourceIP_feature 1','sourceIP_feature 2','sourceIP_feature 3','sourceIP_feature 4' ,\n",
    "                    'sourceEXT_SERVER','sourceOPENSTACK_NET','sourceDNS']\n",
    "    for i in temp_source.columns:\n",
    "        temp_source[i] = pd.to_numeric(temp_source[i]);\n",
    "    temp_source = temp_source.reset_index(drop=True)\n",
    "    df = df.reset_index(drop=True)\n",
    "    df = pd.concat([df, temp_source], axis = 1)\n",
    "    #for Destination IP\n",
    "    temp_des = temp_des.apply(lambda x: split_to_net(x) )\n",
    "    temp_des = pd.DataFrame(temp_des.apply(list).tolist())\n",
    "    temp_des.columns = ['destIP_feature 1','destIP_feature 2','destIP_feature 3','destIP_feature 4' ,\n",
    "                    'destEXT_SERVER','destOPENSTACK_NET','destDNS']\n",
    "    for i in temp_des.columns:\n",
    "        temp_des[i] = pd.to_numeric(temp_des[i]);\n",
    "    temp_des = temp_des.reset_index(drop=True)\n",
    "    df = df.reset_index(drop=True)\n",
    "    df = pd.concat([df, temp_des], axis = 1)\n",
    "    return df;"
   ]
  },
  {
   "cell_type": "code",
   "execution_count": 17,
   "metadata": {},
   "outputs": [
    {
     "name": "stdout",
     "output_type": "stream",
     "text": [
      "59362\n"
     ]
    }
   ],
   "source": [
    "data = make_pair(data)\n",
    "data = check_inverse(data)\n"
   ]
  },
  {
   "cell_type": "code",
   "execution_count": 18,
   "metadata": {},
   "outputs": [],
   "source": [
    "#data = IP_split(data)"
   ]
  },
  {
   "cell_type": "code",
   "execution_count": 19,
   "metadata": {
    "scrolled": true
   },
   "outputs": [
    {
     "name": "stdout",
     "output_type": "stream",
     "text": [
      "Index(['Duration', 'Src Pt', 'Dst Pt', 'Packets', 'Bytes', 'Flows', 'Tos'], dtype='object')\n",
      "['---', 'attack']\n",
      "[0, 1]\n",
      "['GRE  ', 'ICMP ', 'IGMP ', 'TCP  ', 'UDP  ']\n",
      "[0, 1, 2, 3, 4]\n"
     ]
    },
    {
     "name": "stderr",
     "output_type": "stream",
     "text": [
      "C:\\Users\\hp\\Anaconda3\\lib\\site-packages\\sklearn\\preprocessing\\_encoders.py:415: FutureWarning: The handling of integer data will change in version 0.22. Currently, the categories are determined based on the range [0, max(values)], while in the future they will be determined based on the unique values.\n",
      "If you want the future behaviour and silence this warning, you can specify \"categories='auto'\".\n",
      "In case you used a LabelEncoder before this OneHotEncoder to convert the categories to integers, then you can now use the OneHotEncoder directly.\n",
      "  warnings.warn(msg, FutureWarning)\n"
     ]
    }
   ],
   "source": [
    "data = normalize(data)\n",
    "data =  one_shot(data) \n",
    "#data = normalize_IP(data)"
   ]
  },
  {
   "cell_type": "code",
   "execution_count": 20,
   "metadata": {},
   "outputs": [],
   "source": [
    "#data['Flows'].unique()"
   ]
  },
  {
   "cell_type": "code",
   "execution_count": 21,
   "metadata": {},
   "outputs": [
    {
     "data": {
      "text/html": [
       "<div>\n",
       "<style scoped>\n",
       "    .dataframe tbody tr th:only-of-type {\n",
       "        vertical-align: middle;\n",
       "    }\n",
       "\n",
       "    .dataframe tbody tr th {\n",
       "        vertical-align: top;\n",
       "    }\n",
       "\n",
       "    .dataframe thead th {\n",
       "        text-align: right;\n",
       "    }\n",
       "</style>\n",
       "<table border=\"1\" class=\"dataframe\">\n",
       "  <thead>\n",
       "    <tr style=\"text-align: right;\">\n",
       "      <th></th>\n",
       "      <th>Date first seen</th>\n",
       "      <th>IP Pair</th>\n",
       "      <th>Duration</th>\n",
       "      <th>Proto</th>\n",
       "      <th>Src IP Addr</th>\n",
       "      <th>Src Pt</th>\n",
       "      <th>Dst IP Addr</th>\n",
       "      <th>Dst Pt</th>\n",
       "      <th>Packets</th>\n",
       "      <th>Bytes</th>\n",
       "      <th>Flows</th>\n",
       "      <th>Flags</th>\n",
       "      <th>Tos</th>\n",
       "      <th>class</th>\n",
       "      <th>attackType</th>\n",
       "      <th>attackID</th>\n",
       "      <th>attackDescription</th>\n",
       "      <th>GRE</th>\n",
       "      <th>ICMP</th>\n",
       "      <th>IGMP</th>\n",
       "      <th>TCP</th>\n",
       "      <th>UDP</th>\n",
       "    </tr>\n",
       "  </thead>\n",
       "  <tbody>\n",
       "    <tr>\n",
       "      <td>0</td>\n",
       "      <td>2017-03-15 00:01:16.632</td>\n",
       "      <td>192.168.100.5/192.168.220.16</td>\n",
       "      <td>0.000000e+00</td>\n",
       "      <td>3</td>\n",
       "      <td>192.168.100.5</td>\n",
       "      <td>0.006790</td>\n",
       "      <td>192.168.220.16</td>\n",
       "      <td>0.897902</td>\n",
       "      <td>0.000000</td>\n",
       "      <td>1.549787e-07</td>\n",
       "      <td>0.0</td>\n",
       "      <td>.AP...</td>\n",
       "      <td>0.0</td>\n",
       "      <td>normal</td>\n",
       "      <td>0</td>\n",
       "      <td>---</td>\n",
       "      <td>---</td>\n",
       "      <td>0.0</td>\n",
       "      <td>0.0</td>\n",
       "      <td>0.0</td>\n",
       "      <td>1.0</td>\n",
       "      <td>0.0</td>\n",
       "    </tr>\n",
       "    <tr>\n",
       "      <td>1</td>\n",
       "      <td>2017-03-15 00:01:16.552</td>\n",
       "      <td>192.168.100.5/192.168.220.15</td>\n",
       "      <td>0.000000e+00</td>\n",
       "      <td>3</td>\n",
       "      <td>192.168.100.5</td>\n",
       "      <td>0.006790</td>\n",
       "      <td>192.168.220.15</td>\n",
       "      <td>0.745983</td>\n",
       "      <td>0.000000</td>\n",
       "      <td>1.549787e-07</td>\n",
       "      <td>0.0</td>\n",
       "      <td>.AP...</td>\n",
       "      <td>0.0</td>\n",
       "      <td>normal</td>\n",
       "      <td>0</td>\n",
       "      <td>---</td>\n",
       "      <td>---</td>\n",
       "      <td>0.0</td>\n",
       "      <td>0.0</td>\n",
       "      <td>0.0</td>\n",
       "      <td>1.0</td>\n",
       "      <td>0.0</td>\n",
       "    </tr>\n",
       "    <tr>\n",
       "      <td>2</td>\n",
       "      <td>2017-03-15 00:01:16.551</td>\n",
       "      <td>192.168.100.5/192.168.220.15</td>\n",
       "      <td>6.613570e-09</td>\n",
       "      <td>3</td>\n",
       "      <td>192.168.220.15</td>\n",
       "      <td>0.745983</td>\n",
       "      <td>192.168.100.5</td>\n",
       "      <td>0.006790</td>\n",
       "      <td>0.000005</td>\n",
       "      <td>2.828361e-07</td>\n",
       "      <td>0.0</td>\n",
       "      <td>.AP...</td>\n",
       "      <td>0.0</td>\n",
       "      <td>normal</td>\n",
       "      <td>0</td>\n",
       "      <td>---</td>\n",
       "      <td>---</td>\n",
       "      <td>0.0</td>\n",
       "      <td>0.0</td>\n",
       "      <td>0.0</td>\n",
       "      <td>1.0</td>\n",
       "      <td>0.0</td>\n",
       "    </tr>\n",
       "    <tr>\n",
       "      <td>3</td>\n",
       "      <td>2017-03-15 00:01:16.631</td>\n",
       "      <td>192.168.100.5/192.168.220.16</td>\n",
       "      <td>6.613570e-09</td>\n",
       "      <td>3</td>\n",
       "      <td>192.168.220.16</td>\n",
       "      <td>0.897902</td>\n",
       "      <td>192.168.100.5</td>\n",
       "      <td>0.006790</td>\n",
       "      <td>0.000005</td>\n",
       "      <td>2.828361e-07</td>\n",
       "      <td>0.0</td>\n",
       "      <td>.AP...</td>\n",
       "      <td>0.0</td>\n",
       "      <td>normal</td>\n",
       "      <td>0</td>\n",
       "      <td>---</td>\n",
       "      <td>---</td>\n",
       "      <td>0.0</td>\n",
       "      <td>0.0</td>\n",
       "      <td>0.0</td>\n",
       "      <td>1.0</td>\n",
       "      <td>0.0</td>\n",
       "    </tr>\n",
       "    <tr>\n",
       "      <td>4</td>\n",
       "      <td>2017-03-15 00:01:16.552</td>\n",
       "      <td>192.168.100.5/192.168.220.15</td>\n",
       "      <td>0.000000e+00</td>\n",
       "      <td>3</td>\n",
       "      <td>192.168.100.5</td>\n",
       "      <td>0.006790</td>\n",
       "      <td>192.168.220.15</td>\n",
       "      <td>0.745983</td>\n",
       "      <td>0.000000</td>\n",
       "      <td>1.549787e-07</td>\n",
       "      <td>0.0</td>\n",
       "      <td>.AP...</td>\n",
       "      <td>0.0</td>\n",
       "      <td>normal</td>\n",
       "      <td>0</td>\n",
       "      <td>---</td>\n",
       "      <td>---</td>\n",
       "      <td>0.0</td>\n",
       "      <td>0.0</td>\n",
       "      <td>0.0</td>\n",
       "      <td>1.0</td>\n",
       "      <td>0.0</td>\n",
       "    </tr>\n",
       "  </tbody>\n",
       "</table>\n",
       "</div>"
      ],
      "text/plain": [
       "           Date first seen                       IP Pair      Duration  Proto  \\\n",
       "0  2017-03-15 00:01:16.632  192.168.100.5/192.168.220.16  0.000000e+00      3   \n",
       "1  2017-03-15 00:01:16.552  192.168.100.5/192.168.220.15  0.000000e+00      3   \n",
       "2  2017-03-15 00:01:16.551  192.168.100.5/192.168.220.15  6.613570e-09      3   \n",
       "3  2017-03-15 00:01:16.631  192.168.100.5/192.168.220.16  6.613570e-09      3   \n",
       "4  2017-03-15 00:01:16.552  192.168.100.5/192.168.220.15  0.000000e+00      3   \n",
       "\n",
       "      Src IP Addr    Src Pt     Dst IP Addr    Dst Pt   Packets         Bytes  \\\n",
       "0   192.168.100.5  0.006790  192.168.220.16  0.897902  0.000000  1.549787e-07   \n",
       "1   192.168.100.5  0.006790  192.168.220.15  0.745983  0.000000  1.549787e-07   \n",
       "2  192.168.220.15  0.745983   192.168.100.5  0.006790  0.000005  2.828361e-07   \n",
       "3  192.168.220.16  0.897902   192.168.100.5  0.006790  0.000005  2.828361e-07   \n",
       "4   192.168.100.5  0.006790  192.168.220.15  0.745983  0.000000  1.549787e-07   \n",
       "\n",
       "   Flows   Flags  Tos   class  attackType attackID attackDescription  GRE    \\\n",
       "0    0.0  .AP...  0.0  normal           0      ---               ---    0.0   \n",
       "1    0.0  .AP...  0.0  normal           0      ---               ---    0.0   \n",
       "2    0.0  .AP...  0.0  normal           0      ---               ---    0.0   \n",
       "3    0.0  .AP...  0.0  normal           0      ---               ---    0.0   \n",
       "4    0.0  .AP...  0.0  normal           0      ---               ---    0.0   \n",
       "\n",
       "   ICMP   IGMP   TCP    UDP    \n",
       "0    0.0    0.0    1.0    0.0  \n",
       "1    0.0    0.0    1.0    0.0  \n",
       "2    0.0    0.0    1.0    0.0  \n",
       "3    0.0    0.0    1.0    0.0  \n",
       "4    0.0    0.0    1.0    0.0  "
      ]
     },
     "execution_count": 21,
     "metadata": {},
     "output_type": "execute_result"
    }
   ],
   "source": [
    "data.head()"
   ]
  },
  {
   "cell_type": "code",
   "execution_count": 22,
   "metadata": {},
   "outputs": [],
   "source": [
    "from datetime import datetime\n",
    "def unix_time(df):\n",
    "  #  df[' Timestamp'] = df[' Timestamp'].apply(lambda x: x + ':00' if len(x) != 19 else x)\n",
    "   # df[' Timestamp'] = df[' Timestamp'].apply(lambda x: x[0 : 5 : ] + x[7 : :] if len(x) != 19 else x[0 : 7 : ] + x[9 : :])\n",
    "    df['Date first seen'] = df['Date first seen'].apply(lambda x: datetime.strptime(x,'%Y-%m-%d %H:%M:%S.%f'))\n",
    "    df['Date first seen'] = df['Date first seen'].apply(lambda x: x.timestamp()*1000)\n",
    "    return df;"
   ]
  },
  {
   "cell_type": "code",
   "execution_count": 23,
   "metadata": {},
   "outputs": [],
   "source": [
    "def normal_profile(grouped):\n",
    "    grouped['---'] = unix_time(grouped['---'])\n",
    "    start_time = int(grouped['---'].head(1)['Date first seen'].values[0])\n",
    "    end_time = int(grouped['---'].tail(1)['Date first seen'].values[0])\n",
    "#date_bins = pd.IntervalIndex.from_tuples(\n",
    "#        [(i, i+3600000) for i in range(start_time, end_time, 3600000)],\n",
    "#        closed=\"left\")\n",
    "#date_labels = [f\"{i}\" for i in range(1, len(date_bins)+1, 1)]\n",
    "    normal_data = dict(tuple( grouped['---'].groupby( pd.cut(\n",
    "            grouped['---']['Date first seen'],\n",
    "               np.arange(start_time, end_time, 3*3600000)))))\n",
    "    del grouped['---']\n",
    "    num = []\n",
    "    for i in grouped_data.keys():\n",
    "          num.append(len(grouped_data[i]))\n",
    "    print(min(num))\n",
    "    num = max(num)\n",
    "    print(num)\n",
    "    print(len(grouped.keys()))\n",
    "    grouped = {**grouped, **normal_data}\n",
    "    print(len(grouped.keys()))\n",
    "    return grouped, num;"
   ]
  },
  {
   "cell_type": "code",
   "execution_count": 24,
   "metadata": {},
   "outputs": [
    {
     "data": {
      "text/plain": [
       "0"
      ]
     },
     "execution_count": 24,
     "metadata": {},
     "output_type": "execute_result"
    }
   ],
   "source": [
    "grouped_data= dict(tuple(data.groupby(['attackID'])))\n",
    "del data\n",
    "gc.collect()"
   ]
  },
  {
   "cell_type": "code",
   "execution_count": 25,
   "metadata": {
    "scrolled": true
   },
   "outputs": [
    {
     "name": "stdout",
     "output_type": "stream",
     "text": [
      "---: 7195669 : 0\n",
      "bruteForce : 92\n",
      "1: 7657 : 1\n",
      "10: 311 : 1\n",
      "11: 17401 : 1\n",
      "12: 11526 : 1\n",
      "13: 513 : 1\n",
      "14: 13807 : 1\n",
      "15: 64 : 1\n",
      "16: 261003 : 1\n",
      "17: 13338 : 1\n",
      "18: 295302 : 1\n",
      "19: 11672 : 1\n",
      "2: 1927 : 1\n",
      "20: 11748 : 1\n",
      "21: 5113 : 1\n",
      "22: 295 : 1\n",
      "23: 72788 : 1\n",
      "24: 466 : 1\n",
      "25: 201 : 1\n",
      "26: 74471 : 1\n",
      "27: 680 : 1\n",
      "28: 36306 : 1\n",
      "29: 19732 : 1\n",
      "3: 37118 : 1\n",
      "30: 46 : 1\n",
      "31: 144845 : 1\n",
      "32: 335 : 1\n",
      "33: 307 : 1\n",
      "34: 12909 : 1\n",
      "35: 263 : 1\n",
      "36: 494 : 1\n",
      "37: 26114 : 1\n",
      "38: 267 : 1\n",
      "39: 364 : 1\n",
      "4: 72063 : 1\n",
      "40: 11609 : 1\n",
      "41: 379 : 1\n",
      "42: 184040 : 1\n",
      "43: 2143 : 1\n",
      "44: 261169 : 1\n",
      "45: 224960 : 1\n",
      "46: 111720 : 1\n",
      "47: 13420 : 1\n",
      "48: 13600 : 1\n",
      "49: 17629 : 1\n",
      "5: 4948 : 1\n",
      "50: 4589 : 1\n",
      "51: 11968 : 1\n",
      "52: 607 : 1\n",
      "53: 516299 : 1\n",
      "54: 183 : 1\n",
      "55: 757 : 1\n",
      "56: 427 : 1\n",
      "57: 522 : 1\n",
      "58: 510 : 1\n",
      "59: 110484 : 1\n",
      "6: 37134 : 1\n",
      "60: 333627 : 1\n",
      "61: 705 : 1\n",
      "62: 574 : 1\n",
      "63: 148641 : 1\n",
      "64: 480 : 1\n",
      "65: 373 : 1\n",
      "66: 359 : 1\n",
      "67: 13426 : 1\n",
      "68: 5632 : 1\n",
      "69: 360 : 1\n",
      "7: 9586 : 1\n",
      "70: 240 : 1\n",
      "71: 2008 : 1\n",
      "72: 2002 : 1\n",
      "73: 200 : 1\n",
      "74: 200 : 1\n",
      "75: 200 : 1\n",
      "76: 168 : 1\n",
      "77: 6410 : 1\n",
      "78: 200 : 1\n",
      "79: 200 : 1\n",
      "8: 4424 : 1\n",
      "80: 1991 : 1\n",
      "81: 200 : 1\n",
      "82: 1370 : 1\n",
      "83: 200 : 1\n",
      "84: 200 : 1\n",
      "85: 1984 : 1\n",
      "86: 2002 : 1\n",
      "87: 200 : 1\n",
      "88: 200 : 1\n",
      "89: 952 : 1\n",
      "9: 37057 : 1\n",
      "90: 200 : 1\n",
      "91: 40 : 1\n",
      "92: 40 : 1\n",
      "dos : 0\n",
      "pingScan: 0\n",
      "portScan : 0\n"
     ]
    }
   ],
   "source": [
    "no_1 = []\n",
    "no_2 = []\n",
    "no_3 = []\n",
    "no_4 = []\n",
    "for i in grouped_data.keys():\n",
    "   \n",
    "    if grouped_data[i]['attackType'].unique()[0] == 0:\n",
    "        print(f\"{i}: {len(grouped_data[i])} : {grouped_data[i]['attackType'].unique()[0]}\")\n",
    "    if grouped_data[i]['attackType'].unique()[0] == 1:\n",
    "              no_1.append(i)\n",
    "    if grouped_data[i]['attackType'].unique()[0] == 2:\n",
    "              no_2.append(i)\n",
    "    if grouped_data[i]['attackType'].unique()[0] == 3:\n",
    "              no_3.append(i)\n",
    "    if grouped_data[i]['attackType'].unique()[0] == 4:\n",
    "              no_4.append(i)\n",
    "print(f\"bruteForce : {len(no_1)}\")\n",
    "for i in no_1:\n",
    "     print(f\"{i}: {len(grouped_data[i])} : {grouped_data[i]['attackType'].unique()[0]}\")\n",
    "print(f\"dos : {len(no_2)}\")\n",
    "for i in no_2:\n",
    "     print(f\"{i}: {len(grouped_data[i])} : {grouped_data[i]['attackType'].unique()[0]}\")\n",
    "print(f\"pingScan: {len(no_3)}\")\n",
    "for i in no_3:\n",
    "     print(f\"{i}: {len(grouped_data[i])} : {grouped_data[i]['attackType'].unique()[0]}\")\n",
    "print(f\"portScan : {len(no_4)}\")\n",
    "for i in no_4:\n",
    "     print(f\"{i}: {len(grouped_data[i])} : {grouped_data[i]['attackType'].unique()[0]}\")"
   ]
  },
  {
   "cell_type": "code",
   "execution_count": 26,
   "metadata": {},
   "outputs": [
    {
     "data": {
      "text/plain": [
       "20"
      ]
     },
     "execution_count": 26,
     "metadata": {},
     "output_type": "execute_result"
    }
   ],
   "source": [
    "del no_1\n",
    "del no_2\n",
    "del no_3\n",
    "del no_4\n",
    "gc.collect()"
   ]
  },
  {
   "cell_type": "code",
   "execution_count": 27,
   "metadata": {},
   "outputs": [],
   "source": [
    "def del_largeInstances(dic, length):\n",
    "    remove_ID = []\n",
    "    for i in dic.keys():\n",
    "        if (i != '---'):\n",
    "            if(len(dic[i]) >= length):\n",
    "                remove_ID.append(i)\n",
    "    print(len(remove_ID))\n",
    "    removed_attacks = {}\n",
    "    for i in remove_ID:\n",
    "        removed_attacks[i] = dic[i]\n",
    "        del dic[i]\n",
    "    return dic;"
   ]
  },
  {
   "cell_type": "code",
   "execution_count": 28,
   "metadata": {},
   "outputs": [
    {
     "name": "stdout",
     "output_type": "stream",
     "text": [
      "19\n"
     ]
    }
   ],
   "source": [
    "grouped_data = del_largeInstances(grouped_data, 20000)"
   ]
  },
  {
   "cell_type": "code",
   "execution_count": 29,
   "metadata": {},
   "outputs": [
    {
     "name": "stdout",
     "output_type": "stream",
     "text": [
      "40\n",
      "19732\n",
      "73\n",
      "350\n"
     ]
    }
   ],
   "source": [
    "#grouped_data, num = normal_profile(grouped_data)\n",
    "grouped_data1= {}\n",
    "for i in grouped_data.keys():\n",
    "    grouped_data[i] = flag_convert(grouped_data[i])\n",
    "   # grouped_data[i] =  drop_columns(grouped_data[i])\n",
    "grouped_data, num = normal_profile(grouped_data)\n",
    "for i in grouped_data.keys():\n",
    "   # grouped_data[i] = flag_convert(grouped_data[i])\n",
    "    grouped_data[i] =  drop_columns(grouped_data[i])"
   ]
  },
  {
   "cell_type": "code",
   "execution_count": 30,
   "metadata": {},
   "outputs": [
    {
     "name": "stdout",
     "output_type": "stream",
     "text": [
      "1 : False\n",
      "10 : False\n",
      "11 : False\n",
      "12 : False\n",
      "13 : False\n",
      "14 : False\n",
      "15 : False\n",
      "17 : False\n",
      "19 : False\n",
      "2 : False\n",
      "20 : False\n",
      "21 : False\n",
      "22 : False\n",
      "24 : False\n",
      "25 : False\n",
      "27 : False\n",
      "29 : False\n",
      "30 : False\n",
      "32 : False\n",
      "33 : False\n",
      "34 : False\n",
      "35 : False\n",
      "36 : False\n",
      "38 : False\n",
      "39 : False\n",
      "40 : False\n",
      "41 : False\n",
      "43 : False\n",
      "47 : False\n",
      "48 : False\n",
      "49 : False\n",
      "5 : False\n",
      "50 : False\n",
      "51 : False\n",
      "52 : False\n",
      "54 : False\n",
      "55 : False\n",
      "56 : False\n",
      "57 : False\n",
      "58 : False\n",
      "61 : False\n",
      "62 : False\n",
      "64 : False\n",
      "65 : False\n",
      "66 : False\n",
      "67 : False\n",
      "68 : False\n",
      "69 : False\n",
      "7 : False\n",
      "70 : False\n",
      "71 : False\n",
      "72 : False\n",
      "73 : False\n",
      "74 : False\n",
      "75 : False\n",
      "76 : False\n",
      "77 : False\n",
      "78 : False\n",
      "79 : False\n",
      "8 : False\n",
      "80 : False\n",
      "81 : False\n",
      "82 : False\n",
      "83 : False\n",
      "84 : False\n",
      "85 : False\n",
      "86 : False\n",
      "87 : False\n",
      "88 : False\n",
      "89 : False\n",
      "90 : False\n",
      "91 : False\n",
      "92 : False\n",
      "(1489536076632, 1489546876632] : False\n",
      "(1489546876632, 1489557676632] : False\n",
      "(1489557676632, 1489568476632] : False\n",
      "(1489568476632, 1489579276632] : False\n",
      "(1489579276632, 1489590076632] : False\n",
      "(1489590076632, 1489600876632] : False\n",
      "(1489600876632, 1489611676632] : False\n",
      "(1489611676632, 1489622476632] : False\n",
      "(1489622476632, 1489633276632] : False\n",
      "(1489633276632, 1489644076632] : False\n",
      "(1489644076632, 1489654876632] : False\n",
      "(1489654876632, 1489665676632] : False\n",
      "(1489665676632, 1489676476632] : False\n",
      "(1489676476632, 1489687276632] : False\n",
      "(1489687276632, 1489698076632] : False\n",
      "(1489698076632, 1489708876632] : False\n",
      "(1489708876632, 1489719676632] : False\n",
      "(1489719676632, 1489730476632] : False\n",
      "(1489730476632, 1489741276632] : False\n",
      "(1489741276632, 1489752076632] : False\n",
      "(1489752076632, 1489762876632] : False\n",
      "(1489762876632, 1489773676632] : False\n",
      "(1489773676632, 1489784476632] : False\n",
      "(1489784476632, 1489795276632] : False\n",
      "(1489795276632, 1489806076632] : False\n",
      "(1489806076632, 1489816876632] : False\n",
      "(1489816876632, 1489827676632] : False\n",
      "(1489827676632, 1489838476632] : False\n",
      "(1489838476632, 1489849276632] : False\n",
      "(1489849276632, 1489860076632] : False\n",
      "(1489860076632, 1489870876632] : False\n",
      "(1489870876632, 1489881676632] : False\n",
      "(1489881676632, 1489892476632] : False\n",
      "(1489892476632, 1489903276632] : False\n",
      "(1489903276632, 1489914076632] : False\n",
      "(1489914076632, 1489924876632] : False\n",
      "(1489924876632, 1489935676632] : False\n",
      "(1489935676632, 1489946476632] : False\n",
      "(1489946476632, 1489957276632] : False\n",
      "(1489957276632, 1489968076632] : False\n",
      "(1489968076632, 1489978876632] : False\n",
      "(1489978876632, 1489989676632] : False\n",
      "(1489989676632, 1490000476632] : False\n",
      "(1490000476632, 1490011276632] : False\n",
      "(1490011276632, 1490022076632] : False\n",
      "(1490022076632, 1490032876632] : False\n",
      "(1490032876632, 1490043676632] : False\n",
      "(1490043676632, 1490054476632] : False\n",
      "(1490054476632, 1490065276632] : False\n",
      "(1490065276632, 1490076076632] : False\n",
      "(1490076076632, 1490086876632] : False\n",
      "(1490086876632, 1490097676632] : False\n",
      "(1490097676632, 1490108476632] : False\n",
      "(1490108476632, 1490119276632] : False\n",
      "(1490119276632, 1490130076632] : False\n",
      "(1490130076632, 1490140876632] : False\n",
      "(1490140876632, 1490151676632] : False\n",
      "(1490151676632, 1490162476632] : False\n",
      "(1490162476632, 1490173276632] : False\n",
      "(1490173276632, 1490184076632] : False\n",
      "(1490184076632, 1490194876632] : False\n",
      "(1490194876632, 1490205676632] : False\n",
      "(1490205676632, 1490216476632] : False\n",
      "(1490216476632, 1490227276632] : False\n",
      "(1490227276632, 1490238076632] : False\n",
      "(1490238076632, 1490248876632] : False\n",
      "(1490248876632, 1490259676632] : False\n",
      "(1490259676632, 1490270476632] : False\n",
      "(1490270476632, 1490281276632] : False\n",
      "(1490281276632, 1490292076632] : False\n",
      "(1490292076632, 1490302876632] : False\n",
      "(1490302876632, 1490313676632] : False\n",
      "(1490313676632, 1490324476632] : False\n",
      "(1490324476632, 1490335276632] : False\n",
      "(1490335276632, 1490346076632] : False\n",
      "(1490346076632, 1490356876632] : False\n",
      "(1490356876632, 1490367676632] : False\n",
      "(1490367676632, 1490378476632] : False\n",
      "(1490378476632, 1490389276632] : False\n",
      "(1490389276632, 1490400076632] : False\n",
      "(1490400076632, 1490410876632] : False\n",
      "(1490410876632, 1490421676632] : False\n",
      "(1490421676632, 1490432476632] : False\n",
      "(1490432476632, 1490443276632] : False\n",
      "(1490443276632, 1490454076632] : False\n",
      "(1490454076632, 1490464876632] : False\n",
      "(1490464876632, 1490475676632] : False\n",
      "(1490475676632, 1490486476632] : False\n",
      "(1490486476632, 1490497276632] : False\n",
      "(1490497276632, 1490508076632] : False\n",
      "(1490508076632, 1490518876632] : False\n",
      "(1490518876632, 1490529676632] : False\n",
      "(1490529676632, 1490540476632] : False\n",
      "(1490540476632, 1490551276632] : False\n",
      "(1490551276632, 1490562076632] : False\n",
      "(1490562076632, 1490572876632] : False\n",
      "(1490572876632, 1490583676632] : False\n",
      "(1490583676632, 1490594476632] : False\n",
      "(1490594476632, 1490605276632] : False\n",
      "(1490605276632, 1490616076632] : False\n",
      "(1490616076632, 1490626876632] : False\n",
      "(1490626876632, 1490637676632] : False\n",
      "(1490637676632, 1490648476632] : False\n",
      "(1490648476632, 1490659276632] : False\n",
      "(1490659276632, 1490670076632] : False\n",
      "(1490670076632, 1490680876632] : False\n",
      "(1490680876632, 1490691676632] : False\n",
      "(1490691676632, 1490702476632] : False\n",
      "(1490702476632, 1490713276632] : False\n",
      "(1490713276632, 1490724076632] : False\n",
      "(1490724076632, 1490734876632] : False\n",
      "(1490734876632, 1490745676632] : False\n",
      "(1490745676632, 1490756476632] : False\n",
      "(1490756476632, 1490767276632] : False\n",
      "(1490767276632, 1490778076632] : False\n",
      "(1490778076632, 1490788876632] : False\n",
      "(1490788876632, 1490799676632] : False\n",
      "(1490799676632, 1490810476632] : False\n",
      "(1490810476632, 1490821276632] : False\n",
      "(1490821276632, 1490832076632] : False\n",
      "(1490832076632, 1490842876632] : False\n",
      "(1490842876632, 1490853676632] : False\n",
      "(1490853676632, 1490864476632] : False\n",
      "(1490864476632, 1490875276632] : False\n",
      "(1490875276632, 1490886076632] : False\n",
      "(1490886076632, 1490896876632] : False\n",
      "(1490896876632, 1490907676632] : False\n",
      "(1490907676632, 1490918476632] : False\n",
      "(1490918476632, 1490929276632] : False\n",
      "(1490929276632, 1490940076632] : False\n",
      "(1490940076632, 1490950876632] : False\n",
      "(1490950876632, 1490961676632] : False\n",
      "(1490961676632, 1490972476632] : False\n",
      "(1490972476632, 1490983276632] : False\n",
      "(1490983276632, 1490994076632] : False\n",
      "(1490994076632, 1491004876632] : False\n",
      "(1491004876632, 1491015676632] : False\n",
      "(1491015676632, 1491026476632] : False\n",
      "(1491026476632, 1491037276632] : False\n",
      "(1491037276632, 1491048076632] : False\n",
      "(1491048076632, 1491058876632] : False\n",
      "(1491058876632, 1491069676632] : False\n",
      "(1491069676632, 1491080476632] : False\n",
      "(1491080476632, 1491091276632] : False\n",
      "(1491091276632, 1491102076632] : False\n",
      "(1491102076632, 1491112876632] : False\n",
      "(1491112876632, 1491123676632] : False\n",
      "(1491123676632, 1491134476632] : False\n",
      "(1491134476632, 1491145276632] : False\n",
      "(1491145276632, 1491156076632] : False\n",
      "(1491156076632, 1491166876632] : False\n",
      "(1491166876632, 1491177676632] : False\n",
      "(1491177676632, 1491188476632] : False\n",
      "(1491188476632, 1491199276632] : False\n",
      "(1491199276632, 1491210076632] : False\n",
      "(1491210076632, 1491220876632] : False\n",
      "(1491220876632, 1491231676632] : False\n",
      "(1491231676632, 1491242476632] : False\n",
      "(1491242476632, 1491253276632] : False\n",
      "(1491253276632, 1491264076632] : False\n",
      "(1491264076632, 1491274876632] : False\n",
      "(1491274876632, 1491285676632] : False\n",
      "(1491285676632, 1491296476632] : False\n",
      "(1491296476632, 1491307276632] : False\n",
      "(1491307276632, 1491318076632] : False\n",
      "(1491318076632, 1491328876632] : False\n",
      "(1491328876632, 1491339676632] : False\n",
      "(1491339676632, 1491350476632] : False\n",
      "(1491350476632, 1491361276632] : False\n",
      "(1491361276632, 1491372076632] : False\n",
      "(1491372076632, 1491382876632] : False\n",
      "(1491382876632, 1491393676632] : False\n",
      "(1491393676632, 1491404476632] : False\n",
      "(1491404476632, 1491415276632] : False\n",
      "(1491415276632, 1491426076632] : False\n",
      "(1491426076632, 1491436876632] : False\n",
      "(1491436876632, 1491447676632] : False\n",
      "(1491447676632, 1491458476632] : False\n",
      "(1491458476632, 1491469276632] : False\n",
      "(1491469276632, 1491480076632] : False\n",
      "(1491480076632, 1491490876632] : False\n",
      "(1491490876632, 1491501676632] : False\n",
      "(1491501676632, 1491512476632] : False\n",
      "(1491512476632, 1491523276632] : False\n",
      "(1491523276632, 1491534076632] : False\n",
      "(1491534076632, 1491544876632] : False\n",
      "(1491544876632, 1491555676632] : False\n",
      "(1491555676632, 1491566476632] : False\n",
      "(1491566476632, 1491577276632] : False\n",
      "(1491577276632, 1491588076632] : False\n",
      "(1491588076632, 1491598876632] : False\n",
      "(1491598876632, 1491609676632] : False\n",
      "(1491609676632, 1491620476632] : False\n",
      "(1491620476632, 1491631276632] : False\n",
      "(1491631276632, 1491642076632] : False\n",
      "(1491642076632, 1491652876632] : False\n",
      "(1491652876632, 1491663676632] : False\n",
      "(1491663676632, 1491674476632] : False\n",
      "(1491674476632, 1491685276632] : False\n",
      "(1491685276632, 1491696076632] : False\n",
      "(1491696076632, 1491706876632] : False\n",
      "(1491706876632, 1491717676632] : False\n",
      "(1491717676632, 1491728476632] : False\n",
      "(1491728476632, 1491739276632] : False\n",
      "(1491739276632, 1491750076632] : False\n",
      "(1491750076632, 1491760876632] : False\n",
      "(1491760876632, 1491771676632] : False\n"
     ]
    },
    {
     "name": "stdout",
     "output_type": "stream",
     "text": [
      "(1491771676632, 1491782476632] : False\n",
      "(1491782476632, 1491793276632] : False\n",
      "(1491793276632, 1491804076632] : False\n",
      "(1491804076632, 1491814876632] : False\n",
      "(1491814876632, 1491825676632] : False\n",
      "(1491825676632, 1491836476632] : False\n",
      "(1491836476632, 1491847276632] : False\n",
      "(1491847276632, 1491858076632] : False\n",
      "(1491858076632, 1491868876632] : False\n",
      "(1491868876632, 1491879676632] : False\n",
      "(1491879676632, 1491890476632] : False\n",
      "(1491890476632, 1491901276632] : False\n",
      "(1491901276632, 1491912076632] : False\n",
      "(1491912076632, 1491922876632] : False\n",
      "(1491922876632, 1491933676632] : False\n",
      "(1491933676632, 1491944476632] : False\n",
      "(1491944476632, 1491955276632] : False\n",
      "(1491955276632, 1491966076632] : False\n",
      "(1491966076632, 1491976876632] : False\n",
      "(1491976876632, 1491987676632] : False\n",
      "(1491987676632, 1491998476632] : False\n",
      "(1491998476632, 1492009276632] : False\n",
      "(1492009276632, 1492020076632] : False\n",
      "(1492020076632, 1492030876632] : False\n",
      "(1492030876632, 1492041676632] : False\n",
      "(1492041676632, 1492052476632] : False\n",
      "(1492052476632, 1492063276632] : False\n",
      "(1492063276632, 1492074076632] : False\n",
      "(1492074076632, 1492084876632] : False\n",
      "(1492084876632, 1492095676632] : False\n",
      "(1492095676632, 1492106476632] : False\n",
      "(1492106476632, 1492117276632] : False\n",
      "(1492117276632, 1492128076632] : False\n",
      "(1492128076632, 1492138876632] : False\n",
      "(1492138876632, 1492149676632] : False\n",
      "(1492149676632, 1492160476632] : False\n",
      "(1492160476632, 1492171276632] : False\n",
      "(1492171276632, 1492182076632] : False\n",
      "(1492182076632, 1492192876632] : False\n",
      "(1492192876632, 1492203676632] : False\n",
      "(1492203676632, 1492214476632] : False\n",
      "(1492214476632, 1492225276632] : False\n",
      "(1492225276632, 1492236076632] : False\n",
      "(1492236076632, 1492246876632] : False\n",
      "(1492246876632, 1492257676632] : False\n",
      "(1492257676632, 1492268476632] : False\n",
      "(1492268476632, 1492279276632] : False\n",
      "(1492279276632, 1492290076632] : False\n",
      "(1492290076632, 1492300876632] : False\n",
      "(1492300876632, 1492311676632] : False\n",
      "(1492311676632, 1492322476632] : False\n",
      "(1492322476632, 1492333276632] : False\n",
      "(1492333276632, 1492344076632] : False\n",
      "(1492344076632, 1492354876632] : False\n",
      "(1492354876632, 1492365676632] : False\n",
      "(1492365676632, 1492376476632] : False\n",
      "(1492376476632, 1492387276632] : False\n",
      "(1492387276632, 1492398076632] : False\n",
      "(1492398076632, 1492408876632] : False\n",
      "(1492408876632, 1492419676632] : False\n",
      "(1492419676632, 1492430476632] : False\n",
      "(1492430476632, 1492441276632] : False\n",
      "(1492441276632, 1492452076632] : False\n",
      "(1492452076632, 1492462876632] : False\n",
      "(1492462876632, 1492473676632] : False\n",
      "(1492473676632, 1492484476632] : False\n",
      "(1492484476632, 1492495276632] : False\n",
      "(1492495276632, 1492506076632] : False\n",
      "(1492506076632, 1492516876632] : False\n",
      "(1492516876632, 1492527676632] : False\n"
     ]
    }
   ],
   "source": [
    "for i in grouped_data.keys():\n",
    "    #if (grouped_data[i].hasnull())\n",
    "    print(f'{i} : {grouped_data[i].isnull().values.any()}')"
   ]
  },
  {
   "cell_type": "code",
   "execution_count": 31,
   "metadata": {},
   "outputs": [],
   "source": [
    "#grouped_data[(1491346876632, 1491350476632)].head()"
   ]
  },
  {
   "cell_type": "code",
   "execution_count": 32,
   "metadata": {},
   "outputs": [
    {
     "name": "stdout",
     "output_type": "stream",
     "text": [
      "167\n"
     ]
    }
   ],
   "source": [
    "counter = 0\n",
    "for i in grouped_data.keys():\n",
    "    if ( len(grouped_data[i]) == 0):\n",
    "        counter = counter +1;\n",
    "print(counter)"
   ]
  },
  {
   "cell_type": "code",
   "execution_count": 33,
   "metadata": {},
   "outputs": [],
   "source": [
    "def roundup(x):\n",
    "    return x if x % 100 == 0 else x + 100 - x % 100\n",
    "#Convert to 3D arrays, input dict\n",
    "def make_array(dic):\n",
    "    x = []\n",
    "    y = []\n",
    "    zero_arrays = []\n",
    "    for i in dic.keys():\n",
    "        if ( len(dic[i]) == 0):\n",
    "            zero_arrays.append(i);\n",
    "    for i in zero_arrays:\n",
    "        del dic[i]\n",
    "    for i in dic.keys():\n",
    "        x.append(np.array(dic[i].drop(['attackType'],axis = 1)).astype(np.float32))\n",
    "       # print(f'{i}')\n",
    "        y.append(dic[i]['attackType'].values[0])\n",
    "    print(len(y))\n",
    "    o = []\n",
    "    features = len(x[1][1])\n",
    "    #for i in x:\n",
    "     #   o.append(len(i))\n",
    "   # print(min(o))\n",
    "    o = num\n",
    "    o = roundup(o)\n",
    "    print(o)\n",
    "    index = 0\n",
    "    for i in x:\n",
    "        l = len(i)\n",
    "        i = list(i)\n",
    "        if(o > l):\n",
    "            l = o-l\n",
    "            for j in range(0, l, 1):\n",
    "                i.append([0] * features)\n",
    "        elif (o<l):\n",
    "            l = l-o\n",
    "            i = i[:-l]\n",
    "        x[index] = np.array(i).astype(np.float32)\n",
    "        index = index + 1\n",
    "    return x,y"
   ]
  },
  {
   "cell_type": "code",
   "execution_count": 34,
   "metadata": {},
   "outputs": [
    {
     "name": "stdout",
     "output_type": "stream",
     "text": [
      "183\n",
      "19800\n"
     ]
    }
   ],
   "source": [
    "X,Y = make_array(grouped_data)\n",
    "del grouped_data\n",
    "gc.collect()\n",
    "Y = np.array(Y)\n",
    "X = np.array(X)\n"
   ]
  },
  {
   "cell_type": "code",
   "execution_count": 35,
   "metadata": {},
   "outputs": [
    {
     "data": {
      "text/plain": [
       "{0: 110, 1: 73}"
      ]
     },
     "execution_count": 35,
     "metadata": {},
     "output_type": "execute_result"
    }
   ],
   "source": [
    "unique, counts = np.unique(Y, return_counts=True)\n",
    "dict(zip(unique, counts))"
   ]
  },
  {
   "cell_type": "code",
   "execution_count": 36,
   "metadata": {},
   "outputs": [],
   "source": [
    "from sklearn.model_selection import train_test_split\n",
    "from sklearn.tree import DecisionTreeClassifier\n",
    "X_train, X_test, Y_train, Y_test = train_test_split(X,Y , test_size=0.2, random_state=0,  stratify=Y)"
   ]
  },
  {
   "cell_type": "code",
   "execution_count": 37,
   "metadata": {},
   "outputs": [
    {
     "data": {
      "text/plain": [
       "60"
      ]
     },
     "execution_count": 37,
     "metadata": {},
     "output_type": "execute_result"
    }
   ],
   "source": [
    "del X,Y\n",
    "gc.collect()"
   ]
  },
  {
   "cell_type": "code",
   "execution_count": 38,
   "metadata": {},
   "outputs": [
    {
     "data": {
      "text/plain": [
       "{0: 88, 1: 58}"
      ]
     },
     "execution_count": 38,
     "metadata": {},
     "output_type": "execute_result"
    }
   ],
   "source": [
    "unique, counts = np.unique(Y_train, return_counts=True)\n",
    "dict(zip(unique, counts))"
   ]
  },
  {
   "cell_type": "code",
   "execution_count": 39,
   "metadata": {},
   "outputs": [
    {
     "data": {
      "text/plain": [
       "{0: 22, 1: 15}"
      ]
     },
     "execution_count": 39,
     "metadata": {},
     "output_type": "execute_result"
    }
   ],
   "source": [
    "unique, counts = np.unique(Y_test, return_counts=True)\n",
    "dict(zip(unique, counts))"
   ]
  },
  {
   "cell_type": "code",
   "execution_count": 40,
   "metadata": {},
   "outputs": [
    {
     "name": "stdout",
     "output_type": "stream",
     "text": [
      "False\n",
      "False\n",
      "False\n",
      "False\n",
      "False\n",
      "False\n",
      "False\n",
      "False\n",
      "False\n",
      "False\n",
      "False\n",
      "False\n",
      "False\n",
      "False\n",
      "False\n",
      "False\n",
      "False\n",
      "False\n",
      "False\n",
      "False\n",
      "False\n",
      "False\n",
      "False\n",
      "False\n",
      "False\n",
      "False\n",
      "False\n",
      "False\n",
      "False\n",
      "False\n",
      "False\n",
      "False\n",
      "False\n",
      "False\n",
      "False\n",
      "False\n",
      "False\n",
      "False\n",
      "False\n",
      "False\n",
      "False\n",
      "False\n",
      "False\n",
      "False\n",
      "False\n",
      "False\n",
      "False\n",
      "False\n",
      "False\n",
      "False\n",
      "False\n",
      "False\n",
      "False\n",
      "False\n",
      "False\n",
      "False\n",
      "False\n",
      "False\n",
      "False\n",
      "False\n",
      "False\n",
      "False\n",
      "False\n",
      "False\n",
      "False\n",
      "False\n",
      "False\n",
      "False\n",
      "False\n",
      "False\n",
      "False\n",
      "False\n",
      "False\n",
      "False\n",
      "False\n",
      "False\n",
      "False\n",
      "False\n",
      "False\n",
      "False\n",
      "False\n",
      "False\n",
      "False\n",
      "False\n",
      "False\n",
      "False\n",
      "False\n",
      "False\n",
      "False\n",
      "False\n",
      "False\n",
      "False\n",
      "False\n",
      "False\n",
      "False\n",
      "False\n",
      "False\n",
      "False\n",
      "False\n",
      "False\n",
      "False\n",
      "False\n",
      "False\n",
      "False\n",
      "False\n",
      "False\n",
      "False\n",
      "False\n",
      "False\n",
      "False\n",
      "False\n",
      "False\n",
      "False\n",
      "False\n",
      "False\n",
      "False\n",
      "False\n",
      "False\n",
      "False\n",
      "False\n",
      "False\n",
      "False\n",
      "False\n",
      "False\n",
      "False\n",
      "False\n",
      "False\n",
      "False\n",
      "False\n",
      "False\n",
      "False\n",
      "False\n",
      "False\n",
      "False\n",
      "False\n",
      "False\n",
      "False\n",
      "False\n",
      "False\n",
      "False\n",
      "False\n",
      "False\n",
      "False\n",
      "False\n",
      "False\n",
      "False\n"
     ]
    }
   ],
   "source": [
    "for i in X_train:\n",
    "    print(f'{np.isnan(i).any()}')"
   ]
  },
  {
   "cell_type": "code",
   "execution_count": 41,
   "metadata": {},
   "outputs": [],
   "source": [
    "import tensorflow as tf\n",
    "from tensorflow import keras\n",
    "from tensorflow.keras.layers import Embedding, Dense, LSTM, Dropout, Masking, Flatten, Input, Bidirectional\n",
    "from tensorflow.keras.losses import BinaryCrossentropy\n",
    "from tensorflow.keras.models import Sequential\n",
    "from tensorflow.keras.optimizers import Adam\n",
    "from tensorflow.keras.preprocessing.sequence import pad_sequences"
   ]
  },
  {
   "cell_type": "code",
   "execution_count": 42,
   "metadata": {},
   "outputs": [
    {
     "name": "stdout",
     "output_type": "stream",
     "text": [
      "samples: 146 \n",
      " X:19800 \n",
      " Y:20\n"
     ]
    }
   ],
   "source": [
    "nsamples,nx, ny = X_train.shape\n",
    "print(f\"samples: {nsamples} \\n X:{nx} \\n Y:{ny}\")"
   ]
  },
  {
   "cell_type": "code",
   "execution_count": 43,
   "metadata": {},
   "outputs": [],
   "source": [
    "from keras.callbacks import EarlyStopping\n",
    "from keras.callbacks import ModelCheckpoint, LambdaCallback\n",
    "wie_by_epoch = []\n",
    "model_check = ModelCheckpoint(\"./models/Testpoints/best_model.hdf5\", monitor='loss', verbose=0, save_best_only=True, mode='min', save_freq=1)\n",
    "print_weights = LambdaCallback(on_epoch_end=lambda batch, logs:wie_by_epoch.append(model.get_weights()))\n",
    "callback = tf.keras.callbacks.EarlyStopping(monitor='loss', patience=4, verbose= 2)"
   ]
  },
  {
   "cell_type": "code",
   "execution_count": 44,
   "metadata": {},
   "outputs": [],
   "source": [
    "model = Sequential()\n",
    "model.add(LSTM(14, activation='relu', return_sequences = True, dropout = 0.1, input_shape = (nx,ny) ))\n",
    "model.add(Flatten())\n",
    "model.add(Dense(5, activation='softmax'))\n",
    "model.compile(optimizer= 'rmsprop', loss='sparse_categorical_crossentropy',  metrics=[keras.metrics.SparseCategoricalAccuracy()])"
   ]
  },
  {
   "cell_type": "code",
   "execution_count": 45,
   "metadata": {},
   "outputs": [
    {
     "data": {
      "text/plain": [
       "(None, 5)"
      ]
     },
     "execution_count": 45,
     "metadata": {},
     "output_type": "execute_result"
    }
   ],
   "source": [
    "model.build(input_shape = (nx,ny))\n",
    "model.output_shape"
   ]
  },
  {
   "cell_type": "code",
   "execution_count": null,
   "metadata": {},
   "outputs": [],
   "source": [
    "del model, wie_by_epoch\n",
    "\n",
    "gc.collect()"
   ]
  },
  {
   "cell_type": "code",
   "execution_count": 46,
   "metadata": {},
   "outputs": [
    {
     "name": "stdout",
     "output_type": "stream",
     "text": [
      "Model: \"sequential\"\n",
      "_________________________________________________________________\n",
      "Layer (type)                 Output Shape              Param #   \n",
      "=================================================================\n",
      "lstm (LSTM)                  (None, 19800, 14)         1960      \n",
      "_________________________________________________________________\n",
      "flatten (Flatten)            (None, 277200)            0         \n",
      "_________________________________________________________________\n",
      "dense (Dense)                (None, 5)                 1386005   \n",
      "=================================================================\n",
      "Total params: 1,387,965\n",
      "Trainable params: 1,387,965\n",
      "Non-trainable params: 0\n",
      "_________________________________________________________________\n"
     ]
    }
   ],
   "source": [
    "#model.build(input_shape = (nx,ny))\n",
    "model.summary()\n"
   ]
  },
  {
   "cell_type": "code",
   "execution_count": 47,
   "metadata": {
    "scrolled": true
   },
   "outputs": [
    {
     "data": {
      "image/png": "[encoded data removed]",
      "text/plain": [
       "<IPython.core.display.Image object>"
      ]
     },
     "execution_count": 47,
     "metadata": {},
     "output_type": "execute_result"
    }
   ],
   "source": [
    "from tensorflow.keras.utils import plot_model\n",
    "plot_model(model, show_shapes=True)"
   ]
  },
  {
   "cell_type": "code",
   "execution_count": 48,
   "metadata": {
    "scrolled": true
   },
   "outputs": [
    {
     "data": {
      "text/plain": [
       "[array([[ 0.19271007,  0.17973468, -0.08060451, ...,  0.10599956,\n",
       "          0.13791433,  0.09896636],\n",
       "        [ 0.05275384, -0.11157036, -0.19476002, ...,  0.08069006,\n",
       "          0.07253423,  0.25714973],\n",
       "        [-0.24881499,  0.11415029, -0.15530019, ...,  0.23256084,\n",
       "          0.25640365, -0.17831904],\n",
       "        ...,\n",
       "        [-0.04872572, -0.09873344,  0.05945241, ..., -0.27294344,\n",
       "         -0.11925799,  0.18107358],\n",
       "        [-0.25242132,  0.16929317, -0.21429205, ..., -0.1824263 ,\n",
       "         -0.02659899,  0.01480222],\n",
       "        [ 0.20025283, -0.05808388, -0.12149122, ..., -0.22651534,\n",
       "          0.15470323,  0.0182237 ]], dtype=float32),\n",
       " array([[ 1.27030849e-01,  1.82429189e-03,  1.09224178e-01,\n",
       "          8.14711973e-02, -5.21627218e-02, -8.29811394e-02,\n",
       "         -1.06096089e-01,  4.23785038e-02,  3.37496579e-01,\n",
       "         -5.12170270e-02, -2.04431668e-01,  1.47861287e-01,\n",
       "          8.58455524e-02,  3.71899344e-02, -3.54532674e-02,\n",
       "         -1.59506515e-01,  1.69020295e-02,  1.19790182e-01,\n",
       "          7.92742446e-02,  9.42241699e-02, -1.48021355e-01,\n",
       "          2.24561363e-01,  1.42063886e-01,  4.74397056e-02,\n",
       "          2.75444407e-02,  4.62940242e-03,  2.85232157e-01,\n",
       "         -4.99981083e-02,  2.50398576e-01,  1.41459376e-01,\n",
       "         -1.24664016e-01,  7.39246933e-03, -1.75016731e-01,\n",
       "         -1.07054546e-01, -1.15398772e-01,  8.85283947e-02,\n",
       "         -2.18487699e-02, -8.24958384e-02,  1.48250237e-01,\n",
       "         -9.17461980e-03, -2.11110845e-01, -1.28901348e-01,\n",
       "          3.27023529e-02,  8.49958807e-02, -2.70945698e-01,\n",
       "         -1.12652127e-02,  6.95702732e-02, -2.99531408e-02,\n",
       "          7.37188086e-02,  4.77301180e-02, -2.61659414e-01,\n",
       "         -2.37872869e-01, -1.27944335e-01,  3.89987566e-02,\n",
       "          1.04712181e-01,  1.28554061e-01],\n",
       "        [ 8.76135603e-02,  3.12461443e-02,  3.07016410e-02,\n",
       "         -3.73408258e-01, -1.71621908e-02,  2.08598701e-03,\n",
       "         -4.72088680e-02, -8.09331425e-03, -2.35731184e-01,\n",
       "         -5.77832945e-02,  5.23706116e-02, -2.26349935e-01,\n",
       "         -5.09511381e-02, -2.40867082e-02,  2.45206729e-01,\n",
       "         -8.74574855e-02,  3.34269136e-01, -7.41388798e-02,\n",
       "          1.82670623e-01, -2.28237323e-02,  8.08819160e-02,\n",
       "         -7.30223209e-02, -1.07366564e-02,  3.85732532e-01,\n",
       "          1.65225253e-01,  8.09655488e-02,  1.79591164e-01,\n",
       "          6.53372984e-03,  1.29480362e-02,  1.07877508e-01,\n",
       "          7.62706026e-02, -3.32844928e-02,  1.01564392e-01,\n",
       "         -2.42156118e-01,  5.28921634e-02, -1.16791584e-01,\n",
       "         -1.37080755e-02,  1.47093445e-01,  2.22743303e-02,\n",
       "         -4.54925708e-02, -1.09018847e-01, -1.51526526e-01,\n",
       "         -3.12938690e-02, -1.33902237e-01, -3.58899757e-02,\n",
       "          9.99223515e-02,  7.72651806e-02, -1.32210050e-02,\n",
       "         -4.72596735e-02,  8.95836428e-02,  7.29180574e-02,\n",
       "         -8.21321458e-02, -1.21584833e-01,  1.98263243e-01,\n",
       "          4.73995134e-02,  9.02546644e-02],\n",
       "        [-4.63388078e-02,  6.26324937e-02,  9.03963000e-02,\n",
       "          2.22563535e-01,  1.05293073e-01,  2.01851241e-02,\n",
       "         -1.58128187e-01, -5.39877228e-02,  2.68093366e-02,\n",
       "         -7.43297487e-03, -4.98889983e-02,  1.46466419e-02,\n",
       "         -3.41233499e-02,  2.34617516e-02,  1.73543125e-01,\n",
       "         -2.40550742e-01, -5.34073152e-02, -2.02087879e-01,\n",
       "          9.99930128e-02, -8.56810734e-02,  1.45904914e-01,\n",
       "         -8.48664343e-03,  3.10591161e-01, -2.63372272e-01,\n",
       "          1.82511374e-01,  9.31182578e-02,  9.34240967e-02,\n",
       "          1.18564926e-02, -1.35510296e-01, -2.39628013e-02,\n",
       "          1.49408758e-01,  1.00856274e-01,  6.85621053e-02,\n",
       "         -1.20183453e-03, -2.81371832e-01, -1.16178818e-01,\n",
       "         -1.44910872e-01,  5.09828813e-02, -1.58398729e-02,\n",
       "          1.05361000e-01, -1.84973001e-01,  1.29292250e-01,\n",
       "         -1.87735602e-01, -1.73931755e-02,  6.04630783e-02,\n",
       "          3.53327841e-02,  6.48420602e-02, -1.73349693e-01,\n",
       "         -1.45390362e-01,  1.14571415e-01,  1.42032966e-01,\n",
       "         -2.01219440e-01,  1.36820152e-01,  6.77104145e-02,\n",
       "         -1.25063658e-01, -2.47588202e-01],\n",
       "        [ 7.10953549e-02,  4.48669493e-02,  2.63631165e-01,\n",
       "          4.62814383e-02,  2.30681911e-01, -1.20859213e-01,\n",
       "         -3.51599604e-02, -1.97657168e-01,  4.78742868e-02,\n",
       "          1.38169184e-01,  8.81253704e-02,  5.42664118e-02,\n",
       "         -2.01312499e-03,  1.90448508e-01, -1.46277115e-01,\n",
       "          1.80241376e-01,  2.11303443e-01,  5.80452047e-02,\n",
       "         -3.11272964e-02,  4.09622230e-02,  9.72999707e-02,\n",
       "         -6.15956523e-02, -5.29496036e-02, -1.44948605e-02,\n",
       "          1.06308470e-02,  7.63694942e-02,  3.23603898e-02,\n",
       "         -9.21266526e-02,  1.74512908e-01, -9.25851800e-03,\n",
       "          1.42431587e-01,  1.28194913e-01,  2.19845533e-01,\n",
       "          1.74548216e-02, -1.28746688e-01, -2.90580420e-03,\n",
       "          2.11519152e-01,  4.81639095e-02, -2.95011789e-01,\n",
       "          9.19368267e-02, -4.48704232e-03, -8.75930786e-02,\n",
       "          3.69171858e-01,  1.46492511e-01,  1.09876156e-01,\n",
       "         -3.07148648e-03,  2.48433501e-01,  1.28577173e-01,\n",
       "          2.73206029e-02,  1.62685573e-01, -1.15975644e-02,\n",
       "         -1.17820948e-01, -5.95451295e-02, -1.17634110e-01,\n",
       "         -1.33821845e-01, -3.41990627e-02],\n",
       "        [-7.80144036e-02,  1.39678165e-01,  1.22905225e-01,\n",
       "         -6.90609887e-02, -1.90576643e-01,  1.90741345e-01,\n",
       "         -3.34222466e-02, -3.36024821e-01,  2.04908438e-02,\n",
       "         -7.10944831e-02, -3.28277536e-02,  1.79407075e-01,\n",
       "         -1.66930154e-01,  4.11372744e-02,  1.63166597e-03,\n",
       "          1.20803736e-01, -9.06625465e-02,  2.24776845e-02,\n",
       "          9.05941948e-02,  8.52560699e-02, -2.51498409e-02,\n",
       "          8.16569626e-02,  1.76223442e-01,  1.15766421e-01,\n",
       "         -1.52334586e-01,  3.49744447e-02,  6.59081154e-03,\n",
       "         -1.36248052e-01,  3.76975313e-02, -2.56069779e-01,\n",
       "          1.99681506e-01,  1.71966895e-01, -1.40267685e-01,\n",
       "         -7.33741596e-02,  2.57723063e-01, -1.69225365e-01,\n",
       "          1.38180539e-01,  7.60125592e-02,  1.86469644e-01,\n",
       "         -5.38658060e-04,  9.30206627e-02,  9.71608385e-02,\n",
       "         -1.71972308e-02,  8.86499695e-03, -1.00923054e-01,\n",
       "         -9.20976028e-02, -1.28274888e-01,  9.24910530e-02,\n",
       "         -4.32800502e-02,  1.09273136e-01,  8.16223118e-03,\n",
       "         -6.85465336e-03, -2.45109305e-01,  5.95239252e-02,\n",
       "          2.25632545e-03, -3.31683338e-01],\n",
       "        [-5.76416627e-02,  1.21484376e-01,  2.58309513e-01,\n",
       "          3.18993926e-02, -1.94835648e-01,  1.70709133e-01,\n",
       "          1.77691042e-01, -4.29391153e-02, -1.85626104e-01,\n",
       "         -8.22654888e-02, -5.87071292e-02, -3.00878342e-02,\n",
       "          1.07055612e-01, -2.76346982e-01, -5.93013801e-02,\n",
       "         -1.74883544e-01,  4.37635146e-02,  2.14247666e-02,\n",
       "          1.24716774e-01,  1.21457383e-01,  7.59147853e-02,\n",
       "         -4.50150184e-02, -1.14731073e-01, -1.26074180e-01,\n",
       "         -1.38724476e-01,  1.18847795e-01, -8.82961005e-02,\n",
       "         -2.10852206e-01,  1.57261327e-01,  6.19936101e-02,\n",
       "         -3.81294549e-01, -2.04023838e-01, -7.88938552e-02,\n",
       "         -2.59142458e-01, -2.51655318e-02, -3.86124700e-02,\n",
       "         -3.70124355e-02,  1.10582545e-01, -2.28431989e-02,\n",
       "          6.92553967e-02,  8.71288702e-02, -3.42582427e-02,\n",
       "          7.69625157e-02,  9.71546769e-02,  8.85469541e-02,\n",
       "         -1.54518420e-02,  2.12400123e-01, -9.32959840e-02,\n",
       "         -2.95726792e-03, -9.87166986e-02,  2.49482319e-02,\n",
       "         -5.90531565e-02,  1.45221218e-01, -8.86195004e-02,\n",
       "         -5.34263737e-02, -2.22055882e-01],\n",
       "        [ 1.74945425e-02, -8.08625668e-03, -5.48233055e-02,\n",
       "         -1.09272428e-01, -8.04386511e-02,  6.74359351e-02,\n",
       "         -9.03396755e-02, -2.28826970e-01,  9.20859873e-02,\n",
       "         -7.93943927e-02, -3.21469679e-02, -5.09680733e-02,\n",
       "          8.27296376e-02,  2.76012480e-01, -8.88495967e-02,\n",
       "         -1.91177223e-02,  6.79159686e-02,  4.86836545e-02,\n",
       "          1.73717007e-01, -5.71389012e-02,  1.25763848e-01,\n",
       "         -7.51868486e-02, -5.08522391e-02, -2.17657834e-01,\n",
       "          2.70116590e-02, -1.13405287e-01,  9.22393948e-02,\n",
       "          2.31602520e-01,  1.00151233e-01, -1.09627955e-01,\n",
       "         -9.69426706e-02, -1.33963123e-01, -1.45133361e-01,\n",
       "         -5.87983206e-02,  2.39719963e-03, -2.72468269e-01,\n",
       "          2.72128671e-01, -2.67660707e-01, -6.34253025e-02,\n",
       "         -3.71437632e-02,  4.97742929e-02, -1.36618212e-01,\n",
       "          1.21606169e-02,  8.59811306e-02, -6.05279952e-02,\n",
       "          3.16243917e-01, -1.69307351e-01, -2.37229720e-01,\n",
       "         -1.47946281e-02, -1.91517323e-02,  2.45666325e-01,\n",
       "          4.95137684e-02,  1.20059729e-01, -9.47673991e-02,\n",
       "          8.37808475e-02,  7.40691125e-02],\n",
       "        [ 8.61483440e-03, -1.14553638e-01,  1.55813070e-02,\n",
       "          1.98798284e-01, -2.43352894e-02, -1.24677457e-01,\n",
       "          1.42714009e-01,  1.07709698e-01, -9.22579169e-02,\n",
       "         -1.16887324e-01, -1.60936654e-01,  2.47392152e-02,\n",
       "         -1.16355857e-03,  1.85435832e-01, -2.03593209e-01,\n",
       "          4.43725809e-02,  2.53457308e-01, -7.23026395e-02,\n",
       "         -1.22022137e-01,  2.19386414e-01,  1.08722202e-01,\n",
       "         -3.05229761e-02,  6.51159659e-02,  9.55824256e-02,\n",
       "          1.85237110e-01, -6.87611327e-02,  1.06781945e-01,\n",
       "         -1.57688290e-01, -7.18152300e-02, -5.60324118e-02,\n",
       "          1.74181625e-01, -1.17123887e-01, -1.13345869e-01,\n",
       "         -7.74417892e-02, -9.34457853e-02, -9.64042842e-02,\n",
       "          4.08441573e-02,  8.18694457e-02, -8.95588994e-02,\n",
       "          1.18382670e-01,  6.75968686e-03,  3.06495223e-02,\n",
       "         -5.76070473e-02, -7.00645521e-02,  4.96706069e-02,\n",
       "         -1.69143364e-01, -5.28378040e-02, -2.91173644e-02,\n",
       "          1.02875493e-02, -1.17581651e-01, -3.67752612e-02,\n",
       "          1.54200673e-01,  1.02348670e-01, -4.39124517e-02,\n",
       "          5.44072092e-01, -1.65759534e-01],\n",
       "        [ 2.53747702e-01,  2.77264882e-02, -7.85088614e-02,\n",
       "          7.88899139e-02,  6.31579533e-02, -6.19204789e-02,\n",
       "          3.01926672e-01,  1.00921951e-01, -2.13355273e-02,\n",
       "         -7.83541203e-02, -3.60644534e-02, -5.33337258e-02,\n",
       "         -1.97755530e-01,  9.15694386e-02,  3.05316865e-01,\n",
       "          9.07182693e-02,  1.91940889e-02, -5.14133498e-02,\n",
       "         -4.49947454e-03,  8.03795159e-02, -7.91499205e-03,\n",
       "          7.24175721e-02, -3.16551328e-02,  4.67499569e-02,\n",
       "          8.18386674e-02, -1.44006878e-01, -7.60256499e-02,\n",
       "          8.13253000e-02,  3.58321592e-02, -1.83747023e-01,\n",
       "         -4.58020642e-02, -2.76304543e-01, -1.51012242e-01,\n",
       "          8.85931700e-02, -9.97828171e-02, -1.84498638e-01,\n",
       "          2.01259125e-02,  2.39455625e-02, -5.06170318e-02,\n",
       "          3.63387279e-02,  2.42324904e-01, -2.83090807e-02,\n",
       "         -3.11029591e-02, -3.13266255e-02, -1.00244582e-01,\n",
       "         -1.71338767e-01,  3.17040533e-02, -1.85645998e-01,\n",
       "         -1.13457389e-01,  2.26817638e-01, -1.99029773e-01,\n",
       "         -1.59376532e-01, -1.18466452e-01, -2.30387732e-01,\n",
       "         -2.64491171e-01,  6.61344640e-03],\n",
       "        [-5.00944396e-03, -4.24242392e-02,  1.28254160e-01,\n",
       "          3.00469622e-02, -4.50957566e-02,  7.33527020e-02,\n",
       "          9.70612839e-03,  2.56306022e-01, -4.80872132e-02,\n",
       "          1.24144390e-01, -6.01577908e-02,  5.74889369e-02,\n",
       "          1.70015078e-02, -2.71409191e-02, -8.83832127e-02,\n",
       "         -7.57658780e-02,  1.87149830e-02, -4.12291177e-02,\n",
       "          6.73616827e-02, -4.08137590e-01, -1.96384415e-01,\n",
       "         -1.41156673e-01, -1.81432348e-02,  2.06371080e-02,\n",
       "         -1.81975558e-01, -2.98407599e-02,  2.53720790e-01,\n",
       "         -2.42117926e-01,  3.59602682e-02, -1.17224820e-01,\n",
       "          1.13373935e-01, -1.37488246e-01,  1.37222275e-01,\n",
       "          1.14938185e-01,  6.48713857e-02, -1.04496554e-01,\n",
       "         -1.34754732e-01, -2.10452929e-01, -1.74988568e-01,\n",
       "         -2.74405926e-01,  1.50394842e-01, -1.20186955e-02,\n",
       "         -4.29442152e-02,  2.24080071e-01, -1.66940372e-02,\n",
       "         -2.46029980e-02,  7.42788538e-02, -1.11451171e-01,\n",
       "         -2.36878812e-01,  1.54066697e-01, -1.23824030e-02,\n",
       "          6.01950437e-02, -1.16335243e-01,  6.38127699e-02,\n",
       "          1.40484124e-01, -4.52378877e-02],\n",
       "        [ 7.68616050e-02, -1.93702519e-01,  1.43886417e-01,\n",
       "          2.03555837e-01, -2.75960922e-01,  7.56675750e-03,\n",
       "          1.14955701e-01,  1.06246196e-01,  1.19944438e-02,\n",
       "         -8.89534056e-02,  7.44868219e-02, -3.45196724e-02,\n",
       "          6.11487292e-02,  1.34200349e-01,  7.21251965e-02,\n",
       "          1.57545358e-01,  1.34307086e-01,  1.99915364e-01,\n",
       "          1.54121354e-01, -8.49724412e-02, -5.33100963e-02,\n",
       "         -8.04924071e-02, -1.41677648e-01, -2.27510735e-01,\n",
       "          6.14870191e-02, -2.52235562e-01,  3.84575687e-02,\n",
       "         -4.52502966e-02, -2.03501359e-02,  7.70016462e-02,\n",
       "          7.59681314e-03,  2.52963662e-01,  1.88066065e-01,\n",
       "         -8.61366838e-02, -9.50387493e-02, -2.41137132e-01,\n",
       "         -2.22516488e-02,  8.05027410e-03,  1.62574530e-01,\n",
       "          7.69448802e-02,  8.42864439e-02, -1.50282145e-01,\n",
       "         -2.43894860e-01, -2.40999646e-03,  6.29961938e-02,\n",
       "         -6.75255731e-02, -1.55357150e-02,  2.54789233e-01,\n",
       "          4.27504592e-02, -1.99894026e-01, -3.31009589e-02,\n",
       "         -4.54889163e-02, -8.85181800e-02,  1.55291691e-01,\n",
       "         -1.80736333e-01,  1.95930712e-02],\n",
       "        [ 9.01390240e-02,  4.82855141e-02, -2.79613342e-02,\n",
       "          2.56895065e-01, -1.00049190e-01,  2.67205447e-01,\n",
       "         -2.00248793e-01, -5.12552261e-03, -9.44799781e-02,\n",
       "          1.36132106e-01,  1.73510924e-01, -1.48451313e-01,\n",
       "         -4.01009209e-02,  7.27036893e-02, -4.82746698e-02,\n",
       "         -1.05966032e-01,  3.14228423e-02, -6.47620484e-03,\n",
       "          1.38775080e-01, -1.13561839e-01,  2.11827904e-02,\n",
       "          8.01306069e-02, -2.53374547e-01,  8.92397016e-02,\n",
       "          1.22884996e-01,  7.83209950e-02, -1.21841863e-01,\n",
       "         -1.58635646e-01, -6.89400882e-02, -1.67124763e-01,\n",
       "         -6.57853112e-02,  5.98298013e-02, -1.51362687e-01,\n",
       "          3.84550989e-02, -1.81693077e-01,  1.80918008e-01,\n",
       "          5.58839645e-04,  1.44647077e-01,  6.80212444e-03,\n",
       "          1.25180572e-01,  1.24265447e-01,  1.10238209e-01,\n",
       "         -6.88228756e-02,  1.33148521e-01, -1.68512553e-01,\n",
       "          9.94275091e-04, -9.71757248e-02,  1.44741759e-01,\n",
       "          6.22152537e-02,  1.43341258e-01,  2.13143572e-01,\n",
       "         -1.98609397e-01, -1.16303988e-01, -1.43200293e-01,\n",
       "          2.20952496e-01,  2.43628740e-01],\n",
       "        [-2.59483512e-02,  3.76898609e-02, -1.28516555e-01,\n",
       "          3.76966335e-02, -2.11035550e-01, -5.33376895e-02,\n",
       "          1.03096493e-01,  1.33122399e-01, -9.34484303e-02,\n",
       "          1.45998606e-02,  3.28418091e-02, -1.83924913e-01,\n",
       "          1.01341106e-01,  5.98547608e-03,  1.54150790e-02,\n",
       "         -6.51055053e-02, -5.79088330e-02, -1.35865495e-01,\n",
       "          1.68703586e-01,  2.87060380e-01, -3.28906298e-01,\n",
       "         -5.18911779e-02, -3.99494134e-02, -2.90729534e-02,\n",
       "         -1.88003369e-02,  1.42696157e-01, -2.38001540e-01,\n",
       "          4.28376682e-02,  5.25379255e-02, -7.08047003e-02,\n",
       "          5.82507998e-02,  2.66979575e-01,  1.13587804e-01,\n",
       "          1.81956828e-01,  2.00686529e-02, -2.69920200e-01,\n",
       "         -1.13895945e-01, -1.31450936e-01, -1.05940834e-01,\n",
       "          5.58866300e-02, -2.34666497e-01, -1.50482714e-01,\n",
       "          2.18897015e-01,  5.86430430e-02, -1.90794140e-01,\n",
       "         -4.60410379e-02, -9.72480047e-03, -9.12423879e-02,\n",
       "          1.77012324e-01,  2.01886892e-01,  1.54571477e-02,\n",
       "          2.69828364e-02,  7.99923465e-02,  3.42402607e-02,\n",
       "          1.03070281e-01, -8.26999247e-02],\n",
       "        [ 1.13558419e-01, -7.98894763e-02,  1.72784194e-01,\n",
       "          8.52747485e-02,  2.33207390e-01,  7.28934705e-02,\n",
       "         -2.68007100e-01,  1.25264511e-01, -1.76123410e-01,\n",
       "         -6.14706017e-02,  2.82543413e-02, -6.09584376e-02,\n",
       "         -8.66378173e-02, -1.49131455e-02,  1.63337551e-02,\n",
       "          2.12275013e-01,  1.37380302e-01,  2.22238377e-01,\n",
       "         -1.07932188e-01,  6.79477118e-03, -2.06972703e-01,\n",
       "         -6.11456186e-02, -5.61088398e-02, -1.64046049e-01,\n",
       "         -5.00884652e-02, -1.88697621e-01, -3.93297225e-02,\n",
       "         -4.56647063e-03, -9.24624652e-02, -7.18697384e-02,\n",
       "         -8.11058581e-02, -1.45930514e-01, -9.93534252e-02,\n",
       "         -4.28486802e-03,  1.81415349e-01,  1.60652667e-01,\n",
       "         -2.86213979e-02,  8.25235695e-02,  4.95878346e-02,\n",
       "         -2.12438647e-02, -2.27591559e-01, -1.74172431e-01,\n",
       "          1.80363610e-01, -1.01675414e-01, -1.68213040e-01,\n",
       "         -7.62908682e-02, -2.11511567e-01, -1.03764206e-01,\n",
       "         -8.68657976e-02,  4.56381366e-02,  1.48047373e-01,\n",
       "         -1.90343708e-01,  1.41312763e-01,  1.66291475e-01,\n",
       "         -1.89083498e-02, -2.37935528e-01]], dtype=float32),\n",
       " array([0., 0., 0., 0., 0., 0., 0., 0., 0., 0., 0., 0., 0., 0., 1., 1., 1.,\n",
       "        1., 1., 1., 1., 1., 1., 1., 1., 1., 1., 1., 0., 0., 0., 0., 0., 0.,\n",
       "        0., 0., 0., 0., 0., 0., 0., 0., 0., 0., 0., 0., 0., 0., 0., 0., 0.,\n",
       "        0., 0., 0., 0., 0.], dtype=float32),\n",
       " array([[-0.00359679, -0.00067952, -0.00256195, -0.00399672,  0.00430047],\n",
       "        [-0.00124793, -0.00161849,  0.00236659, -0.00081026,  0.00121287],\n",
       "        [ 0.00377551, -0.00315352,  0.00381432, -0.00266325, -0.00280508],\n",
       "        ...,\n",
       "        [-0.00409889, -0.00033865,  0.00428069, -0.00375586, -0.00251512],\n",
       "        [ 0.0044075 , -0.00256405,  0.00273996, -0.00163184,  0.00378386],\n",
       "        [ 0.00365207, -0.00410455,  0.00242693, -0.00059433, -0.00314389]],\n",
       "       dtype=float32),\n",
       " array([0., 0., 0., 0., 0.], dtype=float32)]"
      ]
     },
     "execution_count": 48,
     "metadata": {},
     "output_type": "execute_result"
    }
   ],
   "source": [
    "wights = model.get_weights()\n",
    "wights"
   ]
  },
  {
   "cell_type": "code",
   "execution_count": 49,
   "metadata": {
    "scrolled": true
   },
   "outputs": [
    {
     "name": "stdout",
     "output_type": "stream",
     "text": [
      "Epoch 1/200\n",
      "3/3 - 30s - loss: 3.1235 - sparse_categorical_accuracy: 0.4452\n",
      "Epoch 2/200\n",
      "3/3 - 28s - loss: 0.2889 - sparse_categorical_accuracy: 0.9589\n",
      "Epoch 3/200\n",
      "3/3 - 27s - loss: 0.0909 - sparse_categorical_accuracy: 0.9932\n",
      "Epoch 4/200\n",
      "3/3 - 28s - loss: 0.0481 - sparse_categorical_accuracy: 0.9932\n",
      "Epoch 5/200\n",
      "3/3 - 27s - loss: 0.0417 - sparse_categorical_accuracy: 0.9932\n",
      "Epoch 6/200\n",
      "3/3 - 26s - loss: 0.0366 - sparse_categorical_accuracy: 0.9932\n",
      "Epoch 7/200\n",
      "3/3 - 28s - loss: 0.0363 - sparse_categorical_accuracy: 0.9932\n",
      "Epoch 8/200\n",
      "3/3 - 27s - loss: 0.0413 - sparse_categorical_accuracy: 0.9932\n",
      "Epoch 9/200\n",
      "3/3 - 28s - loss: 0.0325 - sparse_categorical_accuracy: 0.9932\n",
      "Epoch 10/200\n",
      "3/3 - 28s - loss: 0.0311 - sparse_categorical_accuracy: 0.9932\n",
      "Epoch 11/200\n",
      "3/3 - 28s - loss: 0.0282 - sparse_categorical_accuracy: 0.9932\n",
      "Epoch 12/200\n",
      "3/3 - 26s - loss: 0.0275 - sparse_categorical_accuracy: 0.9932\n",
      "Epoch 13/200\n",
      "3/3 - 28s - loss: 0.0280 - sparse_categorical_accuracy: 0.9932\n",
      "Epoch 14/200\n",
      "3/3 - 30s - loss: 0.0264 - sparse_categorical_accuracy: 0.9932\n",
      "Epoch 15/200\n",
      "3/3 - 27s - loss: 0.0247 - sparse_categorical_accuracy: 0.9932\n",
      "Epoch 16/200\n",
      "3/3 - 28s - loss: 0.0242 - sparse_categorical_accuracy: 0.9932\n",
      "Epoch 17/200\n",
      "3/3 - 29s - loss: 0.0254 - sparse_categorical_accuracy: 0.9932\n",
      "Epoch 18/200\n",
      "3/3 - 29s - loss: 0.0227 - sparse_categorical_accuracy: 0.9932\n",
      "Epoch 19/200\n",
      "3/3 - 28s - loss: 0.0228 - sparse_categorical_accuracy: 0.9932\n",
      "Epoch 20/200\n",
      "3/3 - 29s - loss: 0.0192 - sparse_categorical_accuracy: 0.9932\n",
      "Epoch 21/200\n",
      "3/3 - 28s - loss: 0.0193 - sparse_categorical_accuracy: 0.9932\n",
      "Epoch 22/200\n",
      "3/3 - 28s - loss: 0.0173 - sparse_categorical_accuracy: 0.9932\n",
      "Epoch 23/200\n",
      "3/3 - 27s - loss: 0.0184 - sparse_categorical_accuracy: 0.9932\n",
      "Epoch 24/200\n",
      "3/3 - 27s - loss: 0.0173 - sparse_categorical_accuracy: 0.9932\n",
      "Epoch 25/200\n",
      "3/3 - 30s - loss: 0.0167 - sparse_categorical_accuracy: 0.9932\n",
      "Epoch 26/200\n",
      "3/3 - 37s - loss: 0.0135 - sparse_categorical_accuracy: 0.9932\n",
      "Epoch 27/200\n",
      "3/3 - 32s - loss: 0.0133 - sparse_categorical_accuracy: 0.9932\n",
      "Epoch 28/200\n",
      "3/3 - 35s - loss: 0.0189 - sparse_categorical_accuracy: 0.9932\n",
      "Epoch 29/200\n",
      "3/3 - 35s - loss: 0.7767 - sparse_categorical_accuracy: 0.9384\n",
      "Epoch 30/200\n",
      "3/3 - 37s - loss: 0.0170 - sparse_categorical_accuracy: 0.9932\n",
      "Epoch 31/200\n",
      "3/3 - 36s - loss: 0.0130 - sparse_categorical_accuracy: 0.9932\n",
      "Epoch 32/200\n",
      "3/3 - 34s - loss: 0.0103 - sparse_categorical_accuracy: 0.9932\n",
      "Epoch 33/200\n",
      "3/3 - 35s - loss: 0.0102 - sparse_categorical_accuracy: 0.9932\n",
      "Epoch 34/200\n",
      "3/3 - 37s - loss: 0.0103 - sparse_categorical_accuracy: 0.9932\n",
      "Epoch 35/200\n",
      "3/3 - 35s - loss: 0.0099 - sparse_categorical_accuracy: 1.0000\n",
      "Epoch 36/200\n",
      "3/3 - 32s - loss: 0.0078 - sparse_categorical_accuracy: 1.0000\n",
      "Epoch 37/200\n",
      "3/3 - 31s - loss: 0.0080 - sparse_categorical_accuracy: 1.0000\n",
      "Epoch 38/200\n",
      "3/3 - 32s - loss: 0.0074 - sparse_categorical_accuracy: 1.0000\n",
      "Epoch 39/200\n",
      "3/3 - 32s - loss: 0.0074 - sparse_categorical_accuracy: 1.0000\n",
      "Epoch 40/200\n",
      "3/3 - 32s - loss: 0.0076 - sparse_categorical_accuracy: 1.0000\n",
      "Epoch 41/200\n",
      "3/3 - 32s - loss: 0.0078 - sparse_categorical_accuracy: 0.9932\n",
      "Epoch 42/200\n",
      "3/3 - 32s - loss: 0.0069 - sparse_categorical_accuracy: 0.9932\n",
      "Epoch 43/200\n",
      "3/3 - 36s - loss: 0.0074 - sparse_categorical_accuracy: 1.0000\n",
      "Epoch 44/200\n",
      "3/3 - 33s - loss: 0.0062 - sparse_categorical_accuracy: 1.0000\n",
      "Epoch 45/200\n",
      "3/3 - 33s - loss: 0.0057 - sparse_categorical_accuracy: 1.0000\n",
      "Epoch 46/200\n",
      "3/3 - 34s - loss: 0.0051 - sparse_categorical_accuracy: 1.0000\n",
      "Epoch 47/200\n",
      "3/3 - 30s - loss: 0.0045 - sparse_categorical_accuracy: 1.0000\n",
      "Epoch 48/200\n",
      "3/3 - 29s - loss: 0.0050 - sparse_categorical_accuracy: 1.0000\n",
      "Epoch 49/200\n",
      "3/3 - 27s - loss: 0.0050 - sparse_categorical_accuracy: 1.0000\n",
      "Epoch 50/200\n",
      "3/3 - 30s - loss: 0.0053 - sparse_categorical_accuracy: 0.9932\n",
      "Epoch 51/200\n",
      "3/3 - 29s - loss: 0.0041 - sparse_categorical_accuracy: 1.0000\n",
      "Epoch 52/200\n",
      "3/3 - 36s - loss: 0.0037 - sparse_categorical_accuracy: 1.0000\n",
      "Epoch 53/200\n",
      "3/3 - 36s - loss: 0.0034 - sparse_categorical_accuracy: 1.0000\n",
      "Epoch 54/200\n",
      "3/3 - 35s - loss: 0.0031 - sparse_categorical_accuracy: 1.0000\n",
      "Epoch 55/200\n",
      "3/3 - 35s - loss: 0.0023 - sparse_categorical_accuracy: 1.0000\n",
      "Epoch 56/200\n",
      "3/3 - 34s - loss: 0.0020 - sparse_categorical_accuracy: 1.0000\n",
      "Epoch 57/200\n",
      "3/3 - 35s - loss: 0.0022 - sparse_categorical_accuracy: 1.0000\n",
      "Epoch 58/200\n",
      "3/3 - 39s - loss: 0.0018 - sparse_categorical_accuracy: 1.0000\n",
      "Epoch 59/200\n",
      "3/3 - 36s - loss: 0.0049 - sparse_categorical_accuracy: 1.0000\n",
      "Epoch 60/200\n",
      "3/3 - 35s - loss: 9.0313e-04 - sparse_categorical_accuracy: 1.0000\n",
      "Epoch 61/200\n",
      "3/3 - 34s - loss: 8.1970e-04 - sparse_categorical_accuracy: 1.0000\n",
      "Epoch 62/200\n",
      "3/3 - 36s - loss: 0.0012 - sparse_categorical_accuracy: 1.0000\n",
      "Epoch 63/200\n",
      "3/3 - 35s - loss: 4.9064e-04 - sparse_categorical_accuracy: 1.0000\n",
      "Epoch 64/200\n",
      "3/3 - 34s - loss: 4.0554e-04 - sparse_categorical_accuracy: 1.0000\n",
      "Epoch 65/200\n",
      "3/3 - 36s - loss: 3.6272e-04 - sparse_categorical_accuracy: 1.0000\n",
      "Epoch 66/200\n",
      "3/3 - 35s - loss: 2.6515e-04 - sparse_categorical_accuracy: 1.0000\n",
      "Epoch 67/200\n",
      "3/3 - 35s - loss: 2.2310e-04 - sparse_categorical_accuracy: 1.0000\n",
      "Epoch 68/200\n",
      "3/3 - 30s - loss: 2.7661e-04 - sparse_categorical_accuracy: 1.0000\n",
      "Epoch 69/200\n",
      "3/3 - 29s - loss: 1.7445e-04 - sparse_categorical_accuracy: 1.0000\n",
      "Epoch 70/200\n",
      "3/3 - 29s - loss: 1.2255e-04 - sparse_categorical_accuracy: 1.0000\n",
      "Epoch 71/200\n",
      "3/3 - 33s - loss: 9.0532e-05 - sparse_categorical_accuracy: 1.0000\n",
      "Epoch 72/200\n",
      "3/3 - 31s - loss: nan - sparse_categorical_accuracy: 0.7945\n",
      "Epoch 73/200\n",
      "3/3 - 30s - loss: nan - sparse_categorical_accuracy: 0.6027\n",
      "Epoch 74/200\n",
      "3/3 - 28s - loss: nan - sparse_categorical_accuracy: 0.6027\n",
      "Epoch 75/200\n",
      "3/3 - 30s - loss: nan - sparse_categorical_accuracy: 0.6027\n",
      "Epoch 00075: early stopping\n"
     ]
    }
   ],
   "source": [
    "mod = model.fit(X_train,\n",
    "               Y_train, epochs=200, batch_size= 64, verbose=2 , \n",
    "                callbacks=[callback, print_weights, model_check])"
   ]
  },
  {
   "cell_type": "code",
   "execution_count": 50,
   "metadata": {},
   "outputs": [],
   "source": [
    "# 7\n",
    "model.set_weights(wie_by_epoch[69])"
   ]
  },
  {
   "cell_type": "code",
   "execution_count": 51,
   "metadata": {},
   "outputs": [
    {
     "name": "stdout",
     "output_type": "stream",
     "text": [
      "2/2 - 2s - loss: 0.0013 - sparse_categorical_accuracy: 1.0000\n"
     ]
    },
    {
     "data": {
      "text/plain": [
       "[0.001295179594308138, 1.0]"
      ]
     },
     "execution_count": 51,
     "metadata": {},
     "output_type": "execute_result"
    }
   ],
   "source": [
    "scores = model.evaluate(X_test,Y_test, verbose=2)\n",
    "scores"
   ]
  },
  {
   "cell_type": "code",
   "execution_count": 52,
   "metadata": {},
   "outputs": [
    {
     "data": {
      "text/plain": [
       "75"
      ]
     },
     "execution_count": 52,
     "metadata": {},
     "output_type": "execute_result"
    }
   ],
   "source": [
    "# Number of Epochs\n",
    "len(wie_by_epoch)"
   ]
  },
  {
   "cell_type": "code",
   "execution_count": null,
   "metadata": {},
   "outputs": [],
   "source": []
  },
  {
   "cell_type": "code",
   "execution_count": 53,
   "metadata": {},
   "outputs": [
    {
     "data": {
      "text/plain": [
       "{'loss': 0.001295179594308138, 'sparse_categorical_accuracy': 1.0}"
      ]
     },
     "execution_count": 53,
     "metadata": {},
     "output_type": "execute_result"
    }
   ],
   "source": [
    "dict(zip(model.metrics_names, scores))"
   ]
  },
  {
   "cell_type": "code",
   "execution_count": 54,
   "metadata": {},
   "outputs": [
    {
     "data": {
      "image/png": "[encoded data removed]",
      "text/plain": [
       "<Figure size 432x288 with 2 Axes>"
      ]
     },
     "metadata": {
      "needs_background": "light"
     },
     "output_type": "display_data"
    }
   ],
   "source": [
    "from matplotlib import pyplot\n",
    "# plot loss during training\n",
    "pyplot.subplot(211)\n",
    "pyplot.title('Loss')\n",
    "pyplot.plot(mod.history['loss'], label='train')\n",
    "#pyplot.plot(mod.history['val_loss'], label='test')\n",
    "pyplot.legend()\n",
    "# plot accuracy during training\n",
    "pyplot.subplot(212)\n",
    "pyplot.title('Accuracy')\n",
    "pyplot.plot(mod.history['sparse_categorical_accuracy'], label='train')\n",
    "#pyplot.plot(mod.history['val_accuracy'], label='test')\n",
    "pyplot.legend()\n",
    "pyplot.show()"
   ]
  },
  {
   "cell_type": "code",
   "execution_count": 55,
   "metadata": {},
   "outputs": [],
   "source": [
    "# predict probabilities for test set\n",
    "yhat_probs = model.predict(X_test.astype('float32'), verbose=0)\n",
    "# predict crisp classes for test set\n",
    "#yhat_classes = model.predict_classes(X_test, verbose=0)\n",
    "yhat_classes = np.argmax(yhat_probs,axis=1)"
   ]
  },
  {
   "cell_type": "code",
   "execution_count": 56,
   "metadata": {},
   "outputs": [],
   "source": [
    "from sklearn.datasets import make_circles\n",
    "from sklearn.metrics import accuracy_score\n",
    "from sklearn.metrics import precision_score\n",
    "from sklearn.metrics import recall_score\n",
    "from sklearn.metrics import f1_score\n",
    "from sklearn.metrics import cohen_kappa_score\n",
    "from sklearn.metrics import roc_auc_score\n",
    "from sklearn.metrics import confusion_matrix\n",
    "from sklearn.metrics import roc_curve\n"
   ]
  },
  {
   "cell_type": "code",
   "execution_count": 57,
   "metadata": {},
   "outputs": [
    {
     "name": "stdout",
     "output_type": "stream",
     "text": [
      "Accuracy: 1.000000\n",
      "Precision: 1.000000\n",
      "Recall: 1.000000\n",
      "F1 score: 1.000000\n"
     ]
    }
   ],
   "source": [
    "# accuracy: (tp + tn) / (p + n)\n",
    "accuracy = accuracy_score(Y_test, yhat_classes)\n",
    "print('Accuracy: %f' % accuracy)\n",
    "# precision tp / (tp + fp)\n",
    "precision = precision_score(Y_test, yhat_classes, average='macro')\n",
    "print('Precision: %f' % precision)\n",
    "# recall: tp / (tp + fn)\n",
    "recall = recall_score(Y_test, yhat_classes,average='macro')\n",
    "print('Recall: %f' % recall)\n",
    "# f1: 2 tp / (2 tp + fp + fn)\n",
    "f1 = f1_score(Y_test, yhat_classes, average='macro')\n",
    "print('F1 score: %f' % f1)"
   ]
  },
  {
   "cell_type": "code",
   "execution_count": 58,
   "metadata": {},
   "outputs": [
    {
     "name": "stdout",
     "output_type": "stream",
     "text": [
      "Cohens kappa: 1.000000\n",
      "[[22  0]\n",
      " [ 0 15]]\n"
     ]
    }
   ],
   "source": [
    "# kappa\n",
    "kappa = cohen_kappa_score(Y_test, yhat_classes)\n",
    "print('Cohens kappa: %f' % kappa)\n",
    "# ROC AUC\n",
    "#fprate, tprate, thresholds = roc_curve(Y_test, yhat_probs, average = 'macro')\n",
    "#print('ROC AUC: %f' % thresholds)\n",
    "# confusion matrix\n",
    "matrix = confusion_matrix(Y_test, yhat_classes)\n",
    "print(matrix)"
   ]
  },
  {
   "cell_type": "code",
   "execution_count": 59,
   "metadata": {},
   "outputs": [
    {
     "name": "stderr",
     "output_type": "stream",
     "text": [
      "C:\\Users\\hp\\Anaconda3\\lib\\site-packages\\sklearn\\metrics\\ranking.py:659: UndefinedMetricWarning: No positive samples in y_true, true positive value should be meaningless\n",
      "  UndefinedMetricWarning)\n"
     ]
    }
   ],
   "source": [
    "fpr = {}\n",
    "tpr = {}\n",
    "thresh ={}\n",
    "\n",
    "n_class = 5\n",
    "\n",
    "for i in range(n_class):    \n",
    "    fpr[i], tpr[i], thresh[i] = roc_curve(Y_test, yhat_classes, pos_label=i)"
   ]
  },
  {
   "cell_type": "code",
   "execution_count": 60,
   "metadata": {},
   "outputs": [
    {
     "data": {
      "image/png": "[encoded data removed]",
      "text/plain": [
       "<Figure size 432x288 with 1 Axes>"
      ]
     },
     "metadata": {
      "needs_background": "light"
     },
     "output_type": "display_data"
    }
   ],
   "source": [
    "# plotting    \n",
    "plt.plot(fpr[0], tpr[0], linestyle='--',color='orange', label='Class 0 vs Rest')\n",
    "plt.plot(fpr[1], tpr[1], linestyle='--',color='green', label='Class 1 vs Rest')\n",
    "plt.plot(fpr[2], tpr[2], linestyle='--',color='blue', label='Class 2 vs Rest')\n",
    "plt.plot(fpr[3], tpr[3], linestyle='--',color='red', label='Class 3 vs Rest')\n",
    "plt.plot(fpr[4], tpr[4], linestyle='--',color='black', label='Class 4 vs Rest')\n",
    "plt.title('Multiclass ROC curve')\n",
    "plt.xlabel('False Positive Rate')\n",
    "plt.ylabel('True Positive rate')\n",
    "plt.legend(loc='best')\n",
    "plt.savefig('Multiclass ROC',dpi=300); "
   ]
  },
  {
   "cell_type": "code",
   "execution_count": 61,
   "metadata": {},
   "outputs": [
    {
     "name": "stdout",
     "output_type": "stream",
     "text": [
      "Confusion matrix : \n",
      " [[22  0]\n",
      " [ 0 15]]\n"
     ]
    }
   ],
   "source": [
    "from sklearn.metrics import confusion_matrix\n",
    "from sklearn.metrics import classification_report\n",
    "matrix = confusion_matrix(Y_test, yhat_classes, labels= [0, 1])\n",
    "print('Confusion matrix : \\n',matrix)"
   ]
  },
  {
   "cell_type": "code",
   "execution_count": 62,
   "metadata": {},
   "outputs": [
    {
     "name": "stdout",
     "output_type": "stream",
     "text": [
      "Classification report : \n",
      "               precision    recall  f1-score   support\n",
      "\n",
      "           0       1.00      1.00      1.00        22\n",
      "           1       1.00      1.00      1.00        15\n",
      "\n",
      "    accuracy                           1.00        37\n",
      "   macro avg       1.00      1.00      1.00        37\n",
      "weighted avg       1.00      1.00      1.00        37\n",
      "\n"
     ]
    }
   ],
   "source": [
    "matrix = classification_report(Y_test,yhat_classes, labels= [0, 1])\n",
    "print('Classification report : \\n',matrix)"
   ]
  },
  {
   "cell_type": "code",
   "execution_count": 63,
   "metadata": {},
   "outputs": [
    {
     "name": "stdout",
     "output_type": "stream",
     "text": [
      "INFO:tensorflow:Assets written to: ./models/Binary/Without IP/LSTM-Flatten\\assets\n"
     ]
    }
   ],
   "source": [
    "model.save('./models/Binary/Without IP/LSTM-Flatten')"
   ]
  },
  {
   "cell_type": "code",
   "execution_count": 64,
   "metadata": {},
   "outputs": [
    {
     "data": {
      "text/plain": [
       "Text(0.5, 1.0, 'g4')"
      ]
     },
     "execution_count": 64,
     "metadata": {},
     "output_type": "execute_result"
    }
   ],
   "source": [
    "figure = plt.Figure(figsize= (15, 15))\n",
    "gs = figure.add_gridspec(16, 16)\n",
    "axe1 = figure.add_subplot(gs[0:4, :7])\n",
    "axe2 = figure.add_subplot(gs[0:4, 9:])\n",
    "axe3 = figure.add_subplot(gs[6: , :7])\n",
    "axe4 = figure.add_subplot(gs[6:, 9:])\n",
    "axe1.set_title('g1')\n",
    "axe2.set_title('g2')\n",
    "axe3.set_title('g3')\n",
    "axe4.set_title('g4')"
   ]
  },
  {
   "cell_type": "code",
   "execution_count": 233,
   "metadata": {},
   "outputs": [
    {
     "data": {
      "image/png": "[encoded data removed]",
      "text/plain": [
       "<Figure size 1080x1080 with 4 Axes>"
      ]
     },
     "execution_count": 233,
     "metadata": {},
     "output_type": "execute_result"
    }
   ],
   "source": [
    "figure"
   ]
  },
  {
   "cell_type": "code",
   "execution_count": 20,
   "metadata": {},
   "outputs": [
    {
     "data": {
      "text/plain": [
       "1"
      ]
     },
     "execution_count": 20,
     "metadata": {},
     "output_type": "execute_result"
    }
   ],
   "source": [
    "1"
   ]
  },
  {
   "cell_type": "code",
   "execution_count": null,
   "metadata": {},
   "outputs": [],
   "source": []
  }
 ],
 "metadata": {
  "kernelspec": {
   "display_name": "Python 3",
   "language": "python",
   "name": "python3"
  },
  "language_info": {
   "codemirror_mode": {
    "name": "ipython",
    "version": 3
   },
   "file_extension": ".py",
   "mimetype": "text/x-python",
   "name": "python",
   "nbconvert_exporter": "python",
   "pygments_lexer": "ipython3",
   "version": "3.7.4"
  }
 },
 "nbformat": 4,
 "nbformat_minor": 2
}

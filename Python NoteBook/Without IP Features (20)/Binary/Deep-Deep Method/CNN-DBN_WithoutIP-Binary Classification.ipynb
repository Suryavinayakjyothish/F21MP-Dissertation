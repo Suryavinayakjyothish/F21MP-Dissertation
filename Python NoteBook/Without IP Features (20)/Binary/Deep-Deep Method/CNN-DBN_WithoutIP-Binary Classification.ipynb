{
 "cells": [
  {
   "cell_type": "code",
   "execution_count": 1,
   "metadata": {},
   "outputs": [],
   "source": [
    "import pandas as pd\n",
    "import numpy as np\n",
    "from datetime import datetime\n",
    "import time\n",
    "import matplotlib.pyplot as plt\n",
    "import gc\n",
    "pd.set_option('display.max_columns', None)"
   ]
  },
  {
   "cell_type": "code",
   "execution_count": 2,
   "metadata": {},
   "outputs": [],
   "source": [
    "## for machine learning\n",
    "from sklearn import model_selection, preprocessing, feature_selection, ensemble, linear_model, metrics, decomposition\n",
    "## for plotting\n",
    "import matplotlib.pyplot as plt\n",
    "## for machine learning\n",
    "from sklearn import model_selection, preprocessing, feature_selection, ensemble, linear_model, metrics, decomposition\n",
    "from sklearn.preprocessing import LabelEncoder,Normalizer,StandardScaler, OneHotEncoder, MinMaxScaler\n",
    "from sklearn.feature_selection import mutual_info_classif\n",
    "from sklearn.metrics import confusion_matrix\n",
    "from sklearn.metrics import classification_report\n",
    "## for explainer\n",
    "#from lime import lime_tabular"
   ]
  },
  {
   "cell_type": "code",
   "execution_count": 3,
   "metadata": {},
   "outputs": [],
   "source": [
    "#a = pd.read_csv('drive/My Drive/Colab Notebooks/traffic/OpenStack/CIDDS-001-internal-week1.csv', low_memory=False, encoding='cp1252')\n",
    "#b = pd.read_csv('drive/My Drive/Colab Notebooks/traffic/OpenStack/CIDDS-001-internal-week2.csv', low_memory=False, encoding='cp1252')\n",
    "a = pd.read_csv('./CIDDS-001/traffic/OpenStack/CIDDS-001-internal-week1.csv', low_memory=False, encoding='cp1252')\n",
    "b = pd.read_csv('./CIDDS-001/traffic/OpenStack/CIDDS-001-internal-week2.csv', low_memory=False, encoding='cp1252')\n",
    "c =  pd.read_csv('./CIDDS-001/traffic/ExternalServer/CIDDS-001-external-week2.csv', low_memory=False, encoding='cp1252')\n",
    "d =  pd.read_csv('./CIDDS-001/traffic/ExternalServer/CIDDS-001-external-week3.csv', low_memory=False, encoding='cp1252')\n",
    "e =  pd.read_csv('./CIDDS-001/traffic/ExternalServer/CIDDS-001-external-week4.csv', low_memory=False, encoding='cp1252')\n",
    "#f =  pd.read_csv('./CIDDS-001/traffic/ExternalServer/CIDDS-001-external-week1.csv', low_memory=False, encoding='cp1252')\n",
    "#c = pd.read_csv('drive/My Drive/Colab Notebooks/traffic/OpenStack/CIDDS-001-internal-week3.csv', low_memory=False , encoding='cp1252')\n",
    "#d = pd.read_csv('drive/My Drive/Colab Notebooks/traffic/OpenStack/CIDDS-001-internal-week4.csv', low_memory=False, encoding='cp1252')\n",
    "#e =  pd.read_csv('drive/My Drive/Colab Notebooks/traffic/ExternalServer/CIDDS-001-external-week1.csv', low_memory=False, encoding='cp1252')\n",
    "#f =  pd.read_csv('drive/My Drive/Colab Notebooks/traffic/ExternalServer/CIDDS-001-external-week2.csv', low_memory=False, encoding='cp1252')\n",
    "#g =  pd.read_csv('drive/My Drive/Colab Notebooks/traffic/ExternalServer/CIDDS-001-external-week3.csv', low_memory=False, encoding='cp1252')\n",
    "#h =  pd.read_csv('drive/My Drive/Colab Notebooks/traffic/ExternalServer/CIDDS-001-external-week4.csv', low_memory=False, encoding='cp1252')"
   ]
  },
  {
   "cell_type": "code",
   "execution_count": 4,
   "metadata": {},
   "outputs": [
    {
     "name": "stdout",
     "output_type": "stream",
     "text": [
      "(10310733, 16)\n"
     ]
    },
    {
     "data": {
      "text/plain": [
       "(1795404, 16)"
      ]
     },
     "execution_count": 4,
     "metadata": {},
     "output_type": "execute_result"
    }
   ],
   "source": [
    "print(b.shape)\n",
    "#a.drop(a[a['attackType'] == '---'].index, axis = 0, inplace= True) \n",
    "b.drop(b[b['attackType'] == '---'].index, axis = 0, inplace= True)  \n",
    "c.drop(c[c['attackType'] == '---'].index, axis = 0, inplace= True)  \n",
    "d.drop(d[d['attackType'] == '---'].index, axis = 0, inplace= True)  \n",
    "#e.drop(e[e['attackType'] == '---'].index, axis = 0, inplace= True)  \n",
    "b.shape"
   ]
  },
  {
   "cell_type": "code",
   "execution_count": 5,
   "metadata": {},
   "outputs": [],
   "source": [
    "data_external = pd.concat([c,d,e], axis = 0)\n",
    "data_external.reset_index(drop= True, inplace= True)"
   ]
  },
  {
   "cell_type": "code",
   "execution_count": 6,
   "metadata": {},
   "outputs": [],
   "source": [
    "#to Increment attackID values\n",
    "data_external['attackID'] = data_external['attackID'].apply(lambda x: str(int(x) + 70) if x != '---' else x)"
   ]
  },
  {
   "cell_type": "code",
   "execution_count": 7,
   "metadata": {},
   "outputs": [],
   "source": [
    "def convert_bytes(df):\n",
    "    if 'M' in df:\n",
    "        df = df.split('M')\n",
    "        df = df[0].strip()\n",
    "        df = float(df) * 1000000\n",
    "    elif 'B' in df:\n",
    "        df = df.split('B')\n",
    "        df = df[0].strip()\n",
    "        df =  float(df) * 1000000000\n",
    "    else: \n",
    "        df =float(df)\n",
    "    return df"
   ]
  },
  {
   "cell_type": "code",
   "execution_count": 8,
   "metadata": {},
   "outputs": [
    {
     "data": {
      "text/plain": [
       "0"
      ]
     },
     "execution_count": 8,
     "metadata": {},
     "output_type": "execute_result"
    }
   ],
   "source": [
    "data = pd.concat([a,b,data_external], axis = 0)\n",
    "data.reset_index(drop= True, inplace= True)\n",
    "data['Bytes'] = data['Bytes'].apply(lambda x: convert_bytes(x))\n",
    "data['attackType'] = data['attackType'].apply(lambda x:  'attack' if (x!= '---') else x )\n",
    "columns = ['Src Pt', 'Dst Pt','Tos','Flows','Packets', 'Bytes']\n",
    "for i in columns:\n",
    "    data[i] = pd.to_numeric(data[i]);\n",
    "del columns\n",
    "del a,b,c,d,e, data_external\n",
    "gc.collect()"
   ]
  },
  {
   "cell_type": "code",
   "execution_count": 9,
   "metadata": {},
   "outputs": [],
   "source": [
    "#Converts Hexadecimal value to Binary\n",
    "def hex_to_binary(hexdata):\n",
    "    scale = 16 ## equals to hexadecimal\n",
    "    num_of_bits = 9\n",
    "    return bin(int(hexdata, scale))[2:].zfill(num_of_bits);\n",
    "#Converts TCP flags to Binary\n",
    "def to_Binary(x):\n",
    "    l = 0\n",
    "    x = '...' + x\n",
    "    x = list(x)\n",
    "    for i in x:\n",
    "        if (i=='.'):\n",
    "            x[l]= '0'\n",
    "        else:\n",
    "            x[l] = '1'\n",
    "        l = l +1\n",
    "    return ''.join(x)\n",
    "#Converts the 'Flags' column to 9 indiviual columns (manual oneshot encoding)\n",
    "def flag_convert(df):  \n",
    "   # df['Flags'] = df['Flags'].apply(lambda x: (list(x)))\n",
    "   # temp = df['Flags'].apply(lambda x: toBinary(x))\n",
    "    hex_values = list(df[(df['Flags'].str.contains(\"0x\", na=False))]['Flags'].unique())\n",
    "    flag_values = list(df[~(df['Flags'].str.contains(\"0x\", na=False))]['Flags'].unique())\n",
    "    binary_values = {}\n",
    "    for i in hex_values:\n",
    "         binary_values[i] = (hex_to_binary(i))\n",
    "    for i in flag_values:\n",
    "         binary_values[i] = (to_Binary(i))\n",
    "    temp = df['Flags'].replace(binary_values)\n",
    "#temp = temp.apply(lambda x: pd.Series(x)) \n",
    "    temp = pd.DataFrame(temp.apply(list).tolist())\n",
    "#temp = pd.DataFrame(temp)\n",
    "#a = a.iloc[: , 1:]\n",
    "   # print(temp.head())\n",
    "    temp.columns = ['N','C','E','U' ,'A','P','R','S','F']\n",
    "    for i in temp.columns:\n",
    "        temp[i] = pd.to_numeric(temp[i]);\n",
    "    temp = temp.reset_index(drop=True)\n",
    "    df = df.reset_index(drop=True)\n",
    "    df = pd.concat([df, temp], axis = 1)\n",
    "    return df;"
   ]
  },
  {
   "cell_type": "code",
   "execution_count": 10,
   "metadata": {},
   "outputs": [],
   "source": [
    "#make a IP_pairs \n",
    "def make_pair(df):\n",
    "    ip_pair = df['Src IP Addr'] +'/' +df['Dst IP Addr']\n",
    "    source_ip = df['Src IP Addr'].unique().tolist()\n",
    "    destination_ip = df['Dst IP Addr'].unique().tolist()\n",
    "   # df = df.drop(columns = ['Src IP Addr', 'Dst IP Addr'])\n",
    "    df.insert(1, ' IP Pair', ip_pair)\n",
    "    return df\n",
    "\n",
    "def check_inverse(df):\n",
    "    list_pairs = df[' IP Pair'].unique()\n",
    "    tuple_pair = []\n",
    "    for i in list_pairs:\n",
    "        tuple_pair.append(tuple((i.split('/'))))\n",
    "    dic_store = {}\n",
    "    for i in tuple_pair:\n",
    "        if (i  not in dic_store.keys()) and (i[::-1] not in dic_store.keys()):\n",
    "            dic_store[i] = i[0] + '/' +i[1]\n",
    "    print(len(dic_store.keys()))\n",
    "    dic_final = {}\n",
    "    for i in dic_store.keys():\n",
    "        dic_final[i[0] + '/' +i[1]] = dic_store[i]\n",
    "        dic_final[i[1] + '/' +i[0]] = dic_store[i]\n",
    "    df[' IP Pair'] = df[' IP Pair'].map(dic_final)               \n",
    "    return df"
   ]
  },
  {
   "cell_type": "code",
   "execution_count": null,
   "metadata": {},
   "outputs": [],
   "source": []
  },
  {
   "cell_type": "code",
   "execution_count": 11,
   "metadata": {},
   "outputs": [],
   "source": [
    "def normalize(df):\n",
    "    numerics = ['int16', 'int32', 'int64', 'float16', 'float32', 'float64']\n",
    "    columns = data.select_dtypes(include=numerics).columns\n",
    "    normalized = df[columns]\n",
    "    print(columns)\n",
    "    transformed = MinMaxScaler().fit(normalized).transform(normalized)\n",
    "    transformed = pd.DataFrame(transformed)\n",
    "    j = 0\n",
    "    col = {}\n",
    "    for i in columns:\n",
    "        col[j] = i\n",
    "        j=j+1\n",
    "    transformed = transformed.rename(columns = col)\n",
    "    transformed = transformed.reset_index()\n",
    "    for i in columns:\n",
    "        df[i] = transformed[i].to_numpy()\n",
    "    return df;"
   ]
  },
  {
   "cell_type": "code",
   "execution_count": 12,
   "metadata": {},
   "outputs": [],
   "source": [
    "def one_shot(df):\n",
    "    label_encoder = LabelEncoder()\n",
    "    #df.astype({'attackType': 'str'})\n",
    "    df['attackType'] = label_encoder.fit_transform(df['attackType'])\n",
    "    print(list(label_encoder.classes_))\n",
    "    print(list(label_encoder.transform(label_encoder.classes_)))\n",
    "    \n",
    "#    onehot_encoder = OneHotEncoder()\n",
    "#    onehot_encoder.fit(df.attackType.to_numpy().reshape(-1, 1))\n",
    "#    proto = onehot_encoder.transform(df.attackType.to_numpy().reshape(-1, 1))\n",
    "#    proto = pd.DataFrame.sparse.from_spmatrix(proto)\n",
    "#    proto.astype('int32')\n",
    "#    proto.columns = label_encoder.classes_\n",
    "#    df = pd.concat([df, proto], axis = 1) \n",
    "    \n",
    "    \n",
    "    df['Proto'] = label_encoder.fit_transform(df['Proto'])\n",
    "    print(list(label_encoder.classes_))\n",
    "    print(list(label_encoder.transform(label_encoder.classes_)))\n",
    "    \n",
    "    onehot_encoder1 = OneHotEncoder()\n",
    "    onehot_encoder1.fit(df.Proto.to_numpy().reshape(-1, 1))\n",
    "    proto = onehot_encoder1.transform(df.Proto.to_numpy().reshape(-1, 1))\n",
    "    proto = pd.DataFrame.sparse.from_spmatrix(proto)\n",
    "    proto.astype('int32')\n",
    "    proto.columns = label_encoder.classes_\n",
    "   # print(proto.head(1))\n",
    "    df = pd.concat([df, proto], axis = 1)\n",
    "    return df;"
   ]
  },
  {
   "cell_type": "code",
   "execution_count": 13,
   "metadata": {},
   "outputs": [],
   "source": [
    "def drop_columns(df):\n",
    "    return df.drop(columns = ['Date first seen', ' IP Pair', 'Flows', 'class', 'attackID','Flags',\n",
    "                              'attackDescription', 'Src IP Addr', 'Dst IP Addr','Proto'], axis =1)"
   ]
  },
  {
   "cell_type": "code",
   "execution_count": 14,
   "metadata": {},
   "outputs": [],
   "source": [
    "#Aplit IP address into features, 7 features\n",
    "def split_to_net(IP_address):\n",
    "    IP_list = IP_address.split(\".\")\n",
    "    needed_len = 7\n",
    "    needed_len = needed_len - len(IP_list)\n",
    "    for i in range(0,needed_len,1):\n",
    "        IP_list.append('0')\n",
    "    return IP_list\n",
    "#replace unknown IP address, and convert to columns\n",
    "def IP_split(df): \n",
    "    replace = {\"ATTACKER1\":\"0.0.0.0\",\n",
    "           \"ATTACKER2\":\"0.0.0.0\",\n",
    "           \"ATTACKER3\":\"0.0.0.0\",\n",
    "           \"EXT_SERVER\": \"0.0.0.0.1\",\n",
    "          \"OPENSTACK_NET\": \"0.0.0.0.0.1\",\n",
    "          \"DNS\": \"0.0.0.0.0.0.1\"}\n",
    "    df = df.replace({\"Src IP Addr\": replace, \"Dst IP Addr\": replace}, value=None)\n",
    "    temp_source = df[\"Src IP Addr\"].apply(lambda x: \"0.0.0.0.0.0.0\" if ('_') in x else x)\n",
    "    temp_des = df['Dst IP Addr'].apply(lambda x: \"0.0.0.0.0.0.0\" if ('_') in x else x)\n",
    "   # sourceIP = list(df[\"Src IP Addr\"].unique())\n",
    "   # destIP = list(df[\"Dst IP Addr\"].unique())\n",
    "   # sourceIP_values = {}\n",
    "   # desIP_values = {}\n",
    "   # for i in sourceIP:\n",
    "   #      sourceIP_values[i] = (split_to_net(i))\n",
    "   # for i in destIP:\n",
    "   #      desIP_values[i] = (split_to_net(i))\n",
    "    #print(sourceIP_values)\n",
    "   # print(desIP_values)\n",
    "#for Source IP\n",
    "    temp_source = temp_source.apply(lambda x: split_to_net(x) )\n",
    "    temp_source = pd.DataFrame(temp_source.apply(list).tolist())\n",
    "    temp_source.columns = ['sourceIP_feature 1','sourceIP_feature 2','sourceIP_feature 3','sourceIP_feature 4' ,\n",
    "                    'sourceEXT_SERVER','sourceOPENSTACK_NET','sourceDNS']\n",
    "    for i in temp_source.columns:\n",
    "        temp_source[i] = pd.to_numeric(temp_source[i]);\n",
    "    temp_source = temp_source.reset_index(drop=True)\n",
    "    df = df.reset_index(drop=True)\n",
    "    df = pd.concat([df, temp_source], axis = 1)\n",
    "    #for Destination IP\n",
    "    temp_des = temp_des.apply(lambda x: split_to_net(x) )\n",
    "    temp_des = pd.DataFrame(temp_des.apply(list).tolist())\n",
    "    temp_des.columns = ['destIP_feature 1','destIP_feature 2','destIP_feature 3','destIP_feature 4' ,\n",
    "                    'destEXT_SERVER','destOPENSTACK_NET','destDNS']\n",
    "   # for i in temp_des.columns:\n",
    "       # temp_des[i] = pd.to_numeric(temp_des[i]);\n",
    "    temp_des = temp_des.reset_index(drop=True)\n",
    "    df = df.reset_index(drop=True)\n",
    "    df = pd.concat([df, temp_des], axis = 1)\n",
    "    return df;"
   ]
  },
  {
   "cell_type": "code",
   "execution_count": 15,
   "metadata": {},
   "outputs": [
    {
     "name": "stdout",
     "output_type": "stream",
     "text": [
      "59362\n"
     ]
    }
   ],
   "source": [
    "data = make_pair(data)\n",
    "data = check_inverse(data)"
   ]
  },
  {
   "cell_type": "code",
   "execution_count": 16,
   "metadata": {},
   "outputs": [],
   "source": [
    "#data = IP_split(data)"
   ]
  },
  {
   "cell_type": "code",
   "execution_count": 17,
   "metadata": {},
   "outputs": [
    {
     "name": "stdout",
     "output_type": "stream",
     "text": [
      "Index(['Duration', 'Src Pt', 'Dst Pt', 'Packets', 'Bytes', 'Flows', 'Tos'], dtype='object')\n",
      "['---', 'attack']\n",
      "[0, 1]\n",
      "['GRE  ', 'ICMP ', 'IGMP ', 'TCP  ', 'UDP  ']\n",
      "[0, 1, 2, 3, 4]\n"
     ]
    },
    {
     "name": "stderr",
     "output_type": "stream",
     "text": [
      "C:\\Users\\hp\\Anaconda3\\lib\\site-packages\\sklearn\\preprocessing\\_encoders.py:415: FutureWarning: The handling of integer data will change in version 0.22. Currently, the categories are determined based on the range [0, max(values)], while in the future they will be determined based on the unique values.\n",
      "If you want the future behaviour and silence this warning, you can specify \"categories='auto'\".\n",
      "In case you used a LabelEncoder before this OneHotEncoder to convert the categories to integers, then you can now use the OneHotEncoder directly.\n",
      "  warnings.warn(msg, FutureWarning)\n"
     ]
    }
   ],
   "source": [
    "data = normalize(data)\n",
    "data =  one_shot(data) \n",
    "#data = normalize(data)"
   ]
  },
  {
   "cell_type": "code",
   "execution_count": 18,
   "metadata": {},
   "outputs": [],
   "source": [
    "from datetime import datetime\n",
    "def unix_time(df):\n",
    "  #  df[' Timestamp'] = df[' Timestamp'].apply(lambda x: x + ':00' if len(x) != 19 else x)\n",
    "   # df[' Timestamp'] = df[' Timestamp'].apply(lambda x: x[0 : 5 : ] + x[7 : :] if len(x) != 19 else x[0 : 7 : ] + x[9 : :])\n",
    "    df['Date first seen'] = df['Date first seen'].apply(lambda x: datetime.strptime(x,'%Y-%m-%d %H:%M:%S.%f'))\n",
    "    df['Date first seen'] = df['Date first seen'].apply(lambda x: x.timestamp()*1000)\n",
    "    return df;"
   ]
  },
  {
   "cell_type": "code",
   "execution_count": 19,
   "metadata": {},
   "outputs": [],
   "source": [
    "def normal_profile(grouped):\n",
    "    grouped['---'] = unix_time(grouped['---'])\n",
    "    start_time = int(grouped['---'].head(1)['Date first seen'].values[0])\n",
    "    end_time = int(grouped['---'].tail(1)['Date first seen'].values[0])\n",
    "#date_bins = pd.IntervalIndex.from_tuples(\n",
    "#        [(i, i+3600000) for i in range(start_time, end_time, 3600000)],\n",
    "#        closed=\"left\")\n",
    "#date_labels = [f\"{i}\" for i in range(1, len(date_bins)+1, 1)]\n",
    "    normal_data = dict(tuple( grouped['---'].groupby( pd.cut(\n",
    "            grouped['---']['Date first seen'],\n",
    "               np.arange(start_time, end_time, 3*3600000)))))\n",
    "    del grouped['---']\n",
    "    num = []\n",
    "    for i in grouped_data.keys():\n",
    "          num.append(len(grouped_data[i]))\n",
    "    print(min(num))\n",
    "    num = max(num)\n",
    "    print(num)\n",
    "    print(len(grouped.keys()))\n",
    "    grouped = {**grouped, **normal_data}\n",
    "    print(len(grouped.keys()))\n",
    "    return grouped, num;"
   ]
  },
  {
   "cell_type": "code",
   "execution_count": 20,
   "metadata": {},
   "outputs": [
    {
     "data": {
      "text/plain": [
       "0"
      ]
     },
     "execution_count": 20,
     "metadata": {},
     "output_type": "execute_result"
    }
   ],
   "source": [
    "grouped_data= dict(tuple(data.groupby(['attackID'])))\n",
    "del data\n",
    "gc.collect()"
   ]
  },
  {
   "cell_type": "code",
   "execution_count": 21,
   "metadata": {},
   "outputs": [],
   "source": [
    "def del_largeInstances(dic, length):\n",
    "    remove_ID = []\n",
    "    for i in dic.keys():\n",
    "        if (i != '---'):\n",
    "            if(len(dic[i]) >= length):\n",
    "                remove_ID.append(i)\n",
    "    print(len(remove_ID))\n",
    "    removed_attacks = {}\n",
    "    for i in remove_ID:\n",
    "        removed_attacks[i] = dic[i]\n",
    "        del dic[i]\n",
    "    return dic;"
   ]
  },
  {
   "cell_type": "code",
   "execution_count": 22,
   "metadata": {},
   "outputs": [
    {
     "name": "stdout",
     "output_type": "stream",
     "text": [
      "19\n"
     ]
    }
   ],
   "source": [
    "grouped_data = del_largeInstances(grouped_data, 20000)"
   ]
  },
  {
   "cell_type": "code",
   "execution_count": 23,
   "metadata": {},
   "outputs": [
    {
     "name": "stdout",
     "output_type": "stream",
     "text": [
      "40\n",
      "19732\n",
      "73\n",
      "350\n"
     ]
    }
   ],
   "source": [
    "#grouped_data, num = normal_profile(grouped_data)\n",
    "for i in grouped_data.keys():\n",
    "    grouped_data[i] = flag_convert(grouped_data[i])\n",
    "   # grouped_data[i] =  drop_columns(grouped_data[i])\n",
    "grouped_data, num = normal_profile(grouped_data)\n",
    "for i in grouped_data.keys():\n",
    "   # grouped_data[i] = flag_convert(grouped_data[i])\n",
    "    grouped_data[i] =  drop_columns(grouped_data[i])"
   ]
  },
  {
   "cell_type": "code",
   "execution_count": 24,
   "metadata": {},
   "outputs": [
    {
     "name": "stdout",
     "output_type": "stream",
     "text": [
      "1 : False\n",
      "10 : False\n",
      "11 : False\n",
      "12 : False\n",
      "13 : False\n",
      "14 : False\n",
      "15 : False\n",
      "17 : False\n",
      "19 : False\n",
      "2 : False\n",
      "20 : False\n",
      "21 : False\n",
      "22 : False\n",
      "24 : False\n",
      "25 : False\n",
      "27 : False\n",
      "29 : False\n",
      "30 : False\n",
      "32 : False\n",
      "33 : False\n",
      "34 : False\n",
      "35 : False\n",
      "36 : False\n",
      "38 : False\n",
      "39 : False\n",
      "40 : False\n",
      "41 : False\n",
      "43 : False\n",
      "47 : False\n",
      "48 : False\n",
      "49 : False\n",
      "5 : False\n",
      "50 : False\n",
      "51 : False\n",
      "52 : False\n",
      "54 : False\n",
      "55 : False\n",
      "56 : False\n",
      "57 : False\n",
      "58 : False\n",
      "61 : False\n",
      "62 : False\n",
      "64 : False\n",
      "65 : False\n",
      "66 : False\n",
      "67 : False\n",
      "68 : False\n",
      "69 : False\n",
      "7 : False\n",
      "70 : False\n",
      "71 : False\n",
      "72 : False\n",
      "73 : False\n",
      "74 : False\n",
      "75 : False\n",
      "76 : False\n",
      "77 : False\n",
      "78 : False\n",
      "79 : False\n",
      "8 : False\n",
      "80 : False\n",
      "81 : False\n",
      "82 : False\n",
      "83 : False\n",
      "84 : False\n",
      "85 : False\n",
      "86 : False\n",
      "87 : False\n",
      "88 : False\n",
      "89 : False\n",
      "90 : False\n",
      "91 : False\n",
      "92 : False\n",
      "(1489536076632, 1489546876632] : False\n",
      "(1489546876632, 1489557676632] : False\n",
      "(1489557676632, 1489568476632] : False\n",
      "(1489568476632, 1489579276632] : False\n",
      "(1489579276632, 1489590076632] : False\n",
      "(1489590076632, 1489600876632] : False\n",
      "(1489600876632, 1489611676632] : False\n",
      "(1489611676632, 1489622476632] : False\n",
      "(1489622476632, 1489633276632] : False\n",
      "(1489633276632, 1489644076632] : False\n",
      "(1489644076632, 1489654876632] : False\n",
      "(1489654876632, 1489665676632] : False\n",
      "(1489665676632, 1489676476632] : False\n",
      "(1489676476632, 1489687276632] : False\n",
      "(1489687276632, 1489698076632] : False\n",
      "(1489698076632, 1489708876632] : False\n",
      "(1489708876632, 1489719676632] : False\n",
      "(1489719676632, 1489730476632] : False\n",
      "(1489730476632, 1489741276632] : False\n",
      "(1489741276632, 1489752076632] : False\n",
      "(1489752076632, 1489762876632] : False\n",
      "(1489762876632, 1489773676632] : False\n",
      "(1489773676632, 1489784476632] : False\n",
      "(1489784476632, 1489795276632] : False\n",
      "(1489795276632, 1489806076632] : False\n",
      "(1489806076632, 1489816876632] : False\n",
      "(1489816876632, 1489827676632] : False\n",
      "(1489827676632, 1489838476632] : False\n",
      "(1489838476632, 1489849276632] : False\n",
      "(1489849276632, 1489860076632] : False\n",
      "(1489860076632, 1489870876632] : False\n",
      "(1489870876632, 1489881676632] : False\n",
      "(1489881676632, 1489892476632] : False\n",
      "(1489892476632, 1489903276632] : False\n",
      "(1489903276632, 1489914076632] : False\n",
      "(1489914076632, 1489924876632] : False\n",
      "(1489924876632, 1489935676632] : False\n",
      "(1489935676632, 1489946476632] : False\n",
      "(1489946476632, 1489957276632] : False\n",
      "(1489957276632, 1489968076632] : False\n",
      "(1489968076632, 1489978876632] : False\n",
      "(1489978876632, 1489989676632] : False\n",
      "(1489989676632, 1490000476632] : False\n",
      "(1490000476632, 1490011276632] : False\n",
      "(1490011276632, 1490022076632] : False\n",
      "(1490022076632, 1490032876632] : False\n",
      "(1490032876632, 1490043676632] : False\n",
      "(1490043676632, 1490054476632] : False\n",
      "(1490054476632, 1490065276632] : False\n",
      "(1490065276632, 1490076076632] : False\n",
      "(1490076076632, 1490086876632] : False\n",
      "(1490086876632, 1490097676632] : False\n",
      "(1490097676632, 1490108476632] : False\n",
      "(1490108476632, 1490119276632] : False\n",
      "(1490119276632, 1490130076632] : False\n",
      "(1490130076632, 1490140876632] : False\n",
      "(1490140876632, 1490151676632] : False\n",
      "(1490151676632, 1490162476632] : False\n",
      "(1490162476632, 1490173276632] : False\n",
      "(1490173276632, 1490184076632] : False\n",
      "(1490184076632, 1490194876632] : False\n",
      "(1490194876632, 1490205676632] : False\n",
      "(1490205676632, 1490216476632] : False\n",
      "(1490216476632, 1490227276632] : False\n",
      "(1490227276632, 1490238076632] : False\n",
      "(1490238076632, 1490248876632] : False\n",
      "(1490248876632, 1490259676632] : False\n",
      "(1490259676632, 1490270476632] : False\n",
      "(1490270476632, 1490281276632] : False\n",
      "(1490281276632, 1490292076632] : False\n",
      "(1490292076632, 1490302876632] : False\n",
      "(1490302876632, 1490313676632] : False\n",
      "(1490313676632, 1490324476632] : False\n",
      "(1490324476632, 1490335276632] : False\n",
      "(1490335276632, 1490346076632] : False\n",
      "(1490346076632, 1490356876632] : False\n",
      "(1490356876632, 1490367676632] : False\n",
      "(1490367676632, 1490378476632] : False\n",
      "(1490378476632, 1490389276632] : False\n",
      "(1490389276632, 1490400076632] : False\n",
      "(1490400076632, 1490410876632] : False\n",
      "(1490410876632, 1490421676632] : False\n",
      "(1490421676632, 1490432476632] : False\n",
      "(1490432476632, 1490443276632] : False\n",
      "(1490443276632, 1490454076632] : False\n",
      "(1490454076632, 1490464876632] : False\n",
      "(1490464876632, 1490475676632] : False\n",
      "(1490475676632, 1490486476632] : False\n",
      "(1490486476632, 1490497276632] : False\n",
      "(1490497276632, 1490508076632] : False\n",
      "(1490508076632, 1490518876632] : False\n",
      "(1490518876632, 1490529676632] : False\n",
      "(1490529676632, 1490540476632] : False\n",
      "(1490540476632, 1490551276632] : False\n",
      "(1490551276632, 1490562076632] : False\n",
      "(1490562076632, 1490572876632] : False\n",
      "(1490572876632, 1490583676632] : False\n",
      "(1490583676632, 1490594476632] : False\n",
      "(1490594476632, 1490605276632] : False\n",
      "(1490605276632, 1490616076632] : False\n",
      "(1490616076632, 1490626876632] : False\n",
      "(1490626876632, 1490637676632] : False\n",
      "(1490637676632, 1490648476632] : False\n",
      "(1490648476632, 1490659276632] : False\n",
      "(1490659276632, 1490670076632] : False\n",
      "(1490670076632, 1490680876632] : False\n",
      "(1490680876632, 1490691676632] : False\n",
      "(1490691676632, 1490702476632] : False\n",
      "(1490702476632, 1490713276632] : False\n",
      "(1490713276632, 1490724076632] : False\n",
      "(1490724076632, 1490734876632] : False\n",
      "(1490734876632, 1490745676632] : False\n",
      "(1490745676632, 1490756476632] : False\n",
      "(1490756476632, 1490767276632] : False\n",
      "(1490767276632, 1490778076632] : False\n",
      "(1490778076632, 1490788876632] : False\n",
      "(1490788876632, 1490799676632] : False\n",
      "(1490799676632, 1490810476632] : False\n",
      "(1490810476632, 1490821276632] : False\n",
      "(1490821276632, 1490832076632] : False\n",
      "(1490832076632, 1490842876632] : False\n",
      "(1490842876632, 1490853676632] : False\n",
      "(1490853676632, 1490864476632] : False\n",
      "(1490864476632, 1490875276632] : False\n",
      "(1490875276632, 1490886076632] : False\n",
      "(1490886076632, 1490896876632] : False\n",
      "(1490896876632, 1490907676632] : False\n",
      "(1490907676632, 1490918476632] : False\n",
      "(1490918476632, 1490929276632] : False\n",
      "(1490929276632, 1490940076632] : False\n",
      "(1490940076632, 1490950876632] : False\n",
      "(1490950876632, 1490961676632] : False\n",
      "(1490961676632, 1490972476632] : False\n",
      "(1490972476632, 1490983276632] : False\n",
      "(1490983276632, 1490994076632] : False\n",
      "(1490994076632, 1491004876632] : False\n",
      "(1491004876632, 1491015676632] : False\n",
      "(1491015676632, 1491026476632] : False\n",
      "(1491026476632, 1491037276632] : False\n",
      "(1491037276632, 1491048076632] : False\n",
      "(1491048076632, 1491058876632] : False\n",
      "(1491058876632, 1491069676632] : False\n",
      "(1491069676632, 1491080476632] : False\n",
      "(1491080476632, 1491091276632] : False\n",
      "(1491091276632, 1491102076632] : False\n",
      "(1491102076632, 1491112876632] : False\n",
      "(1491112876632, 1491123676632] : False\n",
      "(1491123676632, 1491134476632] : False\n",
      "(1491134476632, 1491145276632] : False\n",
      "(1491145276632, 1491156076632] : False\n",
      "(1491156076632, 1491166876632] : False\n",
      "(1491166876632, 1491177676632] : False\n",
      "(1491177676632, 1491188476632] : False\n",
      "(1491188476632, 1491199276632] : False\n",
      "(1491199276632, 1491210076632] : False\n",
      "(1491210076632, 1491220876632] : False\n",
      "(1491220876632, 1491231676632] : False\n",
      "(1491231676632, 1491242476632] : False\n",
      "(1491242476632, 1491253276632] : False\n",
      "(1491253276632, 1491264076632] : False\n",
      "(1491264076632, 1491274876632] : False\n",
      "(1491274876632, 1491285676632] : False\n",
      "(1491285676632, 1491296476632] : False\n",
      "(1491296476632, 1491307276632] : False\n",
      "(1491307276632, 1491318076632] : False\n",
      "(1491318076632, 1491328876632] : False\n",
      "(1491328876632, 1491339676632] : False\n",
      "(1491339676632, 1491350476632] : False\n",
      "(1491350476632, 1491361276632] : False\n",
      "(1491361276632, 1491372076632] : False\n",
      "(1491372076632, 1491382876632] : False\n",
      "(1491382876632, 1491393676632] : False\n",
      "(1491393676632, 1491404476632] : False\n",
      "(1491404476632, 1491415276632] : False\n",
      "(1491415276632, 1491426076632] : False\n",
      "(1491426076632, 1491436876632] : False\n",
      "(1491436876632, 1491447676632] : False\n",
      "(1491447676632, 1491458476632] : False\n",
      "(1491458476632, 1491469276632] : False\n",
      "(1491469276632, 1491480076632] : False\n",
      "(1491480076632, 1491490876632] : False\n",
      "(1491490876632, 1491501676632] : False\n",
      "(1491501676632, 1491512476632] : False\n",
      "(1491512476632, 1491523276632] : False\n",
      "(1491523276632, 1491534076632] : False\n",
      "(1491534076632, 1491544876632] : False\n",
      "(1491544876632, 1491555676632] : False\n",
      "(1491555676632, 1491566476632] : False\n",
      "(1491566476632, 1491577276632] : False\n",
      "(1491577276632, 1491588076632] : False\n",
      "(1491588076632, 1491598876632] : False\n",
      "(1491598876632, 1491609676632] : False\n",
      "(1491609676632, 1491620476632] : False\n",
      "(1491620476632, 1491631276632] : False\n",
      "(1491631276632, 1491642076632] : False\n",
      "(1491642076632, 1491652876632] : False\n",
      "(1491652876632, 1491663676632] : False\n",
      "(1491663676632, 1491674476632] : False\n",
      "(1491674476632, 1491685276632] : False\n",
      "(1491685276632, 1491696076632] : False\n",
      "(1491696076632, 1491706876632] : False\n",
      "(1491706876632, 1491717676632] : False\n",
      "(1491717676632, 1491728476632] : False\n",
      "(1491728476632, 1491739276632] : False\n",
      "(1491739276632, 1491750076632] : False\n",
      "(1491750076632, 1491760876632] : False\n",
      "(1491760876632, 1491771676632] : False\n",
      "(1491771676632, 1491782476632] : False\n",
      "(1491782476632, 1491793276632] : False\n",
      "(1491793276632, 1491804076632] : False\n",
      "(1491804076632, 1491814876632] : False\n",
      "(1491814876632, 1491825676632] : False\n",
      "(1491825676632, 1491836476632] : False\n",
      "(1491836476632, 1491847276632] : False\n",
      "(1491847276632, 1491858076632] : False\n",
      "(1491858076632, 1491868876632] : False\n",
      "(1491868876632, 1491879676632] : False\n",
      "(1491879676632, 1491890476632] : False\n",
      "(1491890476632, 1491901276632] : False\n",
      "(1491901276632, 1491912076632] : False\n",
      "(1491912076632, 1491922876632] : False\n",
      "(1491922876632, 1491933676632] : False\n",
      "(1491933676632, 1491944476632] : False\n",
      "(1491944476632, 1491955276632] : False\n",
      "(1491955276632, 1491966076632] : False\n",
      "(1491966076632, 1491976876632] : False\n",
      "(1491976876632, 1491987676632] : False\n",
      "(1491987676632, 1491998476632] : False\n"
     ]
    },
    {
     "name": "stdout",
     "output_type": "stream",
     "text": [
      "(1491998476632, 1492009276632] : False\n",
      "(1492009276632, 1492020076632] : False\n",
      "(1492020076632, 1492030876632] : False\n",
      "(1492030876632, 1492041676632] : False\n",
      "(1492041676632, 1492052476632] : False\n",
      "(1492052476632, 1492063276632] : False\n",
      "(1492063276632, 1492074076632] : False\n",
      "(1492074076632, 1492084876632] : False\n",
      "(1492084876632, 1492095676632] : False\n",
      "(1492095676632, 1492106476632] : False\n",
      "(1492106476632, 1492117276632] : False\n",
      "(1492117276632, 1492128076632] : False\n",
      "(1492128076632, 1492138876632] : False\n",
      "(1492138876632, 1492149676632] : False\n",
      "(1492149676632, 1492160476632] : False\n",
      "(1492160476632, 1492171276632] : False\n",
      "(1492171276632, 1492182076632] : False\n",
      "(1492182076632, 1492192876632] : False\n",
      "(1492192876632, 1492203676632] : False\n",
      "(1492203676632, 1492214476632] : False\n",
      "(1492214476632, 1492225276632] : False\n",
      "(1492225276632, 1492236076632] : False\n",
      "(1492236076632, 1492246876632] : False\n",
      "(1492246876632, 1492257676632] : False\n",
      "(1492257676632, 1492268476632] : False\n",
      "(1492268476632, 1492279276632] : False\n",
      "(1492279276632, 1492290076632] : False\n",
      "(1492290076632, 1492300876632] : False\n",
      "(1492300876632, 1492311676632] : False\n",
      "(1492311676632, 1492322476632] : False\n",
      "(1492322476632, 1492333276632] : False\n",
      "(1492333276632, 1492344076632] : False\n",
      "(1492344076632, 1492354876632] : False\n",
      "(1492354876632, 1492365676632] : False\n",
      "(1492365676632, 1492376476632] : False\n",
      "(1492376476632, 1492387276632] : False\n",
      "(1492387276632, 1492398076632] : False\n",
      "(1492398076632, 1492408876632] : False\n",
      "(1492408876632, 1492419676632] : False\n",
      "(1492419676632, 1492430476632] : False\n",
      "(1492430476632, 1492441276632] : False\n",
      "(1492441276632, 1492452076632] : False\n",
      "(1492452076632, 1492462876632] : False\n",
      "(1492462876632, 1492473676632] : False\n",
      "(1492473676632, 1492484476632] : False\n",
      "(1492484476632, 1492495276632] : False\n",
      "(1492495276632, 1492506076632] : False\n",
      "(1492506076632, 1492516876632] : False\n",
      "(1492516876632, 1492527676632] : False\n"
     ]
    }
   ],
   "source": [
    "for i in grouped_data.keys():\n",
    "    #if (grouped_data[i].hasnull())\n",
    "    print(f'{i} : {grouped_data[i].isnull().values.any()}')"
   ]
  },
  {
   "cell_type": "code",
   "execution_count": 25,
   "metadata": {},
   "outputs": [
    {
     "name": "stdout",
     "output_type": "stream",
     "text": [
      "167\n"
     ]
    }
   ],
   "source": [
    "counter = 0\n",
    "for i in grouped_data.keys():\n",
    "    if ( len(grouped_data[i]) == 0):\n",
    "        counter = counter +1;\n",
    "print(counter)"
   ]
  },
  {
   "cell_type": "code",
   "execution_count": 26,
   "metadata": {},
   "outputs": [],
   "source": [
    "def roundup(x):\n",
    "    return x if x % 100 == 0 else x + 100 - x % 100\n",
    "#Convert to 3D arrays, input dict\n",
    "def make_array(dic):\n",
    "    x = []\n",
    "    y = []\n",
    "    zero_arrays = []\n",
    "    for i in dic.keys():\n",
    "        if ( len(dic[i]) == 0):\n",
    "            zero_arrays.append(i);\n",
    "    for i in zero_arrays:\n",
    "        del dic[i]\n",
    "    for i in dic.keys():\n",
    "        x.append(np.array(dic[i].drop(['attackType'],axis = 1)).astype(np.float32))\n",
    "       # print(f'{i}')\n",
    "        y.append(dic[i]['attackType'].values[0])\n",
    "    print(len(y))\n",
    "    o = []\n",
    "    features = len(x[1][1])\n",
    "    #for i in x:\n",
    "     #   o.append(len(i))\n",
    "   # print(min(o))\n",
    "    o = num\n",
    "    o = roundup(o)\n",
    "    print(o)\n",
    "    index = 0\n",
    "    for i in x:\n",
    "        l = len(i)\n",
    "        i = list(i)\n",
    "        if(o > l):\n",
    "            l = o-l\n",
    "            for j in range(0, l, 1):\n",
    "                i.append([0] * features)\n",
    "        elif (o<l):\n",
    "            l = l-o\n",
    "            i = i[:-l]\n",
    "        #i = [k = np.array([k]) for l in i for k in l] # Makes array elements an array \n",
    "        x[index] = np.array(i).astype(np.float32)\n",
    "        index = index + 1\n",
    "    #x = [[i] for i in x]\n",
    "    return x,y"
   ]
  },
  {
   "cell_type": "code",
   "execution_count": 27,
   "metadata": {},
   "outputs": [
    {
     "name": "stdout",
     "output_type": "stream",
     "text": [
      "183\n",
      "19800\n"
     ]
    }
   ],
   "source": [
    "X,Y = make_array(grouped_data)\n",
    "del grouped_data\n",
    "gc.collect()\n",
    "Y = np.array(Y)\n",
    "X = np.array(X)"
   ]
  },
  {
   "cell_type": "code",
   "execution_count": 28,
   "metadata": {},
   "outputs": [
    {
     "data": {
      "text/plain": [
       "{0: 110, 1: 73}"
      ]
     },
     "execution_count": 28,
     "metadata": {},
     "output_type": "execute_result"
    }
   ],
   "source": [
    "unique, counts = np.unique(Y, return_counts=True)\n",
    "dict(zip(unique, counts))"
   ]
  },
  {
   "cell_type": "code",
   "execution_count": null,
   "metadata": {
    "scrolled": true
   },
   "outputs": [],
   "source": []
  },
  {
   "cell_type": "code",
   "execution_count": 29,
   "metadata": {},
   "outputs": [],
   "source": [
    "def make_4D(arr):\n",
    "    x = []\n",
    "    for i in range(0, len(arr),1):\n",
    "        temp = []\n",
    "        for j in range(0,len(arr[i]),1):\n",
    "             temp.append([np.array([k]) for k in arr[i][j]])\n",
    "        x.append(np.array(temp).astype(np.float32))\n",
    "    return np.array(x).astype(np.float32)"
   ]
  },
  {
   "cell_type": "code",
   "execution_count": 30,
   "metadata": {},
   "outputs": [],
   "source": [
    "#X = make_4D(X)"
   ]
  },
  {
   "cell_type": "code",
   "execution_count": 31,
   "metadata": {},
   "outputs": [],
   "source": [
    "from sklearn.model_selection import train_test_split\n",
    "from sklearn.tree import DecisionTreeClassifier\n",
    "X_train, X_test, Y_train, Y_test = train_test_split(X,Y , test_size=0.2, random_state=0,  stratify=Y)"
   ]
  },
  {
   "cell_type": "code",
   "execution_count": 32,
   "metadata": {},
   "outputs": [
    {
     "data": {
      "text/plain": [
       "100"
      ]
     },
     "execution_count": 32,
     "metadata": {},
     "output_type": "execute_result"
    }
   ],
   "source": [
    "del X,Y\n",
    "gc.collect()"
   ]
  },
  {
   "cell_type": "code",
   "execution_count": 33,
   "metadata": {},
   "outputs": [
    {
     "data": {
      "text/plain": [
       "{0: 88, 1: 58}"
      ]
     },
     "execution_count": 33,
     "metadata": {},
     "output_type": "execute_result"
    }
   ],
   "source": [
    "unique, counts = np.unique(Y_train, return_counts=True)\n",
    "dict(zip(unique, counts))"
   ]
  },
  {
   "cell_type": "code",
   "execution_count": 34,
   "metadata": {},
   "outputs": [
    {
     "data": {
      "text/plain": [
       "{0: 22, 1: 15}"
      ]
     },
     "execution_count": 34,
     "metadata": {},
     "output_type": "execute_result"
    }
   ],
   "source": [
    "unique, counts = np.unique(Y_test, return_counts=True)\n",
    "dict(zip(unique, counts))"
   ]
  },
  {
   "cell_type": "code",
   "execution_count": 35,
   "metadata": {},
   "outputs": [
    {
     "name": "stdout",
     "output_type": "stream",
     "text": [
      "False\n",
      "False\n",
      "False\n",
      "False\n",
      "False\n",
      "False\n",
      "False\n",
      "False\n",
      "False\n",
      "False\n",
      "False\n",
      "False\n",
      "False\n",
      "False\n",
      "False\n",
      "False\n",
      "False\n",
      "False\n",
      "False\n",
      "False\n",
      "False\n",
      "False\n",
      "False\n",
      "False\n",
      "False\n",
      "False\n",
      "False\n",
      "False\n",
      "False\n",
      "False\n",
      "False\n",
      "False\n",
      "False\n",
      "False\n",
      "False\n",
      "False\n",
      "False\n",
      "False\n",
      "False\n",
      "False\n",
      "False\n",
      "False\n",
      "False\n",
      "False\n",
      "False\n",
      "False\n",
      "False\n",
      "False\n",
      "False\n",
      "False\n",
      "False\n",
      "False\n",
      "False\n",
      "False\n",
      "False\n",
      "False\n",
      "False\n",
      "False\n",
      "False\n",
      "False\n",
      "False\n",
      "False\n",
      "False\n",
      "False\n",
      "False\n",
      "False\n",
      "False\n",
      "False\n",
      "False\n",
      "False\n",
      "False\n",
      "False\n",
      "False\n",
      "False\n",
      "False\n",
      "False\n",
      "False\n",
      "False\n",
      "False\n",
      "False\n",
      "False\n",
      "False\n",
      "False\n",
      "False\n",
      "False\n",
      "False\n",
      "False\n",
      "False\n",
      "False\n",
      "False\n",
      "False\n",
      "False\n",
      "False\n",
      "False\n",
      "False\n",
      "False\n",
      "False\n",
      "False\n",
      "False\n",
      "False\n",
      "False\n",
      "False\n",
      "False\n",
      "False\n",
      "False\n",
      "False\n",
      "False\n",
      "False\n",
      "False\n",
      "False\n",
      "False\n",
      "False\n",
      "False\n",
      "False\n",
      "False\n",
      "False\n",
      "False\n",
      "False\n",
      "False\n",
      "False\n",
      "False\n",
      "False\n",
      "False\n",
      "False\n",
      "False\n",
      "False\n",
      "False\n",
      "False\n",
      "False\n",
      "False\n",
      "False\n",
      "False\n",
      "False\n",
      "False\n",
      "False\n",
      "False\n",
      "False\n",
      "False\n",
      "False\n",
      "False\n",
      "False\n",
      "False\n",
      "False\n",
      "False\n",
      "False\n",
      "False\n"
     ]
    }
   ],
   "source": [
    "for i in X_train:\n",
    "    print(f'{np.isnan(i).any()}')"
   ]
  },
  {
   "cell_type": "code",
   "execution_count": 42,
   "metadata": {},
   "outputs": [],
   "source": [
    "import tensorflow as tf\n",
    "from tensorflow import keras\n",
    "from tensorflow.keras.layers import Embedding, Dense, LSTM, Dropout, Masking, Flatten, Input, Bidirectional\n",
    "from tensorflow.keras.losses import BinaryCrossentropy\n",
    "from tensorflow.keras.models import Sequential\n",
    "from tensorflow.keras.optimizers import Adam\n",
    "from tensorflow.keras.preprocessing.sequence import pad_sequences\n",
    "from keras.layers import Dense, Conv2D, MaxPooling1D, Dropout, Flatten, Conv1D, MaxPooling2D\n",
    "from tensorflow.keras.models import Model"
   ]
  },
  {
   "cell_type": "code",
   "execution_count": 43,
   "metadata": {},
   "outputs": [
    {
     "name": "stdout",
     "output_type": "stream",
     "text": [
      "samples: 146 \n",
      " X:19800 \n",
      " Y:20 \n",
      " \n"
     ]
    }
   ],
   "source": [
    "nsamples,nx, ny = X_train.shape\n",
    "print(f\"samples: {nsamples} \\n X:{nx} \\n Y:{ny} \\n \" )"
   ]
  },
  {
   "cell_type": "code",
   "execution_count": 44,
   "metadata": {},
   "outputs": [
    {
     "data": {
      "text/plain": [
       "(19800, 20)"
      ]
     },
     "execution_count": 44,
     "metadata": {},
     "output_type": "execute_result"
    }
   ],
   "source": [
    "X_train.shape[1:]"
   ]
  },
  {
   "cell_type": "code",
   "execution_count": 39,
   "metadata": {},
   "outputs": [],
   "source": [
    "from keras.callbacks import EarlyStopping\n",
    "from keras.callbacks import ModelCheckpoint, LambdaCallback\n",
    "wie_by_epoch = []\n",
    "model_check = ModelCheckpoint(\"/models/Testpoints/best_model.hdf5\", monitor='loss', verbose=0, save_best_only=True, mode='min', save_freq=1)\n",
    "print_weights = LambdaCallback(on_epoch_end=lambda batch, logs:wie_by_epoch.append(model.get_weights()))\n",
    "callback = tf.keras.callbacks.EarlyStopping(monitor='loss', patience=4, verbose= 2)"
   ]
  },
  {
   "cell_type": "code",
   "execution_count": 40,
   "metadata": {
    "scrolled": true
   },
   "outputs": [],
   "source": [
    "# Build a model for only the feature extraction layers\n",
    "feature_extractor = Sequential()\n",
    "feature_extractor.add(Conv1D(64, 2, activation='relu', input_shape=X_train.shape[1:]))\n",
    "feature_extractor.add(MaxPooling1D(pool_size= 2))\n",
    "feature_extractor.add(Conv1D(128, 2, activation='relu', input_shape=X_train.shape[1:]))\n",
    "feature_extractor.add(MaxPooling1D(pool_size= 2))\n",
    "feature_extractor.add(Conv1D(64, 2, activation='relu', input_shape=X_train.shape[1:]))\n",
    "feature_extractor.add(MaxPooling1D(pool_size= 2))\n",
    "feature_extractor.add(Flatten())\n",
    "# Keep adding new layers for prediciton outside of feature extraction model\n",
    "x = feature_extractor.output\n",
    "#x = Dense(64, activation = 'relu')(x)\n",
    "prediction_layer = Dense(5, activation = 'softmax')(x)"
   ]
  },
  {
   "cell_type": "code",
   "execution_count": 45,
   "metadata": {},
   "outputs": [],
   "source": [
    "model=Model(inputs=feature_extractor.input, outputs=prediction_layer)\n",
    "model.compile(optimizer= 'rmsprop', loss='sparse_categorical_crossentropy',  metrics=[keras.metrics.SparseCategoricalAccuracy()])\n"
   ]
  },
  {
   "cell_type": "code",
   "execution_count": 46,
   "metadata": {
    "scrolled": true
   },
   "outputs": [
    {
     "data": {
      "text/plain": [
       "(None, 5)"
      ]
     },
     "execution_count": 46,
     "metadata": {},
     "output_type": "execute_result"
    }
   ],
   "source": [
    "model.build(input_shape = (nx,ny))\n",
    "model.output_shape"
   ]
  },
  {
   "cell_type": "code",
   "execution_count": 47,
   "metadata": {},
   "outputs": [
    {
     "data": {
      "text/plain": [
       "272"
      ]
     },
     "execution_count": 47,
     "metadata": {},
     "output_type": "execute_result"
    }
   ],
   "source": [
    "#del model, wie_by_epoch\n",
    "\n",
    "gc.collect()"
   ]
  },
  {
   "cell_type": "code",
   "execution_count": 48,
   "metadata": {},
   "outputs": [
    {
     "name": "stdout",
     "output_type": "stream",
     "text": [
      "Model: \"model\"\n",
      "_________________________________________________________________\n",
      "Layer (type)                 Output Shape              Param #   \n",
      "=================================================================\n",
      "conv1d_input (InputLayer)    [(None, 19800, 20)]       0         \n",
      "_________________________________________________________________\n",
      "conv1d (Conv1D)              (None, 19799, 64)         2624      \n",
      "_________________________________________________________________\n",
      "max_pooling1d (MaxPooling1D) (None, 9899, 64)          0         \n",
      "_________________________________________________________________\n",
      "conv1d_1 (Conv1D)            (None, 9898, 128)         16512     \n",
      "_________________________________________________________________\n",
      "max_pooling1d_1 (MaxPooling1 (None, 4949, 128)         0         \n",
      "_________________________________________________________________\n",
      "conv1d_2 (Conv1D)            (None, 4948, 64)          16448     \n",
      "_________________________________________________________________\n",
      "max_pooling1d_2 (MaxPooling1 (None, 2474, 64)          0         \n",
      "_________________________________________________________________\n",
      "flatten (Flatten)            (None, 158336)            0         \n",
      "_________________________________________________________________\n",
      "dense (Dense)                (None, 5)                 791685    \n",
      "=================================================================\n",
      "Total params: 827,269\n",
      "Trainable params: 827,269\n",
      "Non-trainable params: 0\n",
      "_________________________________________________________________\n"
     ]
    }
   ],
   "source": [
    "#model.build(input_shape = (nx,ny))\n",
    "model.summary()\n"
   ]
  },
  {
   "cell_type": "code",
   "execution_count": 49,
   "metadata": {
    "scrolled": true
   },
   "outputs": [
    {
     "data": {
      "text/plain": [
       "[array([[[-0.12705314, -0.18694395, -0.10240559, ..., -0.08829165,\n",
       "           0.10721366,  0.16937064],\n",
       "         [-0.00930023, -0.16492727, -0.1040516 , ...,  0.17648552,\n",
       "          -0.03116085, -0.13311192],\n",
       "         [-0.12479033,  0.07609646, -0.02535319, ..., -0.1745088 ,\n",
       "          -0.17060232, -0.06386785],\n",
       "         ...,\n",
       "         [ 0.15714465,  0.09559064, -0.16318902, ..., -0.00041695,\n",
       "          -0.12278967,  0.02025934],\n",
       "         [-0.07336327,  0.11633568,  0.12384783, ..., -0.18788262,\n",
       "           0.14227961,  0.04007886],\n",
       "         [-0.13559133,  0.05352491, -0.04016982, ..., -0.17708929,\n",
       "          -0.17708762, -0.12613362]],\n",
       " \n",
       "        [[-0.07054789,  0.08648817,  0.03763205, ...,  0.18216418,\n",
       "          -0.01444888, -0.02298716],\n",
       "         [-0.04705015,  0.1613736 , -0.06171882, ..., -0.01250012,\n",
       "          -0.17820616, -0.00965461],\n",
       "         [ 0.1639326 , -0.06377724,  0.15558775, ..., -0.11774137,\n",
       "          -0.07304084,  0.04277425],\n",
       "         ...,\n",
       "         [-0.12497043,  0.1195391 ,  0.07840158, ...,  0.02209426,\n",
       "          -0.09819957, -0.12179504],\n",
       "         [-0.09839336, -0.0493207 , -0.01893367, ..., -0.13932267,\n",
       "          -0.1108036 , -0.07932687],\n",
       "         [ 0.08887626, -0.07198963, -0.14294253, ...,  0.01582578,\n",
       "           0.10905652,  0.04897214]]], dtype=float32),\n",
       " array([0., 0., 0., 0., 0., 0., 0., 0., 0., 0., 0., 0., 0., 0., 0., 0., 0.,\n",
       "        0., 0., 0., 0., 0., 0., 0., 0., 0., 0., 0., 0., 0., 0., 0., 0., 0.,\n",
       "        0., 0., 0., 0., 0., 0., 0., 0., 0., 0., 0., 0., 0., 0., 0., 0., 0.,\n",
       "        0., 0., 0., 0., 0., 0., 0., 0., 0., 0., 0., 0., 0.], dtype=float32),\n",
       " array([[[-0.07774559,  0.09742472,  0.07436427, ...,  0.05444682,\n",
       "           0.00732949, -0.05364245],\n",
       "         [ 0.09498864, -0.08674836,  0.08372018, ...,  0.09908792,\n",
       "           0.04229084, -0.01406407],\n",
       "         [-0.05277723,  0.06552115,  0.0124909 , ..., -0.05182034,\n",
       "          -0.08431789,  0.00614083],\n",
       "         ...,\n",
       "         [-0.00041535,  0.10543489,  0.02512395, ...,  0.08672017,\n",
       "           0.11917111, -0.02109951],\n",
       "         [ 0.11887443, -0.06192827,  0.00925082, ...,  0.09156981,\n",
       "           0.06363261, -0.03537175],\n",
       "         [ 0.08467934,  0.06646848, -0.01074669, ..., -0.0474515 ,\n",
       "          -0.06371212,  0.07848147]],\n",
       " \n",
       "        [[ 0.03772351,  0.10392523,  0.07720968, ..., -0.01490438,\n",
       "          -0.01084962, -0.12378722],\n",
       "         [ 0.09448588, -0.08055574, -0.02952287, ..., -0.01729706,\n",
       "          -0.10899663,  0.03787905],\n",
       "         [-0.1159099 ,  0.08000794,  0.10127756, ...,  0.03352982,\n",
       "          -0.1224331 , -0.04830468],\n",
       "         ...,\n",
       "         [ 0.02941272, -0.1162976 ,  0.00808978, ..., -0.07808384,\n",
       "          -0.09418547,  0.02186009],\n",
       "         [-0.04443073,  0.09048101,  0.03559867, ..., -0.04776037,\n",
       "           0.07316384,  0.03177604],\n",
       "         [ 0.04139718,  0.09448427, -0.09356907, ..., -0.01300699,\n",
       "          -0.03277272,  0.01604033]]], dtype=float32),\n",
       " array([0., 0., 0., 0., 0., 0., 0., 0., 0., 0., 0., 0., 0., 0., 0., 0., 0.,\n",
       "        0., 0., 0., 0., 0., 0., 0., 0., 0., 0., 0., 0., 0., 0., 0., 0., 0.,\n",
       "        0., 0., 0., 0., 0., 0., 0., 0., 0., 0., 0., 0., 0., 0., 0., 0., 0.,\n",
       "        0., 0., 0., 0., 0., 0., 0., 0., 0., 0., 0., 0., 0., 0., 0., 0., 0.,\n",
       "        0., 0., 0., 0., 0., 0., 0., 0., 0., 0., 0., 0., 0., 0., 0., 0., 0.,\n",
       "        0., 0., 0., 0., 0., 0., 0., 0., 0., 0., 0., 0., 0., 0., 0., 0., 0.,\n",
       "        0., 0., 0., 0., 0., 0., 0., 0., 0., 0., 0., 0., 0., 0., 0., 0., 0.,\n",
       "        0., 0., 0., 0., 0., 0., 0., 0., 0.], dtype=float32),\n",
       " array([[[ 0.00412175,  0.04463848, -0.015167  , ...,  0.03654358,\n",
       "          -0.03729963,  0.01315138],\n",
       "         [-0.08866304,  0.00393072, -0.09823298, ..., -0.06853178,\n",
       "           0.03446999,  0.10133341],\n",
       "         [-0.05018556,  0.11405632, -0.06546021, ...,  0.07822821,\n",
       "           0.01776001,  0.01020104],\n",
       "         ...,\n",
       "         [-0.06687179, -0.11795068,  0.00945765, ..., -0.03600982,\n",
       "           0.11908862,  0.09085289],\n",
       "         [-0.07476124,  0.09873945,  0.04695046, ..., -0.12481508,\n",
       "          -0.04487452,  0.05297887],\n",
       "         [ 0.00062117,  0.09917307,  0.11681363, ...,  0.09224615,\n",
       "          -0.0152722 , -0.05429184]],\n",
       " \n",
       "        [[ 0.03969607, -0.05971891, -0.11191821, ...,  0.06794792,\n",
       "          -0.05800578, -0.09000412],\n",
       "         [ 0.03863257, -0.11338493,  0.11006686, ..., -0.08113471,\n",
       "           0.08527899, -0.0922361 ],\n",
       "         [ 0.08556199,  0.06093067, -0.11112484, ..., -0.12364453,\n",
       "          -0.01584232,  0.09838992],\n",
       "         ...,\n",
       "         [-0.07632592, -0.01170775,  0.11645511, ...,  0.00434253,\n",
       "           0.12141994, -0.01614904],\n",
       "         [-0.06201121, -0.09867585, -0.04291868, ...,  0.10441345,\n",
       "          -0.06871113, -0.06178072],\n",
       "         [ 0.11837029, -0.10277775,  0.07531425, ..., -0.06999892,\n",
       "          -0.02716708,  0.07976824]]], dtype=float32),\n",
       " array([0., 0., 0., 0., 0., 0., 0., 0., 0., 0., 0., 0., 0., 0., 0., 0., 0.,\n",
       "        0., 0., 0., 0., 0., 0., 0., 0., 0., 0., 0., 0., 0., 0., 0., 0., 0.,\n",
       "        0., 0., 0., 0., 0., 0., 0., 0., 0., 0., 0., 0., 0., 0., 0., 0., 0.,\n",
       "        0., 0., 0., 0., 0., 0., 0., 0., 0., 0., 0., 0., 0.], dtype=float32),\n",
       " array([[-4.9718241e-03,  2.8258534e-03, -2.7894902e-03,  8.2099810e-04,\n",
       "         -4.5980797e-03],\n",
       "        [-3.9179102e-03,  7.8213960e-04,  4.3191696e-03, -1.2999722e-03,\n",
       "          4.9215183e-03],\n",
       "        [-4.4217343e-03, -5.5066934e-03, -8.8127330e-05, -1.2030569e-03,\n",
       "         -3.3398399e-03],\n",
       "        ...,\n",
       "        [ 2.6519503e-03, -4.4399067e-03,  2.1662945e-03, -2.9304333e-03,\n",
       "         -5.8214501e-03],\n",
       "        [-4.0513137e-03, -5.7340786e-03,  5.6792740e-03, -9.2217885e-04,\n",
       "         -1.8210895e-04],\n",
       "        [-2.4507870e-03, -5.6373747e-03,  4.2959210e-03,  5.6587299e-03,\n",
       "         -5.1110354e-03]], dtype=float32),\n",
       " array([0., 0., 0., 0., 0.], dtype=float32)]"
      ]
     },
     "execution_count": 49,
     "metadata": {},
     "output_type": "execute_result"
    }
   ],
   "source": [
    "wights = model.get_weights()\n",
    "wights"
   ]
  },
  {
   "cell_type": "code",
   "execution_count": 50,
   "metadata": {
    "scrolled": true
   },
   "outputs": [
    {
     "name": "stdout",
     "output_type": "stream",
     "text": [
      "Epoch 1/40\n",
      "5/5 - 6s - loss: 2.8657 - sparse_categorical_accuracy: 0.6096\n",
      "Epoch 2/40\n",
      "5/5 - 5s - loss: 0.0784 - sparse_categorical_accuracy: 0.9932\n",
      "Epoch 3/40\n",
      "5/5 - 5s - loss: 0.0372 - sparse_categorical_accuracy: 0.9932\n",
      "Epoch 4/40\n",
      "5/5 - 5s - loss: 0.0308 - sparse_categorical_accuracy: 0.9932\n",
      "Epoch 5/40\n",
      "5/5 - 5s - loss: 0.0320 - sparse_categorical_accuracy: 0.9932\n",
      "Epoch 6/40\n",
      "5/5 - 5s - loss: 0.0235 - sparse_categorical_accuracy: 0.9932\n",
      "Epoch 7/40\n",
      "5/5 - 5s - loss: 0.0229 - sparse_categorical_accuracy: 0.9932\n",
      "Epoch 8/40\n",
      "5/5 - 5s - loss: 0.0202 - sparse_categorical_accuracy: 0.9932\n",
      "Epoch 9/40\n",
      "5/5 - 5s - loss: 0.0157 - sparse_categorical_accuracy: 0.9932\n",
      "Epoch 10/40\n",
      "5/5 - 5s - loss: 0.0142 - sparse_categorical_accuracy: 0.9932\n",
      "Epoch 11/40\n",
      "5/5 - 5s - loss: 1.1855 - sparse_categorical_accuracy: 0.9247\n",
      "Epoch 12/40\n",
      "5/5 - 5s - loss: 0.0293 - sparse_categorical_accuracy: 0.9932\n",
      "Epoch 13/40\n",
      "5/5 - 5s - loss: 0.0159 - sparse_categorical_accuracy: 0.9932\n",
      "Epoch 14/40\n",
      "5/5 - 5s - loss: 0.0142 - sparse_categorical_accuracy: 0.9932\n",
      "Epoch 00014: early stopping\n"
     ]
    }
   ],
   "source": [
    "mod = model.fit(X_train,\n",
    "               Y_train, epochs=40, batch_size= 32, verbose=2 , \n",
    "                callbacks=[callback, print_weights, model_check])"
   ]
  },
  {
   "cell_type": "code",
   "execution_count": 51,
   "metadata": {},
   "outputs": [
    {
     "data": {
      "text/plain": [
       "14"
      ]
     },
     "execution_count": 51,
     "metadata": {},
     "output_type": "execute_result"
    }
   ],
   "source": [
    "len(wie_by_epoch)"
   ]
  },
  {
   "cell_type": "code",
   "execution_count": 53,
   "metadata": {},
   "outputs": [],
   "source": [
    "#120 +21\n",
    "model.set_weights(wie_by_epoch[13])\n",
    "#mod.history.get('sparse_categorical_accuracy')"
   ]
  },
  {
   "cell_type": "code",
   "execution_count": 54,
   "metadata": {},
   "outputs": [
    {
     "name": "stdout",
     "output_type": "stream",
     "text": [
      "2/2 - 0s - loss: 0.0053 - sparse_categorical_accuracy: 1.0000\n"
     ]
    },
    {
     "data": {
      "text/plain": [
       "[0.005279299803078175, 1.0]"
      ]
     },
     "execution_count": 54,
     "metadata": {},
     "output_type": "execute_result"
    }
   ],
   "source": [
    "scores = model.evaluate(X_test,Y_test, verbose=2)\n",
    "scores"
   ]
  },
  {
   "cell_type": "code",
   "execution_count": 55,
   "metadata": {},
   "outputs": [
    {
     "data": {
      "text/plain": [
       "{'loss': 0.005279299803078175, 'sparse_categorical_accuracy': 1.0}"
      ]
     },
     "execution_count": 55,
     "metadata": {},
     "output_type": "execute_result"
    }
   ],
   "source": [
    "dict(zip(model.metrics_names, scores))"
   ]
  },
  {
   "cell_type": "code",
   "execution_count": 56,
   "metadata": {},
   "outputs": [
    {
     "data": {
      "image/png": "[encoded data removed]",
      "text/plain": [
       "<Figure size 432x288 with 2 Axes>"
      ]
     },
     "metadata": {
      "needs_background": "light"
     },
     "output_type": "display_data"
    }
   ],
   "source": [
    "from matplotlib import pyplot\n",
    "# plot loss during training\n",
    "pyplot.subplot(211)\n",
    "pyplot.title('Loss')\n",
    "pyplot.plot(mod.history['loss'], label='train')\n",
    "#pyplot.plot(mod.history['val_loss'], label='test')\n",
    "pyplot.legend()\n",
    "# plot accuracy during training\n",
    "pyplot.subplot(212)\n",
    "pyplot.title('Accuracy')\n",
    "pyplot.plot(mod.history['sparse_categorical_accuracy'], label='train')\n",
    "#pyplot.plot(mod.history['val_accuracy'], label='test')\n",
    "pyplot.legend()\n",
    "pyplot.show()"
   ]
  },
  {
   "cell_type": "code",
   "execution_count": 57,
   "metadata": {},
   "outputs": [],
   "source": [
    "# predict probabilities for test set\n",
    "yhat_probs = model.predict(X_test.astype('float32'), verbose=0)\n",
    "# predict crisp classes for test set\n",
    "#yhat_classes = model.predict_classes(X_test, verbose=0)\n",
    "yhat_classes = np.argmax(yhat_probs,axis=1)"
   ]
  },
  {
   "cell_type": "code",
   "execution_count": 58,
   "metadata": {},
   "outputs": [],
   "source": [
    "from sklearn.datasets import make_circles\n",
    "from sklearn.metrics import accuracy_score\n",
    "from sklearn.metrics import precision_score\n",
    "from sklearn.metrics import recall_score\n",
    "from sklearn.metrics import f1_score\n",
    "from sklearn.metrics import cohen_kappa_score\n",
    "from sklearn.metrics import roc_auc_score\n",
    "from sklearn.metrics import confusion_matrix\n",
    "from sklearn.metrics import roc_curve\n"
   ]
  },
  {
   "cell_type": "code",
   "execution_count": 59,
   "metadata": {},
   "outputs": [
    {
     "name": "stdout",
     "output_type": "stream",
     "text": [
      "Accuracy: 1.000000\n",
      "Precision: 1.000000\n",
      "Recall: 1.000000\n",
      "F1 score: 1.000000\n"
     ]
    }
   ],
   "source": [
    "# accuracy: (tp + tn) / (p + n)\n",
    "accuracy = accuracy_score(Y_test, yhat_classes)\n",
    "print('Accuracy: %f' % accuracy)\n",
    "# precision tp / (tp + fp)\n",
    "precision = precision_score(Y_test, yhat_classes, average='macro')\n",
    "print('Precision: %f' % precision)\n",
    "# recall: tp / (tp + fn)\n",
    "recall = recall_score(Y_test, yhat_classes,average='macro')\n",
    "print('Recall: %f' % recall)\n",
    "# f1: 2 tp / (2 tp + fp + fn)\n",
    "f1 = f1_score(Y_test, yhat_classes, average='macro')\n",
    "print('F1 score: %f' % f1)"
   ]
  },
  {
   "cell_type": "code",
   "execution_count": 60,
   "metadata": {},
   "outputs": [
    {
     "name": "stdout",
     "output_type": "stream",
     "text": [
      "Cohens kappa: 1.000000\n",
      "[[22  0]\n",
      " [ 0 15]]\n"
     ]
    }
   ],
   "source": [
    "# kappa\n",
    "kappa = cohen_kappa_score(Y_test, yhat_classes)\n",
    "print('Cohens kappa: %f' % kappa)\n",
    "# ROC AUC\n",
    "#fprate, tprate, thresholds = roc_curve(Y_test, yhat_probs, average = 'macro')\n",
    "#print('ROC AUC: %f' % thresholds)\n",
    "# confusion matrix\n",
    "matrix = confusion_matrix(Y_test, yhat_classes)\n",
    "print(matrix)"
   ]
  },
  {
   "cell_type": "code",
   "execution_count": 61,
   "metadata": {},
   "outputs": [
    {
     "name": "stderr",
     "output_type": "stream",
     "text": [
      "C:\\Users\\hp\\Anaconda3\\lib\\site-packages\\sklearn\\metrics\\ranking.py:659: UndefinedMetricWarning: No positive samples in y_true, true positive value should be meaningless\n",
      "  UndefinedMetricWarning)\n"
     ]
    }
   ],
   "source": [
    "fpr = {}\n",
    "tpr = {}\n",
    "thresh ={}\n",
    "\n",
    "n_class = 5\n",
    "\n",
    "for i in range(n_class):    \n",
    "    fpr[i], tpr[i], thresh[i] = roc_curve(Y_test, yhat_classes, pos_label=i)"
   ]
  },
  {
   "cell_type": "code",
   "execution_count": 62,
   "metadata": {},
   "outputs": [
    {
     "data": {
      "image/png": "[encoded data removed]",
      "text/plain": [
       "<Figure size 432x288 with 1 Axes>"
      ]
     },
     "metadata": {
      "needs_background": "light"
     },
     "output_type": "display_data"
    }
   ],
   "source": [
    "# plotting    \n",
    "plt.plot(fpr[0], tpr[0], linestyle='--',color='orange', label='Class 0 vs Rest')\n",
    "plt.plot(fpr[1], tpr[1], linestyle='--',color='green', label='Class 1 vs Rest')\n",
    "plt.plot(fpr[2], tpr[2], linestyle='--',color='blue', label='Class 2 vs Rest')\n",
    "plt.plot(fpr[3], tpr[3], linestyle='--',color='red', label='Class 3 vs Rest')\n",
    "plt.plot(fpr[4], tpr[4], linestyle='--',color='black', label='Class 4 vs Rest')\n",
    "plt.title('Multiclass ROC curve')\n",
    "plt.xlabel('False Positive Rate')\n",
    "plt.ylabel('True Positive rate')\n",
    "plt.legend(loc='best')\n",
    "plt.savefig('Multiclass ROC',dpi=300); "
   ]
  },
  {
   "cell_type": "code",
   "execution_count": 63,
   "metadata": {},
   "outputs": [
    {
     "name": "stdout",
     "output_type": "stream",
     "text": [
      "Confusion matrix : \n",
      " [[22  0]\n",
      " [ 0 15]]\n"
     ]
    }
   ],
   "source": [
    "from sklearn.metrics import confusion_matrix\n",
    "from sklearn.metrics import classification_report\n",
    "matrix = confusion_matrix(Y_test, yhat_classes, labels= [0, 1])\n",
    "print('Confusion matrix : \\n',matrix)"
   ]
  },
  {
   "cell_type": "code",
   "execution_count": 64,
   "metadata": {},
   "outputs": [
    {
     "name": "stdout",
     "output_type": "stream",
     "text": [
      "Classification report : \n",
      "               precision    recall  f1-score   support\n",
      "\n",
      "           0       1.00      1.00      1.00        22\n",
      "           1       1.00      1.00      1.00        15\n",
      "\n",
      "    accuracy                           1.00        37\n",
      "   macro avg       1.00      1.00      1.00        37\n",
      "weighted avg       1.00      1.00      1.00        37\n",
      "\n"
     ]
    }
   ],
   "source": [
    "matrix = classification_report(Y_test,yhat_classes, labels= [0, 1])\n",
    "print('Classification report : \\n',matrix)"
   ]
  },
  {
   "cell_type": "code",
   "execution_count": 65,
   "metadata": {},
   "outputs": [
    {
     "name": "stdout",
     "output_type": "stream",
     "text": [
      "INFO:tensorflow:Assets written to: ./models/Binary Classifcation/Without IP/CNN-DBN/CNN\\assets\n"
     ]
    }
   ],
   "source": [
    "model.save('./models/Binary Classifcation/Without IP/CNN-DBN/CNN')"
   ]
  },
  {
   "cell_type": "code",
   "execution_count": 66,
   "metadata": {},
   "outputs": [],
   "source": [
    "#Feature extracted from feature extractor part of deep learning model\n",
    "X_ext = feature_extractor.predict(X_train)\n",
    "X_ext_test = feature_extractor.predict(X_test)"
   ]
  },
  {
   "cell_type": "code",
   "execution_count": 67,
   "metadata": {},
   "outputs": [
    {
     "name": "stdout",
     "output_type": "stream",
     "text": [
      "False\n",
      "False\n",
      "False\n",
      "False\n",
      "False\n",
      "False\n",
      "False\n",
      "False\n",
      "False\n",
      "False\n",
      "False\n",
      "False\n",
      "False\n",
      "False\n",
      "False\n",
      "False\n",
      "False\n",
      "False\n",
      "False\n",
      "False\n",
      "False\n",
      "False\n",
      "False\n",
      "False\n",
      "False\n",
      "False\n",
      "False\n",
      "False\n",
      "False\n",
      "False\n",
      "False\n",
      "False\n",
      "False\n",
      "False\n",
      "False\n",
      "False\n",
      "False\n",
      "False\n",
      "False\n",
      "False\n",
      "False\n",
      "False\n",
      "False\n",
      "False\n",
      "False\n",
      "False\n",
      "False\n",
      "False\n",
      "False\n",
      "False\n",
      "False\n",
      "False\n",
      "False\n",
      "False\n",
      "False\n",
      "False\n",
      "False\n",
      "False\n",
      "False\n",
      "False\n",
      "False\n",
      "False\n",
      "False\n",
      "False\n",
      "False\n",
      "False\n",
      "False\n",
      "False\n",
      "False\n",
      "False\n",
      "False\n",
      "False\n",
      "False\n",
      "False\n",
      "False\n",
      "False\n",
      "False\n",
      "False\n",
      "False\n",
      "False\n",
      "False\n",
      "False\n",
      "False\n",
      "False\n",
      "False\n",
      "False\n",
      "False\n",
      "False\n",
      "False\n",
      "False\n",
      "False\n",
      "False\n",
      "False\n",
      "False\n",
      "False\n",
      "False\n",
      "False\n",
      "False\n",
      "False\n",
      "False\n",
      "False\n",
      "False\n",
      "False\n",
      "False\n",
      "False\n",
      "False\n",
      "False\n",
      "False\n",
      "False\n",
      "False\n",
      "False\n",
      "False\n",
      "False\n",
      "False\n",
      "False\n",
      "False\n",
      "False\n",
      "False\n",
      "False\n",
      "False\n",
      "False\n",
      "False\n",
      "False\n",
      "False\n",
      "False\n",
      "False\n",
      "False\n",
      "False\n",
      "False\n",
      "False\n",
      "False\n",
      "False\n",
      "False\n",
      "False\n",
      "False\n",
      "False\n",
      "False\n",
      "False\n",
      "False\n",
      "False\n",
      "False\n",
      "False\n",
      "False\n",
      "False\n",
      "False\n",
      "False\n"
     ]
    }
   ],
   "source": [
    "for i in X_ext:\n",
    "    print(f'{np.isnan(i).any()}')"
   ]
  },
  {
   "cell_type": "code",
   "execution_count": 68,
   "metadata": {},
   "outputs": [
    {
     "name": "stdout",
     "output_type": "stream",
     "text": [
      "WARNING:tensorflow:From C:\\Users\\hp\\AppData\\Roaming\\Python\\Python37\\site-packages\\tensorflow\\python\\compat\\v2_compat.py:101: disable_resource_variables (from tensorflow.python.ops.variable_scope) is deprecated and will be removed in a future version.\n",
      "Instructions for updating:\n",
      "non-resource variables are not supported in the long term\n"
     ]
    }
   ],
   "source": [
    "from dbn.tensorflow import SupervisedDBNClassification"
   ]
  },
  {
   "cell_type": "code",
   "execution_count": 85,
   "metadata": {},
   "outputs": [],
   "source": [
    "classifier = SupervisedDBNClassification(hidden_layers_structure=[128, 64],\n",
    "                                         learning_rate_rbm=0.1,\n",
    "                                         learning_rate=0.01,\n",
    "                                         n_epochs_rbm=32,\n",
    "                                         n_iter_backprop=512,\n",
    "                                         batch_size=32,\n",
    "                                         activation_function='relu',\n",
    "                                         dropout_p=0.01)"
   ]
  },
  {
   "cell_type": "code",
   "execution_count": 84,
   "metadata": {},
   "outputs": [
    {
     "data": {
      "text/plain": [
       "47"
      ]
     },
     "execution_count": 84,
     "metadata": {},
     "output_type": "execute_result"
    }
   ],
   "source": [
    "del classifier\n",
    "gc.collect()"
   ]
  },
  {
   "cell_type": "code",
   "execution_count": 86,
   "metadata": {
    "scrolled": true
   },
   "outputs": [
    {
     "name": "stdout",
     "output_type": "stream",
     "text": [
      "[START] Pre-training step:\n",
      ">> Epoch 1 finished \tRBM Reconstruction error 315888.562500\n",
      ">> Epoch 2 finished \tRBM Reconstruction error 412166.468750\n",
      ">> Epoch 3 finished \tRBM Reconstruction error 908030.562500\n",
      ">> Epoch 4 finished \tRBM Reconstruction error 2289085.250000\n",
      ">> Epoch 5 finished \tRBM Reconstruction error 3896281.500000\n",
      ">> Epoch 6 finished \tRBM Reconstruction error 4419977.000000\n",
      ">> Epoch 7 finished \tRBM Reconstruction error 5050153.000000\n",
      ">> Epoch 8 finished \tRBM Reconstruction error 6620368.500000\n",
      ">> Epoch 9 finished \tRBM Reconstruction error 6396626.000000\n",
      ">> Epoch 10 finished \tRBM Reconstruction error 7576821.500000\n",
      ">> Epoch 11 finished \tRBM Reconstruction error 6235211.500000\n",
      ">> Epoch 12 finished \tRBM Reconstruction error 7918479.000000\n",
      ">> Epoch 13 finished \tRBM Reconstruction error 9503445.000000\n",
      ">> Epoch 14 finished \tRBM Reconstruction error 7980471.000000\n",
      ">> Epoch 15 finished \tRBM Reconstruction error 10958792.000000\n",
      ">> Epoch 16 finished \tRBM Reconstruction error 9445141.000000\n",
      ">> Epoch 17 finished \tRBM Reconstruction error 11036441.000000\n",
      ">> Epoch 18 finished \tRBM Reconstruction error 11301991.000000\n",
      ">> Epoch 19 finished \tRBM Reconstruction error 12297965.000000\n",
      ">> Epoch 20 finished \tRBM Reconstruction error 12571699.000000\n",
      ">> Epoch 21 finished \tRBM Reconstruction error 12884434.000000\n",
      ">> Epoch 22 finished \tRBM Reconstruction error 13732457.000000\n",
      ">> Epoch 23 finished \tRBM Reconstruction error 12884850.000000\n",
      ">> Epoch 24 finished \tRBM Reconstruction error 12842800.000000\n",
      ">> Epoch 25 finished \tRBM Reconstruction error 13541523.000000\n",
      ">> Epoch 26 finished \tRBM Reconstruction error 13423319.000000\n",
      ">> Epoch 27 finished \tRBM Reconstruction error 15966062.000000\n",
      ">> Epoch 28 finished \tRBM Reconstruction error 14326595.000000\n",
      ">> Epoch 29 finished \tRBM Reconstruction error 13950937.000000\n",
      ">> Epoch 30 finished \tRBM Reconstruction error 15120086.000000\n",
      ">> Epoch 31 finished \tRBM Reconstruction error 13963269.000000\n",
      ">> Epoch 32 finished \tRBM Reconstruction error 14123982.000000\n",
      ">> Epoch 1 finished \tRBM Reconstruction error 1163427446784.000000\n",
      ">> Epoch 2 finished \tRBM Reconstruction error 2595501375488.000000\n",
      ">> Epoch 3 finished \tRBM Reconstruction error 2739684507648.000000\n",
      ">> Epoch 4 finished \tRBM Reconstruction error 3994508853248.000000\n",
      ">> Epoch 5 finished \tRBM Reconstruction error 4113330339840.000000\n",
      ">> Epoch 6 finished \tRBM Reconstruction error 4485016453120.000000\n",
      ">> Epoch 7 finished \tRBM Reconstruction error 4857584943104.000000\n",
      ">> Epoch 8 finished \tRBM Reconstruction error 5551776858112.000000\n",
      ">> Epoch 9 finished \tRBM Reconstruction error 10800719724544.000000\n",
      ">> Epoch 10 finished \tRBM Reconstruction error 11846839959552.000000\n",
      ">> Epoch 11 finished \tRBM Reconstruction error 11679785025536.000000\n",
      ">> Epoch 12 finished \tRBM Reconstruction error 16569515114496.000000\n",
      ">> Epoch 13 finished \tRBM Reconstruction error 12039132020736.000000\n",
      ">> Epoch 14 finished \tRBM Reconstruction error 12764542140416.000000\n",
      ">> Epoch 15 finished \tRBM Reconstruction error 14837256028160.000000\n",
      ">> Epoch 16 finished \tRBM Reconstruction error 16302963949568.000000\n",
      ">> Epoch 17 finished \tRBM Reconstruction error 16299627380736.000000\n",
      ">> Epoch 18 finished \tRBM Reconstruction error 15396266573824.000000\n",
      ">> Epoch 19 finished \tRBM Reconstruction error 13932409389056.000000\n",
      ">> Epoch 20 finished \tRBM Reconstruction error 18998747987968.000000\n",
      ">> Epoch 21 finished \tRBM Reconstruction error 20527087353856.000000\n",
      ">> Epoch 22 finished \tRBM Reconstruction error 21546095607808.000000\n",
      ">> Epoch 23 finished \tRBM Reconstruction error 21040069607424.000000\n",
      ">> Epoch 24 finished \tRBM Reconstruction error 21967537176576.000000\n",
      ">> Epoch 25 finished \tRBM Reconstruction error 26588615802880.000000\n",
      ">> Epoch 26 finished \tRBM Reconstruction error 21248786563072.000000\n",
      ">> Epoch 27 finished \tRBM Reconstruction error 25280173309952.000000\n",
      ">> Epoch 28 finished \tRBM Reconstruction error 24546176401408.000000\n",
      ">> Epoch 29 finished \tRBM Reconstruction error 20464132947968.000000\n",
      ">> Epoch 30 finished \tRBM Reconstruction error 20604398862336.000000\n",
      ">> Epoch 31 finished \tRBM Reconstruction error 19789604978688.000000\n",
      ">> Epoch 32 finished \tRBM Reconstruction error 23329027129344.000000\n",
      "[END] Pre-training step\n",
      "[START] Fine tuning step:\n",
      ">> Epoch 0 finished \tANN training loss 15732.897461\n",
      ">> Epoch 1 finished \tANN training loss 0.372896\n",
      ">> Epoch 2 finished \tANN training loss 0.371361\n",
      ">> Epoch 3 finished \tANN training loss 0.369926\n",
      ">> Epoch 4 finished \tANN training loss 0.368246\n",
      ">> Epoch 5 finished \tANN training loss 0.366849\n",
      ">> Epoch 6 finished \tANN training loss 0.365470\n",
      ">> Epoch 7 finished \tANN training loss 0.364213\n",
      ">> Epoch 8 finished \tANN training loss 0.362800\n",
      ">> Epoch 9 finished \tANN training loss 0.361628\n",
      ">> Epoch 10 finished \tANN training loss 0.360300\n",
      ">> Epoch 11 finished \tANN training loss 0.363383\n",
      ">> Epoch 12 finished \tANN training loss 0.362355\n",
      ">> Epoch 13 finished \tANN training loss 0.361149\n",
      ">> Epoch 14 finished \tANN training loss 0.359990\n",
      ">> Epoch 15 finished \tANN training loss 0.358833\n",
      ">> Epoch 16 finished \tANN training loss 0.357900\n",
      ">> Epoch 17 finished \tANN training loss 0.517114\n",
      ">> Epoch 18 finished \tANN training loss 0.451690\n",
      ">> Epoch 19 finished \tANN training loss 0.417238\n",
      ">> Epoch 20 finished \tANN training loss 0.398291\n",
      ">> Epoch 21 finished \tANN training loss 0.386735\n",
      ">> Epoch 22 finished \tANN training loss 0.379766\n",
      ">> Epoch 23 finished \tANN training loss 0.373033\n",
      ">> Epoch 24 finished \tANN training loss 0.368212\n",
      ">> Epoch 25 finished \tANN training loss 0.364560\n",
      ">> Epoch 26 finished \tANN training loss 0.361624\n",
      ">> Epoch 27 finished \tANN training loss 0.359255\n",
      ">> Epoch 28 finished \tANN training loss 0.358019\n",
      ">> Epoch 29 finished \tANN training loss 0.356159\n",
      ">> Epoch 30 finished \tANN training loss 0.355932\n",
      ">> Epoch 31 finished \tANN training loss 0.354036\n",
      ">> Epoch 32 finished \tANN training loss 0.352493\n",
      ">> Epoch 33 finished \tANN training loss 0.350961\n",
      ">> Epoch 34 finished \tANN training loss 0.349695\n",
      ">> Epoch 35 finished \tANN training loss 0.348569\n",
      ">> Epoch 36 finished \tANN training loss 0.347424\n",
      ">> Epoch 37 finished \tANN training loss 0.346328\n",
      ">> Epoch 38 finished \tANN training loss 0.343496\n",
      ">> Epoch 39 finished \tANN training loss 0.342764\n",
      ">> Epoch 40 finished \tANN training loss 0.342001\n",
      ">> Epoch 41 finished \tANN training loss 0.341308\n",
      ">> Epoch 42 finished \tANN training loss 0.340688\n",
      ">> Epoch 43 finished \tANN training loss 0.339976\n",
      ">> Epoch 44 finished \tANN training loss 0.339293\n",
      ">> Epoch 45 finished \tANN training loss 0.338700\n",
      ">> Epoch 46 finished \tANN training loss 0.338092\n",
      ">> Epoch 47 finished \tANN training loss 0.337590\n",
      ">> Epoch 48 finished \tANN training loss 0.336928\n",
      ">> Epoch 49 finished \tANN training loss 0.336284\n",
      ">> Epoch 50 finished \tANN training loss 0.335738\n",
      ">> Epoch 51 finished \tANN training loss 0.335145\n",
      ">> Epoch 52 finished \tANN training loss 0.334690\n",
      ">> Epoch 53 finished \tANN training loss 0.334140\n",
      ">> Epoch 54 finished \tANN training loss 0.333725\n",
      ">> Epoch 55 finished \tANN training loss 0.333297\n",
      ">> Epoch 56 finished \tANN training loss 0.332921\n",
      ">> Epoch 57 finished \tANN training loss 0.332626\n",
      ">> Epoch 58 finished \tANN training loss 0.332078\n",
      ">> Epoch 59 finished \tANN training loss 0.331647\n",
      ">> Epoch 60 finished \tANN training loss 0.331201\n",
      ">> Epoch 61 finished \tANN training loss 0.330832\n",
      ">> Epoch 62 finished \tANN training loss 0.330436\n",
      ">> Epoch 63 finished \tANN training loss 0.330074\n",
      ">> Epoch 64 finished \tANN training loss 0.329839\n",
      ">> Epoch 65 finished \tANN training loss 0.329463\n",
      ">> Epoch 66 finished \tANN training loss 0.329079\n",
      ">> Epoch 67 finished \tANN training loss 0.328691\n",
      ">> Epoch 68 finished \tANN training loss 0.328333\n",
      ">> Epoch 69 finished \tANN training loss 0.328067\n",
      ">> Epoch 70 finished \tANN training loss 0.327650\n",
      ">> Epoch 71 finished \tANN training loss 0.327174\n",
      ">> Epoch 72 finished \tANN training loss 0.326958\n",
      ">> Epoch 73 finished \tANN training loss 0.326571\n",
      ">> Epoch 74 finished \tANN training loss 0.326478\n",
      ">> Epoch 75 finished \tANN training loss 0.326216\n",
      ">> Epoch 76 finished \tANN training loss 0.325927\n",
      ">> Epoch 77 finished \tANN training loss 0.325560\n",
      ">> Epoch 78 finished \tANN training loss 0.324701\n",
      ">> Epoch 79 finished \tANN training loss 0.324626\n",
      ">> Epoch 80 finished \tANN training loss 0.323369\n"
     ]
    },
    {
     "name": "stdout",
     "output_type": "stream",
     "text": [
      ">> Epoch 81 finished \tANN training loss 0.322160\n",
      ">> Epoch 82 finished \tANN training loss 0.321079\n",
      ">> Epoch 83 finished \tANN training loss 0.320781\n",
      ">> Epoch 84 finished \tANN training loss 0.319778\n",
      ">> Epoch 85 finished \tANN training loss 0.319138\n",
      ">> Epoch 86 finished \tANN training loss 0.317872\n",
      ">> Epoch 87 finished \tANN training loss 0.317614\n",
      ">> Epoch 88 finished \tANN training loss 0.317229\n",
      ">> Epoch 89 finished \tANN training loss 0.316725\n",
      ">> Epoch 90 finished \tANN training loss 0.316332\n",
      ">> Epoch 91 finished \tANN training loss 0.316218\n",
      ">> Epoch 92 finished \tANN training loss 0.315779\n",
      ">> Epoch 93 finished \tANN training loss 0.315629\n",
      ">> Epoch 94 finished \tANN training loss 0.315195\n",
      ">> Epoch 95 finished \tANN training loss 0.314873\n",
      ">> Epoch 96 finished \tANN training loss 0.314678\n",
      ">> Epoch 97 finished \tANN training loss 0.314919\n",
      ">> Epoch 98 finished \tANN training loss 0.314546\n",
      ">> Epoch 99 finished \tANN training loss 0.314671\n",
      ">> Epoch 100 finished \tANN training loss 0.314754\n",
      ">> Epoch 101 finished \tANN training loss 0.314576\n",
      ">> Epoch 102 finished \tANN training loss 0.314278\n",
      ">> Epoch 103 finished \tANN training loss 0.314067\n",
      ">> Epoch 104 finished \tANN training loss 0.313779\n",
      ">> Epoch 105 finished \tANN training loss 0.313263\n",
      ">> Epoch 106 finished \tANN training loss 0.313356\n",
      ">> Epoch 107 finished \tANN training loss 0.313007\n",
      ">> Epoch 108 finished \tANN training loss 0.312773\n",
      ">> Epoch 109 finished \tANN training loss 0.312661\n",
      ">> Epoch 110 finished \tANN training loss 0.312142\n",
      ">> Epoch 111 finished \tANN training loss 0.312139\n",
      ">> Epoch 112 finished \tANN training loss 0.310865\n",
      ">> Epoch 113 finished \tANN training loss 0.309419\n",
      ">> Epoch 114 finished \tANN training loss 0.308228\n",
      ">> Epoch 115 finished \tANN training loss 0.307676\n",
      ">> Epoch 116 finished \tANN training loss 0.306074\n",
      ">> Epoch 117 finished \tANN training loss 0.305640\n",
      ">> Epoch 118 finished \tANN training loss 0.304121\n",
      ">> Epoch 119 finished \tANN training loss 0.303125\n",
      ">> Epoch 120 finished \tANN training loss 0.301763\n",
      ">> Epoch 121 finished \tANN training loss 0.300387\n",
      ">> Epoch 122 finished \tANN training loss 0.299138\n",
      ">> Epoch 123 finished \tANN training loss 0.298437\n",
      ">> Epoch 124 finished \tANN training loss 0.297363\n",
      ">> Epoch 125 finished \tANN training loss 0.296436\n",
      ">> Epoch 126 finished \tANN training loss 0.296013\n",
      ">> Epoch 127 finished \tANN training loss 0.295942\n",
      ">> Epoch 128 finished \tANN training loss 0.295802\n",
      ">> Epoch 129 finished \tANN training loss 0.295296\n",
      ">> Epoch 130 finished \tANN training loss 0.294766\n",
      ">> Epoch 131 finished \tANN training loss 0.294475\n",
      ">> Epoch 132 finished \tANN training loss 0.294114\n",
      ">> Epoch 133 finished \tANN training loss 0.293866\n",
      ">> Epoch 134 finished \tANN training loss 0.293579\n",
      ">> Epoch 135 finished \tANN training loss 0.293446\n",
      ">> Epoch 136 finished \tANN training loss 0.293187\n",
      ">> Epoch 137 finished \tANN training loss 0.292918\n",
      ">> Epoch 138 finished \tANN training loss 0.292784\n",
      ">> Epoch 139 finished \tANN training loss 0.292459\n",
      ">> Epoch 140 finished \tANN training loss 0.292213\n",
      ">> Epoch 141 finished \tANN training loss 0.292277\n",
      ">> Epoch 142 finished \tANN training loss 0.292043\n",
      ">> Epoch 143 finished \tANN training loss 0.291830\n",
      ">> Epoch 144 finished \tANN training loss 0.291588\n",
      ">> Epoch 145 finished \tANN training loss 0.291486\n",
      ">> Epoch 146 finished \tANN training loss 0.291306\n",
      ">> Epoch 147 finished \tANN training loss 0.291346\n",
      ">> Epoch 148 finished \tANN training loss 0.291311\n",
      ">> Epoch 149 finished \tANN training loss 0.291121\n",
      ">> Epoch 150 finished \tANN training loss 0.290982\n",
      ">> Epoch 151 finished \tANN training loss 0.290853\n",
      ">> Epoch 152 finished \tANN training loss 0.290732\n",
      ">> Epoch 153 finished \tANN training loss 0.290570\n",
      ">> Epoch 154 finished \tANN training loss 0.290913\n",
      ">> Epoch 155 finished \tANN training loss 0.290925\n",
      ">> Epoch 156 finished \tANN training loss 0.290752\n",
      ">> Epoch 157 finished \tANN training loss 0.290593\n",
      ">> Epoch 158 finished \tANN training loss 0.290653\n",
      ">> Epoch 159 finished \tANN training loss 0.290758\n",
      ">> Epoch 160 finished \tANN training loss 0.290814\n",
      ">> Epoch 161 finished \tANN training loss 0.290625\n",
      ">> Epoch 162 finished \tANN training loss 0.290435\n",
      ">> Epoch 163 finished \tANN training loss 0.290210\n",
      ">> Epoch 164 finished \tANN training loss 0.290171\n",
      ">> Epoch 165 finished \tANN training loss 0.289974\n",
      ">> Epoch 166 finished \tANN training loss 0.289911\n",
      ">> Epoch 167 finished \tANN training loss 0.289717\n",
      ">> Epoch 168 finished \tANN training loss 0.289567\n",
      ">> Epoch 169 finished \tANN training loss 0.289445\n",
      ">> Epoch 170 finished \tANN training loss 0.289314\n",
      ">> Epoch 171 finished \tANN training loss 0.289165\n",
      ">> Epoch 172 finished \tANN training loss 0.289111\n",
      ">> Epoch 173 finished \tANN training loss 0.288992\n",
      ">> Epoch 174 finished \tANN training loss 0.288898\n",
      ">> Epoch 175 finished \tANN training loss 0.288911\n",
      ">> Epoch 176 finished \tANN training loss 0.288801\n",
      ">> Epoch 177 finished \tANN training loss 0.288780\n",
      ">> Epoch 178 finished \tANN training loss 0.288665\n",
      ">> Epoch 179 finished \tANN training loss 0.288756\n",
      ">> Epoch 180 finished \tANN training loss 0.288662\n",
      ">> Epoch 181 finished \tANN training loss 0.288592\n",
      ">> Epoch 182 finished \tANN training loss 0.288493\n",
      ">> Epoch 183 finished \tANN training loss 0.288403\n",
      ">> Epoch 184 finished \tANN training loss 0.288675\n",
      ">> Epoch 185 finished \tANN training loss 0.288661\n",
      ">> Epoch 186 finished \tANN training loss 0.288632\n",
      ">> Epoch 187 finished \tANN training loss 0.288531\n",
      ">> Epoch 188 finished \tANN training loss 0.288442\n",
      ">> Epoch 189 finished \tANN training loss 0.288328\n",
      ">> Epoch 190 finished \tANN training loss 0.288213\n",
      ">> Epoch 191 finished \tANN training loss 0.288126\n",
      ">> Epoch 192 finished \tANN training loss 0.288099\n",
      ">> Epoch 193 finished \tANN training loss 0.288138\n",
      ">> Epoch 194 finished \tANN training loss 0.288058\n",
      ">> Epoch 195 finished \tANN training loss 0.288311\n",
      ">> Epoch 196 finished \tANN training loss 0.288297\n",
      ">> Epoch 197 finished \tANN training loss 0.288553\n",
      ">> Epoch 198 finished \tANN training loss 0.288502\n",
      ">> Epoch 199 finished \tANN training loss 0.288373\n",
      ">> Epoch 200 finished \tANN training loss 0.288253\n",
      ">> Epoch 201 finished \tANN training loss 0.288407\n",
      ">> Epoch 202 finished \tANN training loss 0.288221\n",
      ">> Epoch 203 finished \tANN training loss 0.288091\n",
      ">> Epoch 204 finished \tANN training loss 0.288007\n",
      ">> Epoch 205 finished \tANN training loss 0.287910\n",
      ">> Epoch 206 finished \tANN training loss 0.287838\n",
      ">> Epoch 207 finished \tANN training loss 0.287794\n",
      ">> Epoch 208 finished \tANN training loss 0.288257\n",
      ">> Epoch 209 finished \tANN training loss 0.288405\n",
      ">> Epoch 210 finished \tANN training loss 0.288283\n",
      ">> Epoch 211 finished \tANN training loss 0.288382\n",
      ">> Epoch 212 finished \tANN training loss 0.288544\n",
      ">> Epoch 213 finished \tANN training loss 0.288637\n",
      ">> Epoch 214 finished \tANN training loss 0.288711\n",
      ">> Epoch 215 finished \tANN training loss 0.288575\n",
      ">> Epoch 216 finished \tANN training loss 0.288302\n",
      ">> Epoch 217 finished \tANN training loss 0.288480\n",
      ">> Epoch 218 finished \tANN training loss 0.288491\n",
      ">> Epoch 219 finished \tANN training loss 0.288327\n",
      ">> Epoch 220 finished \tANN training loss 0.288200\n",
      ">> Epoch 221 finished \tANN training loss 0.288024\n",
      ">> Epoch 222 finished \tANN training loss 0.287956\n",
      ">> Epoch 223 finished \tANN training loss 0.287835\n",
      ">> Epoch 224 finished \tANN training loss 0.287717\n",
      ">> Epoch 225 finished \tANN training loss 0.287905\n",
      ">> Epoch 226 finished \tANN training loss 0.287800\n",
      ">> Epoch 227 finished \tANN training loss 0.287847\n",
      ">> Epoch 228 finished \tANN training loss 0.287719\n",
      ">> Epoch 229 finished \tANN training loss 0.287800\n",
      ">> Epoch 230 finished \tANN training loss 0.287693\n",
      ">> Epoch 231 finished \tANN training loss 0.287686\n",
      ">> Epoch 232 finished \tANN training loss 0.287522\n",
      ">> Epoch 233 finished \tANN training loss 0.287438\n",
      ">> Epoch 234 finished \tANN training loss 0.287343\n",
      ">> Epoch 235 finished \tANN training loss 0.287492\n",
      ">> Epoch 236 finished \tANN training loss 0.287390\n",
      ">> Epoch 237 finished \tANN training loss 0.287300\n",
      ">> Epoch 238 finished \tANN training loss 0.287201\n",
      ">> Epoch 239 finished \tANN training loss 0.287111\n",
      ">> Epoch 240 finished \tANN training loss 0.287043\n",
      ">> Epoch 241 finished \tANN training loss 0.287077\n",
      ">> Epoch 242 finished \tANN training loss 0.287016\n",
      ">> Epoch 243 finished \tANN training loss 0.286965\n",
      ">> Epoch 244 finished \tANN training loss 0.286914\n",
      ">> Epoch 245 finished \tANN training loss 0.287144\n"
     ]
    },
    {
     "name": "stdout",
     "output_type": "stream",
     "text": [
      ">> Epoch 246 finished \tANN training loss 0.287326\n",
      ">> Epoch 247 finished \tANN training loss 0.287235\n",
      ">> Epoch 248 finished \tANN training loss 0.287150\n",
      ">> Epoch 249 finished \tANN training loss 0.287323\n",
      ">> Epoch 250 finished \tANN training loss 0.287151\n",
      ">> Epoch 251 finished \tANN training loss 0.287064\n",
      ">> Epoch 252 finished \tANN training loss 0.286996\n",
      ">> Epoch 253 finished \tANN training loss 0.287005\n",
      ">> Epoch 254 finished \tANN training loss 0.286905\n",
      ">> Epoch 255 finished \tANN training loss 0.286835\n",
      ">> Epoch 256 finished \tANN training loss 0.286775\n",
      ">> Epoch 257 finished \tANN training loss 0.287059\n",
      ">> Epoch 258 finished \tANN training loss 0.287226\n",
      ">> Epoch 259 finished \tANN training loss 0.287198\n",
      ">> Epoch 260 finished \tANN training loss 0.287047\n",
      ">> Epoch 261 finished \tANN training loss 0.287068\n",
      ">> Epoch 262 finished \tANN training loss 0.286965\n",
      ">> Epoch 263 finished \tANN training loss 0.287043\n",
      ">> Epoch 264 finished \tANN training loss 0.286975\n",
      ">> Epoch 265 finished \tANN training loss 0.287291\n",
      ">> Epoch 266 finished \tANN training loss 0.287326\n",
      ">> Epoch 267 finished \tANN training loss 0.287341\n",
      ">> Epoch 268 finished \tANN training loss 0.287821\n",
      ">> Epoch 269 finished \tANN training loss 0.287661\n",
      ">> Epoch 270 finished \tANN training loss 0.287477\n",
      ">> Epoch 271 finished \tANN training loss 0.287348\n",
      ">> Epoch 272 finished \tANN training loss 0.287252\n",
      ">> Epoch 273 finished \tANN training loss 0.287157\n",
      ">> Epoch 274 finished \tANN training loss 0.287057\n",
      ">> Epoch 275 finished \tANN training loss 0.286975\n",
      ">> Epoch 276 finished \tANN training loss 0.286893\n",
      ">> Epoch 277 finished \tANN training loss 0.286790\n",
      ">> Epoch 278 finished \tANN training loss 0.286729\n",
      ">> Epoch 279 finished \tANN training loss 0.286792\n",
      ">> Epoch 280 finished \tANN training loss 0.286723\n",
      ">> Epoch 281 finished \tANN training loss 0.286655\n",
      ">> Epoch 282 finished \tANN training loss 0.286603\n",
      ">> Epoch 283 finished \tANN training loss 0.286789\n",
      ">> Epoch 284 finished \tANN training loss 0.286763\n",
      ">> Epoch 285 finished \tANN training loss 0.286937\n",
      ">> Epoch 286 finished \tANN training loss 0.286999\n",
      ">> Epoch 287 finished \tANN training loss 0.287219\n",
      ">> Epoch 288 finished \tANN training loss 0.287120\n",
      ">> Epoch 289 finished \tANN training loss 0.287242\n",
      ">> Epoch 290 finished \tANN training loss 0.287213\n",
      ">> Epoch 291 finished \tANN training loss 0.287137\n",
      ">> Epoch 292 finished \tANN training loss 0.287158\n",
      ">> Epoch 293 finished \tANN training loss 0.287199\n",
      ">> Epoch 294 finished \tANN training loss 0.287167\n",
      ">> Epoch 295 finished \tANN training loss 0.287046\n",
      ">> Epoch 296 finished \tANN training loss 0.287153\n",
      ">> Epoch 297 finished \tANN training loss 0.287086\n",
      ">> Epoch 298 finished \tANN training loss 0.286980\n",
      ">> Epoch 299 finished \tANN training loss 0.286896\n",
      ">> Epoch 300 finished \tANN training loss 0.286810\n",
      ">> Epoch 301 finished \tANN training loss 0.286798\n",
      ">> Epoch 302 finished \tANN training loss 0.286689\n",
      ">> Epoch 303 finished \tANN training loss 0.286836\n",
      ">> Epoch 304 finished \tANN training loss 0.286746\n",
      ">> Epoch 305 finished \tANN training loss 0.286668\n",
      ">> Epoch 306 finished \tANN training loss 0.286573\n",
      ">> Epoch 307 finished \tANN training loss 0.286701\n",
      ">> Epoch 308 finished \tANN training loss 0.286861\n",
      ">> Epoch 309 finished \tANN training loss 0.286698\n",
      ">> Epoch 310 finished \tANN training loss 0.286629\n",
      ">> Epoch 311 finished \tANN training loss 0.286543\n",
      ">> Epoch 312 finished \tANN training loss 0.286484\n",
      ">> Epoch 313 finished \tANN training loss 0.286438\n",
      ">> Epoch 314 finished \tANN training loss 0.286350\n",
      ">> Epoch 315 finished \tANN training loss 0.286602\n",
      ">> Epoch 316 finished \tANN training loss 0.286578\n",
      ">> Epoch 317 finished \tANN training loss 0.286602\n",
      ">> Epoch 318 finished \tANN training loss 0.286517\n",
      ">> Epoch 319 finished \tANN training loss 0.286679\n",
      ">> Epoch 320 finished \tANN training loss 0.286577\n",
      ">> Epoch 321 finished \tANN training loss 0.286613\n",
      ">> Epoch 322 finished \tANN training loss 0.286632\n",
      ">> Epoch 323 finished \tANN training loss 0.286645\n",
      ">> Epoch 324 finished \tANN training loss 0.286611\n",
      ">> Epoch 325 finished \tANN training loss 0.286520\n",
      ">> Epoch 326 finished \tANN training loss 0.286463\n",
      ">> Epoch 327 finished \tANN training loss 0.286390\n",
      ">> Epoch 328 finished \tANN training loss 0.286340\n",
      ">> Epoch 329 finished \tANN training loss 0.286298\n",
      ">> Epoch 330 finished \tANN training loss 0.286266\n",
      ">> Epoch 331 finished \tANN training loss 0.286413\n",
      ">> Epoch 332 finished \tANN training loss 0.286508\n",
      ">> Epoch 333 finished \tANN training loss 0.286529\n",
      ">> Epoch 334 finished \tANN training loss 0.286503\n",
      ">> Epoch 335 finished \tANN training loss 0.286492\n",
      ">> Epoch 336 finished \tANN training loss 0.286424\n",
      ">> Epoch 337 finished \tANN training loss 0.286446\n",
      ">> Epoch 338 finished \tANN training loss 0.286370\n",
      ">> Epoch 339 finished \tANN training loss 0.286311\n",
      ">> Epoch 340 finished \tANN training loss 0.286280\n",
      ">> Epoch 341 finished \tANN training loss 0.286211\n",
      ">> Epoch 342 finished \tANN training loss 0.286200\n",
      ">> Epoch 343 finished \tANN training loss 0.286229\n",
      ">> Epoch 344 finished \tANN training loss 0.286256\n",
      ">> Epoch 345 finished \tANN training loss 0.286331\n",
      ">> Epoch 346 finished \tANN training loss 0.286301\n",
      ">> Epoch 347 finished \tANN training loss 0.286263\n",
      ">> Epoch 348 finished \tANN training loss 0.286369\n",
      ">> Epoch 349 finished \tANN training loss 0.286328\n",
      ">> Epoch 350 finished \tANN training loss 0.286283\n",
      ">> Epoch 351 finished \tANN training loss 0.286215\n",
      ">> Epoch 352 finished \tANN training loss 0.286619\n",
      ">> Epoch 353 finished \tANN training loss 0.286540\n",
      ">> Epoch 354 finished \tANN training loss 0.286433\n",
      ">> Epoch 355 finished \tANN training loss 0.286573\n",
      ">> Epoch 356 finished \tANN training loss 0.286629\n",
      ">> Epoch 357 finished \tANN training loss 0.286549\n",
      ">> Epoch 358 finished \tANN training loss 0.286468\n",
      ">> Epoch 359 finished \tANN training loss 0.286406\n",
      ">> Epoch 360 finished \tANN training loss 0.286352\n",
      ">> Epoch 361 finished \tANN training loss 0.286302\n",
      ">> Epoch 362 finished \tANN training loss 0.286266\n",
      ">> Epoch 363 finished \tANN training loss 0.286222\n",
      ">> Epoch 364 finished \tANN training loss 0.286162\n",
      ">> Epoch 365 finished \tANN training loss 0.286448\n",
      ">> Epoch 366 finished \tANN training loss 0.286381\n",
      ">> Epoch 367 finished \tANN training loss 0.286322\n",
      ">> Epoch 368 finished \tANN training loss 0.286318\n",
      ">> Epoch 369 finished \tANN training loss 0.286230\n",
      ">> Epoch 370 finished \tANN training loss 0.286201\n",
      ">> Epoch 371 finished \tANN training loss 0.286196\n",
      ">> Epoch 372 finished \tANN training loss 0.286593\n",
      ">> Epoch 373 finished \tANN training loss 0.286558\n",
      ">> Epoch 374 finished \tANN training loss 0.286591\n",
      ">> Epoch 375 finished \tANN training loss 0.286591\n",
      ">> Epoch 376 finished \tANN training loss 0.286507\n",
      ">> Epoch 377 finished \tANN training loss 0.286436\n",
      ">> Epoch 378 finished \tANN training loss 0.286336\n",
      ">> Epoch 379 finished \tANN training loss 0.286390\n",
      ">> Epoch 380 finished \tANN training loss 0.286289\n",
      ">> Epoch 381 finished \tANN training loss 0.286244\n",
      ">> Epoch 382 finished \tANN training loss 0.286202\n",
      ">> Epoch 383 finished \tANN training loss 0.286136\n",
      ">> Epoch 384 finished \tANN training loss 0.286079\n",
      ">> Epoch 385 finished \tANN training loss 0.286043\n",
      ">> Epoch 386 finished \tANN training loss 0.286024\n",
      ">> Epoch 387 finished \tANN training loss 0.286042\n",
      ">> Epoch 388 finished \tANN training loss 0.285999\n",
      ">> Epoch 389 finished \tANN training loss 0.285973\n",
      ">> Epoch 390 finished \tANN training loss 0.286025\n",
      ">> Epoch 391 finished \tANN training loss 0.286028\n",
      ">> Epoch 392 finished \tANN training loss 0.285997\n",
      ">> Epoch 393 finished \tANN training loss 0.286277\n",
      ">> Epoch 394 finished \tANN training loss 0.286191\n",
      ">> Epoch 395 finished \tANN training loss 0.286267\n",
      ">> Epoch 396 finished \tANN training loss 0.286202\n",
      ">> Epoch 397 finished \tANN training loss 0.286148\n",
      ">> Epoch 398 finished \tANN training loss 0.286112\n",
      ">> Epoch 399 finished \tANN training loss 0.286035\n",
      ">> Epoch 400 finished \tANN training loss 0.286001\n",
      ">> Epoch 401 finished \tANN training loss 0.285966\n",
      ">> Epoch 402 finished \tANN training loss 0.286018\n",
      ">> Epoch 403 finished \tANN training loss 0.285960\n",
      ">> Epoch 404 finished \tANN training loss 0.285981\n",
      ">> Epoch 405 finished \tANN training loss 0.286114\n",
      ">> Epoch 406 finished \tANN training loss 0.286033\n",
      ">> Epoch 407 finished \tANN training loss 0.285972\n",
      ">> Epoch 408 finished \tANN training loss 0.285979\n",
      ">> Epoch 409 finished \tANN training loss 0.285942\n"
     ]
    },
    {
     "name": "stdout",
     "output_type": "stream",
     "text": [
      ">> Epoch 410 finished \tANN training loss 0.285916\n",
      ">> Epoch 411 finished \tANN training loss 0.285883\n",
      ">> Epoch 412 finished \tANN training loss 0.285901\n",
      ">> Epoch 413 finished \tANN training loss 0.285963\n",
      ">> Epoch 414 finished \tANN training loss 0.285900\n",
      ">> Epoch 415 finished \tANN training loss 0.285860\n",
      ">> Epoch 416 finished \tANN training loss 0.285893\n",
      ">> Epoch 417 finished \tANN training loss 0.285906\n",
      ">> Epoch 418 finished \tANN training loss 0.285915\n",
      ">> Epoch 419 finished \tANN training loss 0.286043\n",
      ">> Epoch 420 finished \tANN training loss 0.286044\n",
      ">> Epoch 421 finished \tANN training loss 0.286004\n",
      ">> Epoch 422 finished \tANN training loss 0.285950\n",
      ">> Epoch 423 finished \tANN training loss 0.285913\n",
      ">> Epoch 424 finished \tANN training loss 0.285870\n",
      ">> Epoch 425 finished \tANN training loss 0.285883\n",
      ">> Epoch 426 finished \tANN training loss 0.285841\n",
      ">> Epoch 427 finished \tANN training loss 0.285794\n",
      ">> Epoch 428 finished \tANN training loss 0.285930\n",
      ">> Epoch 429 finished \tANN training loss 0.285853\n",
      ">> Epoch 430 finished \tANN training loss 0.285830\n",
      ">> Epoch 431 finished \tANN training loss 0.285794\n",
      ">> Epoch 432 finished \tANN training loss 0.285752\n",
      ">> Epoch 433 finished \tANN training loss 0.285751\n",
      ">> Epoch 434 finished \tANN training loss 0.285725\n",
      ">> Epoch 435 finished \tANN training loss 0.285793\n",
      ">> Epoch 436 finished \tANN training loss 0.285815\n",
      ">> Epoch 437 finished \tANN training loss 0.285757\n",
      ">> Epoch 438 finished \tANN training loss 0.285837\n",
      ">> Epoch 439 finished \tANN training loss 0.285811\n",
      ">> Epoch 440 finished \tANN training loss 0.285777\n",
      ">> Epoch 441 finished \tANN training loss 0.285734\n",
      ">> Epoch 442 finished \tANN training loss 0.285754\n",
      ">> Epoch 443 finished \tANN training loss 0.285632\n",
      ">> Epoch 444 finished \tANN training loss 0.285681\n",
      ">> Epoch 445 finished \tANN training loss 0.285650\n",
      ">> Epoch 446 finished \tANN training loss 0.285634\n",
      ">> Epoch 447 finished \tANN training loss 0.285649\n",
      ">> Epoch 448 finished \tANN training loss 0.285634\n",
      ">> Epoch 449 finished \tANN training loss 0.285678\n",
      ">> Epoch 450 finished \tANN training loss 0.285806\n",
      ">> Epoch 451 finished \tANN training loss 0.285991\n",
      ">> Epoch 452 finished \tANN training loss 0.285921\n",
      ">> Epoch 453 finished \tANN training loss 0.285870\n",
      ">> Epoch 454 finished \tANN training loss 0.285818\n",
      ">> Epoch 455 finished \tANN training loss 0.285927\n",
      ">> Epoch 456 finished \tANN training loss 0.285872\n",
      ">> Epoch 457 finished \tANN training loss 0.285869\n",
      ">> Epoch 458 finished \tANN training loss 0.285892\n",
      ">> Epoch 459 finished \tANN training loss 0.285954\n",
      ">> Epoch 460 finished \tANN training loss 0.286065\n",
      ">> Epoch 461 finished \tANN training loss 0.286045\n",
      ">> Epoch 462 finished \tANN training loss 0.286060\n",
      ">> Epoch 463 finished \tANN training loss 0.286169\n",
      ">> Epoch 464 finished \tANN training loss 0.286103\n",
      ">> Epoch 465 finished \tANN training loss 0.286044\n",
      ">> Epoch 466 finished \tANN training loss 0.286110\n",
      ">> Epoch 467 finished \tANN training loss 0.286056\n",
      ">> Epoch 468 finished \tANN training loss 0.286040\n",
      ">> Epoch 469 finished \tANN training loss 0.286188\n",
      ">> Epoch 470 finished \tANN training loss 0.286128\n",
      ">> Epoch 471 finished \tANN training loss 0.286257\n",
      ">> Epoch 472 finished \tANN training loss 0.286262\n",
      ">> Epoch 473 finished \tANN training loss 0.286379\n",
      ">> Epoch 474 finished \tANN training loss 0.286676\n",
      ">> Epoch 475 finished \tANN training loss 0.286565\n",
      ">> Epoch 476 finished \tANN training loss 0.286473\n",
      ">> Epoch 477 finished \tANN training loss 0.286674\n",
      ">> Epoch 478 finished \tANN training loss 0.286640\n",
      ">> Epoch 479 finished \tANN training loss 0.286535\n",
      ">> Epoch 480 finished \tANN training loss 0.286602\n",
      ">> Epoch 481 finished \tANN training loss 0.286598\n",
      ">> Epoch 482 finished \tANN training loss 0.286528\n",
      ">> Epoch 483 finished \tANN training loss 0.286415\n",
      ">> Epoch 484 finished \tANN training loss 0.286355\n",
      ">> Epoch 485 finished \tANN training loss 0.286265\n",
      ">> Epoch 486 finished \tANN training loss 0.286299\n",
      ">> Epoch 487 finished \tANN training loss 0.286338\n",
      ">> Epoch 488 finished \tANN training loss 0.286313\n",
      ">> Epoch 489 finished \tANN training loss 0.286773\n",
      ">> Epoch 490 finished \tANN training loss 0.286633\n",
      ">> Epoch 491 finished \tANN training loss 0.286554\n",
      ">> Epoch 492 finished \tANN training loss 0.286454\n",
      ">> Epoch 493 finished \tANN training loss 0.286375\n",
      ">> Epoch 494 finished \tANN training loss 0.286303\n",
      ">> Epoch 495 finished \tANN training loss 0.286254\n",
      ">> Epoch 496 finished \tANN training loss 0.286186\n",
      ">> Epoch 497 finished \tANN training loss 0.286212\n",
      ">> Epoch 498 finished \tANN training loss 0.286197\n",
      ">> Epoch 499 finished \tANN training loss 0.286602\n",
      ">> Epoch 500 finished \tANN training loss 0.286680\n",
      ">> Epoch 501 finished \tANN training loss 0.286510\n",
      ">> Epoch 502 finished \tANN training loss 0.286464\n",
      ">> Epoch 503 finished \tANN training loss 0.287094\n",
      ">> Epoch 504 finished \tANN training loss 0.287123\n",
      ">> Epoch 505 finished \tANN training loss 0.286989\n",
      ">> Epoch 506 finished \tANN training loss 0.286866\n",
      ">> Epoch 507 finished \tANN training loss 0.286745\n",
      ">> Epoch 508 finished \tANN training loss 0.286654\n",
      ">> Epoch 509 finished \tANN training loss 0.286546\n",
      ">> Epoch 510 finished \tANN training loss 0.286649\n",
      ">> Epoch 511 finished \tANN training loss 0.286578\n",
      "[END] Fine tuning step\n"
     ]
    },
    {
     "data": {
      "text/plain": [
       "SupervisedDBNClassification(batch_size=32, dropout_p=0.01,\n",
       "                            idx_to_label_map={0: 0, 1: 1},\n",
       "                            l2_regularization=1.0,\n",
       "                            label_to_idx_map={0: 0, 1: 1}, learning_rate=0.01,\n",
       "                            n_iter_backprop=512, verbose=True)"
      ]
     },
     "execution_count": 86,
     "metadata": {},
     "output_type": "execute_result"
    }
   ],
   "source": [
    "classifier.fit(X_ext, Y_train)"
   ]
  },
  {
   "cell_type": "code",
   "execution_count": 87,
   "metadata": {},
   "outputs": [],
   "source": [
    "# predict probabilities for test set\n",
    "yhat_probs = classifier.predict(X_ext_test)\n",
    "# predict crisp classes for test set\n",
    "#yhat_classes = model.predict_classes(X_test, verbose=0)\n",
    "yhat_classes = yhat_probs# np.argmax(yhat_probs,axis=1)"
   ]
  },
  {
   "cell_type": "code",
   "execution_count": 88,
   "metadata": {},
   "outputs": [
    {
     "name": "stdout",
     "output_type": "stream",
     "text": [
      "Accuracy: 0.972973\n",
      "Precision: 0.968750\n",
      "Recall: 0.977273\n",
      "F1 score: 0.972243\n"
     ]
    }
   ],
   "source": [
    "# accuracy: (tp + tn) / (p + n)\n",
    "accuracy = accuracy_score(Y_test, yhat_classes)\n",
    "print('Accuracy: %f' % accuracy)\n",
    "# precision tp / (tp + fp)\n",
    "precision = precision_score(Y_test, yhat_classes, average='macro')\n",
    "print('Precision: %f' % precision)\n",
    "# recall: tp / (tp + fn)\n",
    "recall = recall_score(Y_test, yhat_classes,average='macro')\n",
    "print('Recall: %f' % recall)\n",
    "# f1: 2 tp / (2 tp + fp + fn)\n",
    "f1 = f1_score(Y_test, yhat_classes, average='macro')\n",
    "print('F1 score: %f' % f1)"
   ]
  },
  {
   "cell_type": "code",
   "execution_count": 89,
   "metadata": {},
   "outputs": [
    {
     "name": "stdout",
     "output_type": "stream",
     "text": [
      "Cohens kappa: 0.944528\n",
      "[[21  1]\n",
      " [ 0 15]]\n"
     ]
    }
   ],
   "source": [
    "# kappa\n",
    "kappa = cohen_kappa_score(Y_test, yhat_classes)\n",
    "print('Cohens kappa: %f' % kappa)\n",
    "# ROC AUC\n",
    "#fprate, tprate, thresholds = roc_curve(Y_test, yhat_probs, average = 'macro')\n",
    "#print('ROC AUC: %f' % thresholds)\n",
    "# confusion matrix\n",
    "matrix = confusion_matrix(Y_test, yhat_classes)\n",
    "print(matrix)"
   ]
  },
  {
   "cell_type": "code",
   "execution_count": 90,
   "metadata": {},
   "outputs": [
    {
     "name": "stderr",
     "output_type": "stream",
     "text": [
      "C:\\Users\\hp\\Anaconda3\\lib\\site-packages\\sklearn\\metrics\\ranking.py:659: UndefinedMetricWarning: No positive samples in y_true, true positive value should be meaningless\n",
      "  UndefinedMetricWarning)\n"
     ]
    }
   ],
   "source": [
    "fpr = {}\n",
    "tpr = {}\n",
    "thresh ={}\n",
    "\n",
    "n_class = 5\n",
    "\n",
    "for i in range(n_class):    \n",
    "    fpr[i], tpr[i], thresh[i] = roc_curve(Y_test, yhat_classes, pos_label=i)"
   ]
  },
  {
   "cell_type": "code",
   "execution_count": 91,
   "metadata": {},
   "outputs": [
    {
     "data": {
      "image/png": "[encoded data removed]",
      "text/plain": [
       "<Figure size 432x288 with 1 Axes>"
      ]
     },
     "metadata": {
      "needs_background": "light"
     },
     "output_type": "display_data"
    }
   ],
   "source": [
    "# plotting    \n",
    "plt.plot(fpr[0], tpr[0], linestyle='--',color='orange', label='Class 0 vs Rest')\n",
    "plt.plot(fpr[1], tpr[1], linestyle='--',color='green', label='Class 1 vs Rest')\n",
    "plt.plot(fpr[2], tpr[2], linestyle='--',color='blue', label='Class 2 vs Rest')\n",
    "plt.plot(fpr[3], tpr[3], linestyle='--',color='red', label='Class 3 vs Rest')\n",
    "plt.plot(fpr[4], tpr[4], linestyle='--',color='black', label='Class 4 vs Rest')\n",
    "plt.title('Multiclass ROC curve')\n",
    "plt.xlabel('False Positive Rate')\n",
    "plt.ylabel('True Positive rate')\n",
    "plt.legend(loc='best')\n",
    "plt.savefig('Multiclass ROC',dpi=300); "
   ]
  },
  {
   "cell_type": "code",
   "execution_count": 93,
   "metadata": {},
   "outputs": [
    {
     "name": "stdout",
     "output_type": "stream",
     "text": [
      "Confusion matrix : \n",
      " [[21  1]\n",
      " [ 0 15]]\n"
     ]
    }
   ],
   "source": [
    "matrix = confusion_matrix(Y_test,yhat_classes, labels= [0, 1])\n",
    "print('Confusion matrix : \\n',matrix)"
   ]
  },
  {
   "cell_type": "code",
   "execution_count": 94,
   "metadata": {},
   "outputs": [
    {
     "name": "stdout",
     "output_type": "stream",
     "text": [
      "Classification report : \n",
      "               precision    recall  f1-score   support\n",
      "\n",
      "           0       1.00      0.95      0.98        22\n",
      "           1       0.94      1.00      0.97        15\n",
      "\n",
      "    accuracy                           0.97        37\n",
      "   macro avg       0.97      0.98      0.97        37\n",
      "weighted avg       0.97      0.97      0.97        37\n",
      "\n"
     ]
    }
   ],
   "source": [
    "matrix = classification_report(Y_test,yhat_classes, labels= [0, 1])\n",
    "print('Classification report : \\n',matrix)"
   ]
  },
  {
   "cell_type": "code",
   "execution_count": 96,
   "metadata": {},
   "outputs": [],
   "source": [
    "classifier.save('./models/Binary Classifcation/Without IP/CNN-DBN/DBN.pkl')"
   ]
  },
  {
   "cell_type": "code",
   "execution_count": 5,
   "metadata": {},
   "outputs": [],
   "source": [
    "#import tensorflow as tf\n",
    "#model1 = tf.keras.models.load_model('./models/Without IP address/CNN -LSTM')"
   ]
  },
  {
   "cell_type": "code",
   "execution_count": null,
   "metadata": {},
   "outputs": [],
   "source": []
  }
 ],
 "metadata": {
  "kernelspec": {
   "display_name": "Python 3",
   "language": "python",
   "name": "python3"
  },
  "language_info": {
   "codemirror_mode": {
    "name": "ipython",
    "version": 3
   },
   "file_extension": ".py",
   "mimetype": "text/x-python",
   "name": "python",
   "nbconvert_exporter": "python",
   "pygments_lexer": "ipython3",
   "version": "3.7.4"
  }
 },
 "nbformat": 4,
 "nbformat_minor": 2
}

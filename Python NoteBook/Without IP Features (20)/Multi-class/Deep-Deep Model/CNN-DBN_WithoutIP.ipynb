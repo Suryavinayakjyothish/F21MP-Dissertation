{
 "cells": [
  {
   "cell_type": "code",
   "execution_count": 1,
   "metadata": {},
   "outputs": [],
   "source": [
    "import pandas as pd\n",
    "import numpy as np\n",
    "from datetime import datetime\n",
    "import time\n",
    "import matplotlib.pyplot as plt\n",
    "import gc\n",
    "pd.set_option('display.max_columns', None)"
   ]
  },
  {
   "cell_type": "code",
   "execution_count": 2,
   "metadata": {},
   "outputs": [],
   "source": [
    "## for machine learning\n",
    "from sklearn import model_selection, preprocessing, feature_selection, ensemble, linear_model, metrics, decomposition\n",
    "## for plotting\n",
    "import matplotlib.pyplot as plt\n",
    "## for machine learning\n",
    "from sklearn import model_selection, preprocessing, feature_selection, ensemble, linear_model, metrics, decomposition\n",
    "from sklearn.preprocessing import LabelEncoder,Normalizer,StandardScaler, OneHotEncoder, MinMaxScaler\n",
    "from sklearn.feature_selection import mutual_info_classif\n",
    "from sklearn.metrics import confusion_matrix\n",
    "from sklearn.metrics import classification_report\n",
    "## for explainer\n",
    "#from lime import lime_tabular"
   ]
  },
  {
   "cell_type": "code",
   "execution_count": 3,
   "metadata": {},
   "outputs": [],
   "source": [
    "#a = pd.read_csv('drive/My Drive/Colab Notebooks/traffic/OpenStack/CIDDS-001-internal-week1.csv', low_memory=False, encoding='cp1252')\n",
    "#b = pd.read_csv('drive/My Drive/Colab Notebooks/traffic/OpenStack/CIDDS-001-internal-week2.csv', low_memory=False, encoding='cp1252')\n",
    "a = pd.read_csv('./CIDDS-001/traffic/OpenStack/CIDDS-001-internal-week1.csv', low_memory=False, encoding='cp1252')\n",
    "b = pd.read_csv('./CIDDS-001/traffic/OpenStack/CIDDS-001-internal-week2.csv', low_memory=False, encoding='cp1252')\n",
    "c =  pd.read_csv('./CIDDS-001/traffic/ExternalServer/CIDDS-001-external-week2.csv', low_memory=False, encoding='cp1252')\n",
    "d =  pd.read_csv('./CIDDS-001/traffic/ExternalServer/CIDDS-001-external-week3.csv', low_memory=False, encoding='cp1252')\n",
    "e =  pd.read_csv('./CIDDS-001/traffic/ExternalServer/CIDDS-001-external-week4.csv', low_memory=False, encoding='cp1252')\n",
    "#f =  pd.read_csv('./CIDDS-001/traffic/ExternalServer/CIDDS-001-external-week1.csv', low_memory=False, encoding='cp1252')\n",
    "#c = pd.read_csv('drive/My Drive/Colab Notebooks/traffic/OpenStack/CIDDS-001-internal-week3.csv', low_memory=False , encoding='cp1252')\n",
    "#d = pd.read_csv('drive/My Drive/Colab Notebooks/traffic/OpenStack/CIDDS-001-internal-week4.csv', low_memory=False, encoding='cp1252')\n",
    "#e =  pd.read_csv('drive/My Drive/Colab Notebooks/traffic/ExternalServer/CIDDS-001-external-week1.csv', low_memory=False, encoding='cp1252')\n",
    "#f =  pd.read_csv('drive/My Drive/Colab Notebooks/traffic/ExternalServer/CIDDS-001-external-week2.csv', low_memory=False, encoding='cp1252')\n",
    "#g =  pd.read_csv('drive/My Drive/Colab Notebooks/traffic/ExternalServer/CIDDS-001-external-week3.csv', low_memory=False, encoding='cp1252')\n",
    "#h =  pd.read_csv('drive/My Drive/Colab Notebooks/traffic/ExternalServer/CIDDS-001-external-week4.csv', low_memory=False, encoding='cp1252')"
   ]
  },
  {
   "cell_type": "code",
   "execution_count": 4,
   "metadata": {},
   "outputs": [
    {
     "name": "stdout",
     "output_type": "stream",
     "text": [
      "(10310733, 16)\n"
     ]
    },
    {
     "data": {
      "text/plain": [
       "(1795404, 16)"
      ]
     },
     "execution_count": 4,
     "metadata": {},
     "output_type": "execute_result"
    }
   ],
   "source": [
    "print(b.shape)\n",
    "#a.drop(a[a['attackType'] == '---'].index, axis = 0, inplace= True) \n",
    "b.drop(b[b['attackType'] == '---'].index, axis = 0, inplace= True)  \n",
    "c.drop(c[c['attackType'] == '---'].index, axis = 0, inplace= True)  \n",
    "d.drop(d[d['attackType'] == '---'].index, axis = 0, inplace= True)  \n",
    "#e.drop(e[e['attackType'] == '---'].index, axis = 0, inplace= True)  \n",
    "b.shape"
   ]
  },
  {
   "cell_type": "code",
   "execution_count": 5,
   "metadata": {},
   "outputs": [],
   "source": [
    "data_external = pd.concat([c,d,e], axis = 0)\n",
    "data_external.reset_index(drop= True, inplace= True)"
   ]
  },
  {
   "cell_type": "code",
   "execution_count": 6,
   "metadata": {},
   "outputs": [],
   "source": [
    "#to Increment attackID values\n",
    "data_external['attackID'] = data_external['attackID'].apply(lambda x: str(int(x) + 70) if x != '---' else x)"
   ]
  },
  {
   "cell_type": "code",
   "execution_count": 7,
   "metadata": {},
   "outputs": [],
   "source": [
    "def convert_bytes(df):\n",
    "    if 'M' in df:\n",
    "        df = df.split('M')\n",
    "        df = df[0].strip()\n",
    "        df = float(df) * 1000000\n",
    "    elif 'B' in df:\n",
    "        df = df.split('B')\n",
    "        df = df[0].strip()\n",
    "        df =  float(df) * 1000000000\n",
    "    else: \n",
    "        df =float(df)\n",
    "    return df"
   ]
  },
  {
   "cell_type": "code",
   "execution_count": 8,
   "metadata": {},
   "outputs": [
    {
     "data": {
      "text/plain": [
       "0"
      ]
     },
     "execution_count": 8,
     "metadata": {},
     "output_type": "execute_result"
    }
   ],
   "source": [
    "data = pd.concat([a,b,data_external], axis = 0)\n",
    "data.reset_index(drop= True, inplace= True)\n",
    "data['Bytes'] = data['Bytes'].apply(lambda x: convert_bytes(x))\n",
    "columns = ['Src Pt', 'Dst Pt','Tos','Flows','Packets', 'Bytes']\n",
    "for i in columns:\n",
    "    data[i] = pd.to_numeric(data[i]);\n",
    "del columns\n",
    "del a,b,c,d,e, data_external\n",
    "gc.collect()"
   ]
  },
  {
   "cell_type": "code",
   "execution_count": 9,
   "metadata": {},
   "outputs": [],
   "source": [
    "#Converts Hexadecimal value to Binary\n",
    "def hex_to_binary(hexdata):\n",
    "    scale = 16 ## equals to hexadecimal\n",
    "    num_of_bits = 9\n",
    "    return bin(int(hexdata, scale))[2:].zfill(num_of_bits);\n",
    "#Converts TCP flags to Binary\n",
    "def to_Binary(x):\n",
    "    l = 0\n",
    "    x = '...' + x\n",
    "    x = list(x)\n",
    "    for i in x:\n",
    "        if (i=='.'):\n",
    "            x[l]= '0'\n",
    "        else:\n",
    "            x[l] = '1'\n",
    "        l = l +1\n",
    "    return ''.join(x)\n",
    "#Converts the 'Flags' column to 9 indiviual columns (manual oneshot encoding)\n",
    "def flag_convert(df):  \n",
    "   # df['Flags'] = df['Flags'].apply(lambda x: (list(x)))\n",
    "   # temp = df['Flags'].apply(lambda x: toBinary(x))\n",
    "    hex_values = list(df[(df['Flags'].str.contains(\"0x\", na=False))]['Flags'].unique())\n",
    "    flag_values = list(df[~(df['Flags'].str.contains(\"0x\", na=False))]['Flags'].unique())\n",
    "    binary_values = {}\n",
    "    for i in hex_values:\n",
    "         binary_values[i] = (hex_to_binary(i))\n",
    "    for i in flag_values:\n",
    "         binary_values[i] = (to_Binary(i))\n",
    "    temp = df['Flags'].replace(binary_values)\n",
    "#temp = temp.apply(lambda x: pd.Series(x)) \n",
    "    temp = pd.DataFrame(temp.apply(list).tolist())\n",
    "#temp = pd.DataFrame(temp)\n",
    "#a = a.iloc[: , 1:]\n",
    "   # print(temp.head())\n",
    "    temp.columns = ['N','C','E','U' ,'A','P','R','S','F']\n",
    "    for i in temp.columns:\n",
    "        temp[i] = pd.to_numeric(temp[i]);\n",
    "    temp = temp.reset_index(drop=True)\n",
    "    df = df.reset_index(drop=True)\n",
    "    df = pd.concat([df, temp], axis = 1)\n",
    "    return df;"
   ]
  },
  {
   "cell_type": "code",
   "execution_count": 10,
   "metadata": {},
   "outputs": [],
   "source": [
    "#make a IP_pairs \n",
    "def make_pair(df):\n",
    "    ip_pair = df['Src IP Addr'] +'/' +df['Dst IP Addr']\n",
    "    source_ip = df['Src IP Addr'].unique().tolist()\n",
    "    destination_ip = df['Dst IP Addr'].unique().tolist()\n",
    "   # df = df.drop(columns = ['Src IP Addr', 'Dst IP Addr'])\n",
    "    df.insert(1, ' IP Pair', ip_pair)\n",
    "    return df\n",
    "\n",
    "def check_inverse(df):\n",
    "    list_pairs = df[' IP Pair'].unique()\n",
    "    tuple_pair = []\n",
    "    for i in list_pairs:\n",
    "        tuple_pair.append(tuple((i.split('/'))))\n",
    "    dic_store = {}\n",
    "    for i in tuple_pair:\n",
    "        if (i  not in dic_store.keys()) and (i[::-1] not in dic_store.keys()):\n",
    "            dic_store[i] = i[0] + '/' +i[1]\n",
    "    print(len(dic_store.keys()))\n",
    "    dic_final = {}\n",
    "    for i in dic_store.keys():\n",
    "        dic_final[i[0] + '/' +i[1]] = dic_store[i]\n",
    "        dic_final[i[1] + '/' +i[0]] = dic_store[i]\n",
    "    df[' IP Pair'] = df[' IP Pair'].map(dic_final)               \n",
    "    return df"
   ]
  },
  {
   "cell_type": "code",
   "execution_count": null,
   "metadata": {},
   "outputs": [],
   "source": []
  },
  {
   "cell_type": "code",
   "execution_count": 11,
   "metadata": {},
   "outputs": [],
   "source": [
    "def normalize(df):\n",
    "    numerics = ['int16', 'int32', 'int64', 'float16', 'float32', 'float64']\n",
    "    columns = data.select_dtypes(include=numerics).columns\n",
    "    normalized = df[columns]\n",
    "    print(columns)\n",
    "    transformed = MinMaxScaler().fit(normalized).transform(normalized)\n",
    "    transformed = pd.DataFrame(transformed)\n",
    "    j = 0\n",
    "    col = {}\n",
    "    for i in columns:\n",
    "        col[j] = i\n",
    "        j=j+1\n",
    "    transformed = transformed.rename(columns = col)\n",
    "    transformed = transformed.reset_index()\n",
    "    for i in columns:\n",
    "        df[i] = transformed[i].to_numpy()\n",
    "    return df;"
   ]
  },
  {
   "cell_type": "code",
   "execution_count": 12,
   "metadata": {},
   "outputs": [],
   "source": [
    "def one_shot(df):\n",
    "    label_encoder = LabelEncoder()\n",
    "    #df.astype({'attackType': 'str'})\n",
    "    df['attackType'] = label_encoder.fit_transform(df['attackType'])\n",
    "    print(list(label_encoder.classes_))\n",
    "    print(list(label_encoder.transform(label_encoder.classes_)))\n",
    "    \n",
    "#    onehot_encoder = OneHotEncoder()\n",
    "#    onehot_encoder.fit(df.attackType.to_numpy().reshape(-1, 1))\n",
    "#    proto = onehot_encoder.transform(df.attackType.to_numpy().reshape(-1, 1))\n",
    "#    proto = pd.DataFrame.sparse.from_spmatrix(proto)\n",
    "#    proto.astype('int32')\n",
    "#    proto.columns = label_encoder.classes_\n",
    "#    df = pd.concat([df, proto], axis = 1) \n",
    "    \n",
    "    \n",
    "    df['Proto'] = label_encoder.fit_transform(df['Proto'])\n",
    "    print(list(label_encoder.classes_))\n",
    "    print(list(label_encoder.transform(label_encoder.classes_)))\n",
    "    \n",
    "    onehot_encoder1 = OneHotEncoder()\n",
    "    onehot_encoder1.fit(df.Proto.to_numpy().reshape(-1, 1))\n",
    "    proto = onehot_encoder1.transform(df.Proto.to_numpy().reshape(-1, 1))\n",
    "    proto = pd.DataFrame.sparse.from_spmatrix(proto)\n",
    "    proto.astype('int32')\n",
    "    proto.columns = label_encoder.classes_\n",
    "   # print(proto.head(1))\n",
    "    df = pd.concat([df, proto], axis = 1)\n",
    "    return df;"
   ]
  },
  {
   "cell_type": "code",
   "execution_count": 13,
   "metadata": {},
   "outputs": [],
   "source": [
    "def drop_columns(df):\n",
    "    return df.drop(columns = ['Date first seen', ' IP Pair', 'Flows', 'class', 'attackID','Flags',\n",
    "                              'attackDescription', 'Src IP Addr', 'Dst IP Addr','Proto'], axis =1)"
   ]
  },
  {
   "cell_type": "code",
   "execution_count": 14,
   "metadata": {},
   "outputs": [],
   "source": [
    "#Aplit IP address into features, 7 features\n",
    "def split_to_net(IP_address):\n",
    "    IP_list = IP_address.split(\".\")\n",
    "    needed_len = 7\n",
    "    needed_len = needed_len - len(IP_list)\n",
    "    for i in range(0,needed_len,1):\n",
    "        IP_list.append('0')\n",
    "    return IP_list\n",
    "#replace unknown IP address, and convert to columns\n",
    "def IP_split(df): \n",
    "    replace = {\"ATTACKER1\":\"0.0.0.0\",\n",
    "           \"ATTACKER2\":\"0.0.0.0\",\n",
    "           \"ATTACKER3\":\"0.0.0.0\",\n",
    "           \"EXT_SERVER\": \"0.0.0.0.1\",\n",
    "          \"OPENSTACK_NET\": \"0.0.0.0.0.1\",\n",
    "          \"DNS\": \"0.0.0.0.0.0.1\"}\n",
    "    df = df.replace({\"Src IP Addr\": replace, \"Dst IP Addr\": replace}, value=None)\n",
    "    temp_source = df[\"Src IP Addr\"].apply(lambda x: \"0.0.0.0.0.0.0\" if ('_') in x else x)\n",
    "    temp_des = df['Dst IP Addr'].apply(lambda x: \"0.0.0.0.0.0.0\" if ('_') in x else x)\n",
    "   # sourceIP = list(df[\"Src IP Addr\"].unique())\n",
    "   # destIP = list(df[\"Dst IP Addr\"].unique())\n",
    "   # sourceIP_values = {}\n",
    "   # desIP_values = {}\n",
    "   # for i in sourceIP:\n",
    "   #      sourceIP_values[i] = (split_to_net(i))\n",
    "   # for i in destIP:\n",
    "   #      desIP_values[i] = (split_to_net(i))\n",
    "    #print(sourceIP_values)\n",
    "   # print(desIP_values)\n",
    "#for Source IP\n",
    "    temp_source = temp_source.apply(lambda x: split_to_net(x) )\n",
    "    temp_source = pd.DataFrame(temp_source.apply(list).tolist())\n",
    "    temp_source.columns = ['sourceIP_feature 1','sourceIP_feature 2','sourceIP_feature 3','sourceIP_feature 4' ,\n",
    "                    'sourceEXT_SERVER','sourceOPENSTACK_NET','sourceDNS']\n",
    "    for i in temp_source.columns:\n",
    "        temp_source[i] = pd.to_numeric(temp_source[i]);\n",
    "    temp_source = temp_source.reset_index(drop=True)\n",
    "    df = df.reset_index(drop=True)\n",
    "    df = pd.concat([df, temp_source], axis = 1)\n",
    "    #for Destination IP\n",
    "    temp_des = temp_des.apply(lambda x: split_to_net(x) )\n",
    "    temp_des = pd.DataFrame(temp_des.apply(list).tolist())\n",
    "    temp_des.columns = ['destIP_feature 1','destIP_feature 2','destIP_feature 3','destIP_feature 4' ,\n",
    "                    'destEXT_SERVER','destOPENSTACK_NET','destDNS']\n",
    "   # for i in temp_des.columns:\n",
    "       # temp_des[i] = pd.to_numeric(temp_des[i]);\n",
    "    temp_des = temp_des.reset_index(drop=True)\n",
    "    df = df.reset_index(drop=True)\n",
    "    df = pd.concat([df, temp_des], axis = 1)\n",
    "    return df;"
   ]
  },
  {
   "cell_type": "code",
   "execution_count": 15,
   "metadata": {},
   "outputs": [
    {
     "name": "stdout",
     "output_type": "stream",
     "text": [
      "59362\n"
     ]
    }
   ],
   "source": [
    "data = make_pair(data)\n",
    "data = check_inverse(data)"
   ]
  },
  {
   "cell_type": "code",
   "execution_count": 16,
   "metadata": {},
   "outputs": [],
   "source": [
    "#data = IP_split(data)"
   ]
  },
  {
   "cell_type": "code",
   "execution_count": 17,
   "metadata": {},
   "outputs": [
    {
     "name": "stdout",
     "output_type": "stream",
     "text": [
      "Index(['Duration', 'Src Pt', 'Dst Pt', 'Packets', 'Bytes', 'Flows', 'Tos'], dtype='object')\n",
      "['---', 'bruteForce', 'dos', 'pingScan', 'portScan']\n",
      "[0, 1, 2, 3, 4]\n",
      "['GRE  ', 'ICMP ', 'IGMP ', 'TCP  ', 'UDP  ']\n",
      "[0, 1, 2, 3, 4]\n"
     ]
    },
    {
     "name": "stderr",
     "output_type": "stream",
     "text": [
      "C:\\Users\\hp\\Anaconda3\\lib\\site-packages\\sklearn\\preprocessing\\_encoders.py:415: FutureWarning: The handling of integer data will change in version 0.22. Currently, the categories are determined based on the range [0, max(values)], while in the future they will be determined based on the unique values.\n",
      "If you want the future behaviour and silence this warning, you can specify \"categories='auto'\".\n",
      "In case you used a LabelEncoder before this OneHotEncoder to convert the categories to integers, then you can now use the OneHotEncoder directly.\n",
      "  warnings.warn(msg, FutureWarning)\n"
     ]
    }
   ],
   "source": [
    "data = normalize(data)\n",
    "data =  one_shot(data) \n",
    "#data = normalize(data)"
   ]
  },
  {
   "cell_type": "code",
   "execution_count": 18,
   "metadata": {},
   "outputs": [],
   "source": [
    "from datetime import datetime\n",
    "def unix_time(df):\n",
    "  #  df[' Timestamp'] = df[' Timestamp'].apply(lambda x: x + ':00' if len(x) != 19 else x)\n",
    "   # df[' Timestamp'] = df[' Timestamp'].apply(lambda x: x[0 : 5 : ] + x[7 : :] if len(x) != 19 else x[0 : 7 : ] + x[9 : :])\n",
    "    df['Date first seen'] = df['Date first seen'].apply(lambda x: datetime.strptime(x,'%Y-%m-%d %H:%M:%S.%f'))\n",
    "    df['Date first seen'] = df['Date first seen'].apply(lambda x: x.timestamp()*1000)\n",
    "    return df;"
   ]
  },
  {
   "cell_type": "code",
   "execution_count": 19,
   "metadata": {},
   "outputs": [],
   "source": [
    "def normal_profile(grouped):\n",
    "    grouped['---'] = unix_time(grouped['---'])\n",
    "    start_time = int(grouped['---'].head(1)['Date first seen'].values[0])\n",
    "    end_time = int(grouped['---'].tail(1)['Date first seen'].values[0])\n",
    "#date_bins = pd.IntervalIndex.from_tuples(\n",
    "#        [(i, i+3600000) for i in range(start_time, end_time, 3600000)],\n",
    "#        closed=\"left\")\n",
    "#date_labels = [f\"{i}\" for i in range(1, len(date_bins)+1, 1)]\n",
    "    normal_data = dict(tuple( grouped['---'].groupby( pd.cut(\n",
    "            grouped['---']['Date first seen'],\n",
    "               np.arange(start_time, end_time, 3*3600000)))))\n",
    "    del grouped['---']\n",
    "    num = []\n",
    "    for i in grouped_data.keys():\n",
    "          num.append(len(grouped_data[i]))\n",
    "    print(min(num))\n",
    "    num = max(num)\n",
    "    print(num)\n",
    "    print(len(grouped.keys()))\n",
    "    grouped = {**grouped, **normal_data}\n",
    "    print(len(grouped.keys()))\n",
    "    return grouped, num;"
   ]
  },
  {
   "cell_type": "code",
   "execution_count": 20,
   "metadata": {},
   "outputs": [
    {
     "data": {
      "text/plain": [
       "0"
      ]
     },
     "execution_count": 20,
     "metadata": {},
     "output_type": "execute_result"
    }
   ],
   "source": [
    "grouped_data= dict(tuple(data.groupby(['attackID'])))\n",
    "del data\n",
    "gc.collect()"
   ]
  },
  {
   "cell_type": "code",
   "execution_count": 21,
   "metadata": {
    "scrolled": true
   },
   "outputs": [
    {
     "name": "stdout",
     "output_type": "stream",
     "text": [
      "---: 7195669 : 0\n",
      "Attack ID: 25; Lenght of Attack: 201; Attack Type: 1\n",
      "Attack ID: 27; Lenght of Attack: 680; Attack Type: 1\n",
      "Attack ID: 30; Lenght of Attack: 46; Attack Type: 1\n",
      "Attack ID: 32; Lenght of Attack: 335; Attack Type: 1\n",
      "Attack ID: 39; Lenght of Attack: 364; Attack Type: 1\n",
      "Attack ID: 54; Lenght of Attack: 183; Attack Type: 1\n",
      "Attack ID: 55; Lenght of Attack: 757; Attack Type: 1\n",
      "Attack ID: 56; Lenght of Attack: 427; Attack Type: 1\n",
      "Attack ID: 61; Lenght of Attack: 705; Attack Type: 1\n",
      "Attack ID: 62; Lenght of Attack: 574; Attack Type: 1\n",
      "Attack ID: 64; Lenght of Attack: 480; Attack Type: 1\n",
      "Attack ID: 70; Lenght of Attack: 240; Attack Type: 1\n",
      "Attack ID: 73; Lenght of Attack: 200; Attack Type: 1\n",
      "Attack ID: 74; Lenght of Attack: 200; Attack Type: 1\n",
      "Attack ID: 75; Lenght of Attack: 200; Attack Type: 1\n",
      "Attack ID: 76; Lenght of Attack: 168; Attack Type: 1\n",
      "Attack ID: 78; Lenght of Attack: 200; Attack Type: 1\n",
      "Attack ID: 79; Lenght of Attack: 200; Attack Type: 1\n",
      "Attack ID: 81; Lenght of Attack: 200; Attack Type: 1\n",
      "Attack ID: 83; Lenght of Attack: 200; Attack Type: 1\n",
      "Attack ID: 84; Lenght of Attack: 200; Attack Type: 1\n",
      "Attack ID: 87; Lenght of Attack: 200; Attack Type: 1\n",
      "Attack ID: 88; Lenght of Attack: 200; Attack Type: 1\n",
      "Attack ID: 90; Lenght of Attack: 200; Attack Type: 1\n",
      "Attack ID: 91; Lenght of Attack: 40; Attack Type: 1\n",
      "Attack ID: 92; Lenght of Attack: 40; Attack Type: 1\n",
      "dos : 18\n",
      "Attack ID: 16; Lenght of Attack: 261003; Attack Type: 2\n",
      "Attack ID: 18; Lenght of Attack: 295302; Attack Type: 2\n",
      "Attack ID: 23; Lenght of Attack: 72788; Attack Type: 2\n",
      "Attack ID: 26; Lenght of Attack: 74471; Attack Type: 2\n",
      "Attack ID: 28; Lenght of Attack: 36306; Attack Type: 2\n",
      "Attack ID: 3; Lenght of Attack: 37118; Attack Type: 2\n",
      "Attack ID: 31; Lenght of Attack: 144845; Attack Type: 2\n",
      "Attack ID: 4; Lenght of Attack: 72063; Attack Type: 2\n",
      "Attack ID: 42; Lenght of Attack: 184040; Attack Type: 2\n",
      "Attack ID: 44; Lenght of Attack: 261169; Attack Type: 2\n",
      "Attack ID: 45; Lenght of Attack: 224960; Attack Type: 2\n",
      "Attack ID: 46; Lenght of Attack: 111720; Attack Type: 2\n",
      "Attack ID: 53; Lenght of Attack: 516299; Attack Type: 2\n",
      "Attack ID: 59; Lenght of Attack: 110484; Attack Type: 2\n",
      "Attack ID: 6; Lenght of Attack: 37134; Attack Type: 2\n",
      "Attack ID: 60; Lenght of Attack: 333627; Attack Type: 2\n",
      "Attack ID: 63; Lenght of Attack: 148641; Attack Type: 2\n",
      "Attack ID: 9; Lenght of Attack: 37057; Attack Type: 2\n",
      "pingScan: 16\n",
      "Attack ID: 10; Lenght of Attack: 311; Attack Type: 3\n",
      "Attack ID: 13; Lenght of Attack: 513; Attack Type: 3\n",
      "Attack ID: 15; Lenght of Attack: 64; Attack Type: 3\n",
      "Attack ID: 22; Lenght of Attack: 295; Attack Type: 3\n",
      "Attack ID: 24; Lenght of Attack: 466; Attack Type: 3\n",
      "Attack ID: 33; Lenght of Attack: 307; Attack Type: 3\n",
      "Attack ID: 35; Lenght of Attack: 263; Attack Type: 3\n",
      "Attack ID: 36; Lenght of Attack: 494; Attack Type: 3\n",
      "Attack ID: 38; Lenght of Attack: 267; Attack Type: 3\n",
      "Attack ID: 41; Lenght of Attack: 379; Attack Type: 3\n",
      "Attack ID: 52; Lenght of Attack: 607; Attack Type: 3\n",
      "Attack ID: 57; Lenght of Attack: 522; Attack Type: 3\n",
      "Attack ID: 58; Lenght of Attack: 510; Attack Type: 3\n",
      "Attack ID: 65; Lenght of Attack: 373; Attack Type: 3\n",
      "Attack ID: 66; Lenght of Attack: 359; Attack Type: 3\n",
      "Attack ID: 69; Lenght of Attack: 360; Attack Type: 3\n",
      "portScan : 32\n",
      "Attack ID: 1; Lenght of Attack: 7657; Attack Type: 4\n",
      "Attack ID: 11; Lenght of Attack: 17401; Attack Type: 4\n",
      "Attack ID: 12; Lenght of Attack: 11526; Attack Type: 4\n",
      "Attack ID: 14; Lenght of Attack: 13807; Attack Type: 4\n",
      "Attack ID: 17; Lenght of Attack: 13338; Attack Type: 4\n",
      "Attack ID: 19; Lenght of Attack: 11672; Attack Type: 4\n",
      "Attack ID: 2; Lenght of Attack: 1927; Attack Type: 4\n",
      "Attack ID: 20; Lenght of Attack: 11748; Attack Type: 4\n",
      "Attack ID: 21; Lenght of Attack: 5113; Attack Type: 4\n",
      "Attack ID: 29; Lenght of Attack: 19732; Attack Type: 4\n",
      "Attack ID: 34; Lenght of Attack: 12909; Attack Type: 4\n",
      "Attack ID: 37; Lenght of Attack: 26114; Attack Type: 4\n",
      "Attack ID: 40; Lenght of Attack: 11609; Attack Type: 4\n",
      "Attack ID: 43; Lenght of Attack: 2143; Attack Type: 4\n",
      "Attack ID: 47; Lenght of Attack: 13420; Attack Type: 4\n",
      "Attack ID: 48; Lenght of Attack: 13600; Attack Type: 4\n",
      "Attack ID: 49; Lenght of Attack: 17629; Attack Type: 4\n",
      "Attack ID: 5; Lenght of Attack: 4948; Attack Type: 4\n",
      "Attack ID: 50; Lenght of Attack: 4589; Attack Type: 4\n",
      "Attack ID: 51; Lenght of Attack: 11968; Attack Type: 4\n",
      "Attack ID: 67; Lenght of Attack: 13426; Attack Type: 4\n",
      "Attack ID: 68; Lenght of Attack: 5632; Attack Type: 4\n",
      "Attack ID: 7; Lenght of Attack: 9586; Attack Type: 4\n",
      "Attack ID: 71; Lenght of Attack: 2008; Attack Type: 4\n",
      "Attack ID: 72; Lenght of Attack: 2002; Attack Type: 4\n",
      "Attack ID: 77; Lenght of Attack: 6410; Attack Type: 4\n",
      "Attack ID: 8; Lenght of Attack: 4424; Attack Type: 4\n",
      "Attack ID: 80; Lenght of Attack: 1991; Attack Type: 4\n",
      "Attack ID: 82; Lenght of Attack: 1370; Attack Type: 4\n",
      "Attack ID: 85; Lenght of Attack: 1984; Attack Type: 4\n",
      "Attack ID: 86; Lenght of Attack: 2002; Attack Type: 4\n",
      "Attack ID: 89; Lenght of Attack: 952; Attack Type: 4\n"
     ]
    }
   ],
   "source": [
    "no_1 = []\n",
    "no_2 = []\n",
    "no_3 = []\n",
    "no_4 = []\n",
    "for i in grouped_data.keys():\n",
    "   \n",
    "    if grouped_data[i]['attackType'].unique()[0] == 0:\n",
    "        print(f\"{i}: {len(grouped_data[i])} : {grouped_data[i]['attackType'].unique()[0]}\")\n",
    "    if grouped_data[i]['attackType'].unique()[0] == 1:\n",
    "              no_1.append(i)\n",
    "    if grouped_data[i]['attackType'].unique()[0] == 2:\n",
    "              no_2.append(i)\n",
    "    if grouped_data[i]['attackType'].unique()[0] == 3:\n",
    "              no_3.append(i)\n",
    "    if grouped_data[i]['attackType'].unique()[0] == 4:\n",
    "              no_4.append(i)\n",
    "for i in no_1:\n",
    "     print(f\"Attack ID: {i}; Lenght of Attack: {len(grouped_data[i])}; Attack Type: {grouped_data[i]['attackType'].unique()[0]}\")\n",
    "print(f\"dos : {len(no_2)}\")\n",
    "for i in no_2:\n",
    "     print(f\"Attack ID: {i}; Lenght of Attack: {len(grouped_data[i])}; Attack Type: {grouped_data[i]['attackType'].unique()[0]}\")\n",
    "print(f\"pingScan: {len(no_3)}\")\n",
    "for i in no_3:\n",
    "     print(f\"Attack ID: {i}; Lenght of Attack: {len(grouped_data[i])}; Attack Type: {grouped_data[i]['attackType'].unique()[0]}\")\n",
    "print(f\"portScan : {len(no_4)}\")\n",
    "for i in no_4:\n",
    "     print(f\"Attack ID: {i}; Lenght of Attack: {len(grouped_data[i])}; Attack Type: {grouped_data[i]['attackType'].unique()[0]}\")\n"
   ]
  },
  {
   "cell_type": "code",
   "execution_count": 22,
   "metadata": {},
   "outputs": [
    {
     "data": {
      "text/plain": [
       "20"
      ]
     },
     "execution_count": 22,
     "metadata": {},
     "output_type": "execute_result"
    }
   ],
   "source": [
    "del no_1\n",
    "del no_2\n",
    "del no_3\n",
    "del no_4\n",
    "gc.collect()"
   ]
  },
  {
   "cell_type": "code",
   "execution_count": 23,
   "metadata": {},
   "outputs": [],
   "source": [
    "def del_largeInstances(dic, length):\n",
    "    remove_ID = []\n",
    "    for i in dic.keys():\n",
    "        if (i != '---'):\n",
    "            if(len(dic[i]) >= length):\n",
    "                remove_ID.append(i)\n",
    "    print(len(remove_ID))\n",
    "    removed_attacks = {}\n",
    "    for i in remove_ID:\n",
    "        removed_attacks[i] = dic[i]\n",
    "        del dic[i]\n",
    "    return dic;"
   ]
  },
  {
   "cell_type": "code",
   "execution_count": 24,
   "metadata": {},
   "outputs": [
    {
     "name": "stdout",
     "output_type": "stream",
     "text": [
      "19\n"
     ]
    }
   ],
   "source": [
    "grouped_data = del_largeInstances(grouped_data, 20000)"
   ]
  },
  {
   "cell_type": "code",
   "execution_count": 25,
   "metadata": {},
   "outputs": [
    {
     "name": "stdout",
     "output_type": "stream",
     "text": [
      "40\n",
      "19732\n",
      "73\n",
      "350\n"
     ]
    }
   ],
   "source": [
    "#grouped_data, num = normal_profile(grouped_data)\n",
    "for i in grouped_data.keys():\n",
    "    grouped_data[i] = flag_convert(grouped_data[i])\n",
    "   # grouped_data[i] =  drop_columns(grouped_data[i])\n",
    "grouped_data, num = normal_profile(grouped_data)\n",
    "for i in grouped_data.keys():\n",
    "   # grouped_data[i] = flag_convert(grouped_data[i])\n",
    "    grouped_data[i] =  drop_columns(grouped_data[i])"
   ]
  },
  {
   "cell_type": "code",
   "execution_count": 26,
   "metadata": {},
   "outputs": [
    {
     "name": "stdout",
     "output_type": "stream",
     "text": [
      "1 : False\n",
      "10 : False\n",
      "11 : False\n",
      "12 : False\n",
      "13 : False\n",
      "14 : False\n",
      "15 : False\n",
      "17 : False\n",
      "19 : False\n",
      "2 : False\n",
      "20 : False\n",
      "21 : False\n",
      "22 : False\n",
      "24 : False\n",
      "25 : False\n",
      "27 : False\n",
      "29 : False\n",
      "30 : False\n",
      "32 : False\n",
      "33 : False\n",
      "34 : False\n",
      "35 : False\n",
      "36 : False\n",
      "38 : False\n",
      "39 : False\n",
      "40 : False\n",
      "41 : False\n",
      "43 : False\n",
      "47 : False\n",
      "48 : False\n",
      "49 : False\n",
      "5 : False\n",
      "50 : False\n",
      "51 : False\n",
      "52 : False\n",
      "54 : False\n",
      "55 : False\n",
      "56 : False\n",
      "57 : False\n",
      "58 : False\n",
      "61 : False\n",
      "62 : False\n",
      "64 : False\n",
      "65 : False\n",
      "66 : False\n",
      "67 : False\n",
      "68 : False\n",
      "69 : False\n",
      "7 : False\n",
      "70 : False\n",
      "71 : False\n",
      "72 : False\n",
      "73 : False\n",
      "74 : False\n",
      "75 : False\n",
      "76 : False\n",
      "77 : False\n",
      "78 : False\n",
      "79 : False\n",
      "8 : False\n",
      "80 : False\n",
      "81 : False\n",
      "82 : False\n",
      "83 : False\n",
      "84 : False\n",
      "85 : False\n",
      "86 : False\n",
      "87 : False\n",
      "88 : False\n",
      "89 : False\n",
      "90 : False\n",
      "91 : False\n",
      "92 : False\n",
      "(1489536076632, 1489546876632] : False\n",
      "(1489546876632, 1489557676632] : False\n",
      "(1489557676632, 1489568476632] : False\n",
      "(1489568476632, 1489579276632] : False\n",
      "(1489579276632, 1489590076632] : False\n",
      "(1489590076632, 1489600876632] : False\n",
      "(1489600876632, 1489611676632] : False\n",
      "(1489611676632, 1489622476632] : False\n",
      "(1489622476632, 1489633276632] : False\n",
      "(1489633276632, 1489644076632] : False\n",
      "(1489644076632, 1489654876632] : False\n",
      "(1489654876632, 1489665676632] : False\n",
      "(1489665676632, 1489676476632] : False\n",
      "(1489676476632, 1489687276632] : False\n",
      "(1489687276632, 1489698076632] : False\n",
      "(1489698076632, 1489708876632] : False\n",
      "(1489708876632, 1489719676632] : False\n",
      "(1489719676632, 1489730476632] : False\n",
      "(1489730476632, 1489741276632] : False\n",
      "(1489741276632, 1489752076632] : False\n",
      "(1489752076632, 1489762876632] : False\n",
      "(1489762876632, 1489773676632] : False\n",
      "(1489773676632, 1489784476632] : False\n",
      "(1489784476632, 1489795276632] : False\n",
      "(1489795276632, 1489806076632] : False\n",
      "(1489806076632, 1489816876632] : False\n",
      "(1489816876632, 1489827676632] : False\n",
      "(1489827676632, 1489838476632] : False\n",
      "(1489838476632, 1489849276632] : False\n",
      "(1489849276632, 1489860076632] : False\n",
      "(1489860076632, 1489870876632] : False\n",
      "(1489870876632, 1489881676632] : False\n",
      "(1489881676632, 1489892476632] : False\n",
      "(1489892476632, 1489903276632] : False\n",
      "(1489903276632, 1489914076632] : False\n",
      "(1489914076632, 1489924876632] : False\n",
      "(1489924876632, 1489935676632] : False\n",
      "(1489935676632, 1489946476632] : False\n",
      "(1489946476632, 1489957276632] : False\n",
      "(1489957276632, 1489968076632] : False\n",
      "(1489968076632, 1489978876632] : False\n",
      "(1489978876632, 1489989676632] : False\n",
      "(1489989676632, 1490000476632] : False\n",
      "(1490000476632, 1490011276632] : False\n",
      "(1490011276632, 1490022076632] : False\n",
      "(1490022076632, 1490032876632] : False\n",
      "(1490032876632, 1490043676632] : False\n",
      "(1490043676632, 1490054476632] : False\n",
      "(1490054476632, 1490065276632] : False\n",
      "(1490065276632, 1490076076632] : False\n",
      "(1490076076632, 1490086876632] : False\n",
      "(1490086876632, 1490097676632] : False\n",
      "(1490097676632, 1490108476632] : False\n",
      "(1490108476632, 1490119276632] : False\n",
      "(1490119276632, 1490130076632] : False\n",
      "(1490130076632, 1490140876632] : False\n",
      "(1490140876632, 1490151676632] : False\n",
      "(1490151676632, 1490162476632] : False\n",
      "(1490162476632, 1490173276632] : False\n",
      "(1490173276632, 1490184076632] : False\n",
      "(1490184076632, 1490194876632] : False\n",
      "(1490194876632, 1490205676632] : False\n",
      "(1490205676632, 1490216476632] : False\n",
      "(1490216476632, 1490227276632] : False\n",
      "(1490227276632, 1490238076632] : False\n",
      "(1490238076632, 1490248876632] : False\n",
      "(1490248876632, 1490259676632] : False\n",
      "(1490259676632, 1490270476632] : False\n",
      "(1490270476632, 1490281276632] : False\n",
      "(1490281276632, 1490292076632] : False\n",
      "(1490292076632, 1490302876632] : False\n",
      "(1490302876632, 1490313676632] : False\n",
      "(1490313676632, 1490324476632] : False\n",
      "(1490324476632, 1490335276632] : False\n",
      "(1490335276632, 1490346076632] : False\n",
      "(1490346076632, 1490356876632] : False\n",
      "(1490356876632, 1490367676632] : False\n",
      "(1490367676632, 1490378476632] : False\n",
      "(1490378476632, 1490389276632] : False\n",
      "(1490389276632, 1490400076632] : False\n",
      "(1490400076632, 1490410876632] : False\n",
      "(1490410876632, 1490421676632] : False\n",
      "(1490421676632, 1490432476632] : False\n",
      "(1490432476632, 1490443276632] : False\n",
      "(1490443276632, 1490454076632] : False\n",
      "(1490454076632, 1490464876632] : False\n",
      "(1490464876632, 1490475676632] : False\n",
      "(1490475676632, 1490486476632] : False\n",
      "(1490486476632, 1490497276632] : False\n",
      "(1490497276632, 1490508076632] : False\n",
      "(1490508076632, 1490518876632] : False\n",
      "(1490518876632, 1490529676632] : False\n",
      "(1490529676632, 1490540476632] : False\n",
      "(1490540476632, 1490551276632] : False\n",
      "(1490551276632, 1490562076632] : False\n",
      "(1490562076632, 1490572876632] : False\n",
      "(1490572876632, 1490583676632] : False\n",
      "(1490583676632, 1490594476632] : False\n",
      "(1490594476632, 1490605276632] : False\n",
      "(1490605276632, 1490616076632] : False\n",
      "(1490616076632, 1490626876632] : False\n",
      "(1490626876632, 1490637676632] : False\n",
      "(1490637676632, 1490648476632] : False\n",
      "(1490648476632, 1490659276632] : False\n",
      "(1490659276632, 1490670076632] : False\n",
      "(1490670076632, 1490680876632] : False\n",
      "(1490680876632, 1490691676632] : False\n",
      "(1490691676632, 1490702476632] : False\n",
      "(1490702476632, 1490713276632] : False\n",
      "(1490713276632, 1490724076632] : False\n",
      "(1490724076632, 1490734876632] : False\n",
      "(1490734876632, 1490745676632] : False\n",
      "(1490745676632, 1490756476632] : False\n",
      "(1490756476632, 1490767276632] : False\n",
      "(1490767276632, 1490778076632] : False\n",
      "(1490778076632, 1490788876632] : False\n",
      "(1490788876632, 1490799676632] : False\n",
      "(1490799676632, 1490810476632] : False\n",
      "(1490810476632, 1490821276632] : False\n",
      "(1490821276632, 1490832076632] : False\n",
      "(1490832076632, 1490842876632] : False\n",
      "(1490842876632, 1490853676632] : False\n",
      "(1490853676632, 1490864476632] : False\n",
      "(1490864476632, 1490875276632] : False\n",
      "(1490875276632, 1490886076632] : False\n",
      "(1490886076632, 1490896876632] : False\n",
      "(1490896876632, 1490907676632] : False\n",
      "(1490907676632, 1490918476632] : False\n",
      "(1490918476632, 1490929276632] : False\n",
      "(1490929276632, 1490940076632] : False\n",
      "(1490940076632, 1490950876632] : False\n",
      "(1490950876632, 1490961676632] : False\n",
      "(1490961676632, 1490972476632] : False\n",
      "(1490972476632, 1490983276632] : False\n",
      "(1490983276632, 1490994076632] : False\n",
      "(1490994076632, 1491004876632] : False\n",
      "(1491004876632, 1491015676632] : False\n",
      "(1491015676632, 1491026476632] : False\n",
      "(1491026476632, 1491037276632] : False\n",
      "(1491037276632, 1491048076632] : False\n",
      "(1491048076632, 1491058876632] : False\n",
      "(1491058876632, 1491069676632] : False\n",
      "(1491069676632, 1491080476632] : False\n",
      "(1491080476632, 1491091276632] : False\n",
      "(1491091276632, 1491102076632] : False\n",
      "(1491102076632, 1491112876632] : False\n",
      "(1491112876632, 1491123676632] : False\n",
      "(1491123676632, 1491134476632] : False\n",
      "(1491134476632, 1491145276632] : False\n",
      "(1491145276632, 1491156076632] : False\n",
      "(1491156076632, 1491166876632] : False\n",
      "(1491166876632, 1491177676632] : False\n",
      "(1491177676632, 1491188476632] : False\n",
      "(1491188476632, 1491199276632] : False\n",
      "(1491199276632, 1491210076632] : False\n",
      "(1491210076632, 1491220876632] : False\n",
      "(1491220876632, 1491231676632] : False\n",
      "(1491231676632, 1491242476632] : False\n",
      "(1491242476632, 1491253276632] : False\n",
      "(1491253276632, 1491264076632] : False\n",
      "(1491264076632, 1491274876632] : False\n",
      "(1491274876632, 1491285676632] : False\n",
      "(1491285676632, 1491296476632] : False\n",
      "(1491296476632, 1491307276632] : False\n",
      "(1491307276632, 1491318076632] : False\n",
      "(1491318076632, 1491328876632] : False\n",
      "(1491328876632, 1491339676632] : False\n",
      "(1491339676632, 1491350476632] : False\n",
      "(1491350476632, 1491361276632] : False\n",
      "(1491361276632, 1491372076632] : False\n",
      "(1491372076632, 1491382876632] : False\n",
      "(1491382876632, 1491393676632] : False\n",
      "(1491393676632, 1491404476632] : False\n",
      "(1491404476632, 1491415276632] : False\n",
      "(1491415276632, 1491426076632] : False\n",
      "(1491426076632, 1491436876632] : False\n",
      "(1491436876632, 1491447676632] : False\n",
      "(1491447676632, 1491458476632] : False\n",
      "(1491458476632, 1491469276632] : False\n",
      "(1491469276632, 1491480076632] : False\n",
      "(1491480076632, 1491490876632] : False\n",
      "(1491490876632, 1491501676632] : False\n",
      "(1491501676632, 1491512476632] : False\n",
      "(1491512476632, 1491523276632] : False\n",
      "(1491523276632, 1491534076632] : False\n",
      "(1491534076632, 1491544876632] : False\n",
      "(1491544876632, 1491555676632] : False\n",
      "(1491555676632, 1491566476632] : False\n",
      "(1491566476632, 1491577276632] : False\n",
      "(1491577276632, 1491588076632] : False\n",
      "(1491588076632, 1491598876632] : False\n",
      "(1491598876632, 1491609676632] : False\n",
      "(1491609676632, 1491620476632] : False\n",
      "(1491620476632, 1491631276632] : False\n",
      "(1491631276632, 1491642076632] : False\n",
      "(1491642076632, 1491652876632] : False\n",
      "(1491652876632, 1491663676632] : False\n",
      "(1491663676632, 1491674476632] : False\n",
      "(1491674476632, 1491685276632] : False\n",
      "(1491685276632, 1491696076632] : False\n",
      "(1491696076632, 1491706876632] : False\n",
      "(1491706876632, 1491717676632] : False\n",
      "(1491717676632, 1491728476632] : False\n",
      "(1491728476632, 1491739276632] : False\n",
      "(1491739276632, 1491750076632] : False\n",
      "(1491750076632, 1491760876632] : False\n",
      "(1491760876632, 1491771676632] : False\n",
      "(1491771676632, 1491782476632] : False\n",
      "(1491782476632, 1491793276632] : False\n",
      "(1491793276632, 1491804076632] : False\n",
      "(1491804076632, 1491814876632] : False\n",
      "(1491814876632, 1491825676632] : False\n"
     ]
    },
    {
     "name": "stdout",
     "output_type": "stream",
     "text": [
      "(1491825676632, 1491836476632] : False\n",
      "(1491836476632, 1491847276632] : False\n",
      "(1491847276632, 1491858076632] : False\n",
      "(1491858076632, 1491868876632] : False\n",
      "(1491868876632, 1491879676632] : False\n",
      "(1491879676632, 1491890476632] : False\n",
      "(1491890476632, 1491901276632] : False\n",
      "(1491901276632, 1491912076632] : False\n",
      "(1491912076632, 1491922876632] : False\n",
      "(1491922876632, 1491933676632] : False\n",
      "(1491933676632, 1491944476632] : False\n",
      "(1491944476632, 1491955276632] : False\n",
      "(1491955276632, 1491966076632] : False\n",
      "(1491966076632, 1491976876632] : False\n",
      "(1491976876632, 1491987676632] : False\n",
      "(1491987676632, 1491998476632] : False\n",
      "(1491998476632, 1492009276632] : False\n",
      "(1492009276632, 1492020076632] : False\n",
      "(1492020076632, 1492030876632] : False\n",
      "(1492030876632, 1492041676632] : False\n",
      "(1492041676632, 1492052476632] : False\n",
      "(1492052476632, 1492063276632] : False\n",
      "(1492063276632, 1492074076632] : False\n",
      "(1492074076632, 1492084876632] : False\n",
      "(1492084876632, 1492095676632] : False\n",
      "(1492095676632, 1492106476632] : False\n",
      "(1492106476632, 1492117276632] : False\n",
      "(1492117276632, 1492128076632] : False\n",
      "(1492128076632, 1492138876632] : False\n",
      "(1492138876632, 1492149676632] : False\n",
      "(1492149676632, 1492160476632] : False\n",
      "(1492160476632, 1492171276632] : False\n",
      "(1492171276632, 1492182076632] : False\n",
      "(1492182076632, 1492192876632] : False\n",
      "(1492192876632, 1492203676632] : False\n",
      "(1492203676632, 1492214476632] : False\n",
      "(1492214476632, 1492225276632] : False\n",
      "(1492225276632, 1492236076632] : False\n",
      "(1492236076632, 1492246876632] : False\n",
      "(1492246876632, 1492257676632] : False\n",
      "(1492257676632, 1492268476632] : False\n",
      "(1492268476632, 1492279276632] : False\n",
      "(1492279276632, 1492290076632] : False\n",
      "(1492290076632, 1492300876632] : False\n",
      "(1492300876632, 1492311676632] : False\n",
      "(1492311676632, 1492322476632] : False\n",
      "(1492322476632, 1492333276632] : False\n",
      "(1492333276632, 1492344076632] : False\n",
      "(1492344076632, 1492354876632] : False\n",
      "(1492354876632, 1492365676632] : False\n",
      "(1492365676632, 1492376476632] : False\n",
      "(1492376476632, 1492387276632] : False\n",
      "(1492387276632, 1492398076632] : False\n",
      "(1492398076632, 1492408876632] : False\n",
      "(1492408876632, 1492419676632] : False\n",
      "(1492419676632, 1492430476632] : False\n",
      "(1492430476632, 1492441276632] : False\n",
      "(1492441276632, 1492452076632] : False\n",
      "(1492452076632, 1492462876632] : False\n",
      "(1492462876632, 1492473676632] : False\n",
      "(1492473676632, 1492484476632] : False\n",
      "(1492484476632, 1492495276632] : False\n",
      "(1492495276632, 1492506076632] : False\n",
      "(1492506076632, 1492516876632] : False\n",
      "(1492516876632, 1492527676632] : False\n"
     ]
    }
   ],
   "source": [
    "for i in grouped_data.keys():\n",
    "    #if (grouped_data[i].hasnull())\n",
    "    print(f'{i} : {grouped_data[i].isnull().values.any()}')"
   ]
  },
  {
   "cell_type": "code",
   "execution_count": 27,
   "metadata": {},
   "outputs": [
    {
     "name": "stdout",
     "output_type": "stream",
     "text": [
      "167\n"
     ]
    }
   ],
   "source": [
    "counter = 0\n",
    "for i in grouped_data.keys():\n",
    "    if ( len(grouped_data[i]) == 0):\n",
    "        counter = counter +1;\n",
    "print(counter)"
   ]
  },
  {
   "cell_type": "code",
   "execution_count": 28,
   "metadata": {},
   "outputs": [],
   "source": [
    "def roundup(x):\n",
    "    return x if x % 100 == 0 else x + 100 - x % 100\n",
    "#Convert to 3D arrays, input dict\n",
    "def make_array(dic):\n",
    "    x = []\n",
    "    y = []\n",
    "    zero_arrays = []\n",
    "    for i in dic.keys():\n",
    "        if ( len(dic[i]) == 0):\n",
    "            zero_arrays.append(i);\n",
    "    for i in zero_arrays:\n",
    "        del dic[i]\n",
    "    for i in dic.keys():\n",
    "        x.append(np.array(dic[i].drop(['attackType'],axis = 1)).astype(np.float32))\n",
    "       # print(f'{i}')\n",
    "        y.append(dic[i]['attackType'].values[0])\n",
    "    print(len(y))\n",
    "    o = []\n",
    "    features = len(x[1][1])\n",
    "    #for i in x:\n",
    "     #   o.append(len(i))\n",
    "   # print(min(o))\n",
    "    o = num\n",
    "    o = roundup(o)\n",
    "    print(o)\n",
    "    index = 0\n",
    "    for i in x:\n",
    "        l = len(i)\n",
    "        i = list(i)\n",
    "        if(o > l):\n",
    "            l = o-l\n",
    "            for j in range(0, l, 1):\n",
    "                i.append([0] * features)\n",
    "        elif (o<l):\n",
    "            l = l-o\n",
    "            i = i[:-l]\n",
    "        #i = [k = np.array([k]) for l in i for k in l] # Makes array elements an array \n",
    "        x[index] = np.array(i).astype(np.float32)\n",
    "        index = index + 1\n",
    "    #x = [[i] for i in x]\n",
    "    return x,y"
   ]
  },
  {
   "cell_type": "code",
   "execution_count": 29,
   "metadata": {},
   "outputs": [
    {
     "name": "stdout",
     "output_type": "stream",
     "text": [
      "183\n",
      "19800\n"
     ]
    }
   ],
   "source": [
    "X,Y = make_array(grouped_data)\n",
    "del grouped_data\n",
    "gc.collect()\n",
    "Y = np.array(Y)\n",
    "X = np.array(X)"
   ]
  },
  {
   "cell_type": "code",
   "execution_count": 30,
   "metadata": {},
   "outputs": [
    {
     "data": {
      "text/plain": [
       "{0: 110, 1: 26, 3: 16, 4: 31}"
      ]
     },
     "execution_count": 30,
     "metadata": {},
     "output_type": "execute_result"
    }
   ],
   "source": [
    "unique, counts = np.unique(Y, return_counts=True)\n",
    "dict(zip(unique, counts))"
   ]
  },
  {
   "cell_type": "code",
   "execution_count": null,
   "metadata": {
    "scrolled": true
   },
   "outputs": [],
   "source": []
  },
  {
   "cell_type": "code",
   "execution_count": 31,
   "metadata": {},
   "outputs": [],
   "source": [
    "def make_4D(arr):\n",
    "    x = []\n",
    "    for i in range(0, len(arr),1):\n",
    "        temp = []\n",
    "        for j in range(0,len(arr[i]),1):\n",
    "             temp.append([np.array([k]) for k in arr[i][j]])\n",
    "        x.append(np.array(temp).astype(np.float32))\n",
    "    return np.array(x).astype(np.float32)"
   ]
  },
  {
   "cell_type": "code",
   "execution_count": 32,
   "metadata": {},
   "outputs": [],
   "source": [
    "#X = make_4D(X)"
   ]
  },
  {
   "cell_type": "code",
   "execution_count": 33,
   "metadata": {},
   "outputs": [],
   "source": [
    "from sklearn.model_selection import train_test_split\n",
    "from sklearn.tree import DecisionTreeClassifier\n",
    "X_train, X_test, Y_train, Y_test = train_test_split(X,Y , test_size=0.2, random_state=0,  stratify=Y)"
   ]
  },
  {
   "cell_type": "code",
   "execution_count": 34,
   "metadata": {},
   "outputs": [
    {
     "data": {
      "text/plain": [
       "100"
      ]
     },
     "execution_count": 34,
     "metadata": {},
     "output_type": "execute_result"
    }
   ],
   "source": [
    "del X,Y\n",
    "gc.collect()"
   ]
  },
  {
   "cell_type": "code",
   "execution_count": 35,
   "metadata": {},
   "outputs": [
    {
     "data": {
      "text/plain": [
       "{0: 88, 1: 21, 3: 13, 4: 24}"
      ]
     },
     "execution_count": 35,
     "metadata": {},
     "output_type": "execute_result"
    }
   ],
   "source": [
    "unique, counts = np.unique(Y_train, return_counts=True)\n",
    "dict(zip(unique, counts))"
   ]
  },
  {
   "cell_type": "code",
   "execution_count": 36,
   "metadata": {},
   "outputs": [
    {
     "data": {
      "text/plain": [
       "{0: 22, 1: 5, 3: 3, 4: 7}"
      ]
     },
     "execution_count": 36,
     "metadata": {},
     "output_type": "execute_result"
    }
   ],
   "source": [
    "unique, counts = np.unique(Y_test, return_counts=True)\n",
    "dict(zip(unique, counts))"
   ]
  },
  {
   "cell_type": "code",
   "execution_count": 37,
   "metadata": {},
   "outputs": [
    {
     "name": "stdout",
     "output_type": "stream",
     "text": [
      "False\n",
      "False\n",
      "False\n",
      "False\n",
      "False\n",
      "False\n",
      "False\n",
      "False\n",
      "False\n",
      "False\n",
      "False\n",
      "False\n",
      "False\n",
      "False\n",
      "False\n",
      "False\n",
      "False\n",
      "False\n",
      "False\n",
      "False\n",
      "False\n",
      "False\n",
      "False\n",
      "False\n",
      "False\n",
      "False\n",
      "False\n",
      "False\n",
      "False\n",
      "False\n",
      "False\n",
      "False\n",
      "False\n",
      "False\n",
      "False\n",
      "False\n",
      "False\n",
      "False\n",
      "False\n",
      "False\n",
      "False\n",
      "False\n",
      "False\n",
      "False\n",
      "False\n",
      "False\n",
      "False\n",
      "False\n",
      "False\n",
      "False\n",
      "False\n",
      "False\n",
      "False\n",
      "False\n",
      "False\n",
      "False\n",
      "False\n",
      "False\n",
      "False\n",
      "False\n",
      "False\n",
      "False\n",
      "False\n",
      "False\n",
      "False\n",
      "False\n",
      "False\n",
      "False\n",
      "False\n",
      "False\n",
      "False\n",
      "False\n",
      "False\n",
      "False\n",
      "False\n",
      "False\n",
      "False\n",
      "False\n",
      "False\n",
      "False\n",
      "False\n",
      "False\n",
      "False\n",
      "False\n",
      "False\n",
      "False\n",
      "False\n",
      "False\n",
      "False\n",
      "False\n",
      "False\n",
      "False\n",
      "False\n",
      "False\n",
      "False\n",
      "False\n",
      "False\n",
      "False\n",
      "False\n",
      "False\n",
      "False\n",
      "False\n",
      "False\n",
      "False\n",
      "False\n",
      "False\n",
      "False\n",
      "False\n",
      "False\n",
      "False\n",
      "False\n",
      "False\n",
      "False\n",
      "False\n",
      "False\n",
      "False\n",
      "False\n",
      "False\n",
      "False\n",
      "False\n",
      "False\n",
      "False\n",
      "False\n",
      "False\n",
      "False\n",
      "False\n",
      "False\n",
      "False\n",
      "False\n",
      "False\n",
      "False\n",
      "False\n",
      "False\n",
      "False\n",
      "False\n",
      "False\n",
      "False\n",
      "False\n",
      "False\n",
      "False\n",
      "False\n",
      "False\n",
      "False\n",
      "False\n",
      "False\n",
      "False\n"
     ]
    }
   ],
   "source": [
    "for i in X_train:\n",
    "    print(f'{np.isnan(i).any()}')"
   ]
  },
  {
   "cell_type": "code",
   "execution_count": 44,
   "metadata": {},
   "outputs": [],
   "source": [
    "import tensorflow as tf\n",
    "from tensorflow import keras\n",
    "from tensorflow.keras.layers import Embedding, Dense, LSTM, Dropout, Masking, Flatten, Input, Bidirectional\n",
    "from tensorflow.keras.losses import BinaryCrossentropy\n",
    "from tensorflow.keras.models import Sequential\n",
    "from tensorflow.keras.optimizers import Adam\n",
    "from tensorflow.keras.preprocessing.sequence import pad_sequences\n",
    "from keras.layers import Dense, Conv2D, MaxPooling1D, Dropout, Flatten, Conv1D, MaxPooling2D\n",
    "from tensorflow.keras.models import Model"
   ]
  },
  {
   "cell_type": "code",
   "execution_count": 39,
   "metadata": {},
   "outputs": [
    {
     "name": "stdout",
     "output_type": "stream",
     "text": [
      "samples: 146 \n",
      " X:19800 \n",
      " Y:20 \n",
      " \n"
     ]
    }
   ],
   "source": [
    "nsamples,nx, ny = X_train.shape\n",
    "print(f\"samples: {nsamples} \\n X:{nx} \\n Y:{ny} \\n \" )"
   ]
  },
  {
   "cell_type": "code",
   "execution_count": 40,
   "metadata": {},
   "outputs": [
    {
     "data": {
      "text/plain": [
       "(19800, 20)"
      ]
     },
     "execution_count": 40,
     "metadata": {},
     "output_type": "execute_result"
    }
   ],
   "source": [
    "X_train.shape[1:]"
   ]
  },
  {
   "cell_type": "code",
   "execution_count": 41,
   "metadata": {},
   "outputs": [],
   "source": [
    "from keras.callbacks import EarlyStopping\n",
    "from keras.callbacks import ModelCheckpoint, LambdaCallback\n",
    "wie_by_epoch = []\n",
    "model_check = ModelCheckpoint(\"/models/Testpoints/best_model.hdf5\", monitor='loss', verbose=0, save_best_only=True, mode='min', save_freq=1)\n",
    "print_weights = LambdaCallback(on_epoch_end=lambda batch, logs:wie_by_epoch.append(model.get_weights()))\n",
    "callback = tf.keras.callbacks.EarlyStopping(monitor='loss', patience=4, verbose= 2)"
   ]
  },
  {
   "cell_type": "code",
   "execution_count": 42,
   "metadata": {
    "scrolled": true
   },
   "outputs": [],
   "source": [
    "# Build a model for only the feature extraction layers\n",
    "feature_extractor = Sequential()\n",
    "feature_extractor.add(Conv1D(64, 2, activation='relu', input_shape=X_train.shape[1:]))\n",
    "feature_extractor.add(MaxPooling1D(pool_size= 2))\n",
    "feature_extractor.add(Conv1D(128, 2, activation='relu', input_shape=X_train.shape[1:]))\n",
    "feature_extractor.add(MaxPooling1D(pool_size= 2))\n",
    "feature_extractor.add(Conv1D(256, 2, activation='relu', input_shape=X_train.shape[1:]))\n",
    "feature_extractor.add(MaxPooling1D(pool_size= 2))\n",
    "feature_extractor.add(Flatten())\n",
    "# Keep adding new layers for prediciton outside of feature extraction model\n",
    "x = feature_extractor.output\n",
    "#x = Dense(64, activation = 'relu')(x)\n",
    "prediction_layer = Dense(5, activation = 'softmax')(x)"
   ]
  },
  {
   "cell_type": "code",
   "execution_count": 45,
   "metadata": {},
   "outputs": [],
   "source": [
    "model=Model(inputs=feature_extractor.input, outputs=prediction_layer)\n",
    "model.compile(optimizer= 'rmsprop', loss='sparse_categorical_crossentropy',  metrics=[keras.metrics.SparseCategoricalAccuracy()])\n"
   ]
  },
  {
   "cell_type": "code",
   "execution_count": 46,
   "metadata": {
    "scrolled": true
   },
   "outputs": [
    {
     "data": {
      "text/plain": [
       "(None, 5)"
      ]
     },
     "execution_count": 46,
     "metadata": {},
     "output_type": "execute_result"
    }
   ],
   "source": [
    "model.build(input_shape = (nx,ny))\n",
    "model.output_shape"
   ]
  },
  {
   "cell_type": "code",
   "execution_count": 47,
   "metadata": {},
   "outputs": [
    {
     "data": {
      "text/plain": [
       "272"
      ]
     },
     "execution_count": 47,
     "metadata": {},
     "output_type": "execute_result"
    }
   ],
   "source": [
    "#del model, wie_by_epoch\n",
    "\n",
    "gc.collect()"
   ]
  },
  {
   "cell_type": "code",
   "execution_count": 48,
   "metadata": {},
   "outputs": [
    {
     "name": "stdout",
     "output_type": "stream",
     "text": [
      "Model: \"model\"\n",
      "_________________________________________________________________\n",
      "Layer (type)                 Output Shape              Param #   \n",
      "=================================================================\n",
      "conv1d_input (InputLayer)    [(None, 19800, 20)]       0         \n",
      "_________________________________________________________________\n",
      "conv1d (Conv1D)              (None, 19799, 64)         2624      \n",
      "_________________________________________________________________\n",
      "max_pooling1d (MaxPooling1D) (None, 9899, 64)          0         \n",
      "_________________________________________________________________\n",
      "conv1d_1 (Conv1D)            (None, 9898, 128)         16512     \n",
      "_________________________________________________________________\n",
      "max_pooling1d_1 (MaxPooling1 (None, 4949, 128)         0         \n",
      "_________________________________________________________________\n",
      "conv1d_2 (Conv1D)            (None, 4948, 256)         65792     \n",
      "_________________________________________________________________\n",
      "max_pooling1d_2 (MaxPooling1 (None, 2474, 256)         0         \n",
      "_________________________________________________________________\n",
      "flatten (Flatten)            (None, 633344)            0         \n",
      "_________________________________________________________________\n",
      "dense (Dense)                (None, 5)                 3166725   \n",
      "=================================================================\n",
      "Total params: 3,251,653\n",
      "Trainable params: 3,251,653\n",
      "Non-trainable params: 0\n",
      "_________________________________________________________________\n"
     ]
    }
   ],
   "source": [
    "#model.build(input_shape = (nx,ny))\n",
    "model.summary()\n"
   ]
  },
  {
   "cell_type": "code",
   "execution_count": 49,
   "metadata": {
    "scrolled": true
   },
   "outputs": [
    {
     "data": {
      "text/plain": [
       "[array([[[-0.10699666, -0.08378588,  0.05191408, ...,  0.07990994,\n",
       "           0.13852303, -0.08961867],\n",
       "         [-0.0977079 , -0.17267606,  0.18471076, ..., -0.16602494,\n",
       "          -0.13208328,  0.05858187],\n",
       "         [ 0.11495902,  0.18713985,  0.14439385, ..., -0.12631777,\n",
       "          -0.15968026, -0.0737955 ],\n",
       "         ...,\n",
       "         [-0.1567787 ,  0.08332606,  0.17426683, ..., -0.09156697,\n",
       "           0.11136238,  0.12072165],\n",
       "         [ 0.17641829, -0.18098599,  0.00861704, ...,  0.1566308 ,\n",
       "          -0.10905183,  0.07205279],\n",
       "         [ 0.16651689,  0.12537615, -0.17675726, ...,  0.14271672,\n",
       "          -0.06303886, -0.00338662]],\n",
       " \n",
       "        [[-0.18156506,  0.00114869,  0.12383671, ...,  0.15654673,\n",
       "          -0.16693248, -0.01293372],\n",
       "         [-0.09617097,  0.11078502, -0.05829193, ..., -0.02198221,\n",
       "           0.10907586, -0.13932668],\n",
       "         [ 0.04343541,  0.03975792, -0.08537273, ..., -0.13343711,\n",
       "          -0.08663175, -0.18467921],\n",
       "         ...,\n",
       "         [-0.17288476,  0.13481288, -0.17246664, ...,  0.1160364 ,\n",
       "           0.1328137 , -0.15663415],\n",
       "         [ 0.08571549, -0.10959779, -0.15203461, ..., -0.04386435,\n",
       "          -0.0762356 ,  0.0013914 ],\n",
       "         [ 0.01222876,  0.00436381, -0.11409856, ..., -0.06774481,\n",
       "           0.08432357, -0.10386119]]], dtype=float32),\n",
       " array([0., 0., 0., 0., 0., 0., 0., 0., 0., 0., 0., 0., 0., 0., 0., 0., 0.,\n",
       "        0., 0., 0., 0., 0., 0., 0., 0., 0., 0., 0., 0., 0., 0., 0., 0., 0.,\n",
       "        0., 0., 0., 0., 0., 0., 0., 0., 0., 0., 0., 0., 0., 0., 0., 0., 0.,\n",
       "        0., 0., 0., 0., 0., 0., 0., 0., 0., 0., 0., 0., 0.], dtype=float32),\n",
       " array([[[ 8.86766016e-02,  5.02775908e-02,  3.49180996e-02, ...,\n",
       "           7.40833282e-02, -5.73280156e-02,  1.21149957e-01],\n",
       "         [ 1.23284638e-01,  2.00369060e-02, -2.02562809e-02, ...,\n",
       "          -1.21489763e-02,  7.72753358e-03,  4.35385406e-02],\n",
       "         [ 5.67911565e-02, -6.86897039e-02, -7.61743784e-02, ...,\n",
       "           6.26329184e-02, -8.79214704e-02,  2.51185596e-02],\n",
       "         ...,\n",
       "         [ 6.37176335e-02,  3.78691852e-02,  5.01497984e-02, ...,\n",
       "          -1.24897420e-01, -3.57312560e-02, -3.81969512e-02],\n",
       "         [-9.28103030e-02, -3.67242694e-02, -2.18376815e-02, ...,\n",
       "          -5.08947968e-02,  3.66305113e-02,  5.09142280e-02],\n",
       "         [-5.62957227e-02, -1.62258744e-03,  1.31222904e-02, ...,\n",
       "          -1.06783599e-01, -3.19904089e-03, -5.16277552e-02]],\n",
       " \n",
       "        [[-1.11673921e-01, -1.12053096e-01, -3.33720446e-02, ...,\n",
       "          -6.54767752e-02, -7.76974261e-02,  2.21739411e-02],\n",
       "         [ 8.47527385e-03, -8.99218321e-02, -5.96842766e-02, ...,\n",
       "          -1.40449405e-02,  3.21566463e-02,  7.19521046e-02],\n",
       "         [ 1.83324218e-02,  9.06567574e-02,  7.21703172e-02, ...,\n",
       "          -9.79602039e-02,  5.98412454e-02,  5.18172979e-02],\n",
       "         ...,\n",
       "         [ 9.32372212e-02, -4.46802974e-02, -9.68575478e-06, ...,\n",
       "          -3.64286602e-02,  1.14404172e-01, -4.38415408e-02],\n",
       "         [-4.62776423e-02, -3.36685479e-02, -6.09236658e-02, ...,\n",
       "          -2.97615826e-02, -2.21452117e-02, -1.43624544e-02],\n",
       "         [ 1.13550514e-01, -3.32992971e-02,  9.48750079e-02, ...,\n",
       "          -6.71325028e-02,  7.25236237e-02,  9.90662575e-02]]],\n",
       "       dtype=float32),\n",
       " array([0., 0., 0., 0., 0., 0., 0., 0., 0., 0., 0., 0., 0., 0., 0., 0., 0.,\n",
       "        0., 0., 0., 0., 0., 0., 0., 0., 0., 0., 0., 0., 0., 0., 0., 0., 0.,\n",
       "        0., 0., 0., 0., 0., 0., 0., 0., 0., 0., 0., 0., 0., 0., 0., 0., 0.,\n",
       "        0., 0., 0., 0., 0., 0., 0., 0., 0., 0., 0., 0., 0., 0., 0., 0., 0.,\n",
       "        0., 0., 0., 0., 0., 0., 0., 0., 0., 0., 0., 0., 0., 0., 0., 0., 0.,\n",
       "        0., 0., 0., 0., 0., 0., 0., 0., 0., 0., 0., 0., 0., 0., 0., 0., 0.,\n",
       "        0., 0., 0., 0., 0., 0., 0., 0., 0., 0., 0., 0., 0., 0., 0., 0., 0.,\n",
       "        0., 0., 0., 0., 0., 0., 0., 0., 0.], dtype=float32),\n",
       " array([[[-0.06096826, -0.02981997, -0.0552455 , ...,  0.03985559,\n",
       "           0.05432027, -0.03345853],\n",
       "         [-0.02997614,  0.0551103 ,  0.07128713, ..., -0.08670496,\n",
       "          -0.08696859, -0.0027968 ],\n",
       "         [ 0.06118406, -0.059459  ,  0.00010189, ..., -0.02454759,\n",
       "          -0.07420144,  0.08777677],\n",
       "         ...,\n",
       "         [-0.01221374, -0.07994104,  0.01888027, ...,  0.00087162,\n",
       "          -0.07531086, -0.05721274],\n",
       "         [-0.06579132, -0.08180294, -0.07760423, ..., -0.04782706,\n",
       "          -0.00916723, -0.06031155],\n",
       "         [-0.03170705,  0.05913097, -0.05611081, ..., -0.07717267,\n",
       "           0.05300013, -0.01759365]],\n",
       " \n",
       "        [[ 0.07322309, -0.00103015,  0.0460201 , ..., -0.02095889,\n",
       "           0.01938224,  0.01273737],\n",
       "         [ 0.03894802,  0.00625584,  0.08502258, ...,  0.0495288 ,\n",
       "           0.07370997,  0.04182855],\n",
       "         [-0.06953916,  0.01418658, -0.02522265, ...,  0.01944293,\n",
       "          -0.00725364,  0.05513897],\n",
       "         ...,\n",
       "         [-0.08716769, -0.01446878, -0.07060012, ..., -0.06206507,\n",
       "           0.03919665, -0.04506803],\n",
       "         [ 0.04456102, -0.05095309,  0.07690459, ...,  0.08509312,\n",
       "           0.06242365,  0.07510842],\n",
       "         [ 0.00858662, -0.05282484, -0.02682645, ...,  0.07837141,\n",
       "          -0.08780244, -0.00329199]]], dtype=float32),\n",
       " array([0., 0., 0., 0., 0., 0., 0., 0., 0., 0., 0., 0., 0., 0., 0., 0., 0.,\n",
       "        0., 0., 0., 0., 0., 0., 0., 0., 0., 0., 0., 0., 0., 0., 0., 0., 0.,\n",
       "        0., 0., 0., 0., 0., 0., 0., 0., 0., 0., 0., 0., 0., 0., 0., 0., 0.,\n",
       "        0., 0., 0., 0., 0., 0., 0., 0., 0., 0., 0., 0., 0., 0., 0., 0., 0.,\n",
       "        0., 0., 0., 0., 0., 0., 0., 0., 0., 0., 0., 0., 0., 0., 0., 0., 0.,\n",
       "        0., 0., 0., 0., 0., 0., 0., 0., 0., 0., 0., 0., 0., 0., 0., 0., 0.,\n",
       "        0., 0., 0., 0., 0., 0., 0., 0., 0., 0., 0., 0., 0., 0., 0., 0., 0.,\n",
       "        0., 0., 0., 0., 0., 0., 0., 0., 0., 0., 0., 0., 0., 0., 0., 0., 0.,\n",
       "        0., 0., 0., 0., 0., 0., 0., 0., 0., 0., 0., 0., 0., 0., 0., 0., 0.,\n",
       "        0., 0., 0., 0., 0., 0., 0., 0., 0., 0., 0., 0., 0., 0., 0., 0., 0.,\n",
       "        0., 0., 0., 0., 0., 0., 0., 0., 0., 0., 0., 0., 0., 0., 0., 0., 0.,\n",
       "        0., 0., 0., 0., 0., 0., 0., 0., 0., 0., 0., 0., 0., 0., 0., 0., 0.,\n",
       "        0., 0., 0., 0., 0., 0., 0., 0., 0., 0., 0., 0., 0., 0., 0., 0., 0.,\n",
       "        0., 0., 0., 0., 0., 0., 0., 0., 0., 0., 0., 0., 0., 0., 0., 0., 0.,\n",
       "        0., 0., 0., 0., 0., 0., 0., 0., 0., 0., 0., 0., 0., 0., 0., 0., 0.,\n",
       "        0.], dtype=float32),\n",
       " array([[ 2.3999254e-03, -2.1958323e-03, -1.6850771e-03, -2.6450707e-03,\n",
       "         -2.9897019e-03],\n",
       "        [ 2.4679743e-03, -1.5053620e-03, -1.3937056e-03, -1.5944173e-04,\n",
       "          1.5128015e-03],\n",
       "        [-1.8725870e-05,  2.9006158e-04,  2.2553222e-03,  9.6333469e-04,\n",
       "         -1.9558957e-03],\n",
       "        ...,\n",
       "        [-2.8532327e-03, -2.9297166e-03, -1.3416038e-03, -2.9553515e-03,\n",
       "         -1.0021820e-03],\n",
       "        [ 6.2710140e-04, -2.1376903e-03,  2.0999729e-03,  2.8026125e-03,\n",
       "          6.3507725e-04],\n",
       "        [ 2.2202495e-03, -1.6839732e-04,  1.7751919e-03, -1.8253908e-03,\n",
       "         -1.0556884e-03]], dtype=float32),\n",
       " array([0., 0., 0., 0., 0.], dtype=float32)]"
      ]
     },
     "execution_count": 49,
     "metadata": {},
     "output_type": "execute_result"
    }
   ],
   "source": [
    "wights = model.get_weights()\n",
    "wights"
   ]
  },
  {
   "cell_type": "code",
   "execution_count": 50,
   "metadata": {
    "scrolled": true
   },
   "outputs": [
    {
     "name": "stdout",
     "output_type": "stream",
     "text": [
      "Epoch 1/20\n",
      "5/5 - 6s - loss: 3.8621 - sparse_categorical_accuracy: 0.5548\n",
      "Epoch 2/20\n",
      "5/5 - 5s - loss: 0.1670 - sparse_categorical_accuracy: 0.9452\n",
      "Epoch 3/20\n",
      "5/5 - 5s - loss: 0.0740 - sparse_categorical_accuracy: 0.9863\n",
      "Epoch 4/20\n",
      "5/5 - 5s - loss: 0.0496 - sparse_categorical_accuracy: 0.9932\n",
      "Epoch 5/20\n",
      "5/5 - 6s - loss: 0.0363 - sparse_categorical_accuracy: 0.9932\n",
      "Epoch 6/20\n",
      "5/5 - 6s - loss: 0.0316 - sparse_categorical_accuracy: 0.9932\n",
      "Epoch 7/20\n",
      "5/5 - 6s - loss: 0.0256 - sparse_categorical_accuracy: 0.9932\n",
      "Epoch 8/20\n",
      "5/5 - 6s - loss: 0.0237 - sparse_categorical_accuracy: 0.9932\n",
      "Epoch 9/20\n",
      "5/5 - 7s - loss: 0.0177 - sparse_categorical_accuracy: 0.9932\n",
      "Epoch 10/20\n",
      "5/5 - 6s - loss: 0.0123 - sparse_categorical_accuracy: 0.9932\n",
      "Epoch 11/20\n",
      "5/5 - 6s - loss: 0.0106 - sparse_categorical_accuracy: 0.9932\n",
      "Epoch 12/20\n",
      "5/5 - 6s - loss: 0.0077 - sparse_categorical_accuracy: 0.9932\n",
      "Epoch 13/20\n",
      "5/5 - 6s - loss: 0.0056 - sparse_categorical_accuracy: 1.0000\n",
      "Epoch 14/20\n",
      "5/5 - 6s - loss: 17.7443 - sparse_categorical_accuracy: 0.8288\n",
      "Epoch 15/20\n",
      "5/5 - 6s - loss: 0.0088 - sparse_categorical_accuracy: 1.0000\n",
      "Epoch 16/20\n",
      "5/5 - 6s - loss: 0.0068 - sparse_categorical_accuracy: 1.0000\n",
      "Epoch 17/20\n",
      "5/5 - 6s - loss: 0.0059 - sparse_categorical_accuracy: 1.0000\n",
      "Epoch 00017: early stopping\n"
     ]
    }
   ],
   "source": [
    "mod = model.fit(X_train,\n",
    "               Y_train, epochs=20, batch_size= 32, verbose=2 , \n",
    "                callbacks=[callback, print_weights, model_check])"
   ]
  },
  {
   "cell_type": "code",
   "execution_count": 51,
   "metadata": {},
   "outputs": [
    {
     "data": {
      "text/plain": [
       "17"
      ]
     },
     "execution_count": 51,
     "metadata": {},
     "output_type": "execute_result"
    }
   ],
   "source": [
    "len(wie_by_epoch)"
   ]
  },
  {
   "cell_type": "code",
   "execution_count": 52,
   "metadata": {},
   "outputs": [],
   "source": [
    "#model.set_weights(wie_by_epoch[16])\n",
    "#mod.history.get('sparse_categorical_accuracy')"
   ]
  },
  {
   "cell_type": "code",
   "execution_count": 53,
   "metadata": {},
   "outputs": [
    {
     "name": "stdout",
     "output_type": "stream",
     "text": [
      "2/2 - 1s - loss: 0.0717 - sparse_categorical_accuracy: 0.9730\n"
     ]
    },
    {
     "data": {
      "text/plain": [
       "[0.0716911107301712, 0.9729729890823364]"
      ]
     },
     "execution_count": 53,
     "metadata": {},
     "output_type": "execute_result"
    }
   ],
   "source": [
    "scores = model.evaluate(X_test,Y_test, verbose=2)\n",
    "scores"
   ]
  },
  {
   "cell_type": "code",
   "execution_count": 54,
   "metadata": {},
   "outputs": [
    {
     "data": {
      "text/plain": [
       "{'loss': 0.0716911107301712, 'sparse_categorical_accuracy': 0.9729729890823364}"
      ]
     },
     "execution_count": 54,
     "metadata": {},
     "output_type": "execute_result"
    }
   ],
   "source": [
    "dict(zip(model.metrics_names, scores))"
   ]
  },
  {
   "cell_type": "code",
   "execution_count": 55,
   "metadata": {},
   "outputs": [
    {
     "data": {
      "image/png": "[encoded data removed]",
      "text/plain": [
       "<Figure size 432x288 with 2 Axes>"
      ]
     },
     "metadata": {
      "needs_background": "light"
     },
     "output_type": "display_data"
    }
   ],
   "source": [
    "from matplotlib import pyplot\n",
    "# plot loss during training\n",
    "pyplot.subplot(211)\n",
    "pyplot.title('Loss')\n",
    "pyplot.plot(mod.history['loss'], label='train')\n",
    "#pyplot.plot(mod.history['val_loss'], label='test')\n",
    "pyplot.legend()\n",
    "# plot accuracy during training\n",
    "pyplot.subplot(212)\n",
    "pyplot.title('Accuracy')\n",
    "pyplot.plot(mod.history['sparse_categorical_accuracy'], label='train')\n",
    "#pyplot.plot(mod.history['val_accuracy'], label='test')\n",
    "pyplot.legend()\n",
    "pyplot.show()"
   ]
  },
  {
   "cell_type": "code",
   "execution_count": 56,
   "metadata": {},
   "outputs": [],
   "source": [
    "# predict probabilities for test set\n",
    "yhat_probs = model.predict(X_test.astype('float32'), verbose=0)\n",
    "# predict crisp classes for test set\n",
    "#yhat_classes = model.predict_classes(X_test, verbose=0)\n",
    "yhat_classes = np.argmax(yhat_probs,axis=1)"
   ]
  },
  {
   "cell_type": "code",
   "execution_count": 57,
   "metadata": {},
   "outputs": [],
   "source": [
    "from sklearn.datasets import make_circles\n",
    "from sklearn.metrics import accuracy_score\n",
    "from sklearn.metrics import precision_score\n",
    "from sklearn.metrics import recall_score\n",
    "from sklearn.metrics import f1_score\n",
    "from sklearn.metrics import cohen_kappa_score\n",
    "from sklearn.metrics import roc_auc_score\n",
    "from sklearn.metrics import confusion_matrix\n",
    "from sklearn.metrics import roc_curve\n"
   ]
  },
  {
   "cell_type": "code",
   "execution_count": 58,
   "metadata": {},
   "outputs": [
    {
     "name": "stdout",
     "output_type": "stream",
     "text": [
      "Accuracy: 0.972973\n",
      "Precision: 0.989130\n",
      "Recall: 0.916667\n",
      "F1 score: 0.944444\n"
     ]
    }
   ],
   "source": [
    "# accuracy: (tp + tn) / (p + n)\n",
    "accuracy = accuracy_score(Y_test, yhat_classes)\n",
    "print('Accuracy: %f' % accuracy)\n",
    "# precision tp / (tp + fp)\n",
    "precision = precision_score(Y_test, yhat_classes, average='macro')\n",
    "print('Precision: %f' % precision)\n",
    "# recall: tp / (tp + fn)\n",
    "recall = recall_score(Y_test, yhat_classes,average='macro')\n",
    "print('Recall: %f' % recall)\n",
    "# f1: 2 tp / (2 tp + fp + fn)\n",
    "f1 = f1_score(Y_test, yhat_classes, average='macro')\n",
    "print('F1 score: %f' % f1)"
   ]
  },
  {
   "cell_type": "code",
   "execution_count": 59,
   "metadata": {},
   "outputs": [
    {
     "name": "stdout",
     "output_type": "stream",
     "text": [
      "Cohens kappa: 0.952746\n",
      "[[22  0  0  0]\n",
      " [ 0  5  0  0]\n",
      " [ 1  0  2  0]\n",
      " [ 0  0  0  7]]\n"
     ]
    }
   ],
   "source": [
    "# kappa\n",
    "kappa = cohen_kappa_score(Y_test, yhat_classes)\n",
    "print('Cohens kappa: %f' % kappa)\n",
    "# ROC AUC\n",
    "#fprate, tprate, thresholds = roc_curve(Y_test, yhat_probs, average = 'macro')\n",
    "#print('ROC AUC: %f' % thresholds)\n",
    "# confusion matrix\n",
    "matrix = confusion_matrix(Y_test, yhat_classes)\n",
    "print(matrix)"
   ]
  },
  {
   "cell_type": "code",
   "execution_count": 60,
   "metadata": {},
   "outputs": [
    {
     "name": "stderr",
     "output_type": "stream",
     "text": [
      "C:\\Users\\hp\\Anaconda3\\lib\\site-packages\\sklearn\\metrics\\ranking.py:659: UndefinedMetricWarning: No positive samples in y_true, true positive value should be meaningless\n",
      "  UndefinedMetricWarning)\n"
     ]
    }
   ],
   "source": [
    "fpr = {}\n",
    "tpr = {}\n",
    "thresh ={}\n",
    "\n",
    "n_class = 5\n",
    "\n",
    "for i in range(n_class):    \n",
    "    fpr[i], tpr[i], thresh[i] = roc_curve(Y_test, yhat_classes, pos_label=i)"
   ]
  },
  {
   "cell_type": "code",
   "execution_count": 61,
   "metadata": {},
   "outputs": [
    {
     "data": {
      "image/png": "[encoded data removed]",
      "text/plain": [
       "<Figure size 432x288 with 1 Axes>"
      ]
     },
     "metadata": {
      "needs_background": "light"
     },
     "output_type": "display_data"
    }
   ],
   "source": [
    "# plotting    \n",
    "plt.plot(fpr[0], tpr[0], linestyle='--',color='orange', label='Class 0 vs Rest')\n",
    "plt.plot(fpr[1], tpr[1], linestyle='--',color='green', label='Class 1 vs Rest')\n",
    "plt.plot(fpr[2], tpr[2], linestyle='--',color='blue', label='Class 2 vs Rest')\n",
    "plt.plot(fpr[3], tpr[3], linestyle='--',color='red', label='Class 3 vs Rest')\n",
    "plt.plot(fpr[4], tpr[4], linestyle='--',color='black', label='Class 4 vs Rest')\n",
    "plt.title('Multiclass ROC curve')\n",
    "plt.xlabel('False Positive Rate')\n",
    "plt.ylabel('True Positive rate')\n",
    "plt.legend(loc='best')\n",
    "plt.savefig('Multiclass ROC',dpi=300); "
   ]
  },
  {
   "cell_type": "code",
   "execution_count": 62,
   "metadata": {},
   "outputs": [
    {
     "name": "stdout",
     "output_type": "stream",
     "text": [
      "Confusion matrix : \n",
      " [[22  0  0  0]\n",
      " [ 0  5  0  0]\n",
      " [ 1  0  2  0]\n",
      " [ 0  0  0  7]]\n"
     ]
    }
   ],
   "source": [
    "from sklearn.metrics import confusion_matrix\n",
    "from sklearn.metrics import classification_report\n",
    "matrix = confusion_matrix(Y_test, yhat_classes, labels= [0, 1, 3, 4])\n",
    "print('Confusion matrix : \\n',matrix)"
   ]
  },
  {
   "cell_type": "code",
   "execution_count": 63,
   "metadata": {},
   "outputs": [
    {
     "name": "stdout",
     "output_type": "stream",
     "text": [
      "Classification report : \n",
      "               precision    recall  f1-score   support\n",
      "\n",
      "           0       0.96      1.00      0.98        22\n",
      "           1       1.00      1.00      1.00         5\n",
      "           3       1.00      0.67      0.80         3\n",
      "           4       1.00      1.00      1.00         7\n",
      "\n",
      "    accuracy                           0.97        37\n",
      "   macro avg       0.99      0.92      0.94        37\n",
      "weighted avg       0.97      0.97      0.97        37\n",
      "\n"
     ]
    }
   ],
   "source": [
    "matrix = classification_report(Y_test,yhat_classes, labels= [0, 1, 3, 4])\n",
    "print('Classification report : \\n',matrix)"
   ]
  },
  {
   "cell_type": "code",
   "execution_count": 64,
   "metadata": {},
   "outputs": [
    {
     "name": "stdout",
     "output_type": "stream",
     "text": [
      "INFO:tensorflow:Assets written to: ./models/Without IP address/CNN-DBN/CNN\\assets\n"
     ]
    }
   ],
   "source": [
    "model.save('./models/Without IP address/CNN-DBN/CNN')"
   ]
  },
  {
   "cell_type": "code",
   "execution_count": 65,
   "metadata": {},
   "outputs": [],
   "source": [
    "#Feature extracted from feature extractor part of deep learning model\n",
    "X_ext = feature_extractor.predict(X_train)\n",
    "X_ext_test = feature_extractor.predict(X_test)"
   ]
  },
  {
   "cell_type": "code",
   "execution_count": 66,
   "metadata": {},
   "outputs": [
    {
     "name": "stdout",
     "output_type": "stream",
     "text": [
      "False\n",
      "False\n",
      "False\n",
      "False\n",
      "False\n",
      "False\n",
      "False\n",
      "False\n",
      "False\n",
      "False\n",
      "False\n",
      "False\n",
      "False\n",
      "False\n",
      "False\n",
      "False\n",
      "False\n",
      "False\n",
      "False\n",
      "False\n",
      "False\n",
      "False\n",
      "False\n",
      "False\n",
      "False\n",
      "False\n",
      "False\n",
      "False\n",
      "False\n",
      "False\n",
      "False\n",
      "False\n",
      "False\n",
      "False\n",
      "False\n",
      "False\n",
      "False\n",
      "False\n",
      "False\n",
      "False\n",
      "False\n",
      "False\n",
      "False\n",
      "False\n",
      "False\n",
      "False\n",
      "False\n",
      "False\n",
      "False\n",
      "False\n",
      "False\n",
      "False\n",
      "False\n",
      "False\n",
      "False\n",
      "False\n",
      "False\n",
      "False\n",
      "False\n",
      "False\n",
      "False\n",
      "False\n",
      "False\n",
      "False\n",
      "False\n",
      "False\n",
      "False\n",
      "False\n",
      "False\n",
      "False\n",
      "False\n",
      "False\n",
      "False\n",
      "False\n",
      "False\n",
      "False\n",
      "False\n",
      "False\n",
      "False\n",
      "False\n",
      "False\n",
      "False\n",
      "False\n",
      "False\n",
      "False\n",
      "False\n",
      "False\n",
      "False\n",
      "False\n",
      "False\n",
      "False\n",
      "False\n",
      "False\n",
      "False\n",
      "False\n",
      "False\n",
      "False\n",
      "False\n",
      "False\n",
      "False\n",
      "False\n",
      "False\n",
      "False\n",
      "False\n",
      "False\n",
      "False\n",
      "False\n",
      "False\n",
      "False\n",
      "False\n",
      "False\n",
      "False\n",
      "False\n",
      "False\n",
      "False\n",
      "False\n",
      "False\n",
      "False\n",
      "False\n",
      "False\n",
      "False\n",
      "False\n",
      "False\n",
      "False\n",
      "False\n",
      "False\n",
      "False\n",
      "False\n",
      "False\n",
      "False\n",
      "False\n",
      "False\n",
      "False\n",
      "False\n",
      "False\n",
      "False\n",
      "False\n",
      "False\n",
      "False\n",
      "False\n",
      "False\n",
      "False\n",
      "False\n",
      "False\n",
      "False\n",
      "False\n"
     ]
    }
   ],
   "source": [
    "for i in X_ext:\n",
    "    print(f'{np.isnan(i).any()}')"
   ]
  },
  {
   "cell_type": "code",
   "execution_count": 67,
   "metadata": {},
   "outputs": [
    {
     "name": "stdout",
     "output_type": "stream",
     "text": [
      "WARNING:tensorflow:From C:\\Users\\hp\\AppData\\Roaming\\Python\\Python37\\site-packages\\tensorflow\\python\\compat\\v2_compat.py:101: disable_resource_variables (from tensorflow.python.ops.variable_scope) is deprecated and will be removed in a future version.\n",
      "Instructions for updating:\n",
      "non-resource variables are not supported in the long term\n"
     ]
    }
   ],
   "source": [
    "from dbn.tensorflow import SupervisedDBNClassification"
   ]
  },
  {
   "cell_type": "code",
   "execution_count": 68,
   "metadata": {},
   "outputs": [],
   "source": [
    "classifier = SupervisedDBNClassification(hidden_layers_structure=[128, 64],\n",
    "                                         learning_rate_rbm=0.01,\n",
    "                                         learning_rate=0.02,\n",
    "                                         n_epochs_rbm=32,\n",
    "                                         n_iter_backprop=512,\n",
    "                                         batch_size=32,\n",
    "                                         activation_function='relu',\n",
    "                                         dropout_p=0.01)"
   ]
  },
  {
   "cell_type": "code",
   "execution_count": 71,
   "metadata": {
    "scrolled": true
   },
   "outputs": [
    {
     "name": "stdout",
     "output_type": "stream",
     "text": [
      "[START] Pre-training step:\n",
      ">> Epoch 1 finished \tRBM Reconstruction error 4974.774902\n",
      ">> Epoch 2 finished \tRBM Reconstruction error 149822.984375\n",
      ">> Epoch 3 finished \tRBM Reconstruction error 279303.281250\n",
      ">> Epoch 4 finished \tRBM Reconstruction error 283216.406250\n",
      ">> Epoch 5 finished \tRBM Reconstruction error 287055.625000\n",
      ">> Epoch 6 finished \tRBM Reconstruction error 307904.218750\n",
      ">> Epoch 7 finished \tRBM Reconstruction error 286038.968750\n",
      ">> Epoch 8 finished \tRBM Reconstruction error 340363.875000\n",
      ">> Epoch 9 finished \tRBM Reconstruction error 334682.156250\n",
      ">> Epoch 10 finished \tRBM Reconstruction error 400294.343750\n",
      ">> Epoch 11 finished \tRBM Reconstruction error 409881.468750\n",
      ">> Epoch 12 finished \tRBM Reconstruction error 391591.718750\n",
      ">> Epoch 13 finished \tRBM Reconstruction error 410410.281250\n",
      ">> Epoch 14 finished \tRBM Reconstruction error 431815.781250\n",
      ">> Epoch 15 finished \tRBM Reconstruction error 378613.312500\n",
      ">> Epoch 16 finished \tRBM Reconstruction error 457287.437500\n",
      ">> Epoch 17 finished \tRBM Reconstruction error 427516.437500\n",
      ">> Epoch 18 finished \tRBM Reconstruction error 463092.062500\n",
      ">> Epoch 19 finished \tRBM Reconstruction error 536409.562500\n",
      ">> Epoch 20 finished \tRBM Reconstruction error 546335.437500\n",
      ">> Epoch 21 finished \tRBM Reconstruction error 601259.562500\n",
      ">> Epoch 22 finished \tRBM Reconstruction error 628887.312500\n",
      ">> Epoch 23 finished \tRBM Reconstruction error 671328.062500\n",
      ">> Epoch 24 finished \tRBM Reconstruction error 646638.437500\n",
      ">> Epoch 25 finished \tRBM Reconstruction error 707483.312500\n",
      ">> Epoch 26 finished \tRBM Reconstruction error 756990.125000\n",
      ">> Epoch 27 finished \tRBM Reconstruction error 795952.375000\n",
      ">> Epoch 28 finished \tRBM Reconstruction error 816033.125000\n",
      ">> Epoch 29 finished \tRBM Reconstruction error 930574.250000\n",
      ">> Epoch 30 finished \tRBM Reconstruction error 950601.312500\n",
      ">> Epoch 31 finished \tRBM Reconstruction error 979422.437500\n",
      ">> Epoch 32 finished \tRBM Reconstruction error 1010208.437500\n",
      ">> Epoch 1 finished \tRBM Reconstruction error 2557784320.000000\n",
      ">> Epoch 2 finished \tRBM Reconstruction error 2080670208.000000\n",
      ">> Epoch 3 finished \tRBM Reconstruction error 2976415744.000000\n",
      ">> Epoch 4 finished \tRBM Reconstruction error 2388635648.000000\n",
      ">> Epoch 5 finished \tRBM Reconstruction error 2555964672.000000\n",
      ">> Epoch 6 finished \tRBM Reconstruction error 3161346560.000000\n",
      ">> Epoch 7 finished \tRBM Reconstruction error 1779967488.000000\n",
      ">> Epoch 8 finished \tRBM Reconstruction error 1678043264.000000\n",
      ">> Epoch 9 finished \tRBM Reconstruction error 3039404032.000000\n",
      ">> Epoch 10 finished \tRBM Reconstruction error 3509417728.000000\n",
      ">> Epoch 11 finished \tRBM Reconstruction error 1626728320.000000\n",
      ">> Epoch 12 finished \tRBM Reconstruction error 2418259456.000000\n",
      ">> Epoch 13 finished \tRBM Reconstruction error 1541781248.000000\n",
      ">> Epoch 14 finished \tRBM Reconstruction error 2174423040.000000\n",
      ">> Epoch 15 finished \tRBM Reconstruction error 2049818368.000000\n",
      ">> Epoch 16 finished \tRBM Reconstruction error 2070390912.000000\n",
      ">> Epoch 17 finished \tRBM Reconstruction error 2572442880.000000\n",
      ">> Epoch 18 finished \tRBM Reconstruction error 3380930816.000000\n",
      ">> Epoch 19 finished \tRBM Reconstruction error 2527880704.000000\n",
      ">> Epoch 20 finished \tRBM Reconstruction error 3165879808.000000\n",
      ">> Epoch 21 finished \tRBM Reconstruction error 2223672832.000000\n",
      ">> Epoch 22 finished \tRBM Reconstruction error 2287182592.000000\n",
      ">> Epoch 23 finished \tRBM Reconstruction error 2780160512.000000\n",
      ">> Epoch 24 finished \tRBM Reconstruction error 2277009152.000000\n",
      ">> Epoch 25 finished \tRBM Reconstruction error 2135671424.000000\n",
      ">> Epoch 26 finished \tRBM Reconstruction error 2359707648.000000\n",
      ">> Epoch 27 finished \tRBM Reconstruction error 2519921664.000000\n",
      ">> Epoch 28 finished \tRBM Reconstruction error 2259442688.000000\n",
      ">> Epoch 29 finished \tRBM Reconstruction error 2605620224.000000\n",
      ">> Epoch 30 finished \tRBM Reconstruction error 3075757056.000000\n",
      ">> Epoch 31 finished \tRBM Reconstruction error 2002323712.000000\n",
      ">> Epoch 32 finished \tRBM Reconstruction error 4458213376.000000\n",
      "[END] Pre-training step\n",
      "WARNING:tensorflow:From C:\\Users\\hp\\AppData\\Roaming\\Python\\Python37\\site-packages\\tensorflow\\python\\util\\dispatch.py:206: calling dropout (from tensorflow.python.ops.nn_ops) with keep_prob is deprecated and will be removed in a future version.\n",
      "Instructions for updating:\n",
      "Please use `rate` instead of `keep_prob`. Rate should be set to `rate = 1 - keep_prob`.\n",
      "[START] Fine tuning step:\n",
      ">> Epoch 0 finished \tANN training loss 0.678827\n",
      ">> Epoch 1 finished \tANN training loss 0.557811\n",
      ">> Epoch 2 finished \tANN training loss 0.556333\n",
      ">> Epoch 3 finished \tANN training loss 0.554979\n",
      ">> Epoch 4 finished \tANN training loss 0.553625\n",
      ">> Epoch 5 finished \tANN training loss 0.552266\n",
      ">> Epoch 6 finished \tANN training loss 0.550968\n",
      ">> Epoch 7 finished \tANN training loss 0.549650\n",
      ">> Epoch 8 finished \tANN training loss 0.548357\n",
      ">> Epoch 9 finished \tANN training loss 0.547085\n",
      ">> Epoch 10 finished \tANN training loss 0.545853\n",
      ">> Epoch 11 finished \tANN training loss 0.544622\n",
      ">> Epoch 12 finished \tANN training loss 0.543369\n",
      ">> Epoch 13 finished \tANN training loss 0.542209\n",
      ">> Epoch 14 finished \tANN training loss 0.541047\n",
      ">> Epoch 15 finished \tANN training loss 0.539949\n",
      ">> Epoch 16 finished \tANN training loss 0.538915\n",
      ">> Epoch 17 finished \tANN training loss 0.537830\n",
      ">> Epoch 18 finished \tANN training loss 0.536798\n",
      ">> Epoch 19 finished \tANN training loss 0.535771\n",
      ">> Epoch 20 finished \tANN training loss 0.534730\n",
      ">> Epoch 21 finished \tANN training loss 0.533743\n",
      ">> Epoch 22 finished \tANN training loss 0.532811\n",
      ">> Epoch 23 finished \tANN training loss 0.531825\n",
      ">> Epoch 24 finished \tANN training loss 0.530866\n",
      ">> Epoch 25 finished \tANN training loss 0.529889\n",
      ">> Epoch 26 finished \tANN training loss 0.528991\n",
      ">> Epoch 27 finished \tANN training loss 0.528065\n",
      ">> Epoch 28 finished \tANN training loss 0.527164\n",
      ">> Epoch 29 finished \tANN training loss 0.526387\n",
      ">> Epoch 30 finished \tANN training loss 0.525584\n",
      ">> Epoch 31 finished \tANN training loss 0.524763\n",
      ">> Epoch 32 finished \tANN training loss 0.523910\n",
      ">> Epoch 33 finished \tANN training loss 0.523121\n",
      ">> Epoch 34 finished \tANN training loss 0.522270\n",
      ">> Epoch 35 finished \tANN training loss 0.521531\n",
      ">> Epoch 36 finished \tANN training loss 0.520769\n",
      ">> Epoch 37 finished \tANN training loss 0.520034\n",
      ">> Epoch 38 finished \tANN training loss 0.519343\n",
      ">> Epoch 39 finished \tANN training loss 0.518577\n",
      ">> Epoch 40 finished \tANN training loss 0.517847\n",
      ">> Epoch 41 finished \tANN training loss 0.517142\n",
      ">> Epoch 42 finished \tANN training loss 0.516503\n",
      ">> Epoch 43 finished \tANN training loss 0.515779\n",
      ">> Epoch 44 finished \tANN training loss 0.515055\n",
      ">> Epoch 45 finished \tANN training loss 0.514433\n",
      ">> Epoch 46 finished \tANN training loss 0.513837\n",
      ">> Epoch 47 finished \tANN training loss 0.513213\n",
      ">> Epoch 48 finished \tANN training loss 0.512618\n",
      ">> Epoch 49 finished \tANN training loss 0.512019\n",
      ">> Epoch 50 finished \tANN training loss 0.511424\n",
      ">> Epoch 51 finished \tANN training loss 0.510860\n",
      ">> Epoch 52 finished \tANN training loss 0.510291\n",
      ">> Epoch 53 finished \tANN training loss 0.509749\n",
      ">> Epoch 54 finished \tANN training loss 0.509155\n",
      ">> Epoch 55 finished \tANN training loss 0.508609\n",
      ">> Epoch 56 finished \tANN training loss 0.508079\n",
      ">> Epoch 57 finished \tANN training loss 0.507580\n",
      ">> Epoch 58 finished \tANN training loss 0.507061\n",
      ">> Epoch 59 finished \tANN training loss 0.506618\n",
      ">> Epoch 60 finished \tANN training loss 0.506149\n",
      ">> Epoch 61 finished \tANN training loss 0.505634\n",
      ">> Epoch 62 finished \tANN training loss 0.505136\n",
      ">> Epoch 63 finished \tANN training loss 0.504618\n",
      ">> Epoch 64 finished \tANN training loss 0.504150\n",
      ">> Epoch 65 finished \tANN training loss 0.503665\n",
      ">> Epoch 66 finished \tANN training loss 0.503184\n",
      ">> Epoch 67 finished \tANN training loss 0.502709\n",
      ">> Epoch 68 finished \tANN training loss 0.502230\n",
      ">> Epoch 69 finished \tANN training loss 0.501741\n",
      ">> Epoch 70 finished \tANN training loss 0.501317\n",
      ">> Epoch 71 finished \tANN training loss 0.500900\n",
      ">> Epoch 72 finished \tANN training loss 0.500448\n",
      ">> Epoch 73 finished \tANN training loss 0.500020\n",
      ">> Epoch 74 finished \tANN training loss 0.499607\n",
      ">> Epoch 75 finished \tANN training loss 0.499175\n",
      ">> Epoch 76 finished \tANN training loss 0.498761\n"
     ]
    },
    {
     "name": "stdout",
     "output_type": "stream",
     "text": [
      ">> Epoch 77 finished \tANN training loss 0.498328\n",
      ">> Epoch 78 finished \tANN training loss 0.497903\n",
      ">> Epoch 79 finished \tANN training loss 0.497487\n",
      ">> Epoch 80 finished \tANN training loss 0.497094\n",
      ">> Epoch 81 finished \tANN training loss 0.496446\n",
      ">> Epoch 82 finished \tANN training loss 0.494406\n",
      ">> Epoch 83 finished \tANN training loss 0.492457\n",
      ">> Epoch 84 finished \tANN training loss 0.491364\n",
      ">> Epoch 85 finished \tANN training loss 0.490529\n",
      ">> Epoch 86 finished \tANN training loss 0.489771\n",
      ">> Epoch 87 finished \tANN training loss 0.489060\n",
      ">> Epoch 88 finished \tANN training loss 0.488280\n",
      ">> Epoch 89 finished \tANN training loss 0.487562\n",
      ">> Epoch 90 finished \tANN training loss 0.486826\n",
      ">> Epoch 91 finished \tANN training loss 0.486103\n",
      ">> Epoch 92 finished \tANN training loss 0.485327\n",
      ">> Epoch 93 finished \tANN training loss 0.484601\n",
      ">> Epoch 94 finished \tANN training loss 0.483823\n",
      ">> Epoch 95 finished \tANN training loss 0.482998\n",
      ">> Epoch 96 finished \tANN training loss 0.482214\n",
      ">> Epoch 97 finished \tANN training loss 0.481445\n",
      ">> Epoch 98 finished \tANN training loss 0.480399\n",
      ">> Epoch 99 finished \tANN training loss 0.479530\n",
      ">> Epoch 100 finished \tANN training loss 0.478500\n",
      ">> Epoch 101 finished \tANN training loss 0.477651\n",
      ">> Epoch 102 finished \tANN training loss 0.476352\n",
      ">> Epoch 103 finished \tANN training loss 0.475104\n",
      ">> Epoch 104 finished \tANN training loss 0.473927\n",
      ">> Epoch 105 finished \tANN training loss 0.472470\n",
      ">> Epoch 106 finished \tANN training loss 0.470986\n",
      ">> Epoch 107 finished \tANN training loss 0.469363\n",
      ">> Epoch 108 finished \tANN training loss 0.467756\n",
      ">> Epoch 109 finished \tANN training loss 0.465803\n",
      ">> Epoch 110 finished \tANN training loss 0.463704\n",
      ">> Epoch 111 finished \tANN training loss 0.461241\n",
      ">> Epoch 112 finished \tANN training loss 0.458508\n",
      ">> Epoch 113 finished \tANN training loss 0.455617\n",
      ">> Epoch 114 finished \tANN training loss 0.452138\n",
      ">> Epoch 115 finished \tANN training loss 0.448235\n",
      ">> Epoch 116 finished \tANN training loss 0.443244\n",
      ">> Epoch 117 finished \tANN training loss 0.437636\n",
      ">> Epoch 118 finished \tANN training loss 0.431701\n",
      ">> Epoch 119 finished \tANN training loss 0.425558\n",
      ">> Epoch 120 finished \tANN training loss 0.418967\n",
      ">> Epoch 121 finished \tANN training loss 0.411472\n",
      ">> Epoch 122 finished \tANN training loss 0.403372\n",
      ">> Epoch 123 finished \tANN training loss 0.396126\n",
      ">> Epoch 124 finished \tANN training loss 0.388939\n",
      ">> Epoch 125 finished \tANN training loss 0.381540\n",
      ">> Epoch 126 finished \tANN training loss 0.375219\n",
      ">> Epoch 127 finished \tANN training loss 0.369042\n",
      ">> Epoch 128 finished \tANN training loss 0.363719\n",
      ">> Epoch 129 finished \tANN training loss 0.359068\n",
      ">> Epoch 130 finished \tANN training loss 0.354648\n",
      ">> Epoch 131 finished \tANN training loss 0.350907\n",
      ">> Epoch 132 finished \tANN training loss 0.347278\n",
      ">> Epoch 133 finished \tANN training loss 0.343894\n",
      ">> Epoch 134 finished \tANN training loss 0.340918\n",
      ">> Epoch 135 finished \tANN training loss 0.338076\n",
      ">> Epoch 136 finished \tANN training loss 0.335132\n",
      ">> Epoch 137 finished \tANN training loss 0.332526\n",
      ">> Epoch 138 finished \tANN training loss 0.330039\n",
      ">> Epoch 139 finished \tANN training loss 0.327767\n",
      ">> Epoch 140 finished \tANN training loss 0.325499\n",
      ">> Epoch 141 finished \tANN training loss 0.323590\n",
      ">> Epoch 142 finished \tANN training loss 0.321648\n",
      ">> Epoch 143 finished \tANN training loss 0.319673\n",
      ">> Epoch 144 finished \tANN training loss 0.317886\n",
      ">> Epoch 145 finished \tANN training loss 0.316056\n",
      ">> Epoch 146 finished \tANN training loss 0.314491\n",
      ">> Epoch 147 finished \tANN training loss 0.312690\n",
      ">> Epoch 148 finished \tANN training loss 0.311034\n",
      ">> Epoch 149 finished \tANN training loss 0.309390\n",
      ">> Epoch 150 finished \tANN training loss 0.307817\n",
      ">> Epoch 151 finished \tANN training loss 0.306238\n",
      ">> Epoch 152 finished \tANN training loss 0.304634\n",
      ">> Epoch 153 finished \tANN training loss 0.303110\n",
      ">> Epoch 154 finished \tANN training loss 0.301563\n",
      ">> Epoch 155 finished \tANN training loss 0.300033\n",
      ">> Epoch 156 finished \tANN training loss 0.298571\n",
      ">> Epoch 157 finished \tANN training loss 0.297095\n",
      ">> Epoch 158 finished \tANN training loss 0.295647\n",
      ">> Epoch 159 finished \tANN training loss 0.294435\n",
      ">> Epoch 160 finished \tANN training loss 0.292986\n",
      ">> Epoch 161 finished \tANN training loss 0.291572\n",
      ">> Epoch 162 finished \tANN training loss 0.290306\n",
      ">> Epoch 163 finished \tANN training loss 0.288967\n",
      ">> Epoch 164 finished \tANN training loss 0.287770\n",
      ">> Epoch 165 finished \tANN training loss 0.286507\n",
      ">> Epoch 166 finished \tANN training loss 0.285272\n",
      ">> Epoch 167 finished \tANN training loss 0.284068\n",
      ">> Epoch 168 finished \tANN training loss 0.282795\n",
      ">> Epoch 169 finished \tANN training loss 0.281507\n",
      ">> Epoch 170 finished \tANN training loss 0.280296\n",
      ">> Epoch 171 finished \tANN training loss 0.279130\n",
      ">> Epoch 172 finished \tANN training loss 0.277945\n",
      ">> Epoch 173 finished \tANN training loss 0.276834\n",
      ">> Epoch 174 finished \tANN training loss 0.275657\n",
      ">> Epoch 175 finished \tANN training loss 0.274595\n",
      ">> Epoch 176 finished \tANN training loss 0.273515\n",
      ">> Epoch 177 finished \tANN training loss 0.272389\n",
      ">> Epoch 178 finished \tANN training loss 0.271363\n",
      ">> Epoch 179 finished \tANN training loss 0.270266\n",
      ">> Epoch 180 finished \tANN training loss 0.269355\n",
      ">> Epoch 181 finished \tANN training loss 0.268270\n",
      ">> Epoch 182 finished \tANN training loss 0.267215\n",
      ">> Epoch 183 finished \tANN training loss 0.266258\n",
      ">> Epoch 184 finished \tANN training loss 0.265153\n",
      ">> Epoch 185 finished \tANN training loss 0.264094\n",
      ">> Epoch 186 finished \tANN training loss 0.263142\n",
      ">> Epoch 187 finished \tANN training loss 0.262074\n",
      ">> Epoch 188 finished \tANN training loss 0.261041\n",
      ">> Epoch 189 finished \tANN training loss 0.260079\n",
      ">> Epoch 190 finished \tANN training loss 0.259095\n",
      ">> Epoch 191 finished \tANN training loss 0.258068\n",
      ">> Epoch 192 finished \tANN training loss 0.257004\n",
      ">> Epoch 193 finished \tANN training loss 0.256078\n",
      ">> Epoch 194 finished \tANN training loss 0.255061\n",
      ">> Epoch 195 finished \tANN training loss 0.254137\n",
      ">> Epoch 196 finished \tANN training loss 0.253188\n",
      ">> Epoch 197 finished \tANN training loss 0.252281\n",
      ">> Epoch 198 finished \tANN training loss 0.251413\n",
      ">> Epoch 199 finished \tANN training loss 0.250524\n",
      ">> Epoch 200 finished \tANN training loss 0.249570\n",
      ">> Epoch 201 finished \tANN training loss 0.248758\n",
      ">> Epoch 202 finished \tANN training loss 0.247814\n",
      ">> Epoch 203 finished \tANN training loss 0.247045\n",
      ">> Epoch 204 finished \tANN training loss 0.246121\n",
      ">> Epoch 205 finished \tANN training loss 0.245298\n",
      ">> Epoch 206 finished \tANN training loss 0.244365\n",
      ">> Epoch 207 finished \tANN training loss 0.243512\n",
      ">> Epoch 208 finished \tANN training loss 0.242604\n",
      ">> Epoch 209 finished \tANN training loss 0.241756\n",
      ">> Epoch 210 finished \tANN training loss 0.240899\n",
      ">> Epoch 211 finished \tANN training loss 0.240115\n",
      ">> Epoch 212 finished \tANN training loss 0.239266\n",
      ">> Epoch 213 finished \tANN training loss 0.238414\n",
      ">> Epoch 214 finished \tANN training loss 0.237650\n",
      ">> Epoch 215 finished \tANN training loss 0.236839\n",
      ">> Epoch 216 finished \tANN training loss 0.236053\n",
      ">> Epoch 217 finished \tANN training loss 0.235213\n",
      ">> Epoch 218 finished \tANN training loss 0.234371\n",
      ">> Epoch 219 finished \tANN training loss 0.233602\n",
      ">> Epoch 220 finished \tANN training loss 0.232869\n",
      ">> Epoch 221 finished \tANN training loss 0.232059\n",
      ">> Epoch 222 finished \tANN training loss 0.231235\n",
      ">> Epoch 223 finished \tANN training loss 0.230493\n",
      ">> Epoch 224 finished \tANN training loss 0.229720\n",
      ">> Epoch 225 finished \tANN training loss 0.229009\n",
      ">> Epoch 226 finished \tANN training loss 0.228324\n",
      ">> Epoch 227 finished \tANN training loss 0.227566\n",
      ">> Epoch 228 finished \tANN training loss 0.226883\n",
      ">> Epoch 229 finished \tANN training loss 0.226215\n",
      ">> Epoch 230 finished \tANN training loss 0.225442\n",
      ">> Epoch 231 finished \tANN training loss 0.224730\n",
      ">> Epoch 232 finished \tANN training loss 0.223950\n",
      ">> Epoch 233 finished \tANN training loss 0.223171\n",
      ">> Epoch 234 finished \tANN training loss 0.222435\n",
      ">> Epoch 235 finished \tANN training loss 0.221720\n",
      ">> Epoch 236 finished \tANN training loss 0.220946\n",
      ">> Epoch 237 finished \tANN training loss 0.220195\n",
      ">> Epoch 238 finished \tANN training loss 0.219456\n",
      ">> Epoch 239 finished \tANN training loss 0.218693\n",
      ">> Epoch 240 finished \tANN training loss 0.217938\n",
      ">> Epoch 241 finished \tANN training loss 0.217171\n"
     ]
    },
    {
     "name": "stdout",
     "output_type": "stream",
     "text": [
      ">> Epoch 242 finished \tANN training loss 0.216431\n",
      ">> Epoch 243 finished \tANN training loss 0.215730\n",
      ">> Epoch 244 finished \tANN training loss 0.215102\n",
      ">> Epoch 245 finished \tANN training loss 0.214412\n",
      ">> Epoch 246 finished \tANN training loss 0.213673\n",
      ">> Epoch 247 finished \tANN training loss 0.212936\n",
      ">> Epoch 248 finished \tANN training loss 0.212214\n",
      ">> Epoch 249 finished \tANN training loss 0.211542\n",
      ">> Epoch 250 finished \tANN training loss 0.210835\n",
      ">> Epoch 251 finished \tANN training loss 0.210148\n",
      ">> Epoch 252 finished \tANN training loss 0.209466\n",
      ">> Epoch 253 finished \tANN training loss 0.208761\n",
      ">> Epoch 254 finished \tANN training loss 0.208021\n",
      ">> Epoch 255 finished \tANN training loss 0.207268\n",
      ">> Epoch 256 finished \tANN training loss 0.206559\n",
      ">> Epoch 257 finished \tANN training loss 0.205884\n",
      ">> Epoch 258 finished \tANN training loss 0.205251\n",
      ">> Epoch 259 finished \tANN training loss 0.204540\n",
      ">> Epoch 260 finished \tANN training loss 0.203818\n",
      ">> Epoch 261 finished \tANN training loss 0.203111\n",
      ">> Epoch 262 finished \tANN training loss 0.202429\n",
      ">> Epoch 263 finished \tANN training loss 0.201713\n",
      ">> Epoch 264 finished \tANN training loss 0.200972\n",
      ">> Epoch 265 finished \tANN training loss 0.200274\n",
      ">> Epoch 266 finished \tANN training loss 0.199533\n",
      ">> Epoch 267 finished \tANN training loss 0.198803\n",
      ">> Epoch 268 finished \tANN training loss 0.198102\n",
      ">> Epoch 269 finished \tANN training loss 0.197336\n",
      ">> Epoch 270 finished \tANN training loss 0.196634\n",
      ">> Epoch 271 finished \tANN training loss 0.195890\n",
      ">> Epoch 272 finished \tANN training loss 0.195119\n",
      ">> Epoch 273 finished \tANN training loss 0.194345\n",
      ">> Epoch 274 finished \tANN training loss 0.193598\n",
      ">> Epoch 275 finished \tANN training loss 0.192900\n",
      ">> Epoch 276 finished \tANN training loss 0.192146\n",
      ">> Epoch 277 finished \tANN training loss 0.191377\n",
      ">> Epoch 278 finished \tANN training loss 0.190673\n",
      ">> Epoch 279 finished \tANN training loss 0.189928\n",
      ">> Epoch 280 finished \tANN training loss 0.189132\n",
      ">> Epoch 281 finished \tANN training loss 0.188314\n",
      ">> Epoch 282 finished \tANN training loss 0.187494\n",
      ">> Epoch 283 finished \tANN training loss 0.186735\n",
      ">> Epoch 284 finished \tANN training loss 0.185859\n",
      ">> Epoch 285 finished \tANN training loss 0.184982\n",
      ">> Epoch 286 finished \tANN training loss 0.184100\n",
      ">> Epoch 287 finished \tANN training loss 0.183289\n",
      ">> Epoch 288 finished \tANN training loss 0.182358\n",
      ">> Epoch 289 finished \tANN training loss 0.181475\n",
      ">> Epoch 290 finished \tANN training loss 0.180521\n",
      ">> Epoch 291 finished \tANN training loss 0.179589\n",
      ">> Epoch 292 finished \tANN training loss 0.178593\n",
      ">> Epoch 293 finished \tANN training loss 0.177662\n",
      ">> Epoch 294 finished \tANN training loss 0.176676\n",
      ">> Epoch 295 finished \tANN training loss 0.175600\n",
      ">> Epoch 296 finished \tANN training loss 0.174455\n",
      ">> Epoch 297 finished \tANN training loss 0.173356\n",
      ">> Epoch 298 finished \tANN training loss 0.172226\n",
      ">> Epoch 299 finished \tANN training loss 0.171147\n",
      ">> Epoch 300 finished \tANN training loss 0.170072\n",
      ">> Epoch 301 finished \tANN training loss 0.168889\n",
      ">> Epoch 302 finished \tANN training loss 0.167729\n",
      ">> Epoch 303 finished \tANN training loss 0.166367\n",
      ">> Epoch 304 finished \tANN training loss 0.164948\n",
      ">> Epoch 305 finished \tANN training loss 0.163530\n",
      ">> Epoch 306 finished \tANN training loss 0.162093\n",
      ">> Epoch 307 finished \tANN training loss 0.160521\n",
      ">> Epoch 308 finished \tANN training loss 0.158821\n",
      ">> Epoch 309 finished \tANN training loss 0.157349\n",
      ">> Epoch 310 finished \tANN training loss 0.155602\n",
      ">> Epoch 311 finished \tANN training loss 0.153939\n",
      ">> Epoch 312 finished \tANN training loss 0.152196\n",
      ">> Epoch 313 finished \tANN training loss 0.150428\n",
      ">> Epoch 314 finished \tANN training loss 0.148539\n",
      ">> Epoch 315 finished \tANN training loss 0.146364\n",
      ">> Epoch 316 finished \tANN training loss 0.144495\n",
      ">> Epoch 317 finished \tANN training loss 0.142432\n",
      ">> Epoch 318 finished \tANN training loss 0.140215\n",
      ">> Epoch 319 finished \tANN training loss 0.138407\n",
      ">> Epoch 320 finished \tANN training loss 0.136364\n",
      ">> Epoch 321 finished \tANN training loss 0.134425\n",
      ">> Epoch 322 finished \tANN training loss 0.131978\n",
      ">> Epoch 323 finished \tANN training loss 0.129841\n",
      ">> Epoch 324 finished \tANN training loss 0.127457\n",
      ">> Epoch 325 finished \tANN training loss 0.125191\n",
      ">> Epoch 326 finished \tANN training loss 0.122949\n",
      ">> Epoch 327 finished \tANN training loss 0.120777\n",
      ">> Epoch 328 finished \tANN training loss 0.118776\n",
      ">> Epoch 329 finished \tANN training loss 0.116670\n",
      ">> Epoch 330 finished \tANN training loss 0.114576\n",
      ">> Epoch 331 finished \tANN training loss 0.112550\n",
      ">> Epoch 332 finished \tANN training loss 0.110594\n",
      ">> Epoch 333 finished \tANN training loss 0.108531\n",
      ">> Epoch 334 finished \tANN training loss 0.106714\n",
      ">> Epoch 335 finished \tANN training loss 0.104852\n",
      ">> Epoch 336 finished \tANN training loss 0.103351\n",
      ">> Epoch 337 finished \tANN training loss 0.101769\n",
      ">> Epoch 338 finished \tANN training loss 0.100179\n",
      ">> Epoch 339 finished \tANN training loss 0.098594\n",
      ">> Epoch 340 finished \tANN training loss 0.097035\n",
      ">> Epoch 341 finished \tANN training loss 0.095550\n",
      ">> Epoch 342 finished \tANN training loss 0.094118\n",
      ">> Epoch 343 finished \tANN training loss 0.092823\n",
      ">> Epoch 344 finished \tANN training loss 0.091569\n",
      ">> Epoch 345 finished \tANN training loss 0.090387\n",
      ">> Epoch 346 finished \tANN training loss 0.089234\n",
      ">> Epoch 347 finished \tANN training loss 0.088052\n",
      ">> Epoch 348 finished \tANN training loss 0.086965\n",
      ">> Epoch 349 finished \tANN training loss 0.085920\n",
      ">> Epoch 350 finished \tANN training loss 0.084813\n",
      ">> Epoch 351 finished \tANN training loss 0.083700\n",
      ">> Epoch 352 finished \tANN training loss 0.082964\n",
      ">> Epoch 353 finished \tANN training loss 0.082071\n",
      ">> Epoch 354 finished \tANN training loss 0.081117\n",
      ">> Epoch 355 finished \tANN training loss 0.080208\n",
      ">> Epoch 356 finished \tANN training loss 0.079344\n",
      ">> Epoch 357 finished \tANN training loss 0.078417\n",
      ">> Epoch 358 finished \tANN training loss 0.077575\n",
      ">> Epoch 359 finished \tANN training loss 0.076689\n",
      ">> Epoch 360 finished \tANN training loss 0.075813\n",
      ">> Epoch 361 finished \tANN training loss 0.075207\n",
      ">> Epoch 362 finished \tANN training loss 0.074390\n",
      ">> Epoch 363 finished \tANN training loss 0.073649\n",
      ">> Epoch 364 finished \tANN training loss 0.072911\n",
      ">> Epoch 365 finished \tANN training loss 0.072152\n",
      ">> Epoch 366 finished \tANN training loss 0.071457\n",
      ">> Epoch 367 finished \tANN training loss 0.070728\n",
      ">> Epoch 368 finished \tANN training loss 0.070049\n",
      ">> Epoch 369 finished \tANN training loss 0.069298\n",
      ">> Epoch 370 finished \tANN training loss 0.068581\n",
      ">> Epoch 371 finished \tANN training loss 0.067845\n",
      ">> Epoch 372 finished \tANN training loss 0.067161\n",
      ">> Epoch 373 finished \tANN training loss 0.066512\n",
      ">> Epoch 374 finished \tANN training loss 0.065815\n",
      ">> Epoch 375 finished \tANN training loss 0.065096\n",
      ">> Epoch 376 finished \tANN training loss 0.064603\n",
      ">> Epoch 377 finished \tANN training loss 0.063986\n",
      ">> Epoch 378 finished \tANN training loss 0.063361\n",
      ">> Epoch 379 finished \tANN training loss 0.062732\n",
      ">> Epoch 380 finished \tANN training loss 0.062111\n",
      ">> Epoch 381 finished \tANN training loss 0.061465\n",
      ">> Epoch 382 finished \tANN training loss 0.060836\n",
      ">> Epoch 383 finished \tANN training loss 0.060199\n",
      ">> Epoch 384 finished \tANN training loss 0.059718\n",
      ">> Epoch 385 finished \tANN training loss 0.059071\n",
      ">> Epoch 386 finished \tANN training loss 0.058459\n",
      ">> Epoch 387 finished \tANN training loss 0.057838\n",
      ">> Epoch 388 finished \tANN training loss 0.057199\n",
      ">> Epoch 389 finished \tANN training loss 0.056559\n",
      ">> Epoch 390 finished \tANN training loss 0.055961\n",
      ">> Epoch 391 finished \tANN training loss 0.055383\n",
      ">> Epoch 392 finished \tANN training loss 0.054841\n",
      ">> Epoch 393 finished \tANN training loss 0.054290\n",
      ">> Epoch 394 finished \tANN training loss 0.053752\n",
      ">> Epoch 395 finished \tANN training loss 0.053241\n",
      ">> Epoch 396 finished \tANN training loss 0.052613\n",
      ">> Epoch 397 finished \tANN training loss 0.052069\n",
      ">> Epoch 398 finished \tANN training loss 0.051470\n",
      ">> Epoch 399 finished \tANN training loss 0.051027\n",
      ">> Epoch 400 finished \tANN training loss 0.050537\n",
      ">> Epoch 401 finished \tANN training loss 0.050017\n",
      ">> Epoch 402 finished \tANN training loss 0.049476\n",
      ">> Epoch 403 finished \tANN training loss 0.048974\n",
      ">> Epoch 404 finished \tANN training loss 0.048442\n",
      ">> Epoch 405 finished \tANN training loss 0.047888\n"
     ]
    },
    {
     "name": "stdout",
     "output_type": "stream",
     "text": [
      ">> Epoch 406 finished \tANN training loss 0.047341\n",
      ">> Epoch 407 finished \tANN training loss 0.046742\n",
      ">> Epoch 408 finished \tANN training loss 0.046221\n",
      ">> Epoch 409 finished \tANN training loss 0.045731\n",
      ">> Epoch 410 finished \tANN training loss 0.045254\n",
      ">> Epoch 411 finished \tANN training loss 0.044736\n",
      ">> Epoch 412 finished \tANN training loss 0.044260\n",
      ">> Epoch 413 finished \tANN training loss 0.043799\n",
      ">> Epoch 414 finished \tANN training loss 0.043305\n",
      ">> Epoch 415 finished \tANN training loss 0.042880\n",
      ">> Epoch 416 finished \tANN training loss 0.042409\n",
      ">> Epoch 417 finished \tANN training loss 0.041943\n",
      ">> Epoch 418 finished \tANN training loss 0.041564\n",
      ">> Epoch 419 finished \tANN training loss 0.041142\n",
      ">> Epoch 420 finished \tANN training loss 0.040737\n",
      ">> Epoch 421 finished \tANN training loss 0.040456\n",
      ">> Epoch 422 finished \tANN training loss 0.040037\n",
      ">> Epoch 423 finished \tANN training loss 0.039645\n",
      ">> Epoch 424 finished \tANN training loss 0.039268\n",
      ">> Epoch 425 finished \tANN training loss 0.038885\n",
      ">> Epoch 426 finished \tANN training loss 0.038544\n",
      ">> Epoch 427 finished \tANN training loss 0.038184\n",
      ">> Epoch 428 finished \tANN training loss 0.037838\n",
      ">> Epoch 429 finished \tANN training loss 0.037479\n",
      ">> Epoch 430 finished \tANN training loss 0.037176\n",
      ">> Epoch 431 finished \tANN training loss 0.036845\n",
      ">> Epoch 432 finished \tANN training loss 0.036508\n",
      ">> Epoch 433 finished \tANN training loss 0.036233\n",
      ">> Epoch 434 finished \tANN training loss 0.035945\n",
      ">> Epoch 435 finished \tANN training loss 0.035652\n",
      ">> Epoch 436 finished \tANN training loss 0.035381\n",
      ">> Epoch 437 finished \tANN training loss 0.035090\n",
      ">> Epoch 438 finished \tANN training loss 0.034815\n",
      ">> Epoch 439 finished \tANN training loss 0.034536\n",
      ">> Epoch 440 finished \tANN training loss 0.034290\n",
      ">> Epoch 441 finished \tANN training loss 0.034079\n",
      ">> Epoch 442 finished \tANN training loss 0.033888\n",
      ">> Epoch 443 finished \tANN training loss 0.033653\n",
      ">> Epoch 444 finished \tANN training loss 0.033400\n",
      ">> Epoch 445 finished \tANN training loss 0.033153\n",
      ">> Epoch 446 finished \tANN training loss 0.032937\n",
      ">> Epoch 447 finished \tANN training loss 0.032716\n",
      ">> Epoch 448 finished \tANN training loss 0.032481\n",
      ">> Epoch 449 finished \tANN training loss 0.032256\n",
      ">> Epoch 450 finished \tANN training loss 0.032027\n",
      ">> Epoch 451 finished \tANN training loss 0.031819\n",
      ">> Epoch 452 finished \tANN training loss 0.031660\n",
      ">> Epoch 453 finished \tANN training loss 0.031471\n",
      ">> Epoch 454 finished \tANN training loss 0.031277\n",
      ">> Epoch 455 finished \tANN training loss 0.031088\n",
      ">> Epoch 456 finished \tANN training loss 0.030957\n",
      ">> Epoch 457 finished \tANN training loss 0.030774\n",
      ">> Epoch 458 finished \tANN training loss 0.030624\n",
      ">> Epoch 459 finished \tANN training loss 0.030459\n",
      ">> Epoch 460 finished \tANN training loss 0.030273\n",
      ">> Epoch 461 finished \tANN training loss 0.030155\n",
      ">> Epoch 462 finished \tANN training loss 0.029993\n",
      ">> Epoch 463 finished \tANN training loss 0.029840\n",
      ">> Epoch 464 finished \tANN training loss 0.029684\n",
      ">> Epoch 465 finished \tANN training loss 0.029541\n",
      ">> Epoch 466 finished \tANN training loss 0.029377\n",
      ">> Epoch 467 finished \tANN training loss 0.029207\n",
      ">> Epoch 468 finished \tANN training loss 0.029075\n",
      ">> Epoch 469 finished \tANN training loss 0.028924\n",
      ">> Epoch 470 finished \tANN training loss 0.028820\n",
      ">> Epoch 471 finished \tANN training loss 0.028694\n",
      ">> Epoch 472 finished \tANN training loss 0.028541\n",
      ">> Epoch 473 finished \tANN training loss 0.028389\n",
      ">> Epoch 474 finished \tANN training loss 0.028264\n",
      ">> Epoch 475 finished \tANN training loss 0.028139\n",
      ">> Epoch 476 finished \tANN training loss 0.028022\n",
      ">> Epoch 477 finished \tANN training loss 0.027895\n",
      ">> Epoch 478 finished \tANN training loss 0.027799\n",
      ">> Epoch 479 finished \tANN training loss 0.027713\n",
      ">> Epoch 480 finished \tANN training loss 0.027596\n",
      ">> Epoch 481 finished \tANN training loss 0.027481\n",
      ">> Epoch 482 finished \tANN training loss 0.027385\n",
      ">> Epoch 483 finished \tANN training loss 0.027281\n",
      ">> Epoch 484 finished \tANN training loss 0.027166\n",
      ">> Epoch 485 finished \tANN training loss 0.027045\n",
      ">> Epoch 486 finished \tANN training loss 0.026948\n",
      ">> Epoch 487 finished \tANN training loss 0.026843\n",
      ">> Epoch 488 finished \tANN training loss 0.026731\n",
      ">> Epoch 489 finished \tANN training loss 0.026645\n",
      ">> Epoch 490 finished \tANN training loss 0.026601\n",
      ">> Epoch 491 finished \tANN training loss 0.026494\n",
      ">> Epoch 492 finished \tANN training loss 0.026393\n",
      ">> Epoch 493 finished \tANN training loss 0.026302\n",
      ">> Epoch 494 finished \tANN training loss 0.026230\n",
      ">> Epoch 495 finished \tANN training loss 0.026140\n",
      ">> Epoch 496 finished \tANN training loss 0.026043\n",
      ">> Epoch 497 finished \tANN training loss 0.025950\n",
      ">> Epoch 498 finished \tANN training loss 0.025861\n",
      ">> Epoch 499 finished \tANN training loss 0.025782\n",
      ">> Epoch 500 finished \tANN training loss 0.025693\n",
      ">> Epoch 501 finished \tANN training loss 0.025613\n",
      ">> Epoch 502 finished \tANN training loss 0.025517\n",
      ">> Epoch 503 finished \tANN training loss 0.025440\n",
      ">> Epoch 504 finished \tANN training loss 0.025372\n",
      ">> Epoch 505 finished \tANN training loss 0.025287\n",
      ">> Epoch 506 finished \tANN training loss 0.025203\n",
      ">> Epoch 507 finished \tANN training loss 0.025121\n",
      ">> Epoch 508 finished \tANN training loss 0.025041\n",
      ">> Epoch 509 finished \tANN training loss 0.024962\n",
      ">> Epoch 510 finished \tANN training loss 0.024897\n",
      ">> Epoch 511 finished \tANN training loss 0.024824\n",
      "[END] Fine tuning step\n"
     ]
    },
    {
     "data": {
      "text/plain": [
       "SupervisedDBNClassification(batch_size=32, dropout_p=0.01,\n",
       "                            idx_to_label_map={0: 0, 1: 1, 2: 4, 3: 3},\n",
       "                            l2_regularization=1.0,\n",
       "                            label_to_idx_map={0: 0, 1: 1, 3: 3, 4: 2},\n",
       "                            learning_rate=0.02, n_iter_backprop=512,\n",
       "                            verbose=True)"
      ]
     },
     "execution_count": 71,
     "metadata": {},
     "output_type": "execute_result"
    }
   ],
   "source": [
    "classifier.fit(X_ext, Y_train)"
   ]
  },
  {
   "cell_type": "code",
   "execution_count": 73,
   "metadata": {},
   "outputs": [],
   "source": [
    "# predict probabilities for test set\n",
    "yhat_probs = classifier.predict(X_ext_test)\n",
    "# predict crisp classes for test set\n",
    "#yhat_classes = model.predict_classes(X_test, verbose=0)\n",
    "yhat_classes = yhat_probs# np.argmax(yhat_probs,axis=1)"
   ]
  },
  {
   "cell_type": "code",
   "execution_count": 74,
   "metadata": {},
   "outputs": [
    {
     "name": "stdout",
     "output_type": "stream",
     "text": [
      "Accuracy: 0.972973\n",
      "Precision: 0.958333\n",
      "Recall: 0.916667\n",
      "F1 score: 0.927273\n"
     ]
    }
   ],
   "source": [
    "# accuracy: (tp + tn) / (p + n)\n",
    "accuracy = accuracy_score(Y_test, yhat_classes)\n",
    "print('Accuracy: %f' % accuracy)\n",
    "# precision tp / (tp + fp)\n",
    "precision = precision_score(Y_test, yhat_classes, average='macro')\n",
    "print('Precision: %f' % precision)\n",
    "# recall: tp / (tp + fn)\n",
    "recall = recall_score(Y_test, yhat_classes,average='macro')\n",
    "print('Recall: %f' % recall)\n",
    "# f1: 2 tp / (2 tp + fp + fn)\n",
    "f1 = f1_score(Y_test, yhat_classes, average='macro')\n",
    "print('F1 score: %f' % f1)"
   ]
  },
  {
   "cell_type": "code",
   "execution_count": 75,
   "metadata": {},
   "outputs": [
    {
     "name": "stdout",
     "output_type": "stream",
     "text": [
      "Cohens kappa: 0.953750\n",
      "[[22  0  0  0]\n",
      " [ 0  5  0  0]\n",
      " [ 0  1  2  0]\n",
      " [ 0  0  0  7]]\n"
     ]
    }
   ],
   "source": [
    "# kappa\n",
    "kappa = cohen_kappa_score(Y_test, yhat_classes)\n",
    "print('Cohens kappa: %f' % kappa)\n",
    "# ROC AUC\n",
    "#fprate, tprate, thresholds = roc_curve(Y_test, yhat_probs, average = 'macro')\n",
    "#print('ROC AUC: %f' % thresholds)\n",
    "# confusion matrix\n",
    "matrix = confusion_matrix(Y_test, yhat_classes)\n",
    "print(matrix)"
   ]
  },
  {
   "cell_type": "code",
   "execution_count": 76,
   "metadata": {},
   "outputs": [
    {
     "name": "stderr",
     "output_type": "stream",
     "text": [
      "C:\\Users\\hp\\Anaconda3\\lib\\site-packages\\sklearn\\metrics\\ranking.py:659: UndefinedMetricWarning: No positive samples in y_true, true positive value should be meaningless\n",
      "  UndefinedMetricWarning)\n"
     ]
    }
   ],
   "source": [
    "fpr = {}\n",
    "tpr = {}\n",
    "thresh ={}\n",
    "\n",
    "n_class = 5\n",
    "\n",
    "for i in range(n_class):    \n",
    "    fpr[i], tpr[i], thresh[i] = roc_curve(Y_test, yhat_classes, pos_label=i)"
   ]
  },
  {
   "cell_type": "code",
   "execution_count": 77,
   "metadata": {},
   "outputs": [
    {
     "data": {
      "image/png": "[encoded data removed]",
      "text/plain": [
       "<Figure size 432x288 with 1 Axes>"
      ]
     },
     "metadata": {
      "needs_background": "light"
     },
     "output_type": "display_data"
    }
   ],
   "source": [
    "# plotting    \n",
    "plt.plot(fpr[0], tpr[0], linestyle='--',color='orange', label='Class 0 vs Rest')\n",
    "plt.plot(fpr[1], tpr[1], linestyle='--',color='green', label='Class 1 vs Rest')\n",
    "plt.plot(fpr[2], tpr[2], linestyle='--',color='blue', label='Class 2 vs Rest')\n",
    "plt.plot(fpr[3], tpr[3], linestyle='--',color='red', label='Class 3 vs Rest')\n",
    "plt.plot(fpr[4], tpr[4], linestyle='--',color='black', label='Class 4 vs Rest')\n",
    "plt.title('Multiclass ROC curve')\n",
    "plt.xlabel('False Positive Rate')\n",
    "plt.ylabel('True Positive rate')\n",
    "plt.legend(loc='best')\n",
    "plt.savefig('Multiclass ROC',dpi=300); "
   ]
  },
  {
   "cell_type": "code",
   "execution_count": 78,
   "metadata": {},
   "outputs": [
    {
     "name": "stdout",
     "output_type": "stream",
     "text": [
      "Confusion matrix : \n",
      " [[22  0  0  0]\n",
      " [ 0  5  0  0]\n",
      " [ 0  1  2  0]\n",
      " [ 0  0  0  7]]\n"
     ]
    }
   ],
   "source": [
    "matrix = confusion_matrix(Y_test,yhat_classes, labels= [0, 1, 3, 4])\n",
    "print('Confusion matrix : \\n',matrix)"
   ]
  },
  {
   "cell_type": "code",
   "execution_count": 79,
   "metadata": {},
   "outputs": [
    {
     "name": "stdout",
     "output_type": "stream",
     "text": [
      "Classification report : \n",
      "               precision    recall  f1-score   support\n",
      "\n",
      "           0       1.00      1.00      1.00        22\n",
      "           1       0.83      1.00      0.91         5\n",
      "           3       1.00      0.67      0.80         3\n",
      "           4       1.00      1.00      1.00         7\n",
      "\n",
      "    accuracy                           0.97        37\n",
      "   macro avg       0.96      0.92      0.93        37\n",
      "weighted avg       0.98      0.97      0.97        37\n",
      "\n"
     ]
    }
   ],
   "source": [
    "matrix = classification_report(Y_test,yhat_classes, labels= [0, 1, 3, 4])\n",
    "print('Classification report : \\n',matrix)"
   ]
  },
  {
   "cell_type": "code",
   "execution_count": 113,
   "metadata": {},
   "outputs": [],
   "source": [
    "classifier.save('./models/Without IP address/CNN-DBN/DBN.pkl')"
   ]
  },
  {
   "cell_type": "code",
   "execution_count": null,
   "metadata": {},
   "outputs": [],
   "source": []
  }
 ],
 "metadata": {
  "kernelspec": {
   "display_name": "Python 3",
   "language": "python",
   "name": "python3"
  },
  "language_info": {
   "codemirror_mode": {
    "name": "ipython",
    "version": 3
   },
   "file_extension": ".py",
   "mimetype": "text/x-python",
   "name": "python",
   "nbconvert_exporter": "python",
   "pygments_lexer": "ipython3",
   "version": "3.7.4"
  }
 },
 "nbformat": 4,
 "nbformat_minor": 2
}

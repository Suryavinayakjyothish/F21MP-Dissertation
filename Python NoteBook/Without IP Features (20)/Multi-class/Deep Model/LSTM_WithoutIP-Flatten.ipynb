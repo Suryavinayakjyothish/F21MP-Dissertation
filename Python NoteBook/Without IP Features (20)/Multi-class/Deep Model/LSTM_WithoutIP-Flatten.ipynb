{
 "cells": [
  {
   "cell_type": "code",
   "execution_count": 1,
   "metadata": {},
   "outputs": [],
   "source": [
    "import pandas as pd\n",
    "import numpy as np\n",
    "from datetime import datetime\n",
    "import time\n",
    "import matplotlib.pyplot as plt\n",
    "import gc\n",
    "pd.set_option('display.max_columns', None)"
   ]
  },
  {
   "cell_type": "code",
   "execution_count": 2,
   "metadata": {},
   "outputs": [],
   "source": [
    "## for machine learning\n",
    "from sklearn import model_selection, preprocessing, feature_selection, ensemble, linear_model, metrics, decomposition\n",
    "## for plotting\n",
    "import matplotlib.pyplot as plt\n",
    "## for machine learning\n",
    "from sklearn import model_selection, preprocessing, feature_selection, ensemble, linear_model, metrics, decomposition\n",
    "from sklearn.preprocessing import LabelEncoder,Normalizer,StandardScaler, OneHotEncoder, MinMaxScaler\n",
    "from sklearn.feature_selection import mutual_info_classif\n",
    "from sklearn.metrics import confusion_matrix\n",
    "from sklearn.metrics import classification_report\n",
    "## for explainer\n",
    "#from lime import lime_tabular"
   ]
  },
  {
   "cell_type": "code",
   "execution_count": 3,
   "metadata": {},
   "outputs": [],
   "source": [
    "#a = pd.read_csv('drive/My Drive/Colab Notebooks/traffic/OpenStack/CIDDS-001-internal-week1.csv', low_memory=False, encoding='cp1252')\n",
    "#b = pd.read_csv('drive/My Drive/Colab Notebooks/traffic/OpenStack/CIDDS-001-internal-week2.csv', low_memory=False, encoding='cp1252')\n",
    "a = pd.read_csv('./CIDDS-001/traffic/OpenStack/CIDDS-001-internal-week1.csv', low_memory=False, encoding='cp1252')\n",
    "b = pd.read_csv('./CIDDS-001/traffic/OpenStack/CIDDS-001-internal-week2.csv', low_memory=False, encoding='cp1252')\n",
    "c =  pd.read_csv('./CIDDS-001/traffic/ExternalServer/CIDDS-001-external-week2.csv', low_memory=False, encoding='cp1252')\n",
    "d =  pd.read_csv('./CIDDS-001/traffic/ExternalServer/CIDDS-001-external-week3.csv', low_memory=False, encoding='cp1252')\n",
    "e =  pd.read_csv('./CIDDS-001/traffic/ExternalServer/CIDDS-001-external-week4.csv', low_memory=False, encoding='cp1252')\n",
    "#f =  pd.read_csv('./CIDDS-001/traffic/ExternalServer/CIDDS-001-external-week1.csv', low_memory=False, encoding='cp1252')\n",
    "#c = pd.read_csv('drive/My Drive/Colab Notebooks/traffic/OpenStack/CIDDS-001-internal-week3.csv', low_memory=False , encoding='cp1252')\n",
    "#d = pd.read_csv('drive/My Drive/Colab Notebooks/traffic/OpenStack/CIDDS-001-internal-week4.csv', low_memory=False, encoding='cp1252')\n",
    "#e =  pd.read_csv('drive/My Drive/Colab Notebooks/traffic/ExternalServer/CIDDS-001-external-week1.csv', low_memory=False, encoding='cp1252')\n",
    "#f =  pd.read_csv('drive/My Drive/Colab Notebooks/traffic/ExternalServer/CIDDS-001-external-week2.csv', low_memory=False, encoding='cp1252')\n",
    "#g =  pd.read_csv('drive/My Drive/Colab Notebooks/traffic/ExternalServer/CIDDS-001-external-week3.csv', low_memory=False, encoding='cp1252')\n",
    "#h =  pd.read_csv('drive/My Drive/Colab Notebooks/traffic/ExternalServer/CIDDS-001-external-week4.csv', low_memory=False, encoding='cp1252')"
   ]
  },
  {
   "cell_type": "code",
   "execution_count": 4,
   "metadata": {},
   "outputs": [
    {
     "name": "stdout",
     "output_type": "stream",
     "text": [
      "(10310733, 16)\n"
     ]
    },
    {
     "data": {
      "text/plain": [
       "(1795404, 16)"
      ]
     },
     "execution_count": 4,
     "metadata": {},
     "output_type": "execute_result"
    }
   ],
   "source": [
    "print(b.shape)\n",
    "#a.drop(a[a['attackType'] == '---'].index, axis = 0, inplace= True) \n",
    "b.drop(b[b['attackType'] == '---'].index, axis = 0, inplace= True)  \n",
    "c.drop(c[c['attackType'] == '---'].index, axis = 0, inplace= True)  \n",
    "d.drop(d[d['attackType'] == '---'].index, axis = 0, inplace= True)  \n",
    "#e.drop(e[e['attackType'] == '---'].index, axis = 0, inplace= True)  \n",
    "b.shape"
   ]
  },
  {
   "cell_type": "code",
   "execution_count": 5,
   "metadata": {},
   "outputs": [],
   "source": [
    "data_external = pd.concat([c,d,e], axis = 0)\n",
    "data_external.reset_index(drop= True, inplace= True)"
   ]
  },
  {
   "cell_type": "code",
   "execution_count": 6,
   "metadata": {},
   "outputs": [],
   "source": [
    "#to Increment attackID values\n",
    "data_external['attackID'] = data_external['attackID'].apply(lambda x: str(int(x) + 70) if x != '---' else x)"
   ]
  },
  {
   "cell_type": "code",
   "execution_count": 7,
   "metadata": {},
   "outputs": [],
   "source": [
    "def convert_bytes(df):\n",
    "    if 'M' in df:\n",
    "        df = df.split('M')\n",
    "        df = df[0].strip()\n",
    "        df = float(df) * 1000000\n",
    "    elif 'B' in df:\n",
    "        df = df.split('B')\n",
    "        df = df[0].strip()\n",
    "        df =  float(df) * 1000000000\n",
    "    else: \n",
    "        df =float(df)\n",
    "    return df"
   ]
  },
  {
   "cell_type": "code",
   "execution_count": 8,
   "metadata": {},
   "outputs": [
    {
     "data": {
      "text/plain": [
       "0"
      ]
     },
     "execution_count": 8,
     "metadata": {},
     "output_type": "execute_result"
    }
   ],
   "source": [
    "data = pd.concat([a,b,data_external], axis = 0)\n",
    "data.reset_index(drop= True, inplace= True)\n",
    "data['Bytes'] = data['Bytes'].apply(lambda x: convert_bytes(x))\n",
    "columns = ['Src Pt', 'Dst Pt','Tos','Flows','Packets', 'Bytes']\n",
    "for i in columns:\n",
    "    data[i] = pd.to_numeric(data[i]);\n",
    "del columns\n",
    "del a,b,c,d,e, data_external\n",
    "gc.collect()"
   ]
  },
  {
   "cell_type": "code",
   "execution_count": 9,
   "metadata": {},
   "outputs": [],
   "source": [
    "#data.dtypes"
   ]
  },
  {
   "cell_type": "code",
   "execution_count": 10,
   "metadata": {},
   "outputs": [],
   "source": [
    "#Converts Hexadecimal value to Binary\n",
    "def hex_to_binary(hexdata):\n",
    "    scale = 16 ## equals to hexadecimal\n",
    "    num_of_bits = 9\n",
    "    return bin(int(hexdata, scale))[2:].zfill(num_of_bits);\n",
    "#Converts TCP flags to Binary\n",
    "def to_Binary(x):\n",
    "    l = 0\n",
    "    x = '...' + x\n",
    "    x = list(x)\n",
    "    for i in x:\n",
    "        if (i=='.'):\n",
    "            x[l]= '0'\n",
    "        else:\n",
    "            x[l] = '1'\n",
    "        l = l +1\n",
    "    return ''.join(x)\n",
    "#Converts the 'Flags' column to 9 indiviual columns (manual oneshot encoding)\n",
    "def flag_convert(df):  \n",
    "   # df['Flags'] = df['Flags'].apply(lambda x: (list(x)))\n",
    "   # temp = df['Flags'].apply(lambda x: toBinary(x))\n",
    "    hex_values = list(df[(df['Flags'].str.contains(\"0x\", na=False))]['Flags'].unique())\n",
    "    flag_values = list(df[~(df['Flags'].str.contains(\"0x\", na=False))]['Flags'].unique())\n",
    "    binary_values = {}\n",
    "    for i in hex_values:\n",
    "         binary_values[i] = (hex_to_binary(i))\n",
    "    for i in flag_values:\n",
    "         binary_values[i] = (to_Binary(i))\n",
    "    temp = df['Flags'].replace(binary_values)\n",
    "#temp = temp.apply(lambda x: pd.Series(x)) \n",
    "    temp = pd.DataFrame(temp.apply(list).tolist())\n",
    "#temp = pd.DataFrame(temp)\n",
    "#a = a.iloc[: , 1:]\n",
    "   # print(temp.head())\n",
    "    temp.columns = ['N','C','E','U' ,'A','P','R','S','F']\n",
    "    for i in temp.columns:\n",
    "        temp[i] = pd.to_numeric(temp[i]);\n",
    "    temp = temp.reset_index(drop=True)\n",
    "    df = df.reset_index(drop=True)\n",
    "    df = pd.concat([df, temp], axis = 1)\n",
    "    return df;"
   ]
  },
  {
   "cell_type": "code",
   "execution_count": 11,
   "metadata": {},
   "outputs": [],
   "source": [
    "#make a IP_pairs \n",
    "def make_pair(df):\n",
    "    ip_pair = df['Src IP Addr'] +'/' +df['Dst IP Addr']\n",
    "    source_ip = df['Src IP Addr'].unique().tolist()\n",
    "    destination_ip = df['Dst IP Addr'].unique().tolist()\n",
    "   # df = df.drop(columns = ['Src IP Addr', 'Dst IP Addr'])\n",
    "    df.insert(1, ' IP Pair', ip_pair)\n",
    "    return df\n",
    "\n",
    "def check_inverse(df):\n",
    "    list_pairs = df[' IP Pair'].unique()\n",
    "    tuple_pair = []\n",
    "    for i in list_pairs:\n",
    "        tuple_pair.append(tuple((i.split('/'))))\n",
    "    dic_store = {}\n",
    "    for i in tuple_pair:\n",
    "        if (i  not in dic_store.keys()) and (i[::-1] not in dic_store.keys()):\n",
    "            dic_store[i] = i[0] + '/' +i[1]\n",
    "    print(len(dic_store.keys()))\n",
    "    dic_final = {}\n",
    "    for i in dic_store.keys():\n",
    "        dic_final[i[0] + '/' +i[1]] = dic_store[i]\n",
    "        dic_final[i[1] + '/' +i[0]] = dic_store[i]\n",
    "    df[' IP Pair'] = df[' IP Pair'].map(dic_final)               \n",
    "    return df"
   ]
  },
  {
   "cell_type": "code",
   "execution_count": 12,
   "metadata": {},
   "outputs": [],
   "source": [
    "def normalize_IP(df):\n",
    "    columns = ['sourceIP_feature 1', 'sourceIP_feature 2', 'sourceIP_feature 3', 'sourceIP_feature 4', 'destIP_feature 1',\n",
    "              'destIP_feature 2', 'destIP_feature 3', 'destIP_feature 4']\n",
    "    normalized = df[columns]\n",
    "    print(columns)\n",
    "    transformed = MinMaxScaler().fit(normalized).transform(normalized)\n",
    "    transformed = pd.DataFrame(transformed)\n",
    "    j = 0\n",
    "    col = {}\n",
    "    for i in columns:\n",
    "        col[j] = i\n",
    "        j=j+1\n",
    "    transformed = transformed.rename(columns = col)\n",
    "    transformed = transformed.reset_index()\n",
    "    for i in columns:\n",
    "        df[i] = transformed[i].to_numpy()\n",
    "    return df;"
   ]
  },
  {
   "cell_type": "code",
   "execution_count": 13,
   "metadata": {},
   "outputs": [],
   "source": [
    "def normalize(df):\n",
    "    numerics = ['int16', 'int32', 'int64', 'float16', 'float32', 'float64']\n",
    "    columns = (df).select_dtypes(include=numerics).columns\n",
    "    print(columns)\n",
    "    normalized = df[columns]#.drop(['Bytes'])\n",
    "   # print(columns)\n",
    "    transformed = MinMaxScaler().fit(normalized).transform(normalized)\n",
    "    transformed = pd.DataFrame(transformed)\n",
    "    j = 0\n",
    "    col = {}\n",
    "    for i in columns:\n",
    "        col[j] = i\n",
    "        j=j+1\n",
    "    transformed = transformed.rename(columns = col)\n",
    "    transformed = transformed.reset_index()\n",
    "    for i in columns:\n",
    "        df[i] = transformed[i].to_numpy()\n",
    "    return df;"
   ]
  },
  {
   "cell_type": "code",
   "execution_count": 14,
   "metadata": {},
   "outputs": [],
   "source": [
    "def one_shot(df):\n",
    "    label_encoder = LabelEncoder()\n",
    "    #df.astype({'attackType': 'str'})\n",
    "    df['attackType'] = label_encoder.fit_transform(df['attackType'])\n",
    "    print(list(label_encoder.classes_))\n",
    "    print(list(label_encoder.transform(label_encoder.classes_)))\n",
    "    \n",
    "#    onehot_encoder = OneHotEncoder()\n",
    "#    onehot_encoder.fit(df.attackType.to_numpy().reshape(-1, 1))\n",
    "#    proto = onehot_encoder.transform(df.attackType.to_numpy().reshape(-1, 1))\n",
    "#    proto = pd.DataFrame.sparse.from_spmatrix(proto)\n",
    "#    proto.astype('int32')\n",
    "#    proto.columns = label_encoder.classes_\n",
    "#    df = pd.concat([df, proto], axis = 1) \n",
    "    \n",
    "   \n",
    "    \n",
    "    df['Proto'] = label_encoder.fit_transform(df['Proto'])\n",
    "    print(list(label_encoder.classes_))\n",
    "    print(list(label_encoder.transform(label_encoder.classes_)))\n",
    "    \n",
    "    onehot_encoder1 = OneHotEncoder()\n",
    "    onehot_encoder1.fit(df.Proto.to_numpy().reshape(-1, 1))\n",
    "    proto = onehot_encoder1.transform(df.Proto.to_numpy().reshape(-1, 1))\n",
    "    proto = pd.DataFrame.sparse.from_spmatrix(proto)\n",
    "    proto.astype('int32')\n",
    "    proto.columns = label_encoder.classes_\n",
    "   # print(proto.head(1))\n",
    "    df = pd.concat([df, proto], axis = 1)\n",
    "    return df;"
   ]
  },
  {
   "cell_type": "code",
   "execution_count": 15,
   "metadata": {},
   "outputs": [],
   "source": [
    "def drop_columns(df):\n",
    "    return df.drop(columns = ['Date first seen', ' IP Pair', 'Flows', 'class', 'attackID','Flags',\n",
    "                              'attackDescription', 'Src IP Addr', 'Dst IP Addr','Proto'], axis =1)"
   ]
  },
  {
   "cell_type": "code",
   "execution_count": 16,
   "metadata": {},
   "outputs": [],
   "source": [
    "#Aplit IP address into features, 7 features\n",
    "def split_to_net(IP_address):\n",
    "    IP_list = IP_address.split(\".\")\n",
    "    needed_len = 7\n",
    "    needed_len = needed_len - len(IP_list)\n",
    "    for i in range(0,needed_len,1):\n",
    "        IP_list.append('0')\n",
    "    return IP_list\n",
    "#replace unknown IP address, and convert to columns\n",
    "def IP_split(df): \n",
    "    replace = {\"ATTACKER1\":\"0.0.0.0\",\n",
    "           \"ATTACKER2\":\"0.0.0.0\",\n",
    "           \"ATTACKER3\":\"0.0.0.0\",\n",
    "           \"EXT_SERVER\": \"0.0.0.0.1\",\n",
    "          \"OPENSTACK_NET\": \"0.0.0.0.0.1\",\n",
    "          \"DNS\": \"0.0.0.0.0.0.1\"}\n",
    "    df = df.replace({\"Src IP Addr\": replace, \"Dst IP Addr\": replace}, value=None)\n",
    "    temp_source = df[\"Src IP Addr\"].apply(lambda x: \"0.0.0.0.0.0.0\" if ('_') in x else x)\n",
    "    temp_des = df['Dst IP Addr'].apply(lambda x: \"0.0.0.0.0.0.0\" if ('_') in x else x)\n",
    "   # sourceIP = list(df[\"Src IP Addr\"].unique())\n",
    "   # destIP = list(df[\"Dst IP Addr\"].unique())\n",
    "   # sourceIP_values = {}\n",
    "   # desIP_values = {}\n",
    "   # for i in sourceIP:\n",
    "   #      sourceIP_values[i] = (split_to_net(i))\n",
    "   # for i in destIP:\n",
    "   #      desIP_values[i] = (split_to_net(i))\n",
    "    #print(sourceIP_values)\n",
    "   # print(desIP_values)\n",
    "#for Source IP\n",
    "    temp_source = temp_source.apply(lambda x: split_to_net(x) )\n",
    "    temp_source = pd.DataFrame(temp_source.apply(list).tolist())\n",
    "    temp_source.columns = ['sourceIP_feature 1','sourceIP_feature 2','sourceIP_feature 3','sourceIP_feature 4' ,\n",
    "                    'sourceEXT_SERVER','sourceOPENSTACK_NET','sourceDNS']\n",
    "    for i in temp_source.columns:\n",
    "        temp_source[i] = pd.to_numeric(temp_source[i]);\n",
    "    temp_source = temp_source.reset_index(drop=True)\n",
    "    df = df.reset_index(drop=True)\n",
    "    df = pd.concat([df, temp_source], axis = 1)\n",
    "    #for Destination IP\n",
    "    temp_des = temp_des.apply(lambda x: split_to_net(x) )\n",
    "    temp_des = pd.DataFrame(temp_des.apply(list).tolist())\n",
    "    temp_des.columns = ['destIP_feature 1','destIP_feature 2','destIP_feature 3','destIP_feature 4' ,\n",
    "                    'destEXT_SERVER','destOPENSTACK_NET','destDNS']\n",
    "    for i in temp_des.columns:\n",
    "        temp_des[i] = pd.to_numeric(temp_des[i]);\n",
    "    temp_des = temp_des.reset_index(drop=True)\n",
    "    df = df.reset_index(drop=True)\n",
    "    df = pd.concat([df, temp_des], axis = 1)\n",
    "    return df;"
   ]
  },
  {
   "cell_type": "code",
   "execution_count": 17,
   "metadata": {},
   "outputs": [
    {
     "name": "stdout",
     "output_type": "stream",
     "text": [
      "59362\n"
     ]
    }
   ],
   "source": [
    "data = make_pair(data)\n",
    "data = check_inverse(data)\n"
   ]
  },
  {
   "cell_type": "code",
   "execution_count": 18,
   "metadata": {},
   "outputs": [],
   "source": [
    "#data = IP_split(data)"
   ]
  },
  {
   "cell_type": "code",
   "execution_count": 19,
   "metadata": {
    "scrolled": true
   },
   "outputs": [
    {
     "name": "stdout",
     "output_type": "stream",
     "text": [
      "Index(['Duration', 'Src Pt', 'Dst Pt', 'Packets', 'Bytes', 'Flows', 'Tos'], dtype='object')\n",
      "['---', 'bruteForce', 'dos', 'pingScan', 'portScan']\n",
      "[0, 1, 2, 3, 4]\n",
      "['GRE  ', 'ICMP ', 'IGMP ', 'TCP  ', 'UDP  ']\n",
      "[0, 1, 2, 3, 4]\n"
     ]
    },
    {
     "name": "stderr",
     "output_type": "stream",
     "text": [
      "C:\\Users\\hp\\Anaconda3\\lib\\site-packages\\sklearn\\preprocessing\\_encoders.py:415: FutureWarning: The handling of integer data will change in version 0.22. Currently, the categories are determined based on the range [0, max(values)], while in the future they will be determined based on the unique values.\n",
      "If you want the future behaviour and silence this warning, you can specify \"categories='auto'\".\n",
      "In case you used a LabelEncoder before this OneHotEncoder to convert the categories to integers, then you can now use the OneHotEncoder directly.\n",
      "  warnings.warn(msg, FutureWarning)\n"
     ]
    }
   ],
   "source": [
    "data = normalize(data)\n",
    "data =  one_shot(data) \n",
    "#data = normalize_IP(data)"
   ]
  },
  {
   "cell_type": "code",
   "execution_count": 20,
   "metadata": {},
   "outputs": [],
   "source": [
    "#data['Flows'].unique()"
   ]
  },
  {
   "cell_type": "code",
   "execution_count": 21,
   "metadata": {},
   "outputs": [
    {
     "data": {
      "text/html": [
       "<div>\n",
       "<style scoped>\n",
       "    .dataframe tbody tr th:only-of-type {\n",
       "        vertical-align: middle;\n",
       "    }\n",
       "\n",
       "    .dataframe tbody tr th {\n",
       "        vertical-align: top;\n",
       "    }\n",
       "\n",
       "    .dataframe thead th {\n",
       "        text-align: right;\n",
       "    }\n",
       "</style>\n",
       "<table border=\"1\" class=\"dataframe\">\n",
       "  <thead>\n",
       "    <tr style=\"text-align: right;\">\n",
       "      <th></th>\n",
       "      <th>Date first seen</th>\n",
       "      <th>IP Pair</th>\n",
       "      <th>Duration</th>\n",
       "      <th>Proto</th>\n",
       "      <th>Src IP Addr</th>\n",
       "      <th>Src Pt</th>\n",
       "      <th>Dst IP Addr</th>\n",
       "      <th>Dst Pt</th>\n",
       "      <th>Packets</th>\n",
       "      <th>Bytes</th>\n",
       "      <th>Flows</th>\n",
       "      <th>Flags</th>\n",
       "      <th>Tos</th>\n",
       "      <th>class</th>\n",
       "      <th>attackType</th>\n",
       "      <th>attackID</th>\n",
       "      <th>attackDescription</th>\n",
       "      <th>GRE</th>\n",
       "      <th>ICMP</th>\n",
       "      <th>IGMP</th>\n",
       "      <th>TCP</th>\n",
       "      <th>UDP</th>\n",
       "    </tr>\n",
       "  </thead>\n",
       "  <tbody>\n",
       "    <tr>\n",
       "      <td>0</td>\n",
       "      <td>2017-03-15 00:01:16.632</td>\n",
       "      <td>192.168.100.5/192.168.220.16</td>\n",
       "      <td>0.000000e+00</td>\n",
       "      <td>3</td>\n",
       "      <td>192.168.100.5</td>\n",
       "      <td>0.006790</td>\n",
       "      <td>192.168.220.16</td>\n",
       "      <td>0.897902</td>\n",
       "      <td>0.000000</td>\n",
       "      <td>1.549787e-07</td>\n",
       "      <td>0.0</td>\n",
       "      <td>.AP...</td>\n",
       "      <td>0.0</td>\n",
       "      <td>normal</td>\n",
       "      <td>0</td>\n",
       "      <td>---</td>\n",
       "      <td>---</td>\n",
       "      <td>0.0</td>\n",
       "      <td>0.0</td>\n",
       "      <td>0.0</td>\n",
       "      <td>1.0</td>\n",
       "      <td>0.0</td>\n",
       "    </tr>\n",
       "    <tr>\n",
       "      <td>1</td>\n",
       "      <td>2017-03-15 00:01:16.552</td>\n",
       "      <td>192.168.100.5/192.168.220.15</td>\n",
       "      <td>0.000000e+00</td>\n",
       "      <td>3</td>\n",
       "      <td>192.168.100.5</td>\n",
       "      <td>0.006790</td>\n",
       "      <td>192.168.220.15</td>\n",
       "      <td>0.745983</td>\n",
       "      <td>0.000000</td>\n",
       "      <td>1.549787e-07</td>\n",
       "      <td>0.0</td>\n",
       "      <td>.AP...</td>\n",
       "      <td>0.0</td>\n",
       "      <td>normal</td>\n",
       "      <td>0</td>\n",
       "      <td>---</td>\n",
       "      <td>---</td>\n",
       "      <td>0.0</td>\n",
       "      <td>0.0</td>\n",
       "      <td>0.0</td>\n",
       "      <td>1.0</td>\n",
       "      <td>0.0</td>\n",
       "    </tr>\n",
       "    <tr>\n",
       "      <td>2</td>\n",
       "      <td>2017-03-15 00:01:16.551</td>\n",
       "      <td>192.168.100.5/192.168.220.15</td>\n",
       "      <td>6.613570e-09</td>\n",
       "      <td>3</td>\n",
       "      <td>192.168.220.15</td>\n",
       "      <td>0.745983</td>\n",
       "      <td>192.168.100.5</td>\n",
       "      <td>0.006790</td>\n",
       "      <td>0.000005</td>\n",
       "      <td>2.828361e-07</td>\n",
       "      <td>0.0</td>\n",
       "      <td>.AP...</td>\n",
       "      <td>0.0</td>\n",
       "      <td>normal</td>\n",
       "      <td>0</td>\n",
       "      <td>---</td>\n",
       "      <td>---</td>\n",
       "      <td>0.0</td>\n",
       "      <td>0.0</td>\n",
       "      <td>0.0</td>\n",
       "      <td>1.0</td>\n",
       "      <td>0.0</td>\n",
       "    </tr>\n",
       "    <tr>\n",
       "      <td>3</td>\n",
       "      <td>2017-03-15 00:01:16.631</td>\n",
       "      <td>192.168.100.5/192.168.220.16</td>\n",
       "      <td>6.613570e-09</td>\n",
       "      <td>3</td>\n",
       "      <td>192.168.220.16</td>\n",
       "      <td>0.897902</td>\n",
       "      <td>192.168.100.5</td>\n",
       "      <td>0.006790</td>\n",
       "      <td>0.000005</td>\n",
       "      <td>2.828361e-07</td>\n",
       "      <td>0.0</td>\n",
       "      <td>.AP...</td>\n",
       "      <td>0.0</td>\n",
       "      <td>normal</td>\n",
       "      <td>0</td>\n",
       "      <td>---</td>\n",
       "      <td>---</td>\n",
       "      <td>0.0</td>\n",
       "      <td>0.0</td>\n",
       "      <td>0.0</td>\n",
       "      <td>1.0</td>\n",
       "      <td>0.0</td>\n",
       "    </tr>\n",
       "    <tr>\n",
       "      <td>4</td>\n",
       "      <td>2017-03-15 00:01:16.552</td>\n",
       "      <td>192.168.100.5/192.168.220.15</td>\n",
       "      <td>0.000000e+00</td>\n",
       "      <td>3</td>\n",
       "      <td>192.168.100.5</td>\n",
       "      <td>0.006790</td>\n",
       "      <td>192.168.220.15</td>\n",
       "      <td>0.745983</td>\n",
       "      <td>0.000000</td>\n",
       "      <td>1.549787e-07</td>\n",
       "      <td>0.0</td>\n",
       "      <td>.AP...</td>\n",
       "      <td>0.0</td>\n",
       "      <td>normal</td>\n",
       "      <td>0</td>\n",
       "      <td>---</td>\n",
       "      <td>---</td>\n",
       "      <td>0.0</td>\n",
       "      <td>0.0</td>\n",
       "      <td>0.0</td>\n",
       "      <td>1.0</td>\n",
       "      <td>0.0</td>\n",
       "    </tr>\n",
       "  </tbody>\n",
       "</table>\n",
       "</div>"
      ],
      "text/plain": [
       "           Date first seen                       IP Pair      Duration  Proto  \\\n",
       "0  2017-03-15 00:01:16.632  192.168.100.5/192.168.220.16  0.000000e+00      3   \n",
       "1  2017-03-15 00:01:16.552  192.168.100.5/192.168.220.15  0.000000e+00      3   \n",
       "2  2017-03-15 00:01:16.551  192.168.100.5/192.168.220.15  6.613570e-09      3   \n",
       "3  2017-03-15 00:01:16.631  192.168.100.5/192.168.220.16  6.613570e-09      3   \n",
       "4  2017-03-15 00:01:16.552  192.168.100.5/192.168.220.15  0.000000e+00      3   \n",
       "\n",
       "      Src IP Addr    Src Pt     Dst IP Addr    Dst Pt   Packets         Bytes  \\\n",
       "0   192.168.100.5  0.006790  192.168.220.16  0.897902  0.000000  1.549787e-07   \n",
       "1   192.168.100.5  0.006790  192.168.220.15  0.745983  0.000000  1.549787e-07   \n",
       "2  192.168.220.15  0.745983   192.168.100.5  0.006790  0.000005  2.828361e-07   \n",
       "3  192.168.220.16  0.897902   192.168.100.5  0.006790  0.000005  2.828361e-07   \n",
       "4   192.168.100.5  0.006790  192.168.220.15  0.745983  0.000000  1.549787e-07   \n",
       "\n",
       "   Flows   Flags  Tos   class  attackType attackID attackDescription  GRE    \\\n",
       "0    0.0  .AP...  0.0  normal           0      ---               ---    0.0   \n",
       "1    0.0  .AP...  0.0  normal           0      ---               ---    0.0   \n",
       "2    0.0  .AP...  0.0  normal           0      ---               ---    0.0   \n",
       "3    0.0  .AP...  0.0  normal           0      ---               ---    0.0   \n",
       "4    0.0  .AP...  0.0  normal           0      ---               ---    0.0   \n",
       "\n",
       "   ICMP   IGMP   TCP    UDP    \n",
       "0    0.0    0.0    1.0    0.0  \n",
       "1    0.0    0.0    1.0    0.0  \n",
       "2    0.0    0.0    1.0    0.0  \n",
       "3    0.0    0.0    1.0    0.0  \n",
       "4    0.0    0.0    1.0    0.0  "
      ]
     },
     "execution_count": 21,
     "metadata": {},
     "output_type": "execute_result"
    }
   ],
   "source": [
    "data.head()"
   ]
  },
  {
   "cell_type": "code",
   "execution_count": 22,
   "metadata": {},
   "outputs": [],
   "source": [
    "from datetime import datetime\n",
    "def unix_time(df):\n",
    "  #  df[' Timestamp'] = df[' Timestamp'].apply(lambda x: x + ':00' if len(x) != 19 else x)\n",
    "   # df[' Timestamp'] = df[' Timestamp'].apply(lambda x: x[0 : 5 : ] + x[7 : :] if len(x) != 19 else x[0 : 7 : ] + x[9 : :])\n",
    "    df['Date first seen'] = df['Date first seen'].apply(lambda x: datetime.strptime(x,'%Y-%m-%d %H:%M:%S.%f'))\n",
    "    df['Date first seen'] = df['Date first seen'].apply(lambda x: x.timestamp()*1000)\n",
    "    return df;"
   ]
  },
  {
   "cell_type": "code",
   "execution_count": 23,
   "metadata": {},
   "outputs": [],
   "source": [
    "def normal_profile(grouped):\n",
    "    grouped['---'] = unix_time(grouped['---'])\n",
    "    start_time = int(grouped['---'].head(1)['Date first seen'].values[0])\n",
    "    end_time = int(grouped['---'].tail(1)['Date first seen'].values[0])\n",
    "#date_bins = pd.IntervalIndex.from_tuples(\n",
    "#        [(i, i+3600000) for i in range(start_time, end_time, 3600000)],\n",
    "#        closed=\"left\")\n",
    "#date_labels = [f\"{i}\" for i in range(1, len(date_bins)+1, 1)]\n",
    "    normal_data = dict(tuple( grouped['---'].groupby( pd.cut(\n",
    "            grouped['---']['Date first seen'],\n",
    "               np.arange(start_time, end_time, 3*3600000)))))\n",
    "    del grouped['---']\n",
    "    num = []\n",
    "    for i in grouped_data.keys():\n",
    "          num.append(len(grouped_data[i]))\n",
    "    print(min(num))\n",
    "    num = max(num)\n",
    "    print(num)\n",
    "    print(len(grouped.keys()))\n",
    "    grouped = {**grouped, **normal_data}\n",
    "    print(len(grouped.keys()))\n",
    "    return grouped, num;"
   ]
  },
  {
   "cell_type": "code",
   "execution_count": 24,
   "metadata": {},
   "outputs": [
    {
     "data": {
      "text/plain": [
       "0"
      ]
     },
     "execution_count": 24,
     "metadata": {},
     "output_type": "execute_result"
    }
   ],
   "source": [
    "grouped_data= dict(tuple(data.groupby(['attackID'])))\n",
    "del data\n",
    "gc.collect()"
   ]
  },
  {
   "cell_type": "code",
   "execution_count": 25,
   "metadata": {
    "scrolled": true
   },
   "outputs": [
    {
     "name": "stdout",
     "output_type": "stream",
     "text": [
      "---: 7195669 : 0\n",
      "bruteForce : 26\n",
      "25: 201 : 1\n",
      "27: 680 : 1\n",
      "30: 46 : 1\n",
      "32: 335 : 1\n",
      "39: 364 : 1\n",
      "54: 183 : 1\n",
      "55: 757 : 1\n",
      "56: 427 : 1\n",
      "61: 705 : 1\n",
      "62: 574 : 1\n",
      "64: 480 : 1\n",
      "70: 240 : 1\n",
      "73: 200 : 1\n",
      "74: 200 : 1\n",
      "75: 200 : 1\n",
      "76: 168 : 1\n",
      "78: 200 : 1\n",
      "79: 200 : 1\n",
      "81: 200 : 1\n",
      "83: 200 : 1\n",
      "84: 200 : 1\n",
      "87: 200 : 1\n",
      "88: 200 : 1\n",
      "90: 200 : 1\n",
      "91: 40 : 1\n",
      "92: 40 : 1\n",
      "dos : 18\n",
      "16: 261003 : 2\n",
      "18: 295302 : 2\n",
      "23: 72788 : 2\n",
      "26: 74471 : 2\n",
      "28: 36306 : 2\n",
      "3: 37118 : 2\n",
      "31: 144845 : 2\n",
      "4: 72063 : 2\n",
      "42: 184040 : 2\n",
      "44: 261169 : 2\n",
      "45: 224960 : 2\n",
      "46: 111720 : 2\n",
      "53: 516299 : 2\n",
      "59: 110484 : 2\n",
      "6: 37134 : 2\n",
      "60: 333627 : 2\n",
      "63: 148641 : 2\n",
      "9: 37057 : 2\n",
      "pingScan: 16\n",
      "10: 311 : 3\n",
      "13: 513 : 3\n",
      "15: 64 : 3\n",
      "22: 295 : 3\n",
      "24: 466 : 3\n",
      "33: 307 : 3\n",
      "35: 263 : 3\n",
      "36: 494 : 3\n",
      "38: 267 : 3\n",
      "41: 379 : 3\n",
      "52: 607 : 3\n",
      "57: 522 : 3\n",
      "58: 510 : 3\n",
      "65: 373 : 3\n",
      "66: 359 : 3\n",
      "69: 360 : 3\n",
      "portScan : 32\n",
      "1: 7657 : 4\n",
      "11: 17401 : 4\n",
      "12: 11526 : 4\n",
      "14: 13807 : 4\n",
      "17: 13338 : 4\n",
      "19: 11672 : 4\n",
      "2: 1927 : 4\n",
      "20: 11748 : 4\n",
      "21: 5113 : 4\n",
      "29: 19732 : 4\n",
      "34: 12909 : 4\n",
      "37: 26114 : 4\n",
      "40: 11609 : 4\n",
      "43: 2143 : 4\n",
      "47: 13420 : 4\n",
      "48: 13600 : 4\n",
      "49: 17629 : 4\n",
      "5: 4948 : 4\n",
      "50: 4589 : 4\n",
      "51: 11968 : 4\n",
      "67: 13426 : 4\n",
      "68: 5632 : 4\n",
      "7: 9586 : 4\n",
      "71: 2008 : 4\n",
      "72: 2002 : 4\n",
      "77: 6410 : 4\n",
      "8: 4424 : 4\n",
      "80: 1991 : 4\n",
      "82: 1370 : 4\n",
      "85: 1984 : 4\n",
      "86: 2002 : 4\n",
      "89: 952 : 4\n"
     ]
    }
   ],
   "source": [
    "no_1 = []\n",
    "no_2 = []\n",
    "no_3 = []\n",
    "no_4 = []\n",
    "for i in grouped_data.keys():\n",
    "   \n",
    "    if grouped_data[i]['attackType'].unique()[0] == 0:\n",
    "        print(f\"{i}: {len(grouped_data[i])} : {grouped_data[i]['attackType'].unique()[0]}\")\n",
    "    if grouped_data[i]['attackType'].unique()[0] == 1:\n",
    "              no_1.append(i)\n",
    "    if grouped_data[i]['attackType'].unique()[0] == 2:\n",
    "              no_2.append(i)\n",
    "    if grouped_data[i]['attackType'].unique()[0] == 3:\n",
    "              no_3.append(i)\n",
    "    if grouped_data[i]['attackType'].unique()[0] == 4:\n",
    "              no_4.append(i)\n",
    "print(f\"bruteForce : {len(no_1)}\")\n",
    "for i in no_1:\n",
    "     print(f\"{i}: {len(grouped_data[i])} : {grouped_data[i]['attackType'].unique()[0]}\")\n",
    "print(f\"dos : {len(no_2)}\")\n",
    "for i in no_2:\n",
    "     print(f\"{i}: {len(grouped_data[i])} : {grouped_data[i]['attackType'].unique()[0]}\")\n",
    "print(f\"pingScan: {len(no_3)}\")\n",
    "for i in no_3:\n",
    "     print(f\"{i}: {len(grouped_data[i])} : {grouped_data[i]['attackType'].unique()[0]}\")\n",
    "print(f\"portScan : {len(no_4)}\")\n",
    "for i in no_4:\n",
    "     print(f\"{i}: {len(grouped_data[i])} : {grouped_data[i]['attackType'].unique()[0]}\")"
   ]
  },
  {
   "cell_type": "code",
   "execution_count": 26,
   "metadata": {},
   "outputs": [
    {
     "data": {
      "text/plain": [
       "20"
      ]
     },
     "execution_count": 26,
     "metadata": {},
     "output_type": "execute_result"
    }
   ],
   "source": [
    "del no_1\n",
    "del no_2\n",
    "del no_3\n",
    "del no_4\n",
    "gc.collect()"
   ]
  },
  {
   "cell_type": "code",
   "execution_count": 27,
   "metadata": {},
   "outputs": [],
   "source": [
    "def del_largeInstances(dic, length):\n",
    "    remove_ID = []\n",
    "    for i in dic.keys():\n",
    "        if (i != '---'):\n",
    "            if(len(dic[i]) >= length):\n",
    "                remove_ID.append(i)\n",
    "    print(len(remove_ID))\n",
    "    removed_attacks = {}\n",
    "    for i in remove_ID:\n",
    "        removed_attacks[i] = dic[i]\n",
    "        del dic[i]\n",
    "    return dic;"
   ]
  },
  {
   "cell_type": "code",
   "execution_count": 28,
   "metadata": {},
   "outputs": [
    {
     "name": "stdout",
     "output_type": "stream",
     "text": [
      "19\n"
     ]
    }
   ],
   "source": [
    "grouped_data = del_largeInstances(grouped_data, 20000)"
   ]
  },
  {
   "cell_type": "code",
   "execution_count": 29,
   "metadata": {},
   "outputs": [
    {
     "name": "stdout",
     "output_type": "stream",
     "text": [
      "40\n",
      "19732\n",
      "73\n",
      "350\n"
     ]
    }
   ],
   "source": [
    "#grouped_data, num = normal_profile(grouped_data)\n",
    "grouped_data1= {}\n",
    "for i in grouped_data.keys():\n",
    "    grouped_data[i] = flag_convert(grouped_data[i])\n",
    "   # grouped_data[i] =  drop_columns(grouped_data[i])\n",
    "grouped_data, num = normal_profile(grouped_data)\n",
    "for i in grouped_data.keys():\n",
    "   # grouped_data[i] = flag_convert(grouped_data[i])\n",
    "    grouped_data[i] =  drop_columns(grouped_data[i])"
   ]
  },
  {
   "cell_type": "code",
   "execution_count": 30,
   "metadata": {},
   "outputs": [
    {
     "name": "stdout",
     "output_type": "stream",
     "text": [
      "1 : False\n",
      "10 : False\n",
      "11 : False\n",
      "12 : False\n",
      "13 : False\n",
      "14 : False\n",
      "15 : False\n",
      "17 : False\n",
      "19 : False\n",
      "2 : False\n",
      "20 : False\n",
      "21 : False\n",
      "22 : False\n",
      "24 : False\n",
      "25 : False\n",
      "27 : False\n",
      "29 : False\n",
      "30 : False\n",
      "32 : False\n",
      "33 : False\n",
      "34 : False\n",
      "35 : False\n",
      "36 : False\n",
      "38 : False\n",
      "39 : False\n",
      "40 : False\n",
      "41 : False\n",
      "43 : False\n",
      "47 : False\n",
      "48 : False\n",
      "49 : False\n",
      "5 : False\n",
      "50 : False\n",
      "51 : False\n",
      "52 : False\n",
      "54 : False\n",
      "55 : False\n",
      "56 : False\n",
      "57 : False\n",
      "58 : False\n",
      "61 : False\n",
      "62 : False\n",
      "64 : False\n",
      "65 : False\n",
      "66 : False\n",
      "67 : False\n",
      "68 : False\n",
      "69 : False\n",
      "7 : False\n",
      "70 : False\n",
      "71 : False\n",
      "72 : False\n",
      "73 : False\n",
      "74 : False\n",
      "75 : False\n",
      "76 : False\n",
      "77 : False\n",
      "78 : False\n",
      "79 : False\n",
      "8 : False\n",
      "80 : False\n",
      "81 : False\n",
      "82 : False\n",
      "83 : False\n",
      "84 : False\n",
      "85 : False\n",
      "86 : False\n",
      "87 : False\n",
      "88 : False\n",
      "89 : False\n",
      "90 : False\n",
      "91 : False\n",
      "92 : False\n",
      "(1489536076632, 1489546876632] : False\n",
      "(1489546876632, 1489557676632] : False\n",
      "(1489557676632, 1489568476632] : False\n",
      "(1489568476632, 1489579276632] : False\n",
      "(1489579276632, 1489590076632] : False\n",
      "(1489590076632, 1489600876632] : False\n",
      "(1489600876632, 1489611676632] : False\n",
      "(1489611676632, 1489622476632] : False\n",
      "(1489622476632, 1489633276632] : False\n",
      "(1489633276632, 1489644076632] : False\n",
      "(1489644076632, 1489654876632] : False\n",
      "(1489654876632, 1489665676632] : False\n",
      "(1489665676632, 1489676476632] : False\n",
      "(1489676476632, 1489687276632] : False\n",
      "(1489687276632, 1489698076632] : False\n",
      "(1489698076632, 1489708876632] : False\n",
      "(1489708876632, 1489719676632] : False\n",
      "(1489719676632, 1489730476632] : False\n",
      "(1489730476632, 1489741276632] : False\n",
      "(1489741276632, 1489752076632] : False\n",
      "(1489752076632, 1489762876632] : False\n",
      "(1489762876632, 1489773676632] : False\n",
      "(1489773676632, 1489784476632] : False\n",
      "(1489784476632, 1489795276632] : False\n",
      "(1489795276632, 1489806076632] : False\n",
      "(1489806076632, 1489816876632] : False\n",
      "(1489816876632, 1489827676632] : False\n",
      "(1489827676632, 1489838476632] : False\n",
      "(1489838476632, 1489849276632] : False\n",
      "(1489849276632, 1489860076632] : False\n",
      "(1489860076632, 1489870876632] : False\n",
      "(1489870876632, 1489881676632] : False\n",
      "(1489881676632, 1489892476632] : False\n",
      "(1489892476632, 1489903276632] : False\n",
      "(1489903276632, 1489914076632] : False\n",
      "(1489914076632, 1489924876632] : False\n",
      "(1489924876632, 1489935676632] : False\n",
      "(1489935676632, 1489946476632] : False\n",
      "(1489946476632, 1489957276632] : False\n",
      "(1489957276632, 1489968076632] : False\n",
      "(1489968076632, 1489978876632] : False\n",
      "(1489978876632, 1489989676632] : False\n",
      "(1489989676632, 1490000476632] : False\n",
      "(1490000476632, 1490011276632] : False\n",
      "(1490011276632, 1490022076632] : False\n",
      "(1490022076632, 1490032876632] : False\n",
      "(1490032876632, 1490043676632] : False\n",
      "(1490043676632, 1490054476632] : False\n",
      "(1490054476632, 1490065276632] : False\n",
      "(1490065276632, 1490076076632] : False\n",
      "(1490076076632, 1490086876632] : False\n",
      "(1490086876632, 1490097676632] : False\n",
      "(1490097676632, 1490108476632] : False\n",
      "(1490108476632, 1490119276632] : False\n",
      "(1490119276632, 1490130076632] : False\n",
      "(1490130076632, 1490140876632] : False\n",
      "(1490140876632, 1490151676632] : False\n",
      "(1490151676632, 1490162476632] : False\n",
      "(1490162476632, 1490173276632] : False\n",
      "(1490173276632, 1490184076632] : False\n",
      "(1490184076632, 1490194876632] : False\n",
      "(1490194876632, 1490205676632] : False\n",
      "(1490205676632, 1490216476632] : False\n",
      "(1490216476632, 1490227276632] : False\n",
      "(1490227276632, 1490238076632] : False\n",
      "(1490238076632, 1490248876632] : False\n",
      "(1490248876632, 1490259676632] : False\n",
      "(1490259676632, 1490270476632] : False\n",
      "(1490270476632, 1490281276632] : False\n",
      "(1490281276632, 1490292076632] : False\n",
      "(1490292076632, 1490302876632] : False\n",
      "(1490302876632, 1490313676632] : False\n",
      "(1490313676632, 1490324476632] : False\n",
      "(1490324476632, 1490335276632] : False\n",
      "(1490335276632, 1490346076632] : False\n",
      "(1490346076632, 1490356876632] : False\n",
      "(1490356876632, 1490367676632] : False\n",
      "(1490367676632, 1490378476632] : False\n",
      "(1490378476632, 1490389276632] : False\n",
      "(1490389276632, 1490400076632] : False\n",
      "(1490400076632, 1490410876632] : False\n",
      "(1490410876632, 1490421676632] : False\n",
      "(1490421676632, 1490432476632] : False\n",
      "(1490432476632, 1490443276632] : False\n",
      "(1490443276632, 1490454076632] : False\n",
      "(1490454076632, 1490464876632] : False\n",
      "(1490464876632, 1490475676632] : False\n",
      "(1490475676632, 1490486476632] : False\n",
      "(1490486476632, 1490497276632] : False\n",
      "(1490497276632, 1490508076632] : False\n",
      "(1490508076632, 1490518876632] : False\n",
      "(1490518876632, 1490529676632] : False\n",
      "(1490529676632, 1490540476632] : False\n",
      "(1490540476632, 1490551276632] : False\n",
      "(1490551276632, 1490562076632] : False\n",
      "(1490562076632, 1490572876632] : False\n",
      "(1490572876632, 1490583676632] : False\n",
      "(1490583676632, 1490594476632] : False\n",
      "(1490594476632, 1490605276632] : False\n",
      "(1490605276632, 1490616076632] : False\n",
      "(1490616076632, 1490626876632] : False\n",
      "(1490626876632, 1490637676632] : False\n",
      "(1490637676632, 1490648476632] : False\n",
      "(1490648476632, 1490659276632] : False\n",
      "(1490659276632, 1490670076632] : False\n",
      "(1490670076632, 1490680876632] : False\n",
      "(1490680876632, 1490691676632] : False\n",
      "(1490691676632, 1490702476632] : False\n",
      "(1490702476632, 1490713276632] : False\n",
      "(1490713276632, 1490724076632] : False\n",
      "(1490724076632, 1490734876632] : False\n",
      "(1490734876632, 1490745676632] : False\n",
      "(1490745676632, 1490756476632] : False\n",
      "(1490756476632, 1490767276632] : False\n",
      "(1490767276632, 1490778076632] : False\n",
      "(1490778076632, 1490788876632] : False\n",
      "(1490788876632, 1490799676632] : False\n",
      "(1490799676632, 1490810476632] : False\n",
      "(1490810476632, 1490821276632] : False\n",
      "(1490821276632, 1490832076632] : False\n",
      "(1490832076632, 1490842876632] : False\n",
      "(1490842876632, 1490853676632] : False\n",
      "(1490853676632, 1490864476632] : False\n",
      "(1490864476632, 1490875276632] : False\n",
      "(1490875276632, 1490886076632] : False\n",
      "(1490886076632, 1490896876632] : False\n",
      "(1490896876632, 1490907676632] : False\n",
      "(1490907676632, 1490918476632] : False\n",
      "(1490918476632, 1490929276632] : False\n",
      "(1490929276632, 1490940076632] : False\n",
      "(1490940076632, 1490950876632] : False\n",
      "(1490950876632, 1490961676632] : False\n",
      "(1490961676632, 1490972476632] : False\n",
      "(1490972476632, 1490983276632] : False\n",
      "(1490983276632, 1490994076632] : False\n",
      "(1490994076632, 1491004876632] : False\n",
      "(1491004876632, 1491015676632] : False\n",
      "(1491015676632, 1491026476632] : False\n",
      "(1491026476632, 1491037276632] : False\n",
      "(1491037276632, 1491048076632] : False\n",
      "(1491048076632, 1491058876632] : False\n",
      "(1491058876632, 1491069676632] : False\n",
      "(1491069676632, 1491080476632] : False\n",
      "(1491080476632, 1491091276632] : False\n",
      "(1491091276632, 1491102076632] : False\n",
      "(1491102076632, 1491112876632] : False\n",
      "(1491112876632, 1491123676632] : False\n",
      "(1491123676632, 1491134476632] : False\n",
      "(1491134476632, 1491145276632] : False\n",
      "(1491145276632, 1491156076632] : False\n",
      "(1491156076632, 1491166876632] : False\n",
      "(1491166876632, 1491177676632] : False\n",
      "(1491177676632, 1491188476632] : False\n",
      "(1491188476632, 1491199276632] : False\n",
      "(1491199276632, 1491210076632] : False\n",
      "(1491210076632, 1491220876632] : False\n",
      "(1491220876632, 1491231676632] : False\n",
      "(1491231676632, 1491242476632] : False\n",
      "(1491242476632, 1491253276632] : False\n",
      "(1491253276632, 1491264076632] : False\n",
      "(1491264076632, 1491274876632] : False\n",
      "(1491274876632, 1491285676632] : False\n",
      "(1491285676632, 1491296476632] : False\n",
      "(1491296476632, 1491307276632] : False\n",
      "(1491307276632, 1491318076632] : False\n",
      "(1491318076632, 1491328876632] : False\n",
      "(1491328876632, 1491339676632] : False\n",
      "(1491339676632, 1491350476632] : False\n",
      "(1491350476632, 1491361276632] : False\n",
      "(1491361276632, 1491372076632] : False\n",
      "(1491372076632, 1491382876632] : False\n",
      "(1491382876632, 1491393676632] : False\n",
      "(1491393676632, 1491404476632] : False\n",
      "(1491404476632, 1491415276632] : False\n",
      "(1491415276632, 1491426076632] : False\n",
      "(1491426076632, 1491436876632] : False\n",
      "(1491436876632, 1491447676632] : False\n",
      "(1491447676632, 1491458476632] : False\n",
      "(1491458476632, 1491469276632] : False\n",
      "(1491469276632, 1491480076632] : False\n",
      "(1491480076632, 1491490876632] : False\n",
      "(1491490876632, 1491501676632] : False\n",
      "(1491501676632, 1491512476632] : False\n",
      "(1491512476632, 1491523276632] : False\n",
      "(1491523276632, 1491534076632] : False\n",
      "(1491534076632, 1491544876632] : False\n",
      "(1491544876632, 1491555676632] : False\n",
      "(1491555676632, 1491566476632] : False\n",
      "(1491566476632, 1491577276632] : False\n",
      "(1491577276632, 1491588076632] : False\n",
      "(1491588076632, 1491598876632] : False\n",
      "(1491598876632, 1491609676632] : False\n",
      "(1491609676632, 1491620476632] : False\n",
      "(1491620476632, 1491631276632] : False\n",
      "(1491631276632, 1491642076632] : False\n",
      "(1491642076632, 1491652876632] : False\n",
      "(1491652876632, 1491663676632] : False\n",
      "(1491663676632, 1491674476632] : False\n",
      "(1491674476632, 1491685276632] : False\n",
      "(1491685276632, 1491696076632] : False\n",
      "(1491696076632, 1491706876632] : False\n",
      "(1491706876632, 1491717676632] : False\n",
      "(1491717676632, 1491728476632] : False\n",
      "(1491728476632, 1491739276632] : False\n",
      "(1491739276632, 1491750076632] : False\n",
      "(1491750076632, 1491760876632] : False\n",
      "(1491760876632, 1491771676632] : False\n",
      "(1491771676632, 1491782476632] : False\n",
      "(1491782476632, 1491793276632] : False\n",
      "(1491793276632, 1491804076632] : False\n",
      "(1491804076632, 1491814876632] : False\n",
      "(1491814876632, 1491825676632] : False\n",
      "(1491825676632, 1491836476632] : False\n",
      "(1491836476632, 1491847276632] : False\n",
      "(1491847276632, 1491858076632] : False\n",
      "(1491858076632, 1491868876632] : False\n",
      "(1491868876632, 1491879676632] : False\n",
      "(1491879676632, 1491890476632] : False\n",
      "(1491890476632, 1491901276632] : False\n",
      "(1491901276632, 1491912076632] : False\n",
      "(1491912076632, 1491922876632] : False\n",
      "(1491922876632, 1491933676632] : False\n",
      "(1491933676632, 1491944476632] : False\n",
      "(1491944476632, 1491955276632] : False\n",
      "(1491955276632, 1491966076632] : False\n"
     ]
    },
    {
     "name": "stdout",
     "output_type": "stream",
     "text": [
      "(1491966076632, 1491976876632] : False\n",
      "(1491976876632, 1491987676632] : False\n",
      "(1491987676632, 1491998476632] : False\n",
      "(1491998476632, 1492009276632] : False\n",
      "(1492009276632, 1492020076632] : False\n",
      "(1492020076632, 1492030876632] : False\n",
      "(1492030876632, 1492041676632] : False\n",
      "(1492041676632, 1492052476632] : False\n",
      "(1492052476632, 1492063276632] : False\n",
      "(1492063276632, 1492074076632] : False\n",
      "(1492074076632, 1492084876632] : False\n",
      "(1492084876632, 1492095676632] : False\n",
      "(1492095676632, 1492106476632] : False\n",
      "(1492106476632, 1492117276632] : False\n",
      "(1492117276632, 1492128076632] : False\n",
      "(1492128076632, 1492138876632] : False\n",
      "(1492138876632, 1492149676632] : False\n",
      "(1492149676632, 1492160476632] : False\n",
      "(1492160476632, 1492171276632] : False\n",
      "(1492171276632, 1492182076632] : False\n",
      "(1492182076632, 1492192876632] : False\n",
      "(1492192876632, 1492203676632] : False\n",
      "(1492203676632, 1492214476632] : False\n",
      "(1492214476632, 1492225276632] : False\n",
      "(1492225276632, 1492236076632] : False\n",
      "(1492236076632, 1492246876632] : False\n",
      "(1492246876632, 1492257676632] : False\n",
      "(1492257676632, 1492268476632] : False\n",
      "(1492268476632, 1492279276632] : False\n",
      "(1492279276632, 1492290076632] : False\n",
      "(1492290076632, 1492300876632] : False\n",
      "(1492300876632, 1492311676632] : False\n",
      "(1492311676632, 1492322476632] : False\n",
      "(1492322476632, 1492333276632] : False\n",
      "(1492333276632, 1492344076632] : False\n",
      "(1492344076632, 1492354876632] : False\n",
      "(1492354876632, 1492365676632] : False\n",
      "(1492365676632, 1492376476632] : False\n",
      "(1492376476632, 1492387276632] : False\n",
      "(1492387276632, 1492398076632] : False\n",
      "(1492398076632, 1492408876632] : False\n",
      "(1492408876632, 1492419676632] : False\n",
      "(1492419676632, 1492430476632] : False\n",
      "(1492430476632, 1492441276632] : False\n",
      "(1492441276632, 1492452076632] : False\n",
      "(1492452076632, 1492462876632] : False\n",
      "(1492462876632, 1492473676632] : False\n",
      "(1492473676632, 1492484476632] : False\n",
      "(1492484476632, 1492495276632] : False\n",
      "(1492495276632, 1492506076632] : False\n",
      "(1492506076632, 1492516876632] : False\n",
      "(1492516876632, 1492527676632] : False\n"
     ]
    }
   ],
   "source": [
    "for i in grouped_data.keys():\n",
    "    #if (grouped_data[i].hasnull())\n",
    "    print(f'{i} : {grouped_data[i].isnull().values.any()}')"
   ]
  },
  {
   "cell_type": "code",
   "execution_count": 31,
   "metadata": {},
   "outputs": [],
   "source": [
    "#grouped_data[(1491346876632, 1491350476632)].head()"
   ]
  },
  {
   "cell_type": "code",
   "execution_count": 32,
   "metadata": {},
   "outputs": [
    {
     "name": "stdout",
     "output_type": "stream",
     "text": [
      "167\n"
     ]
    }
   ],
   "source": [
    "counter = 0\n",
    "for i in grouped_data.keys():\n",
    "    if ( len(grouped_data[i]) == 0):\n",
    "        counter = counter +1;\n",
    "print(counter)"
   ]
  },
  {
   "cell_type": "code",
   "execution_count": 33,
   "metadata": {},
   "outputs": [],
   "source": [
    "def roundup(x):\n",
    "    return x if x % 100 == 0 else x + 100 - x % 100\n",
    "#Convert to 3D arrays, input dict\n",
    "def make_array(dic):\n",
    "    x = []\n",
    "    y = []\n",
    "    zero_arrays = []\n",
    "    for i in dic.keys():\n",
    "        if ( len(dic[i]) == 0):\n",
    "            zero_arrays.append(i);\n",
    "    for i in zero_arrays:\n",
    "        del dic[i]\n",
    "    for i in dic.keys():\n",
    "        x.append(np.array(dic[i].drop(['attackType'],axis = 1)).astype(np.float32))\n",
    "       # print(f'{i}')\n",
    "        y.append(dic[i]['attackType'].values[0])\n",
    "    print(len(y))\n",
    "    o = []\n",
    "    features = len(x[1][1])\n",
    "    #for i in x:\n",
    "     #   o.append(len(i))\n",
    "   # print(min(o))\n",
    "    o = num\n",
    "    o = roundup(o)\n",
    "    print(o)\n",
    "    index = 0\n",
    "    for i in x:\n",
    "        l = len(i)\n",
    "        i = list(i)\n",
    "        if(o > l):\n",
    "            l = o-l\n",
    "            for j in range(0, l, 1):\n",
    "                i.append([0] * features)\n",
    "        elif (o<l):\n",
    "            l = l-o\n",
    "            i = i[:-l]\n",
    "        x[index] = np.array(i).astype(np.float32)\n",
    "        index = index + 1\n",
    "    return x,y"
   ]
  },
  {
   "cell_type": "code",
   "execution_count": 34,
   "metadata": {},
   "outputs": [
    {
     "name": "stdout",
     "output_type": "stream",
     "text": [
      "183\n",
      "19800\n"
     ]
    }
   ],
   "source": [
    "X,Y = make_array(grouped_data)\n",
    "del grouped_data\n",
    "gc.collect()\n",
    "Y = np.array(Y)\n",
    "X = np.array(X)\n"
   ]
  },
  {
   "cell_type": "code",
   "execution_count": 35,
   "metadata": {},
   "outputs": [
    {
     "data": {
      "text/plain": [
       "{0: 110, 1: 26, 3: 16, 4: 31}"
      ]
     },
     "execution_count": 35,
     "metadata": {},
     "output_type": "execute_result"
    }
   ],
   "source": [
    "unique, counts = np.unique(Y, return_counts=True)\n",
    "dict(zip(unique, counts))"
   ]
  },
  {
   "cell_type": "code",
   "execution_count": 36,
   "metadata": {},
   "outputs": [],
   "source": [
    "from sklearn.model_selection import train_test_split\n",
    "from sklearn.tree import DecisionTreeClassifier\n",
    "X_train, X_test, Y_train, Y_test = train_test_split(X,Y , test_size=0.2, random_state=0,  stratify=Y)"
   ]
  },
  {
   "cell_type": "code",
   "execution_count": 37,
   "metadata": {},
   "outputs": [
    {
     "data": {
      "text/plain": [
       "60"
      ]
     },
     "execution_count": 37,
     "metadata": {},
     "output_type": "execute_result"
    }
   ],
   "source": [
    "del X,Y\n",
    "gc.collect()"
   ]
  },
  {
   "cell_type": "code",
   "execution_count": 38,
   "metadata": {},
   "outputs": [
    {
     "data": {
      "text/plain": [
       "{0: 88, 1: 21, 3: 13, 4: 24}"
      ]
     },
     "execution_count": 38,
     "metadata": {},
     "output_type": "execute_result"
    }
   ],
   "source": [
    "unique, counts = np.unique(Y_train, return_counts=True)\n",
    "dict(zip(unique, counts))"
   ]
  },
  {
   "cell_type": "code",
   "execution_count": 39,
   "metadata": {},
   "outputs": [
    {
     "data": {
      "text/plain": [
       "{0: 22, 1: 5, 3: 3, 4: 7}"
      ]
     },
     "execution_count": 39,
     "metadata": {},
     "output_type": "execute_result"
    }
   ],
   "source": [
    "unique, counts = np.unique(Y_test, return_counts=True)\n",
    "dict(zip(unique, counts))"
   ]
  },
  {
   "cell_type": "code",
   "execution_count": 40,
   "metadata": {},
   "outputs": [
    {
     "name": "stdout",
     "output_type": "stream",
     "text": [
      "False\n",
      "False\n",
      "False\n",
      "False\n",
      "False\n",
      "False\n",
      "False\n",
      "False\n",
      "False\n",
      "False\n",
      "False\n",
      "False\n",
      "False\n",
      "False\n",
      "False\n",
      "False\n",
      "False\n",
      "False\n",
      "False\n",
      "False\n",
      "False\n",
      "False\n",
      "False\n",
      "False\n",
      "False\n",
      "False\n",
      "False\n",
      "False\n",
      "False\n",
      "False\n",
      "False\n",
      "False\n",
      "False\n",
      "False\n",
      "False\n",
      "False\n",
      "False\n",
      "False\n",
      "False\n",
      "False\n",
      "False\n",
      "False\n",
      "False\n",
      "False\n",
      "False\n",
      "False\n",
      "False\n",
      "False\n",
      "False\n",
      "False\n",
      "False\n",
      "False\n",
      "False\n",
      "False\n",
      "False\n",
      "False\n",
      "False\n",
      "False\n",
      "False\n",
      "False\n",
      "False\n",
      "False\n",
      "False\n",
      "False\n",
      "False\n",
      "False\n",
      "False\n",
      "False\n",
      "False\n",
      "False\n",
      "False\n",
      "False\n",
      "False\n",
      "False\n",
      "False\n",
      "False\n",
      "False\n",
      "False\n",
      "False\n",
      "False\n",
      "False\n",
      "False\n",
      "False\n",
      "False\n",
      "False\n",
      "False\n",
      "False\n",
      "False\n",
      "False\n",
      "False\n",
      "False\n",
      "False\n",
      "False\n",
      "False\n",
      "False\n",
      "False\n",
      "False\n",
      "False\n",
      "False\n",
      "False\n",
      "False\n",
      "False\n",
      "False\n",
      "False\n",
      "False\n",
      "False\n",
      "False\n",
      "False\n",
      "False\n",
      "False\n",
      "False\n",
      "False\n",
      "False\n",
      "False\n",
      "False\n",
      "False\n",
      "False\n",
      "False\n",
      "False\n",
      "False\n",
      "False\n",
      "False\n",
      "False\n",
      "False\n",
      "False\n",
      "False\n",
      "False\n",
      "False\n",
      "False\n",
      "False\n",
      "False\n",
      "False\n",
      "False\n",
      "False\n",
      "False\n",
      "False\n",
      "False\n",
      "False\n",
      "False\n",
      "False\n",
      "False\n",
      "False\n",
      "False\n",
      "False\n",
      "False\n",
      "False\n"
     ]
    }
   ],
   "source": [
    "for i in X_train:\n",
    "    print(f'{np.isnan(i).any()}')"
   ]
  },
  {
   "cell_type": "code",
   "execution_count": 41,
   "metadata": {},
   "outputs": [],
   "source": [
    "import tensorflow as tf\n",
    "from tensorflow import keras\n",
    "from tensorflow.keras.layers import Embedding, Dense, LSTM, Dropout, Masking, Flatten, Input, Bidirectional\n",
    "from tensorflow.keras.losses import BinaryCrossentropy\n",
    "from tensorflow.keras.models import Sequential\n",
    "from tensorflow.keras.optimizers import Adam\n",
    "from tensorflow.keras.preprocessing.sequence import pad_sequences"
   ]
  },
  {
   "cell_type": "code",
   "execution_count": 42,
   "metadata": {},
   "outputs": [
    {
     "name": "stdout",
     "output_type": "stream",
     "text": [
      "samples: 146 \n",
      " X:19800 \n",
      " Y:20\n"
     ]
    }
   ],
   "source": [
    "nsamples,nx, ny = X_train.shape\n",
    "print(f\"samples: {nsamples} \\n X:{nx} \\n Y:{ny}\")"
   ]
  },
  {
   "cell_type": "code",
   "execution_count": 94,
   "metadata": {},
   "outputs": [],
   "source": [
    "from keras.callbacks import EarlyStopping\n",
    "from keras.callbacks import ModelCheckpoint, LambdaCallback\n",
    "wie_by_epoch = []\n",
    "model_check = ModelCheckpoint(\"./models/Testpoints/best_model.hdf5\", monitor='loss', verbose=0, save_best_only=True, mode='min', save_freq=1)\n",
    "print_weights = LambdaCallback(on_epoch_end=lambda batch, logs:wie_by_epoch.append(model.get_weights()))\n",
    "callback = tf.keras.callbacks.EarlyStopping(monitor='loss', patience=4, verbose= 2)"
   ]
  },
  {
   "cell_type": "code",
   "execution_count": 95,
   "metadata": {},
   "outputs": [],
   "source": [
    "model = Sequential()\n",
    "model.add(LSTM(10, activation='relu', return_sequences = True, dropout = 0.1, input_shape = (nx,ny) ))\n",
    "model.add(Flatten())\n",
    "model.add(Dense(5, activation='softmax'))\n",
    "model.compile(optimizer= 'rmsprop', loss='sparse_categorical_crossentropy',  metrics=[keras.metrics.SparseCategoricalAccuracy()])"
   ]
  },
  {
   "cell_type": "code",
   "execution_count": 96,
   "metadata": {},
   "outputs": [
    {
     "data": {
      "text/plain": [
       "(None, 5)"
      ]
     },
     "execution_count": 96,
     "metadata": {},
     "output_type": "execute_result"
    }
   ],
   "source": [
    "model.build(input_shape = (nx,ny))\n",
    "model.output_shape"
   ]
  },
  {
   "cell_type": "code",
   "execution_count": 93,
   "metadata": {},
   "outputs": [
    {
     "data": {
      "text/plain": [
       "70415"
      ]
     },
     "execution_count": 93,
     "metadata": {},
     "output_type": "execute_result"
    }
   ],
   "source": [
    "del model, wie_by_epoch\n",
    "\n",
    "gc.collect()"
   ]
  },
  {
   "cell_type": "code",
   "execution_count": 97,
   "metadata": {},
   "outputs": [
    {
     "name": "stdout",
     "output_type": "stream",
     "text": [
      "Model: \"sequential_3\"\n",
      "_________________________________________________________________\n",
      "Layer (type)                 Output Shape              Param #   \n",
      "=================================================================\n",
      "lstm_3 (LSTM)                (None, 19800, 10)         1240      \n",
      "_________________________________________________________________\n",
      "flatten_3 (Flatten)          (None, 198000)            0         \n",
      "_________________________________________________________________\n",
      "dense_3 (Dense)              (None, 5)                 990005    \n",
      "=================================================================\n",
      "Total params: 991,245\n",
      "Trainable params: 991,245\n",
      "Non-trainable params: 0\n",
      "_________________________________________________________________\n"
     ]
    }
   ],
   "source": [
    "#model.build(input_shape = (nx,ny))\n",
    "model.summary()\n"
   ]
  },
  {
   "cell_type": "code",
   "execution_count": 98,
   "metadata": {
    "scrolled": true
   },
   "outputs": [
    {
     "data": {
      "image/png": "[encoded data removed]",
      "text/plain": [
       "<IPython.core.display.Image object>"
      ]
     },
     "execution_count": 98,
     "metadata": {},
     "output_type": "execute_result"
    }
   ],
   "source": [
    "from tensorflow.keras.utils import plot_model\n",
    "plot_model(model, show_shapes=True)"
   ]
  },
  {
   "cell_type": "code",
   "execution_count": 99,
   "metadata": {
    "scrolled": true
   },
   "outputs": [
    {
     "data": {
      "text/plain": [
       "[array([[ 8.84628594e-02,  6.06768727e-02, -2.97188967e-01,\n",
       "          3.13304037e-01,  2.68480629e-01,  1.25645876e-01,\n",
       "         -2.83826858e-01, -1.76009387e-01, -2.14841813e-01,\n",
       "          2.37117201e-01, -2.14461222e-01, -3.04615557e-01,\n",
       "         -1.45310298e-01, -2.17112243e-01, -2.79003650e-01,\n",
       "         -1.92892343e-01, -2.03619719e-01, -1.88961953e-01,\n",
       "          1.13456845e-02, -5.93472123e-02,  3.00179571e-01,\n",
       "         -1.40552372e-01, -1.25534460e-01, -2.40156218e-01,\n",
       "          3.77621353e-02,  1.21051490e-01, -2.23931074e-01,\n",
       "         -3.11126053e-01,  3.10748518e-02, -2.89950073e-02,\n",
       "          1.20450437e-01, -2.02411205e-01, -1.12265155e-01,\n",
       "         -1.67486250e-01,  1.22262239e-02,  1.60768598e-01,\n",
       "          5.80582023e-03, -9.80017930e-02,  2.56307274e-01,\n",
       "         -2.53852785e-01],\n",
       "        [-7.05638230e-02, -1.61561593e-01, -2.34504640e-01,\n",
       "         -1.81763127e-01, -1.52773753e-01, -9.37017798e-03,\n",
       "         -1.33460686e-01,  1.83572531e-01, -2.28158757e-01,\n",
       "         -2.91517794e-01,  2.06173033e-01,  1.99949712e-01,\n",
       "         -2.44360447e-01, -1.42331764e-01, -1.29965171e-01,\n",
       "          6.96947575e-02, -1.60613954e-02,  2.97783166e-01,\n",
       "          2.40628868e-01,  3.12203556e-01, -1.62654817e-01,\n",
       "          1.49857491e-01, -1.60661608e-01, -1.48791492e-01,\n",
       "         -2.19393164e-01, -8.06757361e-02, -2.00101569e-01,\n",
       "          3.06104690e-01, -3.10278982e-01,  1.24382079e-02,\n",
       "          1.74362630e-01, -9.45878476e-02, -7.02005625e-03,\n",
       "         -2.59000778e-01, -1.55466244e-01, -1.59299910e-01,\n",
       "          2.64641970e-01,  2.65493780e-01, -2.18187749e-01,\n",
       "          1.40505493e-01],\n",
       "        [-1.80293828e-01,  6.15347922e-02, -2.01468110e-01,\n",
       "         -1.66244209e-02,  2.10294515e-01, -3.13884586e-01,\n",
       "         -1.10660836e-01,  1.09297633e-01,  1.73552126e-01,\n",
       "         -2.54004389e-01, -2.92098403e-01, -1.34044006e-01,\n",
       "          2.74145633e-01, -1.63883597e-01, -1.30900145e-02,\n",
       "         -1.46435797e-02, -9.60924923e-02, -3.22795808e-02,\n",
       "         -2.60999501e-01,  2.25979775e-01,  1.87250286e-01,\n",
       "         -5.06872535e-02,  4.98804450e-02,  1.86887532e-01,\n",
       "          2.92270631e-01, -2.00180590e-01,  1.96249574e-01,\n",
       "          4.99568880e-02,  6.80307746e-02, -5.34872413e-02,\n",
       "          2.98401088e-01, -5.96953034e-02,  2.18918175e-01,\n",
       "         -7.56128430e-02, -1.62125930e-01,  1.46143258e-01,\n",
       "          1.64369732e-01, -2.67962128e-01,  5.94940782e-02,\n",
       "          3.04949880e-02],\n",
       "        [-2.54312694e-01, -2.43790388e-01,  3.61424387e-02,\n",
       "          2.10112602e-01, -1.41382024e-01, -2.13348776e-01,\n",
       "         -2.42621481e-01,  1.72056139e-01, -1.08420491e-01,\n",
       "         -5.18735647e-02, -2.16882899e-01,  2.12061137e-01,\n",
       "         -8.00518543e-02,  2.64109582e-01,  1.04124963e-01,\n",
       "          2.37351030e-01,  1.79039180e-01,  1.51243180e-01,\n",
       "          2.56454259e-01,  2.96602756e-01,  1.82191730e-01,\n",
       "         -2.28368133e-01, -2.17494801e-01, -3.14126283e-01,\n",
       "         -5.17852008e-02,  1.71728492e-01,  2.63929695e-01,\n",
       "          1.40990496e-01, -1.86872318e-01,  2.30222642e-02,\n",
       "          3.17901373e-03,  2.00296491e-01,  2.97385961e-01,\n",
       "         -3.09349298e-02, -2.40742952e-01, -2.05991775e-01,\n",
       "         -2.88433552e-01, -1.89955801e-01,  1.03782594e-01,\n",
       "          2.30607599e-01],\n",
       "        [-2.09332734e-01,  7.88058639e-02,  2.62738496e-01,\n",
       "         -1.56167418e-01, -6.24349117e-02, -2.42319897e-01,\n",
       "          1.03718042e-02,  2.18662888e-01, -2.61689901e-01,\n",
       "          2.63154000e-01,  1.67518079e-01, -1.26065388e-01,\n",
       "         -1.39922008e-01, -1.02564812e-01,  2.14423448e-01,\n",
       "          1.81342661e-02, -4.14702594e-02, -2.93385088e-01,\n",
       "          1.10903770e-01,  5.79986274e-02, -1.93152905e-01,\n",
       "          1.05160356e-01,  1.10176951e-01,  8.50860178e-02,\n",
       "         -1.45178139e-02, -2.15802938e-01,  3.11681122e-01,\n",
       "          9.24596786e-02, -1.33039683e-01, -8.20850879e-02,\n",
       "         -1.51074827e-02, -1.73230574e-01, -7.67109692e-02,\n",
       "         -9.03524756e-02,  5.11127710e-02,  8.97625089e-02,\n",
       "          1.22000337e-01, -2.68498242e-01,  4.02531028e-03,\n",
       "          2.17152268e-01],\n",
       "        [-1.38394728e-01,  1.18308723e-01,  4.09894586e-02,\n",
       "         -5.96786439e-02,  2.80345052e-01, -2.73526609e-01,\n",
       "          1.31129324e-02,  2.08393782e-01,  1.52802408e-01,\n",
       "         -1.34380654e-01, -2.93343991e-01,  1.12459600e-01,\n",
       "          7.30110407e-02,  1.99641317e-01, -1.92746222e-01,\n",
       "          3.02538723e-01, -2.55430251e-01,  4.72325981e-02,\n",
       "          1.32111430e-01,  1.92319959e-01,  3.07842225e-01,\n",
       "          1.90166205e-01,  3.02009493e-01, -1.62349850e-01,\n",
       "         -1.54434472e-01, -2.31917560e-01, -1.31763622e-01,\n",
       "         -1.42588705e-01, -1.23217657e-01, -1.89095467e-01,\n",
       "          1.98716491e-01,  3.09756666e-01,  3.52985263e-02,\n",
       "         -1.01900220e-01, -1.15750432e-01, -2.38395691e-01,\n",
       "         -2.33954877e-01, -1.73772812e-01,  2.84561366e-01,\n",
       "          2.56946772e-01],\n",
       "        [ 3.84399891e-02, -2.14153692e-01,  3.35682333e-02,\n",
       "         -1.84638217e-01, -2.96630919e-01, -1.99407563e-01,\n",
       "          3.76164913e-03, -6.79183006e-02,  2.52186924e-01,\n",
       "          2.68459707e-01, -1.54384673e-02, -8.45217705e-03,\n",
       "          3.08993250e-01,  2.34367102e-01,  2.06102431e-02,\n",
       "          9.64476168e-02,  2.32930571e-01, -2.71133125e-01,\n",
       "         -2.91398525e-01, -2.26678386e-01, -2.79399157e-01,\n",
       "          2.20923036e-01,  6.39831424e-02, -2.99117565e-02,\n",
       "          1.31650627e-01,  2.89060205e-01, -3.55046690e-02,\n",
       "         -6.67736530e-02, -2.89709568e-02,  1.08365148e-01,\n",
       "         -1.54207006e-01, -1.66534021e-01, -7.47454315e-02,\n",
       "          1.84602469e-01, -1.29532635e-01, -6.09987974e-02,\n",
       "         -3.06251109e-01,  1.94438547e-01,  4.26985919e-02,\n",
       "         -1.56837404e-02],\n",
       "        [-2.32373625e-01, -2.04205677e-01, -1.30878419e-01,\n",
       "          1.91696882e-02,  1.44343436e-01, -1.19467378e-01,\n",
       "         -2.33681798e-02, -3.73520553e-02, -1.39154255e-01,\n",
       "          1.66513294e-01, -1.77320421e-01,  1.38258576e-01,\n",
       "         -1.80026412e-01, -2.69616038e-01,  9.65163112e-03,\n",
       "         -1.02966815e-01, -4.63491082e-02,  4.53193784e-02,\n",
       "          1.70644015e-01,  2.44147688e-01,  3.14394444e-01,\n",
       "         -4.02622223e-02,  2.26989537e-01, -1.02014214e-01,\n",
       "          2.44942814e-01,  1.25214785e-01, -2.95661479e-01,\n",
       "         -2.19847485e-01,  8.46763253e-02, -2.82989770e-01,\n",
       "          6.73044324e-02,  1.60716265e-01, -8.78646970e-03,\n",
       "         -2.59467930e-01, -2.90008545e-01, -2.11548060e-01,\n",
       "          2.72797793e-01,  1.07396394e-01, -2.07181051e-01,\n",
       "          2.38945454e-01],\n",
       "        [-3.14953744e-01, -5.04444838e-02,  2.53119797e-01,\n",
       "         -1.70543209e-01, -5.16632199e-02, -8.53114426e-02,\n",
       "         -8.31985474e-03,  1.33451045e-01, -2.90462971e-02,\n",
       "         -1.30394995e-01,  1.24856740e-01,  2.70106405e-01,\n",
       "          1.34748966e-01, -1.21672437e-01, -8.80921483e-02,\n",
       "         -2.54669666e-01, -1.21221051e-01,  2.46108025e-01,\n",
       "         -1.01775512e-01, -2.37845838e-01, -2.60015845e-01,\n",
       "         -4.28760648e-02, -2.37342715e-03, -9.46941525e-02,\n",
       "          1.34245694e-01,  4.45072949e-02,  7.33868778e-02,\n",
       "          1.07041836e-01,  4.37275767e-02, -2.34291047e-01,\n",
       "          3.09065878e-02, -2.87133992e-01, -2.70683408e-01,\n",
       "         -2.55521417e-01, -1.02355897e-01, -1.11928746e-01,\n",
       "          1.60886228e-01,  3.04921418e-01,  2.10773677e-01,\n",
       "         -2.64759660e-01],\n",
       "        [ 3.02262217e-01, -2.09939063e-01,  1.57599151e-01,\n",
       "         -3.02242965e-01, -1.09730661e-02,  1.12498343e-01,\n",
       "         -2.76890397e-02, -2.11645305e-01, -3.03383708e-01,\n",
       "          6.14619553e-02, -2.30300114e-01, -2.34415233e-01,\n",
       "         -3.79371643e-03,  1.34923279e-01,  2.36622781e-01,\n",
       "         -8.90970081e-02,  1.67983562e-01,  2.45719522e-01,\n",
       "          5.27075231e-02,  1.99153274e-01, -4.01761234e-02,\n",
       "         -1.09199166e-01,  2.87618667e-01, -2.08942711e-01,\n",
       "          2.37463146e-01,  8.11134875e-02, -2.03703105e-01,\n",
       "         -1.86561614e-01, -2.03252167e-01, -2.73478299e-01,\n",
       "         -1.89673901e-01,  8.26007128e-02, -1.14744291e-01,\n",
       "         -1.74688026e-01, -1.00596264e-01,  1.98233098e-01,\n",
       "         -5.73380888e-02,  1.50894701e-01, -6.07172251e-02,\n",
       "          3.03101867e-01],\n",
       "        [-1.18992388e-01,  2.29665339e-02, -2.46554613e-04,\n",
       "         -1.12399280e-01, -3.04346621e-01,  1.47861540e-02,\n",
       "         -1.67079270e-01,  1.95245713e-01, -1.63665414e-03,\n",
       "         -2.89072901e-01,  9.55097079e-02,  1.23926282e-01,\n",
       "          1.90266281e-01,  3.80156636e-02, -2.53571928e-01,\n",
       "         -1.54869273e-01,  5.04775643e-02, -7.03649223e-02,\n",
       "          2.17762440e-01,  1.95569068e-01, -2.27012306e-01,\n",
       "         -5.26015162e-02, -1.06260806e-01, -2.08271861e-01,\n",
       "         -1.50653973e-01, -1.48484260e-01,  2.15182990e-01,\n",
       "          6.04672730e-02, -2.25884944e-01, -2.65058517e-01,\n",
       "          6.82431757e-02,  1.42909199e-01, -2.92402476e-01,\n",
       "         -1.72792897e-01,  2.91663736e-01,  1.10790431e-01,\n",
       "          1.77009493e-01, -1.12210944e-01,  3.25249135e-02,\n",
       "         -5.97628653e-02],\n",
       "        [ 3.25742960e-02, -2.57180989e-01,  3.13507289e-01,\n",
       "          8.00172389e-02, -1.38697892e-01,  2.01066166e-01,\n",
       "         -8.18031877e-02,  2.89114714e-02, -2.38223553e-01,\n",
       "         -1.33701414e-01, -3.01032811e-01, -3.89102995e-02,\n",
       "         -4.87147570e-02, -5.72684407e-02,  3.04638416e-01,\n",
       "         -1.63764030e-01, -1.49836391e-01, -5.33915758e-02,\n",
       "          2.40629166e-01, -1.88938498e-01, -1.90936029e-02,\n",
       "         -1.36541009e-01, -2.58208841e-01, -2.25663573e-01,\n",
       "         -5.03386855e-02, -2.57409811e-01, -1.58899799e-01,\n",
       "          9.39994752e-02,  8.38508904e-02,  1.45505786e-01,\n",
       "          8.75619054e-02, -1.72713593e-01, -4.38696146e-02,\n",
       "         -2.03775108e-01, -2.53097415e-01, -2.19240040e-01,\n",
       "         -5.03770709e-02, -1.44893512e-01, -8.44364166e-02,\n",
       "          1.30828738e-01],\n",
       "        [ 2.78314561e-01,  2.69636512e-02, -1.89711139e-01,\n",
       "         -1.23344243e-01, -3.08655053e-01,  2.28128463e-01,\n",
       "         -2.31709316e-01, -3.44866812e-02, -1.97781920e-02,\n",
       "         -6.00230694e-03,  9.44828093e-02,  1.57863498e-02,\n",
       "          2.83038229e-01,  1.96114630e-01,  1.15499884e-01,\n",
       "         -5.15753925e-02, -6.69766963e-02, -1.54315233e-02,\n",
       "          2.49065131e-01,  4.09641266e-02, -2.18099684e-01,\n",
       "          1.50043726e-01,  1.94853216e-01,  7.25853443e-03,\n",
       "         -1.15362063e-01, -1.33695319e-01,  2.12202758e-01,\n",
       "          1.61330104e-02,  2.08478898e-01,  2.68154293e-01,\n",
       "         -7.78331310e-02, -2.27107614e-01,  3.13847452e-01,\n",
       "         -1.04072392e-02, -2.60132998e-01,  2.45130748e-01,\n",
       "          9.81959403e-02, -1.61171362e-01,  2.76163250e-01,\n",
       "         -6.17548525e-02],\n",
       "        [ 2.89582908e-02,  1.50082022e-01,  1.71966851e-02,\n",
       "          2.85738260e-01,  1.97553486e-01,  1.74554259e-01,\n",
       "          1.25486195e-01, -2.56716311e-02,  7.37592578e-03,\n",
       "          1.89427048e-01,  2.70305902e-01,  1.94696158e-01,\n",
       "         -2.62240946e-01,  2.75137812e-01,  2.38505810e-01,\n",
       "          7.08318353e-02,  2.75601745e-02,  2.11409599e-01,\n",
       "         -9.16091502e-02,  1.66733742e-01, -2.90163785e-01,\n",
       "          1.77883536e-01, -2.97267467e-01,  3.84986401e-03,\n",
       "          7.62499869e-02,  3.29549611e-02,  2.20068723e-01,\n",
       "          3.09713155e-01,  1.13449067e-01,  4.23789024e-04,\n",
       "         -5.61547875e-02,  1.52190417e-01, -2.24330977e-01,\n",
       "         -1.16554514e-01, -9.23769772e-02, -2.24172264e-01,\n",
       "         -3.12602043e-01,  1.38273418e-01, -5.40374815e-02,\n",
       "          1.90458626e-01],\n",
       "        [ 1.79375112e-02,  2.40290076e-01,  2.17991799e-01,\n",
       "         -3.09346288e-01,  9.11444426e-03, -2.75690377e-01,\n",
       "         -2.51866132e-01,  3.66464257e-02,  1.34107202e-01,\n",
       "         -1.82113349e-02,  1.56745404e-01, -2.77201056e-01,\n",
       "          4.69696820e-02, -1.04214072e-01,  8.58207345e-02,\n",
       "          6.33804500e-02, -4.47502136e-02,  1.28564030e-01,\n",
       "         -1.00351229e-01, -1.68420464e-01, -1.62940115e-01,\n",
       "         -1.59204468e-01, -1.27583608e-01, -2.61226147e-01,\n",
       "          2.13038474e-01,  1.07183188e-01,  1.14189535e-01,\n",
       "          8.89229178e-02,  2.25846797e-01, -2.26759672e-01,\n",
       "         -9.81075615e-02,  1.99542731e-01,  2.67657071e-01,\n",
       "         -1.39576167e-01, -3.04739058e-01, -2.15329230e-02,\n",
       "         -2.85252959e-01,  1.16841197e-02,  4.87214327e-03,\n",
       "          1.01020664e-01],\n",
       "        [ 2.64479190e-01,  2.20858455e-02,  1.40945613e-02,\n",
       "          1.72839791e-01, -2.17793137e-01,  1.48667693e-01,\n",
       "         -1.32905334e-01,  2.26113528e-01, -1.39024124e-01,\n",
       "         -9.43428129e-02,  4.37324643e-02, -1.11753613e-01,\n",
       "          1.26433074e-01,  1.47655219e-01,  1.65552795e-02,\n",
       "          2.07301348e-01, -4.81501520e-02,  2.28970617e-01,\n",
       "         -2.34666824e-01, -2.82896966e-01, -1.53435946e-01,\n",
       "          3.06820720e-01,  1.29546583e-01, -1.03947550e-01,\n",
       "         -1.43334880e-01,  2.09876329e-01, -1.02693662e-01,\n",
       "         -8.28947574e-02,  2.13589340e-01,  1.03420317e-01,\n",
       "         -1.66215599e-02,  1.18879586e-01,  2.25105435e-01,\n",
       "         -2.06456810e-01, -2.36322030e-01,  3.05249721e-01,\n",
       "         -2.21895278e-01,  1.66603923e-02,  1.78096086e-01,\n",
       "          3.07586163e-01],\n",
       "        [ 4.14910018e-02,  3.85068655e-02, -2.24474907e-01,\n",
       "         -2.96025336e-01, -1.25100702e-01, -9.37578082e-03,\n",
       "          1.68137074e-01, -1.95812225e-01,  2.82524556e-01,\n",
       "          1.24756306e-01,  7.16375113e-02,  2.44325668e-01,\n",
       "         -2.01572299e-01, -3.14225346e-01,  1.42636061e-01,\n",
       "         -2.71812826e-01, -2.97555834e-01, -2.58163005e-01,\n",
       "         -1.04147345e-01, -2.25785106e-01, -1.68440670e-01,\n",
       "         -1.74027383e-02,  2.44898200e-02, -2.63396889e-01,\n",
       "          2.98400551e-01,  1.28681183e-01, -2.09393114e-01,\n",
       "          2.56096750e-01,  2.59470850e-01,  2.55848974e-01,\n",
       "         -2.18100145e-01, -2.61999458e-01, -7.95644224e-02,\n",
       "          2.90669501e-02,  8.28257501e-02,  2.46641129e-01,\n",
       "         -2.57870317e-01, -1.40462726e-01, -9.14875418e-02,\n",
       "         -1.40042856e-01],\n",
       "        [-4.53058779e-02,  2.43781954e-01,  2.72163153e-02,\n",
       "         -8.48904401e-02,  2.43846387e-01, -1.71718299e-01,\n",
       "          1.95027590e-02, -1.23280004e-01,  3.89472544e-02,\n",
       "          3.01848263e-01,  1.33863091e-03,  4.11015749e-02,\n",
       "          7.13712871e-02, -1.93675920e-01,  1.90261453e-01,\n",
       "         -1.54694512e-01, -1.95246339e-02,  8.59069228e-02,\n",
       "          2.52987772e-01,  1.70779049e-01, -2.56965756e-01,\n",
       "          1.12924546e-01,  1.90275401e-01,  3.15392166e-01,\n",
       "          2.33107954e-01,  1.79862797e-01,  2.76283324e-02,\n",
       "         -2.69414812e-01, -1.90578565e-01, -1.60910115e-01,\n",
       "          1.22610420e-01,  3.06285530e-01,  2.44608074e-01,\n",
       "          1.30319834e-01, -8.81141722e-02, -7.16336668e-02,\n",
       "          1.84908658e-01, -6.42516315e-02, -1.38424665e-01,\n",
       "         -1.18432432e-01],\n",
       "        [ 4.31741774e-02,  1.48417145e-01,  1.06353164e-01,\n",
       "         -1.30616948e-01, -2.56235301e-02, -1.23916030e-01,\n",
       "          9.79384482e-02,  2.44175404e-01,  8.42628479e-02,\n",
       "          1.09019130e-01,  1.63742840e-01,  2.74148911e-01,\n",
       "          7.40830004e-02,  2.59668797e-01, -2.08068445e-01,\n",
       "          2.82455534e-01,  2.90353984e-01,  3.93909514e-02,\n",
       "         -2.49094397e-01, -2.71861821e-01, -2.88102359e-01,\n",
       "          2.34382749e-02, -3.15899938e-01,  6.32271767e-02,\n",
       "         -3.00021708e-01,  3.02567989e-01,  2.46616304e-02,\n",
       "         -1.48486823e-01,  1.86254054e-01, -1.26572549e-02,\n",
       "          9.74214673e-02,  1.83963805e-01, -1.95869297e-01,\n",
       "         -1.93007320e-01, -9.29546356e-03, -2.03490257e-04,\n",
       "         -1.16316795e-01,  1.34571850e-01,  2.76631266e-01,\n",
       "          5.08637428e-02],\n",
       "        [ 1.99239284e-01,  2.71514386e-01,  6.34042621e-02,\n",
       "         -1.33759245e-01, -1.52092576e-01, -1.79023743e-02,\n",
       "          2.33202726e-01, -2.10300878e-01, -1.84843823e-01,\n",
       "          1.08209699e-01,  1.92687899e-01,  2.95949489e-01,\n",
       "         -2.21207753e-01, -2.54936814e-02,  2.56305337e-02,\n",
       "          3.14840287e-01, -2.42532432e-01, -8.77875537e-02,\n",
       "         -2.77241379e-01,  5.72682917e-02, -8.85309428e-02,\n",
       "          6.48275018e-02, -2.94032723e-01,  2.12449640e-01,\n",
       "         -2.77468562e-02,  7.81160891e-02,  8.76880288e-02,\n",
       "         -7.15422183e-02, -1.63317233e-01,  4.52919304e-02,\n",
       "         -2.66732961e-01, -1.45534873e-02,  1.18397981e-01,\n",
       "          2.71236211e-01, -2.80345440e-01,  1.13176525e-01,\n",
       "          1.40894294e-01,  8.65671337e-02,  3.86932492e-03,\n",
       "          2.18574017e-01]], dtype=float32),\n",
       " array([[-2.93414712e-01, -4.64917568e-04,  7.18496591e-02,\n",
       "         -2.86634713e-01, -9.54755489e-03,  1.16381701e-02,\n",
       "         -3.77334394e-02, -1.74333841e-01,  5.79000749e-02,\n",
       "          3.38315755e-01, -6.34610280e-02, -5.07289134e-02,\n",
       "         -4.02600259e-01,  5.25779650e-02,  6.90077096e-02,\n",
       "         -1.69984803e-01, -7.98531100e-02,  1.26919106e-01,\n",
       "         -4.64275517e-02,  2.41508663e-01,  1.29610315e-01,\n",
       "         -1.98084232e-03,  1.57715857e-01, -6.42984882e-02,\n",
       "          1.28516749e-01, -3.56633574e-01,  1.51561171e-01,\n",
       "         -1.82672217e-01, -9.54462066e-02, -9.41902101e-02,\n",
       "          8.27795477e-04, -1.11194715e-01,  5.46883680e-02,\n",
       "          6.30676225e-02,  5.04377186e-02,  7.80811906e-03,\n",
       "          1.19298108e-01, -1.71485364e-01,  8.30951892e-03,\n",
       "         -2.43256211e-01],\n",
       "        [ 5.96749745e-02,  2.18094811e-01, -1.34088263e-01,\n",
       "         -2.25560576e-01, -5.74486703e-02, -3.91266346e-02,\n",
       "          4.65275310e-02,  2.82305270e-01, -2.87473381e-01,\n",
       "         -9.36942548e-02, -1.01707563e-01, -1.26815692e-01,\n",
       "          4.25401852e-02,  1.25643387e-01, -1.98490217e-01,\n",
       "         -7.50239342e-02,  9.31295305e-02, -2.56286234e-01,\n",
       "         -1.70790374e-01,  1.73609659e-01,  3.10828269e-01,\n",
       "         -1.83888040e-02, -7.62468502e-02, -1.09187171e-01,\n",
       "         -2.76359677e-01,  4.33987528e-02,  1.20207064e-01,\n",
       "         -2.20302895e-01, -1.00961514e-03, -2.04811588e-01,\n",
       "         -7.64993280e-02,  1.97052360e-02,  4.01210748e-02,\n",
       "         -2.15491489e-01,  1.35272503e-01, -2.60125220e-01,\n",
       "          4.06841487e-02,  6.38963729e-02, -1.86889246e-01,\n",
       "         -1.98918860e-02],\n",
       "        [ 1.10791206e-01, -6.54424503e-02, -6.38291612e-02,\n",
       "         -3.74868810e-02,  1.55845225e-01,  3.11199635e-01,\n",
       "         -2.28451952e-01,  2.29915716e-02, -1.03238449e-01,\n",
       "          1.10287387e-02, -1.57286510e-01,  1.95063129e-01,\n",
       "          1.38395026e-01, -1.09136209e-01, -1.00088000e-01,\n",
       "         -2.59552419e-01,  4.18826938e-02, -1.26402557e-01,\n",
       "         -2.95334328e-02,  1.28622070e-01, -7.91225806e-02,\n",
       "          8.86014998e-02,  3.04276079e-01, -2.33691931e-01,\n",
       "         -2.21054032e-01, -1.83995306e-01, -1.85864940e-01,\n",
       "          2.64558196e-01,  6.99173333e-03, -1.36732280e-01,\n",
       "          2.18249306e-01, -1.26888426e-02,  1.85985014e-01,\n",
       "          1.26125157e-01, -1.36850163e-01, -5.53895272e-02,\n",
       "         -1.04054041e-01, -2.50582367e-01,  6.30642325e-02,\n",
       "          1.48174241e-01],\n",
       "        [-3.23221833e-02,  1.37604952e-01,  3.87799591e-02,\n",
       "          1.46761790e-01, -1.78427443e-01,  2.57394701e-01,\n",
       "         -3.40788737e-02,  9.76411775e-02,  2.41307989e-01,\n",
       "         -1.98522620e-02, -2.67270684e-01, -6.88352510e-02,\n",
       "         -5.01588993e-02, -7.31774047e-02,  4.27080691e-02,\n",
       "         -1.56959146e-02,  1.33468851e-01,  6.76746517e-02,\n",
       "          1.23985939e-01, -3.71840000e-02,  5.80618419e-02,\n",
       "          9.27874818e-02,  2.67806828e-01,  2.65060335e-01,\n",
       "         -8.70908126e-02,  2.70771772e-01, -1.34254903e-01,\n",
       "         -2.65324116e-01,  1.60199165e-01,  1.15836084e-01,\n",
       "          2.46773809e-01, -1.33781672e-01,  1.48251548e-01,\n",
       "         -5.20778038e-02,  1.69559866e-02,  6.11872599e-02,\n",
       "          3.15526515e-01, -7.98868313e-02, -2.93884635e-01,\n",
       "         -4.60501052e-02],\n",
       "        [ 1.51516467e-01,  1.26570299e-01, -1.16999149e-01,\n",
       "         -4.95672747e-02,  2.74037987e-01,  8.38964805e-03,\n",
       "         -1.59402773e-01, -1.61868501e-02, -1.97990630e-02,\n",
       "         -1.12412736e-01,  5.54162450e-02,  1.05235107e-01,\n",
       "         -1.48739234e-01,  1.89054698e-01,  8.60024691e-02,\n",
       "          2.22385615e-01, -1.95301156e-02,  1.04396887e-01,\n",
       "          1.66686699e-01,  3.23264241e-01,  2.09942847e-01,\n",
       "          2.95183301e-01,  5.22312187e-02, -4.78206342e-03,\n",
       "          1.26023516e-01,  1.59590080e-01, -2.03995377e-01,\n",
       "         -1.18486121e-01,  2.56742120e-01, -2.57603467e-01,\n",
       "          1.38602192e-02,  9.50572416e-02, -2.15839550e-01,\n",
       "          1.91011354e-01,  1.58391207e-01,  2.31393754e-01,\n",
       "         -1.45942301e-01,  4.11461964e-02,  3.57288793e-02,\n",
       "          1.19839590e-02],\n",
       "        [ 8.29704925e-02,  2.12426856e-01,  8.01722035e-02,\n",
       "         -2.35302374e-01,  2.84710974e-01,  1.39644556e-02,\n",
       "         -2.48145945e-02, -2.78641451e-02,  4.55698706e-02,\n",
       "         -2.50244319e-01, -1.23859122e-01, -3.14546488e-02,\n",
       "          8.54576305e-02,  2.03244269e-01,  2.25769833e-01,\n",
       "         -1.21840006e-02, -2.92148218e-02,  9.47646946e-02,\n",
       "         -4.14155275e-02,  5.94611242e-02, -2.20247358e-01,\n",
       "          1.77460521e-01,  4.24953960e-02,  8.44574869e-02,\n",
       "          1.33241946e-02, -2.83339471e-01, -1.37617394e-01,\n",
       "          1.08160600e-02, -2.42549535e-02,  4.55625981e-01,\n",
       "         -1.36668742e-01,  1.25903383e-01,  9.17115621e-03,\n",
       "         -7.08176894e-03, -4.17987220e-02, -3.07220548e-01,\n",
       "         -1.22935735e-02,  1.14664577e-01, -2.35785753e-01,\n",
       "         -1.06653906e-01],\n",
       "        [ 5.55141717e-02,  7.55025540e-03, -3.32977064e-02,\n",
       "         -5.78912422e-02, -1.16179287e-01,  8.31921697e-02,\n",
       "         -5.22627123e-02, -2.63075113e-01,  4.96483892e-01,\n",
       "         -2.25106120e-01, -2.69903332e-01,  7.72878993e-03,\n",
       "          1.93845958e-01, -1.63101658e-01,  1.16195194e-01,\n",
       "          6.86615780e-02, -9.21455696e-02, -2.08659217e-01,\n",
       "          1.87159359e-01,  1.77498713e-01,  1.19750403e-01,\n",
       "         -1.18255630e-01, -2.87364274e-01, -1.01777755e-01,\n",
       "         -5.88057470e-03, -8.82363841e-02,  1.46089554e-01,\n",
       "         -1.30639553e-01, -4.43405434e-02, -1.83514655e-01,\n",
       "         -6.20291792e-02,  1.72760010e-01, -4.90146428e-02,\n",
       "         -5.79316281e-02, -2.28253394e-01, -1.29354773e-02,\n",
       "         -1.11255765e-01, -1.30922765e-01, -4.97723557e-02,\n",
       "         -4.64594737e-02],\n",
       "        [-2.11424511e-02, -4.05300073e-02, -2.16159657e-01,\n",
       "         -1.84094667e-01,  2.70072341e-01,  1.94809377e-01,\n",
       "         -5.64016663e-02,  9.37470645e-02,  1.12105623e-01,\n",
       "          3.62428091e-02,  8.92647132e-02,  1.02677472e-01,\n",
       "         -8.34249258e-02,  8.29413012e-02,  2.21501648e-01,\n",
       "          7.08905831e-02, -3.40157568e-01, -5.51414564e-02,\n",
       "          1.48034049e-02, -4.23188269e-01,  1.28477007e-01,\n",
       "         -5.84697649e-02, -2.48294137e-02,  7.60749876e-02,\n",
       "         -3.25831354e-01,  2.07970645e-02,  1.00139901e-01,\n",
       "          1.22479811e-01, -6.08518533e-02, -1.33852229e-01,\n",
       "          1.94467366e-01, -1.95183113e-01, -1.52669385e-01,\n",
       "         -6.77233860e-02, -1.02492772e-01,  4.44374830e-02,\n",
       "          1.85141191e-02,  1.83761835e-01, -6.81952238e-02,\n",
       "         -2.47859553e-01],\n",
       "        [-5.36852423e-03, -2.07496047e-01,  4.65238877e-02,\n",
       "         -3.39671701e-01, -4.11730818e-03,  4.36411425e-02,\n",
       "          3.27695340e-01,  4.41536494e-02, -7.27400333e-02,\n",
       "          3.30975913e-02,  9.44488570e-02,  6.30671857e-03,\n",
       "          4.34564054e-02, -1.47062674e-01, -2.99238358e-02,\n",
       "          1.17412709e-01,  1.04448438e-01,  2.69174337e-01,\n",
       "         -1.76224723e-01,  1.30962744e-01,  1.87335849e-01,\n",
       "          1.32928699e-01,  5.15206084e-02,  6.40150392e-03,\n",
       "          6.81471974e-02,  8.15159753e-02, -8.32753032e-02,\n",
       "          6.05407953e-02,  4.86705676e-02,  5.20875715e-02,\n",
       "          9.77614522e-02,  5.82625568e-02, -1.05580829e-01,\n",
       "         -3.03697109e-01, -5.30291855e-01,  1.49051413e-01,\n",
       "         -7.02160373e-02, -5.21958992e-02, -1.56958029e-01,\n",
       "          9.23424140e-02],\n",
       "        [ 3.59032720e-01,  1.57452207e-02, -8.43052194e-02,\n",
       "         -1.76756129e-01,  9.23565254e-02, -4.84771803e-02,\n",
       "         -4.08484340e-02, -1.45462528e-01,  2.10222304e-01,\n",
       "          3.31658721e-01,  1.86331253e-02, -2.13627264e-01,\n",
       "          1.85837403e-01,  1.27390310e-01, -2.76073128e-01,\n",
       "          2.37161934e-01,  7.42856879e-03,  7.65584037e-02,\n",
       "         -1.54432416e-01, -7.51877204e-02, -2.23240584e-01,\n",
       "          4.63458672e-02,  5.90733401e-02,  8.93816538e-03,\n",
       "         -1.17932864e-01,  8.37855339e-02,  2.11341828e-01,\n",
       "         -5.35693392e-02,  1.69456169e-01,  1.56495832e-02,\n",
       "         -1.75576732e-01, -2.18813822e-01,  1.50300458e-01,\n",
       "          6.40804917e-02,  6.11991100e-02,  9.56127644e-02,\n",
       "         -1.80980936e-01, -2.38338351e-01, -1.27171904e-01,\n",
       "         -5.45015335e-02]], dtype=float32),\n",
       " array([0., 0., 0., 0., 0., 0., 0., 0., 0., 0., 1., 1., 1., 1., 1., 1., 1.,\n",
       "        1., 1., 1., 0., 0., 0., 0., 0., 0., 0., 0., 0., 0., 0., 0., 0., 0.,\n",
       "        0., 0., 0., 0., 0., 0.], dtype=float32),\n",
       " array([[-0.00169774, -0.00342141, -0.00200949,  0.00034087, -0.00538896],\n",
       "        [-0.00248573,  0.004283  , -0.00262107, -0.00474998,  0.00472587],\n",
       "        [-0.00257127,  0.00067421,  0.00263785, -0.00313729, -0.00508883],\n",
       "        ...,\n",
       "        [-0.00256856,  0.00079232, -0.00173252, -0.00433012,  0.00238604],\n",
       "        [ 0.00102   ,  0.00414266, -0.00342974, -0.00083071,  0.00445399],\n",
       "        [ 0.00029129,  0.00319082,  0.00255776,  0.00246844, -0.00481107]],\n",
       "       dtype=float32),\n",
       " array([0., 0., 0., 0., 0.], dtype=float32)]"
      ]
     },
     "execution_count": 99,
     "metadata": {},
     "output_type": "execute_result"
    }
   ],
   "source": [
    "wights = model.get_weights()\n",
    "wights"
   ]
  },
  {
   "cell_type": "code",
   "execution_count": 100,
   "metadata": {
    "scrolled": true
   },
   "outputs": [
    {
     "name": "stdout",
     "output_type": "stream",
     "text": [
      "Epoch 1/200\n",
      "3/3 - 42s - loss: 2.5683 - sparse_categorical_accuracy: 0.5342\n",
      "Epoch 2/200\n",
      "3/3 - 37s - loss: 0.3944 - sparse_categorical_accuracy: 0.8699\n",
      "Epoch 3/200\n",
      "3/3 - 35s - loss: 0.1230 - sparse_categorical_accuracy: 0.9795\n",
      "Epoch 4/200\n",
      "3/3 - 41s - loss: 0.0818 - sparse_categorical_accuracy: 0.9932\n",
      "Epoch 5/200\n",
      "3/3 - 36s - loss: 0.0655 - sparse_categorical_accuracy: 0.9932\n",
      "Epoch 6/200\n",
      "3/3 - 35s - loss: 0.0527 - sparse_categorical_accuracy: 0.9932\n",
      "Epoch 7/200\n",
      "3/3 - 34s - loss: 0.0459 - sparse_categorical_accuracy: 0.9932\n",
      "Epoch 8/200\n",
      "3/3 - 34s - loss: 0.0391 - sparse_categorical_accuracy: 0.9932\n",
      "Epoch 9/200\n",
      "3/3 - 24s - loss: 0.0353 - sparse_categorical_accuracy: 0.9932\n",
      "Epoch 10/200\n",
      "3/3 - 23s - loss: 0.0306 - sparse_categorical_accuracy: 0.9932\n",
      "Epoch 11/200\n",
      "3/3 - 24s - loss: 0.0280 - sparse_categorical_accuracy: 0.9932\n",
      "Epoch 12/200\n",
      "3/3 - 25s - loss: 0.0253 - sparse_categorical_accuracy: 0.9932\n",
      "Epoch 13/200\n",
      "3/3 - 23s - loss: 0.0221 - sparse_categorical_accuracy: 0.9932\n",
      "Epoch 14/200\n",
      "3/3 - 23s - loss: 0.0194 - sparse_categorical_accuracy: 0.9932\n",
      "Epoch 15/200\n",
      "3/3 - 25s - loss: 0.0180 - sparse_categorical_accuracy: 0.9932\n",
      "Epoch 16/200\n",
      "3/3 - 28s - loss: 0.0171 - sparse_categorical_accuracy: 0.9932\n",
      "Epoch 17/200\n",
      "3/3 - 25s - loss: 0.0160 - sparse_categorical_accuracy: 0.9932\n",
      "Epoch 18/200\n",
      "3/3 - 24s - loss: 0.0147 - sparse_categorical_accuracy: 0.9932\n",
      "Epoch 19/200\n",
      "3/3 - 24s - loss: 0.0139 - sparse_categorical_accuracy: 0.9932\n",
      "Epoch 20/200\n",
      "3/3 - 24s - loss: 0.0130 - sparse_categorical_accuracy: 0.9932\n",
      "Epoch 21/200\n",
      "3/3 - 23s - loss: 0.0112 - sparse_categorical_accuracy: 0.9932\n",
      "Epoch 22/200\n",
      "3/3 - 24s - loss: 0.0094 - sparse_categorical_accuracy: 1.0000\n",
      "Epoch 23/200\n",
      "3/3 - 23s - loss: 0.0076 - sparse_categorical_accuracy: 1.0000\n",
      "Epoch 24/200\n",
      "3/3 - 24s - loss: 0.0064 - sparse_categorical_accuracy: 1.0000\n",
      "Epoch 25/200\n",
      "3/3 - 25s - loss: 0.0057 - sparse_categorical_accuracy: 1.0000\n",
      "Epoch 26/200\n",
      "3/3 - 26s - loss: 0.0051 - sparse_categorical_accuracy: 1.0000\n",
      "Epoch 27/200\n",
      "3/3 - 26s - loss: 0.0037 - sparse_categorical_accuracy: 1.0000\n",
      "Epoch 28/200\n",
      "3/3 - 29s - loss: nan - sparse_categorical_accuracy: 0.9452\n",
      "Epoch 29/200\n",
      "3/3 - 70s - loss: nan - sparse_categorical_accuracy: 0.6027\n",
      "Epoch 30/200\n",
      "3/3 - 46s - loss: nan - sparse_categorical_accuracy: 0.6027\n",
      "Epoch 31/200\n",
      "3/3 - 48s - loss: nan - sparse_categorical_accuracy: 0.6027\n",
      "Epoch 00031: early stopping\n"
     ]
    }
   ],
   "source": [
    "mod = model.fit(X_train,\n",
    "               Y_train, epochs=200, batch_size= 64, verbose=2 , \n",
    "                callbacks=[callback, print_weights, model_check])"
   ]
  },
  {
   "cell_type": "code",
   "execution_count": 102,
   "metadata": {},
   "outputs": [],
   "source": [
    "# 7\n",
    "model.set_weights(wie_by_epoch[25])"
   ]
  },
  {
   "cell_type": "code",
   "execution_count": 103,
   "metadata": {},
   "outputs": [
    {
     "name": "stdout",
     "output_type": "stream",
     "text": [
      "2/2 - 2s - loss: 0.0713 - sparse_categorical_accuracy: 0.9730\n"
     ]
    },
    {
     "data": {
      "text/plain": [
       "[0.07126066833734512, 0.9729729890823364]"
      ]
     },
     "execution_count": 103,
     "metadata": {},
     "output_type": "execute_result"
    }
   ],
   "source": [
    "scores = model.evaluate(X_test,Y_test, verbose=2)\n",
    "scores"
   ]
  },
  {
   "cell_type": "code",
   "execution_count": 104,
   "metadata": {},
   "outputs": [
    {
     "data": {
      "text/plain": [
       "31"
      ]
     },
     "execution_count": 104,
     "metadata": {},
     "output_type": "execute_result"
    }
   ],
   "source": [
    "# Number of Epochs\n",
    "len(wie_by_epoch)"
   ]
  },
  {
   "cell_type": "code",
   "execution_count": null,
   "metadata": {},
   "outputs": [],
   "source": []
  },
  {
   "cell_type": "code",
   "execution_count": 105,
   "metadata": {},
   "outputs": [
    {
     "data": {
      "text/plain": [
       "{'loss': 0.07126066833734512,\n",
       " 'sparse_categorical_accuracy': 0.9729729890823364}"
      ]
     },
     "execution_count": 105,
     "metadata": {},
     "output_type": "execute_result"
    }
   ],
   "source": [
    "dict(zip(model.metrics_names, scores))"
   ]
  },
  {
   "cell_type": "code",
   "execution_count": 106,
   "metadata": {},
   "outputs": [
    {
     "data": {
      "image/png": "[encoded data removed]",
      "text/plain": [
       "<Figure size 432x288 with 2 Axes>"
      ]
     },
     "metadata": {
      "needs_background": "light"
     },
     "output_type": "display_data"
    }
   ],
   "source": [
    "from matplotlib import pyplot\n",
    "# plot loss during training\n",
    "pyplot.subplot(211)\n",
    "pyplot.title('Loss')\n",
    "pyplot.plot(mod.history['loss'], label='train')\n",
    "#pyplot.plot(mod.history['val_loss'], label='test')\n",
    "pyplot.legend()\n",
    "# plot accuracy during training\n",
    "pyplot.subplot(212)\n",
    "pyplot.title('Accuracy')\n",
    "pyplot.plot(mod.history['sparse_categorical_accuracy'], label='train')\n",
    "#pyplot.plot(mod.history['val_accuracy'], label='test')\n",
    "pyplot.legend()\n",
    "pyplot.show()"
   ]
  },
  {
   "cell_type": "code",
   "execution_count": 107,
   "metadata": {},
   "outputs": [],
   "source": [
    "# predict probabilities for test set\n",
    "yhat_probs = model.predict(X_test.astype('float32'), verbose=0)\n",
    "# predict crisp classes for test set\n",
    "#yhat_classes = model.predict_classes(X_test, verbose=0)\n",
    "yhat_classes = np.argmax(yhat_probs,axis=1)"
   ]
  },
  {
   "cell_type": "code",
   "execution_count": 108,
   "metadata": {},
   "outputs": [],
   "source": [
    "from sklearn.datasets import make_circles\n",
    "from sklearn.metrics import accuracy_score\n",
    "from sklearn.metrics import precision_score\n",
    "from sklearn.metrics import recall_score\n",
    "from sklearn.metrics import f1_score\n",
    "from sklearn.metrics import cohen_kappa_score\n",
    "from sklearn.metrics import roc_auc_score\n",
    "from sklearn.metrics import confusion_matrix\n",
    "from sklearn.metrics import roc_curve\n"
   ]
  },
  {
   "cell_type": "code",
   "execution_count": 109,
   "metadata": {},
   "outputs": [
    {
     "name": "stdout",
     "output_type": "stream",
     "text": [
      "Accuracy: 0.972973\n",
      "Precision: 0.958333\n",
      "Recall: 0.916667\n",
      "F1 score: 0.927273\n"
     ]
    }
   ],
   "source": [
    "# accuracy: (tp + tn) / (p + n)\n",
    "accuracy = accuracy_score(Y_test, yhat_classes)\n",
    "print('Accuracy: %f' % accuracy)\n",
    "# precision tp / (tp + fp)\n",
    "precision = precision_score(Y_test, yhat_classes, average='macro')\n",
    "print('Precision: %f' % precision)\n",
    "# recall: tp / (tp + fn)\n",
    "recall = recall_score(Y_test, yhat_classes,average='macro')\n",
    "print('Recall: %f' % recall)\n",
    "# f1: 2 tp / (2 tp + fp + fn)\n",
    "f1 = f1_score(Y_test, yhat_classes, average='macro')\n",
    "print('F1 score: %f' % f1)"
   ]
  },
  {
   "cell_type": "code",
   "execution_count": 110,
   "metadata": {},
   "outputs": [
    {
     "name": "stdout",
     "output_type": "stream",
     "text": [
      "Cohens kappa: 0.953750\n",
      "[[22  0  0  0]\n",
      " [ 0  5  0  0]\n",
      " [ 0  1  2  0]\n",
      " [ 0  0  0  7]]\n"
     ]
    }
   ],
   "source": [
    "# kappa\n",
    "kappa = cohen_kappa_score(Y_test, yhat_classes)\n",
    "print('Cohens kappa: %f' % kappa)\n",
    "# ROC AUC\n",
    "#fprate, tprate, thresholds = roc_curve(Y_test, yhat_probs, average = 'macro')\n",
    "#print('ROC AUC: %f' % thresholds)\n",
    "# confusion matrix\n",
    "matrix = confusion_matrix(Y_test, yhat_classes)\n",
    "print(matrix)"
   ]
  },
  {
   "cell_type": "code",
   "execution_count": 111,
   "metadata": {},
   "outputs": [
    {
     "name": "stderr",
     "output_type": "stream",
     "text": [
      "C:\\Users\\hp\\Anaconda3\\lib\\site-packages\\sklearn\\metrics\\ranking.py:659: UndefinedMetricWarning: No positive samples in y_true, true positive value should be meaningless\n",
      "  UndefinedMetricWarning)\n"
     ]
    }
   ],
   "source": [
    "fpr = {}\n",
    "tpr = {}\n",
    "thresh ={}\n",
    "\n",
    "n_class = 5\n",
    "\n",
    "for i in range(n_class):    \n",
    "    fpr[i], tpr[i], thresh[i] = roc_curve(Y_test, yhat_classes, pos_label=i)"
   ]
  },
  {
   "cell_type": "code",
   "execution_count": 112,
   "metadata": {},
   "outputs": [
    {
     "data": {
      "image/png": "[encoded data removed]",
      "text/plain": [
       "<Figure size 432x288 with 1 Axes>"
      ]
     },
     "metadata": {
      "needs_background": "light"
     },
     "output_type": "display_data"
    }
   ],
   "source": [
    "# plotting    \n",
    "plt.plot(fpr[0], tpr[0], linestyle='--',color='orange', label='Class 0 vs Rest')\n",
    "plt.plot(fpr[1], tpr[1], linestyle='--',color='green', label='Class 1 vs Rest')\n",
    "plt.plot(fpr[2], tpr[2], linestyle='--',color='blue', label='Class 2 vs Rest')\n",
    "plt.plot(fpr[3], tpr[3], linestyle='--',color='red', label='Class 3 vs Rest')\n",
    "plt.plot(fpr[4], tpr[4], linestyle='--',color='black', label='Class 4 vs Rest')\n",
    "plt.title('Multiclass ROC curve')\n",
    "plt.xlabel('False Positive Rate')\n",
    "plt.ylabel('True Positive rate')\n",
    "plt.legend(loc='best')\n",
    "plt.savefig('Multiclass ROC',dpi=300); "
   ]
  },
  {
   "cell_type": "code",
   "execution_count": 113,
   "metadata": {},
   "outputs": [
    {
     "name": "stdout",
     "output_type": "stream",
     "text": [
      "Confusion matrix : \n",
      " [[22  0  0  0]\n",
      " [ 0  5  0  0]\n",
      " [ 0  1  2  0]\n",
      " [ 0  0  0  7]]\n"
     ]
    }
   ],
   "source": [
    "from sklearn.metrics import confusion_matrix\n",
    "from sklearn.metrics import classification_report\n",
    "matrix = confusion_matrix(Y_test, yhat_classes, labels= [0, 1, 3, 4])\n",
    "print('Confusion matrix : \\n',matrix)"
   ]
  },
  {
   "cell_type": "code",
   "execution_count": 114,
   "metadata": {},
   "outputs": [
    {
     "name": "stdout",
     "output_type": "stream",
     "text": [
      "Classification report : \n",
      "               precision    recall  f1-score   support\n",
      "\n",
      "           0       1.00      1.00      1.00        22\n",
      "           1       0.83      1.00      0.91         5\n",
      "           3       1.00      0.67      0.80         3\n",
      "           4       1.00      1.00      1.00         7\n",
      "\n",
      "    accuracy                           0.97        37\n",
      "   macro avg       0.96      0.92      0.93        37\n",
      "weighted avg       0.98      0.97      0.97        37\n",
      "\n"
     ]
    }
   ],
   "source": [
    "matrix = classification_report(Y_test,yhat_classes, labels= [0, 1, 3, 4])\n",
    "print('Classification report : \\n',matrix)"
   ]
  },
  {
   "cell_type": "code",
   "execution_count": 115,
   "metadata": {},
   "outputs": [
    {
     "name": "stdout",
     "output_type": "stream",
     "text": [
      "INFO:tensorflow:Assets written to: ./models/Without IP address/LSTM-Flatten\\assets\n"
     ]
    }
   ],
   "source": [
    "model.save('./models/Without IP address/LSTM-Flatten')"
   ]
  },
  {
   "cell_type": "code",
   "execution_count": 232,
   "metadata": {},
   "outputs": [
    {
     "data": {
      "text/plain": [
       "Text(0.5, 1.0, 'g4')"
      ]
     },
     "execution_count": 232,
     "metadata": {},
     "output_type": "execute_result"
    }
   ],
   "source": [
    "figure = plt.Figure(figsize= (15, 15))\n",
    "gs = figure.add_gridspec(16, 16)\n",
    "axe1 = figure.add_subplot(gs[0:4, :7])\n",
    "axe2 = figure.add_subplot(gs[0:4, 9:])\n",
    "axe3 = figure.add_subplot(gs[6: , :7])\n",
    "axe4 = figure.add_subplot(gs[6:, 9:])\n",
    "axe1.set_title('g1')\n",
    "axe2.set_title('g2')\n",
    "axe3.set_title('g3')\n",
    "axe4.set_title('g4')"
   ]
  }
 ],
 "metadata": {
  "kernelspec": {
   "display_name": "Python 3",
   "language": "python",
   "name": "python3"
  },
  "language_info": {
   "codemirror_mode": {
    "name": "ipython",
    "version": 3
   },
   "file_extension": ".py",
   "mimetype": "text/x-python",
   "name": "python",
   "nbconvert_exporter": "python",
   "pygments_lexer": "ipython3",
   "version": "3.7.4"
  }
 },
 "nbformat": 4,
 "nbformat_minor": 2
}
